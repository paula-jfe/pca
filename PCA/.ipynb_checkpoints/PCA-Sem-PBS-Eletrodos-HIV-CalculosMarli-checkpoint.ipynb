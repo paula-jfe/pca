{
 "cells": [
  {
   "cell_type": "code",
   "execution_count": 33,
   "id": "bd47be45",
   "metadata": {},
   "outputs": [
    {
     "name": "stdout",
     "output_type": "stream",
     "text": [
      "      Eletrodo    Freq(Hz)     Z'(a)     Z''(b)  antiHIVmicrog/ml  \\\n",
      "0          6.0  1000000.00      72.6      11.30             0.001   \n",
      "1          6.0   794000.00      72.8       7.04             0.001   \n",
      "2          6.0   631000.00      72.9       3.16             0.001   \n",
      "3          6.0   501000.00      73.1      -0.51             0.001   \n",
      "4          6.0   398000.00      73.4      -4.17             0.001   \n",
      "...        ...         ...       ...        ...               ...   \n",
      "1215       4.0        2.51   59700.0 -193000.00             1.000   \n",
      "1216       4.0        2.00   68900.0 -234000.00             1.000   \n",
      "1217       4.0        1.58   80500.0 -285000.00             1.000   \n",
      "1218       4.0        1.26   93500.0 -346000.00             1.000   \n",
      "1219       4.0        1.00  109000.0 -421000.00             1.000   \n",
      "\n",
      "      antiHCVmicrog/ml  FreqüênciaAngular  CapacitânciaSérie  \\\n",
      "0                 0.01       6.283200e+06      -1.408822e-08   \n",
      "1                 0.01       4.990923e+06      -2.847653e-08   \n",
      "2                 0.01       3.964431e+06      -7.993757e-08   \n",
      "3                 0.01       3.149059e+06       6.227304e-07   \n",
      "4                 0.01       2.501387e+06       9.585168e-08   \n",
      "...                ...                ...                ...   \n",
      "1215              0.00       1.578271e+01       3.277154e-07   \n",
      "1216              0.00       1.253662e+01       3.405180e-07   \n",
      "1217              0.00       9.958181e+00       3.529327e-07   \n",
      "1218              0.00       7.910109e+00       3.651978e-07   \n",
      "1219              0.00       6.283200e+00       3.778240e-07   \n",
      "\n",
      "      col(tau)=col(w)*col(B)*col(Cs)  CapacitânciaParalelo  \\\n",
      "0                          -6.430822         -3.326185e-10   \n",
      "1                         -10.340387         -2.638582e-10   \n",
      "2                         -23.104421         -1.494679e-10   \n",
      "3                         143.358042          3.029945e-11   \n",
      "4                          17.593747          3.086614e-10   \n",
      "...                              ...                   ...   \n",
      "1215                        0.308679          2.992062e-07   \n",
      "1216                        0.294327          3.133712e-07   \n",
      "1217                        0.282951          3.267710e-07   \n",
      "1218                        0.269995          3.403847e-07   \n",
      "1219                        0.259092          3.540566e-07   \n",
      "\n",
      "      ResistênciaParalelo  lossParalelo  \n",
      "0           -5.994364e+07 -1.668234e-08  \n",
      "1           -3.172057e+07 -3.152529e-08  \n",
      "2           -1.196832e+07 -8.355394e-08  \n",
      "3            1.617033e+06  6.184166e-07  \n",
      "4            1.102577e+07  9.069663e-08  \n",
      "...                   ...           ...  \n",
      "1215         1.293687e+07  7.729844e-08  \n",
      "1216         1.291440e+07  7.743292e-08  \n",
      "1217         1.284716e+07  7.783822e-08  \n",
      "1218         1.288009e+07  7.763923e-08  \n",
      "1219         1.286215e+07  7.774748e-08  \n",
      "\n",
      "[1220 rows x 12 columns]\n"
     ]
    },
    {
     "data": {
      "text/html": [
       "<div>\n",
       "<style scoped>\n",
       "    .dataframe tbody tr th:only-of-type {\n",
       "        vertical-align: middle;\n",
       "    }\n",
       "\n",
       "    .dataframe tbody tr th {\n",
       "        vertical-align: top;\n",
       "    }\n",
       "\n",
       "    .dataframe thead th {\n",
       "        text-align: right;\n",
       "    }\n",
       "</style>\n",
       "<table border=\"1\" class=\"dataframe\">\n",
       "  <thead>\n",
       "    <tr style=\"text-align: right;\">\n",
       "      <th></th>\n",
       "      <th>Eletrodo</th>\n",
       "      <th>Freq(Hz)</th>\n",
       "      <th>Z'(a)</th>\n",
       "      <th>Z''(b)</th>\n",
       "      <th>antiHIVmicrog/ml</th>\n",
       "      <th>antiHCVmicrog/ml</th>\n",
       "      <th>FreqüênciaAngular</th>\n",
       "      <th>CapacitânciaSérie</th>\n",
       "      <th>col(tau)=col(w)*col(B)*col(Cs)</th>\n",
       "      <th>CapacitânciaParalelo</th>\n",
       "      <th>ResistênciaParalelo</th>\n",
       "      <th>lossParalelo</th>\n",
       "    </tr>\n",
       "  </thead>\n",
       "  <tbody>\n",
       "    <tr>\n",
       "      <th>0</th>\n",
       "      <td>6.0</td>\n",
       "      <td>1000000.0</td>\n",
       "      <td>72.6</td>\n",
       "      <td>11.30</td>\n",
       "      <td>0.001</td>\n",
       "      <td>0.01</td>\n",
       "      <td>6.283200e+06</td>\n",
       "      <td>-1.408822e-08</td>\n",
       "      <td>-6.430822</td>\n",
       "      <td>-3.326185e-10</td>\n",
       "      <td>-5.994364e+07</td>\n",
       "      <td>-1.668234e-08</td>\n",
       "    </tr>\n",
       "    <tr>\n",
       "      <th>1</th>\n",
       "      <td>6.0</td>\n",
       "      <td>794000.0</td>\n",
       "      <td>72.8</td>\n",
       "      <td>7.04</td>\n",
       "      <td>0.001</td>\n",
       "      <td>0.01</td>\n",
       "      <td>4.990923e+06</td>\n",
       "      <td>-2.847653e-08</td>\n",
       "      <td>-10.340387</td>\n",
       "      <td>-2.638582e-10</td>\n",
       "      <td>-3.172057e+07</td>\n",
       "      <td>-3.152529e-08</td>\n",
       "    </tr>\n",
       "    <tr>\n",
       "      <th>2</th>\n",
       "      <td>6.0</td>\n",
       "      <td>631000.0</td>\n",
       "      <td>72.9</td>\n",
       "      <td>3.16</td>\n",
       "      <td>0.001</td>\n",
       "      <td>0.01</td>\n",
       "      <td>3.964431e+06</td>\n",
       "      <td>-7.993757e-08</td>\n",
       "      <td>-23.104421</td>\n",
       "      <td>-1.494679e-10</td>\n",
       "      <td>-1.196832e+07</td>\n",
       "      <td>-8.355394e-08</td>\n",
       "    </tr>\n",
       "    <tr>\n",
       "      <th>3</th>\n",
       "      <td>6.0</td>\n",
       "      <td>501000.0</td>\n",
       "      <td>73.1</td>\n",
       "      <td>-0.51</td>\n",
       "      <td>0.001</td>\n",
       "      <td>0.01</td>\n",
       "      <td>3.149059e+06</td>\n",
       "      <td>6.227304e-07</td>\n",
       "      <td>143.358042</td>\n",
       "      <td>3.029945e-11</td>\n",
       "      <td>1.617033e+06</td>\n",
       "      <td>6.184166e-07</td>\n",
       "    </tr>\n",
       "    <tr>\n",
       "      <th>4</th>\n",
       "      <td>6.0</td>\n",
       "      <td>398000.0</td>\n",
       "      <td>73.4</td>\n",
       "      <td>-4.17</td>\n",
       "      <td>0.001</td>\n",
       "      <td>0.01</td>\n",
       "      <td>2.501387e+06</td>\n",
       "      <td>9.585168e-08</td>\n",
       "      <td>17.593747</td>\n",
       "      <td>3.086614e-10</td>\n",
       "      <td>1.102577e+07</td>\n",
       "      <td>9.069663e-08</td>\n",
       "    </tr>\n",
       "  </tbody>\n",
       "</table>\n",
       "</div>"
      ],
      "text/plain": [
       "   Eletrodo   Freq(Hz)  Z'(a)  Z''(b)  antiHIVmicrog/ml  antiHCVmicrog/ml  \\\n",
       "0       6.0  1000000.0   72.6   11.30             0.001              0.01   \n",
       "1       6.0   794000.0   72.8    7.04             0.001              0.01   \n",
       "2       6.0   631000.0   72.9    3.16             0.001              0.01   \n",
       "3       6.0   501000.0   73.1   -0.51             0.001              0.01   \n",
       "4       6.0   398000.0   73.4   -4.17             0.001              0.01   \n",
       "\n",
       "   FreqüênciaAngular  CapacitânciaSérie  col(tau)=col(w)*col(B)*col(Cs)  \\\n",
       "0       6.283200e+06      -1.408822e-08                       -6.430822   \n",
       "1       4.990923e+06      -2.847653e-08                      -10.340387   \n",
       "2       3.964431e+06      -7.993757e-08                      -23.104421   \n",
       "3       3.149059e+06       6.227304e-07                      143.358042   \n",
       "4       2.501387e+06       9.585168e-08                       17.593747   \n",
       "\n",
       "   CapacitânciaParalelo  ResistênciaParalelo  lossParalelo  \n",
       "0         -3.326185e-10        -5.994364e+07 -1.668234e-08  \n",
       "1         -2.638582e-10        -3.172057e+07 -3.152529e-08  \n",
       "2         -1.494679e-10        -1.196832e+07 -8.355394e-08  \n",
       "3          3.029945e-11         1.617033e+06  6.184166e-07  \n",
       "4          3.086614e-10         1.102577e+07  9.069663e-08  "
      ]
     },
     "execution_count": 33,
     "metadata": {},
     "output_type": "execute_result"
    }
   ],
   "source": [
    "# 1. PCA dataset\n",
    "import pandas as pd\n",
    "\n",
    "df = pd.read_csv('../../mestrado/CalculosMarli/Eletrodo/allHIVData2.csv')\n",
    "print(df)\n",
    "\n",
    "# df['Sensor'] = df['Sensor'].astype('string')\n",
    "df.head()"
   ]
  },
  {
   "cell_type": "code",
   "execution_count": 34,
   "id": "b97d429c",
   "metadata": {},
   "outputs": [
    {
     "name": "stdout",
     "output_type": "stream",
     "text": [
      "Eletrodo                          float64\n",
      "Freq(Hz)                          float64\n",
      "Z'(a)                             float64\n",
      "Z''(b)                            float64\n",
      "antiHIVmicrog/ml                  float64\n",
      "antiHCVmicrog/ml                  float64\n",
      "FreqüênciaAngular                 float64\n",
      "CapacitânciaSérie                 float64\n",
      "col(tau)=col(w)*col(B)*col(Cs)    float64\n",
      "CapacitânciaParalelo              float64\n",
      "ResistênciaParalelo               float64\n",
      "lossParalelo                      float64\n",
      "dtype: object\n"
     ]
    }
   ],
   "source": [
    "print(df.dtypes)"
   ]
  },
  {
   "cell_type": "code",
   "execution_count": 35,
   "id": "2793002c",
   "metadata": {},
   "outputs": [
    {
     "data": {
      "text/plain": [
       "array([[ 1.00000000e+06,  7.26000000e+01,  1.13000000e+01, ...,\n",
       "        -3.32618515e-10, -5.99436380e+07, -1.66823375e-08],\n",
       "       [ 7.94000000e+05,  7.28000000e+01,  7.04000000e+00, ...,\n",
       "        -2.63858239e-10, -3.17205674e+07, -3.15252872e-08],\n",
       "       [ 6.31000000e+05,  7.29000000e+01,  3.16000000e+00, ...,\n",
       "        -1.49467917e-10, -1.19683172e+07, -8.35539351e-08],\n",
       "       ...,\n",
       "       [ 1.58000000e+00,  8.05000000e+04, -2.85000000e+05, ...,\n",
       "         3.26771050e-07,  1.28471594e+07,  7.78382187e-08],\n",
       "       [ 1.26000000e+00,  9.35000000e+04, -3.46000000e+05, ...,\n",
       "         3.40384723e-07,  1.28800872e+07,  7.76392259e-08],\n",
       "       [ 1.00000000e+00,  1.09000000e+05, -4.21000000e+05, ...,\n",
       "         3.54056591e-07,  1.28621532e+07,  7.77474802e-08]])"
      ]
     },
     "execution_count": 35,
     "metadata": {},
     "output_type": "execute_result"
    }
   ],
   "source": [
    "df_features = df.iloc[:,1:].copy()\n",
    "X = df_features.to_numpy()\n",
    "# X = df.values\n",
    "X"
   ]
  },
  {
   "cell_type": "code",
   "execution_count": 36,
   "id": "06f1eddb",
   "metadata": {},
   "outputs": [
    {
     "data": {
      "text/plain": [
       "array([6., 6., 6., ..., 4., 4., 4.])"
      ]
     },
     "execution_count": 36,
     "metadata": {},
     "output_type": "execute_result"
    }
   ],
   "source": [
    "Y = df.iloc[:, 0].to_numpy()\n",
    "Y"
   ]
  },
  {
   "cell_type": "code",
   "execution_count": 37,
   "id": "2662966b",
   "metadata": {},
   "outputs": [
    {
     "data": {
      "text/plain": [
       "(1220, 11)"
      ]
     },
     "execution_count": 37,
     "metadata": {},
     "output_type": "execute_result"
    }
   ],
   "source": [
    "X.shape"
   ]
  },
  {
   "cell_type": "code",
   "execution_count": 38,
   "id": "48e8bd23",
   "metadata": {},
   "outputs": [
    {
     "data": {
      "text/plain": [
       "(1220,)"
      ]
     },
     "execution_count": 38,
     "metadata": {},
     "output_type": "execute_result"
    }
   ],
   "source": [
    "Y.shape"
   ]
  },
  {
   "cell_type": "code",
   "execution_count": 39,
   "id": "e91754d2",
   "metadata": {},
   "outputs": [],
   "source": [
    "# 2. PCA analysis\n",
    "# 2.1 Load library\n",
    "\n",
    "from sklearn.preprocessing import scale # Data scaling\n",
    "from sklearn import decomposition # PCA\n",
    "import pandas as pd # pandas"
   ]
  },
  {
   "cell_type": "code",
   "execution_count": 40,
   "id": "ceb76bfe",
   "metadata": {},
   "outputs": [
    {
     "data": {
      "text/plain": [
       "array([[ 4.71762672, -0.36758838,  0.29776146, ..., -0.82699603,\n",
       "        -1.73710688, -0.62318674],\n",
       "       [ 3.66164406, -0.3675857 ,  0.29774615, ..., -0.82627893,\n",
       "        -1.38084303, -0.79004994],\n",
       "       [ 2.82608496, -0.36758436,  0.2977322 , ..., -0.82508596,\n",
       "        -1.13150755, -1.37495167],\n",
       "       ...,\n",
       "       [-0.4084946 ,  0.70946422, -0.72676567, ...,  2.58435096,\n",
       "        -0.81825825,  0.43940548],\n",
       "       [-0.40849624,  0.88355519, -0.94604173, ...,  2.72632724,\n",
       "        -0.81784259,  0.43716842],\n",
       "       [-0.40849758,  1.09112519, -1.21564345, ...,  2.86891043,\n",
       "        -0.81806898,  0.4383854 ]])"
      ]
     },
     "execution_count": 40,
     "metadata": {},
     "output_type": "execute_result"
    }
   ],
   "source": [
    "# 2.2 Data scaling\n",
    "x = scale(X)\n",
    "\n",
    "# Standardize the Data\n",
    "# PCA is effected by scale so you need to scale the features in your data before applying PCA. Use StandardScaler to help you standardize the dataset’s features onto unit scale (mean = 0 and variance = 1) which is a requirement for the optimal performance of many machine learning algorithms.\n",
    "x"
   ]
  },
  {
   "cell_type": "code",
   "execution_count": 41,
   "id": "6f304c80",
   "metadata": {},
   "outputs": [
    {
     "data": {
      "text/plain": [
       "PCA(n_components=3)"
      ]
     },
     "execution_count": 41,
     "metadata": {},
     "output_type": "execute_result"
    }
   ],
   "source": [
    "# 2.3 Perform PCA analysis\n",
    "pca = decomposition.PCA(n_components=3)\n",
    "pca.fit(x) # when build the model we use pca.fit function. Where by the argument will be the input data, which essencially is the x variable\n",
    "# we are using the x variable because pca is an unsupervised learning approach, meaning that it does not need the y variable or the class label in order to learn\n",
    "# it`ll goind to cluster the data based on similarity and differences, based on the eigenvalue that are inherently present in the data set"
   ]
  },
  {
   "cell_type": "code",
   "execution_count": 42,
   "id": "8f682d81",
   "metadata": {},
   "outputs": [],
   "source": [
    "# 2.4 compure the scores value\n",
    "# scores value will essentially be represented by the data samples so we`re gonna use the pca.transform function\n",
    "scores = pca.transform(x)"
   ]
  },
  {
   "cell_type": "code",
   "execution_count": 43,
   "id": "32ea2324",
   "metadata": {},
   "outputs": [
    {
     "data": {
      "text/plain": [
       "array([[-3.80868786,  5.77525686,  1.11543251],\n",
       "       [-3.3440272 ,  4.38510105,  0.76468598],\n",
       "       [-3.32497102,  3.15029434,  0.44138074],\n",
       "       ...,\n",
       "       [ 2.73341534,  0.29623898,  0.1775245 ],\n",
       "       [ 2.93182543,  0.31173257,  0.34596253],\n",
       "       [ 3.15434621,  0.32543876,  0.56000581]])"
      ]
     },
     "execution_count": 43,
     "metadata": {},
     "output_type": "execute_result"
    }
   ],
   "source": [
    "scores"
   ]
  },
  {
   "cell_type": "code",
   "execution_count": 44,
   "id": "0dc9ebaf",
   "metadata": {},
   "outputs": [
    {
     "data": {
      "text/html": [
       "<div>\n",
       "<style scoped>\n",
       "    .dataframe tbody tr th:only-of-type {\n",
       "        vertical-align: middle;\n",
       "    }\n",
       "\n",
       "    .dataframe tbody tr th {\n",
       "        vertical-align: top;\n",
       "    }\n",
       "\n",
       "    .dataframe thead th {\n",
       "        text-align: right;\n",
       "    }\n",
       "</style>\n",
       "<table border=\"1\" class=\"dataframe\">\n",
       "  <thead>\n",
       "    <tr style=\"text-align: right;\">\n",
       "      <th></th>\n",
       "      <th>PC1</th>\n",
       "      <th>PC2</th>\n",
       "      <th>PC3</th>\n",
       "    </tr>\n",
       "  </thead>\n",
       "  <tbody>\n",
       "    <tr>\n",
       "      <th>0</th>\n",
       "      <td>-3.808688</td>\n",
       "      <td>5.775257</td>\n",
       "      <td>1.115433</td>\n",
       "    </tr>\n",
       "    <tr>\n",
       "      <th>1</th>\n",
       "      <td>-3.344027</td>\n",
       "      <td>4.385101</td>\n",
       "      <td>0.764686</td>\n",
       "    </tr>\n",
       "    <tr>\n",
       "      <th>2</th>\n",
       "      <td>-3.324971</td>\n",
       "      <td>3.150294</td>\n",
       "      <td>0.441381</td>\n",
       "    </tr>\n",
       "    <tr>\n",
       "      <th>3</th>\n",
       "      <td>3.277761</td>\n",
       "      <td>4.920663</td>\n",
       "      <td>0.872269</td>\n",
       "    </tr>\n",
       "    <tr>\n",
       "      <th>4</th>\n",
       "      <td>-1.081595</td>\n",
       "      <td>2.335556</td>\n",
       "      <td>0.196337</td>\n",
       "    </tr>\n",
       "    <tr>\n",
       "      <th>...</th>\n",
       "      <td>...</td>\n",
       "      <td>...</td>\n",
       "      <td>...</td>\n",
       "    </tr>\n",
       "    <tr>\n",
       "      <th>1215</th>\n",
       "      <td>2.372263</td>\n",
       "      <td>0.253179</td>\n",
       "      <td>-0.062499</td>\n",
       "    </tr>\n",
       "    <tr>\n",
       "      <th>1216</th>\n",
       "      <td>2.545307</td>\n",
       "      <td>0.275710</td>\n",
       "      <td>0.037677</td>\n",
       "    </tr>\n",
       "    <tr>\n",
       "      <th>1217</th>\n",
       "      <td>2.733415</td>\n",
       "      <td>0.296239</td>\n",
       "      <td>0.177525</td>\n",
       "    </tr>\n",
       "    <tr>\n",
       "      <th>1218</th>\n",
       "      <td>2.931825</td>\n",
       "      <td>0.311733</td>\n",
       "      <td>0.345963</td>\n",
       "    </tr>\n",
       "    <tr>\n",
       "      <th>1219</th>\n",
       "      <td>3.154346</td>\n",
       "      <td>0.325439</td>\n",
       "      <td>0.560006</td>\n",
       "    </tr>\n",
       "  </tbody>\n",
       "</table>\n",
       "<p>1220 rows × 3 columns</p>\n",
       "</div>"
      ],
      "text/plain": [
       "           PC1       PC2       PC3\n",
       "0    -3.808688  5.775257  1.115433\n",
       "1    -3.344027  4.385101  0.764686\n",
       "2    -3.324971  3.150294  0.441381\n",
       "3     3.277761  4.920663  0.872269\n",
       "4    -1.081595  2.335556  0.196337\n",
       "...        ...       ...       ...\n",
       "1215  2.372263  0.253179 -0.062499\n",
       "1216  2.545307  0.275710  0.037677\n",
       "1217  2.733415  0.296239  0.177525\n",
       "1218  2.931825  0.311733  0.345963\n",
       "1219  3.154346  0.325439  0.560006\n",
       "\n",
       "[1220 rows x 3 columns]"
      ]
     },
     "execution_count": 44,
     "metadata": {},
     "output_type": "execute_result"
    }
   ],
   "source": [
    "scores_df = pd.DataFrame(scores, columns=['PC1', 'PC2', 'PC3']) # dataframe is to make more readable\n",
    "scores_df"
   ]
  },
  {
   "cell_type": "code",
   "execution_count": 45,
   "id": "97c3d65b",
   "metadata": {},
   "outputs": [],
   "source": [
    "y_label = []\n",
    "\n",
    "for i in Y:\n",
    "    if i == 1:\n",
    "        y_label.append('Eletrodo 1')\n",
    "    elif i == 2:\n",
    "        y_label.append('Eletrodo 2')\n",
    "    elif i == 3:\n",
    "        y_label.append('Eletrodo 3')\n",
    "    elif i == 4:\n",
    "        y_label.append('Eletrodo 4')\n",
    "    elif i == 5:\n",
    "        y_label.append('Lignina')\n",
    "    else:\n",
    "        y_label.append('AntiHCV Eletrodo 1')\n",
    "\n",
    "sensors = pd.DataFrame(y_label, columns=['Sensor'])"
   ]
  },
  {
   "cell_type": "code",
   "execution_count": 46,
   "id": "5bff75c1",
   "metadata": {},
   "outputs": [
    {
     "data": {
      "text/html": [
       "<div>\n",
       "<style scoped>\n",
       "    .dataframe tbody tr th:only-of-type {\n",
       "        vertical-align: middle;\n",
       "    }\n",
       "\n",
       "    .dataframe tbody tr th {\n",
       "        vertical-align: top;\n",
       "    }\n",
       "\n",
       "    .dataframe thead th {\n",
       "        text-align: right;\n",
       "    }\n",
       "</style>\n",
       "<table border=\"1\" class=\"dataframe\">\n",
       "  <thead>\n",
       "    <tr style=\"text-align: right;\">\n",
       "      <th></th>\n",
       "      <th>PC1</th>\n",
       "      <th>PC2</th>\n",
       "      <th>PC3</th>\n",
       "      <th>Sensor</th>\n",
       "    </tr>\n",
       "  </thead>\n",
       "  <tbody>\n",
       "    <tr>\n",
       "      <th>0</th>\n",
       "      <td>-3.808688</td>\n",
       "      <td>5.775257</td>\n",
       "      <td>1.115433</td>\n",
       "      <td>AntiHCV Eletrodo 1</td>\n",
       "    </tr>\n",
       "    <tr>\n",
       "      <th>1</th>\n",
       "      <td>-3.344027</td>\n",
       "      <td>4.385101</td>\n",
       "      <td>0.764686</td>\n",
       "      <td>AntiHCV Eletrodo 1</td>\n",
       "    </tr>\n",
       "    <tr>\n",
       "      <th>2</th>\n",
       "      <td>-3.324971</td>\n",
       "      <td>3.150294</td>\n",
       "      <td>0.441381</td>\n",
       "      <td>AntiHCV Eletrodo 1</td>\n",
       "    </tr>\n",
       "    <tr>\n",
       "      <th>3</th>\n",
       "      <td>3.277761</td>\n",
       "      <td>4.920663</td>\n",
       "      <td>0.872269</td>\n",
       "      <td>AntiHCV Eletrodo 1</td>\n",
       "    </tr>\n",
       "    <tr>\n",
       "      <th>4</th>\n",
       "      <td>-1.081595</td>\n",
       "      <td>2.335556</td>\n",
       "      <td>0.196337</td>\n",
       "      <td>AntiHCV Eletrodo 1</td>\n",
       "    </tr>\n",
       "    <tr>\n",
       "      <th>...</th>\n",
       "      <td>...</td>\n",
       "      <td>...</td>\n",
       "      <td>...</td>\n",
       "      <td>...</td>\n",
       "    </tr>\n",
       "    <tr>\n",
       "      <th>1215</th>\n",
       "      <td>2.372263</td>\n",
       "      <td>0.253179</td>\n",
       "      <td>-0.062499</td>\n",
       "      <td>Eletrodo 4</td>\n",
       "    </tr>\n",
       "    <tr>\n",
       "      <th>1216</th>\n",
       "      <td>2.545307</td>\n",
       "      <td>0.275710</td>\n",
       "      <td>0.037677</td>\n",
       "      <td>Eletrodo 4</td>\n",
       "    </tr>\n",
       "    <tr>\n",
       "      <th>1217</th>\n",
       "      <td>2.733415</td>\n",
       "      <td>0.296239</td>\n",
       "      <td>0.177525</td>\n",
       "      <td>Eletrodo 4</td>\n",
       "    </tr>\n",
       "    <tr>\n",
       "      <th>1218</th>\n",
       "      <td>2.931825</td>\n",
       "      <td>0.311733</td>\n",
       "      <td>0.345963</td>\n",
       "      <td>Eletrodo 4</td>\n",
       "    </tr>\n",
       "    <tr>\n",
       "      <th>1219</th>\n",
       "      <td>3.154346</td>\n",
       "      <td>0.325439</td>\n",
       "      <td>0.560006</td>\n",
       "      <td>Eletrodo 4</td>\n",
       "    </tr>\n",
       "  </tbody>\n",
       "</table>\n",
       "<p>1220 rows × 4 columns</p>\n",
       "</div>"
      ],
      "text/plain": [
       "           PC1       PC2       PC3              Sensor\n",
       "0    -3.808688  5.775257  1.115433  AntiHCV Eletrodo 1\n",
       "1    -3.344027  4.385101  0.764686  AntiHCV Eletrodo 1\n",
       "2    -3.324971  3.150294  0.441381  AntiHCV Eletrodo 1\n",
       "3     3.277761  4.920663  0.872269  AntiHCV Eletrodo 1\n",
       "4    -1.081595  2.335556  0.196337  AntiHCV Eletrodo 1\n",
       "...        ...       ...       ...                 ...\n",
       "1215  2.372263  0.253179 -0.062499          Eletrodo 4\n",
       "1216  2.545307  0.275710  0.037677          Eletrodo 4\n",
       "1217  2.733415  0.296239  0.177525          Eletrodo 4\n",
       "1218  2.931825  0.311733  0.345963          Eletrodo 4\n",
       "1219  3.154346  0.325439  0.560006          Eletrodo 4\n",
       "\n",
       "[1220 rows x 4 columns]"
      ]
     },
     "execution_count": 46,
     "metadata": {},
     "output_type": "execute_result"
    }
   ],
   "source": [
    "df_scores = pd.concat([scores_df, sensors], axis=1) # combine dataframes with concat\n",
    "df_scores"
   ]
  },
  {
   "cell_type": "code",
   "execution_count": 47,
   "id": "a8aab444",
   "metadata": {},
   "outputs": [
    {
     "data": {
      "text/plain": [
       "Index(['Freq(Hz)', 'Z'(a)', 'Z''(b)', 'antiHIVmicrog/ml', 'antiHCVmicrog/ml',\n",
       "       'FreqüênciaAngular', 'CapacitânciaSérie',\n",
       "       'col(tau)=col(w)*col(B)*col(Cs)', 'CapacitânciaParalelo',\n",
       "       'ResistênciaParalelo', 'lossParalelo'],\n",
       "      dtype='object')"
      ]
     },
     "execution_count": 47,
     "metadata": {},
     "output_type": "execute_result"
    }
   ],
   "source": [
    "feature_names = df.columns[1:]\n",
    "feature_names"
   ]
  },
  {
   "cell_type": "code",
   "execution_count": 48,
   "id": "c5e3358b",
   "metadata": {},
   "outputs": [
    {
     "data": {
      "text/html": [
       "<div>\n",
       "<style scoped>\n",
       "    .dataframe tbody tr th:only-of-type {\n",
       "        vertical-align: middle;\n",
       "    }\n",
       "\n",
       "    .dataframe tbody tr th {\n",
       "        vertical-align: top;\n",
       "    }\n",
       "\n",
       "    .dataframe thead th {\n",
       "        text-align: right;\n",
       "    }\n",
       "</style>\n",
       "<table border=\"1\" class=\"dataframe\">\n",
       "  <thead>\n",
       "    <tr style=\"text-align: right;\">\n",
       "      <th></th>\n",
       "      <th>PC1</th>\n",
       "      <th>PC2</th>\n",
       "      <th>PC3</th>\n",
       "    </tr>\n",
       "  </thead>\n",
       "  <tbody>\n",
       "    <tr>\n",
       "      <th>Freq(Hz)</th>\n",
       "      <td>-0.314569</td>\n",
       "      <td>0.555685</td>\n",
       "      <td>0.197721</td>\n",
       "    </tr>\n",
       "    <tr>\n",
       "      <th>Z'(a)</th>\n",
       "      <td>0.372066</td>\n",
       "      <td>0.083312</td>\n",
       "      <td>0.534763</td>\n",
       "    </tr>\n",
       "    <tr>\n",
       "      <th>Z''(b)</th>\n",
       "      <td>-0.170149</td>\n",
       "      <td>0.123560</td>\n",
       "      <td>-0.550092</td>\n",
       "    </tr>\n",
       "    <tr>\n",
       "      <th>antiHIVmicrog/ml</th>\n",
       "      <td>-0.036210</td>\n",
       "      <td>-0.101225</td>\n",
       "      <td>0.211605</td>\n",
       "    </tr>\n",
       "    <tr>\n",
       "      <th>antiHCVmicrog/ml</th>\n",
       "      <td>0.101379</td>\n",
       "      <td>0.191042</td>\n",
       "      <td>-0.364995</td>\n",
       "    </tr>\n",
       "    <tr>\n",
       "      <th>FreqüênciaAngular</th>\n",
       "      <td>-0.314567</td>\n",
       "      <td>0.555684</td>\n",
       "      <td>0.197722</td>\n",
       "    </tr>\n",
       "    <tr>\n",
       "      <th>CapacitânciaSérie</th>\n",
       "      <td>0.508672</td>\n",
       "      <td>0.207228</td>\n",
       "      <td>-0.046048</td>\n",
       "    </tr>\n",
       "    <tr>\n",
       "      <th>col(tau)=col(w)*col(B)*col(Cs)</th>\n",
       "      <td>0.070541</td>\n",
       "      <td>-0.035670</td>\n",
       "      <td>-0.027976</td>\n",
       "    </tr>\n",
       "    <tr>\n",
       "      <th>CapacitânciaParalelo</th>\n",
       "      <td>0.380502</td>\n",
       "      <td>0.078200</td>\n",
       "      <td>-0.289952</td>\n",
       "    </tr>\n",
       "    <tr>\n",
       "      <th>ResistênciaParalelo</th>\n",
       "      <td>-0.192704</td>\n",
       "      <td>-0.460525</td>\n",
       "      <td>0.225419</td>\n",
       "    </tr>\n",
       "    <tr>\n",
       "      <th>lossParalelo</th>\n",
       "      <td>0.421286</td>\n",
       "      <td>0.225973</td>\n",
       "      <td>0.132113</td>\n",
       "    </tr>\n",
       "  </tbody>\n",
       "</table>\n",
       "</div>"
      ],
      "text/plain": [
       "                                     PC1       PC2       PC3\n",
       "Freq(Hz)                       -0.314569  0.555685  0.197721\n",
       "Z'(a)                           0.372066  0.083312  0.534763\n",
       "Z''(b)                         -0.170149  0.123560 -0.550092\n",
       "antiHIVmicrog/ml               -0.036210 -0.101225  0.211605\n",
       "antiHCVmicrog/ml                0.101379  0.191042 -0.364995\n",
       "FreqüênciaAngular              -0.314567  0.555684  0.197722\n",
       "CapacitânciaSérie               0.508672  0.207228 -0.046048\n",
       "col(tau)=col(w)*col(B)*col(Cs)  0.070541 -0.035670 -0.027976\n",
       "CapacitânciaParalelo            0.380502  0.078200 -0.289952\n",
       "ResistênciaParalelo            -0.192704 -0.460525  0.225419\n",
       "lossParalelo                    0.421286  0.225973  0.132113"
      ]
     },
     "execution_count": 48,
     "metadata": {},
     "output_type": "execute_result"
    }
   ],
   "source": [
    "# 2.5 retrieve the loading values (remember PCA scores and loadings)\n",
    "# loadings value tell about the descriptor and scores value tell about the data samples\n",
    "# 150 flowers 150 score values 4 descriptors 4 loading values (1 for each descriptor)\n",
    "loadings = pca.components_.T\n",
    "df_loadings = pd.DataFrame(loadings, columns=['PC1', 'PC2', 'PC3'], index=feature_names)\n",
    "df_loadings"
   ]
  },
  {
   "cell_type": "code",
   "execution_count": 49,
   "id": "48edfeda",
   "metadata": {},
   "outputs": [
    {
     "data": {
      "text/plain": [
       "array([0.29547283, 0.17396818, 0.13937302])"
      ]
     },
     "execution_count": 49,
     "metadata": {},
     "output_type": "execute_result"
    }
   ],
   "source": [
    "# 2.6 explained variance\n",
    "# what`s the contribuition to the percent variance of the entire model contributed by each of the principal components\n",
    "explained_variance = pca.explained_variance_ratio_\n",
    "explained_variance"
   ]
  },
  {
   "cell_type": "code",
   "execution_count": 50,
   "id": "2c54679d",
   "metadata": {},
   "outputs": [],
   "source": [
    "# 3. Scree plot\n",
    "import numpy as np\n",
    "import plotly.express as px"
   ]
  },
  {
   "cell_type": "code",
   "execution_count": 51,
   "id": "cdd99943",
   "metadata": {},
   "outputs": [
    {
     "data": {
      "text/plain": [
       "array([0.        , 0.29547283, 0.17396818, 0.13937302])"
      ]
     },
     "execution_count": 51,
     "metadata": {},
     "output_type": "execute_result"
    }
   ],
   "source": [
    "# 3.1 preparing the explained variance data\n",
    "# add origin value, x and y are going to have origin zero, the subsequent lines of code are going to create the scree plot\n",
    "# the scree plot does not start from zero, then we need to manually create the zero origin\n",
    "explained_variance = np.insert(explained_variance, 0, 0)\n",
    "explained_variance"
   ]
  },
  {
   "cell_type": "code",
   "execution_count": 52,
   "id": "d1642e8b",
   "metadata": {},
   "outputs": [],
   "source": [
    "# 3.2 Preparing cumulative variance data\n",
    "cumulative_variance = np.cumsum(np.round(explained_variance, decimals=3))"
   ]
  },
  {
   "cell_type": "code",
   "execution_count": 53,
   "id": "64e7c30a",
   "metadata": {},
   "outputs": [],
   "source": [
    "# 3.3 Combining dataframe\n",
    "pc_df = pd.DataFrame(['', 'PC1', 'PC2', 'PC3'], columns=['PC'])\n",
    "explained_variance_df = pd.DataFrame(explained_variance, columns=['Explained Variance'])\n",
    "cumulative_variance_df = pd.DataFrame(cumulative_variance, columns=['Cumulative Variance'])"
   ]
  },
  {
   "cell_type": "code",
   "execution_count": 54,
   "id": "b020843f",
   "metadata": {},
   "outputs": [
    {
     "data": {
      "text/html": [
       "<div>\n",
       "<style scoped>\n",
       "    .dataframe tbody tr th:only-of-type {\n",
       "        vertical-align: middle;\n",
       "    }\n",
       "\n",
       "    .dataframe tbody tr th {\n",
       "        vertical-align: top;\n",
       "    }\n",
       "\n",
       "    .dataframe thead th {\n",
       "        text-align: right;\n",
       "    }\n",
       "</style>\n",
       "<table border=\"1\" class=\"dataframe\">\n",
       "  <thead>\n",
       "    <tr style=\"text-align: right;\">\n",
       "      <th></th>\n",
       "      <th>PC</th>\n",
       "      <th>Explained Variance</th>\n",
       "      <th>Cumulative Variance</th>\n",
       "    </tr>\n",
       "  </thead>\n",
       "  <tbody>\n",
       "    <tr>\n",
       "      <th>0</th>\n",
       "      <td></td>\n",
       "      <td>0.000000</td>\n",
       "      <td>0.000</td>\n",
       "    </tr>\n",
       "    <tr>\n",
       "      <th>1</th>\n",
       "      <td>PC1</td>\n",
       "      <td>0.295473</td>\n",
       "      <td>0.295</td>\n",
       "    </tr>\n",
       "    <tr>\n",
       "      <th>2</th>\n",
       "      <td>PC2</td>\n",
       "      <td>0.173968</td>\n",
       "      <td>0.469</td>\n",
       "    </tr>\n",
       "    <tr>\n",
       "      <th>3</th>\n",
       "      <td>PC3</td>\n",
       "      <td>0.139373</td>\n",
       "      <td>0.608</td>\n",
       "    </tr>\n",
       "  </tbody>\n",
       "</table>\n",
       "</div>"
      ],
      "text/plain": [
       "    PC  Explained Variance  Cumulative Variance\n",
       "0                 0.000000                0.000\n",
       "1  PC1            0.295473                0.295\n",
       "2  PC2            0.173968                0.469\n",
       "3  PC3            0.139373                0.608"
      ]
     },
     "execution_count": 54,
     "metadata": {},
     "output_type": "execute_result"
    }
   ],
   "source": [
    "df_explained_variance = pd.concat([pc_df, explained_variance_df, cumulative_variance_df], axis=1)\n",
    "df_explained_variance"
   ]
  },
  {
   "cell_type": "code",
   "execution_count": 55,
   "id": "fd7ee87f",
   "metadata": {},
   "outputs": [],
   "source": [
    "# 3.4 Creating Scree Plot\n",
    "# https://plotly.com/python/bar-charts/\n",
    "\n",
    "fig = px.bar(df_explained_variance, x='PC', y='Explained Variance', text='Explained Variance', width=800)"
   ]
  },
  {
   "cell_type": "code",
   "execution_count": 56,
   "id": "28c95061",
   "metadata": {},
   "outputs": [
    {
     "data": {
      "application/vnd.plotly.v1+json": {
       "config": {
        "plotlyServerURL": "https://plot.ly"
       },
       "data": [
        {
         "alignmentgroup": "True",
         "hovertemplate": "PC=%{x}<br>Explained Variance=%{text}<extra></extra>",
         "legendgroup": "",
         "marker": {
          "color": "#636efa",
          "pattern": {
           "shape": ""
          }
         },
         "name": "",
         "offsetgroup": "",
         "orientation": "v",
         "showlegend": false,
         "text": [
          0,
          0.29547282505683947,
          0.17396817719274862,
          0.13937302058038994
         ],
         "textposition": "outside",
         "texttemplate": "%{text:.3f}",
         "type": "bar",
         "x": [
          "",
          "PC1",
          "PC2",
          "PC3"
         ],
         "xaxis": "x",
         "y": [
          0,
          0.29547282505683947,
          0.17396817719274862,
          0.13937302058038994
         ],
         "yaxis": "y"
        }
       ],
       "layout": {
        "barmode": "relative",
        "legend": {
         "tracegroupgap": 0
        },
        "margin": {
         "t": 60
        },
        "template": {
         "data": {
          "bar": [
           {
            "error_x": {
             "color": "#2a3f5f"
            },
            "error_y": {
             "color": "#2a3f5f"
            },
            "marker": {
             "line": {
              "color": "#E5ECF6",
              "width": 0.5
             },
             "pattern": {
              "fillmode": "overlay",
              "size": 10,
              "solidity": 0.2
             }
            },
            "type": "bar"
           }
          ],
          "barpolar": [
           {
            "marker": {
             "line": {
              "color": "#E5ECF6",
              "width": 0.5
             },
             "pattern": {
              "fillmode": "overlay",
              "size": 10,
              "solidity": 0.2
             }
            },
            "type": "barpolar"
           }
          ],
          "carpet": [
           {
            "aaxis": {
             "endlinecolor": "#2a3f5f",
             "gridcolor": "white",
             "linecolor": "white",
             "minorgridcolor": "white",
             "startlinecolor": "#2a3f5f"
            },
            "baxis": {
             "endlinecolor": "#2a3f5f",
             "gridcolor": "white",
             "linecolor": "white",
             "minorgridcolor": "white",
             "startlinecolor": "#2a3f5f"
            },
            "type": "carpet"
           }
          ],
          "choropleth": [
           {
            "colorbar": {
             "outlinewidth": 0,
             "ticks": ""
            },
            "type": "choropleth"
           }
          ],
          "contour": [
           {
            "colorbar": {
             "outlinewidth": 0,
             "ticks": ""
            },
            "colorscale": [
             [
              0,
              "#0d0887"
             ],
             [
              0.1111111111111111,
              "#46039f"
             ],
             [
              0.2222222222222222,
              "#7201a8"
             ],
             [
              0.3333333333333333,
              "#9c179e"
             ],
             [
              0.4444444444444444,
              "#bd3786"
             ],
             [
              0.5555555555555556,
              "#d8576b"
             ],
             [
              0.6666666666666666,
              "#ed7953"
             ],
             [
              0.7777777777777778,
              "#fb9f3a"
             ],
             [
              0.8888888888888888,
              "#fdca26"
             ],
             [
              1,
              "#f0f921"
             ]
            ],
            "type": "contour"
           }
          ],
          "contourcarpet": [
           {
            "colorbar": {
             "outlinewidth": 0,
             "ticks": ""
            },
            "type": "contourcarpet"
           }
          ],
          "heatmap": [
           {
            "colorbar": {
             "outlinewidth": 0,
             "ticks": ""
            },
            "colorscale": [
             [
              0,
              "#0d0887"
             ],
             [
              0.1111111111111111,
              "#46039f"
             ],
             [
              0.2222222222222222,
              "#7201a8"
             ],
             [
              0.3333333333333333,
              "#9c179e"
             ],
             [
              0.4444444444444444,
              "#bd3786"
             ],
             [
              0.5555555555555556,
              "#d8576b"
             ],
             [
              0.6666666666666666,
              "#ed7953"
             ],
             [
              0.7777777777777778,
              "#fb9f3a"
             ],
             [
              0.8888888888888888,
              "#fdca26"
             ],
             [
              1,
              "#f0f921"
             ]
            ],
            "type": "heatmap"
           }
          ],
          "heatmapgl": [
           {
            "colorbar": {
             "outlinewidth": 0,
             "ticks": ""
            },
            "colorscale": [
             [
              0,
              "#0d0887"
             ],
             [
              0.1111111111111111,
              "#46039f"
             ],
             [
              0.2222222222222222,
              "#7201a8"
             ],
             [
              0.3333333333333333,
              "#9c179e"
             ],
             [
              0.4444444444444444,
              "#bd3786"
             ],
             [
              0.5555555555555556,
              "#d8576b"
             ],
             [
              0.6666666666666666,
              "#ed7953"
             ],
             [
              0.7777777777777778,
              "#fb9f3a"
             ],
             [
              0.8888888888888888,
              "#fdca26"
             ],
             [
              1,
              "#f0f921"
             ]
            ],
            "type": "heatmapgl"
           }
          ],
          "histogram": [
           {
            "marker": {
             "pattern": {
              "fillmode": "overlay",
              "size": 10,
              "solidity": 0.2
             }
            },
            "type": "histogram"
           }
          ],
          "histogram2d": [
           {
            "colorbar": {
             "outlinewidth": 0,
             "ticks": ""
            },
            "colorscale": [
             [
              0,
              "#0d0887"
             ],
             [
              0.1111111111111111,
              "#46039f"
             ],
             [
              0.2222222222222222,
              "#7201a8"
             ],
             [
              0.3333333333333333,
              "#9c179e"
             ],
             [
              0.4444444444444444,
              "#bd3786"
             ],
             [
              0.5555555555555556,
              "#d8576b"
             ],
             [
              0.6666666666666666,
              "#ed7953"
             ],
             [
              0.7777777777777778,
              "#fb9f3a"
             ],
             [
              0.8888888888888888,
              "#fdca26"
             ],
             [
              1,
              "#f0f921"
             ]
            ],
            "type": "histogram2d"
           }
          ],
          "histogram2dcontour": [
           {
            "colorbar": {
             "outlinewidth": 0,
             "ticks": ""
            },
            "colorscale": [
             [
              0,
              "#0d0887"
             ],
             [
              0.1111111111111111,
              "#46039f"
             ],
             [
              0.2222222222222222,
              "#7201a8"
             ],
             [
              0.3333333333333333,
              "#9c179e"
             ],
             [
              0.4444444444444444,
              "#bd3786"
             ],
             [
              0.5555555555555556,
              "#d8576b"
             ],
             [
              0.6666666666666666,
              "#ed7953"
             ],
             [
              0.7777777777777778,
              "#fb9f3a"
             ],
             [
              0.8888888888888888,
              "#fdca26"
             ],
             [
              1,
              "#f0f921"
             ]
            ],
            "type": "histogram2dcontour"
           }
          ],
          "mesh3d": [
           {
            "colorbar": {
             "outlinewidth": 0,
             "ticks": ""
            },
            "type": "mesh3d"
           }
          ],
          "parcoords": [
           {
            "line": {
             "colorbar": {
              "outlinewidth": 0,
              "ticks": ""
             }
            },
            "type": "parcoords"
           }
          ],
          "pie": [
           {
            "automargin": true,
            "type": "pie"
           }
          ],
          "scatter": [
           {
            "fillpattern": {
             "fillmode": "overlay",
             "size": 10,
             "solidity": 0.2
            },
            "type": "scatter"
           }
          ],
          "scatter3d": [
           {
            "line": {
             "colorbar": {
              "outlinewidth": 0,
              "ticks": ""
             }
            },
            "marker": {
             "colorbar": {
              "outlinewidth": 0,
              "ticks": ""
             }
            },
            "type": "scatter3d"
           }
          ],
          "scattercarpet": [
           {
            "marker": {
             "colorbar": {
              "outlinewidth": 0,
              "ticks": ""
             }
            },
            "type": "scattercarpet"
           }
          ],
          "scattergeo": [
           {
            "marker": {
             "colorbar": {
              "outlinewidth": 0,
              "ticks": ""
             }
            },
            "type": "scattergeo"
           }
          ],
          "scattergl": [
           {
            "marker": {
             "colorbar": {
              "outlinewidth": 0,
              "ticks": ""
             }
            },
            "type": "scattergl"
           }
          ],
          "scattermapbox": [
           {
            "marker": {
             "colorbar": {
              "outlinewidth": 0,
              "ticks": ""
             }
            },
            "type": "scattermapbox"
           }
          ],
          "scatterpolar": [
           {
            "marker": {
             "colorbar": {
              "outlinewidth": 0,
              "ticks": ""
             }
            },
            "type": "scatterpolar"
           }
          ],
          "scatterpolargl": [
           {
            "marker": {
             "colorbar": {
              "outlinewidth": 0,
              "ticks": ""
             }
            },
            "type": "scatterpolargl"
           }
          ],
          "scatterternary": [
           {
            "marker": {
             "colorbar": {
              "outlinewidth": 0,
              "ticks": ""
             }
            },
            "type": "scatterternary"
           }
          ],
          "surface": [
           {
            "colorbar": {
             "outlinewidth": 0,
             "ticks": ""
            },
            "colorscale": [
             [
              0,
              "#0d0887"
             ],
             [
              0.1111111111111111,
              "#46039f"
             ],
             [
              0.2222222222222222,
              "#7201a8"
             ],
             [
              0.3333333333333333,
              "#9c179e"
             ],
             [
              0.4444444444444444,
              "#bd3786"
             ],
             [
              0.5555555555555556,
              "#d8576b"
             ],
             [
              0.6666666666666666,
              "#ed7953"
             ],
             [
              0.7777777777777778,
              "#fb9f3a"
             ],
             [
              0.8888888888888888,
              "#fdca26"
             ],
             [
              1,
              "#f0f921"
             ]
            ],
            "type": "surface"
           }
          ],
          "table": [
           {
            "cells": {
             "fill": {
              "color": "#EBF0F8"
             },
             "line": {
              "color": "white"
             }
            },
            "header": {
             "fill": {
              "color": "#C8D4E3"
             },
             "line": {
              "color": "white"
             }
            },
            "type": "table"
           }
          ]
         },
         "layout": {
          "annotationdefaults": {
           "arrowcolor": "#2a3f5f",
           "arrowhead": 0,
           "arrowwidth": 1
          },
          "autotypenumbers": "strict",
          "coloraxis": {
           "colorbar": {
            "outlinewidth": 0,
            "ticks": ""
           }
          },
          "colorscale": {
           "diverging": [
            [
             0,
             "#8e0152"
            ],
            [
             0.1,
             "#c51b7d"
            ],
            [
             0.2,
             "#de77ae"
            ],
            [
             0.3,
             "#f1b6da"
            ],
            [
             0.4,
             "#fde0ef"
            ],
            [
             0.5,
             "#f7f7f7"
            ],
            [
             0.6,
             "#e6f5d0"
            ],
            [
             0.7,
             "#b8e186"
            ],
            [
             0.8,
             "#7fbc41"
            ],
            [
             0.9,
             "#4d9221"
            ],
            [
             1,
             "#276419"
            ]
           ],
           "sequential": [
            [
             0,
             "#0d0887"
            ],
            [
             0.1111111111111111,
             "#46039f"
            ],
            [
             0.2222222222222222,
             "#7201a8"
            ],
            [
             0.3333333333333333,
             "#9c179e"
            ],
            [
             0.4444444444444444,
             "#bd3786"
            ],
            [
             0.5555555555555556,
             "#d8576b"
            ],
            [
             0.6666666666666666,
             "#ed7953"
            ],
            [
             0.7777777777777778,
             "#fb9f3a"
            ],
            [
             0.8888888888888888,
             "#fdca26"
            ],
            [
             1,
             "#f0f921"
            ]
           ],
           "sequentialminus": [
            [
             0,
             "#0d0887"
            ],
            [
             0.1111111111111111,
             "#46039f"
            ],
            [
             0.2222222222222222,
             "#7201a8"
            ],
            [
             0.3333333333333333,
             "#9c179e"
            ],
            [
             0.4444444444444444,
             "#bd3786"
            ],
            [
             0.5555555555555556,
             "#d8576b"
            ],
            [
             0.6666666666666666,
             "#ed7953"
            ],
            [
             0.7777777777777778,
             "#fb9f3a"
            ],
            [
             0.8888888888888888,
             "#fdca26"
            ],
            [
             1,
             "#f0f921"
            ]
           ]
          },
          "colorway": [
           "#636efa",
           "#EF553B",
           "#00cc96",
           "#ab63fa",
           "#FFA15A",
           "#19d3f3",
           "#FF6692",
           "#B6E880",
           "#FF97FF",
           "#FECB52"
          ],
          "font": {
           "color": "#2a3f5f"
          },
          "geo": {
           "bgcolor": "white",
           "lakecolor": "white",
           "landcolor": "#E5ECF6",
           "showlakes": true,
           "showland": true,
           "subunitcolor": "white"
          },
          "hoverlabel": {
           "align": "left"
          },
          "hovermode": "closest",
          "mapbox": {
           "style": "light"
          },
          "paper_bgcolor": "white",
          "plot_bgcolor": "#E5ECF6",
          "polar": {
           "angularaxis": {
            "gridcolor": "white",
            "linecolor": "white",
            "ticks": ""
           },
           "bgcolor": "#E5ECF6",
           "radialaxis": {
            "gridcolor": "white",
            "linecolor": "white",
            "ticks": ""
           }
          },
          "scene": {
           "xaxis": {
            "backgroundcolor": "#E5ECF6",
            "gridcolor": "white",
            "gridwidth": 2,
            "linecolor": "white",
            "showbackground": true,
            "ticks": "",
            "zerolinecolor": "white"
           },
           "yaxis": {
            "backgroundcolor": "#E5ECF6",
            "gridcolor": "white",
            "gridwidth": 2,
            "linecolor": "white",
            "showbackground": true,
            "ticks": "",
            "zerolinecolor": "white"
           },
           "zaxis": {
            "backgroundcolor": "#E5ECF6",
            "gridcolor": "white",
            "gridwidth": 2,
            "linecolor": "white",
            "showbackground": true,
            "ticks": "",
            "zerolinecolor": "white"
           }
          },
          "shapedefaults": {
           "line": {
            "color": "#2a3f5f"
           }
          },
          "ternary": {
           "aaxis": {
            "gridcolor": "white",
            "linecolor": "white",
            "ticks": ""
           },
           "baxis": {
            "gridcolor": "white",
            "linecolor": "white",
            "ticks": ""
           },
           "bgcolor": "#E5ECF6",
           "caxis": {
            "gridcolor": "white",
            "linecolor": "white",
            "ticks": ""
           }
          },
          "title": {
           "x": 0.05
          },
          "xaxis": {
           "automargin": true,
           "gridcolor": "white",
           "linecolor": "white",
           "ticks": "",
           "title": {
            "standoff": 15
           },
           "zerolinecolor": "white",
           "zerolinewidth": 2
          },
          "yaxis": {
           "automargin": true,
           "gridcolor": "white",
           "linecolor": "white",
           "ticks": "",
           "title": {
            "standoff": 15
           },
           "zerolinecolor": "white",
           "zerolinewidth": 2
          }
         }
        },
        "width": 800,
        "xaxis": {
         "anchor": "y",
         "domain": [
          0,
          1
         ],
         "title": {
          "text": "PC"
         }
        },
        "yaxis": {
         "anchor": "x",
         "domain": [
          0,
          1
         ],
         "title": {
          "text": "Explained Variance"
         }
        }
       }
      },
      "text/html": [
       "<div>                            <div id=\"e3860995-bce6-4846-96eb-42802ac5b0d7\" class=\"plotly-graph-div\" style=\"height:525px; width:800px;\"></div>            <script type=\"text/javascript\">                require([\"plotly\"], function(Plotly) {                    window.PLOTLYENV=window.PLOTLYENV || {};                                    if (document.getElementById(\"e3860995-bce6-4846-96eb-42802ac5b0d7\")) {                    Plotly.newPlot(                        \"e3860995-bce6-4846-96eb-42802ac5b0d7\",                        [{\"alignmentgroup\":\"True\",\"hovertemplate\":\"PC=%{x}<br>Explained Variance=%{text}<extra></extra>\",\"legendgroup\":\"\",\"marker\":{\"color\":\"#636efa\",\"pattern\":{\"shape\":\"\"}},\"name\":\"\",\"offsetgroup\":\"\",\"orientation\":\"v\",\"showlegend\":false,\"text\":[0.0,0.29547282505683947,0.17396817719274862,0.13937302058038994],\"textposition\":\"outside\",\"x\":[\"\",\"PC1\",\"PC2\",\"PC3\"],\"xaxis\":\"x\",\"y\":[0.0,0.29547282505683947,0.17396817719274862,0.13937302058038994],\"yaxis\":\"y\",\"type\":\"bar\",\"texttemplate\":\"%{text:.3f}\"}],                        {\"template\":{\"data\":{\"histogram2dcontour\":[{\"type\":\"histogram2dcontour\",\"colorbar\":{\"outlinewidth\":0,\"ticks\":\"\"},\"colorscale\":[[0.0,\"#0d0887\"],[0.1111111111111111,\"#46039f\"],[0.2222222222222222,\"#7201a8\"],[0.3333333333333333,\"#9c179e\"],[0.4444444444444444,\"#bd3786\"],[0.5555555555555556,\"#d8576b\"],[0.6666666666666666,\"#ed7953\"],[0.7777777777777778,\"#fb9f3a\"],[0.8888888888888888,\"#fdca26\"],[1.0,\"#f0f921\"]]}],\"choropleth\":[{\"type\":\"choropleth\",\"colorbar\":{\"outlinewidth\":0,\"ticks\":\"\"}}],\"histogram2d\":[{\"type\":\"histogram2d\",\"colorbar\":{\"outlinewidth\":0,\"ticks\":\"\"},\"colorscale\":[[0.0,\"#0d0887\"],[0.1111111111111111,\"#46039f\"],[0.2222222222222222,\"#7201a8\"],[0.3333333333333333,\"#9c179e\"],[0.4444444444444444,\"#bd3786\"],[0.5555555555555556,\"#d8576b\"],[0.6666666666666666,\"#ed7953\"],[0.7777777777777778,\"#fb9f3a\"],[0.8888888888888888,\"#fdca26\"],[1.0,\"#f0f921\"]]}],\"heatmap\":[{\"type\":\"heatmap\",\"colorbar\":{\"outlinewidth\":0,\"ticks\":\"\"},\"colorscale\":[[0.0,\"#0d0887\"],[0.1111111111111111,\"#46039f\"],[0.2222222222222222,\"#7201a8\"],[0.3333333333333333,\"#9c179e\"],[0.4444444444444444,\"#bd3786\"],[0.5555555555555556,\"#d8576b\"],[0.6666666666666666,\"#ed7953\"],[0.7777777777777778,\"#fb9f3a\"],[0.8888888888888888,\"#fdca26\"],[1.0,\"#f0f921\"]]}],\"heatmapgl\":[{\"type\":\"heatmapgl\",\"colorbar\":{\"outlinewidth\":0,\"ticks\":\"\"},\"colorscale\":[[0.0,\"#0d0887\"],[0.1111111111111111,\"#46039f\"],[0.2222222222222222,\"#7201a8\"],[0.3333333333333333,\"#9c179e\"],[0.4444444444444444,\"#bd3786\"],[0.5555555555555556,\"#d8576b\"],[0.6666666666666666,\"#ed7953\"],[0.7777777777777778,\"#fb9f3a\"],[0.8888888888888888,\"#fdca26\"],[1.0,\"#f0f921\"]]}],\"contourcarpet\":[{\"type\":\"contourcarpet\",\"colorbar\":{\"outlinewidth\":0,\"ticks\":\"\"}}],\"contour\":[{\"type\":\"contour\",\"colorbar\":{\"outlinewidth\":0,\"ticks\":\"\"},\"colorscale\":[[0.0,\"#0d0887\"],[0.1111111111111111,\"#46039f\"],[0.2222222222222222,\"#7201a8\"],[0.3333333333333333,\"#9c179e\"],[0.4444444444444444,\"#bd3786\"],[0.5555555555555556,\"#d8576b\"],[0.6666666666666666,\"#ed7953\"],[0.7777777777777778,\"#fb9f3a\"],[0.8888888888888888,\"#fdca26\"],[1.0,\"#f0f921\"]]}],\"surface\":[{\"type\":\"surface\",\"colorbar\":{\"outlinewidth\":0,\"ticks\":\"\"},\"colorscale\":[[0.0,\"#0d0887\"],[0.1111111111111111,\"#46039f\"],[0.2222222222222222,\"#7201a8\"],[0.3333333333333333,\"#9c179e\"],[0.4444444444444444,\"#bd3786\"],[0.5555555555555556,\"#d8576b\"],[0.6666666666666666,\"#ed7953\"],[0.7777777777777778,\"#fb9f3a\"],[0.8888888888888888,\"#fdca26\"],[1.0,\"#f0f921\"]]}],\"mesh3d\":[{\"type\":\"mesh3d\",\"colorbar\":{\"outlinewidth\":0,\"ticks\":\"\"}}],\"scatter\":[{\"fillpattern\":{\"fillmode\":\"overlay\",\"size\":10,\"solidity\":0.2},\"type\":\"scatter\"}],\"parcoords\":[{\"type\":\"parcoords\",\"line\":{\"colorbar\":{\"outlinewidth\":0,\"ticks\":\"\"}}}],\"scatterpolargl\":[{\"type\":\"scatterpolargl\",\"marker\":{\"colorbar\":{\"outlinewidth\":0,\"ticks\":\"\"}}}],\"bar\":[{\"error_x\":{\"color\":\"#2a3f5f\"},\"error_y\":{\"color\":\"#2a3f5f\"},\"marker\":{\"line\":{\"color\":\"#E5ECF6\",\"width\":0.5},\"pattern\":{\"fillmode\":\"overlay\",\"size\":10,\"solidity\":0.2}},\"type\":\"bar\"}],\"scattergeo\":[{\"type\":\"scattergeo\",\"marker\":{\"colorbar\":{\"outlinewidth\":0,\"ticks\":\"\"}}}],\"scatterpolar\":[{\"type\":\"scatterpolar\",\"marker\":{\"colorbar\":{\"outlinewidth\":0,\"ticks\":\"\"}}}],\"histogram\":[{\"marker\":{\"pattern\":{\"fillmode\":\"overlay\",\"size\":10,\"solidity\":0.2}},\"type\":\"histogram\"}],\"scattergl\":[{\"type\":\"scattergl\",\"marker\":{\"colorbar\":{\"outlinewidth\":0,\"ticks\":\"\"}}}],\"scatter3d\":[{\"type\":\"scatter3d\",\"line\":{\"colorbar\":{\"outlinewidth\":0,\"ticks\":\"\"}},\"marker\":{\"colorbar\":{\"outlinewidth\":0,\"ticks\":\"\"}}}],\"scattermapbox\":[{\"type\":\"scattermapbox\",\"marker\":{\"colorbar\":{\"outlinewidth\":0,\"ticks\":\"\"}}}],\"scatterternary\":[{\"type\":\"scatterternary\",\"marker\":{\"colorbar\":{\"outlinewidth\":0,\"ticks\":\"\"}}}],\"scattercarpet\":[{\"type\":\"scattercarpet\",\"marker\":{\"colorbar\":{\"outlinewidth\":0,\"ticks\":\"\"}}}],\"carpet\":[{\"aaxis\":{\"endlinecolor\":\"#2a3f5f\",\"gridcolor\":\"white\",\"linecolor\":\"white\",\"minorgridcolor\":\"white\",\"startlinecolor\":\"#2a3f5f\"},\"baxis\":{\"endlinecolor\":\"#2a3f5f\",\"gridcolor\":\"white\",\"linecolor\":\"white\",\"minorgridcolor\":\"white\",\"startlinecolor\":\"#2a3f5f\"},\"type\":\"carpet\"}],\"table\":[{\"cells\":{\"fill\":{\"color\":\"#EBF0F8\"},\"line\":{\"color\":\"white\"}},\"header\":{\"fill\":{\"color\":\"#C8D4E3\"},\"line\":{\"color\":\"white\"}},\"type\":\"table\"}],\"barpolar\":[{\"marker\":{\"line\":{\"color\":\"#E5ECF6\",\"width\":0.5},\"pattern\":{\"fillmode\":\"overlay\",\"size\":10,\"solidity\":0.2}},\"type\":\"barpolar\"}],\"pie\":[{\"automargin\":true,\"type\":\"pie\"}]},\"layout\":{\"autotypenumbers\":\"strict\",\"colorway\":[\"#636efa\",\"#EF553B\",\"#00cc96\",\"#ab63fa\",\"#FFA15A\",\"#19d3f3\",\"#FF6692\",\"#B6E880\",\"#FF97FF\",\"#FECB52\"],\"font\":{\"color\":\"#2a3f5f\"},\"hovermode\":\"closest\",\"hoverlabel\":{\"align\":\"left\"},\"paper_bgcolor\":\"white\",\"plot_bgcolor\":\"#E5ECF6\",\"polar\":{\"bgcolor\":\"#E5ECF6\",\"angularaxis\":{\"gridcolor\":\"white\",\"linecolor\":\"white\",\"ticks\":\"\"},\"radialaxis\":{\"gridcolor\":\"white\",\"linecolor\":\"white\",\"ticks\":\"\"}},\"ternary\":{\"bgcolor\":\"#E5ECF6\",\"aaxis\":{\"gridcolor\":\"white\",\"linecolor\":\"white\",\"ticks\":\"\"},\"baxis\":{\"gridcolor\":\"white\",\"linecolor\":\"white\",\"ticks\":\"\"},\"caxis\":{\"gridcolor\":\"white\",\"linecolor\":\"white\",\"ticks\":\"\"}},\"coloraxis\":{\"colorbar\":{\"outlinewidth\":0,\"ticks\":\"\"}},\"colorscale\":{\"sequential\":[[0.0,\"#0d0887\"],[0.1111111111111111,\"#46039f\"],[0.2222222222222222,\"#7201a8\"],[0.3333333333333333,\"#9c179e\"],[0.4444444444444444,\"#bd3786\"],[0.5555555555555556,\"#d8576b\"],[0.6666666666666666,\"#ed7953\"],[0.7777777777777778,\"#fb9f3a\"],[0.8888888888888888,\"#fdca26\"],[1.0,\"#f0f921\"]],\"sequentialminus\":[[0.0,\"#0d0887\"],[0.1111111111111111,\"#46039f\"],[0.2222222222222222,\"#7201a8\"],[0.3333333333333333,\"#9c179e\"],[0.4444444444444444,\"#bd3786\"],[0.5555555555555556,\"#d8576b\"],[0.6666666666666666,\"#ed7953\"],[0.7777777777777778,\"#fb9f3a\"],[0.8888888888888888,\"#fdca26\"],[1.0,\"#f0f921\"]],\"diverging\":[[0,\"#8e0152\"],[0.1,\"#c51b7d\"],[0.2,\"#de77ae\"],[0.3,\"#f1b6da\"],[0.4,\"#fde0ef\"],[0.5,\"#f7f7f7\"],[0.6,\"#e6f5d0\"],[0.7,\"#b8e186\"],[0.8,\"#7fbc41\"],[0.9,\"#4d9221\"],[1,\"#276419\"]]},\"xaxis\":{\"gridcolor\":\"white\",\"linecolor\":\"white\",\"ticks\":\"\",\"title\":{\"standoff\":15},\"zerolinecolor\":\"white\",\"automargin\":true,\"zerolinewidth\":2},\"yaxis\":{\"gridcolor\":\"white\",\"linecolor\":\"white\",\"ticks\":\"\",\"title\":{\"standoff\":15},\"zerolinecolor\":\"white\",\"automargin\":true,\"zerolinewidth\":2},\"scene\":{\"xaxis\":{\"backgroundcolor\":\"#E5ECF6\",\"gridcolor\":\"white\",\"linecolor\":\"white\",\"showbackground\":true,\"ticks\":\"\",\"zerolinecolor\":\"white\",\"gridwidth\":2},\"yaxis\":{\"backgroundcolor\":\"#E5ECF6\",\"gridcolor\":\"white\",\"linecolor\":\"white\",\"showbackground\":true,\"ticks\":\"\",\"zerolinecolor\":\"white\",\"gridwidth\":2},\"zaxis\":{\"backgroundcolor\":\"#E5ECF6\",\"gridcolor\":\"white\",\"linecolor\":\"white\",\"showbackground\":true,\"ticks\":\"\",\"zerolinecolor\":\"white\",\"gridwidth\":2}},\"shapedefaults\":{\"line\":{\"color\":\"#2a3f5f\"}},\"annotationdefaults\":{\"arrowcolor\":\"#2a3f5f\",\"arrowhead\":0,\"arrowwidth\":1},\"geo\":{\"bgcolor\":\"white\",\"landcolor\":\"#E5ECF6\",\"subunitcolor\":\"white\",\"showland\":true,\"showlakes\":true,\"lakecolor\":\"white\"},\"title\":{\"x\":0.05},\"mapbox\":{\"style\":\"light\"}}},\"xaxis\":{\"anchor\":\"y\",\"domain\":[0.0,1.0],\"title\":{\"text\":\"PC\"}},\"yaxis\":{\"anchor\":\"x\",\"domain\":[0.0,1.0],\"title\":{\"text\":\"Explained Variance\"}},\"legend\":{\"tracegroupgap\":0},\"margin\":{\"t\":60},\"barmode\":\"relative\",\"width\":800},                        {\"responsive\": true}                    ).then(function(){\n",
       "                            \n",
       "var gd = document.getElementById('e3860995-bce6-4846-96eb-42802ac5b0d7');\n",
       "var x = new MutationObserver(function (mutations, observer) {{\n",
       "        var display = window.getComputedStyle(gd).display;\n",
       "        if (!display || display === 'none') {{\n",
       "            console.log([gd, 'removed!']);\n",
       "            Plotly.purge(gd);\n",
       "            observer.disconnect();\n",
       "        }}\n",
       "}});\n",
       "\n",
       "// Listen for the removal of the full notebook cells\n",
       "var notebookContainer = gd.closest('#notebook-container');\n",
       "if (notebookContainer) {{\n",
       "    x.observe(notebookContainer, {childList: true});\n",
       "}}\n",
       "\n",
       "// Listen for the clearing of the current output cell\n",
       "var outputEl = gd.closest('.output');\n",
       "if (outputEl) {{\n",
       "    x.observe(outputEl, {childList: true});\n",
       "}}\n",
       "\n",
       "                        })                };                });            </script>        </div>"
      ]
     },
     "metadata": {},
     "output_type": "display_data"
    }
   ],
   "source": [
    "fig.update_traces(texttemplate='%{text:.3f}', textposition='outside') # limit decimal cases and text outside the bar\n",
    "fig.show() #explained variance"
   ]
  },
  {
   "cell_type": "code",
   "execution_count": 57,
   "id": "ec892729",
   "metadata": {},
   "outputs": [
    {
     "data": {
      "application/vnd.plotly.v1+json": {
       "config": {
        "plotlyServerURL": "https://plot.ly"
       },
       "data": [
        {
         "marker": {
          "color": "LightSeaGreen",
          "size": 15
         },
         "type": "scatter",
         "x": [
          "",
          "PC1",
          "PC2",
          "PC3"
         ],
         "y": [
          0,
          0.295,
          0.469,
          0.608
         ]
        },
        {
         "marker": {
          "color": "RoyalBlue"
         },
         "type": "bar",
         "x": [
          "",
          "PC1",
          "PC2",
          "PC3"
         ],
         "y": [
          0,
          0.29547282505683947,
          0.17396817719274862,
          0.13937302058038994
         ]
        }
       ],
       "layout": {
        "template": {
         "data": {
          "bar": [
           {
            "error_x": {
             "color": "#2a3f5f"
            },
            "error_y": {
             "color": "#2a3f5f"
            },
            "marker": {
             "line": {
              "color": "#E5ECF6",
              "width": 0.5
             },
             "pattern": {
              "fillmode": "overlay",
              "size": 10,
              "solidity": 0.2
             }
            },
            "type": "bar"
           }
          ],
          "barpolar": [
           {
            "marker": {
             "line": {
              "color": "#E5ECF6",
              "width": 0.5
             },
             "pattern": {
              "fillmode": "overlay",
              "size": 10,
              "solidity": 0.2
             }
            },
            "type": "barpolar"
           }
          ],
          "carpet": [
           {
            "aaxis": {
             "endlinecolor": "#2a3f5f",
             "gridcolor": "white",
             "linecolor": "white",
             "minorgridcolor": "white",
             "startlinecolor": "#2a3f5f"
            },
            "baxis": {
             "endlinecolor": "#2a3f5f",
             "gridcolor": "white",
             "linecolor": "white",
             "minorgridcolor": "white",
             "startlinecolor": "#2a3f5f"
            },
            "type": "carpet"
           }
          ],
          "choropleth": [
           {
            "colorbar": {
             "outlinewidth": 0,
             "ticks": ""
            },
            "type": "choropleth"
           }
          ],
          "contour": [
           {
            "colorbar": {
             "outlinewidth": 0,
             "ticks": ""
            },
            "colorscale": [
             [
              0,
              "#0d0887"
             ],
             [
              0.1111111111111111,
              "#46039f"
             ],
             [
              0.2222222222222222,
              "#7201a8"
             ],
             [
              0.3333333333333333,
              "#9c179e"
             ],
             [
              0.4444444444444444,
              "#bd3786"
             ],
             [
              0.5555555555555556,
              "#d8576b"
             ],
             [
              0.6666666666666666,
              "#ed7953"
             ],
             [
              0.7777777777777778,
              "#fb9f3a"
             ],
             [
              0.8888888888888888,
              "#fdca26"
             ],
             [
              1,
              "#f0f921"
             ]
            ],
            "type": "contour"
           }
          ],
          "contourcarpet": [
           {
            "colorbar": {
             "outlinewidth": 0,
             "ticks": ""
            },
            "type": "contourcarpet"
           }
          ],
          "heatmap": [
           {
            "colorbar": {
             "outlinewidth": 0,
             "ticks": ""
            },
            "colorscale": [
             [
              0,
              "#0d0887"
             ],
             [
              0.1111111111111111,
              "#46039f"
             ],
             [
              0.2222222222222222,
              "#7201a8"
             ],
             [
              0.3333333333333333,
              "#9c179e"
             ],
             [
              0.4444444444444444,
              "#bd3786"
             ],
             [
              0.5555555555555556,
              "#d8576b"
             ],
             [
              0.6666666666666666,
              "#ed7953"
             ],
             [
              0.7777777777777778,
              "#fb9f3a"
             ],
             [
              0.8888888888888888,
              "#fdca26"
             ],
             [
              1,
              "#f0f921"
             ]
            ],
            "type": "heatmap"
           }
          ],
          "heatmapgl": [
           {
            "colorbar": {
             "outlinewidth": 0,
             "ticks": ""
            },
            "colorscale": [
             [
              0,
              "#0d0887"
             ],
             [
              0.1111111111111111,
              "#46039f"
             ],
             [
              0.2222222222222222,
              "#7201a8"
             ],
             [
              0.3333333333333333,
              "#9c179e"
             ],
             [
              0.4444444444444444,
              "#bd3786"
             ],
             [
              0.5555555555555556,
              "#d8576b"
             ],
             [
              0.6666666666666666,
              "#ed7953"
             ],
             [
              0.7777777777777778,
              "#fb9f3a"
             ],
             [
              0.8888888888888888,
              "#fdca26"
             ],
             [
              1,
              "#f0f921"
             ]
            ],
            "type": "heatmapgl"
           }
          ],
          "histogram": [
           {
            "marker": {
             "pattern": {
              "fillmode": "overlay",
              "size": 10,
              "solidity": 0.2
             }
            },
            "type": "histogram"
           }
          ],
          "histogram2d": [
           {
            "colorbar": {
             "outlinewidth": 0,
             "ticks": ""
            },
            "colorscale": [
             [
              0,
              "#0d0887"
             ],
             [
              0.1111111111111111,
              "#46039f"
             ],
             [
              0.2222222222222222,
              "#7201a8"
             ],
             [
              0.3333333333333333,
              "#9c179e"
             ],
             [
              0.4444444444444444,
              "#bd3786"
             ],
             [
              0.5555555555555556,
              "#d8576b"
             ],
             [
              0.6666666666666666,
              "#ed7953"
             ],
             [
              0.7777777777777778,
              "#fb9f3a"
             ],
             [
              0.8888888888888888,
              "#fdca26"
             ],
             [
              1,
              "#f0f921"
             ]
            ],
            "type": "histogram2d"
           }
          ],
          "histogram2dcontour": [
           {
            "colorbar": {
             "outlinewidth": 0,
             "ticks": ""
            },
            "colorscale": [
             [
              0,
              "#0d0887"
             ],
             [
              0.1111111111111111,
              "#46039f"
             ],
             [
              0.2222222222222222,
              "#7201a8"
             ],
             [
              0.3333333333333333,
              "#9c179e"
             ],
             [
              0.4444444444444444,
              "#bd3786"
             ],
             [
              0.5555555555555556,
              "#d8576b"
             ],
             [
              0.6666666666666666,
              "#ed7953"
             ],
             [
              0.7777777777777778,
              "#fb9f3a"
             ],
             [
              0.8888888888888888,
              "#fdca26"
             ],
             [
              1,
              "#f0f921"
             ]
            ],
            "type": "histogram2dcontour"
           }
          ],
          "mesh3d": [
           {
            "colorbar": {
             "outlinewidth": 0,
             "ticks": ""
            },
            "type": "mesh3d"
           }
          ],
          "parcoords": [
           {
            "line": {
             "colorbar": {
              "outlinewidth": 0,
              "ticks": ""
             }
            },
            "type": "parcoords"
           }
          ],
          "pie": [
           {
            "automargin": true,
            "type": "pie"
           }
          ],
          "scatter": [
           {
            "fillpattern": {
             "fillmode": "overlay",
             "size": 10,
             "solidity": 0.2
            },
            "type": "scatter"
           }
          ],
          "scatter3d": [
           {
            "line": {
             "colorbar": {
              "outlinewidth": 0,
              "ticks": ""
             }
            },
            "marker": {
             "colorbar": {
              "outlinewidth": 0,
              "ticks": ""
             }
            },
            "type": "scatter3d"
           }
          ],
          "scattercarpet": [
           {
            "marker": {
             "colorbar": {
              "outlinewidth": 0,
              "ticks": ""
             }
            },
            "type": "scattercarpet"
           }
          ],
          "scattergeo": [
           {
            "marker": {
             "colorbar": {
              "outlinewidth": 0,
              "ticks": ""
             }
            },
            "type": "scattergeo"
           }
          ],
          "scattergl": [
           {
            "marker": {
             "colorbar": {
              "outlinewidth": 0,
              "ticks": ""
             }
            },
            "type": "scattergl"
           }
          ],
          "scattermapbox": [
           {
            "marker": {
             "colorbar": {
              "outlinewidth": 0,
              "ticks": ""
             }
            },
            "type": "scattermapbox"
           }
          ],
          "scatterpolar": [
           {
            "marker": {
             "colorbar": {
              "outlinewidth": 0,
              "ticks": ""
             }
            },
            "type": "scatterpolar"
           }
          ],
          "scatterpolargl": [
           {
            "marker": {
             "colorbar": {
              "outlinewidth": 0,
              "ticks": ""
             }
            },
            "type": "scatterpolargl"
           }
          ],
          "scatterternary": [
           {
            "marker": {
             "colorbar": {
              "outlinewidth": 0,
              "ticks": ""
             }
            },
            "type": "scatterternary"
           }
          ],
          "surface": [
           {
            "colorbar": {
             "outlinewidth": 0,
             "ticks": ""
            },
            "colorscale": [
             [
              0,
              "#0d0887"
             ],
             [
              0.1111111111111111,
              "#46039f"
             ],
             [
              0.2222222222222222,
              "#7201a8"
             ],
             [
              0.3333333333333333,
              "#9c179e"
             ],
             [
              0.4444444444444444,
              "#bd3786"
             ],
             [
              0.5555555555555556,
              "#d8576b"
             ],
             [
              0.6666666666666666,
              "#ed7953"
             ],
             [
              0.7777777777777778,
              "#fb9f3a"
             ],
             [
              0.8888888888888888,
              "#fdca26"
             ],
             [
              1,
              "#f0f921"
             ]
            ],
            "type": "surface"
           }
          ],
          "table": [
           {
            "cells": {
             "fill": {
              "color": "#EBF0F8"
             },
             "line": {
              "color": "white"
             }
            },
            "header": {
             "fill": {
              "color": "#C8D4E3"
             },
             "line": {
              "color": "white"
             }
            },
            "type": "table"
           }
          ]
         },
         "layout": {
          "annotationdefaults": {
           "arrowcolor": "#2a3f5f",
           "arrowhead": 0,
           "arrowwidth": 1
          },
          "autotypenumbers": "strict",
          "coloraxis": {
           "colorbar": {
            "outlinewidth": 0,
            "ticks": ""
           }
          },
          "colorscale": {
           "diverging": [
            [
             0,
             "#8e0152"
            ],
            [
             0.1,
             "#c51b7d"
            ],
            [
             0.2,
             "#de77ae"
            ],
            [
             0.3,
             "#f1b6da"
            ],
            [
             0.4,
             "#fde0ef"
            ],
            [
             0.5,
             "#f7f7f7"
            ],
            [
             0.6,
             "#e6f5d0"
            ],
            [
             0.7,
             "#b8e186"
            ],
            [
             0.8,
             "#7fbc41"
            ],
            [
             0.9,
             "#4d9221"
            ],
            [
             1,
             "#276419"
            ]
           ],
           "sequential": [
            [
             0,
             "#0d0887"
            ],
            [
             0.1111111111111111,
             "#46039f"
            ],
            [
             0.2222222222222222,
             "#7201a8"
            ],
            [
             0.3333333333333333,
             "#9c179e"
            ],
            [
             0.4444444444444444,
             "#bd3786"
            ],
            [
             0.5555555555555556,
             "#d8576b"
            ],
            [
             0.6666666666666666,
             "#ed7953"
            ],
            [
             0.7777777777777778,
             "#fb9f3a"
            ],
            [
             0.8888888888888888,
             "#fdca26"
            ],
            [
             1,
             "#f0f921"
            ]
           ],
           "sequentialminus": [
            [
             0,
             "#0d0887"
            ],
            [
             0.1111111111111111,
             "#46039f"
            ],
            [
             0.2222222222222222,
             "#7201a8"
            ],
            [
             0.3333333333333333,
             "#9c179e"
            ],
            [
             0.4444444444444444,
             "#bd3786"
            ],
            [
             0.5555555555555556,
             "#d8576b"
            ],
            [
             0.6666666666666666,
             "#ed7953"
            ],
            [
             0.7777777777777778,
             "#fb9f3a"
            ],
            [
             0.8888888888888888,
             "#fdca26"
            ],
            [
             1,
             "#f0f921"
            ]
           ]
          },
          "colorway": [
           "#636efa",
           "#EF553B",
           "#00cc96",
           "#ab63fa",
           "#FFA15A",
           "#19d3f3",
           "#FF6692",
           "#B6E880",
           "#FF97FF",
           "#FECB52"
          ],
          "font": {
           "color": "#2a3f5f"
          },
          "geo": {
           "bgcolor": "white",
           "lakecolor": "white",
           "landcolor": "#E5ECF6",
           "showlakes": true,
           "showland": true,
           "subunitcolor": "white"
          },
          "hoverlabel": {
           "align": "left"
          },
          "hovermode": "closest",
          "mapbox": {
           "style": "light"
          },
          "paper_bgcolor": "white",
          "plot_bgcolor": "#E5ECF6",
          "polar": {
           "angularaxis": {
            "gridcolor": "white",
            "linecolor": "white",
            "ticks": ""
           },
           "bgcolor": "#E5ECF6",
           "radialaxis": {
            "gridcolor": "white",
            "linecolor": "white",
            "ticks": ""
           }
          },
          "scene": {
           "xaxis": {
            "backgroundcolor": "#E5ECF6",
            "gridcolor": "white",
            "gridwidth": 2,
            "linecolor": "white",
            "showbackground": true,
            "ticks": "",
            "zerolinecolor": "white"
           },
           "yaxis": {
            "backgroundcolor": "#E5ECF6",
            "gridcolor": "white",
            "gridwidth": 2,
            "linecolor": "white",
            "showbackground": true,
            "ticks": "",
            "zerolinecolor": "white"
           },
           "zaxis": {
            "backgroundcolor": "#E5ECF6",
            "gridcolor": "white",
            "gridwidth": 2,
            "linecolor": "white",
            "showbackground": true,
            "ticks": "",
            "zerolinecolor": "white"
           }
          },
          "shapedefaults": {
           "line": {
            "color": "#2a3f5f"
           }
          },
          "ternary": {
           "aaxis": {
            "gridcolor": "white",
            "linecolor": "white",
            "ticks": ""
           },
           "baxis": {
            "gridcolor": "white",
            "linecolor": "white",
            "ticks": ""
           },
           "bgcolor": "#E5ECF6",
           "caxis": {
            "gridcolor": "white",
            "linecolor": "white",
            "ticks": ""
           }
          },
          "title": {
           "x": 0.05
          },
          "xaxis": {
           "automargin": true,
           "gridcolor": "white",
           "linecolor": "white",
           "ticks": "",
           "title": {
            "standoff": 15
           },
           "zerolinecolor": "white",
           "zerolinewidth": 2
          },
          "yaxis": {
           "automargin": true,
           "gridcolor": "white",
           "linecolor": "white",
           "ticks": "",
           "title": {
            "standoff": 15
           },
           "zerolinecolor": "white",
           "zerolinewidth": 2
          }
         }
        }
       }
      },
      "text/html": [
       "<div>                            <div id=\"63d5bc0c-ff60-47cf-9a3d-c720f86aa2e6\" class=\"plotly-graph-div\" style=\"height:525px; width:100%;\"></div>            <script type=\"text/javascript\">                require([\"plotly\"], function(Plotly) {                    window.PLOTLYENV=window.PLOTLYENV || {};                                    if (document.getElementById(\"63d5bc0c-ff60-47cf-9a3d-c720f86aa2e6\")) {                    Plotly.newPlot(                        \"63d5bc0c-ff60-47cf-9a3d-c720f86aa2e6\",                        [{\"marker\":{\"color\":\"LightSeaGreen\",\"size\":15},\"x\":[\"\",\"PC1\",\"PC2\",\"PC3\"],\"y\":[0.0,0.295,0.469,0.608],\"type\":\"scatter\"},{\"marker\":{\"color\":\"RoyalBlue\"},\"x\":[\"\",\"PC1\",\"PC2\",\"PC3\"],\"y\":[0.0,0.29547282505683947,0.17396817719274862,0.13937302058038994],\"type\":\"bar\"}],                        {\"template\":{\"data\":{\"histogram2dcontour\":[{\"type\":\"histogram2dcontour\",\"colorbar\":{\"outlinewidth\":0,\"ticks\":\"\"},\"colorscale\":[[0.0,\"#0d0887\"],[0.1111111111111111,\"#46039f\"],[0.2222222222222222,\"#7201a8\"],[0.3333333333333333,\"#9c179e\"],[0.4444444444444444,\"#bd3786\"],[0.5555555555555556,\"#d8576b\"],[0.6666666666666666,\"#ed7953\"],[0.7777777777777778,\"#fb9f3a\"],[0.8888888888888888,\"#fdca26\"],[1.0,\"#f0f921\"]]}],\"choropleth\":[{\"type\":\"choropleth\",\"colorbar\":{\"outlinewidth\":0,\"ticks\":\"\"}}],\"histogram2d\":[{\"type\":\"histogram2d\",\"colorbar\":{\"outlinewidth\":0,\"ticks\":\"\"},\"colorscale\":[[0.0,\"#0d0887\"],[0.1111111111111111,\"#46039f\"],[0.2222222222222222,\"#7201a8\"],[0.3333333333333333,\"#9c179e\"],[0.4444444444444444,\"#bd3786\"],[0.5555555555555556,\"#d8576b\"],[0.6666666666666666,\"#ed7953\"],[0.7777777777777778,\"#fb9f3a\"],[0.8888888888888888,\"#fdca26\"],[1.0,\"#f0f921\"]]}],\"heatmap\":[{\"type\":\"heatmap\",\"colorbar\":{\"outlinewidth\":0,\"ticks\":\"\"},\"colorscale\":[[0.0,\"#0d0887\"],[0.1111111111111111,\"#46039f\"],[0.2222222222222222,\"#7201a8\"],[0.3333333333333333,\"#9c179e\"],[0.4444444444444444,\"#bd3786\"],[0.5555555555555556,\"#d8576b\"],[0.6666666666666666,\"#ed7953\"],[0.7777777777777778,\"#fb9f3a\"],[0.8888888888888888,\"#fdca26\"],[1.0,\"#f0f921\"]]}],\"heatmapgl\":[{\"type\":\"heatmapgl\",\"colorbar\":{\"outlinewidth\":0,\"ticks\":\"\"},\"colorscale\":[[0.0,\"#0d0887\"],[0.1111111111111111,\"#46039f\"],[0.2222222222222222,\"#7201a8\"],[0.3333333333333333,\"#9c179e\"],[0.4444444444444444,\"#bd3786\"],[0.5555555555555556,\"#d8576b\"],[0.6666666666666666,\"#ed7953\"],[0.7777777777777778,\"#fb9f3a\"],[0.8888888888888888,\"#fdca26\"],[1.0,\"#f0f921\"]]}],\"contourcarpet\":[{\"type\":\"contourcarpet\",\"colorbar\":{\"outlinewidth\":0,\"ticks\":\"\"}}],\"contour\":[{\"type\":\"contour\",\"colorbar\":{\"outlinewidth\":0,\"ticks\":\"\"},\"colorscale\":[[0.0,\"#0d0887\"],[0.1111111111111111,\"#46039f\"],[0.2222222222222222,\"#7201a8\"],[0.3333333333333333,\"#9c179e\"],[0.4444444444444444,\"#bd3786\"],[0.5555555555555556,\"#d8576b\"],[0.6666666666666666,\"#ed7953\"],[0.7777777777777778,\"#fb9f3a\"],[0.8888888888888888,\"#fdca26\"],[1.0,\"#f0f921\"]]}],\"surface\":[{\"type\":\"surface\",\"colorbar\":{\"outlinewidth\":0,\"ticks\":\"\"},\"colorscale\":[[0.0,\"#0d0887\"],[0.1111111111111111,\"#46039f\"],[0.2222222222222222,\"#7201a8\"],[0.3333333333333333,\"#9c179e\"],[0.4444444444444444,\"#bd3786\"],[0.5555555555555556,\"#d8576b\"],[0.6666666666666666,\"#ed7953\"],[0.7777777777777778,\"#fb9f3a\"],[0.8888888888888888,\"#fdca26\"],[1.0,\"#f0f921\"]]}],\"mesh3d\":[{\"type\":\"mesh3d\",\"colorbar\":{\"outlinewidth\":0,\"ticks\":\"\"}}],\"scatter\":[{\"fillpattern\":{\"fillmode\":\"overlay\",\"size\":10,\"solidity\":0.2},\"type\":\"scatter\"}],\"parcoords\":[{\"type\":\"parcoords\",\"line\":{\"colorbar\":{\"outlinewidth\":0,\"ticks\":\"\"}}}],\"scatterpolargl\":[{\"type\":\"scatterpolargl\",\"marker\":{\"colorbar\":{\"outlinewidth\":0,\"ticks\":\"\"}}}],\"bar\":[{\"error_x\":{\"color\":\"#2a3f5f\"},\"error_y\":{\"color\":\"#2a3f5f\"},\"marker\":{\"line\":{\"color\":\"#E5ECF6\",\"width\":0.5},\"pattern\":{\"fillmode\":\"overlay\",\"size\":10,\"solidity\":0.2}},\"type\":\"bar\"}],\"scattergeo\":[{\"type\":\"scattergeo\",\"marker\":{\"colorbar\":{\"outlinewidth\":0,\"ticks\":\"\"}}}],\"scatterpolar\":[{\"type\":\"scatterpolar\",\"marker\":{\"colorbar\":{\"outlinewidth\":0,\"ticks\":\"\"}}}],\"histogram\":[{\"marker\":{\"pattern\":{\"fillmode\":\"overlay\",\"size\":10,\"solidity\":0.2}},\"type\":\"histogram\"}],\"scattergl\":[{\"type\":\"scattergl\",\"marker\":{\"colorbar\":{\"outlinewidth\":0,\"ticks\":\"\"}}}],\"scatter3d\":[{\"type\":\"scatter3d\",\"line\":{\"colorbar\":{\"outlinewidth\":0,\"ticks\":\"\"}},\"marker\":{\"colorbar\":{\"outlinewidth\":0,\"ticks\":\"\"}}}],\"scattermapbox\":[{\"type\":\"scattermapbox\",\"marker\":{\"colorbar\":{\"outlinewidth\":0,\"ticks\":\"\"}}}],\"scatterternary\":[{\"type\":\"scatterternary\",\"marker\":{\"colorbar\":{\"outlinewidth\":0,\"ticks\":\"\"}}}],\"scattercarpet\":[{\"type\":\"scattercarpet\",\"marker\":{\"colorbar\":{\"outlinewidth\":0,\"ticks\":\"\"}}}],\"carpet\":[{\"aaxis\":{\"endlinecolor\":\"#2a3f5f\",\"gridcolor\":\"white\",\"linecolor\":\"white\",\"minorgridcolor\":\"white\",\"startlinecolor\":\"#2a3f5f\"},\"baxis\":{\"endlinecolor\":\"#2a3f5f\",\"gridcolor\":\"white\",\"linecolor\":\"white\",\"minorgridcolor\":\"white\",\"startlinecolor\":\"#2a3f5f\"},\"type\":\"carpet\"}],\"table\":[{\"cells\":{\"fill\":{\"color\":\"#EBF0F8\"},\"line\":{\"color\":\"white\"}},\"header\":{\"fill\":{\"color\":\"#C8D4E3\"},\"line\":{\"color\":\"white\"}},\"type\":\"table\"}],\"barpolar\":[{\"marker\":{\"line\":{\"color\":\"#E5ECF6\",\"width\":0.5},\"pattern\":{\"fillmode\":\"overlay\",\"size\":10,\"solidity\":0.2}},\"type\":\"barpolar\"}],\"pie\":[{\"automargin\":true,\"type\":\"pie\"}]},\"layout\":{\"autotypenumbers\":\"strict\",\"colorway\":[\"#636efa\",\"#EF553B\",\"#00cc96\",\"#ab63fa\",\"#FFA15A\",\"#19d3f3\",\"#FF6692\",\"#B6E880\",\"#FF97FF\",\"#FECB52\"],\"font\":{\"color\":\"#2a3f5f\"},\"hovermode\":\"closest\",\"hoverlabel\":{\"align\":\"left\"},\"paper_bgcolor\":\"white\",\"plot_bgcolor\":\"#E5ECF6\",\"polar\":{\"bgcolor\":\"#E5ECF6\",\"angularaxis\":{\"gridcolor\":\"white\",\"linecolor\":\"white\",\"ticks\":\"\"},\"radialaxis\":{\"gridcolor\":\"white\",\"linecolor\":\"white\",\"ticks\":\"\"}},\"ternary\":{\"bgcolor\":\"#E5ECF6\",\"aaxis\":{\"gridcolor\":\"white\",\"linecolor\":\"white\",\"ticks\":\"\"},\"baxis\":{\"gridcolor\":\"white\",\"linecolor\":\"white\",\"ticks\":\"\"},\"caxis\":{\"gridcolor\":\"white\",\"linecolor\":\"white\",\"ticks\":\"\"}},\"coloraxis\":{\"colorbar\":{\"outlinewidth\":0,\"ticks\":\"\"}},\"colorscale\":{\"sequential\":[[0.0,\"#0d0887\"],[0.1111111111111111,\"#46039f\"],[0.2222222222222222,\"#7201a8\"],[0.3333333333333333,\"#9c179e\"],[0.4444444444444444,\"#bd3786\"],[0.5555555555555556,\"#d8576b\"],[0.6666666666666666,\"#ed7953\"],[0.7777777777777778,\"#fb9f3a\"],[0.8888888888888888,\"#fdca26\"],[1.0,\"#f0f921\"]],\"sequentialminus\":[[0.0,\"#0d0887\"],[0.1111111111111111,\"#46039f\"],[0.2222222222222222,\"#7201a8\"],[0.3333333333333333,\"#9c179e\"],[0.4444444444444444,\"#bd3786\"],[0.5555555555555556,\"#d8576b\"],[0.6666666666666666,\"#ed7953\"],[0.7777777777777778,\"#fb9f3a\"],[0.8888888888888888,\"#fdca26\"],[1.0,\"#f0f921\"]],\"diverging\":[[0,\"#8e0152\"],[0.1,\"#c51b7d\"],[0.2,\"#de77ae\"],[0.3,\"#f1b6da\"],[0.4,\"#fde0ef\"],[0.5,\"#f7f7f7\"],[0.6,\"#e6f5d0\"],[0.7,\"#b8e186\"],[0.8,\"#7fbc41\"],[0.9,\"#4d9221\"],[1,\"#276419\"]]},\"xaxis\":{\"gridcolor\":\"white\",\"linecolor\":\"white\",\"ticks\":\"\",\"title\":{\"standoff\":15},\"zerolinecolor\":\"white\",\"automargin\":true,\"zerolinewidth\":2},\"yaxis\":{\"gridcolor\":\"white\",\"linecolor\":\"white\",\"ticks\":\"\",\"title\":{\"standoff\":15},\"zerolinecolor\":\"white\",\"automargin\":true,\"zerolinewidth\":2},\"scene\":{\"xaxis\":{\"backgroundcolor\":\"#E5ECF6\",\"gridcolor\":\"white\",\"linecolor\":\"white\",\"showbackground\":true,\"ticks\":\"\",\"zerolinecolor\":\"white\",\"gridwidth\":2},\"yaxis\":{\"backgroundcolor\":\"#E5ECF6\",\"gridcolor\":\"white\",\"linecolor\":\"white\",\"showbackground\":true,\"ticks\":\"\",\"zerolinecolor\":\"white\",\"gridwidth\":2},\"zaxis\":{\"backgroundcolor\":\"#E5ECF6\",\"gridcolor\":\"white\",\"linecolor\":\"white\",\"showbackground\":true,\"ticks\":\"\",\"zerolinecolor\":\"white\",\"gridwidth\":2}},\"shapedefaults\":{\"line\":{\"color\":\"#2a3f5f\"}},\"annotationdefaults\":{\"arrowcolor\":\"#2a3f5f\",\"arrowhead\":0,\"arrowwidth\":1},\"geo\":{\"bgcolor\":\"white\",\"landcolor\":\"#E5ECF6\",\"subunitcolor\":\"white\",\"showland\":true,\"showlakes\":true,\"lakecolor\":\"white\"},\"title\":{\"x\":0.05},\"mapbox\":{\"style\":\"light\"}}}},                        {\"responsive\": true}                    ).then(function(){\n",
       "                            \n",
       "var gd = document.getElementById('63d5bc0c-ff60-47cf-9a3d-c720f86aa2e6');\n",
       "var x = new MutationObserver(function (mutations, observer) {{\n",
       "        var display = window.getComputedStyle(gd).display;\n",
       "        if (!display || display === 'none') {{\n",
       "            console.log([gd, 'removed!']);\n",
       "            Plotly.purge(gd);\n",
       "            observer.disconnect();\n",
       "        }}\n",
       "}});\n",
       "\n",
       "// Listen for the removal of the full notebook cells\n",
       "var notebookContainer = gd.closest('#notebook-container');\n",
       "if (notebookContainer) {{\n",
       "    x.observe(notebookContainer, {childList: true});\n",
       "}}\n",
       "\n",
       "// Listen for the clearing of the current output cell\n",
       "var outputEl = gd.closest('.output');\n",
       "if (outputEl) {{\n",
       "    x.observe(outputEl, {childList: true});\n",
       "}}\n",
       "\n",
       "                        })                };                });            </script>        </div>"
      ]
     },
     "metadata": {},
     "output_type": "display_data"
    }
   ],
   "source": [
    "# explained variance + cumulative variance\n",
    "# https://plotly.com/python/creating-and-updating-figures\n",
    "\n",
    "import plotly.graph_objects as go\n",
    "fig = go.Figure()\n",
    "\n",
    "fig.add_trace(\n",
    "    go.Scatter(\n",
    "        x=df_explained_variance['PC'],\n",
    "        y=df_explained_variance['Cumulative Variance'],\n",
    "        marker=dict(size=15, color='LightSeaGreen')\n",
    "    ))\n",
    "\n",
    "fig.add_trace(\n",
    "    go.Bar(\n",
    "        x=df_explained_variance['PC'],\n",
    "        y=df_explained_variance['Explained Variance'],\n",
    "        marker=dict(color='RoyalBlue')\n",
    "    ))\n",
    "\n",
    "fig.show()"
   ]
  },
  {
   "cell_type": "code",
   "execution_count": 58,
   "id": "07efceeb",
   "metadata": {},
   "outputs": [
    {
     "data": {
      "application/vnd.plotly.v1+json": {
       "config": {
        "plotlyServerURL": "https://plot.ly"
       },
       "data": [
        {
         "marker": {
          "color": "LightSeaGreen",
          "size": 15
         },
         "type": "scatter",
         "x": [
          "",
          "PC1",
          "PC2",
          "PC3"
         ],
         "xaxis": "x",
         "y": [
          0,
          0.295,
          0.469,
          0.608
         ],
         "yaxis": "y"
        },
        {
         "marker": {
          "color": "RoyalBlue"
         },
         "type": "bar",
         "x": [
          "",
          "PC1",
          "PC2",
          "PC3"
         ],
         "xaxis": "x2",
         "y": [
          0,
          0.29547282505683947,
          0.17396817719274862,
          0.13937302058038994
         ],
         "yaxis": "y2"
        }
       ],
       "layout": {
        "template": {
         "data": {
          "bar": [
           {
            "error_x": {
             "color": "#2a3f5f"
            },
            "error_y": {
             "color": "#2a3f5f"
            },
            "marker": {
             "line": {
              "color": "#E5ECF6",
              "width": 0.5
             },
             "pattern": {
              "fillmode": "overlay",
              "size": 10,
              "solidity": 0.2
             }
            },
            "type": "bar"
           }
          ],
          "barpolar": [
           {
            "marker": {
             "line": {
              "color": "#E5ECF6",
              "width": 0.5
             },
             "pattern": {
              "fillmode": "overlay",
              "size": 10,
              "solidity": 0.2
             }
            },
            "type": "barpolar"
           }
          ],
          "carpet": [
           {
            "aaxis": {
             "endlinecolor": "#2a3f5f",
             "gridcolor": "white",
             "linecolor": "white",
             "minorgridcolor": "white",
             "startlinecolor": "#2a3f5f"
            },
            "baxis": {
             "endlinecolor": "#2a3f5f",
             "gridcolor": "white",
             "linecolor": "white",
             "minorgridcolor": "white",
             "startlinecolor": "#2a3f5f"
            },
            "type": "carpet"
           }
          ],
          "choropleth": [
           {
            "colorbar": {
             "outlinewidth": 0,
             "ticks": ""
            },
            "type": "choropleth"
           }
          ],
          "contour": [
           {
            "colorbar": {
             "outlinewidth": 0,
             "ticks": ""
            },
            "colorscale": [
             [
              0,
              "#0d0887"
             ],
             [
              0.1111111111111111,
              "#46039f"
             ],
             [
              0.2222222222222222,
              "#7201a8"
             ],
             [
              0.3333333333333333,
              "#9c179e"
             ],
             [
              0.4444444444444444,
              "#bd3786"
             ],
             [
              0.5555555555555556,
              "#d8576b"
             ],
             [
              0.6666666666666666,
              "#ed7953"
             ],
             [
              0.7777777777777778,
              "#fb9f3a"
             ],
             [
              0.8888888888888888,
              "#fdca26"
             ],
             [
              1,
              "#f0f921"
             ]
            ],
            "type": "contour"
           }
          ],
          "contourcarpet": [
           {
            "colorbar": {
             "outlinewidth": 0,
             "ticks": ""
            },
            "type": "contourcarpet"
           }
          ],
          "heatmap": [
           {
            "colorbar": {
             "outlinewidth": 0,
             "ticks": ""
            },
            "colorscale": [
             [
              0,
              "#0d0887"
             ],
             [
              0.1111111111111111,
              "#46039f"
             ],
             [
              0.2222222222222222,
              "#7201a8"
             ],
             [
              0.3333333333333333,
              "#9c179e"
             ],
             [
              0.4444444444444444,
              "#bd3786"
             ],
             [
              0.5555555555555556,
              "#d8576b"
             ],
             [
              0.6666666666666666,
              "#ed7953"
             ],
             [
              0.7777777777777778,
              "#fb9f3a"
             ],
             [
              0.8888888888888888,
              "#fdca26"
             ],
             [
              1,
              "#f0f921"
             ]
            ],
            "type": "heatmap"
           }
          ],
          "heatmapgl": [
           {
            "colorbar": {
             "outlinewidth": 0,
             "ticks": ""
            },
            "colorscale": [
             [
              0,
              "#0d0887"
             ],
             [
              0.1111111111111111,
              "#46039f"
             ],
             [
              0.2222222222222222,
              "#7201a8"
             ],
             [
              0.3333333333333333,
              "#9c179e"
             ],
             [
              0.4444444444444444,
              "#bd3786"
             ],
             [
              0.5555555555555556,
              "#d8576b"
             ],
             [
              0.6666666666666666,
              "#ed7953"
             ],
             [
              0.7777777777777778,
              "#fb9f3a"
             ],
             [
              0.8888888888888888,
              "#fdca26"
             ],
             [
              1,
              "#f0f921"
             ]
            ],
            "type": "heatmapgl"
           }
          ],
          "histogram": [
           {
            "marker": {
             "pattern": {
              "fillmode": "overlay",
              "size": 10,
              "solidity": 0.2
             }
            },
            "type": "histogram"
           }
          ],
          "histogram2d": [
           {
            "colorbar": {
             "outlinewidth": 0,
             "ticks": ""
            },
            "colorscale": [
             [
              0,
              "#0d0887"
             ],
             [
              0.1111111111111111,
              "#46039f"
             ],
             [
              0.2222222222222222,
              "#7201a8"
             ],
             [
              0.3333333333333333,
              "#9c179e"
             ],
             [
              0.4444444444444444,
              "#bd3786"
             ],
             [
              0.5555555555555556,
              "#d8576b"
             ],
             [
              0.6666666666666666,
              "#ed7953"
             ],
             [
              0.7777777777777778,
              "#fb9f3a"
             ],
             [
              0.8888888888888888,
              "#fdca26"
             ],
             [
              1,
              "#f0f921"
             ]
            ],
            "type": "histogram2d"
           }
          ],
          "histogram2dcontour": [
           {
            "colorbar": {
             "outlinewidth": 0,
             "ticks": ""
            },
            "colorscale": [
             [
              0,
              "#0d0887"
             ],
             [
              0.1111111111111111,
              "#46039f"
             ],
             [
              0.2222222222222222,
              "#7201a8"
             ],
             [
              0.3333333333333333,
              "#9c179e"
             ],
             [
              0.4444444444444444,
              "#bd3786"
             ],
             [
              0.5555555555555556,
              "#d8576b"
             ],
             [
              0.6666666666666666,
              "#ed7953"
             ],
             [
              0.7777777777777778,
              "#fb9f3a"
             ],
             [
              0.8888888888888888,
              "#fdca26"
             ],
             [
              1,
              "#f0f921"
             ]
            ],
            "type": "histogram2dcontour"
           }
          ],
          "mesh3d": [
           {
            "colorbar": {
             "outlinewidth": 0,
             "ticks": ""
            },
            "type": "mesh3d"
           }
          ],
          "parcoords": [
           {
            "line": {
             "colorbar": {
              "outlinewidth": 0,
              "ticks": ""
             }
            },
            "type": "parcoords"
           }
          ],
          "pie": [
           {
            "automargin": true,
            "type": "pie"
           }
          ],
          "scatter": [
           {
            "fillpattern": {
             "fillmode": "overlay",
             "size": 10,
             "solidity": 0.2
            },
            "type": "scatter"
           }
          ],
          "scatter3d": [
           {
            "line": {
             "colorbar": {
              "outlinewidth": 0,
              "ticks": ""
             }
            },
            "marker": {
             "colorbar": {
              "outlinewidth": 0,
              "ticks": ""
             }
            },
            "type": "scatter3d"
           }
          ],
          "scattercarpet": [
           {
            "marker": {
             "colorbar": {
              "outlinewidth": 0,
              "ticks": ""
             }
            },
            "type": "scattercarpet"
           }
          ],
          "scattergeo": [
           {
            "marker": {
             "colorbar": {
              "outlinewidth": 0,
              "ticks": ""
             }
            },
            "type": "scattergeo"
           }
          ],
          "scattergl": [
           {
            "marker": {
             "colorbar": {
              "outlinewidth": 0,
              "ticks": ""
             }
            },
            "type": "scattergl"
           }
          ],
          "scattermapbox": [
           {
            "marker": {
             "colorbar": {
              "outlinewidth": 0,
              "ticks": ""
             }
            },
            "type": "scattermapbox"
           }
          ],
          "scatterpolar": [
           {
            "marker": {
             "colorbar": {
              "outlinewidth": 0,
              "ticks": ""
             }
            },
            "type": "scatterpolar"
           }
          ],
          "scatterpolargl": [
           {
            "marker": {
             "colorbar": {
              "outlinewidth": 0,
              "ticks": ""
             }
            },
            "type": "scatterpolargl"
           }
          ],
          "scatterternary": [
           {
            "marker": {
             "colorbar": {
              "outlinewidth": 0,
              "ticks": ""
             }
            },
            "type": "scatterternary"
           }
          ],
          "surface": [
           {
            "colorbar": {
             "outlinewidth": 0,
             "ticks": ""
            },
            "colorscale": [
             [
              0,
              "#0d0887"
             ],
             [
              0.1111111111111111,
              "#46039f"
             ],
             [
              0.2222222222222222,
              "#7201a8"
             ],
             [
              0.3333333333333333,
              "#9c179e"
             ],
             [
              0.4444444444444444,
              "#bd3786"
             ],
             [
              0.5555555555555556,
              "#d8576b"
             ],
             [
              0.6666666666666666,
              "#ed7953"
             ],
             [
              0.7777777777777778,
              "#fb9f3a"
             ],
             [
              0.8888888888888888,
              "#fdca26"
             ],
             [
              1,
              "#f0f921"
             ]
            ],
            "type": "surface"
           }
          ],
          "table": [
           {
            "cells": {
             "fill": {
              "color": "#EBF0F8"
             },
             "line": {
              "color": "white"
             }
            },
            "header": {
             "fill": {
              "color": "#C8D4E3"
             },
             "line": {
              "color": "white"
             }
            },
            "type": "table"
           }
          ]
         },
         "layout": {
          "annotationdefaults": {
           "arrowcolor": "#2a3f5f",
           "arrowhead": 0,
           "arrowwidth": 1
          },
          "autotypenumbers": "strict",
          "coloraxis": {
           "colorbar": {
            "outlinewidth": 0,
            "ticks": ""
           }
          },
          "colorscale": {
           "diverging": [
            [
             0,
             "#8e0152"
            ],
            [
             0.1,
             "#c51b7d"
            ],
            [
             0.2,
             "#de77ae"
            ],
            [
             0.3,
             "#f1b6da"
            ],
            [
             0.4,
             "#fde0ef"
            ],
            [
             0.5,
             "#f7f7f7"
            ],
            [
             0.6,
             "#e6f5d0"
            ],
            [
             0.7,
             "#b8e186"
            ],
            [
             0.8,
             "#7fbc41"
            ],
            [
             0.9,
             "#4d9221"
            ],
            [
             1,
             "#276419"
            ]
           ],
           "sequential": [
            [
             0,
             "#0d0887"
            ],
            [
             0.1111111111111111,
             "#46039f"
            ],
            [
             0.2222222222222222,
             "#7201a8"
            ],
            [
             0.3333333333333333,
             "#9c179e"
            ],
            [
             0.4444444444444444,
             "#bd3786"
            ],
            [
             0.5555555555555556,
             "#d8576b"
            ],
            [
             0.6666666666666666,
             "#ed7953"
            ],
            [
             0.7777777777777778,
             "#fb9f3a"
            ],
            [
             0.8888888888888888,
             "#fdca26"
            ],
            [
             1,
             "#f0f921"
            ]
           ],
           "sequentialminus": [
            [
             0,
             "#0d0887"
            ],
            [
             0.1111111111111111,
             "#46039f"
            ],
            [
             0.2222222222222222,
             "#7201a8"
            ],
            [
             0.3333333333333333,
             "#9c179e"
            ],
            [
             0.4444444444444444,
             "#bd3786"
            ],
            [
             0.5555555555555556,
             "#d8576b"
            ],
            [
             0.6666666666666666,
             "#ed7953"
            ],
            [
             0.7777777777777778,
             "#fb9f3a"
            ],
            [
             0.8888888888888888,
             "#fdca26"
            ],
            [
             1,
             "#f0f921"
            ]
           ]
          },
          "colorway": [
           "#636efa",
           "#EF553B",
           "#00cc96",
           "#ab63fa",
           "#FFA15A",
           "#19d3f3",
           "#FF6692",
           "#B6E880",
           "#FF97FF",
           "#FECB52"
          ],
          "font": {
           "color": "#2a3f5f"
          },
          "geo": {
           "bgcolor": "white",
           "lakecolor": "white",
           "landcolor": "#E5ECF6",
           "showlakes": true,
           "showland": true,
           "subunitcolor": "white"
          },
          "hoverlabel": {
           "align": "left"
          },
          "hovermode": "closest",
          "mapbox": {
           "style": "light"
          },
          "paper_bgcolor": "white",
          "plot_bgcolor": "#E5ECF6",
          "polar": {
           "angularaxis": {
            "gridcolor": "white",
            "linecolor": "white",
            "ticks": ""
           },
           "bgcolor": "#E5ECF6",
           "radialaxis": {
            "gridcolor": "white",
            "linecolor": "white",
            "ticks": ""
           }
          },
          "scene": {
           "xaxis": {
            "backgroundcolor": "#E5ECF6",
            "gridcolor": "white",
            "gridwidth": 2,
            "linecolor": "white",
            "showbackground": true,
            "ticks": "",
            "zerolinecolor": "white"
           },
           "yaxis": {
            "backgroundcolor": "#E5ECF6",
            "gridcolor": "white",
            "gridwidth": 2,
            "linecolor": "white",
            "showbackground": true,
            "ticks": "",
            "zerolinecolor": "white"
           },
           "zaxis": {
            "backgroundcolor": "#E5ECF6",
            "gridcolor": "white",
            "gridwidth": 2,
            "linecolor": "white",
            "showbackground": true,
            "ticks": "",
            "zerolinecolor": "white"
           }
          },
          "shapedefaults": {
           "line": {
            "color": "#2a3f5f"
           }
          },
          "ternary": {
           "aaxis": {
            "gridcolor": "white",
            "linecolor": "white",
            "ticks": ""
           },
           "baxis": {
            "gridcolor": "white",
            "linecolor": "white",
            "ticks": ""
           },
           "bgcolor": "#E5ECF6",
           "caxis": {
            "gridcolor": "white",
            "linecolor": "white",
            "ticks": ""
           }
          },
          "title": {
           "x": 0.05
          },
          "xaxis": {
           "automargin": true,
           "gridcolor": "white",
           "linecolor": "white",
           "ticks": "",
           "title": {
            "standoff": 15
           },
           "zerolinecolor": "white",
           "zerolinewidth": 2
          },
          "yaxis": {
           "automargin": true,
           "gridcolor": "white",
           "linecolor": "white",
           "ticks": "",
           "title": {
            "standoff": 15
           },
           "zerolinecolor": "white",
           "zerolinewidth": 2
          }
         }
        },
        "xaxis": {
         "anchor": "y",
         "domain": [
          0,
          0.45
         ]
        },
        "xaxis2": {
         "anchor": "y2",
         "domain": [
          0.55,
          1
         ]
        },
        "yaxis": {
         "anchor": "x",
         "domain": [
          0,
          1
         ]
        },
        "yaxis2": {
         "anchor": "x2",
         "domain": [
          0,
          1
         ]
        }
       }
      },
      "text/html": [
       "<div>                            <div id=\"20f9d371-1038-45d2-b1e2-fe227d7aaaf5\" class=\"plotly-graph-div\" style=\"height:525px; width:100%;\"></div>            <script type=\"text/javascript\">                require([\"plotly\"], function(Plotly) {                    window.PLOTLYENV=window.PLOTLYENV || {};                                    if (document.getElementById(\"20f9d371-1038-45d2-b1e2-fe227d7aaaf5\")) {                    Plotly.newPlot(                        \"20f9d371-1038-45d2-b1e2-fe227d7aaaf5\",                        [{\"marker\":{\"color\":\"LightSeaGreen\",\"size\":15},\"x\":[\"\",\"PC1\",\"PC2\",\"PC3\"],\"y\":[0.0,0.295,0.469,0.608],\"type\":\"scatter\",\"xaxis\":\"x\",\"yaxis\":\"y\"},{\"marker\":{\"color\":\"RoyalBlue\"},\"x\":[\"\",\"PC1\",\"PC2\",\"PC3\"],\"y\":[0.0,0.29547282505683947,0.17396817719274862,0.13937302058038994],\"type\":\"bar\",\"xaxis\":\"x2\",\"yaxis\":\"y2\"}],                        {\"template\":{\"data\":{\"histogram2dcontour\":[{\"type\":\"histogram2dcontour\",\"colorbar\":{\"outlinewidth\":0,\"ticks\":\"\"},\"colorscale\":[[0.0,\"#0d0887\"],[0.1111111111111111,\"#46039f\"],[0.2222222222222222,\"#7201a8\"],[0.3333333333333333,\"#9c179e\"],[0.4444444444444444,\"#bd3786\"],[0.5555555555555556,\"#d8576b\"],[0.6666666666666666,\"#ed7953\"],[0.7777777777777778,\"#fb9f3a\"],[0.8888888888888888,\"#fdca26\"],[1.0,\"#f0f921\"]]}],\"choropleth\":[{\"type\":\"choropleth\",\"colorbar\":{\"outlinewidth\":0,\"ticks\":\"\"}}],\"histogram2d\":[{\"type\":\"histogram2d\",\"colorbar\":{\"outlinewidth\":0,\"ticks\":\"\"},\"colorscale\":[[0.0,\"#0d0887\"],[0.1111111111111111,\"#46039f\"],[0.2222222222222222,\"#7201a8\"],[0.3333333333333333,\"#9c179e\"],[0.4444444444444444,\"#bd3786\"],[0.5555555555555556,\"#d8576b\"],[0.6666666666666666,\"#ed7953\"],[0.7777777777777778,\"#fb9f3a\"],[0.8888888888888888,\"#fdca26\"],[1.0,\"#f0f921\"]]}],\"heatmap\":[{\"type\":\"heatmap\",\"colorbar\":{\"outlinewidth\":0,\"ticks\":\"\"},\"colorscale\":[[0.0,\"#0d0887\"],[0.1111111111111111,\"#46039f\"],[0.2222222222222222,\"#7201a8\"],[0.3333333333333333,\"#9c179e\"],[0.4444444444444444,\"#bd3786\"],[0.5555555555555556,\"#d8576b\"],[0.6666666666666666,\"#ed7953\"],[0.7777777777777778,\"#fb9f3a\"],[0.8888888888888888,\"#fdca26\"],[1.0,\"#f0f921\"]]}],\"heatmapgl\":[{\"type\":\"heatmapgl\",\"colorbar\":{\"outlinewidth\":0,\"ticks\":\"\"},\"colorscale\":[[0.0,\"#0d0887\"],[0.1111111111111111,\"#46039f\"],[0.2222222222222222,\"#7201a8\"],[0.3333333333333333,\"#9c179e\"],[0.4444444444444444,\"#bd3786\"],[0.5555555555555556,\"#d8576b\"],[0.6666666666666666,\"#ed7953\"],[0.7777777777777778,\"#fb9f3a\"],[0.8888888888888888,\"#fdca26\"],[1.0,\"#f0f921\"]]}],\"contourcarpet\":[{\"type\":\"contourcarpet\",\"colorbar\":{\"outlinewidth\":0,\"ticks\":\"\"}}],\"contour\":[{\"type\":\"contour\",\"colorbar\":{\"outlinewidth\":0,\"ticks\":\"\"},\"colorscale\":[[0.0,\"#0d0887\"],[0.1111111111111111,\"#46039f\"],[0.2222222222222222,\"#7201a8\"],[0.3333333333333333,\"#9c179e\"],[0.4444444444444444,\"#bd3786\"],[0.5555555555555556,\"#d8576b\"],[0.6666666666666666,\"#ed7953\"],[0.7777777777777778,\"#fb9f3a\"],[0.8888888888888888,\"#fdca26\"],[1.0,\"#f0f921\"]]}],\"surface\":[{\"type\":\"surface\",\"colorbar\":{\"outlinewidth\":0,\"ticks\":\"\"},\"colorscale\":[[0.0,\"#0d0887\"],[0.1111111111111111,\"#46039f\"],[0.2222222222222222,\"#7201a8\"],[0.3333333333333333,\"#9c179e\"],[0.4444444444444444,\"#bd3786\"],[0.5555555555555556,\"#d8576b\"],[0.6666666666666666,\"#ed7953\"],[0.7777777777777778,\"#fb9f3a\"],[0.8888888888888888,\"#fdca26\"],[1.0,\"#f0f921\"]]}],\"mesh3d\":[{\"type\":\"mesh3d\",\"colorbar\":{\"outlinewidth\":0,\"ticks\":\"\"}}],\"scatter\":[{\"fillpattern\":{\"fillmode\":\"overlay\",\"size\":10,\"solidity\":0.2},\"type\":\"scatter\"}],\"parcoords\":[{\"type\":\"parcoords\",\"line\":{\"colorbar\":{\"outlinewidth\":0,\"ticks\":\"\"}}}],\"scatterpolargl\":[{\"type\":\"scatterpolargl\",\"marker\":{\"colorbar\":{\"outlinewidth\":0,\"ticks\":\"\"}}}],\"bar\":[{\"error_x\":{\"color\":\"#2a3f5f\"},\"error_y\":{\"color\":\"#2a3f5f\"},\"marker\":{\"line\":{\"color\":\"#E5ECF6\",\"width\":0.5},\"pattern\":{\"fillmode\":\"overlay\",\"size\":10,\"solidity\":0.2}},\"type\":\"bar\"}],\"scattergeo\":[{\"type\":\"scattergeo\",\"marker\":{\"colorbar\":{\"outlinewidth\":0,\"ticks\":\"\"}}}],\"scatterpolar\":[{\"type\":\"scatterpolar\",\"marker\":{\"colorbar\":{\"outlinewidth\":0,\"ticks\":\"\"}}}],\"histogram\":[{\"marker\":{\"pattern\":{\"fillmode\":\"overlay\",\"size\":10,\"solidity\":0.2}},\"type\":\"histogram\"}],\"scattergl\":[{\"type\":\"scattergl\",\"marker\":{\"colorbar\":{\"outlinewidth\":0,\"ticks\":\"\"}}}],\"scatter3d\":[{\"type\":\"scatter3d\",\"line\":{\"colorbar\":{\"outlinewidth\":0,\"ticks\":\"\"}},\"marker\":{\"colorbar\":{\"outlinewidth\":0,\"ticks\":\"\"}}}],\"scattermapbox\":[{\"type\":\"scattermapbox\",\"marker\":{\"colorbar\":{\"outlinewidth\":0,\"ticks\":\"\"}}}],\"scatterternary\":[{\"type\":\"scatterternary\",\"marker\":{\"colorbar\":{\"outlinewidth\":0,\"ticks\":\"\"}}}],\"scattercarpet\":[{\"type\":\"scattercarpet\",\"marker\":{\"colorbar\":{\"outlinewidth\":0,\"ticks\":\"\"}}}],\"carpet\":[{\"aaxis\":{\"endlinecolor\":\"#2a3f5f\",\"gridcolor\":\"white\",\"linecolor\":\"white\",\"minorgridcolor\":\"white\",\"startlinecolor\":\"#2a3f5f\"},\"baxis\":{\"endlinecolor\":\"#2a3f5f\",\"gridcolor\":\"white\",\"linecolor\":\"white\",\"minorgridcolor\":\"white\",\"startlinecolor\":\"#2a3f5f\"},\"type\":\"carpet\"}],\"table\":[{\"cells\":{\"fill\":{\"color\":\"#EBF0F8\"},\"line\":{\"color\":\"white\"}},\"header\":{\"fill\":{\"color\":\"#C8D4E3\"},\"line\":{\"color\":\"white\"}},\"type\":\"table\"}],\"barpolar\":[{\"marker\":{\"line\":{\"color\":\"#E5ECF6\",\"width\":0.5},\"pattern\":{\"fillmode\":\"overlay\",\"size\":10,\"solidity\":0.2}},\"type\":\"barpolar\"}],\"pie\":[{\"automargin\":true,\"type\":\"pie\"}]},\"layout\":{\"autotypenumbers\":\"strict\",\"colorway\":[\"#636efa\",\"#EF553B\",\"#00cc96\",\"#ab63fa\",\"#FFA15A\",\"#19d3f3\",\"#FF6692\",\"#B6E880\",\"#FF97FF\",\"#FECB52\"],\"font\":{\"color\":\"#2a3f5f\"},\"hovermode\":\"closest\",\"hoverlabel\":{\"align\":\"left\"},\"paper_bgcolor\":\"white\",\"plot_bgcolor\":\"#E5ECF6\",\"polar\":{\"bgcolor\":\"#E5ECF6\",\"angularaxis\":{\"gridcolor\":\"white\",\"linecolor\":\"white\",\"ticks\":\"\"},\"radialaxis\":{\"gridcolor\":\"white\",\"linecolor\":\"white\",\"ticks\":\"\"}},\"ternary\":{\"bgcolor\":\"#E5ECF6\",\"aaxis\":{\"gridcolor\":\"white\",\"linecolor\":\"white\",\"ticks\":\"\"},\"baxis\":{\"gridcolor\":\"white\",\"linecolor\":\"white\",\"ticks\":\"\"},\"caxis\":{\"gridcolor\":\"white\",\"linecolor\":\"white\",\"ticks\":\"\"}},\"coloraxis\":{\"colorbar\":{\"outlinewidth\":0,\"ticks\":\"\"}},\"colorscale\":{\"sequential\":[[0.0,\"#0d0887\"],[0.1111111111111111,\"#46039f\"],[0.2222222222222222,\"#7201a8\"],[0.3333333333333333,\"#9c179e\"],[0.4444444444444444,\"#bd3786\"],[0.5555555555555556,\"#d8576b\"],[0.6666666666666666,\"#ed7953\"],[0.7777777777777778,\"#fb9f3a\"],[0.8888888888888888,\"#fdca26\"],[1.0,\"#f0f921\"]],\"sequentialminus\":[[0.0,\"#0d0887\"],[0.1111111111111111,\"#46039f\"],[0.2222222222222222,\"#7201a8\"],[0.3333333333333333,\"#9c179e\"],[0.4444444444444444,\"#bd3786\"],[0.5555555555555556,\"#d8576b\"],[0.6666666666666666,\"#ed7953\"],[0.7777777777777778,\"#fb9f3a\"],[0.8888888888888888,\"#fdca26\"],[1.0,\"#f0f921\"]],\"diverging\":[[0,\"#8e0152\"],[0.1,\"#c51b7d\"],[0.2,\"#de77ae\"],[0.3,\"#f1b6da\"],[0.4,\"#fde0ef\"],[0.5,\"#f7f7f7\"],[0.6,\"#e6f5d0\"],[0.7,\"#b8e186\"],[0.8,\"#7fbc41\"],[0.9,\"#4d9221\"],[1,\"#276419\"]]},\"xaxis\":{\"gridcolor\":\"white\",\"linecolor\":\"white\",\"ticks\":\"\",\"title\":{\"standoff\":15},\"zerolinecolor\":\"white\",\"automargin\":true,\"zerolinewidth\":2},\"yaxis\":{\"gridcolor\":\"white\",\"linecolor\":\"white\",\"ticks\":\"\",\"title\":{\"standoff\":15},\"zerolinecolor\":\"white\",\"automargin\":true,\"zerolinewidth\":2},\"scene\":{\"xaxis\":{\"backgroundcolor\":\"#E5ECF6\",\"gridcolor\":\"white\",\"linecolor\":\"white\",\"showbackground\":true,\"ticks\":\"\",\"zerolinecolor\":\"white\",\"gridwidth\":2},\"yaxis\":{\"backgroundcolor\":\"#E5ECF6\",\"gridcolor\":\"white\",\"linecolor\":\"white\",\"showbackground\":true,\"ticks\":\"\",\"zerolinecolor\":\"white\",\"gridwidth\":2},\"zaxis\":{\"backgroundcolor\":\"#E5ECF6\",\"gridcolor\":\"white\",\"linecolor\":\"white\",\"showbackground\":true,\"ticks\":\"\",\"zerolinecolor\":\"white\",\"gridwidth\":2}},\"shapedefaults\":{\"line\":{\"color\":\"#2a3f5f\"}},\"annotationdefaults\":{\"arrowcolor\":\"#2a3f5f\",\"arrowhead\":0,\"arrowwidth\":1},\"geo\":{\"bgcolor\":\"white\",\"landcolor\":\"#E5ECF6\",\"subunitcolor\":\"white\",\"showland\":true,\"showlakes\":true,\"lakecolor\":\"white\"},\"title\":{\"x\":0.05},\"mapbox\":{\"style\":\"light\"}}},\"xaxis\":{\"anchor\":\"y\",\"domain\":[0.0,0.45]},\"yaxis\":{\"anchor\":\"x\",\"domain\":[0.0,1.0]},\"xaxis2\":{\"anchor\":\"y2\",\"domain\":[0.55,1.0]},\"yaxis2\":{\"anchor\":\"x2\",\"domain\":[0.0,1.0]}},                        {\"responsive\": true}                    ).then(function(){\n",
       "                            \n",
       "var gd = document.getElementById('20f9d371-1038-45d2-b1e2-fe227d7aaaf5');\n",
       "var x = new MutationObserver(function (mutations, observer) {{\n",
       "        var display = window.getComputedStyle(gd).display;\n",
       "        if (!display || display === 'none') {{\n",
       "            console.log([gd, 'removed!']);\n",
       "            Plotly.purge(gd);\n",
       "            observer.disconnect();\n",
       "        }}\n",
       "}});\n",
       "\n",
       "// Listen for the removal of the full notebook cells\n",
       "var notebookContainer = gd.closest('#notebook-container');\n",
       "if (notebookContainer) {{\n",
       "    x.observe(notebookContainer, {childList: true});\n",
       "}}\n",
       "\n",
       "// Listen for the clearing of the current output cell\n",
       "var outputEl = gd.closest('.output');\n",
       "if (outputEl) {{\n",
       "    x.observe(outputEl, {childList: true});\n",
       "}}\n",
       "\n",
       "                        })                };                });            </script>        </div>"
      ]
     },
     "metadata": {},
     "output_type": "display_data"
    }
   ],
   "source": [
    "# Explained variance + cumulative variance (Separate Plot)\n",
    "\n",
    "from plotly.subplots import make_subplots\n",
    "import plotly.graph_objects as go\n",
    "\n",
    "fig = make_subplots(rows=1, cols=2)\n",
    "\n",
    "fig.add_trace(\n",
    "    go.Scatter(\n",
    "        x=df_explained_variance['PC'],\n",
    "        y=df_explained_variance['Cumulative Variance'],\n",
    "        marker=dict(size=15, color='LightSeaGreen')\n",
    "    ), row=1, col=1\n",
    ")\n",
    "\n",
    "fig.add_trace(\n",
    "    go.Bar(\n",
    "        x=df_explained_variance['PC'],\n",
    "        y=df_explained_variance['Explained Variance'],\n",
    "        marker=dict(color='RoyalBlue')\n",
    "    ), row=1, col=2\n",
    ")\n",
    "\n",
    "fig.show()"
   ]
  },
  {
   "cell_type": "code",
   "execution_count": 60,
   "id": "10d33274",
   "metadata": {},
   "outputs": [
    {
     "data": {
      "application/vnd.plotly.v1+json": {
       "config": {
        "plotlyServerURL": "https://plot.ly"
       },
       "data": [
        {
         "hovertemplate": "Sensor=AntiHCV Eletrodo 1<br>PC1=%{x}<br>PC2=%{y}<br>PC3=%{z}<extra></extra>",
         "legendgroup": "AntiHCV Eletrodo 1",
         "marker": {
          "color": "#636efa",
          "symbol": "circle"
         },
         "mode": "markers",
         "name": "AntiHCV Eletrodo 1",
         "scene": "scene",
         "showlegend": true,
         "type": "scatter3d",
         "x": [
          -3.808687857062353,
          -3.3440271981993943,
          -3.3249710158159775,
          3.2777612060788024,
          -1.0815946162441148,
          -1.1332083322705684,
          -1.033275195279308,
          -0.9254393312103214,
          -0.8186048688471609,
          -0.7294204418486747,
          -0.6497415474895214,
          -0.5788420763455246,
          -0.5147328581999796,
          -0.45135552157513326,
          -0.38679146100680883,
          -0.31812545343697646,
          -0.24201709572428767,
          -0.15592294694559192,
          -0.05795383399903334,
          0.053047876656058104,
          0.1743345474100047,
          0.3018811806242972,
          0.42961765150093933,
          0.5500247927434447,
          0.6590623228421727,
          0.7536359772607589,
          0.8322504466522935,
          0.8941395369530657,
          0.9397362474956246,
          0.973213504716096,
          0.9982286979195293,
          1.0177089605867071,
          1.0372829053766248,
          1.0565659396132099,
          1.0810239091789506,
          1.106866538122188,
          1.1410931514796185,
          1.183724480295821,
          1.2322424521120838,
          1.288875962905105,
          1.3538025429626848,
          1.4260708316565918,
          1.506097318605804,
          1.5935245494521348,
          1.687907730970263,
          1.789716802497423,
          1.899954281831548,
          2.0178995510647564,
          2.1453598560203653,
          2.2848890537551596,
          2.4381580227233686,
          2.607967104502654,
          2.7982514121153446,
          3.0096411681722666,
          3.243909559992182,
          3.503221423891956,
          3.784469594568708,
          4.0873267862090765,
          4.4088923977566745,
          4.736240309612904,
          5.079232390642268,
          -3.39974785249811,
          -2.9379531345163308,
          -2.9259051539137757,
          3.039251616252767,
          -0.6923876975979231,
          -0.7279200462388418,
          -0.6284993157796462,
          -0.5182922758515095,
          -0.41183540217146697,
          -0.32043013514231394,
          -0.24094507794328235,
          -0.1698186100546151,
          -0.10448775350628524,
          -0.04029022833355349,
          0.025367879829478843,
          0.09532596434825485,
          0.1724182541140176,
          0.25986017779777415,
          0.3588137870756804,
          0.4701998819618694,
          0.5913944865450308,
          0.7175242216066078,
          0.8418153486960975,
          0.9592031318190349,
          1.0643029700556619,
          1.15571153929298,
          1.229398097747246,
          1.2879221412737112,
          1.332209016047087,
          1.3636101519159627,
          1.3879889781837473,
          1.4064203200380045,
          1.4254018752089352,
          1.4437709367540374,
          1.467006693079081,
          1.4964818839750496,
          1.5310355569393097,
          1.5735944003148934,
          1.6224738804898522,
          1.6795260292482477,
          1.7436797062018725,
          1.8158318265760882,
          1.895381359304933,
          1.9821933661974982,
          2.0756579432090363,
          2.176775751820669,
          2.285243282022722,
          2.402071717668624,
          2.5285452593567452,
          2.665645971161034,
          2.815508352552279,
          2.979746605725176,
          3.1615427322949303,
          3.363115978246178,
          3.5865296583336197,
          3.830346495961815,
          4.097893318337172,
          4.385114263612382,
          4.689141423887319,
          5.003439038522389,
          5.342861930683268
         ],
         "y": [
          5.775256862365273,
          4.38510104651255,
          3.1502943388504443,
          4.92066327154965,
          2.335555647506829,
          1.7052158915817297,
          1.266679819245105,
          0.9317759194904498,
          0.6707897350703786,
          0.46878468306837057,
          0.30984709001195476,
          0.18723686929922695,
          0.0939730006904557,
          0.028610736903842336,
          -0.012819171352123125,
          -0.03336369142224489,
          -0.03523702996657657,
          -0.02128375229970987,
          0.004731935011300313,
          0.0413147925324227,
          0.08338325885857091,
          0.12746871443813176,
          0.16917797194289694,
          0.20411461939481507,
          0.23085937862855987,
          0.24827828035419355,
          0.2569712589713687,
          0.2585610951868438,
          0.2536260700364137,
          0.24565639813831205,
          0.23554518332569432,
          0.2251411682946218,
          0.2169020832323358,
          0.21124158485546943,
          0.20972039081069052,
          0.21248741319107292,
          0.22030660724213139,
          0.23491087997788956,
          0.2533744556612959,
          0.27645556811973154,
          0.30348404319369987,
          0.33326896374526993,
          0.36587508181395423,
          0.40069609920013055,
          0.4372388105839349,
          0.4756403712521981,
          0.5162613692891015,
          0.5588265395602873,
          0.6038582017413046,
          0.6522625471986541,
          0.7044446858155997,
          0.7612623052838011,
          0.8236432649419032,
          0.8916629187107743,
          0.9648752141758916,
          1.0434322224969637,
          1.1262354202913003,
          1.2114746471312117,
          1.2973300447288478,
          1.3770552209614866,
          1.4550765241097374,
          6.537611526856529,
          5.145472085837781,
          3.908376970260581,
          5.4122277469517694,
          3.088705227260912,
          2.4658855853460047,
          2.026576627634274,
          1.693118010377475,
          1.4316669425986528,
          1.2315099510798755,
          1.0723906970520538,
          0.950007459275505,
          0.8580127777493598,
          0.7934674306854609,
          0.7530130042040052,
          0.733414240068113,
          0.7319971205044438,
          0.7465084474454616,
          0.7726330675073886,
          0.8088781516449436,
          0.8502758248334291,
          0.8930022668184188,
          0.9323389310259087,
          0.9654214680929046,
          0.9896534460668922,
          1.005281213407242,
          1.0120172091118504,
          1.0120514942531944,
          1.007302974105483,
          0.9983923534600836,
          0.9884935275734009,
          0.9777556966146252,
          0.9696964086130201,
          0.963911809517584,
          0.9640312351280879,
          0.9666044664577577,
          0.9750782287703599,
          0.9897920585413083,
          1.0087502831265804,
          1.032153096214629,
          1.0588900174233864,
          1.0887412693753973,
          1.1212092953574626,
          1.1557244429192162,
          1.191934214794141,
          1.229973081320817,
          1.2697886643450367,
          1.3117262901544136,
          1.356107672488528,
          1.4031630751219295,
          1.4535715653348018,
          1.5076445066573727,
          1.5663675649340556,
          1.6298425715346212,
          1.698519632941621,
          1.7707454135453011,
          1.8479313137273803,
          1.926725238893283,
          2.0057512402678537,
          2.0807847932957166,
          2.1575564499900364
         ],
         "z": [
          1.1154325143004695,
          0.764685983799187,
          0.4413807423291167,
          0.8722690755288001,
          0.19633715522494322,
          0.015942816759950757,
          -0.11549624695370686,
          -0.21786904161304035,
          -0.30191502387044616,
          -0.3688656318073158,
          -0.4250329158163838,
          -0.4723607915391299,
          -0.5129080419828731,
          -0.5487620154874252,
          -0.5809804158626621,
          -0.6103785309306401,
          -0.637431092692345,
          -0.6623753795952155,
          -0.6857567855089722,
          -0.7082759917915672,
          -0.7319575819510595,
          -0.7591981250017503,
          -0.7930562791367332,
          -0.8355550342620842,
          -0.8858849920935129,
          -0.942540571842287,
          -1.0013292028445302,
          -1.056452028085314,
          -1.1054982101311175,
          -1.1456624926653058,
          -1.1785851828374956,
          -1.204510000439713,
          -1.2258746244962948,
          -1.2428962078971115,
          -1.2590345663676958,
          -1.2720835434296094,
          -1.2866111309954875,
          -1.3013377111299935,
          -1.3163551767975699,
          -1.3321827889468283,
          -1.3487915761077303,
          -1.3659580256879655,
          -1.3833991458991057,
          -1.4008579507709022,
          -1.4182052941245618,
          -1.4350215437787774,
          -1.4506044480041815,
          -1.4642812088606274,
          -1.4750223944102556,
          -1.4825070609001805,
          -1.4865893532117112,
          -1.4855907337340133,
          -1.4792159844301815,
          -1.467518486753215,
          -1.4503480631917505,
          -1.4260686331310577,
          -1.397251934202386,
          -1.3619109051541203,
          -1.3166127519238113,
          -1.2557795289042153,
          -1.1851076555784794,
          -0.3376522922699051,
          -0.6881090998164239,
          -1.0125907696861645,
          -0.6492409223157949,
          -1.2584577691955043,
          -1.4374963555679763,
          -1.568719069481613,
          -1.6710786362629353,
          -1.7550135808368554,
          -1.8221828684978092,
          -1.8783024088928644,
          -1.9256452979539946,
          -1.9663438423514201,
          -2.0022989795695025,
          -2.034629790539171,
          -2.064123676407256,
          -2.0911876581892237,
          -2.1161515079829214,
          -2.139589300217827,
          -2.162313024004834,
          -2.186542047137146,
          -2.2145743057826572,
          -2.24943754371719,
          -2.292543514512004,
          -2.3438453230337184,
          -2.4005954013828448,
          -2.4575934639894683,
          -2.5115091257546855,
          -2.558120340668904,
          -2.596961819444566,
          -2.6282091741420763,
          -2.6529218616126586,
          -2.6730896053098214,
          -2.6891572876002443,
          -2.702893932498464,
          -2.718480485661444,
          -2.732730199806333,
          -2.7473418043712035,
          -2.7622985838320537,
          -2.778149864304777,
          -2.7945485333883653,
          -2.81173250980648,
          -2.8290730827851274,
          -2.8465589481616207,
          -2.8637728027091467,
          -2.880401164374874,
          -2.8957407924254848,
          -2.9095384506495363,
          -2.920968656170189,
          -2.9294510088736527,
          -2.932911789573145,
          -2.9324919242457277,
          -2.9267013662015153,
          -2.914563880786688,
          -2.8962860041994842,
          -2.8712434015931323,
          -2.8370613986530175,
          -2.7961057524589563,
          -2.7417113938030235,
          -2.6704542921099432,
          -2.5826312915948706
         ]
        },
        {
         "hovertemplate": "Sensor=Lignina<br>PC1=%{x}<br>PC2=%{y}<br>PC3=%{z}<extra></extra>",
         "legendgroup": "Lignina",
         "marker": {
          "color": "#EF553B",
          "symbol": "circle"
         },
         "mode": "markers",
         "name": "Lignina",
         "scene": "scene",
         "showlegend": true,
         "type": "scatter3d",
         "x": [
          -3.8194238868555592,
          -3.586886312266612,
          -4.942409393830978,
          -0.6691422953851077,
          -1.2452464919527733,
          -1.1861521110497268,
          -1.088768600836088,
          -0.9771891224060224,
          -0.8662977664673374,
          -0.7729221985280352,
          -0.6906758522321301,
          -0.6179767131369649,
          -0.5630076756755084,
          -0.49510095318749947,
          -0.426667057746565,
          -0.35564847037290587,
          -0.2747939905862629,
          -0.18832876505848867,
          -0.09659286520136619,
          -0.0035578484373287233,
          0.08381299906438441,
          0.16092968201551242,
          0.22416450921140466,
          0.27131473707346293,
          0.3062083363765887,
          0.33056350563142295,
          0.35067094934109155,
          0.3686895407060582,
          0.3901120524385292,
          0.41501840088619724,
          0.4455259176450679,
          0.47742331738004723,
          0.5087710177024497,
          0.5344898900255308,
          0.5524470319690278,
          0.5669751495730682,
          0.5732589619612787,
          0.5758750559100548,
          0.5768371949367898,
          0.5778041646869283,
          0.5802178487176876,
          0.5857305012378656,
          0.5954125007196244,
          0.6111106191698987,
          0.631734878788738,
          0.6597395839608018,
          0.6945425938864477,
          0.7363708124793584,
          0.7858493792549547,
          0.8439018287442354,
          0.9126117125981998,
          0.9934767774246901,
          1.084867651206812,
          1.1950781958876886,
          1.3227007303249292,
          1.4709923429080667,
          1.6475091191641915,
          1.8598907977491592,
          2.113413692179585,
          2.4130363681017357,
          2.7689669862564172,
          -3.821279201969123,
          -3.592963319495807,
          -4.94761068996089,
          -0.5852882534407126,
          -1.230449590130144,
          -1.1955626344978023,
          -1.0919111579113978,
          -0.9852179131904946,
          -0.8711337717961112,
          -0.7798371318339239,
          -0.6967464963997744,
          -0.6253702975477616,
          -0.569222733257943,
          -0.5008606806739169,
          -0.43202377261650776,
          -0.36074482396301805,
          -0.27920163167379114,
          -0.1917618690438742,
          -0.09927562760524626,
          -0.005808676616497456,
          0.08185408225605066,
          0.16044198708091495,
          0.22293594706588066,
          0.2706201392223104,
          0.3066418240393977,
          0.3318218373662596,
          0.3518359082690699,
          0.3701122001950526,
          0.3917070951908067,
          0.4167321395848928,
          0.4469288795721193,
          0.48171425989699235,
          0.5119904396394447,
          0.5389645305457601,
          0.5571469010155372,
          0.5722797197527,
          0.5795036242016999,
          0.5830754274948685,
          0.5850556017567545,
          0.5870406661261848,
          0.5905391847137347,
          0.5968321596350731,
          0.6071687640894612,
          0.6228151911965424,
          0.6441124613359164,
          0.6717316798525088,
          0.70608503223294,
          0.7478650734677788,
          0.7978213750471249,
          0.8555348754335551,
          0.9228990974870699,
          1.0020648631676894,
          1.093229074695776,
          1.1984048498001394,
          1.3219014429111586,
          1.4672513211303868,
          1.6388912284196253,
          1.8441385152857546,
          2.078387139883463,
          2.3718665710743134,
          2.712610304079886
         ],
         "y": [
          6.068712083632862,
          4.5441274577624915,
          3.533651297994732,
          2.4452512722908244,
          1.8605616775778542,
          1.3868636881344842,
          1.0074157099863021,
          0.7164161119113565,
          0.49062569639633136,
          0.3199959968286068,
          0.18817906913589372,
          0.08939410223315636,
          0.00956153240290456,
          -0.03659092649000835,
          -0.06333609090757886,
          -0.07417072519059793,
          -0.06826116410959882,
          -0.051220783856322,
          -0.02626293407712835,
          0.004092575315702395,
          0.03431346600291396,
          0.06152164897066359,
          0.08318849442076466,
          0.09743489238865276,
          0.10557112767296833,
          0.10761252408272691,
          0.10600476368987037,
          0.10090303230421564,
          0.09442919271475585,
          0.0863693252604017,
          0.07788356424704174,
          0.06798023838977049,
          0.05646017257691582,
          0.04241790715177734,
          0.0253038569057978,
          0.007857463022714412,
          -0.01298932346022372,
          -0.03478737256510765,
          -0.05669576089182085,
          -0.07818470421725973,
          -0.09779318696578936,
          -0.11456123562243711,
          -0.1267478033867158,
          -0.13315768456122828,
          -0.13491473170074494,
          -0.1304747973563412,
          -0.12081508558441023,
          -0.10724736377732355,
          -0.09039437507836562,
          -0.07065465711050854,
          -0.04843287362722398,
          -0.02402844975749589,
          -0.00011894044971381272,
          0.02636722017549574,
          0.053353079663787904,
          0.0804458094306366,
          0.1097007165101016,
          0.1429545159996162,
          0.17937449946283035,
          0.21635648650481643,
          0.26001183541387174,
          6.050964391735278,
          4.518565598841022,
          3.506210397524366,
          2.4210045780306415,
          1.8395199937664861,
          1.3611883901471575,
          0.98465954108747,
          0.6914065840275267,
          0.4676848965083938,
          0.2958105929026716,
          0.16461626594633808,
          0.06488925263119627,
          -0.014104142991004135,
          -0.060001900215282684,
          -0.08658352643867748,
          -0.09738284795210062,
          -0.09119823825908625,
          -0.07373208143648885,
          -0.048495661035859776,
          -0.018001432685868284,
          0.012277946481282408,
          0.0402172043021419,
          0.06146507360466823,
          0.07600121228414393,
          0.08471723248493658,
          0.08722053095903116,
          0.08559420026092622,
          0.08070273004011479,
          0.07443001447034285,
          0.06634093702410009,
          0.057724254261902946,
          0.04937070707257352,
          0.037018530732462154,
          0.02348626409296719,
          0.0068659002409057375,
          -0.010416406718263643,
          -0.0309030024010068,
          -0.05213373031592542,
          -0.07340538690774359,
          -0.09388695456406158,
          -0.11271480399509506,
          -0.12873268744465102,
          -0.14045748162164504,
          -0.14719867161040945,
          -0.1487194136810445,
          -0.14491950633123366,
          -0.13608264869112094,
          -0.12317496888395209,
          -0.10641196971980127,
          -0.08740802421204887,
          -0.06656200692331897,
          -0.04371929810129213,
          -0.019257874294912894,
          0.004622422148933345,
          0.03021449566785036,
          0.056638508032431985,
          0.08495668155741425,
          0.11506354262564907,
          0.1432200109980091,
          0.1809936558274817,
          0.21962820502359154
         ],
         "z": [
          1.2172473807046957,
          1.0320075896905245,
          1.0858053701080574,
          0.2747252876858128,
          0.23878767458578662,
          0.12355384210428647,
          0.02257814073541501,
          -0.06442189162313472,
          -0.13942179342940308,
          -0.19922501541586807,
          -0.24843803716115628,
          -0.2885279759613513,
          -0.3194851687578455,
          -0.3469286414676872,
          -0.3690465322657317,
          -0.3863896454542371,
          -0.3992649725855229,
          -0.40773548938331267,
          -0.4124965569043554,
          -0.4140665740704655,
          -0.4143716907634015,
          -0.4146311222598664,
          -0.4163928999102905,
          -0.4210810448470665,
          -0.4295784702388314,
          -0.44298281598684375,
          -0.46233512843559277,
          -0.4889913938669403,
          -0.5235760493079716,
          -0.566141343460832,
          -0.6152538452147022,
          -0.667354725718285,
          -0.7193052668165344,
          -0.7660454388435726,
          -0.8051412203614547,
          -0.8360850348474153,
          -0.8584564482723199,
          -0.8732192643260077,
          -0.8818890081442267,
          -0.8860045574639109,
          -0.886449346891457,
          -0.8843427749520058,
          -0.8802138590675542,
          -0.8753309885445286,
          -0.8685866271095913,
          -0.8602402558665851,
          -0.8490792904770914,
          -0.8337023464546413,
          -0.8125854793753401,
          -0.7839633055616684,
          -0.7448706419561728,
          -0.692614996481592,
          -0.6232392798313207,
          -0.5336180885580446,
          -0.4172411260548785,
          -0.27082806210076615,
          -0.08182544976373263,
          0.1521548919207987,
          0.4450916512679055,
          0.8137574045445983,
          1.2482371406264021,
          1.2662264277191648,
          1.0850786744366347,
          1.1387354131204632,
          0.31523398325202784,
          0.2888641827444372,
          0.17791573692066395,
          0.07556761284483393,
          -0.010404739106963032,
          -0.08616299908124503,
          -0.14541021225030007,
          -0.19481850397119133,
          -0.23454690116597923,
          -0.2656486621546741,
          -0.2930367320542193,
          -0.3150604897831,
          -0.3322792963788514,
          -0.34501192827337934,
          -0.35331230682163395,
          -0.3578979622344983,
          -0.3593880299013423,
          -0.35950858114201073,
          -0.3595714068948034,
          -0.36135654794858896,
          -0.36600911461799523,
          -0.37432084048645275,
          -0.3877202709849479,
          -0.40698949236245274,
          -0.4335842577538402,
          -0.46808538897797797,
          -0.5111303703730645,
          -0.5605986440501766,
          -0.6129687946568024,
          -0.6659900723240213,
          -0.7137242417136374,
          -0.7529990951088245,
          -0.7850341180003294,
          -0.8085369151127217,
          -0.824229131539752,
          -0.8339313848368999,
          -0.8388120529786586,
          -0.8401153219618464,
          -0.838758584161484,
          -0.8354932809268922,
          -0.8306529090441795,
          -0.8245235176736272,
          -0.8163744858986098,
          -0.8056247289414079,
          -0.7909566957190044,
          -0.7707839352785291,
          -0.7428556555739793,
          -0.7049511420817489,
          -0.654322504431036,
          -0.5880657567754575,
          -0.5005493341534704,
          -0.3909436554131287,
          -0.24815444463425057,
          -0.0663932191417504,
          0.16156026426954917,
          0.4432403800172669,
          0.7942172648885639,
          1.2142350020909836
         ]
        },
        {
         "hovertemplate": "Sensor=Eletrodo 1<br>PC1=%{x}<br>PC2=%{y}<br>PC3=%{z}<extra></extra>",
         "legendgroup": "Eletrodo 1",
         "marker": {
          "color": "#00cc96",
          "symbol": "circle"
         },
         "mode": "markers",
         "name": "Eletrodo 1",
         "scene": "scene",
         "showlegend": true,
         "type": "scatter3d",
         "x": [
          -3.4003113388037143,
          -3.1607580533252926,
          -2.753015986029979,
          -2.3967703235837914,
          -2.103510759774863,
          -1.8603927087459817,
          -1.6590075337260346,
          -1.493525788474327,
          -1.351298980146863,
          -1.2320671485824433,
          -1.1289268880053327,
          -1.0389867044103878,
          -0.9626084410611336,
          -0.8975146723183917,
          -0.8447687498192693,
          -0.8032673745502206,
          -0.7728353415663367,
          -0.7538018383050538,
          -0.7447101490375909,
          -0.7448883504227282,
          -0.7526662290858379,
          -0.7652624866590046,
          -0.782762044757194,
          -0.8025102380054125,
          -0.8210724151924528,
          -0.8378217153887291,
          -0.8515190747699997,
          -0.8592637632355411,
          -0.862033766442981,
          -0.8580801873882823,
          -0.8455982199302502,
          -0.8300467888888101,
          -0.8046493873834406,
          -0.7785872975549655,
          -0.739214194409618,
          -0.7121984345301916,
          -0.676289046185647,
          -0.632800182660414,
          -0.5862687991010026,
          -0.5348784475990643,
          -0.4789515712712184,
          -0.41754756226367,
          -0.3486281106440335,
          -0.2683888651900994,
          -0.177298820939355,
          -0.07021503605390905,
          0.056874371284689425,
          0.20899154464143282,
          0.39095979966472705,
          0.6082874645325899,
          0.867674686602323,
          1.1773538765467293,
          1.5396207344674901,
          1.9631136063951484,
          2.4767768719561642,
          3.118967581894295,
          3.9459010646201707,
          5.066199135226611,
          6.613331799798866,
          8.784665598047129,
          12.07474463553623,
          -3.2004465523516186,
          -3.1304554772717696,
          -2.729290459469757,
          -2.375249641517819,
          -2.082882206568122,
          -1.839339005255121,
          -1.6399339187686042,
          -1.4757667980750058,
          -1.3340529329548485,
          -1.2158186483943187,
          -1.1132964932039402,
          -1.025167548099985,
          -0.9499006393537704,
          -0.8849487652639177,
          -0.831486811120126,
          -0.7888850849488823,
          -0.7572540399267846,
          -0.7358517927635907,
          -0.7243343465884821,
          -0.7216100796141117,
          -0.7264562428192346,
          -0.7368583291977239,
          -0.7502509807769077,
          -0.7668934063844645,
          -0.7830278796181996,
          -0.7969373408399758,
          -0.8080190969818107,
          -0.8134909766852602,
          -0.8138833664517191,
          -0.8086119735504191,
          -0.7960011908176774,
          -0.7788964098145652,
          -0.7599123137546577,
          -0.7301958983224229,
          -0.6981431274374651,
          -0.6667306322054422,
          -0.6307537773949584,
          -0.5895159804796621,
          -0.5443592507534268,
          -0.495476048342757,
          -0.4418988593670222,
          -0.3829340937507268,
          -0.3167096352349637,
          -0.23947467488543,
          -0.15174082025062127,
          -0.049236623690655124,
          0.07241104219405702,
          0.2181774165584588,
          0.3919423175517851,
          0.5988535354389734,
          0.8488051856320324,
          1.1492538496075768,
          1.4970976584469509,
          1.9165261514775755,
          2.4242382313259356,
          3.0597667550411183,
          3.878396276019748,
          4.9740556781503455,
          6.4860732072907075,
          8.689769687848242,
          11.839931804546449,
          -3.193176343207121,
          -3.1366848275410946,
          -2.7361915386746456,
          -2.3837649130006398,
          -2.0887109755193976,
          -1.8455854765032262,
          -1.643583169906953,
          -1.4782308207944581,
          -1.3352675154976605,
          -1.2161104415065973,
          -1.1122469771931986,
          -1.0243617406237417,
          -0.9493356395146885,
          -0.8860640941959215,
          -0.8342269152977756,
          -0.7939834753945163,
          -0.7645313911960068,
          -0.7463599253003035,
          -0.7374031814537758,
          -0.7373431219930209,
          -0.7440198677033607,
          -0.756152179448075,
          -0.7720254589098675,
          -0.7886905225806136,
          -0.8055540120731913,
          -0.8195627277635578,
          -0.8297382561875645,
          -0.8346186092732011,
          -0.8348730829454338,
          -0.8283757365693255,
          -0.815600565068917,
          -0.7982802894186537,
          -0.7751936283171732,
          -0.7453756782739769,
          -0.7174403263565876,
          -0.6812248361025284,
          -0.6459097162005564,
          -0.6038735924647515,
          -0.557868937183011,
          -0.508754081656926,
          -0.45428226244164543,
          -0.39453742873147035,
          -0.32657043339002023,
          -0.2513447036590544,
          -0.16253210712795446,
          -0.05950056530913534,
          0.06283606447871369,
          0.20919629330848097,
          0.3836133442839999,
          0.5924460163019478,
          0.8418506431016488,
          1.140992812438575,
          1.49426912046367,
          1.9117770085677748,
          2.419502129340133,
          3.048113470910653,
          3.860801860276418,
          4.953507996061099,
          6.462572785679561,
          8.625283576154128,
          11.779592956460553,
          -3.4630039459912494,
          -3.2518559106764293,
          -2.8452890694789748,
          -2.4894740198535046,
          -2.1954355687810976,
          -1.9540698099890546,
          -1.754309554891321,
          -1.5909466784876811,
          -1.4501953963968344,
          -1.3323419889671726,
          -1.230264214643565,
          -1.1429038853997082,
          -1.0677197434125565,
          -1.003922391237603,
          -0.9515130325470553,
          -0.9104098887155716,
          -0.8802304050298735,
          -0.8614107308375514,
          -0.8524083281039859,
          -0.852693421272741,
          -0.8603544928974782,
          -0.8736495592318979,
          -0.8902288131915873,
          -0.9089171267626734,
          -0.9265051257861756,
          -0.942345899096405,
          -0.9545874541938054,
          -0.9592215500721344,
          -0.9589876298568475,
          -0.9521598186542108,
          -0.9393056173772149,
          -0.9214237130943475,
          -0.895607973372589,
          -0.8683937850145212,
          -0.8295335231893569,
          -0.8006998327450795,
          -0.7629624291866249,
          -0.7189573574718773,
          -0.6720535715013746,
          -0.6208142081959339,
          -0.564564364124657,
          -0.5027462588908524,
          -0.43390962940827643,
          -0.3534691848815044,
          -0.2617450576114,
          -0.15525476949153036,
          -0.027552932721440472,
          0.1232576955154097,
          0.30411691652399253,
          0.5189827126931809,
          0.7777285618871214,
          1.0777165043245915,
          1.439474900312579,
          1.8645647175852587,
          2.3763422546755204,
          3.008479477955124,
          3.824344236191502,
          4.927924922903727,
          6.469727677733224,
          8.656588712078062,
          11.843188844407893
         ],
         "y": [
          5.433131274428405,
          3.9380448323169457,
          2.8368804200628577,
          1.9876547251755892,
          1.3257091236066558,
          0.814801281152789,
          0.4237983624835218,
          0.12593769713343328,
          -0.10022801423874235,
          -0.2614857062109528,
          -0.3793234122554392,
          -0.4603688524329258,
          -0.5193874740831135,
          -0.56297434841031,
          -0.601074038797758,
          -0.6379898127826449,
          -0.677538797440819,
          -0.7236908421351448,
          -0.7773979443497915,
          -0.8378869951061556,
          -0.9047887179392076,
          -0.9743138953949353,
          -1.0478676101122102,
          -1.1209896718575143,
          -1.1879954749781287,
          -1.2476353652047756,
          -1.2981860483149437,
          -1.3341104577183405,
          -1.3575407164182025,
          -1.3648793052316914,
          -1.3533339555156012,
          -1.335284413478753,
          -1.2956434119237847,
          -1.2560835947355353,
          -1.1909836292708695,
          -1.1520842772402913,
          -1.099019529255081,
          -1.034452603817155,
          -0.9694368667508052,
          -0.9018562173966709,
          -0.834578179954299,
          -0.7683589275071785,
          -0.702212092670633,
          -0.633504723431516,
          -0.5665203394877817,
          -0.4987627802527579,
          -0.4287879243261437,
          -0.3557734970961874,
          -0.2768654429411032,
          -0.18971232474062108,
          -0.09053669099833632,
          0.024649114777799054,
          0.16099486705330157,
          0.3246146971675678,
          0.5319413292504712,
          0.799891759736115,
          1.1612369789025925,
          1.6684516693236937,
          2.3825925630666753,
          3.3986747890120568,
          4.953973534151441,
          5.521793460552797,
          3.9745016994555202,
          2.875282270057179,
          2.026539775975413,
          1.3650283298344508,
          0.8559653830642175,
          0.46140622856487207,
          0.1609336666678948,
          -0.06654654832128591,
          -0.2303322202670655,
          -0.35000310210330726,
          -0.43539928387055854,
          -0.497261264837071,
          -0.5417825778687309,
          -0.5790702904278192,
          -0.6144643988341826,
          -0.6523651462946488,
          -0.694388331600622,
          -0.7438247797301544,
          -0.7988548754573707,
          -0.8602347608782069,
          -0.9252302171586898,
          -0.9903955176568169,
          -1.0573306557198305,
          -1.1190382027448402,
          -1.17312099556693,
          -1.2183102311373917,
          -1.2494010202621848,
          -1.2679947668502618,
          -1.2734978629871039,
          -1.2623676350138233,
          -1.2412593117797532,
          -1.2172789668348074,
          -1.171466042942965,
          -1.1213720173266153,
          -1.0758471359587094,
          -1.0243479522238836,
          -0.9659363983290554,
          -0.9050922779212653,
          -0.8436741800445965,
          -0.7822452839710203,
          -0.720545496791616,
          -0.6596838032616751,
          -0.5958223775116392,
          -0.533170018825186,
          -0.4695279073412341,
          -0.4033927687386708,
          -0.3341722599571161,
          -0.2591765054817506,
          -0.1763543836129096,
          -0.08151296540621954,
          0.03010899228567777,
          0.1610048482696557,
          0.3214919192712065,
          0.5237037694687732,
          0.78825009331215,
          1.1455982564859206,
          1.6387503579527232,
          2.33259248788691,
          3.364353361034315,
          4.850164862212828,
          5.504704269511158,
          3.9535316848443,
          2.85416863477457,
          2.002799780974661,
          1.3464421890291516,
          0.8367273296437943,
          0.44744851199797897,
          0.14943865530934203,
          -0.0755696295212491,
          -0.23765356731466517,
          -0.3550120304734056,
          -0.4414238867269549,
          -0.5043720551770958,
          -0.5528084715033424,
          -0.5938129299145756,
          -0.6341012620275975,
          -0.6764175998730879,
          -0.7245353551047871,
          -0.7787835322158692,
          -0.8386859911942645,
          -0.9034876220215299,
          -0.9717653659423388,
          -1.041447688427741,
          -1.1080989128804384,
          -1.1714528622306595,
          -1.2254457322903998,
          -1.2687554344293963,
          -1.2982725122432353,
          -1.316441147786595,
          -1.3187066622011443,
          -1.3071857854106397,
          -1.2856971986000048,
          -1.2526987479670537,
          -1.2051036852823531,
          -1.1644484515095002,
          -1.1088129126549289,
          -1.0583410445139214,
          -0.9982586096662744,
          -0.9355337295711234,
          -0.8738553116981193,
          -0.8106723792778104,
          -0.7484554990976586,
          -0.6846283265732807,
          -0.6235389066375311,
          -0.5597934844127234,
          -0.4958311484686322,
          -0.42950831061715344,
          -0.3599284868827627,
          -0.2845034070141248,
          -0.20083888290625776,
          -0.1062353022865643,
          0.004578538965282134,
          0.13702716256505268,
          0.29670764543578676,
          0.49892920161164866,
          0.7614953746157204,
          1.1140424421809128,
          1.6056613849403063,
          2.29908030570656,
          3.3107098155579036,
          4.798007384191919,
          5.186605352637144,
          3.679541975264925,
          2.5774022400754903,
          1.7275986484715373,
          1.0672341181177998,
          0.5528476256658692,
          0.1584602054270919,
          -0.14383970973402055,
          -0.3731085275136397,
          -0.5371920170775789,
          -0.6570718873817001,
          -0.7430891851719184,
          -0.8039826230248174,
          -0.8494670935613802,
          -0.8875219128382209,
          -0.9245636132272215,
          -0.9639807103848558,
          -1.01012631001169,
          -1.0636542039301211,
          -1.123988959196177,
          -1.1906690699196105,
          -1.2612078812249141,
          -1.3329692291750421,
          -1.403546784825831,
          -1.4686428576057042,
          -1.526322906588584,
          -1.5739950715556867,
          -1.6028310289268526,
          -1.6197277204637694,
          -1.6209962284543884,
          -1.6086872065313107,
          -1.585412259062439,
          -1.5454068087867279,
          -1.503695469501571,
          -1.4400405936353302,
          -1.3981000638918961,
          -1.3424246939947533,
          -1.2776964399216957,
          -1.212988957894334,
          -1.1471507456308219,
          -1.0809016274693146,
          -1.0150364327116983,
          -0.950718320826247,
          -0.8828855511205159,
          -0.8169566347812586,
          -0.7505414378480476,
          -0.6809460406825725,
          -0.608570730504735,
          -0.530733743710388,
          -0.44459980381361813,
          -0.34603978616358494,
          -0.23379422524201282,
          -0.09929817098380288,
          0.06497528383817346,
          0.2702519967726996,
          0.5334121138238602,
          0.8904980394925136,
          1.3873369820482766,
          2.099564779625179,
          3.122316386135981,
          4.626860093972739
         ],
         "z": [
          1.5468647444377948,
          1.2252059396743638,
          0.9682070221745535,
          0.7544790757065186,
          0.579987065007708,
          0.433999589264812,
          0.3111934214482186,
          0.20882460725873364,
          0.11880442872247855,
          0.04153948844800666,
          -0.026388182647737093,
          -0.08650003401479522,
          -0.13732451450023486,
          -0.18019561070118106,
          -0.2138415307912135,
          -0.2390358791017223,
          -0.2558369213848073,
          -0.2637117926678051,
          -0.263499295366865,
          -0.2554221923737575,
          -0.24056117083014109,
          -0.2211236027457853,
          -0.1969199766543996,
          -0.1705031962616299,
          -0.14508043392803302,
          -0.12155348001151399,
          -0.10104400073777486,
          -0.08648660672478557,
          -0.07692264860565233,
          -0.07403617949360194,
          -0.07932311125771944,
          -0.08681663350552726,
          -0.10317842199410085,
          -0.11831077177904395,
          -0.14411184477014619,
          -0.154857961464008,
          -0.1704934306920673,
          -0.18771450672874737,
          -0.20094424775577407,
          -0.21010404595663099,
          -0.21228635843694804,
          -0.20491025958823825,
          -0.18677323709845828,
          -0.15464848542149834,
          -0.10514780718590154,
          -0.03307334199410591,
          0.06483295924544241,
          0.19485316127614605,
          0.35726049151762423,
          0.5551426584891873,
          0.7865444346202134,
          1.0526197035982254,
          1.336891723471315,
          1.6266015902890096,
          1.9170776509130705,
          2.217594500618585,
          2.505511618328032,
          2.793075018981435,
          3.1066957650429208,
          3.4660209304817924,
          3.954076790064561,
          1.5454904933262834,
          1.2152814081517285,
          0.9555595770225453,
          0.7410133113858695,
          0.5660400880997661,
          0.41909164003324095,
          0.2978502192400788,
          0.1966425385636273,
          0.10721970297008827,
          0.031133968380725376,
          -0.035926570536840736,
          -0.09405535495054813,
          -0.1435896075084168,
          -0.18602243324875448,
          -0.22001786134223558,
          -0.2459389390040859,
          -0.2636556467778249,
          -0.2735946949768185,
          -0.27566871266954257,
          -0.2704871236527483,
          -0.2586642066425567,
          -0.24175336244306722,
          -0.22191296445659778,
          -0.19885494838068327,
          -0.17629250433568003,
          -0.15579202520770583,
          -0.13813876689221574,
          -0.1260865567153168,
          -0.11904513174122869,
          -0.11736947167714573,
          -0.12266255153434394,
          -0.13169184242109713,
          -0.14114305796361312,
          -0.15960542477659245,
          -0.17828284861086607,
          -0.19295608717085877,
          -0.2082430807697016,
          -0.22351206276997035,
          -0.23575296938473667,
          -0.2433928067300304,
          -0.24438057892598733,
          -0.23808164919347566,
          -0.22000297943900313,
          -0.18995596147258412,
          -0.14366597397556924,
          -0.07736160962495905,
          0.012554781386633303,
          0.1325469784413827,
          0.28188679413363427,
          0.4633483556854251,
          0.6811394934969153,
          0.9334446359960933,
          1.197956914969444,
          1.4841712830196405,
          1.7775994687043346,
          2.0708610278389226,
          2.3514282348799926,
          2.6371511987378184,
          2.960206347648635,
          3.330389103602182,
          3.7957433845820616,
          1.5946724132856236,
          1.2636264262059818,
          1.0038238859781516,
          0.7903993995683037,
          0.6131161623065771,
          0.46644675278515907,
          0.34281140976663227,
          0.2405058658954776,
          0.14998676693221125,
          0.07316128726657115,
          0.005102728321021297,
          -0.052573423216030375,
          -0.10163935156159562,
          -0.1424440598874826,
          -0.17495666966994608,
          -0.1989041667149923,
          -0.2148261137180091,
          -0.22210956726521014,
          -0.22195537633509746,
          -0.21434722692661837,
          -0.20071852057163955,
          -0.18202813896565115,
          -0.15975173323038683,
          -0.13657068348710036,
          -0.11309468566106297,
          -0.09247199693787744,
          -0.07565937423026269,
          -0.06426268248867965,
          -0.05735240231116856,
          -0.05708421468280056,
          -0.0625579213625375,
          -0.07176452064054677,
          -0.08544355355575464,
          -0.10434611354974943,
          -0.1188578323673182,
          -0.13820758354617665,
          -0.15289225253820365,
          -0.1686949110403513,
          -0.18165018509914044,
          -0.18920339848008594,
          -0.19076334183231816,
          -0.1838049616895402,
          -0.16709168822876172,
          -0.1355657663829501,
          -0.08882405112224181,
          -0.021942305849785012,
          0.06937807202875809,
          0.18991069056999357,
          0.3397938538615869,
          0.5232305371475158,
          0.7410385237805512,
          0.9931157505620134,
          1.264668525103871,
          1.5509175061012523,
          1.8439846638753825,
          2.129872374194682,
          2.418362786168509,
          2.709431965428074,
          3.0244633113813335,
          3.3874929278655777,
          3.862347820821721,
          2.0927789995439645,
          1.771431002369022,
          1.5146972323059473,
          1.301190079659329,
          1.1259601906592605,
          0.9815364354969777,
          0.8602638299034168,
          0.7599060734532805,
          0.6712590367368494,
          0.5952379445629872,
          0.5281772933636182,
          0.4701995559310922,
          0.42015822736424263,
          0.3781052523993889,
          0.34447930920587866,
          0.31945924819242605,
          0.30281187217590877,
          0.2951888815048509,
          0.29562247597790314,
          0.3039700636706995,
          0.3189567460975172,
          0.33916587767105333,
          0.3626723968354853,
          0.3880968706932157,
          0.4126698900434664,
          0.43533484185825033,
          0.4544604684074199,
          0.4657409687760475,
          0.472233952046238,
          0.4722181069516759,
          0.4666793180917431,
          0.4568858614022094,
          0.4402808621393173,
          0.42431209678578774,
          0.39936444327292697,
          0.38734346299737343,
          0.370902026195825,
          0.35372376206503714,
          0.3410538559824269,
          0.33307827722517985,
          0.3320951722097645,
          0.33944255267911927,
          0.3590538439214011,
          0.3912179112586643,
          0.44178289816873667,
          0.5129356992687547,
          0.6107462889565938,
          0.7369369506181092,
          0.8967469560422013,
          1.0889820594474648,
          1.3188089670774192,
          1.5706394008891642,
          1.8565291427041757,
          2.1464959496053373,
          2.438364863319664,
          2.7319469699440475,
          3.0111954923830333,
          3.3038390874825416,
          3.6142238546982104,
          3.983595924446751,
          4.458146022392641
         ]
        },
        {
         "hovertemplate": "Sensor=Eletrodo 2<br>PC1=%{x}<br>PC2=%{y}<br>PC3=%{z}<extra></extra>",
         "legendgroup": "Eletrodo 2",
         "marker": {
          "color": "#ab63fa",
          "symbol": "circle"
         },
         "mode": "markers",
         "name": "Eletrodo 2",
         "scene": "scene",
         "showlegend": true,
         "type": "scatter3d",
         "x": [
          -4.89819656808651,
          -2.8925219838525233,
          -2.5955644025373004,
          -2.259998390976662,
          -1.9700773765364685,
          -1.726244440705508,
          -1.5222673251288668,
          -1.3515580165229124,
          -1.2037985017011363,
          -1.0796385781798565,
          -0.970662335586442,
          -0.8749784795875581,
          -0.790922981006737,
          -0.7163296304457352,
          -0.6501253115888379,
          -0.5910898766707953,
          -0.5381408059259707,
          -0.49102665734859613,
          -0.4479733521308838,
          -0.4086313973604925,
          -0.3723741671223358,
          -0.337434532478148,
          -0.3034631137909088,
          -0.26927949538094226,
          -0.2347900667879034,
          -0.19921981272870018,
          -0.1626189475126767,
          -0.12390747297498647,
          -0.0823018259104395,
          -0.039712379883784746,
          0.005364914941218015,
          0.05281184459753918,
          0.10250050646195757,
          0.15476304974325844,
          0.21144320518605803,
          0.26810380842609816,
          0.3296908012927243,
          0.39410087414126377,
          0.45879544628664193,
          0.5246770662754126,
          0.5899833472163719,
          0.6547674930700578,
          0.7200932633289908,
          0.784420447610819,
          0.8521046783656063,
          0.9231084740082494,
          0.9999402872437938,
          1.085770023389155,
          1.1813785258007095,
          1.2879935928422335,
          1.4079501593106056,
          1.5454663426609878,
          1.6980876156119225,
          1.8685658908700187,
          2.061480861674976,
          2.276742235574981,
          2.517922439339379,
          2.791194068317696,
          3.09776778781104,
          3.4366579503637964,
          3.826909975462144,
          -4.546829048800704,
          -2.80840698016284,
          -2.5640962081011764,
          -2.234550514745329,
          -1.9462271495052923,
          -1.7032436562867757,
          -1.4986042036080334,
          -1.3286746733960342,
          -1.1803781138151752,
          -1.0561191467427913,
          -0.9478377446077156,
          -0.8528682300148936,
          -0.7698863008856631,
          -0.6961890899080923,
          -0.6303880141167494,
          -0.5714483877258376,
          -0.518690302146016,
          -0.4719585530227147,
          -0.4291171783121751,
          -0.3903460813733549,
          -0.35447842354146464,
          -0.3204556041787372,
          -0.28713969028785397,
          -0.2543614858253711,
          -0.22029529137206058,
          -0.18552894386412772,
          -0.14936804911430362,
          -0.11047829861687768,
          -0.06999011952145802,
          -0.027019344824293953,
          0.018273026647742253,
          0.06643326599230094,
          0.11725960939374667,
          0.17074786240740764,
          0.22734703758787736,
          0.28724165347268593,
          0.34927962437017424,
          0.41319912421804256,
          0.4765882635367628,
          0.5403469800214153,
          0.6028466398555248,
          0.665182287623455,
          0.7285405238419336,
          0.7927873008309891,
          0.8600968013899601,
          0.9315692087524842,
          1.0101298326596508,
          1.0964146332285367,
          1.1944770624939447,
          1.3048622024245622,
          1.4300008299009666,
          1.5742537407365225,
          1.7361973077008919,
          1.9210090411051477,
          2.126483755617807,
          2.354162308022411,
          2.6092699809863444,
          2.8918955516289024,
          3.210875522784081,
          3.5501335200759976,
          3.936022011719429,
          -4.495284409988757,
          -2.783513900131194,
          -2.5645202367101074,
          -2.236970643019004,
          -1.947302708447958,
          -1.703908989253215,
          -1.4996595104799817,
          -1.329271265700309,
          -1.181806035032091,
          -1.0571430066651857,
          -0.9491030038599918,
          -0.855108648053849,
          -0.7729683449252099,
          -0.6999704816111079,
          -0.6355130081607112,
          -0.5781638189221063,
          -0.5278029572255426,
          -0.4832964138196851,
          -0.4437436621830208,
          -0.4076514137952924,
          -0.3748849394195313,
          -0.34337110446665275,
          -0.3126326960198684,
          -0.2811199551720798,
          -0.24867040910799057,
          -0.21449872702152284,
          -0.17865648053623845,
          -0.14087359802623037,
          -0.10060709834059882,
          -0.05863726449391065,
          -0.014352709908583712,
          0.03222477280209074,
          0.08146753534030175,
          0.13400568830338147,
          0.1881537259671336,
          0.2455145267930762,
          0.305034262252024,
          0.3653517514802591,
          0.4269606131490414,
          0.4885057779562203,
          0.5493619258344036,
          0.6101003855943458,
          0.6717482123244822,
          0.7359564907919922,
          0.8028060842307456,
          0.8745526500893658,
          0.9527643528323314,
          1.039384718995168,
          1.1367258942926495,
          1.247296558218314,
          1.3738677598251663,
          1.5186516692117027,
          1.6845747008315382,
          1.8719811365702055,
          2.08370117326455,
          2.3192555984897445,
          2.5829674404840435,
          2.8748434182231373,
          3.1996257726275976,
          3.561414465554324,
          3.959896460834525,
          -4.666522902661002,
          -2.910654114199658,
          -2.65995226873263,
          -2.330582556724824,
          -2.041584561754683,
          -1.7980083120124106,
          -1.5949318957245386,
          -1.4251333866899785,
          -1.278721292686275,
          -1.1554738992929583,
          -1.0490775194984048,
          -0.9562161245553611,
          -0.8754891814174494,
          -0.8039616434110637,
          -0.741129811541633,
          -0.6853647372965748,
          -0.6364028167685662,
          -0.5931289826449421,
          -0.5545101215875154,
          -0.5197223615292443,
          -0.48772944494277126,
          -0.45723427343715306,
          -0.4273440990524817,
          -0.39667816742773704,
          -0.3652398219886564,
          -0.33227652769143196,
          -0.29780382049283727,
          -0.26171408853056666,
          -0.2236162171923974,
          -0.18329498471432384,
          -0.1405427330995061,
          -0.09526554639030561,
          -0.04797598436068584,
          0.0024313685118309315,
          0.05600404799567469,
          0.11171397533912077,
          0.1694705389019433,
          0.2292979505267709,
          0.2897634875030503,
          0.3505858353869892,
          0.4119190410266475,
          0.4738828599856973,
          0.5367973171717884,
          0.6017019130437683,
          0.6696649816985489,
          0.7418018731896759,
          0.819464435412565,
          0.9047431610096951,
          0.998725999114935,
          1.1041975397584254,
          1.2241691278015068,
          1.3621834830039867,
          1.5211497776628755,
          1.7051834617838815,
          1.9166963706884204,
          2.1557357531001156,
          2.420379034683677,
          2.7157762892274655,
          3.054578058169305,
          3.4175982591107976,
          3.823047208296263
         ],
         "y": [
          5.050578410664368,
          4.20842222342758,
          3.073707715617142,
          2.2212630876527717,
          1.5652163050801025,
          1.059739056624233,
          0.6735967377457958,
          0.3831447704364402,
          0.16264611756714106,
          0.003774189873053989,
          -0.1119296516835169,
          -0.19318827273272482,
          -0.2501344842709888,
          -0.28944171548377523,
          -0.316659939648777,
          -0.3358114997966546,
          -0.34914036585487707,
          -0.358991815999387,
          -0.3662790798725088,
          -0.3706440054866946,
          -0.37350838338894,
          -0.37322549110916403,
          -0.3704835279486268,
          -0.36470039778688185,
          -0.35600572568291905,
          -0.34488977941974425,
          -0.3315427181056663,
          -0.3158346939078502,
          -0.29749919110711065,
          -0.27831770446768833,
          -0.2576276239093174,
          -0.2356582016651935,
          -0.212673840722365,
          -0.188908738348701,
          -0.1636097499720919,
          -0.13873048457388543,
          -0.1130794462297908,
          -0.08705538701858793,
          -0.062389780763423136,
          -0.03852604549382664,
          -0.01623335885501989,
          0.004716587834380524,
          0.02549313868043477,
          0.04553702197694401,
          0.06685071275523366,
          0.0894107913474623,
          0.11417870811801381,
          0.14214614452712057,
          0.17321895487328562,
          0.20741810658312063,
          0.24486366704000395,
          0.2869632548685042,
          0.3319122424710501,
          0.3804881560761615,
          0.43288986728435846,
          0.4899068924612053,
          0.5508630576804457,
          0.6175222739602682,
          0.6891813439485465,
          0.7646906064446585,
          0.8510072142558968,
          5.197961926066237,
          4.26120976473639,
          3.109071392469632,
          2.257527577466547,
          1.6030407645210532,
          1.0980660661207058,
          0.7137618298526007,
          0.42185621242380744,
          0.20154562729670178,
          0.04158944750414579,
          -0.07696731888519386,
          -0.16131990624795892,
          -0.22194053972544395,
          -0.2646140521764057,
          -0.29440387363246984,
          -0.31555422546484835,
          -0.33098152972303724,
          -0.3429426650716858,
          -0.351983454997644,
          -0.35830062250577144,
          -0.3625475805424406,
          -0.36442283296223243,
          -0.36300897625199796,
          -0.35901814295191514,
          -0.35150605912206184,
          -0.34136491910686106,
          -0.32857455415970627,
          -0.3127619653331496,
          -0.29524812772852893,
          -0.275868244104535,
          -0.2546298430811973,
          -0.2322785932270355,
          -0.20861165021713782,
          -0.18412577285254794,
          -0.15873200472986498,
          -0.1331771026988887,
          -0.10772451382393576,
          -0.08254533891829527,
          -0.05895075148983742,
          -0.03644317936191,
          -0.01542277334480193,
          0.004783697965457549,
          0.025100584648600807,
          0.04541525272895144,
          0.06712264506560287,
          0.0903228491908204,
          0.11631325243171628,
          0.14490840049420758,
          0.17767270298499793,
          0.21396917605344223,
          0.25451009598737323,
          0.30015367156541634,
          0.34954425879520734,
          0.40438106100025034,
          0.4631853412968829,
          0.5254390545719755,
          0.592127760736941,
          0.6631721083013821,
          0.7415298530767701,
          0.8182869745533494,
          0.9033993001502085,
          5.2021153492035275,
          4.257272740134704,
          3.0942647117479822,
          2.242444012172623,
          1.5911132109871087,
          1.0874771616722887,
          0.7027752878400498,
          0.4116654469294375,
          0.1896731730534652,
          0.029979829885783946,
          -0.08955407716966116,
          -0.17606652345402118,
          -0.23868587589178775,
          -0.28308771185525805,
          -0.31537887468125364,
          -0.33926298765028234,
          -0.35805458354438924,
          -0.3730650088836581,
          -0.38596688910935717,
          -0.3950458629948705,
          -0.40224830660674554,
          -0.405623659584408,
          -0.40603743167937983,
          -0.4021807228910289,
          -0.3948143141773934,
          -0.383909065043933,
          -0.3701251930208894,
          -0.3540265393790876,
          -0.3356846394383445,
          -0.3160017150633363,
          -0.2947076194955167,
          -0.2726666357666671,
          -0.24884996955641656,
          -0.2248341138114852,
          -0.20012741605845905,
          -0.17499236608702926,
          -0.15055716224751375,
          -0.12671070723156133,
          -0.10340203113766401,
          -0.08138286749250037,
          -0.06066138537251584,
          -0.04067509550451384,
          -0.020642176089840772,
          0.0005925025078302346,
          0.02259689665701284,
          0.046545294173484845,
          0.07292267908313421,
          0.10208988972449119,
          0.13481584463208954,
          0.1715060035686806,
          0.21286665192723161,
          0.2587744275130487,
          0.31012014288408846,
          0.3657523076352383,
          0.42709706998448815,
          0.4924163533781866,
          0.5624109265945513,
          0.6376236702798475,
          0.7170884429964989,
          0.803572146359274,
          0.8933717057674582,
          4.92762601284525,
          3.9952719952393565,
          2.8459113108572742,
          1.9934066610243824,
          1.339636780299322,
          0.8355557417506647,
          0.4485669328741856,
          0.15644107085349504,
          -0.06707897599096696,
          -0.2285603523479379,
          -0.3499729287440234,
          -0.43722612908398206,
          -0.5006741974887837,
          -0.5457315990325784,
          -0.5787024982139684,
          -0.6029773913586631,
          -0.6219311994658415,
          -0.6368259346761459,
          -0.6493073607133119,
          -0.6584382588108116,
          -0.6650820992560209,
          -0.6685077088412085,
          -0.6680892314853728,
          -0.664022786745279,
          -0.6563909383628269,
          -0.6456513171656283,
          -0.6319159900125397,
          -0.6162107687070505,
          -0.5980389503026838,
          -0.5782896957015353,
          -0.5568718729547615,
          -0.533963163791366,
          -0.5105298599154189,
          -0.48597600239416455,
          -0.46028574223007523,
          -0.43531873011906386,
          -0.41066164268214755,
          -0.3860365277264903,
          -0.36225943942420913,
          -0.3396688852630791,
          -0.3178994272542307,
          -0.2966140989429532,
          -0.27539761605877205,
          -0.25395006443836915,
          -0.23133482957099163,
          -0.20755265331746858,
          -0.18201184496030842,
          -0.1540437871502748,
          -0.12341009179403295,
          -0.08959910071725835,
          -0.051841152591777614,
          -0.00903139953935896,
          0.039404216938491575,
          0.09346565393566128,
          0.15462486852212323,
          0.2211835835989069,
          0.2910603970787167,
          0.36691849132102206,
          0.4516348669464942,
          0.5364265476983622,
          0.6292013749645486
         ],
         "z": [
          1.3547832969250888,
          1.1528065570357668,
          0.8765405244547251,
          0.6557011115833556,
          0.47470858730664545,
          0.32413188829309303,
          0.19786442141487517,
          0.0914373294838311,
          -0.0013860258635042596,
          -0.07960704192098296,
          -0.14802576803898004,
          -0.20731933029872185,
          -0.2581949882091584,
          -0.30200183451842655,
          -0.3395738732479917,
          -0.3720170522393843,
          -0.4003466678680441,
          -0.42512514380412786,
          -0.4475032940255463,
          -0.46772985454543764,
          -0.48622674269615973,
          -0.5036738268474201,
          -0.5203026000189932,
          -0.5365442854527068,
          -0.5523949876227312,
          -0.5682636007418436,
          -0.5840484105024505,
          -0.6002033071780739,
          -0.6169415598933202,
          -0.6334862099383316,
          -0.6504135188421549,
          -0.6675527992162107,
          -0.68478396982167,
          -0.7023443543830339,
          -0.7207637100945801,
          -0.7381607938169019,
          -0.7570747970572147,
          -0.7763604382036714,
          -0.7952651475656901,
          -0.8141494628192649,
          -0.8322843208705856,
          -0.8487540578110335,
          -0.8633393372382636,
          -0.8747467159419177,
          -0.8828849459396255,
          -0.887454830451073,
          -0.8873205295094501,
          -0.882565247298833,
          -0.8716213648866175,
          -0.8545363378767604,
          -0.8282974118101485,
          -0.7936214774513952,
          -0.7474998353556273,
          -0.6881157161748512,
          -0.6117818816489305,
          -0.5151611212324309,
          -0.39737416007256665,
          -0.25057687978560067,
          -0.06845654531055868,
          0.14550143484888767,
          0.39441043074913584,
          1.3754114920719165,
          1.1515303696127708,
          0.8690491066998637,
          0.645726298313434,
          0.4632853622969702,
          0.31214917132653275,
          0.1850012718578217,
          0.07918277722964383,
          -0.01359188501927751,
          -0.09118617473540246,
          -0.15825408016173512,
          -0.21609078679301455,
          -0.26537785001183145,
          -0.3078225202347194,
          -0.3444848208646037,
          -0.37635860497681256,
          -0.4042845448281149,
          -0.4287799256790406,
          -0.4510710868530023,
          -0.4711510888183534,
          -0.4895757394703034,
          -0.5068303164804318,
          -0.5232530611725796,
          -0.5389848787837186,
          -0.5547796115254495,
          -0.570355941194261,
          -0.585982810102189,
          -0.6021965078260986,
          -0.6184664089825808,
          -0.6351776714411005,
          -0.6519872472487631,
          -0.669380189239178,
          -0.6870039456676723,
          -0.7048548229757743,
          -0.7230525027212783,
          -0.7422632735185322,
          -0.7617365778480514,
          -0.7813241650164728,
          -0.8003111656680032,
          -0.8189898157305743,
          -0.8361928830918298,
          -0.8518193493611078,
          -0.8653889237119488,
          -0.8761199189281463,
          -0.8838019897809631,
          -0.8876013901261042,
          -0.8877746186022077,
          -0.8818881048292931,
          -0.8710358143530763,
          -0.852102482498266,
          -0.8257923244226589,
          -0.7887072255756274,
          -0.7417277207089685,
          -0.6827621275936487,
          -0.6105415661026055,
          -0.5185136128991222,
          -0.40786551029934337,
          -0.2707347023642095,
          -0.10629730808420716,
          0.09350740290373755,
          0.3314481876653929,
          1.4263708776282913,
          1.199479075462572,
          0.9155996271817006,
          0.6918454756028846,
          0.5079664256583466,
          0.3561836431865228,
          0.22916976071644943,
          0.12303761870477337,
          0.030979478987345536,
          -0.04666321147599325,
          -0.11329769796646277,
          -0.17028384843148928,
          -0.21887580033511259,
          -0.260810120084176,
          -0.2967750682876708,
          -0.328008495782254,
          -0.35505591581789137,
          -0.37882926091764,
          -0.3999643063960308,
          -0.41904513040093305,
          -0.43625026121887067,
          -0.4523702995694977,
          -0.46770951165093616,
          -0.4828656310379637,
          -0.4979545409500406,
          -0.5132931809453847,
          -0.5288242649031664,
          -0.5446647425149457,
          -0.5609599579497399,
          -0.5773585549115683,
          -0.5939687865594919,
          -0.6109494490592214,
          -0.6279189047319431,
          -0.6458692415482884,
          -0.6633632131204752,
          -0.6815494750517724,
          -0.700306988323824,
          -0.7186113838164234,
          -0.7368887255497203,
          -0.7544043884380135,
          -0.7704901003278085,
          -0.7849252846027008,
          -0.7971768102930537,
          -0.80684330987131,
          -0.8131389196462069,
          -0.8160472707496748,
          -0.8144343469957596,
          -0.8069633185156855,
          -0.7930583969788474,
          -0.7715344947629836,
          -0.7417092398211974,
          -0.7020015679353516,
          -0.6499958286142765,
          -0.5854591826314316,
          -0.508593992889124,
          -0.41235322609151137,
          -0.29549460957005325,
          -0.15751088494388696,
          0.007892847422506982,
          0.1977253362213626,
          0.439294422499657,
          1.917777788397012,
          1.6944348013265385,
          1.412708930315431,
          1.1900386551670092,
          1.0074584714223784,
          0.8560225972136631,
          0.7300110679949903,
          0.6242878364507122,
          0.5327766469191076,
          0.4557177610502665,
          0.3896316248560108,
          0.33270799089178366,
          0.28422307739836117,
          0.24234490268795295,
          0.206513995358415,
          0.17547888133934345,
          0.14868785844078403,
          0.12528698475287603,
          0.10454926686752557,
          0.08609185982291816,
          0.06935299612477967,
          0.053740431322468474,
          0.038884156089740926,
          0.024061088112143324,
          0.00934205024677482,
          -0.0056459556168103366,
          -0.020789542636582236,
          -0.03617259601270387,
          -0.051762095341234084,
          -0.06770052562391302,
          -0.08395360109971095,
          -0.10040613699967352,
          -0.11687176479157543,
          -0.13384411464297977,
          -0.15091405696220098,
          -0.16844344025360272,
          -0.1861685825172993,
          -0.20383406817149677,
          -0.22090003126137214,
          -0.2373436047019573,
          -0.2525420006525166,
          -0.26663009052673103,
          -0.27802961083743494,
          -0.28722275533386543,
          -0.29336430314485173,
          -0.295734441614627,
          -0.29359390142154657,
          -0.28608359799070804,
          -0.2717477088037106,
          -0.24901477434538244,
          -0.21643180951298724,
          -0.17211050112903797,
          -0.11522400164118846,
          -0.04297291879776589,
          0.04524456034670637,
          0.1511345293718306,
          0.2788472927595659,
          0.4297764267628825,
          0.6075557117694369,
          0.8197454267850958,
          1.0602452729392142
         ]
        },
        {
         "hovertemplate": "Sensor=Eletrodo 3<br>PC1=%{x}<br>PC2=%{y}<br>PC3=%{z}<extra></extra>",
         "legendgroup": "Eletrodo 3",
         "marker": {
          "color": "#FFA15A",
          "symbol": "circle"
         },
         "mode": "markers",
         "name": "Eletrodo 3",
         "scene": "scene",
         "showlegend": true,
         "type": "scatter3d",
         "x": [
          -4.978052902609398,
          -2.9561215592517387,
          -2.6507033020819812,
          -2.331419567427395,
          -2.0629277323922643,
          -1.8461077530289756,
          -1.6708392925401916,
          -1.5292716439718368,
          -1.4073541341813727,
          -1.3056476599121674,
          -1.2117060564368929,
          -1.1243324612066092,
          -1.0406139522789695,
          -0.9606100777737795,
          -0.8848823311255868,
          -0.8143815248247753,
          -0.7508818978277212,
          -0.6966997486992235,
          -0.6525903708507075,
          -0.6202261225048603,
          -0.5994195269304782,
          -0.5894493339425066,
          -0.5897915613464816,
          -0.5998166457015809,
          -0.6180895408805362,
          -0.6421298943051229,
          -0.6727636376612373,
          -0.707931905237293,
          -0.7448946775696454,
          -0.783079451255878,
          -0.8220222251424393,
          -0.8639571666708379,
          -0.8968037701875299,
          -0.9315878860099847,
          -0.9419299545676254,
          -0.9753676467569468,
          -1.0038120514710491,
          -1.0094236278179272,
          -1.0090155092295443,
          -1.000796199174029,
          -0.9854181508608161,
          -0.9659831981786211,
          -0.9424298027586291,
          -0.8977011731770007,
          -0.856249084137308,
          -0.8095286420431779,
          -0.7516638794212785,
          -0.6879756477998454,
          -0.6114372845100526,
          -0.5240734890314919,
          -0.42021998988419085,
          -0.29955832000849,
          -0.15452912870330182,
          0.03167195470642028,
          0.24940109427055215,
          0.5066375156527189,
          0.8306699200299954,
          1.2552741175090592,
          1.7135605140584032,
          2.3480077222725675,
          3.2366886230760774,
          -4.9944116968547565,
          -2.960271022714303,
          -2.6552339874010955,
          -2.3353595767349726,
          -2.067617954908243,
          -1.8523073393830798,
          -1.6794735528900497,
          -1.5406775604221004,
          -1.4234052660627106,
          -1.325660793747494,
          -1.2369489937531075,
          -1.155040844313471,
          -1.077183427436703,
          -1.0007976676350048,
          -0.9278942915845837,
          -0.858869395751574,
          -0.7968411921095975,
          -0.7427640412176696,
          -0.6985649634258665,
          -0.6658575458166741,
          -0.6448927846744271,
          -0.6353039528073137,
          -0.6365895423571596,
          -0.6477492311699603,
          -0.6672731106696544,
          -0.6947192769163562,
          -0.7276588874485125,
          -0.7646116737719968,
          -0.8036759211505987,
          -0.8438459347071636,
          -0.8843433850345758,
          -0.924345674647236,
          -0.9627706114664165,
          -0.9941005102819214,
          -1.0138415606128337,
          -1.0414040460012406,
          -1.0693260677266216,
          -1.0749648909303613,
          -1.0715585568723633,
          -1.0572525533656916,
          -1.0381924880607774,
          -1.0128655337974326,
          -0.9846655950432925,
          -0.9341079404258934,
          -0.8891057460895305,
          -0.8381684964789202,
          -0.7767721554358907,
          -0.7105102639480132,
          -0.6340489306126214,
          -0.5427727763266306,
          -0.4334947831634241,
          -0.3074901422625634,
          -0.15668053065559984,
          0.031145751495300758,
          0.26283343419140676,
          0.5407376365013917,
          0.8695847441229393,
          1.3043274778143774,
          1.8494660468366806,
          2.4937087373807088,
          3.1753562421605595,
          -5.179865832591882,
          -2.9850378143639285,
          -2.6711694574220353,
          -2.350265193372372,
          -2.083018744224065,
          -1.8665312163143792,
          -1.6929452321761922,
          -1.5528616287219053,
          -1.4342860637028438,
          -1.3344266627144734,
          -1.2445819901256214,
          -1.1616763678106634,
          -1.0817565138476364,
          -1.005849806093898,
          -0.9342287066147139,
          -0.8681691774408821,
          -0.8097408766708784,
          -0.759839346807527,
          -0.7216401045834081,
          -0.6953495076009237,
          -0.6814240079715106,
          -0.6790804650365629,
          -0.6870650316195619,
          -0.7049324345851112,
          -0.7310493791855316,
          -0.7640903520140973,
          -0.8024969903277888,
          -0.84477677024855,
          -0.8886924235839199,
          -0.9329846070615802,
          -0.9777248350005647,
          -1.0189192906346125,
          -1.0568562726414295,
          -1.085082244580384,
          -1.0972404188722922,
          -1.1318375331469885,
          -1.1535441186692252,
          -1.1539588459643915,
          -1.1424376554065616,
          -1.1221052379643741,
          -1.0988353883062927,
          -1.0656848958701515,
          -1.032958328839484,
          -0.9786235298543045,
          -0.9274621402292207,
          -0.8706752059949221,
          -0.8018576514502403,
          -0.7226015837131436,
          -0.6383975997259335,
          -0.5331471898789791,
          -0.41971599987218217,
          -0.2886797512460354,
          -0.12192907748845667,
          0.08267433730242311,
          0.30939307157273804,
          0.6317393456646098,
          0.97450234162899,
          1.4083189670945233,
          1.995398841286547,
          2.6734118622330767,
          3.5118727325202928,
          -5.947443611268089,
          -3.098084853683667,
          -2.7698468397940377,
          -2.448006658756618,
          -2.1804723121660157,
          -1.9653473071159677,
          -1.7931689363150314,
          -1.655124747063444,
          -1.5373062400905386,
          -1.4391978829036465,
          -1.3499848453933612,
          -1.2678223745476487,
          -1.1891374058021933,
          -1.114306484689814,
          -1.0434408905749364,
          -0.9767642456006145,
          -0.918661469153108,
          -0.8696410494429863,
          -0.831627361001965,
          -0.8058439470158046,
          -0.7922608182605965,
          -0.7904663304186714,
          -0.8000156273599969,
          -0.8191164939876706,
          -0.8465006374356755,
          -0.8795669506429766,
          -0.9189148230955788,
          -0.9616277247544569,
          -1.0077743868698448,
          -1.0521129643263702,
          -1.0985689287383025,
          -1.1374937915398768,
          -1.1710117225252001,
          -1.2074992546257979,
          -1.1893602442724818,
          -1.2379142097538853,
          -1.2666617884012055,
          -1.260346204735637,
          -1.2482022374488067,
          -1.2305659371318043,
          -1.2027184965854438,
          -1.1689352150578234,
          -1.1336574672401916,
          -1.0726806196955614,
          -1.0200312676359256,
          -0.9576448874595185,
          -0.8861430448829523,
          -0.8053578982492415,
          -0.7133072765723447,
          -0.6136855513204876,
          -0.4952442901331333,
          -0.34048055989579207,
          -0.174807652057437,
          0.03804888825469173,
          0.28499279670780536,
          0.6136613065734022,
          0.9566802560501245,
          1.4437620309323844,
          2.1014695769702545,
          2.6235332386215853,
          3.7063369369268395
         ],
         "y": [
          4.982365706791917,
          4.170448092823864,
          3.002147190556811,
          2.09913827971367,
          1.3870404718198923,
          0.8170724211504535,
          0.36560330252215645,
          0.01225622215896669,
          -0.26003198534725475,
          -0.45929867024555077,
          -0.5949396665741384,
          -0.6774940961701635,
          -0.7155936788677383,
          -0.7220049936857766,
          -0.7078416826511099,
          -0.6833031613912034,
          -0.6577600058802457,
          -0.6390739379693873,
          -0.631637671686512,
          -0.6373046526634967,
          -0.6570643421870289,
          -0.6900536931813707,
          -0.7356519230287528,
          -0.7940574043403011,
          -0.8638733810973634,
          -0.9420796550251513,
          -1.0313586188177544,
          -1.1282186990484069,
          -1.2282596987892185,
          -1.329756465982948,
          -1.4328435180952312,
          -1.5422524503735517,
          -1.631331314018192,
          -1.724942554511228,
          -1.7616607053507873,
          -1.8542719719110252,
          -1.935928327092353,
          -1.9658899808129942,
          -1.9840214303692465,
          -1.9870320192579065,
          -1.9772954986161302,
          -1.962736722788873,
          -1.9442154794951698,
          -1.8851508014679426,
          -1.8434709653988812,
          -1.8010785177092992,
          -1.7491881260597586,
          -1.7030685080414352,
          -1.6527791494488182,
          -1.6077116994773502,
          -1.5635420670865152,
          -1.528375071385659,
          -1.4959492963912304,
          -1.4583507650198853,
          -1.4348271489898052,
          -1.4408919962233344,
          -1.4453550409919238,
          -1.4490037646804974,
          -1.51046179162128,
          -1.5601552105277274,
          -1.5665154449886054,
          4.973210445191794,
          4.1654234564333965,
          2.994469083409997,
          2.0911997687055712,
          1.3770014194609368,
          0.8034246292382038,
          0.3463664157582532,
          -0.013323381075052465,
          -0.295938333886255,
          -0.5038337654902207,
          -0.6505460825673832,
          -0.744278587712391,
          -0.7935711911949552,
          -0.8054300481740905,
          -0.7939209410899922,
          -0.7684436778228254,
          -0.7409453068306406,
          -0.7174355089843653,
          -0.7056127641717741,
          -0.7074013987227421,
          -0.7247110857296081,
          -0.7569729306649768,
          -0.8038989715201572,
          -0.8643196829934173,
          -0.9370557246240818,
          -1.0224018114960527,
          -1.1171391788150453,
          -1.2188117765693733,
          -1.3239163080855652,
          -1.4300571833369784,
          -1.5368364003041592,
          -1.6420233868801921,
          -1.7447192276852772,
          -1.8304034083042837,
          -1.8893417573403595,
          -1.967802389169771,
          -2.0486334939919217,
          -2.079289429918598,
          -2.0910559600072087,
          -2.080941910915586,
          -2.0635286594459394,
          -2.0367894264809006,
          -2.0101741166698144,
          -1.9408131495889989,
          -1.8945627661188142,
          -1.8468493906795078,
          -1.7940126397391007,
          -1.748482667922723,
          -1.7050329513198104,
          -1.6621090378630266,
          -1.6186491657008142,
          -1.5854491408252234,
          -1.5607512890224058,
          -1.534091192795852,
          -1.5136885103076536,
          -1.5109741348642394,
          -1.5163847261620191,
          -1.5394131024004336,
          -1.5770247359876723,
          -1.6294519943655366,
          -1.8040119770059446,
          4.87405003671428,
          4.128238542630965,
          2.9599433044550154,
          2.056083705585888,
          1.339898508351216,
          0.7681965542318994,
          0.31255356684799795,
          -0.04433084882580521,
          -0.32408797976442477,
          -0.5273470249227438,
          -0.6716915095392364,
          -0.7634865351819774,
          -0.8087182670278842,
          -0.8222317628507394,
          -0.8141566752589828,
          -0.7953348813682242,
          -0.7756951984412374,
          -0.7605491017872323,
          -0.7597942200495585,
          -0.7726447189527902,
          -0.8019616186281403,
          -0.8464414384585575,
          -0.9051142400181778,
          -0.9779621038146606,
          -1.063654647774674,
          -1.1609328529419078,
          -1.2678638818111483,
          -1.3813115245931173,
          -1.4974502990979992,
          -1.6131745868317071,
          -1.7300225002619312,
          -1.8380747864109874,
          -1.9389607393619404,
          -2.0178177255012173,
          -2.0593560264452306,
          -2.1538231900150944,
          -2.2205264274341703,
          -2.238979961885669,
          -2.2325335909744974,
          -2.2088609822115806,
          -2.1826250983019637,
          -2.139050279601196,
          -2.1032080654980962,
          -2.027434134144351,
          -1.9699916019931125,
          -1.9125813537258127,
          -1.8495265339842026,
          -1.781234853945019,
          -1.731732290146827,
          -1.670850687665359,
          -1.6321364191584173,
          -1.6052795845244034,
          -1.5687007008759586,
          -1.5352628440982994,
          -1.5457076937611844,
          -1.5102818724275586,
          -1.5406539234967023,
          -1.5861335001656052,
          -1.6023608740111008,
          -1.6636977182915207,
          -1.7629897110673534,
          4.354944136014827,
          3.867127897367782,
          2.7026589629880644,
          1.7960141078278309,
          1.0783362466267816,
          0.5027801452455297,
          0.04356255765576134,
          -0.31802183269652434,
          -0.599472004904787,
          -0.8064551646417043,
          -0.9518217252681503,
          -1.044710145120896,
          -1.0918072759659734,
          -1.1064992188365388,
          -1.0984758258937468,
          -1.0767195844347444,
          -1.0556377170680948,
          -1.040120104110363,
          -1.0377732762964125,
          -1.05010993014731,
          -1.0790998886765686,
          -1.123907830933828,
          -1.1851163593428868,
          -1.26058862153993,
          -1.349475364589345,
          -1.4474634915175812,
          -1.5562093525776879,
          -1.6708165186583557,
          -1.7922862832115072,
          -1.908362170348735,
          -2.029289575438373,
          -2.132021221830428,
          -2.2228515173052976,
          -2.3207372182823605,
          -2.292401582182257,
          -2.420051297112799,
          -2.503018444674179,
          -2.50644435980156,
          -2.4990653073599107,
          -2.482125335841157,
          -2.4462997850698853,
          -2.402661146687286,
          -2.3625891324870776,
          -2.273764577029157,
          -2.215573672143657,
          -2.149937608916711,
          -2.0832980575200244,
          -2.0191417108580434,
          -1.9586450299189462,
          -1.914531090990545,
          -1.8739856644914217,
          -1.816157205440148,
          -1.7946572234438831,
          -1.7667348330998889,
          -1.757587645384549,
          -1.7400521462562049,
          -1.7733799236376102,
          -1.7823949452627268,
          -1.8066295957956242,
          -1.953589360935213,
          -1.924590436157769
         ],
         "z": [
          1.3316314690862612,
          1.162657643449228,
          0.9031514423378809,
          0.7050028756802602,
          0.54912656083534,
          0.42747420588338203,
          0.3306279457333882,
          0.2526017441240098,
          0.183048780028997,
          0.12277794266826775,
          0.06266475115254101,
          0.002918208906746723,
          -0.057577861991099356,
          -0.11712015400895573,
          -0.17369354665650386,
          -0.22532506419973292,
          -0.2699626517425112,
          -0.30591315011631803,
          -0.3332607765814326,
          -0.35152389772486675,
          -0.36115023005796903,
          -0.362425704212483,
          -0.35536460412972193,
          -0.3398363935668957,
          -0.31650658055238085,
          -0.28703955271419135,
          -0.2504671591332992,
          -0.20855333647255533,
          -0.16383674894566877,
          -0.11711692018765162,
          -0.0686621062936211,
          -0.01612674383843152,
          0.02754464497184882,
          0.07438734565232792,
          0.09519745290673456,
          0.14373447124631392,
          0.1884201314245853,
          0.21005457835812194,
          0.22813893071101143,
          0.24152984911039302,
          0.2523371891120026,
          0.2647854778055484,
          0.28034707529422553,
          0.2838086780765922,
          0.3035148202221738,
          0.33294348503543975,
          0.3712842131631338,
          0.42877552787369255,
          0.5060747587803186,
          0.6120290980754055,
          0.7508483206690798,
          0.9341987338004578,
          1.167974243402915,
          1.476637048547486,
          1.862405804418976,
          2.3701782174995345,
          3.001554824140195,
          3.824724530442168,
          4.79591514333923,
          6.088351746730164,
          7.7857650575914334,
          1.3353259159602302,
          1.1680984598625495,
          0.9100824854886336,
          0.7122812329773995,
          0.5574156048332889,
          0.4374454707383446,
          0.3432007613115172,
          0.268148333023566,
          0.20343300474727277,
          0.14724420162863402,
          0.09232964998480979,
          0.03777186079680502,
          -0.017583047322703958,
          -0.07476066365526285,
          -0.13029212771411153,
          -0.18257807510611113,
          -0.2281614245657145,
          -0.2660819999001047,
          -0.2949786185440412,
          -0.3142862306429126,
          -0.3241356323504175,
          -0.3247627945882995,
          -0.3162108675197124,
          -0.2988710564419983,
          -0.27343693366335203,
          -0.23994214735327277,
          -0.2001918827257033,
          -0.15557861606733694,
          -0.1079928549082586,
          -0.058601494229597866,
          -0.007984544900532475,
          0.042931697915196264,
          0.0933984203687488,
          0.13686587565110617,
          0.1686377300614175,
          0.21097507939164525,
          0.2558720139139572,
          0.2786649160415068,
          0.2947621867646366,
          0.30298738218902316,
          0.3112929527018695,
          0.319640140874903,
          0.3335968514744581,
          0.3347708436082153,
          0.3556031708970795,
          0.3860488302339737,
          0.43014765848145825,
          0.4937793435130021,
          0.5802090032530994,
          0.6962316187409714,
          0.8470794291488871,
          1.0438233928440022,
          1.3006975689960736,
          1.6272961350695252,
          2.0473392760230635,
          2.5806093191968102,
          3.2207208764961344,
          4.096545588384329,
          5.2024491518784535,
          6.512687499539785,
          8.096061370559543,
          1.370654417554946,
          1.2200944744943558,
          0.9635564148913841,
          0.7665150740438874,
          0.6127612365508146,
          0.49210290270545737,
          0.39731250613758606,
          0.32104505742034894,
          0.2550363033434988,
          0.19669624924937393,
          0.1406539995300685,
          0.08515191386797522,
          0.02785525909871234,
          -0.028645336482608672,
          -0.08272026905538224,
          -0.13212551407841847,
          -0.17443853198210316,
          -0.20889551213919744,
          -0.23304112297160243,
          -0.2472999443801193,
          -0.2513285376016026,
          -0.2455899364809423,
          -0.23060556674405566,
          -0.20638113775963488,
          -0.17380931943538247,
          -0.13374327438266856,
          -0.0874142750055269,
          -0.03642574903757102,
          0.017057349720258307,
          0.07154589029985235,
          0.12744796471014752,
          0.18015297891562151,
          0.2303096989108589,
          0.27080882884569524,
          0.2946237726037712,
          0.34516902986432696,
          0.3838220538723888,
          0.40120599807496016,
          0.40911726523551156,
          0.41184634913362433,
          0.41706944546725483,
          0.4187622757807357,
          0.43028193211773963,
          0.4304881732108627,
          0.4489003058277114,
          0.47841565725741597,
          0.5242855572104974,
          0.5824756003747356,
          0.6758903815081078,
          0.7944726215769558,
          0.9590110135365175,
          1.17447680952543,
          1.4447510071040133,
          1.7919139690028467,
          2.244696461593641,
          2.8145008570640497,
          3.520365638822554,
          4.424108036930237,
          5.573438080720508,
          6.961963215813065,
          8.717147963983825,
          1.8053370515926699,
          1.7188493689576134,
          1.465062385828737,
          1.270141730476369,
          1.1174952186069518,
          0.9988667812614442,
          0.905937984899105,
          0.8320218648641182,
          0.766946417054945,
          0.7104442648446659,
          0.6549530704497013,
          0.5999927431035452,
          0.5435560478745628,
          0.48756863445801,
          0.4334639018933379,
          0.382632783994397,
          0.3396933348696496,
          0.3051588931808685,
          0.28056043822441645,
          0.2664168137928702,
          0.2626759587045255,
          0.26907356846207486,
          0.2857490096519564,
          0.3116039301483176,
          0.3459929615438699,
          0.38661491696425404,
          0.4341821153731582,
          0.4859715947684562,
          0.5421924572798001,
          0.5970342403626079,
          0.6551062066224924,
          0.7054981360894824,
          0.7509927343493954,
          0.8009623698798193,
          0.7912705123411296,
          0.8581321068965928,
          0.9049428620844565,
          0.9156900583580606,
          0.9237541296654144,
          0.9302839965951942,
          0.9318402020893496,
          0.9345640746144713,
          0.9451189544005235,
          0.9413233847540423,
          0.9616905371743953,
          0.991584082566832,
          1.0371815512144509,
          1.1040157663479049,
          1.1977345884235295,
          1.327730776004477,
          1.4986403512280317,
          1.7164665780580277,
          2.004890249467816,
          2.3769746294962735,
          2.837710641449005,
          3.4460095671109743,
          4.1527303324027365,
          5.100478237288768,
          6.400388391310674,
          7.620065181114025,
          9.627822310671412
         ]
        },
        {
         "hovertemplate": "Sensor=Eletrodo 4<br>PC1=%{x}<br>PC2=%{y}<br>PC3=%{z}<extra></extra>",
         "legendgroup": "Eletrodo 4",
         "marker": {
          "color": "#19d3f3",
          "symbol": "circle"
         },
         "mode": "markers",
         "name": "Eletrodo 4",
         "scene": "scene",
         "showlegend": true,
         "type": "scatter3d",
         "x": [
          -5.301986722452407,
          -2.9428706237033118,
          -2.6271398739168546,
          -2.295057528546245,
          -2.013367782132005,
          -1.780215666717909,
          -1.5885449740177648,
          -1.429222956449364,
          -1.2922720104601737,
          -1.175584819900376,
          -1.071274982583283,
          -0.9773750115528431,
          -0.8918411253827364,
          -0.8127229541751961,
          -0.7403594189860643,
          -0.6746447520965505,
          -0.6150024177697717,
          -0.5617556931170598,
          -0.5133786979374867,
          -0.4699013919190195,
          -0.431284293989926,
          -0.3944262475831161,
          -0.35966979379700875,
          -0.3261127628834441,
          -0.2922667159221822,
          -0.25850680047738545,
          -0.22322094292622438,
          -0.18651039707688852,
          -0.1482442418979175,
          -0.10703476930812147,
          -0.06396479945099531,
          -0.01818989219456212,
          0.0300158270631989,
          0.08103442402588092,
          0.13698762862001881,
          0.19304883377842924,
          0.25376285211169064,
          0.31888037221422716,
          0.38794454736530326,
          0.46013836345496273,
          0.5367393863684774,
          0.6182246440519247,
          0.7039504702635451,
          0.7932667511685839,
          0.8878308113842468,
          0.9870626958504568,
          1.089999853963517,
          1.1968276263384503,
          1.3055517681565927,
          1.418851501818205,
          1.5353834205937518,
          1.6568581494710448,
          1.7798068440551764,
          1.9067157678025923,
          2.039306061372839,
          2.177162299547208,
          2.321148115382503,
          2.473192384031682,
          2.641140579023832,
          2.8201496099217436,
          3.026178228094442,
          -5.20722846729881,
          -2.9348796094289282,
          -2.6237495140880456,
          -2.293790835863572,
          -2.011807008053592,
          -1.7792549072677126,
          -1.587040940298049,
          -1.4293821334065209,
          -1.2929109760549546,
          -1.1762356809566437,
          -1.0726084660806288,
          -0.9792433178443818,
          -0.8941055892677896,
          -0.815223045508504,
          -0.7428506496243171,
          -0.6767488181363676,
          -0.6164769874491974,
          -0.5622782267041606,
          -0.5130336270700628,
          -0.46889387502050595,
          -0.4287184825092211,
          -0.3914259628910915,
          -0.3561273295845647,
          -0.32193500034664263,
          -0.2875363945882804,
          -0.2535083170362474,
          -0.21829322093184542,
          -0.18202612515804797,
          -0.14292399726776447,
          -0.10283252307951732,
          -0.05966941051025108,
          -0.01384713837338647,
          0.03320577037328256,
          0.08407129200789713,
          0.13613358736257414,
          0.19648125591482948,
          0.25757327934868224,
          0.32250260911923984,
          0.39113618823624197,
          0.4640006901870387,
          0.540731977156776,
          0.6224645045888204,
          0.7090583469003655,
          0.8005320361803008,
          0.8975180058144264,
          0.998598288088161,
          1.1042551599170631,
          1.2127223003123613,
          1.325053503278103,
          1.44324435914163,
          1.5650530540125522,
          1.6891878114995045,
          1.8180838901350826,
          1.9502696075104275,
          2.086435339567222,
          2.2294708799851732,
          2.377228586267337,
          2.5359368697802034,
          2.705294658509989,
          2.8912414177536165,
          3.0941419771080905,
          -5.107442411736944,
          -2.9394028636270355,
          -2.6296595896086874,
          -2.300112306443982,
          -2.018241103963462,
          -1.784720388675611,
          -1.593233581958394,
          -1.4349014468929904,
          -1.2980781930736542,
          -1.1821123254783488,
          -1.0781571165669257,
          -0.9853722537279853,
          -0.9003969419499435,
          -0.822133659220581,
          -0.7503479119787838,
          -0.6843336732633397,
          -0.6242526675450751,
          -0.570481773752216,
          -0.5216668023533344,
          -0.4778965252482901,
          -0.4384266554220833,
          -0.40157630703796027,
          -0.36667099391357805,
          -0.3330398668803133,
          -0.2999829956153071,
          -0.26601632990734037,
          -0.2312021292155514,
          -0.1954611339672637,
          -0.1583513879996183,
          -0.11785963262688127,
          -0.07557773746631788,
          -0.030564112625871366,
          0.016775834163837204,
          0.06725249922369554,
          0.1203332965224946,
          0.1779263977108761,
          0.23851091530222343,
          0.30327733422873965,
          0.372885473155085,
          0.44679266324792666,
          0.5244605109983895,
          0.6071319706666042,
          0.6954354086960308,
          0.7882387203109504,
          0.8861892163021876,
          0.9898407125481242,
          1.0987738174388375,
          1.2106431833136646,
          1.3282683838240315,
          1.4484665809864081,
          1.5738548515301702,
          1.7021520664127012,
          1.8341671987652266,
          1.9723874305567424,
          2.111868154380607,
          2.2571790601340442,
          2.4125948426156687,
          2.5716986134213395,
          2.7424919630542446,
          2.934450274152284,
          3.14275816805409,
          -5.424067494132089,
          -3.037101708151131,
          -2.7203285531852424,
          -2.3883718757534624,
          -2.1070765339797988,
          -1.874463772924148,
          -1.6830914885596693,
          -1.5250808964285092,
          -1.388186322605593,
          -1.2730802601482114,
          -1.1697277781025779,
          -1.0775947422223602,
          -0.9935318456014949,
          -0.9156277238847914,
          -0.8438668822117121,
          -0.7781599807426515,
          -0.7182764308183437,
          -0.6647997396036955,
          -0.616821091015737,
          -0.5742219896089376,
          -0.5356450010565533,
          -0.500561121863014,
          -0.46715920057452714,
          -0.4358175600786466,
          -0.4046320009297382,
          -0.37296975783148867,
          -0.34088559863065504,
          -0.3070771464158627,
          -0.27147025959571264,
          -0.23387948661685126,
          -0.19396967166500909,
          -0.15113226132101737,
          -0.10596085501847298,
          -0.057865691474931646,
          -0.00595899705893655,
          0.04901302124250127,
          0.10757795043646866,
          0.1711616074117882,
          0.23869308568416236,
          0.31038636059191815,
          0.38778208529917196,
          0.47062581476430465,
          0.5578345581421017,
          0.6525746356026063,
          0.7529346867901254,
          0.8583324317841123,
          0.9692024485586799,
          1.0870651157098172,
          1.2103861977859793,
          1.3392353664073915,
          1.4720119330192294,
          1.611126034677295,
          1.7521117123555852,
          1.8969497744800066,
          2.0485914572062347,
          2.206539939426126,
          2.372263342488115,
          2.545306553059726,
          2.7334153383333675,
          2.9318254257569594,
          3.1543462053784257
         ],
         "y": [
          4.884064774092316,
          4.173152843158567,
          3.0341239325306795,
          2.1658604079440105,
          1.4890942218855232,
          0.9596250068669382,
          0.5474899816521087,
          0.23435612318237878,
          -0.005668857164663706,
          -0.17523348927506152,
          -0.2937400387710041,
          -0.3701048040918706,
          -0.41464807961970995,
          -0.43566013358088873,
          -0.4424606225309324,
          -0.44174453280084197,
          -0.43707242514366357,
          -0.4317988784318561,
          -0.4269134452491659,
          -0.42190069137476566,
          -0.4186284140906157,
          -0.41395609729864746,
          -0.4081890255013476,
          -0.401415883038043,
          -0.3920536308906346,
          -0.3810906660684948,
          -0.367608169067797,
          -0.35206266277714304,
          -0.33426181546667644,
          -0.31451430559655696,
          -0.2932686379268192,
          -0.2704006488766398,
          -0.2463501408571468,
          -0.22168375348208164,
          -0.19404031393952892,
          -0.1683954271840268,
          -0.14098659718188702,
          -0.1120010649126587,
          -0.08207787875177489,
          -0.05206613836768633,
          -0.02117029691060116,
          0.010590062703873736,
          0.04299503721659505,
          0.07531254122913784,
          0.10840801315919031,
          0.1418132069348074,
          0.17514765048573547,
          0.20795341355956865,
          0.2398033496192669,
          0.27110681351461746,
          0.3012729280092816,
          0.33076468814280413,
          0.3577461696339533,
          0.3826757420386016,
          0.40554849844110485,
          0.4262424020577229,
          0.444053299695578,
          0.45729943178562665,
          0.469256276744374,
          0.4753773413059327,
          0.4795344592780958,
          4.919667095693512,
          4.177507933052496,
          3.037339047692937,
          2.1669450864848967,
          1.4910546656933974,
          0.9606682556612235,
          0.5496645304549511,
          0.23326637706267395,
          -0.007743300313463343,
          -0.17733688866218356,
          -0.2972112311224559,
          -0.37448490234893206,
          -0.41965971091391385,
          -0.44080977035655317,
          -0.44726969816782286,
          -0.4456607888822701,
          -0.4398004080821085,
          -0.43303309135233586,
          -0.4269674385174409,
          -0.42115367298119566,
          -0.4162626503337986,
          -0.4111659018319049,
          -0.40525738344237877,
          -0.3980225206314119,
          -0.38860417185886265,
          -0.37798327460749853,
          -0.3646201218961343,
          -0.34989522146175833,
          -0.33169780446241426,
          -0.31331213404923924,
          -0.29226397553264905,
          -0.26965712842534334,
          -0.24688133961016054,
          -0.22235176310820673,
          -0.19777218127365165,
          -0.16863380890723992,
          -0.14112049340191868,
          -0.11223312254627578,
          -0.0825696506795035,
          -0.0520575728805819,
          -0.020977007831678607,
          0.010943565066894517,
          0.043671910018662566,
          0.07732609037314685,
          0.11165792086148474,
          0.1459501181508794,
          0.18055792765851067,
          0.21430143602175677,
          0.2476540107360273,
          0.2810535169459283,
          0.31347547066971015,
          0.34413592461145287,
          0.3736549119669587,
          0.40082680383910285,
          0.425617770306208,
          0.4489346343409142,
          0.46773643477348437,
          0.4845284699341896,
          0.49783794841295687,
          0.5074147934459762,
          0.5115202955314357,
          4.939094230773474,
          4.156850800917832,
          3.0170481012020245,
          2.146786571953648,
          1.471050147397866,
          0.9426768172493164,
          0.5304008234820757,
          0.2153455536358978,
          -0.025022166105102474,
          -0.19617787547702584,
          -0.31551212440142146,
          -0.39412424147167374,
          -0.43975923357417196,
          -0.46225796688968296,
          -0.46982455356389263,
          -0.4685194741135733,
          -0.463031602127548,
          -0.45708218330857425,
          -0.451499107690256,
          -0.4462584984462766,
          -0.44228044568031355,
          -0.4377255185703769,
          -0.43229462072016567,
          -0.4255828871657266,
          -0.41726873642069834,
          -0.4066749002518618,
          -0.3936492083930086,
          -0.37902148058475554,
          -0.3624510876792719,
          -0.3430409351578536,
          -0.3222474245279232,
          -0.29972017478235274,
          -0.2763583102162604,
          -0.25123526705944776,
          -0.22537264150380895,
          -0.19820175505735227,
          -0.17045054454159744,
          -0.14127763267889681,
          -0.11062645584821529,
          -0.07918243559465647,
          -0.04733732997094221,
          -0.014629696346182745,
          0.01928046292197957,
          0.053675366363649016,
          0.08867805110867995,
          0.1243569239987439,
          0.16038362652953275,
          0.19571601690473694,
          0.23122242102111581,
          0.2657248961522514,
          0.29961275872925025,
          0.3320814438820543,
          0.36276926627468126,
          0.39225230090073127,
          0.4190908786198654,
          0.442966340201805,
          0.4648977626934055,
          0.48205929252315133,
          0.49636022876734076,
          0.5086163439170396,
          0.5162549734964335,
          4.611400292965615,
          3.9107329260782766,
          2.7728479091835507,
          1.9045757189804486,
          1.2271903495248329,
          0.6967041747092806,
          0.28393483777699474,
          -0.031876564872126714,
          -0.2720828185279267,
          -0.4448222671517753,
          -0.5650998448772373,
          -0.6445655121630889,
          -0.6912746275059795,
          -0.7135657667589195,
          -0.7203046818802492,
          -0.7184479973053555,
          -0.7123440266268258,
          -0.7058601762049596,
          -0.7007211440991606,
          -0.6962370699683899,
          -0.692846749105342,
          -0.6896963161140071,
          -0.6853469771509586,
          -0.6803846020150701,
          -0.6733322340910594,
          -0.6640649304121775,
          -0.6527154954891076,
          -0.6387201563359861,
          -0.6222907380509446,
          -0.6039819377009144,
          -0.5834636112277009,
          -0.5606748700486931,
          -0.5376152717159626,
          -0.5127191655752115,
          -0.4861420091619608,
          -0.4586789536843517,
          -0.4306291343018175,
          -0.4006040300712988,
          -0.3697845470233825,
          -0.3383114746869793,
          -0.30537654269016595,
          -0.27148116385389653,
          -0.23716509682060846,
          -0.20083788092411137,
          -0.16408804636221203,
          -0.12694378718369928,
          -0.08936590608577792,
          -0.05088988961849531,
          -0.012542522440919688,
          0.0257308117242923,
          0.06286226651649185,
          0.09984363112654486,
          0.13421332566225072,
          0.16666853504833923,
          0.19718261495604195,
          0.22619281227621607,
          0.25317870596751085,
          0.2757095271999388,
          0.2962389821801869,
          0.311732566886567,
          0.32543875719339144
         ],
         "z": [
          1.3265370379705768,
          1.15932404369421,
          0.8907692797143412,
          0.6780063219526078,
          0.5065700441568619,
          0.3667272500383344,
          0.2519014681202871,
          0.15529279855447894,
          0.07069829807635582,
          -0.0033491573697257268,
          -0.07122548864279056,
          -0.1333911752831417,
          -0.19018776020432446,
          -0.24206543873872732,
          -0.2879872399653164,
          -0.3278523936585992,
          -0.36225495903533633,
          -0.39156454417687575,
          -0.4172300355447835,
          -0.4396284433306368,
          -0.4592252318916286,
          -0.4775716505916789,
          -0.49453888794852785,
          -0.5106165801028486,
          -0.5263624049203464,
          -0.5416328530976202,
          -0.5570906049824785,
          -0.5726201963745154,
          -0.5880917418859354,
          -0.6042288798494212,
          -0.6203232743070729,
          -0.6366770552673742,
          -0.6530164955468807,
          -0.6696211760984405,
          -0.6865752714284062,
          -0.7030662307236311,
          -0.7200298696639019,
          -0.736991203962668,
          -0.753801462922285,
          -0.7702550308832166,
          -0.7865405511968976,
          -0.8026667621791927,
          -0.8183613843700566,
          -0.8329481831992143,
          -0.8470787002294627,
          -0.8597459993216024,
          -0.8711348664331247,
          -0.8788563469083687,
          -0.8835533389158868,
          -0.8838820567562866,
          -0.8786379155738961,
          -0.8667682041643869,
          -0.8457455529652788,
          -0.8132519103147886,
          -0.7672962783535725,
          -0.7053765070382626,
          -0.6221653880276465,
          -0.5143876755855045,
          -0.3687738074954403,
          -0.18862393438480798,
          0.04743606847504469,
          1.3380832601384571,
          1.1630031669260839,
          0.8936772675319374,
          0.6815269009426683,
          0.5096527912306109,
          0.370170307414608,
          0.2548246587371624,
          0.1596436840703682,
          0.07547602252238249,
          0.001441310810563174,
          -0.06584345473319048,
          -0.12760294998402089,
          -0.1841440297140284,
          -0.23594116681267752,
          -0.281991307638667,
          -0.322184457372315,
          -0.35699266256217504,
          -0.38677930359185275,
          -0.41280716886532237,
          -0.4354447315389604,
          -0.4556767083924662,
          -0.4741585365090376,
          -0.49134015798105163,
          -0.5076499866728406,
          -0.523618439707938,
          -0.539027164821562,
          -0.554374163005169,
          -0.5697281094873455,
          -0.5854981354788275,
          -0.6012651532922281,
          -0.6174249527397746,
          -0.6338274663530146,
          -0.6498947765656771,
          -0.6664535948165037,
          -0.6825386355041302,
          -0.6999234595828543,
          -0.7170352107686558,
          -0.733770375491187,
          -0.7504149900478795,
          -0.7668807840774743,
          -0.7831686420085674,
          -0.7991212634142558,
          -0.8147440341500132,
          -0.8295626141254552,
          -0.8440884111550736,
          -0.8572602364134686,
          -0.8683533668562577,
          -0.8762742169476582,
          -0.8817766945197478,
          -0.8838075472345033,
          -0.8806936895828114,
          -0.8699364601565036,
          -0.8515802649963967,
          -0.8209566774587165,
          -0.7784992572268495,
          -0.7184218497067627,
          -0.6402461153918774,
          -0.5312670030560055,
          -0.39543338735747646,
          -0.2135293667425662,
          0.0074424310333344795,
          1.3944933960631518,
          1.2117993567631848,
          0.9418129280319111,
          0.729449137358474,
          0.5574449352572083,
          0.41705052170654366,
          0.30223512432740496,
          0.20643892319048437,
          0.12196792329152431,
          0.04860235228373618,
          -0.018905609774108392,
          -0.08008692075126947,
          -0.13640873799920894,
          -0.1876559494951699,
          -0.23324287612444933,
          -0.2733318388225461,
          -0.30802157501391053,
          -0.3375893887778972,
          -0.3634282364912204,
          -0.38594500188688485,
          -0.4059092604040945,
          -0.4242454911207289,
          -0.4413150816772406,
          -0.45742121893006693,
          -0.4728744094219981,
          -0.4883125257211641,
          -0.5035920205260875,
          -0.5187823467689635,
          -0.533920136005103,
          -0.5498189977617459,
          -0.5656816132012741,
          -0.5818132192800812,
          -0.59803248617779,
          -0.6142501307432764,
          -0.6303376081305703,
          -0.647258473107596,
          -0.6639736773567646,
          -0.6805738175317109,
          -0.6971103512328701,
          -0.7135457792834748,
          -0.7295890916683235,
          -0.7453676666201319,
          -0.7609900595128541,
          -0.7756276166623335,
          -0.7892765853631584,
          -0.8027487791993395,
          -0.8135379680208888,
          -0.8229737363212448,
          -0.8284557984630169,
          -0.8307190457187961,
          -0.8277368311645902,
          -0.8174329431732758,
          -0.799649299826617,
          -0.7714953963714081,
          -0.7310135689601619,
          -0.6721840478751042,
          -0.5900021105269639,
          -0.48519506733995466,
          -0.35045521358197057,
          -0.17214185810835056,
          0.046902357826773156,
          1.8723360771984991,
          1.706926335004004,
          1.4380617102641093,
          1.225284074990816,
          1.0541080351675063,
          0.9147124464411002,
          0.8001667802337915,
          0.7047355771581505,
          0.6202084509396644,
          0.5475369683936964,
          0.4804085625601796,
          0.4195443711985761,
          0.3636045722735693,
          0.3121682674932167,
          0.26610353878319465,
          0.22567207918627336,
          0.19063029512664656,
          0.1608025274752856,
          0.1350498131289344,
          0.1128399036898891,
          0.09307959724925739,
          0.0754008994177173,
          0.05886706384382257,
          0.04366648295106584,
          0.028905926813248297,
          0.014340626444971537,
          3.8963611027698774e-05,
          -0.014533230842070055,
          -0.029275969117051805,
          -0.04427364640156751,
          -0.059398682058151485,
          -0.07476029043125745,
          -0.09036781066510265,
          -0.10592943548299504,
          -0.12177497150822131,
          -0.13727391057535238,
          -0.15301486840128364,
          -0.168610251167532,
          -0.18393018735279174,
          -0.19882165748765826,
          -0.21361181298409582,
          -0.22781010610860486,
          -0.24138728000909807,
          -0.2546614488191522,
          -0.2669202369835769,
          -0.2773912772311861,
          -0.28634171254961066,
          -0.2946953451733893,
          -0.2994815273153221,
          -0.30085269194786746,
          -0.2972477360821583,
          -0.2880788258286464,
          -0.2697308853669065,
          -0.23962571113033238,
          -0.19811340035628963,
          -0.1418896289503117,
          -0.06249908167943775,
          0.03767703938924534,
          0.17752450053904628,
          0.34596253465759597,
          0.5600058062501196
         ]
        }
       ],
       "layout": {
        "legend": {
         "title": {
          "text": "Sensor"
         },
         "tracegroupgap": 0
        },
        "margin": {
         "t": 60
        },
        "scene": {
         "domain": {
          "x": [
           0,
           1
          ],
          "y": [
           0,
           1
          ]
         },
         "xaxis": {
          "title": {
           "text": "PC1"
          }
         },
         "yaxis": {
          "title": {
           "text": "PC2"
          }
         },
         "zaxis": {
          "title": {
           "text": "PC3"
          }
         }
        },
        "template": {
         "data": {
          "bar": [
           {
            "error_x": {
             "color": "#2a3f5f"
            },
            "error_y": {
             "color": "#2a3f5f"
            },
            "marker": {
             "line": {
              "color": "#E5ECF6",
              "width": 0.5
             },
             "pattern": {
              "fillmode": "overlay",
              "size": 10,
              "solidity": 0.2
             }
            },
            "type": "bar"
           }
          ],
          "barpolar": [
           {
            "marker": {
             "line": {
              "color": "#E5ECF6",
              "width": 0.5
             },
             "pattern": {
              "fillmode": "overlay",
              "size": 10,
              "solidity": 0.2
             }
            },
            "type": "barpolar"
           }
          ],
          "carpet": [
           {
            "aaxis": {
             "endlinecolor": "#2a3f5f",
             "gridcolor": "white",
             "linecolor": "white",
             "minorgridcolor": "white",
             "startlinecolor": "#2a3f5f"
            },
            "baxis": {
             "endlinecolor": "#2a3f5f",
             "gridcolor": "white",
             "linecolor": "white",
             "minorgridcolor": "white",
             "startlinecolor": "#2a3f5f"
            },
            "type": "carpet"
           }
          ],
          "choropleth": [
           {
            "colorbar": {
             "outlinewidth": 0,
             "ticks": ""
            },
            "type": "choropleth"
           }
          ],
          "contour": [
           {
            "colorbar": {
             "outlinewidth": 0,
             "ticks": ""
            },
            "colorscale": [
             [
              0,
              "#0d0887"
             ],
             [
              0.1111111111111111,
              "#46039f"
             ],
             [
              0.2222222222222222,
              "#7201a8"
             ],
             [
              0.3333333333333333,
              "#9c179e"
             ],
             [
              0.4444444444444444,
              "#bd3786"
             ],
             [
              0.5555555555555556,
              "#d8576b"
             ],
             [
              0.6666666666666666,
              "#ed7953"
             ],
             [
              0.7777777777777778,
              "#fb9f3a"
             ],
             [
              0.8888888888888888,
              "#fdca26"
             ],
             [
              1,
              "#f0f921"
             ]
            ],
            "type": "contour"
           }
          ],
          "contourcarpet": [
           {
            "colorbar": {
             "outlinewidth": 0,
             "ticks": ""
            },
            "type": "contourcarpet"
           }
          ],
          "heatmap": [
           {
            "colorbar": {
             "outlinewidth": 0,
             "ticks": ""
            },
            "colorscale": [
             [
              0,
              "#0d0887"
             ],
             [
              0.1111111111111111,
              "#46039f"
             ],
             [
              0.2222222222222222,
              "#7201a8"
             ],
             [
              0.3333333333333333,
              "#9c179e"
             ],
             [
              0.4444444444444444,
              "#bd3786"
             ],
             [
              0.5555555555555556,
              "#d8576b"
             ],
             [
              0.6666666666666666,
              "#ed7953"
             ],
             [
              0.7777777777777778,
              "#fb9f3a"
             ],
             [
              0.8888888888888888,
              "#fdca26"
             ],
             [
              1,
              "#f0f921"
             ]
            ],
            "type": "heatmap"
           }
          ],
          "heatmapgl": [
           {
            "colorbar": {
             "outlinewidth": 0,
             "ticks": ""
            },
            "colorscale": [
             [
              0,
              "#0d0887"
             ],
             [
              0.1111111111111111,
              "#46039f"
             ],
             [
              0.2222222222222222,
              "#7201a8"
             ],
             [
              0.3333333333333333,
              "#9c179e"
             ],
             [
              0.4444444444444444,
              "#bd3786"
             ],
             [
              0.5555555555555556,
              "#d8576b"
             ],
             [
              0.6666666666666666,
              "#ed7953"
             ],
             [
              0.7777777777777778,
              "#fb9f3a"
             ],
             [
              0.8888888888888888,
              "#fdca26"
             ],
             [
              1,
              "#f0f921"
             ]
            ],
            "type": "heatmapgl"
           }
          ],
          "histogram": [
           {
            "marker": {
             "pattern": {
              "fillmode": "overlay",
              "size": 10,
              "solidity": 0.2
             }
            },
            "type": "histogram"
           }
          ],
          "histogram2d": [
           {
            "colorbar": {
             "outlinewidth": 0,
             "ticks": ""
            },
            "colorscale": [
             [
              0,
              "#0d0887"
             ],
             [
              0.1111111111111111,
              "#46039f"
             ],
             [
              0.2222222222222222,
              "#7201a8"
             ],
             [
              0.3333333333333333,
              "#9c179e"
             ],
             [
              0.4444444444444444,
              "#bd3786"
             ],
             [
              0.5555555555555556,
              "#d8576b"
             ],
             [
              0.6666666666666666,
              "#ed7953"
             ],
             [
              0.7777777777777778,
              "#fb9f3a"
             ],
             [
              0.8888888888888888,
              "#fdca26"
             ],
             [
              1,
              "#f0f921"
             ]
            ],
            "type": "histogram2d"
           }
          ],
          "histogram2dcontour": [
           {
            "colorbar": {
             "outlinewidth": 0,
             "ticks": ""
            },
            "colorscale": [
             [
              0,
              "#0d0887"
             ],
             [
              0.1111111111111111,
              "#46039f"
             ],
             [
              0.2222222222222222,
              "#7201a8"
             ],
             [
              0.3333333333333333,
              "#9c179e"
             ],
             [
              0.4444444444444444,
              "#bd3786"
             ],
             [
              0.5555555555555556,
              "#d8576b"
             ],
             [
              0.6666666666666666,
              "#ed7953"
             ],
             [
              0.7777777777777778,
              "#fb9f3a"
             ],
             [
              0.8888888888888888,
              "#fdca26"
             ],
             [
              1,
              "#f0f921"
             ]
            ],
            "type": "histogram2dcontour"
           }
          ],
          "mesh3d": [
           {
            "colorbar": {
             "outlinewidth": 0,
             "ticks": ""
            },
            "type": "mesh3d"
           }
          ],
          "parcoords": [
           {
            "line": {
             "colorbar": {
              "outlinewidth": 0,
              "ticks": ""
             }
            },
            "type": "parcoords"
           }
          ],
          "pie": [
           {
            "automargin": true,
            "type": "pie"
           }
          ],
          "scatter": [
           {
            "fillpattern": {
             "fillmode": "overlay",
             "size": 10,
             "solidity": 0.2
            },
            "type": "scatter"
           }
          ],
          "scatter3d": [
           {
            "line": {
             "colorbar": {
              "outlinewidth": 0,
              "ticks": ""
             }
            },
            "marker": {
             "colorbar": {
              "outlinewidth": 0,
              "ticks": ""
             }
            },
            "type": "scatter3d"
           }
          ],
          "scattercarpet": [
           {
            "marker": {
             "colorbar": {
              "outlinewidth": 0,
              "ticks": ""
             }
            },
            "type": "scattercarpet"
           }
          ],
          "scattergeo": [
           {
            "marker": {
             "colorbar": {
              "outlinewidth": 0,
              "ticks": ""
             }
            },
            "type": "scattergeo"
           }
          ],
          "scattergl": [
           {
            "marker": {
             "colorbar": {
              "outlinewidth": 0,
              "ticks": ""
             }
            },
            "type": "scattergl"
           }
          ],
          "scattermapbox": [
           {
            "marker": {
             "colorbar": {
              "outlinewidth": 0,
              "ticks": ""
             }
            },
            "type": "scattermapbox"
           }
          ],
          "scatterpolar": [
           {
            "marker": {
             "colorbar": {
              "outlinewidth": 0,
              "ticks": ""
             }
            },
            "type": "scatterpolar"
           }
          ],
          "scatterpolargl": [
           {
            "marker": {
             "colorbar": {
              "outlinewidth": 0,
              "ticks": ""
             }
            },
            "type": "scatterpolargl"
           }
          ],
          "scatterternary": [
           {
            "marker": {
             "colorbar": {
              "outlinewidth": 0,
              "ticks": ""
             }
            },
            "type": "scatterternary"
           }
          ],
          "surface": [
           {
            "colorbar": {
             "outlinewidth": 0,
             "ticks": ""
            },
            "colorscale": [
             [
              0,
              "#0d0887"
             ],
             [
              0.1111111111111111,
              "#46039f"
             ],
             [
              0.2222222222222222,
              "#7201a8"
             ],
             [
              0.3333333333333333,
              "#9c179e"
             ],
             [
              0.4444444444444444,
              "#bd3786"
             ],
             [
              0.5555555555555556,
              "#d8576b"
             ],
             [
              0.6666666666666666,
              "#ed7953"
             ],
             [
              0.7777777777777778,
              "#fb9f3a"
             ],
             [
              0.8888888888888888,
              "#fdca26"
             ],
             [
              1,
              "#f0f921"
             ]
            ],
            "type": "surface"
           }
          ],
          "table": [
           {
            "cells": {
             "fill": {
              "color": "#EBF0F8"
             },
             "line": {
              "color": "white"
             }
            },
            "header": {
             "fill": {
              "color": "#C8D4E3"
             },
             "line": {
              "color": "white"
             }
            },
            "type": "table"
           }
          ]
         },
         "layout": {
          "annotationdefaults": {
           "arrowcolor": "#2a3f5f",
           "arrowhead": 0,
           "arrowwidth": 1
          },
          "autotypenumbers": "strict",
          "coloraxis": {
           "colorbar": {
            "outlinewidth": 0,
            "ticks": ""
           }
          },
          "colorscale": {
           "diverging": [
            [
             0,
             "#8e0152"
            ],
            [
             0.1,
             "#c51b7d"
            ],
            [
             0.2,
             "#de77ae"
            ],
            [
             0.3,
             "#f1b6da"
            ],
            [
             0.4,
             "#fde0ef"
            ],
            [
             0.5,
             "#f7f7f7"
            ],
            [
             0.6,
             "#e6f5d0"
            ],
            [
             0.7,
             "#b8e186"
            ],
            [
             0.8,
             "#7fbc41"
            ],
            [
             0.9,
             "#4d9221"
            ],
            [
             1,
             "#276419"
            ]
           ],
           "sequential": [
            [
             0,
             "#0d0887"
            ],
            [
             0.1111111111111111,
             "#46039f"
            ],
            [
             0.2222222222222222,
             "#7201a8"
            ],
            [
             0.3333333333333333,
             "#9c179e"
            ],
            [
             0.4444444444444444,
             "#bd3786"
            ],
            [
             0.5555555555555556,
             "#d8576b"
            ],
            [
             0.6666666666666666,
             "#ed7953"
            ],
            [
             0.7777777777777778,
             "#fb9f3a"
            ],
            [
             0.8888888888888888,
             "#fdca26"
            ],
            [
             1,
             "#f0f921"
            ]
           ],
           "sequentialminus": [
            [
             0,
             "#0d0887"
            ],
            [
             0.1111111111111111,
             "#46039f"
            ],
            [
             0.2222222222222222,
             "#7201a8"
            ],
            [
             0.3333333333333333,
             "#9c179e"
            ],
            [
             0.4444444444444444,
             "#bd3786"
            ],
            [
             0.5555555555555556,
             "#d8576b"
            ],
            [
             0.6666666666666666,
             "#ed7953"
            ],
            [
             0.7777777777777778,
             "#fb9f3a"
            ],
            [
             0.8888888888888888,
             "#fdca26"
            ],
            [
             1,
             "#f0f921"
            ]
           ]
          },
          "colorway": [
           "#636efa",
           "#EF553B",
           "#00cc96",
           "#ab63fa",
           "#FFA15A",
           "#19d3f3",
           "#FF6692",
           "#B6E880",
           "#FF97FF",
           "#FECB52"
          ],
          "font": {
           "color": "#2a3f5f"
          },
          "geo": {
           "bgcolor": "white",
           "lakecolor": "white",
           "landcolor": "#E5ECF6",
           "showlakes": true,
           "showland": true,
           "subunitcolor": "white"
          },
          "hoverlabel": {
           "align": "left"
          },
          "hovermode": "closest",
          "mapbox": {
           "style": "light"
          },
          "paper_bgcolor": "white",
          "plot_bgcolor": "#E5ECF6",
          "polar": {
           "angularaxis": {
            "gridcolor": "white",
            "linecolor": "white",
            "ticks": ""
           },
           "bgcolor": "#E5ECF6",
           "radialaxis": {
            "gridcolor": "white",
            "linecolor": "white",
            "ticks": ""
           }
          },
          "scene": {
           "xaxis": {
            "backgroundcolor": "#E5ECF6",
            "gridcolor": "white",
            "gridwidth": 2,
            "linecolor": "white",
            "showbackground": true,
            "ticks": "",
            "zerolinecolor": "white"
           },
           "yaxis": {
            "backgroundcolor": "#E5ECF6",
            "gridcolor": "white",
            "gridwidth": 2,
            "linecolor": "white",
            "showbackground": true,
            "ticks": "",
            "zerolinecolor": "white"
           },
           "zaxis": {
            "backgroundcolor": "#E5ECF6",
            "gridcolor": "white",
            "gridwidth": 2,
            "linecolor": "white",
            "showbackground": true,
            "ticks": "",
            "zerolinecolor": "white"
           }
          },
          "shapedefaults": {
           "line": {
            "color": "#2a3f5f"
           }
          },
          "ternary": {
           "aaxis": {
            "gridcolor": "white",
            "linecolor": "white",
            "ticks": ""
           },
           "baxis": {
            "gridcolor": "white",
            "linecolor": "white",
            "ticks": ""
           },
           "bgcolor": "#E5ECF6",
           "caxis": {
            "gridcolor": "white",
            "linecolor": "white",
            "ticks": ""
           }
          },
          "title": {
           "x": 0.05
          },
          "xaxis": {
           "automargin": true,
           "gridcolor": "white",
           "linecolor": "white",
           "ticks": "",
           "title": {
            "standoff": 15
           },
           "zerolinecolor": "white",
           "zerolinewidth": 2
          },
          "yaxis": {
           "automargin": true,
           "gridcolor": "white",
           "linecolor": "white",
           "ticks": "",
           "title": {
            "standoff": 15
           },
           "zerolinecolor": "white",
           "zerolinewidth": 2
          }
         }
        }
       }
      },
      "text/html": [
       "<div>                            <div id=\"6830ec55-ef18-46f0-95fc-cfc81b476f1f\" class=\"plotly-graph-div\" style=\"height:525px; width:100%;\"></div>            <script type=\"text/javascript\">                require([\"plotly\"], function(Plotly) {                    window.PLOTLYENV=window.PLOTLYENV || {};                                    if (document.getElementById(\"6830ec55-ef18-46f0-95fc-cfc81b476f1f\")) {                    Plotly.newPlot(                        \"6830ec55-ef18-46f0-95fc-cfc81b476f1f\",                        [{\"hovertemplate\":\"Sensor=AntiHCV Eletrodo 1<br>PC1=%{x}<br>PC2=%{y}<br>PC3=%{z}<extra></extra>\",\"legendgroup\":\"AntiHCV Eletrodo 1\",\"marker\":{\"color\":\"#636efa\",\"symbol\":\"circle\"},\"mode\":\"markers\",\"name\":\"AntiHCV Eletrodo 1\",\"scene\":\"scene\",\"showlegend\":true,\"x\":[-3.808687857062353,-3.3440271981993943,-3.3249710158159775,3.2777612060788024,-1.0815946162441148,-1.1332083322705684,-1.033275195279308,-0.9254393312103214,-0.8186048688471609,-0.7294204418486747,-0.6497415474895214,-0.5788420763455246,-0.5147328581999796,-0.45135552157513326,-0.38679146100680883,-0.31812545343697646,-0.24201709572428767,-0.15592294694559192,-0.05795383399903334,0.053047876656058104,0.1743345474100047,0.3018811806242972,0.42961765150093933,0.5500247927434447,0.6590623228421727,0.7536359772607589,0.8322504466522935,0.8941395369530657,0.9397362474956246,0.973213504716096,0.9982286979195293,1.0177089605867071,1.0372829053766248,1.0565659396132099,1.0810239091789506,1.106866538122188,1.1410931514796185,1.183724480295821,1.2322424521120838,1.288875962905105,1.3538025429626848,1.4260708316565918,1.506097318605804,1.5935245494521348,1.687907730970263,1.789716802497423,1.899954281831548,2.0178995510647564,2.1453598560203653,2.2848890537551596,2.4381580227233686,2.607967104502654,2.7982514121153446,3.0096411681722666,3.243909559992182,3.503221423891956,3.784469594568708,4.0873267862090765,4.4088923977566745,4.736240309612904,5.079232390642268,-3.39974785249811,-2.9379531345163308,-2.9259051539137757,3.039251616252767,-0.6923876975979231,-0.7279200462388418,-0.6284993157796462,-0.5182922758515095,-0.41183540217146697,-0.32043013514231394,-0.24094507794328235,-0.1698186100546151,-0.10448775350628524,-0.04029022833355349,0.025367879829478843,0.09532596434825485,0.1724182541140176,0.25986017779777415,0.3588137870756804,0.4701998819618694,0.5913944865450308,0.7175242216066078,0.8418153486960975,0.9592031318190349,1.0643029700556619,1.15571153929298,1.229398097747246,1.2879221412737112,1.332209016047087,1.3636101519159627,1.3879889781837473,1.4064203200380045,1.4254018752089352,1.4437709367540374,1.467006693079081,1.4964818839750496,1.5310355569393097,1.5735944003148934,1.6224738804898522,1.6795260292482477,1.7436797062018725,1.8158318265760882,1.895381359304933,1.9821933661974982,2.0756579432090363,2.176775751820669,2.285243282022722,2.402071717668624,2.5285452593567452,2.665645971161034,2.815508352552279,2.979746605725176,3.1615427322949303,3.363115978246178,3.5865296583336197,3.830346495961815,4.097893318337172,4.385114263612382,4.689141423887319,5.003439038522389,5.342861930683268],\"y\":[5.775256862365273,4.38510104651255,3.1502943388504443,4.92066327154965,2.335555647506829,1.7052158915817297,1.266679819245105,0.9317759194904498,0.6707897350703786,0.46878468306837057,0.30984709001195476,0.18723686929922695,0.0939730006904557,0.028610736903842336,-0.012819171352123125,-0.03336369142224489,-0.03523702996657657,-0.02128375229970987,0.004731935011300313,0.0413147925324227,0.08338325885857091,0.12746871443813176,0.16917797194289694,0.20411461939481507,0.23085937862855987,0.24827828035419355,0.2569712589713687,0.2585610951868438,0.2536260700364137,0.24565639813831205,0.23554518332569432,0.2251411682946218,0.2169020832323358,0.21124158485546943,0.20972039081069052,0.21248741319107292,0.22030660724213139,0.23491087997788956,0.2533744556612959,0.27645556811973154,0.30348404319369987,0.33326896374526993,0.36587508181395423,0.40069609920013055,0.4372388105839349,0.4756403712521981,0.5162613692891015,0.5588265395602873,0.6038582017413046,0.6522625471986541,0.7044446858155997,0.7612623052838011,0.8236432649419032,0.8916629187107743,0.9648752141758916,1.0434322224969637,1.1262354202913003,1.2114746471312117,1.2973300447288478,1.3770552209614866,1.4550765241097374,6.537611526856529,5.145472085837781,3.908376970260581,5.4122277469517694,3.088705227260912,2.4658855853460047,2.026576627634274,1.693118010377475,1.4316669425986528,1.2315099510798755,1.0723906970520538,0.950007459275505,0.8580127777493598,0.7934674306854609,0.7530130042040052,0.733414240068113,0.7319971205044438,0.7465084474454616,0.7726330675073886,0.8088781516449436,0.8502758248334291,0.8930022668184188,0.9323389310259087,0.9654214680929046,0.9896534460668922,1.005281213407242,1.0120172091118504,1.0120514942531944,1.007302974105483,0.9983923534600836,0.9884935275734009,0.9777556966146252,0.9696964086130201,0.963911809517584,0.9640312351280879,0.9666044664577577,0.9750782287703599,0.9897920585413083,1.0087502831265804,1.032153096214629,1.0588900174233864,1.0887412693753973,1.1212092953574626,1.1557244429192162,1.191934214794141,1.229973081320817,1.2697886643450367,1.3117262901544136,1.356107672488528,1.4031630751219295,1.4535715653348018,1.5076445066573727,1.5663675649340556,1.6298425715346212,1.698519632941621,1.7707454135453011,1.8479313137273803,1.926725238893283,2.0057512402678537,2.0807847932957166,2.1575564499900364],\"z\":[1.1154325143004695,0.764685983799187,0.4413807423291167,0.8722690755288001,0.19633715522494322,0.015942816759950757,-0.11549624695370686,-0.21786904161304035,-0.30191502387044616,-0.3688656318073158,-0.4250329158163838,-0.4723607915391299,-0.5129080419828731,-0.5487620154874252,-0.5809804158626621,-0.6103785309306401,-0.637431092692345,-0.6623753795952155,-0.6857567855089722,-0.7082759917915672,-0.7319575819510595,-0.7591981250017503,-0.7930562791367332,-0.8355550342620842,-0.8858849920935129,-0.942540571842287,-1.0013292028445302,-1.056452028085314,-1.1054982101311175,-1.1456624926653058,-1.1785851828374956,-1.204510000439713,-1.2258746244962948,-1.2428962078971115,-1.2590345663676958,-1.2720835434296094,-1.2866111309954875,-1.3013377111299935,-1.3163551767975699,-1.3321827889468283,-1.3487915761077303,-1.3659580256879655,-1.3833991458991057,-1.4008579507709022,-1.4182052941245618,-1.4350215437787774,-1.4506044480041815,-1.4642812088606274,-1.4750223944102556,-1.4825070609001805,-1.4865893532117112,-1.4855907337340133,-1.4792159844301815,-1.467518486753215,-1.4503480631917505,-1.4260686331310577,-1.397251934202386,-1.3619109051541203,-1.3166127519238113,-1.2557795289042153,-1.1851076555784794,-0.3376522922699051,-0.6881090998164239,-1.0125907696861645,-0.6492409223157949,-1.2584577691955043,-1.4374963555679763,-1.568719069481613,-1.6710786362629353,-1.7550135808368554,-1.8221828684978092,-1.8783024088928644,-1.9256452979539946,-1.9663438423514201,-2.0022989795695025,-2.034629790539171,-2.064123676407256,-2.0911876581892237,-2.1161515079829214,-2.139589300217827,-2.162313024004834,-2.186542047137146,-2.2145743057826572,-2.24943754371719,-2.292543514512004,-2.3438453230337184,-2.4005954013828448,-2.4575934639894683,-2.5115091257546855,-2.558120340668904,-2.596961819444566,-2.6282091741420763,-2.6529218616126586,-2.6730896053098214,-2.6891572876002443,-2.702893932498464,-2.718480485661444,-2.732730199806333,-2.7473418043712035,-2.7622985838320537,-2.778149864304777,-2.7945485333883653,-2.81173250980648,-2.8290730827851274,-2.8465589481616207,-2.8637728027091467,-2.880401164374874,-2.8957407924254848,-2.9095384506495363,-2.920968656170189,-2.9294510088736527,-2.932911789573145,-2.9324919242457277,-2.9267013662015153,-2.914563880786688,-2.8962860041994842,-2.8712434015931323,-2.8370613986530175,-2.7961057524589563,-2.7417113938030235,-2.6704542921099432,-2.5826312915948706],\"type\":\"scatter3d\"},{\"hovertemplate\":\"Sensor=Lignina<br>PC1=%{x}<br>PC2=%{y}<br>PC3=%{z}<extra></extra>\",\"legendgroup\":\"Lignina\",\"marker\":{\"color\":\"#EF553B\",\"symbol\":\"circle\"},\"mode\":\"markers\",\"name\":\"Lignina\",\"scene\":\"scene\",\"showlegend\":true,\"x\":[-3.8194238868555592,-3.586886312266612,-4.942409393830978,-0.6691422953851077,-1.2452464919527733,-1.1861521110497268,-1.088768600836088,-0.9771891224060224,-0.8662977664673374,-0.7729221985280352,-0.6906758522321301,-0.6179767131369649,-0.5630076756755084,-0.49510095318749947,-0.426667057746565,-0.35564847037290587,-0.2747939905862629,-0.18832876505848867,-0.09659286520136619,-0.0035578484373287233,0.08381299906438441,0.16092968201551242,0.22416450921140466,0.27131473707346293,0.3062083363765887,0.33056350563142295,0.35067094934109155,0.3686895407060582,0.3901120524385292,0.41501840088619724,0.4455259176450679,0.47742331738004723,0.5087710177024497,0.5344898900255308,0.5524470319690278,0.5669751495730682,0.5732589619612787,0.5758750559100548,0.5768371949367898,0.5778041646869283,0.5802178487176876,0.5857305012378656,0.5954125007196244,0.6111106191698987,0.631734878788738,0.6597395839608018,0.6945425938864477,0.7363708124793584,0.7858493792549547,0.8439018287442354,0.9126117125981998,0.9934767774246901,1.084867651206812,1.1950781958876886,1.3227007303249292,1.4709923429080667,1.6475091191641915,1.8598907977491592,2.113413692179585,2.4130363681017357,2.7689669862564172,-3.821279201969123,-3.592963319495807,-4.94761068996089,-0.5852882534407126,-1.230449590130144,-1.1955626344978023,-1.0919111579113978,-0.9852179131904946,-0.8711337717961112,-0.7798371318339239,-0.6967464963997744,-0.6253702975477616,-0.569222733257943,-0.5008606806739169,-0.43202377261650776,-0.36074482396301805,-0.27920163167379114,-0.1917618690438742,-0.09927562760524626,-0.005808676616497456,0.08185408225605066,0.16044198708091495,0.22293594706588066,0.2706201392223104,0.3066418240393977,0.3318218373662596,0.3518359082690699,0.3701122001950526,0.3917070951908067,0.4167321395848928,0.4469288795721193,0.48171425989699235,0.5119904396394447,0.5389645305457601,0.5571469010155372,0.5722797197527,0.5795036242016999,0.5830754274948685,0.5850556017567545,0.5870406661261848,0.5905391847137347,0.5968321596350731,0.6071687640894612,0.6228151911965424,0.6441124613359164,0.6717316798525088,0.70608503223294,0.7478650734677788,0.7978213750471249,0.8555348754335551,0.9228990974870699,1.0020648631676894,1.093229074695776,1.1984048498001394,1.3219014429111586,1.4672513211303868,1.6388912284196253,1.8441385152857546,2.078387139883463,2.3718665710743134,2.712610304079886],\"y\":[6.068712083632862,4.5441274577624915,3.533651297994732,2.4452512722908244,1.8605616775778542,1.3868636881344842,1.0074157099863021,0.7164161119113565,0.49062569639633136,0.3199959968286068,0.18817906913589372,0.08939410223315636,0.00956153240290456,-0.03659092649000835,-0.06333609090757886,-0.07417072519059793,-0.06826116410959882,-0.051220783856322,-0.02626293407712835,0.004092575315702395,0.03431346600291396,0.06152164897066359,0.08318849442076466,0.09743489238865276,0.10557112767296833,0.10761252408272691,0.10600476368987037,0.10090303230421564,0.09442919271475585,0.0863693252604017,0.07788356424704174,0.06798023838977049,0.05646017257691582,0.04241790715177734,0.0253038569057978,0.007857463022714412,-0.01298932346022372,-0.03478737256510765,-0.05669576089182085,-0.07818470421725973,-0.09779318696578936,-0.11456123562243711,-0.1267478033867158,-0.13315768456122828,-0.13491473170074494,-0.1304747973563412,-0.12081508558441023,-0.10724736377732355,-0.09039437507836562,-0.07065465711050854,-0.04843287362722398,-0.02402844975749589,-0.00011894044971381272,0.02636722017549574,0.053353079663787904,0.0804458094306366,0.1097007165101016,0.1429545159996162,0.17937449946283035,0.21635648650481643,0.26001183541387174,6.050964391735278,4.518565598841022,3.506210397524366,2.4210045780306415,1.8395199937664861,1.3611883901471575,0.98465954108747,0.6914065840275267,0.4676848965083938,0.2958105929026716,0.16461626594633808,0.06488925263119627,-0.014104142991004135,-0.060001900215282684,-0.08658352643867748,-0.09738284795210062,-0.09119823825908625,-0.07373208143648885,-0.048495661035859776,-0.018001432685868284,0.012277946481282408,0.0402172043021419,0.06146507360466823,0.07600121228414393,0.08471723248493658,0.08722053095903116,0.08559420026092622,0.08070273004011479,0.07443001447034285,0.06634093702410009,0.057724254261902946,0.04937070707257352,0.037018530732462154,0.02348626409296719,0.0068659002409057375,-0.010416406718263643,-0.0309030024010068,-0.05213373031592542,-0.07340538690774359,-0.09388695456406158,-0.11271480399509506,-0.12873268744465102,-0.14045748162164504,-0.14719867161040945,-0.1487194136810445,-0.14491950633123366,-0.13608264869112094,-0.12317496888395209,-0.10641196971980127,-0.08740802421204887,-0.06656200692331897,-0.04371929810129213,-0.019257874294912894,0.004622422148933345,0.03021449566785036,0.056638508032431985,0.08495668155741425,0.11506354262564907,0.1432200109980091,0.1809936558274817,0.21962820502359154],\"z\":[1.2172473807046957,1.0320075896905245,1.0858053701080574,0.2747252876858128,0.23878767458578662,0.12355384210428647,0.02257814073541501,-0.06442189162313472,-0.13942179342940308,-0.19922501541586807,-0.24843803716115628,-0.2885279759613513,-0.3194851687578455,-0.3469286414676872,-0.3690465322657317,-0.3863896454542371,-0.3992649725855229,-0.40773548938331267,-0.4124965569043554,-0.4140665740704655,-0.4143716907634015,-0.4146311222598664,-0.4163928999102905,-0.4210810448470665,-0.4295784702388314,-0.44298281598684375,-0.46233512843559277,-0.4889913938669403,-0.5235760493079716,-0.566141343460832,-0.6152538452147022,-0.667354725718285,-0.7193052668165344,-0.7660454388435726,-0.8051412203614547,-0.8360850348474153,-0.8584564482723199,-0.8732192643260077,-0.8818890081442267,-0.8860045574639109,-0.886449346891457,-0.8843427749520058,-0.8802138590675542,-0.8753309885445286,-0.8685866271095913,-0.8602402558665851,-0.8490792904770914,-0.8337023464546413,-0.8125854793753401,-0.7839633055616684,-0.7448706419561728,-0.692614996481592,-0.6232392798313207,-0.5336180885580446,-0.4172411260548785,-0.27082806210076615,-0.08182544976373263,0.1521548919207987,0.4450916512679055,0.8137574045445983,1.2482371406264021,1.2662264277191648,1.0850786744366347,1.1387354131204632,0.31523398325202784,0.2888641827444372,0.17791573692066395,0.07556761284483393,-0.010404739106963032,-0.08616299908124503,-0.14541021225030007,-0.19481850397119133,-0.23454690116597923,-0.2656486621546741,-0.2930367320542193,-0.3150604897831,-0.3322792963788514,-0.34501192827337934,-0.35331230682163395,-0.3578979622344983,-0.3593880299013423,-0.35950858114201073,-0.3595714068948034,-0.36135654794858896,-0.36600911461799523,-0.37432084048645275,-0.3877202709849479,-0.40698949236245274,-0.4335842577538402,-0.46808538897797797,-0.5111303703730645,-0.5605986440501766,-0.6129687946568024,-0.6659900723240213,-0.7137242417136374,-0.7529990951088245,-0.7850341180003294,-0.8085369151127217,-0.824229131539752,-0.8339313848368999,-0.8388120529786586,-0.8401153219618464,-0.838758584161484,-0.8354932809268922,-0.8306529090441795,-0.8245235176736272,-0.8163744858986098,-0.8056247289414079,-0.7909566957190044,-0.7707839352785291,-0.7428556555739793,-0.7049511420817489,-0.654322504431036,-0.5880657567754575,-0.5005493341534704,-0.3909436554131287,-0.24815444463425057,-0.0663932191417504,0.16156026426954917,0.4432403800172669,0.7942172648885639,1.2142350020909836],\"type\":\"scatter3d\"},{\"hovertemplate\":\"Sensor=Eletrodo 1<br>PC1=%{x}<br>PC2=%{y}<br>PC3=%{z}<extra></extra>\",\"legendgroup\":\"Eletrodo 1\",\"marker\":{\"color\":\"#00cc96\",\"symbol\":\"circle\"},\"mode\":\"markers\",\"name\":\"Eletrodo 1\",\"scene\":\"scene\",\"showlegend\":true,\"x\":[-3.4003113388037143,-3.1607580533252926,-2.753015986029979,-2.3967703235837914,-2.103510759774863,-1.8603927087459817,-1.6590075337260346,-1.493525788474327,-1.351298980146863,-1.2320671485824433,-1.1289268880053327,-1.0389867044103878,-0.9626084410611336,-0.8975146723183917,-0.8447687498192693,-0.8032673745502206,-0.7728353415663367,-0.7538018383050538,-0.7447101490375909,-0.7448883504227282,-0.7526662290858379,-0.7652624866590046,-0.782762044757194,-0.8025102380054125,-0.8210724151924528,-0.8378217153887291,-0.8515190747699997,-0.8592637632355411,-0.862033766442981,-0.8580801873882823,-0.8455982199302502,-0.8300467888888101,-0.8046493873834406,-0.7785872975549655,-0.739214194409618,-0.7121984345301916,-0.676289046185647,-0.632800182660414,-0.5862687991010026,-0.5348784475990643,-0.4789515712712184,-0.41754756226367,-0.3486281106440335,-0.2683888651900994,-0.177298820939355,-0.07021503605390905,0.056874371284689425,0.20899154464143282,0.39095979966472705,0.6082874645325899,0.867674686602323,1.1773538765467293,1.5396207344674901,1.9631136063951484,2.4767768719561642,3.118967581894295,3.9459010646201707,5.066199135226611,6.613331799798866,8.784665598047129,12.07474463553623,-3.2004465523516186,-3.1304554772717696,-2.729290459469757,-2.375249641517819,-2.082882206568122,-1.839339005255121,-1.6399339187686042,-1.4757667980750058,-1.3340529329548485,-1.2158186483943187,-1.1132964932039402,-1.025167548099985,-0.9499006393537704,-0.8849487652639177,-0.831486811120126,-0.7888850849488823,-0.7572540399267846,-0.7358517927635907,-0.7243343465884821,-0.7216100796141117,-0.7264562428192346,-0.7368583291977239,-0.7502509807769077,-0.7668934063844645,-0.7830278796181996,-0.7969373408399758,-0.8080190969818107,-0.8134909766852602,-0.8138833664517191,-0.8086119735504191,-0.7960011908176774,-0.7788964098145652,-0.7599123137546577,-0.7301958983224229,-0.6981431274374651,-0.6667306322054422,-0.6307537773949584,-0.5895159804796621,-0.5443592507534268,-0.495476048342757,-0.4418988593670222,-0.3829340937507268,-0.3167096352349637,-0.23947467488543,-0.15174082025062127,-0.049236623690655124,0.07241104219405702,0.2181774165584588,0.3919423175517851,0.5988535354389734,0.8488051856320324,1.1492538496075768,1.4970976584469509,1.9165261514775755,2.4242382313259356,3.0597667550411183,3.878396276019748,4.9740556781503455,6.4860732072907075,8.689769687848242,11.839931804546449,-3.193176343207121,-3.1366848275410946,-2.7361915386746456,-2.3837649130006398,-2.0887109755193976,-1.8455854765032262,-1.643583169906953,-1.4782308207944581,-1.3352675154976605,-1.2161104415065973,-1.1122469771931986,-1.0243617406237417,-0.9493356395146885,-0.8860640941959215,-0.8342269152977756,-0.7939834753945163,-0.7645313911960068,-0.7463599253003035,-0.7374031814537758,-0.7373431219930209,-0.7440198677033607,-0.756152179448075,-0.7720254589098675,-0.7886905225806136,-0.8055540120731913,-0.8195627277635578,-0.8297382561875645,-0.8346186092732011,-0.8348730829454338,-0.8283757365693255,-0.815600565068917,-0.7982802894186537,-0.7751936283171732,-0.7453756782739769,-0.7174403263565876,-0.6812248361025284,-0.6459097162005564,-0.6038735924647515,-0.557868937183011,-0.508754081656926,-0.45428226244164543,-0.39453742873147035,-0.32657043339002023,-0.2513447036590544,-0.16253210712795446,-0.05950056530913534,0.06283606447871369,0.20919629330848097,0.3836133442839999,0.5924460163019478,0.8418506431016488,1.140992812438575,1.49426912046367,1.9117770085677748,2.419502129340133,3.048113470910653,3.860801860276418,4.953507996061099,6.462572785679561,8.625283576154128,11.779592956460553,-3.4630039459912494,-3.2518559106764293,-2.8452890694789748,-2.4894740198535046,-2.1954355687810976,-1.9540698099890546,-1.754309554891321,-1.5909466784876811,-1.4501953963968344,-1.3323419889671726,-1.230264214643565,-1.1429038853997082,-1.0677197434125565,-1.003922391237603,-0.9515130325470553,-0.9104098887155716,-0.8802304050298735,-0.8614107308375514,-0.8524083281039859,-0.852693421272741,-0.8603544928974782,-0.8736495592318979,-0.8902288131915873,-0.9089171267626734,-0.9265051257861756,-0.942345899096405,-0.9545874541938054,-0.9592215500721344,-0.9589876298568475,-0.9521598186542108,-0.9393056173772149,-0.9214237130943475,-0.895607973372589,-0.8683937850145212,-0.8295335231893569,-0.8006998327450795,-0.7629624291866249,-0.7189573574718773,-0.6720535715013746,-0.6208142081959339,-0.564564364124657,-0.5027462588908524,-0.43390962940827643,-0.3534691848815044,-0.2617450576114,-0.15525476949153036,-0.027552932721440472,0.1232576955154097,0.30411691652399253,0.5189827126931809,0.7777285618871214,1.0777165043245915,1.439474900312579,1.8645647175852587,2.3763422546755204,3.008479477955124,3.824344236191502,4.927924922903727,6.469727677733224,8.656588712078062,11.843188844407893],\"y\":[5.433131274428405,3.9380448323169457,2.8368804200628577,1.9876547251755892,1.3257091236066558,0.814801281152789,0.4237983624835218,0.12593769713343328,-0.10022801423874235,-0.2614857062109528,-0.3793234122554392,-0.4603688524329258,-0.5193874740831135,-0.56297434841031,-0.601074038797758,-0.6379898127826449,-0.677538797440819,-0.7236908421351448,-0.7773979443497915,-0.8378869951061556,-0.9047887179392076,-0.9743138953949353,-1.0478676101122102,-1.1209896718575143,-1.1879954749781287,-1.2476353652047756,-1.2981860483149437,-1.3341104577183405,-1.3575407164182025,-1.3648793052316914,-1.3533339555156012,-1.335284413478753,-1.2956434119237847,-1.2560835947355353,-1.1909836292708695,-1.1520842772402913,-1.099019529255081,-1.034452603817155,-0.9694368667508052,-0.9018562173966709,-0.834578179954299,-0.7683589275071785,-0.702212092670633,-0.633504723431516,-0.5665203394877817,-0.4987627802527579,-0.4287879243261437,-0.3557734970961874,-0.2768654429411032,-0.18971232474062108,-0.09053669099833632,0.024649114777799054,0.16099486705330157,0.3246146971675678,0.5319413292504712,0.799891759736115,1.1612369789025925,1.6684516693236937,2.3825925630666753,3.3986747890120568,4.953973534151441,5.521793460552797,3.9745016994555202,2.875282270057179,2.026539775975413,1.3650283298344508,0.8559653830642175,0.46140622856487207,0.1609336666678948,-0.06654654832128591,-0.2303322202670655,-0.35000310210330726,-0.43539928387055854,-0.497261264837071,-0.5417825778687309,-0.5790702904278192,-0.6144643988341826,-0.6523651462946488,-0.694388331600622,-0.7438247797301544,-0.7988548754573707,-0.8602347608782069,-0.9252302171586898,-0.9903955176568169,-1.0573306557198305,-1.1190382027448402,-1.17312099556693,-1.2183102311373917,-1.2494010202621848,-1.2679947668502618,-1.2734978629871039,-1.2623676350138233,-1.2412593117797532,-1.2172789668348074,-1.171466042942965,-1.1213720173266153,-1.0758471359587094,-1.0243479522238836,-0.9659363983290554,-0.9050922779212653,-0.8436741800445965,-0.7822452839710203,-0.720545496791616,-0.6596838032616751,-0.5958223775116392,-0.533170018825186,-0.4695279073412341,-0.4033927687386708,-0.3341722599571161,-0.2591765054817506,-0.1763543836129096,-0.08151296540621954,0.03010899228567777,0.1610048482696557,0.3214919192712065,0.5237037694687732,0.78825009331215,1.1455982564859206,1.6387503579527232,2.33259248788691,3.364353361034315,4.850164862212828,5.504704269511158,3.9535316848443,2.85416863477457,2.002799780974661,1.3464421890291516,0.8367273296437943,0.44744851199797897,0.14943865530934203,-0.0755696295212491,-0.23765356731466517,-0.3550120304734056,-0.4414238867269549,-0.5043720551770958,-0.5528084715033424,-0.5938129299145756,-0.6341012620275975,-0.6764175998730879,-0.7245353551047871,-0.7787835322158692,-0.8386859911942645,-0.9034876220215299,-0.9717653659423388,-1.041447688427741,-1.1080989128804384,-1.1714528622306595,-1.2254457322903998,-1.2687554344293963,-1.2982725122432353,-1.316441147786595,-1.3187066622011443,-1.3071857854106397,-1.2856971986000048,-1.2526987479670537,-1.2051036852823531,-1.1644484515095002,-1.1088129126549289,-1.0583410445139214,-0.9982586096662744,-0.9355337295711234,-0.8738553116981193,-0.8106723792778104,-0.7484554990976586,-0.6846283265732807,-0.6235389066375311,-0.5597934844127234,-0.4958311484686322,-0.42950831061715344,-0.3599284868827627,-0.2845034070141248,-0.20083888290625776,-0.1062353022865643,0.004578538965282134,0.13702716256505268,0.29670764543578676,0.49892920161164866,0.7614953746157204,1.1140424421809128,1.6056613849403063,2.29908030570656,3.3107098155579036,4.798007384191919,5.186605352637144,3.679541975264925,2.5774022400754903,1.7275986484715373,1.0672341181177998,0.5528476256658692,0.1584602054270919,-0.14383970973402055,-0.3731085275136397,-0.5371920170775789,-0.6570718873817001,-0.7430891851719184,-0.8039826230248174,-0.8494670935613802,-0.8875219128382209,-0.9245636132272215,-0.9639807103848558,-1.01012631001169,-1.0636542039301211,-1.123988959196177,-1.1906690699196105,-1.2612078812249141,-1.3329692291750421,-1.403546784825831,-1.4686428576057042,-1.526322906588584,-1.5739950715556867,-1.6028310289268526,-1.6197277204637694,-1.6209962284543884,-1.6086872065313107,-1.585412259062439,-1.5454068087867279,-1.503695469501571,-1.4400405936353302,-1.3981000638918961,-1.3424246939947533,-1.2776964399216957,-1.212988957894334,-1.1471507456308219,-1.0809016274693146,-1.0150364327116983,-0.950718320826247,-0.8828855511205159,-0.8169566347812586,-0.7505414378480476,-0.6809460406825725,-0.608570730504735,-0.530733743710388,-0.44459980381361813,-0.34603978616358494,-0.23379422524201282,-0.09929817098380288,0.06497528383817346,0.2702519967726996,0.5334121138238602,0.8904980394925136,1.3873369820482766,2.099564779625179,3.122316386135981,4.626860093972739],\"z\":[1.5468647444377948,1.2252059396743638,0.9682070221745535,0.7544790757065186,0.579987065007708,0.433999589264812,0.3111934214482186,0.20882460725873364,0.11880442872247855,0.04153948844800666,-0.026388182647737093,-0.08650003401479522,-0.13732451450023486,-0.18019561070118106,-0.2138415307912135,-0.2390358791017223,-0.2558369213848073,-0.2637117926678051,-0.263499295366865,-0.2554221923737575,-0.24056117083014109,-0.2211236027457853,-0.1969199766543996,-0.1705031962616299,-0.14508043392803302,-0.12155348001151399,-0.10104400073777486,-0.08648660672478557,-0.07692264860565233,-0.07403617949360194,-0.07932311125771944,-0.08681663350552726,-0.10317842199410085,-0.11831077177904395,-0.14411184477014619,-0.154857961464008,-0.1704934306920673,-0.18771450672874737,-0.20094424775577407,-0.21010404595663099,-0.21228635843694804,-0.20491025958823825,-0.18677323709845828,-0.15464848542149834,-0.10514780718590154,-0.03307334199410591,0.06483295924544241,0.19485316127614605,0.35726049151762423,0.5551426584891873,0.7865444346202134,1.0526197035982254,1.336891723471315,1.6266015902890096,1.9170776509130705,2.217594500618585,2.505511618328032,2.793075018981435,3.1066957650429208,3.4660209304817924,3.954076790064561,1.5454904933262834,1.2152814081517285,0.9555595770225453,0.7410133113858695,0.5660400880997661,0.41909164003324095,0.2978502192400788,0.1966425385636273,0.10721970297008827,0.031133968380725376,-0.035926570536840736,-0.09405535495054813,-0.1435896075084168,-0.18602243324875448,-0.22001786134223558,-0.2459389390040859,-0.2636556467778249,-0.2735946949768185,-0.27566871266954257,-0.2704871236527483,-0.2586642066425567,-0.24175336244306722,-0.22191296445659778,-0.19885494838068327,-0.17629250433568003,-0.15579202520770583,-0.13813876689221574,-0.1260865567153168,-0.11904513174122869,-0.11736947167714573,-0.12266255153434394,-0.13169184242109713,-0.14114305796361312,-0.15960542477659245,-0.17828284861086607,-0.19295608717085877,-0.2082430807697016,-0.22351206276997035,-0.23575296938473667,-0.2433928067300304,-0.24438057892598733,-0.23808164919347566,-0.22000297943900313,-0.18995596147258412,-0.14366597397556924,-0.07736160962495905,0.012554781386633303,0.1325469784413827,0.28188679413363427,0.4633483556854251,0.6811394934969153,0.9334446359960933,1.197956914969444,1.4841712830196405,1.7775994687043346,2.0708610278389226,2.3514282348799926,2.6371511987378184,2.960206347648635,3.330389103602182,3.7957433845820616,1.5946724132856236,1.2636264262059818,1.0038238859781516,0.7903993995683037,0.6131161623065771,0.46644675278515907,0.34281140976663227,0.2405058658954776,0.14998676693221125,0.07316128726657115,0.005102728321021297,-0.052573423216030375,-0.10163935156159562,-0.1424440598874826,-0.17495666966994608,-0.1989041667149923,-0.2148261137180091,-0.22210956726521014,-0.22195537633509746,-0.21434722692661837,-0.20071852057163955,-0.18202813896565115,-0.15975173323038683,-0.13657068348710036,-0.11309468566106297,-0.09247199693787744,-0.07565937423026269,-0.06426268248867965,-0.05735240231116856,-0.05708421468280056,-0.0625579213625375,-0.07176452064054677,-0.08544355355575464,-0.10434611354974943,-0.1188578323673182,-0.13820758354617665,-0.15289225253820365,-0.1686949110403513,-0.18165018509914044,-0.18920339848008594,-0.19076334183231816,-0.1838049616895402,-0.16709168822876172,-0.1355657663829501,-0.08882405112224181,-0.021942305849785012,0.06937807202875809,0.18991069056999357,0.3397938538615869,0.5232305371475158,0.7410385237805512,0.9931157505620134,1.264668525103871,1.5509175061012523,1.8439846638753825,2.129872374194682,2.418362786168509,2.709431965428074,3.0244633113813335,3.3874929278655777,3.862347820821721,2.0927789995439645,1.771431002369022,1.5146972323059473,1.301190079659329,1.1259601906592605,0.9815364354969777,0.8602638299034168,0.7599060734532805,0.6712590367368494,0.5952379445629872,0.5281772933636182,0.4701995559310922,0.42015822736424263,0.3781052523993889,0.34447930920587866,0.31945924819242605,0.30281187217590877,0.2951888815048509,0.29562247597790314,0.3039700636706995,0.3189567460975172,0.33916587767105333,0.3626723968354853,0.3880968706932157,0.4126698900434664,0.43533484185825033,0.4544604684074199,0.4657409687760475,0.472233952046238,0.4722181069516759,0.4666793180917431,0.4568858614022094,0.4402808621393173,0.42431209678578774,0.39936444327292697,0.38734346299737343,0.370902026195825,0.35372376206503714,0.3410538559824269,0.33307827722517985,0.3320951722097645,0.33944255267911927,0.3590538439214011,0.3912179112586643,0.44178289816873667,0.5129356992687547,0.6107462889565938,0.7369369506181092,0.8967469560422013,1.0889820594474648,1.3188089670774192,1.5706394008891642,1.8565291427041757,2.1464959496053373,2.438364863319664,2.7319469699440475,3.0111954923830333,3.3038390874825416,3.6142238546982104,3.983595924446751,4.458146022392641],\"type\":\"scatter3d\"},{\"hovertemplate\":\"Sensor=Eletrodo 2<br>PC1=%{x}<br>PC2=%{y}<br>PC3=%{z}<extra></extra>\",\"legendgroup\":\"Eletrodo 2\",\"marker\":{\"color\":\"#ab63fa\",\"symbol\":\"circle\"},\"mode\":\"markers\",\"name\":\"Eletrodo 2\",\"scene\":\"scene\",\"showlegend\":true,\"x\":[-4.89819656808651,-2.8925219838525233,-2.5955644025373004,-2.259998390976662,-1.9700773765364685,-1.726244440705508,-1.5222673251288668,-1.3515580165229124,-1.2037985017011363,-1.0796385781798565,-0.970662335586442,-0.8749784795875581,-0.790922981006737,-0.7163296304457352,-0.6501253115888379,-0.5910898766707953,-0.5381408059259707,-0.49102665734859613,-0.4479733521308838,-0.4086313973604925,-0.3723741671223358,-0.337434532478148,-0.3034631137909088,-0.26927949538094226,-0.2347900667879034,-0.19921981272870018,-0.1626189475126767,-0.12390747297498647,-0.0823018259104395,-0.039712379883784746,0.005364914941218015,0.05281184459753918,0.10250050646195757,0.15476304974325844,0.21144320518605803,0.26810380842609816,0.3296908012927243,0.39410087414126377,0.45879544628664193,0.5246770662754126,0.5899833472163719,0.6547674930700578,0.7200932633289908,0.784420447610819,0.8521046783656063,0.9231084740082494,0.9999402872437938,1.085770023389155,1.1813785258007095,1.2879935928422335,1.4079501593106056,1.5454663426609878,1.6980876156119225,1.8685658908700187,2.061480861674976,2.276742235574981,2.517922439339379,2.791194068317696,3.09776778781104,3.4366579503637964,3.826909975462144,-4.546829048800704,-2.80840698016284,-2.5640962081011764,-2.234550514745329,-1.9462271495052923,-1.7032436562867757,-1.4986042036080334,-1.3286746733960342,-1.1803781138151752,-1.0561191467427913,-0.9478377446077156,-0.8528682300148936,-0.7698863008856631,-0.6961890899080923,-0.6303880141167494,-0.5714483877258376,-0.518690302146016,-0.4719585530227147,-0.4291171783121751,-0.3903460813733549,-0.35447842354146464,-0.3204556041787372,-0.28713969028785397,-0.2543614858253711,-0.22029529137206058,-0.18552894386412772,-0.14936804911430362,-0.11047829861687768,-0.06999011952145802,-0.027019344824293953,0.018273026647742253,0.06643326599230094,0.11725960939374667,0.17074786240740764,0.22734703758787736,0.28724165347268593,0.34927962437017424,0.41319912421804256,0.4765882635367628,0.5403469800214153,0.6028466398555248,0.665182287623455,0.7285405238419336,0.7927873008309891,0.8600968013899601,0.9315692087524842,1.0101298326596508,1.0964146332285367,1.1944770624939447,1.3048622024245622,1.4300008299009666,1.5742537407365225,1.7361973077008919,1.9210090411051477,2.126483755617807,2.354162308022411,2.6092699809863444,2.8918955516289024,3.210875522784081,3.5501335200759976,3.936022011719429,-4.495284409988757,-2.783513900131194,-2.5645202367101074,-2.236970643019004,-1.947302708447958,-1.703908989253215,-1.4996595104799817,-1.329271265700309,-1.181806035032091,-1.0571430066651857,-0.9491030038599918,-0.855108648053849,-0.7729683449252099,-0.6999704816111079,-0.6355130081607112,-0.5781638189221063,-0.5278029572255426,-0.4832964138196851,-0.4437436621830208,-0.4076514137952924,-0.3748849394195313,-0.34337110446665275,-0.3126326960198684,-0.2811199551720798,-0.24867040910799057,-0.21449872702152284,-0.17865648053623845,-0.14087359802623037,-0.10060709834059882,-0.05863726449391065,-0.014352709908583712,0.03222477280209074,0.08146753534030175,0.13400568830338147,0.1881537259671336,0.2455145267930762,0.305034262252024,0.3653517514802591,0.4269606131490414,0.4885057779562203,0.5493619258344036,0.6101003855943458,0.6717482123244822,0.7359564907919922,0.8028060842307456,0.8745526500893658,0.9527643528323314,1.039384718995168,1.1367258942926495,1.247296558218314,1.3738677598251663,1.5186516692117027,1.6845747008315382,1.8719811365702055,2.08370117326455,2.3192555984897445,2.5829674404840435,2.8748434182231373,3.1996257726275976,3.561414465554324,3.959896460834525,-4.666522902661002,-2.910654114199658,-2.65995226873263,-2.330582556724824,-2.041584561754683,-1.7980083120124106,-1.5949318957245386,-1.4251333866899785,-1.278721292686275,-1.1554738992929583,-1.0490775194984048,-0.9562161245553611,-0.8754891814174494,-0.8039616434110637,-0.741129811541633,-0.6853647372965748,-0.6364028167685662,-0.5931289826449421,-0.5545101215875154,-0.5197223615292443,-0.48772944494277126,-0.45723427343715306,-0.4273440990524817,-0.39667816742773704,-0.3652398219886564,-0.33227652769143196,-0.29780382049283727,-0.26171408853056666,-0.2236162171923974,-0.18329498471432384,-0.1405427330995061,-0.09526554639030561,-0.04797598436068584,0.0024313685118309315,0.05600404799567469,0.11171397533912077,0.1694705389019433,0.2292979505267709,0.2897634875030503,0.3505858353869892,0.4119190410266475,0.4738828599856973,0.5367973171717884,0.6017019130437683,0.6696649816985489,0.7418018731896759,0.819464435412565,0.9047431610096951,0.998725999114935,1.1041975397584254,1.2241691278015068,1.3621834830039867,1.5211497776628755,1.7051834617838815,1.9166963706884204,2.1557357531001156,2.420379034683677,2.7157762892274655,3.054578058169305,3.4175982591107976,3.823047208296263],\"y\":[5.050578410664368,4.20842222342758,3.073707715617142,2.2212630876527717,1.5652163050801025,1.059739056624233,0.6735967377457958,0.3831447704364402,0.16264611756714106,0.003774189873053989,-0.1119296516835169,-0.19318827273272482,-0.2501344842709888,-0.28944171548377523,-0.316659939648777,-0.3358114997966546,-0.34914036585487707,-0.358991815999387,-0.3662790798725088,-0.3706440054866946,-0.37350838338894,-0.37322549110916403,-0.3704835279486268,-0.36470039778688185,-0.35600572568291905,-0.34488977941974425,-0.3315427181056663,-0.3158346939078502,-0.29749919110711065,-0.27831770446768833,-0.2576276239093174,-0.2356582016651935,-0.212673840722365,-0.188908738348701,-0.1636097499720919,-0.13873048457388543,-0.1130794462297908,-0.08705538701858793,-0.062389780763423136,-0.03852604549382664,-0.01623335885501989,0.004716587834380524,0.02549313868043477,0.04553702197694401,0.06685071275523366,0.0894107913474623,0.11417870811801381,0.14214614452712057,0.17321895487328562,0.20741810658312063,0.24486366704000395,0.2869632548685042,0.3319122424710501,0.3804881560761615,0.43288986728435846,0.4899068924612053,0.5508630576804457,0.6175222739602682,0.6891813439485465,0.7646906064446585,0.8510072142558968,5.197961926066237,4.26120976473639,3.109071392469632,2.257527577466547,1.6030407645210532,1.0980660661207058,0.7137618298526007,0.42185621242380744,0.20154562729670178,0.04158944750414579,-0.07696731888519386,-0.16131990624795892,-0.22194053972544395,-0.2646140521764057,-0.29440387363246984,-0.31555422546484835,-0.33098152972303724,-0.3429426650716858,-0.351983454997644,-0.35830062250577144,-0.3625475805424406,-0.36442283296223243,-0.36300897625199796,-0.35901814295191514,-0.35150605912206184,-0.34136491910686106,-0.32857455415970627,-0.3127619653331496,-0.29524812772852893,-0.275868244104535,-0.2546298430811973,-0.2322785932270355,-0.20861165021713782,-0.18412577285254794,-0.15873200472986498,-0.1331771026988887,-0.10772451382393576,-0.08254533891829527,-0.05895075148983742,-0.03644317936191,-0.01542277334480193,0.004783697965457549,0.025100584648600807,0.04541525272895144,0.06712264506560287,0.0903228491908204,0.11631325243171628,0.14490840049420758,0.17767270298499793,0.21396917605344223,0.25451009598737323,0.30015367156541634,0.34954425879520734,0.40438106100025034,0.4631853412968829,0.5254390545719755,0.592127760736941,0.6631721083013821,0.7415298530767701,0.8182869745533494,0.9033993001502085,5.2021153492035275,4.257272740134704,3.0942647117479822,2.242444012172623,1.5911132109871087,1.0874771616722887,0.7027752878400498,0.4116654469294375,0.1896731730534652,0.029979829885783946,-0.08955407716966116,-0.17606652345402118,-0.23868587589178775,-0.28308771185525805,-0.31537887468125364,-0.33926298765028234,-0.35805458354438924,-0.3730650088836581,-0.38596688910935717,-0.3950458629948705,-0.40224830660674554,-0.405623659584408,-0.40603743167937983,-0.4021807228910289,-0.3948143141773934,-0.383909065043933,-0.3701251930208894,-0.3540265393790876,-0.3356846394383445,-0.3160017150633363,-0.2947076194955167,-0.2726666357666671,-0.24884996955641656,-0.2248341138114852,-0.20012741605845905,-0.17499236608702926,-0.15055716224751375,-0.12671070723156133,-0.10340203113766401,-0.08138286749250037,-0.06066138537251584,-0.04067509550451384,-0.020642176089840772,0.0005925025078302346,0.02259689665701284,0.046545294173484845,0.07292267908313421,0.10208988972449119,0.13481584463208954,0.1715060035686806,0.21286665192723161,0.2587744275130487,0.31012014288408846,0.3657523076352383,0.42709706998448815,0.4924163533781866,0.5624109265945513,0.6376236702798475,0.7170884429964989,0.803572146359274,0.8933717057674582,4.92762601284525,3.9952719952393565,2.8459113108572742,1.9934066610243824,1.339636780299322,0.8355557417506647,0.4485669328741856,0.15644107085349504,-0.06707897599096696,-0.2285603523479379,-0.3499729287440234,-0.43722612908398206,-0.5006741974887837,-0.5457315990325784,-0.5787024982139684,-0.6029773913586631,-0.6219311994658415,-0.6368259346761459,-0.6493073607133119,-0.6584382588108116,-0.6650820992560209,-0.6685077088412085,-0.6680892314853728,-0.664022786745279,-0.6563909383628269,-0.6456513171656283,-0.6319159900125397,-0.6162107687070505,-0.5980389503026838,-0.5782896957015353,-0.5568718729547615,-0.533963163791366,-0.5105298599154189,-0.48597600239416455,-0.46028574223007523,-0.43531873011906386,-0.41066164268214755,-0.3860365277264903,-0.36225943942420913,-0.3396688852630791,-0.3178994272542307,-0.2966140989429532,-0.27539761605877205,-0.25395006443836915,-0.23133482957099163,-0.20755265331746858,-0.18201184496030842,-0.1540437871502748,-0.12341009179403295,-0.08959910071725835,-0.051841152591777614,-0.00903139953935896,0.039404216938491575,0.09346565393566128,0.15462486852212323,0.2211835835989069,0.2910603970787167,0.36691849132102206,0.4516348669464942,0.5364265476983622,0.6292013749645486],\"z\":[1.3547832969250888,1.1528065570357668,0.8765405244547251,0.6557011115833556,0.47470858730664545,0.32413188829309303,0.19786442141487517,0.0914373294838311,-0.0013860258635042596,-0.07960704192098296,-0.14802576803898004,-0.20731933029872185,-0.2581949882091584,-0.30200183451842655,-0.3395738732479917,-0.3720170522393843,-0.4003466678680441,-0.42512514380412786,-0.4475032940255463,-0.46772985454543764,-0.48622674269615973,-0.5036738268474201,-0.5203026000189932,-0.5365442854527068,-0.5523949876227312,-0.5682636007418436,-0.5840484105024505,-0.6002033071780739,-0.6169415598933202,-0.6334862099383316,-0.6504135188421549,-0.6675527992162107,-0.68478396982167,-0.7023443543830339,-0.7207637100945801,-0.7381607938169019,-0.7570747970572147,-0.7763604382036714,-0.7952651475656901,-0.8141494628192649,-0.8322843208705856,-0.8487540578110335,-0.8633393372382636,-0.8747467159419177,-0.8828849459396255,-0.887454830451073,-0.8873205295094501,-0.882565247298833,-0.8716213648866175,-0.8545363378767604,-0.8282974118101485,-0.7936214774513952,-0.7474998353556273,-0.6881157161748512,-0.6117818816489305,-0.5151611212324309,-0.39737416007256665,-0.25057687978560067,-0.06845654531055868,0.14550143484888767,0.39441043074913584,1.3754114920719165,1.1515303696127708,0.8690491066998637,0.645726298313434,0.4632853622969702,0.31214917132653275,0.1850012718578217,0.07918277722964383,-0.01359188501927751,-0.09118617473540246,-0.15825408016173512,-0.21609078679301455,-0.26537785001183145,-0.3078225202347194,-0.3444848208646037,-0.37635860497681256,-0.4042845448281149,-0.4287799256790406,-0.4510710868530023,-0.4711510888183534,-0.4895757394703034,-0.5068303164804318,-0.5232530611725796,-0.5389848787837186,-0.5547796115254495,-0.570355941194261,-0.585982810102189,-0.6021965078260986,-0.6184664089825808,-0.6351776714411005,-0.6519872472487631,-0.669380189239178,-0.6870039456676723,-0.7048548229757743,-0.7230525027212783,-0.7422632735185322,-0.7617365778480514,-0.7813241650164728,-0.8003111656680032,-0.8189898157305743,-0.8361928830918298,-0.8518193493611078,-0.8653889237119488,-0.8761199189281463,-0.8838019897809631,-0.8876013901261042,-0.8877746186022077,-0.8818881048292931,-0.8710358143530763,-0.852102482498266,-0.8257923244226589,-0.7887072255756274,-0.7417277207089685,-0.6827621275936487,-0.6105415661026055,-0.5185136128991222,-0.40786551029934337,-0.2707347023642095,-0.10629730808420716,0.09350740290373755,0.3314481876653929,1.4263708776282913,1.199479075462572,0.9155996271817006,0.6918454756028846,0.5079664256583466,0.3561836431865228,0.22916976071644943,0.12303761870477337,0.030979478987345536,-0.04666321147599325,-0.11329769796646277,-0.17028384843148928,-0.21887580033511259,-0.260810120084176,-0.2967750682876708,-0.328008495782254,-0.35505591581789137,-0.37882926091764,-0.3999643063960308,-0.41904513040093305,-0.43625026121887067,-0.4523702995694977,-0.46770951165093616,-0.4828656310379637,-0.4979545409500406,-0.5132931809453847,-0.5288242649031664,-0.5446647425149457,-0.5609599579497399,-0.5773585549115683,-0.5939687865594919,-0.6109494490592214,-0.6279189047319431,-0.6458692415482884,-0.6633632131204752,-0.6815494750517724,-0.700306988323824,-0.7186113838164234,-0.7368887255497203,-0.7544043884380135,-0.7704901003278085,-0.7849252846027008,-0.7971768102930537,-0.80684330987131,-0.8131389196462069,-0.8160472707496748,-0.8144343469957596,-0.8069633185156855,-0.7930583969788474,-0.7715344947629836,-0.7417092398211974,-0.7020015679353516,-0.6499958286142765,-0.5854591826314316,-0.508593992889124,-0.41235322609151137,-0.29549460957005325,-0.15751088494388696,0.007892847422506982,0.1977253362213626,0.439294422499657,1.917777788397012,1.6944348013265385,1.412708930315431,1.1900386551670092,1.0074584714223784,0.8560225972136631,0.7300110679949903,0.6242878364507122,0.5327766469191076,0.4557177610502665,0.3896316248560108,0.33270799089178366,0.28422307739836117,0.24234490268795295,0.206513995358415,0.17547888133934345,0.14868785844078403,0.12528698475287603,0.10454926686752557,0.08609185982291816,0.06935299612477967,0.053740431322468474,0.038884156089740926,0.024061088112143324,0.00934205024677482,-0.0056459556168103366,-0.020789542636582236,-0.03617259601270387,-0.051762095341234084,-0.06770052562391302,-0.08395360109971095,-0.10040613699967352,-0.11687176479157543,-0.13384411464297977,-0.15091405696220098,-0.16844344025360272,-0.1861685825172993,-0.20383406817149677,-0.22090003126137214,-0.2373436047019573,-0.2525420006525166,-0.26663009052673103,-0.27802961083743494,-0.28722275533386543,-0.29336430314485173,-0.295734441614627,-0.29359390142154657,-0.28608359799070804,-0.2717477088037106,-0.24901477434538244,-0.21643180951298724,-0.17211050112903797,-0.11522400164118846,-0.04297291879776589,0.04524456034670637,0.1511345293718306,0.2788472927595659,0.4297764267628825,0.6075557117694369,0.8197454267850958,1.0602452729392142],\"type\":\"scatter3d\"},{\"hovertemplate\":\"Sensor=Eletrodo 3<br>PC1=%{x}<br>PC2=%{y}<br>PC3=%{z}<extra></extra>\",\"legendgroup\":\"Eletrodo 3\",\"marker\":{\"color\":\"#FFA15A\",\"symbol\":\"circle\"},\"mode\":\"markers\",\"name\":\"Eletrodo 3\",\"scene\":\"scene\",\"showlegend\":true,\"x\":[-4.978052902609398,-2.9561215592517387,-2.6507033020819812,-2.331419567427395,-2.0629277323922643,-1.8461077530289756,-1.6708392925401916,-1.5292716439718368,-1.4073541341813727,-1.3056476599121674,-1.2117060564368929,-1.1243324612066092,-1.0406139522789695,-0.9606100777737795,-0.8848823311255868,-0.8143815248247753,-0.7508818978277212,-0.6966997486992235,-0.6525903708507075,-0.6202261225048603,-0.5994195269304782,-0.5894493339425066,-0.5897915613464816,-0.5998166457015809,-0.6180895408805362,-0.6421298943051229,-0.6727636376612373,-0.707931905237293,-0.7448946775696454,-0.783079451255878,-0.8220222251424393,-0.8639571666708379,-0.8968037701875299,-0.9315878860099847,-0.9419299545676254,-0.9753676467569468,-1.0038120514710491,-1.0094236278179272,-1.0090155092295443,-1.000796199174029,-0.9854181508608161,-0.9659831981786211,-0.9424298027586291,-0.8977011731770007,-0.856249084137308,-0.8095286420431779,-0.7516638794212785,-0.6879756477998454,-0.6114372845100526,-0.5240734890314919,-0.42021998988419085,-0.29955832000849,-0.15452912870330182,0.03167195470642028,0.24940109427055215,0.5066375156527189,0.8306699200299954,1.2552741175090592,1.7135605140584032,2.3480077222725675,3.2366886230760774,-4.9944116968547565,-2.960271022714303,-2.6552339874010955,-2.3353595767349726,-2.067617954908243,-1.8523073393830798,-1.6794735528900497,-1.5406775604221004,-1.4234052660627106,-1.325660793747494,-1.2369489937531075,-1.155040844313471,-1.077183427436703,-1.0007976676350048,-0.9278942915845837,-0.858869395751574,-0.7968411921095975,-0.7427640412176696,-0.6985649634258665,-0.6658575458166741,-0.6448927846744271,-0.6353039528073137,-0.6365895423571596,-0.6477492311699603,-0.6672731106696544,-0.6947192769163562,-0.7276588874485125,-0.7646116737719968,-0.8036759211505987,-0.8438459347071636,-0.8843433850345758,-0.924345674647236,-0.9627706114664165,-0.9941005102819214,-1.0138415606128337,-1.0414040460012406,-1.0693260677266216,-1.0749648909303613,-1.0715585568723633,-1.0572525533656916,-1.0381924880607774,-1.0128655337974326,-0.9846655950432925,-0.9341079404258934,-0.8891057460895305,-0.8381684964789202,-0.7767721554358907,-0.7105102639480132,-0.6340489306126214,-0.5427727763266306,-0.4334947831634241,-0.3074901422625634,-0.15668053065559984,0.031145751495300758,0.26283343419140676,0.5407376365013917,0.8695847441229393,1.3043274778143774,1.8494660468366806,2.4937087373807088,3.1753562421605595,-5.179865832591882,-2.9850378143639285,-2.6711694574220353,-2.350265193372372,-2.083018744224065,-1.8665312163143792,-1.6929452321761922,-1.5528616287219053,-1.4342860637028438,-1.3344266627144734,-1.2445819901256214,-1.1616763678106634,-1.0817565138476364,-1.005849806093898,-0.9342287066147139,-0.8681691774408821,-0.8097408766708784,-0.759839346807527,-0.7216401045834081,-0.6953495076009237,-0.6814240079715106,-0.6790804650365629,-0.6870650316195619,-0.7049324345851112,-0.7310493791855316,-0.7640903520140973,-0.8024969903277888,-0.84477677024855,-0.8886924235839199,-0.9329846070615802,-0.9777248350005647,-1.0189192906346125,-1.0568562726414295,-1.085082244580384,-1.0972404188722922,-1.1318375331469885,-1.1535441186692252,-1.1539588459643915,-1.1424376554065616,-1.1221052379643741,-1.0988353883062927,-1.0656848958701515,-1.032958328839484,-0.9786235298543045,-0.9274621402292207,-0.8706752059949221,-0.8018576514502403,-0.7226015837131436,-0.6383975997259335,-0.5331471898789791,-0.41971599987218217,-0.2886797512460354,-0.12192907748845667,0.08267433730242311,0.30939307157273804,0.6317393456646098,0.97450234162899,1.4083189670945233,1.995398841286547,2.6734118622330767,3.5118727325202928,-5.947443611268089,-3.098084853683667,-2.7698468397940377,-2.448006658756618,-2.1804723121660157,-1.9653473071159677,-1.7931689363150314,-1.655124747063444,-1.5373062400905386,-1.4391978829036465,-1.3499848453933612,-1.2678223745476487,-1.1891374058021933,-1.114306484689814,-1.0434408905749364,-0.9767642456006145,-0.918661469153108,-0.8696410494429863,-0.831627361001965,-0.8058439470158046,-0.7922608182605965,-0.7904663304186714,-0.8000156273599969,-0.8191164939876706,-0.8465006374356755,-0.8795669506429766,-0.9189148230955788,-0.9616277247544569,-1.0077743868698448,-1.0521129643263702,-1.0985689287383025,-1.1374937915398768,-1.1710117225252001,-1.2074992546257979,-1.1893602442724818,-1.2379142097538853,-1.2666617884012055,-1.260346204735637,-1.2482022374488067,-1.2305659371318043,-1.2027184965854438,-1.1689352150578234,-1.1336574672401916,-1.0726806196955614,-1.0200312676359256,-0.9576448874595185,-0.8861430448829523,-0.8053578982492415,-0.7133072765723447,-0.6136855513204876,-0.4952442901331333,-0.34048055989579207,-0.174807652057437,0.03804888825469173,0.28499279670780536,0.6136613065734022,0.9566802560501245,1.4437620309323844,2.1014695769702545,2.6235332386215853,3.7063369369268395],\"y\":[4.982365706791917,4.170448092823864,3.002147190556811,2.09913827971367,1.3870404718198923,0.8170724211504535,0.36560330252215645,0.01225622215896669,-0.26003198534725475,-0.45929867024555077,-0.5949396665741384,-0.6774940961701635,-0.7155936788677383,-0.7220049936857766,-0.7078416826511099,-0.6833031613912034,-0.6577600058802457,-0.6390739379693873,-0.631637671686512,-0.6373046526634967,-0.6570643421870289,-0.6900536931813707,-0.7356519230287528,-0.7940574043403011,-0.8638733810973634,-0.9420796550251513,-1.0313586188177544,-1.1282186990484069,-1.2282596987892185,-1.329756465982948,-1.4328435180952312,-1.5422524503735517,-1.631331314018192,-1.724942554511228,-1.7616607053507873,-1.8542719719110252,-1.935928327092353,-1.9658899808129942,-1.9840214303692465,-1.9870320192579065,-1.9772954986161302,-1.962736722788873,-1.9442154794951698,-1.8851508014679426,-1.8434709653988812,-1.8010785177092992,-1.7491881260597586,-1.7030685080414352,-1.6527791494488182,-1.6077116994773502,-1.5635420670865152,-1.528375071385659,-1.4959492963912304,-1.4583507650198853,-1.4348271489898052,-1.4408919962233344,-1.4453550409919238,-1.4490037646804974,-1.51046179162128,-1.5601552105277274,-1.5665154449886054,4.973210445191794,4.1654234564333965,2.994469083409997,2.0911997687055712,1.3770014194609368,0.8034246292382038,0.3463664157582532,-0.013323381075052465,-0.295938333886255,-0.5038337654902207,-0.6505460825673832,-0.744278587712391,-0.7935711911949552,-0.8054300481740905,-0.7939209410899922,-0.7684436778228254,-0.7409453068306406,-0.7174355089843653,-0.7056127641717741,-0.7074013987227421,-0.7247110857296081,-0.7569729306649768,-0.8038989715201572,-0.8643196829934173,-0.9370557246240818,-1.0224018114960527,-1.1171391788150453,-1.2188117765693733,-1.3239163080855652,-1.4300571833369784,-1.5368364003041592,-1.6420233868801921,-1.7447192276852772,-1.8304034083042837,-1.8893417573403595,-1.967802389169771,-2.0486334939919217,-2.079289429918598,-2.0910559600072087,-2.080941910915586,-2.0635286594459394,-2.0367894264809006,-2.0101741166698144,-1.9408131495889989,-1.8945627661188142,-1.8468493906795078,-1.7940126397391007,-1.748482667922723,-1.7050329513198104,-1.6621090378630266,-1.6186491657008142,-1.5854491408252234,-1.5607512890224058,-1.534091192795852,-1.5136885103076536,-1.5109741348642394,-1.5163847261620191,-1.5394131024004336,-1.5770247359876723,-1.6294519943655366,-1.8040119770059446,4.87405003671428,4.128238542630965,2.9599433044550154,2.056083705585888,1.339898508351216,0.7681965542318994,0.31255356684799795,-0.04433084882580521,-0.32408797976442477,-0.5273470249227438,-0.6716915095392364,-0.7634865351819774,-0.8087182670278842,-0.8222317628507394,-0.8141566752589828,-0.7953348813682242,-0.7756951984412374,-0.7605491017872323,-0.7597942200495585,-0.7726447189527902,-0.8019616186281403,-0.8464414384585575,-0.9051142400181778,-0.9779621038146606,-1.063654647774674,-1.1609328529419078,-1.2678638818111483,-1.3813115245931173,-1.4974502990979992,-1.6131745868317071,-1.7300225002619312,-1.8380747864109874,-1.9389607393619404,-2.0178177255012173,-2.0593560264452306,-2.1538231900150944,-2.2205264274341703,-2.238979961885669,-2.2325335909744974,-2.2088609822115806,-2.1826250983019637,-2.139050279601196,-2.1032080654980962,-2.027434134144351,-1.9699916019931125,-1.9125813537258127,-1.8495265339842026,-1.781234853945019,-1.731732290146827,-1.670850687665359,-1.6321364191584173,-1.6052795845244034,-1.5687007008759586,-1.5352628440982994,-1.5457076937611844,-1.5102818724275586,-1.5406539234967023,-1.5861335001656052,-1.6023608740111008,-1.6636977182915207,-1.7629897110673534,4.354944136014827,3.867127897367782,2.7026589629880644,1.7960141078278309,1.0783362466267816,0.5027801452455297,0.04356255765576134,-0.31802183269652434,-0.599472004904787,-0.8064551646417043,-0.9518217252681503,-1.044710145120896,-1.0918072759659734,-1.1064992188365388,-1.0984758258937468,-1.0767195844347444,-1.0556377170680948,-1.040120104110363,-1.0377732762964125,-1.05010993014731,-1.0790998886765686,-1.123907830933828,-1.1851163593428868,-1.26058862153993,-1.349475364589345,-1.4474634915175812,-1.5562093525776879,-1.6708165186583557,-1.7922862832115072,-1.908362170348735,-2.029289575438373,-2.132021221830428,-2.2228515173052976,-2.3207372182823605,-2.292401582182257,-2.420051297112799,-2.503018444674179,-2.50644435980156,-2.4990653073599107,-2.482125335841157,-2.4462997850698853,-2.402661146687286,-2.3625891324870776,-2.273764577029157,-2.215573672143657,-2.149937608916711,-2.0832980575200244,-2.0191417108580434,-1.9586450299189462,-1.914531090990545,-1.8739856644914217,-1.816157205440148,-1.7946572234438831,-1.7667348330998889,-1.757587645384549,-1.7400521462562049,-1.7733799236376102,-1.7823949452627268,-1.8066295957956242,-1.953589360935213,-1.924590436157769],\"z\":[1.3316314690862612,1.162657643449228,0.9031514423378809,0.7050028756802602,0.54912656083534,0.42747420588338203,0.3306279457333882,0.2526017441240098,0.183048780028997,0.12277794266826775,0.06266475115254101,0.002918208906746723,-0.057577861991099356,-0.11712015400895573,-0.17369354665650386,-0.22532506419973292,-0.2699626517425112,-0.30591315011631803,-0.3332607765814326,-0.35152389772486675,-0.36115023005796903,-0.362425704212483,-0.35536460412972193,-0.3398363935668957,-0.31650658055238085,-0.28703955271419135,-0.2504671591332992,-0.20855333647255533,-0.16383674894566877,-0.11711692018765162,-0.0686621062936211,-0.01612674383843152,0.02754464497184882,0.07438734565232792,0.09519745290673456,0.14373447124631392,0.1884201314245853,0.21005457835812194,0.22813893071101143,0.24152984911039302,0.2523371891120026,0.2647854778055484,0.28034707529422553,0.2838086780765922,0.3035148202221738,0.33294348503543975,0.3712842131631338,0.42877552787369255,0.5060747587803186,0.6120290980754055,0.7508483206690798,0.9341987338004578,1.167974243402915,1.476637048547486,1.862405804418976,2.3701782174995345,3.001554824140195,3.824724530442168,4.79591514333923,6.088351746730164,7.7857650575914334,1.3353259159602302,1.1680984598625495,0.9100824854886336,0.7122812329773995,0.5574156048332889,0.4374454707383446,0.3432007613115172,0.268148333023566,0.20343300474727277,0.14724420162863402,0.09232964998480979,0.03777186079680502,-0.017583047322703958,-0.07476066365526285,-0.13029212771411153,-0.18257807510611113,-0.2281614245657145,-0.2660819999001047,-0.2949786185440412,-0.3142862306429126,-0.3241356323504175,-0.3247627945882995,-0.3162108675197124,-0.2988710564419983,-0.27343693366335203,-0.23994214735327277,-0.2001918827257033,-0.15557861606733694,-0.1079928549082586,-0.058601494229597866,-0.007984544900532475,0.042931697915196264,0.0933984203687488,0.13686587565110617,0.1686377300614175,0.21097507939164525,0.2558720139139572,0.2786649160415068,0.2947621867646366,0.30298738218902316,0.3112929527018695,0.319640140874903,0.3335968514744581,0.3347708436082153,0.3556031708970795,0.3860488302339737,0.43014765848145825,0.4937793435130021,0.5802090032530994,0.6962316187409714,0.8470794291488871,1.0438233928440022,1.3006975689960736,1.6272961350695252,2.0473392760230635,2.5806093191968102,3.2207208764961344,4.096545588384329,5.2024491518784535,6.512687499539785,8.096061370559543,1.370654417554946,1.2200944744943558,0.9635564148913841,0.7665150740438874,0.6127612365508146,0.49210290270545737,0.39731250613758606,0.32104505742034894,0.2550363033434988,0.19669624924937393,0.1406539995300685,0.08515191386797522,0.02785525909871234,-0.028645336482608672,-0.08272026905538224,-0.13212551407841847,-0.17443853198210316,-0.20889551213919744,-0.23304112297160243,-0.2472999443801193,-0.2513285376016026,-0.2455899364809423,-0.23060556674405566,-0.20638113775963488,-0.17380931943538247,-0.13374327438266856,-0.0874142750055269,-0.03642574903757102,0.017057349720258307,0.07154589029985235,0.12744796471014752,0.18015297891562151,0.2303096989108589,0.27080882884569524,0.2946237726037712,0.34516902986432696,0.3838220538723888,0.40120599807496016,0.40911726523551156,0.41184634913362433,0.41706944546725483,0.4187622757807357,0.43028193211773963,0.4304881732108627,0.4489003058277114,0.47841565725741597,0.5242855572104974,0.5824756003747356,0.6758903815081078,0.7944726215769558,0.9590110135365175,1.17447680952543,1.4447510071040133,1.7919139690028467,2.244696461593641,2.8145008570640497,3.520365638822554,4.424108036930237,5.573438080720508,6.961963215813065,8.717147963983825,1.8053370515926699,1.7188493689576134,1.465062385828737,1.270141730476369,1.1174952186069518,0.9988667812614442,0.905937984899105,0.8320218648641182,0.766946417054945,0.7104442648446659,0.6549530704497013,0.5999927431035452,0.5435560478745628,0.48756863445801,0.4334639018933379,0.382632783994397,0.3396933348696496,0.3051588931808685,0.28056043822441645,0.2664168137928702,0.2626759587045255,0.26907356846207486,0.2857490096519564,0.3116039301483176,0.3459929615438699,0.38661491696425404,0.4341821153731582,0.4859715947684562,0.5421924572798001,0.5970342403626079,0.6551062066224924,0.7054981360894824,0.7509927343493954,0.8009623698798193,0.7912705123411296,0.8581321068965928,0.9049428620844565,0.9156900583580606,0.9237541296654144,0.9302839965951942,0.9318402020893496,0.9345640746144713,0.9451189544005235,0.9413233847540423,0.9616905371743953,0.991584082566832,1.0371815512144509,1.1040157663479049,1.1977345884235295,1.327730776004477,1.4986403512280317,1.7164665780580277,2.004890249467816,2.3769746294962735,2.837710641449005,3.4460095671109743,4.1527303324027365,5.100478237288768,6.400388391310674,7.620065181114025,9.627822310671412],\"type\":\"scatter3d\"},{\"hovertemplate\":\"Sensor=Eletrodo 4<br>PC1=%{x}<br>PC2=%{y}<br>PC3=%{z}<extra></extra>\",\"legendgroup\":\"Eletrodo 4\",\"marker\":{\"color\":\"#19d3f3\",\"symbol\":\"circle\"},\"mode\":\"markers\",\"name\":\"Eletrodo 4\",\"scene\":\"scene\",\"showlegend\":true,\"x\":[-5.301986722452407,-2.9428706237033118,-2.6271398739168546,-2.295057528546245,-2.013367782132005,-1.780215666717909,-1.5885449740177648,-1.429222956449364,-1.2922720104601737,-1.175584819900376,-1.071274982583283,-0.9773750115528431,-0.8918411253827364,-0.8127229541751961,-0.7403594189860643,-0.6746447520965505,-0.6150024177697717,-0.5617556931170598,-0.5133786979374867,-0.4699013919190195,-0.431284293989926,-0.3944262475831161,-0.35966979379700875,-0.3261127628834441,-0.2922667159221822,-0.25850680047738545,-0.22322094292622438,-0.18651039707688852,-0.1482442418979175,-0.10703476930812147,-0.06396479945099531,-0.01818989219456212,0.0300158270631989,0.08103442402588092,0.13698762862001881,0.19304883377842924,0.25376285211169064,0.31888037221422716,0.38794454736530326,0.46013836345496273,0.5367393863684774,0.6182246440519247,0.7039504702635451,0.7932667511685839,0.8878308113842468,0.9870626958504568,1.089999853963517,1.1968276263384503,1.3055517681565927,1.418851501818205,1.5353834205937518,1.6568581494710448,1.7798068440551764,1.9067157678025923,2.039306061372839,2.177162299547208,2.321148115382503,2.473192384031682,2.641140579023832,2.8201496099217436,3.026178228094442,-5.20722846729881,-2.9348796094289282,-2.6237495140880456,-2.293790835863572,-2.011807008053592,-1.7792549072677126,-1.587040940298049,-1.4293821334065209,-1.2929109760549546,-1.1762356809566437,-1.0726084660806288,-0.9792433178443818,-0.8941055892677896,-0.815223045508504,-0.7428506496243171,-0.6767488181363676,-0.6164769874491974,-0.5622782267041606,-0.5130336270700628,-0.46889387502050595,-0.4287184825092211,-0.3914259628910915,-0.3561273295845647,-0.32193500034664263,-0.2875363945882804,-0.2535083170362474,-0.21829322093184542,-0.18202612515804797,-0.14292399726776447,-0.10283252307951732,-0.05966941051025108,-0.01384713837338647,0.03320577037328256,0.08407129200789713,0.13613358736257414,0.19648125591482948,0.25757327934868224,0.32250260911923984,0.39113618823624197,0.4640006901870387,0.540731977156776,0.6224645045888204,0.7090583469003655,0.8005320361803008,0.8975180058144264,0.998598288088161,1.1042551599170631,1.2127223003123613,1.325053503278103,1.44324435914163,1.5650530540125522,1.6891878114995045,1.8180838901350826,1.9502696075104275,2.086435339567222,2.2294708799851732,2.377228586267337,2.5359368697802034,2.705294658509989,2.8912414177536165,3.0941419771080905,-5.107442411736944,-2.9394028636270355,-2.6296595896086874,-2.300112306443982,-2.018241103963462,-1.784720388675611,-1.593233581958394,-1.4349014468929904,-1.2980781930736542,-1.1821123254783488,-1.0781571165669257,-0.9853722537279853,-0.9003969419499435,-0.822133659220581,-0.7503479119787838,-0.6843336732633397,-0.6242526675450751,-0.570481773752216,-0.5216668023533344,-0.4778965252482901,-0.4384266554220833,-0.40157630703796027,-0.36667099391357805,-0.3330398668803133,-0.2999829956153071,-0.26601632990734037,-0.2312021292155514,-0.1954611339672637,-0.1583513879996183,-0.11785963262688127,-0.07557773746631788,-0.030564112625871366,0.016775834163837204,0.06725249922369554,0.1203332965224946,0.1779263977108761,0.23851091530222343,0.30327733422873965,0.372885473155085,0.44679266324792666,0.5244605109983895,0.6071319706666042,0.6954354086960308,0.7882387203109504,0.8861892163021876,0.9898407125481242,1.0987738174388375,1.2106431833136646,1.3282683838240315,1.4484665809864081,1.5738548515301702,1.7021520664127012,1.8341671987652266,1.9723874305567424,2.111868154380607,2.2571790601340442,2.4125948426156687,2.5716986134213395,2.7424919630542446,2.934450274152284,3.14275816805409,-5.424067494132089,-3.037101708151131,-2.7203285531852424,-2.3883718757534624,-2.1070765339797988,-1.874463772924148,-1.6830914885596693,-1.5250808964285092,-1.388186322605593,-1.2730802601482114,-1.1697277781025779,-1.0775947422223602,-0.9935318456014949,-0.9156277238847914,-0.8438668822117121,-0.7781599807426515,-0.7182764308183437,-0.6647997396036955,-0.616821091015737,-0.5742219896089376,-0.5356450010565533,-0.500561121863014,-0.46715920057452714,-0.4358175600786466,-0.4046320009297382,-0.37296975783148867,-0.34088559863065504,-0.3070771464158627,-0.27147025959571264,-0.23387948661685126,-0.19396967166500909,-0.15113226132101737,-0.10596085501847298,-0.057865691474931646,-0.00595899705893655,0.04901302124250127,0.10757795043646866,0.1711616074117882,0.23869308568416236,0.31038636059191815,0.38778208529917196,0.47062581476430465,0.5578345581421017,0.6525746356026063,0.7529346867901254,0.8583324317841123,0.9692024485586799,1.0870651157098172,1.2103861977859793,1.3392353664073915,1.4720119330192294,1.611126034677295,1.7521117123555852,1.8969497744800066,2.0485914572062347,2.206539939426126,2.372263342488115,2.545306553059726,2.7334153383333675,2.9318254257569594,3.1543462053784257],\"y\":[4.884064774092316,4.173152843158567,3.0341239325306795,2.1658604079440105,1.4890942218855232,0.9596250068669382,0.5474899816521087,0.23435612318237878,-0.005668857164663706,-0.17523348927506152,-0.2937400387710041,-0.3701048040918706,-0.41464807961970995,-0.43566013358088873,-0.4424606225309324,-0.44174453280084197,-0.43707242514366357,-0.4317988784318561,-0.4269134452491659,-0.42190069137476566,-0.4186284140906157,-0.41395609729864746,-0.4081890255013476,-0.401415883038043,-0.3920536308906346,-0.3810906660684948,-0.367608169067797,-0.35206266277714304,-0.33426181546667644,-0.31451430559655696,-0.2932686379268192,-0.2704006488766398,-0.2463501408571468,-0.22168375348208164,-0.19404031393952892,-0.1683954271840268,-0.14098659718188702,-0.1120010649126587,-0.08207787875177489,-0.05206613836768633,-0.02117029691060116,0.010590062703873736,0.04299503721659505,0.07531254122913784,0.10840801315919031,0.1418132069348074,0.17514765048573547,0.20795341355956865,0.2398033496192669,0.27110681351461746,0.3012729280092816,0.33076468814280413,0.3577461696339533,0.3826757420386016,0.40554849844110485,0.4262424020577229,0.444053299695578,0.45729943178562665,0.469256276744374,0.4753773413059327,0.4795344592780958,4.919667095693512,4.177507933052496,3.037339047692937,2.1669450864848967,1.4910546656933974,0.9606682556612235,0.5496645304549511,0.23326637706267395,-0.007743300313463343,-0.17733688866218356,-0.2972112311224559,-0.37448490234893206,-0.41965971091391385,-0.44080977035655317,-0.44726969816782286,-0.4456607888822701,-0.4398004080821085,-0.43303309135233586,-0.4269674385174409,-0.42115367298119566,-0.4162626503337986,-0.4111659018319049,-0.40525738344237877,-0.3980225206314119,-0.38860417185886265,-0.37798327460749853,-0.3646201218961343,-0.34989522146175833,-0.33169780446241426,-0.31331213404923924,-0.29226397553264905,-0.26965712842534334,-0.24688133961016054,-0.22235176310820673,-0.19777218127365165,-0.16863380890723992,-0.14112049340191868,-0.11223312254627578,-0.0825696506795035,-0.0520575728805819,-0.020977007831678607,0.010943565066894517,0.043671910018662566,0.07732609037314685,0.11165792086148474,0.1459501181508794,0.18055792765851067,0.21430143602175677,0.2476540107360273,0.2810535169459283,0.31347547066971015,0.34413592461145287,0.3736549119669587,0.40082680383910285,0.425617770306208,0.4489346343409142,0.46773643477348437,0.4845284699341896,0.49783794841295687,0.5074147934459762,0.5115202955314357,4.939094230773474,4.156850800917832,3.0170481012020245,2.146786571953648,1.471050147397866,0.9426768172493164,0.5304008234820757,0.2153455536358978,-0.025022166105102474,-0.19617787547702584,-0.31551212440142146,-0.39412424147167374,-0.43975923357417196,-0.46225796688968296,-0.46982455356389263,-0.4685194741135733,-0.463031602127548,-0.45708218330857425,-0.451499107690256,-0.4462584984462766,-0.44228044568031355,-0.4377255185703769,-0.43229462072016567,-0.4255828871657266,-0.41726873642069834,-0.4066749002518618,-0.3936492083930086,-0.37902148058475554,-0.3624510876792719,-0.3430409351578536,-0.3222474245279232,-0.29972017478235274,-0.2763583102162604,-0.25123526705944776,-0.22537264150380895,-0.19820175505735227,-0.17045054454159744,-0.14127763267889681,-0.11062645584821529,-0.07918243559465647,-0.04733732997094221,-0.014629696346182745,0.01928046292197957,0.053675366363649016,0.08867805110867995,0.1243569239987439,0.16038362652953275,0.19571601690473694,0.23122242102111581,0.2657248961522514,0.29961275872925025,0.3320814438820543,0.36276926627468126,0.39225230090073127,0.4190908786198654,0.442966340201805,0.4648977626934055,0.48205929252315133,0.49636022876734076,0.5086163439170396,0.5162549734964335,4.611400292965615,3.9107329260782766,2.7728479091835507,1.9045757189804486,1.2271903495248329,0.6967041747092806,0.28393483777699474,-0.031876564872126714,-0.2720828185279267,-0.4448222671517753,-0.5650998448772373,-0.6445655121630889,-0.6912746275059795,-0.7135657667589195,-0.7203046818802492,-0.7184479973053555,-0.7123440266268258,-0.7058601762049596,-0.7007211440991606,-0.6962370699683899,-0.692846749105342,-0.6896963161140071,-0.6853469771509586,-0.6803846020150701,-0.6733322340910594,-0.6640649304121775,-0.6527154954891076,-0.6387201563359861,-0.6222907380509446,-0.6039819377009144,-0.5834636112277009,-0.5606748700486931,-0.5376152717159626,-0.5127191655752115,-0.4861420091619608,-0.4586789536843517,-0.4306291343018175,-0.4006040300712988,-0.3697845470233825,-0.3383114746869793,-0.30537654269016595,-0.27148116385389653,-0.23716509682060846,-0.20083788092411137,-0.16408804636221203,-0.12694378718369928,-0.08936590608577792,-0.05088988961849531,-0.012542522440919688,0.0257308117242923,0.06286226651649185,0.09984363112654486,0.13421332566225072,0.16666853504833923,0.19718261495604195,0.22619281227621607,0.25317870596751085,0.2757095271999388,0.2962389821801869,0.311732566886567,0.32543875719339144],\"z\":[1.3265370379705768,1.15932404369421,0.8907692797143412,0.6780063219526078,0.5065700441568619,0.3667272500383344,0.2519014681202871,0.15529279855447894,0.07069829807635582,-0.0033491573697257268,-0.07122548864279056,-0.1333911752831417,-0.19018776020432446,-0.24206543873872732,-0.2879872399653164,-0.3278523936585992,-0.36225495903533633,-0.39156454417687575,-0.4172300355447835,-0.4396284433306368,-0.4592252318916286,-0.4775716505916789,-0.49453888794852785,-0.5106165801028486,-0.5263624049203464,-0.5416328530976202,-0.5570906049824785,-0.5726201963745154,-0.5880917418859354,-0.6042288798494212,-0.6203232743070729,-0.6366770552673742,-0.6530164955468807,-0.6696211760984405,-0.6865752714284062,-0.7030662307236311,-0.7200298696639019,-0.736991203962668,-0.753801462922285,-0.7702550308832166,-0.7865405511968976,-0.8026667621791927,-0.8183613843700566,-0.8329481831992143,-0.8470787002294627,-0.8597459993216024,-0.8711348664331247,-0.8788563469083687,-0.8835533389158868,-0.8838820567562866,-0.8786379155738961,-0.8667682041643869,-0.8457455529652788,-0.8132519103147886,-0.7672962783535725,-0.7053765070382626,-0.6221653880276465,-0.5143876755855045,-0.3687738074954403,-0.18862393438480798,0.04743606847504469,1.3380832601384571,1.1630031669260839,0.8936772675319374,0.6815269009426683,0.5096527912306109,0.370170307414608,0.2548246587371624,0.1596436840703682,0.07547602252238249,0.001441310810563174,-0.06584345473319048,-0.12760294998402089,-0.1841440297140284,-0.23594116681267752,-0.281991307638667,-0.322184457372315,-0.35699266256217504,-0.38677930359185275,-0.41280716886532237,-0.4354447315389604,-0.4556767083924662,-0.4741585365090376,-0.49134015798105163,-0.5076499866728406,-0.523618439707938,-0.539027164821562,-0.554374163005169,-0.5697281094873455,-0.5854981354788275,-0.6012651532922281,-0.6174249527397746,-0.6338274663530146,-0.6498947765656771,-0.6664535948165037,-0.6825386355041302,-0.6999234595828543,-0.7170352107686558,-0.733770375491187,-0.7504149900478795,-0.7668807840774743,-0.7831686420085674,-0.7991212634142558,-0.8147440341500132,-0.8295626141254552,-0.8440884111550736,-0.8572602364134686,-0.8683533668562577,-0.8762742169476582,-0.8817766945197478,-0.8838075472345033,-0.8806936895828114,-0.8699364601565036,-0.8515802649963967,-0.8209566774587165,-0.7784992572268495,-0.7184218497067627,-0.6402461153918774,-0.5312670030560055,-0.39543338735747646,-0.2135293667425662,0.0074424310333344795,1.3944933960631518,1.2117993567631848,0.9418129280319111,0.729449137358474,0.5574449352572083,0.41705052170654366,0.30223512432740496,0.20643892319048437,0.12196792329152431,0.04860235228373618,-0.018905609774108392,-0.08008692075126947,-0.13640873799920894,-0.1876559494951699,-0.23324287612444933,-0.2733318388225461,-0.30802157501391053,-0.3375893887778972,-0.3634282364912204,-0.38594500188688485,-0.4059092604040945,-0.4242454911207289,-0.4413150816772406,-0.45742121893006693,-0.4728744094219981,-0.4883125257211641,-0.5035920205260875,-0.5187823467689635,-0.533920136005103,-0.5498189977617459,-0.5656816132012741,-0.5818132192800812,-0.59803248617779,-0.6142501307432764,-0.6303376081305703,-0.647258473107596,-0.6639736773567646,-0.6805738175317109,-0.6971103512328701,-0.7135457792834748,-0.7295890916683235,-0.7453676666201319,-0.7609900595128541,-0.7756276166623335,-0.7892765853631584,-0.8027487791993395,-0.8135379680208888,-0.8229737363212448,-0.8284557984630169,-0.8307190457187961,-0.8277368311645902,-0.8174329431732758,-0.799649299826617,-0.7714953963714081,-0.7310135689601619,-0.6721840478751042,-0.5900021105269639,-0.48519506733995466,-0.35045521358197057,-0.17214185810835056,0.046902357826773156,1.8723360771984991,1.706926335004004,1.4380617102641093,1.225284074990816,1.0541080351675063,0.9147124464411002,0.8001667802337915,0.7047355771581505,0.6202084509396644,0.5475369683936964,0.4804085625601796,0.4195443711985761,0.3636045722735693,0.3121682674932167,0.26610353878319465,0.22567207918627336,0.19063029512664656,0.1608025274752856,0.1350498131289344,0.1128399036898891,0.09307959724925739,0.0754008994177173,0.05886706384382257,0.04366648295106584,0.028905926813248297,0.014340626444971537,3.8963611027698774e-05,-0.014533230842070055,-0.029275969117051805,-0.04427364640156751,-0.059398682058151485,-0.07476029043125745,-0.09036781066510265,-0.10592943548299504,-0.12177497150822131,-0.13727391057535238,-0.15301486840128364,-0.168610251167532,-0.18393018735279174,-0.19882165748765826,-0.21361181298409582,-0.22781010610860486,-0.24138728000909807,-0.2546614488191522,-0.2669202369835769,-0.2773912772311861,-0.28634171254961066,-0.2946953451733893,-0.2994815273153221,-0.30085269194786746,-0.2972477360821583,-0.2880788258286464,-0.2697308853669065,-0.23962571113033238,-0.19811340035628963,-0.1418896289503117,-0.06249908167943775,0.03767703938924534,0.17752450053904628,0.34596253465759597,0.5600058062501196],\"type\":\"scatter3d\"}],                        {\"template\":{\"data\":{\"histogram2dcontour\":[{\"type\":\"histogram2dcontour\",\"colorbar\":{\"outlinewidth\":0,\"ticks\":\"\"},\"colorscale\":[[0.0,\"#0d0887\"],[0.1111111111111111,\"#46039f\"],[0.2222222222222222,\"#7201a8\"],[0.3333333333333333,\"#9c179e\"],[0.4444444444444444,\"#bd3786\"],[0.5555555555555556,\"#d8576b\"],[0.6666666666666666,\"#ed7953\"],[0.7777777777777778,\"#fb9f3a\"],[0.8888888888888888,\"#fdca26\"],[1.0,\"#f0f921\"]]}],\"choropleth\":[{\"type\":\"choropleth\",\"colorbar\":{\"outlinewidth\":0,\"ticks\":\"\"}}],\"histogram2d\":[{\"type\":\"histogram2d\",\"colorbar\":{\"outlinewidth\":0,\"ticks\":\"\"},\"colorscale\":[[0.0,\"#0d0887\"],[0.1111111111111111,\"#46039f\"],[0.2222222222222222,\"#7201a8\"],[0.3333333333333333,\"#9c179e\"],[0.4444444444444444,\"#bd3786\"],[0.5555555555555556,\"#d8576b\"],[0.6666666666666666,\"#ed7953\"],[0.7777777777777778,\"#fb9f3a\"],[0.8888888888888888,\"#fdca26\"],[1.0,\"#f0f921\"]]}],\"heatmap\":[{\"type\":\"heatmap\",\"colorbar\":{\"outlinewidth\":0,\"ticks\":\"\"},\"colorscale\":[[0.0,\"#0d0887\"],[0.1111111111111111,\"#46039f\"],[0.2222222222222222,\"#7201a8\"],[0.3333333333333333,\"#9c179e\"],[0.4444444444444444,\"#bd3786\"],[0.5555555555555556,\"#d8576b\"],[0.6666666666666666,\"#ed7953\"],[0.7777777777777778,\"#fb9f3a\"],[0.8888888888888888,\"#fdca26\"],[1.0,\"#f0f921\"]]}],\"heatmapgl\":[{\"type\":\"heatmapgl\",\"colorbar\":{\"outlinewidth\":0,\"ticks\":\"\"},\"colorscale\":[[0.0,\"#0d0887\"],[0.1111111111111111,\"#46039f\"],[0.2222222222222222,\"#7201a8\"],[0.3333333333333333,\"#9c179e\"],[0.4444444444444444,\"#bd3786\"],[0.5555555555555556,\"#d8576b\"],[0.6666666666666666,\"#ed7953\"],[0.7777777777777778,\"#fb9f3a\"],[0.8888888888888888,\"#fdca26\"],[1.0,\"#f0f921\"]]}],\"contourcarpet\":[{\"type\":\"contourcarpet\",\"colorbar\":{\"outlinewidth\":0,\"ticks\":\"\"}}],\"contour\":[{\"type\":\"contour\",\"colorbar\":{\"outlinewidth\":0,\"ticks\":\"\"},\"colorscale\":[[0.0,\"#0d0887\"],[0.1111111111111111,\"#46039f\"],[0.2222222222222222,\"#7201a8\"],[0.3333333333333333,\"#9c179e\"],[0.4444444444444444,\"#bd3786\"],[0.5555555555555556,\"#d8576b\"],[0.6666666666666666,\"#ed7953\"],[0.7777777777777778,\"#fb9f3a\"],[0.8888888888888888,\"#fdca26\"],[1.0,\"#f0f921\"]]}],\"surface\":[{\"type\":\"surface\",\"colorbar\":{\"outlinewidth\":0,\"ticks\":\"\"},\"colorscale\":[[0.0,\"#0d0887\"],[0.1111111111111111,\"#46039f\"],[0.2222222222222222,\"#7201a8\"],[0.3333333333333333,\"#9c179e\"],[0.4444444444444444,\"#bd3786\"],[0.5555555555555556,\"#d8576b\"],[0.6666666666666666,\"#ed7953\"],[0.7777777777777778,\"#fb9f3a\"],[0.8888888888888888,\"#fdca26\"],[1.0,\"#f0f921\"]]}],\"mesh3d\":[{\"type\":\"mesh3d\",\"colorbar\":{\"outlinewidth\":0,\"ticks\":\"\"}}],\"scatter\":[{\"fillpattern\":{\"fillmode\":\"overlay\",\"size\":10,\"solidity\":0.2},\"type\":\"scatter\"}],\"parcoords\":[{\"type\":\"parcoords\",\"line\":{\"colorbar\":{\"outlinewidth\":0,\"ticks\":\"\"}}}],\"scatterpolargl\":[{\"type\":\"scatterpolargl\",\"marker\":{\"colorbar\":{\"outlinewidth\":0,\"ticks\":\"\"}}}],\"bar\":[{\"error_x\":{\"color\":\"#2a3f5f\"},\"error_y\":{\"color\":\"#2a3f5f\"},\"marker\":{\"line\":{\"color\":\"#E5ECF6\",\"width\":0.5},\"pattern\":{\"fillmode\":\"overlay\",\"size\":10,\"solidity\":0.2}},\"type\":\"bar\"}],\"scattergeo\":[{\"type\":\"scattergeo\",\"marker\":{\"colorbar\":{\"outlinewidth\":0,\"ticks\":\"\"}}}],\"scatterpolar\":[{\"type\":\"scatterpolar\",\"marker\":{\"colorbar\":{\"outlinewidth\":0,\"ticks\":\"\"}}}],\"histogram\":[{\"marker\":{\"pattern\":{\"fillmode\":\"overlay\",\"size\":10,\"solidity\":0.2}},\"type\":\"histogram\"}],\"scattergl\":[{\"type\":\"scattergl\",\"marker\":{\"colorbar\":{\"outlinewidth\":0,\"ticks\":\"\"}}}],\"scatter3d\":[{\"type\":\"scatter3d\",\"line\":{\"colorbar\":{\"outlinewidth\":0,\"ticks\":\"\"}},\"marker\":{\"colorbar\":{\"outlinewidth\":0,\"ticks\":\"\"}}}],\"scattermapbox\":[{\"type\":\"scattermapbox\",\"marker\":{\"colorbar\":{\"outlinewidth\":0,\"ticks\":\"\"}}}],\"scatterternary\":[{\"type\":\"scatterternary\",\"marker\":{\"colorbar\":{\"outlinewidth\":0,\"ticks\":\"\"}}}],\"scattercarpet\":[{\"type\":\"scattercarpet\",\"marker\":{\"colorbar\":{\"outlinewidth\":0,\"ticks\":\"\"}}}],\"carpet\":[{\"aaxis\":{\"endlinecolor\":\"#2a3f5f\",\"gridcolor\":\"white\",\"linecolor\":\"white\",\"minorgridcolor\":\"white\",\"startlinecolor\":\"#2a3f5f\"},\"baxis\":{\"endlinecolor\":\"#2a3f5f\",\"gridcolor\":\"white\",\"linecolor\":\"white\",\"minorgridcolor\":\"white\",\"startlinecolor\":\"#2a3f5f\"},\"type\":\"carpet\"}],\"table\":[{\"cells\":{\"fill\":{\"color\":\"#EBF0F8\"},\"line\":{\"color\":\"white\"}},\"header\":{\"fill\":{\"color\":\"#C8D4E3\"},\"line\":{\"color\":\"white\"}},\"type\":\"table\"}],\"barpolar\":[{\"marker\":{\"line\":{\"color\":\"#E5ECF6\",\"width\":0.5},\"pattern\":{\"fillmode\":\"overlay\",\"size\":10,\"solidity\":0.2}},\"type\":\"barpolar\"}],\"pie\":[{\"automargin\":true,\"type\":\"pie\"}]},\"layout\":{\"autotypenumbers\":\"strict\",\"colorway\":[\"#636efa\",\"#EF553B\",\"#00cc96\",\"#ab63fa\",\"#FFA15A\",\"#19d3f3\",\"#FF6692\",\"#B6E880\",\"#FF97FF\",\"#FECB52\"],\"font\":{\"color\":\"#2a3f5f\"},\"hovermode\":\"closest\",\"hoverlabel\":{\"align\":\"left\"},\"paper_bgcolor\":\"white\",\"plot_bgcolor\":\"#E5ECF6\",\"polar\":{\"bgcolor\":\"#E5ECF6\",\"angularaxis\":{\"gridcolor\":\"white\",\"linecolor\":\"white\",\"ticks\":\"\"},\"radialaxis\":{\"gridcolor\":\"white\",\"linecolor\":\"white\",\"ticks\":\"\"}},\"ternary\":{\"bgcolor\":\"#E5ECF6\",\"aaxis\":{\"gridcolor\":\"white\",\"linecolor\":\"white\",\"ticks\":\"\"},\"baxis\":{\"gridcolor\":\"white\",\"linecolor\":\"white\",\"ticks\":\"\"},\"caxis\":{\"gridcolor\":\"white\",\"linecolor\":\"white\",\"ticks\":\"\"}},\"coloraxis\":{\"colorbar\":{\"outlinewidth\":0,\"ticks\":\"\"}},\"colorscale\":{\"sequential\":[[0.0,\"#0d0887\"],[0.1111111111111111,\"#46039f\"],[0.2222222222222222,\"#7201a8\"],[0.3333333333333333,\"#9c179e\"],[0.4444444444444444,\"#bd3786\"],[0.5555555555555556,\"#d8576b\"],[0.6666666666666666,\"#ed7953\"],[0.7777777777777778,\"#fb9f3a\"],[0.8888888888888888,\"#fdca26\"],[1.0,\"#f0f921\"]],\"sequentialminus\":[[0.0,\"#0d0887\"],[0.1111111111111111,\"#46039f\"],[0.2222222222222222,\"#7201a8\"],[0.3333333333333333,\"#9c179e\"],[0.4444444444444444,\"#bd3786\"],[0.5555555555555556,\"#d8576b\"],[0.6666666666666666,\"#ed7953\"],[0.7777777777777778,\"#fb9f3a\"],[0.8888888888888888,\"#fdca26\"],[1.0,\"#f0f921\"]],\"diverging\":[[0,\"#8e0152\"],[0.1,\"#c51b7d\"],[0.2,\"#de77ae\"],[0.3,\"#f1b6da\"],[0.4,\"#fde0ef\"],[0.5,\"#f7f7f7\"],[0.6,\"#e6f5d0\"],[0.7,\"#b8e186\"],[0.8,\"#7fbc41\"],[0.9,\"#4d9221\"],[1,\"#276419\"]]},\"xaxis\":{\"gridcolor\":\"white\",\"linecolor\":\"white\",\"ticks\":\"\",\"title\":{\"standoff\":15},\"zerolinecolor\":\"white\",\"automargin\":true,\"zerolinewidth\":2},\"yaxis\":{\"gridcolor\":\"white\",\"linecolor\":\"white\",\"ticks\":\"\",\"title\":{\"standoff\":15},\"zerolinecolor\":\"white\",\"automargin\":true,\"zerolinewidth\":2},\"scene\":{\"xaxis\":{\"backgroundcolor\":\"#E5ECF6\",\"gridcolor\":\"white\",\"linecolor\":\"white\",\"showbackground\":true,\"ticks\":\"\",\"zerolinecolor\":\"white\",\"gridwidth\":2},\"yaxis\":{\"backgroundcolor\":\"#E5ECF6\",\"gridcolor\":\"white\",\"linecolor\":\"white\",\"showbackground\":true,\"ticks\":\"\",\"zerolinecolor\":\"white\",\"gridwidth\":2},\"zaxis\":{\"backgroundcolor\":\"#E5ECF6\",\"gridcolor\":\"white\",\"linecolor\":\"white\",\"showbackground\":true,\"ticks\":\"\",\"zerolinecolor\":\"white\",\"gridwidth\":2}},\"shapedefaults\":{\"line\":{\"color\":\"#2a3f5f\"}},\"annotationdefaults\":{\"arrowcolor\":\"#2a3f5f\",\"arrowhead\":0,\"arrowwidth\":1},\"geo\":{\"bgcolor\":\"white\",\"landcolor\":\"#E5ECF6\",\"subunitcolor\":\"white\",\"showland\":true,\"showlakes\":true,\"lakecolor\":\"white\"},\"title\":{\"x\":0.05},\"mapbox\":{\"style\":\"light\"}}},\"scene\":{\"domain\":{\"x\":[0.0,1.0],\"y\":[0.0,1.0]},\"xaxis\":{\"title\":{\"text\":\"PC1\"}},\"yaxis\":{\"title\":{\"text\":\"PC2\"}},\"zaxis\":{\"title\":{\"text\":\"PC3\"}}},\"legend\":{\"title\":{\"text\":\"Sensor\"},\"tracegroupgap\":0},\"margin\":{\"t\":60}},                        {\"responsive\": true}                    ).then(function(){\n",
       "                            \n",
       "var gd = document.getElementById('6830ec55-ef18-46f0-95fc-cfc81b476f1f');\n",
       "var x = new MutationObserver(function (mutations, observer) {{\n",
       "        var display = window.getComputedStyle(gd).display;\n",
       "        if (!display || display === 'none') {{\n",
       "            console.log([gd, 'removed!']);\n",
       "            Plotly.purge(gd);\n",
       "            observer.disconnect();\n",
       "        }}\n",
       "}});\n",
       "\n",
       "// Listen for the removal of the full notebook cells\n",
       "var notebookContainer = gd.closest('#notebook-container');\n",
       "if (notebookContainer) {{\n",
       "    x.observe(notebookContainer, {childList: true});\n",
       "}}\n",
       "\n",
       "// Listen for the clearing of the current output cell\n",
       "var outputEl = gd.closest('.output');\n",
       "if (outputEl) {{\n",
       "    x.observe(outputEl, {childList: true});\n",
       "}}\n",
       "\n",
       "                        })                };                });            </script>        </div>"
      ]
     },
     "metadata": {},
     "output_type": "display_data"
    }
   ],
   "source": [
    "# 4. Scores plot\n",
    "# check API documentation for plotly.express https://plotly.com/python/3d-scatter-plots\n",
    "\n",
    "import plotly.express as px\n",
    "\n",
    "fig = px.scatter_3d(df_scores, x='PC1', y='PC2', z='PC3', color='Sensor')\n",
    "fig.show()"
   ]
  },
  {
   "cell_type": "code",
   "execution_count": 61,
   "id": "f4272d1d",
   "metadata": {},
   "outputs": [
    {
     "data": {
      "application/vnd.plotly.v1+json": {
       "config": {
        "plotlyServerURL": "https://plot.ly"
       },
       "data": [
        {
         "hovertemplate": "Sensor=AntiHCV Eletrodo 1<br>PC1=%{x}<br>PC2=%{y}<br>PC3=%{z}<extra></extra>",
         "legendgroup": "AntiHCV Eletrodo 1",
         "marker": {
          "color": "#636efa",
          "opacity": 0.4,
          "symbol": "circle"
         },
         "mode": "markers",
         "name": "AntiHCV Eletrodo 1",
         "scene": "scene",
         "showlegend": true,
         "type": "scatter3d",
         "x": [
          -3.808687857062353,
          -3.3440271981993943,
          -3.3249710158159775,
          3.2777612060788024,
          -1.0815946162441148,
          -1.1332083322705684,
          -1.033275195279308,
          -0.9254393312103214,
          -0.8186048688471609,
          -0.7294204418486747,
          -0.6497415474895214,
          -0.5788420763455246,
          -0.5147328581999796,
          -0.45135552157513326,
          -0.38679146100680883,
          -0.31812545343697646,
          -0.24201709572428767,
          -0.15592294694559192,
          -0.05795383399903334,
          0.053047876656058104,
          0.1743345474100047,
          0.3018811806242972,
          0.42961765150093933,
          0.5500247927434447,
          0.6590623228421727,
          0.7536359772607589,
          0.8322504466522935,
          0.8941395369530657,
          0.9397362474956246,
          0.973213504716096,
          0.9982286979195293,
          1.0177089605867071,
          1.0372829053766248,
          1.0565659396132099,
          1.0810239091789506,
          1.106866538122188,
          1.1410931514796185,
          1.183724480295821,
          1.2322424521120838,
          1.288875962905105,
          1.3538025429626848,
          1.4260708316565918,
          1.506097318605804,
          1.5935245494521348,
          1.687907730970263,
          1.789716802497423,
          1.899954281831548,
          2.0178995510647564,
          2.1453598560203653,
          2.2848890537551596,
          2.4381580227233686,
          2.607967104502654,
          2.7982514121153446,
          3.0096411681722666,
          3.243909559992182,
          3.503221423891956,
          3.784469594568708,
          4.0873267862090765,
          4.4088923977566745,
          4.736240309612904,
          5.079232390642268,
          -3.39974785249811,
          -2.9379531345163308,
          -2.9259051539137757,
          3.039251616252767,
          -0.6923876975979231,
          -0.7279200462388418,
          -0.6284993157796462,
          -0.5182922758515095,
          -0.41183540217146697,
          -0.32043013514231394,
          -0.24094507794328235,
          -0.1698186100546151,
          -0.10448775350628524,
          -0.04029022833355349,
          0.025367879829478843,
          0.09532596434825485,
          0.1724182541140176,
          0.25986017779777415,
          0.3588137870756804,
          0.4701998819618694,
          0.5913944865450308,
          0.7175242216066078,
          0.8418153486960975,
          0.9592031318190349,
          1.0643029700556619,
          1.15571153929298,
          1.229398097747246,
          1.2879221412737112,
          1.332209016047087,
          1.3636101519159627,
          1.3879889781837473,
          1.4064203200380045,
          1.4254018752089352,
          1.4437709367540374,
          1.467006693079081,
          1.4964818839750496,
          1.5310355569393097,
          1.5735944003148934,
          1.6224738804898522,
          1.6795260292482477,
          1.7436797062018725,
          1.8158318265760882,
          1.895381359304933,
          1.9821933661974982,
          2.0756579432090363,
          2.176775751820669,
          2.285243282022722,
          2.402071717668624,
          2.5285452593567452,
          2.665645971161034,
          2.815508352552279,
          2.979746605725176,
          3.1615427322949303,
          3.363115978246178,
          3.5865296583336197,
          3.830346495961815,
          4.097893318337172,
          4.385114263612382,
          4.689141423887319,
          5.003439038522389,
          5.342861930683268
         ],
         "y": [
          5.775256862365273,
          4.38510104651255,
          3.1502943388504443,
          4.92066327154965,
          2.335555647506829,
          1.7052158915817297,
          1.266679819245105,
          0.9317759194904498,
          0.6707897350703786,
          0.46878468306837057,
          0.30984709001195476,
          0.18723686929922695,
          0.0939730006904557,
          0.028610736903842336,
          -0.012819171352123125,
          -0.03336369142224489,
          -0.03523702996657657,
          -0.02128375229970987,
          0.004731935011300313,
          0.0413147925324227,
          0.08338325885857091,
          0.12746871443813176,
          0.16917797194289694,
          0.20411461939481507,
          0.23085937862855987,
          0.24827828035419355,
          0.2569712589713687,
          0.2585610951868438,
          0.2536260700364137,
          0.24565639813831205,
          0.23554518332569432,
          0.2251411682946218,
          0.2169020832323358,
          0.21124158485546943,
          0.20972039081069052,
          0.21248741319107292,
          0.22030660724213139,
          0.23491087997788956,
          0.2533744556612959,
          0.27645556811973154,
          0.30348404319369987,
          0.33326896374526993,
          0.36587508181395423,
          0.40069609920013055,
          0.4372388105839349,
          0.4756403712521981,
          0.5162613692891015,
          0.5588265395602873,
          0.6038582017413046,
          0.6522625471986541,
          0.7044446858155997,
          0.7612623052838011,
          0.8236432649419032,
          0.8916629187107743,
          0.9648752141758916,
          1.0434322224969637,
          1.1262354202913003,
          1.2114746471312117,
          1.2973300447288478,
          1.3770552209614866,
          1.4550765241097374,
          6.537611526856529,
          5.145472085837781,
          3.908376970260581,
          5.4122277469517694,
          3.088705227260912,
          2.4658855853460047,
          2.026576627634274,
          1.693118010377475,
          1.4316669425986528,
          1.2315099510798755,
          1.0723906970520538,
          0.950007459275505,
          0.8580127777493598,
          0.7934674306854609,
          0.7530130042040052,
          0.733414240068113,
          0.7319971205044438,
          0.7465084474454616,
          0.7726330675073886,
          0.8088781516449436,
          0.8502758248334291,
          0.8930022668184188,
          0.9323389310259087,
          0.9654214680929046,
          0.9896534460668922,
          1.005281213407242,
          1.0120172091118504,
          1.0120514942531944,
          1.007302974105483,
          0.9983923534600836,
          0.9884935275734009,
          0.9777556966146252,
          0.9696964086130201,
          0.963911809517584,
          0.9640312351280879,
          0.9666044664577577,
          0.9750782287703599,
          0.9897920585413083,
          1.0087502831265804,
          1.032153096214629,
          1.0588900174233864,
          1.0887412693753973,
          1.1212092953574626,
          1.1557244429192162,
          1.191934214794141,
          1.229973081320817,
          1.2697886643450367,
          1.3117262901544136,
          1.356107672488528,
          1.4031630751219295,
          1.4535715653348018,
          1.5076445066573727,
          1.5663675649340556,
          1.6298425715346212,
          1.698519632941621,
          1.7707454135453011,
          1.8479313137273803,
          1.926725238893283,
          2.0057512402678537,
          2.0807847932957166,
          2.1575564499900364
         ],
         "z": [
          1.1154325143004695,
          0.764685983799187,
          0.4413807423291167,
          0.8722690755288001,
          0.19633715522494322,
          0.015942816759950757,
          -0.11549624695370686,
          -0.21786904161304035,
          -0.30191502387044616,
          -0.3688656318073158,
          -0.4250329158163838,
          -0.4723607915391299,
          -0.5129080419828731,
          -0.5487620154874252,
          -0.5809804158626621,
          -0.6103785309306401,
          -0.637431092692345,
          -0.6623753795952155,
          -0.6857567855089722,
          -0.7082759917915672,
          -0.7319575819510595,
          -0.7591981250017503,
          -0.7930562791367332,
          -0.8355550342620842,
          -0.8858849920935129,
          -0.942540571842287,
          -1.0013292028445302,
          -1.056452028085314,
          -1.1054982101311175,
          -1.1456624926653058,
          -1.1785851828374956,
          -1.204510000439713,
          -1.2258746244962948,
          -1.2428962078971115,
          -1.2590345663676958,
          -1.2720835434296094,
          -1.2866111309954875,
          -1.3013377111299935,
          -1.3163551767975699,
          -1.3321827889468283,
          -1.3487915761077303,
          -1.3659580256879655,
          -1.3833991458991057,
          -1.4008579507709022,
          -1.4182052941245618,
          -1.4350215437787774,
          -1.4506044480041815,
          -1.4642812088606274,
          -1.4750223944102556,
          -1.4825070609001805,
          -1.4865893532117112,
          -1.4855907337340133,
          -1.4792159844301815,
          -1.467518486753215,
          -1.4503480631917505,
          -1.4260686331310577,
          -1.397251934202386,
          -1.3619109051541203,
          -1.3166127519238113,
          -1.2557795289042153,
          -1.1851076555784794,
          -0.3376522922699051,
          -0.6881090998164239,
          -1.0125907696861645,
          -0.6492409223157949,
          -1.2584577691955043,
          -1.4374963555679763,
          -1.568719069481613,
          -1.6710786362629353,
          -1.7550135808368554,
          -1.8221828684978092,
          -1.8783024088928644,
          -1.9256452979539946,
          -1.9663438423514201,
          -2.0022989795695025,
          -2.034629790539171,
          -2.064123676407256,
          -2.0911876581892237,
          -2.1161515079829214,
          -2.139589300217827,
          -2.162313024004834,
          -2.186542047137146,
          -2.2145743057826572,
          -2.24943754371719,
          -2.292543514512004,
          -2.3438453230337184,
          -2.4005954013828448,
          -2.4575934639894683,
          -2.5115091257546855,
          -2.558120340668904,
          -2.596961819444566,
          -2.6282091741420763,
          -2.6529218616126586,
          -2.6730896053098214,
          -2.6891572876002443,
          -2.702893932498464,
          -2.718480485661444,
          -2.732730199806333,
          -2.7473418043712035,
          -2.7622985838320537,
          -2.778149864304777,
          -2.7945485333883653,
          -2.81173250980648,
          -2.8290730827851274,
          -2.8465589481616207,
          -2.8637728027091467,
          -2.880401164374874,
          -2.8957407924254848,
          -2.9095384506495363,
          -2.920968656170189,
          -2.9294510088736527,
          -2.932911789573145,
          -2.9324919242457277,
          -2.9267013662015153,
          -2.914563880786688,
          -2.8962860041994842,
          -2.8712434015931323,
          -2.8370613986530175,
          -2.7961057524589563,
          -2.7417113938030235,
          -2.6704542921099432,
          -2.5826312915948706
         ]
        },
        {
         "hovertemplate": "Sensor=Lignina<br>PC1=%{x}<br>PC2=%{y}<br>PC3=%{z}<extra></extra>",
         "legendgroup": "Lignina",
         "marker": {
          "color": "#EF553B",
          "opacity": 0.4,
          "symbol": "diamond"
         },
         "mode": "markers",
         "name": "Lignina",
         "scene": "scene",
         "showlegend": true,
         "type": "scatter3d",
         "x": [
          -3.8194238868555592,
          -3.586886312266612,
          -4.942409393830978,
          -0.6691422953851077,
          -1.2452464919527733,
          -1.1861521110497268,
          -1.088768600836088,
          -0.9771891224060224,
          -0.8662977664673374,
          -0.7729221985280352,
          -0.6906758522321301,
          -0.6179767131369649,
          -0.5630076756755084,
          -0.49510095318749947,
          -0.426667057746565,
          -0.35564847037290587,
          -0.2747939905862629,
          -0.18832876505848867,
          -0.09659286520136619,
          -0.0035578484373287233,
          0.08381299906438441,
          0.16092968201551242,
          0.22416450921140466,
          0.27131473707346293,
          0.3062083363765887,
          0.33056350563142295,
          0.35067094934109155,
          0.3686895407060582,
          0.3901120524385292,
          0.41501840088619724,
          0.4455259176450679,
          0.47742331738004723,
          0.5087710177024497,
          0.5344898900255308,
          0.5524470319690278,
          0.5669751495730682,
          0.5732589619612787,
          0.5758750559100548,
          0.5768371949367898,
          0.5778041646869283,
          0.5802178487176876,
          0.5857305012378656,
          0.5954125007196244,
          0.6111106191698987,
          0.631734878788738,
          0.6597395839608018,
          0.6945425938864477,
          0.7363708124793584,
          0.7858493792549547,
          0.8439018287442354,
          0.9126117125981998,
          0.9934767774246901,
          1.084867651206812,
          1.1950781958876886,
          1.3227007303249292,
          1.4709923429080667,
          1.6475091191641915,
          1.8598907977491592,
          2.113413692179585,
          2.4130363681017357,
          2.7689669862564172,
          -3.821279201969123,
          -3.592963319495807,
          -4.94761068996089,
          -0.5852882534407126,
          -1.230449590130144,
          -1.1955626344978023,
          -1.0919111579113978,
          -0.9852179131904946,
          -0.8711337717961112,
          -0.7798371318339239,
          -0.6967464963997744,
          -0.6253702975477616,
          -0.569222733257943,
          -0.5008606806739169,
          -0.43202377261650776,
          -0.36074482396301805,
          -0.27920163167379114,
          -0.1917618690438742,
          -0.09927562760524626,
          -0.005808676616497456,
          0.08185408225605066,
          0.16044198708091495,
          0.22293594706588066,
          0.2706201392223104,
          0.3066418240393977,
          0.3318218373662596,
          0.3518359082690699,
          0.3701122001950526,
          0.3917070951908067,
          0.4167321395848928,
          0.4469288795721193,
          0.48171425989699235,
          0.5119904396394447,
          0.5389645305457601,
          0.5571469010155372,
          0.5722797197527,
          0.5795036242016999,
          0.5830754274948685,
          0.5850556017567545,
          0.5870406661261848,
          0.5905391847137347,
          0.5968321596350731,
          0.6071687640894612,
          0.6228151911965424,
          0.6441124613359164,
          0.6717316798525088,
          0.70608503223294,
          0.7478650734677788,
          0.7978213750471249,
          0.8555348754335551,
          0.9228990974870699,
          1.0020648631676894,
          1.093229074695776,
          1.1984048498001394,
          1.3219014429111586,
          1.4672513211303868,
          1.6388912284196253,
          1.8441385152857546,
          2.078387139883463,
          2.3718665710743134,
          2.712610304079886
         ],
         "y": [
          6.068712083632862,
          4.5441274577624915,
          3.533651297994732,
          2.4452512722908244,
          1.8605616775778542,
          1.3868636881344842,
          1.0074157099863021,
          0.7164161119113565,
          0.49062569639633136,
          0.3199959968286068,
          0.18817906913589372,
          0.08939410223315636,
          0.00956153240290456,
          -0.03659092649000835,
          -0.06333609090757886,
          -0.07417072519059793,
          -0.06826116410959882,
          -0.051220783856322,
          -0.02626293407712835,
          0.004092575315702395,
          0.03431346600291396,
          0.06152164897066359,
          0.08318849442076466,
          0.09743489238865276,
          0.10557112767296833,
          0.10761252408272691,
          0.10600476368987037,
          0.10090303230421564,
          0.09442919271475585,
          0.0863693252604017,
          0.07788356424704174,
          0.06798023838977049,
          0.05646017257691582,
          0.04241790715177734,
          0.0253038569057978,
          0.007857463022714412,
          -0.01298932346022372,
          -0.03478737256510765,
          -0.05669576089182085,
          -0.07818470421725973,
          -0.09779318696578936,
          -0.11456123562243711,
          -0.1267478033867158,
          -0.13315768456122828,
          -0.13491473170074494,
          -0.1304747973563412,
          -0.12081508558441023,
          -0.10724736377732355,
          -0.09039437507836562,
          -0.07065465711050854,
          -0.04843287362722398,
          -0.02402844975749589,
          -0.00011894044971381272,
          0.02636722017549574,
          0.053353079663787904,
          0.0804458094306366,
          0.1097007165101016,
          0.1429545159996162,
          0.17937449946283035,
          0.21635648650481643,
          0.26001183541387174,
          6.050964391735278,
          4.518565598841022,
          3.506210397524366,
          2.4210045780306415,
          1.8395199937664861,
          1.3611883901471575,
          0.98465954108747,
          0.6914065840275267,
          0.4676848965083938,
          0.2958105929026716,
          0.16461626594633808,
          0.06488925263119627,
          -0.014104142991004135,
          -0.060001900215282684,
          -0.08658352643867748,
          -0.09738284795210062,
          -0.09119823825908625,
          -0.07373208143648885,
          -0.048495661035859776,
          -0.018001432685868284,
          0.012277946481282408,
          0.0402172043021419,
          0.06146507360466823,
          0.07600121228414393,
          0.08471723248493658,
          0.08722053095903116,
          0.08559420026092622,
          0.08070273004011479,
          0.07443001447034285,
          0.06634093702410009,
          0.057724254261902946,
          0.04937070707257352,
          0.037018530732462154,
          0.02348626409296719,
          0.0068659002409057375,
          -0.010416406718263643,
          -0.0309030024010068,
          -0.05213373031592542,
          -0.07340538690774359,
          -0.09388695456406158,
          -0.11271480399509506,
          -0.12873268744465102,
          -0.14045748162164504,
          -0.14719867161040945,
          -0.1487194136810445,
          -0.14491950633123366,
          -0.13608264869112094,
          -0.12317496888395209,
          -0.10641196971980127,
          -0.08740802421204887,
          -0.06656200692331897,
          -0.04371929810129213,
          -0.019257874294912894,
          0.004622422148933345,
          0.03021449566785036,
          0.056638508032431985,
          0.08495668155741425,
          0.11506354262564907,
          0.1432200109980091,
          0.1809936558274817,
          0.21962820502359154
         ],
         "z": [
          1.2172473807046957,
          1.0320075896905245,
          1.0858053701080574,
          0.2747252876858128,
          0.23878767458578662,
          0.12355384210428647,
          0.02257814073541501,
          -0.06442189162313472,
          -0.13942179342940308,
          -0.19922501541586807,
          -0.24843803716115628,
          -0.2885279759613513,
          -0.3194851687578455,
          -0.3469286414676872,
          -0.3690465322657317,
          -0.3863896454542371,
          -0.3992649725855229,
          -0.40773548938331267,
          -0.4124965569043554,
          -0.4140665740704655,
          -0.4143716907634015,
          -0.4146311222598664,
          -0.4163928999102905,
          -0.4210810448470665,
          -0.4295784702388314,
          -0.44298281598684375,
          -0.46233512843559277,
          -0.4889913938669403,
          -0.5235760493079716,
          -0.566141343460832,
          -0.6152538452147022,
          -0.667354725718285,
          -0.7193052668165344,
          -0.7660454388435726,
          -0.8051412203614547,
          -0.8360850348474153,
          -0.8584564482723199,
          -0.8732192643260077,
          -0.8818890081442267,
          -0.8860045574639109,
          -0.886449346891457,
          -0.8843427749520058,
          -0.8802138590675542,
          -0.8753309885445286,
          -0.8685866271095913,
          -0.8602402558665851,
          -0.8490792904770914,
          -0.8337023464546413,
          -0.8125854793753401,
          -0.7839633055616684,
          -0.7448706419561728,
          -0.692614996481592,
          -0.6232392798313207,
          -0.5336180885580446,
          -0.4172411260548785,
          -0.27082806210076615,
          -0.08182544976373263,
          0.1521548919207987,
          0.4450916512679055,
          0.8137574045445983,
          1.2482371406264021,
          1.2662264277191648,
          1.0850786744366347,
          1.1387354131204632,
          0.31523398325202784,
          0.2888641827444372,
          0.17791573692066395,
          0.07556761284483393,
          -0.010404739106963032,
          -0.08616299908124503,
          -0.14541021225030007,
          -0.19481850397119133,
          -0.23454690116597923,
          -0.2656486621546741,
          -0.2930367320542193,
          -0.3150604897831,
          -0.3322792963788514,
          -0.34501192827337934,
          -0.35331230682163395,
          -0.3578979622344983,
          -0.3593880299013423,
          -0.35950858114201073,
          -0.3595714068948034,
          -0.36135654794858896,
          -0.36600911461799523,
          -0.37432084048645275,
          -0.3877202709849479,
          -0.40698949236245274,
          -0.4335842577538402,
          -0.46808538897797797,
          -0.5111303703730645,
          -0.5605986440501766,
          -0.6129687946568024,
          -0.6659900723240213,
          -0.7137242417136374,
          -0.7529990951088245,
          -0.7850341180003294,
          -0.8085369151127217,
          -0.824229131539752,
          -0.8339313848368999,
          -0.8388120529786586,
          -0.8401153219618464,
          -0.838758584161484,
          -0.8354932809268922,
          -0.8306529090441795,
          -0.8245235176736272,
          -0.8163744858986098,
          -0.8056247289414079,
          -0.7909566957190044,
          -0.7707839352785291,
          -0.7428556555739793,
          -0.7049511420817489,
          -0.654322504431036,
          -0.5880657567754575,
          -0.5005493341534704,
          -0.3909436554131287,
          -0.24815444463425057,
          -0.0663932191417504,
          0.16156026426954917,
          0.4432403800172669,
          0.7942172648885639,
          1.2142350020909836
         ]
        },
        {
         "hovertemplate": "Sensor=Eletrodo 1<br>PC1=%{x}<br>PC2=%{y}<br>PC3=%{z}<extra></extra>",
         "legendgroup": "Eletrodo 1",
         "marker": {
          "color": "#00cc96",
          "opacity": 0.4,
          "symbol": "square"
         },
         "mode": "markers",
         "name": "Eletrodo 1",
         "scene": "scene",
         "showlegend": true,
         "type": "scatter3d",
         "x": [
          -3.4003113388037143,
          -3.1607580533252926,
          -2.753015986029979,
          -2.3967703235837914,
          -2.103510759774863,
          -1.8603927087459817,
          -1.6590075337260346,
          -1.493525788474327,
          -1.351298980146863,
          -1.2320671485824433,
          -1.1289268880053327,
          -1.0389867044103878,
          -0.9626084410611336,
          -0.8975146723183917,
          -0.8447687498192693,
          -0.8032673745502206,
          -0.7728353415663367,
          -0.7538018383050538,
          -0.7447101490375909,
          -0.7448883504227282,
          -0.7526662290858379,
          -0.7652624866590046,
          -0.782762044757194,
          -0.8025102380054125,
          -0.8210724151924528,
          -0.8378217153887291,
          -0.8515190747699997,
          -0.8592637632355411,
          -0.862033766442981,
          -0.8580801873882823,
          -0.8455982199302502,
          -0.8300467888888101,
          -0.8046493873834406,
          -0.7785872975549655,
          -0.739214194409618,
          -0.7121984345301916,
          -0.676289046185647,
          -0.632800182660414,
          -0.5862687991010026,
          -0.5348784475990643,
          -0.4789515712712184,
          -0.41754756226367,
          -0.3486281106440335,
          -0.2683888651900994,
          -0.177298820939355,
          -0.07021503605390905,
          0.056874371284689425,
          0.20899154464143282,
          0.39095979966472705,
          0.6082874645325899,
          0.867674686602323,
          1.1773538765467293,
          1.5396207344674901,
          1.9631136063951484,
          2.4767768719561642,
          3.118967581894295,
          3.9459010646201707,
          5.066199135226611,
          6.613331799798866,
          8.784665598047129,
          12.07474463553623,
          -3.2004465523516186,
          -3.1304554772717696,
          -2.729290459469757,
          -2.375249641517819,
          -2.082882206568122,
          -1.839339005255121,
          -1.6399339187686042,
          -1.4757667980750058,
          -1.3340529329548485,
          -1.2158186483943187,
          -1.1132964932039402,
          -1.025167548099985,
          -0.9499006393537704,
          -0.8849487652639177,
          -0.831486811120126,
          -0.7888850849488823,
          -0.7572540399267846,
          -0.7358517927635907,
          -0.7243343465884821,
          -0.7216100796141117,
          -0.7264562428192346,
          -0.7368583291977239,
          -0.7502509807769077,
          -0.7668934063844645,
          -0.7830278796181996,
          -0.7969373408399758,
          -0.8080190969818107,
          -0.8134909766852602,
          -0.8138833664517191,
          -0.8086119735504191,
          -0.7960011908176774,
          -0.7788964098145652,
          -0.7599123137546577,
          -0.7301958983224229,
          -0.6981431274374651,
          -0.6667306322054422,
          -0.6307537773949584,
          -0.5895159804796621,
          -0.5443592507534268,
          -0.495476048342757,
          -0.4418988593670222,
          -0.3829340937507268,
          -0.3167096352349637,
          -0.23947467488543,
          -0.15174082025062127,
          -0.049236623690655124,
          0.07241104219405702,
          0.2181774165584588,
          0.3919423175517851,
          0.5988535354389734,
          0.8488051856320324,
          1.1492538496075768,
          1.4970976584469509,
          1.9165261514775755,
          2.4242382313259356,
          3.0597667550411183,
          3.878396276019748,
          4.9740556781503455,
          6.4860732072907075,
          8.689769687848242,
          11.839931804546449,
          -3.193176343207121,
          -3.1366848275410946,
          -2.7361915386746456,
          -2.3837649130006398,
          -2.0887109755193976,
          -1.8455854765032262,
          -1.643583169906953,
          -1.4782308207944581,
          -1.3352675154976605,
          -1.2161104415065973,
          -1.1122469771931986,
          -1.0243617406237417,
          -0.9493356395146885,
          -0.8860640941959215,
          -0.8342269152977756,
          -0.7939834753945163,
          -0.7645313911960068,
          -0.7463599253003035,
          -0.7374031814537758,
          -0.7373431219930209,
          -0.7440198677033607,
          -0.756152179448075,
          -0.7720254589098675,
          -0.7886905225806136,
          -0.8055540120731913,
          -0.8195627277635578,
          -0.8297382561875645,
          -0.8346186092732011,
          -0.8348730829454338,
          -0.8283757365693255,
          -0.815600565068917,
          -0.7982802894186537,
          -0.7751936283171732,
          -0.7453756782739769,
          -0.7174403263565876,
          -0.6812248361025284,
          -0.6459097162005564,
          -0.6038735924647515,
          -0.557868937183011,
          -0.508754081656926,
          -0.45428226244164543,
          -0.39453742873147035,
          -0.32657043339002023,
          -0.2513447036590544,
          -0.16253210712795446,
          -0.05950056530913534,
          0.06283606447871369,
          0.20919629330848097,
          0.3836133442839999,
          0.5924460163019478,
          0.8418506431016488,
          1.140992812438575,
          1.49426912046367,
          1.9117770085677748,
          2.419502129340133,
          3.048113470910653,
          3.860801860276418,
          4.953507996061099,
          6.462572785679561,
          8.625283576154128,
          11.779592956460553,
          -3.4630039459912494,
          -3.2518559106764293,
          -2.8452890694789748,
          -2.4894740198535046,
          -2.1954355687810976,
          -1.9540698099890546,
          -1.754309554891321,
          -1.5909466784876811,
          -1.4501953963968344,
          -1.3323419889671726,
          -1.230264214643565,
          -1.1429038853997082,
          -1.0677197434125565,
          -1.003922391237603,
          -0.9515130325470553,
          -0.9104098887155716,
          -0.8802304050298735,
          -0.8614107308375514,
          -0.8524083281039859,
          -0.852693421272741,
          -0.8603544928974782,
          -0.8736495592318979,
          -0.8902288131915873,
          -0.9089171267626734,
          -0.9265051257861756,
          -0.942345899096405,
          -0.9545874541938054,
          -0.9592215500721344,
          -0.9589876298568475,
          -0.9521598186542108,
          -0.9393056173772149,
          -0.9214237130943475,
          -0.895607973372589,
          -0.8683937850145212,
          -0.8295335231893569,
          -0.8006998327450795,
          -0.7629624291866249,
          -0.7189573574718773,
          -0.6720535715013746,
          -0.6208142081959339,
          -0.564564364124657,
          -0.5027462588908524,
          -0.43390962940827643,
          -0.3534691848815044,
          -0.2617450576114,
          -0.15525476949153036,
          -0.027552932721440472,
          0.1232576955154097,
          0.30411691652399253,
          0.5189827126931809,
          0.7777285618871214,
          1.0777165043245915,
          1.439474900312579,
          1.8645647175852587,
          2.3763422546755204,
          3.008479477955124,
          3.824344236191502,
          4.927924922903727,
          6.469727677733224,
          8.656588712078062,
          11.843188844407893
         ],
         "y": [
          5.433131274428405,
          3.9380448323169457,
          2.8368804200628577,
          1.9876547251755892,
          1.3257091236066558,
          0.814801281152789,
          0.4237983624835218,
          0.12593769713343328,
          -0.10022801423874235,
          -0.2614857062109528,
          -0.3793234122554392,
          -0.4603688524329258,
          -0.5193874740831135,
          -0.56297434841031,
          -0.601074038797758,
          -0.6379898127826449,
          -0.677538797440819,
          -0.7236908421351448,
          -0.7773979443497915,
          -0.8378869951061556,
          -0.9047887179392076,
          -0.9743138953949353,
          -1.0478676101122102,
          -1.1209896718575143,
          -1.1879954749781287,
          -1.2476353652047756,
          -1.2981860483149437,
          -1.3341104577183405,
          -1.3575407164182025,
          -1.3648793052316914,
          -1.3533339555156012,
          -1.335284413478753,
          -1.2956434119237847,
          -1.2560835947355353,
          -1.1909836292708695,
          -1.1520842772402913,
          -1.099019529255081,
          -1.034452603817155,
          -0.9694368667508052,
          -0.9018562173966709,
          -0.834578179954299,
          -0.7683589275071785,
          -0.702212092670633,
          -0.633504723431516,
          -0.5665203394877817,
          -0.4987627802527579,
          -0.4287879243261437,
          -0.3557734970961874,
          -0.2768654429411032,
          -0.18971232474062108,
          -0.09053669099833632,
          0.024649114777799054,
          0.16099486705330157,
          0.3246146971675678,
          0.5319413292504712,
          0.799891759736115,
          1.1612369789025925,
          1.6684516693236937,
          2.3825925630666753,
          3.3986747890120568,
          4.953973534151441,
          5.521793460552797,
          3.9745016994555202,
          2.875282270057179,
          2.026539775975413,
          1.3650283298344508,
          0.8559653830642175,
          0.46140622856487207,
          0.1609336666678948,
          -0.06654654832128591,
          -0.2303322202670655,
          -0.35000310210330726,
          -0.43539928387055854,
          -0.497261264837071,
          -0.5417825778687309,
          -0.5790702904278192,
          -0.6144643988341826,
          -0.6523651462946488,
          -0.694388331600622,
          -0.7438247797301544,
          -0.7988548754573707,
          -0.8602347608782069,
          -0.9252302171586898,
          -0.9903955176568169,
          -1.0573306557198305,
          -1.1190382027448402,
          -1.17312099556693,
          -1.2183102311373917,
          -1.2494010202621848,
          -1.2679947668502618,
          -1.2734978629871039,
          -1.2623676350138233,
          -1.2412593117797532,
          -1.2172789668348074,
          -1.171466042942965,
          -1.1213720173266153,
          -1.0758471359587094,
          -1.0243479522238836,
          -0.9659363983290554,
          -0.9050922779212653,
          -0.8436741800445965,
          -0.7822452839710203,
          -0.720545496791616,
          -0.6596838032616751,
          -0.5958223775116392,
          -0.533170018825186,
          -0.4695279073412341,
          -0.4033927687386708,
          -0.3341722599571161,
          -0.2591765054817506,
          -0.1763543836129096,
          -0.08151296540621954,
          0.03010899228567777,
          0.1610048482696557,
          0.3214919192712065,
          0.5237037694687732,
          0.78825009331215,
          1.1455982564859206,
          1.6387503579527232,
          2.33259248788691,
          3.364353361034315,
          4.850164862212828,
          5.504704269511158,
          3.9535316848443,
          2.85416863477457,
          2.002799780974661,
          1.3464421890291516,
          0.8367273296437943,
          0.44744851199797897,
          0.14943865530934203,
          -0.0755696295212491,
          -0.23765356731466517,
          -0.3550120304734056,
          -0.4414238867269549,
          -0.5043720551770958,
          -0.5528084715033424,
          -0.5938129299145756,
          -0.6341012620275975,
          -0.6764175998730879,
          -0.7245353551047871,
          -0.7787835322158692,
          -0.8386859911942645,
          -0.9034876220215299,
          -0.9717653659423388,
          -1.041447688427741,
          -1.1080989128804384,
          -1.1714528622306595,
          -1.2254457322903998,
          -1.2687554344293963,
          -1.2982725122432353,
          -1.316441147786595,
          -1.3187066622011443,
          -1.3071857854106397,
          -1.2856971986000048,
          -1.2526987479670537,
          -1.2051036852823531,
          -1.1644484515095002,
          -1.1088129126549289,
          -1.0583410445139214,
          -0.9982586096662744,
          -0.9355337295711234,
          -0.8738553116981193,
          -0.8106723792778104,
          -0.7484554990976586,
          -0.6846283265732807,
          -0.6235389066375311,
          -0.5597934844127234,
          -0.4958311484686322,
          -0.42950831061715344,
          -0.3599284868827627,
          -0.2845034070141248,
          -0.20083888290625776,
          -0.1062353022865643,
          0.004578538965282134,
          0.13702716256505268,
          0.29670764543578676,
          0.49892920161164866,
          0.7614953746157204,
          1.1140424421809128,
          1.6056613849403063,
          2.29908030570656,
          3.3107098155579036,
          4.798007384191919,
          5.186605352637144,
          3.679541975264925,
          2.5774022400754903,
          1.7275986484715373,
          1.0672341181177998,
          0.5528476256658692,
          0.1584602054270919,
          -0.14383970973402055,
          -0.3731085275136397,
          -0.5371920170775789,
          -0.6570718873817001,
          -0.7430891851719184,
          -0.8039826230248174,
          -0.8494670935613802,
          -0.8875219128382209,
          -0.9245636132272215,
          -0.9639807103848558,
          -1.01012631001169,
          -1.0636542039301211,
          -1.123988959196177,
          -1.1906690699196105,
          -1.2612078812249141,
          -1.3329692291750421,
          -1.403546784825831,
          -1.4686428576057042,
          -1.526322906588584,
          -1.5739950715556867,
          -1.6028310289268526,
          -1.6197277204637694,
          -1.6209962284543884,
          -1.6086872065313107,
          -1.585412259062439,
          -1.5454068087867279,
          -1.503695469501571,
          -1.4400405936353302,
          -1.3981000638918961,
          -1.3424246939947533,
          -1.2776964399216957,
          -1.212988957894334,
          -1.1471507456308219,
          -1.0809016274693146,
          -1.0150364327116983,
          -0.950718320826247,
          -0.8828855511205159,
          -0.8169566347812586,
          -0.7505414378480476,
          -0.6809460406825725,
          -0.608570730504735,
          -0.530733743710388,
          -0.44459980381361813,
          -0.34603978616358494,
          -0.23379422524201282,
          -0.09929817098380288,
          0.06497528383817346,
          0.2702519967726996,
          0.5334121138238602,
          0.8904980394925136,
          1.3873369820482766,
          2.099564779625179,
          3.122316386135981,
          4.626860093972739
         ],
         "z": [
          1.5468647444377948,
          1.2252059396743638,
          0.9682070221745535,
          0.7544790757065186,
          0.579987065007708,
          0.433999589264812,
          0.3111934214482186,
          0.20882460725873364,
          0.11880442872247855,
          0.04153948844800666,
          -0.026388182647737093,
          -0.08650003401479522,
          -0.13732451450023486,
          -0.18019561070118106,
          -0.2138415307912135,
          -0.2390358791017223,
          -0.2558369213848073,
          -0.2637117926678051,
          -0.263499295366865,
          -0.2554221923737575,
          -0.24056117083014109,
          -0.2211236027457853,
          -0.1969199766543996,
          -0.1705031962616299,
          -0.14508043392803302,
          -0.12155348001151399,
          -0.10104400073777486,
          -0.08648660672478557,
          -0.07692264860565233,
          -0.07403617949360194,
          -0.07932311125771944,
          -0.08681663350552726,
          -0.10317842199410085,
          -0.11831077177904395,
          -0.14411184477014619,
          -0.154857961464008,
          -0.1704934306920673,
          -0.18771450672874737,
          -0.20094424775577407,
          -0.21010404595663099,
          -0.21228635843694804,
          -0.20491025958823825,
          -0.18677323709845828,
          -0.15464848542149834,
          -0.10514780718590154,
          -0.03307334199410591,
          0.06483295924544241,
          0.19485316127614605,
          0.35726049151762423,
          0.5551426584891873,
          0.7865444346202134,
          1.0526197035982254,
          1.336891723471315,
          1.6266015902890096,
          1.9170776509130705,
          2.217594500618585,
          2.505511618328032,
          2.793075018981435,
          3.1066957650429208,
          3.4660209304817924,
          3.954076790064561,
          1.5454904933262834,
          1.2152814081517285,
          0.9555595770225453,
          0.7410133113858695,
          0.5660400880997661,
          0.41909164003324095,
          0.2978502192400788,
          0.1966425385636273,
          0.10721970297008827,
          0.031133968380725376,
          -0.035926570536840736,
          -0.09405535495054813,
          -0.1435896075084168,
          -0.18602243324875448,
          -0.22001786134223558,
          -0.2459389390040859,
          -0.2636556467778249,
          -0.2735946949768185,
          -0.27566871266954257,
          -0.2704871236527483,
          -0.2586642066425567,
          -0.24175336244306722,
          -0.22191296445659778,
          -0.19885494838068327,
          -0.17629250433568003,
          -0.15579202520770583,
          -0.13813876689221574,
          -0.1260865567153168,
          -0.11904513174122869,
          -0.11736947167714573,
          -0.12266255153434394,
          -0.13169184242109713,
          -0.14114305796361312,
          -0.15960542477659245,
          -0.17828284861086607,
          -0.19295608717085877,
          -0.2082430807697016,
          -0.22351206276997035,
          -0.23575296938473667,
          -0.2433928067300304,
          -0.24438057892598733,
          -0.23808164919347566,
          -0.22000297943900313,
          -0.18995596147258412,
          -0.14366597397556924,
          -0.07736160962495905,
          0.012554781386633303,
          0.1325469784413827,
          0.28188679413363427,
          0.4633483556854251,
          0.6811394934969153,
          0.9334446359960933,
          1.197956914969444,
          1.4841712830196405,
          1.7775994687043346,
          2.0708610278389226,
          2.3514282348799926,
          2.6371511987378184,
          2.960206347648635,
          3.330389103602182,
          3.7957433845820616,
          1.5946724132856236,
          1.2636264262059818,
          1.0038238859781516,
          0.7903993995683037,
          0.6131161623065771,
          0.46644675278515907,
          0.34281140976663227,
          0.2405058658954776,
          0.14998676693221125,
          0.07316128726657115,
          0.005102728321021297,
          -0.052573423216030375,
          -0.10163935156159562,
          -0.1424440598874826,
          -0.17495666966994608,
          -0.1989041667149923,
          -0.2148261137180091,
          -0.22210956726521014,
          -0.22195537633509746,
          -0.21434722692661837,
          -0.20071852057163955,
          -0.18202813896565115,
          -0.15975173323038683,
          -0.13657068348710036,
          -0.11309468566106297,
          -0.09247199693787744,
          -0.07565937423026269,
          -0.06426268248867965,
          -0.05735240231116856,
          -0.05708421468280056,
          -0.0625579213625375,
          -0.07176452064054677,
          -0.08544355355575464,
          -0.10434611354974943,
          -0.1188578323673182,
          -0.13820758354617665,
          -0.15289225253820365,
          -0.1686949110403513,
          -0.18165018509914044,
          -0.18920339848008594,
          -0.19076334183231816,
          -0.1838049616895402,
          -0.16709168822876172,
          -0.1355657663829501,
          -0.08882405112224181,
          -0.021942305849785012,
          0.06937807202875809,
          0.18991069056999357,
          0.3397938538615869,
          0.5232305371475158,
          0.7410385237805512,
          0.9931157505620134,
          1.264668525103871,
          1.5509175061012523,
          1.8439846638753825,
          2.129872374194682,
          2.418362786168509,
          2.709431965428074,
          3.0244633113813335,
          3.3874929278655777,
          3.862347820821721,
          2.0927789995439645,
          1.771431002369022,
          1.5146972323059473,
          1.301190079659329,
          1.1259601906592605,
          0.9815364354969777,
          0.8602638299034168,
          0.7599060734532805,
          0.6712590367368494,
          0.5952379445629872,
          0.5281772933636182,
          0.4701995559310922,
          0.42015822736424263,
          0.3781052523993889,
          0.34447930920587866,
          0.31945924819242605,
          0.30281187217590877,
          0.2951888815048509,
          0.29562247597790314,
          0.3039700636706995,
          0.3189567460975172,
          0.33916587767105333,
          0.3626723968354853,
          0.3880968706932157,
          0.4126698900434664,
          0.43533484185825033,
          0.4544604684074199,
          0.4657409687760475,
          0.472233952046238,
          0.4722181069516759,
          0.4666793180917431,
          0.4568858614022094,
          0.4402808621393173,
          0.42431209678578774,
          0.39936444327292697,
          0.38734346299737343,
          0.370902026195825,
          0.35372376206503714,
          0.3410538559824269,
          0.33307827722517985,
          0.3320951722097645,
          0.33944255267911927,
          0.3590538439214011,
          0.3912179112586643,
          0.44178289816873667,
          0.5129356992687547,
          0.6107462889565938,
          0.7369369506181092,
          0.8967469560422013,
          1.0889820594474648,
          1.3188089670774192,
          1.5706394008891642,
          1.8565291427041757,
          2.1464959496053373,
          2.438364863319664,
          2.7319469699440475,
          3.0111954923830333,
          3.3038390874825416,
          3.6142238546982104,
          3.983595924446751,
          4.458146022392641
         ]
        },
        {
         "hovertemplate": "Sensor=Eletrodo 2<br>PC1=%{x}<br>PC2=%{y}<br>PC3=%{z}<extra></extra>",
         "legendgroup": "Eletrodo 2",
         "marker": {
          "color": "#ab63fa",
          "opacity": 0.4,
          "symbol": "x"
         },
         "mode": "markers",
         "name": "Eletrodo 2",
         "scene": "scene",
         "showlegend": true,
         "type": "scatter3d",
         "x": [
          -4.89819656808651,
          -2.8925219838525233,
          -2.5955644025373004,
          -2.259998390976662,
          -1.9700773765364685,
          -1.726244440705508,
          -1.5222673251288668,
          -1.3515580165229124,
          -1.2037985017011363,
          -1.0796385781798565,
          -0.970662335586442,
          -0.8749784795875581,
          -0.790922981006737,
          -0.7163296304457352,
          -0.6501253115888379,
          -0.5910898766707953,
          -0.5381408059259707,
          -0.49102665734859613,
          -0.4479733521308838,
          -0.4086313973604925,
          -0.3723741671223358,
          -0.337434532478148,
          -0.3034631137909088,
          -0.26927949538094226,
          -0.2347900667879034,
          -0.19921981272870018,
          -0.1626189475126767,
          -0.12390747297498647,
          -0.0823018259104395,
          -0.039712379883784746,
          0.005364914941218015,
          0.05281184459753918,
          0.10250050646195757,
          0.15476304974325844,
          0.21144320518605803,
          0.26810380842609816,
          0.3296908012927243,
          0.39410087414126377,
          0.45879544628664193,
          0.5246770662754126,
          0.5899833472163719,
          0.6547674930700578,
          0.7200932633289908,
          0.784420447610819,
          0.8521046783656063,
          0.9231084740082494,
          0.9999402872437938,
          1.085770023389155,
          1.1813785258007095,
          1.2879935928422335,
          1.4079501593106056,
          1.5454663426609878,
          1.6980876156119225,
          1.8685658908700187,
          2.061480861674976,
          2.276742235574981,
          2.517922439339379,
          2.791194068317696,
          3.09776778781104,
          3.4366579503637964,
          3.826909975462144,
          -4.546829048800704,
          -2.80840698016284,
          -2.5640962081011764,
          -2.234550514745329,
          -1.9462271495052923,
          -1.7032436562867757,
          -1.4986042036080334,
          -1.3286746733960342,
          -1.1803781138151752,
          -1.0561191467427913,
          -0.9478377446077156,
          -0.8528682300148936,
          -0.7698863008856631,
          -0.6961890899080923,
          -0.6303880141167494,
          -0.5714483877258376,
          -0.518690302146016,
          -0.4719585530227147,
          -0.4291171783121751,
          -0.3903460813733549,
          -0.35447842354146464,
          -0.3204556041787372,
          -0.28713969028785397,
          -0.2543614858253711,
          -0.22029529137206058,
          -0.18552894386412772,
          -0.14936804911430362,
          -0.11047829861687768,
          -0.06999011952145802,
          -0.027019344824293953,
          0.018273026647742253,
          0.06643326599230094,
          0.11725960939374667,
          0.17074786240740764,
          0.22734703758787736,
          0.28724165347268593,
          0.34927962437017424,
          0.41319912421804256,
          0.4765882635367628,
          0.5403469800214153,
          0.6028466398555248,
          0.665182287623455,
          0.7285405238419336,
          0.7927873008309891,
          0.8600968013899601,
          0.9315692087524842,
          1.0101298326596508,
          1.0964146332285367,
          1.1944770624939447,
          1.3048622024245622,
          1.4300008299009666,
          1.5742537407365225,
          1.7361973077008919,
          1.9210090411051477,
          2.126483755617807,
          2.354162308022411,
          2.6092699809863444,
          2.8918955516289024,
          3.210875522784081,
          3.5501335200759976,
          3.936022011719429,
          -4.495284409988757,
          -2.783513900131194,
          -2.5645202367101074,
          -2.236970643019004,
          -1.947302708447958,
          -1.703908989253215,
          -1.4996595104799817,
          -1.329271265700309,
          -1.181806035032091,
          -1.0571430066651857,
          -0.9491030038599918,
          -0.855108648053849,
          -0.7729683449252099,
          -0.6999704816111079,
          -0.6355130081607112,
          -0.5781638189221063,
          -0.5278029572255426,
          -0.4832964138196851,
          -0.4437436621830208,
          -0.4076514137952924,
          -0.3748849394195313,
          -0.34337110446665275,
          -0.3126326960198684,
          -0.2811199551720798,
          -0.24867040910799057,
          -0.21449872702152284,
          -0.17865648053623845,
          -0.14087359802623037,
          -0.10060709834059882,
          -0.05863726449391065,
          -0.014352709908583712,
          0.03222477280209074,
          0.08146753534030175,
          0.13400568830338147,
          0.1881537259671336,
          0.2455145267930762,
          0.305034262252024,
          0.3653517514802591,
          0.4269606131490414,
          0.4885057779562203,
          0.5493619258344036,
          0.6101003855943458,
          0.6717482123244822,
          0.7359564907919922,
          0.8028060842307456,
          0.8745526500893658,
          0.9527643528323314,
          1.039384718995168,
          1.1367258942926495,
          1.247296558218314,
          1.3738677598251663,
          1.5186516692117027,
          1.6845747008315382,
          1.8719811365702055,
          2.08370117326455,
          2.3192555984897445,
          2.5829674404840435,
          2.8748434182231373,
          3.1996257726275976,
          3.561414465554324,
          3.959896460834525,
          -4.666522902661002,
          -2.910654114199658,
          -2.65995226873263,
          -2.330582556724824,
          -2.041584561754683,
          -1.7980083120124106,
          -1.5949318957245386,
          -1.4251333866899785,
          -1.278721292686275,
          -1.1554738992929583,
          -1.0490775194984048,
          -0.9562161245553611,
          -0.8754891814174494,
          -0.8039616434110637,
          -0.741129811541633,
          -0.6853647372965748,
          -0.6364028167685662,
          -0.5931289826449421,
          -0.5545101215875154,
          -0.5197223615292443,
          -0.48772944494277126,
          -0.45723427343715306,
          -0.4273440990524817,
          -0.39667816742773704,
          -0.3652398219886564,
          -0.33227652769143196,
          -0.29780382049283727,
          -0.26171408853056666,
          -0.2236162171923974,
          -0.18329498471432384,
          -0.1405427330995061,
          -0.09526554639030561,
          -0.04797598436068584,
          0.0024313685118309315,
          0.05600404799567469,
          0.11171397533912077,
          0.1694705389019433,
          0.2292979505267709,
          0.2897634875030503,
          0.3505858353869892,
          0.4119190410266475,
          0.4738828599856973,
          0.5367973171717884,
          0.6017019130437683,
          0.6696649816985489,
          0.7418018731896759,
          0.819464435412565,
          0.9047431610096951,
          0.998725999114935,
          1.1041975397584254,
          1.2241691278015068,
          1.3621834830039867,
          1.5211497776628755,
          1.7051834617838815,
          1.9166963706884204,
          2.1557357531001156,
          2.420379034683677,
          2.7157762892274655,
          3.054578058169305,
          3.4175982591107976,
          3.823047208296263
         ],
         "y": [
          5.050578410664368,
          4.20842222342758,
          3.073707715617142,
          2.2212630876527717,
          1.5652163050801025,
          1.059739056624233,
          0.6735967377457958,
          0.3831447704364402,
          0.16264611756714106,
          0.003774189873053989,
          -0.1119296516835169,
          -0.19318827273272482,
          -0.2501344842709888,
          -0.28944171548377523,
          -0.316659939648777,
          -0.3358114997966546,
          -0.34914036585487707,
          -0.358991815999387,
          -0.3662790798725088,
          -0.3706440054866946,
          -0.37350838338894,
          -0.37322549110916403,
          -0.3704835279486268,
          -0.36470039778688185,
          -0.35600572568291905,
          -0.34488977941974425,
          -0.3315427181056663,
          -0.3158346939078502,
          -0.29749919110711065,
          -0.27831770446768833,
          -0.2576276239093174,
          -0.2356582016651935,
          -0.212673840722365,
          -0.188908738348701,
          -0.1636097499720919,
          -0.13873048457388543,
          -0.1130794462297908,
          -0.08705538701858793,
          -0.062389780763423136,
          -0.03852604549382664,
          -0.01623335885501989,
          0.004716587834380524,
          0.02549313868043477,
          0.04553702197694401,
          0.06685071275523366,
          0.0894107913474623,
          0.11417870811801381,
          0.14214614452712057,
          0.17321895487328562,
          0.20741810658312063,
          0.24486366704000395,
          0.2869632548685042,
          0.3319122424710501,
          0.3804881560761615,
          0.43288986728435846,
          0.4899068924612053,
          0.5508630576804457,
          0.6175222739602682,
          0.6891813439485465,
          0.7646906064446585,
          0.8510072142558968,
          5.197961926066237,
          4.26120976473639,
          3.109071392469632,
          2.257527577466547,
          1.6030407645210532,
          1.0980660661207058,
          0.7137618298526007,
          0.42185621242380744,
          0.20154562729670178,
          0.04158944750414579,
          -0.07696731888519386,
          -0.16131990624795892,
          -0.22194053972544395,
          -0.2646140521764057,
          -0.29440387363246984,
          -0.31555422546484835,
          -0.33098152972303724,
          -0.3429426650716858,
          -0.351983454997644,
          -0.35830062250577144,
          -0.3625475805424406,
          -0.36442283296223243,
          -0.36300897625199796,
          -0.35901814295191514,
          -0.35150605912206184,
          -0.34136491910686106,
          -0.32857455415970627,
          -0.3127619653331496,
          -0.29524812772852893,
          -0.275868244104535,
          -0.2546298430811973,
          -0.2322785932270355,
          -0.20861165021713782,
          -0.18412577285254794,
          -0.15873200472986498,
          -0.1331771026988887,
          -0.10772451382393576,
          -0.08254533891829527,
          -0.05895075148983742,
          -0.03644317936191,
          -0.01542277334480193,
          0.004783697965457549,
          0.025100584648600807,
          0.04541525272895144,
          0.06712264506560287,
          0.0903228491908204,
          0.11631325243171628,
          0.14490840049420758,
          0.17767270298499793,
          0.21396917605344223,
          0.25451009598737323,
          0.30015367156541634,
          0.34954425879520734,
          0.40438106100025034,
          0.4631853412968829,
          0.5254390545719755,
          0.592127760736941,
          0.6631721083013821,
          0.7415298530767701,
          0.8182869745533494,
          0.9033993001502085,
          5.2021153492035275,
          4.257272740134704,
          3.0942647117479822,
          2.242444012172623,
          1.5911132109871087,
          1.0874771616722887,
          0.7027752878400498,
          0.4116654469294375,
          0.1896731730534652,
          0.029979829885783946,
          -0.08955407716966116,
          -0.17606652345402118,
          -0.23868587589178775,
          -0.28308771185525805,
          -0.31537887468125364,
          -0.33926298765028234,
          -0.35805458354438924,
          -0.3730650088836581,
          -0.38596688910935717,
          -0.3950458629948705,
          -0.40224830660674554,
          -0.405623659584408,
          -0.40603743167937983,
          -0.4021807228910289,
          -0.3948143141773934,
          -0.383909065043933,
          -0.3701251930208894,
          -0.3540265393790876,
          -0.3356846394383445,
          -0.3160017150633363,
          -0.2947076194955167,
          -0.2726666357666671,
          -0.24884996955641656,
          -0.2248341138114852,
          -0.20012741605845905,
          -0.17499236608702926,
          -0.15055716224751375,
          -0.12671070723156133,
          -0.10340203113766401,
          -0.08138286749250037,
          -0.06066138537251584,
          -0.04067509550451384,
          -0.020642176089840772,
          0.0005925025078302346,
          0.02259689665701284,
          0.046545294173484845,
          0.07292267908313421,
          0.10208988972449119,
          0.13481584463208954,
          0.1715060035686806,
          0.21286665192723161,
          0.2587744275130487,
          0.31012014288408846,
          0.3657523076352383,
          0.42709706998448815,
          0.4924163533781866,
          0.5624109265945513,
          0.6376236702798475,
          0.7170884429964989,
          0.803572146359274,
          0.8933717057674582,
          4.92762601284525,
          3.9952719952393565,
          2.8459113108572742,
          1.9934066610243824,
          1.339636780299322,
          0.8355557417506647,
          0.4485669328741856,
          0.15644107085349504,
          -0.06707897599096696,
          -0.2285603523479379,
          -0.3499729287440234,
          -0.43722612908398206,
          -0.5006741974887837,
          -0.5457315990325784,
          -0.5787024982139684,
          -0.6029773913586631,
          -0.6219311994658415,
          -0.6368259346761459,
          -0.6493073607133119,
          -0.6584382588108116,
          -0.6650820992560209,
          -0.6685077088412085,
          -0.6680892314853728,
          -0.664022786745279,
          -0.6563909383628269,
          -0.6456513171656283,
          -0.6319159900125397,
          -0.6162107687070505,
          -0.5980389503026838,
          -0.5782896957015353,
          -0.5568718729547615,
          -0.533963163791366,
          -0.5105298599154189,
          -0.48597600239416455,
          -0.46028574223007523,
          -0.43531873011906386,
          -0.41066164268214755,
          -0.3860365277264903,
          -0.36225943942420913,
          -0.3396688852630791,
          -0.3178994272542307,
          -0.2966140989429532,
          -0.27539761605877205,
          -0.25395006443836915,
          -0.23133482957099163,
          -0.20755265331746858,
          -0.18201184496030842,
          -0.1540437871502748,
          -0.12341009179403295,
          -0.08959910071725835,
          -0.051841152591777614,
          -0.00903139953935896,
          0.039404216938491575,
          0.09346565393566128,
          0.15462486852212323,
          0.2211835835989069,
          0.2910603970787167,
          0.36691849132102206,
          0.4516348669464942,
          0.5364265476983622,
          0.6292013749645486
         ],
         "z": [
          1.3547832969250888,
          1.1528065570357668,
          0.8765405244547251,
          0.6557011115833556,
          0.47470858730664545,
          0.32413188829309303,
          0.19786442141487517,
          0.0914373294838311,
          -0.0013860258635042596,
          -0.07960704192098296,
          -0.14802576803898004,
          -0.20731933029872185,
          -0.2581949882091584,
          -0.30200183451842655,
          -0.3395738732479917,
          -0.3720170522393843,
          -0.4003466678680441,
          -0.42512514380412786,
          -0.4475032940255463,
          -0.46772985454543764,
          -0.48622674269615973,
          -0.5036738268474201,
          -0.5203026000189932,
          -0.5365442854527068,
          -0.5523949876227312,
          -0.5682636007418436,
          -0.5840484105024505,
          -0.6002033071780739,
          -0.6169415598933202,
          -0.6334862099383316,
          -0.6504135188421549,
          -0.6675527992162107,
          -0.68478396982167,
          -0.7023443543830339,
          -0.7207637100945801,
          -0.7381607938169019,
          -0.7570747970572147,
          -0.7763604382036714,
          -0.7952651475656901,
          -0.8141494628192649,
          -0.8322843208705856,
          -0.8487540578110335,
          -0.8633393372382636,
          -0.8747467159419177,
          -0.8828849459396255,
          -0.887454830451073,
          -0.8873205295094501,
          -0.882565247298833,
          -0.8716213648866175,
          -0.8545363378767604,
          -0.8282974118101485,
          -0.7936214774513952,
          -0.7474998353556273,
          -0.6881157161748512,
          -0.6117818816489305,
          -0.5151611212324309,
          -0.39737416007256665,
          -0.25057687978560067,
          -0.06845654531055868,
          0.14550143484888767,
          0.39441043074913584,
          1.3754114920719165,
          1.1515303696127708,
          0.8690491066998637,
          0.645726298313434,
          0.4632853622969702,
          0.31214917132653275,
          0.1850012718578217,
          0.07918277722964383,
          -0.01359188501927751,
          -0.09118617473540246,
          -0.15825408016173512,
          -0.21609078679301455,
          -0.26537785001183145,
          -0.3078225202347194,
          -0.3444848208646037,
          -0.37635860497681256,
          -0.4042845448281149,
          -0.4287799256790406,
          -0.4510710868530023,
          -0.4711510888183534,
          -0.4895757394703034,
          -0.5068303164804318,
          -0.5232530611725796,
          -0.5389848787837186,
          -0.5547796115254495,
          -0.570355941194261,
          -0.585982810102189,
          -0.6021965078260986,
          -0.6184664089825808,
          -0.6351776714411005,
          -0.6519872472487631,
          -0.669380189239178,
          -0.6870039456676723,
          -0.7048548229757743,
          -0.7230525027212783,
          -0.7422632735185322,
          -0.7617365778480514,
          -0.7813241650164728,
          -0.8003111656680032,
          -0.8189898157305743,
          -0.8361928830918298,
          -0.8518193493611078,
          -0.8653889237119488,
          -0.8761199189281463,
          -0.8838019897809631,
          -0.8876013901261042,
          -0.8877746186022077,
          -0.8818881048292931,
          -0.8710358143530763,
          -0.852102482498266,
          -0.8257923244226589,
          -0.7887072255756274,
          -0.7417277207089685,
          -0.6827621275936487,
          -0.6105415661026055,
          -0.5185136128991222,
          -0.40786551029934337,
          -0.2707347023642095,
          -0.10629730808420716,
          0.09350740290373755,
          0.3314481876653929,
          1.4263708776282913,
          1.199479075462572,
          0.9155996271817006,
          0.6918454756028846,
          0.5079664256583466,
          0.3561836431865228,
          0.22916976071644943,
          0.12303761870477337,
          0.030979478987345536,
          -0.04666321147599325,
          -0.11329769796646277,
          -0.17028384843148928,
          -0.21887580033511259,
          -0.260810120084176,
          -0.2967750682876708,
          -0.328008495782254,
          -0.35505591581789137,
          -0.37882926091764,
          -0.3999643063960308,
          -0.41904513040093305,
          -0.43625026121887067,
          -0.4523702995694977,
          -0.46770951165093616,
          -0.4828656310379637,
          -0.4979545409500406,
          -0.5132931809453847,
          -0.5288242649031664,
          -0.5446647425149457,
          -0.5609599579497399,
          -0.5773585549115683,
          -0.5939687865594919,
          -0.6109494490592214,
          -0.6279189047319431,
          -0.6458692415482884,
          -0.6633632131204752,
          -0.6815494750517724,
          -0.700306988323824,
          -0.7186113838164234,
          -0.7368887255497203,
          -0.7544043884380135,
          -0.7704901003278085,
          -0.7849252846027008,
          -0.7971768102930537,
          -0.80684330987131,
          -0.8131389196462069,
          -0.8160472707496748,
          -0.8144343469957596,
          -0.8069633185156855,
          -0.7930583969788474,
          -0.7715344947629836,
          -0.7417092398211974,
          -0.7020015679353516,
          -0.6499958286142765,
          -0.5854591826314316,
          -0.508593992889124,
          -0.41235322609151137,
          -0.29549460957005325,
          -0.15751088494388696,
          0.007892847422506982,
          0.1977253362213626,
          0.439294422499657,
          1.917777788397012,
          1.6944348013265385,
          1.412708930315431,
          1.1900386551670092,
          1.0074584714223784,
          0.8560225972136631,
          0.7300110679949903,
          0.6242878364507122,
          0.5327766469191076,
          0.4557177610502665,
          0.3896316248560108,
          0.33270799089178366,
          0.28422307739836117,
          0.24234490268795295,
          0.206513995358415,
          0.17547888133934345,
          0.14868785844078403,
          0.12528698475287603,
          0.10454926686752557,
          0.08609185982291816,
          0.06935299612477967,
          0.053740431322468474,
          0.038884156089740926,
          0.024061088112143324,
          0.00934205024677482,
          -0.0056459556168103366,
          -0.020789542636582236,
          -0.03617259601270387,
          -0.051762095341234084,
          -0.06770052562391302,
          -0.08395360109971095,
          -0.10040613699967352,
          -0.11687176479157543,
          -0.13384411464297977,
          -0.15091405696220098,
          -0.16844344025360272,
          -0.1861685825172993,
          -0.20383406817149677,
          -0.22090003126137214,
          -0.2373436047019573,
          -0.2525420006525166,
          -0.26663009052673103,
          -0.27802961083743494,
          -0.28722275533386543,
          -0.29336430314485173,
          -0.295734441614627,
          -0.29359390142154657,
          -0.28608359799070804,
          -0.2717477088037106,
          -0.24901477434538244,
          -0.21643180951298724,
          -0.17211050112903797,
          -0.11522400164118846,
          -0.04297291879776589,
          0.04524456034670637,
          0.1511345293718306,
          0.2788472927595659,
          0.4297764267628825,
          0.6075557117694369,
          0.8197454267850958,
          1.0602452729392142
         ]
        },
        {
         "hovertemplate": "Sensor=Eletrodo 3<br>PC1=%{x}<br>PC2=%{y}<br>PC3=%{z}<extra></extra>",
         "legendgroup": "Eletrodo 3",
         "marker": {
          "color": "#FFA15A",
          "opacity": 0.4,
          "symbol": "cross"
         },
         "mode": "markers",
         "name": "Eletrodo 3",
         "scene": "scene",
         "showlegend": true,
         "type": "scatter3d",
         "x": [
          -4.978052902609398,
          -2.9561215592517387,
          -2.6507033020819812,
          -2.331419567427395,
          -2.0629277323922643,
          -1.8461077530289756,
          -1.6708392925401916,
          -1.5292716439718368,
          -1.4073541341813727,
          -1.3056476599121674,
          -1.2117060564368929,
          -1.1243324612066092,
          -1.0406139522789695,
          -0.9606100777737795,
          -0.8848823311255868,
          -0.8143815248247753,
          -0.7508818978277212,
          -0.6966997486992235,
          -0.6525903708507075,
          -0.6202261225048603,
          -0.5994195269304782,
          -0.5894493339425066,
          -0.5897915613464816,
          -0.5998166457015809,
          -0.6180895408805362,
          -0.6421298943051229,
          -0.6727636376612373,
          -0.707931905237293,
          -0.7448946775696454,
          -0.783079451255878,
          -0.8220222251424393,
          -0.8639571666708379,
          -0.8968037701875299,
          -0.9315878860099847,
          -0.9419299545676254,
          -0.9753676467569468,
          -1.0038120514710491,
          -1.0094236278179272,
          -1.0090155092295443,
          -1.000796199174029,
          -0.9854181508608161,
          -0.9659831981786211,
          -0.9424298027586291,
          -0.8977011731770007,
          -0.856249084137308,
          -0.8095286420431779,
          -0.7516638794212785,
          -0.6879756477998454,
          -0.6114372845100526,
          -0.5240734890314919,
          -0.42021998988419085,
          -0.29955832000849,
          -0.15452912870330182,
          0.03167195470642028,
          0.24940109427055215,
          0.5066375156527189,
          0.8306699200299954,
          1.2552741175090592,
          1.7135605140584032,
          2.3480077222725675,
          3.2366886230760774,
          -4.9944116968547565,
          -2.960271022714303,
          -2.6552339874010955,
          -2.3353595767349726,
          -2.067617954908243,
          -1.8523073393830798,
          -1.6794735528900497,
          -1.5406775604221004,
          -1.4234052660627106,
          -1.325660793747494,
          -1.2369489937531075,
          -1.155040844313471,
          -1.077183427436703,
          -1.0007976676350048,
          -0.9278942915845837,
          -0.858869395751574,
          -0.7968411921095975,
          -0.7427640412176696,
          -0.6985649634258665,
          -0.6658575458166741,
          -0.6448927846744271,
          -0.6353039528073137,
          -0.6365895423571596,
          -0.6477492311699603,
          -0.6672731106696544,
          -0.6947192769163562,
          -0.7276588874485125,
          -0.7646116737719968,
          -0.8036759211505987,
          -0.8438459347071636,
          -0.8843433850345758,
          -0.924345674647236,
          -0.9627706114664165,
          -0.9941005102819214,
          -1.0138415606128337,
          -1.0414040460012406,
          -1.0693260677266216,
          -1.0749648909303613,
          -1.0715585568723633,
          -1.0572525533656916,
          -1.0381924880607774,
          -1.0128655337974326,
          -0.9846655950432925,
          -0.9341079404258934,
          -0.8891057460895305,
          -0.8381684964789202,
          -0.7767721554358907,
          -0.7105102639480132,
          -0.6340489306126214,
          -0.5427727763266306,
          -0.4334947831634241,
          -0.3074901422625634,
          -0.15668053065559984,
          0.031145751495300758,
          0.26283343419140676,
          0.5407376365013917,
          0.8695847441229393,
          1.3043274778143774,
          1.8494660468366806,
          2.4937087373807088,
          3.1753562421605595,
          -5.179865832591882,
          -2.9850378143639285,
          -2.6711694574220353,
          -2.350265193372372,
          -2.083018744224065,
          -1.8665312163143792,
          -1.6929452321761922,
          -1.5528616287219053,
          -1.4342860637028438,
          -1.3344266627144734,
          -1.2445819901256214,
          -1.1616763678106634,
          -1.0817565138476364,
          -1.005849806093898,
          -0.9342287066147139,
          -0.8681691774408821,
          -0.8097408766708784,
          -0.759839346807527,
          -0.7216401045834081,
          -0.6953495076009237,
          -0.6814240079715106,
          -0.6790804650365629,
          -0.6870650316195619,
          -0.7049324345851112,
          -0.7310493791855316,
          -0.7640903520140973,
          -0.8024969903277888,
          -0.84477677024855,
          -0.8886924235839199,
          -0.9329846070615802,
          -0.9777248350005647,
          -1.0189192906346125,
          -1.0568562726414295,
          -1.085082244580384,
          -1.0972404188722922,
          -1.1318375331469885,
          -1.1535441186692252,
          -1.1539588459643915,
          -1.1424376554065616,
          -1.1221052379643741,
          -1.0988353883062927,
          -1.0656848958701515,
          -1.032958328839484,
          -0.9786235298543045,
          -0.9274621402292207,
          -0.8706752059949221,
          -0.8018576514502403,
          -0.7226015837131436,
          -0.6383975997259335,
          -0.5331471898789791,
          -0.41971599987218217,
          -0.2886797512460354,
          -0.12192907748845667,
          0.08267433730242311,
          0.30939307157273804,
          0.6317393456646098,
          0.97450234162899,
          1.4083189670945233,
          1.995398841286547,
          2.6734118622330767,
          3.5118727325202928,
          -5.947443611268089,
          -3.098084853683667,
          -2.7698468397940377,
          -2.448006658756618,
          -2.1804723121660157,
          -1.9653473071159677,
          -1.7931689363150314,
          -1.655124747063444,
          -1.5373062400905386,
          -1.4391978829036465,
          -1.3499848453933612,
          -1.2678223745476487,
          -1.1891374058021933,
          -1.114306484689814,
          -1.0434408905749364,
          -0.9767642456006145,
          -0.918661469153108,
          -0.8696410494429863,
          -0.831627361001965,
          -0.8058439470158046,
          -0.7922608182605965,
          -0.7904663304186714,
          -0.8000156273599969,
          -0.8191164939876706,
          -0.8465006374356755,
          -0.8795669506429766,
          -0.9189148230955788,
          -0.9616277247544569,
          -1.0077743868698448,
          -1.0521129643263702,
          -1.0985689287383025,
          -1.1374937915398768,
          -1.1710117225252001,
          -1.2074992546257979,
          -1.1893602442724818,
          -1.2379142097538853,
          -1.2666617884012055,
          -1.260346204735637,
          -1.2482022374488067,
          -1.2305659371318043,
          -1.2027184965854438,
          -1.1689352150578234,
          -1.1336574672401916,
          -1.0726806196955614,
          -1.0200312676359256,
          -0.9576448874595185,
          -0.8861430448829523,
          -0.8053578982492415,
          -0.7133072765723447,
          -0.6136855513204876,
          -0.4952442901331333,
          -0.34048055989579207,
          -0.174807652057437,
          0.03804888825469173,
          0.28499279670780536,
          0.6136613065734022,
          0.9566802560501245,
          1.4437620309323844,
          2.1014695769702545,
          2.6235332386215853,
          3.7063369369268395
         ],
         "y": [
          4.982365706791917,
          4.170448092823864,
          3.002147190556811,
          2.09913827971367,
          1.3870404718198923,
          0.8170724211504535,
          0.36560330252215645,
          0.01225622215896669,
          -0.26003198534725475,
          -0.45929867024555077,
          -0.5949396665741384,
          -0.6774940961701635,
          -0.7155936788677383,
          -0.7220049936857766,
          -0.7078416826511099,
          -0.6833031613912034,
          -0.6577600058802457,
          -0.6390739379693873,
          -0.631637671686512,
          -0.6373046526634967,
          -0.6570643421870289,
          -0.6900536931813707,
          -0.7356519230287528,
          -0.7940574043403011,
          -0.8638733810973634,
          -0.9420796550251513,
          -1.0313586188177544,
          -1.1282186990484069,
          -1.2282596987892185,
          -1.329756465982948,
          -1.4328435180952312,
          -1.5422524503735517,
          -1.631331314018192,
          -1.724942554511228,
          -1.7616607053507873,
          -1.8542719719110252,
          -1.935928327092353,
          -1.9658899808129942,
          -1.9840214303692465,
          -1.9870320192579065,
          -1.9772954986161302,
          -1.962736722788873,
          -1.9442154794951698,
          -1.8851508014679426,
          -1.8434709653988812,
          -1.8010785177092992,
          -1.7491881260597586,
          -1.7030685080414352,
          -1.6527791494488182,
          -1.6077116994773502,
          -1.5635420670865152,
          -1.528375071385659,
          -1.4959492963912304,
          -1.4583507650198853,
          -1.4348271489898052,
          -1.4408919962233344,
          -1.4453550409919238,
          -1.4490037646804974,
          -1.51046179162128,
          -1.5601552105277274,
          -1.5665154449886054,
          4.973210445191794,
          4.1654234564333965,
          2.994469083409997,
          2.0911997687055712,
          1.3770014194609368,
          0.8034246292382038,
          0.3463664157582532,
          -0.013323381075052465,
          -0.295938333886255,
          -0.5038337654902207,
          -0.6505460825673832,
          -0.744278587712391,
          -0.7935711911949552,
          -0.8054300481740905,
          -0.7939209410899922,
          -0.7684436778228254,
          -0.7409453068306406,
          -0.7174355089843653,
          -0.7056127641717741,
          -0.7074013987227421,
          -0.7247110857296081,
          -0.7569729306649768,
          -0.8038989715201572,
          -0.8643196829934173,
          -0.9370557246240818,
          -1.0224018114960527,
          -1.1171391788150453,
          -1.2188117765693733,
          -1.3239163080855652,
          -1.4300571833369784,
          -1.5368364003041592,
          -1.6420233868801921,
          -1.7447192276852772,
          -1.8304034083042837,
          -1.8893417573403595,
          -1.967802389169771,
          -2.0486334939919217,
          -2.079289429918598,
          -2.0910559600072087,
          -2.080941910915586,
          -2.0635286594459394,
          -2.0367894264809006,
          -2.0101741166698144,
          -1.9408131495889989,
          -1.8945627661188142,
          -1.8468493906795078,
          -1.7940126397391007,
          -1.748482667922723,
          -1.7050329513198104,
          -1.6621090378630266,
          -1.6186491657008142,
          -1.5854491408252234,
          -1.5607512890224058,
          -1.534091192795852,
          -1.5136885103076536,
          -1.5109741348642394,
          -1.5163847261620191,
          -1.5394131024004336,
          -1.5770247359876723,
          -1.6294519943655366,
          -1.8040119770059446,
          4.87405003671428,
          4.128238542630965,
          2.9599433044550154,
          2.056083705585888,
          1.339898508351216,
          0.7681965542318994,
          0.31255356684799795,
          -0.04433084882580521,
          -0.32408797976442477,
          -0.5273470249227438,
          -0.6716915095392364,
          -0.7634865351819774,
          -0.8087182670278842,
          -0.8222317628507394,
          -0.8141566752589828,
          -0.7953348813682242,
          -0.7756951984412374,
          -0.7605491017872323,
          -0.7597942200495585,
          -0.7726447189527902,
          -0.8019616186281403,
          -0.8464414384585575,
          -0.9051142400181778,
          -0.9779621038146606,
          -1.063654647774674,
          -1.1609328529419078,
          -1.2678638818111483,
          -1.3813115245931173,
          -1.4974502990979992,
          -1.6131745868317071,
          -1.7300225002619312,
          -1.8380747864109874,
          -1.9389607393619404,
          -2.0178177255012173,
          -2.0593560264452306,
          -2.1538231900150944,
          -2.2205264274341703,
          -2.238979961885669,
          -2.2325335909744974,
          -2.2088609822115806,
          -2.1826250983019637,
          -2.139050279601196,
          -2.1032080654980962,
          -2.027434134144351,
          -1.9699916019931125,
          -1.9125813537258127,
          -1.8495265339842026,
          -1.781234853945019,
          -1.731732290146827,
          -1.670850687665359,
          -1.6321364191584173,
          -1.6052795845244034,
          -1.5687007008759586,
          -1.5352628440982994,
          -1.5457076937611844,
          -1.5102818724275586,
          -1.5406539234967023,
          -1.5861335001656052,
          -1.6023608740111008,
          -1.6636977182915207,
          -1.7629897110673534,
          4.354944136014827,
          3.867127897367782,
          2.7026589629880644,
          1.7960141078278309,
          1.0783362466267816,
          0.5027801452455297,
          0.04356255765576134,
          -0.31802183269652434,
          -0.599472004904787,
          -0.8064551646417043,
          -0.9518217252681503,
          -1.044710145120896,
          -1.0918072759659734,
          -1.1064992188365388,
          -1.0984758258937468,
          -1.0767195844347444,
          -1.0556377170680948,
          -1.040120104110363,
          -1.0377732762964125,
          -1.05010993014731,
          -1.0790998886765686,
          -1.123907830933828,
          -1.1851163593428868,
          -1.26058862153993,
          -1.349475364589345,
          -1.4474634915175812,
          -1.5562093525776879,
          -1.6708165186583557,
          -1.7922862832115072,
          -1.908362170348735,
          -2.029289575438373,
          -2.132021221830428,
          -2.2228515173052976,
          -2.3207372182823605,
          -2.292401582182257,
          -2.420051297112799,
          -2.503018444674179,
          -2.50644435980156,
          -2.4990653073599107,
          -2.482125335841157,
          -2.4462997850698853,
          -2.402661146687286,
          -2.3625891324870776,
          -2.273764577029157,
          -2.215573672143657,
          -2.149937608916711,
          -2.0832980575200244,
          -2.0191417108580434,
          -1.9586450299189462,
          -1.914531090990545,
          -1.8739856644914217,
          -1.816157205440148,
          -1.7946572234438831,
          -1.7667348330998889,
          -1.757587645384549,
          -1.7400521462562049,
          -1.7733799236376102,
          -1.7823949452627268,
          -1.8066295957956242,
          -1.953589360935213,
          -1.924590436157769
         ],
         "z": [
          1.3316314690862612,
          1.162657643449228,
          0.9031514423378809,
          0.7050028756802602,
          0.54912656083534,
          0.42747420588338203,
          0.3306279457333882,
          0.2526017441240098,
          0.183048780028997,
          0.12277794266826775,
          0.06266475115254101,
          0.002918208906746723,
          -0.057577861991099356,
          -0.11712015400895573,
          -0.17369354665650386,
          -0.22532506419973292,
          -0.2699626517425112,
          -0.30591315011631803,
          -0.3332607765814326,
          -0.35152389772486675,
          -0.36115023005796903,
          -0.362425704212483,
          -0.35536460412972193,
          -0.3398363935668957,
          -0.31650658055238085,
          -0.28703955271419135,
          -0.2504671591332992,
          -0.20855333647255533,
          -0.16383674894566877,
          -0.11711692018765162,
          -0.0686621062936211,
          -0.01612674383843152,
          0.02754464497184882,
          0.07438734565232792,
          0.09519745290673456,
          0.14373447124631392,
          0.1884201314245853,
          0.21005457835812194,
          0.22813893071101143,
          0.24152984911039302,
          0.2523371891120026,
          0.2647854778055484,
          0.28034707529422553,
          0.2838086780765922,
          0.3035148202221738,
          0.33294348503543975,
          0.3712842131631338,
          0.42877552787369255,
          0.5060747587803186,
          0.6120290980754055,
          0.7508483206690798,
          0.9341987338004578,
          1.167974243402915,
          1.476637048547486,
          1.862405804418976,
          2.3701782174995345,
          3.001554824140195,
          3.824724530442168,
          4.79591514333923,
          6.088351746730164,
          7.7857650575914334,
          1.3353259159602302,
          1.1680984598625495,
          0.9100824854886336,
          0.7122812329773995,
          0.5574156048332889,
          0.4374454707383446,
          0.3432007613115172,
          0.268148333023566,
          0.20343300474727277,
          0.14724420162863402,
          0.09232964998480979,
          0.03777186079680502,
          -0.017583047322703958,
          -0.07476066365526285,
          -0.13029212771411153,
          -0.18257807510611113,
          -0.2281614245657145,
          -0.2660819999001047,
          -0.2949786185440412,
          -0.3142862306429126,
          -0.3241356323504175,
          -0.3247627945882995,
          -0.3162108675197124,
          -0.2988710564419983,
          -0.27343693366335203,
          -0.23994214735327277,
          -0.2001918827257033,
          -0.15557861606733694,
          -0.1079928549082586,
          -0.058601494229597866,
          -0.007984544900532475,
          0.042931697915196264,
          0.0933984203687488,
          0.13686587565110617,
          0.1686377300614175,
          0.21097507939164525,
          0.2558720139139572,
          0.2786649160415068,
          0.2947621867646366,
          0.30298738218902316,
          0.3112929527018695,
          0.319640140874903,
          0.3335968514744581,
          0.3347708436082153,
          0.3556031708970795,
          0.3860488302339737,
          0.43014765848145825,
          0.4937793435130021,
          0.5802090032530994,
          0.6962316187409714,
          0.8470794291488871,
          1.0438233928440022,
          1.3006975689960736,
          1.6272961350695252,
          2.0473392760230635,
          2.5806093191968102,
          3.2207208764961344,
          4.096545588384329,
          5.2024491518784535,
          6.512687499539785,
          8.096061370559543,
          1.370654417554946,
          1.2200944744943558,
          0.9635564148913841,
          0.7665150740438874,
          0.6127612365508146,
          0.49210290270545737,
          0.39731250613758606,
          0.32104505742034894,
          0.2550363033434988,
          0.19669624924937393,
          0.1406539995300685,
          0.08515191386797522,
          0.02785525909871234,
          -0.028645336482608672,
          -0.08272026905538224,
          -0.13212551407841847,
          -0.17443853198210316,
          -0.20889551213919744,
          -0.23304112297160243,
          -0.2472999443801193,
          -0.2513285376016026,
          -0.2455899364809423,
          -0.23060556674405566,
          -0.20638113775963488,
          -0.17380931943538247,
          -0.13374327438266856,
          -0.0874142750055269,
          -0.03642574903757102,
          0.017057349720258307,
          0.07154589029985235,
          0.12744796471014752,
          0.18015297891562151,
          0.2303096989108589,
          0.27080882884569524,
          0.2946237726037712,
          0.34516902986432696,
          0.3838220538723888,
          0.40120599807496016,
          0.40911726523551156,
          0.41184634913362433,
          0.41706944546725483,
          0.4187622757807357,
          0.43028193211773963,
          0.4304881732108627,
          0.4489003058277114,
          0.47841565725741597,
          0.5242855572104974,
          0.5824756003747356,
          0.6758903815081078,
          0.7944726215769558,
          0.9590110135365175,
          1.17447680952543,
          1.4447510071040133,
          1.7919139690028467,
          2.244696461593641,
          2.8145008570640497,
          3.520365638822554,
          4.424108036930237,
          5.573438080720508,
          6.961963215813065,
          8.717147963983825,
          1.8053370515926699,
          1.7188493689576134,
          1.465062385828737,
          1.270141730476369,
          1.1174952186069518,
          0.9988667812614442,
          0.905937984899105,
          0.8320218648641182,
          0.766946417054945,
          0.7104442648446659,
          0.6549530704497013,
          0.5999927431035452,
          0.5435560478745628,
          0.48756863445801,
          0.4334639018933379,
          0.382632783994397,
          0.3396933348696496,
          0.3051588931808685,
          0.28056043822441645,
          0.2664168137928702,
          0.2626759587045255,
          0.26907356846207486,
          0.2857490096519564,
          0.3116039301483176,
          0.3459929615438699,
          0.38661491696425404,
          0.4341821153731582,
          0.4859715947684562,
          0.5421924572798001,
          0.5970342403626079,
          0.6551062066224924,
          0.7054981360894824,
          0.7509927343493954,
          0.8009623698798193,
          0.7912705123411296,
          0.8581321068965928,
          0.9049428620844565,
          0.9156900583580606,
          0.9237541296654144,
          0.9302839965951942,
          0.9318402020893496,
          0.9345640746144713,
          0.9451189544005235,
          0.9413233847540423,
          0.9616905371743953,
          0.991584082566832,
          1.0371815512144509,
          1.1040157663479049,
          1.1977345884235295,
          1.327730776004477,
          1.4986403512280317,
          1.7164665780580277,
          2.004890249467816,
          2.3769746294962735,
          2.837710641449005,
          3.4460095671109743,
          4.1527303324027365,
          5.100478237288768,
          6.400388391310674,
          7.620065181114025,
          9.627822310671412
         ]
        },
        {
         "hovertemplate": "Sensor=Eletrodo 4<br>PC1=%{x}<br>PC2=%{y}<br>PC3=%{z}<extra></extra>",
         "legendgroup": "Eletrodo 4",
         "marker": {
          "color": "#19d3f3",
          "opacity": 0.4,
          "symbol": "circle"
         },
         "mode": "markers",
         "name": "Eletrodo 4",
         "scene": "scene",
         "showlegend": true,
         "type": "scatter3d",
         "x": [
          -5.301986722452407,
          -2.9428706237033118,
          -2.6271398739168546,
          -2.295057528546245,
          -2.013367782132005,
          -1.780215666717909,
          -1.5885449740177648,
          -1.429222956449364,
          -1.2922720104601737,
          -1.175584819900376,
          -1.071274982583283,
          -0.9773750115528431,
          -0.8918411253827364,
          -0.8127229541751961,
          -0.7403594189860643,
          -0.6746447520965505,
          -0.6150024177697717,
          -0.5617556931170598,
          -0.5133786979374867,
          -0.4699013919190195,
          -0.431284293989926,
          -0.3944262475831161,
          -0.35966979379700875,
          -0.3261127628834441,
          -0.2922667159221822,
          -0.25850680047738545,
          -0.22322094292622438,
          -0.18651039707688852,
          -0.1482442418979175,
          -0.10703476930812147,
          -0.06396479945099531,
          -0.01818989219456212,
          0.0300158270631989,
          0.08103442402588092,
          0.13698762862001881,
          0.19304883377842924,
          0.25376285211169064,
          0.31888037221422716,
          0.38794454736530326,
          0.46013836345496273,
          0.5367393863684774,
          0.6182246440519247,
          0.7039504702635451,
          0.7932667511685839,
          0.8878308113842468,
          0.9870626958504568,
          1.089999853963517,
          1.1968276263384503,
          1.3055517681565927,
          1.418851501818205,
          1.5353834205937518,
          1.6568581494710448,
          1.7798068440551764,
          1.9067157678025923,
          2.039306061372839,
          2.177162299547208,
          2.321148115382503,
          2.473192384031682,
          2.641140579023832,
          2.8201496099217436,
          3.026178228094442,
          -5.20722846729881,
          -2.9348796094289282,
          -2.6237495140880456,
          -2.293790835863572,
          -2.011807008053592,
          -1.7792549072677126,
          -1.587040940298049,
          -1.4293821334065209,
          -1.2929109760549546,
          -1.1762356809566437,
          -1.0726084660806288,
          -0.9792433178443818,
          -0.8941055892677896,
          -0.815223045508504,
          -0.7428506496243171,
          -0.6767488181363676,
          -0.6164769874491974,
          -0.5622782267041606,
          -0.5130336270700628,
          -0.46889387502050595,
          -0.4287184825092211,
          -0.3914259628910915,
          -0.3561273295845647,
          -0.32193500034664263,
          -0.2875363945882804,
          -0.2535083170362474,
          -0.21829322093184542,
          -0.18202612515804797,
          -0.14292399726776447,
          -0.10283252307951732,
          -0.05966941051025108,
          -0.01384713837338647,
          0.03320577037328256,
          0.08407129200789713,
          0.13613358736257414,
          0.19648125591482948,
          0.25757327934868224,
          0.32250260911923984,
          0.39113618823624197,
          0.4640006901870387,
          0.540731977156776,
          0.6224645045888204,
          0.7090583469003655,
          0.8005320361803008,
          0.8975180058144264,
          0.998598288088161,
          1.1042551599170631,
          1.2127223003123613,
          1.325053503278103,
          1.44324435914163,
          1.5650530540125522,
          1.6891878114995045,
          1.8180838901350826,
          1.9502696075104275,
          2.086435339567222,
          2.2294708799851732,
          2.377228586267337,
          2.5359368697802034,
          2.705294658509989,
          2.8912414177536165,
          3.0941419771080905,
          -5.107442411736944,
          -2.9394028636270355,
          -2.6296595896086874,
          -2.300112306443982,
          -2.018241103963462,
          -1.784720388675611,
          -1.593233581958394,
          -1.4349014468929904,
          -1.2980781930736542,
          -1.1821123254783488,
          -1.0781571165669257,
          -0.9853722537279853,
          -0.9003969419499435,
          -0.822133659220581,
          -0.7503479119787838,
          -0.6843336732633397,
          -0.6242526675450751,
          -0.570481773752216,
          -0.5216668023533344,
          -0.4778965252482901,
          -0.4384266554220833,
          -0.40157630703796027,
          -0.36667099391357805,
          -0.3330398668803133,
          -0.2999829956153071,
          -0.26601632990734037,
          -0.2312021292155514,
          -0.1954611339672637,
          -0.1583513879996183,
          -0.11785963262688127,
          -0.07557773746631788,
          -0.030564112625871366,
          0.016775834163837204,
          0.06725249922369554,
          0.1203332965224946,
          0.1779263977108761,
          0.23851091530222343,
          0.30327733422873965,
          0.372885473155085,
          0.44679266324792666,
          0.5244605109983895,
          0.6071319706666042,
          0.6954354086960308,
          0.7882387203109504,
          0.8861892163021876,
          0.9898407125481242,
          1.0987738174388375,
          1.2106431833136646,
          1.3282683838240315,
          1.4484665809864081,
          1.5738548515301702,
          1.7021520664127012,
          1.8341671987652266,
          1.9723874305567424,
          2.111868154380607,
          2.2571790601340442,
          2.4125948426156687,
          2.5716986134213395,
          2.7424919630542446,
          2.934450274152284,
          3.14275816805409,
          -5.424067494132089,
          -3.037101708151131,
          -2.7203285531852424,
          -2.3883718757534624,
          -2.1070765339797988,
          -1.874463772924148,
          -1.6830914885596693,
          -1.5250808964285092,
          -1.388186322605593,
          -1.2730802601482114,
          -1.1697277781025779,
          -1.0775947422223602,
          -0.9935318456014949,
          -0.9156277238847914,
          -0.8438668822117121,
          -0.7781599807426515,
          -0.7182764308183437,
          -0.6647997396036955,
          -0.616821091015737,
          -0.5742219896089376,
          -0.5356450010565533,
          -0.500561121863014,
          -0.46715920057452714,
          -0.4358175600786466,
          -0.4046320009297382,
          -0.37296975783148867,
          -0.34088559863065504,
          -0.3070771464158627,
          -0.27147025959571264,
          -0.23387948661685126,
          -0.19396967166500909,
          -0.15113226132101737,
          -0.10596085501847298,
          -0.057865691474931646,
          -0.00595899705893655,
          0.04901302124250127,
          0.10757795043646866,
          0.1711616074117882,
          0.23869308568416236,
          0.31038636059191815,
          0.38778208529917196,
          0.47062581476430465,
          0.5578345581421017,
          0.6525746356026063,
          0.7529346867901254,
          0.8583324317841123,
          0.9692024485586799,
          1.0870651157098172,
          1.2103861977859793,
          1.3392353664073915,
          1.4720119330192294,
          1.611126034677295,
          1.7521117123555852,
          1.8969497744800066,
          2.0485914572062347,
          2.206539939426126,
          2.372263342488115,
          2.545306553059726,
          2.7334153383333675,
          2.9318254257569594,
          3.1543462053784257
         ],
         "y": [
          4.884064774092316,
          4.173152843158567,
          3.0341239325306795,
          2.1658604079440105,
          1.4890942218855232,
          0.9596250068669382,
          0.5474899816521087,
          0.23435612318237878,
          -0.005668857164663706,
          -0.17523348927506152,
          -0.2937400387710041,
          -0.3701048040918706,
          -0.41464807961970995,
          -0.43566013358088873,
          -0.4424606225309324,
          -0.44174453280084197,
          -0.43707242514366357,
          -0.4317988784318561,
          -0.4269134452491659,
          -0.42190069137476566,
          -0.4186284140906157,
          -0.41395609729864746,
          -0.4081890255013476,
          -0.401415883038043,
          -0.3920536308906346,
          -0.3810906660684948,
          -0.367608169067797,
          -0.35206266277714304,
          -0.33426181546667644,
          -0.31451430559655696,
          -0.2932686379268192,
          -0.2704006488766398,
          -0.2463501408571468,
          -0.22168375348208164,
          -0.19404031393952892,
          -0.1683954271840268,
          -0.14098659718188702,
          -0.1120010649126587,
          -0.08207787875177489,
          -0.05206613836768633,
          -0.02117029691060116,
          0.010590062703873736,
          0.04299503721659505,
          0.07531254122913784,
          0.10840801315919031,
          0.1418132069348074,
          0.17514765048573547,
          0.20795341355956865,
          0.2398033496192669,
          0.27110681351461746,
          0.3012729280092816,
          0.33076468814280413,
          0.3577461696339533,
          0.3826757420386016,
          0.40554849844110485,
          0.4262424020577229,
          0.444053299695578,
          0.45729943178562665,
          0.469256276744374,
          0.4753773413059327,
          0.4795344592780958,
          4.919667095693512,
          4.177507933052496,
          3.037339047692937,
          2.1669450864848967,
          1.4910546656933974,
          0.9606682556612235,
          0.5496645304549511,
          0.23326637706267395,
          -0.007743300313463343,
          -0.17733688866218356,
          -0.2972112311224559,
          -0.37448490234893206,
          -0.41965971091391385,
          -0.44080977035655317,
          -0.44726969816782286,
          -0.4456607888822701,
          -0.4398004080821085,
          -0.43303309135233586,
          -0.4269674385174409,
          -0.42115367298119566,
          -0.4162626503337986,
          -0.4111659018319049,
          -0.40525738344237877,
          -0.3980225206314119,
          -0.38860417185886265,
          -0.37798327460749853,
          -0.3646201218961343,
          -0.34989522146175833,
          -0.33169780446241426,
          -0.31331213404923924,
          -0.29226397553264905,
          -0.26965712842534334,
          -0.24688133961016054,
          -0.22235176310820673,
          -0.19777218127365165,
          -0.16863380890723992,
          -0.14112049340191868,
          -0.11223312254627578,
          -0.0825696506795035,
          -0.0520575728805819,
          -0.020977007831678607,
          0.010943565066894517,
          0.043671910018662566,
          0.07732609037314685,
          0.11165792086148474,
          0.1459501181508794,
          0.18055792765851067,
          0.21430143602175677,
          0.2476540107360273,
          0.2810535169459283,
          0.31347547066971015,
          0.34413592461145287,
          0.3736549119669587,
          0.40082680383910285,
          0.425617770306208,
          0.4489346343409142,
          0.46773643477348437,
          0.4845284699341896,
          0.49783794841295687,
          0.5074147934459762,
          0.5115202955314357,
          4.939094230773474,
          4.156850800917832,
          3.0170481012020245,
          2.146786571953648,
          1.471050147397866,
          0.9426768172493164,
          0.5304008234820757,
          0.2153455536358978,
          -0.025022166105102474,
          -0.19617787547702584,
          -0.31551212440142146,
          -0.39412424147167374,
          -0.43975923357417196,
          -0.46225796688968296,
          -0.46982455356389263,
          -0.4685194741135733,
          -0.463031602127548,
          -0.45708218330857425,
          -0.451499107690256,
          -0.4462584984462766,
          -0.44228044568031355,
          -0.4377255185703769,
          -0.43229462072016567,
          -0.4255828871657266,
          -0.41726873642069834,
          -0.4066749002518618,
          -0.3936492083930086,
          -0.37902148058475554,
          -0.3624510876792719,
          -0.3430409351578536,
          -0.3222474245279232,
          -0.29972017478235274,
          -0.2763583102162604,
          -0.25123526705944776,
          -0.22537264150380895,
          -0.19820175505735227,
          -0.17045054454159744,
          -0.14127763267889681,
          -0.11062645584821529,
          -0.07918243559465647,
          -0.04733732997094221,
          -0.014629696346182745,
          0.01928046292197957,
          0.053675366363649016,
          0.08867805110867995,
          0.1243569239987439,
          0.16038362652953275,
          0.19571601690473694,
          0.23122242102111581,
          0.2657248961522514,
          0.29961275872925025,
          0.3320814438820543,
          0.36276926627468126,
          0.39225230090073127,
          0.4190908786198654,
          0.442966340201805,
          0.4648977626934055,
          0.48205929252315133,
          0.49636022876734076,
          0.5086163439170396,
          0.5162549734964335,
          4.611400292965615,
          3.9107329260782766,
          2.7728479091835507,
          1.9045757189804486,
          1.2271903495248329,
          0.6967041747092806,
          0.28393483777699474,
          -0.031876564872126714,
          -0.2720828185279267,
          -0.4448222671517753,
          -0.5650998448772373,
          -0.6445655121630889,
          -0.6912746275059795,
          -0.7135657667589195,
          -0.7203046818802492,
          -0.7184479973053555,
          -0.7123440266268258,
          -0.7058601762049596,
          -0.7007211440991606,
          -0.6962370699683899,
          -0.692846749105342,
          -0.6896963161140071,
          -0.6853469771509586,
          -0.6803846020150701,
          -0.6733322340910594,
          -0.6640649304121775,
          -0.6527154954891076,
          -0.6387201563359861,
          -0.6222907380509446,
          -0.6039819377009144,
          -0.5834636112277009,
          -0.5606748700486931,
          -0.5376152717159626,
          -0.5127191655752115,
          -0.4861420091619608,
          -0.4586789536843517,
          -0.4306291343018175,
          -0.4006040300712988,
          -0.3697845470233825,
          -0.3383114746869793,
          -0.30537654269016595,
          -0.27148116385389653,
          -0.23716509682060846,
          -0.20083788092411137,
          -0.16408804636221203,
          -0.12694378718369928,
          -0.08936590608577792,
          -0.05088988961849531,
          -0.012542522440919688,
          0.0257308117242923,
          0.06286226651649185,
          0.09984363112654486,
          0.13421332566225072,
          0.16666853504833923,
          0.19718261495604195,
          0.22619281227621607,
          0.25317870596751085,
          0.2757095271999388,
          0.2962389821801869,
          0.311732566886567,
          0.32543875719339144
         ],
         "z": [
          1.3265370379705768,
          1.15932404369421,
          0.8907692797143412,
          0.6780063219526078,
          0.5065700441568619,
          0.3667272500383344,
          0.2519014681202871,
          0.15529279855447894,
          0.07069829807635582,
          -0.0033491573697257268,
          -0.07122548864279056,
          -0.1333911752831417,
          -0.19018776020432446,
          -0.24206543873872732,
          -0.2879872399653164,
          -0.3278523936585992,
          -0.36225495903533633,
          -0.39156454417687575,
          -0.4172300355447835,
          -0.4396284433306368,
          -0.4592252318916286,
          -0.4775716505916789,
          -0.49453888794852785,
          -0.5106165801028486,
          -0.5263624049203464,
          -0.5416328530976202,
          -0.5570906049824785,
          -0.5726201963745154,
          -0.5880917418859354,
          -0.6042288798494212,
          -0.6203232743070729,
          -0.6366770552673742,
          -0.6530164955468807,
          -0.6696211760984405,
          -0.6865752714284062,
          -0.7030662307236311,
          -0.7200298696639019,
          -0.736991203962668,
          -0.753801462922285,
          -0.7702550308832166,
          -0.7865405511968976,
          -0.8026667621791927,
          -0.8183613843700566,
          -0.8329481831992143,
          -0.8470787002294627,
          -0.8597459993216024,
          -0.8711348664331247,
          -0.8788563469083687,
          -0.8835533389158868,
          -0.8838820567562866,
          -0.8786379155738961,
          -0.8667682041643869,
          -0.8457455529652788,
          -0.8132519103147886,
          -0.7672962783535725,
          -0.7053765070382626,
          -0.6221653880276465,
          -0.5143876755855045,
          -0.3687738074954403,
          -0.18862393438480798,
          0.04743606847504469,
          1.3380832601384571,
          1.1630031669260839,
          0.8936772675319374,
          0.6815269009426683,
          0.5096527912306109,
          0.370170307414608,
          0.2548246587371624,
          0.1596436840703682,
          0.07547602252238249,
          0.001441310810563174,
          -0.06584345473319048,
          -0.12760294998402089,
          -0.1841440297140284,
          -0.23594116681267752,
          -0.281991307638667,
          -0.322184457372315,
          -0.35699266256217504,
          -0.38677930359185275,
          -0.41280716886532237,
          -0.4354447315389604,
          -0.4556767083924662,
          -0.4741585365090376,
          -0.49134015798105163,
          -0.5076499866728406,
          -0.523618439707938,
          -0.539027164821562,
          -0.554374163005169,
          -0.5697281094873455,
          -0.5854981354788275,
          -0.6012651532922281,
          -0.6174249527397746,
          -0.6338274663530146,
          -0.6498947765656771,
          -0.6664535948165037,
          -0.6825386355041302,
          -0.6999234595828543,
          -0.7170352107686558,
          -0.733770375491187,
          -0.7504149900478795,
          -0.7668807840774743,
          -0.7831686420085674,
          -0.7991212634142558,
          -0.8147440341500132,
          -0.8295626141254552,
          -0.8440884111550736,
          -0.8572602364134686,
          -0.8683533668562577,
          -0.8762742169476582,
          -0.8817766945197478,
          -0.8838075472345033,
          -0.8806936895828114,
          -0.8699364601565036,
          -0.8515802649963967,
          -0.8209566774587165,
          -0.7784992572268495,
          -0.7184218497067627,
          -0.6402461153918774,
          -0.5312670030560055,
          -0.39543338735747646,
          -0.2135293667425662,
          0.0074424310333344795,
          1.3944933960631518,
          1.2117993567631848,
          0.9418129280319111,
          0.729449137358474,
          0.5574449352572083,
          0.41705052170654366,
          0.30223512432740496,
          0.20643892319048437,
          0.12196792329152431,
          0.04860235228373618,
          -0.018905609774108392,
          -0.08008692075126947,
          -0.13640873799920894,
          -0.1876559494951699,
          -0.23324287612444933,
          -0.2733318388225461,
          -0.30802157501391053,
          -0.3375893887778972,
          -0.3634282364912204,
          -0.38594500188688485,
          -0.4059092604040945,
          -0.4242454911207289,
          -0.4413150816772406,
          -0.45742121893006693,
          -0.4728744094219981,
          -0.4883125257211641,
          -0.5035920205260875,
          -0.5187823467689635,
          -0.533920136005103,
          -0.5498189977617459,
          -0.5656816132012741,
          -0.5818132192800812,
          -0.59803248617779,
          -0.6142501307432764,
          -0.6303376081305703,
          -0.647258473107596,
          -0.6639736773567646,
          -0.6805738175317109,
          -0.6971103512328701,
          -0.7135457792834748,
          -0.7295890916683235,
          -0.7453676666201319,
          -0.7609900595128541,
          -0.7756276166623335,
          -0.7892765853631584,
          -0.8027487791993395,
          -0.8135379680208888,
          -0.8229737363212448,
          -0.8284557984630169,
          -0.8307190457187961,
          -0.8277368311645902,
          -0.8174329431732758,
          -0.799649299826617,
          -0.7714953963714081,
          -0.7310135689601619,
          -0.6721840478751042,
          -0.5900021105269639,
          -0.48519506733995466,
          -0.35045521358197057,
          -0.17214185810835056,
          0.046902357826773156,
          1.8723360771984991,
          1.706926335004004,
          1.4380617102641093,
          1.225284074990816,
          1.0541080351675063,
          0.9147124464411002,
          0.8001667802337915,
          0.7047355771581505,
          0.6202084509396644,
          0.5475369683936964,
          0.4804085625601796,
          0.4195443711985761,
          0.3636045722735693,
          0.3121682674932167,
          0.26610353878319465,
          0.22567207918627336,
          0.19063029512664656,
          0.1608025274752856,
          0.1350498131289344,
          0.1128399036898891,
          0.09307959724925739,
          0.0754008994177173,
          0.05886706384382257,
          0.04366648295106584,
          0.028905926813248297,
          0.014340626444971537,
          3.8963611027698774e-05,
          -0.014533230842070055,
          -0.029275969117051805,
          -0.04427364640156751,
          -0.059398682058151485,
          -0.07476029043125745,
          -0.09036781066510265,
          -0.10592943548299504,
          -0.12177497150822131,
          -0.13727391057535238,
          -0.15301486840128364,
          -0.168610251167532,
          -0.18393018735279174,
          -0.19882165748765826,
          -0.21361181298409582,
          -0.22781010610860486,
          -0.24138728000909807,
          -0.2546614488191522,
          -0.2669202369835769,
          -0.2773912772311861,
          -0.28634171254961066,
          -0.2946953451733893,
          -0.2994815273153221,
          -0.30085269194786746,
          -0.2972477360821583,
          -0.2880788258286464,
          -0.2697308853669065,
          -0.23962571113033238,
          -0.19811340035628963,
          -0.1418896289503117,
          -0.06249908167943775,
          0.03767703938924534,
          0.17752450053904628,
          0.34596253465759597,
          0.5600058062501196
         ]
        }
       ],
       "layout": {
        "legend": {
         "title": {
          "text": "Sensor"
         },
         "tracegroupgap": 0
        },
        "margin": {
         "b": 0,
         "l": 0,
         "r": 0,
         "t": 0
        },
        "scene": {
         "domain": {
          "x": [
           0,
           1
          ],
          "y": [
           0,
           1
          ]
         },
         "xaxis": {
          "title": {
           "text": "PC1"
          }
         },
         "yaxis": {
          "title": {
           "text": "PC2"
          }
         },
         "zaxis": {
          "title": {
           "text": "PC3"
          }
         }
        },
        "template": {
         "data": {
          "bar": [
           {
            "error_x": {
             "color": "#2a3f5f"
            },
            "error_y": {
             "color": "#2a3f5f"
            },
            "marker": {
             "line": {
              "color": "#E5ECF6",
              "width": 0.5
             },
             "pattern": {
              "fillmode": "overlay",
              "size": 10,
              "solidity": 0.2
             }
            },
            "type": "bar"
           }
          ],
          "barpolar": [
           {
            "marker": {
             "line": {
              "color": "#E5ECF6",
              "width": 0.5
             },
             "pattern": {
              "fillmode": "overlay",
              "size": 10,
              "solidity": 0.2
             }
            },
            "type": "barpolar"
           }
          ],
          "carpet": [
           {
            "aaxis": {
             "endlinecolor": "#2a3f5f",
             "gridcolor": "white",
             "linecolor": "white",
             "minorgridcolor": "white",
             "startlinecolor": "#2a3f5f"
            },
            "baxis": {
             "endlinecolor": "#2a3f5f",
             "gridcolor": "white",
             "linecolor": "white",
             "minorgridcolor": "white",
             "startlinecolor": "#2a3f5f"
            },
            "type": "carpet"
           }
          ],
          "choropleth": [
           {
            "colorbar": {
             "outlinewidth": 0,
             "ticks": ""
            },
            "type": "choropleth"
           }
          ],
          "contour": [
           {
            "colorbar": {
             "outlinewidth": 0,
             "ticks": ""
            },
            "colorscale": [
             [
              0,
              "#0d0887"
             ],
             [
              0.1111111111111111,
              "#46039f"
             ],
             [
              0.2222222222222222,
              "#7201a8"
             ],
             [
              0.3333333333333333,
              "#9c179e"
             ],
             [
              0.4444444444444444,
              "#bd3786"
             ],
             [
              0.5555555555555556,
              "#d8576b"
             ],
             [
              0.6666666666666666,
              "#ed7953"
             ],
             [
              0.7777777777777778,
              "#fb9f3a"
             ],
             [
              0.8888888888888888,
              "#fdca26"
             ],
             [
              1,
              "#f0f921"
             ]
            ],
            "type": "contour"
           }
          ],
          "contourcarpet": [
           {
            "colorbar": {
             "outlinewidth": 0,
             "ticks": ""
            },
            "type": "contourcarpet"
           }
          ],
          "heatmap": [
           {
            "colorbar": {
             "outlinewidth": 0,
             "ticks": ""
            },
            "colorscale": [
             [
              0,
              "#0d0887"
             ],
             [
              0.1111111111111111,
              "#46039f"
             ],
             [
              0.2222222222222222,
              "#7201a8"
             ],
             [
              0.3333333333333333,
              "#9c179e"
             ],
             [
              0.4444444444444444,
              "#bd3786"
             ],
             [
              0.5555555555555556,
              "#d8576b"
             ],
             [
              0.6666666666666666,
              "#ed7953"
             ],
             [
              0.7777777777777778,
              "#fb9f3a"
             ],
             [
              0.8888888888888888,
              "#fdca26"
             ],
             [
              1,
              "#f0f921"
             ]
            ],
            "type": "heatmap"
           }
          ],
          "heatmapgl": [
           {
            "colorbar": {
             "outlinewidth": 0,
             "ticks": ""
            },
            "colorscale": [
             [
              0,
              "#0d0887"
             ],
             [
              0.1111111111111111,
              "#46039f"
             ],
             [
              0.2222222222222222,
              "#7201a8"
             ],
             [
              0.3333333333333333,
              "#9c179e"
             ],
             [
              0.4444444444444444,
              "#bd3786"
             ],
             [
              0.5555555555555556,
              "#d8576b"
             ],
             [
              0.6666666666666666,
              "#ed7953"
             ],
             [
              0.7777777777777778,
              "#fb9f3a"
             ],
             [
              0.8888888888888888,
              "#fdca26"
             ],
             [
              1,
              "#f0f921"
             ]
            ],
            "type": "heatmapgl"
           }
          ],
          "histogram": [
           {
            "marker": {
             "pattern": {
              "fillmode": "overlay",
              "size": 10,
              "solidity": 0.2
             }
            },
            "type": "histogram"
           }
          ],
          "histogram2d": [
           {
            "colorbar": {
             "outlinewidth": 0,
             "ticks": ""
            },
            "colorscale": [
             [
              0,
              "#0d0887"
             ],
             [
              0.1111111111111111,
              "#46039f"
             ],
             [
              0.2222222222222222,
              "#7201a8"
             ],
             [
              0.3333333333333333,
              "#9c179e"
             ],
             [
              0.4444444444444444,
              "#bd3786"
             ],
             [
              0.5555555555555556,
              "#d8576b"
             ],
             [
              0.6666666666666666,
              "#ed7953"
             ],
             [
              0.7777777777777778,
              "#fb9f3a"
             ],
             [
              0.8888888888888888,
              "#fdca26"
             ],
             [
              1,
              "#f0f921"
             ]
            ],
            "type": "histogram2d"
           }
          ],
          "histogram2dcontour": [
           {
            "colorbar": {
             "outlinewidth": 0,
             "ticks": ""
            },
            "colorscale": [
             [
              0,
              "#0d0887"
             ],
             [
              0.1111111111111111,
              "#46039f"
             ],
             [
              0.2222222222222222,
              "#7201a8"
             ],
             [
              0.3333333333333333,
              "#9c179e"
             ],
             [
              0.4444444444444444,
              "#bd3786"
             ],
             [
              0.5555555555555556,
              "#d8576b"
             ],
             [
              0.6666666666666666,
              "#ed7953"
             ],
             [
              0.7777777777777778,
              "#fb9f3a"
             ],
             [
              0.8888888888888888,
              "#fdca26"
             ],
             [
              1,
              "#f0f921"
             ]
            ],
            "type": "histogram2dcontour"
           }
          ],
          "mesh3d": [
           {
            "colorbar": {
             "outlinewidth": 0,
             "ticks": ""
            },
            "type": "mesh3d"
           }
          ],
          "parcoords": [
           {
            "line": {
             "colorbar": {
              "outlinewidth": 0,
              "ticks": ""
             }
            },
            "type": "parcoords"
           }
          ],
          "pie": [
           {
            "automargin": true,
            "type": "pie"
           }
          ],
          "scatter": [
           {
            "fillpattern": {
             "fillmode": "overlay",
             "size": 10,
             "solidity": 0.2
            },
            "type": "scatter"
           }
          ],
          "scatter3d": [
           {
            "line": {
             "colorbar": {
              "outlinewidth": 0,
              "ticks": ""
             }
            },
            "marker": {
             "colorbar": {
              "outlinewidth": 0,
              "ticks": ""
             }
            },
            "type": "scatter3d"
           }
          ],
          "scattercarpet": [
           {
            "marker": {
             "colorbar": {
              "outlinewidth": 0,
              "ticks": ""
             }
            },
            "type": "scattercarpet"
           }
          ],
          "scattergeo": [
           {
            "marker": {
             "colorbar": {
              "outlinewidth": 0,
              "ticks": ""
             }
            },
            "type": "scattergeo"
           }
          ],
          "scattergl": [
           {
            "marker": {
             "colorbar": {
              "outlinewidth": 0,
              "ticks": ""
             }
            },
            "type": "scattergl"
           }
          ],
          "scattermapbox": [
           {
            "marker": {
             "colorbar": {
              "outlinewidth": 0,
              "ticks": ""
             }
            },
            "type": "scattermapbox"
           }
          ],
          "scatterpolar": [
           {
            "marker": {
             "colorbar": {
              "outlinewidth": 0,
              "ticks": ""
             }
            },
            "type": "scatterpolar"
           }
          ],
          "scatterpolargl": [
           {
            "marker": {
             "colorbar": {
              "outlinewidth": 0,
              "ticks": ""
             }
            },
            "type": "scatterpolargl"
           }
          ],
          "scatterternary": [
           {
            "marker": {
             "colorbar": {
              "outlinewidth": 0,
              "ticks": ""
             }
            },
            "type": "scatterternary"
           }
          ],
          "surface": [
           {
            "colorbar": {
             "outlinewidth": 0,
             "ticks": ""
            },
            "colorscale": [
             [
              0,
              "#0d0887"
             ],
             [
              0.1111111111111111,
              "#46039f"
             ],
             [
              0.2222222222222222,
              "#7201a8"
             ],
             [
              0.3333333333333333,
              "#9c179e"
             ],
             [
              0.4444444444444444,
              "#bd3786"
             ],
             [
              0.5555555555555556,
              "#d8576b"
             ],
             [
              0.6666666666666666,
              "#ed7953"
             ],
             [
              0.7777777777777778,
              "#fb9f3a"
             ],
             [
              0.8888888888888888,
              "#fdca26"
             ],
             [
              1,
              "#f0f921"
             ]
            ],
            "type": "surface"
           }
          ],
          "table": [
           {
            "cells": {
             "fill": {
              "color": "#EBF0F8"
             },
             "line": {
              "color": "white"
             }
            },
            "header": {
             "fill": {
              "color": "#C8D4E3"
             },
             "line": {
              "color": "white"
             }
            },
            "type": "table"
           }
          ]
         },
         "layout": {
          "annotationdefaults": {
           "arrowcolor": "#2a3f5f",
           "arrowhead": 0,
           "arrowwidth": 1
          },
          "autotypenumbers": "strict",
          "coloraxis": {
           "colorbar": {
            "outlinewidth": 0,
            "ticks": ""
           }
          },
          "colorscale": {
           "diverging": [
            [
             0,
             "#8e0152"
            ],
            [
             0.1,
             "#c51b7d"
            ],
            [
             0.2,
             "#de77ae"
            ],
            [
             0.3,
             "#f1b6da"
            ],
            [
             0.4,
             "#fde0ef"
            ],
            [
             0.5,
             "#f7f7f7"
            ],
            [
             0.6,
             "#e6f5d0"
            ],
            [
             0.7,
             "#b8e186"
            ],
            [
             0.8,
             "#7fbc41"
            ],
            [
             0.9,
             "#4d9221"
            ],
            [
             1,
             "#276419"
            ]
           ],
           "sequential": [
            [
             0,
             "#0d0887"
            ],
            [
             0.1111111111111111,
             "#46039f"
            ],
            [
             0.2222222222222222,
             "#7201a8"
            ],
            [
             0.3333333333333333,
             "#9c179e"
            ],
            [
             0.4444444444444444,
             "#bd3786"
            ],
            [
             0.5555555555555556,
             "#d8576b"
            ],
            [
             0.6666666666666666,
             "#ed7953"
            ],
            [
             0.7777777777777778,
             "#fb9f3a"
            ],
            [
             0.8888888888888888,
             "#fdca26"
            ],
            [
             1,
             "#f0f921"
            ]
           ],
           "sequentialminus": [
            [
             0,
             "#0d0887"
            ],
            [
             0.1111111111111111,
             "#46039f"
            ],
            [
             0.2222222222222222,
             "#7201a8"
            ],
            [
             0.3333333333333333,
             "#9c179e"
            ],
            [
             0.4444444444444444,
             "#bd3786"
            ],
            [
             0.5555555555555556,
             "#d8576b"
            ],
            [
             0.6666666666666666,
             "#ed7953"
            ],
            [
             0.7777777777777778,
             "#fb9f3a"
            ],
            [
             0.8888888888888888,
             "#fdca26"
            ],
            [
             1,
             "#f0f921"
            ]
           ]
          },
          "colorway": [
           "#636efa",
           "#EF553B",
           "#00cc96",
           "#ab63fa",
           "#FFA15A",
           "#19d3f3",
           "#FF6692",
           "#B6E880",
           "#FF97FF",
           "#FECB52"
          ],
          "font": {
           "color": "#2a3f5f"
          },
          "geo": {
           "bgcolor": "white",
           "lakecolor": "white",
           "landcolor": "#E5ECF6",
           "showlakes": true,
           "showland": true,
           "subunitcolor": "white"
          },
          "hoverlabel": {
           "align": "left"
          },
          "hovermode": "closest",
          "mapbox": {
           "style": "light"
          },
          "paper_bgcolor": "white",
          "plot_bgcolor": "#E5ECF6",
          "polar": {
           "angularaxis": {
            "gridcolor": "white",
            "linecolor": "white",
            "ticks": ""
           },
           "bgcolor": "#E5ECF6",
           "radialaxis": {
            "gridcolor": "white",
            "linecolor": "white",
            "ticks": ""
           }
          },
          "scene": {
           "xaxis": {
            "backgroundcolor": "#E5ECF6",
            "gridcolor": "white",
            "gridwidth": 2,
            "linecolor": "white",
            "showbackground": true,
            "ticks": "",
            "zerolinecolor": "white"
           },
           "yaxis": {
            "backgroundcolor": "#E5ECF6",
            "gridcolor": "white",
            "gridwidth": 2,
            "linecolor": "white",
            "showbackground": true,
            "ticks": "",
            "zerolinecolor": "white"
           },
           "zaxis": {
            "backgroundcolor": "#E5ECF6",
            "gridcolor": "white",
            "gridwidth": 2,
            "linecolor": "white",
            "showbackground": true,
            "ticks": "",
            "zerolinecolor": "white"
           }
          },
          "shapedefaults": {
           "line": {
            "color": "#2a3f5f"
           }
          },
          "ternary": {
           "aaxis": {
            "gridcolor": "white",
            "linecolor": "white",
            "ticks": ""
           },
           "baxis": {
            "gridcolor": "white",
            "linecolor": "white",
            "ticks": ""
           },
           "bgcolor": "#E5ECF6",
           "caxis": {
            "gridcolor": "white",
            "linecolor": "white",
            "ticks": ""
           }
          },
          "title": {
           "x": 0.05
          },
          "xaxis": {
           "automargin": true,
           "gridcolor": "white",
           "linecolor": "white",
           "ticks": "",
           "title": {
            "standoff": 15
           },
           "zerolinecolor": "white",
           "zerolinewidth": 2
          },
          "yaxis": {
           "automargin": true,
           "gridcolor": "white",
           "linecolor": "white",
           "ticks": "",
           "title": {
            "standoff": 15
           },
           "zerolinecolor": "white",
           "zerolinewidth": 2
          }
         }
        }
       }
      },
      "text/html": [
       "<div>                            <div id=\"276757af-052f-4063-9c12-19f590be7866\" class=\"plotly-graph-div\" style=\"height:525px; width:100%;\"></div>            <script type=\"text/javascript\">                require([\"plotly\"], function(Plotly) {                    window.PLOTLYENV=window.PLOTLYENV || {};                                    if (document.getElementById(\"276757af-052f-4063-9c12-19f590be7866\")) {                    Plotly.newPlot(                        \"276757af-052f-4063-9c12-19f590be7866\",                        [{\"hovertemplate\":\"Sensor=AntiHCV Eletrodo 1<br>PC1=%{x}<br>PC2=%{y}<br>PC3=%{z}<extra></extra>\",\"legendgroup\":\"AntiHCV Eletrodo 1\",\"marker\":{\"color\":\"#636efa\",\"opacity\":0.4,\"symbol\":\"circle\"},\"mode\":\"markers\",\"name\":\"AntiHCV Eletrodo 1\",\"scene\":\"scene\",\"showlegend\":true,\"x\":[-3.808687857062353,-3.3440271981993943,-3.3249710158159775,3.2777612060788024,-1.0815946162441148,-1.1332083322705684,-1.033275195279308,-0.9254393312103214,-0.8186048688471609,-0.7294204418486747,-0.6497415474895214,-0.5788420763455246,-0.5147328581999796,-0.45135552157513326,-0.38679146100680883,-0.31812545343697646,-0.24201709572428767,-0.15592294694559192,-0.05795383399903334,0.053047876656058104,0.1743345474100047,0.3018811806242972,0.42961765150093933,0.5500247927434447,0.6590623228421727,0.7536359772607589,0.8322504466522935,0.8941395369530657,0.9397362474956246,0.973213504716096,0.9982286979195293,1.0177089605867071,1.0372829053766248,1.0565659396132099,1.0810239091789506,1.106866538122188,1.1410931514796185,1.183724480295821,1.2322424521120838,1.288875962905105,1.3538025429626848,1.4260708316565918,1.506097318605804,1.5935245494521348,1.687907730970263,1.789716802497423,1.899954281831548,2.0178995510647564,2.1453598560203653,2.2848890537551596,2.4381580227233686,2.607967104502654,2.7982514121153446,3.0096411681722666,3.243909559992182,3.503221423891956,3.784469594568708,4.0873267862090765,4.4088923977566745,4.736240309612904,5.079232390642268,-3.39974785249811,-2.9379531345163308,-2.9259051539137757,3.039251616252767,-0.6923876975979231,-0.7279200462388418,-0.6284993157796462,-0.5182922758515095,-0.41183540217146697,-0.32043013514231394,-0.24094507794328235,-0.1698186100546151,-0.10448775350628524,-0.04029022833355349,0.025367879829478843,0.09532596434825485,0.1724182541140176,0.25986017779777415,0.3588137870756804,0.4701998819618694,0.5913944865450308,0.7175242216066078,0.8418153486960975,0.9592031318190349,1.0643029700556619,1.15571153929298,1.229398097747246,1.2879221412737112,1.332209016047087,1.3636101519159627,1.3879889781837473,1.4064203200380045,1.4254018752089352,1.4437709367540374,1.467006693079081,1.4964818839750496,1.5310355569393097,1.5735944003148934,1.6224738804898522,1.6795260292482477,1.7436797062018725,1.8158318265760882,1.895381359304933,1.9821933661974982,2.0756579432090363,2.176775751820669,2.285243282022722,2.402071717668624,2.5285452593567452,2.665645971161034,2.815508352552279,2.979746605725176,3.1615427322949303,3.363115978246178,3.5865296583336197,3.830346495961815,4.097893318337172,4.385114263612382,4.689141423887319,5.003439038522389,5.342861930683268],\"y\":[5.775256862365273,4.38510104651255,3.1502943388504443,4.92066327154965,2.335555647506829,1.7052158915817297,1.266679819245105,0.9317759194904498,0.6707897350703786,0.46878468306837057,0.30984709001195476,0.18723686929922695,0.0939730006904557,0.028610736903842336,-0.012819171352123125,-0.03336369142224489,-0.03523702996657657,-0.02128375229970987,0.004731935011300313,0.0413147925324227,0.08338325885857091,0.12746871443813176,0.16917797194289694,0.20411461939481507,0.23085937862855987,0.24827828035419355,0.2569712589713687,0.2585610951868438,0.2536260700364137,0.24565639813831205,0.23554518332569432,0.2251411682946218,0.2169020832323358,0.21124158485546943,0.20972039081069052,0.21248741319107292,0.22030660724213139,0.23491087997788956,0.2533744556612959,0.27645556811973154,0.30348404319369987,0.33326896374526993,0.36587508181395423,0.40069609920013055,0.4372388105839349,0.4756403712521981,0.5162613692891015,0.5588265395602873,0.6038582017413046,0.6522625471986541,0.7044446858155997,0.7612623052838011,0.8236432649419032,0.8916629187107743,0.9648752141758916,1.0434322224969637,1.1262354202913003,1.2114746471312117,1.2973300447288478,1.3770552209614866,1.4550765241097374,6.537611526856529,5.145472085837781,3.908376970260581,5.4122277469517694,3.088705227260912,2.4658855853460047,2.026576627634274,1.693118010377475,1.4316669425986528,1.2315099510798755,1.0723906970520538,0.950007459275505,0.8580127777493598,0.7934674306854609,0.7530130042040052,0.733414240068113,0.7319971205044438,0.7465084474454616,0.7726330675073886,0.8088781516449436,0.8502758248334291,0.8930022668184188,0.9323389310259087,0.9654214680929046,0.9896534460668922,1.005281213407242,1.0120172091118504,1.0120514942531944,1.007302974105483,0.9983923534600836,0.9884935275734009,0.9777556966146252,0.9696964086130201,0.963911809517584,0.9640312351280879,0.9666044664577577,0.9750782287703599,0.9897920585413083,1.0087502831265804,1.032153096214629,1.0588900174233864,1.0887412693753973,1.1212092953574626,1.1557244429192162,1.191934214794141,1.229973081320817,1.2697886643450367,1.3117262901544136,1.356107672488528,1.4031630751219295,1.4535715653348018,1.5076445066573727,1.5663675649340556,1.6298425715346212,1.698519632941621,1.7707454135453011,1.8479313137273803,1.926725238893283,2.0057512402678537,2.0807847932957166,2.1575564499900364],\"z\":[1.1154325143004695,0.764685983799187,0.4413807423291167,0.8722690755288001,0.19633715522494322,0.015942816759950757,-0.11549624695370686,-0.21786904161304035,-0.30191502387044616,-0.3688656318073158,-0.4250329158163838,-0.4723607915391299,-0.5129080419828731,-0.5487620154874252,-0.5809804158626621,-0.6103785309306401,-0.637431092692345,-0.6623753795952155,-0.6857567855089722,-0.7082759917915672,-0.7319575819510595,-0.7591981250017503,-0.7930562791367332,-0.8355550342620842,-0.8858849920935129,-0.942540571842287,-1.0013292028445302,-1.056452028085314,-1.1054982101311175,-1.1456624926653058,-1.1785851828374956,-1.204510000439713,-1.2258746244962948,-1.2428962078971115,-1.2590345663676958,-1.2720835434296094,-1.2866111309954875,-1.3013377111299935,-1.3163551767975699,-1.3321827889468283,-1.3487915761077303,-1.3659580256879655,-1.3833991458991057,-1.4008579507709022,-1.4182052941245618,-1.4350215437787774,-1.4506044480041815,-1.4642812088606274,-1.4750223944102556,-1.4825070609001805,-1.4865893532117112,-1.4855907337340133,-1.4792159844301815,-1.467518486753215,-1.4503480631917505,-1.4260686331310577,-1.397251934202386,-1.3619109051541203,-1.3166127519238113,-1.2557795289042153,-1.1851076555784794,-0.3376522922699051,-0.6881090998164239,-1.0125907696861645,-0.6492409223157949,-1.2584577691955043,-1.4374963555679763,-1.568719069481613,-1.6710786362629353,-1.7550135808368554,-1.8221828684978092,-1.8783024088928644,-1.9256452979539946,-1.9663438423514201,-2.0022989795695025,-2.034629790539171,-2.064123676407256,-2.0911876581892237,-2.1161515079829214,-2.139589300217827,-2.162313024004834,-2.186542047137146,-2.2145743057826572,-2.24943754371719,-2.292543514512004,-2.3438453230337184,-2.4005954013828448,-2.4575934639894683,-2.5115091257546855,-2.558120340668904,-2.596961819444566,-2.6282091741420763,-2.6529218616126586,-2.6730896053098214,-2.6891572876002443,-2.702893932498464,-2.718480485661444,-2.732730199806333,-2.7473418043712035,-2.7622985838320537,-2.778149864304777,-2.7945485333883653,-2.81173250980648,-2.8290730827851274,-2.8465589481616207,-2.8637728027091467,-2.880401164374874,-2.8957407924254848,-2.9095384506495363,-2.920968656170189,-2.9294510088736527,-2.932911789573145,-2.9324919242457277,-2.9267013662015153,-2.914563880786688,-2.8962860041994842,-2.8712434015931323,-2.8370613986530175,-2.7961057524589563,-2.7417113938030235,-2.6704542921099432,-2.5826312915948706],\"type\":\"scatter3d\"},{\"hovertemplate\":\"Sensor=Lignina<br>PC1=%{x}<br>PC2=%{y}<br>PC3=%{z}<extra></extra>\",\"legendgroup\":\"Lignina\",\"marker\":{\"color\":\"#EF553B\",\"opacity\":0.4,\"symbol\":\"diamond\"},\"mode\":\"markers\",\"name\":\"Lignina\",\"scene\":\"scene\",\"showlegend\":true,\"x\":[-3.8194238868555592,-3.586886312266612,-4.942409393830978,-0.6691422953851077,-1.2452464919527733,-1.1861521110497268,-1.088768600836088,-0.9771891224060224,-0.8662977664673374,-0.7729221985280352,-0.6906758522321301,-0.6179767131369649,-0.5630076756755084,-0.49510095318749947,-0.426667057746565,-0.35564847037290587,-0.2747939905862629,-0.18832876505848867,-0.09659286520136619,-0.0035578484373287233,0.08381299906438441,0.16092968201551242,0.22416450921140466,0.27131473707346293,0.3062083363765887,0.33056350563142295,0.35067094934109155,0.3686895407060582,0.3901120524385292,0.41501840088619724,0.4455259176450679,0.47742331738004723,0.5087710177024497,0.5344898900255308,0.5524470319690278,0.5669751495730682,0.5732589619612787,0.5758750559100548,0.5768371949367898,0.5778041646869283,0.5802178487176876,0.5857305012378656,0.5954125007196244,0.6111106191698987,0.631734878788738,0.6597395839608018,0.6945425938864477,0.7363708124793584,0.7858493792549547,0.8439018287442354,0.9126117125981998,0.9934767774246901,1.084867651206812,1.1950781958876886,1.3227007303249292,1.4709923429080667,1.6475091191641915,1.8598907977491592,2.113413692179585,2.4130363681017357,2.7689669862564172,-3.821279201969123,-3.592963319495807,-4.94761068996089,-0.5852882534407126,-1.230449590130144,-1.1955626344978023,-1.0919111579113978,-0.9852179131904946,-0.8711337717961112,-0.7798371318339239,-0.6967464963997744,-0.6253702975477616,-0.569222733257943,-0.5008606806739169,-0.43202377261650776,-0.36074482396301805,-0.27920163167379114,-0.1917618690438742,-0.09927562760524626,-0.005808676616497456,0.08185408225605066,0.16044198708091495,0.22293594706588066,0.2706201392223104,0.3066418240393977,0.3318218373662596,0.3518359082690699,0.3701122001950526,0.3917070951908067,0.4167321395848928,0.4469288795721193,0.48171425989699235,0.5119904396394447,0.5389645305457601,0.5571469010155372,0.5722797197527,0.5795036242016999,0.5830754274948685,0.5850556017567545,0.5870406661261848,0.5905391847137347,0.5968321596350731,0.6071687640894612,0.6228151911965424,0.6441124613359164,0.6717316798525088,0.70608503223294,0.7478650734677788,0.7978213750471249,0.8555348754335551,0.9228990974870699,1.0020648631676894,1.093229074695776,1.1984048498001394,1.3219014429111586,1.4672513211303868,1.6388912284196253,1.8441385152857546,2.078387139883463,2.3718665710743134,2.712610304079886],\"y\":[6.068712083632862,4.5441274577624915,3.533651297994732,2.4452512722908244,1.8605616775778542,1.3868636881344842,1.0074157099863021,0.7164161119113565,0.49062569639633136,0.3199959968286068,0.18817906913589372,0.08939410223315636,0.00956153240290456,-0.03659092649000835,-0.06333609090757886,-0.07417072519059793,-0.06826116410959882,-0.051220783856322,-0.02626293407712835,0.004092575315702395,0.03431346600291396,0.06152164897066359,0.08318849442076466,0.09743489238865276,0.10557112767296833,0.10761252408272691,0.10600476368987037,0.10090303230421564,0.09442919271475585,0.0863693252604017,0.07788356424704174,0.06798023838977049,0.05646017257691582,0.04241790715177734,0.0253038569057978,0.007857463022714412,-0.01298932346022372,-0.03478737256510765,-0.05669576089182085,-0.07818470421725973,-0.09779318696578936,-0.11456123562243711,-0.1267478033867158,-0.13315768456122828,-0.13491473170074494,-0.1304747973563412,-0.12081508558441023,-0.10724736377732355,-0.09039437507836562,-0.07065465711050854,-0.04843287362722398,-0.02402844975749589,-0.00011894044971381272,0.02636722017549574,0.053353079663787904,0.0804458094306366,0.1097007165101016,0.1429545159996162,0.17937449946283035,0.21635648650481643,0.26001183541387174,6.050964391735278,4.518565598841022,3.506210397524366,2.4210045780306415,1.8395199937664861,1.3611883901471575,0.98465954108747,0.6914065840275267,0.4676848965083938,0.2958105929026716,0.16461626594633808,0.06488925263119627,-0.014104142991004135,-0.060001900215282684,-0.08658352643867748,-0.09738284795210062,-0.09119823825908625,-0.07373208143648885,-0.048495661035859776,-0.018001432685868284,0.012277946481282408,0.0402172043021419,0.06146507360466823,0.07600121228414393,0.08471723248493658,0.08722053095903116,0.08559420026092622,0.08070273004011479,0.07443001447034285,0.06634093702410009,0.057724254261902946,0.04937070707257352,0.037018530732462154,0.02348626409296719,0.0068659002409057375,-0.010416406718263643,-0.0309030024010068,-0.05213373031592542,-0.07340538690774359,-0.09388695456406158,-0.11271480399509506,-0.12873268744465102,-0.14045748162164504,-0.14719867161040945,-0.1487194136810445,-0.14491950633123366,-0.13608264869112094,-0.12317496888395209,-0.10641196971980127,-0.08740802421204887,-0.06656200692331897,-0.04371929810129213,-0.019257874294912894,0.004622422148933345,0.03021449566785036,0.056638508032431985,0.08495668155741425,0.11506354262564907,0.1432200109980091,0.1809936558274817,0.21962820502359154],\"z\":[1.2172473807046957,1.0320075896905245,1.0858053701080574,0.2747252876858128,0.23878767458578662,0.12355384210428647,0.02257814073541501,-0.06442189162313472,-0.13942179342940308,-0.19922501541586807,-0.24843803716115628,-0.2885279759613513,-0.3194851687578455,-0.3469286414676872,-0.3690465322657317,-0.3863896454542371,-0.3992649725855229,-0.40773548938331267,-0.4124965569043554,-0.4140665740704655,-0.4143716907634015,-0.4146311222598664,-0.4163928999102905,-0.4210810448470665,-0.4295784702388314,-0.44298281598684375,-0.46233512843559277,-0.4889913938669403,-0.5235760493079716,-0.566141343460832,-0.6152538452147022,-0.667354725718285,-0.7193052668165344,-0.7660454388435726,-0.8051412203614547,-0.8360850348474153,-0.8584564482723199,-0.8732192643260077,-0.8818890081442267,-0.8860045574639109,-0.886449346891457,-0.8843427749520058,-0.8802138590675542,-0.8753309885445286,-0.8685866271095913,-0.8602402558665851,-0.8490792904770914,-0.8337023464546413,-0.8125854793753401,-0.7839633055616684,-0.7448706419561728,-0.692614996481592,-0.6232392798313207,-0.5336180885580446,-0.4172411260548785,-0.27082806210076615,-0.08182544976373263,0.1521548919207987,0.4450916512679055,0.8137574045445983,1.2482371406264021,1.2662264277191648,1.0850786744366347,1.1387354131204632,0.31523398325202784,0.2888641827444372,0.17791573692066395,0.07556761284483393,-0.010404739106963032,-0.08616299908124503,-0.14541021225030007,-0.19481850397119133,-0.23454690116597923,-0.2656486621546741,-0.2930367320542193,-0.3150604897831,-0.3322792963788514,-0.34501192827337934,-0.35331230682163395,-0.3578979622344983,-0.3593880299013423,-0.35950858114201073,-0.3595714068948034,-0.36135654794858896,-0.36600911461799523,-0.37432084048645275,-0.3877202709849479,-0.40698949236245274,-0.4335842577538402,-0.46808538897797797,-0.5111303703730645,-0.5605986440501766,-0.6129687946568024,-0.6659900723240213,-0.7137242417136374,-0.7529990951088245,-0.7850341180003294,-0.8085369151127217,-0.824229131539752,-0.8339313848368999,-0.8388120529786586,-0.8401153219618464,-0.838758584161484,-0.8354932809268922,-0.8306529090441795,-0.8245235176736272,-0.8163744858986098,-0.8056247289414079,-0.7909566957190044,-0.7707839352785291,-0.7428556555739793,-0.7049511420817489,-0.654322504431036,-0.5880657567754575,-0.5005493341534704,-0.3909436554131287,-0.24815444463425057,-0.0663932191417504,0.16156026426954917,0.4432403800172669,0.7942172648885639,1.2142350020909836],\"type\":\"scatter3d\"},{\"hovertemplate\":\"Sensor=Eletrodo 1<br>PC1=%{x}<br>PC2=%{y}<br>PC3=%{z}<extra></extra>\",\"legendgroup\":\"Eletrodo 1\",\"marker\":{\"color\":\"#00cc96\",\"opacity\":0.4,\"symbol\":\"square\"},\"mode\":\"markers\",\"name\":\"Eletrodo 1\",\"scene\":\"scene\",\"showlegend\":true,\"x\":[-3.4003113388037143,-3.1607580533252926,-2.753015986029979,-2.3967703235837914,-2.103510759774863,-1.8603927087459817,-1.6590075337260346,-1.493525788474327,-1.351298980146863,-1.2320671485824433,-1.1289268880053327,-1.0389867044103878,-0.9626084410611336,-0.8975146723183917,-0.8447687498192693,-0.8032673745502206,-0.7728353415663367,-0.7538018383050538,-0.7447101490375909,-0.7448883504227282,-0.7526662290858379,-0.7652624866590046,-0.782762044757194,-0.8025102380054125,-0.8210724151924528,-0.8378217153887291,-0.8515190747699997,-0.8592637632355411,-0.862033766442981,-0.8580801873882823,-0.8455982199302502,-0.8300467888888101,-0.8046493873834406,-0.7785872975549655,-0.739214194409618,-0.7121984345301916,-0.676289046185647,-0.632800182660414,-0.5862687991010026,-0.5348784475990643,-0.4789515712712184,-0.41754756226367,-0.3486281106440335,-0.2683888651900994,-0.177298820939355,-0.07021503605390905,0.056874371284689425,0.20899154464143282,0.39095979966472705,0.6082874645325899,0.867674686602323,1.1773538765467293,1.5396207344674901,1.9631136063951484,2.4767768719561642,3.118967581894295,3.9459010646201707,5.066199135226611,6.613331799798866,8.784665598047129,12.07474463553623,-3.2004465523516186,-3.1304554772717696,-2.729290459469757,-2.375249641517819,-2.082882206568122,-1.839339005255121,-1.6399339187686042,-1.4757667980750058,-1.3340529329548485,-1.2158186483943187,-1.1132964932039402,-1.025167548099985,-0.9499006393537704,-0.8849487652639177,-0.831486811120126,-0.7888850849488823,-0.7572540399267846,-0.7358517927635907,-0.7243343465884821,-0.7216100796141117,-0.7264562428192346,-0.7368583291977239,-0.7502509807769077,-0.7668934063844645,-0.7830278796181996,-0.7969373408399758,-0.8080190969818107,-0.8134909766852602,-0.8138833664517191,-0.8086119735504191,-0.7960011908176774,-0.7788964098145652,-0.7599123137546577,-0.7301958983224229,-0.6981431274374651,-0.6667306322054422,-0.6307537773949584,-0.5895159804796621,-0.5443592507534268,-0.495476048342757,-0.4418988593670222,-0.3829340937507268,-0.3167096352349637,-0.23947467488543,-0.15174082025062127,-0.049236623690655124,0.07241104219405702,0.2181774165584588,0.3919423175517851,0.5988535354389734,0.8488051856320324,1.1492538496075768,1.4970976584469509,1.9165261514775755,2.4242382313259356,3.0597667550411183,3.878396276019748,4.9740556781503455,6.4860732072907075,8.689769687848242,11.839931804546449,-3.193176343207121,-3.1366848275410946,-2.7361915386746456,-2.3837649130006398,-2.0887109755193976,-1.8455854765032262,-1.643583169906953,-1.4782308207944581,-1.3352675154976605,-1.2161104415065973,-1.1122469771931986,-1.0243617406237417,-0.9493356395146885,-0.8860640941959215,-0.8342269152977756,-0.7939834753945163,-0.7645313911960068,-0.7463599253003035,-0.7374031814537758,-0.7373431219930209,-0.7440198677033607,-0.756152179448075,-0.7720254589098675,-0.7886905225806136,-0.8055540120731913,-0.8195627277635578,-0.8297382561875645,-0.8346186092732011,-0.8348730829454338,-0.8283757365693255,-0.815600565068917,-0.7982802894186537,-0.7751936283171732,-0.7453756782739769,-0.7174403263565876,-0.6812248361025284,-0.6459097162005564,-0.6038735924647515,-0.557868937183011,-0.508754081656926,-0.45428226244164543,-0.39453742873147035,-0.32657043339002023,-0.2513447036590544,-0.16253210712795446,-0.05950056530913534,0.06283606447871369,0.20919629330848097,0.3836133442839999,0.5924460163019478,0.8418506431016488,1.140992812438575,1.49426912046367,1.9117770085677748,2.419502129340133,3.048113470910653,3.860801860276418,4.953507996061099,6.462572785679561,8.625283576154128,11.779592956460553,-3.4630039459912494,-3.2518559106764293,-2.8452890694789748,-2.4894740198535046,-2.1954355687810976,-1.9540698099890546,-1.754309554891321,-1.5909466784876811,-1.4501953963968344,-1.3323419889671726,-1.230264214643565,-1.1429038853997082,-1.0677197434125565,-1.003922391237603,-0.9515130325470553,-0.9104098887155716,-0.8802304050298735,-0.8614107308375514,-0.8524083281039859,-0.852693421272741,-0.8603544928974782,-0.8736495592318979,-0.8902288131915873,-0.9089171267626734,-0.9265051257861756,-0.942345899096405,-0.9545874541938054,-0.9592215500721344,-0.9589876298568475,-0.9521598186542108,-0.9393056173772149,-0.9214237130943475,-0.895607973372589,-0.8683937850145212,-0.8295335231893569,-0.8006998327450795,-0.7629624291866249,-0.7189573574718773,-0.6720535715013746,-0.6208142081959339,-0.564564364124657,-0.5027462588908524,-0.43390962940827643,-0.3534691848815044,-0.2617450576114,-0.15525476949153036,-0.027552932721440472,0.1232576955154097,0.30411691652399253,0.5189827126931809,0.7777285618871214,1.0777165043245915,1.439474900312579,1.8645647175852587,2.3763422546755204,3.008479477955124,3.824344236191502,4.927924922903727,6.469727677733224,8.656588712078062,11.843188844407893],\"y\":[5.433131274428405,3.9380448323169457,2.8368804200628577,1.9876547251755892,1.3257091236066558,0.814801281152789,0.4237983624835218,0.12593769713343328,-0.10022801423874235,-0.2614857062109528,-0.3793234122554392,-0.4603688524329258,-0.5193874740831135,-0.56297434841031,-0.601074038797758,-0.6379898127826449,-0.677538797440819,-0.7236908421351448,-0.7773979443497915,-0.8378869951061556,-0.9047887179392076,-0.9743138953949353,-1.0478676101122102,-1.1209896718575143,-1.1879954749781287,-1.2476353652047756,-1.2981860483149437,-1.3341104577183405,-1.3575407164182025,-1.3648793052316914,-1.3533339555156012,-1.335284413478753,-1.2956434119237847,-1.2560835947355353,-1.1909836292708695,-1.1520842772402913,-1.099019529255081,-1.034452603817155,-0.9694368667508052,-0.9018562173966709,-0.834578179954299,-0.7683589275071785,-0.702212092670633,-0.633504723431516,-0.5665203394877817,-0.4987627802527579,-0.4287879243261437,-0.3557734970961874,-0.2768654429411032,-0.18971232474062108,-0.09053669099833632,0.024649114777799054,0.16099486705330157,0.3246146971675678,0.5319413292504712,0.799891759736115,1.1612369789025925,1.6684516693236937,2.3825925630666753,3.3986747890120568,4.953973534151441,5.521793460552797,3.9745016994555202,2.875282270057179,2.026539775975413,1.3650283298344508,0.8559653830642175,0.46140622856487207,0.1609336666678948,-0.06654654832128591,-0.2303322202670655,-0.35000310210330726,-0.43539928387055854,-0.497261264837071,-0.5417825778687309,-0.5790702904278192,-0.6144643988341826,-0.6523651462946488,-0.694388331600622,-0.7438247797301544,-0.7988548754573707,-0.8602347608782069,-0.9252302171586898,-0.9903955176568169,-1.0573306557198305,-1.1190382027448402,-1.17312099556693,-1.2183102311373917,-1.2494010202621848,-1.2679947668502618,-1.2734978629871039,-1.2623676350138233,-1.2412593117797532,-1.2172789668348074,-1.171466042942965,-1.1213720173266153,-1.0758471359587094,-1.0243479522238836,-0.9659363983290554,-0.9050922779212653,-0.8436741800445965,-0.7822452839710203,-0.720545496791616,-0.6596838032616751,-0.5958223775116392,-0.533170018825186,-0.4695279073412341,-0.4033927687386708,-0.3341722599571161,-0.2591765054817506,-0.1763543836129096,-0.08151296540621954,0.03010899228567777,0.1610048482696557,0.3214919192712065,0.5237037694687732,0.78825009331215,1.1455982564859206,1.6387503579527232,2.33259248788691,3.364353361034315,4.850164862212828,5.504704269511158,3.9535316848443,2.85416863477457,2.002799780974661,1.3464421890291516,0.8367273296437943,0.44744851199797897,0.14943865530934203,-0.0755696295212491,-0.23765356731466517,-0.3550120304734056,-0.4414238867269549,-0.5043720551770958,-0.5528084715033424,-0.5938129299145756,-0.6341012620275975,-0.6764175998730879,-0.7245353551047871,-0.7787835322158692,-0.8386859911942645,-0.9034876220215299,-0.9717653659423388,-1.041447688427741,-1.1080989128804384,-1.1714528622306595,-1.2254457322903998,-1.2687554344293963,-1.2982725122432353,-1.316441147786595,-1.3187066622011443,-1.3071857854106397,-1.2856971986000048,-1.2526987479670537,-1.2051036852823531,-1.1644484515095002,-1.1088129126549289,-1.0583410445139214,-0.9982586096662744,-0.9355337295711234,-0.8738553116981193,-0.8106723792778104,-0.7484554990976586,-0.6846283265732807,-0.6235389066375311,-0.5597934844127234,-0.4958311484686322,-0.42950831061715344,-0.3599284868827627,-0.2845034070141248,-0.20083888290625776,-0.1062353022865643,0.004578538965282134,0.13702716256505268,0.29670764543578676,0.49892920161164866,0.7614953746157204,1.1140424421809128,1.6056613849403063,2.29908030570656,3.3107098155579036,4.798007384191919,5.186605352637144,3.679541975264925,2.5774022400754903,1.7275986484715373,1.0672341181177998,0.5528476256658692,0.1584602054270919,-0.14383970973402055,-0.3731085275136397,-0.5371920170775789,-0.6570718873817001,-0.7430891851719184,-0.8039826230248174,-0.8494670935613802,-0.8875219128382209,-0.9245636132272215,-0.9639807103848558,-1.01012631001169,-1.0636542039301211,-1.123988959196177,-1.1906690699196105,-1.2612078812249141,-1.3329692291750421,-1.403546784825831,-1.4686428576057042,-1.526322906588584,-1.5739950715556867,-1.6028310289268526,-1.6197277204637694,-1.6209962284543884,-1.6086872065313107,-1.585412259062439,-1.5454068087867279,-1.503695469501571,-1.4400405936353302,-1.3981000638918961,-1.3424246939947533,-1.2776964399216957,-1.212988957894334,-1.1471507456308219,-1.0809016274693146,-1.0150364327116983,-0.950718320826247,-0.8828855511205159,-0.8169566347812586,-0.7505414378480476,-0.6809460406825725,-0.608570730504735,-0.530733743710388,-0.44459980381361813,-0.34603978616358494,-0.23379422524201282,-0.09929817098380288,0.06497528383817346,0.2702519967726996,0.5334121138238602,0.8904980394925136,1.3873369820482766,2.099564779625179,3.122316386135981,4.626860093972739],\"z\":[1.5468647444377948,1.2252059396743638,0.9682070221745535,0.7544790757065186,0.579987065007708,0.433999589264812,0.3111934214482186,0.20882460725873364,0.11880442872247855,0.04153948844800666,-0.026388182647737093,-0.08650003401479522,-0.13732451450023486,-0.18019561070118106,-0.2138415307912135,-0.2390358791017223,-0.2558369213848073,-0.2637117926678051,-0.263499295366865,-0.2554221923737575,-0.24056117083014109,-0.2211236027457853,-0.1969199766543996,-0.1705031962616299,-0.14508043392803302,-0.12155348001151399,-0.10104400073777486,-0.08648660672478557,-0.07692264860565233,-0.07403617949360194,-0.07932311125771944,-0.08681663350552726,-0.10317842199410085,-0.11831077177904395,-0.14411184477014619,-0.154857961464008,-0.1704934306920673,-0.18771450672874737,-0.20094424775577407,-0.21010404595663099,-0.21228635843694804,-0.20491025958823825,-0.18677323709845828,-0.15464848542149834,-0.10514780718590154,-0.03307334199410591,0.06483295924544241,0.19485316127614605,0.35726049151762423,0.5551426584891873,0.7865444346202134,1.0526197035982254,1.336891723471315,1.6266015902890096,1.9170776509130705,2.217594500618585,2.505511618328032,2.793075018981435,3.1066957650429208,3.4660209304817924,3.954076790064561,1.5454904933262834,1.2152814081517285,0.9555595770225453,0.7410133113858695,0.5660400880997661,0.41909164003324095,0.2978502192400788,0.1966425385636273,0.10721970297008827,0.031133968380725376,-0.035926570536840736,-0.09405535495054813,-0.1435896075084168,-0.18602243324875448,-0.22001786134223558,-0.2459389390040859,-0.2636556467778249,-0.2735946949768185,-0.27566871266954257,-0.2704871236527483,-0.2586642066425567,-0.24175336244306722,-0.22191296445659778,-0.19885494838068327,-0.17629250433568003,-0.15579202520770583,-0.13813876689221574,-0.1260865567153168,-0.11904513174122869,-0.11736947167714573,-0.12266255153434394,-0.13169184242109713,-0.14114305796361312,-0.15960542477659245,-0.17828284861086607,-0.19295608717085877,-0.2082430807697016,-0.22351206276997035,-0.23575296938473667,-0.2433928067300304,-0.24438057892598733,-0.23808164919347566,-0.22000297943900313,-0.18995596147258412,-0.14366597397556924,-0.07736160962495905,0.012554781386633303,0.1325469784413827,0.28188679413363427,0.4633483556854251,0.6811394934969153,0.9334446359960933,1.197956914969444,1.4841712830196405,1.7775994687043346,2.0708610278389226,2.3514282348799926,2.6371511987378184,2.960206347648635,3.330389103602182,3.7957433845820616,1.5946724132856236,1.2636264262059818,1.0038238859781516,0.7903993995683037,0.6131161623065771,0.46644675278515907,0.34281140976663227,0.2405058658954776,0.14998676693221125,0.07316128726657115,0.005102728321021297,-0.052573423216030375,-0.10163935156159562,-0.1424440598874826,-0.17495666966994608,-0.1989041667149923,-0.2148261137180091,-0.22210956726521014,-0.22195537633509746,-0.21434722692661837,-0.20071852057163955,-0.18202813896565115,-0.15975173323038683,-0.13657068348710036,-0.11309468566106297,-0.09247199693787744,-0.07565937423026269,-0.06426268248867965,-0.05735240231116856,-0.05708421468280056,-0.0625579213625375,-0.07176452064054677,-0.08544355355575464,-0.10434611354974943,-0.1188578323673182,-0.13820758354617665,-0.15289225253820365,-0.1686949110403513,-0.18165018509914044,-0.18920339848008594,-0.19076334183231816,-0.1838049616895402,-0.16709168822876172,-0.1355657663829501,-0.08882405112224181,-0.021942305849785012,0.06937807202875809,0.18991069056999357,0.3397938538615869,0.5232305371475158,0.7410385237805512,0.9931157505620134,1.264668525103871,1.5509175061012523,1.8439846638753825,2.129872374194682,2.418362786168509,2.709431965428074,3.0244633113813335,3.3874929278655777,3.862347820821721,2.0927789995439645,1.771431002369022,1.5146972323059473,1.301190079659329,1.1259601906592605,0.9815364354969777,0.8602638299034168,0.7599060734532805,0.6712590367368494,0.5952379445629872,0.5281772933636182,0.4701995559310922,0.42015822736424263,0.3781052523993889,0.34447930920587866,0.31945924819242605,0.30281187217590877,0.2951888815048509,0.29562247597790314,0.3039700636706995,0.3189567460975172,0.33916587767105333,0.3626723968354853,0.3880968706932157,0.4126698900434664,0.43533484185825033,0.4544604684074199,0.4657409687760475,0.472233952046238,0.4722181069516759,0.4666793180917431,0.4568858614022094,0.4402808621393173,0.42431209678578774,0.39936444327292697,0.38734346299737343,0.370902026195825,0.35372376206503714,0.3410538559824269,0.33307827722517985,0.3320951722097645,0.33944255267911927,0.3590538439214011,0.3912179112586643,0.44178289816873667,0.5129356992687547,0.6107462889565938,0.7369369506181092,0.8967469560422013,1.0889820594474648,1.3188089670774192,1.5706394008891642,1.8565291427041757,2.1464959496053373,2.438364863319664,2.7319469699440475,3.0111954923830333,3.3038390874825416,3.6142238546982104,3.983595924446751,4.458146022392641],\"type\":\"scatter3d\"},{\"hovertemplate\":\"Sensor=Eletrodo 2<br>PC1=%{x}<br>PC2=%{y}<br>PC3=%{z}<extra></extra>\",\"legendgroup\":\"Eletrodo 2\",\"marker\":{\"color\":\"#ab63fa\",\"opacity\":0.4,\"symbol\":\"x\"},\"mode\":\"markers\",\"name\":\"Eletrodo 2\",\"scene\":\"scene\",\"showlegend\":true,\"x\":[-4.89819656808651,-2.8925219838525233,-2.5955644025373004,-2.259998390976662,-1.9700773765364685,-1.726244440705508,-1.5222673251288668,-1.3515580165229124,-1.2037985017011363,-1.0796385781798565,-0.970662335586442,-0.8749784795875581,-0.790922981006737,-0.7163296304457352,-0.6501253115888379,-0.5910898766707953,-0.5381408059259707,-0.49102665734859613,-0.4479733521308838,-0.4086313973604925,-0.3723741671223358,-0.337434532478148,-0.3034631137909088,-0.26927949538094226,-0.2347900667879034,-0.19921981272870018,-0.1626189475126767,-0.12390747297498647,-0.0823018259104395,-0.039712379883784746,0.005364914941218015,0.05281184459753918,0.10250050646195757,0.15476304974325844,0.21144320518605803,0.26810380842609816,0.3296908012927243,0.39410087414126377,0.45879544628664193,0.5246770662754126,0.5899833472163719,0.6547674930700578,0.7200932633289908,0.784420447610819,0.8521046783656063,0.9231084740082494,0.9999402872437938,1.085770023389155,1.1813785258007095,1.2879935928422335,1.4079501593106056,1.5454663426609878,1.6980876156119225,1.8685658908700187,2.061480861674976,2.276742235574981,2.517922439339379,2.791194068317696,3.09776778781104,3.4366579503637964,3.826909975462144,-4.546829048800704,-2.80840698016284,-2.5640962081011764,-2.234550514745329,-1.9462271495052923,-1.7032436562867757,-1.4986042036080334,-1.3286746733960342,-1.1803781138151752,-1.0561191467427913,-0.9478377446077156,-0.8528682300148936,-0.7698863008856631,-0.6961890899080923,-0.6303880141167494,-0.5714483877258376,-0.518690302146016,-0.4719585530227147,-0.4291171783121751,-0.3903460813733549,-0.35447842354146464,-0.3204556041787372,-0.28713969028785397,-0.2543614858253711,-0.22029529137206058,-0.18552894386412772,-0.14936804911430362,-0.11047829861687768,-0.06999011952145802,-0.027019344824293953,0.018273026647742253,0.06643326599230094,0.11725960939374667,0.17074786240740764,0.22734703758787736,0.28724165347268593,0.34927962437017424,0.41319912421804256,0.4765882635367628,0.5403469800214153,0.6028466398555248,0.665182287623455,0.7285405238419336,0.7927873008309891,0.8600968013899601,0.9315692087524842,1.0101298326596508,1.0964146332285367,1.1944770624939447,1.3048622024245622,1.4300008299009666,1.5742537407365225,1.7361973077008919,1.9210090411051477,2.126483755617807,2.354162308022411,2.6092699809863444,2.8918955516289024,3.210875522784081,3.5501335200759976,3.936022011719429,-4.495284409988757,-2.783513900131194,-2.5645202367101074,-2.236970643019004,-1.947302708447958,-1.703908989253215,-1.4996595104799817,-1.329271265700309,-1.181806035032091,-1.0571430066651857,-0.9491030038599918,-0.855108648053849,-0.7729683449252099,-0.6999704816111079,-0.6355130081607112,-0.5781638189221063,-0.5278029572255426,-0.4832964138196851,-0.4437436621830208,-0.4076514137952924,-0.3748849394195313,-0.34337110446665275,-0.3126326960198684,-0.2811199551720798,-0.24867040910799057,-0.21449872702152284,-0.17865648053623845,-0.14087359802623037,-0.10060709834059882,-0.05863726449391065,-0.014352709908583712,0.03222477280209074,0.08146753534030175,0.13400568830338147,0.1881537259671336,0.2455145267930762,0.305034262252024,0.3653517514802591,0.4269606131490414,0.4885057779562203,0.5493619258344036,0.6101003855943458,0.6717482123244822,0.7359564907919922,0.8028060842307456,0.8745526500893658,0.9527643528323314,1.039384718995168,1.1367258942926495,1.247296558218314,1.3738677598251663,1.5186516692117027,1.6845747008315382,1.8719811365702055,2.08370117326455,2.3192555984897445,2.5829674404840435,2.8748434182231373,3.1996257726275976,3.561414465554324,3.959896460834525,-4.666522902661002,-2.910654114199658,-2.65995226873263,-2.330582556724824,-2.041584561754683,-1.7980083120124106,-1.5949318957245386,-1.4251333866899785,-1.278721292686275,-1.1554738992929583,-1.0490775194984048,-0.9562161245553611,-0.8754891814174494,-0.8039616434110637,-0.741129811541633,-0.6853647372965748,-0.6364028167685662,-0.5931289826449421,-0.5545101215875154,-0.5197223615292443,-0.48772944494277126,-0.45723427343715306,-0.4273440990524817,-0.39667816742773704,-0.3652398219886564,-0.33227652769143196,-0.29780382049283727,-0.26171408853056666,-0.2236162171923974,-0.18329498471432384,-0.1405427330995061,-0.09526554639030561,-0.04797598436068584,0.0024313685118309315,0.05600404799567469,0.11171397533912077,0.1694705389019433,0.2292979505267709,0.2897634875030503,0.3505858353869892,0.4119190410266475,0.4738828599856973,0.5367973171717884,0.6017019130437683,0.6696649816985489,0.7418018731896759,0.819464435412565,0.9047431610096951,0.998725999114935,1.1041975397584254,1.2241691278015068,1.3621834830039867,1.5211497776628755,1.7051834617838815,1.9166963706884204,2.1557357531001156,2.420379034683677,2.7157762892274655,3.054578058169305,3.4175982591107976,3.823047208296263],\"y\":[5.050578410664368,4.20842222342758,3.073707715617142,2.2212630876527717,1.5652163050801025,1.059739056624233,0.6735967377457958,0.3831447704364402,0.16264611756714106,0.003774189873053989,-0.1119296516835169,-0.19318827273272482,-0.2501344842709888,-0.28944171548377523,-0.316659939648777,-0.3358114997966546,-0.34914036585487707,-0.358991815999387,-0.3662790798725088,-0.3706440054866946,-0.37350838338894,-0.37322549110916403,-0.3704835279486268,-0.36470039778688185,-0.35600572568291905,-0.34488977941974425,-0.3315427181056663,-0.3158346939078502,-0.29749919110711065,-0.27831770446768833,-0.2576276239093174,-0.2356582016651935,-0.212673840722365,-0.188908738348701,-0.1636097499720919,-0.13873048457388543,-0.1130794462297908,-0.08705538701858793,-0.062389780763423136,-0.03852604549382664,-0.01623335885501989,0.004716587834380524,0.02549313868043477,0.04553702197694401,0.06685071275523366,0.0894107913474623,0.11417870811801381,0.14214614452712057,0.17321895487328562,0.20741810658312063,0.24486366704000395,0.2869632548685042,0.3319122424710501,0.3804881560761615,0.43288986728435846,0.4899068924612053,0.5508630576804457,0.6175222739602682,0.6891813439485465,0.7646906064446585,0.8510072142558968,5.197961926066237,4.26120976473639,3.109071392469632,2.257527577466547,1.6030407645210532,1.0980660661207058,0.7137618298526007,0.42185621242380744,0.20154562729670178,0.04158944750414579,-0.07696731888519386,-0.16131990624795892,-0.22194053972544395,-0.2646140521764057,-0.29440387363246984,-0.31555422546484835,-0.33098152972303724,-0.3429426650716858,-0.351983454997644,-0.35830062250577144,-0.3625475805424406,-0.36442283296223243,-0.36300897625199796,-0.35901814295191514,-0.35150605912206184,-0.34136491910686106,-0.32857455415970627,-0.3127619653331496,-0.29524812772852893,-0.275868244104535,-0.2546298430811973,-0.2322785932270355,-0.20861165021713782,-0.18412577285254794,-0.15873200472986498,-0.1331771026988887,-0.10772451382393576,-0.08254533891829527,-0.05895075148983742,-0.03644317936191,-0.01542277334480193,0.004783697965457549,0.025100584648600807,0.04541525272895144,0.06712264506560287,0.0903228491908204,0.11631325243171628,0.14490840049420758,0.17767270298499793,0.21396917605344223,0.25451009598737323,0.30015367156541634,0.34954425879520734,0.40438106100025034,0.4631853412968829,0.5254390545719755,0.592127760736941,0.6631721083013821,0.7415298530767701,0.8182869745533494,0.9033993001502085,5.2021153492035275,4.257272740134704,3.0942647117479822,2.242444012172623,1.5911132109871087,1.0874771616722887,0.7027752878400498,0.4116654469294375,0.1896731730534652,0.029979829885783946,-0.08955407716966116,-0.17606652345402118,-0.23868587589178775,-0.28308771185525805,-0.31537887468125364,-0.33926298765028234,-0.35805458354438924,-0.3730650088836581,-0.38596688910935717,-0.3950458629948705,-0.40224830660674554,-0.405623659584408,-0.40603743167937983,-0.4021807228910289,-0.3948143141773934,-0.383909065043933,-0.3701251930208894,-0.3540265393790876,-0.3356846394383445,-0.3160017150633363,-0.2947076194955167,-0.2726666357666671,-0.24884996955641656,-0.2248341138114852,-0.20012741605845905,-0.17499236608702926,-0.15055716224751375,-0.12671070723156133,-0.10340203113766401,-0.08138286749250037,-0.06066138537251584,-0.04067509550451384,-0.020642176089840772,0.0005925025078302346,0.02259689665701284,0.046545294173484845,0.07292267908313421,0.10208988972449119,0.13481584463208954,0.1715060035686806,0.21286665192723161,0.2587744275130487,0.31012014288408846,0.3657523076352383,0.42709706998448815,0.4924163533781866,0.5624109265945513,0.6376236702798475,0.7170884429964989,0.803572146359274,0.8933717057674582,4.92762601284525,3.9952719952393565,2.8459113108572742,1.9934066610243824,1.339636780299322,0.8355557417506647,0.4485669328741856,0.15644107085349504,-0.06707897599096696,-0.2285603523479379,-0.3499729287440234,-0.43722612908398206,-0.5006741974887837,-0.5457315990325784,-0.5787024982139684,-0.6029773913586631,-0.6219311994658415,-0.6368259346761459,-0.6493073607133119,-0.6584382588108116,-0.6650820992560209,-0.6685077088412085,-0.6680892314853728,-0.664022786745279,-0.6563909383628269,-0.6456513171656283,-0.6319159900125397,-0.6162107687070505,-0.5980389503026838,-0.5782896957015353,-0.5568718729547615,-0.533963163791366,-0.5105298599154189,-0.48597600239416455,-0.46028574223007523,-0.43531873011906386,-0.41066164268214755,-0.3860365277264903,-0.36225943942420913,-0.3396688852630791,-0.3178994272542307,-0.2966140989429532,-0.27539761605877205,-0.25395006443836915,-0.23133482957099163,-0.20755265331746858,-0.18201184496030842,-0.1540437871502748,-0.12341009179403295,-0.08959910071725835,-0.051841152591777614,-0.00903139953935896,0.039404216938491575,0.09346565393566128,0.15462486852212323,0.2211835835989069,0.2910603970787167,0.36691849132102206,0.4516348669464942,0.5364265476983622,0.6292013749645486],\"z\":[1.3547832969250888,1.1528065570357668,0.8765405244547251,0.6557011115833556,0.47470858730664545,0.32413188829309303,0.19786442141487517,0.0914373294838311,-0.0013860258635042596,-0.07960704192098296,-0.14802576803898004,-0.20731933029872185,-0.2581949882091584,-0.30200183451842655,-0.3395738732479917,-0.3720170522393843,-0.4003466678680441,-0.42512514380412786,-0.4475032940255463,-0.46772985454543764,-0.48622674269615973,-0.5036738268474201,-0.5203026000189932,-0.5365442854527068,-0.5523949876227312,-0.5682636007418436,-0.5840484105024505,-0.6002033071780739,-0.6169415598933202,-0.6334862099383316,-0.6504135188421549,-0.6675527992162107,-0.68478396982167,-0.7023443543830339,-0.7207637100945801,-0.7381607938169019,-0.7570747970572147,-0.7763604382036714,-0.7952651475656901,-0.8141494628192649,-0.8322843208705856,-0.8487540578110335,-0.8633393372382636,-0.8747467159419177,-0.8828849459396255,-0.887454830451073,-0.8873205295094501,-0.882565247298833,-0.8716213648866175,-0.8545363378767604,-0.8282974118101485,-0.7936214774513952,-0.7474998353556273,-0.6881157161748512,-0.6117818816489305,-0.5151611212324309,-0.39737416007256665,-0.25057687978560067,-0.06845654531055868,0.14550143484888767,0.39441043074913584,1.3754114920719165,1.1515303696127708,0.8690491066998637,0.645726298313434,0.4632853622969702,0.31214917132653275,0.1850012718578217,0.07918277722964383,-0.01359188501927751,-0.09118617473540246,-0.15825408016173512,-0.21609078679301455,-0.26537785001183145,-0.3078225202347194,-0.3444848208646037,-0.37635860497681256,-0.4042845448281149,-0.4287799256790406,-0.4510710868530023,-0.4711510888183534,-0.4895757394703034,-0.5068303164804318,-0.5232530611725796,-0.5389848787837186,-0.5547796115254495,-0.570355941194261,-0.585982810102189,-0.6021965078260986,-0.6184664089825808,-0.6351776714411005,-0.6519872472487631,-0.669380189239178,-0.6870039456676723,-0.7048548229757743,-0.7230525027212783,-0.7422632735185322,-0.7617365778480514,-0.7813241650164728,-0.8003111656680032,-0.8189898157305743,-0.8361928830918298,-0.8518193493611078,-0.8653889237119488,-0.8761199189281463,-0.8838019897809631,-0.8876013901261042,-0.8877746186022077,-0.8818881048292931,-0.8710358143530763,-0.852102482498266,-0.8257923244226589,-0.7887072255756274,-0.7417277207089685,-0.6827621275936487,-0.6105415661026055,-0.5185136128991222,-0.40786551029934337,-0.2707347023642095,-0.10629730808420716,0.09350740290373755,0.3314481876653929,1.4263708776282913,1.199479075462572,0.9155996271817006,0.6918454756028846,0.5079664256583466,0.3561836431865228,0.22916976071644943,0.12303761870477337,0.030979478987345536,-0.04666321147599325,-0.11329769796646277,-0.17028384843148928,-0.21887580033511259,-0.260810120084176,-0.2967750682876708,-0.328008495782254,-0.35505591581789137,-0.37882926091764,-0.3999643063960308,-0.41904513040093305,-0.43625026121887067,-0.4523702995694977,-0.46770951165093616,-0.4828656310379637,-0.4979545409500406,-0.5132931809453847,-0.5288242649031664,-0.5446647425149457,-0.5609599579497399,-0.5773585549115683,-0.5939687865594919,-0.6109494490592214,-0.6279189047319431,-0.6458692415482884,-0.6633632131204752,-0.6815494750517724,-0.700306988323824,-0.7186113838164234,-0.7368887255497203,-0.7544043884380135,-0.7704901003278085,-0.7849252846027008,-0.7971768102930537,-0.80684330987131,-0.8131389196462069,-0.8160472707496748,-0.8144343469957596,-0.8069633185156855,-0.7930583969788474,-0.7715344947629836,-0.7417092398211974,-0.7020015679353516,-0.6499958286142765,-0.5854591826314316,-0.508593992889124,-0.41235322609151137,-0.29549460957005325,-0.15751088494388696,0.007892847422506982,0.1977253362213626,0.439294422499657,1.917777788397012,1.6944348013265385,1.412708930315431,1.1900386551670092,1.0074584714223784,0.8560225972136631,0.7300110679949903,0.6242878364507122,0.5327766469191076,0.4557177610502665,0.3896316248560108,0.33270799089178366,0.28422307739836117,0.24234490268795295,0.206513995358415,0.17547888133934345,0.14868785844078403,0.12528698475287603,0.10454926686752557,0.08609185982291816,0.06935299612477967,0.053740431322468474,0.038884156089740926,0.024061088112143324,0.00934205024677482,-0.0056459556168103366,-0.020789542636582236,-0.03617259601270387,-0.051762095341234084,-0.06770052562391302,-0.08395360109971095,-0.10040613699967352,-0.11687176479157543,-0.13384411464297977,-0.15091405696220098,-0.16844344025360272,-0.1861685825172993,-0.20383406817149677,-0.22090003126137214,-0.2373436047019573,-0.2525420006525166,-0.26663009052673103,-0.27802961083743494,-0.28722275533386543,-0.29336430314485173,-0.295734441614627,-0.29359390142154657,-0.28608359799070804,-0.2717477088037106,-0.24901477434538244,-0.21643180951298724,-0.17211050112903797,-0.11522400164118846,-0.04297291879776589,0.04524456034670637,0.1511345293718306,0.2788472927595659,0.4297764267628825,0.6075557117694369,0.8197454267850958,1.0602452729392142],\"type\":\"scatter3d\"},{\"hovertemplate\":\"Sensor=Eletrodo 3<br>PC1=%{x}<br>PC2=%{y}<br>PC3=%{z}<extra></extra>\",\"legendgroup\":\"Eletrodo 3\",\"marker\":{\"color\":\"#FFA15A\",\"opacity\":0.4,\"symbol\":\"cross\"},\"mode\":\"markers\",\"name\":\"Eletrodo 3\",\"scene\":\"scene\",\"showlegend\":true,\"x\":[-4.978052902609398,-2.9561215592517387,-2.6507033020819812,-2.331419567427395,-2.0629277323922643,-1.8461077530289756,-1.6708392925401916,-1.5292716439718368,-1.4073541341813727,-1.3056476599121674,-1.2117060564368929,-1.1243324612066092,-1.0406139522789695,-0.9606100777737795,-0.8848823311255868,-0.8143815248247753,-0.7508818978277212,-0.6966997486992235,-0.6525903708507075,-0.6202261225048603,-0.5994195269304782,-0.5894493339425066,-0.5897915613464816,-0.5998166457015809,-0.6180895408805362,-0.6421298943051229,-0.6727636376612373,-0.707931905237293,-0.7448946775696454,-0.783079451255878,-0.8220222251424393,-0.8639571666708379,-0.8968037701875299,-0.9315878860099847,-0.9419299545676254,-0.9753676467569468,-1.0038120514710491,-1.0094236278179272,-1.0090155092295443,-1.000796199174029,-0.9854181508608161,-0.9659831981786211,-0.9424298027586291,-0.8977011731770007,-0.856249084137308,-0.8095286420431779,-0.7516638794212785,-0.6879756477998454,-0.6114372845100526,-0.5240734890314919,-0.42021998988419085,-0.29955832000849,-0.15452912870330182,0.03167195470642028,0.24940109427055215,0.5066375156527189,0.8306699200299954,1.2552741175090592,1.7135605140584032,2.3480077222725675,3.2366886230760774,-4.9944116968547565,-2.960271022714303,-2.6552339874010955,-2.3353595767349726,-2.067617954908243,-1.8523073393830798,-1.6794735528900497,-1.5406775604221004,-1.4234052660627106,-1.325660793747494,-1.2369489937531075,-1.155040844313471,-1.077183427436703,-1.0007976676350048,-0.9278942915845837,-0.858869395751574,-0.7968411921095975,-0.7427640412176696,-0.6985649634258665,-0.6658575458166741,-0.6448927846744271,-0.6353039528073137,-0.6365895423571596,-0.6477492311699603,-0.6672731106696544,-0.6947192769163562,-0.7276588874485125,-0.7646116737719968,-0.8036759211505987,-0.8438459347071636,-0.8843433850345758,-0.924345674647236,-0.9627706114664165,-0.9941005102819214,-1.0138415606128337,-1.0414040460012406,-1.0693260677266216,-1.0749648909303613,-1.0715585568723633,-1.0572525533656916,-1.0381924880607774,-1.0128655337974326,-0.9846655950432925,-0.9341079404258934,-0.8891057460895305,-0.8381684964789202,-0.7767721554358907,-0.7105102639480132,-0.6340489306126214,-0.5427727763266306,-0.4334947831634241,-0.3074901422625634,-0.15668053065559984,0.031145751495300758,0.26283343419140676,0.5407376365013917,0.8695847441229393,1.3043274778143774,1.8494660468366806,2.4937087373807088,3.1753562421605595,-5.179865832591882,-2.9850378143639285,-2.6711694574220353,-2.350265193372372,-2.083018744224065,-1.8665312163143792,-1.6929452321761922,-1.5528616287219053,-1.4342860637028438,-1.3344266627144734,-1.2445819901256214,-1.1616763678106634,-1.0817565138476364,-1.005849806093898,-0.9342287066147139,-0.8681691774408821,-0.8097408766708784,-0.759839346807527,-0.7216401045834081,-0.6953495076009237,-0.6814240079715106,-0.6790804650365629,-0.6870650316195619,-0.7049324345851112,-0.7310493791855316,-0.7640903520140973,-0.8024969903277888,-0.84477677024855,-0.8886924235839199,-0.9329846070615802,-0.9777248350005647,-1.0189192906346125,-1.0568562726414295,-1.085082244580384,-1.0972404188722922,-1.1318375331469885,-1.1535441186692252,-1.1539588459643915,-1.1424376554065616,-1.1221052379643741,-1.0988353883062927,-1.0656848958701515,-1.032958328839484,-0.9786235298543045,-0.9274621402292207,-0.8706752059949221,-0.8018576514502403,-0.7226015837131436,-0.6383975997259335,-0.5331471898789791,-0.41971599987218217,-0.2886797512460354,-0.12192907748845667,0.08267433730242311,0.30939307157273804,0.6317393456646098,0.97450234162899,1.4083189670945233,1.995398841286547,2.6734118622330767,3.5118727325202928,-5.947443611268089,-3.098084853683667,-2.7698468397940377,-2.448006658756618,-2.1804723121660157,-1.9653473071159677,-1.7931689363150314,-1.655124747063444,-1.5373062400905386,-1.4391978829036465,-1.3499848453933612,-1.2678223745476487,-1.1891374058021933,-1.114306484689814,-1.0434408905749364,-0.9767642456006145,-0.918661469153108,-0.8696410494429863,-0.831627361001965,-0.8058439470158046,-0.7922608182605965,-0.7904663304186714,-0.8000156273599969,-0.8191164939876706,-0.8465006374356755,-0.8795669506429766,-0.9189148230955788,-0.9616277247544569,-1.0077743868698448,-1.0521129643263702,-1.0985689287383025,-1.1374937915398768,-1.1710117225252001,-1.2074992546257979,-1.1893602442724818,-1.2379142097538853,-1.2666617884012055,-1.260346204735637,-1.2482022374488067,-1.2305659371318043,-1.2027184965854438,-1.1689352150578234,-1.1336574672401916,-1.0726806196955614,-1.0200312676359256,-0.9576448874595185,-0.8861430448829523,-0.8053578982492415,-0.7133072765723447,-0.6136855513204876,-0.4952442901331333,-0.34048055989579207,-0.174807652057437,0.03804888825469173,0.28499279670780536,0.6136613065734022,0.9566802560501245,1.4437620309323844,2.1014695769702545,2.6235332386215853,3.7063369369268395],\"y\":[4.982365706791917,4.170448092823864,3.002147190556811,2.09913827971367,1.3870404718198923,0.8170724211504535,0.36560330252215645,0.01225622215896669,-0.26003198534725475,-0.45929867024555077,-0.5949396665741384,-0.6774940961701635,-0.7155936788677383,-0.7220049936857766,-0.7078416826511099,-0.6833031613912034,-0.6577600058802457,-0.6390739379693873,-0.631637671686512,-0.6373046526634967,-0.6570643421870289,-0.6900536931813707,-0.7356519230287528,-0.7940574043403011,-0.8638733810973634,-0.9420796550251513,-1.0313586188177544,-1.1282186990484069,-1.2282596987892185,-1.329756465982948,-1.4328435180952312,-1.5422524503735517,-1.631331314018192,-1.724942554511228,-1.7616607053507873,-1.8542719719110252,-1.935928327092353,-1.9658899808129942,-1.9840214303692465,-1.9870320192579065,-1.9772954986161302,-1.962736722788873,-1.9442154794951698,-1.8851508014679426,-1.8434709653988812,-1.8010785177092992,-1.7491881260597586,-1.7030685080414352,-1.6527791494488182,-1.6077116994773502,-1.5635420670865152,-1.528375071385659,-1.4959492963912304,-1.4583507650198853,-1.4348271489898052,-1.4408919962233344,-1.4453550409919238,-1.4490037646804974,-1.51046179162128,-1.5601552105277274,-1.5665154449886054,4.973210445191794,4.1654234564333965,2.994469083409997,2.0911997687055712,1.3770014194609368,0.8034246292382038,0.3463664157582532,-0.013323381075052465,-0.295938333886255,-0.5038337654902207,-0.6505460825673832,-0.744278587712391,-0.7935711911949552,-0.8054300481740905,-0.7939209410899922,-0.7684436778228254,-0.7409453068306406,-0.7174355089843653,-0.7056127641717741,-0.7074013987227421,-0.7247110857296081,-0.7569729306649768,-0.8038989715201572,-0.8643196829934173,-0.9370557246240818,-1.0224018114960527,-1.1171391788150453,-1.2188117765693733,-1.3239163080855652,-1.4300571833369784,-1.5368364003041592,-1.6420233868801921,-1.7447192276852772,-1.8304034083042837,-1.8893417573403595,-1.967802389169771,-2.0486334939919217,-2.079289429918598,-2.0910559600072087,-2.080941910915586,-2.0635286594459394,-2.0367894264809006,-2.0101741166698144,-1.9408131495889989,-1.8945627661188142,-1.8468493906795078,-1.7940126397391007,-1.748482667922723,-1.7050329513198104,-1.6621090378630266,-1.6186491657008142,-1.5854491408252234,-1.5607512890224058,-1.534091192795852,-1.5136885103076536,-1.5109741348642394,-1.5163847261620191,-1.5394131024004336,-1.5770247359876723,-1.6294519943655366,-1.8040119770059446,4.87405003671428,4.128238542630965,2.9599433044550154,2.056083705585888,1.339898508351216,0.7681965542318994,0.31255356684799795,-0.04433084882580521,-0.32408797976442477,-0.5273470249227438,-0.6716915095392364,-0.7634865351819774,-0.8087182670278842,-0.8222317628507394,-0.8141566752589828,-0.7953348813682242,-0.7756951984412374,-0.7605491017872323,-0.7597942200495585,-0.7726447189527902,-0.8019616186281403,-0.8464414384585575,-0.9051142400181778,-0.9779621038146606,-1.063654647774674,-1.1609328529419078,-1.2678638818111483,-1.3813115245931173,-1.4974502990979992,-1.6131745868317071,-1.7300225002619312,-1.8380747864109874,-1.9389607393619404,-2.0178177255012173,-2.0593560264452306,-2.1538231900150944,-2.2205264274341703,-2.238979961885669,-2.2325335909744974,-2.2088609822115806,-2.1826250983019637,-2.139050279601196,-2.1032080654980962,-2.027434134144351,-1.9699916019931125,-1.9125813537258127,-1.8495265339842026,-1.781234853945019,-1.731732290146827,-1.670850687665359,-1.6321364191584173,-1.6052795845244034,-1.5687007008759586,-1.5352628440982994,-1.5457076937611844,-1.5102818724275586,-1.5406539234967023,-1.5861335001656052,-1.6023608740111008,-1.6636977182915207,-1.7629897110673534,4.354944136014827,3.867127897367782,2.7026589629880644,1.7960141078278309,1.0783362466267816,0.5027801452455297,0.04356255765576134,-0.31802183269652434,-0.599472004904787,-0.8064551646417043,-0.9518217252681503,-1.044710145120896,-1.0918072759659734,-1.1064992188365388,-1.0984758258937468,-1.0767195844347444,-1.0556377170680948,-1.040120104110363,-1.0377732762964125,-1.05010993014731,-1.0790998886765686,-1.123907830933828,-1.1851163593428868,-1.26058862153993,-1.349475364589345,-1.4474634915175812,-1.5562093525776879,-1.6708165186583557,-1.7922862832115072,-1.908362170348735,-2.029289575438373,-2.132021221830428,-2.2228515173052976,-2.3207372182823605,-2.292401582182257,-2.420051297112799,-2.503018444674179,-2.50644435980156,-2.4990653073599107,-2.482125335841157,-2.4462997850698853,-2.402661146687286,-2.3625891324870776,-2.273764577029157,-2.215573672143657,-2.149937608916711,-2.0832980575200244,-2.0191417108580434,-1.9586450299189462,-1.914531090990545,-1.8739856644914217,-1.816157205440148,-1.7946572234438831,-1.7667348330998889,-1.757587645384549,-1.7400521462562049,-1.7733799236376102,-1.7823949452627268,-1.8066295957956242,-1.953589360935213,-1.924590436157769],\"z\":[1.3316314690862612,1.162657643449228,0.9031514423378809,0.7050028756802602,0.54912656083534,0.42747420588338203,0.3306279457333882,0.2526017441240098,0.183048780028997,0.12277794266826775,0.06266475115254101,0.002918208906746723,-0.057577861991099356,-0.11712015400895573,-0.17369354665650386,-0.22532506419973292,-0.2699626517425112,-0.30591315011631803,-0.3332607765814326,-0.35152389772486675,-0.36115023005796903,-0.362425704212483,-0.35536460412972193,-0.3398363935668957,-0.31650658055238085,-0.28703955271419135,-0.2504671591332992,-0.20855333647255533,-0.16383674894566877,-0.11711692018765162,-0.0686621062936211,-0.01612674383843152,0.02754464497184882,0.07438734565232792,0.09519745290673456,0.14373447124631392,0.1884201314245853,0.21005457835812194,0.22813893071101143,0.24152984911039302,0.2523371891120026,0.2647854778055484,0.28034707529422553,0.2838086780765922,0.3035148202221738,0.33294348503543975,0.3712842131631338,0.42877552787369255,0.5060747587803186,0.6120290980754055,0.7508483206690798,0.9341987338004578,1.167974243402915,1.476637048547486,1.862405804418976,2.3701782174995345,3.001554824140195,3.824724530442168,4.79591514333923,6.088351746730164,7.7857650575914334,1.3353259159602302,1.1680984598625495,0.9100824854886336,0.7122812329773995,0.5574156048332889,0.4374454707383446,0.3432007613115172,0.268148333023566,0.20343300474727277,0.14724420162863402,0.09232964998480979,0.03777186079680502,-0.017583047322703958,-0.07476066365526285,-0.13029212771411153,-0.18257807510611113,-0.2281614245657145,-0.2660819999001047,-0.2949786185440412,-0.3142862306429126,-0.3241356323504175,-0.3247627945882995,-0.3162108675197124,-0.2988710564419983,-0.27343693366335203,-0.23994214735327277,-0.2001918827257033,-0.15557861606733694,-0.1079928549082586,-0.058601494229597866,-0.007984544900532475,0.042931697915196264,0.0933984203687488,0.13686587565110617,0.1686377300614175,0.21097507939164525,0.2558720139139572,0.2786649160415068,0.2947621867646366,0.30298738218902316,0.3112929527018695,0.319640140874903,0.3335968514744581,0.3347708436082153,0.3556031708970795,0.3860488302339737,0.43014765848145825,0.4937793435130021,0.5802090032530994,0.6962316187409714,0.8470794291488871,1.0438233928440022,1.3006975689960736,1.6272961350695252,2.0473392760230635,2.5806093191968102,3.2207208764961344,4.096545588384329,5.2024491518784535,6.512687499539785,8.096061370559543,1.370654417554946,1.2200944744943558,0.9635564148913841,0.7665150740438874,0.6127612365508146,0.49210290270545737,0.39731250613758606,0.32104505742034894,0.2550363033434988,0.19669624924937393,0.1406539995300685,0.08515191386797522,0.02785525909871234,-0.028645336482608672,-0.08272026905538224,-0.13212551407841847,-0.17443853198210316,-0.20889551213919744,-0.23304112297160243,-0.2472999443801193,-0.2513285376016026,-0.2455899364809423,-0.23060556674405566,-0.20638113775963488,-0.17380931943538247,-0.13374327438266856,-0.0874142750055269,-0.03642574903757102,0.017057349720258307,0.07154589029985235,0.12744796471014752,0.18015297891562151,0.2303096989108589,0.27080882884569524,0.2946237726037712,0.34516902986432696,0.3838220538723888,0.40120599807496016,0.40911726523551156,0.41184634913362433,0.41706944546725483,0.4187622757807357,0.43028193211773963,0.4304881732108627,0.4489003058277114,0.47841565725741597,0.5242855572104974,0.5824756003747356,0.6758903815081078,0.7944726215769558,0.9590110135365175,1.17447680952543,1.4447510071040133,1.7919139690028467,2.244696461593641,2.8145008570640497,3.520365638822554,4.424108036930237,5.573438080720508,6.961963215813065,8.717147963983825,1.8053370515926699,1.7188493689576134,1.465062385828737,1.270141730476369,1.1174952186069518,0.9988667812614442,0.905937984899105,0.8320218648641182,0.766946417054945,0.7104442648446659,0.6549530704497013,0.5999927431035452,0.5435560478745628,0.48756863445801,0.4334639018933379,0.382632783994397,0.3396933348696496,0.3051588931808685,0.28056043822441645,0.2664168137928702,0.2626759587045255,0.26907356846207486,0.2857490096519564,0.3116039301483176,0.3459929615438699,0.38661491696425404,0.4341821153731582,0.4859715947684562,0.5421924572798001,0.5970342403626079,0.6551062066224924,0.7054981360894824,0.7509927343493954,0.8009623698798193,0.7912705123411296,0.8581321068965928,0.9049428620844565,0.9156900583580606,0.9237541296654144,0.9302839965951942,0.9318402020893496,0.9345640746144713,0.9451189544005235,0.9413233847540423,0.9616905371743953,0.991584082566832,1.0371815512144509,1.1040157663479049,1.1977345884235295,1.327730776004477,1.4986403512280317,1.7164665780580277,2.004890249467816,2.3769746294962735,2.837710641449005,3.4460095671109743,4.1527303324027365,5.100478237288768,6.400388391310674,7.620065181114025,9.627822310671412],\"type\":\"scatter3d\"},{\"hovertemplate\":\"Sensor=Eletrodo 4<br>PC1=%{x}<br>PC2=%{y}<br>PC3=%{z}<extra></extra>\",\"legendgroup\":\"Eletrodo 4\",\"marker\":{\"color\":\"#19d3f3\",\"opacity\":0.4,\"symbol\":\"circle\"},\"mode\":\"markers\",\"name\":\"Eletrodo 4\",\"scene\":\"scene\",\"showlegend\":true,\"x\":[-5.301986722452407,-2.9428706237033118,-2.6271398739168546,-2.295057528546245,-2.013367782132005,-1.780215666717909,-1.5885449740177648,-1.429222956449364,-1.2922720104601737,-1.175584819900376,-1.071274982583283,-0.9773750115528431,-0.8918411253827364,-0.8127229541751961,-0.7403594189860643,-0.6746447520965505,-0.6150024177697717,-0.5617556931170598,-0.5133786979374867,-0.4699013919190195,-0.431284293989926,-0.3944262475831161,-0.35966979379700875,-0.3261127628834441,-0.2922667159221822,-0.25850680047738545,-0.22322094292622438,-0.18651039707688852,-0.1482442418979175,-0.10703476930812147,-0.06396479945099531,-0.01818989219456212,0.0300158270631989,0.08103442402588092,0.13698762862001881,0.19304883377842924,0.25376285211169064,0.31888037221422716,0.38794454736530326,0.46013836345496273,0.5367393863684774,0.6182246440519247,0.7039504702635451,0.7932667511685839,0.8878308113842468,0.9870626958504568,1.089999853963517,1.1968276263384503,1.3055517681565927,1.418851501818205,1.5353834205937518,1.6568581494710448,1.7798068440551764,1.9067157678025923,2.039306061372839,2.177162299547208,2.321148115382503,2.473192384031682,2.641140579023832,2.8201496099217436,3.026178228094442,-5.20722846729881,-2.9348796094289282,-2.6237495140880456,-2.293790835863572,-2.011807008053592,-1.7792549072677126,-1.587040940298049,-1.4293821334065209,-1.2929109760549546,-1.1762356809566437,-1.0726084660806288,-0.9792433178443818,-0.8941055892677896,-0.815223045508504,-0.7428506496243171,-0.6767488181363676,-0.6164769874491974,-0.5622782267041606,-0.5130336270700628,-0.46889387502050595,-0.4287184825092211,-0.3914259628910915,-0.3561273295845647,-0.32193500034664263,-0.2875363945882804,-0.2535083170362474,-0.21829322093184542,-0.18202612515804797,-0.14292399726776447,-0.10283252307951732,-0.05966941051025108,-0.01384713837338647,0.03320577037328256,0.08407129200789713,0.13613358736257414,0.19648125591482948,0.25757327934868224,0.32250260911923984,0.39113618823624197,0.4640006901870387,0.540731977156776,0.6224645045888204,0.7090583469003655,0.8005320361803008,0.8975180058144264,0.998598288088161,1.1042551599170631,1.2127223003123613,1.325053503278103,1.44324435914163,1.5650530540125522,1.6891878114995045,1.8180838901350826,1.9502696075104275,2.086435339567222,2.2294708799851732,2.377228586267337,2.5359368697802034,2.705294658509989,2.8912414177536165,3.0941419771080905,-5.107442411736944,-2.9394028636270355,-2.6296595896086874,-2.300112306443982,-2.018241103963462,-1.784720388675611,-1.593233581958394,-1.4349014468929904,-1.2980781930736542,-1.1821123254783488,-1.0781571165669257,-0.9853722537279853,-0.9003969419499435,-0.822133659220581,-0.7503479119787838,-0.6843336732633397,-0.6242526675450751,-0.570481773752216,-0.5216668023533344,-0.4778965252482901,-0.4384266554220833,-0.40157630703796027,-0.36667099391357805,-0.3330398668803133,-0.2999829956153071,-0.26601632990734037,-0.2312021292155514,-0.1954611339672637,-0.1583513879996183,-0.11785963262688127,-0.07557773746631788,-0.030564112625871366,0.016775834163837204,0.06725249922369554,0.1203332965224946,0.1779263977108761,0.23851091530222343,0.30327733422873965,0.372885473155085,0.44679266324792666,0.5244605109983895,0.6071319706666042,0.6954354086960308,0.7882387203109504,0.8861892163021876,0.9898407125481242,1.0987738174388375,1.2106431833136646,1.3282683838240315,1.4484665809864081,1.5738548515301702,1.7021520664127012,1.8341671987652266,1.9723874305567424,2.111868154380607,2.2571790601340442,2.4125948426156687,2.5716986134213395,2.7424919630542446,2.934450274152284,3.14275816805409,-5.424067494132089,-3.037101708151131,-2.7203285531852424,-2.3883718757534624,-2.1070765339797988,-1.874463772924148,-1.6830914885596693,-1.5250808964285092,-1.388186322605593,-1.2730802601482114,-1.1697277781025779,-1.0775947422223602,-0.9935318456014949,-0.9156277238847914,-0.8438668822117121,-0.7781599807426515,-0.7182764308183437,-0.6647997396036955,-0.616821091015737,-0.5742219896089376,-0.5356450010565533,-0.500561121863014,-0.46715920057452714,-0.4358175600786466,-0.4046320009297382,-0.37296975783148867,-0.34088559863065504,-0.3070771464158627,-0.27147025959571264,-0.23387948661685126,-0.19396967166500909,-0.15113226132101737,-0.10596085501847298,-0.057865691474931646,-0.00595899705893655,0.04901302124250127,0.10757795043646866,0.1711616074117882,0.23869308568416236,0.31038636059191815,0.38778208529917196,0.47062581476430465,0.5578345581421017,0.6525746356026063,0.7529346867901254,0.8583324317841123,0.9692024485586799,1.0870651157098172,1.2103861977859793,1.3392353664073915,1.4720119330192294,1.611126034677295,1.7521117123555852,1.8969497744800066,2.0485914572062347,2.206539939426126,2.372263342488115,2.545306553059726,2.7334153383333675,2.9318254257569594,3.1543462053784257],\"y\":[4.884064774092316,4.173152843158567,3.0341239325306795,2.1658604079440105,1.4890942218855232,0.9596250068669382,0.5474899816521087,0.23435612318237878,-0.005668857164663706,-0.17523348927506152,-0.2937400387710041,-0.3701048040918706,-0.41464807961970995,-0.43566013358088873,-0.4424606225309324,-0.44174453280084197,-0.43707242514366357,-0.4317988784318561,-0.4269134452491659,-0.42190069137476566,-0.4186284140906157,-0.41395609729864746,-0.4081890255013476,-0.401415883038043,-0.3920536308906346,-0.3810906660684948,-0.367608169067797,-0.35206266277714304,-0.33426181546667644,-0.31451430559655696,-0.2932686379268192,-0.2704006488766398,-0.2463501408571468,-0.22168375348208164,-0.19404031393952892,-0.1683954271840268,-0.14098659718188702,-0.1120010649126587,-0.08207787875177489,-0.05206613836768633,-0.02117029691060116,0.010590062703873736,0.04299503721659505,0.07531254122913784,0.10840801315919031,0.1418132069348074,0.17514765048573547,0.20795341355956865,0.2398033496192669,0.27110681351461746,0.3012729280092816,0.33076468814280413,0.3577461696339533,0.3826757420386016,0.40554849844110485,0.4262424020577229,0.444053299695578,0.45729943178562665,0.469256276744374,0.4753773413059327,0.4795344592780958,4.919667095693512,4.177507933052496,3.037339047692937,2.1669450864848967,1.4910546656933974,0.9606682556612235,0.5496645304549511,0.23326637706267395,-0.007743300313463343,-0.17733688866218356,-0.2972112311224559,-0.37448490234893206,-0.41965971091391385,-0.44080977035655317,-0.44726969816782286,-0.4456607888822701,-0.4398004080821085,-0.43303309135233586,-0.4269674385174409,-0.42115367298119566,-0.4162626503337986,-0.4111659018319049,-0.40525738344237877,-0.3980225206314119,-0.38860417185886265,-0.37798327460749853,-0.3646201218961343,-0.34989522146175833,-0.33169780446241426,-0.31331213404923924,-0.29226397553264905,-0.26965712842534334,-0.24688133961016054,-0.22235176310820673,-0.19777218127365165,-0.16863380890723992,-0.14112049340191868,-0.11223312254627578,-0.0825696506795035,-0.0520575728805819,-0.020977007831678607,0.010943565066894517,0.043671910018662566,0.07732609037314685,0.11165792086148474,0.1459501181508794,0.18055792765851067,0.21430143602175677,0.2476540107360273,0.2810535169459283,0.31347547066971015,0.34413592461145287,0.3736549119669587,0.40082680383910285,0.425617770306208,0.4489346343409142,0.46773643477348437,0.4845284699341896,0.49783794841295687,0.5074147934459762,0.5115202955314357,4.939094230773474,4.156850800917832,3.0170481012020245,2.146786571953648,1.471050147397866,0.9426768172493164,0.5304008234820757,0.2153455536358978,-0.025022166105102474,-0.19617787547702584,-0.31551212440142146,-0.39412424147167374,-0.43975923357417196,-0.46225796688968296,-0.46982455356389263,-0.4685194741135733,-0.463031602127548,-0.45708218330857425,-0.451499107690256,-0.4462584984462766,-0.44228044568031355,-0.4377255185703769,-0.43229462072016567,-0.4255828871657266,-0.41726873642069834,-0.4066749002518618,-0.3936492083930086,-0.37902148058475554,-0.3624510876792719,-0.3430409351578536,-0.3222474245279232,-0.29972017478235274,-0.2763583102162604,-0.25123526705944776,-0.22537264150380895,-0.19820175505735227,-0.17045054454159744,-0.14127763267889681,-0.11062645584821529,-0.07918243559465647,-0.04733732997094221,-0.014629696346182745,0.01928046292197957,0.053675366363649016,0.08867805110867995,0.1243569239987439,0.16038362652953275,0.19571601690473694,0.23122242102111581,0.2657248961522514,0.29961275872925025,0.3320814438820543,0.36276926627468126,0.39225230090073127,0.4190908786198654,0.442966340201805,0.4648977626934055,0.48205929252315133,0.49636022876734076,0.5086163439170396,0.5162549734964335,4.611400292965615,3.9107329260782766,2.7728479091835507,1.9045757189804486,1.2271903495248329,0.6967041747092806,0.28393483777699474,-0.031876564872126714,-0.2720828185279267,-0.4448222671517753,-0.5650998448772373,-0.6445655121630889,-0.6912746275059795,-0.7135657667589195,-0.7203046818802492,-0.7184479973053555,-0.7123440266268258,-0.7058601762049596,-0.7007211440991606,-0.6962370699683899,-0.692846749105342,-0.6896963161140071,-0.6853469771509586,-0.6803846020150701,-0.6733322340910594,-0.6640649304121775,-0.6527154954891076,-0.6387201563359861,-0.6222907380509446,-0.6039819377009144,-0.5834636112277009,-0.5606748700486931,-0.5376152717159626,-0.5127191655752115,-0.4861420091619608,-0.4586789536843517,-0.4306291343018175,-0.4006040300712988,-0.3697845470233825,-0.3383114746869793,-0.30537654269016595,-0.27148116385389653,-0.23716509682060846,-0.20083788092411137,-0.16408804636221203,-0.12694378718369928,-0.08936590608577792,-0.05088988961849531,-0.012542522440919688,0.0257308117242923,0.06286226651649185,0.09984363112654486,0.13421332566225072,0.16666853504833923,0.19718261495604195,0.22619281227621607,0.25317870596751085,0.2757095271999388,0.2962389821801869,0.311732566886567,0.32543875719339144],\"z\":[1.3265370379705768,1.15932404369421,0.8907692797143412,0.6780063219526078,0.5065700441568619,0.3667272500383344,0.2519014681202871,0.15529279855447894,0.07069829807635582,-0.0033491573697257268,-0.07122548864279056,-0.1333911752831417,-0.19018776020432446,-0.24206543873872732,-0.2879872399653164,-0.3278523936585992,-0.36225495903533633,-0.39156454417687575,-0.4172300355447835,-0.4396284433306368,-0.4592252318916286,-0.4775716505916789,-0.49453888794852785,-0.5106165801028486,-0.5263624049203464,-0.5416328530976202,-0.5570906049824785,-0.5726201963745154,-0.5880917418859354,-0.6042288798494212,-0.6203232743070729,-0.6366770552673742,-0.6530164955468807,-0.6696211760984405,-0.6865752714284062,-0.7030662307236311,-0.7200298696639019,-0.736991203962668,-0.753801462922285,-0.7702550308832166,-0.7865405511968976,-0.8026667621791927,-0.8183613843700566,-0.8329481831992143,-0.8470787002294627,-0.8597459993216024,-0.8711348664331247,-0.8788563469083687,-0.8835533389158868,-0.8838820567562866,-0.8786379155738961,-0.8667682041643869,-0.8457455529652788,-0.8132519103147886,-0.7672962783535725,-0.7053765070382626,-0.6221653880276465,-0.5143876755855045,-0.3687738074954403,-0.18862393438480798,0.04743606847504469,1.3380832601384571,1.1630031669260839,0.8936772675319374,0.6815269009426683,0.5096527912306109,0.370170307414608,0.2548246587371624,0.1596436840703682,0.07547602252238249,0.001441310810563174,-0.06584345473319048,-0.12760294998402089,-0.1841440297140284,-0.23594116681267752,-0.281991307638667,-0.322184457372315,-0.35699266256217504,-0.38677930359185275,-0.41280716886532237,-0.4354447315389604,-0.4556767083924662,-0.4741585365090376,-0.49134015798105163,-0.5076499866728406,-0.523618439707938,-0.539027164821562,-0.554374163005169,-0.5697281094873455,-0.5854981354788275,-0.6012651532922281,-0.6174249527397746,-0.6338274663530146,-0.6498947765656771,-0.6664535948165037,-0.6825386355041302,-0.6999234595828543,-0.7170352107686558,-0.733770375491187,-0.7504149900478795,-0.7668807840774743,-0.7831686420085674,-0.7991212634142558,-0.8147440341500132,-0.8295626141254552,-0.8440884111550736,-0.8572602364134686,-0.8683533668562577,-0.8762742169476582,-0.8817766945197478,-0.8838075472345033,-0.8806936895828114,-0.8699364601565036,-0.8515802649963967,-0.8209566774587165,-0.7784992572268495,-0.7184218497067627,-0.6402461153918774,-0.5312670030560055,-0.39543338735747646,-0.2135293667425662,0.0074424310333344795,1.3944933960631518,1.2117993567631848,0.9418129280319111,0.729449137358474,0.5574449352572083,0.41705052170654366,0.30223512432740496,0.20643892319048437,0.12196792329152431,0.04860235228373618,-0.018905609774108392,-0.08008692075126947,-0.13640873799920894,-0.1876559494951699,-0.23324287612444933,-0.2733318388225461,-0.30802157501391053,-0.3375893887778972,-0.3634282364912204,-0.38594500188688485,-0.4059092604040945,-0.4242454911207289,-0.4413150816772406,-0.45742121893006693,-0.4728744094219981,-0.4883125257211641,-0.5035920205260875,-0.5187823467689635,-0.533920136005103,-0.5498189977617459,-0.5656816132012741,-0.5818132192800812,-0.59803248617779,-0.6142501307432764,-0.6303376081305703,-0.647258473107596,-0.6639736773567646,-0.6805738175317109,-0.6971103512328701,-0.7135457792834748,-0.7295890916683235,-0.7453676666201319,-0.7609900595128541,-0.7756276166623335,-0.7892765853631584,-0.8027487791993395,-0.8135379680208888,-0.8229737363212448,-0.8284557984630169,-0.8307190457187961,-0.8277368311645902,-0.8174329431732758,-0.799649299826617,-0.7714953963714081,-0.7310135689601619,-0.6721840478751042,-0.5900021105269639,-0.48519506733995466,-0.35045521358197057,-0.17214185810835056,0.046902357826773156,1.8723360771984991,1.706926335004004,1.4380617102641093,1.225284074990816,1.0541080351675063,0.9147124464411002,0.8001667802337915,0.7047355771581505,0.6202084509396644,0.5475369683936964,0.4804085625601796,0.4195443711985761,0.3636045722735693,0.3121682674932167,0.26610353878319465,0.22567207918627336,0.19063029512664656,0.1608025274752856,0.1350498131289344,0.1128399036898891,0.09307959724925739,0.0754008994177173,0.05886706384382257,0.04366648295106584,0.028905926813248297,0.014340626444971537,3.8963611027698774e-05,-0.014533230842070055,-0.029275969117051805,-0.04427364640156751,-0.059398682058151485,-0.07476029043125745,-0.09036781066510265,-0.10592943548299504,-0.12177497150822131,-0.13727391057535238,-0.15301486840128364,-0.168610251167532,-0.18393018735279174,-0.19882165748765826,-0.21361181298409582,-0.22781010610860486,-0.24138728000909807,-0.2546614488191522,-0.2669202369835769,-0.2773912772311861,-0.28634171254961066,-0.2946953451733893,-0.2994815273153221,-0.30085269194786746,-0.2972477360821583,-0.2880788258286464,-0.2697308853669065,-0.23962571113033238,-0.19811340035628963,-0.1418896289503117,-0.06249908167943775,0.03767703938924534,0.17752450053904628,0.34596253465759597,0.5600058062501196],\"type\":\"scatter3d\"}],                        {\"template\":{\"data\":{\"histogram2dcontour\":[{\"type\":\"histogram2dcontour\",\"colorbar\":{\"outlinewidth\":0,\"ticks\":\"\"},\"colorscale\":[[0.0,\"#0d0887\"],[0.1111111111111111,\"#46039f\"],[0.2222222222222222,\"#7201a8\"],[0.3333333333333333,\"#9c179e\"],[0.4444444444444444,\"#bd3786\"],[0.5555555555555556,\"#d8576b\"],[0.6666666666666666,\"#ed7953\"],[0.7777777777777778,\"#fb9f3a\"],[0.8888888888888888,\"#fdca26\"],[1.0,\"#f0f921\"]]}],\"choropleth\":[{\"type\":\"choropleth\",\"colorbar\":{\"outlinewidth\":0,\"ticks\":\"\"}}],\"histogram2d\":[{\"type\":\"histogram2d\",\"colorbar\":{\"outlinewidth\":0,\"ticks\":\"\"},\"colorscale\":[[0.0,\"#0d0887\"],[0.1111111111111111,\"#46039f\"],[0.2222222222222222,\"#7201a8\"],[0.3333333333333333,\"#9c179e\"],[0.4444444444444444,\"#bd3786\"],[0.5555555555555556,\"#d8576b\"],[0.6666666666666666,\"#ed7953\"],[0.7777777777777778,\"#fb9f3a\"],[0.8888888888888888,\"#fdca26\"],[1.0,\"#f0f921\"]]}],\"heatmap\":[{\"type\":\"heatmap\",\"colorbar\":{\"outlinewidth\":0,\"ticks\":\"\"},\"colorscale\":[[0.0,\"#0d0887\"],[0.1111111111111111,\"#46039f\"],[0.2222222222222222,\"#7201a8\"],[0.3333333333333333,\"#9c179e\"],[0.4444444444444444,\"#bd3786\"],[0.5555555555555556,\"#d8576b\"],[0.6666666666666666,\"#ed7953\"],[0.7777777777777778,\"#fb9f3a\"],[0.8888888888888888,\"#fdca26\"],[1.0,\"#f0f921\"]]}],\"heatmapgl\":[{\"type\":\"heatmapgl\",\"colorbar\":{\"outlinewidth\":0,\"ticks\":\"\"},\"colorscale\":[[0.0,\"#0d0887\"],[0.1111111111111111,\"#46039f\"],[0.2222222222222222,\"#7201a8\"],[0.3333333333333333,\"#9c179e\"],[0.4444444444444444,\"#bd3786\"],[0.5555555555555556,\"#d8576b\"],[0.6666666666666666,\"#ed7953\"],[0.7777777777777778,\"#fb9f3a\"],[0.8888888888888888,\"#fdca26\"],[1.0,\"#f0f921\"]]}],\"contourcarpet\":[{\"type\":\"contourcarpet\",\"colorbar\":{\"outlinewidth\":0,\"ticks\":\"\"}}],\"contour\":[{\"type\":\"contour\",\"colorbar\":{\"outlinewidth\":0,\"ticks\":\"\"},\"colorscale\":[[0.0,\"#0d0887\"],[0.1111111111111111,\"#46039f\"],[0.2222222222222222,\"#7201a8\"],[0.3333333333333333,\"#9c179e\"],[0.4444444444444444,\"#bd3786\"],[0.5555555555555556,\"#d8576b\"],[0.6666666666666666,\"#ed7953\"],[0.7777777777777778,\"#fb9f3a\"],[0.8888888888888888,\"#fdca26\"],[1.0,\"#f0f921\"]]}],\"surface\":[{\"type\":\"surface\",\"colorbar\":{\"outlinewidth\":0,\"ticks\":\"\"},\"colorscale\":[[0.0,\"#0d0887\"],[0.1111111111111111,\"#46039f\"],[0.2222222222222222,\"#7201a8\"],[0.3333333333333333,\"#9c179e\"],[0.4444444444444444,\"#bd3786\"],[0.5555555555555556,\"#d8576b\"],[0.6666666666666666,\"#ed7953\"],[0.7777777777777778,\"#fb9f3a\"],[0.8888888888888888,\"#fdca26\"],[1.0,\"#f0f921\"]]}],\"mesh3d\":[{\"type\":\"mesh3d\",\"colorbar\":{\"outlinewidth\":0,\"ticks\":\"\"}}],\"scatter\":[{\"fillpattern\":{\"fillmode\":\"overlay\",\"size\":10,\"solidity\":0.2},\"type\":\"scatter\"}],\"parcoords\":[{\"type\":\"parcoords\",\"line\":{\"colorbar\":{\"outlinewidth\":0,\"ticks\":\"\"}}}],\"scatterpolargl\":[{\"type\":\"scatterpolargl\",\"marker\":{\"colorbar\":{\"outlinewidth\":0,\"ticks\":\"\"}}}],\"bar\":[{\"error_x\":{\"color\":\"#2a3f5f\"},\"error_y\":{\"color\":\"#2a3f5f\"},\"marker\":{\"line\":{\"color\":\"#E5ECF6\",\"width\":0.5},\"pattern\":{\"fillmode\":\"overlay\",\"size\":10,\"solidity\":0.2}},\"type\":\"bar\"}],\"scattergeo\":[{\"type\":\"scattergeo\",\"marker\":{\"colorbar\":{\"outlinewidth\":0,\"ticks\":\"\"}}}],\"scatterpolar\":[{\"type\":\"scatterpolar\",\"marker\":{\"colorbar\":{\"outlinewidth\":0,\"ticks\":\"\"}}}],\"histogram\":[{\"marker\":{\"pattern\":{\"fillmode\":\"overlay\",\"size\":10,\"solidity\":0.2}},\"type\":\"histogram\"}],\"scattergl\":[{\"type\":\"scattergl\",\"marker\":{\"colorbar\":{\"outlinewidth\":0,\"ticks\":\"\"}}}],\"scatter3d\":[{\"type\":\"scatter3d\",\"line\":{\"colorbar\":{\"outlinewidth\":0,\"ticks\":\"\"}},\"marker\":{\"colorbar\":{\"outlinewidth\":0,\"ticks\":\"\"}}}],\"scattermapbox\":[{\"type\":\"scattermapbox\",\"marker\":{\"colorbar\":{\"outlinewidth\":0,\"ticks\":\"\"}}}],\"scatterternary\":[{\"type\":\"scatterternary\",\"marker\":{\"colorbar\":{\"outlinewidth\":0,\"ticks\":\"\"}}}],\"scattercarpet\":[{\"type\":\"scattercarpet\",\"marker\":{\"colorbar\":{\"outlinewidth\":0,\"ticks\":\"\"}}}],\"carpet\":[{\"aaxis\":{\"endlinecolor\":\"#2a3f5f\",\"gridcolor\":\"white\",\"linecolor\":\"white\",\"minorgridcolor\":\"white\",\"startlinecolor\":\"#2a3f5f\"},\"baxis\":{\"endlinecolor\":\"#2a3f5f\",\"gridcolor\":\"white\",\"linecolor\":\"white\",\"minorgridcolor\":\"white\",\"startlinecolor\":\"#2a3f5f\"},\"type\":\"carpet\"}],\"table\":[{\"cells\":{\"fill\":{\"color\":\"#EBF0F8\"},\"line\":{\"color\":\"white\"}},\"header\":{\"fill\":{\"color\":\"#C8D4E3\"},\"line\":{\"color\":\"white\"}},\"type\":\"table\"}],\"barpolar\":[{\"marker\":{\"line\":{\"color\":\"#E5ECF6\",\"width\":0.5},\"pattern\":{\"fillmode\":\"overlay\",\"size\":10,\"solidity\":0.2}},\"type\":\"barpolar\"}],\"pie\":[{\"automargin\":true,\"type\":\"pie\"}]},\"layout\":{\"autotypenumbers\":\"strict\",\"colorway\":[\"#636efa\",\"#EF553B\",\"#00cc96\",\"#ab63fa\",\"#FFA15A\",\"#19d3f3\",\"#FF6692\",\"#B6E880\",\"#FF97FF\",\"#FECB52\"],\"font\":{\"color\":\"#2a3f5f\"},\"hovermode\":\"closest\",\"hoverlabel\":{\"align\":\"left\"},\"paper_bgcolor\":\"white\",\"plot_bgcolor\":\"#E5ECF6\",\"polar\":{\"bgcolor\":\"#E5ECF6\",\"angularaxis\":{\"gridcolor\":\"white\",\"linecolor\":\"white\",\"ticks\":\"\"},\"radialaxis\":{\"gridcolor\":\"white\",\"linecolor\":\"white\",\"ticks\":\"\"}},\"ternary\":{\"bgcolor\":\"#E5ECF6\",\"aaxis\":{\"gridcolor\":\"white\",\"linecolor\":\"white\",\"ticks\":\"\"},\"baxis\":{\"gridcolor\":\"white\",\"linecolor\":\"white\",\"ticks\":\"\"},\"caxis\":{\"gridcolor\":\"white\",\"linecolor\":\"white\",\"ticks\":\"\"}},\"coloraxis\":{\"colorbar\":{\"outlinewidth\":0,\"ticks\":\"\"}},\"colorscale\":{\"sequential\":[[0.0,\"#0d0887\"],[0.1111111111111111,\"#46039f\"],[0.2222222222222222,\"#7201a8\"],[0.3333333333333333,\"#9c179e\"],[0.4444444444444444,\"#bd3786\"],[0.5555555555555556,\"#d8576b\"],[0.6666666666666666,\"#ed7953\"],[0.7777777777777778,\"#fb9f3a\"],[0.8888888888888888,\"#fdca26\"],[1.0,\"#f0f921\"]],\"sequentialminus\":[[0.0,\"#0d0887\"],[0.1111111111111111,\"#46039f\"],[0.2222222222222222,\"#7201a8\"],[0.3333333333333333,\"#9c179e\"],[0.4444444444444444,\"#bd3786\"],[0.5555555555555556,\"#d8576b\"],[0.6666666666666666,\"#ed7953\"],[0.7777777777777778,\"#fb9f3a\"],[0.8888888888888888,\"#fdca26\"],[1.0,\"#f0f921\"]],\"diverging\":[[0,\"#8e0152\"],[0.1,\"#c51b7d\"],[0.2,\"#de77ae\"],[0.3,\"#f1b6da\"],[0.4,\"#fde0ef\"],[0.5,\"#f7f7f7\"],[0.6,\"#e6f5d0\"],[0.7,\"#b8e186\"],[0.8,\"#7fbc41\"],[0.9,\"#4d9221\"],[1,\"#276419\"]]},\"xaxis\":{\"gridcolor\":\"white\",\"linecolor\":\"white\",\"ticks\":\"\",\"title\":{\"standoff\":15},\"zerolinecolor\":\"white\",\"automargin\":true,\"zerolinewidth\":2},\"yaxis\":{\"gridcolor\":\"white\",\"linecolor\":\"white\",\"ticks\":\"\",\"title\":{\"standoff\":15},\"zerolinecolor\":\"white\",\"automargin\":true,\"zerolinewidth\":2},\"scene\":{\"xaxis\":{\"backgroundcolor\":\"#E5ECF6\",\"gridcolor\":\"white\",\"linecolor\":\"white\",\"showbackground\":true,\"ticks\":\"\",\"zerolinecolor\":\"white\",\"gridwidth\":2},\"yaxis\":{\"backgroundcolor\":\"#E5ECF6\",\"gridcolor\":\"white\",\"linecolor\":\"white\",\"showbackground\":true,\"ticks\":\"\",\"zerolinecolor\":\"white\",\"gridwidth\":2},\"zaxis\":{\"backgroundcolor\":\"#E5ECF6\",\"gridcolor\":\"white\",\"linecolor\":\"white\",\"showbackground\":true,\"ticks\":\"\",\"zerolinecolor\":\"white\",\"gridwidth\":2}},\"shapedefaults\":{\"line\":{\"color\":\"#2a3f5f\"}},\"annotationdefaults\":{\"arrowcolor\":\"#2a3f5f\",\"arrowhead\":0,\"arrowwidth\":1},\"geo\":{\"bgcolor\":\"white\",\"landcolor\":\"#E5ECF6\",\"subunitcolor\":\"white\",\"showland\":true,\"showlakes\":true,\"lakecolor\":\"white\"},\"title\":{\"x\":0.05},\"mapbox\":{\"style\":\"light\"}}},\"scene\":{\"domain\":{\"x\":[0.0,1.0],\"y\":[0.0,1.0]},\"xaxis\":{\"title\":{\"text\":\"PC1\"}},\"yaxis\":{\"title\":{\"text\":\"PC2\"}},\"zaxis\":{\"title\":{\"text\":\"PC3\"}}},\"legend\":{\"title\":{\"text\":\"Sensor\"},\"tracegroupgap\":0},\"margin\":{\"t\":0,\"l\":0,\"r\":0,\"b\":0}},                        {\"responsive\": true}                    ).then(function(){\n",
       "                            \n",
       "var gd = document.getElementById('276757af-052f-4063-9c12-19f590be7866');\n",
       "var x = new MutationObserver(function (mutations, observer) {{\n",
       "        var display = window.getComputedStyle(gd).display;\n",
       "        if (!display || display === 'none') {{\n",
       "            console.log([gd, 'removed!']);\n",
       "            Plotly.purge(gd);\n",
       "            observer.disconnect();\n",
       "        }}\n",
       "}});\n",
       "\n",
       "// Listen for the removal of the full notebook cells\n",
       "var notebookContainer = gd.closest('#notebook-container');\n",
       "if (notebookContainer) {{\n",
       "    x.observe(notebookContainer, {childList: true});\n",
       "}}\n",
       "\n",
       "// Listen for the clearing of the current output cell\n",
       "var outputEl = gd.closest('.output');\n",
       "if (outputEl) {{\n",
       "    x.observe(outputEl, {childList: true});\n",
       "}}\n",
       "\n",
       "                        })                };                });            </script>        </div>"
      ]
     },
     "metadata": {},
     "output_type": "display_data"
    }
   ],
   "source": [
    "# 4.1 Customize 3D Scatter Plot\n",
    "\n",
    "fig = px.scatter_3d(df_scores, x='PC1', y='PC2', z='PC3', color='Sensor', symbol='Sensor', opacity=0.4)\n",
    "\n",
    "# tight layout\n",
    "fig.update_layout(margin=dict(l=0, r=0, b=0, t=0)) # left, right, bottom, top with zero margin\n",
    "\n",
    "fig.show()\n",
    "\n",
    "# https://plotly.com/python/templates/\n",
    "# fig.update_layout(template='plotly_white')\n",
    "# plotly, plotly_white, plotly_dark, ggplot2, seaborn, simple_white, none"
   ]
  },
  {
   "cell_type": "code",
   "execution_count": 62,
   "id": "d021cd40",
   "metadata": {},
   "outputs": [
    {
     "data": {
      "application/vnd.plotly.v1+json": {
       "config": {
        "plotlyServerURL": "https://plot.ly"
       },
       "data": [
        {
         "hovertemplate": "PC1=%{x}<br>PC2=%{y}<br>PC3=%{z}<br>index=%{text}<extra></extra>",
         "legendgroup": "",
         "marker": {
          "color": "#636efa",
          "symbol": "circle"
         },
         "mode": "markers+text",
         "name": "",
         "scene": "scene",
         "showlegend": false,
         "text": [
          "Freq(Hz)",
          "Z'(a)",
          "Z''(b)",
          "antiHIVmicrog/ml",
          "antiHCVmicrog/ml",
          "FreqüênciaAngular",
          "CapacitânciaSérie",
          "col(tau)=col(w)*col(B)*col(Cs)",
          "CapacitânciaParalelo",
          "ResistênciaParalelo",
          "lossParalelo"
         ],
         "type": "scatter3d",
         "x": [
          -0.3145687188202992,
          0.37206584247067886,
          -0.1701492652317098,
          -0.036210354808711126,
          0.10137853515815264,
          -0.3145673587469676,
          0.5086717930189053,
          0.07054122662125212,
          0.38050210523032113,
          -0.1927041255494958,
          0.4212855889030842
         ],
         "y": [
          0.5556851172630048,
          0.08331199700273126,
          0.12355982618667853,
          -0.10122508769674762,
          0.1910415683375003,
          0.5556840248818326,
          0.20722817976439012,
          -0.03567019784239008,
          0.0781995567385829,
          -0.46052463420679807,
          0.22597346160911003
         ],
         "z": [
          0.19772114877233585,
          0.5347625241047201,
          -0.550091887328601,
          0.2116050200130746,
          -0.36499452077619976,
          0.1977216788253429,
          -0.046047650616921496,
          -0.02797626808863486,
          -0.2899523165796623,
          0.2254186954878995,
          0.1321127049105248
         ]
        }
       ],
       "layout": {
        "legend": {
         "tracegroupgap": 0
        },
        "margin": {
         "t": 60
        },
        "scene": {
         "domain": {
          "x": [
           0,
           1
          ],
          "y": [
           0,
           1
          ]
         },
         "xaxis": {
          "title": {
           "text": "PC1"
          }
         },
         "yaxis": {
          "title": {
           "text": "PC2"
          }
         },
         "zaxis": {
          "title": {
           "text": "PC3"
          }
         }
        },
        "template": {
         "data": {
          "bar": [
           {
            "error_x": {
             "color": "#2a3f5f"
            },
            "error_y": {
             "color": "#2a3f5f"
            },
            "marker": {
             "line": {
              "color": "#E5ECF6",
              "width": 0.5
             },
             "pattern": {
              "fillmode": "overlay",
              "size": 10,
              "solidity": 0.2
             }
            },
            "type": "bar"
           }
          ],
          "barpolar": [
           {
            "marker": {
             "line": {
              "color": "#E5ECF6",
              "width": 0.5
             },
             "pattern": {
              "fillmode": "overlay",
              "size": 10,
              "solidity": 0.2
             }
            },
            "type": "barpolar"
           }
          ],
          "carpet": [
           {
            "aaxis": {
             "endlinecolor": "#2a3f5f",
             "gridcolor": "white",
             "linecolor": "white",
             "minorgridcolor": "white",
             "startlinecolor": "#2a3f5f"
            },
            "baxis": {
             "endlinecolor": "#2a3f5f",
             "gridcolor": "white",
             "linecolor": "white",
             "minorgridcolor": "white",
             "startlinecolor": "#2a3f5f"
            },
            "type": "carpet"
           }
          ],
          "choropleth": [
           {
            "colorbar": {
             "outlinewidth": 0,
             "ticks": ""
            },
            "type": "choropleth"
           }
          ],
          "contour": [
           {
            "colorbar": {
             "outlinewidth": 0,
             "ticks": ""
            },
            "colorscale": [
             [
              0,
              "#0d0887"
             ],
             [
              0.1111111111111111,
              "#46039f"
             ],
             [
              0.2222222222222222,
              "#7201a8"
             ],
             [
              0.3333333333333333,
              "#9c179e"
             ],
             [
              0.4444444444444444,
              "#bd3786"
             ],
             [
              0.5555555555555556,
              "#d8576b"
             ],
             [
              0.6666666666666666,
              "#ed7953"
             ],
             [
              0.7777777777777778,
              "#fb9f3a"
             ],
             [
              0.8888888888888888,
              "#fdca26"
             ],
             [
              1,
              "#f0f921"
             ]
            ],
            "type": "contour"
           }
          ],
          "contourcarpet": [
           {
            "colorbar": {
             "outlinewidth": 0,
             "ticks": ""
            },
            "type": "contourcarpet"
           }
          ],
          "heatmap": [
           {
            "colorbar": {
             "outlinewidth": 0,
             "ticks": ""
            },
            "colorscale": [
             [
              0,
              "#0d0887"
             ],
             [
              0.1111111111111111,
              "#46039f"
             ],
             [
              0.2222222222222222,
              "#7201a8"
             ],
             [
              0.3333333333333333,
              "#9c179e"
             ],
             [
              0.4444444444444444,
              "#bd3786"
             ],
             [
              0.5555555555555556,
              "#d8576b"
             ],
             [
              0.6666666666666666,
              "#ed7953"
             ],
             [
              0.7777777777777778,
              "#fb9f3a"
             ],
             [
              0.8888888888888888,
              "#fdca26"
             ],
             [
              1,
              "#f0f921"
             ]
            ],
            "type": "heatmap"
           }
          ],
          "heatmapgl": [
           {
            "colorbar": {
             "outlinewidth": 0,
             "ticks": ""
            },
            "colorscale": [
             [
              0,
              "#0d0887"
             ],
             [
              0.1111111111111111,
              "#46039f"
             ],
             [
              0.2222222222222222,
              "#7201a8"
             ],
             [
              0.3333333333333333,
              "#9c179e"
             ],
             [
              0.4444444444444444,
              "#bd3786"
             ],
             [
              0.5555555555555556,
              "#d8576b"
             ],
             [
              0.6666666666666666,
              "#ed7953"
             ],
             [
              0.7777777777777778,
              "#fb9f3a"
             ],
             [
              0.8888888888888888,
              "#fdca26"
             ],
             [
              1,
              "#f0f921"
             ]
            ],
            "type": "heatmapgl"
           }
          ],
          "histogram": [
           {
            "marker": {
             "pattern": {
              "fillmode": "overlay",
              "size": 10,
              "solidity": 0.2
             }
            },
            "type": "histogram"
           }
          ],
          "histogram2d": [
           {
            "colorbar": {
             "outlinewidth": 0,
             "ticks": ""
            },
            "colorscale": [
             [
              0,
              "#0d0887"
             ],
             [
              0.1111111111111111,
              "#46039f"
             ],
             [
              0.2222222222222222,
              "#7201a8"
             ],
             [
              0.3333333333333333,
              "#9c179e"
             ],
             [
              0.4444444444444444,
              "#bd3786"
             ],
             [
              0.5555555555555556,
              "#d8576b"
             ],
             [
              0.6666666666666666,
              "#ed7953"
             ],
             [
              0.7777777777777778,
              "#fb9f3a"
             ],
             [
              0.8888888888888888,
              "#fdca26"
             ],
             [
              1,
              "#f0f921"
             ]
            ],
            "type": "histogram2d"
           }
          ],
          "histogram2dcontour": [
           {
            "colorbar": {
             "outlinewidth": 0,
             "ticks": ""
            },
            "colorscale": [
             [
              0,
              "#0d0887"
             ],
             [
              0.1111111111111111,
              "#46039f"
             ],
             [
              0.2222222222222222,
              "#7201a8"
             ],
             [
              0.3333333333333333,
              "#9c179e"
             ],
             [
              0.4444444444444444,
              "#bd3786"
             ],
             [
              0.5555555555555556,
              "#d8576b"
             ],
             [
              0.6666666666666666,
              "#ed7953"
             ],
             [
              0.7777777777777778,
              "#fb9f3a"
             ],
             [
              0.8888888888888888,
              "#fdca26"
             ],
             [
              1,
              "#f0f921"
             ]
            ],
            "type": "histogram2dcontour"
           }
          ],
          "mesh3d": [
           {
            "colorbar": {
             "outlinewidth": 0,
             "ticks": ""
            },
            "type": "mesh3d"
           }
          ],
          "parcoords": [
           {
            "line": {
             "colorbar": {
              "outlinewidth": 0,
              "ticks": ""
             }
            },
            "type": "parcoords"
           }
          ],
          "pie": [
           {
            "automargin": true,
            "type": "pie"
           }
          ],
          "scatter": [
           {
            "fillpattern": {
             "fillmode": "overlay",
             "size": 10,
             "solidity": 0.2
            },
            "type": "scatter"
           }
          ],
          "scatter3d": [
           {
            "line": {
             "colorbar": {
              "outlinewidth": 0,
              "ticks": ""
             }
            },
            "marker": {
             "colorbar": {
              "outlinewidth": 0,
              "ticks": ""
             }
            },
            "type": "scatter3d"
           }
          ],
          "scattercarpet": [
           {
            "marker": {
             "colorbar": {
              "outlinewidth": 0,
              "ticks": ""
             }
            },
            "type": "scattercarpet"
           }
          ],
          "scattergeo": [
           {
            "marker": {
             "colorbar": {
              "outlinewidth": 0,
              "ticks": ""
             }
            },
            "type": "scattergeo"
           }
          ],
          "scattergl": [
           {
            "marker": {
             "colorbar": {
              "outlinewidth": 0,
              "ticks": ""
             }
            },
            "type": "scattergl"
           }
          ],
          "scattermapbox": [
           {
            "marker": {
             "colorbar": {
              "outlinewidth": 0,
              "ticks": ""
             }
            },
            "type": "scattermapbox"
           }
          ],
          "scatterpolar": [
           {
            "marker": {
             "colorbar": {
              "outlinewidth": 0,
              "ticks": ""
             }
            },
            "type": "scatterpolar"
           }
          ],
          "scatterpolargl": [
           {
            "marker": {
             "colorbar": {
              "outlinewidth": 0,
              "ticks": ""
             }
            },
            "type": "scatterpolargl"
           }
          ],
          "scatterternary": [
           {
            "marker": {
             "colorbar": {
              "outlinewidth": 0,
              "ticks": ""
             }
            },
            "type": "scatterternary"
           }
          ],
          "surface": [
           {
            "colorbar": {
             "outlinewidth": 0,
             "ticks": ""
            },
            "colorscale": [
             [
              0,
              "#0d0887"
             ],
             [
              0.1111111111111111,
              "#46039f"
             ],
             [
              0.2222222222222222,
              "#7201a8"
             ],
             [
              0.3333333333333333,
              "#9c179e"
             ],
             [
              0.4444444444444444,
              "#bd3786"
             ],
             [
              0.5555555555555556,
              "#d8576b"
             ],
             [
              0.6666666666666666,
              "#ed7953"
             ],
             [
              0.7777777777777778,
              "#fb9f3a"
             ],
             [
              0.8888888888888888,
              "#fdca26"
             ],
             [
              1,
              "#f0f921"
             ]
            ],
            "type": "surface"
           }
          ],
          "table": [
           {
            "cells": {
             "fill": {
              "color": "#EBF0F8"
             },
             "line": {
              "color": "white"
             }
            },
            "header": {
             "fill": {
              "color": "#C8D4E3"
             },
             "line": {
              "color": "white"
             }
            },
            "type": "table"
           }
          ]
         },
         "layout": {
          "annotationdefaults": {
           "arrowcolor": "#2a3f5f",
           "arrowhead": 0,
           "arrowwidth": 1
          },
          "autotypenumbers": "strict",
          "coloraxis": {
           "colorbar": {
            "outlinewidth": 0,
            "ticks": ""
           }
          },
          "colorscale": {
           "diverging": [
            [
             0,
             "#8e0152"
            ],
            [
             0.1,
             "#c51b7d"
            ],
            [
             0.2,
             "#de77ae"
            ],
            [
             0.3,
             "#f1b6da"
            ],
            [
             0.4,
             "#fde0ef"
            ],
            [
             0.5,
             "#f7f7f7"
            ],
            [
             0.6,
             "#e6f5d0"
            ],
            [
             0.7,
             "#b8e186"
            ],
            [
             0.8,
             "#7fbc41"
            ],
            [
             0.9,
             "#4d9221"
            ],
            [
             1,
             "#276419"
            ]
           ],
           "sequential": [
            [
             0,
             "#0d0887"
            ],
            [
             0.1111111111111111,
             "#46039f"
            ],
            [
             0.2222222222222222,
             "#7201a8"
            ],
            [
             0.3333333333333333,
             "#9c179e"
            ],
            [
             0.4444444444444444,
             "#bd3786"
            ],
            [
             0.5555555555555556,
             "#d8576b"
            ],
            [
             0.6666666666666666,
             "#ed7953"
            ],
            [
             0.7777777777777778,
             "#fb9f3a"
            ],
            [
             0.8888888888888888,
             "#fdca26"
            ],
            [
             1,
             "#f0f921"
            ]
           ],
           "sequentialminus": [
            [
             0,
             "#0d0887"
            ],
            [
             0.1111111111111111,
             "#46039f"
            ],
            [
             0.2222222222222222,
             "#7201a8"
            ],
            [
             0.3333333333333333,
             "#9c179e"
            ],
            [
             0.4444444444444444,
             "#bd3786"
            ],
            [
             0.5555555555555556,
             "#d8576b"
            ],
            [
             0.6666666666666666,
             "#ed7953"
            ],
            [
             0.7777777777777778,
             "#fb9f3a"
            ],
            [
             0.8888888888888888,
             "#fdca26"
            ],
            [
             1,
             "#f0f921"
            ]
           ]
          },
          "colorway": [
           "#636efa",
           "#EF553B",
           "#00cc96",
           "#ab63fa",
           "#FFA15A",
           "#19d3f3",
           "#FF6692",
           "#B6E880",
           "#FF97FF",
           "#FECB52"
          ],
          "font": {
           "color": "#2a3f5f"
          },
          "geo": {
           "bgcolor": "white",
           "lakecolor": "white",
           "landcolor": "#E5ECF6",
           "showlakes": true,
           "showland": true,
           "subunitcolor": "white"
          },
          "hoverlabel": {
           "align": "left"
          },
          "hovermode": "closest",
          "mapbox": {
           "style": "light"
          },
          "paper_bgcolor": "white",
          "plot_bgcolor": "#E5ECF6",
          "polar": {
           "angularaxis": {
            "gridcolor": "white",
            "linecolor": "white",
            "ticks": ""
           },
           "bgcolor": "#E5ECF6",
           "radialaxis": {
            "gridcolor": "white",
            "linecolor": "white",
            "ticks": ""
           }
          },
          "scene": {
           "xaxis": {
            "backgroundcolor": "#E5ECF6",
            "gridcolor": "white",
            "gridwidth": 2,
            "linecolor": "white",
            "showbackground": true,
            "ticks": "",
            "zerolinecolor": "white"
           },
           "yaxis": {
            "backgroundcolor": "#E5ECF6",
            "gridcolor": "white",
            "gridwidth": 2,
            "linecolor": "white",
            "showbackground": true,
            "ticks": "",
            "zerolinecolor": "white"
           },
           "zaxis": {
            "backgroundcolor": "#E5ECF6",
            "gridcolor": "white",
            "gridwidth": 2,
            "linecolor": "white",
            "showbackground": true,
            "ticks": "",
            "zerolinecolor": "white"
           }
          },
          "shapedefaults": {
           "line": {
            "color": "#2a3f5f"
           }
          },
          "ternary": {
           "aaxis": {
            "gridcolor": "white",
            "linecolor": "white",
            "ticks": ""
           },
           "baxis": {
            "gridcolor": "white",
            "linecolor": "white",
            "ticks": ""
           },
           "bgcolor": "#E5ECF6",
           "caxis": {
            "gridcolor": "white",
            "linecolor": "white",
            "ticks": ""
           }
          },
          "title": {
           "x": 0.05
          },
          "xaxis": {
           "automargin": true,
           "gridcolor": "white",
           "linecolor": "white",
           "ticks": "",
           "title": {
            "standoff": 15
           },
           "zerolinecolor": "white",
           "zerolinewidth": 2
          },
          "yaxis": {
           "automargin": true,
           "gridcolor": "white",
           "linecolor": "white",
           "ticks": "",
           "title": {
            "standoff": 15
           },
           "zerolinecolor": "white",
           "zerolinewidth": 2
          }
         }
        }
       }
      },
      "text/html": [
       "<div>                            <div id=\"9bcd2f44-2c12-4b65-8c41-81a925157ccb\" class=\"plotly-graph-div\" style=\"height:525px; width:100%;\"></div>            <script type=\"text/javascript\">                require([\"plotly\"], function(Plotly) {                    window.PLOTLYENV=window.PLOTLYENV || {};                                    if (document.getElementById(\"9bcd2f44-2c12-4b65-8c41-81a925157ccb\")) {                    Plotly.newPlot(                        \"9bcd2f44-2c12-4b65-8c41-81a925157ccb\",                        [{\"hovertemplate\":\"PC1=%{x}<br>PC2=%{y}<br>PC3=%{z}<br>index=%{text}<extra></extra>\",\"legendgroup\":\"\",\"marker\":{\"color\":\"#636efa\",\"symbol\":\"circle\"},\"mode\":\"markers+text\",\"name\":\"\",\"scene\":\"scene\",\"showlegend\":false,\"text\":[\"Freq(Hz)\",\"Z'(a)\",\"Z''(b)\",\"antiHIVmicrog/ml\",\"antiHCVmicrog/ml\",\"Freq\\u00fc\\u00eanciaAngular\",\"Capacit\\u00e2nciaS\\u00e9rie\",\"col(tau)=col(w)*col(B)*col(Cs)\",\"Capacit\\u00e2nciaParalelo\",\"Resist\\u00eanciaParalelo\",\"lossParalelo\"],\"x\":[-0.3145687188202992,0.37206584247067886,-0.1701492652317098,-0.036210354808711126,0.10137853515815264,-0.3145673587469676,0.5086717930189053,0.07054122662125212,0.38050210523032113,-0.1927041255494958,0.4212855889030842],\"y\":[0.5556851172630048,0.08331199700273126,0.12355982618667853,-0.10122508769674762,0.1910415683375003,0.5556840248818326,0.20722817976439012,-0.03567019784239008,0.0781995567385829,-0.46052463420679807,0.22597346160911003],\"z\":[0.19772114877233585,0.5347625241047201,-0.550091887328601,0.2116050200130746,-0.36499452077619976,0.1977216788253429,-0.046047650616921496,-0.02797626808863486,-0.2899523165796623,0.2254186954878995,0.1321127049105248],\"type\":\"scatter3d\"}],                        {\"template\":{\"data\":{\"histogram2dcontour\":[{\"type\":\"histogram2dcontour\",\"colorbar\":{\"outlinewidth\":0,\"ticks\":\"\"},\"colorscale\":[[0.0,\"#0d0887\"],[0.1111111111111111,\"#46039f\"],[0.2222222222222222,\"#7201a8\"],[0.3333333333333333,\"#9c179e\"],[0.4444444444444444,\"#bd3786\"],[0.5555555555555556,\"#d8576b\"],[0.6666666666666666,\"#ed7953\"],[0.7777777777777778,\"#fb9f3a\"],[0.8888888888888888,\"#fdca26\"],[1.0,\"#f0f921\"]]}],\"choropleth\":[{\"type\":\"choropleth\",\"colorbar\":{\"outlinewidth\":0,\"ticks\":\"\"}}],\"histogram2d\":[{\"type\":\"histogram2d\",\"colorbar\":{\"outlinewidth\":0,\"ticks\":\"\"},\"colorscale\":[[0.0,\"#0d0887\"],[0.1111111111111111,\"#46039f\"],[0.2222222222222222,\"#7201a8\"],[0.3333333333333333,\"#9c179e\"],[0.4444444444444444,\"#bd3786\"],[0.5555555555555556,\"#d8576b\"],[0.6666666666666666,\"#ed7953\"],[0.7777777777777778,\"#fb9f3a\"],[0.8888888888888888,\"#fdca26\"],[1.0,\"#f0f921\"]]}],\"heatmap\":[{\"type\":\"heatmap\",\"colorbar\":{\"outlinewidth\":0,\"ticks\":\"\"},\"colorscale\":[[0.0,\"#0d0887\"],[0.1111111111111111,\"#46039f\"],[0.2222222222222222,\"#7201a8\"],[0.3333333333333333,\"#9c179e\"],[0.4444444444444444,\"#bd3786\"],[0.5555555555555556,\"#d8576b\"],[0.6666666666666666,\"#ed7953\"],[0.7777777777777778,\"#fb9f3a\"],[0.8888888888888888,\"#fdca26\"],[1.0,\"#f0f921\"]]}],\"heatmapgl\":[{\"type\":\"heatmapgl\",\"colorbar\":{\"outlinewidth\":0,\"ticks\":\"\"},\"colorscale\":[[0.0,\"#0d0887\"],[0.1111111111111111,\"#46039f\"],[0.2222222222222222,\"#7201a8\"],[0.3333333333333333,\"#9c179e\"],[0.4444444444444444,\"#bd3786\"],[0.5555555555555556,\"#d8576b\"],[0.6666666666666666,\"#ed7953\"],[0.7777777777777778,\"#fb9f3a\"],[0.8888888888888888,\"#fdca26\"],[1.0,\"#f0f921\"]]}],\"contourcarpet\":[{\"type\":\"contourcarpet\",\"colorbar\":{\"outlinewidth\":0,\"ticks\":\"\"}}],\"contour\":[{\"type\":\"contour\",\"colorbar\":{\"outlinewidth\":0,\"ticks\":\"\"},\"colorscale\":[[0.0,\"#0d0887\"],[0.1111111111111111,\"#46039f\"],[0.2222222222222222,\"#7201a8\"],[0.3333333333333333,\"#9c179e\"],[0.4444444444444444,\"#bd3786\"],[0.5555555555555556,\"#d8576b\"],[0.6666666666666666,\"#ed7953\"],[0.7777777777777778,\"#fb9f3a\"],[0.8888888888888888,\"#fdca26\"],[1.0,\"#f0f921\"]]}],\"surface\":[{\"type\":\"surface\",\"colorbar\":{\"outlinewidth\":0,\"ticks\":\"\"},\"colorscale\":[[0.0,\"#0d0887\"],[0.1111111111111111,\"#46039f\"],[0.2222222222222222,\"#7201a8\"],[0.3333333333333333,\"#9c179e\"],[0.4444444444444444,\"#bd3786\"],[0.5555555555555556,\"#d8576b\"],[0.6666666666666666,\"#ed7953\"],[0.7777777777777778,\"#fb9f3a\"],[0.8888888888888888,\"#fdca26\"],[1.0,\"#f0f921\"]]}],\"mesh3d\":[{\"type\":\"mesh3d\",\"colorbar\":{\"outlinewidth\":0,\"ticks\":\"\"}}],\"scatter\":[{\"fillpattern\":{\"fillmode\":\"overlay\",\"size\":10,\"solidity\":0.2},\"type\":\"scatter\"}],\"parcoords\":[{\"type\":\"parcoords\",\"line\":{\"colorbar\":{\"outlinewidth\":0,\"ticks\":\"\"}}}],\"scatterpolargl\":[{\"type\":\"scatterpolargl\",\"marker\":{\"colorbar\":{\"outlinewidth\":0,\"ticks\":\"\"}}}],\"bar\":[{\"error_x\":{\"color\":\"#2a3f5f\"},\"error_y\":{\"color\":\"#2a3f5f\"},\"marker\":{\"line\":{\"color\":\"#E5ECF6\",\"width\":0.5},\"pattern\":{\"fillmode\":\"overlay\",\"size\":10,\"solidity\":0.2}},\"type\":\"bar\"}],\"scattergeo\":[{\"type\":\"scattergeo\",\"marker\":{\"colorbar\":{\"outlinewidth\":0,\"ticks\":\"\"}}}],\"scatterpolar\":[{\"type\":\"scatterpolar\",\"marker\":{\"colorbar\":{\"outlinewidth\":0,\"ticks\":\"\"}}}],\"histogram\":[{\"marker\":{\"pattern\":{\"fillmode\":\"overlay\",\"size\":10,\"solidity\":0.2}},\"type\":\"histogram\"}],\"scattergl\":[{\"type\":\"scattergl\",\"marker\":{\"colorbar\":{\"outlinewidth\":0,\"ticks\":\"\"}}}],\"scatter3d\":[{\"type\":\"scatter3d\",\"line\":{\"colorbar\":{\"outlinewidth\":0,\"ticks\":\"\"}},\"marker\":{\"colorbar\":{\"outlinewidth\":0,\"ticks\":\"\"}}}],\"scattermapbox\":[{\"type\":\"scattermapbox\",\"marker\":{\"colorbar\":{\"outlinewidth\":0,\"ticks\":\"\"}}}],\"scatterternary\":[{\"type\":\"scatterternary\",\"marker\":{\"colorbar\":{\"outlinewidth\":0,\"ticks\":\"\"}}}],\"scattercarpet\":[{\"type\":\"scattercarpet\",\"marker\":{\"colorbar\":{\"outlinewidth\":0,\"ticks\":\"\"}}}],\"carpet\":[{\"aaxis\":{\"endlinecolor\":\"#2a3f5f\",\"gridcolor\":\"white\",\"linecolor\":\"white\",\"minorgridcolor\":\"white\",\"startlinecolor\":\"#2a3f5f\"},\"baxis\":{\"endlinecolor\":\"#2a3f5f\",\"gridcolor\":\"white\",\"linecolor\":\"white\",\"minorgridcolor\":\"white\",\"startlinecolor\":\"#2a3f5f\"},\"type\":\"carpet\"}],\"table\":[{\"cells\":{\"fill\":{\"color\":\"#EBF0F8\"},\"line\":{\"color\":\"white\"}},\"header\":{\"fill\":{\"color\":\"#C8D4E3\"},\"line\":{\"color\":\"white\"}},\"type\":\"table\"}],\"barpolar\":[{\"marker\":{\"line\":{\"color\":\"#E5ECF6\",\"width\":0.5},\"pattern\":{\"fillmode\":\"overlay\",\"size\":10,\"solidity\":0.2}},\"type\":\"barpolar\"}],\"pie\":[{\"automargin\":true,\"type\":\"pie\"}]},\"layout\":{\"autotypenumbers\":\"strict\",\"colorway\":[\"#636efa\",\"#EF553B\",\"#00cc96\",\"#ab63fa\",\"#FFA15A\",\"#19d3f3\",\"#FF6692\",\"#B6E880\",\"#FF97FF\",\"#FECB52\"],\"font\":{\"color\":\"#2a3f5f\"},\"hovermode\":\"closest\",\"hoverlabel\":{\"align\":\"left\"},\"paper_bgcolor\":\"white\",\"plot_bgcolor\":\"#E5ECF6\",\"polar\":{\"bgcolor\":\"#E5ECF6\",\"angularaxis\":{\"gridcolor\":\"white\",\"linecolor\":\"white\",\"ticks\":\"\"},\"radialaxis\":{\"gridcolor\":\"white\",\"linecolor\":\"white\",\"ticks\":\"\"}},\"ternary\":{\"bgcolor\":\"#E5ECF6\",\"aaxis\":{\"gridcolor\":\"white\",\"linecolor\":\"white\",\"ticks\":\"\"},\"baxis\":{\"gridcolor\":\"white\",\"linecolor\":\"white\",\"ticks\":\"\"},\"caxis\":{\"gridcolor\":\"white\",\"linecolor\":\"white\",\"ticks\":\"\"}},\"coloraxis\":{\"colorbar\":{\"outlinewidth\":0,\"ticks\":\"\"}},\"colorscale\":{\"sequential\":[[0.0,\"#0d0887\"],[0.1111111111111111,\"#46039f\"],[0.2222222222222222,\"#7201a8\"],[0.3333333333333333,\"#9c179e\"],[0.4444444444444444,\"#bd3786\"],[0.5555555555555556,\"#d8576b\"],[0.6666666666666666,\"#ed7953\"],[0.7777777777777778,\"#fb9f3a\"],[0.8888888888888888,\"#fdca26\"],[1.0,\"#f0f921\"]],\"sequentialminus\":[[0.0,\"#0d0887\"],[0.1111111111111111,\"#46039f\"],[0.2222222222222222,\"#7201a8\"],[0.3333333333333333,\"#9c179e\"],[0.4444444444444444,\"#bd3786\"],[0.5555555555555556,\"#d8576b\"],[0.6666666666666666,\"#ed7953\"],[0.7777777777777778,\"#fb9f3a\"],[0.8888888888888888,\"#fdca26\"],[1.0,\"#f0f921\"]],\"diverging\":[[0,\"#8e0152\"],[0.1,\"#c51b7d\"],[0.2,\"#de77ae\"],[0.3,\"#f1b6da\"],[0.4,\"#fde0ef\"],[0.5,\"#f7f7f7\"],[0.6,\"#e6f5d0\"],[0.7,\"#b8e186\"],[0.8,\"#7fbc41\"],[0.9,\"#4d9221\"],[1,\"#276419\"]]},\"xaxis\":{\"gridcolor\":\"white\",\"linecolor\":\"white\",\"ticks\":\"\",\"title\":{\"standoff\":15},\"zerolinecolor\":\"white\",\"automargin\":true,\"zerolinewidth\":2},\"yaxis\":{\"gridcolor\":\"white\",\"linecolor\":\"white\",\"ticks\":\"\",\"title\":{\"standoff\":15},\"zerolinecolor\":\"white\",\"automargin\":true,\"zerolinewidth\":2},\"scene\":{\"xaxis\":{\"backgroundcolor\":\"#E5ECF6\",\"gridcolor\":\"white\",\"linecolor\":\"white\",\"showbackground\":true,\"ticks\":\"\",\"zerolinecolor\":\"white\",\"gridwidth\":2},\"yaxis\":{\"backgroundcolor\":\"#E5ECF6\",\"gridcolor\":\"white\",\"linecolor\":\"white\",\"showbackground\":true,\"ticks\":\"\",\"zerolinecolor\":\"white\",\"gridwidth\":2},\"zaxis\":{\"backgroundcolor\":\"#E5ECF6\",\"gridcolor\":\"white\",\"linecolor\":\"white\",\"showbackground\":true,\"ticks\":\"\",\"zerolinecolor\":\"white\",\"gridwidth\":2}},\"shapedefaults\":{\"line\":{\"color\":\"#2a3f5f\"}},\"annotationdefaults\":{\"arrowcolor\":\"#2a3f5f\",\"arrowhead\":0,\"arrowwidth\":1},\"geo\":{\"bgcolor\":\"white\",\"landcolor\":\"#E5ECF6\",\"subunitcolor\":\"white\",\"showland\":true,\"showlakes\":true,\"lakecolor\":\"white\"},\"title\":{\"x\":0.05},\"mapbox\":{\"style\":\"light\"}}},\"scene\":{\"domain\":{\"x\":[0.0,1.0],\"y\":[0.0,1.0]},\"xaxis\":{\"title\":{\"text\":\"PC1\"}},\"yaxis\":{\"title\":{\"text\":\"PC2\"}},\"zaxis\":{\"title\":{\"text\":\"PC3\"}}},\"legend\":{\"tracegroupgap\":0},\"margin\":{\"t\":60}},                        {\"responsive\": true}                    ).then(function(){\n",
       "                            \n",
       "var gd = document.getElementById('9bcd2f44-2c12-4b65-8c41-81a925157ccb');\n",
       "var x = new MutationObserver(function (mutations, observer) {{\n",
       "        var display = window.getComputedStyle(gd).display;\n",
       "        if (!display || display === 'none') {{\n",
       "            console.log([gd, 'removed!']);\n",
       "            Plotly.purge(gd);\n",
       "            observer.disconnect();\n",
       "        }}\n",
       "}});\n",
       "\n",
       "// Listen for the removal of the full notebook cells\n",
       "var notebookContainer = gd.closest('#notebook-container');\n",
       "if (notebookContainer) {{\n",
       "    x.observe(notebookContainer, {childList: true});\n",
       "}}\n",
       "\n",
       "// Listen for the clearing of the current output cell\n",
       "var outputEl = gd.closest('.output');\n",
       "if (outputEl) {{\n",
       "    x.observe(outputEl, {childList: true});\n",
       "}}\n",
       "\n",
       "                        })                };                });            </script>        </div>"
      ]
     },
     "metadata": {},
     "output_type": "display_data"
    }
   ],
   "source": [
    "# 5. Loadings Plot\n",
    "\n",
    "loadings_label = df_loadings.index\n",
    "# loadings_label = df_loadings.index.str.strip(' (cm)')\n",
    "\n",
    "fig = px.scatter_3d(df_loadings, x='PC1', y='PC2', z='PC3', text=loadings_label)\n",
    "fig.show()"
   ]
  },
  {
   "cell_type": "code",
   "execution_count": 63,
   "id": "23f02a93",
   "metadata": {},
   "outputs": [
    {
     "data": {
      "text/plain": [
       "Index(['Freq(Hz)', 'Z'(a)', 'Z''(b)', 'antiHIVmicrog/ml', 'antiHCVmicrog/ml',\n",
       "       'FreqüênciaAngular', 'CapacitânciaSérie',\n",
       "       'col(tau)=col(w)*col(B)*col(Cs)', 'CapacitânciaParalelo',\n",
       "       'ResistênciaParalelo', 'lossParalelo'],\n",
       "      dtype='object')"
      ]
     },
     "execution_count": 63,
     "metadata": {},
     "output_type": "execute_result"
    }
   ],
   "source": [
    "loadings_label"
   ]
  },
  {
   "cell_type": "code",
   "execution_count": 64,
   "id": "2a29975b",
   "metadata": {},
   "outputs": [
    {
     "data": {
      "text/html": [
       "<div>\n",
       "<style scoped>\n",
       "    .dataframe tbody tr th:only-of-type {\n",
       "        vertical-align: middle;\n",
       "    }\n",
       "\n",
       "    .dataframe tbody tr th {\n",
       "        vertical-align: top;\n",
       "    }\n",
       "\n",
       "    .dataframe thead th {\n",
       "        text-align: right;\n",
       "    }\n",
       "</style>\n",
       "<table border=\"1\" class=\"dataframe\">\n",
       "  <thead>\n",
       "    <tr style=\"text-align: right;\">\n",
       "      <th></th>\n",
       "      <th>PC1</th>\n",
       "      <th>PC2</th>\n",
       "      <th>PC3</th>\n",
       "    </tr>\n",
       "  </thead>\n",
       "  <tbody>\n",
       "    <tr>\n",
       "      <th>Freq(Hz)</th>\n",
       "      <td>-0.314569</td>\n",
       "      <td>0.555685</td>\n",
       "      <td>0.197721</td>\n",
       "    </tr>\n",
       "    <tr>\n",
       "      <th>Z'(a)</th>\n",
       "      <td>0.372066</td>\n",
       "      <td>0.083312</td>\n",
       "      <td>0.534763</td>\n",
       "    </tr>\n",
       "    <tr>\n",
       "      <th>Z''(b)</th>\n",
       "      <td>-0.170149</td>\n",
       "      <td>0.123560</td>\n",
       "      <td>-0.550092</td>\n",
       "    </tr>\n",
       "    <tr>\n",
       "      <th>antiHIVmicrog/ml</th>\n",
       "      <td>-0.036210</td>\n",
       "      <td>-0.101225</td>\n",
       "      <td>0.211605</td>\n",
       "    </tr>\n",
       "    <tr>\n",
       "      <th>antiHCVmicrog/ml</th>\n",
       "      <td>0.101379</td>\n",
       "      <td>0.191042</td>\n",
       "      <td>-0.364995</td>\n",
       "    </tr>\n",
       "    <tr>\n",
       "      <th>FreqüênciaAngular</th>\n",
       "      <td>-0.314567</td>\n",
       "      <td>0.555684</td>\n",
       "      <td>0.197722</td>\n",
       "    </tr>\n",
       "    <tr>\n",
       "      <th>CapacitânciaSérie</th>\n",
       "      <td>0.508672</td>\n",
       "      <td>0.207228</td>\n",
       "      <td>-0.046048</td>\n",
       "    </tr>\n",
       "    <tr>\n",
       "      <th>col(tau)=col(w)*col(B)*col(Cs)</th>\n",
       "      <td>0.070541</td>\n",
       "      <td>-0.035670</td>\n",
       "      <td>-0.027976</td>\n",
       "    </tr>\n",
       "    <tr>\n",
       "      <th>CapacitânciaParalelo</th>\n",
       "      <td>0.380502</td>\n",
       "      <td>0.078200</td>\n",
       "      <td>-0.289952</td>\n",
       "    </tr>\n",
       "    <tr>\n",
       "      <th>ResistênciaParalelo</th>\n",
       "      <td>-0.192704</td>\n",
       "      <td>-0.460525</td>\n",
       "      <td>0.225419</td>\n",
       "    </tr>\n",
       "    <tr>\n",
       "      <th>lossParalelo</th>\n",
       "      <td>0.421286</td>\n",
       "      <td>0.225973</td>\n",
       "      <td>0.132113</td>\n",
       "    </tr>\n",
       "  </tbody>\n",
       "</table>\n",
       "</div>"
      ],
      "text/plain": [
       "                                     PC1       PC2       PC3\n",
       "Freq(Hz)                       -0.314569  0.555685  0.197721\n",
       "Z'(a)                           0.372066  0.083312  0.534763\n",
       "Z''(b)                         -0.170149  0.123560 -0.550092\n",
       "antiHIVmicrog/ml               -0.036210 -0.101225  0.211605\n",
       "antiHCVmicrog/ml                0.101379  0.191042 -0.364995\n",
       "FreqüênciaAngular              -0.314567  0.555684  0.197722\n",
       "CapacitânciaSérie               0.508672  0.207228 -0.046048\n",
       "col(tau)=col(w)*col(B)*col(Cs)  0.070541 -0.035670 -0.027976\n",
       "CapacitânciaParalelo            0.380502  0.078200 -0.289952\n",
       "ResistênciaParalelo            -0.192704 -0.460525  0.225419\n",
       "lossParalelo                    0.421286  0.225973  0.132113"
      ]
     },
     "execution_count": 64,
     "metadata": {},
     "output_type": "execute_result"
    }
   ],
   "source": [
    "df_loadings"
   ]
  },
  {
   "cell_type": "code",
   "execution_count": null,
   "id": "53e14b6f",
   "metadata": {},
   "outputs": [],
   "source": []
  },
  {
   "cell_type": "code",
   "execution_count": null,
   "id": "68a8e1df",
   "metadata": {},
   "outputs": [],
   "source": []
  }
 ],
 "metadata": {
  "kernelspec": {
   "display_name": "Python 3 (ipykernel)",
   "language": "python",
   "name": "python3"
  },
  "language_info": {
   "codemirror_mode": {
    "name": "ipython",
    "version": 3
   },
   "file_extension": ".py",
   "mimetype": "text/x-python",
   "name": "python",
   "nbconvert_exporter": "python",
   "pygments_lexer": "ipython3",
   "version": "3.9.7"
  }
 },
 "nbformat": 4,
 "nbformat_minor": 5
}
