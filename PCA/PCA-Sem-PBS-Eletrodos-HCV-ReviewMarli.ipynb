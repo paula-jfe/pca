{
 "cells": [
  {
   "cell_type": "code",
   "execution_count": 32,
   "id": "bd47be45",
   "metadata": {},
   "outputs": [
    {
     "name": "stdout",
     "output_type": "stream",
     "text": [
      "     Eletrodo    Freq(Hz)     Z'(a)     Z''(b)  antiHIVmicrog/ml  \\\n",
      "0         1.0  1000000.00     406.0      18.50            0.0000   \n",
      "1         1.0   794000.00     408.0       8.96            0.0000   \n",
      "2         1.0   631000.00     410.0       0.38            0.0000   \n",
      "3         1.0   501000.00     412.0      -7.90            0.0000   \n",
      "4         1.0   398000.00     414.0     -16.30            0.0000   \n",
      "..        ...         ...       ...        ...               ...   \n",
      "788       3.0        2.51  264000.0 -466000.00            0.0001   \n",
      "789       3.0        2.00  311000.0 -538000.00            0.0001   \n",
      "790       3.0        1.58  362000.0 -619000.00            0.0001   \n",
      "791       3.0        1.26  424000.0 -716000.00            0.0001   \n",
      "792       3.0        1.00  486000.0 -823000.00            0.0001   \n",
      "\n",
      "     antiHCVmicrog/ml  \n",
      "0               0.002  \n",
      "1               0.002  \n",
      "2               0.002  \n",
      "3               0.002  \n",
      "4               0.002  \n",
      "..                ...  \n",
      "788             0.002  \n",
      "789             0.002  \n",
      "790             0.002  \n",
      "791             0.002  \n",
      "792             0.002  \n",
      "\n",
      "[793 rows x 6 columns]\n"
     ]
    },
    {
     "data": {
      "text/html": [
       "<div>\n",
       "<style scoped>\n",
       "    .dataframe tbody tr th:only-of-type {\n",
       "        vertical-align: middle;\n",
       "    }\n",
       "\n",
       "    .dataframe tbody tr th {\n",
       "        vertical-align: top;\n",
       "    }\n",
       "\n",
       "    .dataframe thead th {\n",
       "        text-align: right;\n",
       "    }\n",
       "</style>\n",
       "<table border=\"1\" class=\"dataframe\">\n",
       "  <thead>\n",
       "    <tr style=\"text-align: right;\">\n",
       "      <th></th>\n",
       "      <th>Eletrodo</th>\n",
       "      <th>Freq(Hz)</th>\n",
       "      <th>Z'(a)</th>\n",
       "      <th>Z''(b)</th>\n",
       "      <th>antiHIVmicrog/ml</th>\n",
       "      <th>antiHCVmicrog/ml</th>\n",
       "    </tr>\n",
       "  </thead>\n",
       "  <tbody>\n",
       "    <tr>\n",
       "      <th>0</th>\n",
       "      <td>1.0</td>\n",
       "      <td>1000000.0</td>\n",
       "      <td>406.0</td>\n",
       "      <td>18.50</td>\n",
       "      <td>0.0</td>\n",
       "      <td>0.002</td>\n",
       "    </tr>\n",
       "    <tr>\n",
       "      <th>1</th>\n",
       "      <td>1.0</td>\n",
       "      <td>794000.0</td>\n",
       "      <td>408.0</td>\n",
       "      <td>8.96</td>\n",
       "      <td>0.0</td>\n",
       "      <td>0.002</td>\n",
       "    </tr>\n",
       "    <tr>\n",
       "      <th>2</th>\n",
       "      <td>1.0</td>\n",
       "      <td>631000.0</td>\n",
       "      <td>410.0</td>\n",
       "      <td>0.38</td>\n",
       "      <td>0.0</td>\n",
       "      <td>0.002</td>\n",
       "    </tr>\n",
       "    <tr>\n",
       "      <th>3</th>\n",
       "      <td>1.0</td>\n",
       "      <td>501000.0</td>\n",
       "      <td>412.0</td>\n",
       "      <td>-7.90</td>\n",
       "      <td>0.0</td>\n",
       "      <td>0.002</td>\n",
       "    </tr>\n",
       "    <tr>\n",
       "      <th>4</th>\n",
       "      <td>1.0</td>\n",
       "      <td>398000.0</td>\n",
       "      <td>414.0</td>\n",
       "      <td>-16.30</td>\n",
       "      <td>0.0</td>\n",
       "      <td>0.002</td>\n",
       "    </tr>\n",
       "  </tbody>\n",
       "</table>\n",
       "</div>"
      ],
      "text/plain": [
       "   Eletrodo   Freq(Hz)  Z'(a)  Z''(b)  antiHIVmicrog/ml  antiHCVmicrog/ml\n",
       "0       1.0  1000000.0  406.0   18.50               0.0             0.002\n",
       "1       1.0   794000.0  408.0    8.96               0.0             0.002\n",
       "2       1.0   631000.0  410.0    0.38               0.0             0.002\n",
       "3       1.0   501000.0  412.0   -7.90               0.0             0.002\n",
       "4       1.0   398000.0  414.0  -16.30               0.0             0.002"
      ]
     },
     "execution_count": 32,
     "metadata": {},
     "output_type": "execute_result"
    }
   ],
   "source": [
    "# 1. PCA dataset\n",
    "import pandas as pd\n",
    "\n",
    "df = pd.read_csv('../mestrado/ReviewMarli/Eletrodo/allHCVData.csv')\n",
    "print(df)\n",
    "\n",
    "# df['Sensor'] = df['Sensor'].astype('string')\n",
    "df.head()"
   ]
  },
  {
   "cell_type": "code",
   "execution_count": 33,
   "id": "b97d429c",
   "metadata": {},
   "outputs": [
    {
     "name": "stdout",
     "output_type": "stream",
     "text": [
      "Eletrodo            float64\n",
      "Freq(Hz)            float64\n",
      "Z'(a)               float64\n",
      "Z''(b)              float64\n",
      "antiHIVmicrog/ml    float64\n",
      "antiHCVmicrog/ml    float64\n",
      "dtype: object\n"
     ]
    }
   ],
   "source": [
    "print(df.dtypes)"
   ]
  },
  {
   "cell_type": "code",
   "execution_count": 34,
   "id": "2793002c",
   "metadata": {},
   "outputs": [
    {
     "data": {
      "text/plain": [
       "array([[ 1.00e+06,  4.06e+02,  1.85e+01,  0.00e+00,  2.00e-03],\n",
       "       [ 7.94e+05,  4.08e+02,  8.96e+00,  0.00e+00,  2.00e-03],\n",
       "       [ 6.31e+05,  4.10e+02,  3.80e-01,  0.00e+00,  2.00e-03],\n",
       "       ...,\n",
       "       [ 1.58e+00,  3.62e+05, -6.19e+05,  1.00e-04,  2.00e-03],\n",
       "       [ 1.26e+00,  4.24e+05, -7.16e+05,  1.00e-04,  2.00e-03],\n",
       "       [ 1.00e+00,  4.86e+05, -8.23e+05,  1.00e-04,  2.00e-03]])"
      ]
     },
     "execution_count": 34,
     "metadata": {},
     "output_type": "execute_result"
    }
   ],
   "source": [
    "df_features = df.iloc[:,1:].copy()\n",
    "X = df_features.to_numpy()\n",
    "# X = df.values\n",
    "X"
   ]
  },
  {
   "cell_type": "code",
   "execution_count": 35,
   "id": "06f1eddb",
   "metadata": {},
   "outputs": [
    {
     "data": {
      "text/plain": [
       "array([1., 1., 1., 1., 1., 1., 1., 1., 1., 1., 1., 1., 1., 1., 1., 1., 1.,\n",
       "       1., 1., 1., 1., 1., 1., 1., 1., 1., 1., 1., 1., 1., 1., 1., 1., 1.,\n",
       "       1., 1., 1., 1., 1., 1., 1., 1., 1., 1., 1., 1., 1., 1., 1., 1., 1.,\n",
       "       1., 1., 1., 1., 1., 1., 1., 1., 1., 1., 1., 1., 1., 1., 1., 1., 1.,\n",
       "       1., 1., 1., 1., 1., 1., 1., 1., 1., 1., 1., 1., 1., 1., 1., 1., 1.,\n",
       "       1., 1., 1., 1., 1., 1., 1., 1., 1., 1., 1., 1., 1., 1., 1., 1., 1.,\n",
       "       1., 1., 1., 1., 1., 1., 1., 1., 1., 1., 1., 1., 1., 1., 1., 1., 1.,\n",
       "       1., 1., 1., 1., 1., 1., 1., 1., 1., 1., 1., 1., 1., 1., 1., 1., 1.,\n",
       "       1., 1., 1., 1., 1., 1., 1., 1., 1., 1., 1., 1., 1., 1., 1., 1., 1.,\n",
       "       1., 1., 1., 1., 1., 1., 1., 1., 1., 1., 1., 1., 1., 1., 1., 1., 1.,\n",
       "       1., 1., 1., 1., 1., 1., 1., 1., 1., 1., 1., 1., 1., 1., 1., 1., 1.,\n",
       "       1., 1., 1., 1., 1., 1., 1., 1., 1., 1., 1., 1., 1., 1., 1., 1., 1.,\n",
       "       1., 1., 1., 1., 1., 1., 1., 1., 1., 1., 1., 1., 1., 1., 1., 1., 1.,\n",
       "       1., 1., 1., 1., 1., 1., 1., 1., 1., 1., 1., 1., 1., 1., 1., 1., 1.,\n",
       "       1., 1., 1., 1., 1., 1., 1., 1., 1., 1., 1., 1., 1., 1., 1., 1., 1.,\n",
       "       1., 1., 1., 1., 1., 1., 1., 1., 1., 1., 1., 1., 1., 1., 1., 1., 1.,\n",
       "       1., 1., 1., 1., 1., 1., 1., 1., 1., 1., 1., 1., 1., 1., 1., 1., 1.,\n",
       "       1., 1., 1., 1., 1., 1., 1., 1., 1., 1., 1., 1., 1., 1., 1., 1., 1.,\n",
       "       1., 1., 1., 1., 1., 1., 1., 1., 1., 1., 1., 1., 1., 1., 1., 1., 1.,\n",
       "       1., 1., 1., 1., 1., 1., 1., 1., 1., 1., 1., 1., 1., 1., 1., 1., 1.,\n",
       "       1., 1., 1., 1., 1., 1., 1., 1., 1., 1., 1., 1., 1., 1., 1., 1., 1.,\n",
       "       1., 1., 1., 1., 1., 1., 1., 1., 1., 2., 2., 2., 2., 2., 2., 2., 2.,\n",
       "       2., 2., 2., 2., 2., 2., 2., 2., 2., 2., 2., 2., 2., 2., 2., 2., 2.,\n",
       "       2., 2., 2., 2., 2., 2., 2., 2., 2., 2., 2., 2., 2., 2., 2., 2., 2.,\n",
       "       2., 2., 2., 2., 2., 2., 2., 2., 2., 2., 2., 2., 2., 2., 2., 2., 2.,\n",
       "       2., 2., 2., 2., 2., 2., 2., 2., 2., 2., 2., 2., 2., 2., 2., 2., 2.,\n",
       "       2., 2., 2., 2., 2., 2., 2., 2., 2., 2., 2., 2., 2., 2., 2., 2., 2.,\n",
       "       2., 2., 2., 2., 2., 2., 2., 2., 2., 2., 2., 2., 2., 2., 2., 2., 2.,\n",
       "       2., 2., 2., 2., 2., 2., 2., 2., 2., 2., 2., 2., 2., 2., 2., 2., 2.,\n",
       "       2., 2., 2., 2., 2., 2., 2., 2., 2., 2., 2., 2., 2., 2., 2., 2., 2.,\n",
       "       2., 2., 2., 2., 2., 2., 2., 2., 2., 2., 2., 2., 2., 2., 2., 2., 2.,\n",
       "       2., 2., 2., 2., 2., 2., 2., 2., 2., 2., 2., 2., 2., 2., 2., 2., 2.,\n",
       "       2., 2., 2., 2., 2., 2., 2., 2., 2., 2., 2., 2., 2., 2., 2., 2., 2.,\n",
       "       2., 2., 2., 2., 2., 2., 2., 2., 2., 2., 2., 2., 2., 2., 2., 2., 2.,\n",
       "       2., 2., 2., 2., 2., 2., 2., 2., 2., 2., 2., 2., 2., 2., 2., 2., 2.,\n",
       "       2., 2., 2., 2., 2., 2., 2., 2., 2., 2., 2., 2., 2., 2., 2., 2., 2.,\n",
       "       2., 2., 2., 2., 2., 2., 2., 2., 2., 2., 2., 2., 2., 2., 2., 2., 2.,\n",
       "       2., 2., 2., 2., 2., 2., 2., 2., 2., 2., 2., 2., 2., 2., 2., 2., 2.,\n",
       "       2., 2., 2., 2., 2., 2., 2., 2., 2., 2., 2., 2., 2., 2., 2., 2., 2.,\n",
       "       2., 2., 2., 2., 2., 2., 2., 2., 2., 2., 2., 2., 2., 2., 2., 2., 2.,\n",
       "       2., 2., 2., 2., 2., 2., 2., 2., 2., 2., 2., 2., 2., 2., 2., 2., 2.,\n",
       "       2., 2., 2., 2., 2., 2., 2., 2., 2., 2., 2., 2., 2., 2., 2., 2., 2.,\n",
       "       2., 2., 2., 2., 2., 2., 2., 2., 2., 2., 2., 2., 2., 2., 2., 2., 2.,\n",
       "       2., 3., 3., 3., 3., 3., 3., 3., 3., 3., 3., 3., 3., 3., 3., 3., 3.,\n",
       "       3., 3., 3., 3., 3., 3., 3., 3., 3., 3., 3., 3., 3., 3., 3., 3., 3.,\n",
       "       3., 3., 3., 3., 3., 3., 3., 3., 3., 3., 3., 3., 3., 3., 3., 3., 3.,\n",
       "       3., 3., 3., 3., 3., 3., 3., 3., 3., 3., 3.])"
      ]
     },
     "execution_count": 35,
     "metadata": {},
     "output_type": "execute_result"
    }
   ],
   "source": [
    "Y = df.iloc[:, 0].to_numpy()\n",
    "Y"
   ]
  },
  {
   "cell_type": "code",
   "execution_count": 36,
   "id": "2662966b",
   "metadata": {},
   "outputs": [
    {
     "data": {
      "text/plain": [
       "(793, 5)"
      ]
     },
     "execution_count": 36,
     "metadata": {},
     "output_type": "execute_result"
    }
   ],
   "source": [
    "X.shape"
   ]
  },
  {
   "cell_type": "code",
   "execution_count": 37,
   "id": "48e8bd23",
   "metadata": {},
   "outputs": [
    {
     "data": {
      "text/plain": [
       "(793,)"
      ]
     },
     "execution_count": 37,
     "metadata": {},
     "output_type": "execute_result"
    }
   ],
   "source": [
    "Y.shape"
   ]
  },
  {
   "cell_type": "code",
   "execution_count": 38,
   "id": "e91754d2",
   "metadata": {},
   "outputs": [],
   "source": [
    "# 2. PCA analysis\n",
    "# 2.1 Load library\n",
    "\n",
    "from sklearn.preprocessing import scale # Data scaling\n",
    "from sklearn import decomposition # PCA\n",
    "import pandas as pd # pandas"
   ]
  },
  {
   "cell_type": "code",
   "execution_count": 39,
   "id": "ceb76bfe",
   "metadata": {},
   "outputs": [
    {
     "data": {
      "text/plain": [
       "array([[ 4.71762672, -0.40381199,  0.43445191, -0.28867513, -0.9258201 ],\n",
       "       [ 3.66164406, -0.40379185,  0.43442424, -0.28867513, -0.9258201 ],\n",
       "       [ 2.82608496, -0.40377172,  0.43439936, -0.28867513, -0.9258201 ],\n",
       "       ...,\n",
       "       [-0.4084946 ,  3.23658101, -1.36074157,  3.46410162, -0.9258201 ],\n",
       "       [-0.40849624,  3.86077379, -1.64204781,  3.46410162, -0.9258201 ],\n",
       "       [-0.40849758,  4.48496658, -1.95235469,  3.46410162, -0.9258201 ]])"
      ]
     },
     "execution_count": 39,
     "metadata": {},
     "output_type": "execute_result"
    }
   ],
   "source": [
    "# 2.2 Data scaling\n",
    "x = scale(X)\n",
    "\n",
    "# Standardize the Data\n",
    "# PCA is effected by scale so you need to scale the features in your data before applying PCA. Use StandardScaler to help you standardize the dataset’s features onto unit scale (mean = 0 and variance = 1) which is a requirement for the optimal performance of many machine learning algorithms.\n",
    "x"
   ]
  },
  {
   "cell_type": "code",
   "execution_count": 40,
   "id": "6f304c80",
   "metadata": {},
   "outputs": [
    {
     "data": {
      "text/plain": [
       "PCA(n_components=3)"
      ]
     },
     "execution_count": 40,
     "metadata": {},
     "output_type": "execute_result"
    }
   ],
   "source": [
    "# 2.3 Perform PCA analysis\n",
    "pca = decomposition.PCA(n_components=3)\n",
    "pca.fit(x) # when build the model we use pca.fit function. Where by the argument will be the input data, which essencially is the x variable\n",
    "# we are using the x variable because pca is an unsupervised learning approach, meaning that it does not need the y variable or the class label in order to learn\n",
    "# it`ll goind to cluster the data based on similarity and differences, based on the eigenvalue that are inherently present in the data set"
   ]
  },
  {
   "cell_type": "code",
   "execution_count": 41,
   "id": "8f682d81",
   "metadata": {},
   "outputs": [],
   "source": [
    "# 2.4 compure the scores value\n",
    "# scores value will essentially be represented by the data samples so we`re gonna use the pca.transform function\n",
    "scores = pca.transform(x)"
   ]
  },
  {
   "cell_type": "code",
   "execution_count": 42,
   "id": "32ea2324",
   "metadata": {},
   "outputs": [
    {
     "data": {
      "text/plain": [
       "array([[-1.78531263,  0.29003729,  4.40850899],\n",
       "       [-1.51990227,  0.32094161,  3.38705653],\n",
       "       [-1.30988818,  0.34539524,  2.57882116],\n",
       "       ...,\n",
       "       [ 3.13720086,  3.27817358,  0.52989059],\n",
       "       [ 3.7558864 ,  3.30941781,  0.69409369],\n",
       "       [ 4.39444356,  3.34053706,  0.86322592]])"
      ]
     },
     "execution_count": 42,
     "metadata": {},
     "output_type": "execute_result"
    }
   ],
   "source": [
    "scores"
   ]
  },
  {
   "cell_type": "code",
   "execution_count": 43,
   "id": "0dc9ebaf",
   "metadata": {},
   "outputs": [
    {
     "data": {
      "text/html": [
       "<div>\n",
       "<style scoped>\n",
       "    .dataframe tbody tr th:only-of-type {\n",
       "        vertical-align: middle;\n",
       "    }\n",
       "\n",
       "    .dataframe tbody tr th {\n",
       "        vertical-align: top;\n",
       "    }\n",
       "\n",
       "    .dataframe thead th {\n",
       "        text-align: right;\n",
       "    }\n",
       "</style>\n",
       "<table border=\"1\" class=\"dataframe\">\n",
       "  <thead>\n",
       "    <tr style=\"text-align: right;\">\n",
       "      <th></th>\n",
       "      <th>PC1</th>\n",
       "      <th>PC2</th>\n",
       "      <th>PC3</th>\n",
       "    </tr>\n",
       "  </thead>\n",
       "  <tbody>\n",
       "    <tr>\n",
       "      <th>0</th>\n",
       "      <td>-1.785313</td>\n",
       "      <td>0.290037</td>\n",
       "      <td>4.408509</td>\n",
       "    </tr>\n",
       "    <tr>\n",
       "      <th>1</th>\n",
       "      <td>-1.519902</td>\n",
       "      <td>0.320942</td>\n",
       "      <td>3.387057</td>\n",
       "    </tr>\n",
       "    <tr>\n",
       "      <th>2</th>\n",
       "      <td>-1.309888</td>\n",
       "      <td>0.345395</td>\n",
       "      <td>2.578821</td>\n",
       "    </tr>\n",
       "    <tr>\n",
       "      <th>3</th>\n",
       "      <td>-1.142387</td>\n",
       "      <td>0.364898</td>\n",
       "      <td>1.934218</td>\n",
       "    </tr>\n",
       "    <tr>\n",
       "      <th>4</th>\n",
       "      <td>-1.009667</td>\n",
       "      <td>0.380351</td>\n",
       "      <td>1.423495</td>\n",
       "    </tr>\n",
       "    <tr>\n",
       "      <th>...</th>\n",
       "      <td>...</td>\n",
       "      <td>...</td>\n",
       "      <td>...</td>\n",
       "    </tr>\n",
       "    <tr>\n",
       "      <th>788</th>\n",
       "      <td>2.159919</td>\n",
       "      <td>3.228783</td>\n",
       "      <td>0.270505</td>\n",
       "    </tr>\n",
       "    <tr>\n",
       "      <th>789</th>\n",
       "      <td>2.625878</td>\n",
       "      <td>3.252488</td>\n",
       "      <td>0.394225</td>\n",
       "    </tr>\n",
       "    <tr>\n",
       "      <th>790</th>\n",
       "      <td>3.137201</td>\n",
       "      <td>3.278174</td>\n",
       "      <td>0.529891</td>\n",
       "    </tr>\n",
       "    <tr>\n",
       "      <th>791</th>\n",
       "      <td>3.755886</td>\n",
       "      <td>3.309418</td>\n",
       "      <td>0.694094</td>\n",
       "    </tr>\n",
       "    <tr>\n",
       "      <th>792</th>\n",
       "      <td>4.394444</td>\n",
       "      <td>3.340537</td>\n",
       "      <td>0.863226</td>\n",
       "    </tr>\n",
       "  </tbody>\n",
       "</table>\n",
       "<p>793 rows × 3 columns</p>\n",
       "</div>"
      ],
      "text/plain": [
       "          PC1       PC2       PC3\n",
       "0   -1.785313  0.290037  4.408509\n",
       "1   -1.519902  0.320942  3.387057\n",
       "2   -1.309888  0.345395  2.578821\n",
       "3   -1.142387  0.364898  1.934218\n",
       "4   -1.009667  0.380351  1.423495\n",
       "..        ...       ...       ...\n",
       "788  2.159919  3.228783  0.270505\n",
       "789  2.625878  3.252488  0.394225\n",
       "790  3.137201  3.278174  0.529891\n",
       "791  3.755886  3.309418  0.694094\n",
       "792  4.394444  3.340537  0.863226\n",
       "\n",
       "[793 rows x 3 columns]"
      ]
     },
     "execution_count": 43,
     "metadata": {},
     "output_type": "execute_result"
    }
   ],
   "source": [
    "scores_df = pd.DataFrame(scores, columns=['PC1', 'PC2', 'PC3']) # dataframe is to make more readable\n",
    "scores_df"
   ]
  },
  {
   "cell_type": "code",
   "execution_count": 44,
   "id": "97c3d65b",
   "metadata": {},
   "outputs": [],
   "source": [
    "y_label = []\n",
    "\n",
    "for i in Y:\n",
    "    if i == 1:\n",
    "        y_label.append('SF_NS5A_1bic')\n",
    "    elif i == 2:\n",
    "        y_label.append('SF_NS5A_5bic')\n",
    "    else:\n",
    "        y_label.append('SF_NS5A_5bicp24')\n",
    "\n",
    "sensors = pd.DataFrame(y_label, columns=['Sensor'])"
   ]
  },
  {
   "cell_type": "code",
   "execution_count": 45,
   "id": "5bff75c1",
   "metadata": {},
   "outputs": [
    {
     "data": {
      "text/html": [
       "<div>\n",
       "<style scoped>\n",
       "    .dataframe tbody tr th:only-of-type {\n",
       "        vertical-align: middle;\n",
       "    }\n",
       "\n",
       "    .dataframe tbody tr th {\n",
       "        vertical-align: top;\n",
       "    }\n",
       "\n",
       "    .dataframe thead th {\n",
       "        text-align: right;\n",
       "    }\n",
       "</style>\n",
       "<table border=\"1\" class=\"dataframe\">\n",
       "  <thead>\n",
       "    <tr style=\"text-align: right;\">\n",
       "      <th></th>\n",
       "      <th>PC1</th>\n",
       "      <th>PC2</th>\n",
       "      <th>PC3</th>\n",
       "      <th>Sensor</th>\n",
       "    </tr>\n",
       "  </thead>\n",
       "  <tbody>\n",
       "    <tr>\n",
       "      <th>0</th>\n",
       "      <td>-1.785313</td>\n",
       "      <td>0.290037</td>\n",
       "      <td>4.408509</td>\n",
       "      <td>SF_NS5A_1bic</td>\n",
       "    </tr>\n",
       "    <tr>\n",
       "      <th>1</th>\n",
       "      <td>-1.519902</td>\n",
       "      <td>0.320942</td>\n",
       "      <td>3.387057</td>\n",
       "      <td>SF_NS5A_1bic</td>\n",
       "    </tr>\n",
       "    <tr>\n",
       "      <th>2</th>\n",
       "      <td>-1.309888</td>\n",
       "      <td>0.345395</td>\n",
       "      <td>2.578821</td>\n",
       "      <td>SF_NS5A_1bic</td>\n",
       "    </tr>\n",
       "    <tr>\n",
       "      <th>3</th>\n",
       "      <td>-1.142387</td>\n",
       "      <td>0.364898</td>\n",
       "      <td>1.934218</td>\n",
       "      <td>SF_NS5A_1bic</td>\n",
       "    </tr>\n",
       "    <tr>\n",
       "      <th>4</th>\n",
       "      <td>-1.009667</td>\n",
       "      <td>0.380351</td>\n",
       "      <td>1.423495</td>\n",
       "      <td>SF_NS5A_1bic</td>\n",
       "    </tr>\n",
       "    <tr>\n",
       "      <th>...</th>\n",
       "      <td>...</td>\n",
       "      <td>...</td>\n",
       "      <td>...</td>\n",
       "      <td>...</td>\n",
       "    </tr>\n",
       "    <tr>\n",
       "      <th>788</th>\n",
       "      <td>2.159919</td>\n",
       "      <td>3.228783</td>\n",
       "      <td>0.270505</td>\n",
       "      <td>SF_NS5A_5bicp24</td>\n",
       "    </tr>\n",
       "    <tr>\n",
       "      <th>789</th>\n",
       "      <td>2.625878</td>\n",
       "      <td>3.252488</td>\n",
       "      <td>0.394225</td>\n",
       "      <td>SF_NS5A_5bicp24</td>\n",
       "    </tr>\n",
       "    <tr>\n",
       "      <th>790</th>\n",
       "      <td>3.137201</td>\n",
       "      <td>3.278174</td>\n",
       "      <td>0.529891</td>\n",
       "      <td>SF_NS5A_5bicp24</td>\n",
       "    </tr>\n",
       "    <tr>\n",
       "      <th>791</th>\n",
       "      <td>3.755886</td>\n",
       "      <td>3.309418</td>\n",
       "      <td>0.694094</td>\n",
       "      <td>SF_NS5A_5bicp24</td>\n",
       "    </tr>\n",
       "    <tr>\n",
       "      <th>792</th>\n",
       "      <td>4.394444</td>\n",
       "      <td>3.340537</td>\n",
       "      <td>0.863226</td>\n",
       "      <td>SF_NS5A_5bicp24</td>\n",
       "    </tr>\n",
       "  </tbody>\n",
       "</table>\n",
       "<p>793 rows × 4 columns</p>\n",
       "</div>"
      ],
      "text/plain": [
       "          PC1       PC2       PC3           Sensor\n",
       "0   -1.785313  0.290037  4.408509     SF_NS5A_1bic\n",
       "1   -1.519902  0.320942  3.387057     SF_NS5A_1bic\n",
       "2   -1.309888  0.345395  2.578821     SF_NS5A_1bic\n",
       "3   -1.142387  0.364898  1.934218     SF_NS5A_1bic\n",
       "4   -1.009667  0.380351  1.423495     SF_NS5A_1bic\n",
       "..        ...       ...       ...              ...\n",
       "788  2.159919  3.228783  0.270505  SF_NS5A_5bicp24\n",
       "789  2.625878  3.252488  0.394225  SF_NS5A_5bicp24\n",
       "790  3.137201  3.278174  0.529891  SF_NS5A_5bicp24\n",
       "791  3.755886  3.309418  0.694094  SF_NS5A_5bicp24\n",
       "792  4.394444  3.340537  0.863226  SF_NS5A_5bicp24\n",
       "\n",
       "[793 rows x 4 columns]"
      ]
     },
     "execution_count": 45,
     "metadata": {},
     "output_type": "execute_result"
    }
   ],
   "source": [
    "df_scores = pd.concat([scores_df, sensors], axis=1) # combine dataframes with concat\n",
    "df_scores"
   ]
  },
  {
   "cell_type": "code",
   "execution_count": 46,
   "id": "a8aab444",
   "metadata": {},
   "outputs": [
    {
     "data": {
      "text/plain": [
       "Index(['Freq(Hz)', 'Z'(a)', 'Z''(b)', 'antiHIVmicrog/ml', 'antiHCVmicrog/ml'], dtype='object')"
      ]
     },
     "execution_count": 46,
     "metadata": {},
     "output_type": "execute_result"
    }
   ],
   "source": [
    "feature_names = df.columns[1:]\n",
    "feature_names"
   ]
  },
  {
   "cell_type": "code",
   "execution_count": 47,
   "id": "c5e3358b",
   "metadata": {},
   "outputs": [
    {
     "data": {
      "text/html": [
       "<div>\n",
       "<style scoped>\n",
       "    .dataframe tbody tr th:only-of-type {\n",
       "        vertical-align: middle;\n",
       "    }\n",
       "\n",
       "    .dataframe tbody tr th {\n",
       "        vertical-align: top;\n",
       "    }\n",
       "\n",
       "    .dataframe thead th {\n",
       "        text-align: right;\n",
       "    }\n",
       "</style>\n",
       "<table border=\"1\" class=\"dataframe\">\n",
       "  <thead>\n",
       "    <tr style=\"text-align: right;\">\n",
       "      <th></th>\n",
       "      <th>PC1</th>\n",
       "      <th>PC2</th>\n",
       "      <th>PC3</th>\n",
       "    </tr>\n",
       "  </thead>\n",
       "  <tbody>\n",
       "    <tr>\n",
       "      <th>Freq(Hz)</th>\n",
       "      <td>-0.251309</td>\n",
       "      <td>-0.029265</td>\n",
       "      <td>0.967308</td>\n",
       "    </tr>\n",
       "    <tr>\n",
       "      <th>Z'(a)</th>\n",
       "      <td>0.682369</td>\n",
       "      <td>0.051997</td>\n",
       "      <td>0.186473</td>\n",
       "    </tr>\n",
       "    <tr>\n",
       "      <th>Z''(b)</th>\n",
       "      <td>-0.685216</td>\n",
       "      <td>0.004309</td>\n",
       "      <td>-0.169956</td>\n",
       "    </tr>\n",
       "    <tr>\n",
       "      <th>antiHIVmicrog/ml</th>\n",
       "      <td>-0.021294</td>\n",
       "      <td>0.707893</td>\n",
       "      <td>0.025577</td>\n",
       "    </tr>\n",
       "    <tr>\n",
       "      <th>antiHCVmicrog/ml</th>\n",
       "      <td>0.035252</td>\n",
       "      <td>-0.703782</td>\n",
       "      <td>-0.001761</td>\n",
       "    </tr>\n",
       "  </tbody>\n",
       "</table>\n",
       "</div>"
      ],
      "text/plain": [
       "                       PC1       PC2       PC3\n",
       "Freq(Hz)         -0.251309 -0.029265  0.967308\n",
       "Z'(a)             0.682369  0.051997  0.186473\n",
       "Z''(b)           -0.685216  0.004309 -0.169956\n",
       "antiHIVmicrog/ml -0.021294  0.707893  0.025577\n",
       "antiHCVmicrog/ml  0.035252 -0.703782 -0.001761"
      ]
     },
     "execution_count": 47,
     "metadata": {},
     "output_type": "execute_result"
    }
   ],
   "source": [
    "# 2.5 retrieve the loading values (remember PCA scores and loadings)\n",
    "# loadings value tell about the descriptor and scores value tell about the data samples\n",
    "# 150 flowers 150 score values 4 descriptors 4 loading values (1 for each descriptor)\n",
    "loadings = pca.components_.T\n",
    "df_loadings = pd.DataFrame(loadings, columns=['PC1', 'PC2', 'PC3'], index=feature_names)\n",
    "df_loadings"
   ]
  },
  {
   "cell_type": "code",
   "execution_count": 48,
   "id": "48edfeda",
   "metadata": {},
   "outputs": [
    {
     "data": {
      "text/plain": [
       "array([0.3866742 , 0.25362993, 0.18738105])"
      ]
     },
     "execution_count": 48,
     "metadata": {},
     "output_type": "execute_result"
    }
   ],
   "source": [
    "# 2.6 explained variance\n",
    "# what`s the contribuition to the percent variance of the entire model contributed by each of the principal components\n",
    "explained_variance = pca.explained_variance_ratio_\n",
    "explained_variance"
   ]
  },
  {
   "cell_type": "code",
   "execution_count": 49,
   "id": "2c54679d",
   "metadata": {},
   "outputs": [],
   "source": [
    "# 3. Scree plot\n",
    "import numpy as np\n",
    "import plotly.express as px"
   ]
  },
  {
   "cell_type": "code",
   "execution_count": 50,
   "id": "cdd99943",
   "metadata": {},
   "outputs": [
    {
     "data": {
      "text/plain": [
       "array([0.        , 0.3866742 , 0.25362993, 0.18738105])"
      ]
     },
     "execution_count": 50,
     "metadata": {},
     "output_type": "execute_result"
    }
   ],
   "source": [
    "# 3.1 preparing the explained variance data\n",
    "# add origin value, x and y are going to have origin zero, the subsequent lines of code are going to create the scree plot\n",
    "# the scree plot does not start from zero, then we need to manually create the zero origin\n",
    "explained_variance = np.insert(explained_variance, 0, 0)\n",
    "explained_variance"
   ]
  },
  {
   "cell_type": "code",
   "execution_count": 51,
   "id": "d1642e8b",
   "metadata": {},
   "outputs": [],
   "source": [
    "# 3.2 Preparing cumulative variance data\n",
    "cumulative_variance = np.cumsum(np.round(explained_variance, decimals=3))"
   ]
  },
  {
   "cell_type": "code",
   "execution_count": 52,
   "id": "64e7c30a",
   "metadata": {},
   "outputs": [],
   "source": [
    "# 3.3 Combining dataframe\n",
    "pc_df = pd.DataFrame(['', 'PC1', 'PC2', 'PC3'], columns=['PC'])\n",
    "explained_variance_df = pd.DataFrame(explained_variance, columns=['Explained Variance'])\n",
    "cumulative_variance_df = pd.DataFrame(cumulative_variance, columns=['Cumulative Variance'])"
   ]
  },
  {
   "cell_type": "code",
   "execution_count": 53,
   "id": "b020843f",
   "metadata": {},
   "outputs": [
    {
     "data": {
      "text/html": [
       "<div>\n",
       "<style scoped>\n",
       "    .dataframe tbody tr th:only-of-type {\n",
       "        vertical-align: middle;\n",
       "    }\n",
       "\n",
       "    .dataframe tbody tr th {\n",
       "        vertical-align: top;\n",
       "    }\n",
       "\n",
       "    .dataframe thead th {\n",
       "        text-align: right;\n",
       "    }\n",
       "</style>\n",
       "<table border=\"1\" class=\"dataframe\">\n",
       "  <thead>\n",
       "    <tr style=\"text-align: right;\">\n",
       "      <th></th>\n",
       "      <th>PC</th>\n",
       "      <th>Explained Variance</th>\n",
       "      <th>Cumulative Variance</th>\n",
       "    </tr>\n",
       "  </thead>\n",
       "  <tbody>\n",
       "    <tr>\n",
       "      <th>0</th>\n",
       "      <td></td>\n",
       "      <td>0.000000</td>\n",
       "      <td>0.000</td>\n",
       "    </tr>\n",
       "    <tr>\n",
       "      <th>1</th>\n",
       "      <td>PC1</td>\n",
       "      <td>0.386674</td>\n",
       "      <td>0.387</td>\n",
       "    </tr>\n",
       "    <tr>\n",
       "      <th>2</th>\n",
       "      <td>PC2</td>\n",
       "      <td>0.253630</td>\n",
       "      <td>0.641</td>\n",
       "    </tr>\n",
       "    <tr>\n",
       "      <th>3</th>\n",
       "      <td>PC3</td>\n",
       "      <td>0.187381</td>\n",
       "      <td>0.828</td>\n",
       "    </tr>\n",
       "  </tbody>\n",
       "</table>\n",
       "</div>"
      ],
      "text/plain": [
       "    PC  Explained Variance  Cumulative Variance\n",
       "0                 0.000000                0.000\n",
       "1  PC1            0.386674                0.387\n",
       "2  PC2            0.253630                0.641\n",
       "3  PC3            0.187381                0.828"
      ]
     },
     "execution_count": 53,
     "metadata": {},
     "output_type": "execute_result"
    }
   ],
   "source": [
    "df_explained_variance = pd.concat([pc_df, explained_variance_df, cumulative_variance_df], axis=1)\n",
    "df_explained_variance"
   ]
  },
  {
   "cell_type": "code",
   "execution_count": 54,
   "id": "fd7ee87f",
   "metadata": {},
   "outputs": [],
   "source": [
    "# 3.4 Creating Scree Plot\n",
    "# https://plotly.com/python/bar-charts/\n",
    "\n",
    "fig = px.bar(df_explained_variance, x='PC', y='Explained Variance', text='Explained Variance', width=800)"
   ]
  },
  {
   "cell_type": "code",
   "execution_count": 55,
   "id": "28c95061",
   "metadata": {},
   "outputs": [
    {
     "data": {
      "application/vnd.plotly.v1+json": {
       "config": {
        "plotlyServerURL": "https://plot.ly"
       },
       "data": [
        {
         "alignmentgroup": "True",
         "hovertemplate": "PC=%{x}<br>Explained Variance=%{text}<extra></extra>",
         "legendgroup": "",
         "marker": {
          "color": "#636efa",
          "pattern": {
           "shape": ""
          }
         },
         "name": "",
         "offsetgroup": "",
         "orientation": "v",
         "showlegend": false,
         "text": [
          0,
          0.38667420396295615,
          0.25362993372938897,
          0.18738104588337345
         ],
         "textposition": "outside",
         "texttemplate": "%{text:.3f}",
         "type": "bar",
         "x": [
          "",
          "PC1",
          "PC2",
          "PC3"
         ],
         "xaxis": "x",
         "y": [
          0,
          0.38667420396295615,
          0.25362993372938897,
          0.18738104588337345
         ],
         "yaxis": "y"
        }
       ],
       "layout": {
        "barmode": "relative",
        "legend": {
         "tracegroupgap": 0
        },
        "margin": {
         "t": 60
        },
        "template": {
         "data": {
          "bar": [
           {
            "error_x": {
             "color": "#2a3f5f"
            },
            "error_y": {
             "color": "#2a3f5f"
            },
            "marker": {
             "line": {
              "color": "#E5ECF6",
              "width": 0.5
             },
             "pattern": {
              "fillmode": "overlay",
              "size": 10,
              "solidity": 0.2
             }
            },
            "type": "bar"
           }
          ],
          "barpolar": [
           {
            "marker": {
             "line": {
              "color": "#E5ECF6",
              "width": 0.5
             },
             "pattern": {
              "fillmode": "overlay",
              "size": 10,
              "solidity": 0.2
             }
            },
            "type": "barpolar"
           }
          ],
          "carpet": [
           {
            "aaxis": {
             "endlinecolor": "#2a3f5f",
             "gridcolor": "white",
             "linecolor": "white",
             "minorgridcolor": "white",
             "startlinecolor": "#2a3f5f"
            },
            "baxis": {
             "endlinecolor": "#2a3f5f",
             "gridcolor": "white",
             "linecolor": "white",
             "minorgridcolor": "white",
             "startlinecolor": "#2a3f5f"
            },
            "type": "carpet"
           }
          ],
          "choropleth": [
           {
            "colorbar": {
             "outlinewidth": 0,
             "ticks": ""
            },
            "type": "choropleth"
           }
          ],
          "contour": [
           {
            "colorbar": {
             "outlinewidth": 0,
             "ticks": ""
            },
            "colorscale": [
             [
              0,
              "#0d0887"
             ],
             [
              0.1111111111111111,
              "#46039f"
             ],
             [
              0.2222222222222222,
              "#7201a8"
             ],
             [
              0.3333333333333333,
              "#9c179e"
             ],
             [
              0.4444444444444444,
              "#bd3786"
             ],
             [
              0.5555555555555556,
              "#d8576b"
             ],
             [
              0.6666666666666666,
              "#ed7953"
             ],
             [
              0.7777777777777778,
              "#fb9f3a"
             ],
             [
              0.8888888888888888,
              "#fdca26"
             ],
             [
              1,
              "#f0f921"
             ]
            ],
            "type": "contour"
           }
          ],
          "contourcarpet": [
           {
            "colorbar": {
             "outlinewidth": 0,
             "ticks": ""
            },
            "type": "contourcarpet"
           }
          ],
          "heatmap": [
           {
            "colorbar": {
             "outlinewidth": 0,
             "ticks": ""
            },
            "colorscale": [
             [
              0,
              "#0d0887"
             ],
             [
              0.1111111111111111,
              "#46039f"
             ],
             [
              0.2222222222222222,
              "#7201a8"
             ],
             [
              0.3333333333333333,
              "#9c179e"
             ],
             [
              0.4444444444444444,
              "#bd3786"
             ],
             [
              0.5555555555555556,
              "#d8576b"
             ],
             [
              0.6666666666666666,
              "#ed7953"
             ],
             [
              0.7777777777777778,
              "#fb9f3a"
             ],
             [
              0.8888888888888888,
              "#fdca26"
             ],
             [
              1,
              "#f0f921"
             ]
            ],
            "type": "heatmap"
           }
          ],
          "heatmapgl": [
           {
            "colorbar": {
             "outlinewidth": 0,
             "ticks": ""
            },
            "colorscale": [
             [
              0,
              "#0d0887"
             ],
             [
              0.1111111111111111,
              "#46039f"
             ],
             [
              0.2222222222222222,
              "#7201a8"
             ],
             [
              0.3333333333333333,
              "#9c179e"
             ],
             [
              0.4444444444444444,
              "#bd3786"
             ],
             [
              0.5555555555555556,
              "#d8576b"
             ],
             [
              0.6666666666666666,
              "#ed7953"
             ],
             [
              0.7777777777777778,
              "#fb9f3a"
             ],
             [
              0.8888888888888888,
              "#fdca26"
             ],
             [
              1,
              "#f0f921"
             ]
            ],
            "type": "heatmapgl"
           }
          ],
          "histogram": [
           {
            "marker": {
             "pattern": {
              "fillmode": "overlay",
              "size": 10,
              "solidity": 0.2
             }
            },
            "type": "histogram"
           }
          ],
          "histogram2d": [
           {
            "colorbar": {
             "outlinewidth": 0,
             "ticks": ""
            },
            "colorscale": [
             [
              0,
              "#0d0887"
             ],
             [
              0.1111111111111111,
              "#46039f"
             ],
             [
              0.2222222222222222,
              "#7201a8"
             ],
             [
              0.3333333333333333,
              "#9c179e"
             ],
             [
              0.4444444444444444,
              "#bd3786"
             ],
             [
              0.5555555555555556,
              "#d8576b"
             ],
             [
              0.6666666666666666,
              "#ed7953"
             ],
             [
              0.7777777777777778,
              "#fb9f3a"
             ],
             [
              0.8888888888888888,
              "#fdca26"
             ],
             [
              1,
              "#f0f921"
             ]
            ],
            "type": "histogram2d"
           }
          ],
          "histogram2dcontour": [
           {
            "colorbar": {
             "outlinewidth": 0,
             "ticks": ""
            },
            "colorscale": [
             [
              0,
              "#0d0887"
             ],
             [
              0.1111111111111111,
              "#46039f"
             ],
             [
              0.2222222222222222,
              "#7201a8"
             ],
             [
              0.3333333333333333,
              "#9c179e"
             ],
             [
              0.4444444444444444,
              "#bd3786"
             ],
             [
              0.5555555555555556,
              "#d8576b"
             ],
             [
              0.6666666666666666,
              "#ed7953"
             ],
             [
              0.7777777777777778,
              "#fb9f3a"
             ],
             [
              0.8888888888888888,
              "#fdca26"
             ],
             [
              1,
              "#f0f921"
             ]
            ],
            "type": "histogram2dcontour"
           }
          ],
          "mesh3d": [
           {
            "colorbar": {
             "outlinewidth": 0,
             "ticks": ""
            },
            "type": "mesh3d"
           }
          ],
          "parcoords": [
           {
            "line": {
             "colorbar": {
              "outlinewidth": 0,
              "ticks": ""
             }
            },
            "type": "parcoords"
           }
          ],
          "pie": [
           {
            "automargin": true,
            "type": "pie"
           }
          ],
          "scatter": [
           {
            "fillpattern": {
             "fillmode": "overlay",
             "size": 10,
             "solidity": 0.2
            },
            "type": "scatter"
           }
          ],
          "scatter3d": [
           {
            "line": {
             "colorbar": {
              "outlinewidth": 0,
              "ticks": ""
             }
            },
            "marker": {
             "colorbar": {
              "outlinewidth": 0,
              "ticks": ""
             }
            },
            "type": "scatter3d"
           }
          ],
          "scattercarpet": [
           {
            "marker": {
             "colorbar": {
              "outlinewidth": 0,
              "ticks": ""
             }
            },
            "type": "scattercarpet"
           }
          ],
          "scattergeo": [
           {
            "marker": {
             "colorbar": {
              "outlinewidth": 0,
              "ticks": ""
             }
            },
            "type": "scattergeo"
           }
          ],
          "scattergl": [
           {
            "marker": {
             "colorbar": {
              "outlinewidth": 0,
              "ticks": ""
             }
            },
            "type": "scattergl"
           }
          ],
          "scattermapbox": [
           {
            "marker": {
             "colorbar": {
              "outlinewidth": 0,
              "ticks": ""
             }
            },
            "type": "scattermapbox"
           }
          ],
          "scatterpolar": [
           {
            "marker": {
             "colorbar": {
              "outlinewidth": 0,
              "ticks": ""
             }
            },
            "type": "scatterpolar"
           }
          ],
          "scatterpolargl": [
           {
            "marker": {
             "colorbar": {
              "outlinewidth": 0,
              "ticks": ""
             }
            },
            "type": "scatterpolargl"
           }
          ],
          "scatterternary": [
           {
            "marker": {
             "colorbar": {
              "outlinewidth": 0,
              "ticks": ""
             }
            },
            "type": "scatterternary"
           }
          ],
          "surface": [
           {
            "colorbar": {
             "outlinewidth": 0,
             "ticks": ""
            },
            "colorscale": [
             [
              0,
              "#0d0887"
             ],
             [
              0.1111111111111111,
              "#46039f"
             ],
             [
              0.2222222222222222,
              "#7201a8"
             ],
             [
              0.3333333333333333,
              "#9c179e"
             ],
             [
              0.4444444444444444,
              "#bd3786"
             ],
             [
              0.5555555555555556,
              "#d8576b"
             ],
             [
              0.6666666666666666,
              "#ed7953"
             ],
             [
              0.7777777777777778,
              "#fb9f3a"
             ],
             [
              0.8888888888888888,
              "#fdca26"
             ],
             [
              1,
              "#f0f921"
             ]
            ],
            "type": "surface"
           }
          ],
          "table": [
           {
            "cells": {
             "fill": {
              "color": "#EBF0F8"
             },
             "line": {
              "color": "white"
             }
            },
            "header": {
             "fill": {
              "color": "#C8D4E3"
             },
             "line": {
              "color": "white"
             }
            },
            "type": "table"
           }
          ]
         },
         "layout": {
          "annotationdefaults": {
           "arrowcolor": "#2a3f5f",
           "arrowhead": 0,
           "arrowwidth": 1
          },
          "autotypenumbers": "strict",
          "coloraxis": {
           "colorbar": {
            "outlinewidth": 0,
            "ticks": ""
           }
          },
          "colorscale": {
           "diverging": [
            [
             0,
             "#8e0152"
            ],
            [
             0.1,
             "#c51b7d"
            ],
            [
             0.2,
             "#de77ae"
            ],
            [
             0.3,
             "#f1b6da"
            ],
            [
             0.4,
             "#fde0ef"
            ],
            [
             0.5,
             "#f7f7f7"
            ],
            [
             0.6,
             "#e6f5d0"
            ],
            [
             0.7,
             "#b8e186"
            ],
            [
             0.8,
             "#7fbc41"
            ],
            [
             0.9,
             "#4d9221"
            ],
            [
             1,
             "#276419"
            ]
           ],
           "sequential": [
            [
             0,
             "#0d0887"
            ],
            [
             0.1111111111111111,
             "#46039f"
            ],
            [
             0.2222222222222222,
             "#7201a8"
            ],
            [
             0.3333333333333333,
             "#9c179e"
            ],
            [
             0.4444444444444444,
             "#bd3786"
            ],
            [
             0.5555555555555556,
             "#d8576b"
            ],
            [
             0.6666666666666666,
             "#ed7953"
            ],
            [
             0.7777777777777778,
             "#fb9f3a"
            ],
            [
             0.8888888888888888,
             "#fdca26"
            ],
            [
             1,
             "#f0f921"
            ]
           ],
           "sequentialminus": [
            [
             0,
             "#0d0887"
            ],
            [
             0.1111111111111111,
             "#46039f"
            ],
            [
             0.2222222222222222,
             "#7201a8"
            ],
            [
             0.3333333333333333,
             "#9c179e"
            ],
            [
             0.4444444444444444,
             "#bd3786"
            ],
            [
             0.5555555555555556,
             "#d8576b"
            ],
            [
             0.6666666666666666,
             "#ed7953"
            ],
            [
             0.7777777777777778,
             "#fb9f3a"
            ],
            [
             0.8888888888888888,
             "#fdca26"
            ],
            [
             1,
             "#f0f921"
            ]
           ]
          },
          "colorway": [
           "#636efa",
           "#EF553B",
           "#00cc96",
           "#ab63fa",
           "#FFA15A",
           "#19d3f3",
           "#FF6692",
           "#B6E880",
           "#FF97FF",
           "#FECB52"
          ],
          "font": {
           "color": "#2a3f5f"
          },
          "geo": {
           "bgcolor": "white",
           "lakecolor": "white",
           "landcolor": "#E5ECF6",
           "showlakes": true,
           "showland": true,
           "subunitcolor": "white"
          },
          "hoverlabel": {
           "align": "left"
          },
          "hovermode": "closest",
          "mapbox": {
           "style": "light"
          },
          "paper_bgcolor": "white",
          "plot_bgcolor": "#E5ECF6",
          "polar": {
           "angularaxis": {
            "gridcolor": "white",
            "linecolor": "white",
            "ticks": ""
           },
           "bgcolor": "#E5ECF6",
           "radialaxis": {
            "gridcolor": "white",
            "linecolor": "white",
            "ticks": ""
           }
          },
          "scene": {
           "xaxis": {
            "backgroundcolor": "#E5ECF6",
            "gridcolor": "white",
            "gridwidth": 2,
            "linecolor": "white",
            "showbackground": true,
            "ticks": "",
            "zerolinecolor": "white"
           },
           "yaxis": {
            "backgroundcolor": "#E5ECF6",
            "gridcolor": "white",
            "gridwidth": 2,
            "linecolor": "white",
            "showbackground": true,
            "ticks": "",
            "zerolinecolor": "white"
           },
           "zaxis": {
            "backgroundcolor": "#E5ECF6",
            "gridcolor": "white",
            "gridwidth": 2,
            "linecolor": "white",
            "showbackground": true,
            "ticks": "",
            "zerolinecolor": "white"
           }
          },
          "shapedefaults": {
           "line": {
            "color": "#2a3f5f"
           }
          },
          "ternary": {
           "aaxis": {
            "gridcolor": "white",
            "linecolor": "white",
            "ticks": ""
           },
           "baxis": {
            "gridcolor": "white",
            "linecolor": "white",
            "ticks": ""
           },
           "bgcolor": "#E5ECF6",
           "caxis": {
            "gridcolor": "white",
            "linecolor": "white",
            "ticks": ""
           }
          },
          "title": {
           "x": 0.05
          },
          "xaxis": {
           "automargin": true,
           "gridcolor": "white",
           "linecolor": "white",
           "ticks": "",
           "title": {
            "standoff": 15
           },
           "zerolinecolor": "white",
           "zerolinewidth": 2
          },
          "yaxis": {
           "automargin": true,
           "gridcolor": "white",
           "linecolor": "white",
           "ticks": "",
           "title": {
            "standoff": 15
           },
           "zerolinecolor": "white",
           "zerolinewidth": 2
          }
         }
        },
        "width": 800,
        "xaxis": {
         "anchor": "y",
         "domain": [
          0,
          1
         ],
         "title": {
          "text": "PC"
         }
        },
        "yaxis": {
         "anchor": "x",
         "domain": [
          0,
          1
         ],
         "title": {
          "text": "Explained Variance"
         }
        }
       }
      },
      "text/html": [
       "<div>                            <div id=\"4fe280b0-a041-48ff-b2ef-9363d6237a32\" class=\"plotly-graph-div\" style=\"height:525px; width:800px;\"></div>            <script type=\"text/javascript\">                require([\"plotly\"], function(Plotly) {                    window.PLOTLYENV=window.PLOTLYENV || {};                                    if (document.getElementById(\"4fe280b0-a041-48ff-b2ef-9363d6237a32\")) {                    Plotly.newPlot(                        \"4fe280b0-a041-48ff-b2ef-9363d6237a32\",                        [{\"alignmentgroup\":\"True\",\"hovertemplate\":\"PC=%{x}<br>Explained Variance=%{text}<extra></extra>\",\"legendgroup\":\"\",\"marker\":{\"color\":\"#636efa\",\"pattern\":{\"shape\":\"\"}},\"name\":\"\",\"offsetgroup\":\"\",\"orientation\":\"v\",\"showlegend\":false,\"text\":[0.0,0.38667420396295615,0.25362993372938897,0.18738104588337345],\"textposition\":\"outside\",\"x\":[\"\",\"PC1\",\"PC2\",\"PC3\"],\"xaxis\":\"x\",\"y\":[0.0,0.38667420396295615,0.25362993372938897,0.18738104588337345],\"yaxis\":\"y\",\"type\":\"bar\",\"texttemplate\":\"%{text:.3f}\"}],                        {\"template\":{\"data\":{\"histogram2dcontour\":[{\"type\":\"histogram2dcontour\",\"colorbar\":{\"outlinewidth\":0,\"ticks\":\"\"},\"colorscale\":[[0.0,\"#0d0887\"],[0.1111111111111111,\"#46039f\"],[0.2222222222222222,\"#7201a8\"],[0.3333333333333333,\"#9c179e\"],[0.4444444444444444,\"#bd3786\"],[0.5555555555555556,\"#d8576b\"],[0.6666666666666666,\"#ed7953\"],[0.7777777777777778,\"#fb9f3a\"],[0.8888888888888888,\"#fdca26\"],[1.0,\"#f0f921\"]]}],\"choropleth\":[{\"type\":\"choropleth\",\"colorbar\":{\"outlinewidth\":0,\"ticks\":\"\"}}],\"histogram2d\":[{\"type\":\"histogram2d\",\"colorbar\":{\"outlinewidth\":0,\"ticks\":\"\"},\"colorscale\":[[0.0,\"#0d0887\"],[0.1111111111111111,\"#46039f\"],[0.2222222222222222,\"#7201a8\"],[0.3333333333333333,\"#9c179e\"],[0.4444444444444444,\"#bd3786\"],[0.5555555555555556,\"#d8576b\"],[0.6666666666666666,\"#ed7953\"],[0.7777777777777778,\"#fb9f3a\"],[0.8888888888888888,\"#fdca26\"],[1.0,\"#f0f921\"]]}],\"heatmap\":[{\"type\":\"heatmap\",\"colorbar\":{\"outlinewidth\":0,\"ticks\":\"\"},\"colorscale\":[[0.0,\"#0d0887\"],[0.1111111111111111,\"#46039f\"],[0.2222222222222222,\"#7201a8\"],[0.3333333333333333,\"#9c179e\"],[0.4444444444444444,\"#bd3786\"],[0.5555555555555556,\"#d8576b\"],[0.6666666666666666,\"#ed7953\"],[0.7777777777777778,\"#fb9f3a\"],[0.8888888888888888,\"#fdca26\"],[1.0,\"#f0f921\"]]}],\"heatmapgl\":[{\"type\":\"heatmapgl\",\"colorbar\":{\"outlinewidth\":0,\"ticks\":\"\"},\"colorscale\":[[0.0,\"#0d0887\"],[0.1111111111111111,\"#46039f\"],[0.2222222222222222,\"#7201a8\"],[0.3333333333333333,\"#9c179e\"],[0.4444444444444444,\"#bd3786\"],[0.5555555555555556,\"#d8576b\"],[0.6666666666666666,\"#ed7953\"],[0.7777777777777778,\"#fb9f3a\"],[0.8888888888888888,\"#fdca26\"],[1.0,\"#f0f921\"]]}],\"contourcarpet\":[{\"type\":\"contourcarpet\",\"colorbar\":{\"outlinewidth\":0,\"ticks\":\"\"}}],\"contour\":[{\"type\":\"contour\",\"colorbar\":{\"outlinewidth\":0,\"ticks\":\"\"},\"colorscale\":[[0.0,\"#0d0887\"],[0.1111111111111111,\"#46039f\"],[0.2222222222222222,\"#7201a8\"],[0.3333333333333333,\"#9c179e\"],[0.4444444444444444,\"#bd3786\"],[0.5555555555555556,\"#d8576b\"],[0.6666666666666666,\"#ed7953\"],[0.7777777777777778,\"#fb9f3a\"],[0.8888888888888888,\"#fdca26\"],[1.0,\"#f0f921\"]]}],\"surface\":[{\"type\":\"surface\",\"colorbar\":{\"outlinewidth\":0,\"ticks\":\"\"},\"colorscale\":[[0.0,\"#0d0887\"],[0.1111111111111111,\"#46039f\"],[0.2222222222222222,\"#7201a8\"],[0.3333333333333333,\"#9c179e\"],[0.4444444444444444,\"#bd3786\"],[0.5555555555555556,\"#d8576b\"],[0.6666666666666666,\"#ed7953\"],[0.7777777777777778,\"#fb9f3a\"],[0.8888888888888888,\"#fdca26\"],[1.0,\"#f0f921\"]]}],\"mesh3d\":[{\"type\":\"mesh3d\",\"colorbar\":{\"outlinewidth\":0,\"ticks\":\"\"}}],\"scatter\":[{\"fillpattern\":{\"fillmode\":\"overlay\",\"size\":10,\"solidity\":0.2},\"type\":\"scatter\"}],\"parcoords\":[{\"type\":\"parcoords\",\"line\":{\"colorbar\":{\"outlinewidth\":0,\"ticks\":\"\"}}}],\"scatterpolargl\":[{\"type\":\"scatterpolargl\",\"marker\":{\"colorbar\":{\"outlinewidth\":0,\"ticks\":\"\"}}}],\"bar\":[{\"error_x\":{\"color\":\"#2a3f5f\"},\"error_y\":{\"color\":\"#2a3f5f\"},\"marker\":{\"line\":{\"color\":\"#E5ECF6\",\"width\":0.5},\"pattern\":{\"fillmode\":\"overlay\",\"size\":10,\"solidity\":0.2}},\"type\":\"bar\"}],\"scattergeo\":[{\"type\":\"scattergeo\",\"marker\":{\"colorbar\":{\"outlinewidth\":0,\"ticks\":\"\"}}}],\"scatterpolar\":[{\"type\":\"scatterpolar\",\"marker\":{\"colorbar\":{\"outlinewidth\":0,\"ticks\":\"\"}}}],\"histogram\":[{\"marker\":{\"pattern\":{\"fillmode\":\"overlay\",\"size\":10,\"solidity\":0.2}},\"type\":\"histogram\"}],\"scattergl\":[{\"type\":\"scattergl\",\"marker\":{\"colorbar\":{\"outlinewidth\":0,\"ticks\":\"\"}}}],\"scatter3d\":[{\"type\":\"scatter3d\",\"line\":{\"colorbar\":{\"outlinewidth\":0,\"ticks\":\"\"}},\"marker\":{\"colorbar\":{\"outlinewidth\":0,\"ticks\":\"\"}}}],\"scattermapbox\":[{\"type\":\"scattermapbox\",\"marker\":{\"colorbar\":{\"outlinewidth\":0,\"ticks\":\"\"}}}],\"scatterternary\":[{\"type\":\"scatterternary\",\"marker\":{\"colorbar\":{\"outlinewidth\":0,\"ticks\":\"\"}}}],\"scattercarpet\":[{\"type\":\"scattercarpet\",\"marker\":{\"colorbar\":{\"outlinewidth\":0,\"ticks\":\"\"}}}],\"carpet\":[{\"aaxis\":{\"endlinecolor\":\"#2a3f5f\",\"gridcolor\":\"white\",\"linecolor\":\"white\",\"minorgridcolor\":\"white\",\"startlinecolor\":\"#2a3f5f\"},\"baxis\":{\"endlinecolor\":\"#2a3f5f\",\"gridcolor\":\"white\",\"linecolor\":\"white\",\"minorgridcolor\":\"white\",\"startlinecolor\":\"#2a3f5f\"},\"type\":\"carpet\"}],\"table\":[{\"cells\":{\"fill\":{\"color\":\"#EBF0F8\"},\"line\":{\"color\":\"white\"}},\"header\":{\"fill\":{\"color\":\"#C8D4E3\"},\"line\":{\"color\":\"white\"}},\"type\":\"table\"}],\"barpolar\":[{\"marker\":{\"line\":{\"color\":\"#E5ECF6\",\"width\":0.5},\"pattern\":{\"fillmode\":\"overlay\",\"size\":10,\"solidity\":0.2}},\"type\":\"barpolar\"}],\"pie\":[{\"automargin\":true,\"type\":\"pie\"}]},\"layout\":{\"autotypenumbers\":\"strict\",\"colorway\":[\"#636efa\",\"#EF553B\",\"#00cc96\",\"#ab63fa\",\"#FFA15A\",\"#19d3f3\",\"#FF6692\",\"#B6E880\",\"#FF97FF\",\"#FECB52\"],\"font\":{\"color\":\"#2a3f5f\"},\"hovermode\":\"closest\",\"hoverlabel\":{\"align\":\"left\"},\"paper_bgcolor\":\"white\",\"plot_bgcolor\":\"#E5ECF6\",\"polar\":{\"bgcolor\":\"#E5ECF6\",\"angularaxis\":{\"gridcolor\":\"white\",\"linecolor\":\"white\",\"ticks\":\"\"},\"radialaxis\":{\"gridcolor\":\"white\",\"linecolor\":\"white\",\"ticks\":\"\"}},\"ternary\":{\"bgcolor\":\"#E5ECF6\",\"aaxis\":{\"gridcolor\":\"white\",\"linecolor\":\"white\",\"ticks\":\"\"},\"baxis\":{\"gridcolor\":\"white\",\"linecolor\":\"white\",\"ticks\":\"\"},\"caxis\":{\"gridcolor\":\"white\",\"linecolor\":\"white\",\"ticks\":\"\"}},\"coloraxis\":{\"colorbar\":{\"outlinewidth\":0,\"ticks\":\"\"}},\"colorscale\":{\"sequential\":[[0.0,\"#0d0887\"],[0.1111111111111111,\"#46039f\"],[0.2222222222222222,\"#7201a8\"],[0.3333333333333333,\"#9c179e\"],[0.4444444444444444,\"#bd3786\"],[0.5555555555555556,\"#d8576b\"],[0.6666666666666666,\"#ed7953\"],[0.7777777777777778,\"#fb9f3a\"],[0.8888888888888888,\"#fdca26\"],[1.0,\"#f0f921\"]],\"sequentialminus\":[[0.0,\"#0d0887\"],[0.1111111111111111,\"#46039f\"],[0.2222222222222222,\"#7201a8\"],[0.3333333333333333,\"#9c179e\"],[0.4444444444444444,\"#bd3786\"],[0.5555555555555556,\"#d8576b\"],[0.6666666666666666,\"#ed7953\"],[0.7777777777777778,\"#fb9f3a\"],[0.8888888888888888,\"#fdca26\"],[1.0,\"#f0f921\"]],\"diverging\":[[0,\"#8e0152\"],[0.1,\"#c51b7d\"],[0.2,\"#de77ae\"],[0.3,\"#f1b6da\"],[0.4,\"#fde0ef\"],[0.5,\"#f7f7f7\"],[0.6,\"#e6f5d0\"],[0.7,\"#b8e186\"],[0.8,\"#7fbc41\"],[0.9,\"#4d9221\"],[1,\"#276419\"]]},\"xaxis\":{\"gridcolor\":\"white\",\"linecolor\":\"white\",\"ticks\":\"\",\"title\":{\"standoff\":15},\"zerolinecolor\":\"white\",\"automargin\":true,\"zerolinewidth\":2},\"yaxis\":{\"gridcolor\":\"white\",\"linecolor\":\"white\",\"ticks\":\"\",\"title\":{\"standoff\":15},\"zerolinecolor\":\"white\",\"automargin\":true,\"zerolinewidth\":2},\"scene\":{\"xaxis\":{\"backgroundcolor\":\"#E5ECF6\",\"gridcolor\":\"white\",\"linecolor\":\"white\",\"showbackground\":true,\"ticks\":\"\",\"zerolinecolor\":\"white\",\"gridwidth\":2},\"yaxis\":{\"backgroundcolor\":\"#E5ECF6\",\"gridcolor\":\"white\",\"linecolor\":\"white\",\"showbackground\":true,\"ticks\":\"\",\"zerolinecolor\":\"white\",\"gridwidth\":2},\"zaxis\":{\"backgroundcolor\":\"#E5ECF6\",\"gridcolor\":\"white\",\"linecolor\":\"white\",\"showbackground\":true,\"ticks\":\"\",\"zerolinecolor\":\"white\",\"gridwidth\":2}},\"shapedefaults\":{\"line\":{\"color\":\"#2a3f5f\"}},\"annotationdefaults\":{\"arrowcolor\":\"#2a3f5f\",\"arrowhead\":0,\"arrowwidth\":1},\"geo\":{\"bgcolor\":\"white\",\"landcolor\":\"#E5ECF6\",\"subunitcolor\":\"white\",\"showland\":true,\"showlakes\":true,\"lakecolor\":\"white\"},\"title\":{\"x\":0.05},\"mapbox\":{\"style\":\"light\"}}},\"xaxis\":{\"anchor\":\"y\",\"domain\":[0.0,1.0],\"title\":{\"text\":\"PC\"}},\"yaxis\":{\"anchor\":\"x\",\"domain\":[0.0,1.0],\"title\":{\"text\":\"Explained Variance\"}},\"legend\":{\"tracegroupgap\":0},\"margin\":{\"t\":60},\"barmode\":\"relative\",\"width\":800},                        {\"responsive\": true}                    ).then(function(){\n",
       "                            \n",
       "var gd = document.getElementById('4fe280b0-a041-48ff-b2ef-9363d6237a32');\n",
       "var x = new MutationObserver(function (mutations, observer) {{\n",
       "        var display = window.getComputedStyle(gd).display;\n",
       "        if (!display || display === 'none') {{\n",
       "            console.log([gd, 'removed!']);\n",
       "            Plotly.purge(gd);\n",
       "            observer.disconnect();\n",
       "        }}\n",
       "}});\n",
       "\n",
       "// Listen for the removal of the full notebook cells\n",
       "var notebookContainer = gd.closest('#notebook-container');\n",
       "if (notebookContainer) {{\n",
       "    x.observe(notebookContainer, {childList: true});\n",
       "}}\n",
       "\n",
       "// Listen for the clearing of the current output cell\n",
       "var outputEl = gd.closest('.output');\n",
       "if (outputEl) {{\n",
       "    x.observe(outputEl, {childList: true});\n",
       "}}\n",
       "\n",
       "                        })                };                });            </script>        </div>"
      ]
     },
     "metadata": {},
     "output_type": "display_data"
    }
   ],
   "source": [
    "fig.update_traces(texttemplate='%{text:.3f}', textposition='outside') # limit decimal cases and text outside the bar\n",
    "fig.show() #explained variance"
   ]
  },
  {
   "cell_type": "code",
   "execution_count": 56,
   "id": "ec892729",
   "metadata": {},
   "outputs": [
    {
     "data": {
      "application/vnd.plotly.v1+json": {
       "config": {
        "plotlyServerURL": "https://plot.ly"
       },
       "data": [
        {
         "marker": {
          "color": "LightSeaGreen",
          "size": 15
         },
         "type": "scatter",
         "x": [
          "",
          "PC1",
          "PC2",
          "PC3"
         ],
         "y": [
          0,
          0.387,
          0.641,
          0.8280000000000001
         ]
        },
        {
         "marker": {
          "color": "RoyalBlue"
         },
         "type": "bar",
         "x": [
          "",
          "PC1",
          "PC2",
          "PC3"
         ],
         "y": [
          0,
          0.38667420396295615,
          0.25362993372938897,
          0.18738104588337345
         ]
        }
       ],
       "layout": {
        "template": {
         "data": {
          "bar": [
           {
            "error_x": {
             "color": "#2a3f5f"
            },
            "error_y": {
             "color": "#2a3f5f"
            },
            "marker": {
             "line": {
              "color": "#E5ECF6",
              "width": 0.5
             },
             "pattern": {
              "fillmode": "overlay",
              "size": 10,
              "solidity": 0.2
             }
            },
            "type": "bar"
           }
          ],
          "barpolar": [
           {
            "marker": {
             "line": {
              "color": "#E5ECF6",
              "width": 0.5
             },
             "pattern": {
              "fillmode": "overlay",
              "size": 10,
              "solidity": 0.2
             }
            },
            "type": "barpolar"
           }
          ],
          "carpet": [
           {
            "aaxis": {
             "endlinecolor": "#2a3f5f",
             "gridcolor": "white",
             "linecolor": "white",
             "minorgridcolor": "white",
             "startlinecolor": "#2a3f5f"
            },
            "baxis": {
             "endlinecolor": "#2a3f5f",
             "gridcolor": "white",
             "linecolor": "white",
             "minorgridcolor": "white",
             "startlinecolor": "#2a3f5f"
            },
            "type": "carpet"
           }
          ],
          "choropleth": [
           {
            "colorbar": {
             "outlinewidth": 0,
             "ticks": ""
            },
            "type": "choropleth"
           }
          ],
          "contour": [
           {
            "colorbar": {
             "outlinewidth": 0,
             "ticks": ""
            },
            "colorscale": [
             [
              0,
              "#0d0887"
             ],
             [
              0.1111111111111111,
              "#46039f"
             ],
             [
              0.2222222222222222,
              "#7201a8"
             ],
             [
              0.3333333333333333,
              "#9c179e"
             ],
             [
              0.4444444444444444,
              "#bd3786"
             ],
             [
              0.5555555555555556,
              "#d8576b"
             ],
             [
              0.6666666666666666,
              "#ed7953"
             ],
             [
              0.7777777777777778,
              "#fb9f3a"
             ],
             [
              0.8888888888888888,
              "#fdca26"
             ],
             [
              1,
              "#f0f921"
             ]
            ],
            "type": "contour"
           }
          ],
          "contourcarpet": [
           {
            "colorbar": {
             "outlinewidth": 0,
             "ticks": ""
            },
            "type": "contourcarpet"
           }
          ],
          "heatmap": [
           {
            "colorbar": {
             "outlinewidth": 0,
             "ticks": ""
            },
            "colorscale": [
             [
              0,
              "#0d0887"
             ],
             [
              0.1111111111111111,
              "#46039f"
             ],
             [
              0.2222222222222222,
              "#7201a8"
             ],
             [
              0.3333333333333333,
              "#9c179e"
             ],
             [
              0.4444444444444444,
              "#bd3786"
             ],
             [
              0.5555555555555556,
              "#d8576b"
             ],
             [
              0.6666666666666666,
              "#ed7953"
             ],
             [
              0.7777777777777778,
              "#fb9f3a"
             ],
             [
              0.8888888888888888,
              "#fdca26"
             ],
             [
              1,
              "#f0f921"
             ]
            ],
            "type": "heatmap"
           }
          ],
          "heatmapgl": [
           {
            "colorbar": {
             "outlinewidth": 0,
             "ticks": ""
            },
            "colorscale": [
             [
              0,
              "#0d0887"
             ],
             [
              0.1111111111111111,
              "#46039f"
             ],
             [
              0.2222222222222222,
              "#7201a8"
             ],
             [
              0.3333333333333333,
              "#9c179e"
             ],
             [
              0.4444444444444444,
              "#bd3786"
             ],
             [
              0.5555555555555556,
              "#d8576b"
             ],
             [
              0.6666666666666666,
              "#ed7953"
             ],
             [
              0.7777777777777778,
              "#fb9f3a"
             ],
             [
              0.8888888888888888,
              "#fdca26"
             ],
             [
              1,
              "#f0f921"
             ]
            ],
            "type": "heatmapgl"
           }
          ],
          "histogram": [
           {
            "marker": {
             "pattern": {
              "fillmode": "overlay",
              "size": 10,
              "solidity": 0.2
             }
            },
            "type": "histogram"
           }
          ],
          "histogram2d": [
           {
            "colorbar": {
             "outlinewidth": 0,
             "ticks": ""
            },
            "colorscale": [
             [
              0,
              "#0d0887"
             ],
             [
              0.1111111111111111,
              "#46039f"
             ],
             [
              0.2222222222222222,
              "#7201a8"
             ],
             [
              0.3333333333333333,
              "#9c179e"
             ],
             [
              0.4444444444444444,
              "#bd3786"
             ],
             [
              0.5555555555555556,
              "#d8576b"
             ],
             [
              0.6666666666666666,
              "#ed7953"
             ],
             [
              0.7777777777777778,
              "#fb9f3a"
             ],
             [
              0.8888888888888888,
              "#fdca26"
             ],
             [
              1,
              "#f0f921"
             ]
            ],
            "type": "histogram2d"
           }
          ],
          "histogram2dcontour": [
           {
            "colorbar": {
             "outlinewidth": 0,
             "ticks": ""
            },
            "colorscale": [
             [
              0,
              "#0d0887"
             ],
             [
              0.1111111111111111,
              "#46039f"
             ],
             [
              0.2222222222222222,
              "#7201a8"
             ],
             [
              0.3333333333333333,
              "#9c179e"
             ],
             [
              0.4444444444444444,
              "#bd3786"
             ],
             [
              0.5555555555555556,
              "#d8576b"
             ],
             [
              0.6666666666666666,
              "#ed7953"
             ],
             [
              0.7777777777777778,
              "#fb9f3a"
             ],
             [
              0.8888888888888888,
              "#fdca26"
             ],
             [
              1,
              "#f0f921"
             ]
            ],
            "type": "histogram2dcontour"
           }
          ],
          "mesh3d": [
           {
            "colorbar": {
             "outlinewidth": 0,
             "ticks": ""
            },
            "type": "mesh3d"
           }
          ],
          "parcoords": [
           {
            "line": {
             "colorbar": {
              "outlinewidth": 0,
              "ticks": ""
             }
            },
            "type": "parcoords"
           }
          ],
          "pie": [
           {
            "automargin": true,
            "type": "pie"
           }
          ],
          "scatter": [
           {
            "fillpattern": {
             "fillmode": "overlay",
             "size": 10,
             "solidity": 0.2
            },
            "type": "scatter"
           }
          ],
          "scatter3d": [
           {
            "line": {
             "colorbar": {
              "outlinewidth": 0,
              "ticks": ""
             }
            },
            "marker": {
             "colorbar": {
              "outlinewidth": 0,
              "ticks": ""
             }
            },
            "type": "scatter3d"
           }
          ],
          "scattercarpet": [
           {
            "marker": {
             "colorbar": {
              "outlinewidth": 0,
              "ticks": ""
             }
            },
            "type": "scattercarpet"
           }
          ],
          "scattergeo": [
           {
            "marker": {
             "colorbar": {
              "outlinewidth": 0,
              "ticks": ""
             }
            },
            "type": "scattergeo"
           }
          ],
          "scattergl": [
           {
            "marker": {
             "colorbar": {
              "outlinewidth": 0,
              "ticks": ""
             }
            },
            "type": "scattergl"
           }
          ],
          "scattermapbox": [
           {
            "marker": {
             "colorbar": {
              "outlinewidth": 0,
              "ticks": ""
             }
            },
            "type": "scattermapbox"
           }
          ],
          "scatterpolar": [
           {
            "marker": {
             "colorbar": {
              "outlinewidth": 0,
              "ticks": ""
             }
            },
            "type": "scatterpolar"
           }
          ],
          "scatterpolargl": [
           {
            "marker": {
             "colorbar": {
              "outlinewidth": 0,
              "ticks": ""
             }
            },
            "type": "scatterpolargl"
           }
          ],
          "scatterternary": [
           {
            "marker": {
             "colorbar": {
              "outlinewidth": 0,
              "ticks": ""
             }
            },
            "type": "scatterternary"
           }
          ],
          "surface": [
           {
            "colorbar": {
             "outlinewidth": 0,
             "ticks": ""
            },
            "colorscale": [
             [
              0,
              "#0d0887"
             ],
             [
              0.1111111111111111,
              "#46039f"
             ],
             [
              0.2222222222222222,
              "#7201a8"
             ],
             [
              0.3333333333333333,
              "#9c179e"
             ],
             [
              0.4444444444444444,
              "#bd3786"
             ],
             [
              0.5555555555555556,
              "#d8576b"
             ],
             [
              0.6666666666666666,
              "#ed7953"
             ],
             [
              0.7777777777777778,
              "#fb9f3a"
             ],
             [
              0.8888888888888888,
              "#fdca26"
             ],
             [
              1,
              "#f0f921"
             ]
            ],
            "type": "surface"
           }
          ],
          "table": [
           {
            "cells": {
             "fill": {
              "color": "#EBF0F8"
             },
             "line": {
              "color": "white"
             }
            },
            "header": {
             "fill": {
              "color": "#C8D4E3"
             },
             "line": {
              "color": "white"
             }
            },
            "type": "table"
           }
          ]
         },
         "layout": {
          "annotationdefaults": {
           "arrowcolor": "#2a3f5f",
           "arrowhead": 0,
           "arrowwidth": 1
          },
          "autotypenumbers": "strict",
          "coloraxis": {
           "colorbar": {
            "outlinewidth": 0,
            "ticks": ""
           }
          },
          "colorscale": {
           "diverging": [
            [
             0,
             "#8e0152"
            ],
            [
             0.1,
             "#c51b7d"
            ],
            [
             0.2,
             "#de77ae"
            ],
            [
             0.3,
             "#f1b6da"
            ],
            [
             0.4,
             "#fde0ef"
            ],
            [
             0.5,
             "#f7f7f7"
            ],
            [
             0.6,
             "#e6f5d0"
            ],
            [
             0.7,
             "#b8e186"
            ],
            [
             0.8,
             "#7fbc41"
            ],
            [
             0.9,
             "#4d9221"
            ],
            [
             1,
             "#276419"
            ]
           ],
           "sequential": [
            [
             0,
             "#0d0887"
            ],
            [
             0.1111111111111111,
             "#46039f"
            ],
            [
             0.2222222222222222,
             "#7201a8"
            ],
            [
             0.3333333333333333,
             "#9c179e"
            ],
            [
             0.4444444444444444,
             "#bd3786"
            ],
            [
             0.5555555555555556,
             "#d8576b"
            ],
            [
             0.6666666666666666,
             "#ed7953"
            ],
            [
             0.7777777777777778,
             "#fb9f3a"
            ],
            [
             0.8888888888888888,
             "#fdca26"
            ],
            [
             1,
             "#f0f921"
            ]
           ],
           "sequentialminus": [
            [
             0,
             "#0d0887"
            ],
            [
             0.1111111111111111,
             "#46039f"
            ],
            [
             0.2222222222222222,
             "#7201a8"
            ],
            [
             0.3333333333333333,
             "#9c179e"
            ],
            [
             0.4444444444444444,
             "#bd3786"
            ],
            [
             0.5555555555555556,
             "#d8576b"
            ],
            [
             0.6666666666666666,
             "#ed7953"
            ],
            [
             0.7777777777777778,
             "#fb9f3a"
            ],
            [
             0.8888888888888888,
             "#fdca26"
            ],
            [
             1,
             "#f0f921"
            ]
           ]
          },
          "colorway": [
           "#636efa",
           "#EF553B",
           "#00cc96",
           "#ab63fa",
           "#FFA15A",
           "#19d3f3",
           "#FF6692",
           "#B6E880",
           "#FF97FF",
           "#FECB52"
          ],
          "font": {
           "color": "#2a3f5f"
          },
          "geo": {
           "bgcolor": "white",
           "lakecolor": "white",
           "landcolor": "#E5ECF6",
           "showlakes": true,
           "showland": true,
           "subunitcolor": "white"
          },
          "hoverlabel": {
           "align": "left"
          },
          "hovermode": "closest",
          "mapbox": {
           "style": "light"
          },
          "paper_bgcolor": "white",
          "plot_bgcolor": "#E5ECF6",
          "polar": {
           "angularaxis": {
            "gridcolor": "white",
            "linecolor": "white",
            "ticks": ""
           },
           "bgcolor": "#E5ECF6",
           "radialaxis": {
            "gridcolor": "white",
            "linecolor": "white",
            "ticks": ""
           }
          },
          "scene": {
           "xaxis": {
            "backgroundcolor": "#E5ECF6",
            "gridcolor": "white",
            "gridwidth": 2,
            "linecolor": "white",
            "showbackground": true,
            "ticks": "",
            "zerolinecolor": "white"
           },
           "yaxis": {
            "backgroundcolor": "#E5ECF6",
            "gridcolor": "white",
            "gridwidth": 2,
            "linecolor": "white",
            "showbackground": true,
            "ticks": "",
            "zerolinecolor": "white"
           },
           "zaxis": {
            "backgroundcolor": "#E5ECF6",
            "gridcolor": "white",
            "gridwidth": 2,
            "linecolor": "white",
            "showbackground": true,
            "ticks": "",
            "zerolinecolor": "white"
           }
          },
          "shapedefaults": {
           "line": {
            "color": "#2a3f5f"
           }
          },
          "ternary": {
           "aaxis": {
            "gridcolor": "white",
            "linecolor": "white",
            "ticks": ""
           },
           "baxis": {
            "gridcolor": "white",
            "linecolor": "white",
            "ticks": ""
           },
           "bgcolor": "#E5ECF6",
           "caxis": {
            "gridcolor": "white",
            "linecolor": "white",
            "ticks": ""
           }
          },
          "title": {
           "x": 0.05
          },
          "xaxis": {
           "automargin": true,
           "gridcolor": "white",
           "linecolor": "white",
           "ticks": "",
           "title": {
            "standoff": 15
           },
           "zerolinecolor": "white",
           "zerolinewidth": 2
          },
          "yaxis": {
           "automargin": true,
           "gridcolor": "white",
           "linecolor": "white",
           "ticks": "",
           "title": {
            "standoff": 15
           },
           "zerolinecolor": "white",
           "zerolinewidth": 2
          }
         }
        }
       }
      },
      "text/html": [
       "<div>                            <div id=\"5bf382e6-0823-4a93-84d9-5b1fa69cbd19\" class=\"plotly-graph-div\" style=\"height:525px; width:100%;\"></div>            <script type=\"text/javascript\">                require([\"plotly\"], function(Plotly) {                    window.PLOTLYENV=window.PLOTLYENV || {};                                    if (document.getElementById(\"5bf382e6-0823-4a93-84d9-5b1fa69cbd19\")) {                    Plotly.newPlot(                        \"5bf382e6-0823-4a93-84d9-5b1fa69cbd19\",                        [{\"marker\":{\"color\":\"LightSeaGreen\",\"size\":15},\"x\":[\"\",\"PC1\",\"PC2\",\"PC3\"],\"y\":[0.0,0.387,0.641,0.8280000000000001],\"type\":\"scatter\"},{\"marker\":{\"color\":\"RoyalBlue\"},\"x\":[\"\",\"PC1\",\"PC2\",\"PC3\"],\"y\":[0.0,0.38667420396295615,0.25362993372938897,0.18738104588337345],\"type\":\"bar\"}],                        {\"template\":{\"data\":{\"histogram2dcontour\":[{\"type\":\"histogram2dcontour\",\"colorbar\":{\"outlinewidth\":0,\"ticks\":\"\"},\"colorscale\":[[0.0,\"#0d0887\"],[0.1111111111111111,\"#46039f\"],[0.2222222222222222,\"#7201a8\"],[0.3333333333333333,\"#9c179e\"],[0.4444444444444444,\"#bd3786\"],[0.5555555555555556,\"#d8576b\"],[0.6666666666666666,\"#ed7953\"],[0.7777777777777778,\"#fb9f3a\"],[0.8888888888888888,\"#fdca26\"],[1.0,\"#f0f921\"]]}],\"choropleth\":[{\"type\":\"choropleth\",\"colorbar\":{\"outlinewidth\":0,\"ticks\":\"\"}}],\"histogram2d\":[{\"type\":\"histogram2d\",\"colorbar\":{\"outlinewidth\":0,\"ticks\":\"\"},\"colorscale\":[[0.0,\"#0d0887\"],[0.1111111111111111,\"#46039f\"],[0.2222222222222222,\"#7201a8\"],[0.3333333333333333,\"#9c179e\"],[0.4444444444444444,\"#bd3786\"],[0.5555555555555556,\"#d8576b\"],[0.6666666666666666,\"#ed7953\"],[0.7777777777777778,\"#fb9f3a\"],[0.8888888888888888,\"#fdca26\"],[1.0,\"#f0f921\"]]}],\"heatmap\":[{\"type\":\"heatmap\",\"colorbar\":{\"outlinewidth\":0,\"ticks\":\"\"},\"colorscale\":[[0.0,\"#0d0887\"],[0.1111111111111111,\"#46039f\"],[0.2222222222222222,\"#7201a8\"],[0.3333333333333333,\"#9c179e\"],[0.4444444444444444,\"#bd3786\"],[0.5555555555555556,\"#d8576b\"],[0.6666666666666666,\"#ed7953\"],[0.7777777777777778,\"#fb9f3a\"],[0.8888888888888888,\"#fdca26\"],[1.0,\"#f0f921\"]]}],\"heatmapgl\":[{\"type\":\"heatmapgl\",\"colorbar\":{\"outlinewidth\":0,\"ticks\":\"\"},\"colorscale\":[[0.0,\"#0d0887\"],[0.1111111111111111,\"#46039f\"],[0.2222222222222222,\"#7201a8\"],[0.3333333333333333,\"#9c179e\"],[0.4444444444444444,\"#bd3786\"],[0.5555555555555556,\"#d8576b\"],[0.6666666666666666,\"#ed7953\"],[0.7777777777777778,\"#fb9f3a\"],[0.8888888888888888,\"#fdca26\"],[1.0,\"#f0f921\"]]}],\"contourcarpet\":[{\"type\":\"contourcarpet\",\"colorbar\":{\"outlinewidth\":0,\"ticks\":\"\"}}],\"contour\":[{\"type\":\"contour\",\"colorbar\":{\"outlinewidth\":0,\"ticks\":\"\"},\"colorscale\":[[0.0,\"#0d0887\"],[0.1111111111111111,\"#46039f\"],[0.2222222222222222,\"#7201a8\"],[0.3333333333333333,\"#9c179e\"],[0.4444444444444444,\"#bd3786\"],[0.5555555555555556,\"#d8576b\"],[0.6666666666666666,\"#ed7953\"],[0.7777777777777778,\"#fb9f3a\"],[0.8888888888888888,\"#fdca26\"],[1.0,\"#f0f921\"]]}],\"surface\":[{\"type\":\"surface\",\"colorbar\":{\"outlinewidth\":0,\"ticks\":\"\"},\"colorscale\":[[0.0,\"#0d0887\"],[0.1111111111111111,\"#46039f\"],[0.2222222222222222,\"#7201a8\"],[0.3333333333333333,\"#9c179e\"],[0.4444444444444444,\"#bd3786\"],[0.5555555555555556,\"#d8576b\"],[0.6666666666666666,\"#ed7953\"],[0.7777777777777778,\"#fb9f3a\"],[0.8888888888888888,\"#fdca26\"],[1.0,\"#f0f921\"]]}],\"mesh3d\":[{\"type\":\"mesh3d\",\"colorbar\":{\"outlinewidth\":0,\"ticks\":\"\"}}],\"scatter\":[{\"fillpattern\":{\"fillmode\":\"overlay\",\"size\":10,\"solidity\":0.2},\"type\":\"scatter\"}],\"parcoords\":[{\"type\":\"parcoords\",\"line\":{\"colorbar\":{\"outlinewidth\":0,\"ticks\":\"\"}}}],\"scatterpolargl\":[{\"type\":\"scatterpolargl\",\"marker\":{\"colorbar\":{\"outlinewidth\":0,\"ticks\":\"\"}}}],\"bar\":[{\"error_x\":{\"color\":\"#2a3f5f\"},\"error_y\":{\"color\":\"#2a3f5f\"},\"marker\":{\"line\":{\"color\":\"#E5ECF6\",\"width\":0.5},\"pattern\":{\"fillmode\":\"overlay\",\"size\":10,\"solidity\":0.2}},\"type\":\"bar\"}],\"scattergeo\":[{\"type\":\"scattergeo\",\"marker\":{\"colorbar\":{\"outlinewidth\":0,\"ticks\":\"\"}}}],\"scatterpolar\":[{\"type\":\"scatterpolar\",\"marker\":{\"colorbar\":{\"outlinewidth\":0,\"ticks\":\"\"}}}],\"histogram\":[{\"marker\":{\"pattern\":{\"fillmode\":\"overlay\",\"size\":10,\"solidity\":0.2}},\"type\":\"histogram\"}],\"scattergl\":[{\"type\":\"scattergl\",\"marker\":{\"colorbar\":{\"outlinewidth\":0,\"ticks\":\"\"}}}],\"scatter3d\":[{\"type\":\"scatter3d\",\"line\":{\"colorbar\":{\"outlinewidth\":0,\"ticks\":\"\"}},\"marker\":{\"colorbar\":{\"outlinewidth\":0,\"ticks\":\"\"}}}],\"scattermapbox\":[{\"type\":\"scattermapbox\",\"marker\":{\"colorbar\":{\"outlinewidth\":0,\"ticks\":\"\"}}}],\"scatterternary\":[{\"type\":\"scatterternary\",\"marker\":{\"colorbar\":{\"outlinewidth\":0,\"ticks\":\"\"}}}],\"scattercarpet\":[{\"type\":\"scattercarpet\",\"marker\":{\"colorbar\":{\"outlinewidth\":0,\"ticks\":\"\"}}}],\"carpet\":[{\"aaxis\":{\"endlinecolor\":\"#2a3f5f\",\"gridcolor\":\"white\",\"linecolor\":\"white\",\"minorgridcolor\":\"white\",\"startlinecolor\":\"#2a3f5f\"},\"baxis\":{\"endlinecolor\":\"#2a3f5f\",\"gridcolor\":\"white\",\"linecolor\":\"white\",\"minorgridcolor\":\"white\",\"startlinecolor\":\"#2a3f5f\"},\"type\":\"carpet\"}],\"table\":[{\"cells\":{\"fill\":{\"color\":\"#EBF0F8\"},\"line\":{\"color\":\"white\"}},\"header\":{\"fill\":{\"color\":\"#C8D4E3\"},\"line\":{\"color\":\"white\"}},\"type\":\"table\"}],\"barpolar\":[{\"marker\":{\"line\":{\"color\":\"#E5ECF6\",\"width\":0.5},\"pattern\":{\"fillmode\":\"overlay\",\"size\":10,\"solidity\":0.2}},\"type\":\"barpolar\"}],\"pie\":[{\"automargin\":true,\"type\":\"pie\"}]},\"layout\":{\"autotypenumbers\":\"strict\",\"colorway\":[\"#636efa\",\"#EF553B\",\"#00cc96\",\"#ab63fa\",\"#FFA15A\",\"#19d3f3\",\"#FF6692\",\"#B6E880\",\"#FF97FF\",\"#FECB52\"],\"font\":{\"color\":\"#2a3f5f\"},\"hovermode\":\"closest\",\"hoverlabel\":{\"align\":\"left\"},\"paper_bgcolor\":\"white\",\"plot_bgcolor\":\"#E5ECF6\",\"polar\":{\"bgcolor\":\"#E5ECF6\",\"angularaxis\":{\"gridcolor\":\"white\",\"linecolor\":\"white\",\"ticks\":\"\"},\"radialaxis\":{\"gridcolor\":\"white\",\"linecolor\":\"white\",\"ticks\":\"\"}},\"ternary\":{\"bgcolor\":\"#E5ECF6\",\"aaxis\":{\"gridcolor\":\"white\",\"linecolor\":\"white\",\"ticks\":\"\"},\"baxis\":{\"gridcolor\":\"white\",\"linecolor\":\"white\",\"ticks\":\"\"},\"caxis\":{\"gridcolor\":\"white\",\"linecolor\":\"white\",\"ticks\":\"\"}},\"coloraxis\":{\"colorbar\":{\"outlinewidth\":0,\"ticks\":\"\"}},\"colorscale\":{\"sequential\":[[0.0,\"#0d0887\"],[0.1111111111111111,\"#46039f\"],[0.2222222222222222,\"#7201a8\"],[0.3333333333333333,\"#9c179e\"],[0.4444444444444444,\"#bd3786\"],[0.5555555555555556,\"#d8576b\"],[0.6666666666666666,\"#ed7953\"],[0.7777777777777778,\"#fb9f3a\"],[0.8888888888888888,\"#fdca26\"],[1.0,\"#f0f921\"]],\"sequentialminus\":[[0.0,\"#0d0887\"],[0.1111111111111111,\"#46039f\"],[0.2222222222222222,\"#7201a8\"],[0.3333333333333333,\"#9c179e\"],[0.4444444444444444,\"#bd3786\"],[0.5555555555555556,\"#d8576b\"],[0.6666666666666666,\"#ed7953\"],[0.7777777777777778,\"#fb9f3a\"],[0.8888888888888888,\"#fdca26\"],[1.0,\"#f0f921\"]],\"diverging\":[[0,\"#8e0152\"],[0.1,\"#c51b7d\"],[0.2,\"#de77ae\"],[0.3,\"#f1b6da\"],[0.4,\"#fde0ef\"],[0.5,\"#f7f7f7\"],[0.6,\"#e6f5d0\"],[0.7,\"#b8e186\"],[0.8,\"#7fbc41\"],[0.9,\"#4d9221\"],[1,\"#276419\"]]},\"xaxis\":{\"gridcolor\":\"white\",\"linecolor\":\"white\",\"ticks\":\"\",\"title\":{\"standoff\":15},\"zerolinecolor\":\"white\",\"automargin\":true,\"zerolinewidth\":2},\"yaxis\":{\"gridcolor\":\"white\",\"linecolor\":\"white\",\"ticks\":\"\",\"title\":{\"standoff\":15},\"zerolinecolor\":\"white\",\"automargin\":true,\"zerolinewidth\":2},\"scene\":{\"xaxis\":{\"backgroundcolor\":\"#E5ECF6\",\"gridcolor\":\"white\",\"linecolor\":\"white\",\"showbackground\":true,\"ticks\":\"\",\"zerolinecolor\":\"white\",\"gridwidth\":2},\"yaxis\":{\"backgroundcolor\":\"#E5ECF6\",\"gridcolor\":\"white\",\"linecolor\":\"white\",\"showbackground\":true,\"ticks\":\"\",\"zerolinecolor\":\"white\",\"gridwidth\":2},\"zaxis\":{\"backgroundcolor\":\"#E5ECF6\",\"gridcolor\":\"white\",\"linecolor\":\"white\",\"showbackground\":true,\"ticks\":\"\",\"zerolinecolor\":\"white\",\"gridwidth\":2}},\"shapedefaults\":{\"line\":{\"color\":\"#2a3f5f\"}},\"annotationdefaults\":{\"arrowcolor\":\"#2a3f5f\",\"arrowhead\":0,\"arrowwidth\":1},\"geo\":{\"bgcolor\":\"white\",\"landcolor\":\"#E5ECF6\",\"subunitcolor\":\"white\",\"showland\":true,\"showlakes\":true,\"lakecolor\":\"white\"},\"title\":{\"x\":0.05},\"mapbox\":{\"style\":\"light\"}}}},                        {\"responsive\": true}                    ).then(function(){\n",
       "                            \n",
       "var gd = document.getElementById('5bf382e6-0823-4a93-84d9-5b1fa69cbd19');\n",
       "var x = new MutationObserver(function (mutations, observer) {{\n",
       "        var display = window.getComputedStyle(gd).display;\n",
       "        if (!display || display === 'none') {{\n",
       "            console.log([gd, 'removed!']);\n",
       "            Plotly.purge(gd);\n",
       "            observer.disconnect();\n",
       "        }}\n",
       "}});\n",
       "\n",
       "// Listen for the removal of the full notebook cells\n",
       "var notebookContainer = gd.closest('#notebook-container');\n",
       "if (notebookContainer) {{\n",
       "    x.observe(notebookContainer, {childList: true});\n",
       "}}\n",
       "\n",
       "// Listen for the clearing of the current output cell\n",
       "var outputEl = gd.closest('.output');\n",
       "if (outputEl) {{\n",
       "    x.observe(outputEl, {childList: true});\n",
       "}}\n",
       "\n",
       "                        })                };                });            </script>        </div>"
      ]
     },
     "metadata": {},
     "output_type": "display_data"
    }
   ],
   "source": [
    "# explained variance + cumulative variance\n",
    "# https://plotly.com/python/creating-and-updating-figures\n",
    "\n",
    "import plotly.graph_objects as go\n",
    "fig = go.Figure()\n",
    "\n",
    "fig.add_trace(\n",
    "    go.Scatter(\n",
    "        x=df_explained_variance['PC'],\n",
    "        y=df_explained_variance['Cumulative Variance'],\n",
    "        marker=dict(size=15, color='LightSeaGreen')\n",
    "    ))\n",
    "\n",
    "fig.add_trace(\n",
    "    go.Bar(\n",
    "        x=df_explained_variance['PC'],\n",
    "        y=df_explained_variance['Explained Variance'],\n",
    "        marker=dict(color='RoyalBlue')\n",
    "    ))\n",
    "\n",
    "fig.show()"
   ]
  },
  {
   "cell_type": "code",
   "execution_count": 57,
   "id": "07efceeb",
   "metadata": {},
   "outputs": [
    {
     "data": {
      "application/vnd.plotly.v1+json": {
       "config": {
        "plotlyServerURL": "https://plot.ly"
       },
       "data": [
        {
         "marker": {
          "color": "LightSeaGreen",
          "size": 15
         },
         "type": "scatter",
         "x": [
          "",
          "PC1",
          "PC2",
          "PC3"
         ],
         "xaxis": "x",
         "y": [
          0,
          0.387,
          0.641,
          0.8280000000000001
         ],
         "yaxis": "y"
        },
        {
         "marker": {
          "color": "RoyalBlue"
         },
         "type": "bar",
         "x": [
          "",
          "PC1",
          "PC2",
          "PC3"
         ],
         "xaxis": "x2",
         "y": [
          0,
          0.38667420396295615,
          0.25362993372938897,
          0.18738104588337345
         ],
         "yaxis": "y2"
        }
       ],
       "layout": {
        "template": {
         "data": {
          "bar": [
           {
            "error_x": {
             "color": "#2a3f5f"
            },
            "error_y": {
             "color": "#2a3f5f"
            },
            "marker": {
             "line": {
              "color": "#E5ECF6",
              "width": 0.5
             },
             "pattern": {
              "fillmode": "overlay",
              "size": 10,
              "solidity": 0.2
             }
            },
            "type": "bar"
           }
          ],
          "barpolar": [
           {
            "marker": {
             "line": {
              "color": "#E5ECF6",
              "width": 0.5
             },
             "pattern": {
              "fillmode": "overlay",
              "size": 10,
              "solidity": 0.2
             }
            },
            "type": "barpolar"
           }
          ],
          "carpet": [
           {
            "aaxis": {
             "endlinecolor": "#2a3f5f",
             "gridcolor": "white",
             "linecolor": "white",
             "minorgridcolor": "white",
             "startlinecolor": "#2a3f5f"
            },
            "baxis": {
             "endlinecolor": "#2a3f5f",
             "gridcolor": "white",
             "linecolor": "white",
             "minorgridcolor": "white",
             "startlinecolor": "#2a3f5f"
            },
            "type": "carpet"
           }
          ],
          "choropleth": [
           {
            "colorbar": {
             "outlinewidth": 0,
             "ticks": ""
            },
            "type": "choropleth"
           }
          ],
          "contour": [
           {
            "colorbar": {
             "outlinewidth": 0,
             "ticks": ""
            },
            "colorscale": [
             [
              0,
              "#0d0887"
             ],
             [
              0.1111111111111111,
              "#46039f"
             ],
             [
              0.2222222222222222,
              "#7201a8"
             ],
             [
              0.3333333333333333,
              "#9c179e"
             ],
             [
              0.4444444444444444,
              "#bd3786"
             ],
             [
              0.5555555555555556,
              "#d8576b"
             ],
             [
              0.6666666666666666,
              "#ed7953"
             ],
             [
              0.7777777777777778,
              "#fb9f3a"
             ],
             [
              0.8888888888888888,
              "#fdca26"
             ],
             [
              1,
              "#f0f921"
             ]
            ],
            "type": "contour"
           }
          ],
          "contourcarpet": [
           {
            "colorbar": {
             "outlinewidth": 0,
             "ticks": ""
            },
            "type": "contourcarpet"
           }
          ],
          "heatmap": [
           {
            "colorbar": {
             "outlinewidth": 0,
             "ticks": ""
            },
            "colorscale": [
             [
              0,
              "#0d0887"
             ],
             [
              0.1111111111111111,
              "#46039f"
             ],
             [
              0.2222222222222222,
              "#7201a8"
             ],
             [
              0.3333333333333333,
              "#9c179e"
             ],
             [
              0.4444444444444444,
              "#bd3786"
             ],
             [
              0.5555555555555556,
              "#d8576b"
             ],
             [
              0.6666666666666666,
              "#ed7953"
             ],
             [
              0.7777777777777778,
              "#fb9f3a"
             ],
             [
              0.8888888888888888,
              "#fdca26"
             ],
             [
              1,
              "#f0f921"
             ]
            ],
            "type": "heatmap"
           }
          ],
          "heatmapgl": [
           {
            "colorbar": {
             "outlinewidth": 0,
             "ticks": ""
            },
            "colorscale": [
             [
              0,
              "#0d0887"
             ],
             [
              0.1111111111111111,
              "#46039f"
             ],
             [
              0.2222222222222222,
              "#7201a8"
             ],
             [
              0.3333333333333333,
              "#9c179e"
             ],
             [
              0.4444444444444444,
              "#bd3786"
             ],
             [
              0.5555555555555556,
              "#d8576b"
             ],
             [
              0.6666666666666666,
              "#ed7953"
             ],
             [
              0.7777777777777778,
              "#fb9f3a"
             ],
             [
              0.8888888888888888,
              "#fdca26"
             ],
             [
              1,
              "#f0f921"
             ]
            ],
            "type": "heatmapgl"
           }
          ],
          "histogram": [
           {
            "marker": {
             "pattern": {
              "fillmode": "overlay",
              "size": 10,
              "solidity": 0.2
             }
            },
            "type": "histogram"
           }
          ],
          "histogram2d": [
           {
            "colorbar": {
             "outlinewidth": 0,
             "ticks": ""
            },
            "colorscale": [
             [
              0,
              "#0d0887"
             ],
             [
              0.1111111111111111,
              "#46039f"
             ],
             [
              0.2222222222222222,
              "#7201a8"
             ],
             [
              0.3333333333333333,
              "#9c179e"
             ],
             [
              0.4444444444444444,
              "#bd3786"
             ],
             [
              0.5555555555555556,
              "#d8576b"
             ],
             [
              0.6666666666666666,
              "#ed7953"
             ],
             [
              0.7777777777777778,
              "#fb9f3a"
             ],
             [
              0.8888888888888888,
              "#fdca26"
             ],
             [
              1,
              "#f0f921"
             ]
            ],
            "type": "histogram2d"
           }
          ],
          "histogram2dcontour": [
           {
            "colorbar": {
             "outlinewidth": 0,
             "ticks": ""
            },
            "colorscale": [
             [
              0,
              "#0d0887"
             ],
             [
              0.1111111111111111,
              "#46039f"
             ],
             [
              0.2222222222222222,
              "#7201a8"
             ],
             [
              0.3333333333333333,
              "#9c179e"
             ],
             [
              0.4444444444444444,
              "#bd3786"
             ],
             [
              0.5555555555555556,
              "#d8576b"
             ],
             [
              0.6666666666666666,
              "#ed7953"
             ],
             [
              0.7777777777777778,
              "#fb9f3a"
             ],
             [
              0.8888888888888888,
              "#fdca26"
             ],
             [
              1,
              "#f0f921"
             ]
            ],
            "type": "histogram2dcontour"
           }
          ],
          "mesh3d": [
           {
            "colorbar": {
             "outlinewidth": 0,
             "ticks": ""
            },
            "type": "mesh3d"
           }
          ],
          "parcoords": [
           {
            "line": {
             "colorbar": {
              "outlinewidth": 0,
              "ticks": ""
             }
            },
            "type": "parcoords"
           }
          ],
          "pie": [
           {
            "automargin": true,
            "type": "pie"
           }
          ],
          "scatter": [
           {
            "fillpattern": {
             "fillmode": "overlay",
             "size": 10,
             "solidity": 0.2
            },
            "type": "scatter"
           }
          ],
          "scatter3d": [
           {
            "line": {
             "colorbar": {
              "outlinewidth": 0,
              "ticks": ""
             }
            },
            "marker": {
             "colorbar": {
              "outlinewidth": 0,
              "ticks": ""
             }
            },
            "type": "scatter3d"
           }
          ],
          "scattercarpet": [
           {
            "marker": {
             "colorbar": {
              "outlinewidth": 0,
              "ticks": ""
             }
            },
            "type": "scattercarpet"
           }
          ],
          "scattergeo": [
           {
            "marker": {
             "colorbar": {
              "outlinewidth": 0,
              "ticks": ""
             }
            },
            "type": "scattergeo"
           }
          ],
          "scattergl": [
           {
            "marker": {
             "colorbar": {
              "outlinewidth": 0,
              "ticks": ""
             }
            },
            "type": "scattergl"
           }
          ],
          "scattermapbox": [
           {
            "marker": {
             "colorbar": {
              "outlinewidth": 0,
              "ticks": ""
             }
            },
            "type": "scattermapbox"
           }
          ],
          "scatterpolar": [
           {
            "marker": {
             "colorbar": {
              "outlinewidth": 0,
              "ticks": ""
             }
            },
            "type": "scatterpolar"
           }
          ],
          "scatterpolargl": [
           {
            "marker": {
             "colorbar": {
              "outlinewidth": 0,
              "ticks": ""
             }
            },
            "type": "scatterpolargl"
           }
          ],
          "scatterternary": [
           {
            "marker": {
             "colorbar": {
              "outlinewidth": 0,
              "ticks": ""
             }
            },
            "type": "scatterternary"
           }
          ],
          "surface": [
           {
            "colorbar": {
             "outlinewidth": 0,
             "ticks": ""
            },
            "colorscale": [
             [
              0,
              "#0d0887"
             ],
             [
              0.1111111111111111,
              "#46039f"
             ],
             [
              0.2222222222222222,
              "#7201a8"
             ],
             [
              0.3333333333333333,
              "#9c179e"
             ],
             [
              0.4444444444444444,
              "#bd3786"
             ],
             [
              0.5555555555555556,
              "#d8576b"
             ],
             [
              0.6666666666666666,
              "#ed7953"
             ],
             [
              0.7777777777777778,
              "#fb9f3a"
             ],
             [
              0.8888888888888888,
              "#fdca26"
             ],
             [
              1,
              "#f0f921"
             ]
            ],
            "type": "surface"
           }
          ],
          "table": [
           {
            "cells": {
             "fill": {
              "color": "#EBF0F8"
             },
             "line": {
              "color": "white"
             }
            },
            "header": {
             "fill": {
              "color": "#C8D4E3"
             },
             "line": {
              "color": "white"
             }
            },
            "type": "table"
           }
          ]
         },
         "layout": {
          "annotationdefaults": {
           "arrowcolor": "#2a3f5f",
           "arrowhead": 0,
           "arrowwidth": 1
          },
          "autotypenumbers": "strict",
          "coloraxis": {
           "colorbar": {
            "outlinewidth": 0,
            "ticks": ""
           }
          },
          "colorscale": {
           "diverging": [
            [
             0,
             "#8e0152"
            ],
            [
             0.1,
             "#c51b7d"
            ],
            [
             0.2,
             "#de77ae"
            ],
            [
             0.3,
             "#f1b6da"
            ],
            [
             0.4,
             "#fde0ef"
            ],
            [
             0.5,
             "#f7f7f7"
            ],
            [
             0.6,
             "#e6f5d0"
            ],
            [
             0.7,
             "#b8e186"
            ],
            [
             0.8,
             "#7fbc41"
            ],
            [
             0.9,
             "#4d9221"
            ],
            [
             1,
             "#276419"
            ]
           ],
           "sequential": [
            [
             0,
             "#0d0887"
            ],
            [
             0.1111111111111111,
             "#46039f"
            ],
            [
             0.2222222222222222,
             "#7201a8"
            ],
            [
             0.3333333333333333,
             "#9c179e"
            ],
            [
             0.4444444444444444,
             "#bd3786"
            ],
            [
             0.5555555555555556,
             "#d8576b"
            ],
            [
             0.6666666666666666,
             "#ed7953"
            ],
            [
             0.7777777777777778,
             "#fb9f3a"
            ],
            [
             0.8888888888888888,
             "#fdca26"
            ],
            [
             1,
             "#f0f921"
            ]
           ],
           "sequentialminus": [
            [
             0,
             "#0d0887"
            ],
            [
             0.1111111111111111,
             "#46039f"
            ],
            [
             0.2222222222222222,
             "#7201a8"
            ],
            [
             0.3333333333333333,
             "#9c179e"
            ],
            [
             0.4444444444444444,
             "#bd3786"
            ],
            [
             0.5555555555555556,
             "#d8576b"
            ],
            [
             0.6666666666666666,
             "#ed7953"
            ],
            [
             0.7777777777777778,
             "#fb9f3a"
            ],
            [
             0.8888888888888888,
             "#fdca26"
            ],
            [
             1,
             "#f0f921"
            ]
           ]
          },
          "colorway": [
           "#636efa",
           "#EF553B",
           "#00cc96",
           "#ab63fa",
           "#FFA15A",
           "#19d3f3",
           "#FF6692",
           "#B6E880",
           "#FF97FF",
           "#FECB52"
          ],
          "font": {
           "color": "#2a3f5f"
          },
          "geo": {
           "bgcolor": "white",
           "lakecolor": "white",
           "landcolor": "#E5ECF6",
           "showlakes": true,
           "showland": true,
           "subunitcolor": "white"
          },
          "hoverlabel": {
           "align": "left"
          },
          "hovermode": "closest",
          "mapbox": {
           "style": "light"
          },
          "paper_bgcolor": "white",
          "plot_bgcolor": "#E5ECF6",
          "polar": {
           "angularaxis": {
            "gridcolor": "white",
            "linecolor": "white",
            "ticks": ""
           },
           "bgcolor": "#E5ECF6",
           "radialaxis": {
            "gridcolor": "white",
            "linecolor": "white",
            "ticks": ""
           }
          },
          "scene": {
           "xaxis": {
            "backgroundcolor": "#E5ECF6",
            "gridcolor": "white",
            "gridwidth": 2,
            "linecolor": "white",
            "showbackground": true,
            "ticks": "",
            "zerolinecolor": "white"
           },
           "yaxis": {
            "backgroundcolor": "#E5ECF6",
            "gridcolor": "white",
            "gridwidth": 2,
            "linecolor": "white",
            "showbackground": true,
            "ticks": "",
            "zerolinecolor": "white"
           },
           "zaxis": {
            "backgroundcolor": "#E5ECF6",
            "gridcolor": "white",
            "gridwidth": 2,
            "linecolor": "white",
            "showbackground": true,
            "ticks": "",
            "zerolinecolor": "white"
           }
          },
          "shapedefaults": {
           "line": {
            "color": "#2a3f5f"
           }
          },
          "ternary": {
           "aaxis": {
            "gridcolor": "white",
            "linecolor": "white",
            "ticks": ""
           },
           "baxis": {
            "gridcolor": "white",
            "linecolor": "white",
            "ticks": ""
           },
           "bgcolor": "#E5ECF6",
           "caxis": {
            "gridcolor": "white",
            "linecolor": "white",
            "ticks": ""
           }
          },
          "title": {
           "x": 0.05
          },
          "xaxis": {
           "automargin": true,
           "gridcolor": "white",
           "linecolor": "white",
           "ticks": "",
           "title": {
            "standoff": 15
           },
           "zerolinecolor": "white",
           "zerolinewidth": 2
          },
          "yaxis": {
           "automargin": true,
           "gridcolor": "white",
           "linecolor": "white",
           "ticks": "",
           "title": {
            "standoff": 15
           },
           "zerolinecolor": "white",
           "zerolinewidth": 2
          }
         }
        },
        "xaxis": {
         "anchor": "y",
         "domain": [
          0,
          0.45
         ]
        },
        "xaxis2": {
         "anchor": "y2",
         "domain": [
          0.55,
          1
         ]
        },
        "yaxis": {
         "anchor": "x",
         "domain": [
          0,
          1
         ]
        },
        "yaxis2": {
         "anchor": "x2",
         "domain": [
          0,
          1
         ]
        }
       }
      },
      "text/html": [
       "<div>                            <div id=\"7786ddd6-e26a-4e42-9d73-7ef650c1584e\" class=\"plotly-graph-div\" style=\"height:525px; width:100%;\"></div>            <script type=\"text/javascript\">                require([\"plotly\"], function(Plotly) {                    window.PLOTLYENV=window.PLOTLYENV || {};                                    if (document.getElementById(\"7786ddd6-e26a-4e42-9d73-7ef650c1584e\")) {                    Plotly.newPlot(                        \"7786ddd6-e26a-4e42-9d73-7ef650c1584e\",                        [{\"marker\":{\"color\":\"LightSeaGreen\",\"size\":15},\"x\":[\"\",\"PC1\",\"PC2\",\"PC3\"],\"y\":[0.0,0.387,0.641,0.8280000000000001],\"type\":\"scatter\",\"xaxis\":\"x\",\"yaxis\":\"y\"},{\"marker\":{\"color\":\"RoyalBlue\"},\"x\":[\"\",\"PC1\",\"PC2\",\"PC3\"],\"y\":[0.0,0.38667420396295615,0.25362993372938897,0.18738104588337345],\"type\":\"bar\",\"xaxis\":\"x2\",\"yaxis\":\"y2\"}],                        {\"template\":{\"data\":{\"histogram2dcontour\":[{\"type\":\"histogram2dcontour\",\"colorbar\":{\"outlinewidth\":0,\"ticks\":\"\"},\"colorscale\":[[0.0,\"#0d0887\"],[0.1111111111111111,\"#46039f\"],[0.2222222222222222,\"#7201a8\"],[0.3333333333333333,\"#9c179e\"],[0.4444444444444444,\"#bd3786\"],[0.5555555555555556,\"#d8576b\"],[0.6666666666666666,\"#ed7953\"],[0.7777777777777778,\"#fb9f3a\"],[0.8888888888888888,\"#fdca26\"],[1.0,\"#f0f921\"]]}],\"choropleth\":[{\"type\":\"choropleth\",\"colorbar\":{\"outlinewidth\":0,\"ticks\":\"\"}}],\"histogram2d\":[{\"type\":\"histogram2d\",\"colorbar\":{\"outlinewidth\":0,\"ticks\":\"\"},\"colorscale\":[[0.0,\"#0d0887\"],[0.1111111111111111,\"#46039f\"],[0.2222222222222222,\"#7201a8\"],[0.3333333333333333,\"#9c179e\"],[0.4444444444444444,\"#bd3786\"],[0.5555555555555556,\"#d8576b\"],[0.6666666666666666,\"#ed7953\"],[0.7777777777777778,\"#fb9f3a\"],[0.8888888888888888,\"#fdca26\"],[1.0,\"#f0f921\"]]}],\"heatmap\":[{\"type\":\"heatmap\",\"colorbar\":{\"outlinewidth\":0,\"ticks\":\"\"},\"colorscale\":[[0.0,\"#0d0887\"],[0.1111111111111111,\"#46039f\"],[0.2222222222222222,\"#7201a8\"],[0.3333333333333333,\"#9c179e\"],[0.4444444444444444,\"#bd3786\"],[0.5555555555555556,\"#d8576b\"],[0.6666666666666666,\"#ed7953\"],[0.7777777777777778,\"#fb9f3a\"],[0.8888888888888888,\"#fdca26\"],[1.0,\"#f0f921\"]]}],\"heatmapgl\":[{\"type\":\"heatmapgl\",\"colorbar\":{\"outlinewidth\":0,\"ticks\":\"\"},\"colorscale\":[[0.0,\"#0d0887\"],[0.1111111111111111,\"#46039f\"],[0.2222222222222222,\"#7201a8\"],[0.3333333333333333,\"#9c179e\"],[0.4444444444444444,\"#bd3786\"],[0.5555555555555556,\"#d8576b\"],[0.6666666666666666,\"#ed7953\"],[0.7777777777777778,\"#fb9f3a\"],[0.8888888888888888,\"#fdca26\"],[1.0,\"#f0f921\"]]}],\"contourcarpet\":[{\"type\":\"contourcarpet\",\"colorbar\":{\"outlinewidth\":0,\"ticks\":\"\"}}],\"contour\":[{\"type\":\"contour\",\"colorbar\":{\"outlinewidth\":0,\"ticks\":\"\"},\"colorscale\":[[0.0,\"#0d0887\"],[0.1111111111111111,\"#46039f\"],[0.2222222222222222,\"#7201a8\"],[0.3333333333333333,\"#9c179e\"],[0.4444444444444444,\"#bd3786\"],[0.5555555555555556,\"#d8576b\"],[0.6666666666666666,\"#ed7953\"],[0.7777777777777778,\"#fb9f3a\"],[0.8888888888888888,\"#fdca26\"],[1.0,\"#f0f921\"]]}],\"surface\":[{\"type\":\"surface\",\"colorbar\":{\"outlinewidth\":0,\"ticks\":\"\"},\"colorscale\":[[0.0,\"#0d0887\"],[0.1111111111111111,\"#46039f\"],[0.2222222222222222,\"#7201a8\"],[0.3333333333333333,\"#9c179e\"],[0.4444444444444444,\"#bd3786\"],[0.5555555555555556,\"#d8576b\"],[0.6666666666666666,\"#ed7953\"],[0.7777777777777778,\"#fb9f3a\"],[0.8888888888888888,\"#fdca26\"],[1.0,\"#f0f921\"]]}],\"mesh3d\":[{\"type\":\"mesh3d\",\"colorbar\":{\"outlinewidth\":0,\"ticks\":\"\"}}],\"scatter\":[{\"fillpattern\":{\"fillmode\":\"overlay\",\"size\":10,\"solidity\":0.2},\"type\":\"scatter\"}],\"parcoords\":[{\"type\":\"parcoords\",\"line\":{\"colorbar\":{\"outlinewidth\":0,\"ticks\":\"\"}}}],\"scatterpolargl\":[{\"type\":\"scatterpolargl\",\"marker\":{\"colorbar\":{\"outlinewidth\":0,\"ticks\":\"\"}}}],\"bar\":[{\"error_x\":{\"color\":\"#2a3f5f\"},\"error_y\":{\"color\":\"#2a3f5f\"},\"marker\":{\"line\":{\"color\":\"#E5ECF6\",\"width\":0.5},\"pattern\":{\"fillmode\":\"overlay\",\"size\":10,\"solidity\":0.2}},\"type\":\"bar\"}],\"scattergeo\":[{\"type\":\"scattergeo\",\"marker\":{\"colorbar\":{\"outlinewidth\":0,\"ticks\":\"\"}}}],\"scatterpolar\":[{\"type\":\"scatterpolar\",\"marker\":{\"colorbar\":{\"outlinewidth\":0,\"ticks\":\"\"}}}],\"histogram\":[{\"marker\":{\"pattern\":{\"fillmode\":\"overlay\",\"size\":10,\"solidity\":0.2}},\"type\":\"histogram\"}],\"scattergl\":[{\"type\":\"scattergl\",\"marker\":{\"colorbar\":{\"outlinewidth\":0,\"ticks\":\"\"}}}],\"scatter3d\":[{\"type\":\"scatter3d\",\"line\":{\"colorbar\":{\"outlinewidth\":0,\"ticks\":\"\"}},\"marker\":{\"colorbar\":{\"outlinewidth\":0,\"ticks\":\"\"}}}],\"scattermapbox\":[{\"type\":\"scattermapbox\",\"marker\":{\"colorbar\":{\"outlinewidth\":0,\"ticks\":\"\"}}}],\"scatterternary\":[{\"type\":\"scatterternary\",\"marker\":{\"colorbar\":{\"outlinewidth\":0,\"ticks\":\"\"}}}],\"scattercarpet\":[{\"type\":\"scattercarpet\",\"marker\":{\"colorbar\":{\"outlinewidth\":0,\"ticks\":\"\"}}}],\"carpet\":[{\"aaxis\":{\"endlinecolor\":\"#2a3f5f\",\"gridcolor\":\"white\",\"linecolor\":\"white\",\"minorgridcolor\":\"white\",\"startlinecolor\":\"#2a3f5f\"},\"baxis\":{\"endlinecolor\":\"#2a3f5f\",\"gridcolor\":\"white\",\"linecolor\":\"white\",\"minorgridcolor\":\"white\",\"startlinecolor\":\"#2a3f5f\"},\"type\":\"carpet\"}],\"table\":[{\"cells\":{\"fill\":{\"color\":\"#EBF0F8\"},\"line\":{\"color\":\"white\"}},\"header\":{\"fill\":{\"color\":\"#C8D4E3\"},\"line\":{\"color\":\"white\"}},\"type\":\"table\"}],\"barpolar\":[{\"marker\":{\"line\":{\"color\":\"#E5ECF6\",\"width\":0.5},\"pattern\":{\"fillmode\":\"overlay\",\"size\":10,\"solidity\":0.2}},\"type\":\"barpolar\"}],\"pie\":[{\"automargin\":true,\"type\":\"pie\"}]},\"layout\":{\"autotypenumbers\":\"strict\",\"colorway\":[\"#636efa\",\"#EF553B\",\"#00cc96\",\"#ab63fa\",\"#FFA15A\",\"#19d3f3\",\"#FF6692\",\"#B6E880\",\"#FF97FF\",\"#FECB52\"],\"font\":{\"color\":\"#2a3f5f\"},\"hovermode\":\"closest\",\"hoverlabel\":{\"align\":\"left\"},\"paper_bgcolor\":\"white\",\"plot_bgcolor\":\"#E5ECF6\",\"polar\":{\"bgcolor\":\"#E5ECF6\",\"angularaxis\":{\"gridcolor\":\"white\",\"linecolor\":\"white\",\"ticks\":\"\"},\"radialaxis\":{\"gridcolor\":\"white\",\"linecolor\":\"white\",\"ticks\":\"\"}},\"ternary\":{\"bgcolor\":\"#E5ECF6\",\"aaxis\":{\"gridcolor\":\"white\",\"linecolor\":\"white\",\"ticks\":\"\"},\"baxis\":{\"gridcolor\":\"white\",\"linecolor\":\"white\",\"ticks\":\"\"},\"caxis\":{\"gridcolor\":\"white\",\"linecolor\":\"white\",\"ticks\":\"\"}},\"coloraxis\":{\"colorbar\":{\"outlinewidth\":0,\"ticks\":\"\"}},\"colorscale\":{\"sequential\":[[0.0,\"#0d0887\"],[0.1111111111111111,\"#46039f\"],[0.2222222222222222,\"#7201a8\"],[0.3333333333333333,\"#9c179e\"],[0.4444444444444444,\"#bd3786\"],[0.5555555555555556,\"#d8576b\"],[0.6666666666666666,\"#ed7953\"],[0.7777777777777778,\"#fb9f3a\"],[0.8888888888888888,\"#fdca26\"],[1.0,\"#f0f921\"]],\"sequentialminus\":[[0.0,\"#0d0887\"],[0.1111111111111111,\"#46039f\"],[0.2222222222222222,\"#7201a8\"],[0.3333333333333333,\"#9c179e\"],[0.4444444444444444,\"#bd3786\"],[0.5555555555555556,\"#d8576b\"],[0.6666666666666666,\"#ed7953\"],[0.7777777777777778,\"#fb9f3a\"],[0.8888888888888888,\"#fdca26\"],[1.0,\"#f0f921\"]],\"diverging\":[[0,\"#8e0152\"],[0.1,\"#c51b7d\"],[0.2,\"#de77ae\"],[0.3,\"#f1b6da\"],[0.4,\"#fde0ef\"],[0.5,\"#f7f7f7\"],[0.6,\"#e6f5d0\"],[0.7,\"#b8e186\"],[0.8,\"#7fbc41\"],[0.9,\"#4d9221\"],[1,\"#276419\"]]},\"xaxis\":{\"gridcolor\":\"white\",\"linecolor\":\"white\",\"ticks\":\"\",\"title\":{\"standoff\":15},\"zerolinecolor\":\"white\",\"automargin\":true,\"zerolinewidth\":2},\"yaxis\":{\"gridcolor\":\"white\",\"linecolor\":\"white\",\"ticks\":\"\",\"title\":{\"standoff\":15},\"zerolinecolor\":\"white\",\"automargin\":true,\"zerolinewidth\":2},\"scene\":{\"xaxis\":{\"backgroundcolor\":\"#E5ECF6\",\"gridcolor\":\"white\",\"linecolor\":\"white\",\"showbackground\":true,\"ticks\":\"\",\"zerolinecolor\":\"white\",\"gridwidth\":2},\"yaxis\":{\"backgroundcolor\":\"#E5ECF6\",\"gridcolor\":\"white\",\"linecolor\":\"white\",\"showbackground\":true,\"ticks\":\"\",\"zerolinecolor\":\"white\",\"gridwidth\":2},\"zaxis\":{\"backgroundcolor\":\"#E5ECF6\",\"gridcolor\":\"white\",\"linecolor\":\"white\",\"showbackground\":true,\"ticks\":\"\",\"zerolinecolor\":\"white\",\"gridwidth\":2}},\"shapedefaults\":{\"line\":{\"color\":\"#2a3f5f\"}},\"annotationdefaults\":{\"arrowcolor\":\"#2a3f5f\",\"arrowhead\":0,\"arrowwidth\":1},\"geo\":{\"bgcolor\":\"white\",\"landcolor\":\"#E5ECF6\",\"subunitcolor\":\"white\",\"showland\":true,\"showlakes\":true,\"lakecolor\":\"white\"},\"title\":{\"x\":0.05},\"mapbox\":{\"style\":\"light\"}}},\"xaxis\":{\"anchor\":\"y\",\"domain\":[0.0,0.45]},\"yaxis\":{\"anchor\":\"x\",\"domain\":[0.0,1.0]},\"xaxis2\":{\"anchor\":\"y2\",\"domain\":[0.55,1.0]},\"yaxis2\":{\"anchor\":\"x2\",\"domain\":[0.0,1.0]}},                        {\"responsive\": true}                    ).then(function(){\n",
       "                            \n",
       "var gd = document.getElementById('7786ddd6-e26a-4e42-9d73-7ef650c1584e');\n",
       "var x = new MutationObserver(function (mutations, observer) {{\n",
       "        var display = window.getComputedStyle(gd).display;\n",
       "        if (!display || display === 'none') {{\n",
       "            console.log([gd, 'removed!']);\n",
       "            Plotly.purge(gd);\n",
       "            observer.disconnect();\n",
       "        }}\n",
       "}});\n",
       "\n",
       "// Listen for the removal of the full notebook cells\n",
       "var notebookContainer = gd.closest('#notebook-container');\n",
       "if (notebookContainer) {{\n",
       "    x.observe(notebookContainer, {childList: true});\n",
       "}}\n",
       "\n",
       "// Listen for the clearing of the current output cell\n",
       "var outputEl = gd.closest('.output');\n",
       "if (outputEl) {{\n",
       "    x.observe(outputEl, {childList: true});\n",
       "}}\n",
       "\n",
       "                        })                };                });            </script>        </div>"
      ]
     },
     "metadata": {},
     "output_type": "display_data"
    }
   ],
   "source": [
    "# Explained variance + cumulative variance (Separate Plot)\n",
    "\n",
    "from plotly.subplots import make_subplots\n",
    "import plotly.graph_objects as go\n",
    "\n",
    "fig = make_subplots(rows=1, cols=2)\n",
    "\n",
    "fig.add_trace(\n",
    "    go.Scatter(\n",
    "        x=df_explained_variance['PC'],\n",
    "        y=df_explained_variance['Cumulative Variance'],\n",
    "        marker=dict(size=15, color='LightSeaGreen')\n",
    "    ), row=1, col=1\n",
    ")\n",
    "\n",
    "fig.add_trace(\n",
    "    go.Bar(\n",
    "        x=df_explained_variance['PC'],\n",
    "        y=df_explained_variance['Explained Variance'],\n",
    "        marker=dict(color='RoyalBlue')\n",
    "    ), row=1, col=2\n",
    ")\n",
    "\n",
    "fig.show()"
   ]
  },
  {
   "cell_type": "code",
   "execution_count": 58,
   "id": "10d33274",
   "metadata": {},
   "outputs": [
    {
     "data": {
      "application/vnd.plotly.v1+json": {
       "config": {
        "plotlyServerURL": "https://plot.ly"
       },
       "data": [
        {
         "hovertemplate": "Sensor=SF_NS5A_1bic<br>PC1=%{x}<br>PC2=%{y}<br>PC3=%{z}<extra></extra>",
         "legendgroup": "SF_NS5A_1bic",
         "marker": {
          "color": "#636efa",
          "symbol": "circle"
         },
         "mode": "markers",
         "name": "SF_NS5A_1bic",
         "scene": "scene",
         "showlegend": true,
         "type": "scatter3d",
         "x": [
          -1.7853126312392291,
          -1.5199022678940954,
          -1.3098881794231565,
          -1.1423866433195737,
          -1.0096673783871646,
          -0.9039935118007059,
          -0.82021835285218,
          -0.7544697122653614,
          -0.7003069807039142,
          -0.6590103371304827,
          -0.6254340844220365,
          -0.598804880486101,
          -0.5776977966976408,
          -0.5608255855441768,
          -0.5474227683510591,
          -0.5367281529555079,
          -0.5282087289129155,
          -0.5214946590526047,
          -0.515939835655869,
          -0.511651394486885,
          -0.5081129602596076,
          -0.5052363943354038,
          -0.5028720415136568,
          -0.5008614406591541,
          -0.499119348626152,
          -0.4975565479289584,
          -0.4960582605327958,
          -0.4946004871933287,
          -0.4930447232920198,
          -0.4913709776732011,
          -0.4894467582964727,
          -0.4871978507831937,
          -0.4844962485181482,
          -0.48122284075882543,
          -0.4772560620954969,
          -0.47223759196299697,
          -0.46631784051197306,
          -0.458634492425493,
          -0.4491521515691798,
          -0.4373446535203061,
          -0.4227333350036073,
          -0.4041790634429874,
          -0.3814130064474719,
          -0.3524858921795149,
          -0.31706821202803104,
          -0.27227156681787357,
          -0.21541391000722274,
          -0.14641877880767096,
          -0.06000592091169551,
          0.04924662124902957,
          0.1833265329449238,
          0.3530042843782317,
          0.5615673739197443,
          0.8279563428285496,
          1.153471455089403,
          1.5541577075427997,
          2.074226385895745,
          2.6736111587101146,
          3.466544804024575,
          4.352704785147967,
          5.6314126033502845,
          -1.7812716824626307,
          -1.5158611402721993,
          -1.3058468888533228,
          -1.1383452374938814,
          -1.0056256347425765,
          -0.8999586379889548,
          -0.8161828828894369,
          -0.7504336461516259,
          -0.6962701197221892,
          -0.6549724825637708,
          -0.6213948388363426,
          -0.5947567778975964,
          -0.57364711078817,
          -0.556772912464732,
          -0.5433612382688033,
          -0.5326489088676305,
          -0.5241157451593642,
          -0.5173879356333797,
          -0.5118173854009961,
          -0.5075220743991752,
          -0.5039787575090348,
          -0.5010884519191573,
          -0.4987152420945993,
          -0.4967046412400966,
          -0.4949625492070944,
          -0.49339287867706405,
          -0.49190146111373834,
          -0.4904169462416945,
          -0.4888611823403856,
          -0.4871805668887299,
          -0.48523647581226176,
          -0.4829539569335692,
          -0.4802660943341974,
          -0.4769941621724165,
          -0.47293881348097916,
          -0.46794929827736864,
          -0.46194097679823587,
          -0.4541889303833867,
          -0.4445765708580446,
          -0.4327003744808017,
          -0.4178216406383358,
          -0.3993360674060849,
          -0.3761651984280641,
          -0.3474441791452144,
          -0.31115555468806,
          -0.26622151282116435,
          -0.20869900668995026,
          -0.13970387549039848,
          -0.05191705102704098,
          0.0573354911336841,
          0.19408955608724987,
          0.3650674942108474,
          0.575004550319742,
          0.8427674857959293,
          1.1708829714373619,
          1.5887438059830337,
          2.078437660099389,
          2.7043934413464314,
          3.524806418008532,
          4.478926928730101,
          5.635453353409885,
          -1.7762205461711325,
          -1.5108030149176657,
          -1.300795624985512,
          -1.1332938229985865,
          -1.0005741010170832,
          -0.8948998369966298,
          -0.8111238831801144,
          -0.7453813175581431,
          -0.6912171949777142,
          -0.649918762951306,
          -0.616340125638891,
          -0.5897067486460104,
          -0.5685950943666098,
          -0.551718908873198,
          -0.5383032603373213,
          -0.5275889437661744,
          -0.5190547012108492,
          -0.5123209301749426,
          -0.5067375485998002,
          -0.5024323017481094,
          -0.4988701920052882,
          -0.49597284605842973,
          -0.49357289470129506,
          -0.4915335651442416,
          -0.4897567828987669,
          -0.4881424863063939,
          -0.4865907158450778,
          -0.4850527179078806,
          -0.48340372754193867,
          -0.4815894044273995,
          -0.47953147738778756,
          -0.4770823772795686,
          -0.47416758055268027,
          -0.4706748462974487,
          -0.4662038971529158,
          -0.46077890979646996,
          -0.4542845842944322,
          -0.4459290088996797,
          -0.43551440339703607,
          -0.4226985643857535,
          -0.4064827539144518,
          -0.3864540090682579,
          -0.36147993113823607,
          -0.3299399839532674,
          -0.2909085079100723,
          -0.24236067015146537,
          -0.1808808764866945,
          -0.10516347220441759,
          -0.009354187968045408,
          0.10860779724938541,
          0.25544527182703897,
          0.43986775611608675,
          0.6657759518939181,
          0.9605755394551913,
          1.3157276771817095,
          1.778657253332477,
          2.313714968562298,
          2.992074967903759,
          3.8659710097192916,
          4.874312384365218,
          6.069106610982762,
          -1.7358059770252885,
          -1.4703953156046587,
          -1.2603809429684136,
          -1.0928790551357452,
          -0.9601591344372447,
          -0.8544917402496283,
          -0.7707155877161154,
          -0.704965556110315,
          -0.6508010360958911,
          -0.6095088777513279,
          -0.5759290481369284,
          -0.5492952737100529,
          -0.5281816322606785,
          -0.5113034595972926,
          -0.49788383672146813,
          -0.48716554581037325,
          -0.478622446252237,
          -0.4718847008763826,
          -0.4662884879584813,
          -0.4619772795968686,
          -0.45839836417134056,
          -0.45548619971174925,
          -0.4530763125047447,
          -0.4510210855878994,
          -0.44921069197701097,
          -0.44756766668208736,
          -0.4459692829884548,
          -0.4443778019861041,
          -0.44269520025474857,
          -0.44079378270964226,
          -0.4386357593725604,
          -0.43607969313403466,
          -0.43303118874426266,
          -0.4292482162684405,
          -0.4247068635540981,
          -0.41903433257162487,
          -0.4121351950870818,
          -0.40331348736916395,
          -0.3924253715556459,
          -0.378875984895431,
          -0.3617205317900896,
          -0.3408208426382251,
          -0.31416619643752197,
          -0.28122047429534847,
          -0.24010361799896668,
          -0.18879817267890056,
          -0.12435467646756326,
          -0.04596311892761479,
          0.05389428513381102,
          0.17857854343396695,
          0.33481244435201724,
          0.5286313549814617,
          0.7674446733952377,
          1.0681319910013598,
          1.4435247278531458,
          1.9081463544695243,
          2.488567930812811,
          3.214278961241718,
          4.10191466873107,
          5.136259777182787,
          6.6441151192145,
          -1.6852897314474398,
          -1.4198791097702097,
          -1.2098647907875537,
          -1.0423627698144973,
          -0.9096428888593963,
          -0.8039752959547822,
          -0.7201987459872746,
          -0.6544555842143112,
          -0.6002902693318978,
          -0.5589971174023475,
          -0.5254229653188006,
          -0.4987868062879563,
          -0.47767804750144466,
          -0.46079391332813696,
          -0.4473703161123644,
          -0.43663919385851074,
          -0.4280832629576156,
          -0.4213169594033545,
          -0.4157079151426944,
          -0.41136326593981204,
          -0.40777350634149917,
          -0.4048425490292271,
          -0.4024089863066788,
          -0.40032610953434183,
          -0.39848607889798776,
          -0.39680240188066956,
          -0.3951635369887864,
          -0.39351857292128234,
          -0.3917488767593597,
          -0.3897939761491,
          -0.3875152470160375,
          -0.38483160514869413,
          -0.38160204206495113,
          -0.37763114106232104,
          -0.37270484806521303,
          -0.366913086884301,
          -0.35954781707659267,
          -0.3503899957045386,
          -0.3388983509111172,
          -0.3244780199452317,
          -0.3065816412032487,
          -0.2843374974348391,
          -0.2564070949459601,
          -0.22191820118984346,
          -0.17844854931450782,
          -0.12404938277884638,
          -0.05703961801573869,
          0.027387229323243976,
          0.13060576992603234,
          0.26269928459260444,
          0.4256554585933799,
          0.6261966423055495,
          0.8825026267098292,
          1.1987692202095674,
          1.5887591301629085,
          2.0614769964293935,
          2.6872624338861457,
          3.4198432971519632,
          4.334220537218031,
          5.510618738932087,
          6.830775198054449,
          -1.7357924360766122,
          -1.4703818342710815,
          -1.2603675045577076,
          -1.0928655340587687,
          -0.9601455934885683,
          -0.8544780005839544,
          -0.7707016493334442,
          -0.7049582888434833,
          -0.6507998437939069,
          -0.609506493147359,
          -0.5759319436298174,
          -0.5492961820329679,
          -0.5281854360764824,
          -0.5113081717360115,
          -0.4978825873502651,
          -0.4871474907564633,
          -0.47859445534845724,
          -0.4718241774542482,
          -0.4662023018508292,
          -0.4618585609708618,
          -0.45825398285981617,
          -0.45530820703481123,
          -0.45285783862955614,
          -0.45074731200172746,
          -0.44889535834552946,
          -0.4471712001299608,
          -0.4455124635383378,
          -0.4438270182725832,
          -0.44199696921267023,
          -0.43997558367035416,
          -0.43761589214079055,
          -0.4348184143103035,
          -0.43148801713031953,
          -0.4273291876008815,
          -0.42242106106207294,
          -0.41614670634113676,
          -0.40844532287929214,
          -0.39888268952473277,
          -0.3867875157514079,
          -0.37189367447464794,
          -0.35332506842439243,
          -0.33027130069097216,
          -0.30126385891131524,
          -0.26501832056843894,
          -0.22026553441721816,
          -0.16378836561607926,
          -0.09341746431160902,
          -0.007616650405244352,
          0.09965001002259766,
          0.23579164451422335,
          0.40416990490743443,
          0.6141812948370934,
          0.8732352123761372,
          1.1995114356228704,
          1.605301961101105,
          2.1085651757482236,
          2.717715454642206,
          3.5045171818323806,
          4.47924731988879,
          5.65638332037377,
          7.103147965644216
         ],
         "y": [
          0.2900372873393588,
          0.3209416132238418,
          0.34539524178825115,
          0.36489832974237735,
          0.38035097081218455,
          0.3926537839620989,
          0.4024063079371855,
          0.4100591119647489,
          0.4163622822723276,
          0.4211663183554199,
          0.4250707652072203,
          0.4281656302259163,
          0.43061644879766964,
          0.432573243666342,
          0.4341255049892645,
          0.4353621831896455,
          0.4363443068512316,
          0.4371152854632668,
          0.43775011477735803,
          0.4382347901368679,
          0.43862874466606716,
          0.43894147785116766,
          0.43918944152166384,
          0.43938858433502853,
          0.4395478572959696,
          0.43967618641667683,
          0.4397814413802607,
          0.43986651472585836,
          0.43994127479800554,
          0.44000344801757846,
          0.44006192605314154,
          0.44011775760488425,
          0.4401747104488283,
          0.4402341834259657,
          0.44029919422983943,
          0.44038260552075975,
          0.44046332802973137,
          0.44057608174604107,
          0.440727101567207,
          0.4409072537091673,
          0.4411368281714388,
          0.4414370909096053,
          0.44181219220576873,
          0.44231236810946106,
          0.4429299744889158,
          0.443737612958655,
          0.44479215046032433,
          0.44611582118421145,
          0.44778317052783995,
          0.4500434317234935,
          0.4528841685187463,
          0.4566343434276563,
          0.4612166315353985,
          0.4674186451849895,
          0.4751755482198037,
          0.4847264654782354,
          0.4984568236405976,
          0.5128217622246879,
          0.5339032164179185,
          0.5555317832203692,
          0.5939592658209968,
          0.2093660756960668,
          0.24027040045588655,
          0.26472402799560263,
          0.28422711522494587,
          0.299679754170389,
          0.31198204383131745,
          0.3217345640575263,
          0.329387364336212,
          0.33569052964528706,
          0.34049455948024987,
          0.34439899758466896,
          0.3474943735960918,
          0.34994517592270846,
          0.3519019582951218,
          0.35345473061077115,
          0.3546924307966059,
          0.3556756014361639,
          0.35644762702617094,
          0.35708349082197494,
          0.35756868967047073,
          0.3579631801849149,
          0.3582769603479873,
          0.35852543501121037,
          0.35872457782457506,
          0.35888385078551616,
          0.35901270339520924,
          0.3591174348698072,
          0.35920290674180055,
          0.3592776668139477,
          0.3593403635225066,
          0.3593987165954794,
          0.35945547016260365,
          0.35951137602857586,
          0.35956745814661734,
          0.35963757887776004,
          0.35971550535364066,
          0.3598013377898812,
          0.35991932639605,
          0.36006386170145444,
          0.36024924873327385,
          0.36048280845950215,
          0.3607778363078095,
          0.36116739264764797,
          0.36165186388176285,
          0.3622866609429469,
          0.3631047691924045,
          0.3641607927062257,
          0.3654844634301128,
          0.3672565105709242,
          0.3695167717665777,
          0.372397361201398,
          0.3760826909526926,
          0.38076967685761764,
          0.3870763883043915,
          0.39470360102397484,
          0.4055632407471922,
          0.41665116146193526,
          0.4325490782266964,
          0.4557244883635839,
          0.4808925154771946,
          0.5132880554273307,
          0.1085270614543583,
          0.13943190895338836,
          0.16388501295163427,
          0.18338809923376104,
          0.19884073742942865,
          0.21114354808009117,
          0.22089606705667417,
          0.22854834259674806,
          0.23485150415694542,
          0.2396555289934046,
          0.2435599608496942,
          0.24665479962624623,
          0.24910558945660383,
          0.2510623593327581,
          0.25261510665588943,
          0.25385279434546515,
          0.25483539151100115,
          0.25560737961223107,
          0.25624372940824397,
          0.2567288657754446,
          0.2571238048013206,
          0.2574369740015939,
          0.2576858471912126,
          0.25788537603471395,
          0.2580449975370146,
          0.2581741362067722,
          0.2582801882231474,
          0.2583664571479321,
          0.2584417643476901,
          0.25850645368822733,
          0.2585669243557688,
          0.2586248971407051,
          0.25868334276626653,
          0.25874313658445924,
          0.2588219776190569,
          0.2589084994358022,
          0.2589969425475069,
          0.25912813657144834,
          0.25928462766872296,
          0.25949244027213086,
          0.2597459263181429,
          0.26007658515581145,
          0.26048880345348796,
          0.2610405514023684,
          0.2617204359929791,
          0.2626008224535926,
          0.26374529862786555,
          0.26525337242807046,
          0.26714497748758415,
          0.26957714550053147,
          0.2727343395498284,
          0.27678847545375845,
          0.28154503424129007,
          0.2889284439029314,
          0.29763235483738226,
          0.30979531235384783,
          0.32286472268103217,
          0.3401331662591525,
          0.36410562918738915,
          0.39176613864033133,
          0.4205208943140231,
          -0.6981845202429429,
          -0.6672801962328987,
          -0.6428265694554544,
          -0.623323483713166,
          -0.6078708467671243,
          -0.5955685596054476,
          -0.5858160418784906,
          -0.5781632465983085,
          -0.571860087537363,
          -0.5670565899387674,
          -0.5631521655802332,
          -0.560057329302933,
          -0.5576065519688345,
          -0.5556497945889391,
          -0.5540970722583258,
          -0.5528594095612682,
          -0.5518763014030053,
          -0.5511043382942934,
          -0.5504675024980716,
          -0.5499824036196481,
          -0.5495870035860814,
          -0.5492733608818583,
          -0.5490245501735347,
          -0.5488251213001055,
          -0.5486645777824233,
          -0.548535053082529,
          -0.5484287275023484,
          -0.5483416615247723,
          -0.5482654323096326,
          -0.5481990239009226,
          -0.5481374826167843,
          -0.5480779157262653,
          -0.5480174774687255,
          -0.5479470416309743,
          -0.5478743102243675,
          -0.5477836781810752,
          -0.5476807800256955,
          -0.5475468503636998,
          -0.5473706693328909,
          -0.5471561358274719,
          -0.5468802242098714,
          -0.5465323746904734,
          -0.5460740556237175,
          -0.5454971464651941,
          -0.544756706061829,
          -0.5437973234808292,
          -0.5425581465165926,
          -0.5410102200768203,
          -0.5389740645805563,
          -0.5363574934912912,
          -0.5329760437261091,
          -0.5286976521062938,
          -0.5232855501551217,
          -0.5161091722253505,
          -0.5066825091071481,
          -0.4952102196688994,
          -0.48015931972927384,
          -0.4609218827977362,
          -0.43590244189767113,
          -0.40953883559703685,
          -0.3634853047632196,
          -1.7065741266747834,
          -1.675669802414814,
          -1.6512161752999706,
          -1.6317130903949317,
          -1.6162604531989648,
          -1.603958167286914,
          -1.5942056520592087,
          -1.5865533802680125,
          -1.5802502262055707,
          -1.5754467348551047,
          -1.5715428414833117,
          -1.5684480202015223,
          -1.5659977788526687,
          -1.5640410589615505,
          -1.5624883616234553,
          -1.5612502129261887,
          -1.560266618767717,
          -1.5594931351770835,
          -1.558855813380653,
          -1.5583686580350629,
          -1.5579727595050281,
          -1.5576586682893732,
          -1.557408873084373,
          -1.557208484706785,
          -1.5570469941812033,
          -1.5569171584287265,
          -1.5568093873441784,
          -1.556721524313811,
          -1.5566435760304984,
          -1.5565763705689968,
          -1.5565121882013042,
          -1.5564494567382448,
          -1.5563850568553732,
          -1.5563101359033042,
          -1.5562228244904321,
          -1.5561329422226813,
          -1.5560273084292473,
          -1.5558841586134355,
          -1.5556947721648542,
          -1.5554630479777056,
          -1.5551634611626142,
          -1.5547787310279528,
          -1.5542887662357925,
          -1.553676226087908,
          -1.5528712446078317,
          -1.5518236457526298,
          -1.5504872687466247,
          -1.548807288129126,
          -1.5466789310947031,
          -1.5438256080305288,
          -1.540259755189029,
          -1.5357969604928958,
          -1.529871501952338,
          -1.5219997282193587,
          -1.5126081900157327,
          -1.5008467997039834,
          -1.4838144101519166,
          -1.4640534842344648,
          -1.438635516938725,
          -1.406364930577839,
          -1.3795318910076535,
          -0.6981834720153451,
          -0.6672791476304132,
          -0.6428255205830496,
          -0.6233224353606057,
          -0.6078697985395266,
          -0.5955675126274759,
          -0.5858149961501447,
          -0.5781627256085744,
          -0.5718600950351184,
          -0.5670566049342782,
          -0.5631527140617372,
          -0.560057890280696,
          -0.5576076614281014,
          -0.5556514650259691,
          -0.5540987801841328,
          -0.5528606564793844,
          -0.5518776108024166,
          -0.5511041522043011,
          -0.5504663444076617,
          -0.5499797500398346,
          -0.5495833780058501,
          -0.5492688132862454,
          -0.5490185570735543,
          -0.5488172091918079,
          -0.5486557936437801,
          -0.5485245123869359,
          -0.548416866264978,
          -0.5483275577302431,
          -0.5482482889051532,
          -0.5481809348424365,
          -0.5481138614660088,
          -0.5480490124083808,
          -0.5479818464793643,
          -0.5479024404129778,
          -0.5478263485553654,
          -0.5477111665764505,
          -0.5475963126292006,
          -0.5474387077697139,
          -0.5472361159033597,
          -0.5469847017826772,
          -0.546666674659954,
          -0.5462530344379425,
          -0.5457301742944752,
          -0.5450493441921723,
          -0.5441957626912117,
          -0.5431045623187353,
          -0.5416759837745713,
          -0.5398913053598898,
          -0.5376183978887166,
          -0.5346205243877921,
          -0.530805423312359,
          -0.5259488299455425,
          -0.5198139758106188,
          -0.5118351404179612,
          -0.5012395775467324,
          -0.4879702015723603,
          -0.47253327149608415,
          -0.4502798632393008,
          -0.42354135416629785,
          -0.3895753382574293,
          -0.3465377787488578
         ],
         "z": [
          4.408508991898446,
          3.3870565263426298,
          2.578821158786853,
          1.934217732867006,
          1.423495166593815,
          1.0169041863136319,
          0.6946088698853506,
          0.44173559801306056,
          0.23349148199838624,
          0.07483724307710021,
          -0.05406328733342762,
          -0.15618513955660293,
          -0.2369805927950114,
          -0.30140844165686953,
          -0.3524458402463588,
          -0.39307117925894897,
          -0.4252631375167172,
          -0.450513925721329,
          -0.47130232507308184,
          -0.4871267545446102,
          -0.4999705392096485,
          -0.5101283288528502,
          -0.5181435922403577,
          -0.52450448644595,
          -0.5295065528274351,
          -0.5334443469765241,
          -0.5364998295680072,
          -0.5388259104154948,
          -0.5406512725700955,
          -0.541918350228426,
          -0.542804363620677,
          -0.5433224002051447,
          -0.5434979019934691,
          -0.5433539329756456,
          -0.5428911424224805,
          -0.5420479886673296,
          -0.5408898264900163,
          -0.5392064700082376,
          -0.5370137962312803,
          -0.5341777550889715,
          -0.530593798899077,
          -0.5259738826085596,
          -0.5202553989230471,
          -0.5129410692439974,
          -0.5039540654831449,
          -0.4925533937455838,
          -0.4780533886043207,
          -0.46042973235858525,
          -0.43834244372786546,
          -0.41035947418318364,
          -0.37598992409540277,
          -0.3324413043561413,
          -0.2789161282340415,
          -0.21043961658788174,
          -0.1267069178072995,
          -0.023634627563853525,
          0.11055784857307034,
          0.26477083800709117,
          0.4694182926034355,
          0.6975362434937762,
          1.0289146703208034,
          4.408307239204673,
          3.3868548180083295,
          2.5786194908689626,
          1.9340160935363322,
          1.4232936110532595,
          1.0167007534338253,
          0.6944055848704583,
          0.4415324608630828,
          0.23328854200162788,
          0.074634549521866,
          -0.05426563587052792,
          -0.15638511787140327,
          -0.23717993036184887,
          -0.30160728634065864,
          -0.35264231470784785,
          -0.39326291327583834,
          -0.4254511168551035,
          -0.45069815038121225,
          -0.4714823021714137,
          -0.48730485430369047,
          -0.5001472545125256,
          -0.5103012894772244,
          -0.518314182642432,
          -0.5246750768480244,
          -0.5296771432295094,
          -0.5336130600393469,
          -0.5366704199700815,
          -0.5389896946478335,
          -0.5408150568024342,
          -0.5420802571215133,
          -0.5429613416832801,
          -0.5434706947587609,
          -0.5436499512255883,
          -0.5435073885823057,
          -0.5430208958061414,
          -0.5421866577825377,
          -0.5410047933822252,
          -0.5393026635079314,
          -0.5370794748186488,
          -0.5342246602838248,
          -0.5305726423965748,
          -0.5259714994985725,
          -0.5201474073306742,
          -0.51288939782917,
          -0.5036794355837357,
          -0.4922412170611444,
          -0.4775745736128449,
          -0.45995091736710947,
          -0.4374881608860868,
          -0.409505191341405,
          -0.37445502428006894,
          -0.3306012554175551,
          -0.2767006114451524,
          -0.2078486319486897,
          -0.12350563492160282,
          -0.015739996549370576,
          0.11005154942678816,
          0.271375205760564,
          0.4835320173629663,
          0.7297201734979467,
          1.0287128683387239,
          4.408055036015377,
          3.3866045217312695,
          2.57836731932276,
          1.9337639593506646,
          1.4230415064405746,
          1.0164506247370013,
          0.6941555054619395,
          0.4412805534036174,
          0.2330367824070769,
          0.07438298708053442,
          -0.0545169518703353,
          -0.15663776903910895,
          -0.23743208864650614,
          -0.3018589517422675,
          -0.35289299434335997,
          -0.39351310002830187,
          -0.4257012094146251,
          -0.4509467642915886,
          -0.4717275600933933,
          -0.48754764781042803,
          -0.5003852133817213,
          -0.5105376755043327,
          -0.5185437624998047,
          -0.5248973576526131,
          -0.529890646332169,
          -0.5338153210248353,
          -0.5368571912768473,
          -0.5391628536151282,
          -0.5409647457692898,
          -0.542195915239691,
          -0.5430478977832642,
          -0.5435152396883506,
          -0.543636995306061,
          -0.5434381059656426,
          -0.5428450627776714,
          -0.5418993455117769,
          -0.5405952022787843,
          -0.5387381756172643,
          -0.5363108018359153,
          -0.5332142554239944,
          -0.5292219290499668,
          -0.5242241574876415,
          -0.5179424068307696,
          -0.5099592016979748,
          -0.5000498490864702,
          -0.48768928171322684,
          -0.47200642245169955,
          -0.4526460644085507,
          -0.4281414570068624,
          -0.3979289026163635,
          -0.3602736828589073,
          -0.3129465104015668,
          -0.2550324833148833,
          -0.17909305917466598,
          -0.08766261750382451,
          0.03176705040189755,
          0.16950390081974837,
          0.34434570368252815,
          0.5701148547560352,
          0.8306185376326258,
          1.1380625189004667,
          4.406038942822139,
          3.384586551198779,
          2.5763512541252784,
          1.931747915445731,
          1.4210255118239459,
          1.0144327527811212,
          0.692137682794364,
          0.4392647559402079,
          0.2310210835202772,
          0.07236555871939769,
          -0.05653408450164301,
          -0.15865480309380695,
          -0.23944862981815573,
          -0.30387500003086876,
          -0.3549080568658644,
          -0.3955271767847095,
          -0.42771291594873273,
          -0.45295748505959943,
          -0.4737349248730074,
          -0.48955353394089696,
          -0.5023867577576967,
          -0.512535371008863,
          -0.5205389935890931,
          -0.5268886456775141,
          -0.531873250848083,
          -0.5357906264879654,
          -0.5388207617397577,
          -0.5411128117385675,
          -0.542906020383742,
          -0.5441148940056851,
          -0.5449415292095676,
          -0.5453816464357117,
          -0.5454693712047445,
          -0.5451946785874044,
          -0.5445859069785601,
          -0.543577056845794,
          -0.5421673051304158,
          -0.5401929284667,
          -0.5376411728104499,
          -0.5343592146989775,
          -0.5301251564478531,
          -0.524904426400946,
          -0.5181885002947209,
          -0.5098462132826332,
          -0.49939707673938954,
          -0.4863230552546657,
          -0.4698704217041125,
          -0.44982944668740843,
          -0.42426875446186196,
          -0.39231949827394963,
          -0.35224695974552495,
          -0.3025024685172158,
          -0.24116213430675584,
          -0.1638143797483778,
          -0.06710351395824564,
          0.05253776208767782,
          0.2022199169472208,
          0.3894999073000964,
          0.6190237368766324,
          0.8856304022182695,
          1.2766192399737557,
          4.403518295385397,
          3.3820658939043766,
          2.5738305835230335,
          1.92922727786665,
          1.4185048643872038,
          1.0119121546326841,
          0.6896171832225366,
          0.43674237902912894,
          0.22849890376241752,
          0.06984362540306224,
          -0.0590575994274009,
          -0.16117772655990678,
          -0.24197293774045867,
          -0.3063978293040264,
          -0.35742990037292527,
          -0.39804566430337374,
          -0.4302280474790002,
          -0.45546501303991876,
          -0.47623909686493,
          -0.49204871792666827,
          -0.5048790786381196,
          -0.515022857251744,
          -0.5230202607382289,
          -0.5293627079668083,
          -0.5343396153944868,
          -0.5382467346832948,
          -0.5412663090868486,
          -0.5435447467461872,
          -0.5453156595429036,
          -0.5465109208253757,
          -0.5473065766718129,
          -0.5477138372012602,
          -0.5477550929341252,
          -0.5474320539413657,
          -0.5467226026806197,
          -0.5456841795649493,
          -0.5441570778473751,
          -0.5420958660937886,
          -0.5393892136503123,
          -0.5358842970542583,
          -0.5314577952308773,
          -0.5258897248244877,
          -0.5188452317512949,
          -0.5101063160748843,
          -0.49904933390254597,
          -0.48517502321647094,
          -0.4680511919865726,
          -0.44646124909760665,
          -0.42003220597335345,
          -0.3861585140628763,
          -0.3443492737370383,
          -0.29286808071131576,
          -0.226998258082171,
          -0.1455435794264612,
          -0.04519479837235121,
          0.07655864732128848,
          0.23818610662252354,
          0.4273434362269136,
          0.663673435539002,
          0.9675946633509269,
          1.3057857795040027,
          4.4060426482123365,
          3.384590241802486,
          2.5763549340827114,
          1.9317516159070989,
          1.421029217214144,
          1.0144365074596242,
          0.6921414867611719,
          0.43926673185606907,
          0.2310213792501062,
          0.07236615017905577,
          -0.05653497607479771,
          -0.15865520178391326,
          -0.23944992008141674,
          -0.30387668898423603,
          -0.3549082671700865,
          -0.3955230453344381,
          -0.4277063200832193,
          -0.4529422998780411,
          -0.47371302771465557,
          -0.48952304746650016,
          -0.5023495593065065,
          -0.5124894890486856,
          -0.5204825507806771,
          -0.5268177931494146,
          -0.5317917432788027,
          -0.535688301719372,
          -0.5387029472924418,
          -0.5409708241035419,
          -0.5427262472215356,
          -0.543904844673304,
          -0.5446793788232641,
          -0.5450575373345178,
          -0.5450727425404215,
          -0.5447013571722427,
          -0.5439998797136227,
          -0.5428330878219884,
          -0.5412191510145435,
          -0.5390523307785712,
          -0.5361907815478687,
          -0.5325614830769138,
          -0.5279613110737914,
          -0.5221820237026301,
          -0.5148582519673103,
          -0.5056593555763261,
          -0.49426677456431506,
          -0.47985971181920595,
          -0.46186752969060085,
          -0.439902118951332,
          -0.41241699100322077,
          -0.3774872142688855,
          -0.3342464212688864,
          -0.28027759074514474,
          -0.21365683241539407,
          -0.12966741979061489,
          -0.0250007584580214,
          0.1048491202321808,
          0.2618303278756797,
          0.4653031842216803,
          0.7171228622563877,
          1.0217472773388183,
          1.3965432491011796
         ]
        },
        {
         "hovertemplate": "Sensor=SF_NS5A_5bic<br>PC1=%{x}<br>PC2=%{y}<br>PC3=%{z}<extra></extra>",
         "legendgroup": "SF_NS5A_5bic",
         "marker": {
          "color": "#EF553B",
          "symbol": "circle"
         },
         "mode": "markers",
         "name": "SF_NS5A_5bic",
         "scene": "scene",
         "showlegend": true,
         "type": "scatter3d",
         "x": [
          -1.7875492269244864,
          -1.5221536763851637,
          -1.312150471830409,
          -1.1446557999210922,
          -1.0119390104249435,
          -0.9062690840736038,
          -0.8224912850766493,
          -0.7567400044414017,
          -0.7025715782966876,
          -0.6612762178575321,
          -0.6276936914672411,
          -0.6010654811162928,
          -0.579973528012488,
          -0.5631130693547239,
          -0.5497386398158688,
          -0.5390527108989844,
          -0.5305497514908107,
          -0.5238393149221598,
          -0.5182595666386773,
          -0.5139313820702137,
          -0.5103335032678609,
          -0.5073689345901752,
          -0.5048820593266174,
          -0.5027272476847344,
          -0.5007867240004275,
          -0.4989663881251421,
          -0.4971771247096178,
          -0.4953329354898434,
          -0.49329605364605217,
          -0.49100453122678384,
          -0.48835335552298625,
          -0.48517974212790954,
          -0.48137555612607746,
          -0.4766904221523072,
          -0.4710805563543891,
          -0.46414420577382315,
          -0.4559250440748485,
          -0.44556983916968274,
          -0.43300345152446923,
          -0.4172875267462659,
          -0.39814211855720644,
          -0.3745581130502235,
          -0.3455870725383612,
          -0.30974585750723854,
          -0.2647887841391446,
          -0.2100576081565668,
          -0.14112331285762086,
          -0.05728147607188216,
          0.04667486330183127,
          0.17560561666845986,
          0.3337069789036812,
          0.5290014870749759,
          0.7711808287376314,
          1.060710776368171,
          1.4236229921642263,
          1.8604569769497694,
          2.384952447928265,
          3.0207849592906686,
          3.775732731200914,
          4.626120235232866,
          5.74636261038908,
          -1.7835079403289924,
          -1.5181116034478872,
          -1.3081082399195347,
          -1.1406133692932208,
          -1.0078956940967907,
          -0.9022246833281727,
          -0.8184466856142206,
          -0.7526934348614136,
          -0.6985238334671294,
          -0.6572258159271307,
          -0.6236430908198423,
          -0.597013886883907,
          -0.5759150639472652,
          -0.5590614751223382,
          -0.5456781885806721,
          -0.5349991294966248,
          -0.526496170088451,
          -0.5197768765169892,
          -0.5141951410635327,
          -0.5098649693250951,
          -0.5062631161827943,
          -0.5033014429979975,
          -0.5008174632273288,
          -0.49864584590273886,
          -0.49671310037418387,
          -0.4948927644988984,
          -0.49309049921647125,
          -0.4912134364300541,
          -0.4891628149205891,
          -0.48683841893467805,
          -0.48414062999856394,
          -0.48089979387266,
          -0.4770566022701192,
          -0.47222328316902074,
          -0.46646523224377423,
          -0.45943122840594963,
          -0.45067723605544074,
          -0.4400472378367985,
          -0.4269386415523415,
          -0.4106118098065255,
          -0.39071809799311513,
          -0.3663170905334123,
          -0.33626163274306275,
          -0.29871033749042186,
          -0.2528675638412388,
          -0.196563704293881,
          -0.12674370871384597,
          -0.042322773350317436,
          0.06499470256475855,
          0.19399923580847964,
          0.3547747513013726,
          0.5494560560660687,
          0.7895006680005585,
          1.082465532049553,
          1.4385079150086986,
          1.8753418997942417,
          2.403811710720698,
          3.0425397149720514,
          3.7945919939933472,
          4.676774217608989,
          5.810756258439023,
          -1.7784561567976096,
          -1.5130597404297057,
          -1.3030564166447525,
          -1.1355615460184385,
          -1.0028443590882947,
          -0.8971735470366742,
          -0.8133951518887274,
          -0.7476419011359202,
          -0.6934723905739277,
          -0.6521736860506451,
          -0.6185903647923645,
          -0.5919609621394318,
          -0.5708601520328161,
          -0.5539996933750521,
          -0.54061839400336,
          -0.5299324650864757,
          -0.521427518508328,
          -0.5147102121068403,
          -0.5091284766533838,
          -0.5047983049149461,
          -0.5011915691097825,
          -0.4982298959249857,
          -0.4957390463214799,
          -0.4935851430025119,
          -0.4916346834683351,
          -0.4898212174258866,
          -0.4880120823106225,
          -0.48616176105678205,
          -0.48408439801474024,
          -0.48179361339424287,
          -0.47906147529394427,
          -0.4758343788337141,
          -0.47188813973861965,
          -0.4671235189658902,
          -0.4613166414120145,
          -0.4542428941747102,
          -0.4456189204932303,
          -0.43479020527719003,
          -0.4215442123359948,
          -0.4052787009308387,
          -0.385178894132321,
          -0.3606331120281707,
          -0.33043287959337375,
          -0.29239331805443985,
          -0.24694797840005295,
          -0.18966758628010916,
          -0.1197567584085773,
          -0.03445012276395971,
          0.07156716646082677,
          0.20057169970454786,
          0.3573728752494797,
          0.5541151298652489,
          0.7888114352843956,
          1.0804761126431006,
          1.4305569856803044,
          1.8585339676549568,
          2.3701980958746,
          3.015795932962863,
          3.7647821949511666,
          4.629079888800984,
          5.68136173435902,
          -1.7380486363299004,
          -1.4726522199619965,
          -1.262648030348462,
          -1.095153159722148,
          -0.9624354845257179,
          -0.8567651607403837,
          -0.7729862773261506,
          -0.7072339122736244,
          -0.6530639134453455,
          -0.6117665828886305,
          -0.5781836590643447,
          -0.5515534615434224,
          -0.5304546386067808,
          -0.5136010497818536,
          -0.5002197504101615,
          -0.4895318343233033,
          -0.4810288749151296,
          -0.4743164511765047,
          -0.4687327285530742,
          -0.46440255681463666,
          -0.4608007036723359,
          -0.4578350561475911,
          -0.4553490892069484,
          -0.45318235454522143,
          -0.45124166033677054,
          -0.44942819429432196,
          -0.4476259290118948,
          -0.4457557360583145,
          -0.44367224098220676,
          -0.4413409751634589,
          -0.43860957486193114,
          -0.4353564746678952,
          -0.431390363873061,
          -0.42651730137248284,
          -0.4207195070477568,
          -0.4133692612555357,
          -0.4046078909173176,
          -0.3936417790445391,
          -0.37992227579246945,
          -0.363450669402206,
          -0.3427399556360756,
          -0.31744586990757445,
          -0.286085143878212,
          -0.2480455823392781,
          -0.20053929283381816,
          -0.14257191743018338,
          -0.0719741062749605,
          0.014201177236341848,
          0.12159243302851036,
          0.2526579161233045,
          0.4115200415193094,
          0.6062751261610981,
          0.8416584148639358,
          1.1375187718018793,
          1.4895868148130638,
          1.9184721197026848,
          2.432123417896309,
          3.054045739440849,
          3.8079146642920816,
          4.629006191146456,
          5.729376866562864,
          -1.6875343551626896,
          -1.4221377996928874,
          -1.2121341182173389,
          -1.0446381631737465,
          -0.9119200905433217,
          -0.8062491706069953,
          -0.7224688053414889,
          -0.6567145610036949,
          -0.6025428816071453,
          -0.5612425873478835,
          -0.5276576763536237,
          -0.5010204102828671,
          -0.4799176130062775,
          -0.4630551671785394,
          -0.44966302363406246,
          -0.4389731203772302,
          -0.43046419945913456,
          -0.4237409315477248,
          -0.4181443775815354,
          -0.4138062571632019,
          -0.4101944681710313,
          -0.40721689762644264,
          -0.4047061763231972,
          -0.40251956996173044,
          -0.40055122589778774,
          -0.39866440509044593,
          -0.3968155265757023,
          -0.394858239191555,
          -0.39270065155178313,
          -0.3902555497698914,
          -0.3873835719726432,
          -0.383894454421941,
          -0.37978237189609115,
          -0.37454424081248733,
          -0.36832176280551604,
          -0.36050708993157016,
          -0.3511421906134487,
          -0.3394351531040286,
          -0.32497472421531726,
          -0.30721998354916863,
          -0.28522613550715314,
          -0.25824410352026145,
          -0.22471454293392473,
          -0.18410871284322045,
          -0.13383743778859208,
          -0.07153239327100876,
          0.0032952022922614235,
          0.09716929145887483,
          0.21066961692717,
          0.35059210283285486,
          0.522359350864804,
          0.7294063547359385,
          0.9818166657768667,
          1.2885211954996818,
          1.663185906995577,
          2.1186422203178696,
          2.6460331841853146,
          3.2945265141625266,
          4.046408269039779,
          4.9933144810765615,
          6.046334125405524,
          -1.7380402497088463,
          -1.4726435531499757,
          -1.2626397524442288,
          -1.0951442856669227,
          -0.9624256168855058,
          -0.8567542995151844,
          -0.7729738263649721,
          -0.7072194741424721,
          -0.6530470907102246,
          -0.611745405431981,
          -0.5781581098337524,
          -0.5515178630080348,
          -0.5304062087286343,
          -0.5135397885609483,
          -0.5001436706765234,
          -0.48944093607693234,
          -0.4809211709860518,
          -0.4741830845619092,
          -0.46857858191582397,
          -0.4642265513076726,
          -0.4605939822928472,
          -0.4575847875528189,
          -0.4550541945498336,
          -0.4528359639929272,
          -0.4508061881839352,
          -0.44887275414427685,
          -0.44694291323303215,
          -0.4448916615854809,
          -0.4426141059484992,
          -0.44002155683805017,
          -0.43690669185129877,
          -0.43325712510513614,
          -0.4288081911263792,
          -0.42319420298915944,
          -0.41643859957209434,
          -0.40806014111772465,
          -0.3978856178345925,
          -0.38523155970342343,
          -0.3697554118645941,
          -0.35051881992516215,
          -0.326768327296387,
          -0.2976248387402303,
          -0.2617964249278904,
          -0.21773862600432675,
          -0.16312968183574983,
          -0.09717395148790904,
          -0.015442418258919965,
          0.08454074058382009,
          0.20819825555329552,
          0.35491679441879803,
          0.5368412319519276,
          0.7587805284329869,
          1.0220350122587862,
          1.3553105504142735,
          1.7379239418060908,
          2.213081430724146,
          2.791627241482954,
          3.479522922651691,
          4.281651201505338,
          5.241388756300973,
          6.381502831196991
         ],
         "y": [
          0.28986417448851365,
          0.3207678568262417,
          0.34522098714410837,
          0.3647237782496805,
          0.3801763782172222,
          0.39247898946929766,
          0.40223178018738076,
          0.40988485095794075,
          0.41618843880708223,
          0.4209924262901537,
          0.4248974003798177,
          0.4279922716466432,
          0.43044205198780605,
          0.43239778738224754,
          0.4339473937714634,
          0.4351824265273325,
          0.4361618202776579,
          0.4369305549786411,
          0.4375646608636021,
          0.43804908629793143,
          0.43844380039114494,
          0.4387588136221814,
          0.43901054033175807,
          0.43921444317713904,
          0.43938096865243564,
          0.4395195787550827,
          0.43963717116777296,
          0.43974021537873187,
          0.4398368843029471,
          0.43992974072475843,
          0.44002558235678646,
          0.44013056782648974,
          0.44024858987248017,
          0.4403926890560301,
          0.4405550384031935,
          0.44075672779683994,
          0.44099299745050297,
          0.44129295757583936,
          0.4416625931451869,
          0.4421241797136385,
          0.44269925690661344,
          0.44341557519545693,
          0.4443126794653827,
          0.4454380701278682,
          0.44691372567172316,
          0.4487242678235171,
          0.4511252529532935,
          0.4540556297860929,
          0.45787941636849816,
          0.462622704453501,
          0.46876919039404646,
          0.4764384411098266,
          0.48653290063773413,
          0.4985963040136153,
          0.5144483754301358,
          0.5338023868772803,
          0.557705322327537,
          0.5871416829581095,
          0.623195943018723,
          0.664883604332504,
          0.7207415941489591,
          0.2091929607208577,
          0.24009669478267137,
          0.2645498241008373,
          0.2840526139567835,
          0.2995052650235979,
          0.31180792612532016,
          0.32156071559377736,
          0.32921388731325685,
          0.33551758110982144,
          0.3403217218907109,
          0.344226694730749,
          0.347321559749445,
          0.3497718635795938,
          0.3517270754850494,
          0.3532771928669921,
          0.3545117021338753,
          0.35549109588420064,
          0.35626034157791076,
          0.35689443496661266,
          0.35737884790468305,
          0.35777353700537856,
          0.358088001754911,
          0.35833917998298376,
          0.35854354383605547,
          0.3587089848446032,
          0.3588475949472502,
          0.35896453890836433,
          0.35906680970515686,
          0.3591645256073439,
          0.35925660861498887,
          0.35935272381082234,
          0.3594595533112888,
          0.3595756300025507,
          0.35972446422559884,
          0.3598915486122604,
          0.36010395771080567,
          0.36034819789238215,
          0.36066909757715515,
          0.36106365796989603,
          0.3615554042516,
          0.3621711109375457,
          0.3629332936092191,
          0.3638802475259315,
          0.3651195561394157,
          0.36664631095595973,
          0.3685603012790341,
          0.3710123856814995,
          0.3740524588150913,
          0.37796844693565557,
          0.3828812779754566,
          0.3890676165555695,
          0.39685406132755646,
          0.4066219312048915,
          0.4189470790737298,
          0.43427566150433605,
          0.4536296729514805,
          0.47750761588368934,
          0.5074924580182241,
          0.5429982365748754,
          0.5844859577442728,
          0.6413909255325564,
          0.10835399907797287,
          0.13925773263993624,
          0.16371086220802739,
          0.18321365206397355,
          0.19866624953226347,
          0.2109689118836116,
          0.22072169885281703,
          0.2283748705722965,
          0.23467850827108477,
          0.23948270140087285,
          0.24338767049203328,
          0.24648253426110336,
          0.2489328255949931,
          0.25088856098943463,
          0.2524386908676363,
          0.25367372362350543,
          0.2546531048775718,
          0.2554223630675409,
          0.25605645645624286,
          0.2565408693943132,
          0.2569360944802536,
          0.25725055922978607,
          0.25750226094684475,
          0.2577056028144627,
          0.25787206580846417,
          0.2580101524221253,
          0.2581276198722254,
          0.2582294921426222,
          0.25832760657120496,
          0.25841876756346827,
          0.25851750020423137,
          0.25862328272672597,
          0.2587472117527766,
          0.25889081108596557,
          0.2590632553250765,
          0.25927541449844127,
          0.2595261391957793,
          0.25984578925464996,
          0.2602508194271091,
          0.26075428511443377,
          0.2613856964699569,
          0.2621753032168284,
          0.2631496812087389,
          0.26444258834671697,
          0.2659718424150657,
          0.2679930297871278,
          0.27050121196589183,
          0.27359238437217265,
          0.27757321765035226,
          0.2824860486901533,
          0.2886973797883141,
          0.29664087125607536,
          0.30632903585427546,
          0.31871902888072917,
          0.33408510008840736,
          0.35292811880866154,
          0.37634505405007596,
          0.40685338517052494,
          0.44294513400821034,
          0.4845453215088235,
          0.5368638510141185,
          -0.6983581049836509,
          -0.6674543714216875,
          -0.6430011906293611,
          -0.6234984007734149,
          -0.6080457497066005,
          -0.5957431409537769,
          -0.5859903003860469,
          -0.5783371797658402,
          -0.5720334884685274,
          -0.5672294000365365,
          -0.5633244284461243,
          -0.5602295696755578,
          -0.557779265845409,
          -0.5558240539399535,
          -0.5542739240617517,
          -0.5530389038021416,
          -0.5520595100518163,
          -0.5512907878470921,
          -0.5506567069546492,
          -0.5501722940165789,
          -0.5497776049158833,
          -0.5494631651588688,
          -0.5492119994270552,
          -0.5490081715592284,
          -0.5488427805357168,
          -0.5487046939220557,
          -0.5485877499609415,
          -0.5484860026531349,
          -0.5483890601651142,
          -0.5482964536684835,
          -0.5481994164572683,
          -0.548094930837926,
          -0.5479711267744656,
          -0.547822542476598,
          -0.5476557080151169,
          -0.5474339538001656,
          -0.5471727593231092,
          -0.5468426394845203,
          -0.546417919378527,
          -0.5458987490216248,
          -0.5452371779528493,
          -0.544406941713007,
          -0.5433605248889709,
          -0.5420676177509929,
          -0.5403813169868699,
          -0.5383077807162163,
          -0.5357472496388609,
          -0.5324915327813914,
          -0.528406001706029,
          -0.5233361239704536,
          -0.5169677461765185,
          -0.5090117584497333,
          -0.49927124495294184,
          -0.48639761558014133,
          -0.47104404063148714,
          -0.45164004414824677,
          -0.4282356051658563,
          -0.398711770722116,
          -0.36208403663949235,
          -0.3236122867953407,
          -0.26762933438864595,
          -1.706747982407216,
          -1.6758442497199908,
          -1.6513911224012263,
          -1.6318882826956331,
          -1.6164356341280706,
          -1.6041330291241247,
          -1.5943801412059997,
          -1.5867269757346498,
          -1.580423238336568,
          -1.5756190552037872,
          -1.5717140961096339,
          -1.5686187150997075,
          -1.5661684362620767,
          -1.5642127133638943,
          -1.5626620849892245,
          -1.5614270772258736,
          -1.5604477209643253,
          -1.5596785002631333,
          -1.5590439333704815,
          -1.5585595704174473,
          -1.558164943798047,
          -1.5578505790185866,
          -1.5575990022641182,
          -1.5573952993588815,
          -1.5572289488312114,
          -1.557090190127349,
          -1.5569729726024295,
          -1.55686950622645,
          -1.5567701962186802,
          -1.5566754721274807,
          -1.5565759187953014,
          -1.55646328363874,
          -1.5563398308244254,
          -1.5561765415577022,
          -1.5559953770151362,
          -1.5557595426442807,
          -1.5554851427494516,
          -1.555131347713372,
          -1.5546829524098877,
          -1.5541151820321013,
          -1.5534050109424415,
          -1.55251171963804,
          -1.5513656035204306,
          -1.549975496340684,
          -1.548193245160695,
          -1.545920310302895,
          -1.543103033236192,
          -1.539555716253417,
          -1.5351685880455301,
          -1.5295877175830646,
          -1.5225637966254888,
          -1.5138350716788562,
          -1.5031249216268756,
          -1.489752795786209,
          -1.472841250138836,
          -1.4519042754749247,
          -1.4274528585207058,
          -1.3963960458962945,
          -1.359755815554647,
          -1.3130082120080593,
          -1.2589942529547817,
          -0.6983576477019148,
          -0.667453915901924,
          -0.643000789332935,
          -0.6234980032258666,
          -0.6080453584071817,
          -0.5957427559024875,
          -0.5859899253317647,
          -0.578336817207817,
          -0.5720331409060151,
          -0.5672289665206156,
          -0.5633240224219732,
          -0.5602286601564352,
          -0.5577778703260776,
          -0.5558221724204132,
          -0.5542715690382617,
          -0.5530360752747018,
          -0.5520562205166856,
          -0.5512865263115437,
          -0.550652009403928,
          -0.550167733924707,
          -0.5497726712901339,
          -0.549457371999033,
          -0.5492059202071548,
          -0.5490012827902776,
          -0.548834185194852,
          -0.5486951529271844,
          -0.5485750443935299,
          -0.5484693354603914,
          -0.5483690797986152,
          -0.5482713160974655,
          -0.5481630897390811,
          -0.5480480634241456,
          -0.5479136950264671,
          -0.5477414355311087,
          -0.5475409559427793,
          -0.5472916662289704,
          -0.5469883562467914,
          -0.5465951813436433,
          -0.5461021712832316,
          -0.5454870505104634,
          -0.5447085894663851,
          -0.5437325531638901,
          -0.5424932222684691,
          -0.5409548157742651,
          -0.5389731660071295,
          -0.5365531814607744,
          -0.5334393057651564,
          -0.529590391649857,
          -0.524757115872695,
          -0.5188222993791134,
          -0.5113522308522629,
          -0.5019804590010137,
          -0.49077181248116675,
          -0.47586670845982915,
          -0.45900514784855206,
          -0.43705868398988434,
          -0.40952881441529976,
          -0.3764530234013755,
          -0.3372953182023484,
          -0.2900617144469184,
          -0.234328687220703
         ],
         "z": [
          4.407896970310342,
          3.386440605279676,
          2.57820236476089,
          1.9335971322588852,
          1.4228739346570254,
          1.016281907711313,
          0.693987332799438,
          0.4411148024435545,
          0.23287223758858613,
          0.0742176630684604,
          -0.054681137867730406,
          -0.15680323653242992,
          -0.23760278946747534,
          -0.3020339001247881,
          -0.3530792067613897,
          -0.393707220493444,
          -0.4259041295000342,
          -0.45115651246507116,
          -0.4719389030273011,
          -0.4877534748378613,
          -0.5005821685142833,
          -0.5107172636189206,
          -0.5187007502687703,
          -0.5250241415260081,
          -0.529974389432397,
          -0.5338446651234452,
          -0.5368236412507362,
          -0.539047636071781,
          -0.5407460358249587,
          -0.5418493074841066,
          -0.542542180636421,
          -0.5428140405171993,
          -0.5426952579685655,
          -0.5421725243474654,
          -0.5412692492182839,
          -0.5399105173170562,
          -0.5381300073984799,
          -0.5357215204813157,
          -0.5326910759138819,
          -0.5287919832709148,
          -0.5239689831750207,
          -0.5179645454854876,
          -0.5105353608554968,
          -0.5013015006887023,
          -0.4896675137791192,
          -0.4754767688213165,
          -0.45754613808460165,
          -0.4357198249246935,
          -0.4085875945299345,
          -0.37492616271870843,
          -0.33354079063232284,
          -0.2823899248630019,
          -0.21877551717187319,
          -0.1427212856697536,
          -0.04716395744082831,
          0.06794326647306274,
          0.20635486623302193,
          0.37428978682765246,
          0.5740238096873634,
          0.7993378906525888,
          1.0964402070608588,
          4.4076953014066875,
          3.3862391487540973,
          2.5780009476659553,
          1.9333957644522555,
          1.4226728038726253,
          1.0160810632374475,
          0.6937865376138775,
          0.44091453059075875,
          0.23267229191533592,
          0.07401842846190021,
          -0.05488032318598577,
          -0.1570021754091611,
          -0.23779985100495496,
          -0.30223283900151926,
          -0.3532757754158209,
          -0.3939056664871267,
          -0.42610257549371694,
          -0.451352588236454,
          -0.4721344859156355,
          -0.4879485648431473,
          -0.5007762727534726,
          -0.5109122594312645,
          -0.518896637654269,
          -0.5252156871570133,
          -0.53016821109276,
          -0.5340384867838082,
          -0.5370144114198667,
          -0.5392304259191949,
          -0.5409250709938696,
          -0.5420203623313009,
          -0.5427015004833957,
          -0.5429559933461999,
          -0.5428280563238685,
          -0.5422668339883172,
          -0.5413250701446843,
          -0.5399386491193944,
          -0.5380220158061071,
          -0.5355384353188823,
          -0.5323648354840324,
          -0.528303814181134,
          -0.5232813386402784,
          -0.5170586521132686,
          -0.5093431569484456,
          -0.4996469938414774,
          -0.48777598470190253,
          -0.4731604835889565,
          -0.4549928306222499,
          -0.4329882028314003,
          -0.40498762153793455,
          -0.37125587099965796,
          -0.32918988193971715,
          -0.27815643136849705,
          -0.2151755441798733,
          -0.13818264305199643,
          -0.044502654074585694,
          0.0706045698393053,
          0.21000193569607206,
          0.3788284294454097,
          0.5776708791504136,
          0.8108710888900994,
          1.1117280838013983,
          4.407443276093657,
          3.385987143156389,
          2.5777489322105853,
          1.9331437489968857,
          1.4224206499716356,
          1.015828860048153,
          0.6935344330011928,
          0.4406624259780739,
          0.2324201474336405,
          0.07376647171412988,
          -0.05513213206884156,
          -0.15725393500371204,
          -0.2380511177164575,
          -0.3024822283737703,
          -0.3535256576711203,
          -0.3941536714031747,
          -0.42635008752671644,
          -0.45160059315250195,
          -0.4723824908316835,
          -0.48819656975919523,
          -0.5010228932133173,
          -0.5111588798911093,
          -0.5191413807748622,
          -0.5254651707222063,
          -0.5304129542133532,
          -0.534285107243653,
          -0.5372591545404599,
          -0.5394819752095237,
          -0.5411698141144629,
          -0.5422737889608812,
          -0.5429455404167185,
          -0.5432037879580257,
          -0.5430476908469215,
          -0.5425052419038854,
          -0.5415496334982215,
          -0.5401533548119634,
          -0.5382672364110014,
          -0.5357343676189362,
          -0.5325232209990559,
          -0.5284739412159677,
          -0.5233951454975666,
          -0.5171278803128215,
          -0.5093678064902631,
          -0.4995331977629839,
          -0.48776076523308975,
          -0.47286837287952166,
          -0.45466085090218467,
          -0.4324192008813433,
          -0.40472376871112986,
          -0.3709920181728532,
          -0.3299117952097199,
          -0.2783151428630455,
          -0.21669548962153226,
          -0.14000773761690766,
          -0.04780639778470826,
          0.06493060382926445,
          0.19998621519249785,
          0.37069004819334994,
          0.5689454219078496,
          0.7977096842119015,
          1.0767417953755316,
          4.405425261201692,
          3.3839691282644244,
          2.5757311494120207,
          1.931125966198321,
          1.4204030056186912,
          1.0138110772495885,
          0.6915167886482482,
          0.43864454460289937,
          0.2304024045040863,
          0.07174835331672541,
          -0.05715034904285574,
          -0.15927195482450685,
          -0.24006963042030074,
          -0.3045026184168651,
          -0.3555460477142151,
          -0.39617356856322106,
          -0.42837047756981117,
          -0.45362236765179986,
          -0.4744037724479329,
          -0.4902178513754447,
          -0.5030455592857699,
          -0.513180560197465,
          -0.521164445537421,
          -0.5274848794963685,
          -0.5324354318999217,
          -0.5363075849302213,
          -0.5392835095662799,
          -0.5415014014048596,
          -0.5431880661578177,
          -0.5442814801559974,
          -0.5449539347991053,
          -0.5452060793579474,
          -0.5450450534163592,
          -0.5444739734198399,
          -0.5435223519152389,
          -0.5420540246305623,
          -0.54013035944457,
          -0.5375599438674745,
          -0.5342244153726934,
          -0.5301188154120596,
          -0.5248780910337274,
          -0.5184113504040208,
          -0.5103391607814098,
          -0.5005045520541307,
          -0.4881689177487822,
          -0.4730887914700626,
          -0.4546935355675742,
          -0.4321844136003207,
          -0.40411351357980435,
          -0.3698185612660733,
          -0.3281751365274857,
          -0.27707136722921505,
          -0.2152639800625503,
          -0.13737950577996638,
          -0.044685282899363195,
          0.06845040882091277,
          0.20399890323254993,
          0.3684836424883539,
          0.5681234724059644,
          0.7851308161525251,
          1.0773043020767572,
          4.40290403982878,
          3.381447941393326,
          2.573209819166472,
          1.9286049222633064,
          1.4178820602602862,
          1.0112902797560979,
          0.6889963760419023,
          0.43612461546030784,
          0.22788290953694404,
          0.06922962812387215,
          -0.05966858135266057,
          -0.1617882605067553,
          -0.24258495033645242,
          -0.30701556811071684,
          -0.35805613430271854,
          -0.39868316226867606,
          -0.430878592626121,
          -0.4561276196027613,
          -0.47690566841049764,
          -0.4927177758058158,
          -0.505543019300899,
          -0.5156750629143037,
          -0.5236526349675725,
          -0.529968140096036,
          -0.5349114876397473,
          -0.5387650995000918,
          -0.5417292891359308,
          -0.5439248851260522,
          -0.5455923055217848,
          -0.5466566175017709,
          -0.5472931639569493,
          -0.5474838207656115,
          -0.5472864156713836,
          -0.5466195848534464,
          -0.5455574260359757,
          -0.5439687037774611,
          -0.5418901418042427,
          -0.5391272826548906,
          -0.535599310587853,
          -0.5311581117875467,
          -0.5255817885695419,
          -0.5186738406177768,
          -0.5100290299255016,
          -0.49952322351887724,
          -0.4864671032293432,
          -0.4702417348112947,
          -0.4507106560636875,
          -0.4261879410583986,
          -0.3964977544385697,
          -0.3598325798249204,
          -0.3147628479625563,
          -0.2603501867386101,
          -0.19399008889726008,
          -0.11324250926635414,
          -0.014423385582803604,
          0.1058229730372273,
          0.24512614595189358,
          0.4167215521074525,
          0.6158684989766593,
          0.866856335134683,
          1.146591633568819,
          4.405427497414319,
          3.3839714339735614,
          2.57573334131969,
          1.9311283059709046,
          1.4204055918327987,
          1.0138139099052204,
          0.6915200156103188,
          0.43864826444801847,
          0.23040671580886343,
          0.07175377941392543,
          -0.057143838602949235,
          -0.15926277843247136,
          -0.24005709803986855,
          -0.30448673004803617,
          -0.3555263104739411,
          -0.3961499824515019,
          -0.42834254970359853,
          -0.45358772780879364,
          -0.4743638050843364,
          -0.49017246229831574,
          -0.5029923782728086,
          -0.5131162312602747,
          -0.5210888744830595,
          -0.5273961889855842,
          -0.5323239526576308,
          -0.5361658295177558,
          -0.5391088974571175,
          -0.5412803202595293,
          -0.5429174644850872,
          -0.5439439909378924,
          -0.5445171723036394,
          -0.5446669920938882,
          -0.5443820487225192,
          -0.5436185251537433,
          -0.5424171979699195,
          -0.5406834365851467,
          -0.5383936576471567,
          -0.5353820347480028,
          -0.531586525538648,
          -0.5267604395938288,
          -0.5207241356612503,
          -0.513250598512526,
          -0.5040026518382611,
          -0.4925886255222997,
          -0.4783872630934368,
          -0.46120438646121104,
          -0.4398568678949298,
          -0.41371486629032833,
          -0.3813493082473289,
          -0.3428771131092156,
          -0.29513200982368093,
          -0.2368001584275544,
          -0.16757695523788238,
          -0.07971870870722148,
          0.021071947169944146,
          0.14655163343821553,
          0.2995832571039878,
          0.4816453185560276,
          0.6941220260700373,
          0.9484658506247866,
          1.250496997517094
         ]
        },
        {
         "hovertemplate": "Sensor=SF_NS5A_5bicp24<br>PC1=%{x}<br>PC2=%{y}<br>PC3=%{z}<extra></extra>",
         "legendgroup": "SF_NS5A_5bicp24",
         "marker": {
          "color": "#00cc96",
          "symbol": "circle"
         },
         "mode": "markers",
         "name": "SF_NS5A_5bicp24",
         "scene": "scene",
         "showlegend": true,
         "type": "scatter3d",
         "x": [
          -1.8674699093875677,
          -1.6020668871574941,
          -1.3920537525281427,
          -1.2245467716471823,
          -1.091814925246255,
          -0.9861261096397236,
          -0.9023277578717208,
          -0.8365547492158554,
          -0.7823625511530866,
          -0.7410443044961574,
          -0.707447243572203,
          -0.6807972314207595,
          -0.659689551481307,
          -0.6428251184835949,
          -0.6294309877691441,
          -0.6187371101723639,
          -0.6102153579115093,
          -0.6034772714873667,
          -0.5978639118384705,
          -0.5935050113974824,
          -0.58986557254982,
          -0.5868426381441179,
          -0.5842845658097849,
          -0.582033802734524,
          -0.580003289126761,
          -0.5780485077898211,
          -0.576064446014652,
          -0.573984977236982,
          -0.5716715968382741,
          -0.5690500927989355,
          -0.5659062728832945,
          -0.5620834847186674,
          -0.5574750689871196,
          -0.5517742160632315,
          -0.5447347361035403,
          -0.536272823345383,
          -0.5256100337759577,
          -0.5124603313707865,
          -0.4960076509593714,
          -0.4757110721435659,
          -0.45088583666299875,
          -0.4199732439836497,
          -0.3825596870700971,
          -0.33667376012166705,
          -0.2812302729152142,
          -0.21357135166281258,
          -0.13152764651104915,
          -0.03392352141761064,
          0.08475458642198418,
          0.22649371815760608,
          0.3934291188138597,
          0.5896089855102644,
          0.8211425296294677,
          1.0900908298466518,
          1.4004283034042446,
          1.7619203533225707,
          2.159919042542485,
          2.6258780810068223,
          3.1372008646429266,
          3.755886400244622,
          4.394443558291656
         ],
         "y": [
          2.9464272809820016,
          2.9773313130170327,
          3.001784947579646,
          3.0212883979772593,
          3.036741866632437,
          3.049045605817389,
          3.058799684014297,
          3.0664541482111045,
          3.0727593999783673,
          3.077565000280288,
          3.0814710163494206,
          3.0845674505854483,
          3.087018265408324,
          3.0889739758102475,
          3.090524591688658,
          3.0917595744594912,
          3.092739416721248,
          3.09350911092639,
          3.094144138826733,
          3.0946289377949396,
          3.095024523918499,
          3.0953408701875715,
          3.0955944159353934,
          3.095800548841674,
          3.095969341866647,
          3.096111640030821,
          3.0962342410468144,
          3.096343739365445,
          3.0964500033312468,
          3.096553251847436,
          3.0966669630208603,
          3.0967984674195392,
          3.0969482669229897,
          3.0971369808634672,
          3.097364009788863,
          3.0976524429834904,
          3.0980093514901634,
          3.0984730792132855,
          3.099073286322685,
          3.099834747625259,
          3.100793457790103,
          3.1020190464074355,
          3.1035430878345562,
          3.105466681007436,
          3.1078397655827597,
          3.110815729388491,
          3.1144943317248024,
          3.1189815650197277,
          3.1245828502917457,
          3.131285676280184,
          3.1394166926422122,
          3.1491204588155712,
          3.1606985884345997,
          3.174308143196722,
          3.1899241395848796,
          3.208618557089939,
          3.2287834459777445,
          3.252487774174401,
          3.2781735784820136,
          3.3094178064886504,
          3.3405370629040574
         ],
         "z": [
          4.503877544020416,
          3.482423153590511,
          2.6741875494508704,
          2.029585595391075,
          1.5188664271671248,
          1.1122794668455578,
          0.789990423182994,
          0.5371237502559668,
          0.32888763648134695,
          0.1702392760193396,
          0.04134442691487119,
          -0.06077174400224471,
          -0.14156704937573872,
          -0.2059971742669547,
          -0.257037247575908,
          -0.2976632897757687,
          -0.329855364144817,
          -0.3551005422500121,
          -0.3758742493032549,
          -0.39168102917798275,
          -0.4044990678132241,
          -0.41461916612218713,
          -0.4225842999879659,
          -0.42888302517444565,
          -0.43381008565922174,
          -0.43764562731432166,
          -0.44057437972694174,
          -0.44273758998507706,
          -0.44436394113983624,
          -0.44538155186109446,
          -0.4459458174952944,
          -0.4460472974297144,
          -0.44571776888101944,
          -0.4449274981176023,
          -0.4436470904626549,
          -0.44188049193995693,
          -0.4394522673816558,
          -0.4362951669894858,
          -0.43222276653950886,
          -0.42708695221614223,
          -0.42072685615960626,
          -0.41273476108906776,
          -0.4030034810524191,
          -0.3910146418330032,
          -0.37648490802488765,
          -0.35870618806699717,
          -0.33710784430893387,
          -0.3113651847696852,
          -0.2800092670385433,
          -0.24254671221228757,
          -0.19834598320767982,
          -0.14635129271375177,
          -0.08494389957148953,
          -0.013561097860255293,
          0.06878258100386868,
          0.16485575191421367,
          0.2705048479195208,
          0.3942248433662109,
          0.5298905895239279,
          0.694093692077582,
          0.8632259226281638
         ]
        }
       ],
       "layout": {
        "legend": {
         "title": {
          "text": "Sensor"
         },
         "tracegroupgap": 0
        },
        "margin": {
         "t": 60
        },
        "scene": {
         "domain": {
          "x": [
           0,
           1
          ],
          "y": [
           0,
           1
          ]
         },
         "xaxis": {
          "title": {
           "text": "PC1"
          }
         },
         "yaxis": {
          "title": {
           "text": "PC2"
          }
         },
         "zaxis": {
          "title": {
           "text": "PC3"
          }
         }
        },
        "template": {
         "data": {
          "bar": [
           {
            "error_x": {
             "color": "#2a3f5f"
            },
            "error_y": {
             "color": "#2a3f5f"
            },
            "marker": {
             "line": {
              "color": "#E5ECF6",
              "width": 0.5
             },
             "pattern": {
              "fillmode": "overlay",
              "size": 10,
              "solidity": 0.2
             }
            },
            "type": "bar"
           }
          ],
          "barpolar": [
           {
            "marker": {
             "line": {
              "color": "#E5ECF6",
              "width": 0.5
             },
             "pattern": {
              "fillmode": "overlay",
              "size": 10,
              "solidity": 0.2
             }
            },
            "type": "barpolar"
           }
          ],
          "carpet": [
           {
            "aaxis": {
             "endlinecolor": "#2a3f5f",
             "gridcolor": "white",
             "linecolor": "white",
             "minorgridcolor": "white",
             "startlinecolor": "#2a3f5f"
            },
            "baxis": {
             "endlinecolor": "#2a3f5f",
             "gridcolor": "white",
             "linecolor": "white",
             "minorgridcolor": "white",
             "startlinecolor": "#2a3f5f"
            },
            "type": "carpet"
           }
          ],
          "choropleth": [
           {
            "colorbar": {
             "outlinewidth": 0,
             "ticks": ""
            },
            "type": "choropleth"
           }
          ],
          "contour": [
           {
            "colorbar": {
             "outlinewidth": 0,
             "ticks": ""
            },
            "colorscale": [
             [
              0,
              "#0d0887"
             ],
             [
              0.1111111111111111,
              "#46039f"
             ],
             [
              0.2222222222222222,
              "#7201a8"
             ],
             [
              0.3333333333333333,
              "#9c179e"
             ],
             [
              0.4444444444444444,
              "#bd3786"
             ],
             [
              0.5555555555555556,
              "#d8576b"
             ],
             [
              0.6666666666666666,
              "#ed7953"
             ],
             [
              0.7777777777777778,
              "#fb9f3a"
             ],
             [
              0.8888888888888888,
              "#fdca26"
             ],
             [
              1,
              "#f0f921"
             ]
            ],
            "type": "contour"
           }
          ],
          "contourcarpet": [
           {
            "colorbar": {
             "outlinewidth": 0,
             "ticks": ""
            },
            "type": "contourcarpet"
           }
          ],
          "heatmap": [
           {
            "colorbar": {
             "outlinewidth": 0,
             "ticks": ""
            },
            "colorscale": [
             [
              0,
              "#0d0887"
             ],
             [
              0.1111111111111111,
              "#46039f"
             ],
             [
              0.2222222222222222,
              "#7201a8"
             ],
             [
              0.3333333333333333,
              "#9c179e"
             ],
             [
              0.4444444444444444,
              "#bd3786"
             ],
             [
              0.5555555555555556,
              "#d8576b"
             ],
             [
              0.6666666666666666,
              "#ed7953"
             ],
             [
              0.7777777777777778,
              "#fb9f3a"
             ],
             [
              0.8888888888888888,
              "#fdca26"
             ],
             [
              1,
              "#f0f921"
             ]
            ],
            "type": "heatmap"
           }
          ],
          "heatmapgl": [
           {
            "colorbar": {
             "outlinewidth": 0,
             "ticks": ""
            },
            "colorscale": [
             [
              0,
              "#0d0887"
             ],
             [
              0.1111111111111111,
              "#46039f"
             ],
             [
              0.2222222222222222,
              "#7201a8"
             ],
             [
              0.3333333333333333,
              "#9c179e"
             ],
             [
              0.4444444444444444,
              "#bd3786"
             ],
             [
              0.5555555555555556,
              "#d8576b"
             ],
             [
              0.6666666666666666,
              "#ed7953"
             ],
             [
              0.7777777777777778,
              "#fb9f3a"
             ],
             [
              0.8888888888888888,
              "#fdca26"
             ],
             [
              1,
              "#f0f921"
             ]
            ],
            "type": "heatmapgl"
           }
          ],
          "histogram": [
           {
            "marker": {
             "pattern": {
              "fillmode": "overlay",
              "size": 10,
              "solidity": 0.2
             }
            },
            "type": "histogram"
           }
          ],
          "histogram2d": [
           {
            "colorbar": {
             "outlinewidth": 0,
             "ticks": ""
            },
            "colorscale": [
             [
              0,
              "#0d0887"
             ],
             [
              0.1111111111111111,
              "#46039f"
             ],
             [
              0.2222222222222222,
              "#7201a8"
             ],
             [
              0.3333333333333333,
              "#9c179e"
             ],
             [
              0.4444444444444444,
              "#bd3786"
             ],
             [
              0.5555555555555556,
              "#d8576b"
             ],
             [
              0.6666666666666666,
              "#ed7953"
             ],
             [
              0.7777777777777778,
              "#fb9f3a"
             ],
             [
              0.8888888888888888,
              "#fdca26"
             ],
             [
              1,
              "#f0f921"
             ]
            ],
            "type": "histogram2d"
           }
          ],
          "histogram2dcontour": [
           {
            "colorbar": {
             "outlinewidth": 0,
             "ticks": ""
            },
            "colorscale": [
             [
              0,
              "#0d0887"
             ],
             [
              0.1111111111111111,
              "#46039f"
             ],
             [
              0.2222222222222222,
              "#7201a8"
             ],
             [
              0.3333333333333333,
              "#9c179e"
             ],
             [
              0.4444444444444444,
              "#bd3786"
             ],
             [
              0.5555555555555556,
              "#d8576b"
             ],
             [
              0.6666666666666666,
              "#ed7953"
             ],
             [
              0.7777777777777778,
              "#fb9f3a"
             ],
             [
              0.8888888888888888,
              "#fdca26"
             ],
             [
              1,
              "#f0f921"
             ]
            ],
            "type": "histogram2dcontour"
           }
          ],
          "mesh3d": [
           {
            "colorbar": {
             "outlinewidth": 0,
             "ticks": ""
            },
            "type": "mesh3d"
           }
          ],
          "parcoords": [
           {
            "line": {
             "colorbar": {
              "outlinewidth": 0,
              "ticks": ""
             }
            },
            "type": "parcoords"
           }
          ],
          "pie": [
           {
            "automargin": true,
            "type": "pie"
           }
          ],
          "scatter": [
           {
            "fillpattern": {
             "fillmode": "overlay",
             "size": 10,
             "solidity": 0.2
            },
            "type": "scatter"
           }
          ],
          "scatter3d": [
           {
            "line": {
             "colorbar": {
              "outlinewidth": 0,
              "ticks": ""
             }
            },
            "marker": {
             "colorbar": {
              "outlinewidth": 0,
              "ticks": ""
             }
            },
            "type": "scatter3d"
           }
          ],
          "scattercarpet": [
           {
            "marker": {
             "colorbar": {
              "outlinewidth": 0,
              "ticks": ""
             }
            },
            "type": "scattercarpet"
           }
          ],
          "scattergeo": [
           {
            "marker": {
             "colorbar": {
              "outlinewidth": 0,
              "ticks": ""
             }
            },
            "type": "scattergeo"
           }
          ],
          "scattergl": [
           {
            "marker": {
             "colorbar": {
              "outlinewidth": 0,
              "ticks": ""
             }
            },
            "type": "scattergl"
           }
          ],
          "scattermapbox": [
           {
            "marker": {
             "colorbar": {
              "outlinewidth": 0,
              "ticks": ""
             }
            },
            "type": "scattermapbox"
           }
          ],
          "scatterpolar": [
           {
            "marker": {
             "colorbar": {
              "outlinewidth": 0,
              "ticks": ""
             }
            },
            "type": "scatterpolar"
           }
          ],
          "scatterpolargl": [
           {
            "marker": {
             "colorbar": {
              "outlinewidth": 0,
              "ticks": ""
             }
            },
            "type": "scatterpolargl"
           }
          ],
          "scatterternary": [
           {
            "marker": {
             "colorbar": {
              "outlinewidth": 0,
              "ticks": ""
             }
            },
            "type": "scatterternary"
           }
          ],
          "surface": [
           {
            "colorbar": {
             "outlinewidth": 0,
             "ticks": ""
            },
            "colorscale": [
             [
              0,
              "#0d0887"
             ],
             [
              0.1111111111111111,
              "#46039f"
             ],
             [
              0.2222222222222222,
              "#7201a8"
             ],
             [
              0.3333333333333333,
              "#9c179e"
             ],
             [
              0.4444444444444444,
              "#bd3786"
             ],
             [
              0.5555555555555556,
              "#d8576b"
             ],
             [
              0.6666666666666666,
              "#ed7953"
             ],
             [
              0.7777777777777778,
              "#fb9f3a"
             ],
             [
              0.8888888888888888,
              "#fdca26"
             ],
             [
              1,
              "#f0f921"
             ]
            ],
            "type": "surface"
           }
          ],
          "table": [
           {
            "cells": {
             "fill": {
              "color": "#EBF0F8"
             },
             "line": {
              "color": "white"
             }
            },
            "header": {
             "fill": {
              "color": "#C8D4E3"
             },
             "line": {
              "color": "white"
             }
            },
            "type": "table"
           }
          ]
         },
         "layout": {
          "annotationdefaults": {
           "arrowcolor": "#2a3f5f",
           "arrowhead": 0,
           "arrowwidth": 1
          },
          "autotypenumbers": "strict",
          "coloraxis": {
           "colorbar": {
            "outlinewidth": 0,
            "ticks": ""
           }
          },
          "colorscale": {
           "diverging": [
            [
             0,
             "#8e0152"
            ],
            [
             0.1,
             "#c51b7d"
            ],
            [
             0.2,
             "#de77ae"
            ],
            [
             0.3,
             "#f1b6da"
            ],
            [
             0.4,
             "#fde0ef"
            ],
            [
             0.5,
             "#f7f7f7"
            ],
            [
             0.6,
             "#e6f5d0"
            ],
            [
             0.7,
             "#b8e186"
            ],
            [
             0.8,
             "#7fbc41"
            ],
            [
             0.9,
             "#4d9221"
            ],
            [
             1,
             "#276419"
            ]
           ],
           "sequential": [
            [
             0,
             "#0d0887"
            ],
            [
             0.1111111111111111,
             "#46039f"
            ],
            [
             0.2222222222222222,
             "#7201a8"
            ],
            [
             0.3333333333333333,
             "#9c179e"
            ],
            [
             0.4444444444444444,
             "#bd3786"
            ],
            [
             0.5555555555555556,
             "#d8576b"
            ],
            [
             0.6666666666666666,
             "#ed7953"
            ],
            [
             0.7777777777777778,
             "#fb9f3a"
            ],
            [
             0.8888888888888888,
             "#fdca26"
            ],
            [
             1,
             "#f0f921"
            ]
           ],
           "sequentialminus": [
            [
             0,
             "#0d0887"
            ],
            [
             0.1111111111111111,
             "#46039f"
            ],
            [
             0.2222222222222222,
             "#7201a8"
            ],
            [
             0.3333333333333333,
             "#9c179e"
            ],
            [
             0.4444444444444444,
             "#bd3786"
            ],
            [
             0.5555555555555556,
             "#d8576b"
            ],
            [
             0.6666666666666666,
             "#ed7953"
            ],
            [
             0.7777777777777778,
             "#fb9f3a"
            ],
            [
             0.8888888888888888,
             "#fdca26"
            ],
            [
             1,
             "#f0f921"
            ]
           ]
          },
          "colorway": [
           "#636efa",
           "#EF553B",
           "#00cc96",
           "#ab63fa",
           "#FFA15A",
           "#19d3f3",
           "#FF6692",
           "#B6E880",
           "#FF97FF",
           "#FECB52"
          ],
          "font": {
           "color": "#2a3f5f"
          },
          "geo": {
           "bgcolor": "white",
           "lakecolor": "white",
           "landcolor": "#E5ECF6",
           "showlakes": true,
           "showland": true,
           "subunitcolor": "white"
          },
          "hoverlabel": {
           "align": "left"
          },
          "hovermode": "closest",
          "mapbox": {
           "style": "light"
          },
          "paper_bgcolor": "white",
          "plot_bgcolor": "#E5ECF6",
          "polar": {
           "angularaxis": {
            "gridcolor": "white",
            "linecolor": "white",
            "ticks": ""
           },
           "bgcolor": "#E5ECF6",
           "radialaxis": {
            "gridcolor": "white",
            "linecolor": "white",
            "ticks": ""
           }
          },
          "scene": {
           "xaxis": {
            "backgroundcolor": "#E5ECF6",
            "gridcolor": "white",
            "gridwidth": 2,
            "linecolor": "white",
            "showbackground": true,
            "ticks": "",
            "zerolinecolor": "white"
           },
           "yaxis": {
            "backgroundcolor": "#E5ECF6",
            "gridcolor": "white",
            "gridwidth": 2,
            "linecolor": "white",
            "showbackground": true,
            "ticks": "",
            "zerolinecolor": "white"
           },
           "zaxis": {
            "backgroundcolor": "#E5ECF6",
            "gridcolor": "white",
            "gridwidth": 2,
            "linecolor": "white",
            "showbackground": true,
            "ticks": "",
            "zerolinecolor": "white"
           }
          },
          "shapedefaults": {
           "line": {
            "color": "#2a3f5f"
           }
          },
          "ternary": {
           "aaxis": {
            "gridcolor": "white",
            "linecolor": "white",
            "ticks": ""
           },
           "baxis": {
            "gridcolor": "white",
            "linecolor": "white",
            "ticks": ""
           },
           "bgcolor": "#E5ECF6",
           "caxis": {
            "gridcolor": "white",
            "linecolor": "white",
            "ticks": ""
           }
          },
          "title": {
           "x": 0.05
          },
          "xaxis": {
           "automargin": true,
           "gridcolor": "white",
           "linecolor": "white",
           "ticks": "",
           "title": {
            "standoff": 15
           },
           "zerolinecolor": "white",
           "zerolinewidth": 2
          },
          "yaxis": {
           "automargin": true,
           "gridcolor": "white",
           "linecolor": "white",
           "ticks": "",
           "title": {
            "standoff": 15
           },
           "zerolinecolor": "white",
           "zerolinewidth": 2
          }
         }
        }
       }
      },
      "text/html": [
       "<div>                            <div id=\"6e47da7b-1375-4422-9582-f29cdf3010c5\" class=\"plotly-graph-div\" style=\"height:525px; width:100%;\"></div>            <script type=\"text/javascript\">                require([\"plotly\"], function(Plotly) {                    window.PLOTLYENV=window.PLOTLYENV || {};                                    if (document.getElementById(\"6e47da7b-1375-4422-9582-f29cdf3010c5\")) {                    Plotly.newPlot(                        \"6e47da7b-1375-4422-9582-f29cdf3010c5\",                        [{\"hovertemplate\":\"Sensor=SF_NS5A_1bic<br>PC1=%{x}<br>PC2=%{y}<br>PC3=%{z}<extra></extra>\",\"legendgroup\":\"SF_NS5A_1bic\",\"marker\":{\"color\":\"#636efa\",\"symbol\":\"circle\"},\"mode\":\"markers\",\"name\":\"SF_NS5A_1bic\",\"scene\":\"scene\",\"showlegend\":true,\"x\":[-1.7853126312392291,-1.5199022678940954,-1.3098881794231565,-1.1423866433195737,-1.0096673783871646,-0.9039935118007059,-0.82021835285218,-0.7544697122653614,-0.7003069807039142,-0.6590103371304827,-0.6254340844220365,-0.598804880486101,-0.5776977966976408,-0.5608255855441768,-0.5474227683510591,-0.5367281529555079,-0.5282087289129155,-0.5214946590526047,-0.515939835655869,-0.511651394486885,-0.5081129602596076,-0.5052363943354038,-0.5028720415136568,-0.5008614406591541,-0.499119348626152,-0.4975565479289584,-0.4960582605327958,-0.4946004871933287,-0.4930447232920198,-0.4913709776732011,-0.4894467582964727,-0.4871978507831937,-0.4844962485181482,-0.48122284075882543,-0.4772560620954969,-0.47223759196299697,-0.46631784051197306,-0.458634492425493,-0.4491521515691798,-0.4373446535203061,-0.4227333350036073,-0.4041790634429874,-0.3814130064474719,-0.3524858921795149,-0.31706821202803104,-0.27227156681787357,-0.21541391000722274,-0.14641877880767096,-0.06000592091169551,0.04924662124902957,0.1833265329449238,0.3530042843782317,0.5615673739197443,0.8279563428285496,1.153471455089403,1.5541577075427997,2.074226385895745,2.6736111587101146,3.466544804024575,4.352704785147967,5.6314126033502845,-1.7812716824626307,-1.5158611402721993,-1.3058468888533228,-1.1383452374938814,-1.0056256347425765,-0.8999586379889548,-0.8161828828894369,-0.7504336461516259,-0.6962701197221892,-0.6549724825637708,-0.6213948388363426,-0.5947567778975964,-0.57364711078817,-0.556772912464732,-0.5433612382688033,-0.5326489088676305,-0.5241157451593642,-0.5173879356333797,-0.5118173854009961,-0.5075220743991752,-0.5039787575090348,-0.5010884519191573,-0.4987152420945993,-0.4967046412400966,-0.4949625492070944,-0.49339287867706405,-0.49190146111373834,-0.4904169462416945,-0.4888611823403856,-0.4871805668887299,-0.48523647581226176,-0.4829539569335692,-0.4802660943341974,-0.4769941621724165,-0.47293881348097916,-0.46794929827736864,-0.46194097679823587,-0.4541889303833867,-0.4445765708580446,-0.4327003744808017,-0.4178216406383358,-0.3993360674060849,-0.3761651984280641,-0.3474441791452144,-0.31115555468806,-0.26622151282116435,-0.20869900668995026,-0.13970387549039848,-0.05191705102704098,0.0573354911336841,0.19408955608724987,0.3650674942108474,0.575004550319742,0.8427674857959293,1.1708829714373619,1.5887438059830337,2.078437660099389,2.7043934413464314,3.524806418008532,4.478926928730101,5.635453353409885,-1.7762205461711325,-1.5108030149176657,-1.300795624985512,-1.1332938229985865,-1.0005741010170832,-0.8948998369966298,-0.8111238831801144,-0.7453813175581431,-0.6912171949777142,-0.649918762951306,-0.616340125638891,-0.5897067486460104,-0.5685950943666098,-0.551718908873198,-0.5383032603373213,-0.5275889437661744,-0.5190547012108492,-0.5123209301749426,-0.5067375485998002,-0.5024323017481094,-0.4988701920052882,-0.49597284605842973,-0.49357289470129506,-0.4915335651442416,-0.4897567828987669,-0.4881424863063939,-0.4865907158450778,-0.4850527179078806,-0.48340372754193867,-0.4815894044273995,-0.47953147738778756,-0.4770823772795686,-0.47416758055268027,-0.4706748462974487,-0.4662038971529158,-0.46077890979646996,-0.4542845842944322,-0.4459290088996797,-0.43551440339703607,-0.4226985643857535,-0.4064827539144518,-0.3864540090682579,-0.36147993113823607,-0.3299399839532674,-0.2909085079100723,-0.24236067015146537,-0.1808808764866945,-0.10516347220441759,-0.009354187968045408,0.10860779724938541,0.25544527182703897,0.43986775611608675,0.6657759518939181,0.9605755394551913,1.3157276771817095,1.778657253332477,2.313714968562298,2.992074967903759,3.8659710097192916,4.874312384365218,6.069106610982762,-1.7358059770252885,-1.4703953156046587,-1.2603809429684136,-1.0928790551357452,-0.9601591344372447,-0.8544917402496283,-0.7707155877161154,-0.704965556110315,-0.6508010360958911,-0.6095088777513279,-0.5759290481369284,-0.5492952737100529,-0.5281816322606785,-0.5113034595972926,-0.49788383672146813,-0.48716554581037325,-0.478622446252237,-0.4718847008763826,-0.4662884879584813,-0.4619772795968686,-0.45839836417134056,-0.45548619971174925,-0.4530763125047447,-0.4510210855878994,-0.44921069197701097,-0.44756766668208736,-0.4459692829884548,-0.4443778019861041,-0.44269520025474857,-0.44079378270964226,-0.4386357593725604,-0.43607969313403466,-0.43303118874426266,-0.4292482162684405,-0.4247068635540981,-0.41903433257162487,-0.4121351950870818,-0.40331348736916395,-0.3924253715556459,-0.378875984895431,-0.3617205317900896,-0.3408208426382251,-0.31416619643752197,-0.28122047429534847,-0.24010361799896668,-0.18879817267890056,-0.12435467646756326,-0.04596311892761479,0.05389428513381102,0.17857854343396695,0.33481244435201724,0.5286313549814617,0.7674446733952377,1.0681319910013598,1.4435247278531458,1.9081463544695243,2.488567930812811,3.214278961241718,4.10191466873107,5.136259777182787,6.6441151192145,-1.6852897314474398,-1.4198791097702097,-1.2098647907875537,-1.0423627698144973,-0.9096428888593963,-0.8039752959547822,-0.7201987459872746,-0.6544555842143112,-0.6002902693318978,-0.5589971174023475,-0.5254229653188006,-0.4987868062879563,-0.47767804750144466,-0.46079391332813696,-0.4473703161123644,-0.43663919385851074,-0.4280832629576156,-0.4213169594033545,-0.4157079151426944,-0.41136326593981204,-0.40777350634149917,-0.4048425490292271,-0.4024089863066788,-0.40032610953434183,-0.39848607889798776,-0.39680240188066956,-0.3951635369887864,-0.39351857292128234,-0.3917488767593597,-0.3897939761491,-0.3875152470160375,-0.38483160514869413,-0.38160204206495113,-0.37763114106232104,-0.37270484806521303,-0.366913086884301,-0.35954781707659267,-0.3503899957045386,-0.3388983509111172,-0.3244780199452317,-0.3065816412032487,-0.2843374974348391,-0.2564070949459601,-0.22191820118984346,-0.17844854931450782,-0.12404938277884638,-0.05703961801573869,0.027387229323243976,0.13060576992603234,0.26269928459260444,0.4256554585933799,0.6261966423055495,0.8825026267098292,1.1987692202095674,1.5887591301629085,2.0614769964293935,2.6872624338861457,3.4198432971519632,4.334220537218031,5.510618738932087,6.830775198054449,-1.7357924360766122,-1.4703818342710815,-1.2603675045577076,-1.0928655340587687,-0.9601455934885683,-0.8544780005839544,-0.7707016493334442,-0.7049582888434833,-0.6507998437939069,-0.609506493147359,-0.5759319436298174,-0.5492961820329679,-0.5281854360764824,-0.5113081717360115,-0.4978825873502651,-0.4871474907564633,-0.47859445534845724,-0.4718241774542482,-0.4662023018508292,-0.4618585609708618,-0.45825398285981617,-0.45530820703481123,-0.45285783862955614,-0.45074731200172746,-0.44889535834552946,-0.4471712001299608,-0.4455124635383378,-0.4438270182725832,-0.44199696921267023,-0.43997558367035416,-0.43761589214079055,-0.4348184143103035,-0.43148801713031953,-0.4273291876008815,-0.42242106106207294,-0.41614670634113676,-0.40844532287929214,-0.39888268952473277,-0.3867875157514079,-0.37189367447464794,-0.35332506842439243,-0.33027130069097216,-0.30126385891131524,-0.26501832056843894,-0.22026553441721816,-0.16378836561607926,-0.09341746431160902,-0.007616650405244352,0.09965001002259766,0.23579164451422335,0.40416990490743443,0.6141812948370934,0.8732352123761372,1.1995114356228704,1.605301961101105,2.1085651757482236,2.717715454642206,3.5045171818323806,4.47924731988879,5.65638332037377,7.103147965644216],\"y\":[0.2900372873393588,0.3209416132238418,0.34539524178825115,0.36489832974237735,0.38035097081218455,0.3926537839620989,0.4024063079371855,0.4100591119647489,0.4163622822723276,0.4211663183554199,0.4250707652072203,0.4281656302259163,0.43061644879766964,0.432573243666342,0.4341255049892645,0.4353621831896455,0.4363443068512316,0.4371152854632668,0.43775011477735803,0.4382347901368679,0.43862874466606716,0.43894147785116766,0.43918944152166384,0.43938858433502853,0.4395478572959696,0.43967618641667683,0.4397814413802607,0.43986651472585836,0.43994127479800554,0.44000344801757846,0.44006192605314154,0.44011775760488425,0.4401747104488283,0.4402341834259657,0.44029919422983943,0.44038260552075975,0.44046332802973137,0.44057608174604107,0.440727101567207,0.4409072537091673,0.4411368281714388,0.4414370909096053,0.44181219220576873,0.44231236810946106,0.4429299744889158,0.443737612958655,0.44479215046032433,0.44611582118421145,0.44778317052783995,0.4500434317234935,0.4528841685187463,0.4566343434276563,0.4612166315353985,0.4674186451849895,0.4751755482198037,0.4847264654782354,0.4984568236405976,0.5128217622246879,0.5339032164179185,0.5555317832203692,0.5939592658209968,0.2093660756960668,0.24027040045588655,0.26472402799560263,0.28422711522494587,0.299679754170389,0.31198204383131745,0.3217345640575263,0.329387364336212,0.33569052964528706,0.34049455948024987,0.34439899758466896,0.3474943735960918,0.34994517592270846,0.3519019582951218,0.35345473061077115,0.3546924307966059,0.3556756014361639,0.35644762702617094,0.35708349082197494,0.35756868967047073,0.3579631801849149,0.3582769603479873,0.35852543501121037,0.35872457782457506,0.35888385078551616,0.35901270339520924,0.3591174348698072,0.35920290674180055,0.3592776668139477,0.3593403635225066,0.3593987165954794,0.35945547016260365,0.35951137602857586,0.35956745814661734,0.35963757887776004,0.35971550535364066,0.3598013377898812,0.35991932639605,0.36006386170145444,0.36024924873327385,0.36048280845950215,0.3607778363078095,0.36116739264764797,0.36165186388176285,0.3622866609429469,0.3631047691924045,0.3641607927062257,0.3654844634301128,0.3672565105709242,0.3695167717665777,0.372397361201398,0.3760826909526926,0.38076967685761764,0.3870763883043915,0.39470360102397484,0.4055632407471922,0.41665116146193526,0.4325490782266964,0.4557244883635839,0.4808925154771946,0.5132880554273307,0.1085270614543583,0.13943190895338836,0.16388501295163427,0.18338809923376104,0.19884073742942865,0.21114354808009117,0.22089606705667417,0.22854834259674806,0.23485150415694542,0.2396555289934046,0.2435599608496942,0.24665479962624623,0.24910558945660383,0.2510623593327581,0.25261510665588943,0.25385279434546515,0.25483539151100115,0.25560737961223107,0.25624372940824397,0.2567288657754446,0.2571238048013206,0.2574369740015939,0.2576858471912126,0.25788537603471395,0.2580449975370146,0.2581741362067722,0.2582801882231474,0.2583664571479321,0.2584417643476901,0.25850645368822733,0.2585669243557688,0.2586248971407051,0.25868334276626653,0.25874313658445924,0.2588219776190569,0.2589084994358022,0.2589969425475069,0.25912813657144834,0.25928462766872296,0.25949244027213086,0.2597459263181429,0.26007658515581145,0.26048880345348796,0.2610405514023684,0.2617204359929791,0.2626008224535926,0.26374529862786555,0.26525337242807046,0.26714497748758415,0.26957714550053147,0.2727343395498284,0.27678847545375845,0.28154503424129007,0.2889284439029314,0.29763235483738226,0.30979531235384783,0.32286472268103217,0.3401331662591525,0.36410562918738915,0.39176613864033133,0.4205208943140231,-0.6981845202429429,-0.6672801962328987,-0.6428265694554544,-0.623323483713166,-0.6078708467671243,-0.5955685596054476,-0.5858160418784906,-0.5781632465983085,-0.571860087537363,-0.5670565899387674,-0.5631521655802332,-0.560057329302933,-0.5576065519688345,-0.5556497945889391,-0.5540970722583258,-0.5528594095612682,-0.5518763014030053,-0.5511043382942934,-0.5504675024980716,-0.5499824036196481,-0.5495870035860814,-0.5492733608818583,-0.5490245501735347,-0.5488251213001055,-0.5486645777824233,-0.548535053082529,-0.5484287275023484,-0.5483416615247723,-0.5482654323096326,-0.5481990239009226,-0.5481374826167843,-0.5480779157262653,-0.5480174774687255,-0.5479470416309743,-0.5478743102243675,-0.5477836781810752,-0.5476807800256955,-0.5475468503636998,-0.5473706693328909,-0.5471561358274719,-0.5468802242098714,-0.5465323746904734,-0.5460740556237175,-0.5454971464651941,-0.544756706061829,-0.5437973234808292,-0.5425581465165926,-0.5410102200768203,-0.5389740645805563,-0.5363574934912912,-0.5329760437261091,-0.5286976521062938,-0.5232855501551217,-0.5161091722253505,-0.5066825091071481,-0.4952102196688994,-0.48015931972927384,-0.4609218827977362,-0.43590244189767113,-0.40953883559703685,-0.3634853047632196,-1.7065741266747834,-1.675669802414814,-1.6512161752999706,-1.6317130903949317,-1.6162604531989648,-1.603958167286914,-1.5942056520592087,-1.5865533802680125,-1.5802502262055707,-1.5754467348551047,-1.5715428414833117,-1.5684480202015223,-1.5659977788526687,-1.5640410589615505,-1.5624883616234553,-1.5612502129261887,-1.560266618767717,-1.5594931351770835,-1.558855813380653,-1.5583686580350629,-1.5579727595050281,-1.5576586682893732,-1.557408873084373,-1.557208484706785,-1.5570469941812033,-1.5569171584287265,-1.5568093873441784,-1.556721524313811,-1.5566435760304984,-1.5565763705689968,-1.5565121882013042,-1.5564494567382448,-1.5563850568553732,-1.5563101359033042,-1.5562228244904321,-1.5561329422226813,-1.5560273084292473,-1.5558841586134355,-1.5556947721648542,-1.5554630479777056,-1.5551634611626142,-1.5547787310279528,-1.5542887662357925,-1.553676226087908,-1.5528712446078317,-1.5518236457526298,-1.5504872687466247,-1.548807288129126,-1.5466789310947031,-1.5438256080305288,-1.540259755189029,-1.5357969604928958,-1.529871501952338,-1.5219997282193587,-1.5126081900157327,-1.5008467997039834,-1.4838144101519166,-1.4640534842344648,-1.438635516938725,-1.406364930577839,-1.3795318910076535,-0.6981834720153451,-0.6672791476304132,-0.6428255205830496,-0.6233224353606057,-0.6078697985395266,-0.5955675126274759,-0.5858149961501447,-0.5781627256085744,-0.5718600950351184,-0.5670566049342782,-0.5631527140617372,-0.560057890280696,-0.5576076614281014,-0.5556514650259691,-0.5540987801841328,-0.5528606564793844,-0.5518776108024166,-0.5511041522043011,-0.5504663444076617,-0.5499797500398346,-0.5495833780058501,-0.5492688132862454,-0.5490185570735543,-0.5488172091918079,-0.5486557936437801,-0.5485245123869359,-0.548416866264978,-0.5483275577302431,-0.5482482889051532,-0.5481809348424365,-0.5481138614660088,-0.5480490124083808,-0.5479818464793643,-0.5479024404129778,-0.5478263485553654,-0.5477111665764505,-0.5475963126292006,-0.5474387077697139,-0.5472361159033597,-0.5469847017826772,-0.546666674659954,-0.5462530344379425,-0.5457301742944752,-0.5450493441921723,-0.5441957626912117,-0.5431045623187353,-0.5416759837745713,-0.5398913053598898,-0.5376183978887166,-0.5346205243877921,-0.530805423312359,-0.5259488299455425,-0.5198139758106188,-0.5118351404179612,-0.5012395775467324,-0.4879702015723603,-0.47253327149608415,-0.4502798632393008,-0.42354135416629785,-0.3895753382574293,-0.3465377787488578],\"z\":[4.408508991898446,3.3870565263426298,2.578821158786853,1.934217732867006,1.423495166593815,1.0169041863136319,0.6946088698853506,0.44173559801306056,0.23349148199838624,0.07483724307710021,-0.05406328733342762,-0.15618513955660293,-0.2369805927950114,-0.30140844165686953,-0.3524458402463588,-0.39307117925894897,-0.4252631375167172,-0.450513925721329,-0.47130232507308184,-0.4871267545446102,-0.4999705392096485,-0.5101283288528502,-0.5181435922403577,-0.52450448644595,-0.5295065528274351,-0.5334443469765241,-0.5364998295680072,-0.5388259104154948,-0.5406512725700955,-0.541918350228426,-0.542804363620677,-0.5433224002051447,-0.5434979019934691,-0.5433539329756456,-0.5428911424224805,-0.5420479886673296,-0.5408898264900163,-0.5392064700082376,-0.5370137962312803,-0.5341777550889715,-0.530593798899077,-0.5259738826085596,-0.5202553989230471,-0.5129410692439974,-0.5039540654831449,-0.4925533937455838,-0.4780533886043207,-0.46042973235858525,-0.43834244372786546,-0.41035947418318364,-0.37598992409540277,-0.3324413043561413,-0.2789161282340415,-0.21043961658788174,-0.1267069178072995,-0.023634627563853525,0.11055784857307034,0.26477083800709117,0.4694182926034355,0.6975362434937762,1.0289146703208034,4.408307239204673,3.3868548180083295,2.5786194908689626,1.9340160935363322,1.4232936110532595,1.0167007534338253,0.6944055848704583,0.4415324608630828,0.23328854200162788,0.074634549521866,-0.05426563587052792,-0.15638511787140327,-0.23717993036184887,-0.30160728634065864,-0.35264231470784785,-0.39326291327583834,-0.4254511168551035,-0.45069815038121225,-0.4714823021714137,-0.48730485430369047,-0.5001472545125256,-0.5103012894772244,-0.518314182642432,-0.5246750768480244,-0.5296771432295094,-0.5336130600393469,-0.5366704199700815,-0.5389896946478335,-0.5408150568024342,-0.5420802571215133,-0.5429613416832801,-0.5434706947587609,-0.5436499512255883,-0.5435073885823057,-0.5430208958061414,-0.5421866577825377,-0.5410047933822252,-0.5393026635079314,-0.5370794748186488,-0.5342246602838248,-0.5305726423965748,-0.5259714994985725,-0.5201474073306742,-0.51288939782917,-0.5036794355837357,-0.4922412170611444,-0.4775745736128449,-0.45995091736710947,-0.4374881608860868,-0.409505191341405,-0.37445502428006894,-0.3306012554175551,-0.2767006114451524,-0.2078486319486897,-0.12350563492160282,-0.015739996549370576,0.11005154942678816,0.271375205760564,0.4835320173629663,0.7297201734979467,1.0287128683387239,4.408055036015377,3.3866045217312695,2.57836731932276,1.9337639593506646,1.4230415064405746,1.0164506247370013,0.6941555054619395,0.4412805534036174,0.2330367824070769,0.07438298708053442,-0.0545169518703353,-0.15663776903910895,-0.23743208864650614,-0.3018589517422675,-0.35289299434335997,-0.39351310002830187,-0.4257012094146251,-0.4509467642915886,-0.4717275600933933,-0.48754764781042803,-0.5003852133817213,-0.5105376755043327,-0.5185437624998047,-0.5248973576526131,-0.529890646332169,-0.5338153210248353,-0.5368571912768473,-0.5391628536151282,-0.5409647457692898,-0.542195915239691,-0.5430478977832642,-0.5435152396883506,-0.543636995306061,-0.5434381059656426,-0.5428450627776714,-0.5418993455117769,-0.5405952022787843,-0.5387381756172643,-0.5363108018359153,-0.5332142554239944,-0.5292219290499668,-0.5242241574876415,-0.5179424068307696,-0.5099592016979748,-0.5000498490864702,-0.48768928171322684,-0.47200642245169955,-0.4526460644085507,-0.4281414570068624,-0.3979289026163635,-0.3602736828589073,-0.3129465104015668,-0.2550324833148833,-0.17909305917466598,-0.08766261750382451,0.03176705040189755,0.16950390081974837,0.34434570368252815,0.5701148547560352,0.8306185376326258,1.1380625189004667,4.406038942822139,3.384586551198779,2.5763512541252784,1.931747915445731,1.4210255118239459,1.0144327527811212,0.692137682794364,0.4392647559402079,0.2310210835202772,0.07236555871939769,-0.05653408450164301,-0.15865480309380695,-0.23944862981815573,-0.30387500003086876,-0.3549080568658644,-0.3955271767847095,-0.42771291594873273,-0.45295748505959943,-0.4737349248730074,-0.48955353394089696,-0.5023867577576967,-0.512535371008863,-0.5205389935890931,-0.5268886456775141,-0.531873250848083,-0.5357906264879654,-0.5388207617397577,-0.5411128117385675,-0.542906020383742,-0.5441148940056851,-0.5449415292095676,-0.5453816464357117,-0.5454693712047445,-0.5451946785874044,-0.5445859069785601,-0.543577056845794,-0.5421673051304158,-0.5401929284667,-0.5376411728104499,-0.5343592146989775,-0.5301251564478531,-0.524904426400946,-0.5181885002947209,-0.5098462132826332,-0.49939707673938954,-0.4863230552546657,-0.4698704217041125,-0.44982944668740843,-0.42426875446186196,-0.39231949827394963,-0.35224695974552495,-0.3025024685172158,-0.24116213430675584,-0.1638143797483778,-0.06710351395824564,0.05253776208767782,0.2022199169472208,0.3894999073000964,0.6190237368766324,0.8856304022182695,1.2766192399737557,4.403518295385397,3.3820658939043766,2.5738305835230335,1.92922727786665,1.4185048643872038,1.0119121546326841,0.6896171832225366,0.43674237902912894,0.22849890376241752,0.06984362540306224,-0.0590575994274009,-0.16117772655990678,-0.24197293774045867,-0.3063978293040264,-0.35742990037292527,-0.39804566430337374,-0.4302280474790002,-0.45546501303991876,-0.47623909686493,-0.49204871792666827,-0.5048790786381196,-0.515022857251744,-0.5230202607382289,-0.5293627079668083,-0.5343396153944868,-0.5382467346832948,-0.5412663090868486,-0.5435447467461872,-0.5453156595429036,-0.5465109208253757,-0.5473065766718129,-0.5477138372012602,-0.5477550929341252,-0.5474320539413657,-0.5467226026806197,-0.5456841795649493,-0.5441570778473751,-0.5420958660937886,-0.5393892136503123,-0.5358842970542583,-0.5314577952308773,-0.5258897248244877,-0.5188452317512949,-0.5101063160748843,-0.49904933390254597,-0.48517502321647094,-0.4680511919865726,-0.44646124909760665,-0.42003220597335345,-0.3861585140628763,-0.3443492737370383,-0.29286808071131576,-0.226998258082171,-0.1455435794264612,-0.04519479837235121,0.07655864732128848,0.23818610662252354,0.4273434362269136,0.663673435539002,0.9675946633509269,1.3057857795040027,4.4060426482123365,3.384590241802486,2.5763549340827114,1.9317516159070989,1.421029217214144,1.0144365074596242,0.6921414867611719,0.43926673185606907,0.2310213792501062,0.07236615017905577,-0.05653497607479771,-0.15865520178391326,-0.23944992008141674,-0.30387668898423603,-0.3549082671700865,-0.3955230453344381,-0.4277063200832193,-0.4529422998780411,-0.47371302771465557,-0.48952304746650016,-0.5023495593065065,-0.5124894890486856,-0.5204825507806771,-0.5268177931494146,-0.5317917432788027,-0.535688301719372,-0.5387029472924418,-0.5409708241035419,-0.5427262472215356,-0.543904844673304,-0.5446793788232641,-0.5450575373345178,-0.5450727425404215,-0.5447013571722427,-0.5439998797136227,-0.5428330878219884,-0.5412191510145435,-0.5390523307785712,-0.5361907815478687,-0.5325614830769138,-0.5279613110737914,-0.5221820237026301,-0.5148582519673103,-0.5056593555763261,-0.49426677456431506,-0.47985971181920595,-0.46186752969060085,-0.439902118951332,-0.41241699100322077,-0.3774872142688855,-0.3342464212688864,-0.28027759074514474,-0.21365683241539407,-0.12966741979061489,-0.0250007584580214,0.1048491202321808,0.2618303278756797,0.4653031842216803,0.7171228622563877,1.0217472773388183,1.3965432491011796],\"type\":\"scatter3d\"},{\"hovertemplate\":\"Sensor=SF_NS5A_5bic<br>PC1=%{x}<br>PC2=%{y}<br>PC3=%{z}<extra></extra>\",\"legendgroup\":\"SF_NS5A_5bic\",\"marker\":{\"color\":\"#EF553B\",\"symbol\":\"circle\"},\"mode\":\"markers\",\"name\":\"SF_NS5A_5bic\",\"scene\":\"scene\",\"showlegend\":true,\"x\":[-1.7875492269244864,-1.5221536763851637,-1.312150471830409,-1.1446557999210922,-1.0119390104249435,-0.9062690840736038,-0.8224912850766493,-0.7567400044414017,-0.7025715782966876,-0.6612762178575321,-0.6276936914672411,-0.6010654811162928,-0.579973528012488,-0.5631130693547239,-0.5497386398158688,-0.5390527108989844,-0.5305497514908107,-0.5238393149221598,-0.5182595666386773,-0.5139313820702137,-0.5103335032678609,-0.5073689345901752,-0.5048820593266174,-0.5027272476847344,-0.5007867240004275,-0.4989663881251421,-0.4971771247096178,-0.4953329354898434,-0.49329605364605217,-0.49100453122678384,-0.48835335552298625,-0.48517974212790954,-0.48137555612607746,-0.4766904221523072,-0.4710805563543891,-0.46414420577382315,-0.4559250440748485,-0.44556983916968274,-0.43300345152446923,-0.4172875267462659,-0.39814211855720644,-0.3745581130502235,-0.3455870725383612,-0.30974585750723854,-0.2647887841391446,-0.2100576081565668,-0.14112331285762086,-0.05728147607188216,0.04667486330183127,0.17560561666845986,0.3337069789036812,0.5290014870749759,0.7711808287376314,1.060710776368171,1.4236229921642263,1.8604569769497694,2.384952447928265,3.0207849592906686,3.775732731200914,4.626120235232866,5.74636261038908,-1.7835079403289924,-1.5181116034478872,-1.3081082399195347,-1.1406133692932208,-1.0078956940967907,-0.9022246833281727,-0.8184466856142206,-0.7526934348614136,-0.6985238334671294,-0.6572258159271307,-0.6236430908198423,-0.597013886883907,-0.5759150639472652,-0.5590614751223382,-0.5456781885806721,-0.5349991294966248,-0.526496170088451,-0.5197768765169892,-0.5141951410635327,-0.5098649693250951,-0.5062631161827943,-0.5033014429979975,-0.5008174632273288,-0.49864584590273886,-0.49671310037418387,-0.4948927644988984,-0.49309049921647125,-0.4912134364300541,-0.4891628149205891,-0.48683841893467805,-0.48414062999856394,-0.48089979387266,-0.4770566022701192,-0.47222328316902074,-0.46646523224377423,-0.45943122840594963,-0.45067723605544074,-0.4400472378367985,-0.4269386415523415,-0.4106118098065255,-0.39071809799311513,-0.3663170905334123,-0.33626163274306275,-0.29871033749042186,-0.2528675638412388,-0.196563704293881,-0.12674370871384597,-0.042322773350317436,0.06499470256475855,0.19399923580847964,0.3547747513013726,0.5494560560660687,0.7895006680005585,1.082465532049553,1.4385079150086986,1.8753418997942417,2.403811710720698,3.0425397149720514,3.7945919939933472,4.676774217608989,5.810756258439023,-1.7784561567976096,-1.5130597404297057,-1.3030564166447525,-1.1355615460184385,-1.0028443590882947,-0.8971735470366742,-0.8133951518887274,-0.7476419011359202,-0.6934723905739277,-0.6521736860506451,-0.6185903647923645,-0.5919609621394318,-0.5708601520328161,-0.5539996933750521,-0.54061839400336,-0.5299324650864757,-0.521427518508328,-0.5147102121068403,-0.5091284766533838,-0.5047983049149461,-0.5011915691097825,-0.4982298959249857,-0.4957390463214799,-0.4935851430025119,-0.4916346834683351,-0.4898212174258866,-0.4880120823106225,-0.48616176105678205,-0.48408439801474024,-0.48179361339424287,-0.47906147529394427,-0.4758343788337141,-0.47188813973861965,-0.4671235189658902,-0.4613166414120145,-0.4542428941747102,-0.4456189204932303,-0.43479020527719003,-0.4215442123359948,-0.4052787009308387,-0.385178894132321,-0.3606331120281707,-0.33043287959337375,-0.29239331805443985,-0.24694797840005295,-0.18966758628010916,-0.1197567584085773,-0.03445012276395971,0.07156716646082677,0.20057169970454786,0.3573728752494797,0.5541151298652489,0.7888114352843956,1.0804761126431006,1.4305569856803044,1.8585339676549568,2.3701980958746,3.015795932962863,3.7647821949511666,4.629079888800984,5.68136173435902,-1.7380486363299004,-1.4726522199619965,-1.262648030348462,-1.095153159722148,-0.9624354845257179,-0.8567651607403837,-0.7729862773261506,-0.7072339122736244,-0.6530639134453455,-0.6117665828886305,-0.5781836590643447,-0.5515534615434224,-0.5304546386067808,-0.5136010497818536,-0.5002197504101615,-0.4895318343233033,-0.4810288749151296,-0.4743164511765047,-0.4687327285530742,-0.46440255681463666,-0.4608007036723359,-0.4578350561475911,-0.4553490892069484,-0.45318235454522143,-0.45124166033677054,-0.44942819429432196,-0.4476259290118948,-0.4457557360583145,-0.44367224098220676,-0.4413409751634589,-0.43860957486193114,-0.4353564746678952,-0.431390363873061,-0.42651730137248284,-0.4207195070477568,-0.4133692612555357,-0.4046078909173176,-0.3936417790445391,-0.37992227579246945,-0.363450669402206,-0.3427399556360756,-0.31744586990757445,-0.286085143878212,-0.2480455823392781,-0.20053929283381816,-0.14257191743018338,-0.0719741062749605,0.014201177236341848,0.12159243302851036,0.2526579161233045,0.4115200415193094,0.6062751261610981,0.8416584148639358,1.1375187718018793,1.4895868148130638,1.9184721197026848,2.432123417896309,3.054045739440849,3.8079146642920816,4.629006191146456,5.729376866562864,-1.6875343551626896,-1.4221377996928874,-1.2121341182173389,-1.0446381631737465,-0.9119200905433217,-0.8062491706069953,-0.7224688053414889,-0.6567145610036949,-0.6025428816071453,-0.5612425873478835,-0.5276576763536237,-0.5010204102828671,-0.4799176130062775,-0.4630551671785394,-0.44966302363406246,-0.4389731203772302,-0.43046419945913456,-0.4237409315477248,-0.4181443775815354,-0.4138062571632019,-0.4101944681710313,-0.40721689762644264,-0.4047061763231972,-0.40251956996173044,-0.40055122589778774,-0.39866440509044593,-0.3968155265757023,-0.394858239191555,-0.39270065155178313,-0.3902555497698914,-0.3873835719726432,-0.383894454421941,-0.37978237189609115,-0.37454424081248733,-0.36832176280551604,-0.36050708993157016,-0.3511421906134487,-0.3394351531040286,-0.32497472421531726,-0.30721998354916863,-0.28522613550715314,-0.25824410352026145,-0.22471454293392473,-0.18410871284322045,-0.13383743778859208,-0.07153239327100876,0.0032952022922614235,0.09716929145887483,0.21066961692717,0.35059210283285486,0.522359350864804,0.7294063547359385,0.9818166657768667,1.2885211954996818,1.663185906995577,2.1186422203178696,2.6460331841853146,3.2945265141625266,4.046408269039779,4.9933144810765615,6.046334125405524,-1.7380402497088463,-1.4726435531499757,-1.2626397524442288,-1.0951442856669227,-0.9624256168855058,-0.8567542995151844,-0.7729738263649721,-0.7072194741424721,-0.6530470907102246,-0.611745405431981,-0.5781581098337524,-0.5515178630080348,-0.5304062087286343,-0.5135397885609483,-0.5001436706765234,-0.48944093607693234,-0.4809211709860518,-0.4741830845619092,-0.46857858191582397,-0.4642265513076726,-0.4605939822928472,-0.4575847875528189,-0.4550541945498336,-0.4528359639929272,-0.4508061881839352,-0.44887275414427685,-0.44694291323303215,-0.4448916615854809,-0.4426141059484992,-0.44002155683805017,-0.43690669185129877,-0.43325712510513614,-0.4288081911263792,-0.42319420298915944,-0.41643859957209434,-0.40806014111772465,-0.3978856178345925,-0.38523155970342343,-0.3697554118645941,-0.35051881992516215,-0.326768327296387,-0.2976248387402303,-0.2617964249278904,-0.21773862600432675,-0.16312968183574983,-0.09717395148790904,-0.015442418258919965,0.08454074058382009,0.20819825555329552,0.35491679441879803,0.5368412319519276,0.7587805284329869,1.0220350122587862,1.3553105504142735,1.7379239418060908,2.213081430724146,2.791627241482954,3.479522922651691,4.281651201505338,5.241388756300973,6.381502831196991],\"y\":[0.28986417448851365,0.3207678568262417,0.34522098714410837,0.3647237782496805,0.3801763782172222,0.39247898946929766,0.40223178018738076,0.40988485095794075,0.41618843880708223,0.4209924262901537,0.4248974003798177,0.4279922716466432,0.43044205198780605,0.43239778738224754,0.4339473937714634,0.4351824265273325,0.4361618202776579,0.4369305549786411,0.4375646608636021,0.43804908629793143,0.43844380039114494,0.4387588136221814,0.43901054033175807,0.43921444317713904,0.43938096865243564,0.4395195787550827,0.43963717116777296,0.43974021537873187,0.4398368843029471,0.43992974072475843,0.44002558235678646,0.44013056782648974,0.44024858987248017,0.4403926890560301,0.4405550384031935,0.44075672779683994,0.44099299745050297,0.44129295757583936,0.4416625931451869,0.4421241797136385,0.44269925690661344,0.44341557519545693,0.4443126794653827,0.4454380701278682,0.44691372567172316,0.4487242678235171,0.4511252529532935,0.4540556297860929,0.45787941636849816,0.462622704453501,0.46876919039404646,0.4764384411098266,0.48653290063773413,0.4985963040136153,0.5144483754301358,0.5338023868772803,0.557705322327537,0.5871416829581095,0.623195943018723,0.664883604332504,0.7207415941489591,0.2091929607208577,0.24009669478267137,0.2645498241008373,0.2840526139567835,0.2995052650235979,0.31180792612532016,0.32156071559377736,0.32921388731325685,0.33551758110982144,0.3403217218907109,0.344226694730749,0.347321559749445,0.3497718635795938,0.3517270754850494,0.3532771928669921,0.3545117021338753,0.35549109588420064,0.35626034157791076,0.35689443496661266,0.35737884790468305,0.35777353700537856,0.358088001754911,0.35833917998298376,0.35854354383605547,0.3587089848446032,0.3588475949472502,0.35896453890836433,0.35906680970515686,0.3591645256073439,0.35925660861498887,0.35935272381082234,0.3594595533112888,0.3595756300025507,0.35972446422559884,0.3598915486122604,0.36010395771080567,0.36034819789238215,0.36066909757715515,0.36106365796989603,0.3615554042516,0.3621711109375457,0.3629332936092191,0.3638802475259315,0.3651195561394157,0.36664631095595973,0.3685603012790341,0.3710123856814995,0.3740524588150913,0.37796844693565557,0.3828812779754566,0.3890676165555695,0.39685406132755646,0.4066219312048915,0.4189470790737298,0.43427566150433605,0.4536296729514805,0.47750761588368934,0.5074924580182241,0.5429982365748754,0.5844859577442728,0.6413909255325564,0.10835399907797287,0.13925773263993624,0.16371086220802739,0.18321365206397355,0.19866624953226347,0.2109689118836116,0.22072169885281703,0.2283748705722965,0.23467850827108477,0.23948270140087285,0.24338767049203328,0.24648253426110336,0.2489328255949931,0.25088856098943463,0.2524386908676363,0.25367372362350543,0.2546531048775718,0.2554223630675409,0.25605645645624286,0.2565408693943132,0.2569360944802536,0.25725055922978607,0.25750226094684475,0.2577056028144627,0.25787206580846417,0.2580101524221253,0.2581276198722254,0.2582294921426222,0.25832760657120496,0.25841876756346827,0.25851750020423137,0.25862328272672597,0.2587472117527766,0.25889081108596557,0.2590632553250765,0.25927541449844127,0.2595261391957793,0.25984578925464996,0.2602508194271091,0.26075428511443377,0.2613856964699569,0.2621753032168284,0.2631496812087389,0.26444258834671697,0.2659718424150657,0.2679930297871278,0.27050121196589183,0.27359238437217265,0.27757321765035226,0.2824860486901533,0.2886973797883141,0.29664087125607536,0.30632903585427546,0.31871902888072917,0.33408510008840736,0.35292811880866154,0.37634505405007596,0.40685338517052494,0.44294513400821034,0.4845453215088235,0.5368638510141185,-0.6983581049836509,-0.6674543714216875,-0.6430011906293611,-0.6234984007734149,-0.6080457497066005,-0.5957431409537769,-0.5859903003860469,-0.5783371797658402,-0.5720334884685274,-0.5672294000365365,-0.5633244284461243,-0.5602295696755578,-0.557779265845409,-0.5558240539399535,-0.5542739240617517,-0.5530389038021416,-0.5520595100518163,-0.5512907878470921,-0.5506567069546492,-0.5501722940165789,-0.5497776049158833,-0.5494631651588688,-0.5492119994270552,-0.5490081715592284,-0.5488427805357168,-0.5487046939220557,-0.5485877499609415,-0.5484860026531349,-0.5483890601651142,-0.5482964536684835,-0.5481994164572683,-0.548094930837926,-0.5479711267744656,-0.547822542476598,-0.5476557080151169,-0.5474339538001656,-0.5471727593231092,-0.5468426394845203,-0.546417919378527,-0.5458987490216248,-0.5452371779528493,-0.544406941713007,-0.5433605248889709,-0.5420676177509929,-0.5403813169868699,-0.5383077807162163,-0.5357472496388609,-0.5324915327813914,-0.528406001706029,-0.5233361239704536,-0.5169677461765185,-0.5090117584497333,-0.49927124495294184,-0.48639761558014133,-0.47104404063148714,-0.45164004414824677,-0.4282356051658563,-0.398711770722116,-0.36208403663949235,-0.3236122867953407,-0.26762933438864595,-1.706747982407216,-1.6758442497199908,-1.6513911224012263,-1.6318882826956331,-1.6164356341280706,-1.6041330291241247,-1.5943801412059997,-1.5867269757346498,-1.580423238336568,-1.5756190552037872,-1.5717140961096339,-1.5686187150997075,-1.5661684362620767,-1.5642127133638943,-1.5626620849892245,-1.5614270772258736,-1.5604477209643253,-1.5596785002631333,-1.5590439333704815,-1.5585595704174473,-1.558164943798047,-1.5578505790185866,-1.5575990022641182,-1.5573952993588815,-1.5572289488312114,-1.557090190127349,-1.5569729726024295,-1.55686950622645,-1.5567701962186802,-1.5566754721274807,-1.5565759187953014,-1.55646328363874,-1.5563398308244254,-1.5561765415577022,-1.5559953770151362,-1.5557595426442807,-1.5554851427494516,-1.555131347713372,-1.5546829524098877,-1.5541151820321013,-1.5534050109424415,-1.55251171963804,-1.5513656035204306,-1.549975496340684,-1.548193245160695,-1.545920310302895,-1.543103033236192,-1.539555716253417,-1.5351685880455301,-1.5295877175830646,-1.5225637966254888,-1.5138350716788562,-1.5031249216268756,-1.489752795786209,-1.472841250138836,-1.4519042754749247,-1.4274528585207058,-1.3963960458962945,-1.359755815554647,-1.3130082120080593,-1.2589942529547817,-0.6983576477019148,-0.667453915901924,-0.643000789332935,-0.6234980032258666,-0.6080453584071817,-0.5957427559024875,-0.5859899253317647,-0.578336817207817,-0.5720331409060151,-0.5672289665206156,-0.5633240224219732,-0.5602286601564352,-0.5577778703260776,-0.5558221724204132,-0.5542715690382617,-0.5530360752747018,-0.5520562205166856,-0.5512865263115437,-0.550652009403928,-0.550167733924707,-0.5497726712901339,-0.549457371999033,-0.5492059202071548,-0.5490012827902776,-0.548834185194852,-0.5486951529271844,-0.5485750443935299,-0.5484693354603914,-0.5483690797986152,-0.5482713160974655,-0.5481630897390811,-0.5480480634241456,-0.5479136950264671,-0.5477414355311087,-0.5475409559427793,-0.5472916662289704,-0.5469883562467914,-0.5465951813436433,-0.5461021712832316,-0.5454870505104634,-0.5447085894663851,-0.5437325531638901,-0.5424932222684691,-0.5409548157742651,-0.5389731660071295,-0.5365531814607744,-0.5334393057651564,-0.529590391649857,-0.524757115872695,-0.5188222993791134,-0.5113522308522629,-0.5019804590010137,-0.49077181248116675,-0.47586670845982915,-0.45900514784855206,-0.43705868398988434,-0.40952881441529976,-0.3764530234013755,-0.3372953182023484,-0.2900617144469184,-0.234328687220703],\"z\":[4.407896970310342,3.386440605279676,2.57820236476089,1.9335971322588852,1.4228739346570254,1.016281907711313,0.693987332799438,0.4411148024435545,0.23287223758858613,0.0742176630684604,-0.054681137867730406,-0.15680323653242992,-0.23760278946747534,-0.3020339001247881,-0.3530792067613897,-0.393707220493444,-0.4259041295000342,-0.45115651246507116,-0.4719389030273011,-0.4877534748378613,-0.5005821685142833,-0.5107172636189206,-0.5187007502687703,-0.5250241415260081,-0.529974389432397,-0.5338446651234452,-0.5368236412507362,-0.539047636071781,-0.5407460358249587,-0.5418493074841066,-0.542542180636421,-0.5428140405171993,-0.5426952579685655,-0.5421725243474654,-0.5412692492182839,-0.5399105173170562,-0.5381300073984799,-0.5357215204813157,-0.5326910759138819,-0.5287919832709148,-0.5239689831750207,-0.5179645454854876,-0.5105353608554968,-0.5013015006887023,-0.4896675137791192,-0.4754767688213165,-0.45754613808460165,-0.4357198249246935,-0.4085875945299345,-0.37492616271870843,-0.33354079063232284,-0.2823899248630019,-0.21877551717187319,-0.1427212856697536,-0.04716395744082831,0.06794326647306274,0.20635486623302193,0.37428978682765246,0.5740238096873634,0.7993378906525888,1.0964402070608588,4.4076953014066875,3.3862391487540973,2.5780009476659553,1.9333957644522555,1.4226728038726253,1.0160810632374475,0.6937865376138775,0.44091453059075875,0.23267229191533592,0.07401842846190021,-0.05488032318598577,-0.1570021754091611,-0.23779985100495496,-0.30223283900151926,-0.3532757754158209,-0.3939056664871267,-0.42610257549371694,-0.451352588236454,-0.4721344859156355,-0.4879485648431473,-0.5007762727534726,-0.5109122594312645,-0.518896637654269,-0.5252156871570133,-0.53016821109276,-0.5340384867838082,-0.5370144114198667,-0.5392304259191949,-0.5409250709938696,-0.5420203623313009,-0.5427015004833957,-0.5429559933461999,-0.5428280563238685,-0.5422668339883172,-0.5413250701446843,-0.5399386491193944,-0.5380220158061071,-0.5355384353188823,-0.5323648354840324,-0.528303814181134,-0.5232813386402784,-0.5170586521132686,-0.5093431569484456,-0.4996469938414774,-0.48777598470190253,-0.4731604835889565,-0.4549928306222499,-0.4329882028314003,-0.40498762153793455,-0.37125587099965796,-0.32918988193971715,-0.27815643136849705,-0.2151755441798733,-0.13818264305199643,-0.044502654074585694,0.0706045698393053,0.21000193569607206,0.3788284294454097,0.5776708791504136,0.8108710888900994,1.1117280838013983,4.407443276093657,3.385987143156389,2.5777489322105853,1.9331437489968857,1.4224206499716356,1.015828860048153,0.6935344330011928,0.4406624259780739,0.2324201474336405,0.07376647171412988,-0.05513213206884156,-0.15725393500371204,-0.2380511177164575,-0.3024822283737703,-0.3535256576711203,-0.3941536714031747,-0.42635008752671644,-0.45160059315250195,-0.4723824908316835,-0.48819656975919523,-0.5010228932133173,-0.5111588798911093,-0.5191413807748622,-0.5254651707222063,-0.5304129542133532,-0.534285107243653,-0.5372591545404599,-0.5394819752095237,-0.5411698141144629,-0.5422737889608812,-0.5429455404167185,-0.5432037879580257,-0.5430476908469215,-0.5425052419038854,-0.5415496334982215,-0.5401533548119634,-0.5382672364110014,-0.5357343676189362,-0.5325232209990559,-0.5284739412159677,-0.5233951454975666,-0.5171278803128215,-0.5093678064902631,-0.4995331977629839,-0.48776076523308975,-0.47286837287952166,-0.45466085090218467,-0.4324192008813433,-0.40472376871112986,-0.3709920181728532,-0.3299117952097199,-0.2783151428630455,-0.21669548962153226,-0.14000773761690766,-0.04780639778470826,0.06493060382926445,0.19998621519249785,0.37069004819334994,0.5689454219078496,0.7977096842119015,1.0767417953755316,4.405425261201692,3.3839691282644244,2.5757311494120207,1.931125966198321,1.4204030056186912,1.0138110772495885,0.6915167886482482,0.43864454460289937,0.2304024045040863,0.07174835331672541,-0.05715034904285574,-0.15927195482450685,-0.24006963042030074,-0.3045026184168651,-0.3555460477142151,-0.39617356856322106,-0.42837047756981117,-0.45362236765179986,-0.4744037724479329,-0.4902178513754447,-0.5030455592857699,-0.513180560197465,-0.521164445537421,-0.5274848794963685,-0.5324354318999217,-0.5363075849302213,-0.5392835095662799,-0.5415014014048596,-0.5431880661578177,-0.5442814801559974,-0.5449539347991053,-0.5452060793579474,-0.5450450534163592,-0.5444739734198399,-0.5435223519152389,-0.5420540246305623,-0.54013035944457,-0.5375599438674745,-0.5342244153726934,-0.5301188154120596,-0.5248780910337274,-0.5184113504040208,-0.5103391607814098,-0.5005045520541307,-0.4881689177487822,-0.4730887914700626,-0.4546935355675742,-0.4321844136003207,-0.40411351357980435,-0.3698185612660733,-0.3281751365274857,-0.27707136722921505,-0.2152639800625503,-0.13737950577996638,-0.044685282899363195,0.06845040882091277,0.20399890323254993,0.3684836424883539,0.5681234724059644,0.7851308161525251,1.0773043020767572,4.40290403982878,3.381447941393326,2.573209819166472,1.9286049222633064,1.4178820602602862,1.0112902797560979,0.6889963760419023,0.43612461546030784,0.22788290953694404,0.06922962812387215,-0.05966858135266057,-0.1617882605067553,-0.24258495033645242,-0.30701556811071684,-0.35805613430271854,-0.39868316226867606,-0.430878592626121,-0.4561276196027613,-0.47690566841049764,-0.4927177758058158,-0.505543019300899,-0.5156750629143037,-0.5236526349675725,-0.529968140096036,-0.5349114876397473,-0.5387650995000918,-0.5417292891359308,-0.5439248851260522,-0.5455923055217848,-0.5466566175017709,-0.5472931639569493,-0.5474838207656115,-0.5472864156713836,-0.5466195848534464,-0.5455574260359757,-0.5439687037774611,-0.5418901418042427,-0.5391272826548906,-0.535599310587853,-0.5311581117875467,-0.5255817885695419,-0.5186738406177768,-0.5100290299255016,-0.49952322351887724,-0.4864671032293432,-0.4702417348112947,-0.4507106560636875,-0.4261879410583986,-0.3964977544385697,-0.3598325798249204,-0.3147628479625563,-0.2603501867386101,-0.19399008889726008,-0.11324250926635414,-0.014423385582803604,0.1058229730372273,0.24512614595189358,0.4167215521074525,0.6158684989766593,0.866856335134683,1.146591633568819,4.405427497414319,3.3839714339735614,2.57573334131969,1.9311283059709046,1.4204055918327987,1.0138139099052204,0.6915200156103188,0.43864826444801847,0.23040671580886343,0.07175377941392543,-0.057143838602949235,-0.15926277843247136,-0.24005709803986855,-0.30448673004803617,-0.3555263104739411,-0.3961499824515019,-0.42834254970359853,-0.45358772780879364,-0.4743638050843364,-0.49017246229831574,-0.5029923782728086,-0.5131162312602747,-0.5210888744830595,-0.5273961889855842,-0.5323239526576308,-0.5361658295177558,-0.5391088974571175,-0.5412803202595293,-0.5429174644850872,-0.5439439909378924,-0.5445171723036394,-0.5446669920938882,-0.5443820487225192,-0.5436185251537433,-0.5424171979699195,-0.5406834365851467,-0.5383936576471567,-0.5353820347480028,-0.531586525538648,-0.5267604395938288,-0.5207241356612503,-0.513250598512526,-0.5040026518382611,-0.4925886255222997,-0.4783872630934368,-0.46120438646121104,-0.4398568678949298,-0.41371486629032833,-0.3813493082473289,-0.3428771131092156,-0.29513200982368093,-0.2368001584275544,-0.16757695523788238,-0.07971870870722148,0.021071947169944146,0.14655163343821553,0.2995832571039878,0.4816453185560276,0.6941220260700373,0.9484658506247866,1.250496997517094],\"type\":\"scatter3d\"},{\"hovertemplate\":\"Sensor=SF_NS5A_5bicp24<br>PC1=%{x}<br>PC2=%{y}<br>PC3=%{z}<extra></extra>\",\"legendgroup\":\"SF_NS5A_5bicp24\",\"marker\":{\"color\":\"#00cc96\",\"symbol\":\"circle\"},\"mode\":\"markers\",\"name\":\"SF_NS5A_5bicp24\",\"scene\":\"scene\",\"showlegend\":true,\"x\":[-1.8674699093875677,-1.6020668871574941,-1.3920537525281427,-1.2245467716471823,-1.091814925246255,-0.9861261096397236,-0.9023277578717208,-0.8365547492158554,-0.7823625511530866,-0.7410443044961574,-0.707447243572203,-0.6807972314207595,-0.659689551481307,-0.6428251184835949,-0.6294309877691441,-0.6187371101723639,-0.6102153579115093,-0.6034772714873667,-0.5978639118384705,-0.5935050113974824,-0.58986557254982,-0.5868426381441179,-0.5842845658097849,-0.582033802734524,-0.580003289126761,-0.5780485077898211,-0.576064446014652,-0.573984977236982,-0.5716715968382741,-0.5690500927989355,-0.5659062728832945,-0.5620834847186674,-0.5574750689871196,-0.5517742160632315,-0.5447347361035403,-0.536272823345383,-0.5256100337759577,-0.5124603313707865,-0.4960076509593714,-0.4757110721435659,-0.45088583666299875,-0.4199732439836497,-0.3825596870700971,-0.33667376012166705,-0.2812302729152142,-0.21357135166281258,-0.13152764651104915,-0.03392352141761064,0.08475458642198418,0.22649371815760608,0.3934291188138597,0.5896089855102644,0.8211425296294677,1.0900908298466518,1.4004283034042446,1.7619203533225707,2.159919042542485,2.6258780810068223,3.1372008646429266,3.755886400244622,4.394443558291656],\"y\":[2.9464272809820016,2.9773313130170327,3.001784947579646,3.0212883979772593,3.036741866632437,3.049045605817389,3.058799684014297,3.0664541482111045,3.0727593999783673,3.077565000280288,3.0814710163494206,3.0845674505854483,3.087018265408324,3.0889739758102475,3.090524591688658,3.0917595744594912,3.092739416721248,3.09350911092639,3.094144138826733,3.0946289377949396,3.095024523918499,3.0953408701875715,3.0955944159353934,3.095800548841674,3.095969341866647,3.096111640030821,3.0962342410468144,3.096343739365445,3.0964500033312468,3.096553251847436,3.0966669630208603,3.0967984674195392,3.0969482669229897,3.0971369808634672,3.097364009788863,3.0976524429834904,3.0980093514901634,3.0984730792132855,3.099073286322685,3.099834747625259,3.100793457790103,3.1020190464074355,3.1035430878345562,3.105466681007436,3.1078397655827597,3.110815729388491,3.1144943317248024,3.1189815650197277,3.1245828502917457,3.131285676280184,3.1394166926422122,3.1491204588155712,3.1606985884345997,3.174308143196722,3.1899241395848796,3.208618557089939,3.2287834459777445,3.252487774174401,3.2781735784820136,3.3094178064886504,3.3405370629040574],\"z\":[4.503877544020416,3.482423153590511,2.6741875494508704,2.029585595391075,1.5188664271671248,1.1122794668455578,0.789990423182994,0.5371237502559668,0.32888763648134695,0.1702392760193396,0.04134442691487119,-0.06077174400224471,-0.14156704937573872,-0.2059971742669547,-0.257037247575908,-0.2976632897757687,-0.329855364144817,-0.3551005422500121,-0.3758742493032549,-0.39168102917798275,-0.4044990678132241,-0.41461916612218713,-0.4225842999879659,-0.42888302517444565,-0.43381008565922174,-0.43764562731432166,-0.44057437972694174,-0.44273758998507706,-0.44436394113983624,-0.44538155186109446,-0.4459458174952944,-0.4460472974297144,-0.44571776888101944,-0.4449274981176023,-0.4436470904626549,-0.44188049193995693,-0.4394522673816558,-0.4362951669894858,-0.43222276653950886,-0.42708695221614223,-0.42072685615960626,-0.41273476108906776,-0.4030034810524191,-0.3910146418330032,-0.37648490802488765,-0.35870618806699717,-0.33710784430893387,-0.3113651847696852,-0.2800092670385433,-0.24254671221228757,-0.19834598320767982,-0.14635129271375177,-0.08494389957148953,-0.013561097860255293,0.06878258100386868,0.16485575191421367,0.2705048479195208,0.3942248433662109,0.5298905895239279,0.694093692077582,0.8632259226281638],\"type\":\"scatter3d\"}],                        {\"template\":{\"data\":{\"histogram2dcontour\":[{\"type\":\"histogram2dcontour\",\"colorbar\":{\"outlinewidth\":0,\"ticks\":\"\"},\"colorscale\":[[0.0,\"#0d0887\"],[0.1111111111111111,\"#46039f\"],[0.2222222222222222,\"#7201a8\"],[0.3333333333333333,\"#9c179e\"],[0.4444444444444444,\"#bd3786\"],[0.5555555555555556,\"#d8576b\"],[0.6666666666666666,\"#ed7953\"],[0.7777777777777778,\"#fb9f3a\"],[0.8888888888888888,\"#fdca26\"],[1.0,\"#f0f921\"]]}],\"choropleth\":[{\"type\":\"choropleth\",\"colorbar\":{\"outlinewidth\":0,\"ticks\":\"\"}}],\"histogram2d\":[{\"type\":\"histogram2d\",\"colorbar\":{\"outlinewidth\":0,\"ticks\":\"\"},\"colorscale\":[[0.0,\"#0d0887\"],[0.1111111111111111,\"#46039f\"],[0.2222222222222222,\"#7201a8\"],[0.3333333333333333,\"#9c179e\"],[0.4444444444444444,\"#bd3786\"],[0.5555555555555556,\"#d8576b\"],[0.6666666666666666,\"#ed7953\"],[0.7777777777777778,\"#fb9f3a\"],[0.8888888888888888,\"#fdca26\"],[1.0,\"#f0f921\"]]}],\"heatmap\":[{\"type\":\"heatmap\",\"colorbar\":{\"outlinewidth\":0,\"ticks\":\"\"},\"colorscale\":[[0.0,\"#0d0887\"],[0.1111111111111111,\"#46039f\"],[0.2222222222222222,\"#7201a8\"],[0.3333333333333333,\"#9c179e\"],[0.4444444444444444,\"#bd3786\"],[0.5555555555555556,\"#d8576b\"],[0.6666666666666666,\"#ed7953\"],[0.7777777777777778,\"#fb9f3a\"],[0.8888888888888888,\"#fdca26\"],[1.0,\"#f0f921\"]]}],\"heatmapgl\":[{\"type\":\"heatmapgl\",\"colorbar\":{\"outlinewidth\":0,\"ticks\":\"\"},\"colorscale\":[[0.0,\"#0d0887\"],[0.1111111111111111,\"#46039f\"],[0.2222222222222222,\"#7201a8\"],[0.3333333333333333,\"#9c179e\"],[0.4444444444444444,\"#bd3786\"],[0.5555555555555556,\"#d8576b\"],[0.6666666666666666,\"#ed7953\"],[0.7777777777777778,\"#fb9f3a\"],[0.8888888888888888,\"#fdca26\"],[1.0,\"#f0f921\"]]}],\"contourcarpet\":[{\"type\":\"contourcarpet\",\"colorbar\":{\"outlinewidth\":0,\"ticks\":\"\"}}],\"contour\":[{\"type\":\"contour\",\"colorbar\":{\"outlinewidth\":0,\"ticks\":\"\"},\"colorscale\":[[0.0,\"#0d0887\"],[0.1111111111111111,\"#46039f\"],[0.2222222222222222,\"#7201a8\"],[0.3333333333333333,\"#9c179e\"],[0.4444444444444444,\"#bd3786\"],[0.5555555555555556,\"#d8576b\"],[0.6666666666666666,\"#ed7953\"],[0.7777777777777778,\"#fb9f3a\"],[0.8888888888888888,\"#fdca26\"],[1.0,\"#f0f921\"]]}],\"surface\":[{\"type\":\"surface\",\"colorbar\":{\"outlinewidth\":0,\"ticks\":\"\"},\"colorscale\":[[0.0,\"#0d0887\"],[0.1111111111111111,\"#46039f\"],[0.2222222222222222,\"#7201a8\"],[0.3333333333333333,\"#9c179e\"],[0.4444444444444444,\"#bd3786\"],[0.5555555555555556,\"#d8576b\"],[0.6666666666666666,\"#ed7953\"],[0.7777777777777778,\"#fb9f3a\"],[0.8888888888888888,\"#fdca26\"],[1.0,\"#f0f921\"]]}],\"mesh3d\":[{\"type\":\"mesh3d\",\"colorbar\":{\"outlinewidth\":0,\"ticks\":\"\"}}],\"scatter\":[{\"fillpattern\":{\"fillmode\":\"overlay\",\"size\":10,\"solidity\":0.2},\"type\":\"scatter\"}],\"parcoords\":[{\"type\":\"parcoords\",\"line\":{\"colorbar\":{\"outlinewidth\":0,\"ticks\":\"\"}}}],\"scatterpolargl\":[{\"type\":\"scatterpolargl\",\"marker\":{\"colorbar\":{\"outlinewidth\":0,\"ticks\":\"\"}}}],\"bar\":[{\"error_x\":{\"color\":\"#2a3f5f\"},\"error_y\":{\"color\":\"#2a3f5f\"},\"marker\":{\"line\":{\"color\":\"#E5ECF6\",\"width\":0.5},\"pattern\":{\"fillmode\":\"overlay\",\"size\":10,\"solidity\":0.2}},\"type\":\"bar\"}],\"scattergeo\":[{\"type\":\"scattergeo\",\"marker\":{\"colorbar\":{\"outlinewidth\":0,\"ticks\":\"\"}}}],\"scatterpolar\":[{\"type\":\"scatterpolar\",\"marker\":{\"colorbar\":{\"outlinewidth\":0,\"ticks\":\"\"}}}],\"histogram\":[{\"marker\":{\"pattern\":{\"fillmode\":\"overlay\",\"size\":10,\"solidity\":0.2}},\"type\":\"histogram\"}],\"scattergl\":[{\"type\":\"scattergl\",\"marker\":{\"colorbar\":{\"outlinewidth\":0,\"ticks\":\"\"}}}],\"scatter3d\":[{\"type\":\"scatter3d\",\"line\":{\"colorbar\":{\"outlinewidth\":0,\"ticks\":\"\"}},\"marker\":{\"colorbar\":{\"outlinewidth\":0,\"ticks\":\"\"}}}],\"scattermapbox\":[{\"type\":\"scattermapbox\",\"marker\":{\"colorbar\":{\"outlinewidth\":0,\"ticks\":\"\"}}}],\"scatterternary\":[{\"type\":\"scatterternary\",\"marker\":{\"colorbar\":{\"outlinewidth\":0,\"ticks\":\"\"}}}],\"scattercarpet\":[{\"type\":\"scattercarpet\",\"marker\":{\"colorbar\":{\"outlinewidth\":0,\"ticks\":\"\"}}}],\"carpet\":[{\"aaxis\":{\"endlinecolor\":\"#2a3f5f\",\"gridcolor\":\"white\",\"linecolor\":\"white\",\"minorgridcolor\":\"white\",\"startlinecolor\":\"#2a3f5f\"},\"baxis\":{\"endlinecolor\":\"#2a3f5f\",\"gridcolor\":\"white\",\"linecolor\":\"white\",\"minorgridcolor\":\"white\",\"startlinecolor\":\"#2a3f5f\"},\"type\":\"carpet\"}],\"table\":[{\"cells\":{\"fill\":{\"color\":\"#EBF0F8\"},\"line\":{\"color\":\"white\"}},\"header\":{\"fill\":{\"color\":\"#C8D4E3\"},\"line\":{\"color\":\"white\"}},\"type\":\"table\"}],\"barpolar\":[{\"marker\":{\"line\":{\"color\":\"#E5ECF6\",\"width\":0.5},\"pattern\":{\"fillmode\":\"overlay\",\"size\":10,\"solidity\":0.2}},\"type\":\"barpolar\"}],\"pie\":[{\"automargin\":true,\"type\":\"pie\"}]},\"layout\":{\"autotypenumbers\":\"strict\",\"colorway\":[\"#636efa\",\"#EF553B\",\"#00cc96\",\"#ab63fa\",\"#FFA15A\",\"#19d3f3\",\"#FF6692\",\"#B6E880\",\"#FF97FF\",\"#FECB52\"],\"font\":{\"color\":\"#2a3f5f\"},\"hovermode\":\"closest\",\"hoverlabel\":{\"align\":\"left\"},\"paper_bgcolor\":\"white\",\"plot_bgcolor\":\"#E5ECF6\",\"polar\":{\"bgcolor\":\"#E5ECF6\",\"angularaxis\":{\"gridcolor\":\"white\",\"linecolor\":\"white\",\"ticks\":\"\"},\"radialaxis\":{\"gridcolor\":\"white\",\"linecolor\":\"white\",\"ticks\":\"\"}},\"ternary\":{\"bgcolor\":\"#E5ECF6\",\"aaxis\":{\"gridcolor\":\"white\",\"linecolor\":\"white\",\"ticks\":\"\"},\"baxis\":{\"gridcolor\":\"white\",\"linecolor\":\"white\",\"ticks\":\"\"},\"caxis\":{\"gridcolor\":\"white\",\"linecolor\":\"white\",\"ticks\":\"\"}},\"coloraxis\":{\"colorbar\":{\"outlinewidth\":0,\"ticks\":\"\"}},\"colorscale\":{\"sequential\":[[0.0,\"#0d0887\"],[0.1111111111111111,\"#46039f\"],[0.2222222222222222,\"#7201a8\"],[0.3333333333333333,\"#9c179e\"],[0.4444444444444444,\"#bd3786\"],[0.5555555555555556,\"#d8576b\"],[0.6666666666666666,\"#ed7953\"],[0.7777777777777778,\"#fb9f3a\"],[0.8888888888888888,\"#fdca26\"],[1.0,\"#f0f921\"]],\"sequentialminus\":[[0.0,\"#0d0887\"],[0.1111111111111111,\"#46039f\"],[0.2222222222222222,\"#7201a8\"],[0.3333333333333333,\"#9c179e\"],[0.4444444444444444,\"#bd3786\"],[0.5555555555555556,\"#d8576b\"],[0.6666666666666666,\"#ed7953\"],[0.7777777777777778,\"#fb9f3a\"],[0.8888888888888888,\"#fdca26\"],[1.0,\"#f0f921\"]],\"diverging\":[[0,\"#8e0152\"],[0.1,\"#c51b7d\"],[0.2,\"#de77ae\"],[0.3,\"#f1b6da\"],[0.4,\"#fde0ef\"],[0.5,\"#f7f7f7\"],[0.6,\"#e6f5d0\"],[0.7,\"#b8e186\"],[0.8,\"#7fbc41\"],[0.9,\"#4d9221\"],[1,\"#276419\"]]},\"xaxis\":{\"gridcolor\":\"white\",\"linecolor\":\"white\",\"ticks\":\"\",\"title\":{\"standoff\":15},\"zerolinecolor\":\"white\",\"automargin\":true,\"zerolinewidth\":2},\"yaxis\":{\"gridcolor\":\"white\",\"linecolor\":\"white\",\"ticks\":\"\",\"title\":{\"standoff\":15},\"zerolinecolor\":\"white\",\"automargin\":true,\"zerolinewidth\":2},\"scene\":{\"xaxis\":{\"backgroundcolor\":\"#E5ECF6\",\"gridcolor\":\"white\",\"linecolor\":\"white\",\"showbackground\":true,\"ticks\":\"\",\"zerolinecolor\":\"white\",\"gridwidth\":2},\"yaxis\":{\"backgroundcolor\":\"#E5ECF6\",\"gridcolor\":\"white\",\"linecolor\":\"white\",\"showbackground\":true,\"ticks\":\"\",\"zerolinecolor\":\"white\",\"gridwidth\":2},\"zaxis\":{\"backgroundcolor\":\"#E5ECF6\",\"gridcolor\":\"white\",\"linecolor\":\"white\",\"showbackground\":true,\"ticks\":\"\",\"zerolinecolor\":\"white\",\"gridwidth\":2}},\"shapedefaults\":{\"line\":{\"color\":\"#2a3f5f\"}},\"annotationdefaults\":{\"arrowcolor\":\"#2a3f5f\",\"arrowhead\":0,\"arrowwidth\":1},\"geo\":{\"bgcolor\":\"white\",\"landcolor\":\"#E5ECF6\",\"subunitcolor\":\"white\",\"showland\":true,\"showlakes\":true,\"lakecolor\":\"white\"},\"title\":{\"x\":0.05},\"mapbox\":{\"style\":\"light\"}}},\"scene\":{\"domain\":{\"x\":[0.0,1.0],\"y\":[0.0,1.0]},\"xaxis\":{\"title\":{\"text\":\"PC1\"}},\"yaxis\":{\"title\":{\"text\":\"PC2\"}},\"zaxis\":{\"title\":{\"text\":\"PC3\"}}},\"legend\":{\"title\":{\"text\":\"Sensor\"},\"tracegroupgap\":0},\"margin\":{\"t\":60}},                        {\"responsive\": true}                    ).then(function(){\n",
       "                            \n",
       "var gd = document.getElementById('6e47da7b-1375-4422-9582-f29cdf3010c5');\n",
       "var x = new MutationObserver(function (mutations, observer) {{\n",
       "        var display = window.getComputedStyle(gd).display;\n",
       "        if (!display || display === 'none') {{\n",
       "            console.log([gd, 'removed!']);\n",
       "            Plotly.purge(gd);\n",
       "            observer.disconnect();\n",
       "        }}\n",
       "}});\n",
       "\n",
       "// Listen for the removal of the full notebook cells\n",
       "var notebookContainer = gd.closest('#notebook-container');\n",
       "if (notebookContainer) {{\n",
       "    x.observe(notebookContainer, {childList: true});\n",
       "}}\n",
       "\n",
       "// Listen for the clearing of the current output cell\n",
       "var outputEl = gd.closest('.output');\n",
       "if (outputEl) {{\n",
       "    x.observe(outputEl, {childList: true});\n",
       "}}\n",
       "\n",
       "                        })                };                });            </script>        </div>"
      ]
     },
     "metadata": {},
     "output_type": "display_data"
    }
   ],
   "source": [
    "# 4. Scores plot\n",
    "# check API documentation for plotly.express https://plotly.com/python/3d-scatter-plots\n",
    "\n",
    "import plotly.express as px\n",
    "\n",
    "fig = px.scatter_3d(df_scores, x='PC1', y='PC2', z='PC3', color='Sensor')\n",
    "fig.show()"
   ]
  },
  {
   "cell_type": "code",
   "execution_count": 59,
   "id": "f4272d1d",
   "metadata": {},
   "outputs": [
    {
     "data": {
      "application/vnd.plotly.v1+json": {
       "config": {
        "plotlyServerURL": "https://plot.ly"
       },
       "data": [
        {
         "hovertemplate": "Sensor=SF_NS5A_1bic<br>PC1=%{x}<br>PC2=%{y}<br>PC3=%{z}<extra></extra>",
         "legendgroup": "SF_NS5A_1bic",
         "marker": {
          "color": "#636efa",
          "opacity": 0.4,
          "symbol": "circle"
         },
         "mode": "markers",
         "name": "SF_NS5A_1bic",
         "scene": "scene",
         "showlegend": true,
         "type": "scatter3d",
         "x": [
          -1.7853126312392291,
          -1.5199022678940954,
          -1.3098881794231565,
          -1.1423866433195737,
          -1.0096673783871646,
          -0.9039935118007059,
          -0.82021835285218,
          -0.7544697122653614,
          -0.7003069807039142,
          -0.6590103371304827,
          -0.6254340844220365,
          -0.598804880486101,
          -0.5776977966976408,
          -0.5608255855441768,
          -0.5474227683510591,
          -0.5367281529555079,
          -0.5282087289129155,
          -0.5214946590526047,
          -0.515939835655869,
          -0.511651394486885,
          -0.5081129602596076,
          -0.5052363943354038,
          -0.5028720415136568,
          -0.5008614406591541,
          -0.499119348626152,
          -0.4975565479289584,
          -0.4960582605327958,
          -0.4946004871933287,
          -0.4930447232920198,
          -0.4913709776732011,
          -0.4894467582964727,
          -0.4871978507831937,
          -0.4844962485181482,
          -0.48122284075882543,
          -0.4772560620954969,
          -0.47223759196299697,
          -0.46631784051197306,
          -0.458634492425493,
          -0.4491521515691798,
          -0.4373446535203061,
          -0.4227333350036073,
          -0.4041790634429874,
          -0.3814130064474719,
          -0.3524858921795149,
          -0.31706821202803104,
          -0.27227156681787357,
          -0.21541391000722274,
          -0.14641877880767096,
          -0.06000592091169551,
          0.04924662124902957,
          0.1833265329449238,
          0.3530042843782317,
          0.5615673739197443,
          0.8279563428285496,
          1.153471455089403,
          1.5541577075427997,
          2.074226385895745,
          2.6736111587101146,
          3.466544804024575,
          4.352704785147967,
          5.6314126033502845,
          -1.7812716824626307,
          -1.5158611402721993,
          -1.3058468888533228,
          -1.1383452374938814,
          -1.0056256347425765,
          -0.8999586379889548,
          -0.8161828828894369,
          -0.7504336461516259,
          -0.6962701197221892,
          -0.6549724825637708,
          -0.6213948388363426,
          -0.5947567778975964,
          -0.57364711078817,
          -0.556772912464732,
          -0.5433612382688033,
          -0.5326489088676305,
          -0.5241157451593642,
          -0.5173879356333797,
          -0.5118173854009961,
          -0.5075220743991752,
          -0.5039787575090348,
          -0.5010884519191573,
          -0.4987152420945993,
          -0.4967046412400966,
          -0.4949625492070944,
          -0.49339287867706405,
          -0.49190146111373834,
          -0.4904169462416945,
          -0.4888611823403856,
          -0.4871805668887299,
          -0.48523647581226176,
          -0.4829539569335692,
          -0.4802660943341974,
          -0.4769941621724165,
          -0.47293881348097916,
          -0.46794929827736864,
          -0.46194097679823587,
          -0.4541889303833867,
          -0.4445765708580446,
          -0.4327003744808017,
          -0.4178216406383358,
          -0.3993360674060849,
          -0.3761651984280641,
          -0.3474441791452144,
          -0.31115555468806,
          -0.26622151282116435,
          -0.20869900668995026,
          -0.13970387549039848,
          -0.05191705102704098,
          0.0573354911336841,
          0.19408955608724987,
          0.3650674942108474,
          0.575004550319742,
          0.8427674857959293,
          1.1708829714373619,
          1.5887438059830337,
          2.078437660099389,
          2.7043934413464314,
          3.524806418008532,
          4.478926928730101,
          5.635453353409885,
          -1.7762205461711325,
          -1.5108030149176657,
          -1.300795624985512,
          -1.1332938229985865,
          -1.0005741010170832,
          -0.8948998369966298,
          -0.8111238831801144,
          -0.7453813175581431,
          -0.6912171949777142,
          -0.649918762951306,
          -0.616340125638891,
          -0.5897067486460104,
          -0.5685950943666098,
          -0.551718908873198,
          -0.5383032603373213,
          -0.5275889437661744,
          -0.5190547012108492,
          -0.5123209301749426,
          -0.5067375485998002,
          -0.5024323017481094,
          -0.4988701920052882,
          -0.49597284605842973,
          -0.49357289470129506,
          -0.4915335651442416,
          -0.4897567828987669,
          -0.4881424863063939,
          -0.4865907158450778,
          -0.4850527179078806,
          -0.48340372754193867,
          -0.4815894044273995,
          -0.47953147738778756,
          -0.4770823772795686,
          -0.47416758055268027,
          -0.4706748462974487,
          -0.4662038971529158,
          -0.46077890979646996,
          -0.4542845842944322,
          -0.4459290088996797,
          -0.43551440339703607,
          -0.4226985643857535,
          -0.4064827539144518,
          -0.3864540090682579,
          -0.36147993113823607,
          -0.3299399839532674,
          -0.2909085079100723,
          -0.24236067015146537,
          -0.1808808764866945,
          -0.10516347220441759,
          -0.009354187968045408,
          0.10860779724938541,
          0.25544527182703897,
          0.43986775611608675,
          0.6657759518939181,
          0.9605755394551913,
          1.3157276771817095,
          1.778657253332477,
          2.313714968562298,
          2.992074967903759,
          3.8659710097192916,
          4.874312384365218,
          6.069106610982762,
          -1.7358059770252885,
          -1.4703953156046587,
          -1.2603809429684136,
          -1.0928790551357452,
          -0.9601591344372447,
          -0.8544917402496283,
          -0.7707155877161154,
          -0.704965556110315,
          -0.6508010360958911,
          -0.6095088777513279,
          -0.5759290481369284,
          -0.5492952737100529,
          -0.5281816322606785,
          -0.5113034595972926,
          -0.49788383672146813,
          -0.48716554581037325,
          -0.478622446252237,
          -0.4718847008763826,
          -0.4662884879584813,
          -0.4619772795968686,
          -0.45839836417134056,
          -0.45548619971174925,
          -0.4530763125047447,
          -0.4510210855878994,
          -0.44921069197701097,
          -0.44756766668208736,
          -0.4459692829884548,
          -0.4443778019861041,
          -0.44269520025474857,
          -0.44079378270964226,
          -0.4386357593725604,
          -0.43607969313403466,
          -0.43303118874426266,
          -0.4292482162684405,
          -0.4247068635540981,
          -0.41903433257162487,
          -0.4121351950870818,
          -0.40331348736916395,
          -0.3924253715556459,
          -0.378875984895431,
          -0.3617205317900896,
          -0.3408208426382251,
          -0.31416619643752197,
          -0.28122047429534847,
          -0.24010361799896668,
          -0.18879817267890056,
          -0.12435467646756326,
          -0.04596311892761479,
          0.05389428513381102,
          0.17857854343396695,
          0.33481244435201724,
          0.5286313549814617,
          0.7674446733952377,
          1.0681319910013598,
          1.4435247278531458,
          1.9081463544695243,
          2.488567930812811,
          3.214278961241718,
          4.10191466873107,
          5.136259777182787,
          6.6441151192145,
          -1.6852897314474398,
          -1.4198791097702097,
          -1.2098647907875537,
          -1.0423627698144973,
          -0.9096428888593963,
          -0.8039752959547822,
          -0.7201987459872746,
          -0.6544555842143112,
          -0.6002902693318978,
          -0.5589971174023475,
          -0.5254229653188006,
          -0.4987868062879563,
          -0.47767804750144466,
          -0.46079391332813696,
          -0.4473703161123644,
          -0.43663919385851074,
          -0.4280832629576156,
          -0.4213169594033545,
          -0.4157079151426944,
          -0.41136326593981204,
          -0.40777350634149917,
          -0.4048425490292271,
          -0.4024089863066788,
          -0.40032610953434183,
          -0.39848607889798776,
          -0.39680240188066956,
          -0.3951635369887864,
          -0.39351857292128234,
          -0.3917488767593597,
          -0.3897939761491,
          -0.3875152470160375,
          -0.38483160514869413,
          -0.38160204206495113,
          -0.37763114106232104,
          -0.37270484806521303,
          -0.366913086884301,
          -0.35954781707659267,
          -0.3503899957045386,
          -0.3388983509111172,
          -0.3244780199452317,
          -0.3065816412032487,
          -0.2843374974348391,
          -0.2564070949459601,
          -0.22191820118984346,
          -0.17844854931450782,
          -0.12404938277884638,
          -0.05703961801573869,
          0.027387229323243976,
          0.13060576992603234,
          0.26269928459260444,
          0.4256554585933799,
          0.6261966423055495,
          0.8825026267098292,
          1.1987692202095674,
          1.5887591301629085,
          2.0614769964293935,
          2.6872624338861457,
          3.4198432971519632,
          4.334220537218031,
          5.510618738932087,
          6.830775198054449,
          -1.7357924360766122,
          -1.4703818342710815,
          -1.2603675045577076,
          -1.0928655340587687,
          -0.9601455934885683,
          -0.8544780005839544,
          -0.7707016493334442,
          -0.7049582888434833,
          -0.6507998437939069,
          -0.609506493147359,
          -0.5759319436298174,
          -0.5492961820329679,
          -0.5281854360764824,
          -0.5113081717360115,
          -0.4978825873502651,
          -0.4871474907564633,
          -0.47859445534845724,
          -0.4718241774542482,
          -0.4662023018508292,
          -0.4618585609708618,
          -0.45825398285981617,
          -0.45530820703481123,
          -0.45285783862955614,
          -0.45074731200172746,
          -0.44889535834552946,
          -0.4471712001299608,
          -0.4455124635383378,
          -0.4438270182725832,
          -0.44199696921267023,
          -0.43997558367035416,
          -0.43761589214079055,
          -0.4348184143103035,
          -0.43148801713031953,
          -0.4273291876008815,
          -0.42242106106207294,
          -0.41614670634113676,
          -0.40844532287929214,
          -0.39888268952473277,
          -0.3867875157514079,
          -0.37189367447464794,
          -0.35332506842439243,
          -0.33027130069097216,
          -0.30126385891131524,
          -0.26501832056843894,
          -0.22026553441721816,
          -0.16378836561607926,
          -0.09341746431160902,
          -0.007616650405244352,
          0.09965001002259766,
          0.23579164451422335,
          0.40416990490743443,
          0.6141812948370934,
          0.8732352123761372,
          1.1995114356228704,
          1.605301961101105,
          2.1085651757482236,
          2.717715454642206,
          3.5045171818323806,
          4.47924731988879,
          5.65638332037377,
          7.103147965644216
         ],
         "y": [
          0.2900372873393588,
          0.3209416132238418,
          0.34539524178825115,
          0.36489832974237735,
          0.38035097081218455,
          0.3926537839620989,
          0.4024063079371855,
          0.4100591119647489,
          0.4163622822723276,
          0.4211663183554199,
          0.4250707652072203,
          0.4281656302259163,
          0.43061644879766964,
          0.432573243666342,
          0.4341255049892645,
          0.4353621831896455,
          0.4363443068512316,
          0.4371152854632668,
          0.43775011477735803,
          0.4382347901368679,
          0.43862874466606716,
          0.43894147785116766,
          0.43918944152166384,
          0.43938858433502853,
          0.4395478572959696,
          0.43967618641667683,
          0.4397814413802607,
          0.43986651472585836,
          0.43994127479800554,
          0.44000344801757846,
          0.44006192605314154,
          0.44011775760488425,
          0.4401747104488283,
          0.4402341834259657,
          0.44029919422983943,
          0.44038260552075975,
          0.44046332802973137,
          0.44057608174604107,
          0.440727101567207,
          0.4409072537091673,
          0.4411368281714388,
          0.4414370909096053,
          0.44181219220576873,
          0.44231236810946106,
          0.4429299744889158,
          0.443737612958655,
          0.44479215046032433,
          0.44611582118421145,
          0.44778317052783995,
          0.4500434317234935,
          0.4528841685187463,
          0.4566343434276563,
          0.4612166315353985,
          0.4674186451849895,
          0.4751755482198037,
          0.4847264654782354,
          0.4984568236405976,
          0.5128217622246879,
          0.5339032164179185,
          0.5555317832203692,
          0.5939592658209968,
          0.2093660756960668,
          0.24027040045588655,
          0.26472402799560263,
          0.28422711522494587,
          0.299679754170389,
          0.31198204383131745,
          0.3217345640575263,
          0.329387364336212,
          0.33569052964528706,
          0.34049455948024987,
          0.34439899758466896,
          0.3474943735960918,
          0.34994517592270846,
          0.3519019582951218,
          0.35345473061077115,
          0.3546924307966059,
          0.3556756014361639,
          0.35644762702617094,
          0.35708349082197494,
          0.35756868967047073,
          0.3579631801849149,
          0.3582769603479873,
          0.35852543501121037,
          0.35872457782457506,
          0.35888385078551616,
          0.35901270339520924,
          0.3591174348698072,
          0.35920290674180055,
          0.3592776668139477,
          0.3593403635225066,
          0.3593987165954794,
          0.35945547016260365,
          0.35951137602857586,
          0.35956745814661734,
          0.35963757887776004,
          0.35971550535364066,
          0.3598013377898812,
          0.35991932639605,
          0.36006386170145444,
          0.36024924873327385,
          0.36048280845950215,
          0.3607778363078095,
          0.36116739264764797,
          0.36165186388176285,
          0.3622866609429469,
          0.3631047691924045,
          0.3641607927062257,
          0.3654844634301128,
          0.3672565105709242,
          0.3695167717665777,
          0.372397361201398,
          0.3760826909526926,
          0.38076967685761764,
          0.3870763883043915,
          0.39470360102397484,
          0.4055632407471922,
          0.41665116146193526,
          0.4325490782266964,
          0.4557244883635839,
          0.4808925154771946,
          0.5132880554273307,
          0.1085270614543583,
          0.13943190895338836,
          0.16388501295163427,
          0.18338809923376104,
          0.19884073742942865,
          0.21114354808009117,
          0.22089606705667417,
          0.22854834259674806,
          0.23485150415694542,
          0.2396555289934046,
          0.2435599608496942,
          0.24665479962624623,
          0.24910558945660383,
          0.2510623593327581,
          0.25261510665588943,
          0.25385279434546515,
          0.25483539151100115,
          0.25560737961223107,
          0.25624372940824397,
          0.2567288657754446,
          0.2571238048013206,
          0.2574369740015939,
          0.2576858471912126,
          0.25788537603471395,
          0.2580449975370146,
          0.2581741362067722,
          0.2582801882231474,
          0.2583664571479321,
          0.2584417643476901,
          0.25850645368822733,
          0.2585669243557688,
          0.2586248971407051,
          0.25868334276626653,
          0.25874313658445924,
          0.2588219776190569,
          0.2589084994358022,
          0.2589969425475069,
          0.25912813657144834,
          0.25928462766872296,
          0.25949244027213086,
          0.2597459263181429,
          0.26007658515581145,
          0.26048880345348796,
          0.2610405514023684,
          0.2617204359929791,
          0.2626008224535926,
          0.26374529862786555,
          0.26525337242807046,
          0.26714497748758415,
          0.26957714550053147,
          0.2727343395498284,
          0.27678847545375845,
          0.28154503424129007,
          0.2889284439029314,
          0.29763235483738226,
          0.30979531235384783,
          0.32286472268103217,
          0.3401331662591525,
          0.36410562918738915,
          0.39176613864033133,
          0.4205208943140231,
          -0.6981845202429429,
          -0.6672801962328987,
          -0.6428265694554544,
          -0.623323483713166,
          -0.6078708467671243,
          -0.5955685596054476,
          -0.5858160418784906,
          -0.5781632465983085,
          -0.571860087537363,
          -0.5670565899387674,
          -0.5631521655802332,
          -0.560057329302933,
          -0.5576065519688345,
          -0.5556497945889391,
          -0.5540970722583258,
          -0.5528594095612682,
          -0.5518763014030053,
          -0.5511043382942934,
          -0.5504675024980716,
          -0.5499824036196481,
          -0.5495870035860814,
          -0.5492733608818583,
          -0.5490245501735347,
          -0.5488251213001055,
          -0.5486645777824233,
          -0.548535053082529,
          -0.5484287275023484,
          -0.5483416615247723,
          -0.5482654323096326,
          -0.5481990239009226,
          -0.5481374826167843,
          -0.5480779157262653,
          -0.5480174774687255,
          -0.5479470416309743,
          -0.5478743102243675,
          -0.5477836781810752,
          -0.5476807800256955,
          -0.5475468503636998,
          -0.5473706693328909,
          -0.5471561358274719,
          -0.5468802242098714,
          -0.5465323746904734,
          -0.5460740556237175,
          -0.5454971464651941,
          -0.544756706061829,
          -0.5437973234808292,
          -0.5425581465165926,
          -0.5410102200768203,
          -0.5389740645805563,
          -0.5363574934912912,
          -0.5329760437261091,
          -0.5286976521062938,
          -0.5232855501551217,
          -0.5161091722253505,
          -0.5066825091071481,
          -0.4952102196688994,
          -0.48015931972927384,
          -0.4609218827977362,
          -0.43590244189767113,
          -0.40953883559703685,
          -0.3634853047632196,
          -1.7065741266747834,
          -1.675669802414814,
          -1.6512161752999706,
          -1.6317130903949317,
          -1.6162604531989648,
          -1.603958167286914,
          -1.5942056520592087,
          -1.5865533802680125,
          -1.5802502262055707,
          -1.5754467348551047,
          -1.5715428414833117,
          -1.5684480202015223,
          -1.5659977788526687,
          -1.5640410589615505,
          -1.5624883616234553,
          -1.5612502129261887,
          -1.560266618767717,
          -1.5594931351770835,
          -1.558855813380653,
          -1.5583686580350629,
          -1.5579727595050281,
          -1.5576586682893732,
          -1.557408873084373,
          -1.557208484706785,
          -1.5570469941812033,
          -1.5569171584287265,
          -1.5568093873441784,
          -1.556721524313811,
          -1.5566435760304984,
          -1.5565763705689968,
          -1.5565121882013042,
          -1.5564494567382448,
          -1.5563850568553732,
          -1.5563101359033042,
          -1.5562228244904321,
          -1.5561329422226813,
          -1.5560273084292473,
          -1.5558841586134355,
          -1.5556947721648542,
          -1.5554630479777056,
          -1.5551634611626142,
          -1.5547787310279528,
          -1.5542887662357925,
          -1.553676226087908,
          -1.5528712446078317,
          -1.5518236457526298,
          -1.5504872687466247,
          -1.548807288129126,
          -1.5466789310947031,
          -1.5438256080305288,
          -1.540259755189029,
          -1.5357969604928958,
          -1.529871501952338,
          -1.5219997282193587,
          -1.5126081900157327,
          -1.5008467997039834,
          -1.4838144101519166,
          -1.4640534842344648,
          -1.438635516938725,
          -1.406364930577839,
          -1.3795318910076535,
          -0.6981834720153451,
          -0.6672791476304132,
          -0.6428255205830496,
          -0.6233224353606057,
          -0.6078697985395266,
          -0.5955675126274759,
          -0.5858149961501447,
          -0.5781627256085744,
          -0.5718600950351184,
          -0.5670566049342782,
          -0.5631527140617372,
          -0.560057890280696,
          -0.5576076614281014,
          -0.5556514650259691,
          -0.5540987801841328,
          -0.5528606564793844,
          -0.5518776108024166,
          -0.5511041522043011,
          -0.5504663444076617,
          -0.5499797500398346,
          -0.5495833780058501,
          -0.5492688132862454,
          -0.5490185570735543,
          -0.5488172091918079,
          -0.5486557936437801,
          -0.5485245123869359,
          -0.548416866264978,
          -0.5483275577302431,
          -0.5482482889051532,
          -0.5481809348424365,
          -0.5481138614660088,
          -0.5480490124083808,
          -0.5479818464793643,
          -0.5479024404129778,
          -0.5478263485553654,
          -0.5477111665764505,
          -0.5475963126292006,
          -0.5474387077697139,
          -0.5472361159033597,
          -0.5469847017826772,
          -0.546666674659954,
          -0.5462530344379425,
          -0.5457301742944752,
          -0.5450493441921723,
          -0.5441957626912117,
          -0.5431045623187353,
          -0.5416759837745713,
          -0.5398913053598898,
          -0.5376183978887166,
          -0.5346205243877921,
          -0.530805423312359,
          -0.5259488299455425,
          -0.5198139758106188,
          -0.5118351404179612,
          -0.5012395775467324,
          -0.4879702015723603,
          -0.47253327149608415,
          -0.4502798632393008,
          -0.42354135416629785,
          -0.3895753382574293,
          -0.3465377787488578
         ],
         "z": [
          4.408508991898446,
          3.3870565263426298,
          2.578821158786853,
          1.934217732867006,
          1.423495166593815,
          1.0169041863136319,
          0.6946088698853506,
          0.44173559801306056,
          0.23349148199838624,
          0.07483724307710021,
          -0.05406328733342762,
          -0.15618513955660293,
          -0.2369805927950114,
          -0.30140844165686953,
          -0.3524458402463588,
          -0.39307117925894897,
          -0.4252631375167172,
          -0.450513925721329,
          -0.47130232507308184,
          -0.4871267545446102,
          -0.4999705392096485,
          -0.5101283288528502,
          -0.5181435922403577,
          -0.52450448644595,
          -0.5295065528274351,
          -0.5334443469765241,
          -0.5364998295680072,
          -0.5388259104154948,
          -0.5406512725700955,
          -0.541918350228426,
          -0.542804363620677,
          -0.5433224002051447,
          -0.5434979019934691,
          -0.5433539329756456,
          -0.5428911424224805,
          -0.5420479886673296,
          -0.5408898264900163,
          -0.5392064700082376,
          -0.5370137962312803,
          -0.5341777550889715,
          -0.530593798899077,
          -0.5259738826085596,
          -0.5202553989230471,
          -0.5129410692439974,
          -0.5039540654831449,
          -0.4925533937455838,
          -0.4780533886043207,
          -0.46042973235858525,
          -0.43834244372786546,
          -0.41035947418318364,
          -0.37598992409540277,
          -0.3324413043561413,
          -0.2789161282340415,
          -0.21043961658788174,
          -0.1267069178072995,
          -0.023634627563853525,
          0.11055784857307034,
          0.26477083800709117,
          0.4694182926034355,
          0.6975362434937762,
          1.0289146703208034,
          4.408307239204673,
          3.3868548180083295,
          2.5786194908689626,
          1.9340160935363322,
          1.4232936110532595,
          1.0167007534338253,
          0.6944055848704583,
          0.4415324608630828,
          0.23328854200162788,
          0.074634549521866,
          -0.05426563587052792,
          -0.15638511787140327,
          -0.23717993036184887,
          -0.30160728634065864,
          -0.35264231470784785,
          -0.39326291327583834,
          -0.4254511168551035,
          -0.45069815038121225,
          -0.4714823021714137,
          -0.48730485430369047,
          -0.5001472545125256,
          -0.5103012894772244,
          -0.518314182642432,
          -0.5246750768480244,
          -0.5296771432295094,
          -0.5336130600393469,
          -0.5366704199700815,
          -0.5389896946478335,
          -0.5408150568024342,
          -0.5420802571215133,
          -0.5429613416832801,
          -0.5434706947587609,
          -0.5436499512255883,
          -0.5435073885823057,
          -0.5430208958061414,
          -0.5421866577825377,
          -0.5410047933822252,
          -0.5393026635079314,
          -0.5370794748186488,
          -0.5342246602838248,
          -0.5305726423965748,
          -0.5259714994985725,
          -0.5201474073306742,
          -0.51288939782917,
          -0.5036794355837357,
          -0.4922412170611444,
          -0.4775745736128449,
          -0.45995091736710947,
          -0.4374881608860868,
          -0.409505191341405,
          -0.37445502428006894,
          -0.3306012554175551,
          -0.2767006114451524,
          -0.2078486319486897,
          -0.12350563492160282,
          -0.015739996549370576,
          0.11005154942678816,
          0.271375205760564,
          0.4835320173629663,
          0.7297201734979467,
          1.0287128683387239,
          4.408055036015377,
          3.3866045217312695,
          2.57836731932276,
          1.9337639593506646,
          1.4230415064405746,
          1.0164506247370013,
          0.6941555054619395,
          0.4412805534036174,
          0.2330367824070769,
          0.07438298708053442,
          -0.0545169518703353,
          -0.15663776903910895,
          -0.23743208864650614,
          -0.3018589517422675,
          -0.35289299434335997,
          -0.39351310002830187,
          -0.4257012094146251,
          -0.4509467642915886,
          -0.4717275600933933,
          -0.48754764781042803,
          -0.5003852133817213,
          -0.5105376755043327,
          -0.5185437624998047,
          -0.5248973576526131,
          -0.529890646332169,
          -0.5338153210248353,
          -0.5368571912768473,
          -0.5391628536151282,
          -0.5409647457692898,
          -0.542195915239691,
          -0.5430478977832642,
          -0.5435152396883506,
          -0.543636995306061,
          -0.5434381059656426,
          -0.5428450627776714,
          -0.5418993455117769,
          -0.5405952022787843,
          -0.5387381756172643,
          -0.5363108018359153,
          -0.5332142554239944,
          -0.5292219290499668,
          -0.5242241574876415,
          -0.5179424068307696,
          -0.5099592016979748,
          -0.5000498490864702,
          -0.48768928171322684,
          -0.47200642245169955,
          -0.4526460644085507,
          -0.4281414570068624,
          -0.3979289026163635,
          -0.3602736828589073,
          -0.3129465104015668,
          -0.2550324833148833,
          -0.17909305917466598,
          -0.08766261750382451,
          0.03176705040189755,
          0.16950390081974837,
          0.34434570368252815,
          0.5701148547560352,
          0.8306185376326258,
          1.1380625189004667,
          4.406038942822139,
          3.384586551198779,
          2.5763512541252784,
          1.931747915445731,
          1.4210255118239459,
          1.0144327527811212,
          0.692137682794364,
          0.4392647559402079,
          0.2310210835202772,
          0.07236555871939769,
          -0.05653408450164301,
          -0.15865480309380695,
          -0.23944862981815573,
          -0.30387500003086876,
          -0.3549080568658644,
          -0.3955271767847095,
          -0.42771291594873273,
          -0.45295748505959943,
          -0.4737349248730074,
          -0.48955353394089696,
          -0.5023867577576967,
          -0.512535371008863,
          -0.5205389935890931,
          -0.5268886456775141,
          -0.531873250848083,
          -0.5357906264879654,
          -0.5388207617397577,
          -0.5411128117385675,
          -0.542906020383742,
          -0.5441148940056851,
          -0.5449415292095676,
          -0.5453816464357117,
          -0.5454693712047445,
          -0.5451946785874044,
          -0.5445859069785601,
          -0.543577056845794,
          -0.5421673051304158,
          -0.5401929284667,
          -0.5376411728104499,
          -0.5343592146989775,
          -0.5301251564478531,
          -0.524904426400946,
          -0.5181885002947209,
          -0.5098462132826332,
          -0.49939707673938954,
          -0.4863230552546657,
          -0.4698704217041125,
          -0.44982944668740843,
          -0.42426875446186196,
          -0.39231949827394963,
          -0.35224695974552495,
          -0.3025024685172158,
          -0.24116213430675584,
          -0.1638143797483778,
          -0.06710351395824564,
          0.05253776208767782,
          0.2022199169472208,
          0.3894999073000964,
          0.6190237368766324,
          0.8856304022182695,
          1.2766192399737557,
          4.403518295385397,
          3.3820658939043766,
          2.5738305835230335,
          1.92922727786665,
          1.4185048643872038,
          1.0119121546326841,
          0.6896171832225366,
          0.43674237902912894,
          0.22849890376241752,
          0.06984362540306224,
          -0.0590575994274009,
          -0.16117772655990678,
          -0.24197293774045867,
          -0.3063978293040264,
          -0.35742990037292527,
          -0.39804566430337374,
          -0.4302280474790002,
          -0.45546501303991876,
          -0.47623909686493,
          -0.49204871792666827,
          -0.5048790786381196,
          -0.515022857251744,
          -0.5230202607382289,
          -0.5293627079668083,
          -0.5343396153944868,
          -0.5382467346832948,
          -0.5412663090868486,
          -0.5435447467461872,
          -0.5453156595429036,
          -0.5465109208253757,
          -0.5473065766718129,
          -0.5477138372012602,
          -0.5477550929341252,
          -0.5474320539413657,
          -0.5467226026806197,
          -0.5456841795649493,
          -0.5441570778473751,
          -0.5420958660937886,
          -0.5393892136503123,
          -0.5358842970542583,
          -0.5314577952308773,
          -0.5258897248244877,
          -0.5188452317512949,
          -0.5101063160748843,
          -0.49904933390254597,
          -0.48517502321647094,
          -0.4680511919865726,
          -0.44646124909760665,
          -0.42003220597335345,
          -0.3861585140628763,
          -0.3443492737370383,
          -0.29286808071131576,
          -0.226998258082171,
          -0.1455435794264612,
          -0.04519479837235121,
          0.07655864732128848,
          0.23818610662252354,
          0.4273434362269136,
          0.663673435539002,
          0.9675946633509269,
          1.3057857795040027,
          4.4060426482123365,
          3.384590241802486,
          2.5763549340827114,
          1.9317516159070989,
          1.421029217214144,
          1.0144365074596242,
          0.6921414867611719,
          0.43926673185606907,
          0.2310213792501062,
          0.07236615017905577,
          -0.05653497607479771,
          -0.15865520178391326,
          -0.23944992008141674,
          -0.30387668898423603,
          -0.3549082671700865,
          -0.3955230453344381,
          -0.4277063200832193,
          -0.4529422998780411,
          -0.47371302771465557,
          -0.48952304746650016,
          -0.5023495593065065,
          -0.5124894890486856,
          -0.5204825507806771,
          -0.5268177931494146,
          -0.5317917432788027,
          -0.535688301719372,
          -0.5387029472924418,
          -0.5409708241035419,
          -0.5427262472215356,
          -0.543904844673304,
          -0.5446793788232641,
          -0.5450575373345178,
          -0.5450727425404215,
          -0.5447013571722427,
          -0.5439998797136227,
          -0.5428330878219884,
          -0.5412191510145435,
          -0.5390523307785712,
          -0.5361907815478687,
          -0.5325614830769138,
          -0.5279613110737914,
          -0.5221820237026301,
          -0.5148582519673103,
          -0.5056593555763261,
          -0.49426677456431506,
          -0.47985971181920595,
          -0.46186752969060085,
          -0.439902118951332,
          -0.41241699100322077,
          -0.3774872142688855,
          -0.3342464212688864,
          -0.28027759074514474,
          -0.21365683241539407,
          -0.12966741979061489,
          -0.0250007584580214,
          0.1048491202321808,
          0.2618303278756797,
          0.4653031842216803,
          0.7171228622563877,
          1.0217472773388183,
          1.3965432491011796
         ]
        },
        {
         "hovertemplate": "Sensor=SF_NS5A_5bic<br>PC1=%{x}<br>PC2=%{y}<br>PC3=%{z}<extra></extra>",
         "legendgroup": "SF_NS5A_5bic",
         "marker": {
          "color": "#EF553B",
          "opacity": 0.4,
          "symbol": "diamond"
         },
         "mode": "markers",
         "name": "SF_NS5A_5bic",
         "scene": "scene",
         "showlegend": true,
         "type": "scatter3d",
         "x": [
          -1.7875492269244864,
          -1.5221536763851637,
          -1.312150471830409,
          -1.1446557999210922,
          -1.0119390104249435,
          -0.9062690840736038,
          -0.8224912850766493,
          -0.7567400044414017,
          -0.7025715782966876,
          -0.6612762178575321,
          -0.6276936914672411,
          -0.6010654811162928,
          -0.579973528012488,
          -0.5631130693547239,
          -0.5497386398158688,
          -0.5390527108989844,
          -0.5305497514908107,
          -0.5238393149221598,
          -0.5182595666386773,
          -0.5139313820702137,
          -0.5103335032678609,
          -0.5073689345901752,
          -0.5048820593266174,
          -0.5027272476847344,
          -0.5007867240004275,
          -0.4989663881251421,
          -0.4971771247096178,
          -0.4953329354898434,
          -0.49329605364605217,
          -0.49100453122678384,
          -0.48835335552298625,
          -0.48517974212790954,
          -0.48137555612607746,
          -0.4766904221523072,
          -0.4710805563543891,
          -0.46414420577382315,
          -0.4559250440748485,
          -0.44556983916968274,
          -0.43300345152446923,
          -0.4172875267462659,
          -0.39814211855720644,
          -0.3745581130502235,
          -0.3455870725383612,
          -0.30974585750723854,
          -0.2647887841391446,
          -0.2100576081565668,
          -0.14112331285762086,
          -0.05728147607188216,
          0.04667486330183127,
          0.17560561666845986,
          0.3337069789036812,
          0.5290014870749759,
          0.7711808287376314,
          1.060710776368171,
          1.4236229921642263,
          1.8604569769497694,
          2.384952447928265,
          3.0207849592906686,
          3.775732731200914,
          4.626120235232866,
          5.74636261038908,
          -1.7835079403289924,
          -1.5181116034478872,
          -1.3081082399195347,
          -1.1406133692932208,
          -1.0078956940967907,
          -0.9022246833281727,
          -0.8184466856142206,
          -0.7526934348614136,
          -0.6985238334671294,
          -0.6572258159271307,
          -0.6236430908198423,
          -0.597013886883907,
          -0.5759150639472652,
          -0.5590614751223382,
          -0.5456781885806721,
          -0.5349991294966248,
          -0.526496170088451,
          -0.5197768765169892,
          -0.5141951410635327,
          -0.5098649693250951,
          -0.5062631161827943,
          -0.5033014429979975,
          -0.5008174632273288,
          -0.49864584590273886,
          -0.49671310037418387,
          -0.4948927644988984,
          -0.49309049921647125,
          -0.4912134364300541,
          -0.4891628149205891,
          -0.48683841893467805,
          -0.48414062999856394,
          -0.48089979387266,
          -0.4770566022701192,
          -0.47222328316902074,
          -0.46646523224377423,
          -0.45943122840594963,
          -0.45067723605544074,
          -0.4400472378367985,
          -0.4269386415523415,
          -0.4106118098065255,
          -0.39071809799311513,
          -0.3663170905334123,
          -0.33626163274306275,
          -0.29871033749042186,
          -0.2528675638412388,
          -0.196563704293881,
          -0.12674370871384597,
          -0.042322773350317436,
          0.06499470256475855,
          0.19399923580847964,
          0.3547747513013726,
          0.5494560560660687,
          0.7895006680005585,
          1.082465532049553,
          1.4385079150086986,
          1.8753418997942417,
          2.403811710720698,
          3.0425397149720514,
          3.7945919939933472,
          4.676774217608989,
          5.810756258439023,
          -1.7784561567976096,
          -1.5130597404297057,
          -1.3030564166447525,
          -1.1355615460184385,
          -1.0028443590882947,
          -0.8971735470366742,
          -0.8133951518887274,
          -0.7476419011359202,
          -0.6934723905739277,
          -0.6521736860506451,
          -0.6185903647923645,
          -0.5919609621394318,
          -0.5708601520328161,
          -0.5539996933750521,
          -0.54061839400336,
          -0.5299324650864757,
          -0.521427518508328,
          -0.5147102121068403,
          -0.5091284766533838,
          -0.5047983049149461,
          -0.5011915691097825,
          -0.4982298959249857,
          -0.4957390463214799,
          -0.4935851430025119,
          -0.4916346834683351,
          -0.4898212174258866,
          -0.4880120823106225,
          -0.48616176105678205,
          -0.48408439801474024,
          -0.48179361339424287,
          -0.47906147529394427,
          -0.4758343788337141,
          -0.47188813973861965,
          -0.4671235189658902,
          -0.4613166414120145,
          -0.4542428941747102,
          -0.4456189204932303,
          -0.43479020527719003,
          -0.4215442123359948,
          -0.4052787009308387,
          -0.385178894132321,
          -0.3606331120281707,
          -0.33043287959337375,
          -0.29239331805443985,
          -0.24694797840005295,
          -0.18966758628010916,
          -0.1197567584085773,
          -0.03445012276395971,
          0.07156716646082677,
          0.20057169970454786,
          0.3573728752494797,
          0.5541151298652489,
          0.7888114352843956,
          1.0804761126431006,
          1.4305569856803044,
          1.8585339676549568,
          2.3701980958746,
          3.015795932962863,
          3.7647821949511666,
          4.629079888800984,
          5.68136173435902,
          -1.7380486363299004,
          -1.4726522199619965,
          -1.262648030348462,
          -1.095153159722148,
          -0.9624354845257179,
          -0.8567651607403837,
          -0.7729862773261506,
          -0.7072339122736244,
          -0.6530639134453455,
          -0.6117665828886305,
          -0.5781836590643447,
          -0.5515534615434224,
          -0.5304546386067808,
          -0.5136010497818536,
          -0.5002197504101615,
          -0.4895318343233033,
          -0.4810288749151296,
          -0.4743164511765047,
          -0.4687327285530742,
          -0.46440255681463666,
          -0.4608007036723359,
          -0.4578350561475911,
          -0.4553490892069484,
          -0.45318235454522143,
          -0.45124166033677054,
          -0.44942819429432196,
          -0.4476259290118948,
          -0.4457557360583145,
          -0.44367224098220676,
          -0.4413409751634589,
          -0.43860957486193114,
          -0.4353564746678952,
          -0.431390363873061,
          -0.42651730137248284,
          -0.4207195070477568,
          -0.4133692612555357,
          -0.4046078909173176,
          -0.3936417790445391,
          -0.37992227579246945,
          -0.363450669402206,
          -0.3427399556360756,
          -0.31744586990757445,
          -0.286085143878212,
          -0.2480455823392781,
          -0.20053929283381816,
          -0.14257191743018338,
          -0.0719741062749605,
          0.014201177236341848,
          0.12159243302851036,
          0.2526579161233045,
          0.4115200415193094,
          0.6062751261610981,
          0.8416584148639358,
          1.1375187718018793,
          1.4895868148130638,
          1.9184721197026848,
          2.432123417896309,
          3.054045739440849,
          3.8079146642920816,
          4.629006191146456,
          5.729376866562864,
          -1.6875343551626896,
          -1.4221377996928874,
          -1.2121341182173389,
          -1.0446381631737465,
          -0.9119200905433217,
          -0.8062491706069953,
          -0.7224688053414889,
          -0.6567145610036949,
          -0.6025428816071453,
          -0.5612425873478835,
          -0.5276576763536237,
          -0.5010204102828671,
          -0.4799176130062775,
          -0.4630551671785394,
          -0.44966302363406246,
          -0.4389731203772302,
          -0.43046419945913456,
          -0.4237409315477248,
          -0.4181443775815354,
          -0.4138062571632019,
          -0.4101944681710313,
          -0.40721689762644264,
          -0.4047061763231972,
          -0.40251956996173044,
          -0.40055122589778774,
          -0.39866440509044593,
          -0.3968155265757023,
          -0.394858239191555,
          -0.39270065155178313,
          -0.3902555497698914,
          -0.3873835719726432,
          -0.383894454421941,
          -0.37978237189609115,
          -0.37454424081248733,
          -0.36832176280551604,
          -0.36050708993157016,
          -0.3511421906134487,
          -0.3394351531040286,
          -0.32497472421531726,
          -0.30721998354916863,
          -0.28522613550715314,
          -0.25824410352026145,
          -0.22471454293392473,
          -0.18410871284322045,
          -0.13383743778859208,
          -0.07153239327100876,
          0.0032952022922614235,
          0.09716929145887483,
          0.21066961692717,
          0.35059210283285486,
          0.522359350864804,
          0.7294063547359385,
          0.9818166657768667,
          1.2885211954996818,
          1.663185906995577,
          2.1186422203178696,
          2.6460331841853146,
          3.2945265141625266,
          4.046408269039779,
          4.9933144810765615,
          6.046334125405524,
          -1.7380402497088463,
          -1.4726435531499757,
          -1.2626397524442288,
          -1.0951442856669227,
          -0.9624256168855058,
          -0.8567542995151844,
          -0.7729738263649721,
          -0.7072194741424721,
          -0.6530470907102246,
          -0.611745405431981,
          -0.5781581098337524,
          -0.5515178630080348,
          -0.5304062087286343,
          -0.5135397885609483,
          -0.5001436706765234,
          -0.48944093607693234,
          -0.4809211709860518,
          -0.4741830845619092,
          -0.46857858191582397,
          -0.4642265513076726,
          -0.4605939822928472,
          -0.4575847875528189,
          -0.4550541945498336,
          -0.4528359639929272,
          -0.4508061881839352,
          -0.44887275414427685,
          -0.44694291323303215,
          -0.4448916615854809,
          -0.4426141059484992,
          -0.44002155683805017,
          -0.43690669185129877,
          -0.43325712510513614,
          -0.4288081911263792,
          -0.42319420298915944,
          -0.41643859957209434,
          -0.40806014111772465,
          -0.3978856178345925,
          -0.38523155970342343,
          -0.3697554118645941,
          -0.35051881992516215,
          -0.326768327296387,
          -0.2976248387402303,
          -0.2617964249278904,
          -0.21773862600432675,
          -0.16312968183574983,
          -0.09717395148790904,
          -0.015442418258919965,
          0.08454074058382009,
          0.20819825555329552,
          0.35491679441879803,
          0.5368412319519276,
          0.7587805284329869,
          1.0220350122587862,
          1.3553105504142735,
          1.7379239418060908,
          2.213081430724146,
          2.791627241482954,
          3.479522922651691,
          4.281651201505338,
          5.241388756300973,
          6.381502831196991
         ],
         "y": [
          0.28986417448851365,
          0.3207678568262417,
          0.34522098714410837,
          0.3647237782496805,
          0.3801763782172222,
          0.39247898946929766,
          0.40223178018738076,
          0.40988485095794075,
          0.41618843880708223,
          0.4209924262901537,
          0.4248974003798177,
          0.4279922716466432,
          0.43044205198780605,
          0.43239778738224754,
          0.4339473937714634,
          0.4351824265273325,
          0.4361618202776579,
          0.4369305549786411,
          0.4375646608636021,
          0.43804908629793143,
          0.43844380039114494,
          0.4387588136221814,
          0.43901054033175807,
          0.43921444317713904,
          0.43938096865243564,
          0.4395195787550827,
          0.43963717116777296,
          0.43974021537873187,
          0.4398368843029471,
          0.43992974072475843,
          0.44002558235678646,
          0.44013056782648974,
          0.44024858987248017,
          0.4403926890560301,
          0.4405550384031935,
          0.44075672779683994,
          0.44099299745050297,
          0.44129295757583936,
          0.4416625931451869,
          0.4421241797136385,
          0.44269925690661344,
          0.44341557519545693,
          0.4443126794653827,
          0.4454380701278682,
          0.44691372567172316,
          0.4487242678235171,
          0.4511252529532935,
          0.4540556297860929,
          0.45787941636849816,
          0.462622704453501,
          0.46876919039404646,
          0.4764384411098266,
          0.48653290063773413,
          0.4985963040136153,
          0.5144483754301358,
          0.5338023868772803,
          0.557705322327537,
          0.5871416829581095,
          0.623195943018723,
          0.664883604332504,
          0.7207415941489591,
          0.2091929607208577,
          0.24009669478267137,
          0.2645498241008373,
          0.2840526139567835,
          0.2995052650235979,
          0.31180792612532016,
          0.32156071559377736,
          0.32921388731325685,
          0.33551758110982144,
          0.3403217218907109,
          0.344226694730749,
          0.347321559749445,
          0.3497718635795938,
          0.3517270754850494,
          0.3532771928669921,
          0.3545117021338753,
          0.35549109588420064,
          0.35626034157791076,
          0.35689443496661266,
          0.35737884790468305,
          0.35777353700537856,
          0.358088001754911,
          0.35833917998298376,
          0.35854354383605547,
          0.3587089848446032,
          0.3588475949472502,
          0.35896453890836433,
          0.35906680970515686,
          0.3591645256073439,
          0.35925660861498887,
          0.35935272381082234,
          0.3594595533112888,
          0.3595756300025507,
          0.35972446422559884,
          0.3598915486122604,
          0.36010395771080567,
          0.36034819789238215,
          0.36066909757715515,
          0.36106365796989603,
          0.3615554042516,
          0.3621711109375457,
          0.3629332936092191,
          0.3638802475259315,
          0.3651195561394157,
          0.36664631095595973,
          0.3685603012790341,
          0.3710123856814995,
          0.3740524588150913,
          0.37796844693565557,
          0.3828812779754566,
          0.3890676165555695,
          0.39685406132755646,
          0.4066219312048915,
          0.4189470790737298,
          0.43427566150433605,
          0.4536296729514805,
          0.47750761588368934,
          0.5074924580182241,
          0.5429982365748754,
          0.5844859577442728,
          0.6413909255325564,
          0.10835399907797287,
          0.13925773263993624,
          0.16371086220802739,
          0.18321365206397355,
          0.19866624953226347,
          0.2109689118836116,
          0.22072169885281703,
          0.2283748705722965,
          0.23467850827108477,
          0.23948270140087285,
          0.24338767049203328,
          0.24648253426110336,
          0.2489328255949931,
          0.25088856098943463,
          0.2524386908676363,
          0.25367372362350543,
          0.2546531048775718,
          0.2554223630675409,
          0.25605645645624286,
          0.2565408693943132,
          0.2569360944802536,
          0.25725055922978607,
          0.25750226094684475,
          0.2577056028144627,
          0.25787206580846417,
          0.2580101524221253,
          0.2581276198722254,
          0.2582294921426222,
          0.25832760657120496,
          0.25841876756346827,
          0.25851750020423137,
          0.25862328272672597,
          0.2587472117527766,
          0.25889081108596557,
          0.2590632553250765,
          0.25927541449844127,
          0.2595261391957793,
          0.25984578925464996,
          0.2602508194271091,
          0.26075428511443377,
          0.2613856964699569,
          0.2621753032168284,
          0.2631496812087389,
          0.26444258834671697,
          0.2659718424150657,
          0.2679930297871278,
          0.27050121196589183,
          0.27359238437217265,
          0.27757321765035226,
          0.2824860486901533,
          0.2886973797883141,
          0.29664087125607536,
          0.30632903585427546,
          0.31871902888072917,
          0.33408510008840736,
          0.35292811880866154,
          0.37634505405007596,
          0.40685338517052494,
          0.44294513400821034,
          0.4845453215088235,
          0.5368638510141185,
          -0.6983581049836509,
          -0.6674543714216875,
          -0.6430011906293611,
          -0.6234984007734149,
          -0.6080457497066005,
          -0.5957431409537769,
          -0.5859903003860469,
          -0.5783371797658402,
          -0.5720334884685274,
          -0.5672294000365365,
          -0.5633244284461243,
          -0.5602295696755578,
          -0.557779265845409,
          -0.5558240539399535,
          -0.5542739240617517,
          -0.5530389038021416,
          -0.5520595100518163,
          -0.5512907878470921,
          -0.5506567069546492,
          -0.5501722940165789,
          -0.5497776049158833,
          -0.5494631651588688,
          -0.5492119994270552,
          -0.5490081715592284,
          -0.5488427805357168,
          -0.5487046939220557,
          -0.5485877499609415,
          -0.5484860026531349,
          -0.5483890601651142,
          -0.5482964536684835,
          -0.5481994164572683,
          -0.548094930837926,
          -0.5479711267744656,
          -0.547822542476598,
          -0.5476557080151169,
          -0.5474339538001656,
          -0.5471727593231092,
          -0.5468426394845203,
          -0.546417919378527,
          -0.5458987490216248,
          -0.5452371779528493,
          -0.544406941713007,
          -0.5433605248889709,
          -0.5420676177509929,
          -0.5403813169868699,
          -0.5383077807162163,
          -0.5357472496388609,
          -0.5324915327813914,
          -0.528406001706029,
          -0.5233361239704536,
          -0.5169677461765185,
          -0.5090117584497333,
          -0.49927124495294184,
          -0.48639761558014133,
          -0.47104404063148714,
          -0.45164004414824677,
          -0.4282356051658563,
          -0.398711770722116,
          -0.36208403663949235,
          -0.3236122867953407,
          -0.26762933438864595,
          -1.706747982407216,
          -1.6758442497199908,
          -1.6513911224012263,
          -1.6318882826956331,
          -1.6164356341280706,
          -1.6041330291241247,
          -1.5943801412059997,
          -1.5867269757346498,
          -1.580423238336568,
          -1.5756190552037872,
          -1.5717140961096339,
          -1.5686187150997075,
          -1.5661684362620767,
          -1.5642127133638943,
          -1.5626620849892245,
          -1.5614270772258736,
          -1.5604477209643253,
          -1.5596785002631333,
          -1.5590439333704815,
          -1.5585595704174473,
          -1.558164943798047,
          -1.5578505790185866,
          -1.5575990022641182,
          -1.5573952993588815,
          -1.5572289488312114,
          -1.557090190127349,
          -1.5569729726024295,
          -1.55686950622645,
          -1.5567701962186802,
          -1.5566754721274807,
          -1.5565759187953014,
          -1.55646328363874,
          -1.5563398308244254,
          -1.5561765415577022,
          -1.5559953770151362,
          -1.5557595426442807,
          -1.5554851427494516,
          -1.555131347713372,
          -1.5546829524098877,
          -1.5541151820321013,
          -1.5534050109424415,
          -1.55251171963804,
          -1.5513656035204306,
          -1.549975496340684,
          -1.548193245160695,
          -1.545920310302895,
          -1.543103033236192,
          -1.539555716253417,
          -1.5351685880455301,
          -1.5295877175830646,
          -1.5225637966254888,
          -1.5138350716788562,
          -1.5031249216268756,
          -1.489752795786209,
          -1.472841250138836,
          -1.4519042754749247,
          -1.4274528585207058,
          -1.3963960458962945,
          -1.359755815554647,
          -1.3130082120080593,
          -1.2589942529547817,
          -0.6983576477019148,
          -0.667453915901924,
          -0.643000789332935,
          -0.6234980032258666,
          -0.6080453584071817,
          -0.5957427559024875,
          -0.5859899253317647,
          -0.578336817207817,
          -0.5720331409060151,
          -0.5672289665206156,
          -0.5633240224219732,
          -0.5602286601564352,
          -0.5577778703260776,
          -0.5558221724204132,
          -0.5542715690382617,
          -0.5530360752747018,
          -0.5520562205166856,
          -0.5512865263115437,
          -0.550652009403928,
          -0.550167733924707,
          -0.5497726712901339,
          -0.549457371999033,
          -0.5492059202071548,
          -0.5490012827902776,
          -0.548834185194852,
          -0.5486951529271844,
          -0.5485750443935299,
          -0.5484693354603914,
          -0.5483690797986152,
          -0.5482713160974655,
          -0.5481630897390811,
          -0.5480480634241456,
          -0.5479136950264671,
          -0.5477414355311087,
          -0.5475409559427793,
          -0.5472916662289704,
          -0.5469883562467914,
          -0.5465951813436433,
          -0.5461021712832316,
          -0.5454870505104634,
          -0.5447085894663851,
          -0.5437325531638901,
          -0.5424932222684691,
          -0.5409548157742651,
          -0.5389731660071295,
          -0.5365531814607744,
          -0.5334393057651564,
          -0.529590391649857,
          -0.524757115872695,
          -0.5188222993791134,
          -0.5113522308522629,
          -0.5019804590010137,
          -0.49077181248116675,
          -0.47586670845982915,
          -0.45900514784855206,
          -0.43705868398988434,
          -0.40952881441529976,
          -0.3764530234013755,
          -0.3372953182023484,
          -0.2900617144469184,
          -0.234328687220703
         ],
         "z": [
          4.407896970310342,
          3.386440605279676,
          2.57820236476089,
          1.9335971322588852,
          1.4228739346570254,
          1.016281907711313,
          0.693987332799438,
          0.4411148024435545,
          0.23287223758858613,
          0.0742176630684604,
          -0.054681137867730406,
          -0.15680323653242992,
          -0.23760278946747534,
          -0.3020339001247881,
          -0.3530792067613897,
          -0.393707220493444,
          -0.4259041295000342,
          -0.45115651246507116,
          -0.4719389030273011,
          -0.4877534748378613,
          -0.5005821685142833,
          -0.5107172636189206,
          -0.5187007502687703,
          -0.5250241415260081,
          -0.529974389432397,
          -0.5338446651234452,
          -0.5368236412507362,
          -0.539047636071781,
          -0.5407460358249587,
          -0.5418493074841066,
          -0.542542180636421,
          -0.5428140405171993,
          -0.5426952579685655,
          -0.5421725243474654,
          -0.5412692492182839,
          -0.5399105173170562,
          -0.5381300073984799,
          -0.5357215204813157,
          -0.5326910759138819,
          -0.5287919832709148,
          -0.5239689831750207,
          -0.5179645454854876,
          -0.5105353608554968,
          -0.5013015006887023,
          -0.4896675137791192,
          -0.4754767688213165,
          -0.45754613808460165,
          -0.4357198249246935,
          -0.4085875945299345,
          -0.37492616271870843,
          -0.33354079063232284,
          -0.2823899248630019,
          -0.21877551717187319,
          -0.1427212856697536,
          -0.04716395744082831,
          0.06794326647306274,
          0.20635486623302193,
          0.37428978682765246,
          0.5740238096873634,
          0.7993378906525888,
          1.0964402070608588,
          4.4076953014066875,
          3.3862391487540973,
          2.5780009476659553,
          1.9333957644522555,
          1.4226728038726253,
          1.0160810632374475,
          0.6937865376138775,
          0.44091453059075875,
          0.23267229191533592,
          0.07401842846190021,
          -0.05488032318598577,
          -0.1570021754091611,
          -0.23779985100495496,
          -0.30223283900151926,
          -0.3532757754158209,
          -0.3939056664871267,
          -0.42610257549371694,
          -0.451352588236454,
          -0.4721344859156355,
          -0.4879485648431473,
          -0.5007762727534726,
          -0.5109122594312645,
          -0.518896637654269,
          -0.5252156871570133,
          -0.53016821109276,
          -0.5340384867838082,
          -0.5370144114198667,
          -0.5392304259191949,
          -0.5409250709938696,
          -0.5420203623313009,
          -0.5427015004833957,
          -0.5429559933461999,
          -0.5428280563238685,
          -0.5422668339883172,
          -0.5413250701446843,
          -0.5399386491193944,
          -0.5380220158061071,
          -0.5355384353188823,
          -0.5323648354840324,
          -0.528303814181134,
          -0.5232813386402784,
          -0.5170586521132686,
          -0.5093431569484456,
          -0.4996469938414774,
          -0.48777598470190253,
          -0.4731604835889565,
          -0.4549928306222499,
          -0.4329882028314003,
          -0.40498762153793455,
          -0.37125587099965796,
          -0.32918988193971715,
          -0.27815643136849705,
          -0.2151755441798733,
          -0.13818264305199643,
          -0.044502654074585694,
          0.0706045698393053,
          0.21000193569607206,
          0.3788284294454097,
          0.5776708791504136,
          0.8108710888900994,
          1.1117280838013983,
          4.407443276093657,
          3.385987143156389,
          2.5777489322105853,
          1.9331437489968857,
          1.4224206499716356,
          1.015828860048153,
          0.6935344330011928,
          0.4406624259780739,
          0.2324201474336405,
          0.07376647171412988,
          -0.05513213206884156,
          -0.15725393500371204,
          -0.2380511177164575,
          -0.3024822283737703,
          -0.3535256576711203,
          -0.3941536714031747,
          -0.42635008752671644,
          -0.45160059315250195,
          -0.4723824908316835,
          -0.48819656975919523,
          -0.5010228932133173,
          -0.5111588798911093,
          -0.5191413807748622,
          -0.5254651707222063,
          -0.5304129542133532,
          -0.534285107243653,
          -0.5372591545404599,
          -0.5394819752095237,
          -0.5411698141144629,
          -0.5422737889608812,
          -0.5429455404167185,
          -0.5432037879580257,
          -0.5430476908469215,
          -0.5425052419038854,
          -0.5415496334982215,
          -0.5401533548119634,
          -0.5382672364110014,
          -0.5357343676189362,
          -0.5325232209990559,
          -0.5284739412159677,
          -0.5233951454975666,
          -0.5171278803128215,
          -0.5093678064902631,
          -0.4995331977629839,
          -0.48776076523308975,
          -0.47286837287952166,
          -0.45466085090218467,
          -0.4324192008813433,
          -0.40472376871112986,
          -0.3709920181728532,
          -0.3299117952097199,
          -0.2783151428630455,
          -0.21669548962153226,
          -0.14000773761690766,
          -0.04780639778470826,
          0.06493060382926445,
          0.19998621519249785,
          0.37069004819334994,
          0.5689454219078496,
          0.7977096842119015,
          1.0767417953755316,
          4.405425261201692,
          3.3839691282644244,
          2.5757311494120207,
          1.931125966198321,
          1.4204030056186912,
          1.0138110772495885,
          0.6915167886482482,
          0.43864454460289937,
          0.2304024045040863,
          0.07174835331672541,
          -0.05715034904285574,
          -0.15927195482450685,
          -0.24006963042030074,
          -0.3045026184168651,
          -0.3555460477142151,
          -0.39617356856322106,
          -0.42837047756981117,
          -0.45362236765179986,
          -0.4744037724479329,
          -0.4902178513754447,
          -0.5030455592857699,
          -0.513180560197465,
          -0.521164445537421,
          -0.5274848794963685,
          -0.5324354318999217,
          -0.5363075849302213,
          -0.5392835095662799,
          -0.5415014014048596,
          -0.5431880661578177,
          -0.5442814801559974,
          -0.5449539347991053,
          -0.5452060793579474,
          -0.5450450534163592,
          -0.5444739734198399,
          -0.5435223519152389,
          -0.5420540246305623,
          -0.54013035944457,
          -0.5375599438674745,
          -0.5342244153726934,
          -0.5301188154120596,
          -0.5248780910337274,
          -0.5184113504040208,
          -0.5103391607814098,
          -0.5005045520541307,
          -0.4881689177487822,
          -0.4730887914700626,
          -0.4546935355675742,
          -0.4321844136003207,
          -0.40411351357980435,
          -0.3698185612660733,
          -0.3281751365274857,
          -0.27707136722921505,
          -0.2152639800625503,
          -0.13737950577996638,
          -0.044685282899363195,
          0.06845040882091277,
          0.20399890323254993,
          0.3684836424883539,
          0.5681234724059644,
          0.7851308161525251,
          1.0773043020767572,
          4.40290403982878,
          3.381447941393326,
          2.573209819166472,
          1.9286049222633064,
          1.4178820602602862,
          1.0112902797560979,
          0.6889963760419023,
          0.43612461546030784,
          0.22788290953694404,
          0.06922962812387215,
          -0.05966858135266057,
          -0.1617882605067553,
          -0.24258495033645242,
          -0.30701556811071684,
          -0.35805613430271854,
          -0.39868316226867606,
          -0.430878592626121,
          -0.4561276196027613,
          -0.47690566841049764,
          -0.4927177758058158,
          -0.505543019300899,
          -0.5156750629143037,
          -0.5236526349675725,
          -0.529968140096036,
          -0.5349114876397473,
          -0.5387650995000918,
          -0.5417292891359308,
          -0.5439248851260522,
          -0.5455923055217848,
          -0.5466566175017709,
          -0.5472931639569493,
          -0.5474838207656115,
          -0.5472864156713836,
          -0.5466195848534464,
          -0.5455574260359757,
          -0.5439687037774611,
          -0.5418901418042427,
          -0.5391272826548906,
          -0.535599310587853,
          -0.5311581117875467,
          -0.5255817885695419,
          -0.5186738406177768,
          -0.5100290299255016,
          -0.49952322351887724,
          -0.4864671032293432,
          -0.4702417348112947,
          -0.4507106560636875,
          -0.4261879410583986,
          -0.3964977544385697,
          -0.3598325798249204,
          -0.3147628479625563,
          -0.2603501867386101,
          -0.19399008889726008,
          -0.11324250926635414,
          -0.014423385582803604,
          0.1058229730372273,
          0.24512614595189358,
          0.4167215521074525,
          0.6158684989766593,
          0.866856335134683,
          1.146591633568819,
          4.405427497414319,
          3.3839714339735614,
          2.57573334131969,
          1.9311283059709046,
          1.4204055918327987,
          1.0138139099052204,
          0.6915200156103188,
          0.43864826444801847,
          0.23040671580886343,
          0.07175377941392543,
          -0.057143838602949235,
          -0.15926277843247136,
          -0.24005709803986855,
          -0.30448673004803617,
          -0.3555263104739411,
          -0.3961499824515019,
          -0.42834254970359853,
          -0.45358772780879364,
          -0.4743638050843364,
          -0.49017246229831574,
          -0.5029923782728086,
          -0.5131162312602747,
          -0.5210888744830595,
          -0.5273961889855842,
          -0.5323239526576308,
          -0.5361658295177558,
          -0.5391088974571175,
          -0.5412803202595293,
          -0.5429174644850872,
          -0.5439439909378924,
          -0.5445171723036394,
          -0.5446669920938882,
          -0.5443820487225192,
          -0.5436185251537433,
          -0.5424171979699195,
          -0.5406834365851467,
          -0.5383936576471567,
          -0.5353820347480028,
          -0.531586525538648,
          -0.5267604395938288,
          -0.5207241356612503,
          -0.513250598512526,
          -0.5040026518382611,
          -0.4925886255222997,
          -0.4783872630934368,
          -0.46120438646121104,
          -0.4398568678949298,
          -0.41371486629032833,
          -0.3813493082473289,
          -0.3428771131092156,
          -0.29513200982368093,
          -0.2368001584275544,
          -0.16757695523788238,
          -0.07971870870722148,
          0.021071947169944146,
          0.14655163343821553,
          0.2995832571039878,
          0.4816453185560276,
          0.6941220260700373,
          0.9484658506247866,
          1.250496997517094
         ]
        },
        {
         "hovertemplate": "Sensor=SF_NS5A_5bicp24<br>PC1=%{x}<br>PC2=%{y}<br>PC3=%{z}<extra></extra>",
         "legendgroup": "SF_NS5A_5bicp24",
         "marker": {
          "color": "#00cc96",
          "opacity": 0.4,
          "symbol": "square"
         },
         "mode": "markers",
         "name": "SF_NS5A_5bicp24",
         "scene": "scene",
         "showlegend": true,
         "type": "scatter3d",
         "x": [
          -1.8674699093875677,
          -1.6020668871574941,
          -1.3920537525281427,
          -1.2245467716471823,
          -1.091814925246255,
          -0.9861261096397236,
          -0.9023277578717208,
          -0.8365547492158554,
          -0.7823625511530866,
          -0.7410443044961574,
          -0.707447243572203,
          -0.6807972314207595,
          -0.659689551481307,
          -0.6428251184835949,
          -0.6294309877691441,
          -0.6187371101723639,
          -0.6102153579115093,
          -0.6034772714873667,
          -0.5978639118384705,
          -0.5935050113974824,
          -0.58986557254982,
          -0.5868426381441179,
          -0.5842845658097849,
          -0.582033802734524,
          -0.580003289126761,
          -0.5780485077898211,
          -0.576064446014652,
          -0.573984977236982,
          -0.5716715968382741,
          -0.5690500927989355,
          -0.5659062728832945,
          -0.5620834847186674,
          -0.5574750689871196,
          -0.5517742160632315,
          -0.5447347361035403,
          -0.536272823345383,
          -0.5256100337759577,
          -0.5124603313707865,
          -0.4960076509593714,
          -0.4757110721435659,
          -0.45088583666299875,
          -0.4199732439836497,
          -0.3825596870700971,
          -0.33667376012166705,
          -0.2812302729152142,
          -0.21357135166281258,
          -0.13152764651104915,
          -0.03392352141761064,
          0.08475458642198418,
          0.22649371815760608,
          0.3934291188138597,
          0.5896089855102644,
          0.8211425296294677,
          1.0900908298466518,
          1.4004283034042446,
          1.7619203533225707,
          2.159919042542485,
          2.6258780810068223,
          3.1372008646429266,
          3.755886400244622,
          4.394443558291656
         ],
         "y": [
          2.9464272809820016,
          2.9773313130170327,
          3.001784947579646,
          3.0212883979772593,
          3.036741866632437,
          3.049045605817389,
          3.058799684014297,
          3.0664541482111045,
          3.0727593999783673,
          3.077565000280288,
          3.0814710163494206,
          3.0845674505854483,
          3.087018265408324,
          3.0889739758102475,
          3.090524591688658,
          3.0917595744594912,
          3.092739416721248,
          3.09350911092639,
          3.094144138826733,
          3.0946289377949396,
          3.095024523918499,
          3.0953408701875715,
          3.0955944159353934,
          3.095800548841674,
          3.095969341866647,
          3.096111640030821,
          3.0962342410468144,
          3.096343739365445,
          3.0964500033312468,
          3.096553251847436,
          3.0966669630208603,
          3.0967984674195392,
          3.0969482669229897,
          3.0971369808634672,
          3.097364009788863,
          3.0976524429834904,
          3.0980093514901634,
          3.0984730792132855,
          3.099073286322685,
          3.099834747625259,
          3.100793457790103,
          3.1020190464074355,
          3.1035430878345562,
          3.105466681007436,
          3.1078397655827597,
          3.110815729388491,
          3.1144943317248024,
          3.1189815650197277,
          3.1245828502917457,
          3.131285676280184,
          3.1394166926422122,
          3.1491204588155712,
          3.1606985884345997,
          3.174308143196722,
          3.1899241395848796,
          3.208618557089939,
          3.2287834459777445,
          3.252487774174401,
          3.2781735784820136,
          3.3094178064886504,
          3.3405370629040574
         ],
         "z": [
          4.503877544020416,
          3.482423153590511,
          2.6741875494508704,
          2.029585595391075,
          1.5188664271671248,
          1.1122794668455578,
          0.789990423182994,
          0.5371237502559668,
          0.32888763648134695,
          0.1702392760193396,
          0.04134442691487119,
          -0.06077174400224471,
          -0.14156704937573872,
          -0.2059971742669547,
          -0.257037247575908,
          -0.2976632897757687,
          -0.329855364144817,
          -0.3551005422500121,
          -0.3758742493032549,
          -0.39168102917798275,
          -0.4044990678132241,
          -0.41461916612218713,
          -0.4225842999879659,
          -0.42888302517444565,
          -0.43381008565922174,
          -0.43764562731432166,
          -0.44057437972694174,
          -0.44273758998507706,
          -0.44436394113983624,
          -0.44538155186109446,
          -0.4459458174952944,
          -0.4460472974297144,
          -0.44571776888101944,
          -0.4449274981176023,
          -0.4436470904626549,
          -0.44188049193995693,
          -0.4394522673816558,
          -0.4362951669894858,
          -0.43222276653950886,
          -0.42708695221614223,
          -0.42072685615960626,
          -0.41273476108906776,
          -0.4030034810524191,
          -0.3910146418330032,
          -0.37648490802488765,
          -0.35870618806699717,
          -0.33710784430893387,
          -0.3113651847696852,
          -0.2800092670385433,
          -0.24254671221228757,
          -0.19834598320767982,
          -0.14635129271375177,
          -0.08494389957148953,
          -0.013561097860255293,
          0.06878258100386868,
          0.16485575191421367,
          0.2705048479195208,
          0.3942248433662109,
          0.5298905895239279,
          0.694093692077582,
          0.8632259226281638
         ]
        }
       ],
       "layout": {
        "legend": {
         "title": {
          "text": "Sensor"
         },
         "tracegroupgap": 0
        },
        "margin": {
         "b": 0,
         "l": 0,
         "r": 0,
         "t": 0
        },
        "scene": {
         "domain": {
          "x": [
           0,
           1
          ],
          "y": [
           0,
           1
          ]
         },
         "xaxis": {
          "title": {
           "text": "PC1"
          }
         },
         "yaxis": {
          "title": {
           "text": "PC2"
          }
         },
         "zaxis": {
          "title": {
           "text": "PC3"
          }
         }
        },
        "template": {
         "data": {
          "bar": [
           {
            "error_x": {
             "color": "#2a3f5f"
            },
            "error_y": {
             "color": "#2a3f5f"
            },
            "marker": {
             "line": {
              "color": "#E5ECF6",
              "width": 0.5
             },
             "pattern": {
              "fillmode": "overlay",
              "size": 10,
              "solidity": 0.2
             }
            },
            "type": "bar"
           }
          ],
          "barpolar": [
           {
            "marker": {
             "line": {
              "color": "#E5ECF6",
              "width": 0.5
             },
             "pattern": {
              "fillmode": "overlay",
              "size": 10,
              "solidity": 0.2
             }
            },
            "type": "barpolar"
           }
          ],
          "carpet": [
           {
            "aaxis": {
             "endlinecolor": "#2a3f5f",
             "gridcolor": "white",
             "linecolor": "white",
             "minorgridcolor": "white",
             "startlinecolor": "#2a3f5f"
            },
            "baxis": {
             "endlinecolor": "#2a3f5f",
             "gridcolor": "white",
             "linecolor": "white",
             "minorgridcolor": "white",
             "startlinecolor": "#2a3f5f"
            },
            "type": "carpet"
           }
          ],
          "choropleth": [
           {
            "colorbar": {
             "outlinewidth": 0,
             "ticks": ""
            },
            "type": "choropleth"
           }
          ],
          "contour": [
           {
            "colorbar": {
             "outlinewidth": 0,
             "ticks": ""
            },
            "colorscale": [
             [
              0,
              "#0d0887"
             ],
             [
              0.1111111111111111,
              "#46039f"
             ],
             [
              0.2222222222222222,
              "#7201a8"
             ],
             [
              0.3333333333333333,
              "#9c179e"
             ],
             [
              0.4444444444444444,
              "#bd3786"
             ],
             [
              0.5555555555555556,
              "#d8576b"
             ],
             [
              0.6666666666666666,
              "#ed7953"
             ],
             [
              0.7777777777777778,
              "#fb9f3a"
             ],
             [
              0.8888888888888888,
              "#fdca26"
             ],
             [
              1,
              "#f0f921"
             ]
            ],
            "type": "contour"
           }
          ],
          "contourcarpet": [
           {
            "colorbar": {
             "outlinewidth": 0,
             "ticks": ""
            },
            "type": "contourcarpet"
           }
          ],
          "heatmap": [
           {
            "colorbar": {
             "outlinewidth": 0,
             "ticks": ""
            },
            "colorscale": [
             [
              0,
              "#0d0887"
             ],
             [
              0.1111111111111111,
              "#46039f"
             ],
             [
              0.2222222222222222,
              "#7201a8"
             ],
             [
              0.3333333333333333,
              "#9c179e"
             ],
             [
              0.4444444444444444,
              "#bd3786"
             ],
             [
              0.5555555555555556,
              "#d8576b"
             ],
             [
              0.6666666666666666,
              "#ed7953"
             ],
             [
              0.7777777777777778,
              "#fb9f3a"
             ],
             [
              0.8888888888888888,
              "#fdca26"
             ],
             [
              1,
              "#f0f921"
             ]
            ],
            "type": "heatmap"
           }
          ],
          "heatmapgl": [
           {
            "colorbar": {
             "outlinewidth": 0,
             "ticks": ""
            },
            "colorscale": [
             [
              0,
              "#0d0887"
             ],
             [
              0.1111111111111111,
              "#46039f"
             ],
             [
              0.2222222222222222,
              "#7201a8"
             ],
             [
              0.3333333333333333,
              "#9c179e"
             ],
             [
              0.4444444444444444,
              "#bd3786"
             ],
             [
              0.5555555555555556,
              "#d8576b"
             ],
             [
              0.6666666666666666,
              "#ed7953"
             ],
             [
              0.7777777777777778,
              "#fb9f3a"
             ],
             [
              0.8888888888888888,
              "#fdca26"
             ],
             [
              1,
              "#f0f921"
             ]
            ],
            "type": "heatmapgl"
           }
          ],
          "histogram": [
           {
            "marker": {
             "pattern": {
              "fillmode": "overlay",
              "size": 10,
              "solidity": 0.2
             }
            },
            "type": "histogram"
           }
          ],
          "histogram2d": [
           {
            "colorbar": {
             "outlinewidth": 0,
             "ticks": ""
            },
            "colorscale": [
             [
              0,
              "#0d0887"
             ],
             [
              0.1111111111111111,
              "#46039f"
             ],
             [
              0.2222222222222222,
              "#7201a8"
             ],
             [
              0.3333333333333333,
              "#9c179e"
             ],
             [
              0.4444444444444444,
              "#bd3786"
             ],
             [
              0.5555555555555556,
              "#d8576b"
             ],
             [
              0.6666666666666666,
              "#ed7953"
             ],
             [
              0.7777777777777778,
              "#fb9f3a"
             ],
             [
              0.8888888888888888,
              "#fdca26"
             ],
             [
              1,
              "#f0f921"
             ]
            ],
            "type": "histogram2d"
           }
          ],
          "histogram2dcontour": [
           {
            "colorbar": {
             "outlinewidth": 0,
             "ticks": ""
            },
            "colorscale": [
             [
              0,
              "#0d0887"
             ],
             [
              0.1111111111111111,
              "#46039f"
             ],
             [
              0.2222222222222222,
              "#7201a8"
             ],
             [
              0.3333333333333333,
              "#9c179e"
             ],
             [
              0.4444444444444444,
              "#bd3786"
             ],
             [
              0.5555555555555556,
              "#d8576b"
             ],
             [
              0.6666666666666666,
              "#ed7953"
             ],
             [
              0.7777777777777778,
              "#fb9f3a"
             ],
             [
              0.8888888888888888,
              "#fdca26"
             ],
             [
              1,
              "#f0f921"
             ]
            ],
            "type": "histogram2dcontour"
           }
          ],
          "mesh3d": [
           {
            "colorbar": {
             "outlinewidth": 0,
             "ticks": ""
            },
            "type": "mesh3d"
           }
          ],
          "parcoords": [
           {
            "line": {
             "colorbar": {
              "outlinewidth": 0,
              "ticks": ""
             }
            },
            "type": "parcoords"
           }
          ],
          "pie": [
           {
            "automargin": true,
            "type": "pie"
           }
          ],
          "scatter": [
           {
            "fillpattern": {
             "fillmode": "overlay",
             "size": 10,
             "solidity": 0.2
            },
            "type": "scatter"
           }
          ],
          "scatter3d": [
           {
            "line": {
             "colorbar": {
              "outlinewidth": 0,
              "ticks": ""
             }
            },
            "marker": {
             "colorbar": {
              "outlinewidth": 0,
              "ticks": ""
             }
            },
            "type": "scatter3d"
           }
          ],
          "scattercarpet": [
           {
            "marker": {
             "colorbar": {
              "outlinewidth": 0,
              "ticks": ""
             }
            },
            "type": "scattercarpet"
           }
          ],
          "scattergeo": [
           {
            "marker": {
             "colorbar": {
              "outlinewidth": 0,
              "ticks": ""
             }
            },
            "type": "scattergeo"
           }
          ],
          "scattergl": [
           {
            "marker": {
             "colorbar": {
              "outlinewidth": 0,
              "ticks": ""
             }
            },
            "type": "scattergl"
           }
          ],
          "scattermapbox": [
           {
            "marker": {
             "colorbar": {
              "outlinewidth": 0,
              "ticks": ""
             }
            },
            "type": "scattermapbox"
           }
          ],
          "scatterpolar": [
           {
            "marker": {
             "colorbar": {
              "outlinewidth": 0,
              "ticks": ""
             }
            },
            "type": "scatterpolar"
           }
          ],
          "scatterpolargl": [
           {
            "marker": {
             "colorbar": {
              "outlinewidth": 0,
              "ticks": ""
             }
            },
            "type": "scatterpolargl"
           }
          ],
          "scatterternary": [
           {
            "marker": {
             "colorbar": {
              "outlinewidth": 0,
              "ticks": ""
             }
            },
            "type": "scatterternary"
           }
          ],
          "surface": [
           {
            "colorbar": {
             "outlinewidth": 0,
             "ticks": ""
            },
            "colorscale": [
             [
              0,
              "#0d0887"
             ],
             [
              0.1111111111111111,
              "#46039f"
             ],
             [
              0.2222222222222222,
              "#7201a8"
             ],
             [
              0.3333333333333333,
              "#9c179e"
             ],
             [
              0.4444444444444444,
              "#bd3786"
             ],
             [
              0.5555555555555556,
              "#d8576b"
             ],
             [
              0.6666666666666666,
              "#ed7953"
             ],
             [
              0.7777777777777778,
              "#fb9f3a"
             ],
             [
              0.8888888888888888,
              "#fdca26"
             ],
             [
              1,
              "#f0f921"
             ]
            ],
            "type": "surface"
           }
          ],
          "table": [
           {
            "cells": {
             "fill": {
              "color": "#EBF0F8"
             },
             "line": {
              "color": "white"
             }
            },
            "header": {
             "fill": {
              "color": "#C8D4E3"
             },
             "line": {
              "color": "white"
             }
            },
            "type": "table"
           }
          ]
         },
         "layout": {
          "annotationdefaults": {
           "arrowcolor": "#2a3f5f",
           "arrowhead": 0,
           "arrowwidth": 1
          },
          "autotypenumbers": "strict",
          "coloraxis": {
           "colorbar": {
            "outlinewidth": 0,
            "ticks": ""
           }
          },
          "colorscale": {
           "diverging": [
            [
             0,
             "#8e0152"
            ],
            [
             0.1,
             "#c51b7d"
            ],
            [
             0.2,
             "#de77ae"
            ],
            [
             0.3,
             "#f1b6da"
            ],
            [
             0.4,
             "#fde0ef"
            ],
            [
             0.5,
             "#f7f7f7"
            ],
            [
             0.6,
             "#e6f5d0"
            ],
            [
             0.7,
             "#b8e186"
            ],
            [
             0.8,
             "#7fbc41"
            ],
            [
             0.9,
             "#4d9221"
            ],
            [
             1,
             "#276419"
            ]
           ],
           "sequential": [
            [
             0,
             "#0d0887"
            ],
            [
             0.1111111111111111,
             "#46039f"
            ],
            [
             0.2222222222222222,
             "#7201a8"
            ],
            [
             0.3333333333333333,
             "#9c179e"
            ],
            [
             0.4444444444444444,
             "#bd3786"
            ],
            [
             0.5555555555555556,
             "#d8576b"
            ],
            [
             0.6666666666666666,
             "#ed7953"
            ],
            [
             0.7777777777777778,
             "#fb9f3a"
            ],
            [
             0.8888888888888888,
             "#fdca26"
            ],
            [
             1,
             "#f0f921"
            ]
           ],
           "sequentialminus": [
            [
             0,
             "#0d0887"
            ],
            [
             0.1111111111111111,
             "#46039f"
            ],
            [
             0.2222222222222222,
             "#7201a8"
            ],
            [
             0.3333333333333333,
             "#9c179e"
            ],
            [
             0.4444444444444444,
             "#bd3786"
            ],
            [
             0.5555555555555556,
             "#d8576b"
            ],
            [
             0.6666666666666666,
             "#ed7953"
            ],
            [
             0.7777777777777778,
             "#fb9f3a"
            ],
            [
             0.8888888888888888,
             "#fdca26"
            ],
            [
             1,
             "#f0f921"
            ]
           ]
          },
          "colorway": [
           "#636efa",
           "#EF553B",
           "#00cc96",
           "#ab63fa",
           "#FFA15A",
           "#19d3f3",
           "#FF6692",
           "#B6E880",
           "#FF97FF",
           "#FECB52"
          ],
          "font": {
           "color": "#2a3f5f"
          },
          "geo": {
           "bgcolor": "white",
           "lakecolor": "white",
           "landcolor": "#E5ECF6",
           "showlakes": true,
           "showland": true,
           "subunitcolor": "white"
          },
          "hoverlabel": {
           "align": "left"
          },
          "hovermode": "closest",
          "mapbox": {
           "style": "light"
          },
          "paper_bgcolor": "white",
          "plot_bgcolor": "#E5ECF6",
          "polar": {
           "angularaxis": {
            "gridcolor": "white",
            "linecolor": "white",
            "ticks": ""
           },
           "bgcolor": "#E5ECF6",
           "radialaxis": {
            "gridcolor": "white",
            "linecolor": "white",
            "ticks": ""
           }
          },
          "scene": {
           "xaxis": {
            "backgroundcolor": "#E5ECF6",
            "gridcolor": "white",
            "gridwidth": 2,
            "linecolor": "white",
            "showbackground": true,
            "ticks": "",
            "zerolinecolor": "white"
           },
           "yaxis": {
            "backgroundcolor": "#E5ECF6",
            "gridcolor": "white",
            "gridwidth": 2,
            "linecolor": "white",
            "showbackground": true,
            "ticks": "",
            "zerolinecolor": "white"
           },
           "zaxis": {
            "backgroundcolor": "#E5ECF6",
            "gridcolor": "white",
            "gridwidth": 2,
            "linecolor": "white",
            "showbackground": true,
            "ticks": "",
            "zerolinecolor": "white"
           }
          },
          "shapedefaults": {
           "line": {
            "color": "#2a3f5f"
           }
          },
          "ternary": {
           "aaxis": {
            "gridcolor": "white",
            "linecolor": "white",
            "ticks": ""
           },
           "baxis": {
            "gridcolor": "white",
            "linecolor": "white",
            "ticks": ""
           },
           "bgcolor": "#E5ECF6",
           "caxis": {
            "gridcolor": "white",
            "linecolor": "white",
            "ticks": ""
           }
          },
          "title": {
           "x": 0.05
          },
          "xaxis": {
           "automargin": true,
           "gridcolor": "white",
           "linecolor": "white",
           "ticks": "",
           "title": {
            "standoff": 15
           },
           "zerolinecolor": "white",
           "zerolinewidth": 2
          },
          "yaxis": {
           "automargin": true,
           "gridcolor": "white",
           "linecolor": "white",
           "ticks": "",
           "title": {
            "standoff": 15
           },
           "zerolinecolor": "white",
           "zerolinewidth": 2
          }
         }
        }
       }
      },
      "text/html": [
       "<div>                            <div id=\"0e3a237c-767c-4fe2-9787-0475ed3af6c4\" class=\"plotly-graph-div\" style=\"height:525px; width:100%;\"></div>            <script type=\"text/javascript\">                require([\"plotly\"], function(Plotly) {                    window.PLOTLYENV=window.PLOTLYENV || {};                                    if (document.getElementById(\"0e3a237c-767c-4fe2-9787-0475ed3af6c4\")) {                    Plotly.newPlot(                        \"0e3a237c-767c-4fe2-9787-0475ed3af6c4\",                        [{\"hovertemplate\":\"Sensor=SF_NS5A_1bic<br>PC1=%{x}<br>PC2=%{y}<br>PC3=%{z}<extra></extra>\",\"legendgroup\":\"SF_NS5A_1bic\",\"marker\":{\"color\":\"#636efa\",\"opacity\":0.4,\"symbol\":\"circle\"},\"mode\":\"markers\",\"name\":\"SF_NS5A_1bic\",\"scene\":\"scene\",\"showlegend\":true,\"x\":[-1.7853126312392291,-1.5199022678940954,-1.3098881794231565,-1.1423866433195737,-1.0096673783871646,-0.9039935118007059,-0.82021835285218,-0.7544697122653614,-0.7003069807039142,-0.6590103371304827,-0.6254340844220365,-0.598804880486101,-0.5776977966976408,-0.5608255855441768,-0.5474227683510591,-0.5367281529555079,-0.5282087289129155,-0.5214946590526047,-0.515939835655869,-0.511651394486885,-0.5081129602596076,-0.5052363943354038,-0.5028720415136568,-0.5008614406591541,-0.499119348626152,-0.4975565479289584,-0.4960582605327958,-0.4946004871933287,-0.4930447232920198,-0.4913709776732011,-0.4894467582964727,-0.4871978507831937,-0.4844962485181482,-0.48122284075882543,-0.4772560620954969,-0.47223759196299697,-0.46631784051197306,-0.458634492425493,-0.4491521515691798,-0.4373446535203061,-0.4227333350036073,-0.4041790634429874,-0.3814130064474719,-0.3524858921795149,-0.31706821202803104,-0.27227156681787357,-0.21541391000722274,-0.14641877880767096,-0.06000592091169551,0.04924662124902957,0.1833265329449238,0.3530042843782317,0.5615673739197443,0.8279563428285496,1.153471455089403,1.5541577075427997,2.074226385895745,2.6736111587101146,3.466544804024575,4.352704785147967,5.6314126033502845,-1.7812716824626307,-1.5158611402721993,-1.3058468888533228,-1.1383452374938814,-1.0056256347425765,-0.8999586379889548,-0.8161828828894369,-0.7504336461516259,-0.6962701197221892,-0.6549724825637708,-0.6213948388363426,-0.5947567778975964,-0.57364711078817,-0.556772912464732,-0.5433612382688033,-0.5326489088676305,-0.5241157451593642,-0.5173879356333797,-0.5118173854009961,-0.5075220743991752,-0.5039787575090348,-0.5010884519191573,-0.4987152420945993,-0.4967046412400966,-0.4949625492070944,-0.49339287867706405,-0.49190146111373834,-0.4904169462416945,-0.4888611823403856,-0.4871805668887299,-0.48523647581226176,-0.4829539569335692,-0.4802660943341974,-0.4769941621724165,-0.47293881348097916,-0.46794929827736864,-0.46194097679823587,-0.4541889303833867,-0.4445765708580446,-0.4327003744808017,-0.4178216406383358,-0.3993360674060849,-0.3761651984280641,-0.3474441791452144,-0.31115555468806,-0.26622151282116435,-0.20869900668995026,-0.13970387549039848,-0.05191705102704098,0.0573354911336841,0.19408955608724987,0.3650674942108474,0.575004550319742,0.8427674857959293,1.1708829714373619,1.5887438059830337,2.078437660099389,2.7043934413464314,3.524806418008532,4.478926928730101,5.635453353409885,-1.7762205461711325,-1.5108030149176657,-1.300795624985512,-1.1332938229985865,-1.0005741010170832,-0.8948998369966298,-0.8111238831801144,-0.7453813175581431,-0.6912171949777142,-0.649918762951306,-0.616340125638891,-0.5897067486460104,-0.5685950943666098,-0.551718908873198,-0.5383032603373213,-0.5275889437661744,-0.5190547012108492,-0.5123209301749426,-0.5067375485998002,-0.5024323017481094,-0.4988701920052882,-0.49597284605842973,-0.49357289470129506,-0.4915335651442416,-0.4897567828987669,-0.4881424863063939,-0.4865907158450778,-0.4850527179078806,-0.48340372754193867,-0.4815894044273995,-0.47953147738778756,-0.4770823772795686,-0.47416758055268027,-0.4706748462974487,-0.4662038971529158,-0.46077890979646996,-0.4542845842944322,-0.4459290088996797,-0.43551440339703607,-0.4226985643857535,-0.4064827539144518,-0.3864540090682579,-0.36147993113823607,-0.3299399839532674,-0.2909085079100723,-0.24236067015146537,-0.1808808764866945,-0.10516347220441759,-0.009354187968045408,0.10860779724938541,0.25544527182703897,0.43986775611608675,0.6657759518939181,0.9605755394551913,1.3157276771817095,1.778657253332477,2.313714968562298,2.992074967903759,3.8659710097192916,4.874312384365218,6.069106610982762,-1.7358059770252885,-1.4703953156046587,-1.2603809429684136,-1.0928790551357452,-0.9601591344372447,-0.8544917402496283,-0.7707155877161154,-0.704965556110315,-0.6508010360958911,-0.6095088777513279,-0.5759290481369284,-0.5492952737100529,-0.5281816322606785,-0.5113034595972926,-0.49788383672146813,-0.48716554581037325,-0.478622446252237,-0.4718847008763826,-0.4662884879584813,-0.4619772795968686,-0.45839836417134056,-0.45548619971174925,-0.4530763125047447,-0.4510210855878994,-0.44921069197701097,-0.44756766668208736,-0.4459692829884548,-0.4443778019861041,-0.44269520025474857,-0.44079378270964226,-0.4386357593725604,-0.43607969313403466,-0.43303118874426266,-0.4292482162684405,-0.4247068635540981,-0.41903433257162487,-0.4121351950870818,-0.40331348736916395,-0.3924253715556459,-0.378875984895431,-0.3617205317900896,-0.3408208426382251,-0.31416619643752197,-0.28122047429534847,-0.24010361799896668,-0.18879817267890056,-0.12435467646756326,-0.04596311892761479,0.05389428513381102,0.17857854343396695,0.33481244435201724,0.5286313549814617,0.7674446733952377,1.0681319910013598,1.4435247278531458,1.9081463544695243,2.488567930812811,3.214278961241718,4.10191466873107,5.136259777182787,6.6441151192145,-1.6852897314474398,-1.4198791097702097,-1.2098647907875537,-1.0423627698144973,-0.9096428888593963,-0.8039752959547822,-0.7201987459872746,-0.6544555842143112,-0.6002902693318978,-0.5589971174023475,-0.5254229653188006,-0.4987868062879563,-0.47767804750144466,-0.46079391332813696,-0.4473703161123644,-0.43663919385851074,-0.4280832629576156,-0.4213169594033545,-0.4157079151426944,-0.41136326593981204,-0.40777350634149917,-0.4048425490292271,-0.4024089863066788,-0.40032610953434183,-0.39848607889798776,-0.39680240188066956,-0.3951635369887864,-0.39351857292128234,-0.3917488767593597,-0.3897939761491,-0.3875152470160375,-0.38483160514869413,-0.38160204206495113,-0.37763114106232104,-0.37270484806521303,-0.366913086884301,-0.35954781707659267,-0.3503899957045386,-0.3388983509111172,-0.3244780199452317,-0.3065816412032487,-0.2843374974348391,-0.2564070949459601,-0.22191820118984346,-0.17844854931450782,-0.12404938277884638,-0.05703961801573869,0.027387229323243976,0.13060576992603234,0.26269928459260444,0.4256554585933799,0.6261966423055495,0.8825026267098292,1.1987692202095674,1.5887591301629085,2.0614769964293935,2.6872624338861457,3.4198432971519632,4.334220537218031,5.510618738932087,6.830775198054449,-1.7357924360766122,-1.4703818342710815,-1.2603675045577076,-1.0928655340587687,-0.9601455934885683,-0.8544780005839544,-0.7707016493334442,-0.7049582888434833,-0.6507998437939069,-0.609506493147359,-0.5759319436298174,-0.5492961820329679,-0.5281854360764824,-0.5113081717360115,-0.4978825873502651,-0.4871474907564633,-0.47859445534845724,-0.4718241774542482,-0.4662023018508292,-0.4618585609708618,-0.45825398285981617,-0.45530820703481123,-0.45285783862955614,-0.45074731200172746,-0.44889535834552946,-0.4471712001299608,-0.4455124635383378,-0.4438270182725832,-0.44199696921267023,-0.43997558367035416,-0.43761589214079055,-0.4348184143103035,-0.43148801713031953,-0.4273291876008815,-0.42242106106207294,-0.41614670634113676,-0.40844532287929214,-0.39888268952473277,-0.3867875157514079,-0.37189367447464794,-0.35332506842439243,-0.33027130069097216,-0.30126385891131524,-0.26501832056843894,-0.22026553441721816,-0.16378836561607926,-0.09341746431160902,-0.007616650405244352,0.09965001002259766,0.23579164451422335,0.40416990490743443,0.6141812948370934,0.8732352123761372,1.1995114356228704,1.605301961101105,2.1085651757482236,2.717715454642206,3.5045171818323806,4.47924731988879,5.65638332037377,7.103147965644216],\"y\":[0.2900372873393588,0.3209416132238418,0.34539524178825115,0.36489832974237735,0.38035097081218455,0.3926537839620989,0.4024063079371855,0.4100591119647489,0.4163622822723276,0.4211663183554199,0.4250707652072203,0.4281656302259163,0.43061644879766964,0.432573243666342,0.4341255049892645,0.4353621831896455,0.4363443068512316,0.4371152854632668,0.43775011477735803,0.4382347901368679,0.43862874466606716,0.43894147785116766,0.43918944152166384,0.43938858433502853,0.4395478572959696,0.43967618641667683,0.4397814413802607,0.43986651472585836,0.43994127479800554,0.44000344801757846,0.44006192605314154,0.44011775760488425,0.4401747104488283,0.4402341834259657,0.44029919422983943,0.44038260552075975,0.44046332802973137,0.44057608174604107,0.440727101567207,0.4409072537091673,0.4411368281714388,0.4414370909096053,0.44181219220576873,0.44231236810946106,0.4429299744889158,0.443737612958655,0.44479215046032433,0.44611582118421145,0.44778317052783995,0.4500434317234935,0.4528841685187463,0.4566343434276563,0.4612166315353985,0.4674186451849895,0.4751755482198037,0.4847264654782354,0.4984568236405976,0.5128217622246879,0.5339032164179185,0.5555317832203692,0.5939592658209968,0.2093660756960668,0.24027040045588655,0.26472402799560263,0.28422711522494587,0.299679754170389,0.31198204383131745,0.3217345640575263,0.329387364336212,0.33569052964528706,0.34049455948024987,0.34439899758466896,0.3474943735960918,0.34994517592270846,0.3519019582951218,0.35345473061077115,0.3546924307966059,0.3556756014361639,0.35644762702617094,0.35708349082197494,0.35756868967047073,0.3579631801849149,0.3582769603479873,0.35852543501121037,0.35872457782457506,0.35888385078551616,0.35901270339520924,0.3591174348698072,0.35920290674180055,0.3592776668139477,0.3593403635225066,0.3593987165954794,0.35945547016260365,0.35951137602857586,0.35956745814661734,0.35963757887776004,0.35971550535364066,0.3598013377898812,0.35991932639605,0.36006386170145444,0.36024924873327385,0.36048280845950215,0.3607778363078095,0.36116739264764797,0.36165186388176285,0.3622866609429469,0.3631047691924045,0.3641607927062257,0.3654844634301128,0.3672565105709242,0.3695167717665777,0.372397361201398,0.3760826909526926,0.38076967685761764,0.3870763883043915,0.39470360102397484,0.4055632407471922,0.41665116146193526,0.4325490782266964,0.4557244883635839,0.4808925154771946,0.5132880554273307,0.1085270614543583,0.13943190895338836,0.16388501295163427,0.18338809923376104,0.19884073742942865,0.21114354808009117,0.22089606705667417,0.22854834259674806,0.23485150415694542,0.2396555289934046,0.2435599608496942,0.24665479962624623,0.24910558945660383,0.2510623593327581,0.25261510665588943,0.25385279434546515,0.25483539151100115,0.25560737961223107,0.25624372940824397,0.2567288657754446,0.2571238048013206,0.2574369740015939,0.2576858471912126,0.25788537603471395,0.2580449975370146,0.2581741362067722,0.2582801882231474,0.2583664571479321,0.2584417643476901,0.25850645368822733,0.2585669243557688,0.2586248971407051,0.25868334276626653,0.25874313658445924,0.2588219776190569,0.2589084994358022,0.2589969425475069,0.25912813657144834,0.25928462766872296,0.25949244027213086,0.2597459263181429,0.26007658515581145,0.26048880345348796,0.2610405514023684,0.2617204359929791,0.2626008224535926,0.26374529862786555,0.26525337242807046,0.26714497748758415,0.26957714550053147,0.2727343395498284,0.27678847545375845,0.28154503424129007,0.2889284439029314,0.29763235483738226,0.30979531235384783,0.32286472268103217,0.3401331662591525,0.36410562918738915,0.39176613864033133,0.4205208943140231,-0.6981845202429429,-0.6672801962328987,-0.6428265694554544,-0.623323483713166,-0.6078708467671243,-0.5955685596054476,-0.5858160418784906,-0.5781632465983085,-0.571860087537363,-0.5670565899387674,-0.5631521655802332,-0.560057329302933,-0.5576065519688345,-0.5556497945889391,-0.5540970722583258,-0.5528594095612682,-0.5518763014030053,-0.5511043382942934,-0.5504675024980716,-0.5499824036196481,-0.5495870035860814,-0.5492733608818583,-0.5490245501735347,-0.5488251213001055,-0.5486645777824233,-0.548535053082529,-0.5484287275023484,-0.5483416615247723,-0.5482654323096326,-0.5481990239009226,-0.5481374826167843,-0.5480779157262653,-0.5480174774687255,-0.5479470416309743,-0.5478743102243675,-0.5477836781810752,-0.5476807800256955,-0.5475468503636998,-0.5473706693328909,-0.5471561358274719,-0.5468802242098714,-0.5465323746904734,-0.5460740556237175,-0.5454971464651941,-0.544756706061829,-0.5437973234808292,-0.5425581465165926,-0.5410102200768203,-0.5389740645805563,-0.5363574934912912,-0.5329760437261091,-0.5286976521062938,-0.5232855501551217,-0.5161091722253505,-0.5066825091071481,-0.4952102196688994,-0.48015931972927384,-0.4609218827977362,-0.43590244189767113,-0.40953883559703685,-0.3634853047632196,-1.7065741266747834,-1.675669802414814,-1.6512161752999706,-1.6317130903949317,-1.6162604531989648,-1.603958167286914,-1.5942056520592087,-1.5865533802680125,-1.5802502262055707,-1.5754467348551047,-1.5715428414833117,-1.5684480202015223,-1.5659977788526687,-1.5640410589615505,-1.5624883616234553,-1.5612502129261887,-1.560266618767717,-1.5594931351770835,-1.558855813380653,-1.5583686580350629,-1.5579727595050281,-1.5576586682893732,-1.557408873084373,-1.557208484706785,-1.5570469941812033,-1.5569171584287265,-1.5568093873441784,-1.556721524313811,-1.5566435760304984,-1.5565763705689968,-1.5565121882013042,-1.5564494567382448,-1.5563850568553732,-1.5563101359033042,-1.5562228244904321,-1.5561329422226813,-1.5560273084292473,-1.5558841586134355,-1.5556947721648542,-1.5554630479777056,-1.5551634611626142,-1.5547787310279528,-1.5542887662357925,-1.553676226087908,-1.5528712446078317,-1.5518236457526298,-1.5504872687466247,-1.548807288129126,-1.5466789310947031,-1.5438256080305288,-1.540259755189029,-1.5357969604928958,-1.529871501952338,-1.5219997282193587,-1.5126081900157327,-1.5008467997039834,-1.4838144101519166,-1.4640534842344648,-1.438635516938725,-1.406364930577839,-1.3795318910076535,-0.6981834720153451,-0.6672791476304132,-0.6428255205830496,-0.6233224353606057,-0.6078697985395266,-0.5955675126274759,-0.5858149961501447,-0.5781627256085744,-0.5718600950351184,-0.5670566049342782,-0.5631527140617372,-0.560057890280696,-0.5576076614281014,-0.5556514650259691,-0.5540987801841328,-0.5528606564793844,-0.5518776108024166,-0.5511041522043011,-0.5504663444076617,-0.5499797500398346,-0.5495833780058501,-0.5492688132862454,-0.5490185570735543,-0.5488172091918079,-0.5486557936437801,-0.5485245123869359,-0.548416866264978,-0.5483275577302431,-0.5482482889051532,-0.5481809348424365,-0.5481138614660088,-0.5480490124083808,-0.5479818464793643,-0.5479024404129778,-0.5478263485553654,-0.5477111665764505,-0.5475963126292006,-0.5474387077697139,-0.5472361159033597,-0.5469847017826772,-0.546666674659954,-0.5462530344379425,-0.5457301742944752,-0.5450493441921723,-0.5441957626912117,-0.5431045623187353,-0.5416759837745713,-0.5398913053598898,-0.5376183978887166,-0.5346205243877921,-0.530805423312359,-0.5259488299455425,-0.5198139758106188,-0.5118351404179612,-0.5012395775467324,-0.4879702015723603,-0.47253327149608415,-0.4502798632393008,-0.42354135416629785,-0.3895753382574293,-0.3465377787488578],\"z\":[4.408508991898446,3.3870565263426298,2.578821158786853,1.934217732867006,1.423495166593815,1.0169041863136319,0.6946088698853506,0.44173559801306056,0.23349148199838624,0.07483724307710021,-0.05406328733342762,-0.15618513955660293,-0.2369805927950114,-0.30140844165686953,-0.3524458402463588,-0.39307117925894897,-0.4252631375167172,-0.450513925721329,-0.47130232507308184,-0.4871267545446102,-0.4999705392096485,-0.5101283288528502,-0.5181435922403577,-0.52450448644595,-0.5295065528274351,-0.5334443469765241,-0.5364998295680072,-0.5388259104154948,-0.5406512725700955,-0.541918350228426,-0.542804363620677,-0.5433224002051447,-0.5434979019934691,-0.5433539329756456,-0.5428911424224805,-0.5420479886673296,-0.5408898264900163,-0.5392064700082376,-0.5370137962312803,-0.5341777550889715,-0.530593798899077,-0.5259738826085596,-0.5202553989230471,-0.5129410692439974,-0.5039540654831449,-0.4925533937455838,-0.4780533886043207,-0.46042973235858525,-0.43834244372786546,-0.41035947418318364,-0.37598992409540277,-0.3324413043561413,-0.2789161282340415,-0.21043961658788174,-0.1267069178072995,-0.023634627563853525,0.11055784857307034,0.26477083800709117,0.4694182926034355,0.6975362434937762,1.0289146703208034,4.408307239204673,3.3868548180083295,2.5786194908689626,1.9340160935363322,1.4232936110532595,1.0167007534338253,0.6944055848704583,0.4415324608630828,0.23328854200162788,0.074634549521866,-0.05426563587052792,-0.15638511787140327,-0.23717993036184887,-0.30160728634065864,-0.35264231470784785,-0.39326291327583834,-0.4254511168551035,-0.45069815038121225,-0.4714823021714137,-0.48730485430369047,-0.5001472545125256,-0.5103012894772244,-0.518314182642432,-0.5246750768480244,-0.5296771432295094,-0.5336130600393469,-0.5366704199700815,-0.5389896946478335,-0.5408150568024342,-0.5420802571215133,-0.5429613416832801,-0.5434706947587609,-0.5436499512255883,-0.5435073885823057,-0.5430208958061414,-0.5421866577825377,-0.5410047933822252,-0.5393026635079314,-0.5370794748186488,-0.5342246602838248,-0.5305726423965748,-0.5259714994985725,-0.5201474073306742,-0.51288939782917,-0.5036794355837357,-0.4922412170611444,-0.4775745736128449,-0.45995091736710947,-0.4374881608860868,-0.409505191341405,-0.37445502428006894,-0.3306012554175551,-0.2767006114451524,-0.2078486319486897,-0.12350563492160282,-0.015739996549370576,0.11005154942678816,0.271375205760564,0.4835320173629663,0.7297201734979467,1.0287128683387239,4.408055036015377,3.3866045217312695,2.57836731932276,1.9337639593506646,1.4230415064405746,1.0164506247370013,0.6941555054619395,0.4412805534036174,0.2330367824070769,0.07438298708053442,-0.0545169518703353,-0.15663776903910895,-0.23743208864650614,-0.3018589517422675,-0.35289299434335997,-0.39351310002830187,-0.4257012094146251,-0.4509467642915886,-0.4717275600933933,-0.48754764781042803,-0.5003852133817213,-0.5105376755043327,-0.5185437624998047,-0.5248973576526131,-0.529890646332169,-0.5338153210248353,-0.5368571912768473,-0.5391628536151282,-0.5409647457692898,-0.542195915239691,-0.5430478977832642,-0.5435152396883506,-0.543636995306061,-0.5434381059656426,-0.5428450627776714,-0.5418993455117769,-0.5405952022787843,-0.5387381756172643,-0.5363108018359153,-0.5332142554239944,-0.5292219290499668,-0.5242241574876415,-0.5179424068307696,-0.5099592016979748,-0.5000498490864702,-0.48768928171322684,-0.47200642245169955,-0.4526460644085507,-0.4281414570068624,-0.3979289026163635,-0.3602736828589073,-0.3129465104015668,-0.2550324833148833,-0.17909305917466598,-0.08766261750382451,0.03176705040189755,0.16950390081974837,0.34434570368252815,0.5701148547560352,0.8306185376326258,1.1380625189004667,4.406038942822139,3.384586551198779,2.5763512541252784,1.931747915445731,1.4210255118239459,1.0144327527811212,0.692137682794364,0.4392647559402079,0.2310210835202772,0.07236555871939769,-0.05653408450164301,-0.15865480309380695,-0.23944862981815573,-0.30387500003086876,-0.3549080568658644,-0.3955271767847095,-0.42771291594873273,-0.45295748505959943,-0.4737349248730074,-0.48955353394089696,-0.5023867577576967,-0.512535371008863,-0.5205389935890931,-0.5268886456775141,-0.531873250848083,-0.5357906264879654,-0.5388207617397577,-0.5411128117385675,-0.542906020383742,-0.5441148940056851,-0.5449415292095676,-0.5453816464357117,-0.5454693712047445,-0.5451946785874044,-0.5445859069785601,-0.543577056845794,-0.5421673051304158,-0.5401929284667,-0.5376411728104499,-0.5343592146989775,-0.5301251564478531,-0.524904426400946,-0.5181885002947209,-0.5098462132826332,-0.49939707673938954,-0.4863230552546657,-0.4698704217041125,-0.44982944668740843,-0.42426875446186196,-0.39231949827394963,-0.35224695974552495,-0.3025024685172158,-0.24116213430675584,-0.1638143797483778,-0.06710351395824564,0.05253776208767782,0.2022199169472208,0.3894999073000964,0.6190237368766324,0.8856304022182695,1.2766192399737557,4.403518295385397,3.3820658939043766,2.5738305835230335,1.92922727786665,1.4185048643872038,1.0119121546326841,0.6896171832225366,0.43674237902912894,0.22849890376241752,0.06984362540306224,-0.0590575994274009,-0.16117772655990678,-0.24197293774045867,-0.3063978293040264,-0.35742990037292527,-0.39804566430337374,-0.4302280474790002,-0.45546501303991876,-0.47623909686493,-0.49204871792666827,-0.5048790786381196,-0.515022857251744,-0.5230202607382289,-0.5293627079668083,-0.5343396153944868,-0.5382467346832948,-0.5412663090868486,-0.5435447467461872,-0.5453156595429036,-0.5465109208253757,-0.5473065766718129,-0.5477138372012602,-0.5477550929341252,-0.5474320539413657,-0.5467226026806197,-0.5456841795649493,-0.5441570778473751,-0.5420958660937886,-0.5393892136503123,-0.5358842970542583,-0.5314577952308773,-0.5258897248244877,-0.5188452317512949,-0.5101063160748843,-0.49904933390254597,-0.48517502321647094,-0.4680511919865726,-0.44646124909760665,-0.42003220597335345,-0.3861585140628763,-0.3443492737370383,-0.29286808071131576,-0.226998258082171,-0.1455435794264612,-0.04519479837235121,0.07655864732128848,0.23818610662252354,0.4273434362269136,0.663673435539002,0.9675946633509269,1.3057857795040027,4.4060426482123365,3.384590241802486,2.5763549340827114,1.9317516159070989,1.421029217214144,1.0144365074596242,0.6921414867611719,0.43926673185606907,0.2310213792501062,0.07236615017905577,-0.05653497607479771,-0.15865520178391326,-0.23944992008141674,-0.30387668898423603,-0.3549082671700865,-0.3955230453344381,-0.4277063200832193,-0.4529422998780411,-0.47371302771465557,-0.48952304746650016,-0.5023495593065065,-0.5124894890486856,-0.5204825507806771,-0.5268177931494146,-0.5317917432788027,-0.535688301719372,-0.5387029472924418,-0.5409708241035419,-0.5427262472215356,-0.543904844673304,-0.5446793788232641,-0.5450575373345178,-0.5450727425404215,-0.5447013571722427,-0.5439998797136227,-0.5428330878219884,-0.5412191510145435,-0.5390523307785712,-0.5361907815478687,-0.5325614830769138,-0.5279613110737914,-0.5221820237026301,-0.5148582519673103,-0.5056593555763261,-0.49426677456431506,-0.47985971181920595,-0.46186752969060085,-0.439902118951332,-0.41241699100322077,-0.3774872142688855,-0.3342464212688864,-0.28027759074514474,-0.21365683241539407,-0.12966741979061489,-0.0250007584580214,0.1048491202321808,0.2618303278756797,0.4653031842216803,0.7171228622563877,1.0217472773388183,1.3965432491011796],\"type\":\"scatter3d\"},{\"hovertemplate\":\"Sensor=SF_NS5A_5bic<br>PC1=%{x}<br>PC2=%{y}<br>PC3=%{z}<extra></extra>\",\"legendgroup\":\"SF_NS5A_5bic\",\"marker\":{\"color\":\"#EF553B\",\"opacity\":0.4,\"symbol\":\"diamond\"},\"mode\":\"markers\",\"name\":\"SF_NS5A_5bic\",\"scene\":\"scene\",\"showlegend\":true,\"x\":[-1.7875492269244864,-1.5221536763851637,-1.312150471830409,-1.1446557999210922,-1.0119390104249435,-0.9062690840736038,-0.8224912850766493,-0.7567400044414017,-0.7025715782966876,-0.6612762178575321,-0.6276936914672411,-0.6010654811162928,-0.579973528012488,-0.5631130693547239,-0.5497386398158688,-0.5390527108989844,-0.5305497514908107,-0.5238393149221598,-0.5182595666386773,-0.5139313820702137,-0.5103335032678609,-0.5073689345901752,-0.5048820593266174,-0.5027272476847344,-0.5007867240004275,-0.4989663881251421,-0.4971771247096178,-0.4953329354898434,-0.49329605364605217,-0.49100453122678384,-0.48835335552298625,-0.48517974212790954,-0.48137555612607746,-0.4766904221523072,-0.4710805563543891,-0.46414420577382315,-0.4559250440748485,-0.44556983916968274,-0.43300345152446923,-0.4172875267462659,-0.39814211855720644,-0.3745581130502235,-0.3455870725383612,-0.30974585750723854,-0.2647887841391446,-0.2100576081565668,-0.14112331285762086,-0.05728147607188216,0.04667486330183127,0.17560561666845986,0.3337069789036812,0.5290014870749759,0.7711808287376314,1.060710776368171,1.4236229921642263,1.8604569769497694,2.384952447928265,3.0207849592906686,3.775732731200914,4.626120235232866,5.74636261038908,-1.7835079403289924,-1.5181116034478872,-1.3081082399195347,-1.1406133692932208,-1.0078956940967907,-0.9022246833281727,-0.8184466856142206,-0.7526934348614136,-0.6985238334671294,-0.6572258159271307,-0.6236430908198423,-0.597013886883907,-0.5759150639472652,-0.5590614751223382,-0.5456781885806721,-0.5349991294966248,-0.526496170088451,-0.5197768765169892,-0.5141951410635327,-0.5098649693250951,-0.5062631161827943,-0.5033014429979975,-0.5008174632273288,-0.49864584590273886,-0.49671310037418387,-0.4948927644988984,-0.49309049921647125,-0.4912134364300541,-0.4891628149205891,-0.48683841893467805,-0.48414062999856394,-0.48089979387266,-0.4770566022701192,-0.47222328316902074,-0.46646523224377423,-0.45943122840594963,-0.45067723605544074,-0.4400472378367985,-0.4269386415523415,-0.4106118098065255,-0.39071809799311513,-0.3663170905334123,-0.33626163274306275,-0.29871033749042186,-0.2528675638412388,-0.196563704293881,-0.12674370871384597,-0.042322773350317436,0.06499470256475855,0.19399923580847964,0.3547747513013726,0.5494560560660687,0.7895006680005585,1.082465532049553,1.4385079150086986,1.8753418997942417,2.403811710720698,3.0425397149720514,3.7945919939933472,4.676774217608989,5.810756258439023,-1.7784561567976096,-1.5130597404297057,-1.3030564166447525,-1.1355615460184385,-1.0028443590882947,-0.8971735470366742,-0.8133951518887274,-0.7476419011359202,-0.6934723905739277,-0.6521736860506451,-0.6185903647923645,-0.5919609621394318,-0.5708601520328161,-0.5539996933750521,-0.54061839400336,-0.5299324650864757,-0.521427518508328,-0.5147102121068403,-0.5091284766533838,-0.5047983049149461,-0.5011915691097825,-0.4982298959249857,-0.4957390463214799,-0.4935851430025119,-0.4916346834683351,-0.4898212174258866,-0.4880120823106225,-0.48616176105678205,-0.48408439801474024,-0.48179361339424287,-0.47906147529394427,-0.4758343788337141,-0.47188813973861965,-0.4671235189658902,-0.4613166414120145,-0.4542428941747102,-0.4456189204932303,-0.43479020527719003,-0.4215442123359948,-0.4052787009308387,-0.385178894132321,-0.3606331120281707,-0.33043287959337375,-0.29239331805443985,-0.24694797840005295,-0.18966758628010916,-0.1197567584085773,-0.03445012276395971,0.07156716646082677,0.20057169970454786,0.3573728752494797,0.5541151298652489,0.7888114352843956,1.0804761126431006,1.4305569856803044,1.8585339676549568,2.3701980958746,3.015795932962863,3.7647821949511666,4.629079888800984,5.68136173435902,-1.7380486363299004,-1.4726522199619965,-1.262648030348462,-1.095153159722148,-0.9624354845257179,-0.8567651607403837,-0.7729862773261506,-0.7072339122736244,-0.6530639134453455,-0.6117665828886305,-0.5781836590643447,-0.5515534615434224,-0.5304546386067808,-0.5136010497818536,-0.5002197504101615,-0.4895318343233033,-0.4810288749151296,-0.4743164511765047,-0.4687327285530742,-0.46440255681463666,-0.4608007036723359,-0.4578350561475911,-0.4553490892069484,-0.45318235454522143,-0.45124166033677054,-0.44942819429432196,-0.4476259290118948,-0.4457557360583145,-0.44367224098220676,-0.4413409751634589,-0.43860957486193114,-0.4353564746678952,-0.431390363873061,-0.42651730137248284,-0.4207195070477568,-0.4133692612555357,-0.4046078909173176,-0.3936417790445391,-0.37992227579246945,-0.363450669402206,-0.3427399556360756,-0.31744586990757445,-0.286085143878212,-0.2480455823392781,-0.20053929283381816,-0.14257191743018338,-0.0719741062749605,0.014201177236341848,0.12159243302851036,0.2526579161233045,0.4115200415193094,0.6062751261610981,0.8416584148639358,1.1375187718018793,1.4895868148130638,1.9184721197026848,2.432123417896309,3.054045739440849,3.8079146642920816,4.629006191146456,5.729376866562864,-1.6875343551626896,-1.4221377996928874,-1.2121341182173389,-1.0446381631737465,-0.9119200905433217,-0.8062491706069953,-0.7224688053414889,-0.6567145610036949,-0.6025428816071453,-0.5612425873478835,-0.5276576763536237,-0.5010204102828671,-0.4799176130062775,-0.4630551671785394,-0.44966302363406246,-0.4389731203772302,-0.43046419945913456,-0.4237409315477248,-0.4181443775815354,-0.4138062571632019,-0.4101944681710313,-0.40721689762644264,-0.4047061763231972,-0.40251956996173044,-0.40055122589778774,-0.39866440509044593,-0.3968155265757023,-0.394858239191555,-0.39270065155178313,-0.3902555497698914,-0.3873835719726432,-0.383894454421941,-0.37978237189609115,-0.37454424081248733,-0.36832176280551604,-0.36050708993157016,-0.3511421906134487,-0.3394351531040286,-0.32497472421531726,-0.30721998354916863,-0.28522613550715314,-0.25824410352026145,-0.22471454293392473,-0.18410871284322045,-0.13383743778859208,-0.07153239327100876,0.0032952022922614235,0.09716929145887483,0.21066961692717,0.35059210283285486,0.522359350864804,0.7294063547359385,0.9818166657768667,1.2885211954996818,1.663185906995577,2.1186422203178696,2.6460331841853146,3.2945265141625266,4.046408269039779,4.9933144810765615,6.046334125405524,-1.7380402497088463,-1.4726435531499757,-1.2626397524442288,-1.0951442856669227,-0.9624256168855058,-0.8567542995151844,-0.7729738263649721,-0.7072194741424721,-0.6530470907102246,-0.611745405431981,-0.5781581098337524,-0.5515178630080348,-0.5304062087286343,-0.5135397885609483,-0.5001436706765234,-0.48944093607693234,-0.4809211709860518,-0.4741830845619092,-0.46857858191582397,-0.4642265513076726,-0.4605939822928472,-0.4575847875528189,-0.4550541945498336,-0.4528359639929272,-0.4508061881839352,-0.44887275414427685,-0.44694291323303215,-0.4448916615854809,-0.4426141059484992,-0.44002155683805017,-0.43690669185129877,-0.43325712510513614,-0.4288081911263792,-0.42319420298915944,-0.41643859957209434,-0.40806014111772465,-0.3978856178345925,-0.38523155970342343,-0.3697554118645941,-0.35051881992516215,-0.326768327296387,-0.2976248387402303,-0.2617964249278904,-0.21773862600432675,-0.16312968183574983,-0.09717395148790904,-0.015442418258919965,0.08454074058382009,0.20819825555329552,0.35491679441879803,0.5368412319519276,0.7587805284329869,1.0220350122587862,1.3553105504142735,1.7379239418060908,2.213081430724146,2.791627241482954,3.479522922651691,4.281651201505338,5.241388756300973,6.381502831196991],\"y\":[0.28986417448851365,0.3207678568262417,0.34522098714410837,0.3647237782496805,0.3801763782172222,0.39247898946929766,0.40223178018738076,0.40988485095794075,0.41618843880708223,0.4209924262901537,0.4248974003798177,0.4279922716466432,0.43044205198780605,0.43239778738224754,0.4339473937714634,0.4351824265273325,0.4361618202776579,0.4369305549786411,0.4375646608636021,0.43804908629793143,0.43844380039114494,0.4387588136221814,0.43901054033175807,0.43921444317713904,0.43938096865243564,0.4395195787550827,0.43963717116777296,0.43974021537873187,0.4398368843029471,0.43992974072475843,0.44002558235678646,0.44013056782648974,0.44024858987248017,0.4403926890560301,0.4405550384031935,0.44075672779683994,0.44099299745050297,0.44129295757583936,0.4416625931451869,0.4421241797136385,0.44269925690661344,0.44341557519545693,0.4443126794653827,0.4454380701278682,0.44691372567172316,0.4487242678235171,0.4511252529532935,0.4540556297860929,0.45787941636849816,0.462622704453501,0.46876919039404646,0.4764384411098266,0.48653290063773413,0.4985963040136153,0.5144483754301358,0.5338023868772803,0.557705322327537,0.5871416829581095,0.623195943018723,0.664883604332504,0.7207415941489591,0.2091929607208577,0.24009669478267137,0.2645498241008373,0.2840526139567835,0.2995052650235979,0.31180792612532016,0.32156071559377736,0.32921388731325685,0.33551758110982144,0.3403217218907109,0.344226694730749,0.347321559749445,0.3497718635795938,0.3517270754850494,0.3532771928669921,0.3545117021338753,0.35549109588420064,0.35626034157791076,0.35689443496661266,0.35737884790468305,0.35777353700537856,0.358088001754911,0.35833917998298376,0.35854354383605547,0.3587089848446032,0.3588475949472502,0.35896453890836433,0.35906680970515686,0.3591645256073439,0.35925660861498887,0.35935272381082234,0.3594595533112888,0.3595756300025507,0.35972446422559884,0.3598915486122604,0.36010395771080567,0.36034819789238215,0.36066909757715515,0.36106365796989603,0.3615554042516,0.3621711109375457,0.3629332936092191,0.3638802475259315,0.3651195561394157,0.36664631095595973,0.3685603012790341,0.3710123856814995,0.3740524588150913,0.37796844693565557,0.3828812779754566,0.3890676165555695,0.39685406132755646,0.4066219312048915,0.4189470790737298,0.43427566150433605,0.4536296729514805,0.47750761588368934,0.5074924580182241,0.5429982365748754,0.5844859577442728,0.6413909255325564,0.10835399907797287,0.13925773263993624,0.16371086220802739,0.18321365206397355,0.19866624953226347,0.2109689118836116,0.22072169885281703,0.2283748705722965,0.23467850827108477,0.23948270140087285,0.24338767049203328,0.24648253426110336,0.2489328255949931,0.25088856098943463,0.2524386908676363,0.25367372362350543,0.2546531048775718,0.2554223630675409,0.25605645645624286,0.2565408693943132,0.2569360944802536,0.25725055922978607,0.25750226094684475,0.2577056028144627,0.25787206580846417,0.2580101524221253,0.2581276198722254,0.2582294921426222,0.25832760657120496,0.25841876756346827,0.25851750020423137,0.25862328272672597,0.2587472117527766,0.25889081108596557,0.2590632553250765,0.25927541449844127,0.2595261391957793,0.25984578925464996,0.2602508194271091,0.26075428511443377,0.2613856964699569,0.2621753032168284,0.2631496812087389,0.26444258834671697,0.2659718424150657,0.2679930297871278,0.27050121196589183,0.27359238437217265,0.27757321765035226,0.2824860486901533,0.2886973797883141,0.29664087125607536,0.30632903585427546,0.31871902888072917,0.33408510008840736,0.35292811880866154,0.37634505405007596,0.40685338517052494,0.44294513400821034,0.4845453215088235,0.5368638510141185,-0.6983581049836509,-0.6674543714216875,-0.6430011906293611,-0.6234984007734149,-0.6080457497066005,-0.5957431409537769,-0.5859903003860469,-0.5783371797658402,-0.5720334884685274,-0.5672294000365365,-0.5633244284461243,-0.5602295696755578,-0.557779265845409,-0.5558240539399535,-0.5542739240617517,-0.5530389038021416,-0.5520595100518163,-0.5512907878470921,-0.5506567069546492,-0.5501722940165789,-0.5497776049158833,-0.5494631651588688,-0.5492119994270552,-0.5490081715592284,-0.5488427805357168,-0.5487046939220557,-0.5485877499609415,-0.5484860026531349,-0.5483890601651142,-0.5482964536684835,-0.5481994164572683,-0.548094930837926,-0.5479711267744656,-0.547822542476598,-0.5476557080151169,-0.5474339538001656,-0.5471727593231092,-0.5468426394845203,-0.546417919378527,-0.5458987490216248,-0.5452371779528493,-0.544406941713007,-0.5433605248889709,-0.5420676177509929,-0.5403813169868699,-0.5383077807162163,-0.5357472496388609,-0.5324915327813914,-0.528406001706029,-0.5233361239704536,-0.5169677461765185,-0.5090117584497333,-0.49927124495294184,-0.48639761558014133,-0.47104404063148714,-0.45164004414824677,-0.4282356051658563,-0.398711770722116,-0.36208403663949235,-0.3236122867953407,-0.26762933438864595,-1.706747982407216,-1.6758442497199908,-1.6513911224012263,-1.6318882826956331,-1.6164356341280706,-1.6041330291241247,-1.5943801412059997,-1.5867269757346498,-1.580423238336568,-1.5756190552037872,-1.5717140961096339,-1.5686187150997075,-1.5661684362620767,-1.5642127133638943,-1.5626620849892245,-1.5614270772258736,-1.5604477209643253,-1.5596785002631333,-1.5590439333704815,-1.5585595704174473,-1.558164943798047,-1.5578505790185866,-1.5575990022641182,-1.5573952993588815,-1.5572289488312114,-1.557090190127349,-1.5569729726024295,-1.55686950622645,-1.5567701962186802,-1.5566754721274807,-1.5565759187953014,-1.55646328363874,-1.5563398308244254,-1.5561765415577022,-1.5559953770151362,-1.5557595426442807,-1.5554851427494516,-1.555131347713372,-1.5546829524098877,-1.5541151820321013,-1.5534050109424415,-1.55251171963804,-1.5513656035204306,-1.549975496340684,-1.548193245160695,-1.545920310302895,-1.543103033236192,-1.539555716253417,-1.5351685880455301,-1.5295877175830646,-1.5225637966254888,-1.5138350716788562,-1.5031249216268756,-1.489752795786209,-1.472841250138836,-1.4519042754749247,-1.4274528585207058,-1.3963960458962945,-1.359755815554647,-1.3130082120080593,-1.2589942529547817,-0.6983576477019148,-0.667453915901924,-0.643000789332935,-0.6234980032258666,-0.6080453584071817,-0.5957427559024875,-0.5859899253317647,-0.578336817207817,-0.5720331409060151,-0.5672289665206156,-0.5633240224219732,-0.5602286601564352,-0.5577778703260776,-0.5558221724204132,-0.5542715690382617,-0.5530360752747018,-0.5520562205166856,-0.5512865263115437,-0.550652009403928,-0.550167733924707,-0.5497726712901339,-0.549457371999033,-0.5492059202071548,-0.5490012827902776,-0.548834185194852,-0.5486951529271844,-0.5485750443935299,-0.5484693354603914,-0.5483690797986152,-0.5482713160974655,-0.5481630897390811,-0.5480480634241456,-0.5479136950264671,-0.5477414355311087,-0.5475409559427793,-0.5472916662289704,-0.5469883562467914,-0.5465951813436433,-0.5461021712832316,-0.5454870505104634,-0.5447085894663851,-0.5437325531638901,-0.5424932222684691,-0.5409548157742651,-0.5389731660071295,-0.5365531814607744,-0.5334393057651564,-0.529590391649857,-0.524757115872695,-0.5188222993791134,-0.5113522308522629,-0.5019804590010137,-0.49077181248116675,-0.47586670845982915,-0.45900514784855206,-0.43705868398988434,-0.40952881441529976,-0.3764530234013755,-0.3372953182023484,-0.2900617144469184,-0.234328687220703],\"z\":[4.407896970310342,3.386440605279676,2.57820236476089,1.9335971322588852,1.4228739346570254,1.016281907711313,0.693987332799438,0.4411148024435545,0.23287223758858613,0.0742176630684604,-0.054681137867730406,-0.15680323653242992,-0.23760278946747534,-0.3020339001247881,-0.3530792067613897,-0.393707220493444,-0.4259041295000342,-0.45115651246507116,-0.4719389030273011,-0.4877534748378613,-0.5005821685142833,-0.5107172636189206,-0.5187007502687703,-0.5250241415260081,-0.529974389432397,-0.5338446651234452,-0.5368236412507362,-0.539047636071781,-0.5407460358249587,-0.5418493074841066,-0.542542180636421,-0.5428140405171993,-0.5426952579685655,-0.5421725243474654,-0.5412692492182839,-0.5399105173170562,-0.5381300073984799,-0.5357215204813157,-0.5326910759138819,-0.5287919832709148,-0.5239689831750207,-0.5179645454854876,-0.5105353608554968,-0.5013015006887023,-0.4896675137791192,-0.4754767688213165,-0.45754613808460165,-0.4357198249246935,-0.4085875945299345,-0.37492616271870843,-0.33354079063232284,-0.2823899248630019,-0.21877551717187319,-0.1427212856697536,-0.04716395744082831,0.06794326647306274,0.20635486623302193,0.37428978682765246,0.5740238096873634,0.7993378906525888,1.0964402070608588,4.4076953014066875,3.3862391487540973,2.5780009476659553,1.9333957644522555,1.4226728038726253,1.0160810632374475,0.6937865376138775,0.44091453059075875,0.23267229191533592,0.07401842846190021,-0.05488032318598577,-0.1570021754091611,-0.23779985100495496,-0.30223283900151926,-0.3532757754158209,-0.3939056664871267,-0.42610257549371694,-0.451352588236454,-0.4721344859156355,-0.4879485648431473,-0.5007762727534726,-0.5109122594312645,-0.518896637654269,-0.5252156871570133,-0.53016821109276,-0.5340384867838082,-0.5370144114198667,-0.5392304259191949,-0.5409250709938696,-0.5420203623313009,-0.5427015004833957,-0.5429559933461999,-0.5428280563238685,-0.5422668339883172,-0.5413250701446843,-0.5399386491193944,-0.5380220158061071,-0.5355384353188823,-0.5323648354840324,-0.528303814181134,-0.5232813386402784,-0.5170586521132686,-0.5093431569484456,-0.4996469938414774,-0.48777598470190253,-0.4731604835889565,-0.4549928306222499,-0.4329882028314003,-0.40498762153793455,-0.37125587099965796,-0.32918988193971715,-0.27815643136849705,-0.2151755441798733,-0.13818264305199643,-0.044502654074585694,0.0706045698393053,0.21000193569607206,0.3788284294454097,0.5776708791504136,0.8108710888900994,1.1117280838013983,4.407443276093657,3.385987143156389,2.5777489322105853,1.9331437489968857,1.4224206499716356,1.015828860048153,0.6935344330011928,0.4406624259780739,0.2324201474336405,0.07376647171412988,-0.05513213206884156,-0.15725393500371204,-0.2380511177164575,-0.3024822283737703,-0.3535256576711203,-0.3941536714031747,-0.42635008752671644,-0.45160059315250195,-0.4723824908316835,-0.48819656975919523,-0.5010228932133173,-0.5111588798911093,-0.5191413807748622,-0.5254651707222063,-0.5304129542133532,-0.534285107243653,-0.5372591545404599,-0.5394819752095237,-0.5411698141144629,-0.5422737889608812,-0.5429455404167185,-0.5432037879580257,-0.5430476908469215,-0.5425052419038854,-0.5415496334982215,-0.5401533548119634,-0.5382672364110014,-0.5357343676189362,-0.5325232209990559,-0.5284739412159677,-0.5233951454975666,-0.5171278803128215,-0.5093678064902631,-0.4995331977629839,-0.48776076523308975,-0.47286837287952166,-0.45466085090218467,-0.4324192008813433,-0.40472376871112986,-0.3709920181728532,-0.3299117952097199,-0.2783151428630455,-0.21669548962153226,-0.14000773761690766,-0.04780639778470826,0.06493060382926445,0.19998621519249785,0.37069004819334994,0.5689454219078496,0.7977096842119015,1.0767417953755316,4.405425261201692,3.3839691282644244,2.5757311494120207,1.931125966198321,1.4204030056186912,1.0138110772495885,0.6915167886482482,0.43864454460289937,0.2304024045040863,0.07174835331672541,-0.05715034904285574,-0.15927195482450685,-0.24006963042030074,-0.3045026184168651,-0.3555460477142151,-0.39617356856322106,-0.42837047756981117,-0.45362236765179986,-0.4744037724479329,-0.4902178513754447,-0.5030455592857699,-0.513180560197465,-0.521164445537421,-0.5274848794963685,-0.5324354318999217,-0.5363075849302213,-0.5392835095662799,-0.5415014014048596,-0.5431880661578177,-0.5442814801559974,-0.5449539347991053,-0.5452060793579474,-0.5450450534163592,-0.5444739734198399,-0.5435223519152389,-0.5420540246305623,-0.54013035944457,-0.5375599438674745,-0.5342244153726934,-0.5301188154120596,-0.5248780910337274,-0.5184113504040208,-0.5103391607814098,-0.5005045520541307,-0.4881689177487822,-0.4730887914700626,-0.4546935355675742,-0.4321844136003207,-0.40411351357980435,-0.3698185612660733,-0.3281751365274857,-0.27707136722921505,-0.2152639800625503,-0.13737950577996638,-0.044685282899363195,0.06845040882091277,0.20399890323254993,0.3684836424883539,0.5681234724059644,0.7851308161525251,1.0773043020767572,4.40290403982878,3.381447941393326,2.573209819166472,1.9286049222633064,1.4178820602602862,1.0112902797560979,0.6889963760419023,0.43612461546030784,0.22788290953694404,0.06922962812387215,-0.05966858135266057,-0.1617882605067553,-0.24258495033645242,-0.30701556811071684,-0.35805613430271854,-0.39868316226867606,-0.430878592626121,-0.4561276196027613,-0.47690566841049764,-0.4927177758058158,-0.505543019300899,-0.5156750629143037,-0.5236526349675725,-0.529968140096036,-0.5349114876397473,-0.5387650995000918,-0.5417292891359308,-0.5439248851260522,-0.5455923055217848,-0.5466566175017709,-0.5472931639569493,-0.5474838207656115,-0.5472864156713836,-0.5466195848534464,-0.5455574260359757,-0.5439687037774611,-0.5418901418042427,-0.5391272826548906,-0.535599310587853,-0.5311581117875467,-0.5255817885695419,-0.5186738406177768,-0.5100290299255016,-0.49952322351887724,-0.4864671032293432,-0.4702417348112947,-0.4507106560636875,-0.4261879410583986,-0.3964977544385697,-0.3598325798249204,-0.3147628479625563,-0.2603501867386101,-0.19399008889726008,-0.11324250926635414,-0.014423385582803604,0.1058229730372273,0.24512614595189358,0.4167215521074525,0.6158684989766593,0.866856335134683,1.146591633568819,4.405427497414319,3.3839714339735614,2.57573334131969,1.9311283059709046,1.4204055918327987,1.0138139099052204,0.6915200156103188,0.43864826444801847,0.23040671580886343,0.07175377941392543,-0.057143838602949235,-0.15926277843247136,-0.24005709803986855,-0.30448673004803617,-0.3555263104739411,-0.3961499824515019,-0.42834254970359853,-0.45358772780879364,-0.4743638050843364,-0.49017246229831574,-0.5029923782728086,-0.5131162312602747,-0.5210888744830595,-0.5273961889855842,-0.5323239526576308,-0.5361658295177558,-0.5391088974571175,-0.5412803202595293,-0.5429174644850872,-0.5439439909378924,-0.5445171723036394,-0.5446669920938882,-0.5443820487225192,-0.5436185251537433,-0.5424171979699195,-0.5406834365851467,-0.5383936576471567,-0.5353820347480028,-0.531586525538648,-0.5267604395938288,-0.5207241356612503,-0.513250598512526,-0.5040026518382611,-0.4925886255222997,-0.4783872630934368,-0.46120438646121104,-0.4398568678949298,-0.41371486629032833,-0.3813493082473289,-0.3428771131092156,-0.29513200982368093,-0.2368001584275544,-0.16757695523788238,-0.07971870870722148,0.021071947169944146,0.14655163343821553,0.2995832571039878,0.4816453185560276,0.6941220260700373,0.9484658506247866,1.250496997517094],\"type\":\"scatter3d\"},{\"hovertemplate\":\"Sensor=SF_NS5A_5bicp24<br>PC1=%{x}<br>PC2=%{y}<br>PC3=%{z}<extra></extra>\",\"legendgroup\":\"SF_NS5A_5bicp24\",\"marker\":{\"color\":\"#00cc96\",\"opacity\":0.4,\"symbol\":\"square\"},\"mode\":\"markers\",\"name\":\"SF_NS5A_5bicp24\",\"scene\":\"scene\",\"showlegend\":true,\"x\":[-1.8674699093875677,-1.6020668871574941,-1.3920537525281427,-1.2245467716471823,-1.091814925246255,-0.9861261096397236,-0.9023277578717208,-0.8365547492158554,-0.7823625511530866,-0.7410443044961574,-0.707447243572203,-0.6807972314207595,-0.659689551481307,-0.6428251184835949,-0.6294309877691441,-0.6187371101723639,-0.6102153579115093,-0.6034772714873667,-0.5978639118384705,-0.5935050113974824,-0.58986557254982,-0.5868426381441179,-0.5842845658097849,-0.582033802734524,-0.580003289126761,-0.5780485077898211,-0.576064446014652,-0.573984977236982,-0.5716715968382741,-0.5690500927989355,-0.5659062728832945,-0.5620834847186674,-0.5574750689871196,-0.5517742160632315,-0.5447347361035403,-0.536272823345383,-0.5256100337759577,-0.5124603313707865,-0.4960076509593714,-0.4757110721435659,-0.45088583666299875,-0.4199732439836497,-0.3825596870700971,-0.33667376012166705,-0.2812302729152142,-0.21357135166281258,-0.13152764651104915,-0.03392352141761064,0.08475458642198418,0.22649371815760608,0.3934291188138597,0.5896089855102644,0.8211425296294677,1.0900908298466518,1.4004283034042446,1.7619203533225707,2.159919042542485,2.6258780810068223,3.1372008646429266,3.755886400244622,4.394443558291656],\"y\":[2.9464272809820016,2.9773313130170327,3.001784947579646,3.0212883979772593,3.036741866632437,3.049045605817389,3.058799684014297,3.0664541482111045,3.0727593999783673,3.077565000280288,3.0814710163494206,3.0845674505854483,3.087018265408324,3.0889739758102475,3.090524591688658,3.0917595744594912,3.092739416721248,3.09350911092639,3.094144138826733,3.0946289377949396,3.095024523918499,3.0953408701875715,3.0955944159353934,3.095800548841674,3.095969341866647,3.096111640030821,3.0962342410468144,3.096343739365445,3.0964500033312468,3.096553251847436,3.0966669630208603,3.0967984674195392,3.0969482669229897,3.0971369808634672,3.097364009788863,3.0976524429834904,3.0980093514901634,3.0984730792132855,3.099073286322685,3.099834747625259,3.100793457790103,3.1020190464074355,3.1035430878345562,3.105466681007436,3.1078397655827597,3.110815729388491,3.1144943317248024,3.1189815650197277,3.1245828502917457,3.131285676280184,3.1394166926422122,3.1491204588155712,3.1606985884345997,3.174308143196722,3.1899241395848796,3.208618557089939,3.2287834459777445,3.252487774174401,3.2781735784820136,3.3094178064886504,3.3405370629040574],\"z\":[4.503877544020416,3.482423153590511,2.6741875494508704,2.029585595391075,1.5188664271671248,1.1122794668455578,0.789990423182994,0.5371237502559668,0.32888763648134695,0.1702392760193396,0.04134442691487119,-0.06077174400224471,-0.14156704937573872,-0.2059971742669547,-0.257037247575908,-0.2976632897757687,-0.329855364144817,-0.3551005422500121,-0.3758742493032549,-0.39168102917798275,-0.4044990678132241,-0.41461916612218713,-0.4225842999879659,-0.42888302517444565,-0.43381008565922174,-0.43764562731432166,-0.44057437972694174,-0.44273758998507706,-0.44436394113983624,-0.44538155186109446,-0.4459458174952944,-0.4460472974297144,-0.44571776888101944,-0.4449274981176023,-0.4436470904626549,-0.44188049193995693,-0.4394522673816558,-0.4362951669894858,-0.43222276653950886,-0.42708695221614223,-0.42072685615960626,-0.41273476108906776,-0.4030034810524191,-0.3910146418330032,-0.37648490802488765,-0.35870618806699717,-0.33710784430893387,-0.3113651847696852,-0.2800092670385433,-0.24254671221228757,-0.19834598320767982,-0.14635129271375177,-0.08494389957148953,-0.013561097860255293,0.06878258100386868,0.16485575191421367,0.2705048479195208,0.3942248433662109,0.5298905895239279,0.694093692077582,0.8632259226281638],\"type\":\"scatter3d\"}],                        {\"template\":{\"data\":{\"histogram2dcontour\":[{\"type\":\"histogram2dcontour\",\"colorbar\":{\"outlinewidth\":0,\"ticks\":\"\"},\"colorscale\":[[0.0,\"#0d0887\"],[0.1111111111111111,\"#46039f\"],[0.2222222222222222,\"#7201a8\"],[0.3333333333333333,\"#9c179e\"],[0.4444444444444444,\"#bd3786\"],[0.5555555555555556,\"#d8576b\"],[0.6666666666666666,\"#ed7953\"],[0.7777777777777778,\"#fb9f3a\"],[0.8888888888888888,\"#fdca26\"],[1.0,\"#f0f921\"]]}],\"choropleth\":[{\"type\":\"choropleth\",\"colorbar\":{\"outlinewidth\":0,\"ticks\":\"\"}}],\"histogram2d\":[{\"type\":\"histogram2d\",\"colorbar\":{\"outlinewidth\":0,\"ticks\":\"\"},\"colorscale\":[[0.0,\"#0d0887\"],[0.1111111111111111,\"#46039f\"],[0.2222222222222222,\"#7201a8\"],[0.3333333333333333,\"#9c179e\"],[0.4444444444444444,\"#bd3786\"],[0.5555555555555556,\"#d8576b\"],[0.6666666666666666,\"#ed7953\"],[0.7777777777777778,\"#fb9f3a\"],[0.8888888888888888,\"#fdca26\"],[1.0,\"#f0f921\"]]}],\"heatmap\":[{\"type\":\"heatmap\",\"colorbar\":{\"outlinewidth\":0,\"ticks\":\"\"},\"colorscale\":[[0.0,\"#0d0887\"],[0.1111111111111111,\"#46039f\"],[0.2222222222222222,\"#7201a8\"],[0.3333333333333333,\"#9c179e\"],[0.4444444444444444,\"#bd3786\"],[0.5555555555555556,\"#d8576b\"],[0.6666666666666666,\"#ed7953\"],[0.7777777777777778,\"#fb9f3a\"],[0.8888888888888888,\"#fdca26\"],[1.0,\"#f0f921\"]]}],\"heatmapgl\":[{\"type\":\"heatmapgl\",\"colorbar\":{\"outlinewidth\":0,\"ticks\":\"\"},\"colorscale\":[[0.0,\"#0d0887\"],[0.1111111111111111,\"#46039f\"],[0.2222222222222222,\"#7201a8\"],[0.3333333333333333,\"#9c179e\"],[0.4444444444444444,\"#bd3786\"],[0.5555555555555556,\"#d8576b\"],[0.6666666666666666,\"#ed7953\"],[0.7777777777777778,\"#fb9f3a\"],[0.8888888888888888,\"#fdca26\"],[1.0,\"#f0f921\"]]}],\"contourcarpet\":[{\"type\":\"contourcarpet\",\"colorbar\":{\"outlinewidth\":0,\"ticks\":\"\"}}],\"contour\":[{\"type\":\"contour\",\"colorbar\":{\"outlinewidth\":0,\"ticks\":\"\"},\"colorscale\":[[0.0,\"#0d0887\"],[0.1111111111111111,\"#46039f\"],[0.2222222222222222,\"#7201a8\"],[0.3333333333333333,\"#9c179e\"],[0.4444444444444444,\"#bd3786\"],[0.5555555555555556,\"#d8576b\"],[0.6666666666666666,\"#ed7953\"],[0.7777777777777778,\"#fb9f3a\"],[0.8888888888888888,\"#fdca26\"],[1.0,\"#f0f921\"]]}],\"surface\":[{\"type\":\"surface\",\"colorbar\":{\"outlinewidth\":0,\"ticks\":\"\"},\"colorscale\":[[0.0,\"#0d0887\"],[0.1111111111111111,\"#46039f\"],[0.2222222222222222,\"#7201a8\"],[0.3333333333333333,\"#9c179e\"],[0.4444444444444444,\"#bd3786\"],[0.5555555555555556,\"#d8576b\"],[0.6666666666666666,\"#ed7953\"],[0.7777777777777778,\"#fb9f3a\"],[0.8888888888888888,\"#fdca26\"],[1.0,\"#f0f921\"]]}],\"mesh3d\":[{\"type\":\"mesh3d\",\"colorbar\":{\"outlinewidth\":0,\"ticks\":\"\"}}],\"scatter\":[{\"fillpattern\":{\"fillmode\":\"overlay\",\"size\":10,\"solidity\":0.2},\"type\":\"scatter\"}],\"parcoords\":[{\"type\":\"parcoords\",\"line\":{\"colorbar\":{\"outlinewidth\":0,\"ticks\":\"\"}}}],\"scatterpolargl\":[{\"type\":\"scatterpolargl\",\"marker\":{\"colorbar\":{\"outlinewidth\":0,\"ticks\":\"\"}}}],\"bar\":[{\"error_x\":{\"color\":\"#2a3f5f\"},\"error_y\":{\"color\":\"#2a3f5f\"},\"marker\":{\"line\":{\"color\":\"#E5ECF6\",\"width\":0.5},\"pattern\":{\"fillmode\":\"overlay\",\"size\":10,\"solidity\":0.2}},\"type\":\"bar\"}],\"scattergeo\":[{\"type\":\"scattergeo\",\"marker\":{\"colorbar\":{\"outlinewidth\":0,\"ticks\":\"\"}}}],\"scatterpolar\":[{\"type\":\"scatterpolar\",\"marker\":{\"colorbar\":{\"outlinewidth\":0,\"ticks\":\"\"}}}],\"histogram\":[{\"marker\":{\"pattern\":{\"fillmode\":\"overlay\",\"size\":10,\"solidity\":0.2}},\"type\":\"histogram\"}],\"scattergl\":[{\"type\":\"scattergl\",\"marker\":{\"colorbar\":{\"outlinewidth\":0,\"ticks\":\"\"}}}],\"scatter3d\":[{\"type\":\"scatter3d\",\"line\":{\"colorbar\":{\"outlinewidth\":0,\"ticks\":\"\"}},\"marker\":{\"colorbar\":{\"outlinewidth\":0,\"ticks\":\"\"}}}],\"scattermapbox\":[{\"type\":\"scattermapbox\",\"marker\":{\"colorbar\":{\"outlinewidth\":0,\"ticks\":\"\"}}}],\"scatterternary\":[{\"type\":\"scatterternary\",\"marker\":{\"colorbar\":{\"outlinewidth\":0,\"ticks\":\"\"}}}],\"scattercarpet\":[{\"type\":\"scattercarpet\",\"marker\":{\"colorbar\":{\"outlinewidth\":0,\"ticks\":\"\"}}}],\"carpet\":[{\"aaxis\":{\"endlinecolor\":\"#2a3f5f\",\"gridcolor\":\"white\",\"linecolor\":\"white\",\"minorgridcolor\":\"white\",\"startlinecolor\":\"#2a3f5f\"},\"baxis\":{\"endlinecolor\":\"#2a3f5f\",\"gridcolor\":\"white\",\"linecolor\":\"white\",\"minorgridcolor\":\"white\",\"startlinecolor\":\"#2a3f5f\"},\"type\":\"carpet\"}],\"table\":[{\"cells\":{\"fill\":{\"color\":\"#EBF0F8\"},\"line\":{\"color\":\"white\"}},\"header\":{\"fill\":{\"color\":\"#C8D4E3\"},\"line\":{\"color\":\"white\"}},\"type\":\"table\"}],\"barpolar\":[{\"marker\":{\"line\":{\"color\":\"#E5ECF6\",\"width\":0.5},\"pattern\":{\"fillmode\":\"overlay\",\"size\":10,\"solidity\":0.2}},\"type\":\"barpolar\"}],\"pie\":[{\"automargin\":true,\"type\":\"pie\"}]},\"layout\":{\"autotypenumbers\":\"strict\",\"colorway\":[\"#636efa\",\"#EF553B\",\"#00cc96\",\"#ab63fa\",\"#FFA15A\",\"#19d3f3\",\"#FF6692\",\"#B6E880\",\"#FF97FF\",\"#FECB52\"],\"font\":{\"color\":\"#2a3f5f\"},\"hovermode\":\"closest\",\"hoverlabel\":{\"align\":\"left\"},\"paper_bgcolor\":\"white\",\"plot_bgcolor\":\"#E5ECF6\",\"polar\":{\"bgcolor\":\"#E5ECF6\",\"angularaxis\":{\"gridcolor\":\"white\",\"linecolor\":\"white\",\"ticks\":\"\"},\"radialaxis\":{\"gridcolor\":\"white\",\"linecolor\":\"white\",\"ticks\":\"\"}},\"ternary\":{\"bgcolor\":\"#E5ECF6\",\"aaxis\":{\"gridcolor\":\"white\",\"linecolor\":\"white\",\"ticks\":\"\"},\"baxis\":{\"gridcolor\":\"white\",\"linecolor\":\"white\",\"ticks\":\"\"},\"caxis\":{\"gridcolor\":\"white\",\"linecolor\":\"white\",\"ticks\":\"\"}},\"coloraxis\":{\"colorbar\":{\"outlinewidth\":0,\"ticks\":\"\"}},\"colorscale\":{\"sequential\":[[0.0,\"#0d0887\"],[0.1111111111111111,\"#46039f\"],[0.2222222222222222,\"#7201a8\"],[0.3333333333333333,\"#9c179e\"],[0.4444444444444444,\"#bd3786\"],[0.5555555555555556,\"#d8576b\"],[0.6666666666666666,\"#ed7953\"],[0.7777777777777778,\"#fb9f3a\"],[0.8888888888888888,\"#fdca26\"],[1.0,\"#f0f921\"]],\"sequentialminus\":[[0.0,\"#0d0887\"],[0.1111111111111111,\"#46039f\"],[0.2222222222222222,\"#7201a8\"],[0.3333333333333333,\"#9c179e\"],[0.4444444444444444,\"#bd3786\"],[0.5555555555555556,\"#d8576b\"],[0.6666666666666666,\"#ed7953\"],[0.7777777777777778,\"#fb9f3a\"],[0.8888888888888888,\"#fdca26\"],[1.0,\"#f0f921\"]],\"diverging\":[[0,\"#8e0152\"],[0.1,\"#c51b7d\"],[0.2,\"#de77ae\"],[0.3,\"#f1b6da\"],[0.4,\"#fde0ef\"],[0.5,\"#f7f7f7\"],[0.6,\"#e6f5d0\"],[0.7,\"#b8e186\"],[0.8,\"#7fbc41\"],[0.9,\"#4d9221\"],[1,\"#276419\"]]},\"xaxis\":{\"gridcolor\":\"white\",\"linecolor\":\"white\",\"ticks\":\"\",\"title\":{\"standoff\":15},\"zerolinecolor\":\"white\",\"automargin\":true,\"zerolinewidth\":2},\"yaxis\":{\"gridcolor\":\"white\",\"linecolor\":\"white\",\"ticks\":\"\",\"title\":{\"standoff\":15},\"zerolinecolor\":\"white\",\"automargin\":true,\"zerolinewidth\":2},\"scene\":{\"xaxis\":{\"backgroundcolor\":\"#E5ECF6\",\"gridcolor\":\"white\",\"linecolor\":\"white\",\"showbackground\":true,\"ticks\":\"\",\"zerolinecolor\":\"white\",\"gridwidth\":2},\"yaxis\":{\"backgroundcolor\":\"#E5ECF6\",\"gridcolor\":\"white\",\"linecolor\":\"white\",\"showbackground\":true,\"ticks\":\"\",\"zerolinecolor\":\"white\",\"gridwidth\":2},\"zaxis\":{\"backgroundcolor\":\"#E5ECF6\",\"gridcolor\":\"white\",\"linecolor\":\"white\",\"showbackground\":true,\"ticks\":\"\",\"zerolinecolor\":\"white\",\"gridwidth\":2}},\"shapedefaults\":{\"line\":{\"color\":\"#2a3f5f\"}},\"annotationdefaults\":{\"arrowcolor\":\"#2a3f5f\",\"arrowhead\":0,\"arrowwidth\":1},\"geo\":{\"bgcolor\":\"white\",\"landcolor\":\"#E5ECF6\",\"subunitcolor\":\"white\",\"showland\":true,\"showlakes\":true,\"lakecolor\":\"white\"},\"title\":{\"x\":0.05},\"mapbox\":{\"style\":\"light\"}}},\"scene\":{\"domain\":{\"x\":[0.0,1.0],\"y\":[0.0,1.0]},\"xaxis\":{\"title\":{\"text\":\"PC1\"}},\"yaxis\":{\"title\":{\"text\":\"PC2\"}},\"zaxis\":{\"title\":{\"text\":\"PC3\"}}},\"legend\":{\"title\":{\"text\":\"Sensor\"},\"tracegroupgap\":0},\"margin\":{\"t\":0,\"l\":0,\"r\":0,\"b\":0}},                        {\"responsive\": true}                    ).then(function(){\n",
       "                            \n",
       "var gd = document.getElementById('0e3a237c-767c-4fe2-9787-0475ed3af6c4');\n",
       "var x = new MutationObserver(function (mutations, observer) {{\n",
       "        var display = window.getComputedStyle(gd).display;\n",
       "        if (!display || display === 'none') {{\n",
       "            console.log([gd, 'removed!']);\n",
       "            Plotly.purge(gd);\n",
       "            observer.disconnect();\n",
       "        }}\n",
       "}});\n",
       "\n",
       "// Listen for the removal of the full notebook cells\n",
       "var notebookContainer = gd.closest('#notebook-container');\n",
       "if (notebookContainer) {{\n",
       "    x.observe(notebookContainer, {childList: true});\n",
       "}}\n",
       "\n",
       "// Listen for the clearing of the current output cell\n",
       "var outputEl = gd.closest('.output');\n",
       "if (outputEl) {{\n",
       "    x.observe(outputEl, {childList: true});\n",
       "}}\n",
       "\n",
       "                        })                };                });            </script>        </div>"
      ]
     },
     "metadata": {},
     "output_type": "display_data"
    }
   ],
   "source": [
    "# 4.1 Customize 3D Scatter Plot\n",
    "\n",
    "fig = px.scatter_3d(df_scores, x='PC1', y='PC2', z='PC3', color='Sensor', symbol='Sensor', opacity=0.4)\n",
    "\n",
    "# tight layout\n",
    "fig.update_layout(margin=dict(l=0, r=0, b=0, t=0)) # left, right, bottom, top with zero margin\n",
    "\n",
    "fig.show()\n",
    "\n",
    "# https://plotly.com/python/templates/\n",
    "# fig.update_layout(template='plotly_white')\n",
    "# plotly, plotly_white, plotly_dark, ggplot2, seaborn, simple_white, none"
   ]
  },
  {
   "cell_type": "code",
   "execution_count": 60,
   "id": "d021cd40",
   "metadata": {},
   "outputs": [
    {
     "data": {
      "application/vnd.plotly.v1+json": {
       "config": {
        "plotlyServerURL": "https://plot.ly"
       },
       "data": [
        {
         "hovertemplate": "PC1=%{x}<br>PC2=%{y}<br>PC3=%{z}<br>index=%{text}<extra></extra>",
         "legendgroup": "",
         "marker": {
          "color": "#636efa",
          "symbol": "circle"
         },
         "mode": "markers+text",
         "name": "",
         "scene": "scene",
         "showlegend": false,
         "text": [
          "Freq(Hz)",
          "Z'(a)",
          "Z''(b)",
          "antiHIVmicrog/ml",
          "antiHCVmicrog/ml"
         ],
         "type": "scatter3d",
         "x": [
          -0.2513087345274536,
          0.6823687272348514,
          -0.6852158233265266,
          -0.02129379999392537,
          0.03525180260450929
         ],
         "y": [
          -0.029265062087259274,
          0.05199726420132604,
          0.004308959237371579,
          0.7078931545208064,
          -0.7037816105223819
         ],
         "z": [
          0.9673084233350611,
          0.1864728918528058,
          -0.16995590122527957,
          0.025576686704845537,
          -0.0017605354284563656
         ]
        }
       ],
       "layout": {
        "legend": {
         "tracegroupgap": 0
        },
        "margin": {
         "t": 60
        },
        "scene": {
         "domain": {
          "x": [
           0,
           1
          ],
          "y": [
           0,
           1
          ]
         },
         "xaxis": {
          "title": {
           "text": "PC1"
          }
         },
         "yaxis": {
          "title": {
           "text": "PC2"
          }
         },
         "zaxis": {
          "title": {
           "text": "PC3"
          }
         }
        },
        "template": {
         "data": {
          "bar": [
           {
            "error_x": {
             "color": "#2a3f5f"
            },
            "error_y": {
             "color": "#2a3f5f"
            },
            "marker": {
             "line": {
              "color": "#E5ECF6",
              "width": 0.5
             },
             "pattern": {
              "fillmode": "overlay",
              "size": 10,
              "solidity": 0.2
             }
            },
            "type": "bar"
           }
          ],
          "barpolar": [
           {
            "marker": {
             "line": {
              "color": "#E5ECF6",
              "width": 0.5
             },
             "pattern": {
              "fillmode": "overlay",
              "size": 10,
              "solidity": 0.2
             }
            },
            "type": "barpolar"
           }
          ],
          "carpet": [
           {
            "aaxis": {
             "endlinecolor": "#2a3f5f",
             "gridcolor": "white",
             "linecolor": "white",
             "minorgridcolor": "white",
             "startlinecolor": "#2a3f5f"
            },
            "baxis": {
             "endlinecolor": "#2a3f5f",
             "gridcolor": "white",
             "linecolor": "white",
             "minorgridcolor": "white",
             "startlinecolor": "#2a3f5f"
            },
            "type": "carpet"
           }
          ],
          "choropleth": [
           {
            "colorbar": {
             "outlinewidth": 0,
             "ticks": ""
            },
            "type": "choropleth"
           }
          ],
          "contour": [
           {
            "colorbar": {
             "outlinewidth": 0,
             "ticks": ""
            },
            "colorscale": [
             [
              0,
              "#0d0887"
             ],
             [
              0.1111111111111111,
              "#46039f"
             ],
             [
              0.2222222222222222,
              "#7201a8"
             ],
             [
              0.3333333333333333,
              "#9c179e"
             ],
             [
              0.4444444444444444,
              "#bd3786"
             ],
             [
              0.5555555555555556,
              "#d8576b"
             ],
             [
              0.6666666666666666,
              "#ed7953"
             ],
             [
              0.7777777777777778,
              "#fb9f3a"
             ],
             [
              0.8888888888888888,
              "#fdca26"
             ],
             [
              1,
              "#f0f921"
             ]
            ],
            "type": "contour"
           }
          ],
          "contourcarpet": [
           {
            "colorbar": {
             "outlinewidth": 0,
             "ticks": ""
            },
            "type": "contourcarpet"
           }
          ],
          "heatmap": [
           {
            "colorbar": {
             "outlinewidth": 0,
             "ticks": ""
            },
            "colorscale": [
             [
              0,
              "#0d0887"
             ],
             [
              0.1111111111111111,
              "#46039f"
             ],
             [
              0.2222222222222222,
              "#7201a8"
             ],
             [
              0.3333333333333333,
              "#9c179e"
             ],
             [
              0.4444444444444444,
              "#bd3786"
             ],
             [
              0.5555555555555556,
              "#d8576b"
             ],
             [
              0.6666666666666666,
              "#ed7953"
             ],
             [
              0.7777777777777778,
              "#fb9f3a"
             ],
             [
              0.8888888888888888,
              "#fdca26"
             ],
             [
              1,
              "#f0f921"
             ]
            ],
            "type": "heatmap"
           }
          ],
          "heatmapgl": [
           {
            "colorbar": {
             "outlinewidth": 0,
             "ticks": ""
            },
            "colorscale": [
             [
              0,
              "#0d0887"
             ],
             [
              0.1111111111111111,
              "#46039f"
             ],
             [
              0.2222222222222222,
              "#7201a8"
             ],
             [
              0.3333333333333333,
              "#9c179e"
             ],
             [
              0.4444444444444444,
              "#bd3786"
             ],
             [
              0.5555555555555556,
              "#d8576b"
             ],
             [
              0.6666666666666666,
              "#ed7953"
             ],
             [
              0.7777777777777778,
              "#fb9f3a"
             ],
             [
              0.8888888888888888,
              "#fdca26"
             ],
             [
              1,
              "#f0f921"
             ]
            ],
            "type": "heatmapgl"
           }
          ],
          "histogram": [
           {
            "marker": {
             "pattern": {
              "fillmode": "overlay",
              "size": 10,
              "solidity": 0.2
             }
            },
            "type": "histogram"
           }
          ],
          "histogram2d": [
           {
            "colorbar": {
             "outlinewidth": 0,
             "ticks": ""
            },
            "colorscale": [
             [
              0,
              "#0d0887"
             ],
             [
              0.1111111111111111,
              "#46039f"
             ],
             [
              0.2222222222222222,
              "#7201a8"
             ],
             [
              0.3333333333333333,
              "#9c179e"
             ],
             [
              0.4444444444444444,
              "#bd3786"
             ],
             [
              0.5555555555555556,
              "#d8576b"
             ],
             [
              0.6666666666666666,
              "#ed7953"
             ],
             [
              0.7777777777777778,
              "#fb9f3a"
             ],
             [
              0.8888888888888888,
              "#fdca26"
             ],
             [
              1,
              "#f0f921"
             ]
            ],
            "type": "histogram2d"
           }
          ],
          "histogram2dcontour": [
           {
            "colorbar": {
             "outlinewidth": 0,
             "ticks": ""
            },
            "colorscale": [
             [
              0,
              "#0d0887"
             ],
             [
              0.1111111111111111,
              "#46039f"
             ],
             [
              0.2222222222222222,
              "#7201a8"
             ],
             [
              0.3333333333333333,
              "#9c179e"
             ],
             [
              0.4444444444444444,
              "#bd3786"
             ],
             [
              0.5555555555555556,
              "#d8576b"
             ],
             [
              0.6666666666666666,
              "#ed7953"
             ],
             [
              0.7777777777777778,
              "#fb9f3a"
             ],
             [
              0.8888888888888888,
              "#fdca26"
             ],
             [
              1,
              "#f0f921"
             ]
            ],
            "type": "histogram2dcontour"
           }
          ],
          "mesh3d": [
           {
            "colorbar": {
             "outlinewidth": 0,
             "ticks": ""
            },
            "type": "mesh3d"
           }
          ],
          "parcoords": [
           {
            "line": {
             "colorbar": {
              "outlinewidth": 0,
              "ticks": ""
             }
            },
            "type": "parcoords"
           }
          ],
          "pie": [
           {
            "automargin": true,
            "type": "pie"
           }
          ],
          "scatter": [
           {
            "fillpattern": {
             "fillmode": "overlay",
             "size": 10,
             "solidity": 0.2
            },
            "type": "scatter"
           }
          ],
          "scatter3d": [
           {
            "line": {
             "colorbar": {
              "outlinewidth": 0,
              "ticks": ""
             }
            },
            "marker": {
             "colorbar": {
              "outlinewidth": 0,
              "ticks": ""
             }
            },
            "type": "scatter3d"
           }
          ],
          "scattercarpet": [
           {
            "marker": {
             "colorbar": {
              "outlinewidth": 0,
              "ticks": ""
             }
            },
            "type": "scattercarpet"
           }
          ],
          "scattergeo": [
           {
            "marker": {
             "colorbar": {
              "outlinewidth": 0,
              "ticks": ""
             }
            },
            "type": "scattergeo"
           }
          ],
          "scattergl": [
           {
            "marker": {
             "colorbar": {
              "outlinewidth": 0,
              "ticks": ""
             }
            },
            "type": "scattergl"
           }
          ],
          "scattermapbox": [
           {
            "marker": {
             "colorbar": {
              "outlinewidth": 0,
              "ticks": ""
             }
            },
            "type": "scattermapbox"
           }
          ],
          "scatterpolar": [
           {
            "marker": {
             "colorbar": {
              "outlinewidth": 0,
              "ticks": ""
             }
            },
            "type": "scatterpolar"
           }
          ],
          "scatterpolargl": [
           {
            "marker": {
             "colorbar": {
              "outlinewidth": 0,
              "ticks": ""
             }
            },
            "type": "scatterpolargl"
           }
          ],
          "scatterternary": [
           {
            "marker": {
             "colorbar": {
              "outlinewidth": 0,
              "ticks": ""
             }
            },
            "type": "scatterternary"
           }
          ],
          "surface": [
           {
            "colorbar": {
             "outlinewidth": 0,
             "ticks": ""
            },
            "colorscale": [
             [
              0,
              "#0d0887"
             ],
             [
              0.1111111111111111,
              "#46039f"
             ],
             [
              0.2222222222222222,
              "#7201a8"
             ],
             [
              0.3333333333333333,
              "#9c179e"
             ],
             [
              0.4444444444444444,
              "#bd3786"
             ],
             [
              0.5555555555555556,
              "#d8576b"
             ],
             [
              0.6666666666666666,
              "#ed7953"
             ],
             [
              0.7777777777777778,
              "#fb9f3a"
             ],
             [
              0.8888888888888888,
              "#fdca26"
             ],
             [
              1,
              "#f0f921"
             ]
            ],
            "type": "surface"
           }
          ],
          "table": [
           {
            "cells": {
             "fill": {
              "color": "#EBF0F8"
             },
             "line": {
              "color": "white"
             }
            },
            "header": {
             "fill": {
              "color": "#C8D4E3"
             },
             "line": {
              "color": "white"
             }
            },
            "type": "table"
           }
          ]
         },
         "layout": {
          "annotationdefaults": {
           "arrowcolor": "#2a3f5f",
           "arrowhead": 0,
           "arrowwidth": 1
          },
          "autotypenumbers": "strict",
          "coloraxis": {
           "colorbar": {
            "outlinewidth": 0,
            "ticks": ""
           }
          },
          "colorscale": {
           "diverging": [
            [
             0,
             "#8e0152"
            ],
            [
             0.1,
             "#c51b7d"
            ],
            [
             0.2,
             "#de77ae"
            ],
            [
             0.3,
             "#f1b6da"
            ],
            [
             0.4,
             "#fde0ef"
            ],
            [
             0.5,
             "#f7f7f7"
            ],
            [
             0.6,
             "#e6f5d0"
            ],
            [
             0.7,
             "#b8e186"
            ],
            [
             0.8,
             "#7fbc41"
            ],
            [
             0.9,
             "#4d9221"
            ],
            [
             1,
             "#276419"
            ]
           ],
           "sequential": [
            [
             0,
             "#0d0887"
            ],
            [
             0.1111111111111111,
             "#46039f"
            ],
            [
             0.2222222222222222,
             "#7201a8"
            ],
            [
             0.3333333333333333,
             "#9c179e"
            ],
            [
             0.4444444444444444,
             "#bd3786"
            ],
            [
             0.5555555555555556,
             "#d8576b"
            ],
            [
             0.6666666666666666,
             "#ed7953"
            ],
            [
             0.7777777777777778,
             "#fb9f3a"
            ],
            [
             0.8888888888888888,
             "#fdca26"
            ],
            [
             1,
             "#f0f921"
            ]
           ],
           "sequentialminus": [
            [
             0,
             "#0d0887"
            ],
            [
             0.1111111111111111,
             "#46039f"
            ],
            [
             0.2222222222222222,
             "#7201a8"
            ],
            [
             0.3333333333333333,
             "#9c179e"
            ],
            [
             0.4444444444444444,
             "#bd3786"
            ],
            [
             0.5555555555555556,
             "#d8576b"
            ],
            [
             0.6666666666666666,
             "#ed7953"
            ],
            [
             0.7777777777777778,
             "#fb9f3a"
            ],
            [
             0.8888888888888888,
             "#fdca26"
            ],
            [
             1,
             "#f0f921"
            ]
           ]
          },
          "colorway": [
           "#636efa",
           "#EF553B",
           "#00cc96",
           "#ab63fa",
           "#FFA15A",
           "#19d3f3",
           "#FF6692",
           "#B6E880",
           "#FF97FF",
           "#FECB52"
          ],
          "font": {
           "color": "#2a3f5f"
          },
          "geo": {
           "bgcolor": "white",
           "lakecolor": "white",
           "landcolor": "#E5ECF6",
           "showlakes": true,
           "showland": true,
           "subunitcolor": "white"
          },
          "hoverlabel": {
           "align": "left"
          },
          "hovermode": "closest",
          "mapbox": {
           "style": "light"
          },
          "paper_bgcolor": "white",
          "plot_bgcolor": "#E5ECF6",
          "polar": {
           "angularaxis": {
            "gridcolor": "white",
            "linecolor": "white",
            "ticks": ""
           },
           "bgcolor": "#E5ECF6",
           "radialaxis": {
            "gridcolor": "white",
            "linecolor": "white",
            "ticks": ""
           }
          },
          "scene": {
           "xaxis": {
            "backgroundcolor": "#E5ECF6",
            "gridcolor": "white",
            "gridwidth": 2,
            "linecolor": "white",
            "showbackground": true,
            "ticks": "",
            "zerolinecolor": "white"
           },
           "yaxis": {
            "backgroundcolor": "#E5ECF6",
            "gridcolor": "white",
            "gridwidth": 2,
            "linecolor": "white",
            "showbackground": true,
            "ticks": "",
            "zerolinecolor": "white"
           },
           "zaxis": {
            "backgroundcolor": "#E5ECF6",
            "gridcolor": "white",
            "gridwidth": 2,
            "linecolor": "white",
            "showbackground": true,
            "ticks": "",
            "zerolinecolor": "white"
           }
          },
          "shapedefaults": {
           "line": {
            "color": "#2a3f5f"
           }
          },
          "ternary": {
           "aaxis": {
            "gridcolor": "white",
            "linecolor": "white",
            "ticks": ""
           },
           "baxis": {
            "gridcolor": "white",
            "linecolor": "white",
            "ticks": ""
           },
           "bgcolor": "#E5ECF6",
           "caxis": {
            "gridcolor": "white",
            "linecolor": "white",
            "ticks": ""
           }
          },
          "title": {
           "x": 0.05
          },
          "xaxis": {
           "automargin": true,
           "gridcolor": "white",
           "linecolor": "white",
           "ticks": "",
           "title": {
            "standoff": 15
           },
           "zerolinecolor": "white",
           "zerolinewidth": 2
          },
          "yaxis": {
           "automargin": true,
           "gridcolor": "white",
           "linecolor": "white",
           "ticks": "",
           "title": {
            "standoff": 15
           },
           "zerolinecolor": "white",
           "zerolinewidth": 2
          }
         }
        }
       }
      },
      "text/html": [
       "<div>                            <div id=\"a109d6e9-f358-4241-9c1a-be7ee6751055\" class=\"plotly-graph-div\" style=\"height:525px; width:100%;\"></div>            <script type=\"text/javascript\">                require([\"plotly\"], function(Plotly) {                    window.PLOTLYENV=window.PLOTLYENV || {};                                    if (document.getElementById(\"a109d6e9-f358-4241-9c1a-be7ee6751055\")) {                    Plotly.newPlot(                        \"a109d6e9-f358-4241-9c1a-be7ee6751055\",                        [{\"hovertemplate\":\"PC1=%{x}<br>PC2=%{y}<br>PC3=%{z}<br>index=%{text}<extra></extra>\",\"legendgroup\":\"\",\"marker\":{\"color\":\"#636efa\",\"symbol\":\"circle\"},\"mode\":\"markers+text\",\"name\":\"\",\"scene\":\"scene\",\"showlegend\":false,\"text\":[\"Freq(Hz)\",\"Z'(a)\",\"Z''(b)\",\"antiHIVmicrog/ml\",\"antiHCVmicrog/ml\"],\"x\":[-0.2513087345274536,0.6823687272348514,-0.6852158233265266,-0.02129379999392537,0.03525180260450929],\"y\":[-0.029265062087259274,0.05199726420132604,0.004308959237371579,0.7078931545208064,-0.7037816105223819],\"z\":[0.9673084233350611,0.1864728918528058,-0.16995590122527957,0.025576686704845537,-0.0017605354284563656],\"type\":\"scatter3d\"}],                        {\"template\":{\"data\":{\"histogram2dcontour\":[{\"type\":\"histogram2dcontour\",\"colorbar\":{\"outlinewidth\":0,\"ticks\":\"\"},\"colorscale\":[[0.0,\"#0d0887\"],[0.1111111111111111,\"#46039f\"],[0.2222222222222222,\"#7201a8\"],[0.3333333333333333,\"#9c179e\"],[0.4444444444444444,\"#bd3786\"],[0.5555555555555556,\"#d8576b\"],[0.6666666666666666,\"#ed7953\"],[0.7777777777777778,\"#fb9f3a\"],[0.8888888888888888,\"#fdca26\"],[1.0,\"#f0f921\"]]}],\"choropleth\":[{\"type\":\"choropleth\",\"colorbar\":{\"outlinewidth\":0,\"ticks\":\"\"}}],\"histogram2d\":[{\"type\":\"histogram2d\",\"colorbar\":{\"outlinewidth\":0,\"ticks\":\"\"},\"colorscale\":[[0.0,\"#0d0887\"],[0.1111111111111111,\"#46039f\"],[0.2222222222222222,\"#7201a8\"],[0.3333333333333333,\"#9c179e\"],[0.4444444444444444,\"#bd3786\"],[0.5555555555555556,\"#d8576b\"],[0.6666666666666666,\"#ed7953\"],[0.7777777777777778,\"#fb9f3a\"],[0.8888888888888888,\"#fdca26\"],[1.0,\"#f0f921\"]]}],\"heatmap\":[{\"type\":\"heatmap\",\"colorbar\":{\"outlinewidth\":0,\"ticks\":\"\"},\"colorscale\":[[0.0,\"#0d0887\"],[0.1111111111111111,\"#46039f\"],[0.2222222222222222,\"#7201a8\"],[0.3333333333333333,\"#9c179e\"],[0.4444444444444444,\"#bd3786\"],[0.5555555555555556,\"#d8576b\"],[0.6666666666666666,\"#ed7953\"],[0.7777777777777778,\"#fb9f3a\"],[0.8888888888888888,\"#fdca26\"],[1.0,\"#f0f921\"]]}],\"heatmapgl\":[{\"type\":\"heatmapgl\",\"colorbar\":{\"outlinewidth\":0,\"ticks\":\"\"},\"colorscale\":[[0.0,\"#0d0887\"],[0.1111111111111111,\"#46039f\"],[0.2222222222222222,\"#7201a8\"],[0.3333333333333333,\"#9c179e\"],[0.4444444444444444,\"#bd3786\"],[0.5555555555555556,\"#d8576b\"],[0.6666666666666666,\"#ed7953\"],[0.7777777777777778,\"#fb9f3a\"],[0.8888888888888888,\"#fdca26\"],[1.0,\"#f0f921\"]]}],\"contourcarpet\":[{\"type\":\"contourcarpet\",\"colorbar\":{\"outlinewidth\":0,\"ticks\":\"\"}}],\"contour\":[{\"type\":\"contour\",\"colorbar\":{\"outlinewidth\":0,\"ticks\":\"\"},\"colorscale\":[[0.0,\"#0d0887\"],[0.1111111111111111,\"#46039f\"],[0.2222222222222222,\"#7201a8\"],[0.3333333333333333,\"#9c179e\"],[0.4444444444444444,\"#bd3786\"],[0.5555555555555556,\"#d8576b\"],[0.6666666666666666,\"#ed7953\"],[0.7777777777777778,\"#fb9f3a\"],[0.8888888888888888,\"#fdca26\"],[1.0,\"#f0f921\"]]}],\"surface\":[{\"type\":\"surface\",\"colorbar\":{\"outlinewidth\":0,\"ticks\":\"\"},\"colorscale\":[[0.0,\"#0d0887\"],[0.1111111111111111,\"#46039f\"],[0.2222222222222222,\"#7201a8\"],[0.3333333333333333,\"#9c179e\"],[0.4444444444444444,\"#bd3786\"],[0.5555555555555556,\"#d8576b\"],[0.6666666666666666,\"#ed7953\"],[0.7777777777777778,\"#fb9f3a\"],[0.8888888888888888,\"#fdca26\"],[1.0,\"#f0f921\"]]}],\"mesh3d\":[{\"type\":\"mesh3d\",\"colorbar\":{\"outlinewidth\":0,\"ticks\":\"\"}}],\"scatter\":[{\"fillpattern\":{\"fillmode\":\"overlay\",\"size\":10,\"solidity\":0.2},\"type\":\"scatter\"}],\"parcoords\":[{\"type\":\"parcoords\",\"line\":{\"colorbar\":{\"outlinewidth\":0,\"ticks\":\"\"}}}],\"scatterpolargl\":[{\"type\":\"scatterpolargl\",\"marker\":{\"colorbar\":{\"outlinewidth\":0,\"ticks\":\"\"}}}],\"bar\":[{\"error_x\":{\"color\":\"#2a3f5f\"},\"error_y\":{\"color\":\"#2a3f5f\"},\"marker\":{\"line\":{\"color\":\"#E5ECF6\",\"width\":0.5},\"pattern\":{\"fillmode\":\"overlay\",\"size\":10,\"solidity\":0.2}},\"type\":\"bar\"}],\"scattergeo\":[{\"type\":\"scattergeo\",\"marker\":{\"colorbar\":{\"outlinewidth\":0,\"ticks\":\"\"}}}],\"scatterpolar\":[{\"type\":\"scatterpolar\",\"marker\":{\"colorbar\":{\"outlinewidth\":0,\"ticks\":\"\"}}}],\"histogram\":[{\"marker\":{\"pattern\":{\"fillmode\":\"overlay\",\"size\":10,\"solidity\":0.2}},\"type\":\"histogram\"}],\"scattergl\":[{\"type\":\"scattergl\",\"marker\":{\"colorbar\":{\"outlinewidth\":0,\"ticks\":\"\"}}}],\"scatter3d\":[{\"type\":\"scatter3d\",\"line\":{\"colorbar\":{\"outlinewidth\":0,\"ticks\":\"\"}},\"marker\":{\"colorbar\":{\"outlinewidth\":0,\"ticks\":\"\"}}}],\"scattermapbox\":[{\"type\":\"scattermapbox\",\"marker\":{\"colorbar\":{\"outlinewidth\":0,\"ticks\":\"\"}}}],\"scatterternary\":[{\"type\":\"scatterternary\",\"marker\":{\"colorbar\":{\"outlinewidth\":0,\"ticks\":\"\"}}}],\"scattercarpet\":[{\"type\":\"scattercarpet\",\"marker\":{\"colorbar\":{\"outlinewidth\":0,\"ticks\":\"\"}}}],\"carpet\":[{\"aaxis\":{\"endlinecolor\":\"#2a3f5f\",\"gridcolor\":\"white\",\"linecolor\":\"white\",\"minorgridcolor\":\"white\",\"startlinecolor\":\"#2a3f5f\"},\"baxis\":{\"endlinecolor\":\"#2a3f5f\",\"gridcolor\":\"white\",\"linecolor\":\"white\",\"minorgridcolor\":\"white\",\"startlinecolor\":\"#2a3f5f\"},\"type\":\"carpet\"}],\"table\":[{\"cells\":{\"fill\":{\"color\":\"#EBF0F8\"},\"line\":{\"color\":\"white\"}},\"header\":{\"fill\":{\"color\":\"#C8D4E3\"},\"line\":{\"color\":\"white\"}},\"type\":\"table\"}],\"barpolar\":[{\"marker\":{\"line\":{\"color\":\"#E5ECF6\",\"width\":0.5},\"pattern\":{\"fillmode\":\"overlay\",\"size\":10,\"solidity\":0.2}},\"type\":\"barpolar\"}],\"pie\":[{\"automargin\":true,\"type\":\"pie\"}]},\"layout\":{\"autotypenumbers\":\"strict\",\"colorway\":[\"#636efa\",\"#EF553B\",\"#00cc96\",\"#ab63fa\",\"#FFA15A\",\"#19d3f3\",\"#FF6692\",\"#B6E880\",\"#FF97FF\",\"#FECB52\"],\"font\":{\"color\":\"#2a3f5f\"},\"hovermode\":\"closest\",\"hoverlabel\":{\"align\":\"left\"},\"paper_bgcolor\":\"white\",\"plot_bgcolor\":\"#E5ECF6\",\"polar\":{\"bgcolor\":\"#E5ECF6\",\"angularaxis\":{\"gridcolor\":\"white\",\"linecolor\":\"white\",\"ticks\":\"\"},\"radialaxis\":{\"gridcolor\":\"white\",\"linecolor\":\"white\",\"ticks\":\"\"}},\"ternary\":{\"bgcolor\":\"#E5ECF6\",\"aaxis\":{\"gridcolor\":\"white\",\"linecolor\":\"white\",\"ticks\":\"\"},\"baxis\":{\"gridcolor\":\"white\",\"linecolor\":\"white\",\"ticks\":\"\"},\"caxis\":{\"gridcolor\":\"white\",\"linecolor\":\"white\",\"ticks\":\"\"}},\"coloraxis\":{\"colorbar\":{\"outlinewidth\":0,\"ticks\":\"\"}},\"colorscale\":{\"sequential\":[[0.0,\"#0d0887\"],[0.1111111111111111,\"#46039f\"],[0.2222222222222222,\"#7201a8\"],[0.3333333333333333,\"#9c179e\"],[0.4444444444444444,\"#bd3786\"],[0.5555555555555556,\"#d8576b\"],[0.6666666666666666,\"#ed7953\"],[0.7777777777777778,\"#fb9f3a\"],[0.8888888888888888,\"#fdca26\"],[1.0,\"#f0f921\"]],\"sequentialminus\":[[0.0,\"#0d0887\"],[0.1111111111111111,\"#46039f\"],[0.2222222222222222,\"#7201a8\"],[0.3333333333333333,\"#9c179e\"],[0.4444444444444444,\"#bd3786\"],[0.5555555555555556,\"#d8576b\"],[0.6666666666666666,\"#ed7953\"],[0.7777777777777778,\"#fb9f3a\"],[0.8888888888888888,\"#fdca26\"],[1.0,\"#f0f921\"]],\"diverging\":[[0,\"#8e0152\"],[0.1,\"#c51b7d\"],[0.2,\"#de77ae\"],[0.3,\"#f1b6da\"],[0.4,\"#fde0ef\"],[0.5,\"#f7f7f7\"],[0.6,\"#e6f5d0\"],[0.7,\"#b8e186\"],[0.8,\"#7fbc41\"],[0.9,\"#4d9221\"],[1,\"#276419\"]]},\"xaxis\":{\"gridcolor\":\"white\",\"linecolor\":\"white\",\"ticks\":\"\",\"title\":{\"standoff\":15},\"zerolinecolor\":\"white\",\"automargin\":true,\"zerolinewidth\":2},\"yaxis\":{\"gridcolor\":\"white\",\"linecolor\":\"white\",\"ticks\":\"\",\"title\":{\"standoff\":15},\"zerolinecolor\":\"white\",\"automargin\":true,\"zerolinewidth\":2},\"scene\":{\"xaxis\":{\"backgroundcolor\":\"#E5ECF6\",\"gridcolor\":\"white\",\"linecolor\":\"white\",\"showbackground\":true,\"ticks\":\"\",\"zerolinecolor\":\"white\",\"gridwidth\":2},\"yaxis\":{\"backgroundcolor\":\"#E5ECF6\",\"gridcolor\":\"white\",\"linecolor\":\"white\",\"showbackground\":true,\"ticks\":\"\",\"zerolinecolor\":\"white\",\"gridwidth\":2},\"zaxis\":{\"backgroundcolor\":\"#E5ECF6\",\"gridcolor\":\"white\",\"linecolor\":\"white\",\"showbackground\":true,\"ticks\":\"\",\"zerolinecolor\":\"white\",\"gridwidth\":2}},\"shapedefaults\":{\"line\":{\"color\":\"#2a3f5f\"}},\"annotationdefaults\":{\"arrowcolor\":\"#2a3f5f\",\"arrowhead\":0,\"arrowwidth\":1},\"geo\":{\"bgcolor\":\"white\",\"landcolor\":\"#E5ECF6\",\"subunitcolor\":\"white\",\"showland\":true,\"showlakes\":true,\"lakecolor\":\"white\"},\"title\":{\"x\":0.05},\"mapbox\":{\"style\":\"light\"}}},\"scene\":{\"domain\":{\"x\":[0.0,1.0],\"y\":[0.0,1.0]},\"xaxis\":{\"title\":{\"text\":\"PC1\"}},\"yaxis\":{\"title\":{\"text\":\"PC2\"}},\"zaxis\":{\"title\":{\"text\":\"PC3\"}}},\"legend\":{\"tracegroupgap\":0},\"margin\":{\"t\":60}},                        {\"responsive\": true}                    ).then(function(){\n",
       "                            \n",
       "var gd = document.getElementById('a109d6e9-f358-4241-9c1a-be7ee6751055');\n",
       "var x = new MutationObserver(function (mutations, observer) {{\n",
       "        var display = window.getComputedStyle(gd).display;\n",
       "        if (!display || display === 'none') {{\n",
       "            console.log([gd, 'removed!']);\n",
       "            Plotly.purge(gd);\n",
       "            observer.disconnect();\n",
       "        }}\n",
       "}});\n",
       "\n",
       "// Listen for the removal of the full notebook cells\n",
       "var notebookContainer = gd.closest('#notebook-container');\n",
       "if (notebookContainer) {{\n",
       "    x.observe(notebookContainer, {childList: true});\n",
       "}}\n",
       "\n",
       "// Listen for the clearing of the current output cell\n",
       "var outputEl = gd.closest('.output');\n",
       "if (outputEl) {{\n",
       "    x.observe(outputEl, {childList: true});\n",
       "}}\n",
       "\n",
       "                        })                };                });            </script>        </div>"
      ]
     },
     "metadata": {},
     "output_type": "display_data"
    }
   ],
   "source": [
    "# 5. Loadings Plot\n",
    "\n",
    "loadings_label = df_loadings.index\n",
    "# loadings_label = df_loadings.index.str.strip(' (cm)')\n",
    "\n",
    "fig = px.scatter_3d(df_loadings, x='PC1', y='PC2', z='PC3', text=loadings_label)\n",
    "fig.show()"
   ]
  },
  {
   "cell_type": "code",
   "execution_count": 61,
   "id": "23f02a93",
   "metadata": {},
   "outputs": [
    {
     "data": {
      "text/plain": [
       "Index(['Freq(Hz)', 'Z'(a)', 'Z''(b)', 'antiHIVmicrog/ml', 'antiHCVmicrog/ml'], dtype='object')"
      ]
     },
     "execution_count": 61,
     "metadata": {},
     "output_type": "execute_result"
    }
   ],
   "source": [
    "loadings_label"
   ]
  },
  {
   "cell_type": "code",
   "execution_count": 62,
   "id": "2a29975b",
   "metadata": {},
   "outputs": [
    {
     "data": {
      "text/html": [
       "<div>\n",
       "<style scoped>\n",
       "    .dataframe tbody tr th:only-of-type {\n",
       "        vertical-align: middle;\n",
       "    }\n",
       "\n",
       "    .dataframe tbody tr th {\n",
       "        vertical-align: top;\n",
       "    }\n",
       "\n",
       "    .dataframe thead th {\n",
       "        text-align: right;\n",
       "    }\n",
       "</style>\n",
       "<table border=\"1\" class=\"dataframe\">\n",
       "  <thead>\n",
       "    <tr style=\"text-align: right;\">\n",
       "      <th></th>\n",
       "      <th>PC1</th>\n",
       "      <th>PC2</th>\n",
       "      <th>PC3</th>\n",
       "    </tr>\n",
       "  </thead>\n",
       "  <tbody>\n",
       "    <tr>\n",
       "      <th>Freq(Hz)</th>\n",
       "      <td>-0.251309</td>\n",
       "      <td>-0.029265</td>\n",
       "      <td>0.967308</td>\n",
       "    </tr>\n",
       "    <tr>\n",
       "      <th>Z'(a)</th>\n",
       "      <td>0.682369</td>\n",
       "      <td>0.051997</td>\n",
       "      <td>0.186473</td>\n",
       "    </tr>\n",
       "    <tr>\n",
       "      <th>Z''(b)</th>\n",
       "      <td>-0.685216</td>\n",
       "      <td>0.004309</td>\n",
       "      <td>-0.169956</td>\n",
       "    </tr>\n",
       "    <tr>\n",
       "      <th>antiHIVmicrog/ml</th>\n",
       "      <td>-0.021294</td>\n",
       "      <td>0.707893</td>\n",
       "      <td>0.025577</td>\n",
       "    </tr>\n",
       "    <tr>\n",
       "      <th>antiHCVmicrog/ml</th>\n",
       "      <td>0.035252</td>\n",
       "      <td>-0.703782</td>\n",
       "      <td>-0.001761</td>\n",
       "    </tr>\n",
       "  </tbody>\n",
       "</table>\n",
       "</div>"
      ],
      "text/plain": [
       "                       PC1       PC2       PC3\n",
       "Freq(Hz)         -0.251309 -0.029265  0.967308\n",
       "Z'(a)             0.682369  0.051997  0.186473\n",
       "Z''(b)           -0.685216  0.004309 -0.169956\n",
       "antiHIVmicrog/ml -0.021294  0.707893  0.025577\n",
       "antiHCVmicrog/ml  0.035252 -0.703782 -0.001761"
      ]
     },
     "execution_count": 62,
     "metadata": {},
     "output_type": "execute_result"
    }
   ],
   "source": [
    "df_loadings"
   ]
  },
  {
   "cell_type": "code",
   "execution_count": null,
   "id": "53e14b6f",
   "metadata": {},
   "outputs": [],
   "source": []
  }
 ],
 "metadata": {
  "kernelspec": {
   "display_name": "Python 3 (ipykernel)",
   "language": "python",
   "name": "python3"
  },
  "language_info": {
   "codemirror_mode": {
    "name": "ipython",
    "version": 3
   },
   "file_extension": ".py",
   "mimetype": "text/x-python",
   "name": "python",
   "nbconvert_exporter": "python",
   "pygments_lexer": "ipython3",
   "version": "3.9.7"
  }
 },
 "nbformat": 4,
 "nbformat_minor": 5
}
