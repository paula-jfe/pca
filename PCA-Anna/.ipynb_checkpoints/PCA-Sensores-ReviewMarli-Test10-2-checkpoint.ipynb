{
 "cells": [
  {
   "cell_type": "code",
   "execution_count": 33,
   "id": "bd47be45",
   "metadata": {},
   "outputs": [
    {
     "name": "stdout",
     "output_type": "stream",
     "text": [
      "     Sensor  Eletrodo    Freq(Hz)     Z'(a)       Z''(b)  antiHIVmicrog/ml  \\\n",
      "0       1.0       6.0  1000000.00      72.5       11.300               0.1   \n",
      "1       1.0       6.0   794000.00      72.7        6.960               0.1   \n",
      "2       1.0       6.0   631000.00      72.8        3.110               0.1   \n",
      "3       1.0       6.0   501000.00      73.0       -0.578               0.1   \n",
      "4       1.0       6.0   398000.00      73.3       -4.270               0.1   \n",
      "..      ...       ...         ...       ...          ...               ...   \n",
      "971     2.0       2.0        2.51  281000.0  -660000.000               0.0   \n",
      "972     2.0       2.0        2.00  347000.0  -778000.000               0.0   \n",
      "973     2.0       2.0        1.58  425000.0  -912000.000               0.0   \n",
      "974     2.0       2.0        1.26  519000.0 -1070000.000               0.0   \n",
      "975     2.0       2.0        1.00  630000.0 -1260000.000               0.0   \n",
      "\n",
      "     antiHCVmicrog/ml  \n",
      "0                 0.1  \n",
      "1                 0.1  \n",
      "2                 0.1  \n",
      "3                 0.1  \n",
      "4                 0.1  \n",
      "..                ...  \n",
      "971               0.1  \n",
      "972               0.1  \n",
      "973               0.1  \n",
      "974               0.1  \n",
      "975               0.1  \n",
      "\n",
      "[976 rows x 7 columns]\n"
     ]
    },
    {
     "data": {
      "text/html": [
       "<div>\n",
       "<style scoped>\n",
       "    .dataframe tbody tr th:only-of-type {\n",
       "        vertical-align: middle;\n",
       "    }\n",
       "\n",
       "    .dataframe tbody tr th {\n",
       "        vertical-align: top;\n",
       "    }\n",
       "\n",
       "    .dataframe thead th {\n",
       "        text-align: right;\n",
       "    }\n",
       "</style>\n",
       "<table border=\"1\" class=\"dataframe\">\n",
       "  <thead>\n",
       "    <tr style=\"text-align: right;\">\n",
       "      <th></th>\n",
       "      <th>Sensor</th>\n",
       "      <th>Eletrodo</th>\n",
       "      <th>Freq(Hz)</th>\n",
       "      <th>Z'(a)</th>\n",
       "      <th>Z''(b)</th>\n",
       "      <th>antiHIVmicrog/ml</th>\n",
       "      <th>antiHCVmicrog/ml</th>\n",
       "    </tr>\n",
       "  </thead>\n",
       "  <tbody>\n",
       "    <tr>\n",
       "      <th>0</th>\n",
       "      <td>1.0</td>\n",
       "      <td>6.0</td>\n",
       "      <td>1000000.0</td>\n",
       "      <td>72.5</td>\n",
       "      <td>11.300</td>\n",
       "      <td>0.1</td>\n",
       "      <td>0.1</td>\n",
       "    </tr>\n",
       "    <tr>\n",
       "      <th>1</th>\n",
       "      <td>1.0</td>\n",
       "      <td>6.0</td>\n",
       "      <td>794000.0</td>\n",
       "      <td>72.7</td>\n",
       "      <td>6.960</td>\n",
       "      <td>0.1</td>\n",
       "      <td>0.1</td>\n",
       "    </tr>\n",
       "    <tr>\n",
       "      <th>2</th>\n",
       "      <td>1.0</td>\n",
       "      <td>6.0</td>\n",
       "      <td>631000.0</td>\n",
       "      <td>72.8</td>\n",
       "      <td>3.110</td>\n",
       "      <td>0.1</td>\n",
       "      <td>0.1</td>\n",
       "    </tr>\n",
       "    <tr>\n",
       "      <th>3</th>\n",
       "      <td>1.0</td>\n",
       "      <td>6.0</td>\n",
       "      <td>501000.0</td>\n",
       "      <td>73.0</td>\n",
       "      <td>-0.578</td>\n",
       "      <td>0.1</td>\n",
       "      <td>0.1</td>\n",
       "    </tr>\n",
       "    <tr>\n",
       "      <th>4</th>\n",
       "      <td>1.0</td>\n",
       "      <td>6.0</td>\n",
       "      <td>398000.0</td>\n",
       "      <td>73.3</td>\n",
       "      <td>-4.270</td>\n",
       "      <td>0.1</td>\n",
       "      <td>0.1</td>\n",
       "    </tr>\n",
       "  </tbody>\n",
       "</table>\n",
       "</div>"
      ],
      "text/plain": [
       "   Sensor  Eletrodo   Freq(Hz)  Z'(a)  Z''(b)  antiHIVmicrog/ml  \\\n",
       "0     1.0       6.0  1000000.0   72.5  11.300               0.1   \n",
       "1     1.0       6.0   794000.0   72.7   6.960               0.1   \n",
       "2     1.0       6.0   631000.0   72.8   3.110               0.1   \n",
       "3     1.0       6.0   501000.0   73.0  -0.578               0.1   \n",
       "4     1.0       6.0   398000.0   73.3  -4.270               0.1   \n",
       "\n",
       "   antiHCVmicrog/ml  \n",
       "0               0.1  \n",
       "1               0.1  \n",
       "2               0.1  \n",
       "3               0.1  \n",
       "4               0.1  "
      ]
     },
     "execution_count": 33,
     "metadata": {},
     "output_type": "execute_result"
    }
   ],
   "source": [
    "# 1. PCA dataset\n",
    "import pandas as pd\n",
    "\n",
    "df = pd.read_csv('../../mestrado/ReviewMarli/Sensor/allSensorsData10-2.csv')\n",
    "print(df)\n",
    "\n",
    "# df['Sensor'] = df['Sensor'].astype('string')\n",
    "df.head()"
   ]
  },
  {
   "cell_type": "code",
   "execution_count": 34,
   "id": "b97d429c",
   "metadata": {},
   "outputs": [
    {
     "name": "stdout",
     "output_type": "stream",
     "text": [
      "Sensor              float64\n",
      "Eletrodo            float64\n",
      "Freq(Hz)            float64\n",
      "Z'(a)               float64\n",
      "Z''(b)              float64\n",
      "antiHIVmicrog/ml    float64\n",
      "antiHCVmicrog/ml    float64\n",
      "dtype: object\n"
     ]
    }
   ],
   "source": [
    "print(df.dtypes)"
   ]
  },
  {
   "cell_type": "code",
   "execution_count": 35,
   "id": "2793002c",
   "metadata": {},
   "outputs": [
    {
     "data": {
      "text/plain": [
       "array([[ 6.00e+00,  1.00e+06,  7.25e+01,  1.13e+01,  1.00e-01,  1.00e-01],\n",
       "       [ 6.00e+00,  7.94e+05,  7.27e+01,  6.96e+00,  1.00e-01,  1.00e-01],\n",
       "       [ 6.00e+00,  6.31e+05,  7.28e+01,  3.11e+00,  1.00e-01,  1.00e-01],\n",
       "       ...,\n",
       "       [ 2.00e+00,  1.58e+00,  4.25e+05, -9.12e+05,  0.00e+00,  1.00e-01],\n",
       "       [ 2.00e+00,  1.26e+00,  5.19e+05, -1.07e+06,  0.00e+00,  1.00e-01],\n",
       "       [ 2.00e+00,  1.00e+00,  6.30e+05, -1.26e+06,  0.00e+00,  1.00e-01]])"
      ]
     },
     "execution_count": 35,
     "metadata": {},
     "output_type": "execute_result"
    }
   ],
   "source": [
    "df_features = df.iloc[:,1:].copy()\n",
    "X = df_features.to_numpy()\n",
    "# X = df.values\n",
    "X"
   ]
  },
  {
   "cell_type": "code",
   "execution_count": 36,
   "id": "06f1eddb",
   "metadata": {},
   "outputs": [
    {
     "data": {
      "text/plain": [
       "array([1., 1., 1., 1., 1., 1., 1., 1., 1., 1., 1., 1., 1., 1., 1., 1., 1.,\n",
       "       1., 1., 1., 1., 1., 1., 1., 1., 1., 1., 1., 1., 1., 1., 1., 1., 1.,\n",
       "       1., 1., 1., 1., 1., 1., 1., 1., 1., 1., 1., 1., 1., 1., 1., 1., 1.,\n",
       "       1., 1., 1., 1., 1., 1., 1., 1., 1., 1., 1., 1., 1., 1., 1., 1., 1.,\n",
       "       1., 1., 1., 1., 1., 1., 1., 1., 1., 1., 1., 1., 1., 1., 1., 1., 1.,\n",
       "       1., 1., 1., 1., 1., 1., 1., 1., 1., 1., 1., 1., 1., 1., 1., 1., 1.,\n",
       "       1., 1., 1., 1., 1., 1., 1., 1., 1., 1., 1., 1., 1., 1., 1., 1., 1.,\n",
       "       1., 1., 1., 1., 1., 1., 1., 1., 1., 1., 1., 1., 1., 1., 1., 1., 1.,\n",
       "       1., 1., 1., 1., 1., 1., 1., 1., 1., 1., 1., 1., 1., 1., 1., 1., 1.,\n",
       "       1., 1., 1., 1., 1., 1., 1., 1., 1., 1., 1., 1., 1., 1., 1., 1., 1.,\n",
       "       1., 1., 1., 1., 1., 1., 1., 1., 1., 1., 1., 1., 1., 1., 1., 1., 1.,\n",
       "       1., 1., 1., 1., 1., 1., 1., 1., 1., 1., 1., 1., 1., 1., 1., 1., 1.,\n",
       "       1., 1., 1., 1., 1., 1., 1., 1., 1., 1., 1., 1., 1., 1., 1., 1., 1.,\n",
       "       1., 1., 1., 1., 1., 1., 1., 1., 1., 1., 1., 1., 1., 1., 1., 1., 1.,\n",
       "       1., 1., 1., 1., 1., 1., 1., 1., 1., 1., 1., 1., 1., 1., 1., 1., 1.,\n",
       "       1., 1., 1., 1., 1., 1., 1., 1., 1., 1., 1., 1., 1., 1., 1., 1., 1.,\n",
       "       1., 1., 1., 1., 1., 1., 1., 1., 1., 1., 1., 1., 1., 1., 1., 1., 1.,\n",
       "       1., 1., 1., 1., 1., 1., 1., 1., 1., 1., 1., 1., 1., 1., 1., 1., 1.,\n",
       "       1., 1., 1., 1., 1., 1., 1., 1., 1., 1., 1., 1., 1., 1., 1., 1., 1.,\n",
       "       1., 1., 1., 1., 1., 1., 1., 1., 1., 1., 1., 1., 1., 1., 1., 1., 1.,\n",
       "       1., 1., 1., 1., 1., 1., 1., 1., 1., 1., 1., 1., 1., 1., 1., 1., 1.,\n",
       "       1., 1., 1., 1., 1., 1., 1., 1., 1., 1., 1., 1., 1., 1., 1., 1., 1.,\n",
       "       1., 1., 1., 1., 1., 1., 1., 1., 1., 1., 1., 1., 1., 1., 1., 1., 1.,\n",
       "       1., 1., 1., 1., 1., 1., 1., 1., 1., 1., 1., 1., 1., 1., 1., 1., 1.,\n",
       "       1., 1., 1., 1., 1., 1., 1., 1., 1., 1., 1., 1., 1., 1., 1., 1., 1.,\n",
       "       1., 1., 1., 1., 1., 1., 1., 1., 1., 1., 1., 1., 1., 1., 1., 1., 1.,\n",
       "       1., 1., 1., 1., 1., 1., 1., 1., 1., 1., 1., 1., 1., 1., 1., 1., 1.,\n",
       "       1., 1., 1., 1., 1., 1., 1., 1., 1., 1., 1., 1., 1., 1., 1., 1., 1.,\n",
       "       1., 1., 1., 1., 1., 1., 1., 1., 1., 1., 1., 1., 1., 1., 1., 1., 1.,\n",
       "       1., 1., 1., 1., 1., 1., 1., 1., 1., 1., 1., 1., 1., 1., 1., 1., 1.,\n",
       "       1., 1., 1., 1., 1., 1., 1., 1., 1., 1., 1., 1., 1., 1., 1., 1., 1.,\n",
       "       1., 1., 1., 1., 1., 1., 1., 1., 1., 1., 1., 1., 1., 1., 1., 1., 1.,\n",
       "       1., 1., 1., 1., 1., 1., 1., 1., 1., 1., 1., 1., 1., 1., 1., 1., 1.,\n",
       "       1., 1., 1., 1., 1., 1., 1., 1., 1., 1., 1., 1., 1., 1., 1., 1., 1.,\n",
       "       1., 1., 1., 1., 1., 1., 1., 1., 1., 1., 1., 1., 1., 1., 1., 1., 1.,\n",
       "       1., 1., 1., 1., 1., 1., 1., 1., 1., 1., 1., 1., 1., 1., 1., 2., 2.,\n",
       "       2., 2., 2., 2., 2., 2., 2., 2., 2., 2., 2., 2., 2., 2., 2., 2., 2.,\n",
       "       2., 2., 2., 2., 2., 2., 2., 2., 2., 2., 2., 2., 2., 2., 2., 2., 2.,\n",
       "       2., 2., 2., 2., 2., 2., 2., 2., 2., 2., 2., 2., 2., 2., 2., 2., 2.,\n",
       "       2., 2., 2., 2., 2., 2., 2., 2., 2., 2., 2., 2., 2., 2., 2., 2., 2.,\n",
       "       2., 2., 2., 2., 2., 2., 2., 2., 2., 2., 2., 2., 2., 2., 2., 2., 2.,\n",
       "       2., 2., 2., 2., 2., 2., 2., 2., 2., 2., 2., 2., 2., 2., 2., 2., 2.,\n",
       "       2., 2., 2., 2., 2., 2., 2., 2., 2., 2., 2., 2., 2., 2., 2., 2., 2.,\n",
       "       2., 2., 2., 2., 2., 2., 2., 2., 2., 2., 2., 2., 2., 2., 2., 2., 2.,\n",
       "       2., 2., 2., 2., 2., 2., 2., 2., 2., 2., 2., 2., 2., 2., 2., 2., 2.,\n",
       "       2., 2., 2., 2., 2., 2., 2., 2., 2., 2., 2., 2., 2., 2., 2., 2., 2.,\n",
       "       2., 2., 2., 2., 2., 2., 2., 2., 2., 2., 2., 2., 2., 2., 2., 2., 2.,\n",
       "       2., 2., 2., 2., 2., 2., 2., 2., 2., 2., 2., 2., 2., 2., 2., 2., 2.,\n",
       "       2., 2., 2., 2., 2., 2., 2., 2., 2., 2., 2., 2., 2., 2., 2., 2., 2.,\n",
       "       2., 2., 2., 2., 2., 2., 2., 2., 2., 2., 2., 2., 2., 2., 2., 2., 2.,\n",
       "       2., 2., 2., 2., 2., 2., 2., 2., 2., 2., 2., 2., 2., 2., 2., 2., 2.,\n",
       "       2., 2., 2., 2., 2., 2., 2., 2., 2., 2., 2., 2., 2., 2., 2., 2., 2.,\n",
       "       2., 2., 2., 2., 2., 2., 2., 2., 2., 2., 2., 2., 2., 2., 2., 2., 2.,\n",
       "       2., 2., 2., 2., 2., 2., 2., 2., 2., 2., 2., 2., 2., 2., 2., 2., 2.,\n",
       "       2., 2., 2., 2., 2., 2., 2., 2., 2., 2., 2., 2., 2., 2., 2., 2., 2.,\n",
       "       2., 2., 2., 2., 2., 2., 2., 2., 2., 2., 2., 2., 2., 2., 2., 2., 2.,\n",
       "       2., 2., 2., 2., 2., 2., 2., 2., 2., 2., 2., 2., 2., 2., 2., 2., 2.,\n",
       "       2., 2., 2., 2., 2., 2., 2.])"
      ]
     },
     "execution_count": 36,
     "metadata": {},
     "output_type": "execute_result"
    }
   ],
   "source": [
    "Y = df.iloc[:, 0].to_numpy()\n",
    "Y"
   ]
  },
  {
   "cell_type": "code",
   "execution_count": 37,
   "id": "2662966b",
   "metadata": {},
   "outputs": [
    {
     "data": {
      "text/plain": [
       "(976, 6)"
      ]
     },
     "execution_count": 37,
     "metadata": {},
     "output_type": "execute_result"
    }
   ],
   "source": [
    "X.shape"
   ]
  },
  {
   "cell_type": "code",
   "execution_count": 38,
   "id": "48e8bd23",
   "metadata": {},
   "outputs": [
    {
     "data": {
      "text/plain": [
       "(976,)"
      ]
     },
     "execution_count": 38,
     "metadata": {},
     "output_type": "execute_result"
    }
   ],
   "source": [
    "Y.shape"
   ]
  },
  {
   "cell_type": "code",
   "execution_count": 39,
   "id": "e91754d2",
   "metadata": {},
   "outputs": [],
   "source": [
    "# 2. PCA analysis\n",
    "# 2.1 Load library\n",
    "\n",
    "from sklearn.preprocessing import scale # Data scaling\n",
    "from sklearn import decomposition # PCA\n",
    "import pandas as pd # pandas"
   ]
  },
  {
   "cell_type": "code",
   "execution_count": 40,
   "id": "ceb76bfe",
   "metadata": {},
   "outputs": [
    {
     "data": {
      "text/plain": [
       "array([[ 2.33333333,  4.71762672, -0.38043801,  0.34995903, -0.45329841,\n",
       "         0.62114956],\n",
       "       [ 2.33333333,  3.66164406, -0.38043573,  0.34994564, -0.45329841,\n",
       "         0.62114956],\n",
       "       [ 2.33333333,  2.82608496, -0.38043459,  0.34993376, -0.45329841,\n",
       "         0.62114956],\n",
       "       ...,\n",
       "       [-0.33333333, -0.4084946 ,  4.47042831, -2.46424814, -0.69505757,\n",
       "         0.62114956],\n",
       "       [-0.33333333, -0.40849624,  5.54350886, -2.95179115, -0.69505757,\n",
       "         0.62114956],\n",
       "       [-0.33333333, -0.40849758,  6.81065717, -3.53807704, -0.69505757,\n",
       "         0.62114956]])"
      ]
     },
     "execution_count": 40,
     "metadata": {},
     "output_type": "execute_result"
    }
   ],
   "source": [
    "# 2.2 Data scaling\n",
    "x = scale(X)\n",
    "\n",
    "# Standardize the Data\n",
    "# PCA is effected by scale so you need to scale the features in your data before applying PCA. Use StandardScaler to help you standardize the dataset’s features onto unit scale (mean = 0 and variance = 1) which is a requirement for the optimal performance of many machine learning algorithms.\n",
    "x"
   ]
  },
  {
   "cell_type": "code",
   "execution_count": 41,
   "id": "6f304c80",
   "metadata": {},
   "outputs": [
    {
     "data": {
      "text/plain": [
       "PCA(n_components=3)"
      ]
     },
     "execution_count": 41,
     "metadata": {},
     "output_type": "execute_result"
    }
   ],
   "source": [
    "# 2.3 Perform PCA analysis\n",
    "pca = decomposition.PCA(n_components=3)\n",
    "pca.fit(x) # when build the model we use pca.fit function. Where by the argument will be the input data, which essencially is the x variable\n",
    "# we are using the x variable because pca is an unsupervised learning approach, meaning that it does not need the y variable or the class label in order to learn\n",
    "# it`ll goind to cluster the data based on similarity and differences, based on the eigenvalue that are inherently present in the data set"
   ]
  },
  {
   "cell_type": "code",
   "execution_count": 42,
   "id": "8f682d81",
   "metadata": {},
   "outputs": [],
   "source": [
    "# 2.4 compure the scores value\n",
    "# scores value will essentially be represented by the data samples so we`re gonna use the pca.transform function\n",
    "scores = pca.transform(x)"
   ]
  },
  {
   "cell_type": "code",
   "execution_count": 43,
   "id": "32ea2324",
   "metadata": {},
   "outputs": [
    {
     "data": {
      "text/plain": [
       "array([[-1.71764271, -1.02896363,  1.85646906],\n",
       "       [-1.50308814, -0.86565881,  1.08071001],\n",
       "       [-1.33331885, -0.73644173,  0.46688124],\n",
       "       ...,\n",
       "       [ 4.76276961,  1.20722988,  0.1738017 ],\n",
       "       [ 5.71911665,  1.66544426,  0.29527113],\n",
       "       [ 6.85489959,  2.20947211,  0.43916026]])"
      ]
     },
     "execution_count": 43,
     "metadata": {},
     "output_type": "execute_result"
    }
   ],
   "source": [
    "scores"
   ]
  },
  {
   "cell_type": "code",
   "execution_count": 44,
   "id": "0dc9ebaf",
   "metadata": {},
   "outputs": [
    {
     "data": {
      "text/html": [
       "<div>\n",
       "<style scoped>\n",
       "    .dataframe tbody tr th:only-of-type {\n",
       "        vertical-align: middle;\n",
       "    }\n",
       "\n",
       "    .dataframe tbody tr th {\n",
       "        vertical-align: top;\n",
       "    }\n",
       "\n",
       "    .dataframe thead th {\n",
       "        text-align: right;\n",
       "    }\n",
       "</style>\n",
       "<table border=\"1\" class=\"dataframe\">\n",
       "  <thead>\n",
       "    <tr style=\"text-align: right;\">\n",
       "      <th></th>\n",
       "      <th>PC1</th>\n",
       "      <th>PC2</th>\n",
       "      <th>PC3</th>\n",
       "    </tr>\n",
       "  </thead>\n",
       "  <tbody>\n",
       "    <tr>\n",
       "      <th>0</th>\n",
       "      <td>-1.717643</td>\n",
       "      <td>-1.028964</td>\n",
       "      <td>1.856469</td>\n",
       "    </tr>\n",
       "    <tr>\n",
       "      <th>1</th>\n",
       "      <td>-1.503088</td>\n",
       "      <td>-0.865659</td>\n",
       "      <td>1.080710</td>\n",
       "    </tr>\n",
       "    <tr>\n",
       "      <th>2</th>\n",
       "      <td>-1.333319</td>\n",
       "      <td>-0.736442</td>\n",
       "      <td>0.466881</td>\n",
       "    </tr>\n",
       "    <tr>\n",
       "      <th>3</th>\n",
       "      <td>-1.197918</td>\n",
       "      <td>-0.633384</td>\n",
       "      <td>-0.022675</td>\n",
       "    </tr>\n",
       "    <tr>\n",
       "      <th>4</th>\n",
       "      <td>-1.090636</td>\n",
       "      <td>-0.551730</td>\n",
       "      <td>-0.410554</td>\n",
       "    </tr>\n",
       "    <tr>\n",
       "      <th>...</th>\n",
       "      <td>...</td>\n",
       "      <td>...</td>\n",
       "      <td>...</td>\n",
       "    </tr>\n",
       "    <tr>\n",
       "      <th>971</th>\n",
       "      <td>3.278892</td>\n",
       "      <td>0.496723</td>\n",
       "      <td>-0.013590</td>\n",
       "    </tr>\n",
       "    <tr>\n",
       "      <th>972</th>\n",
       "      <td>3.963731</td>\n",
       "      <td>0.824522</td>\n",
       "      <td>0.072627</td>\n",
       "    </tr>\n",
       "    <tr>\n",
       "      <th>973</th>\n",
       "      <td>4.762770</td>\n",
       "      <td>1.207230</td>\n",
       "      <td>0.173802</td>\n",
       "    </tr>\n",
       "    <tr>\n",
       "      <th>974</th>\n",
       "      <td>5.719117</td>\n",
       "      <td>1.665444</td>\n",
       "      <td>0.295271</td>\n",
       "    </tr>\n",
       "    <tr>\n",
       "      <th>975</th>\n",
       "      <td>6.854900</td>\n",
       "      <td>2.209472</td>\n",
       "      <td>0.439160</td>\n",
       "    </tr>\n",
       "  </tbody>\n",
       "</table>\n",
       "<p>976 rows × 3 columns</p>\n",
       "</div>"
      ],
      "text/plain": [
       "          PC1       PC2       PC3\n",
       "0   -1.717643 -1.028964  1.856469\n",
       "1   -1.503088 -0.865659  1.080710\n",
       "2   -1.333319 -0.736442  0.466881\n",
       "3   -1.197918 -0.633384 -0.022675\n",
       "4   -1.090636 -0.551730 -0.410554\n",
       "..        ...       ...       ...\n",
       "971  3.278892  0.496723 -0.013590\n",
       "972  3.963731  0.824522  0.072627\n",
       "973  4.762770  1.207230  0.173802\n",
       "974  5.719117  1.665444  0.295271\n",
       "975  6.854900  2.209472  0.439160\n",
       "\n",
       "[976 rows x 3 columns]"
      ]
     },
     "execution_count": 44,
     "metadata": {},
     "output_type": "execute_result"
    }
   ],
   "source": [
    "scores_df = pd.DataFrame(scores, columns=['PC1', 'PC2', 'PC3']) # dataframe is to make more readable\n",
    "scores_df"
   ]
  },
  {
   "cell_type": "code",
   "execution_count": 45,
   "id": "97c3d65b",
   "metadata": {},
   "outputs": [],
   "source": [
    "y_label = []\n",
    "\n",
    "for i in Y:\n",
    "    if i == 1:\n",
    "        y_label.append('HCV')\n",
    "    else:\n",
    "        y_label.append('HIV')\n",
    "\n",
    "sensors = pd.DataFrame(y_label, columns=['Sensor'])"
   ]
  },
  {
   "cell_type": "code",
   "execution_count": 46,
   "id": "5bff75c1",
   "metadata": {},
   "outputs": [
    {
     "data": {
      "text/html": [
       "<div>\n",
       "<style scoped>\n",
       "    .dataframe tbody tr th:only-of-type {\n",
       "        vertical-align: middle;\n",
       "    }\n",
       "\n",
       "    .dataframe tbody tr th {\n",
       "        vertical-align: top;\n",
       "    }\n",
       "\n",
       "    .dataframe thead th {\n",
       "        text-align: right;\n",
       "    }\n",
       "</style>\n",
       "<table border=\"1\" class=\"dataframe\">\n",
       "  <thead>\n",
       "    <tr style=\"text-align: right;\">\n",
       "      <th></th>\n",
       "      <th>PC1</th>\n",
       "      <th>PC2</th>\n",
       "      <th>PC3</th>\n",
       "      <th>Sensor</th>\n",
       "    </tr>\n",
       "  </thead>\n",
       "  <tbody>\n",
       "    <tr>\n",
       "      <th>0</th>\n",
       "      <td>-1.717643</td>\n",
       "      <td>-1.028964</td>\n",
       "      <td>1.856469</td>\n",
       "      <td>HCV</td>\n",
       "    </tr>\n",
       "    <tr>\n",
       "      <th>1</th>\n",
       "      <td>-1.503088</td>\n",
       "      <td>-0.865659</td>\n",
       "      <td>1.080710</td>\n",
       "      <td>HCV</td>\n",
       "    </tr>\n",
       "    <tr>\n",
       "      <th>2</th>\n",
       "      <td>-1.333319</td>\n",
       "      <td>-0.736442</td>\n",
       "      <td>0.466881</td>\n",
       "      <td>HCV</td>\n",
       "    </tr>\n",
       "    <tr>\n",
       "      <th>3</th>\n",
       "      <td>-1.197918</td>\n",
       "      <td>-0.633384</td>\n",
       "      <td>-0.022675</td>\n",
       "      <td>HCV</td>\n",
       "    </tr>\n",
       "    <tr>\n",
       "      <th>4</th>\n",
       "      <td>-1.090636</td>\n",
       "      <td>-0.551730</td>\n",
       "      <td>-0.410554</td>\n",
       "      <td>HCV</td>\n",
       "    </tr>\n",
       "    <tr>\n",
       "      <th>...</th>\n",
       "      <td>...</td>\n",
       "      <td>...</td>\n",
       "      <td>...</td>\n",
       "      <td>...</td>\n",
       "    </tr>\n",
       "    <tr>\n",
       "      <th>971</th>\n",
       "      <td>3.278892</td>\n",
       "      <td>0.496723</td>\n",
       "      <td>-0.013590</td>\n",
       "      <td>HIV</td>\n",
       "    </tr>\n",
       "    <tr>\n",
       "      <th>972</th>\n",
       "      <td>3.963731</td>\n",
       "      <td>0.824522</td>\n",
       "      <td>0.072627</td>\n",
       "      <td>HIV</td>\n",
       "    </tr>\n",
       "    <tr>\n",
       "      <th>973</th>\n",
       "      <td>4.762770</td>\n",
       "      <td>1.207230</td>\n",
       "      <td>0.173802</td>\n",
       "      <td>HIV</td>\n",
       "    </tr>\n",
       "    <tr>\n",
       "      <th>974</th>\n",
       "      <td>5.719117</td>\n",
       "      <td>1.665444</td>\n",
       "      <td>0.295271</td>\n",
       "      <td>HIV</td>\n",
       "    </tr>\n",
       "    <tr>\n",
       "      <th>975</th>\n",
       "      <td>6.854900</td>\n",
       "      <td>2.209472</td>\n",
       "      <td>0.439160</td>\n",
       "      <td>HIV</td>\n",
       "    </tr>\n",
       "  </tbody>\n",
       "</table>\n",
       "<p>976 rows × 4 columns</p>\n",
       "</div>"
      ],
      "text/plain": [
       "          PC1       PC2       PC3 Sensor\n",
       "0   -1.717643 -1.028964  1.856469    HCV\n",
       "1   -1.503088 -0.865659  1.080710    HCV\n",
       "2   -1.333319 -0.736442  0.466881    HCV\n",
       "3   -1.197918 -0.633384 -0.022675    HCV\n",
       "4   -1.090636 -0.551730 -0.410554    HCV\n",
       "..        ...       ...       ...    ...\n",
       "971  3.278892  0.496723 -0.013590    HIV\n",
       "972  3.963731  0.824522  0.072627    HIV\n",
       "973  4.762770  1.207230  0.173802    HIV\n",
       "974  5.719117  1.665444  0.295271    HIV\n",
       "975  6.854900  2.209472  0.439160    HIV\n",
       "\n",
       "[976 rows x 4 columns]"
      ]
     },
     "execution_count": 46,
     "metadata": {},
     "output_type": "execute_result"
    }
   ],
   "source": [
    "df_scores = pd.concat([scores_df, sensors], axis=1) # combine dataframes with concat\n",
    "df_scores"
   ]
  },
  {
   "cell_type": "code",
   "execution_count": 47,
   "id": "a8aab444",
   "metadata": {},
   "outputs": [
    {
     "data": {
      "text/plain": [
       "Index(['Eletrodo', 'Freq(Hz)', 'Z'(a)', 'Z''(b)', 'antiHIVmicrog/ml',\n",
       "       'antiHCVmicrog/ml'],\n",
       "      dtype='object')"
      ]
     },
     "execution_count": 47,
     "metadata": {},
     "output_type": "execute_result"
    }
   ],
   "source": [
    "feature_names = df.columns[1:]\n",
    "feature_names"
   ]
  },
  {
   "cell_type": "code",
   "execution_count": 48,
   "id": "c5e3358b",
   "metadata": {},
   "outputs": [
    {
     "data": {
      "text/html": [
       "<div>\n",
       "<style scoped>\n",
       "    .dataframe tbody tr th:only-of-type {\n",
       "        vertical-align: middle;\n",
       "    }\n",
       "\n",
       "    .dataframe tbody tr th {\n",
       "        vertical-align: top;\n",
       "    }\n",
       "\n",
       "    .dataframe thead th {\n",
       "        text-align: right;\n",
       "    }\n",
       "</style>\n",
       "<table border=\"1\" class=\"dataframe\">\n",
       "  <thead>\n",
       "    <tr style=\"text-align: right;\">\n",
       "      <th></th>\n",
       "      <th>PC1</th>\n",
       "      <th>PC2</th>\n",
       "      <th>PC3</th>\n",
       "    </tr>\n",
       "  </thead>\n",
       "  <tbody>\n",
       "    <tr>\n",
       "      <th>Eletrodo</th>\n",
       "      <td>-0.257359</td>\n",
       "      <td>0.244976</td>\n",
       "      <td>-0.593360</td>\n",
       "    </tr>\n",
       "    <tr>\n",
       "      <th>Freq(Hz)</th>\n",
       "      <td>-0.203171</td>\n",
       "      <td>-0.154643</td>\n",
       "      <td>0.734633</td>\n",
       "    </tr>\n",
       "    <tr>\n",
       "      <th>Z'(a)</th>\n",
       "      <td>0.612702</td>\n",
       "      <td>0.300423</td>\n",
       "      <td>0.093796</td>\n",
       "    </tr>\n",
       "    <tr>\n",
       "      <th>Z''(b)</th>\n",
       "      <td>-0.613008</td>\n",
       "      <td>-0.278614</td>\n",
       "      <td>-0.042703</td>\n",
       "    </tr>\n",
       "    <tr>\n",
       "      <th>antiHIVmicrog/ml</th>\n",
       "      <td>-0.229047</td>\n",
       "      <td>0.598298</td>\n",
       "      <td>0.307376</td>\n",
       "    </tr>\n",
       "    <tr>\n",
       "      <th>antiHCVmicrog/ml</th>\n",
       "      <td>0.298064</td>\n",
       "      <td>-0.624685</td>\n",
       "      <td>-0.056006</td>\n",
       "    </tr>\n",
       "  </tbody>\n",
       "</table>\n",
       "</div>"
      ],
      "text/plain": [
       "                       PC1       PC2       PC3\n",
       "Eletrodo         -0.257359  0.244976 -0.593360\n",
       "Freq(Hz)         -0.203171 -0.154643  0.734633\n",
       "Z'(a)             0.612702  0.300423  0.093796\n",
       "Z''(b)           -0.613008 -0.278614 -0.042703\n",
       "antiHIVmicrog/ml -0.229047  0.598298  0.307376\n",
       "antiHCVmicrog/ml  0.298064 -0.624685 -0.056006"
      ]
     },
     "execution_count": 48,
     "metadata": {},
     "output_type": "execute_result"
    }
   ],
   "source": [
    "# 2.5 retrieve the loading values (remember PCA scores and loadings)\n",
    "# loadings value tell about the descriptor and scores value tell about the data samples\n",
    "# 150 flowers 150 score values 4 descriptors 4 loading values (1 for each descriptor)\n",
    "loadings = pca.components_.T\n",
    "df_loadings = pd.DataFrame(loadings, columns=['PC1', 'PC2', 'PC3'], index=feature_names)\n",
    "df_loadings"
   ]
  },
  {
   "cell_type": "code",
   "execution_count": 49,
   "id": "48edfeda",
   "metadata": {},
   "outputs": [
    {
     "data": {
      "text/plain": [
       "array([0.31628589, 0.2596685 , 0.16198989])"
      ]
     },
     "execution_count": 49,
     "metadata": {},
     "output_type": "execute_result"
    }
   ],
   "source": [
    "# 2.6 explained variance\n",
    "# what`s the contribuition to the percent variance of the entire model contributed by each of the principal components\n",
    "explained_variance = pca.explained_variance_ratio_\n",
    "explained_variance"
   ]
  },
  {
   "cell_type": "code",
   "execution_count": 50,
   "id": "2c54679d",
   "metadata": {},
   "outputs": [],
   "source": [
    "# 3. Scree plot\n",
    "import numpy as np\n",
    "import plotly.express as px"
   ]
  },
  {
   "cell_type": "code",
   "execution_count": 51,
   "id": "cdd99943",
   "metadata": {},
   "outputs": [
    {
     "data": {
      "text/plain": [
       "array([0.        , 0.31628589, 0.2596685 , 0.16198989])"
      ]
     },
     "execution_count": 51,
     "metadata": {},
     "output_type": "execute_result"
    }
   ],
   "source": [
    "# 3.1 preparing the explained variance data\n",
    "# add origin value, x and y are going to have origin zero, the subsequent lines of code are going to create the scree plot\n",
    "# the scree plot does not start from zero, then we need to manually create the zero origin\n",
    "explained_variance = np.insert(explained_variance, 0, 0)\n",
    "explained_variance"
   ]
  },
  {
   "cell_type": "code",
   "execution_count": 52,
   "id": "d1642e8b",
   "metadata": {},
   "outputs": [],
   "source": [
    "# 3.2 Preparing cumulative variance data\n",
    "cumulative_variance = np.cumsum(np.round(explained_variance, decimals=3))"
   ]
  },
  {
   "cell_type": "code",
   "execution_count": 53,
   "id": "64e7c30a",
   "metadata": {},
   "outputs": [],
   "source": [
    "# 3.3 Combining dataframe\n",
    "pc_df = pd.DataFrame(['', 'PC1', 'PC2', 'PC3'], columns=['PC'])\n",
    "explained_variance_df = pd.DataFrame(explained_variance, columns=['Explained Variance'])\n",
    "cumulative_variance_df = pd.DataFrame(cumulative_variance, columns=['Cumulative Variance'])"
   ]
  },
  {
   "cell_type": "code",
   "execution_count": 54,
   "id": "b020843f",
   "metadata": {},
   "outputs": [
    {
     "data": {
      "text/html": [
       "<div>\n",
       "<style scoped>\n",
       "    .dataframe tbody tr th:only-of-type {\n",
       "        vertical-align: middle;\n",
       "    }\n",
       "\n",
       "    .dataframe tbody tr th {\n",
       "        vertical-align: top;\n",
       "    }\n",
       "\n",
       "    .dataframe thead th {\n",
       "        text-align: right;\n",
       "    }\n",
       "</style>\n",
       "<table border=\"1\" class=\"dataframe\">\n",
       "  <thead>\n",
       "    <tr style=\"text-align: right;\">\n",
       "      <th></th>\n",
       "      <th>PC</th>\n",
       "      <th>Explained Variance</th>\n",
       "      <th>Cumulative Variance</th>\n",
       "    </tr>\n",
       "  </thead>\n",
       "  <tbody>\n",
       "    <tr>\n",
       "      <th>0</th>\n",
       "      <td></td>\n",
       "      <td>0.000000</td>\n",
       "      <td>0.000</td>\n",
       "    </tr>\n",
       "    <tr>\n",
       "      <th>1</th>\n",
       "      <td>PC1</td>\n",
       "      <td>0.316286</td>\n",
       "      <td>0.316</td>\n",
       "    </tr>\n",
       "    <tr>\n",
       "      <th>2</th>\n",
       "      <td>PC2</td>\n",
       "      <td>0.259668</td>\n",
       "      <td>0.576</td>\n",
       "    </tr>\n",
       "    <tr>\n",
       "      <th>3</th>\n",
       "      <td>PC3</td>\n",
       "      <td>0.161990</td>\n",
       "      <td>0.738</td>\n",
       "    </tr>\n",
       "  </tbody>\n",
       "</table>\n",
       "</div>"
      ],
      "text/plain": [
       "    PC  Explained Variance  Cumulative Variance\n",
       "0                 0.000000                0.000\n",
       "1  PC1            0.316286                0.316\n",
       "2  PC2            0.259668                0.576\n",
       "3  PC3            0.161990                0.738"
      ]
     },
     "execution_count": 54,
     "metadata": {},
     "output_type": "execute_result"
    }
   ],
   "source": [
    "df_explained_variance = pd.concat([pc_df, explained_variance_df, cumulative_variance_df], axis=1)\n",
    "df_explained_variance"
   ]
  },
  {
   "cell_type": "code",
   "execution_count": 55,
   "id": "fd7ee87f",
   "metadata": {},
   "outputs": [],
   "source": [
    "# 3.4 Creating Scree Plot\n",
    "# https://plotly.com/python/bar-charts/\n",
    "\n",
    "fig = px.bar(df_explained_variance, x='PC', y='Explained Variance', text='Explained Variance', width=800)"
   ]
  },
  {
   "cell_type": "code",
   "execution_count": 56,
   "id": "28c95061",
   "metadata": {},
   "outputs": [
    {
     "data": {
      "application/vnd.plotly.v1+json": {
       "config": {
        "plotlyServerURL": "https://plot.ly"
       },
       "data": [
        {
         "alignmentgroup": "True",
         "hovertemplate": "PC=%{x}<br>Explained Variance=%{text}<extra></extra>",
         "legendgroup": "",
         "marker": {
          "color": "#636efa",
          "pattern": {
           "shape": ""
          }
         },
         "name": "",
         "offsetgroup": "",
         "orientation": "v",
         "showlegend": false,
         "text": [
          0,
          0.31628588999471224,
          0.2596684961679623,
          0.16198988636526312
         ],
         "textposition": "outside",
         "texttemplate": "%{text:.3f}",
         "type": "bar",
         "x": [
          "",
          "PC1",
          "PC2",
          "PC3"
         ],
         "xaxis": "x",
         "y": [
          0,
          0.31628588999471224,
          0.2596684961679623,
          0.16198988636526312
         ],
         "yaxis": "y"
        }
       ],
       "layout": {
        "barmode": "relative",
        "legend": {
         "tracegroupgap": 0
        },
        "margin": {
         "t": 60
        },
        "template": {
         "data": {
          "bar": [
           {
            "error_x": {
             "color": "#2a3f5f"
            },
            "error_y": {
             "color": "#2a3f5f"
            },
            "marker": {
             "line": {
              "color": "#E5ECF6",
              "width": 0.5
             },
             "pattern": {
              "fillmode": "overlay",
              "size": 10,
              "solidity": 0.2
             }
            },
            "type": "bar"
           }
          ],
          "barpolar": [
           {
            "marker": {
             "line": {
              "color": "#E5ECF6",
              "width": 0.5
             },
             "pattern": {
              "fillmode": "overlay",
              "size": 10,
              "solidity": 0.2
             }
            },
            "type": "barpolar"
           }
          ],
          "carpet": [
           {
            "aaxis": {
             "endlinecolor": "#2a3f5f",
             "gridcolor": "white",
             "linecolor": "white",
             "minorgridcolor": "white",
             "startlinecolor": "#2a3f5f"
            },
            "baxis": {
             "endlinecolor": "#2a3f5f",
             "gridcolor": "white",
             "linecolor": "white",
             "minorgridcolor": "white",
             "startlinecolor": "#2a3f5f"
            },
            "type": "carpet"
           }
          ],
          "choropleth": [
           {
            "colorbar": {
             "outlinewidth": 0,
             "ticks": ""
            },
            "type": "choropleth"
           }
          ],
          "contour": [
           {
            "colorbar": {
             "outlinewidth": 0,
             "ticks": ""
            },
            "colorscale": [
             [
              0,
              "#0d0887"
             ],
             [
              0.1111111111111111,
              "#46039f"
             ],
             [
              0.2222222222222222,
              "#7201a8"
             ],
             [
              0.3333333333333333,
              "#9c179e"
             ],
             [
              0.4444444444444444,
              "#bd3786"
             ],
             [
              0.5555555555555556,
              "#d8576b"
             ],
             [
              0.6666666666666666,
              "#ed7953"
             ],
             [
              0.7777777777777778,
              "#fb9f3a"
             ],
             [
              0.8888888888888888,
              "#fdca26"
             ],
             [
              1,
              "#f0f921"
             ]
            ],
            "type": "contour"
           }
          ],
          "contourcarpet": [
           {
            "colorbar": {
             "outlinewidth": 0,
             "ticks": ""
            },
            "type": "contourcarpet"
           }
          ],
          "heatmap": [
           {
            "colorbar": {
             "outlinewidth": 0,
             "ticks": ""
            },
            "colorscale": [
             [
              0,
              "#0d0887"
             ],
             [
              0.1111111111111111,
              "#46039f"
             ],
             [
              0.2222222222222222,
              "#7201a8"
             ],
             [
              0.3333333333333333,
              "#9c179e"
             ],
             [
              0.4444444444444444,
              "#bd3786"
             ],
             [
              0.5555555555555556,
              "#d8576b"
             ],
             [
              0.6666666666666666,
              "#ed7953"
             ],
             [
              0.7777777777777778,
              "#fb9f3a"
             ],
             [
              0.8888888888888888,
              "#fdca26"
             ],
             [
              1,
              "#f0f921"
             ]
            ],
            "type": "heatmap"
           }
          ],
          "heatmapgl": [
           {
            "colorbar": {
             "outlinewidth": 0,
             "ticks": ""
            },
            "colorscale": [
             [
              0,
              "#0d0887"
             ],
             [
              0.1111111111111111,
              "#46039f"
             ],
             [
              0.2222222222222222,
              "#7201a8"
             ],
             [
              0.3333333333333333,
              "#9c179e"
             ],
             [
              0.4444444444444444,
              "#bd3786"
             ],
             [
              0.5555555555555556,
              "#d8576b"
             ],
             [
              0.6666666666666666,
              "#ed7953"
             ],
             [
              0.7777777777777778,
              "#fb9f3a"
             ],
             [
              0.8888888888888888,
              "#fdca26"
             ],
             [
              1,
              "#f0f921"
             ]
            ],
            "type": "heatmapgl"
           }
          ],
          "histogram": [
           {
            "marker": {
             "pattern": {
              "fillmode": "overlay",
              "size": 10,
              "solidity": 0.2
             }
            },
            "type": "histogram"
           }
          ],
          "histogram2d": [
           {
            "colorbar": {
             "outlinewidth": 0,
             "ticks": ""
            },
            "colorscale": [
             [
              0,
              "#0d0887"
             ],
             [
              0.1111111111111111,
              "#46039f"
             ],
             [
              0.2222222222222222,
              "#7201a8"
             ],
             [
              0.3333333333333333,
              "#9c179e"
             ],
             [
              0.4444444444444444,
              "#bd3786"
             ],
             [
              0.5555555555555556,
              "#d8576b"
             ],
             [
              0.6666666666666666,
              "#ed7953"
             ],
             [
              0.7777777777777778,
              "#fb9f3a"
             ],
             [
              0.8888888888888888,
              "#fdca26"
             ],
             [
              1,
              "#f0f921"
             ]
            ],
            "type": "histogram2d"
           }
          ],
          "histogram2dcontour": [
           {
            "colorbar": {
             "outlinewidth": 0,
             "ticks": ""
            },
            "colorscale": [
             [
              0,
              "#0d0887"
             ],
             [
              0.1111111111111111,
              "#46039f"
             ],
             [
              0.2222222222222222,
              "#7201a8"
             ],
             [
              0.3333333333333333,
              "#9c179e"
             ],
             [
              0.4444444444444444,
              "#bd3786"
             ],
             [
              0.5555555555555556,
              "#d8576b"
             ],
             [
              0.6666666666666666,
              "#ed7953"
             ],
             [
              0.7777777777777778,
              "#fb9f3a"
             ],
             [
              0.8888888888888888,
              "#fdca26"
             ],
             [
              1,
              "#f0f921"
             ]
            ],
            "type": "histogram2dcontour"
           }
          ],
          "mesh3d": [
           {
            "colorbar": {
             "outlinewidth": 0,
             "ticks": ""
            },
            "type": "mesh3d"
           }
          ],
          "parcoords": [
           {
            "line": {
             "colorbar": {
              "outlinewidth": 0,
              "ticks": ""
             }
            },
            "type": "parcoords"
           }
          ],
          "pie": [
           {
            "automargin": true,
            "type": "pie"
           }
          ],
          "scatter": [
           {
            "fillpattern": {
             "fillmode": "overlay",
             "size": 10,
             "solidity": 0.2
            },
            "type": "scatter"
           }
          ],
          "scatter3d": [
           {
            "line": {
             "colorbar": {
              "outlinewidth": 0,
              "ticks": ""
             }
            },
            "marker": {
             "colorbar": {
              "outlinewidth": 0,
              "ticks": ""
             }
            },
            "type": "scatter3d"
           }
          ],
          "scattercarpet": [
           {
            "marker": {
             "colorbar": {
              "outlinewidth": 0,
              "ticks": ""
             }
            },
            "type": "scattercarpet"
           }
          ],
          "scattergeo": [
           {
            "marker": {
             "colorbar": {
              "outlinewidth": 0,
              "ticks": ""
             }
            },
            "type": "scattergeo"
           }
          ],
          "scattergl": [
           {
            "marker": {
             "colorbar": {
              "outlinewidth": 0,
              "ticks": ""
             }
            },
            "type": "scattergl"
           }
          ],
          "scattermapbox": [
           {
            "marker": {
             "colorbar": {
              "outlinewidth": 0,
              "ticks": ""
             }
            },
            "type": "scattermapbox"
           }
          ],
          "scatterpolar": [
           {
            "marker": {
             "colorbar": {
              "outlinewidth": 0,
              "ticks": ""
             }
            },
            "type": "scatterpolar"
           }
          ],
          "scatterpolargl": [
           {
            "marker": {
             "colorbar": {
              "outlinewidth": 0,
              "ticks": ""
             }
            },
            "type": "scatterpolargl"
           }
          ],
          "scatterternary": [
           {
            "marker": {
             "colorbar": {
              "outlinewidth": 0,
              "ticks": ""
             }
            },
            "type": "scatterternary"
           }
          ],
          "surface": [
           {
            "colorbar": {
             "outlinewidth": 0,
             "ticks": ""
            },
            "colorscale": [
             [
              0,
              "#0d0887"
             ],
             [
              0.1111111111111111,
              "#46039f"
             ],
             [
              0.2222222222222222,
              "#7201a8"
             ],
             [
              0.3333333333333333,
              "#9c179e"
             ],
             [
              0.4444444444444444,
              "#bd3786"
             ],
             [
              0.5555555555555556,
              "#d8576b"
             ],
             [
              0.6666666666666666,
              "#ed7953"
             ],
             [
              0.7777777777777778,
              "#fb9f3a"
             ],
             [
              0.8888888888888888,
              "#fdca26"
             ],
             [
              1,
              "#f0f921"
             ]
            ],
            "type": "surface"
           }
          ],
          "table": [
           {
            "cells": {
             "fill": {
              "color": "#EBF0F8"
             },
             "line": {
              "color": "white"
             }
            },
            "header": {
             "fill": {
              "color": "#C8D4E3"
             },
             "line": {
              "color": "white"
             }
            },
            "type": "table"
           }
          ]
         },
         "layout": {
          "annotationdefaults": {
           "arrowcolor": "#2a3f5f",
           "arrowhead": 0,
           "arrowwidth": 1
          },
          "autotypenumbers": "strict",
          "coloraxis": {
           "colorbar": {
            "outlinewidth": 0,
            "ticks": ""
           }
          },
          "colorscale": {
           "diverging": [
            [
             0,
             "#8e0152"
            ],
            [
             0.1,
             "#c51b7d"
            ],
            [
             0.2,
             "#de77ae"
            ],
            [
             0.3,
             "#f1b6da"
            ],
            [
             0.4,
             "#fde0ef"
            ],
            [
             0.5,
             "#f7f7f7"
            ],
            [
             0.6,
             "#e6f5d0"
            ],
            [
             0.7,
             "#b8e186"
            ],
            [
             0.8,
             "#7fbc41"
            ],
            [
             0.9,
             "#4d9221"
            ],
            [
             1,
             "#276419"
            ]
           ],
           "sequential": [
            [
             0,
             "#0d0887"
            ],
            [
             0.1111111111111111,
             "#46039f"
            ],
            [
             0.2222222222222222,
             "#7201a8"
            ],
            [
             0.3333333333333333,
             "#9c179e"
            ],
            [
             0.4444444444444444,
             "#bd3786"
            ],
            [
             0.5555555555555556,
             "#d8576b"
            ],
            [
             0.6666666666666666,
             "#ed7953"
            ],
            [
             0.7777777777777778,
             "#fb9f3a"
            ],
            [
             0.8888888888888888,
             "#fdca26"
            ],
            [
             1,
             "#f0f921"
            ]
           ],
           "sequentialminus": [
            [
             0,
             "#0d0887"
            ],
            [
             0.1111111111111111,
             "#46039f"
            ],
            [
             0.2222222222222222,
             "#7201a8"
            ],
            [
             0.3333333333333333,
             "#9c179e"
            ],
            [
             0.4444444444444444,
             "#bd3786"
            ],
            [
             0.5555555555555556,
             "#d8576b"
            ],
            [
             0.6666666666666666,
             "#ed7953"
            ],
            [
             0.7777777777777778,
             "#fb9f3a"
            ],
            [
             0.8888888888888888,
             "#fdca26"
            ],
            [
             1,
             "#f0f921"
            ]
           ]
          },
          "colorway": [
           "#636efa",
           "#EF553B",
           "#00cc96",
           "#ab63fa",
           "#FFA15A",
           "#19d3f3",
           "#FF6692",
           "#B6E880",
           "#FF97FF",
           "#FECB52"
          ],
          "font": {
           "color": "#2a3f5f"
          },
          "geo": {
           "bgcolor": "white",
           "lakecolor": "white",
           "landcolor": "#E5ECF6",
           "showlakes": true,
           "showland": true,
           "subunitcolor": "white"
          },
          "hoverlabel": {
           "align": "left"
          },
          "hovermode": "closest",
          "mapbox": {
           "style": "light"
          },
          "paper_bgcolor": "white",
          "plot_bgcolor": "#E5ECF6",
          "polar": {
           "angularaxis": {
            "gridcolor": "white",
            "linecolor": "white",
            "ticks": ""
           },
           "bgcolor": "#E5ECF6",
           "radialaxis": {
            "gridcolor": "white",
            "linecolor": "white",
            "ticks": ""
           }
          },
          "scene": {
           "xaxis": {
            "backgroundcolor": "#E5ECF6",
            "gridcolor": "white",
            "gridwidth": 2,
            "linecolor": "white",
            "showbackground": true,
            "ticks": "",
            "zerolinecolor": "white"
           },
           "yaxis": {
            "backgroundcolor": "#E5ECF6",
            "gridcolor": "white",
            "gridwidth": 2,
            "linecolor": "white",
            "showbackground": true,
            "ticks": "",
            "zerolinecolor": "white"
           },
           "zaxis": {
            "backgroundcolor": "#E5ECF6",
            "gridcolor": "white",
            "gridwidth": 2,
            "linecolor": "white",
            "showbackground": true,
            "ticks": "",
            "zerolinecolor": "white"
           }
          },
          "shapedefaults": {
           "line": {
            "color": "#2a3f5f"
           }
          },
          "ternary": {
           "aaxis": {
            "gridcolor": "white",
            "linecolor": "white",
            "ticks": ""
           },
           "baxis": {
            "gridcolor": "white",
            "linecolor": "white",
            "ticks": ""
           },
           "bgcolor": "#E5ECF6",
           "caxis": {
            "gridcolor": "white",
            "linecolor": "white",
            "ticks": ""
           }
          },
          "title": {
           "x": 0.05
          },
          "xaxis": {
           "automargin": true,
           "gridcolor": "white",
           "linecolor": "white",
           "ticks": "",
           "title": {
            "standoff": 15
           },
           "zerolinecolor": "white",
           "zerolinewidth": 2
          },
          "yaxis": {
           "automargin": true,
           "gridcolor": "white",
           "linecolor": "white",
           "ticks": "",
           "title": {
            "standoff": 15
           },
           "zerolinecolor": "white",
           "zerolinewidth": 2
          }
         }
        },
        "width": 800,
        "xaxis": {
         "anchor": "y",
         "domain": [
          0,
          1
         ],
         "title": {
          "text": "PC"
         }
        },
        "yaxis": {
         "anchor": "x",
         "domain": [
          0,
          1
         ],
         "title": {
          "text": "Explained Variance"
         }
        }
       }
      },
      "text/html": [
       "<div>                            <div id=\"913ce3fb-bee0-4354-ba73-3e7d867ce2f6\" class=\"plotly-graph-div\" style=\"height:525px; width:800px;\"></div>            <script type=\"text/javascript\">                require([\"plotly\"], function(Plotly) {                    window.PLOTLYENV=window.PLOTLYENV || {};                                    if (document.getElementById(\"913ce3fb-bee0-4354-ba73-3e7d867ce2f6\")) {                    Plotly.newPlot(                        \"913ce3fb-bee0-4354-ba73-3e7d867ce2f6\",                        [{\"alignmentgroup\":\"True\",\"hovertemplate\":\"PC=%{x}<br>Explained Variance=%{text}<extra></extra>\",\"legendgroup\":\"\",\"marker\":{\"color\":\"#636efa\",\"pattern\":{\"shape\":\"\"}},\"name\":\"\",\"offsetgroup\":\"\",\"orientation\":\"v\",\"showlegend\":false,\"text\":[0.0,0.31628588999471224,0.2596684961679623,0.16198988636526312],\"textposition\":\"outside\",\"x\":[\"\",\"PC1\",\"PC2\",\"PC3\"],\"xaxis\":\"x\",\"y\":[0.0,0.31628588999471224,0.2596684961679623,0.16198988636526312],\"yaxis\":\"y\",\"type\":\"bar\",\"texttemplate\":\"%{text:.3f}\"}],                        {\"template\":{\"data\":{\"histogram2dcontour\":[{\"type\":\"histogram2dcontour\",\"colorbar\":{\"outlinewidth\":0,\"ticks\":\"\"},\"colorscale\":[[0.0,\"#0d0887\"],[0.1111111111111111,\"#46039f\"],[0.2222222222222222,\"#7201a8\"],[0.3333333333333333,\"#9c179e\"],[0.4444444444444444,\"#bd3786\"],[0.5555555555555556,\"#d8576b\"],[0.6666666666666666,\"#ed7953\"],[0.7777777777777778,\"#fb9f3a\"],[0.8888888888888888,\"#fdca26\"],[1.0,\"#f0f921\"]]}],\"choropleth\":[{\"type\":\"choropleth\",\"colorbar\":{\"outlinewidth\":0,\"ticks\":\"\"}}],\"histogram2d\":[{\"type\":\"histogram2d\",\"colorbar\":{\"outlinewidth\":0,\"ticks\":\"\"},\"colorscale\":[[0.0,\"#0d0887\"],[0.1111111111111111,\"#46039f\"],[0.2222222222222222,\"#7201a8\"],[0.3333333333333333,\"#9c179e\"],[0.4444444444444444,\"#bd3786\"],[0.5555555555555556,\"#d8576b\"],[0.6666666666666666,\"#ed7953\"],[0.7777777777777778,\"#fb9f3a\"],[0.8888888888888888,\"#fdca26\"],[1.0,\"#f0f921\"]]}],\"heatmap\":[{\"type\":\"heatmap\",\"colorbar\":{\"outlinewidth\":0,\"ticks\":\"\"},\"colorscale\":[[0.0,\"#0d0887\"],[0.1111111111111111,\"#46039f\"],[0.2222222222222222,\"#7201a8\"],[0.3333333333333333,\"#9c179e\"],[0.4444444444444444,\"#bd3786\"],[0.5555555555555556,\"#d8576b\"],[0.6666666666666666,\"#ed7953\"],[0.7777777777777778,\"#fb9f3a\"],[0.8888888888888888,\"#fdca26\"],[1.0,\"#f0f921\"]]}],\"heatmapgl\":[{\"type\":\"heatmapgl\",\"colorbar\":{\"outlinewidth\":0,\"ticks\":\"\"},\"colorscale\":[[0.0,\"#0d0887\"],[0.1111111111111111,\"#46039f\"],[0.2222222222222222,\"#7201a8\"],[0.3333333333333333,\"#9c179e\"],[0.4444444444444444,\"#bd3786\"],[0.5555555555555556,\"#d8576b\"],[0.6666666666666666,\"#ed7953\"],[0.7777777777777778,\"#fb9f3a\"],[0.8888888888888888,\"#fdca26\"],[1.0,\"#f0f921\"]]}],\"contourcarpet\":[{\"type\":\"contourcarpet\",\"colorbar\":{\"outlinewidth\":0,\"ticks\":\"\"}}],\"contour\":[{\"type\":\"contour\",\"colorbar\":{\"outlinewidth\":0,\"ticks\":\"\"},\"colorscale\":[[0.0,\"#0d0887\"],[0.1111111111111111,\"#46039f\"],[0.2222222222222222,\"#7201a8\"],[0.3333333333333333,\"#9c179e\"],[0.4444444444444444,\"#bd3786\"],[0.5555555555555556,\"#d8576b\"],[0.6666666666666666,\"#ed7953\"],[0.7777777777777778,\"#fb9f3a\"],[0.8888888888888888,\"#fdca26\"],[1.0,\"#f0f921\"]]}],\"surface\":[{\"type\":\"surface\",\"colorbar\":{\"outlinewidth\":0,\"ticks\":\"\"},\"colorscale\":[[0.0,\"#0d0887\"],[0.1111111111111111,\"#46039f\"],[0.2222222222222222,\"#7201a8\"],[0.3333333333333333,\"#9c179e\"],[0.4444444444444444,\"#bd3786\"],[0.5555555555555556,\"#d8576b\"],[0.6666666666666666,\"#ed7953\"],[0.7777777777777778,\"#fb9f3a\"],[0.8888888888888888,\"#fdca26\"],[1.0,\"#f0f921\"]]}],\"mesh3d\":[{\"type\":\"mesh3d\",\"colorbar\":{\"outlinewidth\":0,\"ticks\":\"\"}}],\"scatter\":[{\"fillpattern\":{\"fillmode\":\"overlay\",\"size\":10,\"solidity\":0.2},\"type\":\"scatter\"}],\"parcoords\":[{\"type\":\"parcoords\",\"line\":{\"colorbar\":{\"outlinewidth\":0,\"ticks\":\"\"}}}],\"scatterpolargl\":[{\"type\":\"scatterpolargl\",\"marker\":{\"colorbar\":{\"outlinewidth\":0,\"ticks\":\"\"}}}],\"bar\":[{\"error_x\":{\"color\":\"#2a3f5f\"},\"error_y\":{\"color\":\"#2a3f5f\"},\"marker\":{\"line\":{\"color\":\"#E5ECF6\",\"width\":0.5},\"pattern\":{\"fillmode\":\"overlay\",\"size\":10,\"solidity\":0.2}},\"type\":\"bar\"}],\"scattergeo\":[{\"type\":\"scattergeo\",\"marker\":{\"colorbar\":{\"outlinewidth\":0,\"ticks\":\"\"}}}],\"scatterpolar\":[{\"type\":\"scatterpolar\",\"marker\":{\"colorbar\":{\"outlinewidth\":0,\"ticks\":\"\"}}}],\"histogram\":[{\"marker\":{\"pattern\":{\"fillmode\":\"overlay\",\"size\":10,\"solidity\":0.2}},\"type\":\"histogram\"}],\"scattergl\":[{\"type\":\"scattergl\",\"marker\":{\"colorbar\":{\"outlinewidth\":0,\"ticks\":\"\"}}}],\"scatter3d\":[{\"type\":\"scatter3d\",\"line\":{\"colorbar\":{\"outlinewidth\":0,\"ticks\":\"\"}},\"marker\":{\"colorbar\":{\"outlinewidth\":0,\"ticks\":\"\"}}}],\"scattermapbox\":[{\"type\":\"scattermapbox\",\"marker\":{\"colorbar\":{\"outlinewidth\":0,\"ticks\":\"\"}}}],\"scatterternary\":[{\"type\":\"scatterternary\",\"marker\":{\"colorbar\":{\"outlinewidth\":0,\"ticks\":\"\"}}}],\"scattercarpet\":[{\"type\":\"scattercarpet\",\"marker\":{\"colorbar\":{\"outlinewidth\":0,\"ticks\":\"\"}}}],\"carpet\":[{\"aaxis\":{\"endlinecolor\":\"#2a3f5f\",\"gridcolor\":\"white\",\"linecolor\":\"white\",\"minorgridcolor\":\"white\",\"startlinecolor\":\"#2a3f5f\"},\"baxis\":{\"endlinecolor\":\"#2a3f5f\",\"gridcolor\":\"white\",\"linecolor\":\"white\",\"minorgridcolor\":\"white\",\"startlinecolor\":\"#2a3f5f\"},\"type\":\"carpet\"}],\"table\":[{\"cells\":{\"fill\":{\"color\":\"#EBF0F8\"},\"line\":{\"color\":\"white\"}},\"header\":{\"fill\":{\"color\":\"#C8D4E3\"},\"line\":{\"color\":\"white\"}},\"type\":\"table\"}],\"barpolar\":[{\"marker\":{\"line\":{\"color\":\"#E5ECF6\",\"width\":0.5},\"pattern\":{\"fillmode\":\"overlay\",\"size\":10,\"solidity\":0.2}},\"type\":\"barpolar\"}],\"pie\":[{\"automargin\":true,\"type\":\"pie\"}]},\"layout\":{\"autotypenumbers\":\"strict\",\"colorway\":[\"#636efa\",\"#EF553B\",\"#00cc96\",\"#ab63fa\",\"#FFA15A\",\"#19d3f3\",\"#FF6692\",\"#B6E880\",\"#FF97FF\",\"#FECB52\"],\"font\":{\"color\":\"#2a3f5f\"},\"hovermode\":\"closest\",\"hoverlabel\":{\"align\":\"left\"},\"paper_bgcolor\":\"white\",\"plot_bgcolor\":\"#E5ECF6\",\"polar\":{\"bgcolor\":\"#E5ECF6\",\"angularaxis\":{\"gridcolor\":\"white\",\"linecolor\":\"white\",\"ticks\":\"\"},\"radialaxis\":{\"gridcolor\":\"white\",\"linecolor\":\"white\",\"ticks\":\"\"}},\"ternary\":{\"bgcolor\":\"#E5ECF6\",\"aaxis\":{\"gridcolor\":\"white\",\"linecolor\":\"white\",\"ticks\":\"\"},\"baxis\":{\"gridcolor\":\"white\",\"linecolor\":\"white\",\"ticks\":\"\"},\"caxis\":{\"gridcolor\":\"white\",\"linecolor\":\"white\",\"ticks\":\"\"}},\"coloraxis\":{\"colorbar\":{\"outlinewidth\":0,\"ticks\":\"\"}},\"colorscale\":{\"sequential\":[[0.0,\"#0d0887\"],[0.1111111111111111,\"#46039f\"],[0.2222222222222222,\"#7201a8\"],[0.3333333333333333,\"#9c179e\"],[0.4444444444444444,\"#bd3786\"],[0.5555555555555556,\"#d8576b\"],[0.6666666666666666,\"#ed7953\"],[0.7777777777777778,\"#fb9f3a\"],[0.8888888888888888,\"#fdca26\"],[1.0,\"#f0f921\"]],\"sequentialminus\":[[0.0,\"#0d0887\"],[0.1111111111111111,\"#46039f\"],[0.2222222222222222,\"#7201a8\"],[0.3333333333333333,\"#9c179e\"],[0.4444444444444444,\"#bd3786\"],[0.5555555555555556,\"#d8576b\"],[0.6666666666666666,\"#ed7953\"],[0.7777777777777778,\"#fb9f3a\"],[0.8888888888888888,\"#fdca26\"],[1.0,\"#f0f921\"]],\"diverging\":[[0,\"#8e0152\"],[0.1,\"#c51b7d\"],[0.2,\"#de77ae\"],[0.3,\"#f1b6da\"],[0.4,\"#fde0ef\"],[0.5,\"#f7f7f7\"],[0.6,\"#e6f5d0\"],[0.7,\"#b8e186\"],[0.8,\"#7fbc41\"],[0.9,\"#4d9221\"],[1,\"#276419\"]]},\"xaxis\":{\"gridcolor\":\"white\",\"linecolor\":\"white\",\"ticks\":\"\",\"title\":{\"standoff\":15},\"zerolinecolor\":\"white\",\"automargin\":true,\"zerolinewidth\":2},\"yaxis\":{\"gridcolor\":\"white\",\"linecolor\":\"white\",\"ticks\":\"\",\"title\":{\"standoff\":15},\"zerolinecolor\":\"white\",\"automargin\":true,\"zerolinewidth\":2},\"scene\":{\"xaxis\":{\"backgroundcolor\":\"#E5ECF6\",\"gridcolor\":\"white\",\"linecolor\":\"white\",\"showbackground\":true,\"ticks\":\"\",\"zerolinecolor\":\"white\",\"gridwidth\":2},\"yaxis\":{\"backgroundcolor\":\"#E5ECF6\",\"gridcolor\":\"white\",\"linecolor\":\"white\",\"showbackground\":true,\"ticks\":\"\",\"zerolinecolor\":\"white\",\"gridwidth\":2},\"zaxis\":{\"backgroundcolor\":\"#E5ECF6\",\"gridcolor\":\"white\",\"linecolor\":\"white\",\"showbackground\":true,\"ticks\":\"\",\"zerolinecolor\":\"white\",\"gridwidth\":2}},\"shapedefaults\":{\"line\":{\"color\":\"#2a3f5f\"}},\"annotationdefaults\":{\"arrowcolor\":\"#2a3f5f\",\"arrowhead\":0,\"arrowwidth\":1},\"geo\":{\"bgcolor\":\"white\",\"landcolor\":\"#E5ECF6\",\"subunitcolor\":\"white\",\"showland\":true,\"showlakes\":true,\"lakecolor\":\"white\"},\"title\":{\"x\":0.05},\"mapbox\":{\"style\":\"light\"}}},\"xaxis\":{\"anchor\":\"y\",\"domain\":[0.0,1.0],\"title\":{\"text\":\"PC\"}},\"yaxis\":{\"anchor\":\"x\",\"domain\":[0.0,1.0],\"title\":{\"text\":\"Explained Variance\"}},\"legend\":{\"tracegroupgap\":0},\"margin\":{\"t\":60},\"barmode\":\"relative\",\"width\":800},                        {\"responsive\": true}                    ).then(function(){\n",
       "                            \n",
       "var gd = document.getElementById('913ce3fb-bee0-4354-ba73-3e7d867ce2f6');\n",
       "var x = new MutationObserver(function (mutations, observer) {{\n",
       "        var display = window.getComputedStyle(gd).display;\n",
       "        if (!display || display === 'none') {{\n",
       "            console.log([gd, 'removed!']);\n",
       "            Plotly.purge(gd);\n",
       "            observer.disconnect();\n",
       "        }}\n",
       "}});\n",
       "\n",
       "// Listen for the removal of the full notebook cells\n",
       "var notebookContainer = gd.closest('#notebook-container');\n",
       "if (notebookContainer) {{\n",
       "    x.observe(notebookContainer, {childList: true});\n",
       "}}\n",
       "\n",
       "// Listen for the clearing of the current output cell\n",
       "var outputEl = gd.closest('.output');\n",
       "if (outputEl) {{\n",
       "    x.observe(outputEl, {childList: true});\n",
       "}}\n",
       "\n",
       "                        })                };                });            </script>        </div>"
      ]
     },
     "metadata": {},
     "output_type": "display_data"
    }
   ],
   "source": [
    "fig.update_traces(texttemplate='%{text:.3f}', textposition='outside') # limit decimal cases and text outside the bar\n",
    "fig.show() #explained variance"
   ]
  },
  {
   "cell_type": "code",
   "execution_count": 57,
   "id": "ec892729",
   "metadata": {},
   "outputs": [
    {
     "data": {
      "application/vnd.plotly.v1+json": {
       "config": {
        "plotlyServerURL": "https://plot.ly"
       },
       "data": [
        {
         "marker": {
          "color": "LightSeaGreen",
          "size": 15
         },
         "type": "scatter",
         "x": [
          "",
          "PC1",
          "PC2",
          "PC3"
         ],
         "y": [
          0,
          0.316,
          0.5760000000000001,
          0.7380000000000001
         ]
        },
        {
         "marker": {
          "color": "RoyalBlue"
         },
         "type": "bar",
         "x": [
          "",
          "PC1",
          "PC2",
          "PC3"
         ],
         "y": [
          0,
          0.31628588999471224,
          0.2596684961679623,
          0.16198988636526312
         ]
        }
       ],
       "layout": {
        "template": {
         "data": {
          "bar": [
           {
            "error_x": {
             "color": "#2a3f5f"
            },
            "error_y": {
             "color": "#2a3f5f"
            },
            "marker": {
             "line": {
              "color": "#E5ECF6",
              "width": 0.5
             },
             "pattern": {
              "fillmode": "overlay",
              "size": 10,
              "solidity": 0.2
             }
            },
            "type": "bar"
           }
          ],
          "barpolar": [
           {
            "marker": {
             "line": {
              "color": "#E5ECF6",
              "width": 0.5
             },
             "pattern": {
              "fillmode": "overlay",
              "size": 10,
              "solidity": 0.2
             }
            },
            "type": "barpolar"
           }
          ],
          "carpet": [
           {
            "aaxis": {
             "endlinecolor": "#2a3f5f",
             "gridcolor": "white",
             "linecolor": "white",
             "minorgridcolor": "white",
             "startlinecolor": "#2a3f5f"
            },
            "baxis": {
             "endlinecolor": "#2a3f5f",
             "gridcolor": "white",
             "linecolor": "white",
             "minorgridcolor": "white",
             "startlinecolor": "#2a3f5f"
            },
            "type": "carpet"
           }
          ],
          "choropleth": [
           {
            "colorbar": {
             "outlinewidth": 0,
             "ticks": ""
            },
            "type": "choropleth"
           }
          ],
          "contour": [
           {
            "colorbar": {
             "outlinewidth": 0,
             "ticks": ""
            },
            "colorscale": [
             [
              0,
              "#0d0887"
             ],
             [
              0.1111111111111111,
              "#46039f"
             ],
             [
              0.2222222222222222,
              "#7201a8"
             ],
             [
              0.3333333333333333,
              "#9c179e"
             ],
             [
              0.4444444444444444,
              "#bd3786"
             ],
             [
              0.5555555555555556,
              "#d8576b"
             ],
             [
              0.6666666666666666,
              "#ed7953"
             ],
             [
              0.7777777777777778,
              "#fb9f3a"
             ],
             [
              0.8888888888888888,
              "#fdca26"
             ],
             [
              1,
              "#f0f921"
             ]
            ],
            "type": "contour"
           }
          ],
          "contourcarpet": [
           {
            "colorbar": {
             "outlinewidth": 0,
             "ticks": ""
            },
            "type": "contourcarpet"
           }
          ],
          "heatmap": [
           {
            "colorbar": {
             "outlinewidth": 0,
             "ticks": ""
            },
            "colorscale": [
             [
              0,
              "#0d0887"
             ],
             [
              0.1111111111111111,
              "#46039f"
             ],
             [
              0.2222222222222222,
              "#7201a8"
             ],
             [
              0.3333333333333333,
              "#9c179e"
             ],
             [
              0.4444444444444444,
              "#bd3786"
             ],
             [
              0.5555555555555556,
              "#d8576b"
             ],
             [
              0.6666666666666666,
              "#ed7953"
             ],
             [
              0.7777777777777778,
              "#fb9f3a"
             ],
             [
              0.8888888888888888,
              "#fdca26"
             ],
             [
              1,
              "#f0f921"
             ]
            ],
            "type": "heatmap"
           }
          ],
          "heatmapgl": [
           {
            "colorbar": {
             "outlinewidth": 0,
             "ticks": ""
            },
            "colorscale": [
             [
              0,
              "#0d0887"
             ],
             [
              0.1111111111111111,
              "#46039f"
             ],
             [
              0.2222222222222222,
              "#7201a8"
             ],
             [
              0.3333333333333333,
              "#9c179e"
             ],
             [
              0.4444444444444444,
              "#bd3786"
             ],
             [
              0.5555555555555556,
              "#d8576b"
             ],
             [
              0.6666666666666666,
              "#ed7953"
             ],
             [
              0.7777777777777778,
              "#fb9f3a"
             ],
             [
              0.8888888888888888,
              "#fdca26"
             ],
             [
              1,
              "#f0f921"
             ]
            ],
            "type": "heatmapgl"
           }
          ],
          "histogram": [
           {
            "marker": {
             "pattern": {
              "fillmode": "overlay",
              "size": 10,
              "solidity": 0.2
             }
            },
            "type": "histogram"
           }
          ],
          "histogram2d": [
           {
            "colorbar": {
             "outlinewidth": 0,
             "ticks": ""
            },
            "colorscale": [
             [
              0,
              "#0d0887"
             ],
             [
              0.1111111111111111,
              "#46039f"
             ],
             [
              0.2222222222222222,
              "#7201a8"
             ],
             [
              0.3333333333333333,
              "#9c179e"
             ],
             [
              0.4444444444444444,
              "#bd3786"
             ],
             [
              0.5555555555555556,
              "#d8576b"
             ],
             [
              0.6666666666666666,
              "#ed7953"
             ],
             [
              0.7777777777777778,
              "#fb9f3a"
             ],
             [
              0.8888888888888888,
              "#fdca26"
             ],
             [
              1,
              "#f0f921"
             ]
            ],
            "type": "histogram2d"
           }
          ],
          "histogram2dcontour": [
           {
            "colorbar": {
             "outlinewidth": 0,
             "ticks": ""
            },
            "colorscale": [
             [
              0,
              "#0d0887"
             ],
             [
              0.1111111111111111,
              "#46039f"
             ],
             [
              0.2222222222222222,
              "#7201a8"
             ],
             [
              0.3333333333333333,
              "#9c179e"
             ],
             [
              0.4444444444444444,
              "#bd3786"
             ],
             [
              0.5555555555555556,
              "#d8576b"
             ],
             [
              0.6666666666666666,
              "#ed7953"
             ],
             [
              0.7777777777777778,
              "#fb9f3a"
             ],
             [
              0.8888888888888888,
              "#fdca26"
             ],
             [
              1,
              "#f0f921"
             ]
            ],
            "type": "histogram2dcontour"
           }
          ],
          "mesh3d": [
           {
            "colorbar": {
             "outlinewidth": 0,
             "ticks": ""
            },
            "type": "mesh3d"
           }
          ],
          "parcoords": [
           {
            "line": {
             "colorbar": {
              "outlinewidth": 0,
              "ticks": ""
             }
            },
            "type": "parcoords"
           }
          ],
          "pie": [
           {
            "automargin": true,
            "type": "pie"
           }
          ],
          "scatter": [
           {
            "fillpattern": {
             "fillmode": "overlay",
             "size": 10,
             "solidity": 0.2
            },
            "type": "scatter"
           }
          ],
          "scatter3d": [
           {
            "line": {
             "colorbar": {
              "outlinewidth": 0,
              "ticks": ""
             }
            },
            "marker": {
             "colorbar": {
              "outlinewidth": 0,
              "ticks": ""
             }
            },
            "type": "scatter3d"
           }
          ],
          "scattercarpet": [
           {
            "marker": {
             "colorbar": {
              "outlinewidth": 0,
              "ticks": ""
             }
            },
            "type": "scattercarpet"
           }
          ],
          "scattergeo": [
           {
            "marker": {
             "colorbar": {
              "outlinewidth": 0,
              "ticks": ""
             }
            },
            "type": "scattergeo"
           }
          ],
          "scattergl": [
           {
            "marker": {
             "colorbar": {
              "outlinewidth": 0,
              "ticks": ""
             }
            },
            "type": "scattergl"
           }
          ],
          "scattermapbox": [
           {
            "marker": {
             "colorbar": {
              "outlinewidth": 0,
              "ticks": ""
             }
            },
            "type": "scattermapbox"
           }
          ],
          "scatterpolar": [
           {
            "marker": {
             "colorbar": {
              "outlinewidth": 0,
              "ticks": ""
             }
            },
            "type": "scatterpolar"
           }
          ],
          "scatterpolargl": [
           {
            "marker": {
             "colorbar": {
              "outlinewidth": 0,
              "ticks": ""
             }
            },
            "type": "scatterpolargl"
           }
          ],
          "scatterternary": [
           {
            "marker": {
             "colorbar": {
              "outlinewidth": 0,
              "ticks": ""
             }
            },
            "type": "scatterternary"
           }
          ],
          "surface": [
           {
            "colorbar": {
             "outlinewidth": 0,
             "ticks": ""
            },
            "colorscale": [
             [
              0,
              "#0d0887"
             ],
             [
              0.1111111111111111,
              "#46039f"
             ],
             [
              0.2222222222222222,
              "#7201a8"
             ],
             [
              0.3333333333333333,
              "#9c179e"
             ],
             [
              0.4444444444444444,
              "#bd3786"
             ],
             [
              0.5555555555555556,
              "#d8576b"
             ],
             [
              0.6666666666666666,
              "#ed7953"
             ],
             [
              0.7777777777777778,
              "#fb9f3a"
             ],
             [
              0.8888888888888888,
              "#fdca26"
             ],
             [
              1,
              "#f0f921"
             ]
            ],
            "type": "surface"
           }
          ],
          "table": [
           {
            "cells": {
             "fill": {
              "color": "#EBF0F8"
             },
             "line": {
              "color": "white"
             }
            },
            "header": {
             "fill": {
              "color": "#C8D4E3"
             },
             "line": {
              "color": "white"
             }
            },
            "type": "table"
           }
          ]
         },
         "layout": {
          "annotationdefaults": {
           "arrowcolor": "#2a3f5f",
           "arrowhead": 0,
           "arrowwidth": 1
          },
          "autotypenumbers": "strict",
          "coloraxis": {
           "colorbar": {
            "outlinewidth": 0,
            "ticks": ""
           }
          },
          "colorscale": {
           "diverging": [
            [
             0,
             "#8e0152"
            ],
            [
             0.1,
             "#c51b7d"
            ],
            [
             0.2,
             "#de77ae"
            ],
            [
             0.3,
             "#f1b6da"
            ],
            [
             0.4,
             "#fde0ef"
            ],
            [
             0.5,
             "#f7f7f7"
            ],
            [
             0.6,
             "#e6f5d0"
            ],
            [
             0.7,
             "#b8e186"
            ],
            [
             0.8,
             "#7fbc41"
            ],
            [
             0.9,
             "#4d9221"
            ],
            [
             1,
             "#276419"
            ]
           ],
           "sequential": [
            [
             0,
             "#0d0887"
            ],
            [
             0.1111111111111111,
             "#46039f"
            ],
            [
             0.2222222222222222,
             "#7201a8"
            ],
            [
             0.3333333333333333,
             "#9c179e"
            ],
            [
             0.4444444444444444,
             "#bd3786"
            ],
            [
             0.5555555555555556,
             "#d8576b"
            ],
            [
             0.6666666666666666,
             "#ed7953"
            ],
            [
             0.7777777777777778,
             "#fb9f3a"
            ],
            [
             0.8888888888888888,
             "#fdca26"
            ],
            [
             1,
             "#f0f921"
            ]
           ],
           "sequentialminus": [
            [
             0,
             "#0d0887"
            ],
            [
             0.1111111111111111,
             "#46039f"
            ],
            [
             0.2222222222222222,
             "#7201a8"
            ],
            [
             0.3333333333333333,
             "#9c179e"
            ],
            [
             0.4444444444444444,
             "#bd3786"
            ],
            [
             0.5555555555555556,
             "#d8576b"
            ],
            [
             0.6666666666666666,
             "#ed7953"
            ],
            [
             0.7777777777777778,
             "#fb9f3a"
            ],
            [
             0.8888888888888888,
             "#fdca26"
            ],
            [
             1,
             "#f0f921"
            ]
           ]
          },
          "colorway": [
           "#636efa",
           "#EF553B",
           "#00cc96",
           "#ab63fa",
           "#FFA15A",
           "#19d3f3",
           "#FF6692",
           "#B6E880",
           "#FF97FF",
           "#FECB52"
          ],
          "font": {
           "color": "#2a3f5f"
          },
          "geo": {
           "bgcolor": "white",
           "lakecolor": "white",
           "landcolor": "#E5ECF6",
           "showlakes": true,
           "showland": true,
           "subunitcolor": "white"
          },
          "hoverlabel": {
           "align": "left"
          },
          "hovermode": "closest",
          "mapbox": {
           "style": "light"
          },
          "paper_bgcolor": "white",
          "plot_bgcolor": "#E5ECF6",
          "polar": {
           "angularaxis": {
            "gridcolor": "white",
            "linecolor": "white",
            "ticks": ""
           },
           "bgcolor": "#E5ECF6",
           "radialaxis": {
            "gridcolor": "white",
            "linecolor": "white",
            "ticks": ""
           }
          },
          "scene": {
           "xaxis": {
            "backgroundcolor": "#E5ECF6",
            "gridcolor": "white",
            "gridwidth": 2,
            "linecolor": "white",
            "showbackground": true,
            "ticks": "",
            "zerolinecolor": "white"
           },
           "yaxis": {
            "backgroundcolor": "#E5ECF6",
            "gridcolor": "white",
            "gridwidth": 2,
            "linecolor": "white",
            "showbackground": true,
            "ticks": "",
            "zerolinecolor": "white"
           },
           "zaxis": {
            "backgroundcolor": "#E5ECF6",
            "gridcolor": "white",
            "gridwidth": 2,
            "linecolor": "white",
            "showbackground": true,
            "ticks": "",
            "zerolinecolor": "white"
           }
          },
          "shapedefaults": {
           "line": {
            "color": "#2a3f5f"
           }
          },
          "ternary": {
           "aaxis": {
            "gridcolor": "white",
            "linecolor": "white",
            "ticks": ""
           },
           "baxis": {
            "gridcolor": "white",
            "linecolor": "white",
            "ticks": ""
           },
           "bgcolor": "#E5ECF6",
           "caxis": {
            "gridcolor": "white",
            "linecolor": "white",
            "ticks": ""
           }
          },
          "title": {
           "x": 0.05
          },
          "xaxis": {
           "automargin": true,
           "gridcolor": "white",
           "linecolor": "white",
           "ticks": "",
           "title": {
            "standoff": 15
           },
           "zerolinecolor": "white",
           "zerolinewidth": 2
          },
          "yaxis": {
           "automargin": true,
           "gridcolor": "white",
           "linecolor": "white",
           "ticks": "",
           "title": {
            "standoff": 15
           },
           "zerolinecolor": "white",
           "zerolinewidth": 2
          }
         }
        }
       }
      },
      "text/html": [
       "<div>                            <div id=\"c112eae9-e994-4b9c-95ca-d4f8be387061\" class=\"plotly-graph-div\" style=\"height:525px; width:100%;\"></div>            <script type=\"text/javascript\">                require([\"plotly\"], function(Plotly) {                    window.PLOTLYENV=window.PLOTLYENV || {};                                    if (document.getElementById(\"c112eae9-e994-4b9c-95ca-d4f8be387061\")) {                    Plotly.newPlot(                        \"c112eae9-e994-4b9c-95ca-d4f8be387061\",                        [{\"marker\":{\"color\":\"LightSeaGreen\",\"size\":15},\"x\":[\"\",\"PC1\",\"PC2\",\"PC3\"],\"y\":[0.0,0.316,0.5760000000000001,0.7380000000000001],\"type\":\"scatter\"},{\"marker\":{\"color\":\"RoyalBlue\"},\"x\":[\"\",\"PC1\",\"PC2\",\"PC3\"],\"y\":[0.0,0.31628588999471224,0.2596684961679623,0.16198988636526312],\"type\":\"bar\"}],                        {\"template\":{\"data\":{\"histogram2dcontour\":[{\"type\":\"histogram2dcontour\",\"colorbar\":{\"outlinewidth\":0,\"ticks\":\"\"},\"colorscale\":[[0.0,\"#0d0887\"],[0.1111111111111111,\"#46039f\"],[0.2222222222222222,\"#7201a8\"],[0.3333333333333333,\"#9c179e\"],[0.4444444444444444,\"#bd3786\"],[0.5555555555555556,\"#d8576b\"],[0.6666666666666666,\"#ed7953\"],[0.7777777777777778,\"#fb9f3a\"],[0.8888888888888888,\"#fdca26\"],[1.0,\"#f0f921\"]]}],\"choropleth\":[{\"type\":\"choropleth\",\"colorbar\":{\"outlinewidth\":0,\"ticks\":\"\"}}],\"histogram2d\":[{\"type\":\"histogram2d\",\"colorbar\":{\"outlinewidth\":0,\"ticks\":\"\"},\"colorscale\":[[0.0,\"#0d0887\"],[0.1111111111111111,\"#46039f\"],[0.2222222222222222,\"#7201a8\"],[0.3333333333333333,\"#9c179e\"],[0.4444444444444444,\"#bd3786\"],[0.5555555555555556,\"#d8576b\"],[0.6666666666666666,\"#ed7953\"],[0.7777777777777778,\"#fb9f3a\"],[0.8888888888888888,\"#fdca26\"],[1.0,\"#f0f921\"]]}],\"heatmap\":[{\"type\":\"heatmap\",\"colorbar\":{\"outlinewidth\":0,\"ticks\":\"\"},\"colorscale\":[[0.0,\"#0d0887\"],[0.1111111111111111,\"#46039f\"],[0.2222222222222222,\"#7201a8\"],[0.3333333333333333,\"#9c179e\"],[0.4444444444444444,\"#bd3786\"],[0.5555555555555556,\"#d8576b\"],[0.6666666666666666,\"#ed7953\"],[0.7777777777777778,\"#fb9f3a\"],[0.8888888888888888,\"#fdca26\"],[1.0,\"#f0f921\"]]}],\"heatmapgl\":[{\"type\":\"heatmapgl\",\"colorbar\":{\"outlinewidth\":0,\"ticks\":\"\"},\"colorscale\":[[0.0,\"#0d0887\"],[0.1111111111111111,\"#46039f\"],[0.2222222222222222,\"#7201a8\"],[0.3333333333333333,\"#9c179e\"],[0.4444444444444444,\"#bd3786\"],[0.5555555555555556,\"#d8576b\"],[0.6666666666666666,\"#ed7953\"],[0.7777777777777778,\"#fb9f3a\"],[0.8888888888888888,\"#fdca26\"],[1.0,\"#f0f921\"]]}],\"contourcarpet\":[{\"type\":\"contourcarpet\",\"colorbar\":{\"outlinewidth\":0,\"ticks\":\"\"}}],\"contour\":[{\"type\":\"contour\",\"colorbar\":{\"outlinewidth\":0,\"ticks\":\"\"},\"colorscale\":[[0.0,\"#0d0887\"],[0.1111111111111111,\"#46039f\"],[0.2222222222222222,\"#7201a8\"],[0.3333333333333333,\"#9c179e\"],[0.4444444444444444,\"#bd3786\"],[0.5555555555555556,\"#d8576b\"],[0.6666666666666666,\"#ed7953\"],[0.7777777777777778,\"#fb9f3a\"],[0.8888888888888888,\"#fdca26\"],[1.0,\"#f0f921\"]]}],\"surface\":[{\"type\":\"surface\",\"colorbar\":{\"outlinewidth\":0,\"ticks\":\"\"},\"colorscale\":[[0.0,\"#0d0887\"],[0.1111111111111111,\"#46039f\"],[0.2222222222222222,\"#7201a8\"],[0.3333333333333333,\"#9c179e\"],[0.4444444444444444,\"#bd3786\"],[0.5555555555555556,\"#d8576b\"],[0.6666666666666666,\"#ed7953\"],[0.7777777777777778,\"#fb9f3a\"],[0.8888888888888888,\"#fdca26\"],[1.0,\"#f0f921\"]]}],\"mesh3d\":[{\"type\":\"mesh3d\",\"colorbar\":{\"outlinewidth\":0,\"ticks\":\"\"}}],\"scatter\":[{\"fillpattern\":{\"fillmode\":\"overlay\",\"size\":10,\"solidity\":0.2},\"type\":\"scatter\"}],\"parcoords\":[{\"type\":\"parcoords\",\"line\":{\"colorbar\":{\"outlinewidth\":0,\"ticks\":\"\"}}}],\"scatterpolargl\":[{\"type\":\"scatterpolargl\",\"marker\":{\"colorbar\":{\"outlinewidth\":0,\"ticks\":\"\"}}}],\"bar\":[{\"error_x\":{\"color\":\"#2a3f5f\"},\"error_y\":{\"color\":\"#2a3f5f\"},\"marker\":{\"line\":{\"color\":\"#E5ECF6\",\"width\":0.5},\"pattern\":{\"fillmode\":\"overlay\",\"size\":10,\"solidity\":0.2}},\"type\":\"bar\"}],\"scattergeo\":[{\"type\":\"scattergeo\",\"marker\":{\"colorbar\":{\"outlinewidth\":0,\"ticks\":\"\"}}}],\"scatterpolar\":[{\"type\":\"scatterpolar\",\"marker\":{\"colorbar\":{\"outlinewidth\":0,\"ticks\":\"\"}}}],\"histogram\":[{\"marker\":{\"pattern\":{\"fillmode\":\"overlay\",\"size\":10,\"solidity\":0.2}},\"type\":\"histogram\"}],\"scattergl\":[{\"type\":\"scattergl\",\"marker\":{\"colorbar\":{\"outlinewidth\":0,\"ticks\":\"\"}}}],\"scatter3d\":[{\"type\":\"scatter3d\",\"line\":{\"colorbar\":{\"outlinewidth\":0,\"ticks\":\"\"}},\"marker\":{\"colorbar\":{\"outlinewidth\":0,\"ticks\":\"\"}}}],\"scattermapbox\":[{\"type\":\"scattermapbox\",\"marker\":{\"colorbar\":{\"outlinewidth\":0,\"ticks\":\"\"}}}],\"scatterternary\":[{\"type\":\"scatterternary\",\"marker\":{\"colorbar\":{\"outlinewidth\":0,\"ticks\":\"\"}}}],\"scattercarpet\":[{\"type\":\"scattercarpet\",\"marker\":{\"colorbar\":{\"outlinewidth\":0,\"ticks\":\"\"}}}],\"carpet\":[{\"aaxis\":{\"endlinecolor\":\"#2a3f5f\",\"gridcolor\":\"white\",\"linecolor\":\"white\",\"minorgridcolor\":\"white\",\"startlinecolor\":\"#2a3f5f\"},\"baxis\":{\"endlinecolor\":\"#2a3f5f\",\"gridcolor\":\"white\",\"linecolor\":\"white\",\"minorgridcolor\":\"white\",\"startlinecolor\":\"#2a3f5f\"},\"type\":\"carpet\"}],\"table\":[{\"cells\":{\"fill\":{\"color\":\"#EBF0F8\"},\"line\":{\"color\":\"white\"}},\"header\":{\"fill\":{\"color\":\"#C8D4E3\"},\"line\":{\"color\":\"white\"}},\"type\":\"table\"}],\"barpolar\":[{\"marker\":{\"line\":{\"color\":\"#E5ECF6\",\"width\":0.5},\"pattern\":{\"fillmode\":\"overlay\",\"size\":10,\"solidity\":0.2}},\"type\":\"barpolar\"}],\"pie\":[{\"automargin\":true,\"type\":\"pie\"}]},\"layout\":{\"autotypenumbers\":\"strict\",\"colorway\":[\"#636efa\",\"#EF553B\",\"#00cc96\",\"#ab63fa\",\"#FFA15A\",\"#19d3f3\",\"#FF6692\",\"#B6E880\",\"#FF97FF\",\"#FECB52\"],\"font\":{\"color\":\"#2a3f5f\"},\"hovermode\":\"closest\",\"hoverlabel\":{\"align\":\"left\"},\"paper_bgcolor\":\"white\",\"plot_bgcolor\":\"#E5ECF6\",\"polar\":{\"bgcolor\":\"#E5ECF6\",\"angularaxis\":{\"gridcolor\":\"white\",\"linecolor\":\"white\",\"ticks\":\"\"},\"radialaxis\":{\"gridcolor\":\"white\",\"linecolor\":\"white\",\"ticks\":\"\"}},\"ternary\":{\"bgcolor\":\"#E5ECF6\",\"aaxis\":{\"gridcolor\":\"white\",\"linecolor\":\"white\",\"ticks\":\"\"},\"baxis\":{\"gridcolor\":\"white\",\"linecolor\":\"white\",\"ticks\":\"\"},\"caxis\":{\"gridcolor\":\"white\",\"linecolor\":\"white\",\"ticks\":\"\"}},\"coloraxis\":{\"colorbar\":{\"outlinewidth\":0,\"ticks\":\"\"}},\"colorscale\":{\"sequential\":[[0.0,\"#0d0887\"],[0.1111111111111111,\"#46039f\"],[0.2222222222222222,\"#7201a8\"],[0.3333333333333333,\"#9c179e\"],[0.4444444444444444,\"#bd3786\"],[0.5555555555555556,\"#d8576b\"],[0.6666666666666666,\"#ed7953\"],[0.7777777777777778,\"#fb9f3a\"],[0.8888888888888888,\"#fdca26\"],[1.0,\"#f0f921\"]],\"sequentialminus\":[[0.0,\"#0d0887\"],[0.1111111111111111,\"#46039f\"],[0.2222222222222222,\"#7201a8\"],[0.3333333333333333,\"#9c179e\"],[0.4444444444444444,\"#bd3786\"],[0.5555555555555556,\"#d8576b\"],[0.6666666666666666,\"#ed7953\"],[0.7777777777777778,\"#fb9f3a\"],[0.8888888888888888,\"#fdca26\"],[1.0,\"#f0f921\"]],\"diverging\":[[0,\"#8e0152\"],[0.1,\"#c51b7d\"],[0.2,\"#de77ae\"],[0.3,\"#f1b6da\"],[0.4,\"#fde0ef\"],[0.5,\"#f7f7f7\"],[0.6,\"#e6f5d0\"],[0.7,\"#b8e186\"],[0.8,\"#7fbc41\"],[0.9,\"#4d9221\"],[1,\"#276419\"]]},\"xaxis\":{\"gridcolor\":\"white\",\"linecolor\":\"white\",\"ticks\":\"\",\"title\":{\"standoff\":15},\"zerolinecolor\":\"white\",\"automargin\":true,\"zerolinewidth\":2},\"yaxis\":{\"gridcolor\":\"white\",\"linecolor\":\"white\",\"ticks\":\"\",\"title\":{\"standoff\":15},\"zerolinecolor\":\"white\",\"automargin\":true,\"zerolinewidth\":2},\"scene\":{\"xaxis\":{\"backgroundcolor\":\"#E5ECF6\",\"gridcolor\":\"white\",\"linecolor\":\"white\",\"showbackground\":true,\"ticks\":\"\",\"zerolinecolor\":\"white\",\"gridwidth\":2},\"yaxis\":{\"backgroundcolor\":\"#E5ECF6\",\"gridcolor\":\"white\",\"linecolor\":\"white\",\"showbackground\":true,\"ticks\":\"\",\"zerolinecolor\":\"white\",\"gridwidth\":2},\"zaxis\":{\"backgroundcolor\":\"#E5ECF6\",\"gridcolor\":\"white\",\"linecolor\":\"white\",\"showbackground\":true,\"ticks\":\"\",\"zerolinecolor\":\"white\",\"gridwidth\":2}},\"shapedefaults\":{\"line\":{\"color\":\"#2a3f5f\"}},\"annotationdefaults\":{\"arrowcolor\":\"#2a3f5f\",\"arrowhead\":0,\"arrowwidth\":1},\"geo\":{\"bgcolor\":\"white\",\"landcolor\":\"#E5ECF6\",\"subunitcolor\":\"white\",\"showland\":true,\"showlakes\":true,\"lakecolor\":\"white\"},\"title\":{\"x\":0.05},\"mapbox\":{\"style\":\"light\"}}}},                        {\"responsive\": true}                    ).then(function(){\n",
       "                            \n",
       "var gd = document.getElementById('c112eae9-e994-4b9c-95ca-d4f8be387061');\n",
       "var x = new MutationObserver(function (mutations, observer) {{\n",
       "        var display = window.getComputedStyle(gd).display;\n",
       "        if (!display || display === 'none') {{\n",
       "            console.log([gd, 'removed!']);\n",
       "            Plotly.purge(gd);\n",
       "            observer.disconnect();\n",
       "        }}\n",
       "}});\n",
       "\n",
       "// Listen for the removal of the full notebook cells\n",
       "var notebookContainer = gd.closest('#notebook-container');\n",
       "if (notebookContainer) {{\n",
       "    x.observe(notebookContainer, {childList: true});\n",
       "}}\n",
       "\n",
       "// Listen for the clearing of the current output cell\n",
       "var outputEl = gd.closest('.output');\n",
       "if (outputEl) {{\n",
       "    x.observe(outputEl, {childList: true});\n",
       "}}\n",
       "\n",
       "                        })                };                });            </script>        </div>"
      ]
     },
     "metadata": {},
     "output_type": "display_data"
    }
   ],
   "source": [
    "# explained variance + cumulative variance\n",
    "# https://plotly.com/python/creating-and-updating-figures\n",
    "\n",
    "import plotly.graph_objects as go\n",
    "fig = go.Figure()\n",
    "\n",
    "fig.add_trace(\n",
    "    go.Scatter(\n",
    "        x=df_explained_variance['PC'],\n",
    "        y=df_explained_variance['Cumulative Variance'],\n",
    "        marker=dict(size=15, color='LightSeaGreen')\n",
    "    ))\n",
    "\n",
    "fig.add_trace(\n",
    "    go.Bar(\n",
    "        x=df_explained_variance['PC'],\n",
    "        y=df_explained_variance['Explained Variance'],\n",
    "        marker=dict(color='RoyalBlue')\n",
    "    ))\n",
    "\n",
    "fig.show()"
   ]
  },
  {
   "cell_type": "code",
   "execution_count": 58,
   "id": "07efceeb",
   "metadata": {},
   "outputs": [
    {
     "data": {
      "application/vnd.plotly.v1+json": {
       "config": {
        "plotlyServerURL": "https://plot.ly"
       },
       "data": [
        {
         "marker": {
          "color": "LightSeaGreen",
          "size": 15
         },
         "type": "scatter",
         "x": [
          "",
          "PC1",
          "PC2",
          "PC3"
         ],
         "xaxis": "x",
         "y": [
          0,
          0.316,
          0.5760000000000001,
          0.7380000000000001
         ],
         "yaxis": "y"
        },
        {
         "marker": {
          "color": "RoyalBlue"
         },
         "type": "bar",
         "x": [
          "",
          "PC1",
          "PC2",
          "PC3"
         ],
         "xaxis": "x2",
         "y": [
          0,
          0.31628588999471224,
          0.2596684961679623,
          0.16198988636526312
         ],
         "yaxis": "y2"
        }
       ],
       "layout": {
        "template": {
         "data": {
          "bar": [
           {
            "error_x": {
             "color": "#2a3f5f"
            },
            "error_y": {
             "color": "#2a3f5f"
            },
            "marker": {
             "line": {
              "color": "#E5ECF6",
              "width": 0.5
             },
             "pattern": {
              "fillmode": "overlay",
              "size": 10,
              "solidity": 0.2
             }
            },
            "type": "bar"
           }
          ],
          "barpolar": [
           {
            "marker": {
             "line": {
              "color": "#E5ECF6",
              "width": 0.5
             },
             "pattern": {
              "fillmode": "overlay",
              "size": 10,
              "solidity": 0.2
             }
            },
            "type": "barpolar"
           }
          ],
          "carpet": [
           {
            "aaxis": {
             "endlinecolor": "#2a3f5f",
             "gridcolor": "white",
             "linecolor": "white",
             "minorgridcolor": "white",
             "startlinecolor": "#2a3f5f"
            },
            "baxis": {
             "endlinecolor": "#2a3f5f",
             "gridcolor": "white",
             "linecolor": "white",
             "minorgridcolor": "white",
             "startlinecolor": "#2a3f5f"
            },
            "type": "carpet"
           }
          ],
          "choropleth": [
           {
            "colorbar": {
             "outlinewidth": 0,
             "ticks": ""
            },
            "type": "choropleth"
           }
          ],
          "contour": [
           {
            "colorbar": {
             "outlinewidth": 0,
             "ticks": ""
            },
            "colorscale": [
             [
              0,
              "#0d0887"
             ],
             [
              0.1111111111111111,
              "#46039f"
             ],
             [
              0.2222222222222222,
              "#7201a8"
             ],
             [
              0.3333333333333333,
              "#9c179e"
             ],
             [
              0.4444444444444444,
              "#bd3786"
             ],
             [
              0.5555555555555556,
              "#d8576b"
             ],
             [
              0.6666666666666666,
              "#ed7953"
             ],
             [
              0.7777777777777778,
              "#fb9f3a"
             ],
             [
              0.8888888888888888,
              "#fdca26"
             ],
             [
              1,
              "#f0f921"
             ]
            ],
            "type": "contour"
           }
          ],
          "contourcarpet": [
           {
            "colorbar": {
             "outlinewidth": 0,
             "ticks": ""
            },
            "type": "contourcarpet"
           }
          ],
          "heatmap": [
           {
            "colorbar": {
             "outlinewidth": 0,
             "ticks": ""
            },
            "colorscale": [
             [
              0,
              "#0d0887"
             ],
             [
              0.1111111111111111,
              "#46039f"
             ],
             [
              0.2222222222222222,
              "#7201a8"
             ],
             [
              0.3333333333333333,
              "#9c179e"
             ],
             [
              0.4444444444444444,
              "#bd3786"
             ],
             [
              0.5555555555555556,
              "#d8576b"
             ],
             [
              0.6666666666666666,
              "#ed7953"
             ],
             [
              0.7777777777777778,
              "#fb9f3a"
             ],
             [
              0.8888888888888888,
              "#fdca26"
             ],
             [
              1,
              "#f0f921"
             ]
            ],
            "type": "heatmap"
           }
          ],
          "heatmapgl": [
           {
            "colorbar": {
             "outlinewidth": 0,
             "ticks": ""
            },
            "colorscale": [
             [
              0,
              "#0d0887"
             ],
             [
              0.1111111111111111,
              "#46039f"
             ],
             [
              0.2222222222222222,
              "#7201a8"
             ],
             [
              0.3333333333333333,
              "#9c179e"
             ],
             [
              0.4444444444444444,
              "#bd3786"
             ],
             [
              0.5555555555555556,
              "#d8576b"
             ],
             [
              0.6666666666666666,
              "#ed7953"
             ],
             [
              0.7777777777777778,
              "#fb9f3a"
             ],
             [
              0.8888888888888888,
              "#fdca26"
             ],
             [
              1,
              "#f0f921"
             ]
            ],
            "type": "heatmapgl"
           }
          ],
          "histogram": [
           {
            "marker": {
             "pattern": {
              "fillmode": "overlay",
              "size": 10,
              "solidity": 0.2
             }
            },
            "type": "histogram"
           }
          ],
          "histogram2d": [
           {
            "colorbar": {
             "outlinewidth": 0,
             "ticks": ""
            },
            "colorscale": [
             [
              0,
              "#0d0887"
             ],
             [
              0.1111111111111111,
              "#46039f"
             ],
             [
              0.2222222222222222,
              "#7201a8"
             ],
             [
              0.3333333333333333,
              "#9c179e"
             ],
             [
              0.4444444444444444,
              "#bd3786"
             ],
             [
              0.5555555555555556,
              "#d8576b"
             ],
             [
              0.6666666666666666,
              "#ed7953"
             ],
             [
              0.7777777777777778,
              "#fb9f3a"
             ],
             [
              0.8888888888888888,
              "#fdca26"
             ],
             [
              1,
              "#f0f921"
             ]
            ],
            "type": "histogram2d"
           }
          ],
          "histogram2dcontour": [
           {
            "colorbar": {
             "outlinewidth": 0,
             "ticks": ""
            },
            "colorscale": [
             [
              0,
              "#0d0887"
             ],
             [
              0.1111111111111111,
              "#46039f"
             ],
             [
              0.2222222222222222,
              "#7201a8"
             ],
             [
              0.3333333333333333,
              "#9c179e"
             ],
             [
              0.4444444444444444,
              "#bd3786"
             ],
             [
              0.5555555555555556,
              "#d8576b"
             ],
             [
              0.6666666666666666,
              "#ed7953"
             ],
             [
              0.7777777777777778,
              "#fb9f3a"
             ],
             [
              0.8888888888888888,
              "#fdca26"
             ],
             [
              1,
              "#f0f921"
             ]
            ],
            "type": "histogram2dcontour"
           }
          ],
          "mesh3d": [
           {
            "colorbar": {
             "outlinewidth": 0,
             "ticks": ""
            },
            "type": "mesh3d"
           }
          ],
          "parcoords": [
           {
            "line": {
             "colorbar": {
              "outlinewidth": 0,
              "ticks": ""
             }
            },
            "type": "parcoords"
           }
          ],
          "pie": [
           {
            "automargin": true,
            "type": "pie"
           }
          ],
          "scatter": [
           {
            "fillpattern": {
             "fillmode": "overlay",
             "size": 10,
             "solidity": 0.2
            },
            "type": "scatter"
           }
          ],
          "scatter3d": [
           {
            "line": {
             "colorbar": {
              "outlinewidth": 0,
              "ticks": ""
             }
            },
            "marker": {
             "colorbar": {
              "outlinewidth": 0,
              "ticks": ""
             }
            },
            "type": "scatter3d"
           }
          ],
          "scattercarpet": [
           {
            "marker": {
             "colorbar": {
              "outlinewidth": 0,
              "ticks": ""
             }
            },
            "type": "scattercarpet"
           }
          ],
          "scattergeo": [
           {
            "marker": {
             "colorbar": {
              "outlinewidth": 0,
              "ticks": ""
             }
            },
            "type": "scattergeo"
           }
          ],
          "scattergl": [
           {
            "marker": {
             "colorbar": {
              "outlinewidth": 0,
              "ticks": ""
             }
            },
            "type": "scattergl"
           }
          ],
          "scattermapbox": [
           {
            "marker": {
             "colorbar": {
              "outlinewidth": 0,
              "ticks": ""
             }
            },
            "type": "scattermapbox"
           }
          ],
          "scatterpolar": [
           {
            "marker": {
             "colorbar": {
              "outlinewidth": 0,
              "ticks": ""
             }
            },
            "type": "scatterpolar"
           }
          ],
          "scatterpolargl": [
           {
            "marker": {
             "colorbar": {
              "outlinewidth": 0,
              "ticks": ""
             }
            },
            "type": "scatterpolargl"
           }
          ],
          "scatterternary": [
           {
            "marker": {
             "colorbar": {
              "outlinewidth": 0,
              "ticks": ""
             }
            },
            "type": "scatterternary"
           }
          ],
          "surface": [
           {
            "colorbar": {
             "outlinewidth": 0,
             "ticks": ""
            },
            "colorscale": [
             [
              0,
              "#0d0887"
             ],
             [
              0.1111111111111111,
              "#46039f"
             ],
             [
              0.2222222222222222,
              "#7201a8"
             ],
             [
              0.3333333333333333,
              "#9c179e"
             ],
             [
              0.4444444444444444,
              "#bd3786"
             ],
             [
              0.5555555555555556,
              "#d8576b"
             ],
             [
              0.6666666666666666,
              "#ed7953"
             ],
             [
              0.7777777777777778,
              "#fb9f3a"
             ],
             [
              0.8888888888888888,
              "#fdca26"
             ],
             [
              1,
              "#f0f921"
             ]
            ],
            "type": "surface"
           }
          ],
          "table": [
           {
            "cells": {
             "fill": {
              "color": "#EBF0F8"
             },
             "line": {
              "color": "white"
             }
            },
            "header": {
             "fill": {
              "color": "#C8D4E3"
             },
             "line": {
              "color": "white"
             }
            },
            "type": "table"
           }
          ]
         },
         "layout": {
          "annotationdefaults": {
           "arrowcolor": "#2a3f5f",
           "arrowhead": 0,
           "arrowwidth": 1
          },
          "autotypenumbers": "strict",
          "coloraxis": {
           "colorbar": {
            "outlinewidth": 0,
            "ticks": ""
           }
          },
          "colorscale": {
           "diverging": [
            [
             0,
             "#8e0152"
            ],
            [
             0.1,
             "#c51b7d"
            ],
            [
             0.2,
             "#de77ae"
            ],
            [
             0.3,
             "#f1b6da"
            ],
            [
             0.4,
             "#fde0ef"
            ],
            [
             0.5,
             "#f7f7f7"
            ],
            [
             0.6,
             "#e6f5d0"
            ],
            [
             0.7,
             "#b8e186"
            ],
            [
             0.8,
             "#7fbc41"
            ],
            [
             0.9,
             "#4d9221"
            ],
            [
             1,
             "#276419"
            ]
           ],
           "sequential": [
            [
             0,
             "#0d0887"
            ],
            [
             0.1111111111111111,
             "#46039f"
            ],
            [
             0.2222222222222222,
             "#7201a8"
            ],
            [
             0.3333333333333333,
             "#9c179e"
            ],
            [
             0.4444444444444444,
             "#bd3786"
            ],
            [
             0.5555555555555556,
             "#d8576b"
            ],
            [
             0.6666666666666666,
             "#ed7953"
            ],
            [
             0.7777777777777778,
             "#fb9f3a"
            ],
            [
             0.8888888888888888,
             "#fdca26"
            ],
            [
             1,
             "#f0f921"
            ]
           ],
           "sequentialminus": [
            [
             0,
             "#0d0887"
            ],
            [
             0.1111111111111111,
             "#46039f"
            ],
            [
             0.2222222222222222,
             "#7201a8"
            ],
            [
             0.3333333333333333,
             "#9c179e"
            ],
            [
             0.4444444444444444,
             "#bd3786"
            ],
            [
             0.5555555555555556,
             "#d8576b"
            ],
            [
             0.6666666666666666,
             "#ed7953"
            ],
            [
             0.7777777777777778,
             "#fb9f3a"
            ],
            [
             0.8888888888888888,
             "#fdca26"
            ],
            [
             1,
             "#f0f921"
            ]
           ]
          },
          "colorway": [
           "#636efa",
           "#EF553B",
           "#00cc96",
           "#ab63fa",
           "#FFA15A",
           "#19d3f3",
           "#FF6692",
           "#B6E880",
           "#FF97FF",
           "#FECB52"
          ],
          "font": {
           "color": "#2a3f5f"
          },
          "geo": {
           "bgcolor": "white",
           "lakecolor": "white",
           "landcolor": "#E5ECF6",
           "showlakes": true,
           "showland": true,
           "subunitcolor": "white"
          },
          "hoverlabel": {
           "align": "left"
          },
          "hovermode": "closest",
          "mapbox": {
           "style": "light"
          },
          "paper_bgcolor": "white",
          "plot_bgcolor": "#E5ECF6",
          "polar": {
           "angularaxis": {
            "gridcolor": "white",
            "linecolor": "white",
            "ticks": ""
           },
           "bgcolor": "#E5ECF6",
           "radialaxis": {
            "gridcolor": "white",
            "linecolor": "white",
            "ticks": ""
           }
          },
          "scene": {
           "xaxis": {
            "backgroundcolor": "#E5ECF6",
            "gridcolor": "white",
            "gridwidth": 2,
            "linecolor": "white",
            "showbackground": true,
            "ticks": "",
            "zerolinecolor": "white"
           },
           "yaxis": {
            "backgroundcolor": "#E5ECF6",
            "gridcolor": "white",
            "gridwidth": 2,
            "linecolor": "white",
            "showbackground": true,
            "ticks": "",
            "zerolinecolor": "white"
           },
           "zaxis": {
            "backgroundcolor": "#E5ECF6",
            "gridcolor": "white",
            "gridwidth": 2,
            "linecolor": "white",
            "showbackground": true,
            "ticks": "",
            "zerolinecolor": "white"
           }
          },
          "shapedefaults": {
           "line": {
            "color": "#2a3f5f"
           }
          },
          "ternary": {
           "aaxis": {
            "gridcolor": "white",
            "linecolor": "white",
            "ticks": ""
           },
           "baxis": {
            "gridcolor": "white",
            "linecolor": "white",
            "ticks": ""
           },
           "bgcolor": "#E5ECF6",
           "caxis": {
            "gridcolor": "white",
            "linecolor": "white",
            "ticks": ""
           }
          },
          "title": {
           "x": 0.05
          },
          "xaxis": {
           "automargin": true,
           "gridcolor": "white",
           "linecolor": "white",
           "ticks": "",
           "title": {
            "standoff": 15
           },
           "zerolinecolor": "white",
           "zerolinewidth": 2
          },
          "yaxis": {
           "automargin": true,
           "gridcolor": "white",
           "linecolor": "white",
           "ticks": "",
           "title": {
            "standoff": 15
           },
           "zerolinecolor": "white",
           "zerolinewidth": 2
          }
         }
        },
        "xaxis": {
         "anchor": "y",
         "domain": [
          0,
          0.45
         ]
        },
        "xaxis2": {
         "anchor": "y2",
         "domain": [
          0.55,
          1
         ]
        },
        "yaxis": {
         "anchor": "x",
         "domain": [
          0,
          1
         ]
        },
        "yaxis2": {
         "anchor": "x2",
         "domain": [
          0,
          1
         ]
        }
       }
      },
      "text/html": [
       "<div>                            <div id=\"2c52ce45-d3e5-4e27-82b8-2e86009acd37\" class=\"plotly-graph-div\" style=\"height:525px; width:100%;\"></div>            <script type=\"text/javascript\">                require([\"plotly\"], function(Plotly) {                    window.PLOTLYENV=window.PLOTLYENV || {};                                    if (document.getElementById(\"2c52ce45-d3e5-4e27-82b8-2e86009acd37\")) {                    Plotly.newPlot(                        \"2c52ce45-d3e5-4e27-82b8-2e86009acd37\",                        [{\"marker\":{\"color\":\"LightSeaGreen\",\"size\":15},\"x\":[\"\",\"PC1\",\"PC2\",\"PC3\"],\"y\":[0.0,0.316,0.5760000000000001,0.7380000000000001],\"type\":\"scatter\",\"xaxis\":\"x\",\"yaxis\":\"y\"},{\"marker\":{\"color\":\"RoyalBlue\"},\"x\":[\"\",\"PC1\",\"PC2\",\"PC3\"],\"y\":[0.0,0.31628588999471224,0.2596684961679623,0.16198988636526312],\"type\":\"bar\",\"xaxis\":\"x2\",\"yaxis\":\"y2\"}],                        {\"template\":{\"data\":{\"histogram2dcontour\":[{\"type\":\"histogram2dcontour\",\"colorbar\":{\"outlinewidth\":0,\"ticks\":\"\"},\"colorscale\":[[0.0,\"#0d0887\"],[0.1111111111111111,\"#46039f\"],[0.2222222222222222,\"#7201a8\"],[0.3333333333333333,\"#9c179e\"],[0.4444444444444444,\"#bd3786\"],[0.5555555555555556,\"#d8576b\"],[0.6666666666666666,\"#ed7953\"],[0.7777777777777778,\"#fb9f3a\"],[0.8888888888888888,\"#fdca26\"],[1.0,\"#f0f921\"]]}],\"choropleth\":[{\"type\":\"choropleth\",\"colorbar\":{\"outlinewidth\":0,\"ticks\":\"\"}}],\"histogram2d\":[{\"type\":\"histogram2d\",\"colorbar\":{\"outlinewidth\":0,\"ticks\":\"\"},\"colorscale\":[[0.0,\"#0d0887\"],[0.1111111111111111,\"#46039f\"],[0.2222222222222222,\"#7201a8\"],[0.3333333333333333,\"#9c179e\"],[0.4444444444444444,\"#bd3786\"],[0.5555555555555556,\"#d8576b\"],[0.6666666666666666,\"#ed7953\"],[0.7777777777777778,\"#fb9f3a\"],[0.8888888888888888,\"#fdca26\"],[1.0,\"#f0f921\"]]}],\"heatmap\":[{\"type\":\"heatmap\",\"colorbar\":{\"outlinewidth\":0,\"ticks\":\"\"},\"colorscale\":[[0.0,\"#0d0887\"],[0.1111111111111111,\"#46039f\"],[0.2222222222222222,\"#7201a8\"],[0.3333333333333333,\"#9c179e\"],[0.4444444444444444,\"#bd3786\"],[0.5555555555555556,\"#d8576b\"],[0.6666666666666666,\"#ed7953\"],[0.7777777777777778,\"#fb9f3a\"],[0.8888888888888888,\"#fdca26\"],[1.0,\"#f0f921\"]]}],\"heatmapgl\":[{\"type\":\"heatmapgl\",\"colorbar\":{\"outlinewidth\":0,\"ticks\":\"\"},\"colorscale\":[[0.0,\"#0d0887\"],[0.1111111111111111,\"#46039f\"],[0.2222222222222222,\"#7201a8\"],[0.3333333333333333,\"#9c179e\"],[0.4444444444444444,\"#bd3786\"],[0.5555555555555556,\"#d8576b\"],[0.6666666666666666,\"#ed7953\"],[0.7777777777777778,\"#fb9f3a\"],[0.8888888888888888,\"#fdca26\"],[1.0,\"#f0f921\"]]}],\"contourcarpet\":[{\"type\":\"contourcarpet\",\"colorbar\":{\"outlinewidth\":0,\"ticks\":\"\"}}],\"contour\":[{\"type\":\"contour\",\"colorbar\":{\"outlinewidth\":0,\"ticks\":\"\"},\"colorscale\":[[0.0,\"#0d0887\"],[0.1111111111111111,\"#46039f\"],[0.2222222222222222,\"#7201a8\"],[0.3333333333333333,\"#9c179e\"],[0.4444444444444444,\"#bd3786\"],[0.5555555555555556,\"#d8576b\"],[0.6666666666666666,\"#ed7953\"],[0.7777777777777778,\"#fb9f3a\"],[0.8888888888888888,\"#fdca26\"],[1.0,\"#f0f921\"]]}],\"surface\":[{\"type\":\"surface\",\"colorbar\":{\"outlinewidth\":0,\"ticks\":\"\"},\"colorscale\":[[0.0,\"#0d0887\"],[0.1111111111111111,\"#46039f\"],[0.2222222222222222,\"#7201a8\"],[0.3333333333333333,\"#9c179e\"],[0.4444444444444444,\"#bd3786\"],[0.5555555555555556,\"#d8576b\"],[0.6666666666666666,\"#ed7953\"],[0.7777777777777778,\"#fb9f3a\"],[0.8888888888888888,\"#fdca26\"],[1.0,\"#f0f921\"]]}],\"mesh3d\":[{\"type\":\"mesh3d\",\"colorbar\":{\"outlinewidth\":0,\"ticks\":\"\"}}],\"scatter\":[{\"fillpattern\":{\"fillmode\":\"overlay\",\"size\":10,\"solidity\":0.2},\"type\":\"scatter\"}],\"parcoords\":[{\"type\":\"parcoords\",\"line\":{\"colorbar\":{\"outlinewidth\":0,\"ticks\":\"\"}}}],\"scatterpolargl\":[{\"type\":\"scatterpolargl\",\"marker\":{\"colorbar\":{\"outlinewidth\":0,\"ticks\":\"\"}}}],\"bar\":[{\"error_x\":{\"color\":\"#2a3f5f\"},\"error_y\":{\"color\":\"#2a3f5f\"},\"marker\":{\"line\":{\"color\":\"#E5ECF6\",\"width\":0.5},\"pattern\":{\"fillmode\":\"overlay\",\"size\":10,\"solidity\":0.2}},\"type\":\"bar\"}],\"scattergeo\":[{\"type\":\"scattergeo\",\"marker\":{\"colorbar\":{\"outlinewidth\":0,\"ticks\":\"\"}}}],\"scatterpolar\":[{\"type\":\"scatterpolar\",\"marker\":{\"colorbar\":{\"outlinewidth\":0,\"ticks\":\"\"}}}],\"histogram\":[{\"marker\":{\"pattern\":{\"fillmode\":\"overlay\",\"size\":10,\"solidity\":0.2}},\"type\":\"histogram\"}],\"scattergl\":[{\"type\":\"scattergl\",\"marker\":{\"colorbar\":{\"outlinewidth\":0,\"ticks\":\"\"}}}],\"scatter3d\":[{\"type\":\"scatter3d\",\"line\":{\"colorbar\":{\"outlinewidth\":0,\"ticks\":\"\"}},\"marker\":{\"colorbar\":{\"outlinewidth\":0,\"ticks\":\"\"}}}],\"scattermapbox\":[{\"type\":\"scattermapbox\",\"marker\":{\"colorbar\":{\"outlinewidth\":0,\"ticks\":\"\"}}}],\"scatterternary\":[{\"type\":\"scatterternary\",\"marker\":{\"colorbar\":{\"outlinewidth\":0,\"ticks\":\"\"}}}],\"scattercarpet\":[{\"type\":\"scattercarpet\",\"marker\":{\"colorbar\":{\"outlinewidth\":0,\"ticks\":\"\"}}}],\"carpet\":[{\"aaxis\":{\"endlinecolor\":\"#2a3f5f\",\"gridcolor\":\"white\",\"linecolor\":\"white\",\"minorgridcolor\":\"white\",\"startlinecolor\":\"#2a3f5f\"},\"baxis\":{\"endlinecolor\":\"#2a3f5f\",\"gridcolor\":\"white\",\"linecolor\":\"white\",\"minorgridcolor\":\"white\",\"startlinecolor\":\"#2a3f5f\"},\"type\":\"carpet\"}],\"table\":[{\"cells\":{\"fill\":{\"color\":\"#EBF0F8\"},\"line\":{\"color\":\"white\"}},\"header\":{\"fill\":{\"color\":\"#C8D4E3\"},\"line\":{\"color\":\"white\"}},\"type\":\"table\"}],\"barpolar\":[{\"marker\":{\"line\":{\"color\":\"#E5ECF6\",\"width\":0.5},\"pattern\":{\"fillmode\":\"overlay\",\"size\":10,\"solidity\":0.2}},\"type\":\"barpolar\"}],\"pie\":[{\"automargin\":true,\"type\":\"pie\"}]},\"layout\":{\"autotypenumbers\":\"strict\",\"colorway\":[\"#636efa\",\"#EF553B\",\"#00cc96\",\"#ab63fa\",\"#FFA15A\",\"#19d3f3\",\"#FF6692\",\"#B6E880\",\"#FF97FF\",\"#FECB52\"],\"font\":{\"color\":\"#2a3f5f\"},\"hovermode\":\"closest\",\"hoverlabel\":{\"align\":\"left\"},\"paper_bgcolor\":\"white\",\"plot_bgcolor\":\"#E5ECF6\",\"polar\":{\"bgcolor\":\"#E5ECF6\",\"angularaxis\":{\"gridcolor\":\"white\",\"linecolor\":\"white\",\"ticks\":\"\"},\"radialaxis\":{\"gridcolor\":\"white\",\"linecolor\":\"white\",\"ticks\":\"\"}},\"ternary\":{\"bgcolor\":\"#E5ECF6\",\"aaxis\":{\"gridcolor\":\"white\",\"linecolor\":\"white\",\"ticks\":\"\"},\"baxis\":{\"gridcolor\":\"white\",\"linecolor\":\"white\",\"ticks\":\"\"},\"caxis\":{\"gridcolor\":\"white\",\"linecolor\":\"white\",\"ticks\":\"\"}},\"coloraxis\":{\"colorbar\":{\"outlinewidth\":0,\"ticks\":\"\"}},\"colorscale\":{\"sequential\":[[0.0,\"#0d0887\"],[0.1111111111111111,\"#46039f\"],[0.2222222222222222,\"#7201a8\"],[0.3333333333333333,\"#9c179e\"],[0.4444444444444444,\"#bd3786\"],[0.5555555555555556,\"#d8576b\"],[0.6666666666666666,\"#ed7953\"],[0.7777777777777778,\"#fb9f3a\"],[0.8888888888888888,\"#fdca26\"],[1.0,\"#f0f921\"]],\"sequentialminus\":[[0.0,\"#0d0887\"],[0.1111111111111111,\"#46039f\"],[0.2222222222222222,\"#7201a8\"],[0.3333333333333333,\"#9c179e\"],[0.4444444444444444,\"#bd3786\"],[0.5555555555555556,\"#d8576b\"],[0.6666666666666666,\"#ed7953\"],[0.7777777777777778,\"#fb9f3a\"],[0.8888888888888888,\"#fdca26\"],[1.0,\"#f0f921\"]],\"diverging\":[[0,\"#8e0152\"],[0.1,\"#c51b7d\"],[0.2,\"#de77ae\"],[0.3,\"#f1b6da\"],[0.4,\"#fde0ef\"],[0.5,\"#f7f7f7\"],[0.6,\"#e6f5d0\"],[0.7,\"#b8e186\"],[0.8,\"#7fbc41\"],[0.9,\"#4d9221\"],[1,\"#276419\"]]},\"xaxis\":{\"gridcolor\":\"white\",\"linecolor\":\"white\",\"ticks\":\"\",\"title\":{\"standoff\":15},\"zerolinecolor\":\"white\",\"automargin\":true,\"zerolinewidth\":2},\"yaxis\":{\"gridcolor\":\"white\",\"linecolor\":\"white\",\"ticks\":\"\",\"title\":{\"standoff\":15},\"zerolinecolor\":\"white\",\"automargin\":true,\"zerolinewidth\":2},\"scene\":{\"xaxis\":{\"backgroundcolor\":\"#E5ECF6\",\"gridcolor\":\"white\",\"linecolor\":\"white\",\"showbackground\":true,\"ticks\":\"\",\"zerolinecolor\":\"white\",\"gridwidth\":2},\"yaxis\":{\"backgroundcolor\":\"#E5ECF6\",\"gridcolor\":\"white\",\"linecolor\":\"white\",\"showbackground\":true,\"ticks\":\"\",\"zerolinecolor\":\"white\",\"gridwidth\":2},\"zaxis\":{\"backgroundcolor\":\"#E5ECF6\",\"gridcolor\":\"white\",\"linecolor\":\"white\",\"showbackground\":true,\"ticks\":\"\",\"zerolinecolor\":\"white\",\"gridwidth\":2}},\"shapedefaults\":{\"line\":{\"color\":\"#2a3f5f\"}},\"annotationdefaults\":{\"arrowcolor\":\"#2a3f5f\",\"arrowhead\":0,\"arrowwidth\":1},\"geo\":{\"bgcolor\":\"white\",\"landcolor\":\"#E5ECF6\",\"subunitcolor\":\"white\",\"showland\":true,\"showlakes\":true,\"lakecolor\":\"white\"},\"title\":{\"x\":0.05},\"mapbox\":{\"style\":\"light\"}}},\"xaxis\":{\"anchor\":\"y\",\"domain\":[0.0,0.45]},\"yaxis\":{\"anchor\":\"x\",\"domain\":[0.0,1.0]},\"xaxis2\":{\"anchor\":\"y2\",\"domain\":[0.55,1.0]},\"yaxis2\":{\"anchor\":\"x2\",\"domain\":[0.0,1.0]}},                        {\"responsive\": true}                    ).then(function(){\n",
       "                            \n",
       "var gd = document.getElementById('2c52ce45-d3e5-4e27-82b8-2e86009acd37');\n",
       "var x = new MutationObserver(function (mutations, observer) {{\n",
       "        var display = window.getComputedStyle(gd).display;\n",
       "        if (!display || display === 'none') {{\n",
       "            console.log([gd, 'removed!']);\n",
       "            Plotly.purge(gd);\n",
       "            observer.disconnect();\n",
       "        }}\n",
       "}});\n",
       "\n",
       "// Listen for the removal of the full notebook cells\n",
       "var notebookContainer = gd.closest('#notebook-container');\n",
       "if (notebookContainer) {{\n",
       "    x.observe(notebookContainer, {childList: true});\n",
       "}}\n",
       "\n",
       "// Listen for the clearing of the current output cell\n",
       "var outputEl = gd.closest('.output');\n",
       "if (outputEl) {{\n",
       "    x.observe(outputEl, {childList: true});\n",
       "}}\n",
       "\n",
       "                        })                };                });            </script>        </div>"
      ]
     },
     "metadata": {},
     "output_type": "display_data"
    }
   ],
   "source": [
    "# Explained variance + cumulative variance (Separate Plot)\n",
    "\n",
    "from plotly.subplots import make_subplots\n",
    "import plotly.graph_objects as go\n",
    "\n",
    "fig = make_subplots(rows=1, cols=2)\n",
    "\n",
    "fig.add_trace(\n",
    "    go.Scatter(\n",
    "        x=df_explained_variance['PC'],\n",
    "        y=df_explained_variance['Cumulative Variance'],\n",
    "        marker=dict(size=15, color='LightSeaGreen')\n",
    "    ), row=1, col=1\n",
    ")\n",
    "\n",
    "fig.add_trace(\n",
    "    go.Bar(\n",
    "        x=df_explained_variance['PC'],\n",
    "        y=df_explained_variance['Explained Variance'],\n",
    "        marker=dict(color='RoyalBlue')\n",
    "    ), row=1, col=2\n",
    ")\n",
    "\n",
    "fig.show()"
   ]
  },
  {
   "cell_type": "code",
   "execution_count": 60,
   "id": "10d33274",
   "metadata": {},
   "outputs": [
    {
     "data": {
      "application/vnd.plotly.v1+json": {
       "config": {
        "plotlyServerURL": "https://plot.ly"
       },
       "data": [
        {
         "hovertemplate": "Sensor=HCV<br>PC1=%{x}<br>PC2=%{y}<br>PC3=%{z}<extra></extra>",
         "legendgroup": "HCV",
         "marker": {
          "color": "#636efa",
          "symbol": "circle"
         },
         "mode": "markers",
         "name": "HCV",
         "scene": "scene",
         "showlegend": true,
         "type": "scatter3d",
         "x": [
          -1.71764270923546,
          -1.5030881350070286,
          -1.3333188450290245,
          -1.1979180158046003,
          -1.0906364508305164,
          -1.0052249952180654,
          -0.9375166457562906,
          -0.884385769940309,
          -0.8406242851548147,
          -0.8072718946121196,
          -0.7801607102820054,
          -0.7586644450233312,
          -0.7416351828839991,
          -0.7280285136906061,
          -0.7172213263976853,
          -0.7085823057714973,
          -0.7017064290861084,
          -0.6962744469189843,
          -0.6917745050855751,
          -0.6883211465540018,
          -0.6854977791574189,
          -0.6832381309315159,
          -0.6814308503454906,
          -0.6799610117639826,
          -0.6787693376770462,
          -0.6777685727572759,
          -0.6769183775334258,
          -0.6761818328840562,
          -0.6754713206922843,
          -0.6748036783924425,
          -0.6741030224172573,
          -0.6733353021637984,
          -0.6724807471476747,
          -0.6714561389000495,
          -0.6701943461158112,
          -0.6687401487596837,
          -0.6669116604298622,
          -0.6645930539609152,
          -0.6617182395281481,
          -0.6581146734651888,
          -0.6537004593980121,
          -0.6482783362618111,
          -0.6415748594658868,
          -0.6333677174148087,
          -0.6234521698314202,
          -0.6112148103296574,
          -0.5963054995991168,
          -0.5783249346005237,
          -0.5563347243160757,
          -0.5296768807908099,
          -0.4964132168771682,
          -0.45681553371747124,
          -0.40910651194751113,
          -0.3513196856536764,
          -0.2828875214545195,
          -0.20229670114755516,
          -0.10731687222029523,
          0.002223543832742758,
          0.13031450503707537,
          0.2800396948255758,
          0.45349749116688104,
          -1.961868131535556,
          -1.747306160399162,
          -1.5774622532651636,
          -1.44205971697426,
          -1.3347776815849115,
          -1.2492968093269887,
          -1.1815901785816014,
          -1.128462760420085,
          -1.0847088551695512,
          -1.0512973505059673,
          -1.02420334878996,
          -1.0026609377421816,
          -0.985592352720849,
          -0.9719634904304529,
          -0.961146246952334,
          -0.9525161123501527,
          -0.9455876848552016,
          -0.9401853829182143,
          -0.9357204133566288,
          -0.9322912495032304,
          -0.9294794076215314,
          -0.9272205073168631,
          -0.925392419464775,
          -0.9239609405672028,
          -0.9227180180028989,
          -0.9217334857555628,
          -0.9208220123819313,
          -0.9200128401649281,
          -0.9192444372354868,
          -0.9185139774102842,
          -0.9177571026369309,
          -0.9168220002367031,
          -0.9158692161631135,
          -0.914729530828275,
          -0.9133210325640022,
          -0.9116563881842132,
          -0.909617937588715,
          -0.9069870044632785,
          -0.9037715788602032,
          -0.8997004032976663,
          -0.8945669574354067,
          -0.888098317422934,
          -0.8799585733382519,
          -0.8694696759015176,
          -0.8564211665935391,
          -0.8398252823715592,
          -0.8190235145404067,
          -0.7927486343268604,
          -0.7596139922410554,
          -0.7180729979273479,
          -0.665801235766321,
          -0.6000470624365715,
          -0.5187692094861895,
          -0.41635004626126415,
          -0.29118385273267827,
          -0.13339918486653962,
          0.06259956248815639,
          0.3052849112479424,
          0.6000457103112821,
          0.9655602093808104,
          1.4014149167810541,
          -1.282674175149324,
          -1.0681010902900567,
          -0.8983186010739307,
          -0.7628900309289885,
          -0.6555804862612808,
          -0.5701405170972358,
          -0.5023902128596714,
          -0.449211180966792,
          -0.4053967759608884,
          -0.37198772163121707,
          -0.34481866378021786,
          -0.3232620659601241,
          -0.30617815922469066,
          -0.2925254631568044,
          -0.2816753063669134,
          -0.27299901746546545,
          -0.26608510717033806,
          -0.2605976845994573,
          -0.2560211124289894,
          -0.2524309890589831,
          -0.24941714495275427,
          -0.24688665007397162,
          -0.24470281456525128,
          -0.24273047734937384,
          -0.24091414405567727,
          -0.2391190940186731,
          -0.23725884217447055,
          -0.23524126168794712,
          -0.23293654808589065,
          -0.23028024484113369,
          -0.22710606877075545,
          -0.22324817475419353,
          -0.2185474315108558,
          -0.2125763093993452,
          -0.2054873643208745,
          -0.19633647711534719,
          -0.1851383975575155,
          -0.1708122418412395,
          -0.15279324621525495,
          -0.1302145264260323,
          -0.10155381325839602,
          -0.06547362095135237,
          -0.019944412110669302,
          0.03770066194611338,
          0.11007085088893234,
          0.20034287528034694,
          0.312845798875216,
          0.45202294612106975,
          0.6177780826205411,
          0.8136083314079562,
          1.0397208757428265,
          1.2951304205757204,
          1.563956602097939,
          1.8392050700927882,
          2.1100982934002075,
          2.3575445410568934,
          2.5834354243641364,
          2.773782065836879,
          2.9342592264753695,
          3.0559808718579924,
          3.1586106612996607,
          -1.7810339550714858,
          -1.5664675241840476,
          -1.3966772838856998,
          -1.2612555190381585,
          -1.1539452177425937,
          -1.0685041136367635,
          -1.0007526744574138,
          -0.9475721293088207,
          -0.903755643576311,
          -0.8703375140656686,
          -0.8431576786210204,
          -0.8215991892312846,
          -0.8045045049022023,
          -0.7908359283559445,
          -0.7799749939724046,
          -0.7712879274773078,
          -0.7643543535645247,
          -0.7588561533999951,
          -0.7542650204965942,
          -0.7506603363936548,
          -0.7476281484152087,
          -0.7450685320705601,
          -0.7428695640047032,
          -0.7408662137533175,
          -0.7389910657036852,
          -0.73714419536511,
          -0.7352251287649718,
          -0.7331158289173625,
          -0.7307124014998554,
          -0.7279314742888621,
          -0.7245578029209092,
          -0.720502481273446,
          -0.7155105233714475,
          -0.7092992154485027,
          -0.7016014461439404,
          -0.6919323559227033,
          -0.6800062397182198,
          -0.6649313706885576,
          -0.6457154032771242,
          -0.6216599335278634,
          -0.5910535352613919,
          -0.5530069811887787,
          -0.5044336512176375,
          -0.4432341675581307,
          -0.36623180964769897,
          -0.27081732781640566,
          -0.1508844535080299,
          -0.0054122973339146285,
          0.17062775404531427,
          0.3755507935068846,
          0.6137606769291496,
          0.8691702217620435,
          1.1519853120137318,
          1.4304450950891656,
          1.69944674875451,
          1.9538874507759303,
          2.1690007404342877,
          2.35934738190703,
          2.5090469488966347,
          2.6326601639213334,
          2.7282954989982664,
          -1.454537885009328,
          -1.2399729682482654,
          -1.0701898191594201,
          -0.9347727828006527,
          -0.827472163729669,
          -0.7420374909606218,
          -0.6743027108505146,
          -0.6211426255201513,
          -0.5773493225954935,
          -0.5439635830482182,
          -0.5168187285820157,
          -0.4952959767985821,
          -0.47824213731383586,
          -0.4646210217523504,
          -0.45380244982217105,
          -0.4451634204893611,
          -0.4382733526783457,
          -0.43283189960307833,
          -0.42830244057663097,
          -0.42478534050143063,
          -0.4218551211866253,
          -0.4194404077831814,
          -0.41741396828192556,
          -0.4156627686171396,
          -0.4141116508005057,
          -0.4126854568437062,
          -0.4113209723427588,
          -0.40997296397642063,
          -0.40855777286412426,
          -0.40705915573802043,
          -0.40539555432190966,
          -0.4035537252789245,
          -0.4014074419336233,
          -0.3989973183290612,
          -0.39616529525338506,
          -0.3929372369748979,
          -0.38918228593902177,
          -0.3847517103751749,
          -0.3796724160320776,
          -0.37362211658068034,
          -0.3663564602878806,
          -0.3576971017852919,
          -0.3471871577600436,
          -0.33440591946983445,
          -0.31857545750284944,
          -0.2993247475858672,
          -0.2755470225516539,
          -0.2457031899958427,
          -0.20901542465466044,
          -0.16389578283899425,
          -0.10926608859178877,
          -0.04297076069444178,
          0.037277808689520686,
          0.13280382245759298,
          0.24387129218630194,
          0.37649373050189466,
          0.5332621941421368,
          0.7143834810187859,
          0.9276306884415095,
          1.1704127909169544,
          1.4651912295059275,
          -1.9528999339443978,
          -1.7383355653032004,
          -1.568552359467266,
          -1.4331352663614092,
          -1.325834268976497,
          -1.2403994070504858,
          -1.1726638703125216,
          -1.11950340666823,
          -1.0757093471157155,
          -1.0423228509405833,
          -1.0151817576506508,
          -0.9936508764710672,
          -0.9765955237306072,
          -0.9629657113020793,
          -0.9521452478022578,
          -0.943497332445441,
          -0.9366053730647836,
          -0.9311531423958674,
          -0.926612905775771,
          -0.9230850281069218,
          -0.9201421396288256,
          -0.9177147570620907,
          -0.9156667623735371,
          -0.913901001975818,
          -0.9123245458326024,
          -0.9108730135492209,
          -0.9094743046976848,
          -0.9080877170172701,
          -0.9066116434823646,
          -0.9050402226915955,
          -0.9033157388528756,
          -0.901359139419037,
          -0.8990910912285173,
          -0.8965731916874664,
          -0.8935445324352334,
          -0.8901009222837685,
          -0.8861304193749145,
          -0.8814842919380901,
          -0.8760306409382994,
          -0.869638097981015,
          -0.8618903090950332,
          -0.8529511724178551,
          -0.8417624596228679,
          -0.8283231292296541,
          -0.8120730000007851,
          -0.7920243088935037,
          -0.7674486026689912,
          -0.737226456184765,
          -0.7001603769151676,
          -0.6542841072426713,
          -0.597820025773747,
          -0.5288017082540003,
          -0.44569817470378725,
          -0.344915338655123,
          -0.22566129035607718,
          -0.08555171890662103,
          0.0794033233039579,
          0.2708095250603644,
          0.49524785946666394,
          0.7558020099557295,
          1.0505804485447028,
          -1.6262516232805135,
          -1.4116902028759712,
          -1.2419099826727535,
          -1.106496347221362,
          -0.9991974833921655,
          -0.9137636200800845,
          -0.8460264909409725,
          -0.7928586677847798,
          -0.7490519918980836,
          -0.7156433687114502,
          -0.6884647210376967,
          -0.6668914641483604,
          -0.6497706144260269,
          -0.6360683853533838,
          -0.6251533869045682,
          -0.616410936598757,
          -0.60943143672347,
          -0.6038986600142889,
          -0.599301500207899,
          -0.59572822486764,
          -0.5927559952935368,
          -0.5903077619276297,
          -0.5882417320278122,
          -0.5864335221105137,
          -0.5848055107935708,
          -0.5832560581136768,
          -0.5817232694122877,
          -0.5801240799753192,
          -0.5783545954803448,
          -0.5763475002791791,
          -0.5740183769746048,
          -0.5712104425670975,
          -0.5678106678356005,
          -0.5636321937081356,
          -0.558320809554277,
          -0.5521002920312138,
          -0.5442516360250111,
          -0.534344748681809,
          -0.5217862750401646,
          -0.5060097856878726,
          -0.4864229671439073,
          -0.46184889940130425,
          -0.43108155050271213,
          -0.3920835726584968,
          -0.3435715955644243,
          -0.28380914286435127,
          -0.20467303001222764,
          -0.11048496353052326,
          0.010311761840767653,
          0.1619137145724445,
          0.3492965747464266,
          0.582331786396606,
          0.8750875182497364,
          1.2433167315924982,
          1.6977486067641328,
          2.2885365110122122,
          2.9873198048382914,
          3.8765361293937177,
          5.019135626035128,
          6.383005133541873,
          8.094836326482783,
          -2.1246190615979845,
          -1.9100568074465611,
          -1.7402771731946012,
          -1.6048624599838448,
          -1.497563406997684,
          -1.4121284659262383,
          -1.3443907693162336,
          -1.291223588423057,
          -1.2474154564630675,
          -1.2140058874916129,
          -1.1868257837445664,
          -1.1652506352855878,
          -1.1481274013148433,
          -1.1344162862181935,
          -1.1234975046300935,
          -1.1147461683002755,
          -1.1077558908313396,
          -1.1022174394132322,
          -1.0976025075588287,
          -1.0940216659400015,
          -1.0910348756329653,
          -1.0885631955101183,
          -1.0864769301684416,
          -1.0846428101003576,
          -1.0829832139237028,
          -1.081426766789444,
          -1.0798351633321193,
          -1.0781771591392153,
          -1.0763628487970345,
          -1.0742780231435125,
          -1.071852253690161,
          -1.068893785165632,
          -1.0653294874083838,
          -1.0609996877095527,
          -1.0552748392938303,
          -1.0487739302034584,
          -1.0407361172330483,
          -1.0301711377868417,
          -1.01702451658584,
          -1.0007298242178384,
          -0.9801558675193663,
          -0.9544754492016965,
          -0.922581073061303,
          -0.8813290407334848,
          -0.8305137412788965,
          -0.7664244220323817,
          -0.6858894183073112,
          -0.585120430795562,
          -0.4589349085998282,
          -0.3040424953531291,
          -0.10937926871262893,
          0.14002910007822428,
          0.4438483376820237,
          0.8334259716552117,
          1.3039450918657367,
          1.923854461979889,
          2.622637755805968,
          3.567809715279275,
          4.851089753559766,
          6.026108993218667,
          8.019786027422427,
          -1.7977019934949812,
          -1.5831391557192005,
          -1.4133578775429767,
          -1.2779411803607514,
          -1.1706407108740147,
          -1.0852051099298496,
          -1.0174657900526014,
          -0.9642974213885301,
          -0.9204913921181612,
          -0.8870860065629333,
          -0.8599136230320128,
          -0.8383547596816594,
          -0.8212574358617,
          -0.8075900029638494,
          -0.7967218980289135,
          -0.7880231299219014,
          -0.7810961982694202,
          -0.7756057840135997,
          -0.7710324666913219,
          -0.7674785027746558,
          -0.7645095280487426,
          -0.7620611621189136,
          -0.7600010700912725,
          -0.7582105431911752,
          -0.7566182065695879,
          -0.755140016214186,
          -0.7537146492906295,
          -0.7522855230598228,
          -0.7507555615566728,
          -0.7491421740397155,
          -0.7473288299609274,
          -0.7452973591957501,
          -0.742947445219527,
          -0.7401818806546927,
          -0.7369244720750967,
          -0.733252112596269,
          -0.7288619424255312,
          -0.7236751743359484,
          -0.7175277961417201,
          -0.7103262708411595,
          -0.701869796336041,
          -0.6918608148374181,
          -0.6802396726572559,
          -0.6664871252994278,
          -0.6502735018241808,
          -0.631808010974207,
          -0.60924308681233,
          -0.5838994486802807,
          -0.5529787940919564,
          -0.5178229356479891,
          -0.4757656495541689,
          -0.4260502454648408,
          -0.36773082399612106,
          -0.29821626592141925,
          -0.21743171662841598,
          -0.11900295926558677,
          0.0017593992142545534,
          0.14345649918257336,
          0.3133687591799087,
          0.524658010851546,
          0.7752259595472812,
          -2.296069089873678,
          -2.0815062520978973,
          -1.9117249360902804,
          -1.7763082389080553,
          -1.6690075802643545,
          -1.583571790163225,
          -1.515832791417485,
          -1.4626644227534136,
          -1.4188573157236797,
          -1.3854522512999599,
          -1.3582793002981468,
          -1.3367191128490439,
          -1.3196217890290844,
          -1.3059524645615919,
          -1.295077365172291,
          -1.2863855915196438,
          -1.279442779388791,
          -1.2739574680176933,
          -1.2693822591257733,
          -1.2658175176154585,
          -1.262853645774268,
          -1.26039450225079,
          -1.2583357299685876,
          -1.2565306423355571,
          -1.2549288478657594,
          -1.2534304220684982,
          -1.2519791449941562,
          -1.250524108612564,
          -1.2489612425042638,
          -1.2473009614734267,
          -1.2454078192756088,
          -1.2432475892108485,
          -1.2407709836017158,
          -1.2378976431003925,
          -1.2345834874315345,
          -1.2305556869924343,
          -1.225931049252298,
          -1.2203888402024428,
          -1.213918134198748,
          -1.2062344763050052,
          -1.1972637560558987,
          -1.1865060612438896,
          -1.1740662612066939,
          -1.159614268412392,
          -1.1424420979928167,
          -1.1221787256747464,
          -1.0987251991121885,
          -1.0721718270713996,
          -1.0403625700823942,
          -1.0032975322932138,
          -0.9598413553264468,
          -0.9091053742925868,
          -0.8488767734786541,
          -0.77699993000683,
          -0.6922254747623309,
          -0.5928905052956829,
          -0.4724140589176248,
          -0.3305101922819608,
          -0.15290403248341702,
          0.05340995569846768,
          0.3036919922924197
         ],
         "y": [
          -1.0289636261342554,
          -0.8656588064036097,
          -0.7364417281383042,
          -0.6333842194282179,
          -0.5517298151528007,
          -0.48672206910543236,
          -0.4351895830625958,
          -0.3947536293378352,
          -0.3614502715680815,
          -0.3360713722995413,
          -0.31544510610071974,
          -0.2990951548209472,
          -0.28614841118159906,
          -0.27581069792375645,
          -0.2676072406616362,
          -0.261059235521657,
          -0.25585525356848793,
          -0.2517541351040481,
          -0.24836380920206694,
          -0.24576877352722984,
          -0.2436519399191133,
          -0.24196402570548034,
          -0.24061954174421327,
          -0.23953406699686072,
          -0.23866174834135787,
          -0.23794301445495156,
          -0.2373470068995114,
          -0.23684736489074562,
          -0.23638729531156602,
          -0.23597814556998062,
          -0.23557190013082394,
          -0.23515091615656383,
          -0.2347021937947046,
          -0.2341834636086412,
          -0.23356079473406785,
          -0.2328551291094321,
          -0.23197751036795386,
          -0.2308723322244525,
          -0.22950645653502308,
          -0.22779827335418965,
          -0.2257085314272306,
          -0.22314237239586274,
          -0.21997015257813432,
          -0.21608800582498736,
          -0.21139266346076604,
          -0.20560012782811302,
          -0.1985386043302638,
          -0.19001899623726562,
          -0.17959459835781136,
          -0.16695636313971798,
          -0.1511606135431344,
          -0.1323609307994765,
          -0.10969937285774384,
          -0.08223203318546984,
          -0.049700946993420425,
          -0.011418287449011744,
          0.033729879999395196,
          0.08574638298582754,
          0.14651985028462994,
          0.21742676712478998,
          0.2994960302667481,
          -0.3017504767073972,
          -0.13844234516978265,
          -0.00918887274136727,
          0.09386936172563487,
          0.17552390464131018,
          0.2405656060392346,
          0.29209716059052154,
          0.3325313173062572,
          0.3658309044400566,
          0.3912387007063034,
          0.41185648087133836,
          0.4282289840136903,
          0.4411948527692983,
          0.4515434546152829,
          0.4597518833232264,
          0.466295599188947,
          0.4715254700401366,
          0.47561209655221004,
          0.4789852747033308,
          0.48156831162565295,
          0.4836791552036868,
          0.48536622838558247,
          0.48672016931180323,
          0.48778595452073414,
          0.4886823174121404,
          0.48939166910299076,
          0.4900160288609426,
          0.49054918141674025,
          0.4910350614108703,
          0.49147175970792895,
          0.491901301812999,
          0.4923996142241885,
          0.4928897248424806,
          0.49345674911619464,
          0.4941398323312049,
          0.4949351335690507,
          0.49589740715653835,
          0.49713201122178063,
          0.4986344055876629,
          0.5005325692232949,
          0.5029241491980706,
          0.5059383928337413,
          0.5097308289966069,
          0.5146199744721588,
          0.5207091913978,
          0.5284626456421061,
          0.5381897811174607,
          0.5504917078832025,
          0.5660213714496991,
          0.5855167467950121,
          0.6100770089885756,
          0.6409903897974559,
          0.6792849068550502,
          0.7275388770760264,
          0.7866073990229496,
          0.8611274226223931,
          0.9538426197208383,
          1.0687040064288298,
          1.2082861215551288,
          1.3816796016722284,
          1.5885461965590946,
          -0.9585011660831955,
          -0.7951874822258486,
          -0.6659641793724717,
          -0.5628933607916419,
          -0.4812255631773511,
          -0.41620420620602194,
          -0.3646515491730758,
          -0.32419243056346553,
          -0.2908635922615326,
          -0.26545741077870105,
          -0.24480326242796252,
          -0.22842431135496027,
          -0.21545147883424998,
          -0.20509204446477303,
          -0.19686865655772096,
          -0.1903039634242849,
          -0.18508344673012705,
          -0.18095813263415206,
          -0.17753423076191616,
          -0.17487728560666194,
          -0.1726736292119634,
          -0.17086111108280722,
          -0.1693422246322115,
          -0.16802310120294556,
          -0.16685960712111836,
          -0.16576984627624636,
          -0.16470148582038124,
          -0.16360156959959182,
          -0.16239438122070798,
          -0.16105181424549647,
          -0.15948376404324244,
          -0.15760993072600665,
          -0.1553512184945393,
          -0.15250059931135462,
          -0.14913050509835507,
          -0.1447898707020277,
          -0.13948412248163522,
          -0.13269598244142627,
          -0.12414712296562902,
          -0.11342632344525877,
          -0.09979282605734574,
          -0.08261098742471018,
          -0.06088536600500738,
          -0.03332838680020134,
          0.0013462734821113598,
          0.044682855360344054,
          0.09882444381710481,
          0.16591591379790505,
          0.24603896098425654,
          0.34090828119016026,
          0.45069333246870147,
          0.5750465342785372,
          0.7062491493880477,
          0.8408717068971907,
          0.9737652560237082,
          1.095500917901278,
          1.206938448325416,
          1.3012187707335694,
          1.3809210970218584,
          1.4417561450042968,
          1.4931622189939646,
          0.3433000904202594,
          0.5066104994777698,
          0.6358375757709535,
          0.7389050507740199,
          0.8205731922779452,
          0.8855950650837264,
          0.9371482379511247,
          0.9776080443400043,
          1.0109378283384325,
          1.0363483850679316,
          1.0570076824170156,
          1.0733874932141045,
          1.0863654747331601,
          1.096732627927068,
          1.1049611648324658,
          1.1115310069642472,
          1.1167609619310093,
          1.1208914250253297,
          1.1243221953440845,
          1.1269860089458577,
          1.1291982532352485,
          1.1310245082574424,
          1.1325502725007317,
          1.133883992547122,
          1.1350749697611997,
          1.1361887841881497,
          1.137284627776265,
          1.138427483470516,
          1.1396810408730333,
          1.1410820036629172,
          1.1427444833220877,
          1.1447110546865904,
          1.1471071358484353,
          1.150069425701144,
          1.1537312653331384,
          1.1583124355502474,
          1.1639616060965838,
          1.1711100825592293,
          1.180225518776524,
          1.191650077045275,
          1.2062104875971218,
          1.2243361534901838,
          1.2475205020048612,
          1.27679319091318,
          1.3136984607335536,
          1.3595226347583855,
          1.4172666528220403,
          1.4874447179577144,
          1.5725429494372642,
          1.671870684866875,
          1.7876551124028806,
          1.9120083142127164,
          2.050070029666391,
          2.1864026891742165,
          2.318436514214034,
          2.443601726263686,
          2.549890258342342,
          2.6441705807504956,
          2.7187239086933026,
          2.780418680762441,
          2.8283952045800267,
          -0.7953261551473458,
          -0.6320163841548946,
          -0.5027926561125617,
          -0.39972735527681713,
          -0.31806376470284636,
          -0.2530448149589599,
          -0.2014995394031323,
          -0.16104943294255286,
          -0.12773063658931982,
          -0.1023355277894748,
          -0.08169288104914851,
          -0.06533006475045211,
          -0.05237139898482296,
          -0.042026819149696526,
          -0.03381803720594351,
          -0.02727052920806683,
          -0.02206034789529876,
          -0.017955676523579378,
          -0.014552436067948316,
          -0.011928179120338167,
          -0.009761528246066575,
          -0.008000630946811249,
          -0.006552279256023696,
          -0.005332911859339207,
          -0.00428895681026209,
          -0.0033668421622966016,
          -0.0025245611027094883,
          -0.0017314729191247324,
          -0.0009333356281903127,
          -0.00012520861114040382,
          0.0007435028394504051,
          0.0016809845961607839,
          0.002750876117029233,
          0.003935406345212333,
          0.005313090297253242,
          0.0068715832755713024,
          0.008674143386092625,
          0.010791833255209216,
          0.013211515464939594,
          0.01608686724524705,
          0.019532730147259703,
          0.023635365288393828,
          0.028610295297523958,
          0.03466408590537612,
          0.042158016475363436,
          0.051280954244823096,
          0.06254858344519959,
          0.07671564293047117,
          0.09414333279201098,
          0.11560345620086526,
          0.14161123007974263,
          0.1731965016609635,
          0.21147419560406666,
          0.25704619804178214,
          0.3100826321197304,
          0.3734168964173583,
          0.44825170174738993,
          0.5347562128563619,
          0.6365385066920188,
          0.7523958962232483,
          0.8931385058319635,
          0.5064740199729947,
          0.6697835167883557,
          0.7990072706224112,
          0.9020725972498783,
          0.9837363597686664,
          1.0487553954849616,
          1.1003010149304238,
          1.1407512933358206,
          1.1740704335786882,
          1.199465886268168,
          1.220106648157826,
          1.2364734098411463,
          1.249432763386045,
          1.2597815465230215,
          1.2679911881908612,
          1.2745429854629966,
          1.2797540264998513,
          1.2838638468699162,
          1.2872722363238929,
          1.2899016422698484,
          1.2920743018665524,
          1.2938412078882395,
          1.2952998575757182,
          1.2965260934189216,
          1.297582065912863,
          1.298516198005693,
          1.2993747857844034,
          1.3001859094814592,
          1.301013221314293,
          1.3018556905639374,
          1.3027535765564278,
          1.303745977846765,
          1.3048742184514324,
          1.3061102386630705,
          1.307582305341154,
          1.3092437782863815,
          1.3111493183638125,
          1.3133699881998389,
          1.3159698386207874,
          1.3190082575923263,
          1.322685778689012,
          1.3269255958370296,
          1.3322265667668753,
          1.3385894841989507,
          1.346289187779263,
          1.3557898433763877,
          1.367435190404429,
          1.3817741947070408,
          1.3993738293859206,
          1.4211778424294548,
          1.44804440577756,
          1.4809173942538871,
          1.520567842883295,
          1.5686293067025532,
          1.6256120600220754,
          1.692549688544069,
          1.7713308131156742,
          1.8628105085178448,
          1.970080082628833,
          2.0945160206776268,
          2.2352586302863418,
          -0.6320779957357776,
          -0.4687699892326227,
          -0.3395477677623601,
          -0.23648423814391764,
          -0.15482167082729378,
          -0.08980331447871079,
          -0.038257171721856664,
          0.0021963764389220652,
          0.035521275898553195,
          0.06092703593089854,
          0.08158556793986188,
          0.0979724163244346,
          0.11096309185221437,
          0.12134654241907061,
          0.12960165600175821,
          0.13619892518874166,
          0.14145200859027218,
          0.14560044177484088,
          0.14903545463698092,
          0.15168549396101744,
          0.15387023642580855,
          0.15564411370193676,
          0.15710720220246954,
          0.1583482215862917,
          0.15942161287016043,
          0.1603929841377852,
          0.1613034918239873,
          0.16220097112287668,
          0.16314911163658447,
          0.16417606653421718,
          0.16533247725407418,
          0.1666935227242733,
          0.16831433862373346,
          0.17028530155321575,
          0.1727743284881053,
          0.17567135591635402,
          0.1793144732663905,
          0.18390863581393851,
          0.18973263848350602,
          0.1970436057807018,
          0.20611953990963244,
          0.21751057914754363,
          0.23176772544061708,
          0.24986989427140116,
          0.27238553993984155,
          0.3001391647369502,
          0.33691060057121586,
          0.3807231871680852,
          0.43690480637288254,
          0.5075131090168171,
          0.5947846294309408,
          0.7033563175418265,
          0.8399228930153164,
          1.011869650711824,
          1.2238475598199985,
          1.5003802881771302,
          1.8267488402762335,
          2.242425778489377,
          2.7782770940013193,
          3.417201758898032,
          4.219287029210149,
          0.6697195294543508,
          0.8330279399529331,
          0.9622498700516237,
          1.0653139145699004,
          1.146976567858933,
          1.2119954391073506,
          1.2635418397814306,
          1.3039950459218097,
          1.3373206322260927,
          1.3627268221204814,
          1.3833860409740966,
          1.3997737490827562,
          1.4127654581486748,
          1.42315319798979,
          1.431410031020651,
          1.438011589481893,
          1.443269821881769,
          1.447420834238598,
          1.4508644256492556,
          1.4535179038696389,
          1.455709514780949,
          1.4574945497778546,
          1.4589670858971664,
          1.4602201320720276,
          1.4613081293191956,
          1.4622829301369924,
          1.4632209209554448,
          1.4641458833865846,
          1.4651146479321984,
          1.4661776832029483,
          1.4673787715367896,
          1.4688102396127003,
          1.4705083372182162,
          1.4725480780746345,
          1.4752378037909013,
          1.4782587623340808,
          1.4819878520927874,
          1.4868911414645585,
          1.4929899754566285,
          1.5005414785746058,
          1.5100811029398713,
          1.5219875093210666,
          1.5367769368539166,
          1.5559436681642538,
          1.5795412577174757,
          1.6093215882772638,
          1.646778934145946,
          1.6936827889850476,
          1.7524389073625861,
          1.8245928441276371,
          1.9152985878012014,
          2.0317629143952347,
          2.173483161301565,
          2.355558774724112,
          2.575424649228075,
          2.86569427062297,
          3.1920628227220735,
          3.635176162311874,
          4.237973802489798,
          4.784300612740292,
          5.725259299584944,
          -0.46870061386450124,
          -0.30539188799696587,
          -0.17616911050989936,
          -0.0731040389958057,
          0.00855938337181758,
          0.07357867980919108,
          0.12512601870282683,
          0.16557999018332661,
          0.19890479619360923,
          0.22430926009750227,
          0.24496512041947452,
          0.2613453517324321,
          0.2743250340073118,
          0.28469216850887014,
          0.29292496665000245,
          0.29950163049742917,
          0.3047298192851443,
          0.3088584975080683,
          0.3122831749888185,
          0.31492543941137585,
          0.3171109574846812,
          0.31888815215688493,
          0.32035280122062093,
          0.3215910451625139,
          0.3226547364808863,
          0.3236017363964925,
          0.32447319199797914,
          0.3253049023422423,
          0.3261579591668037,
          0.3270210057174804,
          0.32796178445255864,
          0.32899021938513956,
          0.3301579231822226,
          0.33151402438075706,
          0.33309757480487,
          0.3348705314961272,
          0.33698184458388314,
          0.339468281192809,
          0.34241099316921864,
          0.34585217399704604,
          0.34988937728393815,
          0.35466054105426037,
          0.3602006458786803,
          0.3667510202983806,
          0.3744667033577136,
          0.38324528418375736,
          0.39397923021814973,
          0.40600071795655857,
          0.4206819638280176,
          0.43733791314354153,
          0.4572556652689258,
          0.4807791574020743,
          0.508338338785581,
          0.5411359677953942,
          0.5792561951684644,
          0.6256211957453235,
          0.6824625453903203,
          0.7490943578506505,
          0.8289508960217745,
          0.9282146884609541,
          1.0458569018253805,
          0.833097091792792,
          0.9964058176603274,
          1.1256286123418755,
          1.2286936838559692,
          1.310357192196001,
          1.3753765746057833,
          1.4269237424892192,
          1.467377713969719,
          1.500703034879836,
          1.5261073277735293,
          1.5467634460127275,
          1.5631442791325458,
          1.5761239614074254,
          1.5864919556330705,
          1.594728183324375,
          1.6013014176216296,
          1.6065373252337756,
          1.6106634336306143,
          1.614088970835451,
          1.6167363842563538,
          1.618919332503574,
          1.620701676174123,
          1.6221654748599472,
          1.6234105872483588,
          1.6244785771871648,
          1.62543502472155,
          1.626318507114076,
          1.6271622442493783,
          1.6280307574151505,
          1.6289161194073825,
          1.6298946699252275,
          1.6309848834917793,
          1.6322126745131844,
          1.6336202656951735,
          1.6352296078418873,
          1.6371741355034959,
          1.6393970257990285,
          1.6420550333783055,
          1.6451522153050795,
          1.6488250543275802,
          1.6531110168291323,
          1.6582425170218908,
          1.6641772537704682,
          1.671070583207377,
          1.6792494891943088,
          1.6889028389686014,
          1.7000657124288718,
          1.7126871377930273,
          1.7277973110903644,
          1.7453961530488433,
          1.7659998152086438,
          1.7900372725588687,
          1.8185393465853303,
          1.8525359162291646,
          1.8925447327405593,
          1.9394218292995513,
          1.9962585058571896,
          2.0630594592824445,
          2.146688502642859,
          2.243716077839147,
          2.3613536181162145
         ],
         "z": [
          1.8564690627772928,
          1.0807100111089258,
          0.4668812393564612,
          -0.02267523965701601,
          -0.41055435078687474,
          -0.7193510217874092,
          -0.9641284167849884,
          -1.1561838678085021,
          -1.314346391374296,
          -1.434849922522431,
          -1.5327575053902702,
          -1.610328420499528,
          -1.6717047403467986,
          -1.7206517935397823,
          -1.7594293152564784,
          -1.7902957689446586,
          -1.8147592239497217,
          -1.8339483700290908,
          -1.849747321935637,
          -1.861781388373845,
          -1.8715568991256546,
          -1.8792995401194217,
          -1.8854243592622242,
          -1.8903066047046333,
          -1.8941730331309838,
          -1.8972461182016962,
          -1.8996771683425409,
          -1.9015787629787608,
          -1.9031343832313146,
          -1.9043079852897409,
          -1.9052460674780263,
          -1.9059687045227798,
          -1.9065155742894495,
          -1.9069163458533422,
          -1.9071858719306405,
          -1.907356137333188,
          -1.9074181548498799,
          -1.9073707028222304,
          -1.9072248681419666,
          -1.9069566236222357,
          -1.9065738672088997,
          -1.9060534901930346,
          -1.9053689959992484,
          -1.9045029013348178,
          -1.9034199062339603,
          -1.902067912704928,
          -1.9003948892785647,
          -1.8983566660761055,
          -1.895843111638,
          -1.8927846652491755,
          -1.888901967297984,
          -1.8842842036111307,
          -1.878691283340075,
          -1.8718699010312951,
          -1.863780751794043,
          -1.8543186460038812,
          -1.843094962742495,
          -1.830272918417391,
          -1.8153997050587791,
          -1.7983188216715293,
          -1.7787091920949891,
          2.3326892347260104,
          1.556930581634471,
          0.9431127845914837,
          0.45355630779227596,
          0.0656770543785603,
          -0.2431091792412171,
          -0.4878870440743812,
          -0.6799432611240748,
          -0.8381070712570671,
          -0.9586017579814665,
          -1.0565121132979278,
          -1.1340761376981054,
          -1.1954468006957069,
          -1.2443904406465054,
          -1.283166328215316,
          -1.3140339844289421,
          -1.3384891105712162,
          -1.3576826582670214,
          -1.3734869639534615,
          -1.3855250498766498,
          -1.3953031140490586,
          -1.4030469741685117,
          -1.4091703438471728,
          -1.4140605130903148,
          -1.4179216209372512,
          -1.4210005048969787,
          -1.4234261192891813,
          -1.425321487559955,
          -1.4268742420847054,
          -1.4280458022326128,
          -1.428985219748262,
          -1.4296932791504051,
          -1.4302408917980605,
          -1.4306429831215275,
          -1.4309168772888405,
          -1.4310864869414017,
          -1.4311589692089879,
          -1.4311189356666931,
          -1.4309919699125577,
          -1.4307436671398348,
          -1.4303691592238397,
          -1.4298400666769526,
          -1.429131376620853,
          -1.4281763530526952,
          -1.426945132787789,
          -1.425336199121866,
          -1.4232818742520823,
          -1.4206366814876823,
          -1.4172534279158517,
          -1.412942300276903,
          -1.407443714703799,
          -1.4004786912285478,
          -1.3916720494872852,
          -1.3805744898493877,
          -1.36678262974232,
          -1.3492589331261435,
          -1.3271469458508223,
          -1.2996231700974374,
          -1.266020646700447,
          -1.2236377541851797,
          -1.1728535578371126,
          3.9138929606338144,
          3.1381362487646425,
          2.5243089216511145,
          2.034756008944321,
          1.6468804224032043,
          1.3380872548295064,
          1.0933153499157862,
          0.9012662294262488,
          0.7431107183788588,
          0.6226146939362529,
          0.5247148187481918,
          0.4471517826190197,
          0.3857821869541039,
          0.33684020729859443,
          0.2980666125185163,
          0.26720217147989417,
          0.24273961541427705,
          0.22355199734450434,
          0.20775546605663964,
          0.19573034334197403,
          0.18596868498447938,
          0.17824841263213792,
          0.17215741050663402,
          0.16732242359964689,
          0.16351643168790647,
          0.1605220181514726,
          0.15819225615747778,
          0.15642191320282278,
          0.15502986341672298,
          0.15406364878623086,
          0.15338540240369897,
          0.15299064917283872,
          0.15285583793639224,
          0.15299454073439467,
          0.1533614298058678,
          0.1540459245758602,
          0.15503164405187886,
          0.1564407202519122,
          0.15833998453198755,
          0.16083450952854972,
          0.16412585252648354,
          0.16836906802899504,
          0.17387053286302673,
          0.18098723883796874,
          0.19013205190391724,
          0.2017573688511829,
          0.21657168169490726,
          0.2351751234108289,
          0.2578508270880794,
          0.2851345472984888,
          0.3172142350385237,
          0.3542544278154614,
          0.3939814299636935,
          0.43532410892200624,
          0.4769479438274011,
          0.5157722102614871,
          0.5519285270586676,
          0.5832752692866725,
          0.6102075570564235,
          0.6315229025800151,
          0.6497579755841507,
          4.582693331406949,
          3.8069355725003016,
          3.193109368850539,
          2.7035553985647143,
          2.315679864731384,
          2.0068867762193667,
          1.762114950367327,
          1.5700659352933637,
          1.4119105691923877,
          1.2914157604521748,
          1.1935172195590271,
          1.1159543151993223,
          1.0545860538293201,
          1.0056463474552355,
          0.9668740869700709,
          0.9360109802263624,
          0.911550960981105,
          0.8923646772062457,
          0.8765697437522293,
          0.864546218871412,
          0.8547864218867005,
          0.8470693452020557,
          0.8409793972322908,
          0.8361477377624675,
          0.832347593508011,
          0.8293579568728826,
          0.8270340425361715,
          0.8252730064454317,
          0.823891334279226,
          0.8229378857192806,
          0.8222822891497992,
          0.8219082911587271,
          0.8218054365992465,
          0.821966706209101,
          0.8224110175860384,
          0.8231432813690825,
          0.8242088925375158,
          0.8257168061625888,
          0.8277519693209677,
          0.8304252234349843,
          0.8339513027362613,
          0.8384482002747409,
          0.8443367766360939,
          0.8519344927894957,
          0.8616937455252573,
          0.8740274007934749,
          0.8898844556985196,
          0.9094515777953328,
          0.9335439581144869,
          0.9622196610972951,
          0.9963090913274851,
          1.0333492841044227,
          1.0752177982101916,
          1.1173676942125097,
          1.1588597596505228,
          1.1987547820633773,
          1.2335768039470265,
          1.2649235461750312,
          1.2905215390312508,
          1.3119686540222242,
          1.3291329710475914,
          3.5182757933960453,
          2.7425180457156144,
          2.128691056325875,
          1.639136698295486,
          1.2512601398771135,
          0.9424666033489071,
          0.6976928584362253,
          0.5056414844823057,
          0.34748345311155077,
          0.22698469585440806,
          0.12908196759926546,
          0.05151482316977899,
          -0.009858034047567136,
          -0.05880338067108079,
          -0.09757975921021375,
          -0.12844737931629263,
          -0.15291042925929987,
          -0.17210066611818053,
          -0.1878987288389346,
          -0.19992777143714224,
          -0.20969292116929739,
          -0.21741892497724474,
          -0.2235185574866369,
          -0.22836719861751262,
          -0.23218933177278211,
          -0.23520944035535532,
          -0.2375754887535993,
          -0.23939831018920182,
          -0.24086341212585086,
          -0.24192952874265936,
          -0.24274276305521114,
          -0.24332463925425662,
          -0.24370216770368505,
          -0.24392239651315878,
          -0.2439862585711365,
          -0.2439244209947874,
          -0.24373728643812168,
          -0.2434201740360209,
          -0.24299998508119944,
          -0.2424329249017966,
          -0.24171148998377964,
          -0.2408138893128984,
          -0.2396950125859307,
          -0.23829438026860528,
          -0.2365425983360175,
          -0.234369442751277,
          -0.23167017425827466,
          -0.22821035628901787,
          -0.2239202182361566,
          -0.2185720553747535,
          -0.21203394454323746,
          -0.2040392527083694,
          -0.19425399037047084,
          -0.18258629548481997,
          -0.16890130448555954,
          -0.15254693283610068,
          -0.13328448610416357,
          -0.11092461993823258,
          -0.08475098743375556,
          -0.055002395997746284,
          -0.0187138735119943,
          4.187075889404029,
          3.411318045189557,
          2.797491059752902,
          2.307936705675597,
          1.9200601736111178,
          1.611266650259858,
          1.3664929580549634,
          1.1744416104549371,
          1.0162836317919692,
          0.8957849272426135,
          0.7978815285199662,
          0.7203155339081388,
          0.6589427821063667,
          0.6099986248313525,
          0.5712223780616869,
          0.5403559604810542,
          0.5158930423075143,
          0.4967041397435471,
          0.48090741131770665,
          0.46887970301441245,
          0.45911601934663826,
          0.4513914816030718,
          0.4452945176835067,
          0.44044747438647924,
          0.4366282733599716,
          0.4336110969061603,
          0.4312491831621243,
          0.4294302162415552,
          0.4279728565354527,
          0.4269147290878857,
          0.4261092370058802,
          0.42554177451194886,
          0.4251797305236133,
          0.42497284466327484,
          0.42493435080889397,
          0.4250228742835137,
          0.42523669473845005,
          0.4255804930388214,
          0.42605010070616267,
          0.4266585074276453,
          0.4274427040073174,
          0.4283831349173493,
          0.429590141509569,
          0.4310599579595215,
          0.4328759852508353,
          0.4351397400877783,
          0.437929607832983,
          0.441415779695716,
          0.4457322716420536,
          0.45113314229040935,
          0.4578573904002311,
          0.46615847205801997,
          0.4763176689765016,
          0.4885849665612558,
          0.5033654074087892,
          0.5207081533086442,
          0.5410660498888544,
          0.5648425926966889,
          0.5927294347671952,
          0.6248830770955043,
          0.6611715995812563,
          3.1226806852882176,
          2.3469222855880076,
          1.733094683709329,
          1.2435395636058444,
          0.8556623577538127,
          0.5468682396766806,
          0.30209419159097894,
          0.11004318161149607,
          -0.04811385982822952,
          -0.16861043946586743,
          -0.2665095882618341,
          -0.3440707053303641,
          -0.4054352767422996,
          -0.4543703047840669,
          -0.4931341309908689,
          -0.523988128008638,
          -0.5484396963752929,
          -0.567618319888354,
          -0.583409332426378,
          -0.5954338782624549,
          -0.605198435548232,
          -0.6129273559171518,
          -0.6190318161610187,
          -0.623886405583067,
          -0.6277160194948488,
          -0.6307432965267308,
          -0.6331168765146566,
          -0.6349449572909664,
          -0.6364110531770977,
          -0.6374703405765442,
          -0.6382716408954359,
          -0.6388223945593027,
          -0.6391563664078,
          -0.6392936717136248,
          -0.6392209956625186,
          -0.6390008811123187,
          -0.6385752541441958,
          -0.6379058295814983,
          -0.6369529599736613,
          -0.6356733486560152,
          -0.6340235823535403,
          -0.6318889674152304,
          -0.6291838770077696,
          -0.6256476873598567,
          -0.6212283108042476,
          -0.6157253932116349,
          -0.6083703679170871,
          -0.5994946183483801,
          -0.5881199532872035,
          -0.5736035425638504,
          -0.5556586597038354,
          -0.5332477686672201,
          -0.5046910681180279,
          -0.46836640692090514,
          -0.4240517661997769,
          -0.3642273861832276,
          -0.2951287025406659,
          -0.20634500787333737,
          -0.0882396866635499,
          0.051115128306888316,
          0.22637993021412817,
          3.7914799390542897,
          3.01572165578531,
          2.4018939547372016,
          1.9123389680632081,
          1.524461775388123,
          1.2156677907404825,
          0.970893782185621,
          0.7788426107627294,
          0.6206857291063886,
          0.5001892153534844,
          0.4022902263409026,
          0.32472924104184,
          0.26336471901764347,
          0.21443089350132227,
          0.17566733083345512,
          0.14481453634113217,
          0.12036430226939068,
          0.10118607406473182,
          0.08539746657760017,
          0.0733734478193927,
          0.06361048836746391,
          0.05588436835783861,
          0.04978190125622223,
          0.04492970028482646,
          0.041102870132099345,
          0.03807666385619607,
          0.035708931525554266,
          0.033886698406528304,
          0.032424308665723434,
          0.031372186618234765,
          0.03057936934597466,
          0.030043770203307063,
          0.02972709438796639,
          0.029600330639532157,
          0.02973156832957702,
          0.02996304618955048,
          0.030401850104411487,
          0.031140458799735926,
          0.032151804980412424,
          0.03347918531111016,
          0.03523272781252573,
          0.03747358833672654,
          0.04030387006270336,
          0.04409044234764803,
          0.0487519633674518,
          0.05469633964930304,
          0.062265516139604515,
          0.07183310703458184,
          0.08387491955252424,
          0.09873725093901242,
          0.11748105072317461,
          0.14208284145633604,
          0.17170199786443846,
          0.210505791562375,
          0.2572831710346703,
          0.32030321874780854,
          0.3894019023903702,
          0.4867516448878454,
          0.6216591218642985,
          0.732103525407992,
          0.9520931397284546,
          2.7271260972426647,
          1.9513679713322403,
          1.3375406182071483,
          0.8479860614955707,
          0.4601092592520608,
          0.15131561232820845,
          -0.09345781633775152,
          -0.2855083798578242,
          -0.44366499953200916,
          -0.5641613962491717,
          -0.6620605729558108,
          -0.7396228677526724,
          -0.8009897782275215,
          -0.8499283972453875,
          -0.8886978241707782,
          -0.9195566146900923,
          -0.9440141790837383,
          -0.9631969206507676,
          -0.9789884270661816,
          -0.9910119841150281,
          -1.0007715165283546,
          -1.0084928420039847,
          -1.0145877961810597,
          -1.019431363671216,
          -1.0232482914162988,
          -1.0262618602937716,
          -1.0286201664614694,
          -1.030433252524275,
          -1.03188394075581,
          -1.0329356436675043,
          -1.0337291104950483,
          -1.0342866892464757,
          -1.0346377787363286,
          -1.0348099065279563,
          -1.0348149600083003,
          -1.0346929961596436,
          -1.034414930345981,
          -1.0339867892619823,
          -1.0334046692156718,
          -1.032658215909226,
          -1.0317371244368672,
          -1.030617134397395,
          -1.0292808070757373,
          -1.0276841392832974,
          -1.0257947984484344,
          -1.0236471667451843,
          -1.0209915378543117,
          -1.0180786147972056,
          -1.0144819780945862,
          -1.0104697701706862,
          -1.0056827397214423,
          -1.0000684049093693,
          -0.9935612952414664,
          -0.9859229422349208,
          -0.9770316592706131,
          -0.9663852882979892,
          -0.9534239080911386,
          -0.9383617828205484,
          -0.9204001838532943,
          -0.8981553908785909,
          -0.8719487813230468,
          3.395925433179906,
          2.620167307269481,
          2.0063399567797786,
          1.5167854000682006,
          1.1289086110016378,
          0.8201149772547323,
          0.5753414678670677,
          0.3832909043469951,
          0.22513441810230148,
          0.10463794066343449,
          0.0067388034876356695,
          -0.07082339907059879,
          -0.13219030954544794,
          -0.18112879679384658,
          -0.21989715296325854,
          -0.25075701423855135,
          -0.27521230535077246,
          -0.29439598590431315,
          -0.31018736055025975,
          -0.3222095833041927,
          -0.3319700547040306,
          -0.33969004588474716,
          -0.34578567550939876,
          -0.3506276451657069,
          -0.35444391406345277,
          -0.35745548979867514,
          -0.35981140751572016,
          -0.3616221051278733,
          -0.36306933415277687,
          -0.3641154363458823,
          -0.364899843248206,
          -0.3654408667825618,
          -0.3657772956286056,
          -0.36593608047109805,
          -0.36593718086742055,
          -0.36576711600091794,
          -0.365461046594311,
          -0.36498480449246606,
          -0.3643626555987496,
          -0.36355344063064854,
          -0.36256151532619474,
          -0.3613426878616831,
          -0.35989681555519804,
          -0.3581930721648813,
          -0.35617277122561564,
          -0.3537656887005107,
          -0.35098980726502305,
          -0.3478759099589014,
          -0.34415902071166715,
          -0.3398387629408748,
          -0.33483758129587715,
          -0.3290354491815267,
          -0.32222028966673155,
          -0.3141256203512306,
          -0.30478134112591093,
          -0.29383843722916114,
          -0.2806052179676895,
          -0.2653536353708502,
          -0.24621420482695097,
          -0.22425764465651524,
          -0.19777919604635005
         ]
        },
        {
         "hovertemplate": "Sensor=HIV<br>PC1=%{x}<br>PC2=%{y}<br>PC3=%{z}<extra></extra>",
         "legendgroup": "HIV",
         "marker": {
          "color": "#EF553B",
          "symbol": "circle"
         },
         "mode": "markers",
         "name": "HIV",
         "scene": "scene",
         "showlegend": true,
         "type": "scatter3d",
         "x": [
          -0.8020788640906652,
          -0.5875015799467924,
          -0.41770978288662935,
          -0.2822873427487256,
          -0.17498435747436483,
          -0.08955195023557719,
          -0.02181582406370658,
          0.03134884060651505,
          0.07514887838976071,
          0.10854413296766678,
          0.13570770962001494,
          0.1572576912996724,
          0.17434859248947063,
          0.1880184887811669,
          0.19889605156431328,
          0.2075902886108062,
          0.2145285696811398,
          0.22000613867663793,
          0.2245633994235129,
          0.22808089522588543,
          0.23101265391627002,
          0.23340906698060615,
          0.23540682427627757,
          0.23712841771721282,
          0.23866866890938532,
          0.2400893187565869,
          0.2415016188250867,
          0.2429354937819596,
          0.24447592225321146,
          0.24624903464296344,
          0.24828250125917045,
          0.2507121217382627,
          0.2536270828171848,
          0.2572632047484683,
          0.2616353137776693,
          0.26711081798959857,
          0.27377526433364324,
          0.28230878505047985,
          0.29285647662948866,
          0.3059847684828752,
          0.3226150201431673,
          0.34288774558590984,
          0.36875769008184056,
          0.40074409812708645,
          0.4406819818316164,
          0.490546242392694,
          0.5532080896556246,
          0.6294658172548322,
          0.7266574948174003,
          0.8480734787103097,
          1.0002951065557717,
          1.1892039164361825,
          1.4220803893809064,
          1.715583698780442,
          2.0823830704145756,
          2.536212233035787,
          3.1037293003237245,
          3.813642236054184,
          4.683151316111239,
          5.694132288003713,
          7.174048336204297,
          -0.37888950412358796,
          -0.164312257811108,
          0.005479488176674763,
          0.14090205504974457,
          0.2482050024927124,
          0.3336375988884642,
          0.40137410337426327,
          0.4545317735901201,
          0.49833256800122266,
          0.5317287683639498,
          0.5588864855037184,
          0.5804387370669464,
          0.5975245353720219,
          0.6112001063726444,
          0.6220814522950749,
          0.6307883585048588,
          0.6377393087384834,
          0.643245427375644,
          0.64781535728581,
          0.6513665056145677,
          0.6543090418986012,
          0.6567237988351545,
          0.6587450028877657,
          0.660493826224925,
          0.6620631988829635,
          0.6635229998684452,
          0.6649751989964598,
          0.6664608942549038,
          0.6680860476328769,
          0.6699109803241998,
          0.6720620764522782,
          0.6746163208976066,
          0.6777077262443358,
          0.6815272868977912,
          0.686279470825721,
          0.6918684692161748,
          0.698981174032282,
          0.7078437408006208,
          0.7189795799389868,
          0.7329551208595853,
          0.7503134091665291,
          0.7719023188152806,
          0.799018502973573,
          0.8325102521890354,
          0.874751458254081,
          0.927647077822326,
          0.9928427577434488,
          1.0749819609362277,
          1.175464099013818,
          1.3041604493732457,
          1.4629629982487522,
          1.6584527291592077,
          1.9084809501155173,
          2.2174512045519075,
          2.598191009117042,
          3.0599999836412453,
          3.6725189951668016,
          4.389426385261995,
          5.284845616104539,
          6.436507129636094,
          7.7213699099684785,
          -0.8020650643389,
          -0.5874878369421164,
          -0.41769608073985764,
          -0.28227356191265673,
          -0.17497055772259953,
          -0.08953796132684771,
          -0.021801645998012875,
          0.031356213374808234,
          0.07515001333154593,
          0.10854640285123733,
          0.13570449830493436,
          0.15725637155423391,
          0.17434406142895154,
          0.18801263797520926,
          0.1988958754672819,
          0.20760656481634995,
          0.21455430373489393,
          0.2200642055113387,
          0.22464680458479563,
          0.22819663316811478,
          0.23115373018508129,
          0.23358304785456768,
          0.23562070420975406,
          0.23739675744313726,
          0.2389774795190283,
          0.2404771795640248,
          0.24194829438846038,
          0.24347388870641917,
          0.24515785684032798,
          0.2470465310752779,
          0.24927742532238623,
          0.25194230482522134,
          0.25513242398740127,
          0.2591354233630285,
          0.2638612123821882,
          0.26993234336582395,
          0.2773740942334333,
          0.2866356515969217,
          0.2983596382946448,
          0.31280411435404026,
          0.3308204947639886,
          0.3532073856030393,
          0.3813806524594857,
          0.4166082531428411,
          0.4601163755369827,
          0.5150355392911541,
          0.5835216797272992,
          0.667059773793025,
          0.7715318178221113,
          0.9042180741330347,
          1.0684094198329843,
          1.2732778535193785,
          1.5261038562215818,
          1.8447387255356944,
          2.241565775139719,
          2.7338159609685038,
          3.329134748684006,
          4.099930107023629,
          5.054164093801884,
          6.20789327400689,
          7.626926899598311,
          -0.9759369707273252,
          -0.7613737924690092,
          -0.5915920981474638,
          -0.45617661069914744,
          -0.3488757628984823,
          -0.26344029392886104,
          -0.19570129518312102,
          -0.14253413625295844,
          -0.09872842811409746,
          -0.06532774951996062,
          -0.038160772395567755,
          -0.016614195541266003,
          0.0004621449155990925,
          0.01410727470491707,
          0.024946082076955645,
          0.03360912999090904,
          0.04050601615925775,
          0.04595675098570415,
          0.05049984672681823,
          0.05403493848017296,
          0.05698807626082403,
          0.059436309626731104,
          0.061508762156709834,
          0.06334059492797955,
          0.06500942932270376,
          0.06660005727444179,
          0.06821598797386333,
          0.06992836489299659,
          0.07186906017172712,
          0.07407455251976355,
          0.07668521496924104,
          0.07981793146016898,
          0.0836618787572718,
          0.0884039159325278,
          0.09405394244380187,
          0.10124022885407336,
          0.10981385454333101,
          0.12055700944670444,
          0.13401378064872368,
          0.15018312666897154,
          0.17052528672242007,
          0.19539060841555633,
          0.22623631067014277,
          0.2636722591926881,
          0.310484098494046,
          0.3676182382835043,
          0.43723061388300705,
          0.5223084764467809,
          0.6283555083801904,
          0.7578482557730297,
          0.9149838078363064,
          1.1077420389618373,
          1.3408124151004377,
          1.6342721913905356,
          1.9835112243674247,
          2.4095129396141353,
          2.919843657358185,
          3.5386980870187754,
          4.289523037609776,
          5.10615709435318,
          6.204108638776482,
          -0.5527497082258952,
          -0.3381863975577042,
          -0.16840523244032768,
          -0.03298866723264633,
          0.07431255888194731,
          0.15974859532246113,
          0.22748905014149445,
          0.28065804345887874,
          0.3244653968279972,
          0.3578689875687206,
          0.3850378562627556,
          0.4065916167283863,
          0.4236717403245356,
          0.43732575613786034,
          0.4481753411035478,
          0.45684028058714327,
          0.4637428414644183,
          0.4692043538845135,
          0.4737601187889186,
          0.4773027768208416,
          0.480265372449703,
          0.48272495523346254,
          0.48482142634458464,
          0.4866721748122752,
          0.48836823910322336,
          0.49002960305295323,
          0.4916903595995809,
          0.49348746142543537,
          0.4955009603688311,
          0.49781708777437417,
          0.5005642954321439,
          0.5039294118257968,
          0.5079127634522097,
          0.5130159598297738,
          0.5190838926326181,
          0.5267259167273015,
          0.5358876899759163,
          0.5473588815259416,
          0.5615436893746125,
          0.5789799517239566,
          0.6005890281065012,
          0.6271202567238832,
          0.6601214777082467,
          0.7000912588889843,
          0.7496260878127419,
          0.8110712650617544,
          0.8849374957004549,
          0.9776168562388053,
          1.0897521304331312,
          1.2281309018327808,
          1.3981423838543638,
          1.6032838661690725,
          1.8534268448848201,
          2.1576642148238037,
          2.5297781805369732,
          2.9824379678041146,
          3.5067575942776346,
          4.152270095958656,
          4.901203476907581,
          5.844881360623349,
          6.895939391166957,
          -0.9759285779676641,
          -0.7613651329980283,
          -0.5915838543864732,
          -0.45616779946726405,
          -0.3488660058817779,
          -0.26342959112733566,
          -0.19568907912588196,
          -0.14252002862607732,
          -0.09871205060364588,
          -0.06530713576417299,
          -0.038135997186567516,
          -0.016579399366473707,
          0.0005096102536824004,
          0.014167409206291252,
          0.02502077731126287,
          0.033698385958149335,
          0.04061172442907321,
          0.046087797582101436,
          0.0506511287650748,
          0.054207027784492434,
          0.05718985885521308,
          0.05968045467448077,
          0.06179584148202366,
          0.06367760298522226,
          0.06543305385630971,
          0.0671392436532458,
          0.06887979831890345,
          0.07076861950584384,
          0.07289768029443755,
          0.07535734736263755,
          0.078343949377497,
          0.08186452667586289,
          0.0861789920204514,
          0.09164906584235923,
          0.0982426808732628,
          0.10643502113446177,
          0.11639477557337566,
          0.12880383740099485,
          0.14399646007090713,
          0.1628887957135547,
          0.18623372356399237,
          0.21489979424441696,
          0.2501757463791178,
          0.2935679626187287,
          0.34741382900204054,
          0.4124705982741339,
          0.49318169903058084,
          0.5919493018298476,
          0.7141627242365857,
          0.8593291833336252,
          1.0394188135676203,
          1.2593277954827107,
          1.5202483678473437,
          1.8511438098067585,
          2.230824054088229,
          2.703147459011067,
          3.2788916598833735,
          3.9637313968757875,
          4.76276960678499,
          5.719116653791717,
          6.854899591056529
         ],
         "y": [
          -1.9890537185069381,
          -1.8257381260621188,
          -1.696510342216012,
          -1.5934425602914466,
          -1.5117779944907879,
          -1.4467603249868568,
          -1.3952146130266636,
          -1.3547625254622149,
          -1.3214407182054435,
          -1.2960413098505474,
          -1.2753899032707117,
          -1.259014209803064,
          -1.2460379477321817,
          -1.235669944160362,
          -1.2274328473987963,
          -1.22085874403128,
          -1.2156253968990447,
          -1.2115035590841154,
          -1.2080874321133586,
          -1.2054639975051362,
          -1.203298150277903,
          -1.2015483265838531,
          -1.200117019836004,
          -1.1989163700995578,
          -1.1978833671554145,
          -1.196971288811248,
          -1.19611579412042,
          -1.1952939518488108,
          -1.1944506696351562,
          -1.1935303111780995,
          -1.1925080267619423,
          -1.1913189261090833,
          -1.189918208921993,
          -1.188191491748706,
          -1.1861338780741948,
          -1.1835689471439548,
          -1.1804590456511665,
          -1.1764840713695368,
          -1.1715714696936184,
          -1.1654641161178025,
          -1.1577294450258708,
          -1.148298389782141,
          -1.1362596120179946,
          -1.1213717831922492,
          -1.1027756382034355,
          -1.0795433209466436,
          -1.0503346532229216,
          -1.0147716793884842,
          -0.9694188452062181,
          -0.9127305958270475,
          -0.8416153459205791,
          -0.7533247346985646,
          -0.6444244517023191,
          -0.5070171060892962,
          -0.3350939278640902,
          -0.12246298680429404,
          0.14374357157525358,
          0.4769243821640792,
          0.8856486869410489,
          1.359674558336299,
          2.056854797721598,
          -2.8759597194016435,
          -2.712644144151306,
          -2.5834163835177497,
          -2.4803485439916706,
          -2.3986839953854933,
          -2.333666239909154,
          -2.2821203560041434,
          -2.241671697989866,
          -2.2083495468434604,
          -2.182949708626521,
          -2.162301215762405,
          -2.1459244906258537,
          -2.1329507983810565,
          -2.122580215636977,
          -2.1143413994272375,
          -2.107761287337289,
          -2.102521931482622,
          -2.0983863661208293,
          -2.0949642304276406,
          -2.0923244984464695,
          -2.090153502220891,
          -2.0883950906321487,
          -2.086952626163522,
          -2.0857390992581246,
          -2.0846923594209437,
          -2.0837622362171313,
          -2.0828878556349197,
          -2.0820419597812325,
          -2.0811591676442887,
          -2.080214755605154,
          -2.0791375049244962,
          -2.0778900084569645,
          -2.0764068418731236,
          -2.0745942457529134,
          -2.072356370405437,
          -2.069739856029995,
          -2.0664237142181463,
          -2.0622941765244045,
          -2.057106743525984,
          -2.0506042907172746,
          -2.0425261972993987,
          -2.0324768884072224,
          -2.0198541524963503,
          -2.0042620976134886,
          -1.9845840087398936,
          -1.959926325272376,
          -1.9295159130622177,
          -1.8912046260027557,
          -1.8443061576993736,
          -1.784183685060762,
          -1.709977166912061,
          -1.618595287447814,
          -1.501623878828779,
          -1.3568359907147414,
          -1.178551788865428,
          -0.962143669528983,
          -0.6744813936808076,
          -0.33787103291990006,
          0.08288006289615046,
          0.6238522589573826,
          1.2233604147487196,
          -1.9890469453790027,
          -1.825731378725906,
          -1.6965036134498395,
          -1.593435795760752,
          -1.5117712213628525,
          -1.4467534658865127,
          -1.395207667953911,
          -1.3547589239672253,
          -1.3214402023709915,
          -1.2960402781816434,
          -1.2753916133727103,
          -1.259015060180976,
          -1.2460405082120924,
          -1.2356733550181846,
          -1.2274336790843587,
          -1.220851847546237,
          -1.2156142017935683,
          -1.2114769169836026,
          -1.2080487725679814,
          -1.2054098909647224,
          -1.203232026292625,
          -1.2014667462573638,
          -1.2000165536181315,
          -1.1987901495437832,
          -1.197738251362082,
          -1.1967892422668862,
          -1.1959062644438077,
          -1.1950414826987372,
          -1.1941312074295432,
          -1.1931575741176352,
          -1.192042551654211,
          -1.190743518472351,
          -1.1892139828648767,
          -1.1873155077977438,
          -1.185094640008507,
          -1.1822464674383917,
          -1.1787757622144313,
          -1.1744573656068573,
          -1.168995101285934,
          -1.1622694940616716,
          -1.1538822738195726,
          -1.1434552470997312,
          -1.1303345254508035,
          -1.11391844390917,
          -1.093639482792357,
          -1.0680370374469415,
          -1.0360809911156668,
          -0.9970837940217884,
          -0.9482967365800816,
          -0.8862856748031456,
          -0.8095046574817037,
          -0.7136596897063912,
          -0.5953164610185232,
          -0.4460608115060615,
          -0.25988864426095915,
          -0.02889325397476844,
          0.25019981953056014,
          0.6125551720188771,
          1.0607894000851716,
          1.6034530057956515,
          2.271458703281459,
          -1.8268580267359955,
          -1.6635491461181244,
          -1.5343261794917589,
          -1.4312617079152912,
          -1.3495981136028505,
          -1.2845789022032683,
          -1.2330317343198325,
          -1.1925783627769584,
          -1.1592537277768755,
          -1.1338515785856944,
          -1.113198375931451,
          -1.0968242299671598,
          -1.0838548363427962,
          -1.073498840869666,
          -1.0652806113071343,
          -1.058721936242305,
          -1.0535091570649275,
          -1.0494010187583371,
          -1.045992582573487,
          -1.0433614011023096,
          -1.041186087563948,
          -1.0394122102878198,
          -1.0379457015832896,
          -1.0366926927931273,
          -1.0355987429005755,
          -1.0346051496531425,
          -1.0336518426860997,
          -1.0326961544960322,
          -1.0316606772801202,
          -1.0305310228008193,
          -1.0292291132184537,
          -1.0276986554962884,
          -1.025845144224736,
          -1.0235782028030356,
          -1.0208946728566828,
          -1.0174895488651563,
          -1.0134367547294134,
          -1.008364791701453,
          -1.002012246261996,
          -0.9943799111314433,
          -0.9847777707763024,
          -0.9730338720557284,
          -0.9584604983253924,
          -0.9407651114458981,
          -0.9186087766004212,
          -0.8915611561133712,
          -0.8585921332274912,
          -0.8182436776491581,
          -0.7679390246104869,
          -0.7064774435145531,
          -0.6318008871699469,
          -0.5401321297367954,
          -0.4292395398603216,
          -0.289346483734372,
          -0.12284892582882131,
          0.08054183193580085,
          0.3242647176151103,
          0.6203185075056477,
          0.9798609620210968,
          1.3703160196868318,
          1.8971493896342326,
          -2.713765106209963,
          -2.550456165411406,
          -2.4212334643648896,
          -2.3181684778885874,
          -2.2365047116313295,
          -2.171485242314521,
          -2.1199373875864334,
          -2.07948315725409,
          -2.0461577494369467,
          -2.0207542265564618,
          -2.0001001641781317,
          -1.9837225026912595,
          -1.9707513896187225,
          -1.9603911048713338,
          -1.9521677263104564,
          -1.9456081915215404,
          -1.940392833171903,
          -1.936279545866967,
          -1.9328651009596847,
          -1.9302304805921606,
          -1.9280508684333655,
          -1.926271832812717,
          -1.9247941570412346,
          -1.9235325510102053,
          -1.9224257239487024,
          -1.9213994798783243,
          -1.9204255488793756,
          -1.9194303507660184,
          -1.9183605313175123,
          -1.9171793401238828,
          -1.9158138670361498,
          -1.914173523515857,
          -1.9122564020080637,
          -1.9098177961542646,
          -1.9069368100532125,
          -1.9033170354252524,
          -1.898989409967007,
          -1.8935740246131028,
          -1.8868780568477017,
          -1.8786448494739307,
          -1.8684418368755715,
          -1.8559082069979471,
          -1.8403050335985145,
          -1.821407902232584,
          -1.7979638504920008,
          -1.768856630666758,
          -1.733828943060157,
          -1.6898752540225148,
          -1.6366531467938943,
          -1.5709022914391784,
          -1.4900478716974659,
          -1.392375064919491,
          -1.2732468815426616,
          -1.12820482707123,
          -0.9505588945627331,
          -0.7343003140217648,
          -0.4837183279982911,
          -0.17479671533140778,
          0.1838860150973417,
          0.6360916682099902,
          1.140609596602064,
          -1.8268539867068285,
          -1.6635449848678614,
          -1.5343222322379,
          -1.431257502744206,
          -1.3495934785697221,
          -1.2845738373080966,
          -1.2330259816453912,
          -1.1925717503784306,
          -1.1592460837094438,
          -1.133841959022098,
          -1.113186864974864,
          -1.0968079139018618,
          -1.0838325115550662,
          -1.073470507359504,
          -1.065245409350453,
          -1.058679865839105,
          -1.0534593584911218,
          -1.049339202739667,
          -1.0459213189360381,
          -1.0432806804999069,
          -1.0410916207223329,
          -1.03929798848456,
          -1.0378117154722104,
          -1.0365355128240565,
          -1.035401193284129,
          -1.0343543251818446,
          -1.0333426224001294,
          -1.032304484813311,
          -1.0311813905099534,
          -1.0299332062607847,
          -1.028454417824752,
          -1.0267419135582248,
          -1.0246685372286706,
          -1.0220581734810261,
          -1.0189282412418195,
          -1.0150508297730911,
          -1.0103454864871808,
          -1.0044837923021699,
          -0.9973072202039414,
          -0.9883871681782823,
          -0.9773601289211518,
          -0.9638136134709233,
          -0.9471289634954454,
          -0.9266011602172002,
          -0.9010975091384241,
          -0.8702736449921968,
          -0.8319846135609666,
          -0.7851134703333753,
          -0.7270853197764813,
          -0.658074055214608,
          -0.5724135921446217,
          -0.4677031978828407,
          -0.34342601616052915,
          -0.1855161389127516,
          -0.0044313100574551005,
          0.22126554308777704,
          0.4967234505772431,
          0.8245216084526544,
          1.2072298824354135,
          1.6654442579802438,
          2.2094721096616423
         ],
         "z": [
          3.760381870728829,
          2.984625451387874,
          2.370799356184384,
          1.8812454329402584,
          1.4933688059501402,
          1.1845745280896234,
          0.9398004684869988,
          0.7477491801316105,
          0.5895915012183696,
          0.4690933484407529,
          0.3711925079122868,
          0.29362842738102946,
          0.23225990247209244,
          0.18332087154558455,
          0.14455210346753058,
          0.113691830283596,
          0.08923505650675423,
          0.07004908607154897,
          0.054253543570914775,
          0.042222194490802833,
          0.03245365092052488,
          0.024719953650299942,
          0.01860898690181223,
          0.013746029602360044,
          0.009909135169392735,
          0.006871135009933749,
          0.0044885780979861956,
          0.0026478142523282955,
          0.0011640114568487459,
          8.784096533781538e-05,
          -0.0007334717123561596,
          -0.0013105792696992968,
          -0.0016777404237371396,
          -0.0018475751553149733,
          -0.0018508335828007483,
          -0.0016674464161697267,
          -0.0013126429556385988,
          -0.000727218847271005,
          9.141190623412898e-05,
          0.0011865459695460379,
          0.002636188683998286,
          0.004459495674493386,
          0.006840931199387168,
          0.009824498447276453,
          0.013594075201793954,
          0.018354954366148035,
          0.02438730491496588,
          0.0317805963531132,
          0.041277494881585775,
          0.05322429774596438,
          0.06831133994273719,
          0.08712316125083058,
          0.11045826435370154,
          0.14023533331082993,
          0.17792020655366098,
          0.22435266267602627,
          0.2831401273833968,
          0.35709924074513005,
          0.44917854347154507,
          0.5534474147383704,
          0.7137236978435486,
          3.6808675518980283,
          2.9051111299216847,
          2.2912850311604185,
          1.8017311167448473,
          1.41385448711934,
          1.10506022243577,
          0.8602861891870388,
          0.6682338300756717,
          0.5100762038702177,
          0.38957811697733474,
          0.29167628475457036,
          0.21411236234667386,
          0.15274289845122543,
          0.10380426283311969,
          0.06503575829400049,
          0.0341769511744468,
          0.009721643461985952,
          -0.009460587627413475,
          -0.02525466406366672,
          -0.03728133481146151,
          -0.04704854408682585,
          -0.05478037998426788,
          -0.06088854637346103,
          -0.06574843977468414,
          -0.06958213853995471,
          -0.07261682786248957,
          -0.07499485481182683,
          -0.0768308417561796,
          -0.07830640844372261,
          -0.07937780203392847,
          -0.0801874193970546,
          -0.080751760883851,
          -0.08110137906603704,
          -0.08125260006978435,
          -0.08121187656584267,
          -0.08102058323116884,
          -0.08062871831737373,
          -0.08000870214269268,
          -0.07913159481634807,
          -0.077954099673671,
          -0.07642456526680402,
          -0.07446289001105483,
          -0.07195379378069466,
          -0.0688186813208132,
          -0.06480696010210102,
          -0.05972404478113763,
          -0.05339848135613723,
          -0.0454204241895963,
          -0.035577604997988455,
          -0.02283188520946272,
          -0.0070530016864196465,
          0.012450660947944225,
          0.037622442964368064,
          0.06929387869391657,
          0.10800821380629522,
          0.15534666245068451,
          0.219603076279562,
          0.29463294562006365,
          0.3891006989990623,
          0.5101717260325533,
          0.6358538779235174,
          3.7603839990638397,
          2.9846275757698013,
          2.3708014777200903,
          1.8812475599575744,
          1.493370934285151,
          1.184576669601581,
          0.9398026231759031,
          0.7477502772414828,
          0.58959158028005,
          0.46909350656411375,
          0.3711917006952428,
          0.29362775193345286,
          0.2322584198074718,
          0.18331871343338726,
          0.14455034066373545,
          0.11369179708311655,
          0.08923568215361172,
          0.07005371460314702,
          0.054261104231274726,
          0.042233758035903346,
          0.03246814659438724,
          0.02473790853079355,
          0.01863147174491603,
          0.013774642241922153,
          0.00994173409345589,
          0.006911574733531156,
          0.004534865478867556,
          0.0027034084971250816,
          0.0012336894668658616,
          0.0001673197166603413,
          -0.0006332377212455165,
          -0.0011869546494528982,
          -0.0015261952117449074,
          -0.0016588024876615926,
          -0.001631587935252421,
          -0.0013775329389234536,
          -0.0009510759588147177,
          -0.00028576015803249977,
          0.0006498237411513008,
          0.001883326069717306,
          0.003482044609211421,
          0.005534319117162956,
          0.00815789910625131,
          0.011495625190113046,
          0.015653952846916508,
          0.020936182392923774,
          0.027607666481059445,
          0.03579987484335401,
          0.046095690295973824,
          0.05929440634551153,
          0.07574043732532043,
          0.09636424367746194,
          0.12196432808539309,
          0.15448406847809826,
          0.195661142341644,
          0.24687070625924587,
          0.3081783910865814,
          0.38987973499474,
          0.4901951456576741,
          0.6131607459536548,
          0.7656947985124078,
          3.364456085587386,
          2.5886979833954658,
          1.9748706592596565,
          1.4853159015738298,
          1.0974391256842135,
          0.7886454112156035,
          0.543871901827939,
          0.35182113733361725,
          0.19366443693772792,
          0.07316730386832698,
          -0.024732716266148362,
          -0.10229703398244691,
          -0.1636671567252323,
          -0.21260966345861126,
          -0.2513840488554938,
          -0.28224941228038747,
          -0.30671315427121104,
          -0.3259044950865499,
          -0.3417039419029366,
          -0.3537346487359515,
          -0.36350228652019745,
          -0.37123120688911726,
          -0.3773340526988961,
          -0.38218407895785483,
          -0.38600618097754563,
          -0.38902242050974634,
          -0.3913785384621182,
          -0.3931829796056966,
          -0.3946149752380037,
          -0.3956312663959023,
          -0.3963721084376921,
          -0.3968494717515133,
          -0.3970807298974462,
          -0.3970859981481874,
          -0.39689520280482093,
          -0.3964467620328455,
          -0.3957839087254221,
          -0.3948286587983865,
          -0.39353312662833656,
          -0.39189354639081747,
          -0.38976519799881904,
          -0.3870968031480758,
          -0.3837327208606587,
          -0.3795992946555583,
          -0.3743355570066521,
          -0.3678778826749223,
          -0.3599609190074445,
          -0.3501443164133096,
          -0.33787154596982794,
          -0.3227946504074471,
          -0.3042726824686881,
          -0.2813998755809941,
          -0.2536165721261664,
          -0.21800741367447118,
          -0.17559399441513485,
          -0.12316427236131944,
          -0.060191320276477334,
          0.017344233844968304,
          0.1122425610062388,
          0.21405967801265863,
          0.3553134219964438,
          3.2849413288880025,
          2.509183235919944,
          1.89535581656779,
          1.4058011923114542,
          1.0179244427757312,
          0.7091307678379617,
          0.464357418233682,
          0.27230683987663856,
          0.11415031244108081,
          -0.006346501061550443,
          -0.10424638942655841,
          -0.18180962320993144,
          -0.24317948241378204,
          -0.2921207866217149,
          -0.33089383772368386,
          -0.36175906937911023,
          -0.3862224160615317,
          -0.405412422581957,
          -0.4212104033339628,
          -0.4332405830891081,
          -0.4430075620260172,
          -0.4507356917781327,
          -0.4568362809067263,
          -0.4616849894710113,
          -0.4655040275924728,
          -0.4685141725286945,
          -0.47086658433574,
          -0.47266278937138184,
          -0.4740867958344475,
          -0.47509246243375697,
          -0.47582029146630517,
          -0.4762715457604444,
          -0.4764925092876817,
          -0.4764551133016694,
          -0.476217700637528,
          -0.4757200071554299,
          -0.47499867727516704,
          -0.47396353565571675,
          -0.4725881117932521,
          -0.47080192511764174,
          -0.468526970287552,
          -0.46566666937261636,
          -0.46203572810249294,
          -0.45760908902120995,
          -0.45203896154938306,
          -0.44504756925224065,
          -0.43654251980842607,
          -0.4258462785857434,
          -0.41279928508761926,
          -0.3965198640790885,
          -0.37634237443316765,
          -0.3517316641099396,
          -0.32165038536068913,
          -0.28470693199546254,
          -0.2389494753324396,
          -0.18291217694017464,
          -0.11779771289779595,
          -0.03665458243790082,
          0.05811197525598821,
          0.17811534366175352,
          0.31376836905665023,
          3.364457195400106,
          2.588699111787681,
          1.974871700341694,
          1.4853169821867072,
          1.0974402721818246,
          0.7886466235979483,
          0.5438732196258578,
          0.3518225869010035,
          0.193666044628475,
          0.0731693233644709,
          -0.02473040687717621,
          -0.10229344300634818,
          -0.16366209968475262,
          -0.2126031403537507,
          -0.2513759279167849,
          -0.28223969350783035,
          -0.30670170589533824,
          -0.32589011458191525,
          -0.34168756825605157,
          -0.3537168256249252,
          -0.36348181141958386,
          -0.3712066137345354,
          -0.3773058851684552,
          -0.38215126629557616,
          -0.385965000437863,
          -0.3889714392287583,
          -0.3913147911105836,
          -0.39310168928231015,
          -0.39451589500407047,
          -0.3955074778381594,
          -0.3962081270950469,
          -0.3966450506852706,
          -0.396829527572932,
          -0.39675490413125847,
          -0.3964575311972067,
          -0.3959039965316169,
          -0.3950920673991517,
          -0.3939449114079236,
          -0.3924467656138935,
          -0.3905007955534537,
          -0.3880232270993838,
          -0.3849150129343667,
          -0.38101474329458657,
          -0.376174638792506,
          -0.37007079335526655,
          -0.36265275869058844,
          -0.3533207784051787,
          -0.34185031412785366,
          -0.32757610131407483,
          -0.3104153816530248,
          -0.28901067269144937,
          -0.262612671193678,
          -0.231197097530896,
          -0.19064606782721993,
          -0.14436153329467089,
          -0.08578741454272476,
          -0.013589567290828386,
          0.07262720388842925,
          0.173801697215212,
          0.2952711300018902,
          0.43916026333330604
         ]
        }
       ],
       "layout": {
        "legend": {
         "title": {
          "text": "Sensor"
         },
         "tracegroupgap": 0
        },
        "margin": {
         "t": 60
        },
        "scene": {
         "domain": {
          "x": [
           0,
           1
          ],
          "y": [
           0,
           1
          ]
         },
         "xaxis": {
          "title": {
           "text": "PC1"
          }
         },
         "yaxis": {
          "title": {
           "text": "PC2"
          }
         },
         "zaxis": {
          "title": {
           "text": "PC3"
          }
         }
        },
        "template": {
         "data": {
          "bar": [
           {
            "error_x": {
             "color": "#2a3f5f"
            },
            "error_y": {
             "color": "#2a3f5f"
            },
            "marker": {
             "line": {
              "color": "#E5ECF6",
              "width": 0.5
             },
             "pattern": {
              "fillmode": "overlay",
              "size": 10,
              "solidity": 0.2
             }
            },
            "type": "bar"
           }
          ],
          "barpolar": [
           {
            "marker": {
             "line": {
              "color": "#E5ECF6",
              "width": 0.5
             },
             "pattern": {
              "fillmode": "overlay",
              "size": 10,
              "solidity": 0.2
             }
            },
            "type": "barpolar"
           }
          ],
          "carpet": [
           {
            "aaxis": {
             "endlinecolor": "#2a3f5f",
             "gridcolor": "white",
             "linecolor": "white",
             "minorgridcolor": "white",
             "startlinecolor": "#2a3f5f"
            },
            "baxis": {
             "endlinecolor": "#2a3f5f",
             "gridcolor": "white",
             "linecolor": "white",
             "minorgridcolor": "white",
             "startlinecolor": "#2a3f5f"
            },
            "type": "carpet"
           }
          ],
          "choropleth": [
           {
            "colorbar": {
             "outlinewidth": 0,
             "ticks": ""
            },
            "type": "choropleth"
           }
          ],
          "contour": [
           {
            "colorbar": {
             "outlinewidth": 0,
             "ticks": ""
            },
            "colorscale": [
             [
              0,
              "#0d0887"
             ],
             [
              0.1111111111111111,
              "#46039f"
             ],
             [
              0.2222222222222222,
              "#7201a8"
             ],
             [
              0.3333333333333333,
              "#9c179e"
             ],
             [
              0.4444444444444444,
              "#bd3786"
             ],
             [
              0.5555555555555556,
              "#d8576b"
             ],
             [
              0.6666666666666666,
              "#ed7953"
             ],
             [
              0.7777777777777778,
              "#fb9f3a"
             ],
             [
              0.8888888888888888,
              "#fdca26"
             ],
             [
              1,
              "#f0f921"
             ]
            ],
            "type": "contour"
           }
          ],
          "contourcarpet": [
           {
            "colorbar": {
             "outlinewidth": 0,
             "ticks": ""
            },
            "type": "contourcarpet"
           }
          ],
          "heatmap": [
           {
            "colorbar": {
             "outlinewidth": 0,
             "ticks": ""
            },
            "colorscale": [
             [
              0,
              "#0d0887"
             ],
             [
              0.1111111111111111,
              "#46039f"
             ],
             [
              0.2222222222222222,
              "#7201a8"
             ],
             [
              0.3333333333333333,
              "#9c179e"
             ],
             [
              0.4444444444444444,
              "#bd3786"
             ],
             [
              0.5555555555555556,
              "#d8576b"
             ],
             [
              0.6666666666666666,
              "#ed7953"
             ],
             [
              0.7777777777777778,
              "#fb9f3a"
             ],
             [
              0.8888888888888888,
              "#fdca26"
             ],
             [
              1,
              "#f0f921"
             ]
            ],
            "type": "heatmap"
           }
          ],
          "heatmapgl": [
           {
            "colorbar": {
             "outlinewidth": 0,
             "ticks": ""
            },
            "colorscale": [
             [
              0,
              "#0d0887"
             ],
             [
              0.1111111111111111,
              "#46039f"
             ],
             [
              0.2222222222222222,
              "#7201a8"
             ],
             [
              0.3333333333333333,
              "#9c179e"
             ],
             [
              0.4444444444444444,
              "#bd3786"
             ],
             [
              0.5555555555555556,
              "#d8576b"
             ],
             [
              0.6666666666666666,
              "#ed7953"
             ],
             [
              0.7777777777777778,
              "#fb9f3a"
             ],
             [
              0.8888888888888888,
              "#fdca26"
             ],
             [
              1,
              "#f0f921"
             ]
            ],
            "type": "heatmapgl"
           }
          ],
          "histogram": [
           {
            "marker": {
             "pattern": {
              "fillmode": "overlay",
              "size": 10,
              "solidity": 0.2
             }
            },
            "type": "histogram"
           }
          ],
          "histogram2d": [
           {
            "colorbar": {
             "outlinewidth": 0,
             "ticks": ""
            },
            "colorscale": [
             [
              0,
              "#0d0887"
             ],
             [
              0.1111111111111111,
              "#46039f"
             ],
             [
              0.2222222222222222,
              "#7201a8"
             ],
             [
              0.3333333333333333,
              "#9c179e"
             ],
             [
              0.4444444444444444,
              "#bd3786"
             ],
             [
              0.5555555555555556,
              "#d8576b"
             ],
             [
              0.6666666666666666,
              "#ed7953"
             ],
             [
              0.7777777777777778,
              "#fb9f3a"
             ],
             [
              0.8888888888888888,
              "#fdca26"
             ],
             [
              1,
              "#f0f921"
             ]
            ],
            "type": "histogram2d"
           }
          ],
          "histogram2dcontour": [
           {
            "colorbar": {
             "outlinewidth": 0,
             "ticks": ""
            },
            "colorscale": [
             [
              0,
              "#0d0887"
             ],
             [
              0.1111111111111111,
              "#46039f"
             ],
             [
              0.2222222222222222,
              "#7201a8"
             ],
             [
              0.3333333333333333,
              "#9c179e"
             ],
             [
              0.4444444444444444,
              "#bd3786"
             ],
             [
              0.5555555555555556,
              "#d8576b"
             ],
             [
              0.6666666666666666,
              "#ed7953"
             ],
             [
              0.7777777777777778,
              "#fb9f3a"
             ],
             [
              0.8888888888888888,
              "#fdca26"
             ],
             [
              1,
              "#f0f921"
             ]
            ],
            "type": "histogram2dcontour"
           }
          ],
          "mesh3d": [
           {
            "colorbar": {
             "outlinewidth": 0,
             "ticks": ""
            },
            "type": "mesh3d"
           }
          ],
          "parcoords": [
           {
            "line": {
             "colorbar": {
              "outlinewidth": 0,
              "ticks": ""
             }
            },
            "type": "parcoords"
           }
          ],
          "pie": [
           {
            "automargin": true,
            "type": "pie"
           }
          ],
          "scatter": [
           {
            "fillpattern": {
             "fillmode": "overlay",
             "size": 10,
             "solidity": 0.2
            },
            "type": "scatter"
           }
          ],
          "scatter3d": [
           {
            "line": {
             "colorbar": {
              "outlinewidth": 0,
              "ticks": ""
             }
            },
            "marker": {
             "colorbar": {
              "outlinewidth": 0,
              "ticks": ""
             }
            },
            "type": "scatter3d"
           }
          ],
          "scattercarpet": [
           {
            "marker": {
             "colorbar": {
              "outlinewidth": 0,
              "ticks": ""
             }
            },
            "type": "scattercarpet"
           }
          ],
          "scattergeo": [
           {
            "marker": {
             "colorbar": {
              "outlinewidth": 0,
              "ticks": ""
             }
            },
            "type": "scattergeo"
           }
          ],
          "scattergl": [
           {
            "marker": {
             "colorbar": {
              "outlinewidth": 0,
              "ticks": ""
             }
            },
            "type": "scattergl"
           }
          ],
          "scattermapbox": [
           {
            "marker": {
             "colorbar": {
              "outlinewidth": 0,
              "ticks": ""
             }
            },
            "type": "scattermapbox"
           }
          ],
          "scatterpolar": [
           {
            "marker": {
             "colorbar": {
              "outlinewidth": 0,
              "ticks": ""
             }
            },
            "type": "scatterpolar"
           }
          ],
          "scatterpolargl": [
           {
            "marker": {
             "colorbar": {
              "outlinewidth": 0,
              "ticks": ""
             }
            },
            "type": "scatterpolargl"
           }
          ],
          "scatterternary": [
           {
            "marker": {
             "colorbar": {
              "outlinewidth": 0,
              "ticks": ""
             }
            },
            "type": "scatterternary"
           }
          ],
          "surface": [
           {
            "colorbar": {
             "outlinewidth": 0,
             "ticks": ""
            },
            "colorscale": [
             [
              0,
              "#0d0887"
             ],
             [
              0.1111111111111111,
              "#46039f"
             ],
             [
              0.2222222222222222,
              "#7201a8"
             ],
             [
              0.3333333333333333,
              "#9c179e"
             ],
             [
              0.4444444444444444,
              "#bd3786"
             ],
             [
              0.5555555555555556,
              "#d8576b"
             ],
             [
              0.6666666666666666,
              "#ed7953"
             ],
             [
              0.7777777777777778,
              "#fb9f3a"
             ],
             [
              0.8888888888888888,
              "#fdca26"
             ],
             [
              1,
              "#f0f921"
             ]
            ],
            "type": "surface"
           }
          ],
          "table": [
           {
            "cells": {
             "fill": {
              "color": "#EBF0F8"
             },
             "line": {
              "color": "white"
             }
            },
            "header": {
             "fill": {
              "color": "#C8D4E3"
             },
             "line": {
              "color": "white"
             }
            },
            "type": "table"
           }
          ]
         },
         "layout": {
          "annotationdefaults": {
           "arrowcolor": "#2a3f5f",
           "arrowhead": 0,
           "arrowwidth": 1
          },
          "autotypenumbers": "strict",
          "coloraxis": {
           "colorbar": {
            "outlinewidth": 0,
            "ticks": ""
           }
          },
          "colorscale": {
           "diverging": [
            [
             0,
             "#8e0152"
            ],
            [
             0.1,
             "#c51b7d"
            ],
            [
             0.2,
             "#de77ae"
            ],
            [
             0.3,
             "#f1b6da"
            ],
            [
             0.4,
             "#fde0ef"
            ],
            [
             0.5,
             "#f7f7f7"
            ],
            [
             0.6,
             "#e6f5d0"
            ],
            [
             0.7,
             "#b8e186"
            ],
            [
             0.8,
             "#7fbc41"
            ],
            [
             0.9,
             "#4d9221"
            ],
            [
             1,
             "#276419"
            ]
           ],
           "sequential": [
            [
             0,
             "#0d0887"
            ],
            [
             0.1111111111111111,
             "#46039f"
            ],
            [
             0.2222222222222222,
             "#7201a8"
            ],
            [
             0.3333333333333333,
             "#9c179e"
            ],
            [
             0.4444444444444444,
             "#bd3786"
            ],
            [
             0.5555555555555556,
             "#d8576b"
            ],
            [
             0.6666666666666666,
             "#ed7953"
            ],
            [
             0.7777777777777778,
             "#fb9f3a"
            ],
            [
             0.8888888888888888,
             "#fdca26"
            ],
            [
             1,
             "#f0f921"
            ]
           ],
           "sequentialminus": [
            [
             0,
             "#0d0887"
            ],
            [
             0.1111111111111111,
             "#46039f"
            ],
            [
             0.2222222222222222,
             "#7201a8"
            ],
            [
             0.3333333333333333,
             "#9c179e"
            ],
            [
             0.4444444444444444,
             "#bd3786"
            ],
            [
             0.5555555555555556,
             "#d8576b"
            ],
            [
             0.6666666666666666,
             "#ed7953"
            ],
            [
             0.7777777777777778,
             "#fb9f3a"
            ],
            [
             0.8888888888888888,
             "#fdca26"
            ],
            [
             1,
             "#f0f921"
            ]
           ]
          },
          "colorway": [
           "#636efa",
           "#EF553B",
           "#00cc96",
           "#ab63fa",
           "#FFA15A",
           "#19d3f3",
           "#FF6692",
           "#B6E880",
           "#FF97FF",
           "#FECB52"
          ],
          "font": {
           "color": "#2a3f5f"
          },
          "geo": {
           "bgcolor": "white",
           "lakecolor": "white",
           "landcolor": "#E5ECF6",
           "showlakes": true,
           "showland": true,
           "subunitcolor": "white"
          },
          "hoverlabel": {
           "align": "left"
          },
          "hovermode": "closest",
          "mapbox": {
           "style": "light"
          },
          "paper_bgcolor": "white",
          "plot_bgcolor": "#E5ECF6",
          "polar": {
           "angularaxis": {
            "gridcolor": "white",
            "linecolor": "white",
            "ticks": ""
           },
           "bgcolor": "#E5ECF6",
           "radialaxis": {
            "gridcolor": "white",
            "linecolor": "white",
            "ticks": ""
           }
          },
          "scene": {
           "xaxis": {
            "backgroundcolor": "#E5ECF6",
            "gridcolor": "white",
            "gridwidth": 2,
            "linecolor": "white",
            "showbackground": true,
            "ticks": "",
            "zerolinecolor": "white"
           },
           "yaxis": {
            "backgroundcolor": "#E5ECF6",
            "gridcolor": "white",
            "gridwidth": 2,
            "linecolor": "white",
            "showbackground": true,
            "ticks": "",
            "zerolinecolor": "white"
           },
           "zaxis": {
            "backgroundcolor": "#E5ECF6",
            "gridcolor": "white",
            "gridwidth": 2,
            "linecolor": "white",
            "showbackground": true,
            "ticks": "",
            "zerolinecolor": "white"
           }
          },
          "shapedefaults": {
           "line": {
            "color": "#2a3f5f"
           }
          },
          "ternary": {
           "aaxis": {
            "gridcolor": "white",
            "linecolor": "white",
            "ticks": ""
           },
           "baxis": {
            "gridcolor": "white",
            "linecolor": "white",
            "ticks": ""
           },
           "bgcolor": "#E5ECF6",
           "caxis": {
            "gridcolor": "white",
            "linecolor": "white",
            "ticks": ""
           }
          },
          "title": {
           "x": 0.05
          },
          "xaxis": {
           "automargin": true,
           "gridcolor": "white",
           "linecolor": "white",
           "ticks": "",
           "title": {
            "standoff": 15
           },
           "zerolinecolor": "white",
           "zerolinewidth": 2
          },
          "yaxis": {
           "automargin": true,
           "gridcolor": "white",
           "linecolor": "white",
           "ticks": "",
           "title": {
            "standoff": 15
           },
           "zerolinecolor": "white",
           "zerolinewidth": 2
          }
         }
        }
       }
      },
      "text/html": [
       "<div>                            <div id=\"f56294c5-53d1-4216-ae73-97f2b69b51f4\" class=\"plotly-graph-div\" style=\"height:525px; width:100%;\"></div>            <script type=\"text/javascript\">                require([\"plotly\"], function(Plotly) {                    window.PLOTLYENV=window.PLOTLYENV || {};                                    if (document.getElementById(\"f56294c5-53d1-4216-ae73-97f2b69b51f4\")) {                    Plotly.newPlot(                        \"f56294c5-53d1-4216-ae73-97f2b69b51f4\",                        [{\"hovertemplate\":\"Sensor=HCV<br>PC1=%{x}<br>PC2=%{y}<br>PC3=%{z}<extra></extra>\",\"legendgroup\":\"HCV\",\"marker\":{\"color\":\"#636efa\",\"symbol\":\"circle\"},\"mode\":\"markers\",\"name\":\"HCV\",\"scene\":\"scene\",\"showlegend\":true,\"x\":[-1.71764270923546,-1.5030881350070286,-1.3333188450290245,-1.1979180158046003,-1.0906364508305164,-1.0052249952180654,-0.9375166457562906,-0.884385769940309,-0.8406242851548147,-0.8072718946121196,-0.7801607102820054,-0.7586644450233312,-0.7416351828839991,-0.7280285136906061,-0.7172213263976853,-0.7085823057714973,-0.7017064290861084,-0.6962744469189843,-0.6917745050855751,-0.6883211465540018,-0.6854977791574189,-0.6832381309315159,-0.6814308503454906,-0.6799610117639826,-0.6787693376770462,-0.6777685727572759,-0.6769183775334258,-0.6761818328840562,-0.6754713206922843,-0.6748036783924425,-0.6741030224172573,-0.6733353021637984,-0.6724807471476747,-0.6714561389000495,-0.6701943461158112,-0.6687401487596837,-0.6669116604298622,-0.6645930539609152,-0.6617182395281481,-0.6581146734651888,-0.6537004593980121,-0.6482783362618111,-0.6415748594658868,-0.6333677174148087,-0.6234521698314202,-0.6112148103296574,-0.5963054995991168,-0.5783249346005237,-0.5563347243160757,-0.5296768807908099,-0.4964132168771682,-0.45681553371747124,-0.40910651194751113,-0.3513196856536764,-0.2828875214545195,-0.20229670114755516,-0.10731687222029523,0.002223543832742758,0.13031450503707537,0.2800396948255758,0.45349749116688104,-1.961868131535556,-1.747306160399162,-1.5774622532651636,-1.44205971697426,-1.3347776815849115,-1.2492968093269887,-1.1815901785816014,-1.128462760420085,-1.0847088551695512,-1.0512973505059673,-1.02420334878996,-1.0026609377421816,-0.985592352720849,-0.9719634904304529,-0.961146246952334,-0.9525161123501527,-0.9455876848552016,-0.9401853829182143,-0.9357204133566288,-0.9322912495032304,-0.9294794076215314,-0.9272205073168631,-0.925392419464775,-0.9239609405672028,-0.9227180180028989,-0.9217334857555628,-0.9208220123819313,-0.9200128401649281,-0.9192444372354868,-0.9185139774102842,-0.9177571026369309,-0.9168220002367031,-0.9158692161631135,-0.914729530828275,-0.9133210325640022,-0.9116563881842132,-0.909617937588715,-0.9069870044632785,-0.9037715788602032,-0.8997004032976663,-0.8945669574354067,-0.888098317422934,-0.8799585733382519,-0.8694696759015176,-0.8564211665935391,-0.8398252823715592,-0.8190235145404067,-0.7927486343268604,-0.7596139922410554,-0.7180729979273479,-0.665801235766321,-0.6000470624365715,-0.5187692094861895,-0.41635004626126415,-0.29118385273267827,-0.13339918486653962,0.06259956248815639,0.3052849112479424,0.6000457103112821,0.9655602093808104,1.4014149167810541,-1.282674175149324,-1.0681010902900567,-0.8983186010739307,-0.7628900309289885,-0.6555804862612808,-0.5701405170972358,-0.5023902128596714,-0.449211180966792,-0.4053967759608884,-0.37198772163121707,-0.34481866378021786,-0.3232620659601241,-0.30617815922469066,-0.2925254631568044,-0.2816753063669134,-0.27299901746546545,-0.26608510717033806,-0.2605976845994573,-0.2560211124289894,-0.2524309890589831,-0.24941714495275427,-0.24688665007397162,-0.24470281456525128,-0.24273047734937384,-0.24091414405567727,-0.2391190940186731,-0.23725884217447055,-0.23524126168794712,-0.23293654808589065,-0.23028024484113369,-0.22710606877075545,-0.22324817475419353,-0.2185474315108558,-0.2125763093993452,-0.2054873643208745,-0.19633647711534719,-0.1851383975575155,-0.1708122418412395,-0.15279324621525495,-0.1302145264260323,-0.10155381325839602,-0.06547362095135237,-0.019944412110669302,0.03770066194611338,0.11007085088893234,0.20034287528034694,0.312845798875216,0.45202294612106975,0.6177780826205411,0.8136083314079562,1.0397208757428265,1.2951304205757204,1.563956602097939,1.8392050700927882,2.1100982934002075,2.3575445410568934,2.5834354243641364,2.773782065836879,2.9342592264753695,3.0559808718579924,3.1586106612996607,-1.7810339550714858,-1.5664675241840476,-1.3966772838856998,-1.2612555190381585,-1.1539452177425937,-1.0685041136367635,-1.0007526744574138,-0.9475721293088207,-0.903755643576311,-0.8703375140656686,-0.8431576786210204,-0.8215991892312846,-0.8045045049022023,-0.7908359283559445,-0.7799749939724046,-0.7712879274773078,-0.7643543535645247,-0.7588561533999951,-0.7542650204965942,-0.7506603363936548,-0.7476281484152087,-0.7450685320705601,-0.7428695640047032,-0.7408662137533175,-0.7389910657036852,-0.73714419536511,-0.7352251287649718,-0.7331158289173625,-0.7307124014998554,-0.7279314742888621,-0.7245578029209092,-0.720502481273446,-0.7155105233714475,-0.7092992154485027,-0.7016014461439404,-0.6919323559227033,-0.6800062397182198,-0.6649313706885576,-0.6457154032771242,-0.6216599335278634,-0.5910535352613919,-0.5530069811887787,-0.5044336512176375,-0.4432341675581307,-0.36623180964769897,-0.27081732781640566,-0.1508844535080299,-0.0054122973339146285,0.17062775404531427,0.3755507935068846,0.6137606769291496,0.8691702217620435,1.1519853120137318,1.4304450950891656,1.69944674875451,1.9538874507759303,2.1690007404342877,2.35934738190703,2.5090469488966347,2.6326601639213334,2.7282954989982664,-1.454537885009328,-1.2399729682482654,-1.0701898191594201,-0.9347727828006527,-0.827472163729669,-0.7420374909606218,-0.6743027108505146,-0.6211426255201513,-0.5773493225954935,-0.5439635830482182,-0.5168187285820157,-0.4952959767985821,-0.47824213731383586,-0.4646210217523504,-0.45380244982217105,-0.4451634204893611,-0.4382733526783457,-0.43283189960307833,-0.42830244057663097,-0.42478534050143063,-0.4218551211866253,-0.4194404077831814,-0.41741396828192556,-0.4156627686171396,-0.4141116508005057,-0.4126854568437062,-0.4113209723427588,-0.40997296397642063,-0.40855777286412426,-0.40705915573802043,-0.40539555432190966,-0.4035537252789245,-0.4014074419336233,-0.3989973183290612,-0.39616529525338506,-0.3929372369748979,-0.38918228593902177,-0.3847517103751749,-0.3796724160320776,-0.37362211658068034,-0.3663564602878806,-0.3576971017852919,-0.3471871577600436,-0.33440591946983445,-0.31857545750284944,-0.2993247475858672,-0.2755470225516539,-0.2457031899958427,-0.20901542465466044,-0.16389578283899425,-0.10926608859178877,-0.04297076069444178,0.037277808689520686,0.13280382245759298,0.24387129218630194,0.37649373050189466,0.5332621941421368,0.7143834810187859,0.9276306884415095,1.1704127909169544,1.4651912295059275,-1.9528999339443978,-1.7383355653032004,-1.568552359467266,-1.4331352663614092,-1.325834268976497,-1.2403994070504858,-1.1726638703125216,-1.11950340666823,-1.0757093471157155,-1.0423228509405833,-1.0151817576506508,-0.9936508764710672,-0.9765955237306072,-0.9629657113020793,-0.9521452478022578,-0.943497332445441,-0.9366053730647836,-0.9311531423958674,-0.926612905775771,-0.9230850281069218,-0.9201421396288256,-0.9177147570620907,-0.9156667623735371,-0.913901001975818,-0.9123245458326024,-0.9108730135492209,-0.9094743046976848,-0.9080877170172701,-0.9066116434823646,-0.9050402226915955,-0.9033157388528756,-0.901359139419037,-0.8990910912285173,-0.8965731916874664,-0.8935445324352334,-0.8901009222837685,-0.8861304193749145,-0.8814842919380901,-0.8760306409382994,-0.869638097981015,-0.8618903090950332,-0.8529511724178551,-0.8417624596228679,-0.8283231292296541,-0.8120730000007851,-0.7920243088935037,-0.7674486026689912,-0.737226456184765,-0.7001603769151676,-0.6542841072426713,-0.597820025773747,-0.5288017082540003,-0.44569817470378725,-0.344915338655123,-0.22566129035607718,-0.08555171890662103,0.0794033233039579,0.2708095250603644,0.49524785946666394,0.7558020099557295,1.0505804485447028,-1.6262516232805135,-1.4116902028759712,-1.2419099826727535,-1.106496347221362,-0.9991974833921655,-0.9137636200800845,-0.8460264909409725,-0.7928586677847798,-0.7490519918980836,-0.7156433687114502,-0.6884647210376967,-0.6668914641483604,-0.6497706144260269,-0.6360683853533838,-0.6251533869045682,-0.616410936598757,-0.60943143672347,-0.6038986600142889,-0.599301500207899,-0.59572822486764,-0.5927559952935368,-0.5903077619276297,-0.5882417320278122,-0.5864335221105137,-0.5848055107935708,-0.5832560581136768,-0.5817232694122877,-0.5801240799753192,-0.5783545954803448,-0.5763475002791791,-0.5740183769746048,-0.5712104425670975,-0.5678106678356005,-0.5636321937081356,-0.558320809554277,-0.5521002920312138,-0.5442516360250111,-0.534344748681809,-0.5217862750401646,-0.5060097856878726,-0.4864229671439073,-0.46184889940130425,-0.43108155050271213,-0.3920835726584968,-0.3435715955644243,-0.28380914286435127,-0.20467303001222764,-0.11048496353052326,0.010311761840767653,0.1619137145724445,0.3492965747464266,0.582331786396606,0.8750875182497364,1.2433167315924982,1.6977486067641328,2.2885365110122122,2.9873198048382914,3.8765361293937177,5.019135626035128,6.383005133541873,8.094836326482783,-2.1246190615979845,-1.9100568074465611,-1.7402771731946012,-1.6048624599838448,-1.497563406997684,-1.4121284659262383,-1.3443907693162336,-1.291223588423057,-1.2474154564630675,-1.2140058874916129,-1.1868257837445664,-1.1652506352855878,-1.1481274013148433,-1.1344162862181935,-1.1234975046300935,-1.1147461683002755,-1.1077558908313396,-1.1022174394132322,-1.0976025075588287,-1.0940216659400015,-1.0910348756329653,-1.0885631955101183,-1.0864769301684416,-1.0846428101003576,-1.0829832139237028,-1.081426766789444,-1.0798351633321193,-1.0781771591392153,-1.0763628487970345,-1.0742780231435125,-1.071852253690161,-1.068893785165632,-1.0653294874083838,-1.0609996877095527,-1.0552748392938303,-1.0487739302034584,-1.0407361172330483,-1.0301711377868417,-1.01702451658584,-1.0007298242178384,-0.9801558675193663,-0.9544754492016965,-0.922581073061303,-0.8813290407334848,-0.8305137412788965,-0.7664244220323817,-0.6858894183073112,-0.585120430795562,-0.4589349085998282,-0.3040424953531291,-0.10937926871262893,0.14002910007822428,0.4438483376820237,0.8334259716552117,1.3039450918657367,1.923854461979889,2.622637755805968,3.567809715279275,4.851089753559766,6.026108993218667,8.019786027422427,-1.7977019934949812,-1.5831391557192005,-1.4133578775429767,-1.2779411803607514,-1.1706407108740147,-1.0852051099298496,-1.0174657900526014,-0.9642974213885301,-0.9204913921181612,-0.8870860065629333,-0.8599136230320128,-0.8383547596816594,-0.8212574358617,-0.8075900029638494,-0.7967218980289135,-0.7880231299219014,-0.7810961982694202,-0.7756057840135997,-0.7710324666913219,-0.7674785027746558,-0.7645095280487426,-0.7620611621189136,-0.7600010700912725,-0.7582105431911752,-0.7566182065695879,-0.755140016214186,-0.7537146492906295,-0.7522855230598228,-0.7507555615566728,-0.7491421740397155,-0.7473288299609274,-0.7452973591957501,-0.742947445219527,-0.7401818806546927,-0.7369244720750967,-0.733252112596269,-0.7288619424255312,-0.7236751743359484,-0.7175277961417201,-0.7103262708411595,-0.701869796336041,-0.6918608148374181,-0.6802396726572559,-0.6664871252994278,-0.6502735018241808,-0.631808010974207,-0.60924308681233,-0.5838994486802807,-0.5529787940919564,-0.5178229356479891,-0.4757656495541689,-0.4260502454648408,-0.36773082399612106,-0.29821626592141925,-0.21743171662841598,-0.11900295926558677,0.0017593992142545534,0.14345649918257336,0.3133687591799087,0.524658010851546,0.7752259595472812,-2.296069089873678,-2.0815062520978973,-1.9117249360902804,-1.7763082389080553,-1.6690075802643545,-1.583571790163225,-1.515832791417485,-1.4626644227534136,-1.4188573157236797,-1.3854522512999599,-1.3582793002981468,-1.3367191128490439,-1.3196217890290844,-1.3059524645615919,-1.295077365172291,-1.2863855915196438,-1.279442779388791,-1.2739574680176933,-1.2693822591257733,-1.2658175176154585,-1.262853645774268,-1.26039450225079,-1.2583357299685876,-1.2565306423355571,-1.2549288478657594,-1.2534304220684982,-1.2519791449941562,-1.250524108612564,-1.2489612425042638,-1.2473009614734267,-1.2454078192756088,-1.2432475892108485,-1.2407709836017158,-1.2378976431003925,-1.2345834874315345,-1.2305556869924343,-1.225931049252298,-1.2203888402024428,-1.213918134198748,-1.2062344763050052,-1.1972637560558987,-1.1865060612438896,-1.1740662612066939,-1.159614268412392,-1.1424420979928167,-1.1221787256747464,-1.0987251991121885,-1.0721718270713996,-1.0403625700823942,-1.0032975322932138,-0.9598413553264468,-0.9091053742925868,-0.8488767734786541,-0.77699993000683,-0.6922254747623309,-0.5928905052956829,-0.4724140589176248,-0.3305101922819608,-0.15290403248341702,0.05340995569846768,0.3036919922924197],\"y\":[-1.0289636261342554,-0.8656588064036097,-0.7364417281383042,-0.6333842194282179,-0.5517298151528007,-0.48672206910543236,-0.4351895830625958,-0.3947536293378352,-0.3614502715680815,-0.3360713722995413,-0.31544510610071974,-0.2990951548209472,-0.28614841118159906,-0.27581069792375645,-0.2676072406616362,-0.261059235521657,-0.25585525356848793,-0.2517541351040481,-0.24836380920206694,-0.24576877352722984,-0.2436519399191133,-0.24196402570548034,-0.24061954174421327,-0.23953406699686072,-0.23866174834135787,-0.23794301445495156,-0.2373470068995114,-0.23684736489074562,-0.23638729531156602,-0.23597814556998062,-0.23557190013082394,-0.23515091615656383,-0.2347021937947046,-0.2341834636086412,-0.23356079473406785,-0.2328551291094321,-0.23197751036795386,-0.2308723322244525,-0.22950645653502308,-0.22779827335418965,-0.2257085314272306,-0.22314237239586274,-0.21997015257813432,-0.21608800582498736,-0.21139266346076604,-0.20560012782811302,-0.1985386043302638,-0.19001899623726562,-0.17959459835781136,-0.16695636313971798,-0.1511606135431344,-0.1323609307994765,-0.10969937285774384,-0.08223203318546984,-0.049700946993420425,-0.011418287449011744,0.033729879999395196,0.08574638298582754,0.14651985028462994,0.21742676712478998,0.2994960302667481,-0.3017504767073972,-0.13844234516978265,-0.00918887274136727,0.09386936172563487,0.17552390464131018,0.2405656060392346,0.29209716059052154,0.3325313173062572,0.3658309044400566,0.3912387007063034,0.41185648087133836,0.4282289840136903,0.4411948527692983,0.4515434546152829,0.4597518833232264,0.466295599188947,0.4715254700401366,0.47561209655221004,0.4789852747033308,0.48156831162565295,0.4836791552036868,0.48536622838558247,0.48672016931180323,0.48778595452073414,0.4886823174121404,0.48939166910299076,0.4900160288609426,0.49054918141674025,0.4910350614108703,0.49147175970792895,0.491901301812999,0.4923996142241885,0.4928897248424806,0.49345674911619464,0.4941398323312049,0.4949351335690507,0.49589740715653835,0.49713201122178063,0.4986344055876629,0.5005325692232949,0.5029241491980706,0.5059383928337413,0.5097308289966069,0.5146199744721588,0.5207091913978,0.5284626456421061,0.5381897811174607,0.5504917078832025,0.5660213714496991,0.5855167467950121,0.6100770089885756,0.6409903897974559,0.6792849068550502,0.7275388770760264,0.7866073990229496,0.8611274226223931,0.9538426197208383,1.0687040064288298,1.2082861215551288,1.3816796016722284,1.5885461965590946,-0.9585011660831955,-0.7951874822258486,-0.6659641793724717,-0.5628933607916419,-0.4812255631773511,-0.41620420620602194,-0.3646515491730758,-0.32419243056346553,-0.2908635922615326,-0.26545741077870105,-0.24480326242796252,-0.22842431135496027,-0.21545147883424998,-0.20509204446477303,-0.19686865655772096,-0.1903039634242849,-0.18508344673012705,-0.18095813263415206,-0.17753423076191616,-0.17487728560666194,-0.1726736292119634,-0.17086111108280722,-0.1693422246322115,-0.16802310120294556,-0.16685960712111836,-0.16576984627624636,-0.16470148582038124,-0.16360156959959182,-0.16239438122070798,-0.16105181424549647,-0.15948376404324244,-0.15760993072600665,-0.1553512184945393,-0.15250059931135462,-0.14913050509835507,-0.1447898707020277,-0.13948412248163522,-0.13269598244142627,-0.12414712296562902,-0.11342632344525877,-0.09979282605734574,-0.08261098742471018,-0.06088536600500738,-0.03332838680020134,0.0013462734821113598,0.044682855360344054,0.09882444381710481,0.16591591379790505,0.24603896098425654,0.34090828119016026,0.45069333246870147,0.5750465342785372,0.7062491493880477,0.8408717068971907,0.9737652560237082,1.095500917901278,1.206938448325416,1.3012187707335694,1.3809210970218584,1.4417561450042968,1.4931622189939646,0.3433000904202594,0.5066104994777698,0.6358375757709535,0.7389050507740199,0.8205731922779452,0.8855950650837264,0.9371482379511247,0.9776080443400043,1.0109378283384325,1.0363483850679316,1.0570076824170156,1.0733874932141045,1.0863654747331601,1.096732627927068,1.1049611648324658,1.1115310069642472,1.1167609619310093,1.1208914250253297,1.1243221953440845,1.1269860089458577,1.1291982532352485,1.1310245082574424,1.1325502725007317,1.133883992547122,1.1350749697611997,1.1361887841881497,1.137284627776265,1.138427483470516,1.1396810408730333,1.1410820036629172,1.1427444833220877,1.1447110546865904,1.1471071358484353,1.150069425701144,1.1537312653331384,1.1583124355502474,1.1639616060965838,1.1711100825592293,1.180225518776524,1.191650077045275,1.2062104875971218,1.2243361534901838,1.2475205020048612,1.27679319091318,1.3136984607335536,1.3595226347583855,1.4172666528220403,1.4874447179577144,1.5725429494372642,1.671870684866875,1.7876551124028806,1.9120083142127164,2.050070029666391,2.1864026891742165,2.318436514214034,2.443601726263686,2.549890258342342,2.6441705807504956,2.7187239086933026,2.780418680762441,2.8283952045800267,-0.7953261551473458,-0.6320163841548946,-0.5027926561125617,-0.39972735527681713,-0.31806376470284636,-0.2530448149589599,-0.2014995394031323,-0.16104943294255286,-0.12773063658931982,-0.1023355277894748,-0.08169288104914851,-0.06533006475045211,-0.05237139898482296,-0.042026819149696526,-0.03381803720594351,-0.02727052920806683,-0.02206034789529876,-0.017955676523579378,-0.014552436067948316,-0.011928179120338167,-0.009761528246066575,-0.008000630946811249,-0.006552279256023696,-0.005332911859339207,-0.00428895681026209,-0.0033668421622966016,-0.0025245611027094883,-0.0017314729191247324,-0.0009333356281903127,-0.00012520861114040382,0.0007435028394504051,0.0016809845961607839,0.002750876117029233,0.003935406345212333,0.005313090297253242,0.0068715832755713024,0.008674143386092625,0.010791833255209216,0.013211515464939594,0.01608686724524705,0.019532730147259703,0.023635365288393828,0.028610295297523958,0.03466408590537612,0.042158016475363436,0.051280954244823096,0.06254858344519959,0.07671564293047117,0.09414333279201098,0.11560345620086526,0.14161123007974263,0.1731965016609635,0.21147419560406666,0.25704619804178214,0.3100826321197304,0.3734168964173583,0.44825170174738993,0.5347562128563619,0.6365385066920188,0.7523958962232483,0.8931385058319635,0.5064740199729947,0.6697835167883557,0.7990072706224112,0.9020725972498783,0.9837363597686664,1.0487553954849616,1.1003010149304238,1.1407512933358206,1.1740704335786882,1.199465886268168,1.220106648157826,1.2364734098411463,1.249432763386045,1.2597815465230215,1.2679911881908612,1.2745429854629966,1.2797540264998513,1.2838638468699162,1.2872722363238929,1.2899016422698484,1.2920743018665524,1.2938412078882395,1.2952998575757182,1.2965260934189216,1.297582065912863,1.298516198005693,1.2993747857844034,1.3001859094814592,1.301013221314293,1.3018556905639374,1.3027535765564278,1.303745977846765,1.3048742184514324,1.3061102386630705,1.307582305341154,1.3092437782863815,1.3111493183638125,1.3133699881998389,1.3159698386207874,1.3190082575923263,1.322685778689012,1.3269255958370296,1.3322265667668753,1.3385894841989507,1.346289187779263,1.3557898433763877,1.367435190404429,1.3817741947070408,1.3993738293859206,1.4211778424294548,1.44804440577756,1.4809173942538871,1.520567842883295,1.5686293067025532,1.6256120600220754,1.692549688544069,1.7713308131156742,1.8628105085178448,1.970080082628833,2.0945160206776268,2.2352586302863418,-0.6320779957357776,-0.4687699892326227,-0.3395477677623601,-0.23648423814391764,-0.15482167082729378,-0.08980331447871079,-0.038257171721856664,0.0021963764389220652,0.035521275898553195,0.06092703593089854,0.08158556793986188,0.0979724163244346,0.11096309185221437,0.12134654241907061,0.12960165600175821,0.13619892518874166,0.14145200859027218,0.14560044177484088,0.14903545463698092,0.15168549396101744,0.15387023642580855,0.15564411370193676,0.15710720220246954,0.1583482215862917,0.15942161287016043,0.1603929841377852,0.1613034918239873,0.16220097112287668,0.16314911163658447,0.16417606653421718,0.16533247725407418,0.1666935227242733,0.16831433862373346,0.17028530155321575,0.1727743284881053,0.17567135591635402,0.1793144732663905,0.18390863581393851,0.18973263848350602,0.1970436057807018,0.20611953990963244,0.21751057914754363,0.23176772544061708,0.24986989427140116,0.27238553993984155,0.3001391647369502,0.33691060057121586,0.3807231871680852,0.43690480637288254,0.5075131090168171,0.5947846294309408,0.7033563175418265,0.8399228930153164,1.011869650711824,1.2238475598199985,1.5003802881771302,1.8267488402762335,2.242425778489377,2.7782770940013193,3.417201758898032,4.219287029210149,0.6697195294543508,0.8330279399529331,0.9622498700516237,1.0653139145699004,1.146976567858933,1.2119954391073506,1.2635418397814306,1.3039950459218097,1.3373206322260927,1.3627268221204814,1.3833860409740966,1.3997737490827562,1.4127654581486748,1.42315319798979,1.431410031020651,1.438011589481893,1.443269821881769,1.447420834238598,1.4508644256492556,1.4535179038696389,1.455709514780949,1.4574945497778546,1.4589670858971664,1.4602201320720276,1.4613081293191956,1.4622829301369924,1.4632209209554448,1.4641458833865846,1.4651146479321984,1.4661776832029483,1.4673787715367896,1.4688102396127003,1.4705083372182162,1.4725480780746345,1.4752378037909013,1.4782587623340808,1.4819878520927874,1.4868911414645585,1.4929899754566285,1.5005414785746058,1.5100811029398713,1.5219875093210666,1.5367769368539166,1.5559436681642538,1.5795412577174757,1.6093215882772638,1.646778934145946,1.6936827889850476,1.7524389073625861,1.8245928441276371,1.9152985878012014,2.0317629143952347,2.173483161301565,2.355558774724112,2.575424649228075,2.86569427062297,3.1920628227220735,3.635176162311874,4.237973802489798,4.784300612740292,5.725259299584944,-0.46870061386450124,-0.30539188799696587,-0.17616911050989936,-0.0731040389958057,0.00855938337181758,0.07357867980919108,0.12512601870282683,0.16557999018332661,0.19890479619360923,0.22430926009750227,0.24496512041947452,0.2613453517324321,0.2743250340073118,0.28469216850887014,0.29292496665000245,0.29950163049742917,0.3047298192851443,0.3088584975080683,0.3122831749888185,0.31492543941137585,0.3171109574846812,0.31888815215688493,0.32035280122062093,0.3215910451625139,0.3226547364808863,0.3236017363964925,0.32447319199797914,0.3253049023422423,0.3261579591668037,0.3270210057174804,0.32796178445255864,0.32899021938513956,0.3301579231822226,0.33151402438075706,0.33309757480487,0.3348705314961272,0.33698184458388314,0.339468281192809,0.34241099316921864,0.34585217399704604,0.34988937728393815,0.35466054105426037,0.3602006458786803,0.3667510202983806,0.3744667033577136,0.38324528418375736,0.39397923021814973,0.40600071795655857,0.4206819638280176,0.43733791314354153,0.4572556652689258,0.4807791574020743,0.508338338785581,0.5411359677953942,0.5792561951684644,0.6256211957453235,0.6824625453903203,0.7490943578506505,0.8289508960217745,0.9282146884609541,1.0458569018253805,0.833097091792792,0.9964058176603274,1.1256286123418755,1.2286936838559692,1.310357192196001,1.3753765746057833,1.4269237424892192,1.467377713969719,1.500703034879836,1.5261073277735293,1.5467634460127275,1.5631442791325458,1.5761239614074254,1.5864919556330705,1.594728183324375,1.6013014176216296,1.6065373252337756,1.6106634336306143,1.614088970835451,1.6167363842563538,1.618919332503574,1.620701676174123,1.6221654748599472,1.6234105872483588,1.6244785771871648,1.62543502472155,1.626318507114076,1.6271622442493783,1.6280307574151505,1.6289161194073825,1.6298946699252275,1.6309848834917793,1.6322126745131844,1.6336202656951735,1.6352296078418873,1.6371741355034959,1.6393970257990285,1.6420550333783055,1.6451522153050795,1.6488250543275802,1.6531110168291323,1.6582425170218908,1.6641772537704682,1.671070583207377,1.6792494891943088,1.6889028389686014,1.7000657124288718,1.7126871377930273,1.7277973110903644,1.7453961530488433,1.7659998152086438,1.7900372725588687,1.8185393465853303,1.8525359162291646,1.8925447327405593,1.9394218292995513,1.9962585058571896,2.0630594592824445,2.146688502642859,2.243716077839147,2.3613536181162145],\"z\":[1.8564690627772928,1.0807100111089258,0.4668812393564612,-0.02267523965701601,-0.41055435078687474,-0.7193510217874092,-0.9641284167849884,-1.1561838678085021,-1.314346391374296,-1.434849922522431,-1.5327575053902702,-1.610328420499528,-1.6717047403467986,-1.7206517935397823,-1.7594293152564784,-1.7902957689446586,-1.8147592239497217,-1.8339483700290908,-1.849747321935637,-1.861781388373845,-1.8715568991256546,-1.8792995401194217,-1.8854243592622242,-1.8903066047046333,-1.8941730331309838,-1.8972461182016962,-1.8996771683425409,-1.9015787629787608,-1.9031343832313146,-1.9043079852897409,-1.9052460674780263,-1.9059687045227798,-1.9065155742894495,-1.9069163458533422,-1.9071858719306405,-1.907356137333188,-1.9074181548498799,-1.9073707028222304,-1.9072248681419666,-1.9069566236222357,-1.9065738672088997,-1.9060534901930346,-1.9053689959992484,-1.9045029013348178,-1.9034199062339603,-1.902067912704928,-1.9003948892785647,-1.8983566660761055,-1.895843111638,-1.8927846652491755,-1.888901967297984,-1.8842842036111307,-1.878691283340075,-1.8718699010312951,-1.863780751794043,-1.8543186460038812,-1.843094962742495,-1.830272918417391,-1.8153997050587791,-1.7983188216715293,-1.7787091920949891,2.3326892347260104,1.556930581634471,0.9431127845914837,0.45355630779227596,0.0656770543785603,-0.2431091792412171,-0.4878870440743812,-0.6799432611240748,-0.8381070712570671,-0.9586017579814665,-1.0565121132979278,-1.1340761376981054,-1.1954468006957069,-1.2443904406465054,-1.283166328215316,-1.3140339844289421,-1.3384891105712162,-1.3576826582670214,-1.3734869639534615,-1.3855250498766498,-1.3953031140490586,-1.4030469741685117,-1.4091703438471728,-1.4140605130903148,-1.4179216209372512,-1.4210005048969787,-1.4234261192891813,-1.425321487559955,-1.4268742420847054,-1.4280458022326128,-1.428985219748262,-1.4296932791504051,-1.4302408917980605,-1.4306429831215275,-1.4309168772888405,-1.4310864869414017,-1.4311589692089879,-1.4311189356666931,-1.4309919699125577,-1.4307436671398348,-1.4303691592238397,-1.4298400666769526,-1.429131376620853,-1.4281763530526952,-1.426945132787789,-1.425336199121866,-1.4232818742520823,-1.4206366814876823,-1.4172534279158517,-1.412942300276903,-1.407443714703799,-1.4004786912285478,-1.3916720494872852,-1.3805744898493877,-1.36678262974232,-1.3492589331261435,-1.3271469458508223,-1.2996231700974374,-1.266020646700447,-1.2236377541851797,-1.1728535578371126,3.9138929606338144,3.1381362487646425,2.5243089216511145,2.034756008944321,1.6468804224032043,1.3380872548295064,1.0933153499157862,0.9012662294262488,0.7431107183788588,0.6226146939362529,0.5247148187481918,0.4471517826190197,0.3857821869541039,0.33684020729859443,0.2980666125185163,0.26720217147989417,0.24273961541427705,0.22355199734450434,0.20775546605663964,0.19573034334197403,0.18596868498447938,0.17824841263213792,0.17215741050663402,0.16732242359964689,0.16351643168790647,0.1605220181514726,0.15819225615747778,0.15642191320282278,0.15502986341672298,0.15406364878623086,0.15338540240369897,0.15299064917283872,0.15285583793639224,0.15299454073439467,0.1533614298058678,0.1540459245758602,0.15503164405187886,0.1564407202519122,0.15833998453198755,0.16083450952854972,0.16412585252648354,0.16836906802899504,0.17387053286302673,0.18098723883796874,0.19013205190391724,0.2017573688511829,0.21657168169490726,0.2351751234108289,0.2578508270880794,0.2851345472984888,0.3172142350385237,0.3542544278154614,0.3939814299636935,0.43532410892200624,0.4769479438274011,0.5157722102614871,0.5519285270586676,0.5832752692866725,0.6102075570564235,0.6315229025800151,0.6497579755841507,4.582693331406949,3.8069355725003016,3.193109368850539,2.7035553985647143,2.315679864731384,2.0068867762193667,1.762114950367327,1.5700659352933637,1.4119105691923877,1.2914157604521748,1.1935172195590271,1.1159543151993223,1.0545860538293201,1.0056463474552355,0.9668740869700709,0.9360109802263624,0.911550960981105,0.8923646772062457,0.8765697437522293,0.864546218871412,0.8547864218867005,0.8470693452020557,0.8409793972322908,0.8361477377624675,0.832347593508011,0.8293579568728826,0.8270340425361715,0.8252730064454317,0.823891334279226,0.8229378857192806,0.8222822891497992,0.8219082911587271,0.8218054365992465,0.821966706209101,0.8224110175860384,0.8231432813690825,0.8242088925375158,0.8257168061625888,0.8277519693209677,0.8304252234349843,0.8339513027362613,0.8384482002747409,0.8443367766360939,0.8519344927894957,0.8616937455252573,0.8740274007934749,0.8898844556985196,0.9094515777953328,0.9335439581144869,0.9622196610972951,0.9963090913274851,1.0333492841044227,1.0752177982101916,1.1173676942125097,1.1588597596505228,1.1987547820633773,1.2335768039470265,1.2649235461750312,1.2905215390312508,1.3119686540222242,1.3291329710475914,3.5182757933960453,2.7425180457156144,2.128691056325875,1.639136698295486,1.2512601398771135,0.9424666033489071,0.6976928584362253,0.5056414844823057,0.34748345311155077,0.22698469585440806,0.12908196759926546,0.05151482316977899,-0.009858034047567136,-0.05880338067108079,-0.09757975921021375,-0.12844737931629263,-0.15291042925929987,-0.17210066611818053,-0.1878987288389346,-0.19992777143714224,-0.20969292116929739,-0.21741892497724474,-0.2235185574866369,-0.22836719861751262,-0.23218933177278211,-0.23520944035535532,-0.2375754887535993,-0.23939831018920182,-0.24086341212585086,-0.24192952874265936,-0.24274276305521114,-0.24332463925425662,-0.24370216770368505,-0.24392239651315878,-0.2439862585711365,-0.2439244209947874,-0.24373728643812168,-0.2434201740360209,-0.24299998508119944,-0.2424329249017966,-0.24171148998377964,-0.2408138893128984,-0.2396950125859307,-0.23829438026860528,-0.2365425983360175,-0.234369442751277,-0.23167017425827466,-0.22821035628901787,-0.2239202182361566,-0.2185720553747535,-0.21203394454323746,-0.2040392527083694,-0.19425399037047084,-0.18258629548481997,-0.16890130448555954,-0.15254693283610068,-0.13328448610416357,-0.11092461993823258,-0.08475098743375556,-0.055002395997746284,-0.0187138735119943,4.187075889404029,3.411318045189557,2.797491059752902,2.307936705675597,1.9200601736111178,1.611266650259858,1.3664929580549634,1.1744416104549371,1.0162836317919692,0.8957849272426135,0.7978815285199662,0.7203155339081388,0.6589427821063667,0.6099986248313525,0.5712223780616869,0.5403559604810542,0.5158930423075143,0.4967041397435471,0.48090741131770665,0.46887970301441245,0.45911601934663826,0.4513914816030718,0.4452945176835067,0.44044747438647924,0.4366282733599716,0.4336110969061603,0.4312491831621243,0.4294302162415552,0.4279728565354527,0.4269147290878857,0.4261092370058802,0.42554177451194886,0.4251797305236133,0.42497284466327484,0.42493435080889397,0.4250228742835137,0.42523669473845005,0.4255804930388214,0.42605010070616267,0.4266585074276453,0.4274427040073174,0.4283831349173493,0.429590141509569,0.4310599579595215,0.4328759852508353,0.4351397400877783,0.437929607832983,0.441415779695716,0.4457322716420536,0.45113314229040935,0.4578573904002311,0.46615847205801997,0.4763176689765016,0.4885849665612558,0.5033654074087892,0.5207081533086442,0.5410660498888544,0.5648425926966889,0.5927294347671952,0.6248830770955043,0.6611715995812563,3.1226806852882176,2.3469222855880076,1.733094683709329,1.2435395636058444,0.8556623577538127,0.5468682396766806,0.30209419159097894,0.11004318161149607,-0.04811385982822952,-0.16861043946586743,-0.2665095882618341,-0.3440707053303641,-0.4054352767422996,-0.4543703047840669,-0.4931341309908689,-0.523988128008638,-0.5484396963752929,-0.567618319888354,-0.583409332426378,-0.5954338782624549,-0.605198435548232,-0.6129273559171518,-0.6190318161610187,-0.623886405583067,-0.6277160194948488,-0.6307432965267308,-0.6331168765146566,-0.6349449572909664,-0.6364110531770977,-0.6374703405765442,-0.6382716408954359,-0.6388223945593027,-0.6391563664078,-0.6392936717136248,-0.6392209956625186,-0.6390008811123187,-0.6385752541441958,-0.6379058295814983,-0.6369529599736613,-0.6356733486560152,-0.6340235823535403,-0.6318889674152304,-0.6291838770077696,-0.6256476873598567,-0.6212283108042476,-0.6157253932116349,-0.6083703679170871,-0.5994946183483801,-0.5881199532872035,-0.5736035425638504,-0.5556586597038354,-0.5332477686672201,-0.5046910681180279,-0.46836640692090514,-0.4240517661997769,-0.3642273861832276,-0.2951287025406659,-0.20634500787333737,-0.0882396866635499,0.051115128306888316,0.22637993021412817,3.7914799390542897,3.01572165578531,2.4018939547372016,1.9123389680632081,1.524461775388123,1.2156677907404825,0.970893782185621,0.7788426107627294,0.6206857291063886,0.5001892153534844,0.4022902263409026,0.32472924104184,0.26336471901764347,0.21443089350132227,0.17566733083345512,0.14481453634113217,0.12036430226939068,0.10118607406473182,0.08539746657760017,0.0733734478193927,0.06361048836746391,0.05588436835783861,0.04978190125622223,0.04492970028482646,0.041102870132099345,0.03807666385619607,0.035708931525554266,0.033886698406528304,0.032424308665723434,0.031372186618234765,0.03057936934597466,0.030043770203307063,0.02972709438796639,0.029600330639532157,0.02973156832957702,0.02996304618955048,0.030401850104411487,0.031140458799735926,0.032151804980412424,0.03347918531111016,0.03523272781252573,0.03747358833672654,0.04030387006270336,0.04409044234764803,0.0487519633674518,0.05469633964930304,0.062265516139604515,0.07183310703458184,0.08387491955252424,0.09873725093901242,0.11748105072317461,0.14208284145633604,0.17170199786443846,0.210505791562375,0.2572831710346703,0.32030321874780854,0.3894019023903702,0.4867516448878454,0.6216591218642985,0.732103525407992,0.9520931397284546,2.7271260972426647,1.9513679713322403,1.3375406182071483,0.8479860614955707,0.4601092592520608,0.15131561232820845,-0.09345781633775152,-0.2855083798578242,-0.44366499953200916,-0.5641613962491717,-0.6620605729558108,-0.7396228677526724,-0.8009897782275215,-0.8499283972453875,-0.8886978241707782,-0.9195566146900923,-0.9440141790837383,-0.9631969206507676,-0.9789884270661816,-0.9910119841150281,-1.0007715165283546,-1.0084928420039847,-1.0145877961810597,-1.019431363671216,-1.0232482914162988,-1.0262618602937716,-1.0286201664614694,-1.030433252524275,-1.03188394075581,-1.0329356436675043,-1.0337291104950483,-1.0342866892464757,-1.0346377787363286,-1.0348099065279563,-1.0348149600083003,-1.0346929961596436,-1.034414930345981,-1.0339867892619823,-1.0334046692156718,-1.032658215909226,-1.0317371244368672,-1.030617134397395,-1.0292808070757373,-1.0276841392832974,-1.0257947984484344,-1.0236471667451843,-1.0209915378543117,-1.0180786147972056,-1.0144819780945862,-1.0104697701706862,-1.0056827397214423,-1.0000684049093693,-0.9935612952414664,-0.9859229422349208,-0.9770316592706131,-0.9663852882979892,-0.9534239080911386,-0.9383617828205484,-0.9204001838532943,-0.8981553908785909,-0.8719487813230468,3.395925433179906,2.620167307269481,2.0063399567797786,1.5167854000682006,1.1289086110016378,0.8201149772547323,0.5753414678670677,0.3832909043469951,0.22513441810230148,0.10463794066343449,0.0067388034876356695,-0.07082339907059879,-0.13219030954544794,-0.18112879679384658,-0.21989715296325854,-0.25075701423855135,-0.27521230535077246,-0.29439598590431315,-0.31018736055025975,-0.3222095833041927,-0.3319700547040306,-0.33969004588474716,-0.34578567550939876,-0.3506276451657069,-0.35444391406345277,-0.35745548979867514,-0.35981140751572016,-0.3616221051278733,-0.36306933415277687,-0.3641154363458823,-0.364899843248206,-0.3654408667825618,-0.3657772956286056,-0.36593608047109805,-0.36593718086742055,-0.36576711600091794,-0.365461046594311,-0.36498480449246606,-0.3643626555987496,-0.36355344063064854,-0.36256151532619474,-0.3613426878616831,-0.35989681555519804,-0.3581930721648813,-0.35617277122561564,-0.3537656887005107,-0.35098980726502305,-0.3478759099589014,-0.34415902071166715,-0.3398387629408748,-0.33483758129587715,-0.3290354491815267,-0.32222028966673155,-0.3141256203512306,-0.30478134112591093,-0.29383843722916114,-0.2806052179676895,-0.2653536353708502,-0.24621420482695097,-0.22425764465651524,-0.19777919604635005],\"type\":\"scatter3d\"},{\"hovertemplate\":\"Sensor=HIV<br>PC1=%{x}<br>PC2=%{y}<br>PC3=%{z}<extra></extra>\",\"legendgroup\":\"HIV\",\"marker\":{\"color\":\"#EF553B\",\"symbol\":\"circle\"},\"mode\":\"markers\",\"name\":\"HIV\",\"scene\":\"scene\",\"showlegend\":true,\"x\":[-0.8020788640906652,-0.5875015799467924,-0.41770978288662935,-0.2822873427487256,-0.17498435747436483,-0.08955195023557719,-0.02181582406370658,0.03134884060651505,0.07514887838976071,0.10854413296766678,0.13570770962001494,0.1572576912996724,0.17434859248947063,0.1880184887811669,0.19889605156431328,0.2075902886108062,0.2145285696811398,0.22000613867663793,0.2245633994235129,0.22808089522588543,0.23101265391627002,0.23340906698060615,0.23540682427627757,0.23712841771721282,0.23866866890938532,0.2400893187565869,0.2415016188250867,0.2429354937819596,0.24447592225321146,0.24624903464296344,0.24828250125917045,0.2507121217382627,0.2536270828171848,0.2572632047484683,0.2616353137776693,0.26711081798959857,0.27377526433364324,0.28230878505047985,0.29285647662948866,0.3059847684828752,0.3226150201431673,0.34288774558590984,0.36875769008184056,0.40074409812708645,0.4406819818316164,0.490546242392694,0.5532080896556246,0.6294658172548322,0.7266574948174003,0.8480734787103097,1.0002951065557717,1.1892039164361825,1.4220803893809064,1.715583698780442,2.0823830704145756,2.536212233035787,3.1037293003237245,3.813642236054184,4.683151316111239,5.694132288003713,7.174048336204297,-0.37888950412358796,-0.164312257811108,0.005479488176674763,0.14090205504974457,0.2482050024927124,0.3336375988884642,0.40137410337426327,0.4545317735901201,0.49833256800122266,0.5317287683639498,0.5588864855037184,0.5804387370669464,0.5975245353720219,0.6112001063726444,0.6220814522950749,0.6307883585048588,0.6377393087384834,0.643245427375644,0.64781535728581,0.6513665056145677,0.6543090418986012,0.6567237988351545,0.6587450028877657,0.660493826224925,0.6620631988829635,0.6635229998684452,0.6649751989964598,0.6664608942549038,0.6680860476328769,0.6699109803241998,0.6720620764522782,0.6746163208976066,0.6777077262443358,0.6815272868977912,0.686279470825721,0.6918684692161748,0.698981174032282,0.7078437408006208,0.7189795799389868,0.7329551208595853,0.7503134091665291,0.7719023188152806,0.799018502973573,0.8325102521890354,0.874751458254081,0.927647077822326,0.9928427577434488,1.0749819609362277,1.175464099013818,1.3041604493732457,1.4629629982487522,1.6584527291592077,1.9084809501155173,2.2174512045519075,2.598191009117042,3.0599999836412453,3.6725189951668016,4.389426385261995,5.284845616104539,6.436507129636094,7.7213699099684785,-0.8020650643389,-0.5874878369421164,-0.41769608073985764,-0.28227356191265673,-0.17497055772259953,-0.08953796132684771,-0.021801645998012875,0.031356213374808234,0.07515001333154593,0.10854640285123733,0.13570449830493436,0.15725637155423391,0.17434406142895154,0.18801263797520926,0.1988958754672819,0.20760656481634995,0.21455430373489393,0.2200642055113387,0.22464680458479563,0.22819663316811478,0.23115373018508129,0.23358304785456768,0.23562070420975406,0.23739675744313726,0.2389774795190283,0.2404771795640248,0.24194829438846038,0.24347388870641917,0.24515785684032798,0.2470465310752779,0.24927742532238623,0.25194230482522134,0.25513242398740127,0.2591354233630285,0.2638612123821882,0.26993234336582395,0.2773740942334333,0.2866356515969217,0.2983596382946448,0.31280411435404026,0.3308204947639886,0.3532073856030393,0.3813806524594857,0.4166082531428411,0.4601163755369827,0.5150355392911541,0.5835216797272992,0.667059773793025,0.7715318178221113,0.9042180741330347,1.0684094198329843,1.2732778535193785,1.5261038562215818,1.8447387255356944,2.241565775139719,2.7338159609685038,3.329134748684006,4.099930107023629,5.054164093801884,6.20789327400689,7.626926899598311,-0.9759369707273252,-0.7613737924690092,-0.5915920981474638,-0.45617661069914744,-0.3488757628984823,-0.26344029392886104,-0.19570129518312102,-0.14253413625295844,-0.09872842811409746,-0.06532774951996062,-0.038160772395567755,-0.016614195541266003,0.0004621449155990925,0.01410727470491707,0.024946082076955645,0.03360912999090904,0.04050601615925775,0.04595675098570415,0.05049984672681823,0.05403493848017296,0.05698807626082403,0.059436309626731104,0.061508762156709834,0.06334059492797955,0.06500942932270376,0.06660005727444179,0.06821598797386333,0.06992836489299659,0.07186906017172712,0.07407455251976355,0.07668521496924104,0.07981793146016898,0.0836618787572718,0.0884039159325278,0.09405394244380187,0.10124022885407336,0.10981385454333101,0.12055700944670444,0.13401378064872368,0.15018312666897154,0.17052528672242007,0.19539060841555633,0.22623631067014277,0.2636722591926881,0.310484098494046,0.3676182382835043,0.43723061388300705,0.5223084764467809,0.6283555083801904,0.7578482557730297,0.9149838078363064,1.1077420389618373,1.3408124151004377,1.6342721913905356,1.9835112243674247,2.4095129396141353,2.919843657358185,3.5386980870187754,4.289523037609776,5.10615709435318,6.204108638776482,-0.5527497082258952,-0.3381863975577042,-0.16840523244032768,-0.03298866723264633,0.07431255888194731,0.15974859532246113,0.22748905014149445,0.28065804345887874,0.3244653968279972,0.3578689875687206,0.3850378562627556,0.4065916167283863,0.4236717403245356,0.43732575613786034,0.4481753411035478,0.45684028058714327,0.4637428414644183,0.4692043538845135,0.4737601187889186,0.4773027768208416,0.480265372449703,0.48272495523346254,0.48482142634458464,0.4866721748122752,0.48836823910322336,0.49002960305295323,0.4916903595995809,0.49348746142543537,0.4955009603688311,0.49781708777437417,0.5005642954321439,0.5039294118257968,0.5079127634522097,0.5130159598297738,0.5190838926326181,0.5267259167273015,0.5358876899759163,0.5473588815259416,0.5615436893746125,0.5789799517239566,0.6005890281065012,0.6271202567238832,0.6601214777082467,0.7000912588889843,0.7496260878127419,0.8110712650617544,0.8849374957004549,0.9776168562388053,1.0897521304331312,1.2281309018327808,1.3981423838543638,1.6032838661690725,1.8534268448848201,2.1576642148238037,2.5297781805369732,2.9824379678041146,3.5067575942776346,4.152270095958656,4.901203476907581,5.844881360623349,6.895939391166957,-0.9759285779676641,-0.7613651329980283,-0.5915838543864732,-0.45616779946726405,-0.3488660058817779,-0.26342959112733566,-0.19568907912588196,-0.14252002862607732,-0.09871205060364588,-0.06530713576417299,-0.038135997186567516,-0.016579399366473707,0.0005096102536824004,0.014167409206291252,0.02502077731126287,0.033698385958149335,0.04061172442907321,0.046087797582101436,0.0506511287650748,0.054207027784492434,0.05718985885521308,0.05968045467448077,0.06179584148202366,0.06367760298522226,0.06543305385630971,0.0671392436532458,0.06887979831890345,0.07076861950584384,0.07289768029443755,0.07535734736263755,0.078343949377497,0.08186452667586289,0.0861789920204514,0.09164906584235923,0.0982426808732628,0.10643502113446177,0.11639477557337566,0.12880383740099485,0.14399646007090713,0.1628887957135547,0.18623372356399237,0.21489979424441696,0.2501757463791178,0.2935679626187287,0.34741382900204054,0.4124705982741339,0.49318169903058084,0.5919493018298476,0.7141627242365857,0.8593291833336252,1.0394188135676203,1.2593277954827107,1.5202483678473437,1.8511438098067585,2.230824054088229,2.703147459011067,3.2788916598833735,3.9637313968757875,4.76276960678499,5.719116653791717,6.854899591056529],\"y\":[-1.9890537185069381,-1.8257381260621188,-1.696510342216012,-1.5934425602914466,-1.5117779944907879,-1.4467603249868568,-1.3952146130266636,-1.3547625254622149,-1.3214407182054435,-1.2960413098505474,-1.2753899032707117,-1.259014209803064,-1.2460379477321817,-1.235669944160362,-1.2274328473987963,-1.22085874403128,-1.2156253968990447,-1.2115035590841154,-1.2080874321133586,-1.2054639975051362,-1.203298150277903,-1.2015483265838531,-1.200117019836004,-1.1989163700995578,-1.1978833671554145,-1.196971288811248,-1.19611579412042,-1.1952939518488108,-1.1944506696351562,-1.1935303111780995,-1.1925080267619423,-1.1913189261090833,-1.189918208921993,-1.188191491748706,-1.1861338780741948,-1.1835689471439548,-1.1804590456511665,-1.1764840713695368,-1.1715714696936184,-1.1654641161178025,-1.1577294450258708,-1.148298389782141,-1.1362596120179946,-1.1213717831922492,-1.1027756382034355,-1.0795433209466436,-1.0503346532229216,-1.0147716793884842,-0.9694188452062181,-0.9127305958270475,-0.8416153459205791,-0.7533247346985646,-0.6444244517023191,-0.5070171060892962,-0.3350939278640902,-0.12246298680429404,0.14374357157525358,0.4769243821640792,0.8856486869410489,1.359674558336299,2.056854797721598,-2.8759597194016435,-2.712644144151306,-2.5834163835177497,-2.4803485439916706,-2.3986839953854933,-2.333666239909154,-2.2821203560041434,-2.241671697989866,-2.2083495468434604,-2.182949708626521,-2.162301215762405,-2.1459244906258537,-2.1329507983810565,-2.122580215636977,-2.1143413994272375,-2.107761287337289,-2.102521931482622,-2.0983863661208293,-2.0949642304276406,-2.0923244984464695,-2.090153502220891,-2.0883950906321487,-2.086952626163522,-2.0857390992581246,-2.0846923594209437,-2.0837622362171313,-2.0828878556349197,-2.0820419597812325,-2.0811591676442887,-2.080214755605154,-2.0791375049244962,-2.0778900084569645,-2.0764068418731236,-2.0745942457529134,-2.072356370405437,-2.069739856029995,-2.0664237142181463,-2.0622941765244045,-2.057106743525984,-2.0506042907172746,-2.0425261972993987,-2.0324768884072224,-2.0198541524963503,-2.0042620976134886,-1.9845840087398936,-1.959926325272376,-1.9295159130622177,-1.8912046260027557,-1.8443061576993736,-1.784183685060762,-1.709977166912061,-1.618595287447814,-1.501623878828779,-1.3568359907147414,-1.178551788865428,-0.962143669528983,-0.6744813936808076,-0.33787103291990006,0.08288006289615046,0.6238522589573826,1.2233604147487196,-1.9890469453790027,-1.825731378725906,-1.6965036134498395,-1.593435795760752,-1.5117712213628525,-1.4467534658865127,-1.395207667953911,-1.3547589239672253,-1.3214402023709915,-1.2960402781816434,-1.2753916133727103,-1.259015060180976,-1.2460405082120924,-1.2356733550181846,-1.2274336790843587,-1.220851847546237,-1.2156142017935683,-1.2114769169836026,-1.2080487725679814,-1.2054098909647224,-1.203232026292625,-1.2014667462573638,-1.2000165536181315,-1.1987901495437832,-1.197738251362082,-1.1967892422668862,-1.1959062644438077,-1.1950414826987372,-1.1941312074295432,-1.1931575741176352,-1.192042551654211,-1.190743518472351,-1.1892139828648767,-1.1873155077977438,-1.185094640008507,-1.1822464674383917,-1.1787757622144313,-1.1744573656068573,-1.168995101285934,-1.1622694940616716,-1.1538822738195726,-1.1434552470997312,-1.1303345254508035,-1.11391844390917,-1.093639482792357,-1.0680370374469415,-1.0360809911156668,-0.9970837940217884,-0.9482967365800816,-0.8862856748031456,-0.8095046574817037,-0.7136596897063912,-0.5953164610185232,-0.4460608115060615,-0.25988864426095915,-0.02889325397476844,0.25019981953056014,0.6125551720188771,1.0607894000851716,1.6034530057956515,2.271458703281459,-1.8268580267359955,-1.6635491461181244,-1.5343261794917589,-1.4312617079152912,-1.3495981136028505,-1.2845789022032683,-1.2330317343198325,-1.1925783627769584,-1.1592537277768755,-1.1338515785856944,-1.113198375931451,-1.0968242299671598,-1.0838548363427962,-1.073498840869666,-1.0652806113071343,-1.058721936242305,-1.0535091570649275,-1.0494010187583371,-1.045992582573487,-1.0433614011023096,-1.041186087563948,-1.0394122102878198,-1.0379457015832896,-1.0366926927931273,-1.0355987429005755,-1.0346051496531425,-1.0336518426860997,-1.0326961544960322,-1.0316606772801202,-1.0305310228008193,-1.0292291132184537,-1.0276986554962884,-1.025845144224736,-1.0235782028030356,-1.0208946728566828,-1.0174895488651563,-1.0134367547294134,-1.008364791701453,-1.002012246261996,-0.9943799111314433,-0.9847777707763024,-0.9730338720557284,-0.9584604983253924,-0.9407651114458981,-0.9186087766004212,-0.8915611561133712,-0.8585921332274912,-0.8182436776491581,-0.7679390246104869,-0.7064774435145531,-0.6318008871699469,-0.5401321297367954,-0.4292395398603216,-0.289346483734372,-0.12284892582882131,0.08054183193580085,0.3242647176151103,0.6203185075056477,0.9798609620210968,1.3703160196868318,1.8971493896342326,-2.713765106209963,-2.550456165411406,-2.4212334643648896,-2.3181684778885874,-2.2365047116313295,-2.171485242314521,-2.1199373875864334,-2.07948315725409,-2.0461577494369467,-2.0207542265564618,-2.0001001641781317,-1.9837225026912595,-1.9707513896187225,-1.9603911048713338,-1.9521677263104564,-1.9456081915215404,-1.940392833171903,-1.936279545866967,-1.9328651009596847,-1.9302304805921606,-1.9280508684333655,-1.926271832812717,-1.9247941570412346,-1.9235325510102053,-1.9224257239487024,-1.9213994798783243,-1.9204255488793756,-1.9194303507660184,-1.9183605313175123,-1.9171793401238828,-1.9158138670361498,-1.914173523515857,-1.9122564020080637,-1.9098177961542646,-1.9069368100532125,-1.9033170354252524,-1.898989409967007,-1.8935740246131028,-1.8868780568477017,-1.8786448494739307,-1.8684418368755715,-1.8559082069979471,-1.8403050335985145,-1.821407902232584,-1.7979638504920008,-1.768856630666758,-1.733828943060157,-1.6898752540225148,-1.6366531467938943,-1.5709022914391784,-1.4900478716974659,-1.392375064919491,-1.2732468815426616,-1.12820482707123,-0.9505588945627331,-0.7343003140217648,-0.4837183279982911,-0.17479671533140778,0.1838860150973417,0.6360916682099902,1.140609596602064,-1.8268539867068285,-1.6635449848678614,-1.5343222322379,-1.431257502744206,-1.3495934785697221,-1.2845738373080966,-1.2330259816453912,-1.1925717503784306,-1.1592460837094438,-1.133841959022098,-1.113186864974864,-1.0968079139018618,-1.0838325115550662,-1.073470507359504,-1.065245409350453,-1.058679865839105,-1.0534593584911218,-1.049339202739667,-1.0459213189360381,-1.0432806804999069,-1.0410916207223329,-1.03929798848456,-1.0378117154722104,-1.0365355128240565,-1.035401193284129,-1.0343543251818446,-1.0333426224001294,-1.032304484813311,-1.0311813905099534,-1.0299332062607847,-1.028454417824752,-1.0267419135582248,-1.0246685372286706,-1.0220581734810261,-1.0189282412418195,-1.0150508297730911,-1.0103454864871808,-1.0044837923021699,-0.9973072202039414,-0.9883871681782823,-0.9773601289211518,-0.9638136134709233,-0.9471289634954454,-0.9266011602172002,-0.9010975091384241,-0.8702736449921968,-0.8319846135609666,-0.7851134703333753,-0.7270853197764813,-0.658074055214608,-0.5724135921446217,-0.4677031978828407,-0.34342601616052915,-0.1855161389127516,-0.0044313100574551005,0.22126554308777704,0.4967234505772431,0.8245216084526544,1.2072298824354135,1.6654442579802438,2.2094721096616423],\"z\":[3.760381870728829,2.984625451387874,2.370799356184384,1.8812454329402584,1.4933688059501402,1.1845745280896234,0.9398004684869988,0.7477491801316105,0.5895915012183696,0.4690933484407529,0.3711925079122868,0.29362842738102946,0.23225990247209244,0.18332087154558455,0.14455210346753058,0.113691830283596,0.08923505650675423,0.07004908607154897,0.054253543570914775,0.042222194490802833,0.03245365092052488,0.024719953650299942,0.01860898690181223,0.013746029602360044,0.009909135169392735,0.006871135009933749,0.0044885780979861956,0.0026478142523282955,0.0011640114568487459,8.784096533781538e-05,-0.0007334717123561596,-0.0013105792696992968,-0.0016777404237371396,-0.0018475751553149733,-0.0018508335828007483,-0.0016674464161697267,-0.0013126429556385988,-0.000727218847271005,9.141190623412898e-05,0.0011865459695460379,0.002636188683998286,0.004459495674493386,0.006840931199387168,0.009824498447276453,0.013594075201793954,0.018354954366148035,0.02438730491496588,0.0317805963531132,0.041277494881585775,0.05322429774596438,0.06831133994273719,0.08712316125083058,0.11045826435370154,0.14023533331082993,0.17792020655366098,0.22435266267602627,0.2831401273833968,0.35709924074513005,0.44917854347154507,0.5534474147383704,0.7137236978435486,3.6808675518980283,2.9051111299216847,2.2912850311604185,1.8017311167448473,1.41385448711934,1.10506022243577,0.8602861891870388,0.6682338300756717,0.5100762038702177,0.38957811697733474,0.29167628475457036,0.21411236234667386,0.15274289845122543,0.10380426283311969,0.06503575829400049,0.0341769511744468,0.009721643461985952,-0.009460587627413475,-0.02525466406366672,-0.03728133481146151,-0.04704854408682585,-0.05478037998426788,-0.06088854637346103,-0.06574843977468414,-0.06958213853995471,-0.07261682786248957,-0.07499485481182683,-0.0768308417561796,-0.07830640844372261,-0.07937780203392847,-0.0801874193970546,-0.080751760883851,-0.08110137906603704,-0.08125260006978435,-0.08121187656584267,-0.08102058323116884,-0.08062871831737373,-0.08000870214269268,-0.07913159481634807,-0.077954099673671,-0.07642456526680402,-0.07446289001105483,-0.07195379378069466,-0.0688186813208132,-0.06480696010210102,-0.05972404478113763,-0.05339848135613723,-0.0454204241895963,-0.035577604997988455,-0.02283188520946272,-0.0070530016864196465,0.012450660947944225,0.037622442964368064,0.06929387869391657,0.10800821380629522,0.15534666245068451,0.219603076279562,0.29463294562006365,0.3891006989990623,0.5101717260325533,0.6358538779235174,3.7603839990638397,2.9846275757698013,2.3708014777200903,1.8812475599575744,1.493370934285151,1.184576669601581,0.9398026231759031,0.7477502772414828,0.58959158028005,0.46909350656411375,0.3711917006952428,0.29362775193345286,0.2322584198074718,0.18331871343338726,0.14455034066373545,0.11369179708311655,0.08923568215361172,0.07005371460314702,0.054261104231274726,0.042233758035903346,0.03246814659438724,0.02473790853079355,0.01863147174491603,0.013774642241922153,0.00994173409345589,0.006911574733531156,0.004534865478867556,0.0027034084971250816,0.0012336894668658616,0.0001673197166603413,-0.0006332377212455165,-0.0011869546494528982,-0.0015261952117449074,-0.0016588024876615926,-0.001631587935252421,-0.0013775329389234536,-0.0009510759588147177,-0.00028576015803249977,0.0006498237411513008,0.001883326069717306,0.003482044609211421,0.005534319117162956,0.00815789910625131,0.011495625190113046,0.015653952846916508,0.020936182392923774,0.027607666481059445,0.03579987484335401,0.046095690295973824,0.05929440634551153,0.07574043732532043,0.09636424367746194,0.12196432808539309,0.15448406847809826,0.195661142341644,0.24687070625924587,0.3081783910865814,0.38987973499474,0.4901951456576741,0.6131607459536548,0.7656947985124078,3.364456085587386,2.5886979833954658,1.9748706592596565,1.4853159015738298,1.0974391256842135,0.7886454112156035,0.543871901827939,0.35182113733361725,0.19366443693772792,0.07316730386832698,-0.024732716266148362,-0.10229703398244691,-0.1636671567252323,-0.21260966345861126,-0.2513840488554938,-0.28224941228038747,-0.30671315427121104,-0.3259044950865499,-0.3417039419029366,-0.3537346487359515,-0.36350228652019745,-0.37123120688911726,-0.3773340526988961,-0.38218407895785483,-0.38600618097754563,-0.38902242050974634,-0.3913785384621182,-0.3931829796056966,-0.3946149752380037,-0.3956312663959023,-0.3963721084376921,-0.3968494717515133,-0.3970807298974462,-0.3970859981481874,-0.39689520280482093,-0.3964467620328455,-0.3957839087254221,-0.3948286587983865,-0.39353312662833656,-0.39189354639081747,-0.38976519799881904,-0.3870968031480758,-0.3837327208606587,-0.3795992946555583,-0.3743355570066521,-0.3678778826749223,-0.3599609190074445,-0.3501443164133096,-0.33787154596982794,-0.3227946504074471,-0.3042726824686881,-0.2813998755809941,-0.2536165721261664,-0.21800741367447118,-0.17559399441513485,-0.12316427236131944,-0.060191320276477334,0.017344233844968304,0.1122425610062388,0.21405967801265863,0.3553134219964438,3.2849413288880025,2.509183235919944,1.89535581656779,1.4058011923114542,1.0179244427757312,0.7091307678379617,0.464357418233682,0.27230683987663856,0.11415031244108081,-0.006346501061550443,-0.10424638942655841,-0.18180962320993144,-0.24317948241378204,-0.2921207866217149,-0.33089383772368386,-0.36175906937911023,-0.3862224160615317,-0.405412422581957,-0.4212104033339628,-0.4332405830891081,-0.4430075620260172,-0.4507356917781327,-0.4568362809067263,-0.4616849894710113,-0.4655040275924728,-0.4685141725286945,-0.47086658433574,-0.47266278937138184,-0.4740867958344475,-0.47509246243375697,-0.47582029146630517,-0.4762715457604444,-0.4764925092876817,-0.4764551133016694,-0.476217700637528,-0.4757200071554299,-0.47499867727516704,-0.47396353565571675,-0.4725881117932521,-0.47080192511764174,-0.468526970287552,-0.46566666937261636,-0.46203572810249294,-0.45760908902120995,-0.45203896154938306,-0.44504756925224065,-0.43654251980842607,-0.4258462785857434,-0.41279928508761926,-0.3965198640790885,-0.37634237443316765,-0.3517316641099396,-0.32165038536068913,-0.28470693199546254,-0.2389494753324396,-0.18291217694017464,-0.11779771289779595,-0.03665458243790082,0.05811197525598821,0.17811534366175352,0.31376836905665023,3.364457195400106,2.588699111787681,1.974871700341694,1.4853169821867072,1.0974402721818246,0.7886466235979483,0.5438732196258578,0.3518225869010035,0.193666044628475,0.0731693233644709,-0.02473040687717621,-0.10229344300634818,-0.16366209968475262,-0.2126031403537507,-0.2513759279167849,-0.28223969350783035,-0.30670170589533824,-0.32589011458191525,-0.34168756825605157,-0.3537168256249252,-0.36348181141958386,-0.3712066137345354,-0.3773058851684552,-0.38215126629557616,-0.385965000437863,-0.3889714392287583,-0.3913147911105836,-0.39310168928231015,-0.39451589500407047,-0.3955074778381594,-0.3962081270950469,-0.3966450506852706,-0.396829527572932,-0.39675490413125847,-0.3964575311972067,-0.3959039965316169,-0.3950920673991517,-0.3939449114079236,-0.3924467656138935,-0.3905007955534537,-0.3880232270993838,-0.3849150129343667,-0.38101474329458657,-0.376174638792506,-0.37007079335526655,-0.36265275869058844,-0.3533207784051787,-0.34185031412785366,-0.32757610131407483,-0.3104153816530248,-0.28901067269144937,-0.262612671193678,-0.231197097530896,-0.19064606782721993,-0.14436153329467089,-0.08578741454272476,-0.013589567290828386,0.07262720388842925,0.173801697215212,0.2952711300018902,0.43916026333330604],\"type\":\"scatter3d\"}],                        {\"template\":{\"data\":{\"histogram2dcontour\":[{\"type\":\"histogram2dcontour\",\"colorbar\":{\"outlinewidth\":0,\"ticks\":\"\"},\"colorscale\":[[0.0,\"#0d0887\"],[0.1111111111111111,\"#46039f\"],[0.2222222222222222,\"#7201a8\"],[0.3333333333333333,\"#9c179e\"],[0.4444444444444444,\"#bd3786\"],[0.5555555555555556,\"#d8576b\"],[0.6666666666666666,\"#ed7953\"],[0.7777777777777778,\"#fb9f3a\"],[0.8888888888888888,\"#fdca26\"],[1.0,\"#f0f921\"]]}],\"choropleth\":[{\"type\":\"choropleth\",\"colorbar\":{\"outlinewidth\":0,\"ticks\":\"\"}}],\"histogram2d\":[{\"type\":\"histogram2d\",\"colorbar\":{\"outlinewidth\":0,\"ticks\":\"\"},\"colorscale\":[[0.0,\"#0d0887\"],[0.1111111111111111,\"#46039f\"],[0.2222222222222222,\"#7201a8\"],[0.3333333333333333,\"#9c179e\"],[0.4444444444444444,\"#bd3786\"],[0.5555555555555556,\"#d8576b\"],[0.6666666666666666,\"#ed7953\"],[0.7777777777777778,\"#fb9f3a\"],[0.8888888888888888,\"#fdca26\"],[1.0,\"#f0f921\"]]}],\"heatmap\":[{\"type\":\"heatmap\",\"colorbar\":{\"outlinewidth\":0,\"ticks\":\"\"},\"colorscale\":[[0.0,\"#0d0887\"],[0.1111111111111111,\"#46039f\"],[0.2222222222222222,\"#7201a8\"],[0.3333333333333333,\"#9c179e\"],[0.4444444444444444,\"#bd3786\"],[0.5555555555555556,\"#d8576b\"],[0.6666666666666666,\"#ed7953\"],[0.7777777777777778,\"#fb9f3a\"],[0.8888888888888888,\"#fdca26\"],[1.0,\"#f0f921\"]]}],\"heatmapgl\":[{\"type\":\"heatmapgl\",\"colorbar\":{\"outlinewidth\":0,\"ticks\":\"\"},\"colorscale\":[[0.0,\"#0d0887\"],[0.1111111111111111,\"#46039f\"],[0.2222222222222222,\"#7201a8\"],[0.3333333333333333,\"#9c179e\"],[0.4444444444444444,\"#bd3786\"],[0.5555555555555556,\"#d8576b\"],[0.6666666666666666,\"#ed7953\"],[0.7777777777777778,\"#fb9f3a\"],[0.8888888888888888,\"#fdca26\"],[1.0,\"#f0f921\"]]}],\"contourcarpet\":[{\"type\":\"contourcarpet\",\"colorbar\":{\"outlinewidth\":0,\"ticks\":\"\"}}],\"contour\":[{\"type\":\"contour\",\"colorbar\":{\"outlinewidth\":0,\"ticks\":\"\"},\"colorscale\":[[0.0,\"#0d0887\"],[0.1111111111111111,\"#46039f\"],[0.2222222222222222,\"#7201a8\"],[0.3333333333333333,\"#9c179e\"],[0.4444444444444444,\"#bd3786\"],[0.5555555555555556,\"#d8576b\"],[0.6666666666666666,\"#ed7953\"],[0.7777777777777778,\"#fb9f3a\"],[0.8888888888888888,\"#fdca26\"],[1.0,\"#f0f921\"]]}],\"surface\":[{\"type\":\"surface\",\"colorbar\":{\"outlinewidth\":0,\"ticks\":\"\"},\"colorscale\":[[0.0,\"#0d0887\"],[0.1111111111111111,\"#46039f\"],[0.2222222222222222,\"#7201a8\"],[0.3333333333333333,\"#9c179e\"],[0.4444444444444444,\"#bd3786\"],[0.5555555555555556,\"#d8576b\"],[0.6666666666666666,\"#ed7953\"],[0.7777777777777778,\"#fb9f3a\"],[0.8888888888888888,\"#fdca26\"],[1.0,\"#f0f921\"]]}],\"mesh3d\":[{\"type\":\"mesh3d\",\"colorbar\":{\"outlinewidth\":0,\"ticks\":\"\"}}],\"scatter\":[{\"fillpattern\":{\"fillmode\":\"overlay\",\"size\":10,\"solidity\":0.2},\"type\":\"scatter\"}],\"parcoords\":[{\"type\":\"parcoords\",\"line\":{\"colorbar\":{\"outlinewidth\":0,\"ticks\":\"\"}}}],\"scatterpolargl\":[{\"type\":\"scatterpolargl\",\"marker\":{\"colorbar\":{\"outlinewidth\":0,\"ticks\":\"\"}}}],\"bar\":[{\"error_x\":{\"color\":\"#2a3f5f\"},\"error_y\":{\"color\":\"#2a3f5f\"},\"marker\":{\"line\":{\"color\":\"#E5ECF6\",\"width\":0.5},\"pattern\":{\"fillmode\":\"overlay\",\"size\":10,\"solidity\":0.2}},\"type\":\"bar\"}],\"scattergeo\":[{\"type\":\"scattergeo\",\"marker\":{\"colorbar\":{\"outlinewidth\":0,\"ticks\":\"\"}}}],\"scatterpolar\":[{\"type\":\"scatterpolar\",\"marker\":{\"colorbar\":{\"outlinewidth\":0,\"ticks\":\"\"}}}],\"histogram\":[{\"marker\":{\"pattern\":{\"fillmode\":\"overlay\",\"size\":10,\"solidity\":0.2}},\"type\":\"histogram\"}],\"scattergl\":[{\"type\":\"scattergl\",\"marker\":{\"colorbar\":{\"outlinewidth\":0,\"ticks\":\"\"}}}],\"scatter3d\":[{\"type\":\"scatter3d\",\"line\":{\"colorbar\":{\"outlinewidth\":0,\"ticks\":\"\"}},\"marker\":{\"colorbar\":{\"outlinewidth\":0,\"ticks\":\"\"}}}],\"scattermapbox\":[{\"type\":\"scattermapbox\",\"marker\":{\"colorbar\":{\"outlinewidth\":0,\"ticks\":\"\"}}}],\"scatterternary\":[{\"type\":\"scatterternary\",\"marker\":{\"colorbar\":{\"outlinewidth\":0,\"ticks\":\"\"}}}],\"scattercarpet\":[{\"type\":\"scattercarpet\",\"marker\":{\"colorbar\":{\"outlinewidth\":0,\"ticks\":\"\"}}}],\"carpet\":[{\"aaxis\":{\"endlinecolor\":\"#2a3f5f\",\"gridcolor\":\"white\",\"linecolor\":\"white\",\"minorgridcolor\":\"white\",\"startlinecolor\":\"#2a3f5f\"},\"baxis\":{\"endlinecolor\":\"#2a3f5f\",\"gridcolor\":\"white\",\"linecolor\":\"white\",\"minorgridcolor\":\"white\",\"startlinecolor\":\"#2a3f5f\"},\"type\":\"carpet\"}],\"table\":[{\"cells\":{\"fill\":{\"color\":\"#EBF0F8\"},\"line\":{\"color\":\"white\"}},\"header\":{\"fill\":{\"color\":\"#C8D4E3\"},\"line\":{\"color\":\"white\"}},\"type\":\"table\"}],\"barpolar\":[{\"marker\":{\"line\":{\"color\":\"#E5ECF6\",\"width\":0.5},\"pattern\":{\"fillmode\":\"overlay\",\"size\":10,\"solidity\":0.2}},\"type\":\"barpolar\"}],\"pie\":[{\"automargin\":true,\"type\":\"pie\"}]},\"layout\":{\"autotypenumbers\":\"strict\",\"colorway\":[\"#636efa\",\"#EF553B\",\"#00cc96\",\"#ab63fa\",\"#FFA15A\",\"#19d3f3\",\"#FF6692\",\"#B6E880\",\"#FF97FF\",\"#FECB52\"],\"font\":{\"color\":\"#2a3f5f\"},\"hovermode\":\"closest\",\"hoverlabel\":{\"align\":\"left\"},\"paper_bgcolor\":\"white\",\"plot_bgcolor\":\"#E5ECF6\",\"polar\":{\"bgcolor\":\"#E5ECF6\",\"angularaxis\":{\"gridcolor\":\"white\",\"linecolor\":\"white\",\"ticks\":\"\"},\"radialaxis\":{\"gridcolor\":\"white\",\"linecolor\":\"white\",\"ticks\":\"\"}},\"ternary\":{\"bgcolor\":\"#E5ECF6\",\"aaxis\":{\"gridcolor\":\"white\",\"linecolor\":\"white\",\"ticks\":\"\"},\"baxis\":{\"gridcolor\":\"white\",\"linecolor\":\"white\",\"ticks\":\"\"},\"caxis\":{\"gridcolor\":\"white\",\"linecolor\":\"white\",\"ticks\":\"\"}},\"coloraxis\":{\"colorbar\":{\"outlinewidth\":0,\"ticks\":\"\"}},\"colorscale\":{\"sequential\":[[0.0,\"#0d0887\"],[0.1111111111111111,\"#46039f\"],[0.2222222222222222,\"#7201a8\"],[0.3333333333333333,\"#9c179e\"],[0.4444444444444444,\"#bd3786\"],[0.5555555555555556,\"#d8576b\"],[0.6666666666666666,\"#ed7953\"],[0.7777777777777778,\"#fb9f3a\"],[0.8888888888888888,\"#fdca26\"],[1.0,\"#f0f921\"]],\"sequentialminus\":[[0.0,\"#0d0887\"],[0.1111111111111111,\"#46039f\"],[0.2222222222222222,\"#7201a8\"],[0.3333333333333333,\"#9c179e\"],[0.4444444444444444,\"#bd3786\"],[0.5555555555555556,\"#d8576b\"],[0.6666666666666666,\"#ed7953\"],[0.7777777777777778,\"#fb9f3a\"],[0.8888888888888888,\"#fdca26\"],[1.0,\"#f0f921\"]],\"diverging\":[[0,\"#8e0152\"],[0.1,\"#c51b7d\"],[0.2,\"#de77ae\"],[0.3,\"#f1b6da\"],[0.4,\"#fde0ef\"],[0.5,\"#f7f7f7\"],[0.6,\"#e6f5d0\"],[0.7,\"#b8e186\"],[0.8,\"#7fbc41\"],[0.9,\"#4d9221\"],[1,\"#276419\"]]},\"xaxis\":{\"gridcolor\":\"white\",\"linecolor\":\"white\",\"ticks\":\"\",\"title\":{\"standoff\":15},\"zerolinecolor\":\"white\",\"automargin\":true,\"zerolinewidth\":2},\"yaxis\":{\"gridcolor\":\"white\",\"linecolor\":\"white\",\"ticks\":\"\",\"title\":{\"standoff\":15},\"zerolinecolor\":\"white\",\"automargin\":true,\"zerolinewidth\":2},\"scene\":{\"xaxis\":{\"backgroundcolor\":\"#E5ECF6\",\"gridcolor\":\"white\",\"linecolor\":\"white\",\"showbackground\":true,\"ticks\":\"\",\"zerolinecolor\":\"white\",\"gridwidth\":2},\"yaxis\":{\"backgroundcolor\":\"#E5ECF6\",\"gridcolor\":\"white\",\"linecolor\":\"white\",\"showbackground\":true,\"ticks\":\"\",\"zerolinecolor\":\"white\",\"gridwidth\":2},\"zaxis\":{\"backgroundcolor\":\"#E5ECF6\",\"gridcolor\":\"white\",\"linecolor\":\"white\",\"showbackground\":true,\"ticks\":\"\",\"zerolinecolor\":\"white\",\"gridwidth\":2}},\"shapedefaults\":{\"line\":{\"color\":\"#2a3f5f\"}},\"annotationdefaults\":{\"arrowcolor\":\"#2a3f5f\",\"arrowhead\":0,\"arrowwidth\":1},\"geo\":{\"bgcolor\":\"white\",\"landcolor\":\"#E5ECF6\",\"subunitcolor\":\"white\",\"showland\":true,\"showlakes\":true,\"lakecolor\":\"white\"},\"title\":{\"x\":0.05},\"mapbox\":{\"style\":\"light\"}}},\"scene\":{\"domain\":{\"x\":[0.0,1.0],\"y\":[0.0,1.0]},\"xaxis\":{\"title\":{\"text\":\"PC1\"}},\"yaxis\":{\"title\":{\"text\":\"PC2\"}},\"zaxis\":{\"title\":{\"text\":\"PC3\"}}},\"legend\":{\"title\":{\"text\":\"Sensor\"},\"tracegroupgap\":0},\"margin\":{\"t\":60}},                        {\"responsive\": true}                    ).then(function(){\n",
       "                            \n",
       "var gd = document.getElementById('f56294c5-53d1-4216-ae73-97f2b69b51f4');\n",
       "var x = new MutationObserver(function (mutations, observer) {{\n",
       "        var display = window.getComputedStyle(gd).display;\n",
       "        if (!display || display === 'none') {{\n",
       "            console.log([gd, 'removed!']);\n",
       "            Plotly.purge(gd);\n",
       "            observer.disconnect();\n",
       "        }}\n",
       "}});\n",
       "\n",
       "// Listen for the removal of the full notebook cells\n",
       "var notebookContainer = gd.closest('#notebook-container');\n",
       "if (notebookContainer) {{\n",
       "    x.observe(notebookContainer, {childList: true});\n",
       "}}\n",
       "\n",
       "// Listen for the clearing of the current output cell\n",
       "var outputEl = gd.closest('.output');\n",
       "if (outputEl) {{\n",
       "    x.observe(outputEl, {childList: true});\n",
       "}}\n",
       "\n",
       "                        })                };                });            </script>        </div>"
      ]
     },
     "metadata": {},
     "output_type": "display_data"
    }
   ],
   "source": [
    "# 4. Scores plot\n",
    "# check API documentation for plotly.express https://plotly.com/python/3d-scatter-plots\n",
    "\n",
    "import plotly.express as px\n",
    "\n",
    "fig = px.scatter_3d(df_scores, x='PC1', y='PC2', z='PC3', color='Sensor')\n",
    "fig.show()"
   ]
  },
  {
   "cell_type": "code",
   "execution_count": 62,
   "id": "f4272d1d",
   "metadata": {},
   "outputs": [
    {
     "data": {
      "application/vnd.plotly.v1+json": {
       "config": {
        "plotlyServerURL": "https://plot.ly"
       },
       "data": [
        {
         "hovertemplate": "Sensor=HCV<br>PC1=%{x}<br>PC2=%{y}<br>PC3=%{z}<extra></extra>",
         "legendgroup": "HCV",
         "marker": {
          "color": "#636efa",
          "opacity": 0.5,
          "symbol": "circle"
         },
         "mode": "markers",
         "name": "HCV",
         "scene": "scene",
         "showlegend": true,
         "type": "scatter3d",
         "x": [
          -1.71764270923546,
          -1.5030881350070286,
          -1.3333188450290245,
          -1.1979180158046003,
          -1.0906364508305164,
          -1.0052249952180654,
          -0.9375166457562906,
          -0.884385769940309,
          -0.8406242851548147,
          -0.8072718946121196,
          -0.7801607102820054,
          -0.7586644450233312,
          -0.7416351828839991,
          -0.7280285136906061,
          -0.7172213263976853,
          -0.7085823057714973,
          -0.7017064290861084,
          -0.6962744469189843,
          -0.6917745050855751,
          -0.6883211465540018,
          -0.6854977791574189,
          -0.6832381309315159,
          -0.6814308503454906,
          -0.6799610117639826,
          -0.6787693376770462,
          -0.6777685727572759,
          -0.6769183775334258,
          -0.6761818328840562,
          -0.6754713206922843,
          -0.6748036783924425,
          -0.6741030224172573,
          -0.6733353021637984,
          -0.6724807471476747,
          -0.6714561389000495,
          -0.6701943461158112,
          -0.6687401487596837,
          -0.6669116604298622,
          -0.6645930539609152,
          -0.6617182395281481,
          -0.6581146734651888,
          -0.6537004593980121,
          -0.6482783362618111,
          -0.6415748594658868,
          -0.6333677174148087,
          -0.6234521698314202,
          -0.6112148103296574,
          -0.5963054995991168,
          -0.5783249346005237,
          -0.5563347243160757,
          -0.5296768807908099,
          -0.4964132168771682,
          -0.45681553371747124,
          -0.40910651194751113,
          -0.3513196856536764,
          -0.2828875214545195,
          -0.20229670114755516,
          -0.10731687222029523,
          0.002223543832742758,
          0.13031450503707537,
          0.2800396948255758,
          0.45349749116688104,
          -1.961868131535556,
          -1.747306160399162,
          -1.5774622532651636,
          -1.44205971697426,
          -1.3347776815849115,
          -1.2492968093269887,
          -1.1815901785816014,
          -1.128462760420085,
          -1.0847088551695512,
          -1.0512973505059673,
          -1.02420334878996,
          -1.0026609377421816,
          -0.985592352720849,
          -0.9719634904304529,
          -0.961146246952334,
          -0.9525161123501527,
          -0.9455876848552016,
          -0.9401853829182143,
          -0.9357204133566288,
          -0.9322912495032304,
          -0.9294794076215314,
          -0.9272205073168631,
          -0.925392419464775,
          -0.9239609405672028,
          -0.9227180180028989,
          -0.9217334857555628,
          -0.9208220123819313,
          -0.9200128401649281,
          -0.9192444372354868,
          -0.9185139774102842,
          -0.9177571026369309,
          -0.9168220002367031,
          -0.9158692161631135,
          -0.914729530828275,
          -0.9133210325640022,
          -0.9116563881842132,
          -0.909617937588715,
          -0.9069870044632785,
          -0.9037715788602032,
          -0.8997004032976663,
          -0.8945669574354067,
          -0.888098317422934,
          -0.8799585733382519,
          -0.8694696759015176,
          -0.8564211665935391,
          -0.8398252823715592,
          -0.8190235145404067,
          -0.7927486343268604,
          -0.7596139922410554,
          -0.7180729979273479,
          -0.665801235766321,
          -0.6000470624365715,
          -0.5187692094861895,
          -0.41635004626126415,
          -0.29118385273267827,
          -0.13339918486653962,
          0.06259956248815639,
          0.3052849112479424,
          0.6000457103112821,
          0.9655602093808104,
          1.4014149167810541,
          -1.282674175149324,
          -1.0681010902900567,
          -0.8983186010739307,
          -0.7628900309289885,
          -0.6555804862612808,
          -0.5701405170972358,
          -0.5023902128596714,
          -0.449211180966792,
          -0.4053967759608884,
          -0.37198772163121707,
          -0.34481866378021786,
          -0.3232620659601241,
          -0.30617815922469066,
          -0.2925254631568044,
          -0.2816753063669134,
          -0.27299901746546545,
          -0.26608510717033806,
          -0.2605976845994573,
          -0.2560211124289894,
          -0.2524309890589831,
          -0.24941714495275427,
          -0.24688665007397162,
          -0.24470281456525128,
          -0.24273047734937384,
          -0.24091414405567727,
          -0.2391190940186731,
          -0.23725884217447055,
          -0.23524126168794712,
          -0.23293654808589065,
          -0.23028024484113369,
          -0.22710606877075545,
          -0.22324817475419353,
          -0.2185474315108558,
          -0.2125763093993452,
          -0.2054873643208745,
          -0.19633647711534719,
          -0.1851383975575155,
          -0.1708122418412395,
          -0.15279324621525495,
          -0.1302145264260323,
          -0.10155381325839602,
          -0.06547362095135237,
          -0.019944412110669302,
          0.03770066194611338,
          0.11007085088893234,
          0.20034287528034694,
          0.312845798875216,
          0.45202294612106975,
          0.6177780826205411,
          0.8136083314079562,
          1.0397208757428265,
          1.2951304205757204,
          1.563956602097939,
          1.8392050700927882,
          2.1100982934002075,
          2.3575445410568934,
          2.5834354243641364,
          2.773782065836879,
          2.9342592264753695,
          3.0559808718579924,
          3.1586106612996607,
          -1.7810339550714858,
          -1.5664675241840476,
          -1.3966772838856998,
          -1.2612555190381585,
          -1.1539452177425937,
          -1.0685041136367635,
          -1.0007526744574138,
          -0.9475721293088207,
          -0.903755643576311,
          -0.8703375140656686,
          -0.8431576786210204,
          -0.8215991892312846,
          -0.8045045049022023,
          -0.7908359283559445,
          -0.7799749939724046,
          -0.7712879274773078,
          -0.7643543535645247,
          -0.7588561533999951,
          -0.7542650204965942,
          -0.7506603363936548,
          -0.7476281484152087,
          -0.7450685320705601,
          -0.7428695640047032,
          -0.7408662137533175,
          -0.7389910657036852,
          -0.73714419536511,
          -0.7352251287649718,
          -0.7331158289173625,
          -0.7307124014998554,
          -0.7279314742888621,
          -0.7245578029209092,
          -0.720502481273446,
          -0.7155105233714475,
          -0.7092992154485027,
          -0.7016014461439404,
          -0.6919323559227033,
          -0.6800062397182198,
          -0.6649313706885576,
          -0.6457154032771242,
          -0.6216599335278634,
          -0.5910535352613919,
          -0.5530069811887787,
          -0.5044336512176375,
          -0.4432341675581307,
          -0.36623180964769897,
          -0.27081732781640566,
          -0.1508844535080299,
          -0.0054122973339146285,
          0.17062775404531427,
          0.3755507935068846,
          0.6137606769291496,
          0.8691702217620435,
          1.1519853120137318,
          1.4304450950891656,
          1.69944674875451,
          1.9538874507759303,
          2.1690007404342877,
          2.35934738190703,
          2.5090469488966347,
          2.6326601639213334,
          2.7282954989982664,
          -1.454537885009328,
          -1.2399729682482654,
          -1.0701898191594201,
          -0.9347727828006527,
          -0.827472163729669,
          -0.7420374909606218,
          -0.6743027108505146,
          -0.6211426255201513,
          -0.5773493225954935,
          -0.5439635830482182,
          -0.5168187285820157,
          -0.4952959767985821,
          -0.47824213731383586,
          -0.4646210217523504,
          -0.45380244982217105,
          -0.4451634204893611,
          -0.4382733526783457,
          -0.43283189960307833,
          -0.42830244057663097,
          -0.42478534050143063,
          -0.4218551211866253,
          -0.4194404077831814,
          -0.41741396828192556,
          -0.4156627686171396,
          -0.4141116508005057,
          -0.4126854568437062,
          -0.4113209723427588,
          -0.40997296397642063,
          -0.40855777286412426,
          -0.40705915573802043,
          -0.40539555432190966,
          -0.4035537252789245,
          -0.4014074419336233,
          -0.3989973183290612,
          -0.39616529525338506,
          -0.3929372369748979,
          -0.38918228593902177,
          -0.3847517103751749,
          -0.3796724160320776,
          -0.37362211658068034,
          -0.3663564602878806,
          -0.3576971017852919,
          -0.3471871577600436,
          -0.33440591946983445,
          -0.31857545750284944,
          -0.2993247475858672,
          -0.2755470225516539,
          -0.2457031899958427,
          -0.20901542465466044,
          -0.16389578283899425,
          -0.10926608859178877,
          -0.04297076069444178,
          0.037277808689520686,
          0.13280382245759298,
          0.24387129218630194,
          0.37649373050189466,
          0.5332621941421368,
          0.7143834810187859,
          0.9276306884415095,
          1.1704127909169544,
          1.4651912295059275,
          -1.9528999339443978,
          -1.7383355653032004,
          -1.568552359467266,
          -1.4331352663614092,
          -1.325834268976497,
          -1.2403994070504858,
          -1.1726638703125216,
          -1.11950340666823,
          -1.0757093471157155,
          -1.0423228509405833,
          -1.0151817576506508,
          -0.9936508764710672,
          -0.9765955237306072,
          -0.9629657113020793,
          -0.9521452478022578,
          -0.943497332445441,
          -0.9366053730647836,
          -0.9311531423958674,
          -0.926612905775771,
          -0.9230850281069218,
          -0.9201421396288256,
          -0.9177147570620907,
          -0.9156667623735371,
          -0.913901001975818,
          -0.9123245458326024,
          -0.9108730135492209,
          -0.9094743046976848,
          -0.9080877170172701,
          -0.9066116434823646,
          -0.9050402226915955,
          -0.9033157388528756,
          -0.901359139419037,
          -0.8990910912285173,
          -0.8965731916874664,
          -0.8935445324352334,
          -0.8901009222837685,
          -0.8861304193749145,
          -0.8814842919380901,
          -0.8760306409382994,
          -0.869638097981015,
          -0.8618903090950332,
          -0.8529511724178551,
          -0.8417624596228679,
          -0.8283231292296541,
          -0.8120730000007851,
          -0.7920243088935037,
          -0.7674486026689912,
          -0.737226456184765,
          -0.7001603769151676,
          -0.6542841072426713,
          -0.597820025773747,
          -0.5288017082540003,
          -0.44569817470378725,
          -0.344915338655123,
          -0.22566129035607718,
          -0.08555171890662103,
          0.0794033233039579,
          0.2708095250603644,
          0.49524785946666394,
          0.7558020099557295,
          1.0505804485447028,
          -1.6262516232805135,
          -1.4116902028759712,
          -1.2419099826727535,
          -1.106496347221362,
          -0.9991974833921655,
          -0.9137636200800845,
          -0.8460264909409725,
          -0.7928586677847798,
          -0.7490519918980836,
          -0.7156433687114502,
          -0.6884647210376967,
          -0.6668914641483604,
          -0.6497706144260269,
          -0.6360683853533838,
          -0.6251533869045682,
          -0.616410936598757,
          -0.60943143672347,
          -0.6038986600142889,
          -0.599301500207899,
          -0.59572822486764,
          -0.5927559952935368,
          -0.5903077619276297,
          -0.5882417320278122,
          -0.5864335221105137,
          -0.5848055107935708,
          -0.5832560581136768,
          -0.5817232694122877,
          -0.5801240799753192,
          -0.5783545954803448,
          -0.5763475002791791,
          -0.5740183769746048,
          -0.5712104425670975,
          -0.5678106678356005,
          -0.5636321937081356,
          -0.558320809554277,
          -0.5521002920312138,
          -0.5442516360250111,
          -0.534344748681809,
          -0.5217862750401646,
          -0.5060097856878726,
          -0.4864229671439073,
          -0.46184889940130425,
          -0.43108155050271213,
          -0.3920835726584968,
          -0.3435715955644243,
          -0.28380914286435127,
          -0.20467303001222764,
          -0.11048496353052326,
          0.010311761840767653,
          0.1619137145724445,
          0.3492965747464266,
          0.582331786396606,
          0.8750875182497364,
          1.2433167315924982,
          1.6977486067641328,
          2.2885365110122122,
          2.9873198048382914,
          3.8765361293937177,
          5.019135626035128,
          6.383005133541873,
          8.094836326482783,
          -2.1246190615979845,
          -1.9100568074465611,
          -1.7402771731946012,
          -1.6048624599838448,
          -1.497563406997684,
          -1.4121284659262383,
          -1.3443907693162336,
          -1.291223588423057,
          -1.2474154564630675,
          -1.2140058874916129,
          -1.1868257837445664,
          -1.1652506352855878,
          -1.1481274013148433,
          -1.1344162862181935,
          -1.1234975046300935,
          -1.1147461683002755,
          -1.1077558908313396,
          -1.1022174394132322,
          -1.0976025075588287,
          -1.0940216659400015,
          -1.0910348756329653,
          -1.0885631955101183,
          -1.0864769301684416,
          -1.0846428101003576,
          -1.0829832139237028,
          -1.081426766789444,
          -1.0798351633321193,
          -1.0781771591392153,
          -1.0763628487970345,
          -1.0742780231435125,
          -1.071852253690161,
          -1.068893785165632,
          -1.0653294874083838,
          -1.0609996877095527,
          -1.0552748392938303,
          -1.0487739302034584,
          -1.0407361172330483,
          -1.0301711377868417,
          -1.01702451658584,
          -1.0007298242178384,
          -0.9801558675193663,
          -0.9544754492016965,
          -0.922581073061303,
          -0.8813290407334848,
          -0.8305137412788965,
          -0.7664244220323817,
          -0.6858894183073112,
          -0.585120430795562,
          -0.4589349085998282,
          -0.3040424953531291,
          -0.10937926871262893,
          0.14002910007822428,
          0.4438483376820237,
          0.8334259716552117,
          1.3039450918657367,
          1.923854461979889,
          2.622637755805968,
          3.567809715279275,
          4.851089753559766,
          6.026108993218667,
          8.019786027422427,
          -1.7977019934949812,
          -1.5831391557192005,
          -1.4133578775429767,
          -1.2779411803607514,
          -1.1706407108740147,
          -1.0852051099298496,
          -1.0174657900526014,
          -0.9642974213885301,
          -0.9204913921181612,
          -0.8870860065629333,
          -0.8599136230320128,
          -0.8383547596816594,
          -0.8212574358617,
          -0.8075900029638494,
          -0.7967218980289135,
          -0.7880231299219014,
          -0.7810961982694202,
          -0.7756057840135997,
          -0.7710324666913219,
          -0.7674785027746558,
          -0.7645095280487426,
          -0.7620611621189136,
          -0.7600010700912725,
          -0.7582105431911752,
          -0.7566182065695879,
          -0.755140016214186,
          -0.7537146492906295,
          -0.7522855230598228,
          -0.7507555615566728,
          -0.7491421740397155,
          -0.7473288299609274,
          -0.7452973591957501,
          -0.742947445219527,
          -0.7401818806546927,
          -0.7369244720750967,
          -0.733252112596269,
          -0.7288619424255312,
          -0.7236751743359484,
          -0.7175277961417201,
          -0.7103262708411595,
          -0.701869796336041,
          -0.6918608148374181,
          -0.6802396726572559,
          -0.6664871252994278,
          -0.6502735018241808,
          -0.631808010974207,
          -0.60924308681233,
          -0.5838994486802807,
          -0.5529787940919564,
          -0.5178229356479891,
          -0.4757656495541689,
          -0.4260502454648408,
          -0.36773082399612106,
          -0.29821626592141925,
          -0.21743171662841598,
          -0.11900295926558677,
          0.0017593992142545534,
          0.14345649918257336,
          0.3133687591799087,
          0.524658010851546,
          0.7752259595472812,
          -2.296069089873678,
          -2.0815062520978973,
          -1.9117249360902804,
          -1.7763082389080553,
          -1.6690075802643545,
          -1.583571790163225,
          -1.515832791417485,
          -1.4626644227534136,
          -1.4188573157236797,
          -1.3854522512999599,
          -1.3582793002981468,
          -1.3367191128490439,
          -1.3196217890290844,
          -1.3059524645615919,
          -1.295077365172291,
          -1.2863855915196438,
          -1.279442779388791,
          -1.2739574680176933,
          -1.2693822591257733,
          -1.2658175176154585,
          -1.262853645774268,
          -1.26039450225079,
          -1.2583357299685876,
          -1.2565306423355571,
          -1.2549288478657594,
          -1.2534304220684982,
          -1.2519791449941562,
          -1.250524108612564,
          -1.2489612425042638,
          -1.2473009614734267,
          -1.2454078192756088,
          -1.2432475892108485,
          -1.2407709836017158,
          -1.2378976431003925,
          -1.2345834874315345,
          -1.2305556869924343,
          -1.225931049252298,
          -1.2203888402024428,
          -1.213918134198748,
          -1.2062344763050052,
          -1.1972637560558987,
          -1.1865060612438896,
          -1.1740662612066939,
          -1.159614268412392,
          -1.1424420979928167,
          -1.1221787256747464,
          -1.0987251991121885,
          -1.0721718270713996,
          -1.0403625700823942,
          -1.0032975322932138,
          -0.9598413553264468,
          -0.9091053742925868,
          -0.8488767734786541,
          -0.77699993000683,
          -0.6922254747623309,
          -0.5928905052956829,
          -0.4724140589176248,
          -0.3305101922819608,
          -0.15290403248341702,
          0.05340995569846768,
          0.3036919922924197
         ],
         "y": [
          -1.0289636261342554,
          -0.8656588064036097,
          -0.7364417281383042,
          -0.6333842194282179,
          -0.5517298151528007,
          -0.48672206910543236,
          -0.4351895830625958,
          -0.3947536293378352,
          -0.3614502715680815,
          -0.3360713722995413,
          -0.31544510610071974,
          -0.2990951548209472,
          -0.28614841118159906,
          -0.27581069792375645,
          -0.2676072406616362,
          -0.261059235521657,
          -0.25585525356848793,
          -0.2517541351040481,
          -0.24836380920206694,
          -0.24576877352722984,
          -0.2436519399191133,
          -0.24196402570548034,
          -0.24061954174421327,
          -0.23953406699686072,
          -0.23866174834135787,
          -0.23794301445495156,
          -0.2373470068995114,
          -0.23684736489074562,
          -0.23638729531156602,
          -0.23597814556998062,
          -0.23557190013082394,
          -0.23515091615656383,
          -0.2347021937947046,
          -0.2341834636086412,
          -0.23356079473406785,
          -0.2328551291094321,
          -0.23197751036795386,
          -0.2308723322244525,
          -0.22950645653502308,
          -0.22779827335418965,
          -0.2257085314272306,
          -0.22314237239586274,
          -0.21997015257813432,
          -0.21608800582498736,
          -0.21139266346076604,
          -0.20560012782811302,
          -0.1985386043302638,
          -0.19001899623726562,
          -0.17959459835781136,
          -0.16695636313971798,
          -0.1511606135431344,
          -0.1323609307994765,
          -0.10969937285774384,
          -0.08223203318546984,
          -0.049700946993420425,
          -0.011418287449011744,
          0.033729879999395196,
          0.08574638298582754,
          0.14651985028462994,
          0.21742676712478998,
          0.2994960302667481,
          -0.3017504767073972,
          -0.13844234516978265,
          -0.00918887274136727,
          0.09386936172563487,
          0.17552390464131018,
          0.2405656060392346,
          0.29209716059052154,
          0.3325313173062572,
          0.3658309044400566,
          0.3912387007063034,
          0.41185648087133836,
          0.4282289840136903,
          0.4411948527692983,
          0.4515434546152829,
          0.4597518833232264,
          0.466295599188947,
          0.4715254700401366,
          0.47561209655221004,
          0.4789852747033308,
          0.48156831162565295,
          0.4836791552036868,
          0.48536622838558247,
          0.48672016931180323,
          0.48778595452073414,
          0.4886823174121404,
          0.48939166910299076,
          0.4900160288609426,
          0.49054918141674025,
          0.4910350614108703,
          0.49147175970792895,
          0.491901301812999,
          0.4923996142241885,
          0.4928897248424806,
          0.49345674911619464,
          0.4941398323312049,
          0.4949351335690507,
          0.49589740715653835,
          0.49713201122178063,
          0.4986344055876629,
          0.5005325692232949,
          0.5029241491980706,
          0.5059383928337413,
          0.5097308289966069,
          0.5146199744721588,
          0.5207091913978,
          0.5284626456421061,
          0.5381897811174607,
          0.5504917078832025,
          0.5660213714496991,
          0.5855167467950121,
          0.6100770089885756,
          0.6409903897974559,
          0.6792849068550502,
          0.7275388770760264,
          0.7866073990229496,
          0.8611274226223931,
          0.9538426197208383,
          1.0687040064288298,
          1.2082861215551288,
          1.3816796016722284,
          1.5885461965590946,
          -0.9585011660831955,
          -0.7951874822258486,
          -0.6659641793724717,
          -0.5628933607916419,
          -0.4812255631773511,
          -0.41620420620602194,
          -0.3646515491730758,
          -0.32419243056346553,
          -0.2908635922615326,
          -0.26545741077870105,
          -0.24480326242796252,
          -0.22842431135496027,
          -0.21545147883424998,
          -0.20509204446477303,
          -0.19686865655772096,
          -0.1903039634242849,
          -0.18508344673012705,
          -0.18095813263415206,
          -0.17753423076191616,
          -0.17487728560666194,
          -0.1726736292119634,
          -0.17086111108280722,
          -0.1693422246322115,
          -0.16802310120294556,
          -0.16685960712111836,
          -0.16576984627624636,
          -0.16470148582038124,
          -0.16360156959959182,
          -0.16239438122070798,
          -0.16105181424549647,
          -0.15948376404324244,
          -0.15760993072600665,
          -0.1553512184945393,
          -0.15250059931135462,
          -0.14913050509835507,
          -0.1447898707020277,
          -0.13948412248163522,
          -0.13269598244142627,
          -0.12414712296562902,
          -0.11342632344525877,
          -0.09979282605734574,
          -0.08261098742471018,
          -0.06088536600500738,
          -0.03332838680020134,
          0.0013462734821113598,
          0.044682855360344054,
          0.09882444381710481,
          0.16591591379790505,
          0.24603896098425654,
          0.34090828119016026,
          0.45069333246870147,
          0.5750465342785372,
          0.7062491493880477,
          0.8408717068971907,
          0.9737652560237082,
          1.095500917901278,
          1.206938448325416,
          1.3012187707335694,
          1.3809210970218584,
          1.4417561450042968,
          1.4931622189939646,
          0.3433000904202594,
          0.5066104994777698,
          0.6358375757709535,
          0.7389050507740199,
          0.8205731922779452,
          0.8855950650837264,
          0.9371482379511247,
          0.9776080443400043,
          1.0109378283384325,
          1.0363483850679316,
          1.0570076824170156,
          1.0733874932141045,
          1.0863654747331601,
          1.096732627927068,
          1.1049611648324658,
          1.1115310069642472,
          1.1167609619310093,
          1.1208914250253297,
          1.1243221953440845,
          1.1269860089458577,
          1.1291982532352485,
          1.1310245082574424,
          1.1325502725007317,
          1.133883992547122,
          1.1350749697611997,
          1.1361887841881497,
          1.137284627776265,
          1.138427483470516,
          1.1396810408730333,
          1.1410820036629172,
          1.1427444833220877,
          1.1447110546865904,
          1.1471071358484353,
          1.150069425701144,
          1.1537312653331384,
          1.1583124355502474,
          1.1639616060965838,
          1.1711100825592293,
          1.180225518776524,
          1.191650077045275,
          1.2062104875971218,
          1.2243361534901838,
          1.2475205020048612,
          1.27679319091318,
          1.3136984607335536,
          1.3595226347583855,
          1.4172666528220403,
          1.4874447179577144,
          1.5725429494372642,
          1.671870684866875,
          1.7876551124028806,
          1.9120083142127164,
          2.050070029666391,
          2.1864026891742165,
          2.318436514214034,
          2.443601726263686,
          2.549890258342342,
          2.6441705807504956,
          2.7187239086933026,
          2.780418680762441,
          2.8283952045800267,
          -0.7953261551473458,
          -0.6320163841548946,
          -0.5027926561125617,
          -0.39972735527681713,
          -0.31806376470284636,
          -0.2530448149589599,
          -0.2014995394031323,
          -0.16104943294255286,
          -0.12773063658931982,
          -0.1023355277894748,
          -0.08169288104914851,
          -0.06533006475045211,
          -0.05237139898482296,
          -0.042026819149696526,
          -0.03381803720594351,
          -0.02727052920806683,
          -0.02206034789529876,
          -0.017955676523579378,
          -0.014552436067948316,
          -0.011928179120338167,
          -0.009761528246066575,
          -0.008000630946811249,
          -0.006552279256023696,
          -0.005332911859339207,
          -0.00428895681026209,
          -0.0033668421622966016,
          -0.0025245611027094883,
          -0.0017314729191247324,
          -0.0009333356281903127,
          -0.00012520861114040382,
          0.0007435028394504051,
          0.0016809845961607839,
          0.002750876117029233,
          0.003935406345212333,
          0.005313090297253242,
          0.0068715832755713024,
          0.008674143386092625,
          0.010791833255209216,
          0.013211515464939594,
          0.01608686724524705,
          0.019532730147259703,
          0.023635365288393828,
          0.028610295297523958,
          0.03466408590537612,
          0.042158016475363436,
          0.051280954244823096,
          0.06254858344519959,
          0.07671564293047117,
          0.09414333279201098,
          0.11560345620086526,
          0.14161123007974263,
          0.1731965016609635,
          0.21147419560406666,
          0.25704619804178214,
          0.3100826321197304,
          0.3734168964173583,
          0.44825170174738993,
          0.5347562128563619,
          0.6365385066920188,
          0.7523958962232483,
          0.8931385058319635,
          0.5064740199729947,
          0.6697835167883557,
          0.7990072706224112,
          0.9020725972498783,
          0.9837363597686664,
          1.0487553954849616,
          1.1003010149304238,
          1.1407512933358206,
          1.1740704335786882,
          1.199465886268168,
          1.220106648157826,
          1.2364734098411463,
          1.249432763386045,
          1.2597815465230215,
          1.2679911881908612,
          1.2745429854629966,
          1.2797540264998513,
          1.2838638468699162,
          1.2872722363238929,
          1.2899016422698484,
          1.2920743018665524,
          1.2938412078882395,
          1.2952998575757182,
          1.2965260934189216,
          1.297582065912863,
          1.298516198005693,
          1.2993747857844034,
          1.3001859094814592,
          1.301013221314293,
          1.3018556905639374,
          1.3027535765564278,
          1.303745977846765,
          1.3048742184514324,
          1.3061102386630705,
          1.307582305341154,
          1.3092437782863815,
          1.3111493183638125,
          1.3133699881998389,
          1.3159698386207874,
          1.3190082575923263,
          1.322685778689012,
          1.3269255958370296,
          1.3322265667668753,
          1.3385894841989507,
          1.346289187779263,
          1.3557898433763877,
          1.367435190404429,
          1.3817741947070408,
          1.3993738293859206,
          1.4211778424294548,
          1.44804440577756,
          1.4809173942538871,
          1.520567842883295,
          1.5686293067025532,
          1.6256120600220754,
          1.692549688544069,
          1.7713308131156742,
          1.8628105085178448,
          1.970080082628833,
          2.0945160206776268,
          2.2352586302863418,
          -0.6320779957357776,
          -0.4687699892326227,
          -0.3395477677623601,
          -0.23648423814391764,
          -0.15482167082729378,
          -0.08980331447871079,
          -0.038257171721856664,
          0.0021963764389220652,
          0.035521275898553195,
          0.06092703593089854,
          0.08158556793986188,
          0.0979724163244346,
          0.11096309185221437,
          0.12134654241907061,
          0.12960165600175821,
          0.13619892518874166,
          0.14145200859027218,
          0.14560044177484088,
          0.14903545463698092,
          0.15168549396101744,
          0.15387023642580855,
          0.15564411370193676,
          0.15710720220246954,
          0.1583482215862917,
          0.15942161287016043,
          0.1603929841377852,
          0.1613034918239873,
          0.16220097112287668,
          0.16314911163658447,
          0.16417606653421718,
          0.16533247725407418,
          0.1666935227242733,
          0.16831433862373346,
          0.17028530155321575,
          0.1727743284881053,
          0.17567135591635402,
          0.1793144732663905,
          0.18390863581393851,
          0.18973263848350602,
          0.1970436057807018,
          0.20611953990963244,
          0.21751057914754363,
          0.23176772544061708,
          0.24986989427140116,
          0.27238553993984155,
          0.3001391647369502,
          0.33691060057121586,
          0.3807231871680852,
          0.43690480637288254,
          0.5075131090168171,
          0.5947846294309408,
          0.7033563175418265,
          0.8399228930153164,
          1.011869650711824,
          1.2238475598199985,
          1.5003802881771302,
          1.8267488402762335,
          2.242425778489377,
          2.7782770940013193,
          3.417201758898032,
          4.219287029210149,
          0.6697195294543508,
          0.8330279399529331,
          0.9622498700516237,
          1.0653139145699004,
          1.146976567858933,
          1.2119954391073506,
          1.2635418397814306,
          1.3039950459218097,
          1.3373206322260927,
          1.3627268221204814,
          1.3833860409740966,
          1.3997737490827562,
          1.4127654581486748,
          1.42315319798979,
          1.431410031020651,
          1.438011589481893,
          1.443269821881769,
          1.447420834238598,
          1.4508644256492556,
          1.4535179038696389,
          1.455709514780949,
          1.4574945497778546,
          1.4589670858971664,
          1.4602201320720276,
          1.4613081293191956,
          1.4622829301369924,
          1.4632209209554448,
          1.4641458833865846,
          1.4651146479321984,
          1.4661776832029483,
          1.4673787715367896,
          1.4688102396127003,
          1.4705083372182162,
          1.4725480780746345,
          1.4752378037909013,
          1.4782587623340808,
          1.4819878520927874,
          1.4868911414645585,
          1.4929899754566285,
          1.5005414785746058,
          1.5100811029398713,
          1.5219875093210666,
          1.5367769368539166,
          1.5559436681642538,
          1.5795412577174757,
          1.6093215882772638,
          1.646778934145946,
          1.6936827889850476,
          1.7524389073625861,
          1.8245928441276371,
          1.9152985878012014,
          2.0317629143952347,
          2.173483161301565,
          2.355558774724112,
          2.575424649228075,
          2.86569427062297,
          3.1920628227220735,
          3.635176162311874,
          4.237973802489798,
          4.784300612740292,
          5.725259299584944,
          -0.46870061386450124,
          -0.30539188799696587,
          -0.17616911050989936,
          -0.0731040389958057,
          0.00855938337181758,
          0.07357867980919108,
          0.12512601870282683,
          0.16557999018332661,
          0.19890479619360923,
          0.22430926009750227,
          0.24496512041947452,
          0.2613453517324321,
          0.2743250340073118,
          0.28469216850887014,
          0.29292496665000245,
          0.29950163049742917,
          0.3047298192851443,
          0.3088584975080683,
          0.3122831749888185,
          0.31492543941137585,
          0.3171109574846812,
          0.31888815215688493,
          0.32035280122062093,
          0.3215910451625139,
          0.3226547364808863,
          0.3236017363964925,
          0.32447319199797914,
          0.3253049023422423,
          0.3261579591668037,
          0.3270210057174804,
          0.32796178445255864,
          0.32899021938513956,
          0.3301579231822226,
          0.33151402438075706,
          0.33309757480487,
          0.3348705314961272,
          0.33698184458388314,
          0.339468281192809,
          0.34241099316921864,
          0.34585217399704604,
          0.34988937728393815,
          0.35466054105426037,
          0.3602006458786803,
          0.3667510202983806,
          0.3744667033577136,
          0.38324528418375736,
          0.39397923021814973,
          0.40600071795655857,
          0.4206819638280176,
          0.43733791314354153,
          0.4572556652689258,
          0.4807791574020743,
          0.508338338785581,
          0.5411359677953942,
          0.5792561951684644,
          0.6256211957453235,
          0.6824625453903203,
          0.7490943578506505,
          0.8289508960217745,
          0.9282146884609541,
          1.0458569018253805,
          0.833097091792792,
          0.9964058176603274,
          1.1256286123418755,
          1.2286936838559692,
          1.310357192196001,
          1.3753765746057833,
          1.4269237424892192,
          1.467377713969719,
          1.500703034879836,
          1.5261073277735293,
          1.5467634460127275,
          1.5631442791325458,
          1.5761239614074254,
          1.5864919556330705,
          1.594728183324375,
          1.6013014176216296,
          1.6065373252337756,
          1.6106634336306143,
          1.614088970835451,
          1.6167363842563538,
          1.618919332503574,
          1.620701676174123,
          1.6221654748599472,
          1.6234105872483588,
          1.6244785771871648,
          1.62543502472155,
          1.626318507114076,
          1.6271622442493783,
          1.6280307574151505,
          1.6289161194073825,
          1.6298946699252275,
          1.6309848834917793,
          1.6322126745131844,
          1.6336202656951735,
          1.6352296078418873,
          1.6371741355034959,
          1.6393970257990285,
          1.6420550333783055,
          1.6451522153050795,
          1.6488250543275802,
          1.6531110168291323,
          1.6582425170218908,
          1.6641772537704682,
          1.671070583207377,
          1.6792494891943088,
          1.6889028389686014,
          1.7000657124288718,
          1.7126871377930273,
          1.7277973110903644,
          1.7453961530488433,
          1.7659998152086438,
          1.7900372725588687,
          1.8185393465853303,
          1.8525359162291646,
          1.8925447327405593,
          1.9394218292995513,
          1.9962585058571896,
          2.0630594592824445,
          2.146688502642859,
          2.243716077839147,
          2.3613536181162145
         ],
         "z": [
          1.8564690627772928,
          1.0807100111089258,
          0.4668812393564612,
          -0.02267523965701601,
          -0.41055435078687474,
          -0.7193510217874092,
          -0.9641284167849884,
          -1.1561838678085021,
          -1.314346391374296,
          -1.434849922522431,
          -1.5327575053902702,
          -1.610328420499528,
          -1.6717047403467986,
          -1.7206517935397823,
          -1.7594293152564784,
          -1.7902957689446586,
          -1.8147592239497217,
          -1.8339483700290908,
          -1.849747321935637,
          -1.861781388373845,
          -1.8715568991256546,
          -1.8792995401194217,
          -1.8854243592622242,
          -1.8903066047046333,
          -1.8941730331309838,
          -1.8972461182016962,
          -1.8996771683425409,
          -1.9015787629787608,
          -1.9031343832313146,
          -1.9043079852897409,
          -1.9052460674780263,
          -1.9059687045227798,
          -1.9065155742894495,
          -1.9069163458533422,
          -1.9071858719306405,
          -1.907356137333188,
          -1.9074181548498799,
          -1.9073707028222304,
          -1.9072248681419666,
          -1.9069566236222357,
          -1.9065738672088997,
          -1.9060534901930346,
          -1.9053689959992484,
          -1.9045029013348178,
          -1.9034199062339603,
          -1.902067912704928,
          -1.9003948892785647,
          -1.8983566660761055,
          -1.895843111638,
          -1.8927846652491755,
          -1.888901967297984,
          -1.8842842036111307,
          -1.878691283340075,
          -1.8718699010312951,
          -1.863780751794043,
          -1.8543186460038812,
          -1.843094962742495,
          -1.830272918417391,
          -1.8153997050587791,
          -1.7983188216715293,
          -1.7787091920949891,
          2.3326892347260104,
          1.556930581634471,
          0.9431127845914837,
          0.45355630779227596,
          0.0656770543785603,
          -0.2431091792412171,
          -0.4878870440743812,
          -0.6799432611240748,
          -0.8381070712570671,
          -0.9586017579814665,
          -1.0565121132979278,
          -1.1340761376981054,
          -1.1954468006957069,
          -1.2443904406465054,
          -1.283166328215316,
          -1.3140339844289421,
          -1.3384891105712162,
          -1.3576826582670214,
          -1.3734869639534615,
          -1.3855250498766498,
          -1.3953031140490586,
          -1.4030469741685117,
          -1.4091703438471728,
          -1.4140605130903148,
          -1.4179216209372512,
          -1.4210005048969787,
          -1.4234261192891813,
          -1.425321487559955,
          -1.4268742420847054,
          -1.4280458022326128,
          -1.428985219748262,
          -1.4296932791504051,
          -1.4302408917980605,
          -1.4306429831215275,
          -1.4309168772888405,
          -1.4310864869414017,
          -1.4311589692089879,
          -1.4311189356666931,
          -1.4309919699125577,
          -1.4307436671398348,
          -1.4303691592238397,
          -1.4298400666769526,
          -1.429131376620853,
          -1.4281763530526952,
          -1.426945132787789,
          -1.425336199121866,
          -1.4232818742520823,
          -1.4206366814876823,
          -1.4172534279158517,
          -1.412942300276903,
          -1.407443714703799,
          -1.4004786912285478,
          -1.3916720494872852,
          -1.3805744898493877,
          -1.36678262974232,
          -1.3492589331261435,
          -1.3271469458508223,
          -1.2996231700974374,
          -1.266020646700447,
          -1.2236377541851797,
          -1.1728535578371126,
          3.9138929606338144,
          3.1381362487646425,
          2.5243089216511145,
          2.034756008944321,
          1.6468804224032043,
          1.3380872548295064,
          1.0933153499157862,
          0.9012662294262488,
          0.7431107183788588,
          0.6226146939362529,
          0.5247148187481918,
          0.4471517826190197,
          0.3857821869541039,
          0.33684020729859443,
          0.2980666125185163,
          0.26720217147989417,
          0.24273961541427705,
          0.22355199734450434,
          0.20775546605663964,
          0.19573034334197403,
          0.18596868498447938,
          0.17824841263213792,
          0.17215741050663402,
          0.16732242359964689,
          0.16351643168790647,
          0.1605220181514726,
          0.15819225615747778,
          0.15642191320282278,
          0.15502986341672298,
          0.15406364878623086,
          0.15338540240369897,
          0.15299064917283872,
          0.15285583793639224,
          0.15299454073439467,
          0.1533614298058678,
          0.1540459245758602,
          0.15503164405187886,
          0.1564407202519122,
          0.15833998453198755,
          0.16083450952854972,
          0.16412585252648354,
          0.16836906802899504,
          0.17387053286302673,
          0.18098723883796874,
          0.19013205190391724,
          0.2017573688511829,
          0.21657168169490726,
          0.2351751234108289,
          0.2578508270880794,
          0.2851345472984888,
          0.3172142350385237,
          0.3542544278154614,
          0.3939814299636935,
          0.43532410892200624,
          0.4769479438274011,
          0.5157722102614871,
          0.5519285270586676,
          0.5832752692866725,
          0.6102075570564235,
          0.6315229025800151,
          0.6497579755841507,
          4.582693331406949,
          3.8069355725003016,
          3.193109368850539,
          2.7035553985647143,
          2.315679864731384,
          2.0068867762193667,
          1.762114950367327,
          1.5700659352933637,
          1.4119105691923877,
          1.2914157604521748,
          1.1935172195590271,
          1.1159543151993223,
          1.0545860538293201,
          1.0056463474552355,
          0.9668740869700709,
          0.9360109802263624,
          0.911550960981105,
          0.8923646772062457,
          0.8765697437522293,
          0.864546218871412,
          0.8547864218867005,
          0.8470693452020557,
          0.8409793972322908,
          0.8361477377624675,
          0.832347593508011,
          0.8293579568728826,
          0.8270340425361715,
          0.8252730064454317,
          0.823891334279226,
          0.8229378857192806,
          0.8222822891497992,
          0.8219082911587271,
          0.8218054365992465,
          0.821966706209101,
          0.8224110175860384,
          0.8231432813690825,
          0.8242088925375158,
          0.8257168061625888,
          0.8277519693209677,
          0.8304252234349843,
          0.8339513027362613,
          0.8384482002747409,
          0.8443367766360939,
          0.8519344927894957,
          0.8616937455252573,
          0.8740274007934749,
          0.8898844556985196,
          0.9094515777953328,
          0.9335439581144869,
          0.9622196610972951,
          0.9963090913274851,
          1.0333492841044227,
          1.0752177982101916,
          1.1173676942125097,
          1.1588597596505228,
          1.1987547820633773,
          1.2335768039470265,
          1.2649235461750312,
          1.2905215390312508,
          1.3119686540222242,
          1.3291329710475914,
          3.5182757933960453,
          2.7425180457156144,
          2.128691056325875,
          1.639136698295486,
          1.2512601398771135,
          0.9424666033489071,
          0.6976928584362253,
          0.5056414844823057,
          0.34748345311155077,
          0.22698469585440806,
          0.12908196759926546,
          0.05151482316977899,
          -0.009858034047567136,
          -0.05880338067108079,
          -0.09757975921021375,
          -0.12844737931629263,
          -0.15291042925929987,
          -0.17210066611818053,
          -0.1878987288389346,
          -0.19992777143714224,
          -0.20969292116929739,
          -0.21741892497724474,
          -0.2235185574866369,
          -0.22836719861751262,
          -0.23218933177278211,
          -0.23520944035535532,
          -0.2375754887535993,
          -0.23939831018920182,
          -0.24086341212585086,
          -0.24192952874265936,
          -0.24274276305521114,
          -0.24332463925425662,
          -0.24370216770368505,
          -0.24392239651315878,
          -0.2439862585711365,
          -0.2439244209947874,
          -0.24373728643812168,
          -0.2434201740360209,
          -0.24299998508119944,
          -0.2424329249017966,
          -0.24171148998377964,
          -0.2408138893128984,
          -0.2396950125859307,
          -0.23829438026860528,
          -0.2365425983360175,
          -0.234369442751277,
          -0.23167017425827466,
          -0.22821035628901787,
          -0.2239202182361566,
          -0.2185720553747535,
          -0.21203394454323746,
          -0.2040392527083694,
          -0.19425399037047084,
          -0.18258629548481997,
          -0.16890130448555954,
          -0.15254693283610068,
          -0.13328448610416357,
          -0.11092461993823258,
          -0.08475098743375556,
          -0.055002395997746284,
          -0.0187138735119943,
          4.187075889404029,
          3.411318045189557,
          2.797491059752902,
          2.307936705675597,
          1.9200601736111178,
          1.611266650259858,
          1.3664929580549634,
          1.1744416104549371,
          1.0162836317919692,
          0.8957849272426135,
          0.7978815285199662,
          0.7203155339081388,
          0.6589427821063667,
          0.6099986248313525,
          0.5712223780616869,
          0.5403559604810542,
          0.5158930423075143,
          0.4967041397435471,
          0.48090741131770665,
          0.46887970301441245,
          0.45911601934663826,
          0.4513914816030718,
          0.4452945176835067,
          0.44044747438647924,
          0.4366282733599716,
          0.4336110969061603,
          0.4312491831621243,
          0.4294302162415552,
          0.4279728565354527,
          0.4269147290878857,
          0.4261092370058802,
          0.42554177451194886,
          0.4251797305236133,
          0.42497284466327484,
          0.42493435080889397,
          0.4250228742835137,
          0.42523669473845005,
          0.4255804930388214,
          0.42605010070616267,
          0.4266585074276453,
          0.4274427040073174,
          0.4283831349173493,
          0.429590141509569,
          0.4310599579595215,
          0.4328759852508353,
          0.4351397400877783,
          0.437929607832983,
          0.441415779695716,
          0.4457322716420536,
          0.45113314229040935,
          0.4578573904002311,
          0.46615847205801997,
          0.4763176689765016,
          0.4885849665612558,
          0.5033654074087892,
          0.5207081533086442,
          0.5410660498888544,
          0.5648425926966889,
          0.5927294347671952,
          0.6248830770955043,
          0.6611715995812563,
          3.1226806852882176,
          2.3469222855880076,
          1.733094683709329,
          1.2435395636058444,
          0.8556623577538127,
          0.5468682396766806,
          0.30209419159097894,
          0.11004318161149607,
          -0.04811385982822952,
          -0.16861043946586743,
          -0.2665095882618341,
          -0.3440707053303641,
          -0.4054352767422996,
          -0.4543703047840669,
          -0.4931341309908689,
          -0.523988128008638,
          -0.5484396963752929,
          -0.567618319888354,
          -0.583409332426378,
          -0.5954338782624549,
          -0.605198435548232,
          -0.6129273559171518,
          -0.6190318161610187,
          -0.623886405583067,
          -0.6277160194948488,
          -0.6307432965267308,
          -0.6331168765146566,
          -0.6349449572909664,
          -0.6364110531770977,
          -0.6374703405765442,
          -0.6382716408954359,
          -0.6388223945593027,
          -0.6391563664078,
          -0.6392936717136248,
          -0.6392209956625186,
          -0.6390008811123187,
          -0.6385752541441958,
          -0.6379058295814983,
          -0.6369529599736613,
          -0.6356733486560152,
          -0.6340235823535403,
          -0.6318889674152304,
          -0.6291838770077696,
          -0.6256476873598567,
          -0.6212283108042476,
          -0.6157253932116349,
          -0.6083703679170871,
          -0.5994946183483801,
          -0.5881199532872035,
          -0.5736035425638504,
          -0.5556586597038354,
          -0.5332477686672201,
          -0.5046910681180279,
          -0.46836640692090514,
          -0.4240517661997769,
          -0.3642273861832276,
          -0.2951287025406659,
          -0.20634500787333737,
          -0.0882396866635499,
          0.051115128306888316,
          0.22637993021412817,
          3.7914799390542897,
          3.01572165578531,
          2.4018939547372016,
          1.9123389680632081,
          1.524461775388123,
          1.2156677907404825,
          0.970893782185621,
          0.7788426107627294,
          0.6206857291063886,
          0.5001892153534844,
          0.4022902263409026,
          0.32472924104184,
          0.26336471901764347,
          0.21443089350132227,
          0.17566733083345512,
          0.14481453634113217,
          0.12036430226939068,
          0.10118607406473182,
          0.08539746657760017,
          0.0733734478193927,
          0.06361048836746391,
          0.05588436835783861,
          0.04978190125622223,
          0.04492970028482646,
          0.041102870132099345,
          0.03807666385619607,
          0.035708931525554266,
          0.033886698406528304,
          0.032424308665723434,
          0.031372186618234765,
          0.03057936934597466,
          0.030043770203307063,
          0.02972709438796639,
          0.029600330639532157,
          0.02973156832957702,
          0.02996304618955048,
          0.030401850104411487,
          0.031140458799735926,
          0.032151804980412424,
          0.03347918531111016,
          0.03523272781252573,
          0.03747358833672654,
          0.04030387006270336,
          0.04409044234764803,
          0.0487519633674518,
          0.05469633964930304,
          0.062265516139604515,
          0.07183310703458184,
          0.08387491955252424,
          0.09873725093901242,
          0.11748105072317461,
          0.14208284145633604,
          0.17170199786443846,
          0.210505791562375,
          0.2572831710346703,
          0.32030321874780854,
          0.3894019023903702,
          0.4867516448878454,
          0.6216591218642985,
          0.732103525407992,
          0.9520931397284546,
          2.7271260972426647,
          1.9513679713322403,
          1.3375406182071483,
          0.8479860614955707,
          0.4601092592520608,
          0.15131561232820845,
          -0.09345781633775152,
          -0.2855083798578242,
          -0.44366499953200916,
          -0.5641613962491717,
          -0.6620605729558108,
          -0.7396228677526724,
          -0.8009897782275215,
          -0.8499283972453875,
          -0.8886978241707782,
          -0.9195566146900923,
          -0.9440141790837383,
          -0.9631969206507676,
          -0.9789884270661816,
          -0.9910119841150281,
          -1.0007715165283546,
          -1.0084928420039847,
          -1.0145877961810597,
          -1.019431363671216,
          -1.0232482914162988,
          -1.0262618602937716,
          -1.0286201664614694,
          -1.030433252524275,
          -1.03188394075581,
          -1.0329356436675043,
          -1.0337291104950483,
          -1.0342866892464757,
          -1.0346377787363286,
          -1.0348099065279563,
          -1.0348149600083003,
          -1.0346929961596436,
          -1.034414930345981,
          -1.0339867892619823,
          -1.0334046692156718,
          -1.032658215909226,
          -1.0317371244368672,
          -1.030617134397395,
          -1.0292808070757373,
          -1.0276841392832974,
          -1.0257947984484344,
          -1.0236471667451843,
          -1.0209915378543117,
          -1.0180786147972056,
          -1.0144819780945862,
          -1.0104697701706862,
          -1.0056827397214423,
          -1.0000684049093693,
          -0.9935612952414664,
          -0.9859229422349208,
          -0.9770316592706131,
          -0.9663852882979892,
          -0.9534239080911386,
          -0.9383617828205484,
          -0.9204001838532943,
          -0.8981553908785909,
          -0.8719487813230468,
          3.395925433179906,
          2.620167307269481,
          2.0063399567797786,
          1.5167854000682006,
          1.1289086110016378,
          0.8201149772547323,
          0.5753414678670677,
          0.3832909043469951,
          0.22513441810230148,
          0.10463794066343449,
          0.0067388034876356695,
          -0.07082339907059879,
          -0.13219030954544794,
          -0.18112879679384658,
          -0.21989715296325854,
          -0.25075701423855135,
          -0.27521230535077246,
          -0.29439598590431315,
          -0.31018736055025975,
          -0.3222095833041927,
          -0.3319700547040306,
          -0.33969004588474716,
          -0.34578567550939876,
          -0.3506276451657069,
          -0.35444391406345277,
          -0.35745548979867514,
          -0.35981140751572016,
          -0.3616221051278733,
          -0.36306933415277687,
          -0.3641154363458823,
          -0.364899843248206,
          -0.3654408667825618,
          -0.3657772956286056,
          -0.36593608047109805,
          -0.36593718086742055,
          -0.36576711600091794,
          -0.365461046594311,
          -0.36498480449246606,
          -0.3643626555987496,
          -0.36355344063064854,
          -0.36256151532619474,
          -0.3613426878616831,
          -0.35989681555519804,
          -0.3581930721648813,
          -0.35617277122561564,
          -0.3537656887005107,
          -0.35098980726502305,
          -0.3478759099589014,
          -0.34415902071166715,
          -0.3398387629408748,
          -0.33483758129587715,
          -0.3290354491815267,
          -0.32222028966673155,
          -0.3141256203512306,
          -0.30478134112591093,
          -0.29383843722916114,
          -0.2806052179676895,
          -0.2653536353708502,
          -0.24621420482695097,
          -0.22425764465651524,
          -0.19777919604635005
         ]
        },
        {
         "hovertemplate": "Sensor=HIV<br>PC1=%{x}<br>PC2=%{y}<br>PC3=%{z}<extra></extra>",
         "legendgroup": "HIV",
         "marker": {
          "color": "#EF553B",
          "opacity": 0.5,
          "symbol": "diamond"
         },
         "mode": "markers",
         "name": "HIV",
         "scene": "scene",
         "showlegend": true,
         "type": "scatter3d",
         "x": [
          -0.8020788640906652,
          -0.5875015799467924,
          -0.41770978288662935,
          -0.2822873427487256,
          -0.17498435747436483,
          -0.08955195023557719,
          -0.02181582406370658,
          0.03134884060651505,
          0.07514887838976071,
          0.10854413296766678,
          0.13570770962001494,
          0.1572576912996724,
          0.17434859248947063,
          0.1880184887811669,
          0.19889605156431328,
          0.2075902886108062,
          0.2145285696811398,
          0.22000613867663793,
          0.2245633994235129,
          0.22808089522588543,
          0.23101265391627002,
          0.23340906698060615,
          0.23540682427627757,
          0.23712841771721282,
          0.23866866890938532,
          0.2400893187565869,
          0.2415016188250867,
          0.2429354937819596,
          0.24447592225321146,
          0.24624903464296344,
          0.24828250125917045,
          0.2507121217382627,
          0.2536270828171848,
          0.2572632047484683,
          0.2616353137776693,
          0.26711081798959857,
          0.27377526433364324,
          0.28230878505047985,
          0.29285647662948866,
          0.3059847684828752,
          0.3226150201431673,
          0.34288774558590984,
          0.36875769008184056,
          0.40074409812708645,
          0.4406819818316164,
          0.490546242392694,
          0.5532080896556246,
          0.6294658172548322,
          0.7266574948174003,
          0.8480734787103097,
          1.0002951065557717,
          1.1892039164361825,
          1.4220803893809064,
          1.715583698780442,
          2.0823830704145756,
          2.536212233035787,
          3.1037293003237245,
          3.813642236054184,
          4.683151316111239,
          5.694132288003713,
          7.174048336204297,
          -0.37888950412358796,
          -0.164312257811108,
          0.005479488176674763,
          0.14090205504974457,
          0.2482050024927124,
          0.3336375988884642,
          0.40137410337426327,
          0.4545317735901201,
          0.49833256800122266,
          0.5317287683639498,
          0.5588864855037184,
          0.5804387370669464,
          0.5975245353720219,
          0.6112001063726444,
          0.6220814522950749,
          0.6307883585048588,
          0.6377393087384834,
          0.643245427375644,
          0.64781535728581,
          0.6513665056145677,
          0.6543090418986012,
          0.6567237988351545,
          0.6587450028877657,
          0.660493826224925,
          0.6620631988829635,
          0.6635229998684452,
          0.6649751989964598,
          0.6664608942549038,
          0.6680860476328769,
          0.6699109803241998,
          0.6720620764522782,
          0.6746163208976066,
          0.6777077262443358,
          0.6815272868977912,
          0.686279470825721,
          0.6918684692161748,
          0.698981174032282,
          0.7078437408006208,
          0.7189795799389868,
          0.7329551208595853,
          0.7503134091665291,
          0.7719023188152806,
          0.799018502973573,
          0.8325102521890354,
          0.874751458254081,
          0.927647077822326,
          0.9928427577434488,
          1.0749819609362277,
          1.175464099013818,
          1.3041604493732457,
          1.4629629982487522,
          1.6584527291592077,
          1.9084809501155173,
          2.2174512045519075,
          2.598191009117042,
          3.0599999836412453,
          3.6725189951668016,
          4.389426385261995,
          5.284845616104539,
          6.436507129636094,
          7.7213699099684785,
          -0.8020650643389,
          -0.5874878369421164,
          -0.41769608073985764,
          -0.28227356191265673,
          -0.17497055772259953,
          -0.08953796132684771,
          -0.021801645998012875,
          0.031356213374808234,
          0.07515001333154593,
          0.10854640285123733,
          0.13570449830493436,
          0.15725637155423391,
          0.17434406142895154,
          0.18801263797520926,
          0.1988958754672819,
          0.20760656481634995,
          0.21455430373489393,
          0.2200642055113387,
          0.22464680458479563,
          0.22819663316811478,
          0.23115373018508129,
          0.23358304785456768,
          0.23562070420975406,
          0.23739675744313726,
          0.2389774795190283,
          0.2404771795640248,
          0.24194829438846038,
          0.24347388870641917,
          0.24515785684032798,
          0.2470465310752779,
          0.24927742532238623,
          0.25194230482522134,
          0.25513242398740127,
          0.2591354233630285,
          0.2638612123821882,
          0.26993234336582395,
          0.2773740942334333,
          0.2866356515969217,
          0.2983596382946448,
          0.31280411435404026,
          0.3308204947639886,
          0.3532073856030393,
          0.3813806524594857,
          0.4166082531428411,
          0.4601163755369827,
          0.5150355392911541,
          0.5835216797272992,
          0.667059773793025,
          0.7715318178221113,
          0.9042180741330347,
          1.0684094198329843,
          1.2732778535193785,
          1.5261038562215818,
          1.8447387255356944,
          2.241565775139719,
          2.7338159609685038,
          3.329134748684006,
          4.099930107023629,
          5.054164093801884,
          6.20789327400689,
          7.626926899598311,
          -0.9759369707273252,
          -0.7613737924690092,
          -0.5915920981474638,
          -0.45617661069914744,
          -0.3488757628984823,
          -0.26344029392886104,
          -0.19570129518312102,
          -0.14253413625295844,
          -0.09872842811409746,
          -0.06532774951996062,
          -0.038160772395567755,
          -0.016614195541266003,
          0.0004621449155990925,
          0.01410727470491707,
          0.024946082076955645,
          0.03360912999090904,
          0.04050601615925775,
          0.04595675098570415,
          0.05049984672681823,
          0.05403493848017296,
          0.05698807626082403,
          0.059436309626731104,
          0.061508762156709834,
          0.06334059492797955,
          0.06500942932270376,
          0.06660005727444179,
          0.06821598797386333,
          0.06992836489299659,
          0.07186906017172712,
          0.07407455251976355,
          0.07668521496924104,
          0.07981793146016898,
          0.0836618787572718,
          0.0884039159325278,
          0.09405394244380187,
          0.10124022885407336,
          0.10981385454333101,
          0.12055700944670444,
          0.13401378064872368,
          0.15018312666897154,
          0.17052528672242007,
          0.19539060841555633,
          0.22623631067014277,
          0.2636722591926881,
          0.310484098494046,
          0.3676182382835043,
          0.43723061388300705,
          0.5223084764467809,
          0.6283555083801904,
          0.7578482557730297,
          0.9149838078363064,
          1.1077420389618373,
          1.3408124151004377,
          1.6342721913905356,
          1.9835112243674247,
          2.4095129396141353,
          2.919843657358185,
          3.5386980870187754,
          4.289523037609776,
          5.10615709435318,
          6.204108638776482,
          -0.5527497082258952,
          -0.3381863975577042,
          -0.16840523244032768,
          -0.03298866723264633,
          0.07431255888194731,
          0.15974859532246113,
          0.22748905014149445,
          0.28065804345887874,
          0.3244653968279972,
          0.3578689875687206,
          0.3850378562627556,
          0.4065916167283863,
          0.4236717403245356,
          0.43732575613786034,
          0.4481753411035478,
          0.45684028058714327,
          0.4637428414644183,
          0.4692043538845135,
          0.4737601187889186,
          0.4773027768208416,
          0.480265372449703,
          0.48272495523346254,
          0.48482142634458464,
          0.4866721748122752,
          0.48836823910322336,
          0.49002960305295323,
          0.4916903595995809,
          0.49348746142543537,
          0.4955009603688311,
          0.49781708777437417,
          0.5005642954321439,
          0.5039294118257968,
          0.5079127634522097,
          0.5130159598297738,
          0.5190838926326181,
          0.5267259167273015,
          0.5358876899759163,
          0.5473588815259416,
          0.5615436893746125,
          0.5789799517239566,
          0.6005890281065012,
          0.6271202567238832,
          0.6601214777082467,
          0.7000912588889843,
          0.7496260878127419,
          0.8110712650617544,
          0.8849374957004549,
          0.9776168562388053,
          1.0897521304331312,
          1.2281309018327808,
          1.3981423838543638,
          1.6032838661690725,
          1.8534268448848201,
          2.1576642148238037,
          2.5297781805369732,
          2.9824379678041146,
          3.5067575942776346,
          4.152270095958656,
          4.901203476907581,
          5.844881360623349,
          6.895939391166957,
          -0.9759285779676641,
          -0.7613651329980283,
          -0.5915838543864732,
          -0.45616779946726405,
          -0.3488660058817779,
          -0.26342959112733566,
          -0.19568907912588196,
          -0.14252002862607732,
          -0.09871205060364588,
          -0.06530713576417299,
          -0.038135997186567516,
          -0.016579399366473707,
          0.0005096102536824004,
          0.014167409206291252,
          0.02502077731126287,
          0.033698385958149335,
          0.04061172442907321,
          0.046087797582101436,
          0.0506511287650748,
          0.054207027784492434,
          0.05718985885521308,
          0.05968045467448077,
          0.06179584148202366,
          0.06367760298522226,
          0.06543305385630971,
          0.0671392436532458,
          0.06887979831890345,
          0.07076861950584384,
          0.07289768029443755,
          0.07535734736263755,
          0.078343949377497,
          0.08186452667586289,
          0.0861789920204514,
          0.09164906584235923,
          0.0982426808732628,
          0.10643502113446177,
          0.11639477557337566,
          0.12880383740099485,
          0.14399646007090713,
          0.1628887957135547,
          0.18623372356399237,
          0.21489979424441696,
          0.2501757463791178,
          0.2935679626187287,
          0.34741382900204054,
          0.4124705982741339,
          0.49318169903058084,
          0.5919493018298476,
          0.7141627242365857,
          0.8593291833336252,
          1.0394188135676203,
          1.2593277954827107,
          1.5202483678473437,
          1.8511438098067585,
          2.230824054088229,
          2.703147459011067,
          3.2788916598833735,
          3.9637313968757875,
          4.76276960678499,
          5.719116653791717,
          6.854899591056529
         ],
         "y": [
          -1.9890537185069381,
          -1.8257381260621188,
          -1.696510342216012,
          -1.5934425602914466,
          -1.5117779944907879,
          -1.4467603249868568,
          -1.3952146130266636,
          -1.3547625254622149,
          -1.3214407182054435,
          -1.2960413098505474,
          -1.2753899032707117,
          -1.259014209803064,
          -1.2460379477321817,
          -1.235669944160362,
          -1.2274328473987963,
          -1.22085874403128,
          -1.2156253968990447,
          -1.2115035590841154,
          -1.2080874321133586,
          -1.2054639975051362,
          -1.203298150277903,
          -1.2015483265838531,
          -1.200117019836004,
          -1.1989163700995578,
          -1.1978833671554145,
          -1.196971288811248,
          -1.19611579412042,
          -1.1952939518488108,
          -1.1944506696351562,
          -1.1935303111780995,
          -1.1925080267619423,
          -1.1913189261090833,
          -1.189918208921993,
          -1.188191491748706,
          -1.1861338780741948,
          -1.1835689471439548,
          -1.1804590456511665,
          -1.1764840713695368,
          -1.1715714696936184,
          -1.1654641161178025,
          -1.1577294450258708,
          -1.148298389782141,
          -1.1362596120179946,
          -1.1213717831922492,
          -1.1027756382034355,
          -1.0795433209466436,
          -1.0503346532229216,
          -1.0147716793884842,
          -0.9694188452062181,
          -0.9127305958270475,
          -0.8416153459205791,
          -0.7533247346985646,
          -0.6444244517023191,
          -0.5070171060892962,
          -0.3350939278640902,
          -0.12246298680429404,
          0.14374357157525358,
          0.4769243821640792,
          0.8856486869410489,
          1.359674558336299,
          2.056854797721598,
          -2.8759597194016435,
          -2.712644144151306,
          -2.5834163835177497,
          -2.4803485439916706,
          -2.3986839953854933,
          -2.333666239909154,
          -2.2821203560041434,
          -2.241671697989866,
          -2.2083495468434604,
          -2.182949708626521,
          -2.162301215762405,
          -2.1459244906258537,
          -2.1329507983810565,
          -2.122580215636977,
          -2.1143413994272375,
          -2.107761287337289,
          -2.102521931482622,
          -2.0983863661208293,
          -2.0949642304276406,
          -2.0923244984464695,
          -2.090153502220891,
          -2.0883950906321487,
          -2.086952626163522,
          -2.0857390992581246,
          -2.0846923594209437,
          -2.0837622362171313,
          -2.0828878556349197,
          -2.0820419597812325,
          -2.0811591676442887,
          -2.080214755605154,
          -2.0791375049244962,
          -2.0778900084569645,
          -2.0764068418731236,
          -2.0745942457529134,
          -2.072356370405437,
          -2.069739856029995,
          -2.0664237142181463,
          -2.0622941765244045,
          -2.057106743525984,
          -2.0506042907172746,
          -2.0425261972993987,
          -2.0324768884072224,
          -2.0198541524963503,
          -2.0042620976134886,
          -1.9845840087398936,
          -1.959926325272376,
          -1.9295159130622177,
          -1.8912046260027557,
          -1.8443061576993736,
          -1.784183685060762,
          -1.709977166912061,
          -1.618595287447814,
          -1.501623878828779,
          -1.3568359907147414,
          -1.178551788865428,
          -0.962143669528983,
          -0.6744813936808076,
          -0.33787103291990006,
          0.08288006289615046,
          0.6238522589573826,
          1.2233604147487196,
          -1.9890469453790027,
          -1.825731378725906,
          -1.6965036134498395,
          -1.593435795760752,
          -1.5117712213628525,
          -1.4467534658865127,
          -1.395207667953911,
          -1.3547589239672253,
          -1.3214402023709915,
          -1.2960402781816434,
          -1.2753916133727103,
          -1.259015060180976,
          -1.2460405082120924,
          -1.2356733550181846,
          -1.2274336790843587,
          -1.220851847546237,
          -1.2156142017935683,
          -1.2114769169836026,
          -1.2080487725679814,
          -1.2054098909647224,
          -1.203232026292625,
          -1.2014667462573638,
          -1.2000165536181315,
          -1.1987901495437832,
          -1.197738251362082,
          -1.1967892422668862,
          -1.1959062644438077,
          -1.1950414826987372,
          -1.1941312074295432,
          -1.1931575741176352,
          -1.192042551654211,
          -1.190743518472351,
          -1.1892139828648767,
          -1.1873155077977438,
          -1.185094640008507,
          -1.1822464674383917,
          -1.1787757622144313,
          -1.1744573656068573,
          -1.168995101285934,
          -1.1622694940616716,
          -1.1538822738195726,
          -1.1434552470997312,
          -1.1303345254508035,
          -1.11391844390917,
          -1.093639482792357,
          -1.0680370374469415,
          -1.0360809911156668,
          -0.9970837940217884,
          -0.9482967365800816,
          -0.8862856748031456,
          -0.8095046574817037,
          -0.7136596897063912,
          -0.5953164610185232,
          -0.4460608115060615,
          -0.25988864426095915,
          -0.02889325397476844,
          0.25019981953056014,
          0.6125551720188771,
          1.0607894000851716,
          1.6034530057956515,
          2.271458703281459,
          -1.8268580267359955,
          -1.6635491461181244,
          -1.5343261794917589,
          -1.4312617079152912,
          -1.3495981136028505,
          -1.2845789022032683,
          -1.2330317343198325,
          -1.1925783627769584,
          -1.1592537277768755,
          -1.1338515785856944,
          -1.113198375931451,
          -1.0968242299671598,
          -1.0838548363427962,
          -1.073498840869666,
          -1.0652806113071343,
          -1.058721936242305,
          -1.0535091570649275,
          -1.0494010187583371,
          -1.045992582573487,
          -1.0433614011023096,
          -1.041186087563948,
          -1.0394122102878198,
          -1.0379457015832896,
          -1.0366926927931273,
          -1.0355987429005755,
          -1.0346051496531425,
          -1.0336518426860997,
          -1.0326961544960322,
          -1.0316606772801202,
          -1.0305310228008193,
          -1.0292291132184537,
          -1.0276986554962884,
          -1.025845144224736,
          -1.0235782028030356,
          -1.0208946728566828,
          -1.0174895488651563,
          -1.0134367547294134,
          -1.008364791701453,
          -1.002012246261996,
          -0.9943799111314433,
          -0.9847777707763024,
          -0.9730338720557284,
          -0.9584604983253924,
          -0.9407651114458981,
          -0.9186087766004212,
          -0.8915611561133712,
          -0.8585921332274912,
          -0.8182436776491581,
          -0.7679390246104869,
          -0.7064774435145531,
          -0.6318008871699469,
          -0.5401321297367954,
          -0.4292395398603216,
          -0.289346483734372,
          -0.12284892582882131,
          0.08054183193580085,
          0.3242647176151103,
          0.6203185075056477,
          0.9798609620210968,
          1.3703160196868318,
          1.8971493896342326,
          -2.713765106209963,
          -2.550456165411406,
          -2.4212334643648896,
          -2.3181684778885874,
          -2.2365047116313295,
          -2.171485242314521,
          -2.1199373875864334,
          -2.07948315725409,
          -2.0461577494369467,
          -2.0207542265564618,
          -2.0001001641781317,
          -1.9837225026912595,
          -1.9707513896187225,
          -1.9603911048713338,
          -1.9521677263104564,
          -1.9456081915215404,
          -1.940392833171903,
          -1.936279545866967,
          -1.9328651009596847,
          -1.9302304805921606,
          -1.9280508684333655,
          -1.926271832812717,
          -1.9247941570412346,
          -1.9235325510102053,
          -1.9224257239487024,
          -1.9213994798783243,
          -1.9204255488793756,
          -1.9194303507660184,
          -1.9183605313175123,
          -1.9171793401238828,
          -1.9158138670361498,
          -1.914173523515857,
          -1.9122564020080637,
          -1.9098177961542646,
          -1.9069368100532125,
          -1.9033170354252524,
          -1.898989409967007,
          -1.8935740246131028,
          -1.8868780568477017,
          -1.8786448494739307,
          -1.8684418368755715,
          -1.8559082069979471,
          -1.8403050335985145,
          -1.821407902232584,
          -1.7979638504920008,
          -1.768856630666758,
          -1.733828943060157,
          -1.6898752540225148,
          -1.6366531467938943,
          -1.5709022914391784,
          -1.4900478716974659,
          -1.392375064919491,
          -1.2732468815426616,
          -1.12820482707123,
          -0.9505588945627331,
          -0.7343003140217648,
          -0.4837183279982911,
          -0.17479671533140778,
          0.1838860150973417,
          0.6360916682099902,
          1.140609596602064,
          -1.8268539867068285,
          -1.6635449848678614,
          -1.5343222322379,
          -1.431257502744206,
          -1.3495934785697221,
          -1.2845738373080966,
          -1.2330259816453912,
          -1.1925717503784306,
          -1.1592460837094438,
          -1.133841959022098,
          -1.113186864974864,
          -1.0968079139018618,
          -1.0838325115550662,
          -1.073470507359504,
          -1.065245409350453,
          -1.058679865839105,
          -1.0534593584911218,
          -1.049339202739667,
          -1.0459213189360381,
          -1.0432806804999069,
          -1.0410916207223329,
          -1.03929798848456,
          -1.0378117154722104,
          -1.0365355128240565,
          -1.035401193284129,
          -1.0343543251818446,
          -1.0333426224001294,
          -1.032304484813311,
          -1.0311813905099534,
          -1.0299332062607847,
          -1.028454417824752,
          -1.0267419135582248,
          -1.0246685372286706,
          -1.0220581734810261,
          -1.0189282412418195,
          -1.0150508297730911,
          -1.0103454864871808,
          -1.0044837923021699,
          -0.9973072202039414,
          -0.9883871681782823,
          -0.9773601289211518,
          -0.9638136134709233,
          -0.9471289634954454,
          -0.9266011602172002,
          -0.9010975091384241,
          -0.8702736449921968,
          -0.8319846135609666,
          -0.7851134703333753,
          -0.7270853197764813,
          -0.658074055214608,
          -0.5724135921446217,
          -0.4677031978828407,
          -0.34342601616052915,
          -0.1855161389127516,
          -0.0044313100574551005,
          0.22126554308777704,
          0.4967234505772431,
          0.8245216084526544,
          1.2072298824354135,
          1.6654442579802438,
          2.2094721096616423
         ],
         "z": [
          3.760381870728829,
          2.984625451387874,
          2.370799356184384,
          1.8812454329402584,
          1.4933688059501402,
          1.1845745280896234,
          0.9398004684869988,
          0.7477491801316105,
          0.5895915012183696,
          0.4690933484407529,
          0.3711925079122868,
          0.29362842738102946,
          0.23225990247209244,
          0.18332087154558455,
          0.14455210346753058,
          0.113691830283596,
          0.08923505650675423,
          0.07004908607154897,
          0.054253543570914775,
          0.042222194490802833,
          0.03245365092052488,
          0.024719953650299942,
          0.01860898690181223,
          0.013746029602360044,
          0.009909135169392735,
          0.006871135009933749,
          0.0044885780979861956,
          0.0026478142523282955,
          0.0011640114568487459,
          8.784096533781538e-05,
          -0.0007334717123561596,
          -0.0013105792696992968,
          -0.0016777404237371396,
          -0.0018475751553149733,
          -0.0018508335828007483,
          -0.0016674464161697267,
          -0.0013126429556385988,
          -0.000727218847271005,
          9.141190623412898e-05,
          0.0011865459695460379,
          0.002636188683998286,
          0.004459495674493386,
          0.006840931199387168,
          0.009824498447276453,
          0.013594075201793954,
          0.018354954366148035,
          0.02438730491496588,
          0.0317805963531132,
          0.041277494881585775,
          0.05322429774596438,
          0.06831133994273719,
          0.08712316125083058,
          0.11045826435370154,
          0.14023533331082993,
          0.17792020655366098,
          0.22435266267602627,
          0.2831401273833968,
          0.35709924074513005,
          0.44917854347154507,
          0.5534474147383704,
          0.7137236978435486,
          3.6808675518980283,
          2.9051111299216847,
          2.2912850311604185,
          1.8017311167448473,
          1.41385448711934,
          1.10506022243577,
          0.8602861891870388,
          0.6682338300756717,
          0.5100762038702177,
          0.38957811697733474,
          0.29167628475457036,
          0.21411236234667386,
          0.15274289845122543,
          0.10380426283311969,
          0.06503575829400049,
          0.0341769511744468,
          0.009721643461985952,
          -0.009460587627413475,
          -0.02525466406366672,
          -0.03728133481146151,
          -0.04704854408682585,
          -0.05478037998426788,
          -0.06088854637346103,
          -0.06574843977468414,
          -0.06958213853995471,
          -0.07261682786248957,
          -0.07499485481182683,
          -0.0768308417561796,
          -0.07830640844372261,
          -0.07937780203392847,
          -0.0801874193970546,
          -0.080751760883851,
          -0.08110137906603704,
          -0.08125260006978435,
          -0.08121187656584267,
          -0.08102058323116884,
          -0.08062871831737373,
          -0.08000870214269268,
          -0.07913159481634807,
          -0.077954099673671,
          -0.07642456526680402,
          -0.07446289001105483,
          -0.07195379378069466,
          -0.0688186813208132,
          -0.06480696010210102,
          -0.05972404478113763,
          -0.05339848135613723,
          -0.0454204241895963,
          -0.035577604997988455,
          -0.02283188520946272,
          -0.0070530016864196465,
          0.012450660947944225,
          0.037622442964368064,
          0.06929387869391657,
          0.10800821380629522,
          0.15534666245068451,
          0.219603076279562,
          0.29463294562006365,
          0.3891006989990623,
          0.5101717260325533,
          0.6358538779235174,
          3.7603839990638397,
          2.9846275757698013,
          2.3708014777200903,
          1.8812475599575744,
          1.493370934285151,
          1.184576669601581,
          0.9398026231759031,
          0.7477502772414828,
          0.58959158028005,
          0.46909350656411375,
          0.3711917006952428,
          0.29362775193345286,
          0.2322584198074718,
          0.18331871343338726,
          0.14455034066373545,
          0.11369179708311655,
          0.08923568215361172,
          0.07005371460314702,
          0.054261104231274726,
          0.042233758035903346,
          0.03246814659438724,
          0.02473790853079355,
          0.01863147174491603,
          0.013774642241922153,
          0.00994173409345589,
          0.006911574733531156,
          0.004534865478867556,
          0.0027034084971250816,
          0.0012336894668658616,
          0.0001673197166603413,
          -0.0006332377212455165,
          -0.0011869546494528982,
          -0.0015261952117449074,
          -0.0016588024876615926,
          -0.001631587935252421,
          -0.0013775329389234536,
          -0.0009510759588147177,
          -0.00028576015803249977,
          0.0006498237411513008,
          0.001883326069717306,
          0.003482044609211421,
          0.005534319117162956,
          0.00815789910625131,
          0.011495625190113046,
          0.015653952846916508,
          0.020936182392923774,
          0.027607666481059445,
          0.03579987484335401,
          0.046095690295973824,
          0.05929440634551153,
          0.07574043732532043,
          0.09636424367746194,
          0.12196432808539309,
          0.15448406847809826,
          0.195661142341644,
          0.24687070625924587,
          0.3081783910865814,
          0.38987973499474,
          0.4901951456576741,
          0.6131607459536548,
          0.7656947985124078,
          3.364456085587386,
          2.5886979833954658,
          1.9748706592596565,
          1.4853159015738298,
          1.0974391256842135,
          0.7886454112156035,
          0.543871901827939,
          0.35182113733361725,
          0.19366443693772792,
          0.07316730386832698,
          -0.024732716266148362,
          -0.10229703398244691,
          -0.1636671567252323,
          -0.21260966345861126,
          -0.2513840488554938,
          -0.28224941228038747,
          -0.30671315427121104,
          -0.3259044950865499,
          -0.3417039419029366,
          -0.3537346487359515,
          -0.36350228652019745,
          -0.37123120688911726,
          -0.3773340526988961,
          -0.38218407895785483,
          -0.38600618097754563,
          -0.38902242050974634,
          -0.3913785384621182,
          -0.3931829796056966,
          -0.3946149752380037,
          -0.3956312663959023,
          -0.3963721084376921,
          -0.3968494717515133,
          -0.3970807298974462,
          -0.3970859981481874,
          -0.39689520280482093,
          -0.3964467620328455,
          -0.3957839087254221,
          -0.3948286587983865,
          -0.39353312662833656,
          -0.39189354639081747,
          -0.38976519799881904,
          -0.3870968031480758,
          -0.3837327208606587,
          -0.3795992946555583,
          -0.3743355570066521,
          -0.3678778826749223,
          -0.3599609190074445,
          -0.3501443164133096,
          -0.33787154596982794,
          -0.3227946504074471,
          -0.3042726824686881,
          -0.2813998755809941,
          -0.2536165721261664,
          -0.21800741367447118,
          -0.17559399441513485,
          -0.12316427236131944,
          -0.060191320276477334,
          0.017344233844968304,
          0.1122425610062388,
          0.21405967801265863,
          0.3553134219964438,
          3.2849413288880025,
          2.509183235919944,
          1.89535581656779,
          1.4058011923114542,
          1.0179244427757312,
          0.7091307678379617,
          0.464357418233682,
          0.27230683987663856,
          0.11415031244108081,
          -0.006346501061550443,
          -0.10424638942655841,
          -0.18180962320993144,
          -0.24317948241378204,
          -0.2921207866217149,
          -0.33089383772368386,
          -0.36175906937911023,
          -0.3862224160615317,
          -0.405412422581957,
          -0.4212104033339628,
          -0.4332405830891081,
          -0.4430075620260172,
          -0.4507356917781327,
          -0.4568362809067263,
          -0.4616849894710113,
          -0.4655040275924728,
          -0.4685141725286945,
          -0.47086658433574,
          -0.47266278937138184,
          -0.4740867958344475,
          -0.47509246243375697,
          -0.47582029146630517,
          -0.4762715457604444,
          -0.4764925092876817,
          -0.4764551133016694,
          -0.476217700637528,
          -0.4757200071554299,
          -0.47499867727516704,
          -0.47396353565571675,
          -0.4725881117932521,
          -0.47080192511764174,
          -0.468526970287552,
          -0.46566666937261636,
          -0.46203572810249294,
          -0.45760908902120995,
          -0.45203896154938306,
          -0.44504756925224065,
          -0.43654251980842607,
          -0.4258462785857434,
          -0.41279928508761926,
          -0.3965198640790885,
          -0.37634237443316765,
          -0.3517316641099396,
          -0.32165038536068913,
          -0.28470693199546254,
          -0.2389494753324396,
          -0.18291217694017464,
          -0.11779771289779595,
          -0.03665458243790082,
          0.05811197525598821,
          0.17811534366175352,
          0.31376836905665023,
          3.364457195400106,
          2.588699111787681,
          1.974871700341694,
          1.4853169821867072,
          1.0974402721818246,
          0.7886466235979483,
          0.5438732196258578,
          0.3518225869010035,
          0.193666044628475,
          0.0731693233644709,
          -0.02473040687717621,
          -0.10229344300634818,
          -0.16366209968475262,
          -0.2126031403537507,
          -0.2513759279167849,
          -0.28223969350783035,
          -0.30670170589533824,
          -0.32589011458191525,
          -0.34168756825605157,
          -0.3537168256249252,
          -0.36348181141958386,
          -0.3712066137345354,
          -0.3773058851684552,
          -0.38215126629557616,
          -0.385965000437863,
          -0.3889714392287583,
          -0.3913147911105836,
          -0.39310168928231015,
          -0.39451589500407047,
          -0.3955074778381594,
          -0.3962081270950469,
          -0.3966450506852706,
          -0.396829527572932,
          -0.39675490413125847,
          -0.3964575311972067,
          -0.3959039965316169,
          -0.3950920673991517,
          -0.3939449114079236,
          -0.3924467656138935,
          -0.3905007955534537,
          -0.3880232270993838,
          -0.3849150129343667,
          -0.38101474329458657,
          -0.376174638792506,
          -0.37007079335526655,
          -0.36265275869058844,
          -0.3533207784051787,
          -0.34185031412785366,
          -0.32757610131407483,
          -0.3104153816530248,
          -0.28901067269144937,
          -0.262612671193678,
          -0.231197097530896,
          -0.19064606782721993,
          -0.14436153329467089,
          -0.08578741454272476,
          -0.013589567290828386,
          0.07262720388842925,
          0.173801697215212,
          0.2952711300018902,
          0.43916026333330604
         ]
        }
       ],
       "layout": {
        "legend": {
         "title": {
          "text": "Sensor"
         },
         "tracegroupgap": 0
        },
        "margin": {
         "b": 0,
         "l": 0,
         "r": 0,
         "t": 0
        },
        "scene": {
         "domain": {
          "x": [
           0,
           1
          ],
          "y": [
           0,
           1
          ]
         },
         "xaxis": {
          "title": {
           "text": "PC1"
          }
         },
         "yaxis": {
          "title": {
           "text": "PC2"
          }
         },
         "zaxis": {
          "title": {
           "text": "PC3"
          }
         }
        },
        "template": {
         "data": {
          "bar": [
           {
            "error_x": {
             "color": "#2a3f5f"
            },
            "error_y": {
             "color": "#2a3f5f"
            },
            "marker": {
             "line": {
              "color": "#E5ECF6",
              "width": 0.5
             },
             "pattern": {
              "fillmode": "overlay",
              "size": 10,
              "solidity": 0.2
             }
            },
            "type": "bar"
           }
          ],
          "barpolar": [
           {
            "marker": {
             "line": {
              "color": "#E5ECF6",
              "width": 0.5
             },
             "pattern": {
              "fillmode": "overlay",
              "size": 10,
              "solidity": 0.2
             }
            },
            "type": "barpolar"
           }
          ],
          "carpet": [
           {
            "aaxis": {
             "endlinecolor": "#2a3f5f",
             "gridcolor": "white",
             "linecolor": "white",
             "minorgridcolor": "white",
             "startlinecolor": "#2a3f5f"
            },
            "baxis": {
             "endlinecolor": "#2a3f5f",
             "gridcolor": "white",
             "linecolor": "white",
             "minorgridcolor": "white",
             "startlinecolor": "#2a3f5f"
            },
            "type": "carpet"
           }
          ],
          "choropleth": [
           {
            "colorbar": {
             "outlinewidth": 0,
             "ticks": ""
            },
            "type": "choropleth"
           }
          ],
          "contour": [
           {
            "colorbar": {
             "outlinewidth": 0,
             "ticks": ""
            },
            "colorscale": [
             [
              0,
              "#0d0887"
             ],
             [
              0.1111111111111111,
              "#46039f"
             ],
             [
              0.2222222222222222,
              "#7201a8"
             ],
             [
              0.3333333333333333,
              "#9c179e"
             ],
             [
              0.4444444444444444,
              "#bd3786"
             ],
             [
              0.5555555555555556,
              "#d8576b"
             ],
             [
              0.6666666666666666,
              "#ed7953"
             ],
             [
              0.7777777777777778,
              "#fb9f3a"
             ],
             [
              0.8888888888888888,
              "#fdca26"
             ],
             [
              1,
              "#f0f921"
             ]
            ],
            "type": "contour"
           }
          ],
          "contourcarpet": [
           {
            "colorbar": {
             "outlinewidth": 0,
             "ticks": ""
            },
            "type": "contourcarpet"
           }
          ],
          "heatmap": [
           {
            "colorbar": {
             "outlinewidth": 0,
             "ticks": ""
            },
            "colorscale": [
             [
              0,
              "#0d0887"
             ],
             [
              0.1111111111111111,
              "#46039f"
             ],
             [
              0.2222222222222222,
              "#7201a8"
             ],
             [
              0.3333333333333333,
              "#9c179e"
             ],
             [
              0.4444444444444444,
              "#bd3786"
             ],
             [
              0.5555555555555556,
              "#d8576b"
             ],
             [
              0.6666666666666666,
              "#ed7953"
             ],
             [
              0.7777777777777778,
              "#fb9f3a"
             ],
             [
              0.8888888888888888,
              "#fdca26"
             ],
             [
              1,
              "#f0f921"
             ]
            ],
            "type": "heatmap"
           }
          ],
          "heatmapgl": [
           {
            "colorbar": {
             "outlinewidth": 0,
             "ticks": ""
            },
            "colorscale": [
             [
              0,
              "#0d0887"
             ],
             [
              0.1111111111111111,
              "#46039f"
             ],
             [
              0.2222222222222222,
              "#7201a8"
             ],
             [
              0.3333333333333333,
              "#9c179e"
             ],
             [
              0.4444444444444444,
              "#bd3786"
             ],
             [
              0.5555555555555556,
              "#d8576b"
             ],
             [
              0.6666666666666666,
              "#ed7953"
             ],
             [
              0.7777777777777778,
              "#fb9f3a"
             ],
             [
              0.8888888888888888,
              "#fdca26"
             ],
             [
              1,
              "#f0f921"
             ]
            ],
            "type": "heatmapgl"
           }
          ],
          "histogram": [
           {
            "marker": {
             "pattern": {
              "fillmode": "overlay",
              "size": 10,
              "solidity": 0.2
             }
            },
            "type": "histogram"
           }
          ],
          "histogram2d": [
           {
            "colorbar": {
             "outlinewidth": 0,
             "ticks": ""
            },
            "colorscale": [
             [
              0,
              "#0d0887"
             ],
             [
              0.1111111111111111,
              "#46039f"
             ],
             [
              0.2222222222222222,
              "#7201a8"
             ],
             [
              0.3333333333333333,
              "#9c179e"
             ],
             [
              0.4444444444444444,
              "#bd3786"
             ],
             [
              0.5555555555555556,
              "#d8576b"
             ],
             [
              0.6666666666666666,
              "#ed7953"
             ],
             [
              0.7777777777777778,
              "#fb9f3a"
             ],
             [
              0.8888888888888888,
              "#fdca26"
             ],
             [
              1,
              "#f0f921"
             ]
            ],
            "type": "histogram2d"
           }
          ],
          "histogram2dcontour": [
           {
            "colorbar": {
             "outlinewidth": 0,
             "ticks": ""
            },
            "colorscale": [
             [
              0,
              "#0d0887"
             ],
             [
              0.1111111111111111,
              "#46039f"
             ],
             [
              0.2222222222222222,
              "#7201a8"
             ],
             [
              0.3333333333333333,
              "#9c179e"
             ],
             [
              0.4444444444444444,
              "#bd3786"
             ],
             [
              0.5555555555555556,
              "#d8576b"
             ],
             [
              0.6666666666666666,
              "#ed7953"
             ],
             [
              0.7777777777777778,
              "#fb9f3a"
             ],
             [
              0.8888888888888888,
              "#fdca26"
             ],
             [
              1,
              "#f0f921"
             ]
            ],
            "type": "histogram2dcontour"
           }
          ],
          "mesh3d": [
           {
            "colorbar": {
             "outlinewidth": 0,
             "ticks": ""
            },
            "type": "mesh3d"
           }
          ],
          "parcoords": [
           {
            "line": {
             "colorbar": {
              "outlinewidth": 0,
              "ticks": ""
             }
            },
            "type": "parcoords"
           }
          ],
          "pie": [
           {
            "automargin": true,
            "type": "pie"
           }
          ],
          "scatter": [
           {
            "fillpattern": {
             "fillmode": "overlay",
             "size": 10,
             "solidity": 0.2
            },
            "type": "scatter"
           }
          ],
          "scatter3d": [
           {
            "line": {
             "colorbar": {
              "outlinewidth": 0,
              "ticks": ""
             }
            },
            "marker": {
             "colorbar": {
              "outlinewidth": 0,
              "ticks": ""
             }
            },
            "type": "scatter3d"
           }
          ],
          "scattercarpet": [
           {
            "marker": {
             "colorbar": {
              "outlinewidth": 0,
              "ticks": ""
             }
            },
            "type": "scattercarpet"
           }
          ],
          "scattergeo": [
           {
            "marker": {
             "colorbar": {
              "outlinewidth": 0,
              "ticks": ""
             }
            },
            "type": "scattergeo"
           }
          ],
          "scattergl": [
           {
            "marker": {
             "colorbar": {
              "outlinewidth": 0,
              "ticks": ""
             }
            },
            "type": "scattergl"
           }
          ],
          "scattermapbox": [
           {
            "marker": {
             "colorbar": {
              "outlinewidth": 0,
              "ticks": ""
             }
            },
            "type": "scattermapbox"
           }
          ],
          "scatterpolar": [
           {
            "marker": {
             "colorbar": {
              "outlinewidth": 0,
              "ticks": ""
             }
            },
            "type": "scatterpolar"
           }
          ],
          "scatterpolargl": [
           {
            "marker": {
             "colorbar": {
              "outlinewidth": 0,
              "ticks": ""
             }
            },
            "type": "scatterpolargl"
           }
          ],
          "scatterternary": [
           {
            "marker": {
             "colorbar": {
              "outlinewidth": 0,
              "ticks": ""
             }
            },
            "type": "scatterternary"
           }
          ],
          "surface": [
           {
            "colorbar": {
             "outlinewidth": 0,
             "ticks": ""
            },
            "colorscale": [
             [
              0,
              "#0d0887"
             ],
             [
              0.1111111111111111,
              "#46039f"
             ],
             [
              0.2222222222222222,
              "#7201a8"
             ],
             [
              0.3333333333333333,
              "#9c179e"
             ],
             [
              0.4444444444444444,
              "#bd3786"
             ],
             [
              0.5555555555555556,
              "#d8576b"
             ],
             [
              0.6666666666666666,
              "#ed7953"
             ],
             [
              0.7777777777777778,
              "#fb9f3a"
             ],
             [
              0.8888888888888888,
              "#fdca26"
             ],
             [
              1,
              "#f0f921"
             ]
            ],
            "type": "surface"
           }
          ],
          "table": [
           {
            "cells": {
             "fill": {
              "color": "#EBF0F8"
             },
             "line": {
              "color": "white"
             }
            },
            "header": {
             "fill": {
              "color": "#C8D4E3"
             },
             "line": {
              "color": "white"
             }
            },
            "type": "table"
           }
          ]
         },
         "layout": {
          "annotationdefaults": {
           "arrowcolor": "#2a3f5f",
           "arrowhead": 0,
           "arrowwidth": 1
          },
          "autotypenumbers": "strict",
          "coloraxis": {
           "colorbar": {
            "outlinewidth": 0,
            "ticks": ""
           }
          },
          "colorscale": {
           "diverging": [
            [
             0,
             "#8e0152"
            ],
            [
             0.1,
             "#c51b7d"
            ],
            [
             0.2,
             "#de77ae"
            ],
            [
             0.3,
             "#f1b6da"
            ],
            [
             0.4,
             "#fde0ef"
            ],
            [
             0.5,
             "#f7f7f7"
            ],
            [
             0.6,
             "#e6f5d0"
            ],
            [
             0.7,
             "#b8e186"
            ],
            [
             0.8,
             "#7fbc41"
            ],
            [
             0.9,
             "#4d9221"
            ],
            [
             1,
             "#276419"
            ]
           ],
           "sequential": [
            [
             0,
             "#0d0887"
            ],
            [
             0.1111111111111111,
             "#46039f"
            ],
            [
             0.2222222222222222,
             "#7201a8"
            ],
            [
             0.3333333333333333,
             "#9c179e"
            ],
            [
             0.4444444444444444,
             "#bd3786"
            ],
            [
             0.5555555555555556,
             "#d8576b"
            ],
            [
             0.6666666666666666,
             "#ed7953"
            ],
            [
             0.7777777777777778,
             "#fb9f3a"
            ],
            [
             0.8888888888888888,
             "#fdca26"
            ],
            [
             1,
             "#f0f921"
            ]
           ],
           "sequentialminus": [
            [
             0,
             "#0d0887"
            ],
            [
             0.1111111111111111,
             "#46039f"
            ],
            [
             0.2222222222222222,
             "#7201a8"
            ],
            [
             0.3333333333333333,
             "#9c179e"
            ],
            [
             0.4444444444444444,
             "#bd3786"
            ],
            [
             0.5555555555555556,
             "#d8576b"
            ],
            [
             0.6666666666666666,
             "#ed7953"
            ],
            [
             0.7777777777777778,
             "#fb9f3a"
            ],
            [
             0.8888888888888888,
             "#fdca26"
            ],
            [
             1,
             "#f0f921"
            ]
           ]
          },
          "colorway": [
           "#636efa",
           "#EF553B",
           "#00cc96",
           "#ab63fa",
           "#FFA15A",
           "#19d3f3",
           "#FF6692",
           "#B6E880",
           "#FF97FF",
           "#FECB52"
          ],
          "font": {
           "color": "#2a3f5f"
          },
          "geo": {
           "bgcolor": "white",
           "lakecolor": "white",
           "landcolor": "#E5ECF6",
           "showlakes": true,
           "showland": true,
           "subunitcolor": "white"
          },
          "hoverlabel": {
           "align": "left"
          },
          "hovermode": "closest",
          "mapbox": {
           "style": "light"
          },
          "paper_bgcolor": "white",
          "plot_bgcolor": "#E5ECF6",
          "polar": {
           "angularaxis": {
            "gridcolor": "white",
            "linecolor": "white",
            "ticks": ""
           },
           "bgcolor": "#E5ECF6",
           "radialaxis": {
            "gridcolor": "white",
            "linecolor": "white",
            "ticks": ""
           }
          },
          "scene": {
           "xaxis": {
            "backgroundcolor": "#E5ECF6",
            "gridcolor": "white",
            "gridwidth": 2,
            "linecolor": "white",
            "showbackground": true,
            "ticks": "",
            "zerolinecolor": "white"
           },
           "yaxis": {
            "backgroundcolor": "#E5ECF6",
            "gridcolor": "white",
            "gridwidth": 2,
            "linecolor": "white",
            "showbackground": true,
            "ticks": "",
            "zerolinecolor": "white"
           },
           "zaxis": {
            "backgroundcolor": "#E5ECF6",
            "gridcolor": "white",
            "gridwidth": 2,
            "linecolor": "white",
            "showbackground": true,
            "ticks": "",
            "zerolinecolor": "white"
           }
          },
          "shapedefaults": {
           "line": {
            "color": "#2a3f5f"
           }
          },
          "ternary": {
           "aaxis": {
            "gridcolor": "white",
            "linecolor": "white",
            "ticks": ""
           },
           "baxis": {
            "gridcolor": "white",
            "linecolor": "white",
            "ticks": ""
           },
           "bgcolor": "#E5ECF6",
           "caxis": {
            "gridcolor": "white",
            "linecolor": "white",
            "ticks": ""
           }
          },
          "title": {
           "x": 0.05
          },
          "xaxis": {
           "automargin": true,
           "gridcolor": "white",
           "linecolor": "white",
           "ticks": "",
           "title": {
            "standoff": 15
           },
           "zerolinecolor": "white",
           "zerolinewidth": 2
          },
          "yaxis": {
           "automargin": true,
           "gridcolor": "white",
           "linecolor": "white",
           "ticks": "",
           "title": {
            "standoff": 15
           },
           "zerolinecolor": "white",
           "zerolinewidth": 2
          }
         }
        }
       }
      },
      "text/html": [
       "<div>                            <div id=\"22a824fa-54d8-4d7b-9f10-d5f82d5a22bf\" class=\"plotly-graph-div\" style=\"height:525px; width:100%;\"></div>            <script type=\"text/javascript\">                require([\"plotly\"], function(Plotly) {                    window.PLOTLYENV=window.PLOTLYENV || {};                                    if (document.getElementById(\"22a824fa-54d8-4d7b-9f10-d5f82d5a22bf\")) {                    Plotly.newPlot(                        \"22a824fa-54d8-4d7b-9f10-d5f82d5a22bf\",                        [{\"hovertemplate\":\"Sensor=HCV<br>PC1=%{x}<br>PC2=%{y}<br>PC3=%{z}<extra></extra>\",\"legendgroup\":\"HCV\",\"marker\":{\"color\":\"#636efa\",\"opacity\":0.5,\"symbol\":\"circle\"},\"mode\":\"markers\",\"name\":\"HCV\",\"scene\":\"scene\",\"showlegend\":true,\"x\":[-1.71764270923546,-1.5030881350070286,-1.3333188450290245,-1.1979180158046003,-1.0906364508305164,-1.0052249952180654,-0.9375166457562906,-0.884385769940309,-0.8406242851548147,-0.8072718946121196,-0.7801607102820054,-0.7586644450233312,-0.7416351828839991,-0.7280285136906061,-0.7172213263976853,-0.7085823057714973,-0.7017064290861084,-0.6962744469189843,-0.6917745050855751,-0.6883211465540018,-0.6854977791574189,-0.6832381309315159,-0.6814308503454906,-0.6799610117639826,-0.6787693376770462,-0.6777685727572759,-0.6769183775334258,-0.6761818328840562,-0.6754713206922843,-0.6748036783924425,-0.6741030224172573,-0.6733353021637984,-0.6724807471476747,-0.6714561389000495,-0.6701943461158112,-0.6687401487596837,-0.6669116604298622,-0.6645930539609152,-0.6617182395281481,-0.6581146734651888,-0.6537004593980121,-0.6482783362618111,-0.6415748594658868,-0.6333677174148087,-0.6234521698314202,-0.6112148103296574,-0.5963054995991168,-0.5783249346005237,-0.5563347243160757,-0.5296768807908099,-0.4964132168771682,-0.45681553371747124,-0.40910651194751113,-0.3513196856536764,-0.2828875214545195,-0.20229670114755516,-0.10731687222029523,0.002223543832742758,0.13031450503707537,0.2800396948255758,0.45349749116688104,-1.961868131535556,-1.747306160399162,-1.5774622532651636,-1.44205971697426,-1.3347776815849115,-1.2492968093269887,-1.1815901785816014,-1.128462760420085,-1.0847088551695512,-1.0512973505059673,-1.02420334878996,-1.0026609377421816,-0.985592352720849,-0.9719634904304529,-0.961146246952334,-0.9525161123501527,-0.9455876848552016,-0.9401853829182143,-0.9357204133566288,-0.9322912495032304,-0.9294794076215314,-0.9272205073168631,-0.925392419464775,-0.9239609405672028,-0.9227180180028989,-0.9217334857555628,-0.9208220123819313,-0.9200128401649281,-0.9192444372354868,-0.9185139774102842,-0.9177571026369309,-0.9168220002367031,-0.9158692161631135,-0.914729530828275,-0.9133210325640022,-0.9116563881842132,-0.909617937588715,-0.9069870044632785,-0.9037715788602032,-0.8997004032976663,-0.8945669574354067,-0.888098317422934,-0.8799585733382519,-0.8694696759015176,-0.8564211665935391,-0.8398252823715592,-0.8190235145404067,-0.7927486343268604,-0.7596139922410554,-0.7180729979273479,-0.665801235766321,-0.6000470624365715,-0.5187692094861895,-0.41635004626126415,-0.29118385273267827,-0.13339918486653962,0.06259956248815639,0.3052849112479424,0.6000457103112821,0.9655602093808104,1.4014149167810541,-1.282674175149324,-1.0681010902900567,-0.8983186010739307,-0.7628900309289885,-0.6555804862612808,-0.5701405170972358,-0.5023902128596714,-0.449211180966792,-0.4053967759608884,-0.37198772163121707,-0.34481866378021786,-0.3232620659601241,-0.30617815922469066,-0.2925254631568044,-0.2816753063669134,-0.27299901746546545,-0.26608510717033806,-0.2605976845994573,-0.2560211124289894,-0.2524309890589831,-0.24941714495275427,-0.24688665007397162,-0.24470281456525128,-0.24273047734937384,-0.24091414405567727,-0.2391190940186731,-0.23725884217447055,-0.23524126168794712,-0.23293654808589065,-0.23028024484113369,-0.22710606877075545,-0.22324817475419353,-0.2185474315108558,-0.2125763093993452,-0.2054873643208745,-0.19633647711534719,-0.1851383975575155,-0.1708122418412395,-0.15279324621525495,-0.1302145264260323,-0.10155381325839602,-0.06547362095135237,-0.019944412110669302,0.03770066194611338,0.11007085088893234,0.20034287528034694,0.312845798875216,0.45202294612106975,0.6177780826205411,0.8136083314079562,1.0397208757428265,1.2951304205757204,1.563956602097939,1.8392050700927882,2.1100982934002075,2.3575445410568934,2.5834354243641364,2.773782065836879,2.9342592264753695,3.0559808718579924,3.1586106612996607,-1.7810339550714858,-1.5664675241840476,-1.3966772838856998,-1.2612555190381585,-1.1539452177425937,-1.0685041136367635,-1.0007526744574138,-0.9475721293088207,-0.903755643576311,-0.8703375140656686,-0.8431576786210204,-0.8215991892312846,-0.8045045049022023,-0.7908359283559445,-0.7799749939724046,-0.7712879274773078,-0.7643543535645247,-0.7588561533999951,-0.7542650204965942,-0.7506603363936548,-0.7476281484152087,-0.7450685320705601,-0.7428695640047032,-0.7408662137533175,-0.7389910657036852,-0.73714419536511,-0.7352251287649718,-0.7331158289173625,-0.7307124014998554,-0.7279314742888621,-0.7245578029209092,-0.720502481273446,-0.7155105233714475,-0.7092992154485027,-0.7016014461439404,-0.6919323559227033,-0.6800062397182198,-0.6649313706885576,-0.6457154032771242,-0.6216599335278634,-0.5910535352613919,-0.5530069811887787,-0.5044336512176375,-0.4432341675581307,-0.36623180964769897,-0.27081732781640566,-0.1508844535080299,-0.0054122973339146285,0.17062775404531427,0.3755507935068846,0.6137606769291496,0.8691702217620435,1.1519853120137318,1.4304450950891656,1.69944674875451,1.9538874507759303,2.1690007404342877,2.35934738190703,2.5090469488966347,2.6326601639213334,2.7282954989982664,-1.454537885009328,-1.2399729682482654,-1.0701898191594201,-0.9347727828006527,-0.827472163729669,-0.7420374909606218,-0.6743027108505146,-0.6211426255201513,-0.5773493225954935,-0.5439635830482182,-0.5168187285820157,-0.4952959767985821,-0.47824213731383586,-0.4646210217523504,-0.45380244982217105,-0.4451634204893611,-0.4382733526783457,-0.43283189960307833,-0.42830244057663097,-0.42478534050143063,-0.4218551211866253,-0.4194404077831814,-0.41741396828192556,-0.4156627686171396,-0.4141116508005057,-0.4126854568437062,-0.4113209723427588,-0.40997296397642063,-0.40855777286412426,-0.40705915573802043,-0.40539555432190966,-0.4035537252789245,-0.4014074419336233,-0.3989973183290612,-0.39616529525338506,-0.3929372369748979,-0.38918228593902177,-0.3847517103751749,-0.3796724160320776,-0.37362211658068034,-0.3663564602878806,-0.3576971017852919,-0.3471871577600436,-0.33440591946983445,-0.31857545750284944,-0.2993247475858672,-0.2755470225516539,-0.2457031899958427,-0.20901542465466044,-0.16389578283899425,-0.10926608859178877,-0.04297076069444178,0.037277808689520686,0.13280382245759298,0.24387129218630194,0.37649373050189466,0.5332621941421368,0.7143834810187859,0.9276306884415095,1.1704127909169544,1.4651912295059275,-1.9528999339443978,-1.7383355653032004,-1.568552359467266,-1.4331352663614092,-1.325834268976497,-1.2403994070504858,-1.1726638703125216,-1.11950340666823,-1.0757093471157155,-1.0423228509405833,-1.0151817576506508,-0.9936508764710672,-0.9765955237306072,-0.9629657113020793,-0.9521452478022578,-0.943497332445441,-0.9366053730647836,-0.9311531423958674,-0.926612905775771,-0.9230850281069218,-0.9201421396288256,-0.9177147570620907,-0.9156667623735371,-0.913901001975818,-0.9123245458326024,-0.9108730135492209,-0.9094743046976848,-0.9080877170172701,-0.9066116434823646,-0.9050402226915955,-0.9033157388528756,-0.901359139419037,-0.8990910912285173,-0.8965731916874664,-0.8935445324352334,-0.8901009222837685,-0.8861304193749145,-0.8814842919380901,-0.8760306409382994,-0.869638097981015,-0.8618903090950332,-0.8529511724178551,-0.8417624596228679,-0.8283231292296541,-0.8120730000007851,-0.7920243088935037,-0.7674486026689912,-0.737226456184765,-0.7001603769151676,-0.6542841072426713,-0.597820025773747,-0.5288017082540003,-0.44569817470378725,-0.344915338655123,-0.22566129035607718,-0.08555171890662103,0.0794033233039579,0.2708095250603644,0.49524785946666394,0.7558020099557295,1.0505804485447028,-1.6262516232805135,-1.4116902028759712,-1.2419099826727535,-1.106496347221362,-0.9991974833921655,-0.9137636200800845,-0.8460264909409725,-0.7928586677847798,-0.7490519918980836,-0.7156433687114502,-0.6884647210376967,-0.6668914641483604,-0.6497706144260269,-0.6360683853533838,-0.6251533869045682,-0.616410936598757,-0.60943143672347,-0.6038986600142889,-0.599301500207899,-0.59572822486764,-0.5927559952935368,-0.5903077619276297,-0.5882417320278122,-0.5864335221105137,-0.5848055107935708,-0.5832560581136768,-0.5817232694122877,-0.5801240799753192,-0.5783545954803448,-0.5763475002791791,-0.5740183769746048,-0.5712104425670975,-0.5678106678356005,-0.5636321937081356,-0.558320809554277,-0.5521002920312138,-0.5442516360250111,-0.534344748681809,-0.5217862750401646,-0.5060097856878726,-0.4864229671439073,-0.46184889940130425,-0.43108155050271213,-0.3920835726584968,-0.3435715955644243,-0.28380914286435127,-0.20467303001222764,-0.11048496353052326,0.010311761840767653,0.1619137145724445,0.3492965747464266,0.582331786396606,0.8750875182497364,1.2433167315924982,1.6977486067641328,2.2885365110122122,2.9873198048382914,3.8765361293937177,5.019135626035128,6.383005133541873,8.094836326482783,-2.1246190615979845,-1.9100568074465611,-1.7402771731946012,-1.6048624599838448,-1.497563406997684,-1.4121284659262383,-1.3443907693162336,-1.291223588423057,-1.2474154564630675,-1.2140058874916129,-1.1868257837445664,-1.1652506352855878,-1.1481274013148433,-1.1344162862181935,-1.1234975046300935,-1.1147461683002755,-1.1077558908313396,-1.1022174394132322,-1.0976025075588287,-1.0940216659400015,-1.0910348756329653,-1.0885631955101183,-1.0864769301684416,-1.0846428101003576,-1.0829832139237028,-1.081426766789444,-1.0798351633321193,-1.0781771591392153,-1.0763628487970345,-1.0742780231435125,-1.071852253690161,-1.068893785165632,-1.0653294874083838,-1.0609996877095527,-1.0552748392938303,-1.0487739302034584,-1.0407361172330483,-1.0301711377868417,-1.01702451658584,-1.0007298242178384,-0.9801558675193663,-0.9544754492016965,-0.922581073061303,-0.8813290407334848,-0.8305137412788965,-0.7664244220323817,-0.6858894183073112,-0.585120430795562,-0.4589349085998282,-0.3040424953531291,-0.10937926871262893,0.14002910007822428,0.4438483376820237,0.8334259716552117,1.3039450918657367,1.923854461979889,2.622637755805968,3.567809715279275,4.851089753559766,6.026108993218667,8.019786027422427,-1.7977019934949812,-1.5831391557192005,-1.4133578775429767,-1.2779411803607514,-1.1706407108740147,-1.0852051099298496,-1.0174657900526014,-0.9642974213885301,-0.9204913921181612,-0.8870860065629333,-0.8599136230320128,-0.8383547596816594,-0.8212574358617,-0.8075900029638494,-0.7967218980289135,-0.7880231299219014,-0.7810961982694202,-0.7756057840135997,-0.7710324666913219,-0.7674785027746558,-0.7645095280487426,-0.7620611621189136,-0.7600010700912725,-0.7582105431911752,-0.7566182065695879,-0.755140016214186,-0.7537146492906295,-0.7522855230598228,-0.7507555615566728,-0.7491421740397155,-0.7473288299609274,-0.7452973591957501,-0.742947445219527,-0.7401818806546927,-0.7369244720750967,-0.733252112596269,-0.7288619424255312,-0.7236751743359484,-0.7175277961417201,-0.7103262708411595,-0.701869796336041,-0.6918608148374181,-0.6802396726572559,-0.6664871252994278,-0.6502735018241808,-0.631808010974207,-0.60924308681233,-0.5838994486802807,-0.5529787940919564,-0.5178229356479891,-0.4757656495541689,-0.4260502454648408,-0.36773082399612106,-0.29821626592141925,-0.21743171662841598,-0.11900295926558677,0.0017593992142545534,0.14345649918257336,0.3133687591799087,0.524658010851546,0.7752259595472812,-2.296069089873678,-2.0815062520978973,-1.9117249360902804,-1.7763082389080553,-1.6690075802643545,-1.583571790163225,-1.515832791417485,-1.4626644227534136,-1.4188573157236797,-1.3854522512999599,-1.3582793002981468,-1.3367191128490439,-1.3196217890290844,-1.3059524645615919,-1.295077365172291,-1.2863855915196438,-1.279442779388791,-1.2739574680176933,-1.2693822591257733,-1.2658175176154585,-1.262853645774268,-1.26039450225079,-1.2583357299685876,-1.2565306423355571,-1.2549288478657594,-1.2534304220684982,-1.2519791449941562,-1.250524108612564,-1.2489612425042638,-1.2473009614734267,-1.2454078192756088,-1.2432475892108485,-1.2407709836017158,-1.2378976431003925,-1.2345834874315345,-1.2305556869924343,-1.225931049252298,-1.2203888402024428,-1.213918134198748,-1.2062344763050052,-1.1972637560558987,-1.1865060612438896,-1.1740662612066939,-1.159614268412392,-1.1424420979928167,-1.1221787256747464,-1.0987251991121885,-1.0721718270713996,-1.0403625700823942,-1.0032975322932138,-0.9598413553264468,-0.9091053742925868,-0.8488767734786541,-0.77699993000683,-0.6922254747623309,-0.5928905052956829,-0.4724140589176248,-0.3305101922819608,-0.15290403248341702,0.05340995569846768,0.3036919922924197],\"y\":[-1.0289636261342554,-0.8656588064036097,-0.7364417281383042,-0.6333842194282179,-0.5517298151528007,-0.48672206910543236,-0.4351895830625958,-0.3947536293378352,-0.3614502715680815,-0.3360713722995413,-0.31544510610071974,-0.2990951548209472,-0.28614841118159906,-0.27581069792375645,-0.2676072406616362,-0.261059235521657,-0.25585525356848793,-0.2517541351040481,-0.24836380920206694,-0.24576877352722984,-0.2436519399191133,-0.24196402570548034,-0.24061954174421327,-0.23953406699686072,-0.23866174834135787,-0.23794301445495156,-0.2373470068995114,-0.23684736489074562,-0.23638729531156602,-0.23597814556998062,-0.23557190013082394,-0.23515091615656383,-0.2347021937947046,-0.2341834636086412,-0.23356079473406785,-0.2328551291094321,-0.23197751036795386,-0.2308723322244525,-0.22950645653502308,-0.22779827335418965,-0.2257085314272306,-0.22314237239586274,-0.21997015257813432,-0.21608800582498736,-0.21139266346076604,-0.20560012782811302,-0.1985386043302638,-0.19001899623726562,-0.17959459835781136,-0.16695636313971798,-0.1511606135431344,-0.1323609307994765,-0.10969937285774384,-0.08223203318546984,-0.049700946993420425,-0.011418287449011744,0.033729879999395196,0.08574638298582754,0.14651985028462994,0.21742676712478998,0.2994960302667481,-0.3017504767073972,-0.13844234516978265,-0.00918887274136727,0.09386936172563487,0.17552390464131018,0.2405656060392346,0.29209716059052154,0.3325313173062572,0.3658309044400566,0.3912387007063034,0.41185648087133836,0.4282289840136903,0.4411948527692983,0.4515434546152829,0.4597518833232264,0.466295599188947,0.4715254700401366,0.47561209655221004,0.4789852747033308,0.48156831162565295,0.4836791552036868,0.48536622838558247,0.48672016931180323,0.48778595452073414,0.4886823174121404,0.48939166910299076,0.4900160288609426,0.49054918141674025,0.4910350614108703,0.49147175970792895,0.491901301812999,0.4923996142241885,0.4928897248424806,0.49345674911619464,0.4941398323312049,0.4949351335690507,0.49589740715653835,0.49713201122178063,0.4986344055876629,0.5005325692232949,0.5029241491980706,0.5059383928337413,0.5097308289966069,0.5146199744721588,0.5207091913978,0.5284626456421061,0.5381897811174607,0.5504917078832025,0.5660213714496991,0.5855167467950121,0.6100770089885756,0.6409903897974559,0.6792849068550502,0.7275388770760264,0.7866073990229496,0.8611274226223931,0.9538426197208383,1.0687040064288298,1.2082861215551288,1.3816796016722284,1.5885461965590946,-0.9585011660831955,-0.7951874822258486,-0.6659641793724717,-0.5628933607916419,-0.4812255631773511,-0.41620420620602194,-0.3646515491730758,-0.32419243056346553,-0.2908635922615326,-0.26545741077870105,-0.24480326242796252,-0.22842431135496027,-0.21545147883424998,-0.20509204446477303,-0.19686865655772096,-0.1903039634242849,-0.18508344673012705,-0.18095813263415206,-0.17753423076191616,-0.17487728560666194,-0.1726736292119634,-0.17086111108280722,-0.1693422246322115,-0.16802310120294556,-0.16685960712111836,-0.16576984627624636,-0.16470148582038124,-0.16360156959959182,-0.16239438122070798,-0.16105181424549647,-0.15948376404324244,-0.15760993072600665,-0.1553512184945393,-0.15250059931135462,-0.14913050509835507,-0.1447898707020277,-0.13948412248163522,-0.13269598244142627,-0.12414712296562902,-0.11342632344525877,-0.09979282605734574,-0.08261098742471018,-0.06088536600500738,-0.03332838680020134,0.0013462734821113598,0.044682855360344054,0.09882444381710481,0.16591591379790505,0.24603896098425654,0.34090828119016026,0.45069333246870147,0.5750465342785372,0.7062491493880477,0.8408717068971907,0.9737652560237082,1.095500917901278,1.206938448325416,1.3012187707335694,1.3809210970218584,1.4417561450042968,1.4931622189939646,0.3433000904202594,0.5066104994777698,0.6358375757709535,0.7389050507740199,0.8205731922779452,0.8855950650837264,0.9371482379511247,0.9776080443400043,1.0109378283384325,1.0363483850679316,1.0570076824170156,1.0733874932141045,1.0863654747331601,1.096732627927068,1.1049611648324658,1.1115310069642472,1.1167609619310093,1.1208914250253297,1.1243221953440845,1.1269860089458577,1.1291982532352485,1.1310245082574424,1.1325502725007317,1.133883992547122,1.1350749697611997,1.1361887841881497,1.137284627776265,1.138427483470516,1.1396810408730333,1.1410820036629172,1.1427444833220877,1.1447110546865904,1.1471071358484353,1.150069425701144,1.1537312653331384,1.1583124355502474,1.1639616060965838,1.1711100825592293,1.180225518776524,1.191650077045275,1.2062104875971218,1.2243361534901838,1.2475205020048612,1.27679319091318,1.3136984607335536,1.3595226347583855,1.4172666528220403,1.4874447179577144,1.5725429494372642,1.671870684866875,1.7876551124028806,1.9120083142127164,2.050070029666391,2.1864026891742165,2.318436514214034,2.443601726263686,2.549890258342342,2.6441705807504956,2.7187239086933026,2.780418680762441,2.8283952045800267,-0.7953261551473458,-0.6320163841548946,-0.5027926561125617,-0.39972735527681713,-0.31806376470284636,-0.2530448149589599,-0.2014995394031323,-0.16104943294255286,-0.12773063658931982,-0.1023355277894748,-0.08169288104914851,-0.06533006475045211,-0.05237139898482296,-0.042026819149696526,-0.03381803720594351,-0.02727052920806683,-0.02206034789529876,-0.017955676523579378,-0.014552436067948316,-0.011928179120338167,-0.009761528246066575,-0.008000630946811249,-0.006552279256023696,-0.005332911859339207,-0.00428895681026209,-0.0033668421622966016,-0.0025245611027094883,-0.0017314729191247324,-0.0009333356281903127,-0.00012520861114040382,0.0007435028394504051,0.0016809845961607839,0.002750876117029233,0.003935406345212333,0.005313090297253242,0.0068715832755713024,0.008674143386092625,0.010791833255209216,0.013211515464939594,0.01608686724524705,0.019532730147259703,0.023635365288393828,0.028610295297523958,0.03466408590537612,0.042158016475363436,0.051280954244823096,0.06254858344519959,0.07671564293047117,0.09414333279201098,0.11560345620086526,0.14161123007974263,0.1731965016609635,0.21147419560406666,0.25704619804178214,0.3100826321197304,0.3734168964173583,0.44825170174738993,0.5347562128563619,0.6365385066920188,0.7523958962232483,0.8931385058319635,0.5064740199729947,0.6697835167883557,0.7990072706224112,0.9020725972498783,0.9837363597686664,1.0487553954849616,1.1003010149304238,1.1407512933358206,1.1740704335786882,1.199465886268168,1.220106648157826,1.2364734098411463,1.249432763386045,1.2597815465230215,1.2679911881908612,1.2745429854629966,1.2797540264998513,1.2838638468699162,1.2872722363238929,1.2899016422698484,1.2920743018665524,1.2938412078882395,1.2952998575757182,1.2965260934189216,1.297582065912863,1.298516198005693,1.2993747857844034,1.3001859094814592,1.301013221314293,1.3018556905639374,1.3027535765564278,1.303745977846765,1.3048742184514324,1.3061102386630705,1.307582305341154,1.3092437782863815,1.3111493183638125,1.3133699881998389,1.3159698386207874,1.3190082575923263,1.322685778689012,1.3269255958370296,1.3322265667668753,1.3385894841989507,1.346289187779263,1.3557898433763877,1.367435190404429,1.3817741947070408,1.3993738293859206,1.4211778424294548,1.44804440577756,1.4809173942538871,1.520567842883295,1.5686293067025532,1.6256120600220754,1.692549688544069,1.7713308131156742,1.8628105085178448,1.970080082628833,2.0945160206776268,2.2352586302863418,-0.6320779957357776,-0.4687699892326227,-0.3395477677623601,-0.23648423814391764,-0.15482167082729378,-0.08980331447871079,-0.038257171721856664,0.0021963764389220652,0.035521275898553195,0.06092703593089854,0.08158556793986188,0.0979724163244346,0.11096309185221437,0.12134654241907061,0.12960165600175821,0.13619892518874166,0.14145200859027218,0.14560044177484088,0.14903545463698092,0.15168549396101744,0.15387023642580855,0.15564411370193676,0.15710720220246954,0.1583482215862917,0.15942161287016043,0.1603929841377852,0.1613034918239873,0.16220097112287668,0.16314911163658447,0.16417606653421718,0.16533247725407418,0.1666935227242733,0.16831433862373346,0.17028530155321575,0.1727743284881053,0.17567135591635402,0.1793144732663905,0.18390863581393851,0.18973263848350602,0.1970436057807018,0.20611953990963244,0.21751057914754363,0.23176772544061708,0.24986989427140116,0.27238553993984155,0.3001391647369502,0.33691060057121586,0.3807231871680852,0.43690480637288254,0.5075131090168171,0.5947846294309408,0.7033563175418265,0.8399228930153164,1.011869650711824,1.2238475598199985,1.5003802881771302,1.8267488402762335,2.242425778489377,2.7782770940013193,3.417201758898032,4.219287029210149,0.6697195294543508,0.8330279399529331,0.9622498700516237,1.0653139145699004,1.146976567858933,1.2119954391073506,1.2635418397814306,1.3039950459218097,1.3373206322260927,1.3627268221204814,1.3833860409740966,1.3997737490827562,1.4127654581486748,1.42315319798979,1.431410031020651,1.438011589481893,1.443269821881769,1.447420834238598,1.4508644256492556,1.4535179038696389,1.455709514780949,1.4574945497778546,1.4589670858971664,1.4602201320720276,1.4613081293191956,1.4622829301369924,1.4632209209554448,1.4641458833865846,1.4651146479321984,1.4661776832029483,1.4673787715367896,1.4688102396127003,1.4705083372182162,1.4725480780746345,1.4752378037909013,1.4782587623340808,1.4819878520927874,1.4868911414645585,1.4929899754566285,1.5005414785746058,1.5100811029398713,1.5219875093210666,1.5367769368539166,1.5559436681642538,1.5795412577174757,1.6093215882772638,1.646778934145946,1.6936827889850476,1.7524389073625861,1.8245928441276371,1.9152985878012014,2.0317629143952347,2.173483161301565,2.355558774724112,2.575424649228075,2.86569427062297,3.1920628227220735,3.635176162311874,4.237973802489798,4.784300612740292,5.725259299584944,-0.46870061386450124,-0.30539188799696587,-0.17616911050989936,-0.0731040389958057,0.00855938337181758,0.07357867980919108,0.12512601870282683,0.16557999018332661,0.19890479619360923,0.22430926009750227,0.24496512041947452,0.2613453517324321,0.2743250340073118,0.28469216850887014,0.29292496665000245,0.29950163049742917,0.3047298192851443,0.3088584975080683,0.3122831749888185,0.31492543941137585,0.3171109574846812,0.31888815215688493,0.32035280122062093,0.3215910451625139,0.3226547364808863,0.3236017363964925,0.32447319199797914,0.3253049023422423,0.3261579591668037,0.3270210057174804,0.32796178445255864,0.32899021938513956,0.3301579231822226,0.33151402438075706,0.33309757480487,0.3348705314961272,0.33698184458388314,0.339468281192809,0.34241099316921864,0.34585217399704604,0.34988937728393815,0.35466054105426037,0.3602006458786803,0.3667510202983806,0.3744667033577136,0.38324528418375736,0.39397923021814973,0.40600071795655857,0.4206819638280176,0.43733791314354153,0.4572556652689258,0.4807791574020743,0.508338338785581,0.5411359677953942,0.5792561951684644,0.6256211957453235,0.6824625453903203,0.7490943578506505,0.8289508960217745,0.9282146884609541,1.0458569018253805,0.833097091792792,0.9964058176603274,1.1256286123418755,1.2286936838559692,1.310357192196001,1.3753765746057833,1.4269237424892192,1.467377713969719,1.500703034879836,1.5261073277735293,1.5467634460127275,1.5631442791325458,1.5761239614074254,1.5864919556330705,1.594728183324375,1.6013014176216296,1.6065373252337756,1.6106634336306143,1.614088970835451,1.6167363842563538,1.618919332503574,1.620701676174123,1.6221654748599472,1.6234105872483588,1.6244785771871648,1.62543502472155,1.626318507114076,1.6271622442493783,1.6280307574151505,1.6289161194073825,1.6298946699252275,1.6309848834917793,1.6322126745131844,1.6336202656951735,1.6352296078418873,1.6371741355034959,1.6393970257990285,1.6420550333783055,1.6451522153050795,1.6488250543275802,1.6531110168291323,1.6582425170218908,1.6641772537704682,1.671070583207377,1.6792494891943088,1.6889028389686014,1.7000657124288718,1.7126871377930273,1.7277973110903644,1.7453961530488433,1.7659998152086438,1.7900372725588687,1.8185393465853303,1.8525359162291646,1.8925447327405593,1.9394218292995513,1.9962585058571896,2.0630594592824445,2.146688502642859,2.243716077839147,2.3613536181162145],\"z\":[1.8564690627772928,1.0807100111089258,0.4668812393564612,-0.02267523965701601,-0.41055435078687474,-0.7193510217874092,-0.9641284167849884,-1.1561838678085021,-1.314346391374296,-1.434849922522431,-1.5327575053902702,-1.610328420499528,-1.6717047403467986,-1.7206517935397823,-1.7594293152564784,-1.7902957689446586,-1.8147592239497217,-1.8339483700290908,-1.849747321935637,-1.861781388373845,-1.8715568991256546,-1.8792995401194217,-1.8854243592622242,-1.8903066047046333,-1.8941730331309838,-1.8972461182016962,-1.8996771683425409,-1.9015787629787608,-1.9031343832313146,-1.9043079852897409,-1.9052460674780263,-1.9059687045227798,-1.9065155742894495,-1.9069163458533422,-1.9071858719306405,-1.907356137333188,-1.9074181548498799,-1.9073707028222304,-1.9072248681419666,-1.9069566236222357,-1.9065738672088997,-1.9060534901930346,-1.9053689959992484,-1.9045029013348178,-1.9034199062339603,-1.902067912704928,-1.9003948892785647,-1.8983566660761055,-1.895843111638,-1.8927846652491755,-1.888901967297984,-1.8842842036111307,-1.878691283340075,-1.8718699010312951,-1.863780751794043,-1.8543186460038812,-1.843094962742495,-1.830272918417391,-1.8153997050587791,-1.7983188216715293,-1.7787091920949891,2.3326892347260104,1.556930581634471,0.9431127845914837,0.45355630779227596,0.0656770543785603,-0.2431091792412171,-0.4878870440743812,-0.6799432611240748,-0.8381070712570671,-0.9586017579814665,-1.0565121132979278,-1.1340761376981054,-1.1954468006957069,-1.2443904406465054,-1.283166328215316,-1.3140339844289421,-1.3384891105712162,-1.3576826582670214,-1.3734869639534615,-1.3855250498766498,-1.3953031140490586,-1.4030469741685117,-1.4091703438471728,-1.4140605130903148,-1.4179216209372512,-1.4210005048969787,-1.4234261192891813,-1.425321487559955,-1.4268742420847054,-1.4280458022326128,-1.428985219748262,-1.4296932791504051,-1.4302408917980605,-1.4306429831215275,-1.4309168772888405,-1.4310864869414017,-1.4311589692089879,-1.4311189356666931,-1.4309919699125577,-1.4307436671398348,-1.4303691592238397,-1.4298400666769526,-1.429131376620853,-1.4281763530526952,-1.426945132787789,-1.425336199121866,-1.4232818742520823,-1.4206366814876823,-1.4172534279158517,-1.412942300276903,-1.407443714703799,-1.4004786912285478,-1.3916720494872852,-1.3805744898493877,-1.36678262974232,-1.3492589331261435,-1.3271469458508223,-1.2996231700974374,-1.266020646700447,-1.2236377541851797,-1.1728535578371126,3.9138929606338144,3.1381362487646425,2.5243089216511145,2.034756008944321,1.6468804224032043,1.3380872548295064,1.0933153499157862,0.9012662294262488,0.7431107183788588,0.6226146939362529,0.5247148187481918,0.4471517826190197,0.3857821869541039,0.33684020729859443,0.2980666125185163,0.26720217147989417,0.24273961541427705,0.22355199734450434,0.20775546605663964,0.19573034334197403,0.18596868498447938,0.17824841263213792,0.17215741050663402,0.16732242359964689,0.16351643168790647,0.1605220181514726,0.15819225615747778,0.15642191320282278,0.15502986341672298,0.15406364878623086,0.15338540240369897,0.15299064917283872,0.15285583793639224,0.15299454073439467,0.1533614298058678,0.1540459245758602,0.15503164405187886,0.1564407202519122,0.15833998453198755,0.16083450952854972,0.16412585252648354,0.16836906802899504,0.17387053286302673,0.18098723883796874,0.19013205190391724,0.2017573688511829,0.21657168169490726,0.2351751234108289,0.2578508270880794,0.2851345472984888,0.3172142350385237,0.3542544278154614,0.3939814299636935,0.43532410892200624,0.4769479438274011,0.5157722102614871,0.5519285270586676,0.5832752692866725,0.6102075570564235,0.6315229025800151,0.6497579755841507,4.582693331406949,3.8069355725003016,3.193109368850539,2.7035553985647143,2.315679864731384,2.0068867762193667,1.762114950367327,1.5700659352933637,1.4119105691923877,1.2914157604521748,1.1935172195590271,1.1159543151993223,1.0545860538293201,1.0056463474552355,0.9668740869700709,0.9360109802263624,0.911550960981105,0.8923646772062457,0.8765697437522293,0.864546218871412,0.8547864218867005,0.8470693452020557,0.8409793972322908,0.8361477377624675,0.832347593508011,0.8293579568728826,0.8270340425361715,0.8252730064454317,0.823891334279226,0.8229378857192806,0.8222822891497992,0.8219082911587271,0.8218054365992465,0.821966706209101,0.8224110175860384,0.8231432813690825,0.8242088925375158,0.8257168061625888,0.8277519693209677,0.8304252234349843,0.8339513027362613,0.8384482002747409,0.8443367766360939,0.8519344927894957,0.8616937455252573,0.8740274007934749,0.8898844556985196,0.9094515777953328,0.9335439581144869,0.9622196610972951,0.9963090913274851,1.0333492841044227,1.0752177982101916,1.1173676942125097,1.1588597596505228,1.1987547820633773,1.2335768039470265,1.2649235461750312,1.2905215390312508,1.3119686540222242,1.3291329710475914,3.5182757933960453,2.7425180457156144,2.128691056325875,1.639136698295486,1.2512601398771135,0.9424666033489071,0.6976928584362253,0.5056414844823057,0.34748345311155077,0.22698469585440806,0.12908196759926546,0.05151482316977899,-0.009858034047567136,-0.05880338067108079,-0.09757975921021375,-0.12844737931629263,-0.15291042925929987,-0.17210066611818053,-0.1878987288389346,-0.19992777143714224,-0.20969292116929739,-0.21741892497724474,-0.2235185574866369,-0.22836719861751262,-0.23218933177278211,-0.23520944035535532,-0.2375754887535993,-0.23939831018920182,-0.24086341212585086,-0.24192952874265936,-0.24274276305521114,-0.24332463925425662,-0.24370216770368505,-0.24392239651315878,-0.2439862585711365,-0.2439244209947874,-0.24373728643812168,-0.2434201740360209,-0.24299998508119944,-0.2424329249017966,-0.24171148998377964,-0.2408138893128984,-0.2396950125859307,-0.23829438026860528,-0.2365425983360175,-0.234369442751277,-0.23167017425827466,-0.22821035628901787,-0.2239202182361566,-0.2185720553747535,-0.21203394454323746,-0.2040392527083694,-0.19425399037047084,-0.18258629548481997,-0.16890130448555954,-0.15254693283610068,-0.13328448610416357,-0.11092461993823258,-0.08475098743375556,-0.055002395997746284,-0.0187138735119943,4.187075889404029,3.411318045189557,2.797491059752902,2.307936705675597,1.9200601736111178,1.611266650259858,1.3664929580549634,1.1744416104549371,1.0162836317919692,0.8957849272426135,0.7978815285199662,0.7203155339081388,0.6589427821063667,0.6099986248313525,0.5712223780616869,0.5403559604810542,0.5158930423075143,0.4967041397435471,0.48090741131770665,0.46887970301441245,0.45911601934663826,0.4513914816030718,0.4452945176835067,0.44044747438647924,0.4366282733599716,0.4336110969061603,0.4312491831621243,0.4294302162415552,0.4279728565354527,0.4269147290878857,0.4261092370058802,0.42554177451194886,0.4251797305236133,0.42497284466327484,0.42493435080889397,0.4250228742835137,0.42523669473845005,0.4255804930388214,0.42605010070616267,0.4266585074276453,0.4274427040073174,0.4283831349173493,0.429590141509569,0.4310599579595215,0.4328759852508353,0.4351397400877783,0.437929607832983,0.441415779695716,0.4457322716420536,0.45113314229040935,0.4578573904002311,0.46615847205801997,0.4763176689765016,0.4885849665612558,0.5033654074087892,0.5207081533086442,0.5410660498888544,0.5648425926966889,0.5927294347671952,0.6248830770955043,0.6611715995812563,3.1226806852882176,2.3469222855880076,1.733094683709329,1.2435395636058444,0.8556623577538127,0.5468682396766806,0.30209419159097894,0.11004318161149607,-0.04811385982822952,-0.16861043946586743,-0.2665095882618341,-0.3440707053303641,-0.4054352767422996,-0.4543703047840669,-0.4931341309908689,-0.523988128008638,-0.5484396963752929,-0.567618319888354,-0.583409332426378,-0.5954338782624549,-0.605198435548232,-0.6129273559171518,-0.6190318161610187,-0.623886405583067,-0.6277160194948488,-0.6307432965267308,-0.6331168765146566,-0.6349449572909664,-0.6364110531770977,-0.6374703405765442,-0.6382716408954359,-0.6388223945593027,-0.6391563664078,-0.6392936717136248,-0.6392209956625186,-0.6390008811123187,-0.6385752541441958,-0.6379058295814983,-0.6369529599736613,-0.6356733486560152,-0.6340235823535403,-0.6318889674152304,-0.6291838770077696,-0.6256476873598567,-0.6212283108042476,-0.6157253932116349,-0.6083703679170871,-0.5994946183483801,-0.5881199532872035,-0.5736035425638504,-0.5556586597038354,-0.5332477686672201,-0.5046910681180279,-0.46836640692090514,-0.4240517661997769,-0.3642273861832276,-0.2951287025406659,-0.20634500787333737,-0.0882396866635499,0.051115128306888316,0.22637993021412817,3.7914799390542897,3.01572165578531,2.4018939547372016,1.9123389680632081,1.524461775388123,1.2156677907404825,0.970893782185621,0.7788426107627294,0.6206857291063886,0.5001892153534844,0.4022902263409026,0.32472924104184,0.26336471901764347,0.21443089350132227,0.17566733083345512,0.14481453634113217,0.12036430226939068,0.10118607406473182,0.08539746657760017,0.0733734478193927,0.06361048836746391,0.05588436835783861,0.04978190125622223,0.04492970028482646,0.041102870132099345,0.03807666385619607,0.035708931525554266,0.033886698406528304,0.032424308665723434,0.031372186618234765,0.03057936934597466,0.030043770203307063,0.02972709438796639,0.029600330639532157,0.02973156832957702,0.02996304618955048,0.030401850104411487,0.031140458799735926,0.032151804980412424,0.03347918531111016,0.03523272781252573,0.03747358833672654,0.04030387006270336,0.04409044234764803,0.0487519633674518,0.05469633964930304,0.062265516139604515,0.07183310703458184,0.08387491955252424,0.09873725093901242,0.11748105072317461,0.14208284145633604,0.17170199786443846,0.210505791562375,0.2572831710346703,0.32030321874780854,0.3894019023903702,0.4867516448878454,0.6216591218642985,0.732103525407992,0.9520931397284546,2.7271260972426647,1.9513679713322403,1.3375406182071483,0.8479860614955707,0.4601092592520608,0.15131561232820845,-0.09345781633775152,-0.2855083798578242,-0.44366499953200916,-0.5641613962491717,-0.6620605729558108,-0.7396228677526724,-0.8009897782275215,-0.8499283972453875,-0.8886978241707782,-0.9195566146900923,-0.9440141790837383,-0.9631969206507676,-0.9789884270661816,-0.9910119841150281,-1.0007715165283546,-1.0084928420039847,-1.0145877961810597,-1.019431363671216,-1.0232482914162988,-1.0262618602937716,-1.0286201664614694,-1.030433252524275,-1.03188394075581,-1.0329356436675043,-1.0337291104950483,-1.0342866892464757,-1.0346377787363286,-1.0348099065279563,-1.0348149600083003,-1.0346929961596436,-1.034414930345981,-1.0339867892619823,-1.0334046692156718,-1.032658215909226,-1.0317371244368672,-1.030617134397395,-1.0292808070757373,-1.0276841392832974,-1.0257947984484344,-1.0236471667451843,-1.0209915378543117,-1.0180786147972056,-1.0144819780945862,-1.0104697701706862,-1.0056827397214423,-1.0000684049093693,-0.9935612952414664,-0.9859229422349208,-0.9770316592706131,-0.9663852882979892,-0.9534239080911386,-0.9383617828205484,-0.9204001838532943,-0.8981553908785909,-0.8719487813230468,3.395925433179906,2.620167307269481,2.0063399567797786,1.5167854000682006,1.1289086110016378,0.8201149772547323,0.5753414678670677,0.3832909043469951,0.22513441810230148,0.10463794066343449,0.0067388034876356695,-0.07082339907059879,-0.13219030954544794,-0.18112879679384658,-0.21989715296325854,-0.25075701423855135,-0.27521230535077246,-0.29439598590431315,-0.31018736055025975,-0.3222095833041927,-0.3319700547040306,-0.33969004588474716,-0.34578567550939876,-0.3506276451657069,-0.35444391406345277,-0.35745548979867514,-0.35981140751572016,-0.3616221051278733,-0.36306933415277687,-0.3641154363458823,-0.364899843248206,-0.3654408667825618,-0.3657772956286056,-0.36593608047109805,-0.36593718086742055,-0.36576711600091794,-0.365461046594311,-0.36498480449246606,-0.3643626555987496,-0.36355344063064854,-0.36256151532619474,-0.3613426878616831,-0.35989681555519804,-0.3581930721648813,-0.35617277122561564,-0.3537656887005107,-0.35098980726502305,-0.3478759099589014,-0.34415902071166715,-0.3398387629408748,-0.33483758129587715,-0.3290354491815267,-0.32222028966673155,-0.3141256203512306,-0.30478134112591093,-0.29383843722916114,-0.2806052179676895,-0.2653536353708502,-0.24621420482695097,-0.22425764465651524,-0.19777919604635005],\"type\":\"scatter3d\"},{\"hovertemplate\":\"Sensor=HIV<br>PC1=%{x}<br>PC2=%{y}<br>PC3=%{z}<extra></extra>\",\"legendgroup\":\"HIV\",\"marker\":{\"color\":\"#EF553B\",\"opacity\":0.5,\"symbol\":\"diamond\"},\"mode\":\"markers\",\"name\":\"HIV\",\"scene\":\"scene\",\"showlegend\":true,\"x\":[-0.8020788640906652,-0.5875015799467924,-0.41770978288662935,-0.2822873427487256,-0.17498435747436483,-0.08955195023557719,-0.02181582406370658,0.03134884060651505,0.07514887838976071,0.10854413296766678,0.13570770962001494,0.1572576912996724,0.17434859248947063,0.1880184887811669,0.19889605156431328,0.2075902886108062,0.2145285696811398,0.22000613867663793,0.2245633994235129,0.22808089522588543,0.23101265391627002,0.23340906698060615,0.23540682427627757,0.23712841771721282,0.23866866890938532,0.2400893187565869,0.2415016188250867,0.2429354937819596,0.24447592225321146,0.24624903464296344,0.24828250125917045,0.2507121217382627,0.2536270828171848,0.2572632047484683,0.2616353137776693,0.26711081798959857,0.27377526433364324,0.28230878505047985,0.29285647662948866,0.3059847684828752,0.3226150201431673,0.34288774558590984,0.36875769008184056,0.40074409812708645,0.4406819818316164,0.490546242392694,0.5532080896556246,0.6294658172548322,0.7266574948174003,0.8480734787103097,1.0002951065557717,1.1892039164361825,1.4220803893809064,1.715583698780442,2.0823830704145756,2.536212233035787,3.1037293003237245,3.813642236054184,4.683151316111239,5.694132288003713,7.174048336204297,-0.37888950412358796,-0.164312257811108,0.005479488176674763,0.14090205504974457,0.2482050024927124,0.3336375988884642,0.40137410337426327,0.4545317735901201,0.49833256800122266,0.5317287683639498,0.5588864855037184,0.5804387370669464,0.5975245353720219,0.6112001063726444,0.6220814522950749,0.6307883585048588,0.6377393087384834,0.643245427375644,0.64781535728581,0.6513665056145677,0.6543090418986012,0.6567237988351545,0.6587450028877657,0.660493826224925,0.6620631988829635,0.6635229998684452,0.6649751989964598,0.6664608942549038,0.6680860476328769,0.6699109803241998,0.6720620764522782,0.6746163208976066,0.6777077262443358,0.6815272868977912,0.686279470825721,0.6918684692161748,0.698981174032282,0.7078437408006208,0.7189795799389868,0.7329551208595853,0.7503134091665291,0.7719023188152806,0.799018502973573,0.8325102521890354,0.874751458254081,0.927647077822326,0.9928427577434488,1.0749819609362277,1.175464099013818,1.3041604493732457,1.4629629982487522,1.6584527291592077,1.9084809501155173,2.2174512045519075,2.598191009117042,3.0599999836412453,3.6725189951668016,4.389426385261995,5.284845616104539,6.436507129636094,7.7213699099684785,-0.8020650643389,-0.5874878369421164,-0.41769608073985764,-0.28227356191265673,-0.17497055772259953,-0.08953796132684771,-0.021801645998012875,0.031356213374808234,0.07515001333154593,0.10854640285123733,0.13570449830493436,0.15725637155423391,0.17434406142895154,0.18801263797520926,0.1988958754672819,0.20760656481634995,0.21455430373489393,0.2200642055113387,0.22464680458479563,0.22819663316811478,0.23115373018508129,0.23358304785456768,0.23562070420975406,0.23739675744313726,0.2389774795190283,0.2404771795640248,0.24194829438846038,0.24347388870641917,0.24515785684032798,0.2470465310752779,0.24927742532238623,0.25194230482522134,0.25513242398740127,0.2591354233630285,0.2638612123821882,0.26993234336582395,0.2773740942334333,0.2866356515969217,0.2983596382946448,0.31280411435404026,0.3308204947639886,0.3532073856030393,0.3813806524594857,0.4166082531428411,0.4601163755369827,0.5150355392911541,0.5835216797272992,0.667059773793025,0.7715318178221113,0.9042180741330347,1.0684094198329843,1.2732778535193785,1.5261038562215818,1.8447387255356944,2.241565775139719,2.7338159609685038,3.329134748684006,4.099930107023629,5.054164093801884,6.20789327400689,7.626926899598311,-0.9759369707273252,-0.7613737924690092,-0.5915920981474638,-0.45617661069914744,-0.3488757628984823,-0.26344029392886104,-0.19570129518312102,-0.14253413625295844,-0.09872842811409746,-0.06532774951996062,-0.038160772395567755,-0.016614195541266003,0.0004621449155990925,0.01410727470491707,0.024946082076955645,0.03360912999090904,0.04050601615925775,0.04595675098570415,0.05049984672681823,0.05403493848017296,0.05698807626082403,0.059436309626731104,0.061508762156709834,0.06334059492797955,0.06500942932270376,0.06660005727444179,0.06821598797386333,0.06992836489299659,0.07186906017172712,0.07407455251976355,0.07668521496924104,0.07981793146016898,0.0836618787572718,0.0884039159325278,0.09405394244380187,0.10124022885407336,0.10981385454333101,0.12055700944670444,0.13401378064872368,0.15018312666897154,0.17052528672242007,0.19539060841555633,0.22623631067014277,0.2636722591926881,0.310484098494046,0.3676182382835043,0.43723061388300705,0.5223084764467809,0.6283555083801904,0.7578482557730297,0.9149838078363064,1.1077420389618373,1.3408124151004377,1.6342721913905356,1.9835112243674247,2.4095129396141353,2.919843657358185,3.5386980870187754,4.289523037609776,5.10615709435318,6.204108638776482,-0.5527497082258952,-0.3381863975577042,-0.16840523244032768,-0.03298866723264633,0.07431255888194731,0.15974859532246113,0.22748905014149445,0.28065804345887874,0.3244653968279972,0.3578689875687206,0.3850378562627556,0.4065916167283863,0.4236717403245356,0.43732575613786034,0.4481753411035478,0.45684028058714327,0.4637428414644183,0.4692043538845135,0.4737601187889186,0.4773027768208416,0.480265372449703,0.48272495523346254,0.48482142634458464,0.4866721748122752,0.48836823910322336,0.49002960305295323,0.4916903595995809,0.49348746142543537,0.4955009603688311,0.49781708777437417,0.5005642954321439,0.5039294118257968,0.5079127634522097,0.5130159598297738,0.5190838926326181,0.5267259167273015,0.5358876899759163,0.5473588815259416,0.5615436893746125,0.5789799517239566,0.6005890281065012,0.6271202567238832,0.6601214777082467,0.7000912588889843,0.7496260878127419,0.8110712650617544,0.8849374957004549,0.9776168562388053,1.0897521304331312,1.2281309018327808,1.3981423838543638,1.6032838661690725,1.8534268448848201,2.1576642148238037,2.5297781805369732,2.9824379678041146,3.5067575942776346,4.152270095958656,4.901203476907581,5.844881360623349,6.895939391166957,-0.9759285779676641,-0.7613651329980283,-0.5915838543864732,-0.45616779946726405,-0.3488660058817779,-0.26342959112733566,-0.19568907912588196,-0.14252002862607732,-0.09871205060364588,-0.06530713576417299,-0.038135997186567516,-0.016579399366473707,0.0005096102536824004,0.014167409206291252,0.02502077731126287,0.033698385958149335,0.04061172442907321,0.046087797582101436,0.0506511287650748,0.054207027784492434,0.05718985885521308,0.05968045467448077,0.06179584148202366,0.06367760298522226,0.06543305385630971,0.0671392436532458,0.06887979831890345,0.07076861950584384,0.07289768029443755,0.07535734736263755,0.078343949377497,0.08186452667586289,0.0861789920204514,0.09164906584235923,0.0982426808732628,0.10643502113446177,0.11639477557337566,0.12880383740099485,0.14399646007090713,0.1628887957135547,0.18623372356399237,0.21489979424441696,0.2501757463791178,0.2935679626187287,0.34741382900204054,0.4124705982741339,0.49318169903058084,0.5919493018298476,0.7141627242365857,0.8593291833336252,1.0394188135676203,1.2593277954827107,1.5202483678473437,1.8511438098067585,2.230824054088229,2.703147459011067,3.2788916598833735,3.9637313968757875,4.76276960678499,5.719116653791717,6.854899591056529],\"y\":[-1.9890537185069381,-1.8257381260621188,-1.696510342216012,-1.5934425602914466,-1.5117779944907879,-1.4467603249868568,-1.3952146130266636,-1.3547625254622149,-1.3214407182054435,-1.2960413098505474,-1.2753899032707117,-1.259014209803064,-1.2460379477321817,-1.235669944160362,-1.2274328473987963,-1.22085874403128,-1.2156253968990447,-1.2115035590841154,-1.2080874321133586,-1.2054639975051362,-1.203298150277903,-1.2015483265838531,-1.200117019836004,-1.1989163700995578,-1.1978833671554145,-1.196971288811248,-1.19611579412042,-1.1952939518488108,-1.1944506696351562,-1.1935303111780995,-1.1925080267619423,-1.1913189261090833,-1.189918208921993,-1.188191491748706,-1.1861338780741948,-1.1835689471439548,-1.1804590456511665,-1.1764840713695368,-1.1715714696936184,-1.1654641161178025,-1.1577294450258708,-1.148298389782141,-1.1362596120179946,-1.1213717831922492,-1.1027756382034355,-1.0795433209466436,-1.0503346532229216,-1.0147716793884842,-0.9694188452062181,-0.9127305958270475,-0.8416153459205791,-0.7533247346985646,-0.6444244517023191,-0.5070171060892962,-0.3350939278640902,-0.12246298680429404,0.14374357157525358,0.4769243821640792,0.8856486869410489,1.359674558336299,2.056854797721598,-2.8759597194016435,-2.712644144151306,-2.5834163835177497,-2.4803485439916706,-2.3986839953854933,-2.333666239909154,-2.2821203560041434,-2.241671697989866,-2.2083495468434604,-2.182949708626521,-2.162301215762405,-2.1459244906258537,-2.1329507983810565,-2.122580215636977,-2.1143413994272375,-2.107761287337289,-2.102521931482622,-2.0983863661208293,-2.0949642304276406,-2.0923244984464695,-2.090153502220891,-2.0883950906321487,-2.086952626163522,-2.0857390992581246,-2.0846923594209437,-2.0837622362171313,-2.0828878556349197,-2.0820419597812325,-2.0811591676442887,-2.080214755605154,-2.0791375049244962,-2.0778900084569645,-2.0764068418731236,-2.0745942457529134,-2.072356370405437,-2.069739856029995,-2.0664237142181463,-2.0622941765244045,-2.057106743525984,-2.0506042907172746,-2.0425261972993987,-2.0324768884072224,-2.0198541524963503,-2.0042620976134886,-1.9845840087398936,-1.959926325272376,-1.9295159130622177,-1.8912046260027557,-1.8443061576993736,-1.784183685060762,-1.709977166912061,-1.618595287447814,-1.501623878828779,-1.3568359907147414,-1.178551788865428,-0.962143669528983,-0.6744813936808076,-0.33787103291990006,0.08288006289615046,0.6238522589573826,1.2233604147487196,-1.9890469453790027,-1.825731378725906,-1.6965036134498395,-1.593435795760752,-1.5117712213628525,-1.4467534658865127,-1.395207667953911,-1.3547589239672253,-1.3214402023709915,-1.2960402781816434,-1.2753916133727103,-1.259015060180976,-1.2460405082120924,-1.2356733550181846,-1.2274336790843587,-1.220851847546237,-1.2156142017935683,-1.2114769169836026,-1.2080487725679814,-1.2054098909647224,-1.203232026292625,-1.2014667462573638,-1.2000165536181315,-1.1987901495437832,-1.197738251362082,-1.1967892422668862,-1.1959062644438077,-1.1950414826987372,-1.1941312074295432,-1.1931575741176352,-1.192042551654211,-1.190743518472351,-1.1892139828648767,-1.1873155077977438,-1.185094640008507,-1.1822464674383917,-1.1787757622144313,-1.1744573656068573,-1.168995101285934,-1.1622694940616716,-1.1538822738195726,-1.1434552470997312,-1.1303345254508035,-1.11391844390917,-1.093639482792357,-1.0680370374469415,-1.0360809911156668,-0.9970837940217884,-0.9482967365800816,-0.8862856748031456,-0.8095046574817037,-0.7136596897063912,-0.5953164610185232,-0.4460608115060615,-0.25988864426095915,-0.02889325397476844,0.25019981953056014,0.6125551720188771,1.0607894000851716,1.6034530057956515,2.271458703281459,-1.8268580267359955,-1.6635491461181244,-1.5343261794917589,-1.4312617079152912,-1.3495981136028505,-1.2845789022032683,-1.2330317343198325,-1.1925783627769584,-1.1592537277768755,-1.1338515785856944,-1.113198375931451,-1.0968242299671598,-1.0838548363427962,-1.073498840869666,-1.0652806113071343,-1.058721936242305,-1.0535091570649275,-1.0494010187583371,-1.045992582573487,-1.0433614011023096,-1.041186087563948,-1.0394122102878198,-1.0379457015832896,-1.0366926927931273,-1.0355987429005755,-1.0346051496531425,-1.0336518426860997,-1.0326961544960322,-1.0316606772801202,-1.0305310228008193,-1.0292291132184537,-1.0276986554962884,-1.025845144224736,-1.0235782028030356,-1.0208946728566828,-1.0174895488651563,-1.0134367547294134,-1.008364791701453,-1.002012246261996,-0.9943799111314433,-0.9847777707763024,-0.9730338720557284,-0.9584604983253924,-0.9407651114458981,-0.9186087766004212,-0.8915611561133712,-0.8585921332274912,-0.8182436776491581,-0.7679390246104869,-0.7064774435145531,-0.6318008871699469,-0.5401321297367954,-0.4292395398603216,-0.289346483734372,-0.12284892582882131,0.08054183193580085,0.3242647176151103,0.6203185075056477,0.9798609620210968,1.3703160196868318,1.8971493896342326,-2.713765106209963,-2.550456165411406,-2.4212334643648896,-2.3181684778885874,-2.2365047116313295,-2.171485242314521,-2.1199373875864334,-2.07948315725409,-2.0461577494369467,-2.0207542265564618,-2.0001001641781317,-1.9837225026912595,-1.9707513896187225,-1.9603911048713338,-1.9521677263104564,-1.9456081915215404,-1.940392833171903,-1.936279545866967,-1.9328651009596847,-1.9302304805921606,-1.9280508684333655,-1.926271832812717,-1.9247941570412346,-1.9235325510102053,-1.9224257239487024,-1.9213994798783243,-1.9204255488793756,-1.9194303507660184,-1.9183605313175123,-1.9171793401238828,-1.9158138670361498,-1.914173523515857,-1.9122564020080637,-1.9098177961542646,-1.9069368100532125,-1.9033170354252524,-1.898989409967007,-1.8935740246131028,-1.8868780568477017,-1.8786448494739307,-1.8684418368755715,-1.8559082069979471,-1.8403050335985145,-1.821407902232584,-1.7979638504920008,-1.768856630666758,-1.733828943060157,-1.6898752540225148,-1.6366531467938943,-1.5709022914391784,-1.4900478716974659,-1.392375064919491,-1.2732468815426616,-1.12820482707123,-0.9505588945627331,-0.7343003140217648,-0.4837183279982911,-0.17479671533140778,0.1838860150973417,0.6360916682099902,1.140609596602064,-1.8268539867068285,-1.6635449848678614,-1.5343222322379,-1.431257502744206,-1.3495934785697221,-1.2845738373080966,-1.2330259816453912,-1.1925717503784306,-1.1592460837094438,-1.133841959022098,-1.113186864974864,-1.0968079139018618,-1.0838325115550662,-1.073470507359504,-1.065245409350453,-1.058679865839105,-1.0534593584911218,-1.049339202739667,-1.0459213189360381,-1.0432806804999069,-1.0410916207223329,-1.03929798848456,-1.0378117154722104,-1.0365355128240565,-1.035401193284129,-1.0343543251818446,-1.0333426224001294,-1.032304484813311,-1.0311813905099534,-1.0299332062607847,-1.028454417824752,-1.0267419135582248,-1.0246685372286706,-1.0220581734810261,-1.0189282412418195,-1.0150508297730911,-1.0103454864871808,-1.0044837923021699,-0.9973072202039414,-0.9883871681782823,-0.9773601289211518,-0.9638136134709233,-0.9471289634954454,-0.9266011602172002,-0.9010975091384241,-0.8702736449921968,-0.8319846135609666,-0.7851134703333753,-0.7270853197764813,-0.658074055214608,-0.5724135921446217,-0.4677031978828407,-0.34342601616052915,-0.1855161389127516,-0.0044313100574551005,0.22126554308777704,0.4967234505772431,0.8245216084526544,1.2072298824354135,1.6654442579802438,2.2094721096616423],\"z\":[3.760381870728829,2.984625451387874,2.370799356184384,1.8812454329402584,1.4933688059501402,1.1845745280896234,0.9398004684869988,0.7477491801316105,0.5895915012183696,0.4690933484407529,0.3711925079122868,0.29362842738102946,0.23225990247209244,0.18332087154558455,0.14455210346753058,0.113691830283596,0.08923505650675423,0.07004908607154897,0.054253543570914775,0.042222194490802833,0.03245365092052488,0.024719953650299942,0.01860898690181223,0.013746029602360044,0.009909135169392735,0.006871135009933749,0.0044885780979861956,0.0026478142523282955,0.0011640114568487459,8.784096533781538e-05,-0.0007334717123561596,-0.0013105792696992968,-0.0016777404237371396,-0.0018475751553149733,-0.0018508335828007483,-0.0016674464161697267,-0.0013126429556385988,-0.000727218847271005,9.141190623412898e-05,0.0011865459695460379,0.002636188683998286,0.004459495674493386,0.006840931199387168,0.009824498447276453,0.013594075201793954,0.018354954366148035,0.02438730491496588,0.0317805963531132,0.041277494881585775,0.05322429774596438,0.06831133994273719,0.08712316125083058,0.11045826435370154,0.14023533331082993,0.17792020655366098,0.22435266267602627,0.2831401273833968,0.35709924074513005,0.44917854347154507,0.5534474147383704,0.7137236978435486,3.6808675518980283,2.9051111299216847,2.2912850311604185,1.8017311167448473,1.41385448711934,1.10506022243577,0.8602861891870388,0.6682338300756717,0.5100762038702177,0.38957811697733474,0.29167628475457036,0.21411236234667386,0.15274289845122543,0.10380426283311969,0.06503575829400049,0.0341769511744468,0.009721643461985952,-0.009460587627413475,-0.02525466406366672,-0.03728133481146151,-0.04704854408682585,-0.05478037998426788,-0.06088854637346103,-0.06574843977468414,-0.06958213853995471,-0.07261682786248957,-0.07499485481182683,-0.0768308417561796,-0.07830640844372261,-0.07937780203392847,-0.0801874193970546,-0.080751760883851,-0.08110137906603704,-0.08125260006978435,-0.08121187656584267,-0.08102058323116884,-0.08062871831737373,-0.08000870214269268,-0.07913159481634807,-0.077954099673671,-0.07642456526680402,-0.07446289001105483,-0.07195379378069466,-0.0688186813208132,-0.06480696010210102,-0.05972404478113763,-0.05339848135613723,-0.0454204241895963,-0.035577604997988455,-0.02283188520946272,-0.0070530016864196465,0.012450660947944225,0.037622442964368064,0.06929387869391657,0.10800821380629522,0.15534666245068451,0.219603076279562,0.29463294562006365,0.3891006989990623,0.5101717260325533,0.6358538779235174,3.7603839990638397,2.9846275757698013,2.3708014777200903,1.8812475599575744,1.493370934285151,1.184576669601581,0.9398026231759031,0.7477502772414828,0.58959158028005,0.46909350656411375,0.3711917006952428,0.29362775193345286,0.2322584198074718,0.18331871343338726,0.14455034066373545,0.11369179708311655,0.08923568215361172,0.07005371460314702,0.054261104231274726,0.042233758035903346,0.03246814659438724,0.02473790853079355,0.01863147174491603,0.013774642241922153,0.00994173409345589,0.006911574733531156,0.004534865478867556,0.0027034084971250816,0.0012336894668658616,0.0001673197166603413,-0.0006332377212455165,-0.0011869546494528982,-0.0015261952117449074,-0.0016588024876615926,-0.001631587935252421,-0.0013775329389234536,-0.0009510759588147177,-0.00028576015803249977,0.0006498237411513008,0.001883326069717306,0.003482044609211421,0.005534319117162956,0.00815789910625131,0.011495625190113046,0.015653952846916508,0.020936182392923774,0.027607666481059445,0.03579987484335401,0.046095690295973824,0.05929440634551153,0.07574043732532043,0.09636424367746194,0.12196432808539309,0.15448406847809826,0.195661142341644,0.24687070625924587,0.3081783910865814,0.38987973499474,0.4901951456576741,0.6131607459536548,0.7656947985124078,3.364456085587386,2.5886979833954658,1.9748706592596565,1.4853159015738298,1.0974391256842135,0.7886454112156035,0.543871901827939,0.35182113733361725,0.19366443693772792,0.07316730386832698,-0.024732716266148362,-0.10229703398244691,-0.1636671567252323,-0.21260966345861126,-0.2513840488554938,-0.28224941228038747,-0.30671315427121104,-0.3259044950865499,-0.3417039419029366,-0.3537346487359515,-0.36350228652019745,-0.37123120688911726,-0.3773340526988961,-0.38218407895785483,-0.38600618097754563,-0.38902242050974634,-0.3913785384621182,-0.3931829796056966,-0.3946149752380037,-0.3956312663959023,-0.3963721084376921,-0.3968494717515133,-0.3970807298974462,-0.3970859981481874,-0.39689520280482093,-0.3964467620328455,-0.3957839087254221,-0.3948286587983865,-0.39353312662833656,-0.39189354639081747,-0.38976519799881904,-0.3870968031480758,-0.3837327208606587,-0.3795992946555583,-0.3743355570066521,-0.3678778826749223,-0.3599609190074445,-0.3501443164133096,-0.33787154596982794,-0.3227946504074471,-0.3042726824686881,-0.2813998755809941,-0.2536165721261664,-0.21800741367447118,-0.17559399441513485,-0.12316427236131944,-0.060191320276477334,0.017344233844968304,0.1122425610062388,0.21405967801265863,0.3553134219964438,3.2849413288880025,2.509183235919944,1.89535581656779,1.4058011923114542,1.0179244427757312,0.7091307678379617,0.464357418233682,0.27230683987663856,0.11415031244108081,-0.006346501061550443,-0.10424638942655841,-0.18180962320993144,-0.24317948241378204,-0.2921207866217149,-0.33089383772368386,-0.36175906937911023,-0.3862224160615317,-0.405412422581957,-0.4212104033339628,-0.4332405830891081,-0.4430075620260172,-0.4507356917781327,-0.4568362809067263,-0.4616849894710113,-0.4655040275924728,-0.4685141725286945,-0.47086658433574,-0.47266278937138184,-0.4740867958344475,-0.47509246243375697,-0.47582029146630517,-0.4762715457604444,-0.4764925092876817,-0.4764551133016694,-0.476217700637528,-0.4757200071554299,-0.47499867727516704,-0.47396353565571675,-0.4725881117932521,-0.47080192511764174,-0.468526970287552,-0.46566666937261636,-0.46203572810249294,-0.45760908902120995,-0.45203896154938306,-0.44504756925224065,-0.43654251980842607,-0.4258462785857434,-0.41279928508761926,-0.3965198640790885,-0.37634237443316765,-0.3517316641099396,-0.32165038536068913,-0.28470693199546254,-0.2389494753324396,-0.18291217694017464,-0.11779771289779595,-0.03665458243790082,0.05811197525598821,0.17811534366175352,0.31376836905665023,3.364457195400106,2.588699111787681,1.974871700341694,1.4853169821867072,1.0974402721818246,0.7886466235979483,0.5438732196258578,0.3518225869010035,0.193666044628475,0.0731693233644709,-0.02473040687717621,-0.10229344300634818,-0.16366209968475262,-0.2126031403537507,-0.2513759279167849,-0.28223969350783035,-0.30670170589533824,-0.32589011458191525,-0.34168756825605157,-0.3537168256249252,-0.36348181141958386,-0.3712066137345354,-0.3773058851684552,-0.38215126629557616,-0.385965000437863,-0.3889714392287583,-0.3913147911105836,-0.39310168928231015,-0.39451589500407047,-0.3955074778381594,-0.3962081270950469,-0.3966450506852706,-0.396829527572932,-0.39675490413125847,-0.3964575311972067,-0.3959039965316169,-0.3950920673991517,-0.3939449114079236,-0.3924467656138935,-0.3905007955534537,-0.3880232270993838,-0.3849150129343667,-0.38101474329458657,-0.376174638792506,-0.37007079335526655,-0.36265275869058844,-0.3533207784051787,-0.34185031412785366,-0.32757610131407483,-0.3104153816530248,-0.28901067269144937,-0.262612671193678,-0.231197097530896,-0.19064606782721993,-0.14436153329467089,-0.08578741454272476,-0.013589567290828386,0.07262720388842925,0.173801697215212,0.2952711300018902,0.43916026333330604],\"type\":\"scatter3d\"}],                        {\"template\":{\"data\":{\"histogram2dcontour\":[{\"type\":\"histogram2dcontour\",\"colorbar\":{\"outlinewidth\":0,\"ticks\":\"\"},\"colorscale\":[[0.0,\"#0d0887\"],[0.1111111111111111,\"#46039f\"],[0.2222222222222222,\"#7201a8\"],[0.3333333333333333,\"#9c179e\"],[0.4444444444444444,\"#bd3786\"],[0.5555555555555556,\"#d8576b\"],[0.6666666666666666,\"#ed7953\"],[0.7777777777777778,\"#fb9f3a\"],[0.8888888888888888,\"#fdca26\"],[1.0,\"#f0f921\"]]}],\"choropleth\":[{\"type\":\"choropleth\",\"colorbar\":{\"outlinewidth\":0,\"ticks\":\"\"}}],\"histogram2d\":[{\"type\":\"histogram2d\",\"colorbar\":{\"outlinewidth\":0,\"ticks\":\"\"},\"colorscale\":[[0.0,\"#0d0887\"],[0.1111111111111111,\"#46039f\"],[0.2222222222222222,\"#7201a8\"],[0.3333333333333333,\"#9c179e\"],[0.4444444444444444,\"#bd3786\"],[0.5555555555555556,\"#d8576b\"],[0.6666666666666666,\"#ed7953\"],[0.7777777777777778,\"#fb9f3a\"],[0.8888888888888888,\"#fdca26\"],[1.0,\"#f0f921\"]]}],\"heatmap\":[{\"type\":\"heatmap\",\"colorbar\":{\"outlinewidth\":0,\"ticks\":\"\"},\"colorscale\":[[0.0,\"#0d0887\"],[0.1111111111111111,\"#46039f\"],[0.2222222222222222,\"#7201a8\"],[0.3333333333333333,\"#9c179e\"],[0.4444444444444444,\"#bd3786\"],[0.5555555555555556,\"#d8576b\"],[0.6666666666666666,\"#ed7953\"],[0.7777777777777778,\"#fb9f3a\"],[0.8888888888888888,\"#fdca26\"],[1.0,\"#f0f921\"]]}],\"heatmapgl\":[{\"type\":\"heatmapgl\",\"colorbar\":{\"outlinewidth\":0,\"ticks\":\"\"},\"colorscale\":[[0.0,\"#0d0887\"],[0.1111111111111111,\"#46039f\"],[0.2222222222222222,\"#7201a8\"],[0.3333333333333333,\"#9c179e\"],[0.4444444444444444,\"#bd3786\"],[0.5555555555555556,\"#d8576b\"],[0.6666666666666666,\"#ed7953\"],[0.7777777777777778,\"#fb9f3a\"],[0.8888888888888888,\"#fdca26\"],[1.0,\"#f0f921\"]]}],\"contourcarpet\":[{\"type\":\"contourcarpet\",\"colorbar\":{\"outlinewidth\":0,\"ticks\":\"\"}}],\"contour\":[{\"type\":\"contour\",\"colorbar\":{\"outlinewidth\":0,\"ticks\":\"\"},\"colorscale\":[[0.0,\"#0d0887\"],[0.1111111111111111,\"#46039f\"],[0.2222222222222222,\"#7201a8\"],[0.3333333333333333,\"#9c179e\"],[0.4444444444444444,\"#bd3786\"],[0.5555555555555556,\"#d8576b\"],[0.6666666666666666,\"#ed7953\"],[0.7777777777777778,\"#fb9f3a\"],[0.8888888888888888,\"#fdca26\"],[1.0,\"#f0f921\"]]}],\"surface\":[{\"type\":\"surface\",\"colorbar\":{\"outlinewidth\":0,\"ticks\":\"\"},\"colorscale\":[[0.0,\"#0d0887\"],[0.1111111111111111,\"#46039f\"],[0.2222222222222222,\"#7201a8\"],[0.3333333333333333,\"#9c179e\"],[0.4444444444444444,\"#bd3786\"],[0.5555555555555556,\"#d8576b\"],[0.6666666666666666,\"#ed7953\"],[0.7777777777777778,\"#fb9f3a\"],[0.8888888888888888,\"#fdca26\"],[1.0,\"#f0f921\"]]}],\"mesh3d\":[{\"type\":\"mesh3d\",\"colorbar\":{\"outlinewidth\":0,\"ticks\":\"\"}}],\"scatter\":[{\"fillpattern\":{\"fillmode\":\"overlay\",\"size\":10,\"solidity\":0.2},\"type\":\"scatter\"}],\"parcoords\":[{\"type\":\"parcoords\",\"line\":{\"colorbar\":{\"outlinewidth\":0,\"ticks\":\"\"}}}],\"scatterpolargl\":[{\"type\":\"scatterpolargl\",\"marker\":{\"colorbar\":{\"outlinewidth\":0,\"ticks\":\"\"}}}],\"bar\":[{\"error_x\":{\"color\":\"#2a3f5f\"},\"error_y\":{\"color\":\"#2a3f5f\"},\"marker\":{\"line\":{\"color\":\"#E5ECF6\",\"width\":0.5},\"pattern\":{\"fillmode\":\"overlay\",\"size\":10,\"solidity\":0.2}},\"type\":\"bar\"}],\"scattergeo\":[{\"type\":\"scattergeo\",\"marker\":{\"colorbar\":{\"outlinewidth\":0,\"ticks\":\"\"}}}],\"scatterpolar\":[{\"type\":\"scatterpolar\",\"marker\":{\"colorbar\":{\"outlinewidth\":0,\"ticks\":\"\"}}}],\"histogram\":[{\"marker\":{\"pattern\":{\"fillmode\":\"overlay\",\"size\":10,\"solidity\":0.2}},\"type\":\"histogram\"}],\"scattergl\":[{\"type\":\"scattergl\",\"marker\":{\"colorbar\":{\"outlinewidth\":0,\"ticks\":\"\"}}}],\"scatter3d\":[{\"type\":\"scatter3d\",\"line\":{\"colorbar\":{\"outlinewidth\":0,\"ticks\":\"\"}},\"marker\":{\"colorbar\":{\"outlinewidth\":0,\"ticks\":\"\"}}}],\"scattermapbox\":[{\"type\":\"scattermapbox\",\"marker\":{\"colorbar\":{\"outlinewidth\":0,\"ticks\":\"\"}}}],\"scatterternary\":[{\"type\":\"scatterternary\",\"marker\":{\"colorbar\":{\"outlinewidth\":0,\"ticks\":\"\"}}}],\"scattercarpet\":[{\"type\":\"scattercarpet\",\"marker\":{\"colorbar\":{\"outlinewidth\":0,\"ticks\":\"\"}}}],\"carpet\":[{\"aaxis\":{\"endlinecolor\":\"#2a3f5f\",\"gridcolor\":\"white\",\"linecolor\":\"white\",\"minorgridcolor\":\"white\",\"startlinecolor\":\"#2a3f5f\"},\"baxis\":{\"endlinecolor\":\"#2a3f5f\",\"gridcolor\":\"white\",\"linecolor\":\"white\",\"minorgridcolor\":\"white\",\"startlinecolor\":\"#2a3f5f\"},\"type\":\"carpet\"}],\"table\":[{\"cells\":{\"fill\":{\"color\":\"#EBF0F8\"},\"line\":{\"color\":\"white\"}},\"header\":{\"fill\":{\"color\":\"#C8D4E3\"},\"line\":{\"color\":\"white\"}},\"type\":\"table\"}],\"barpolar\":[{\"marker\":{\"line\":{\"color\":\"#E5ECF6\",\"width\":0.5},\"pattern\":{\"fillmode\":\"overlay\",\"size\":10,\"solidity\":0.2}},\"type\":\"barpolar\"}],\"pie\":[{\"automargin\":true,\"type\":\"pie\"}]},\"layout\":{\"autotypenumbers\":\"strict\",\"colorway\":[\"#636efa\",\"#EF553B\",\"#00cc96\",\"#ab63fa\",\"#FFA15A\",\"#19d3f3\",\"#FF6692\",\"#B6E880\",\"#FF97FF\",\"#FECB52\"],\"font\":{\"color\":\"#2a3f5f\"},\"hovermode\":\"closest\",\"hoverlabel\":{\"align\":\"left\"},\"paper_bgcolor\":\"white\",\"plot_bgcolor\":\"#E5ECF6\",\"polar\":{\"bgcolor\":\"#E5ECF6\",\"angularaxis\":{\"gridcolor\":\"white\",\"linecolor\":\"white\",\"ticks\":\"\"},\"radialaxis\":{\"gridcolor\":\"white\",\"linecolor\":\"white\",\"ticks\":\"\"}},\"ternary\":{\"bgcolor\":\"#E5ECF6\",\"aaxis\":{\"gridcolor\":\"white\",\"linecolor\":\"white\",\"ticks\":\"\"},\"baxis\":{\"gridcolor\":\"white\",\"linecolor\":\"white\",\"ticks\":\"\"},\"caxis\":{\"gridcolor\":\"white\",\"linecolor\":\"white\",\"ticks\":\"\"}},\"coloraxis\":{\"colorbar\":{\"outlinewidth\":0,\"ticks\":\"\"}},\"colorscale\":{\"sequential\":[[0.0,\"#0d0887\"],[0.1111111111111111,\"#46039f\"],[0.2222222222222222,\"#7201a8\"],[0.3333333333333333,\"#9c179e\"],[0.4444444444444444,\"#bd3786\"],[0.5555555555555556,\"#d8576b\"],[0.6666666666666666,\"#ed7953\"],[0.7777777777777778,\"#fb9f3a\"],[0.8888888888888888,\"#fdca26\"],[1.0,\"#f0f921\"]],\"sequentialminus\":[[0.0,\"#0d0887\"],[0.1111111111111111,\"#46039f\"],[0.2222222222222222,\"#7201a8\"],[0.3333333333333333,\"#9c179e\"],[0.4444444444444444,\"#bd3786\"],[0.5555555555555556,\"#d8576b\"],[0.6666666666666666,\"#ed7953\"],[0.7777777777777778,\"#fb9f3a\"],[0.8888888888888888,\"#fdca26\"],[1.0,\"#f0f921\"]],\"diverging\":[[0,\"#8e0152\"],[0.1,\"#c51b7d\"],[0.2,\"#de77ae\"],[0.3,\"#f1b6da\"],[0.4,\"#fde0ef\"],[0.5,\"#f7f7f7\"],[0.6,\"#e6f5d0\"],[0.7,\"#b8e186\"],[0.8,\"#7fbc41\"],[0.9,\"#4d9221\"],[1,\"#276419\"]]},\"xaxis\":{\"gridcolor\":\"white\",\"linecolor\":\"white\",\"ticks\":\"\",\"title\":{\"standoff\":15},\"zerolinecolor\":\"white\",\"automargin\":true,\"zerolinewidth\":2},\"yaxis\":{\"gridcolor\":\"white\",\"linecolor\":\"white\",\"ticks\":\"\",\"title\":{\"standoff\":15},\"zerolinecolor\":\"white\",\"automargin\":true,\"zerolinewidth\":2},\"scene\":{\"xaxis\":{\"backgroundcolor\":\"#E5ECF6\",\"gridcolor\":\"white\",\"linecolor\":\"white\",\"showbackground\":true,\"ticks\":\"\",\"zerolinecolor\":\"white\",\"gridwidth\":2},\"yaxis\":{\"backgroundcolor\":\"#E5ECF6\",\"gridcolor\":\"white\",\"linecolor\":\"white\",\"showbackground\":true,\"ticks\":\"\",\"zerolinecolor\":\"white\",\"gridwidth\":2},\"zaxis\":{\"backgroundcolor\":\"#E5ECF6\",\"gridcolor\":\"white\",\"linecolor\":\"white\",\"showbackground\":true,\"ticks\":\"\",\"zerolinecolor\":\"white\",\"gridwidth\":2}},\"shapedefaults\":{\"line\":{\"color\":\"#2a3f5f\"}},\"annotationdefaults\":{\"arrowcolor\":\"#2a3f5f\",\"arrowhead\":0,\"arrowwidth\":1},\"geo\":{\"bgcolor\":\"white\",\"landcolor\":\"#E5ECF6\",\"subunitcolor\":\"white\",\"showland\":true,\"showlakes\":true,\"lakecolor\":\"white\"},\"title\":{\"x\":0.05},\"mapbox\":{\"style\":\"light\"}}},\"scene\":{\"domain\":{\"x\":[0.0,1.0],\"y\":[0.0,1.0]},\"xaxis\":{\"title\":{\"text\":\"PC1\"}},\"yaxis\":{\"title\":{\"text\":\"PC2\"}},\"zaxis\":{\"title\":{\"text\":\"PC3\"}}},\"legend\":{\"title\":{\"text\":\"Sensor\"},\"tracegroupgap\":0},\"margin\":{\"t\":0,\"l\":0,\"r\":0,\"b\":0}},                        {\"responsive\": true}                    ).then(function(){\n",
       "                            \n",
       "var gd = document.getElementById('22a824fa-54d8-4d7b-9f10-d5f82d5a22bf');\n",
       "var x = new MutationObserver(function (mutations, observer) {{\n",
       "        var display = window.getComputedStyle(gd).display;\n",
       "        if (!display || display === 'none') {{\n",
       "            console.log([gd, 'removed!']);\n",
       "            Plotly.purge(gd);\n",
       "            observer.disconnect();\n",
       "        }}\n",
       "}});\n",
       "\n",
       "// Listen for the removal of the full notebook cells\n",
       "var notebookContainer = gd.closest('#notebook-container');\n",
       "if (notebookContainer) {{\n",
       "    x.observe(notebookContainer, {childList: true});\n",
       "}}\n",
       "\n",
       "// Listen for the clearing of the current output cell\n",
       "var outputEl = gd.closest('.output');\n",
       "if (outputEl) {{\n",
       "    x.observe(outputEl, {childList: true});\n",
       "}}\n",
       "\n",
       "                        })                };                });            </script>        </div>"
      ]
     },
     "metadata": {},
     "output_type": "display_data"
    }
   ],
   "source": [
    "# 4.1 Customize 3D Scatter Plot\n",
    "\n",
    "fig = px.scatter_3d(df_scores, x='PC1', y='PC2', z='PC3', color='Sensor', symbol='Sensor', opacity=0.5)\n",
    "\n",
    "# tight layout\n",
    "fig.update_layout(margin=dict(l=0, r=0, b=0, t=0)) # left, right, bottom, top with zero margin\n",
    "\n",
    "fig.show()\n",
    "\n",
    "# https://plotly.com/python/templates/\n",
    "# fig.update_layout(template='plotly_white')\n",
    "# plotly, plotly_white, plotly_dark, ggplot2, seaborn, simple_white, none"
   ]
  },
  {
   "cell_type": "code",
   "execution_count": 65,
   "id": "d021cd40",
   "metadata": {},
   "outputs": [
    {
     "data": {
      "application/vnd.plotly.v1+json": {
       "config": {
        "plotlyServerURL": "https://plot.ly"
       },
       "data": [
        {
         "hovertemplate": "PC1=%{x}<br>PC2=%{y}<br>index=%{text}<extra></extra>",
         "legendgroup": "",
         "marker": {
          "color": "#636efa",
          "symbol": "circle"
         },
         "mode": "markers+text",
         "name": "",
         "orientation": "v",
         "showlegend": false,
         "text": [
          "Eletrodo",
          "Freq(Hz)",
          "Z'(a)",
          "Z''(b)",
          "antiHIVmicrog/ml",
          "antiHCVmicrog/ml"
         ],
         "type": "scatter",
         "x": [
          -0.25735890438687403,
          -0.2031709174429815,
          0.6127021046759211,
          -0.613008489741799,
          -0.22904711747818174,
          0.2980639411993279
         ],
         "xaxis": "x",
         "y": [
          0.24497616317764914,
          -0.15464307202748614,
          0.30042266329176615,
          -0.27861420074616455,
          0.5982984791769625,
          -0.6246851047419415
         ],
         "yaxis": "y"
        }
       ],
       "layout": {
        "legend": {
         "tracegroupgap": 0
        },
        "margin": {
         "t": 60
        },
        "template": {
         "data": {
          "bar": [
           {
            "error_x": {
             "color": "#2a3f5f"
            },
            "error_y": {
             "color": "#2a3f5f"
            },
            "marker": {
             "line": {
              "color": "#E5ECF6",
              "width": 0.5
             },
             "pattern": {
              "fillmode": "overlay",
              "size": 10,
              "solidity": 0.2
             }
            },
            "type": "bar"
           }
          ],
          "barpolar": [
           {
            "marker": {
             "line": {
              "color": "#E5ECF6",
              "width": 0.5
             },
             "pattern": {
              "fillmode": "overlay",
              "size": 10,
              "solidity": 0.2
             }
            },
            "type": "barpolar"
           }
          ],
          "carpet": [
           {
            "aaxis": {
             "endlinecolor": "#2a3f5f",
             "gridcolor": "white",
             "linecolor": "white",
             "minorgridcolor": "white",
             "startlinecolor": "#2a3f5f"
            },
            "baxis": {
             "endlinecolor": "#2a3f5f",
             "gridcolor": "white",
             "linecolor": "white",
             "minorgridcolor": "white",
             "startlinecolor": "#2a3f5f"
            },
            "type": "carpet"
           }
          ],
          "choropleth": [
           {
            "colorbar": {
             "outlinewidth": 0,
             "ticks": ""
            },
            "type": "choropleth"
           }
          ],
          "contour": [
           {
            "colorbar": {
             "outlinewidth": 0,
             "ticks": ""
            },
            "colorscale": [
             [
              0,
              "#0d0887"
             ],
             [
              0.1111111111111111,
              "#46039f"
             ],
             [
              0.2222222222222222,
              "#7201a8"
             ],
             [
              0.3333333333333333,
              "#9c179e"
             ],
             [
              0.4444444444444444,
              "#bd3786"
             ],
             [
              0.5555555555555556,
              "#d8576b"
             ],
             [
              0.6666666666666666,
              "#ed7953"
             ],
             [
              0.7777777777777778,
              "#fb9f3a"
             ],
             [
              0.8888888888888888,
              "#fdca26"
             ],
             [
              1,
              "#f0f921"
             ]
            ],
            "type": "contour"
           }
          ],
          "contourcarpet": [
           {
            "colorbar": {
             "outlinewidth": 0,
             "ticks": ""
            },
            "type": "contourcarpet"
           }
          ],
          "heatmap": [
           {
            "colorbar": {
             "outlinewidth": 0,
             "ticks": ""
            },
            "colorscale": [
             [
              0,
              "#0d0887"
             ],
             [
              0.1111111111111111,
              "#46039f"
             ],
             [
              0.2222222222222222,
              "#7201a8"
             ],
             [
              0.3333333333333333,
              "#9c179e"
             ],
             [
              0.4444444444444444,
              "#bd3786"
             ],
             [
              0.5555555555555556,
              "#d8576b"
             ],
             [
              0.6666666666666666,
              "#ed7953"
             ],
             [
              0.7777777777777778,
              "#fb9f3a"
             ],
             [
              0.8888888888888888,
              "#fdca26"
             ],
             [
              1,
              "#f0f921"
             ]
            ],
            "type": "heatmap"
           }
          ],
          "heatmapgl": [
           {
            "colorbar": {
             "outlinewidth": 0,
             "ticks": ""
            },
            "colorscale": [
             [
              0,
              "#0d0887"
             ],
             [
              0.1111111111111111,
              "#46039f"
             ],
             [
              0.2222222222222222,
              "#7201a8"
             ],
             [
              0.3333333333333333,
              "#9c179e"
             ],
             [
              0.4444444444444444,
              "#bd3786"
             ],
             [
              0.5555555555555556,
              "#d8576b"
             ],
             [
              0.6666666666666666,
              "#ed7953"
             ],
             [
              0.7777777777777778,
              "#fb9f3a"
             ],
             [
              0.8888888888888888,
              "#fdca26"
             ],
             [
              1,
              "#f0f921"
             ]
            ],
            "type": "heatmapgl"
           }
          ],
          "histogram": [
           {
            "marker": {
             "pattern": {
              "fillmode": "overlay",
              "size": 10,
              "solidity": 0.2
             }
            },
            "type": "histogram"
           }
          ],
          "histogram2d": [
           {
            "colorbar": {
             "outlinewidth": 0,
             "ticks": ""
            },
            "colorscale": [
             [
              0,
              "#0d0887"
             ],
             [
              0.1111111111111111,
              "#46039f"
             ],
             [
              0.2222222222222222,
              "#7201a8"
             ],
             [
              0.3333333333333333,
              "#9c179e"
             ],
             [
              0.4444444444444444,
              "#bd3786"
             ],
             [
              0.5555555555555556,
              "#d8576b"
             ],
             [
              0.6666666666666666,
              "#ed7953"
             ],
             [
              0.7777777777777778,
              "#fb9f3a"
             ],
             [
              0.8888888888888888,
              "#fdca26"
             ],
             [
              1,
              "#f0f921"
             ]
            ],
            "type": "histogram2d"
           }
          ],
          "histogram2dcontour": [
           {
            "colorbar": {
             "outlinewidth": 0,
             "ticks": ""
            },
            "colorscale": [
             [
              0,
              "#0d0887"
             ],
             [
              0.1111111111111111,
              "#46039f"
             ],
             [
              0.2222222222222222,
              "#7201a8"
             ],
             [
              0.3333333333333333,
              "#9c179e"
             ],
             [
              0.4444444444444444,
              "#bd3786"
             ],
             [
              0.5555555555555556,
              "#d8576b"
             ],
             [
              0.6666666666666666,
              "#ed7953"
             ],
             [
              0.7777777777777778,
              "#fb9f3a"
             ],
             [
              0.8888888888888888,
              "#fdca26"
             ],
             [
              1,
              "#f0f921"
             ]
            ],
            "type": "histogram2dcontour"
           }
          ],
          "mesh3d": [
           {
            "colorbar": {
             "outlinewidth": 0,
             "ticks": ""
            },
            "type": "mesh3d"
           }
          ],
          "parcoords": [
           {
            "line": {
             "colorbar": {
              "outlinewidth": 0,
              "ticks": ""
             }
            },
            "type": "parcoords"
           }
          ],
          "pie": [
           {
            "automargin": true,
            "type": "pie"
           }
          ],
          "scatter": [
           {
            "fillpattern": {
             "fillmode": "overlay",
             "size": 10,
             "solidity": 0.2
            },
            "type": "scatter"
           }
          ],
          "scatter3d": [
           {
            "line": {
             "colorbar": {
              "outlinewidth": 0,
              "ticks": ""
             }
            },
            "marker": {
             "colorbar": {
              "outlinewidth": 0,
              "ticks": ""
             }
            },
            "type": "scatter3d"
           }
          ],
          "scattercarpet": [
           {
            "marker": {
             "colorbar": {
              "outlinewidth": 0,
              "ticks": ""
             }
            },
            "type": "scattercarpet"
           }
          ],
          "scattergeo": [
           {
            "marker": {
             "colorbar": {
              "outlinewidth": 0,
              "ticks": ""
             }
            },
            "type": "scattergeo"
           }
          ],
          "scattergl": [
           {
            "marker": {
             "colorbar": {
              "outlinewidth": 0,
              "ticks": ""
             }
            },
            "type": "scattergl"
           }
          ],
          "scattermapbox": [
           {
            "marker": {
             "colorbar": {
              "outlinewidth": 0,
              "ticks": ""
             }
            },
            "type": "scattermapbox"
           }
          ],
          "scatterpolar": [
           {
            "marker": {
             "colorbar": {
              "outlinewidth": 0,
              "ticks": ""
             }
            },
            "type": "scatterpolar"
           }
          ],
          "scatterpolargl": [
           {
            "marker": {
             "colorbar": {
              "outlinewidth": 0,
              "ticks": ""
             }
            },
            "type": "scatterpolargl"
           }
          ],
          "scatterternary": [
           {
            "marker": {
             "colorbar": {
              "outlinewidth": 0,
              "ticks": ""
             }
            },
            "type": "scatterternary"
           }
          ],
          "surface": [
           {
            "colorbar": {
             "outlinewidth": 0,
             "ticks": ""
            },
            "colorscale": [
             [
              0,
              "#0d0887"
             ],
             [
              0.1111111111111111,
              "#46039f"
             ],
             [
              0.2222222222222222,
              "#7201a8"
             ],
             [
              0.3333333333333333,
              "#9c179e"
             ],
             [
              0.4444444444444444,
              "#bd3786"
             ],
             [
              0.5555555555555556,
              "#d8576b"
             ],
             [
              0.6666666666666666,
              "#ed7953"
             ],
             [
              0.7777777777777778,
              "#fb9f3a"
             ],
             [
              0.8888888888888888,
              "#fdca26"
             ],
             [
              1,
              "#f0f921"
             ]
            ],
            "type": "surface"
           }
          ],
          "table": [
           {
            "cells": {
             "fill": {
              "color": "#EBF0F8"
             },
             "line": {
              "color": "white"
             }
            },
            "header": {
             "fill": {
              "color": "#C8D4E3"
             },
             "line": {
              "color": "white"
             }
            },
            "type": "table"
           }
          ]
         },
         "layout": {
          "annotationdefaults": {
           "arrowcolor": "#2a3f5f",
           "arrowhead": 0,
           "arrowwidth": 1
          },
          "autotypenumbers": "strict",
          "coloraxis": {
           "colorbar": {
            "outlinewidth": 0,
            "ticks": ""
           }
          },
          "colorscale": {
           "diverging": [
            [
             0,
             "#8e0152"
            ],
            [
             0.1,
             "#c51b7d"
            ],
            [
             0.2,
             "#de77ae"
            ],
            [
             0.3,
             "#f1b6da"
            ],
            [
             0.4,
             "#fde0ef"
            ],
            [
             0.5,
             "#f7f7f7"
            ],
            [
             0.6,
             "#e6f5d0"
            ],
            [
             0.7,
             "#b8e186"
            ],
            [
             0.8,
             "#7fbc41"
            ],
            [
             0.9,
             "#4d9221"
            ],
            [
             1,
             "#276419"
            ]
           ],
           "sequential": [
            [
             0,
             "#0d0887"
            ],
            [
             0.1111111111111111,
             "#46039f"
            ],
            [
             0.2222222222222222,
             "#7201a8"
            ],
            [
             0.3333333333333333,
             "#9c179e"
            ],
            [
             0.4444444444444444,
             "#bd3786"
            ],
            [
             0.5555555555555556,
             "#d8576b"
            ],
            [
             0.6666666666666666,
             "#ed7953"
            ],
            [
             0.7777777777777778,
             "#fb9f3a"
            ],
            [
             0.8888888888888888,
             "#fdca26"
            ],
            [
             1,
             "#f0f921"
            ]
           ],
           "sequentialminus": [
            [
             0,
             "#0d0887"
            ],
            [
             0.1111111111111111,
             "#46039f"
            ],
            [
             0.2222222222222222,
             "#7201a8"
            ],
            [
             0.3333333333333333,
             "#9c179e"
            ],
            [
             0.4444444444444444,
             "#bd3786"
            ],
            [
             0.5555555555555556,
             "#d8576b"
            ],
            [
             0.6666666666666666,
             "#ed7953"
            ],
            [
             0.7777777777777778,
             "#fb9f3a"
            ],
            [
             0.8888888888888888,
             "#fdca26"
            ],
            [
             1,
             "#f0f921"
            ]
           ]
          },
          "colorway": [
           "#636efa",
           "#EF553B",
           "#00cc96",
           "#ab63fa",
           "#FFA15A",
           "#19d3f3",
           "#FF6692",
           "#B6E880",
           "#FF97FF",
           "#FECB52"
          ],
          "font": {
           "color": "#2a3f5f"
          },
          "geo": {
           "bgcolor": "white",
           "lakecolor": "white",
           "landcolor": "#E5ECF6",
           "showlakes": true,
           "showland": true,
           "subunitcolor": "white"
          },
          "hoverlabel": {
           "align": "left"
          },
          "hovermode": "closest",
          "mapbox": {
           "style": "light"
          },
          "paper_bgcolor": "white",
          "plot_bgcolor": "#E5ECF6",
          "polar": {
           "angularaxis": {
            "gridcolor": "white",
            "linecolor": "white",
            "ticks": ""
           },
           "bgcolor": "#E5ECF6",
           "radialaxis": {
            "gridcolor": "white",
            "linecolor": "white",
            "ticks": ""
           }
          },
          "scene": {
           "xaxis": {
            "backgroundcolor": "#E5ECF6",
            "gridcolor": "white",
            "gridwidth": 2,
            "linecolor": "white",
            "showbackground": true,
            "ticks": "",
            "zerolinecolor": "white"
           },
           "yaxis": {
            "backgroundcolor": "#E5ECF6",
            "gridcolor": "white",
            "gridwidth": 2,
            "linecolor": "white",
            "showbackground": true,
            "ticks": "",
            "zerolinecolor": "white"
           },
           "zaxis": {
            "backgroundcolor": "#E5ECF6",
            "gridcolor": "white",
            "gridwidth": 2,
            "linecolor": "white",
            "showbackground": true,
            "ticks": "",
            "zerolinecolor": "white"
           }
          },
          "shapedefaults": {
           "line": {
            "color": "#2a3f5f"
           }
          },
          "ternary": {
           "aaxis": {
            "gridcolor": "white",
            "linecolor": "white",
            "ticks": ""
           },
           "baxis": {
            "gridcolor": "white",
            "linecolor": "white",
            "ticks": ""
           },
           "bgcolor": "#E5ECF6",
           "caxis": {
            "gridcolor": "white",
            "linecolor": "white",
            "ticks": ""
           }
          },
          "title": {
           "x": 0.05
          },
          "xaxis": {
           "automargin": true,
           "gridcolor": "white",
           "linecolor": "white",
           "ticks": "",
           "title": {
            "standoff": 15
           },
           "zerolinecolor": "white",
           "zerolinewidth": 2
          },
          "yaxis": {
           "automargin": true,
           "gridcolor": "white",
           "linecolor": "white",
           "ticks": "",
           "title": {
            "standoff": 15
           },
           "zerolinecolor": "white",
           "zerolinewidth": 2
          }
         }
        },
        "xaxis": {
         "anchor": "y",
         "domain": [
          0,
          1
         ],
         "title": {
          "text": "PC1"
         }
        },
        "yaxis": {
         "anchor": "x",
         "domain": [
          0,
          1
         ],
         "title": {
          "text": "PC2"
         }
        }
       }
      },
      "text/html": [
       "<div>                            <div id=\"52a34c14-edca-4381-9b93-ccc4bd806ba8\" class=\"plotly-graph-div\" style=\"height:525px; width:100%;\"></div>            <script type=\"text/javascript\">                require([\"plotly\"], function(Plotly) {                    window.PLOTLYENV=window.PLOTLYENV || {};                                    if (document.getElementById(\"52a34c14-edca-4381-9b93-ccc4bd806ba8\")) {                    Plotly.newPlot(                        \"52a34c14-edca-4381-9b93-ccc4bd806ba8\",                        [{\"hovertemplate\":\"PC1=%{x}<br>PC2=%{y}<br>index=%{text}<extra></extra>\",\"legendgroup\":\"\",\"marker\":{\"color\":\"#636efa\",\"symbol\":\"circle\"},\"mode\":\"markers+text\",\"name\":\"\",\"orientation\":\"v\",\"showlegend\":false,\"text\":[\"Eletrodo\",\"Freq(Hz)\",\"Z'(a)\",\"Z''(b)\",\"antiHIVmicrog/ml\",\"antiHCVmicrog/ml\"],\"x\":[-0.25735890438687403,-0.2031709174429815,0.6127021046759211,-0.613008489741799,-0.22904711747818174,0.2980639411993279],\"xaxis\":\"x\",\"y\":[0.24497616317764914,-0.15464307202748614,0.30042266329176615,-0.27861420074616455,0.5982984791769625,-0.6246851047419415],\"yaxis\":\"y\",\"type\":\"scatter\"}],                        {\"template\":{\"data\":{\"histogram2dcontour\":[{\"type\":\"histogram2dcontour\",\"colorbar\":{\"outlinewidth\":0,\"ticks\":\"\"},\"colorscale\":[[0.0,\"#0d0887\"],[0.1111111111111111,\"#46039f\"],[0.2222222222222222,\"#7201a8\"],[0.3333333333333333,\"#9c179e\"],[0.4444444444444444,\"#bd3786\"],[0.5555555555555556,\"#d8576b\"],[0.6666666666666666,\"#ed7953\"],[0.7777777777777778,\"#fb9f3a\"],[0.8888888888888888,\"#fdca26\"],[1.0,\"#f0f921\"]]}],\"choropleth\":[{\"type\":\"choropleth\",\"colorbar\":{\"outlinewidth\":0,\"ticks\":\"\"}}],\"histogram2d\":[{\"type\":\"histogram2d\",\"colorbar\":{\"outlinewidth\":0,\"ticks\":\"\"},\"colorscale\":[[0.0,\"#0d0887\"],[0.1111111111111111,\"#46039f\"],[0.2222222222222222,\"#7201a8\"],[0.3333333333333333,\"#9c179e\"],[0.4444444444444444,\"#bd3786\"],[0.5555555555555556,\"#d8576b\"],[0.6666666666666666,\"#ed7953\"],[0.7777777777777778,\"#fb9f3a\"],[0.8888888888888888,\"#fdca26\"],[1.0,\"#f0f921\"]]}],\"heatmap\":[{\"type\":\"heatmap\",\"colorbar\":{\"outlinewidth\":0,\"ticks\":\"\"},\"colorscale\":[[0.0,\"#0d0887\"],[0.1111111111111111,\"#46039f\"],[0.2222222222222222,\"#7201a8\"],[0.3333333333333333,\"#9c179e\"],[0.4444444444444444,\"#bd3786\"],[0.5555555555555556,\"#d8576b\"],[0.6666666666666666,\"#ed7953\"],[0.7777777777777778,\"#fb9f3a\"],[0.8888888888888888,\"#fdca26\"],[1.0,\"#f0f921\"]]}],\"heatmapgl\":[{\"type\":\"heatmapgl\",\"colorbar\":{\"outlinewidth\":0,\"ticks\":\"\"},\"colorscale\":[[0.0,\"#0d0887\"],[0.1111111111111111,\"#46039f\"],[0.2222222222222222,\"#7201a8\"],[0.3333333333333333,\"#9c179e\"],[0.4444444444444444,\"#bd3786\"],[0.5555555555555556,\"#d8576b\"],[0.6666666666666666,\"#ed7953\"],[0.7777777777777778,\"#fb9f3a\"],[0.8888888888888888,\"#fdca26\"],[1.0,\"#f0f921\"]]}],\"contourcarpet\":[{\"type\":\"contourcarpet\",\"colorbar\":{\"outlinewidth\":0,\"ticks\":\"\"}}],\"contour\":[{\"type\":\"contour\",\"colorbar\":{\"outlinewidth\":0,\"ticks\":\"\"},\"colorscale\":[[0.0,\"#0d0887\"],[0.1111111111111111,\"#46039f\"],[0.2222222222222222,\"#7201a8\"],[0.3333333333333333,\"#9c179e\"],[0.4444444444444444,\"#bd3786\"],[0.5555555555555556,\"#d8576b\"],[0.6666666666666666,\"#ed7953\"],[0.7777777777777778,\"#fb9f3a\"],[0.8888888888888888,\"#fdca26\"],[1.0,\"#f0f921\"]]}],\"surface\":[{\"type\":\"surface\",\"colorbar\":{\"outlinewidth\":0,\"ticks\":\"\"},\"colorscale\":[[0.0,\"#0d0887\"],[0.1111111111111111,\"#46039f\"],[0.2222222222222222,\"#7201a8\"],[0.3333333333333333,\"#9c179e\"],[0.4444444444444444,\"#bd3786\"],[0.5555555555555556,\"#d8576b\"],[0.6666666666666666,\"#ed7953\"],[0.7777777777777778,\"#fb9f3a\"],[0.8888888888888888,\"#fdca26\"],[1.0,\"#f0f921\"]]}],\"mesh3d\":[{\"type\":\"mesh3d\",\"colorbar\":{\"outlinewidth\":0,\"ticks\":\"\"}}],\"scatter\":[{\"fillpattern\":{\"fillmode\":\"overlay\",\"size\":10,\"solidity\":0.2},\"type\":\"scatter\"}],\"parcoords\":[{\"type\":\"parcoords\",\"line\":{\"colorbar\":{\"outlinewidth\":0,\"ticks\":\"\"}}}],\"scatterpolargl\":[{\"type\":\"scatterpolargl\",\"marker\":{\"colorbar\":{\"outlinewidth\":0,\"ticks\":\"\"}}}],\"bar\":[{\"error_x\":{\"color\":\"#2a3f5f\"},\"error_y\":{\"color\":\"#2a3f5f\"},\"marker\":{\"line\":{\"color\":\"#E5ECF6\",\"width\":0.5},\"pattern\":{\"fillmode\":\"overlay\",\"size\":10,\"solidity\":0.2}},\"type\":\"bar\"}],\"scattergeo\":[{\"type\":\"scattergeo\",\"marker\":{\"colorbar\":{\"outlinewidth\":0,\"ticks\":\"\"}}}],\"scatterpolar\":[{\"type\":\"scatterpolar\",\"marker\":{\"colorbar\":{\"outlinewidth\":0,\"ticks\":\"\"}}}],\"histogram\":[{\"marker\":{\"pattern\":{\"fillmode\":\"overlay\",\"size\":10,\"solidity\":0.2}},\"type\":\"histogram\"}],\"scattergl\":[{\"type\":\"scattergl\",\"marker\":{\"colorbar\":{\"outlinewidth\":0,\"ticks\":\"\"}}}],\"scatter3d\":[{\"type\":\"scatter3d\",\"line\":{\"colorbar\":{\"outlinewidth\":0,\"ticks\":\"\"}},\"marker\":{\"colorbar\":{\"outlinewidth\":0,\"ticks\":\"\"}}}],\"scattermapbox\":[{\"type\":\"scattermapbox\",\"marker\":{\"colorbar\":{\"outlinewidth\":0,\"ticks\":\"\"}}}],\"scatterternary\":[{\"type\":\"scatterternary\",\"marker\":{\"colorbar\":{\"outlinewidth\":0,\"ticks\":\"\"}}}],\"scattercarpet\":[{\"type\":\"scattercarpet\",\"marker\":{\"colorbar\":{\"outlinewidth\":0,\"ticks\":\"\"}}}],\"carpet\":[{\"aaxis\":{\"endlinecolor\":\"#2a3f5f\",\"gridcolor\":\"white\",\"linecolor\":\"white\",\"minorgridcolor\":\"white\",\"startlinecolor\":\"#2a3f5f\"},\"baxis\":{\"endlinecolor\":\"#2a3f5f\",\"gridcolor\":\"white\",\"linecolor\":\"white\",\"minorgridcolor\":\"white\",\"startlinecolor\":\"#2a3f5f\"},\"type\":\"carpet\"}],\"table\":[{\"cells\":{\"fill\":{\"color\":\"#EBF0F8\"},\"line\":{\"color\":\"white\"}},\"header\":{\"fill\":{\"color\":\"#C8D4E3\"},\"line\":{\"color\":\"white\"}},\"type\":\"table\"}],\"barpolar\":[{\"marker\":{\"line\":{\"color\":\"#E5ECF6\",\"width\":0.5},\"pattern\":{\"fillmode\":\"overlay\",\"size\":10,\"solidity\":0.2}},\"type\":\"barpolar\"}],\"pie\":[{\"automargin\":true,\"type\":\"pie\"}]},\"layout\":{\"autotypenumbers\":\"strict\",\"colorway\":[\"#636efa\",\"#EF553B\",\"#00cc96\",\"#ab63fa\",\"#FFA15A\",\"#19d3f3\",\"#FF6692\",\"#B6E880\",\"#FF97FF\",\"#FECB52\"],\"font\":{\"color\":\"#2a3f5f\"},\"hovermode\":\"closest\",\"hoverlabel\":{\"align\":\"left\"},\"paper_bgcolor\":\"white\",\"plot_bgcolor\":\"#E5ECF6\",\"polar\":{\"bgcolor\":\"#E5ECF6\",\"angularaxis\":{\"gridcolor\":\"white\",\"linecolor\":\"white\",\"ticks\":\"\"},\"radialaxis\":{\"gridcolor\":\"white\",\"linecolor\":\"white\",\"ticks\":\"\"}},\"ternary\":{\"bgcolor\":\"#E5ECF6\",\"aaxis\":{\"gridcolor\":\"white\",\"linecolor\":\"white\",\"ticks\":\"\"},\"baxis\":{\"gridcolor\":\"white\",\"linecolor\":\"white\",\"ticks\":\"\"},\"caxis\":{\"gridcolor\":\"white\",\"linecolor\":\"white\",\"ticks\":\"\"}},\"coloraxis\":{\"colorbar\":{\"outlinewidth\":0,\"ticks\":\"\"}},\"colorscale\":{\"sequential\":[[0.0,\"#0d0887\"],[0.1111111111111111,\"#46039f\"],[0.2222222222222222,\"#7201a8\"],[0.3333333333333333,\"#9c179e\"],[0.4444444444444444,\"#bd3786\"],[0.5555555555555556,\"#d8576b\"],[0.6666666666666666,\"#ed7953\"],[0.7777777777777778,\"#fb9f3a\"],[0.8888888888888888,\"#fdca26\"],[1.0,\"#f0f921\"]],\"sequentialminus\":[[0.0,\"#0d0887\"],[0.1111111111111111,\"#46039f\"],[0.2222222222222222,\"#7201a8\"],[0.3333333333333333,\"#9c179e\"],[0.4444444444444444,\"#bd3786\"],[0.5555555555555556,\"#d8576b\"],[0.6666666666666666,\"#ed7953\"],[0.7777777777777778,\"#fb9f3a\"],[0.8888888888888888,\"#fdca26\"],[1.0,\"#f0f921\"]],\"diverging\":[[0,\"#8e0152\"],[0.1,\"#c51b7d\"],[0.2,\"#de77ae\"],[0.3,\"#f1b6da\"],[0.4,\"#fde0ef\"],[0.5,\"#f7f7f7\"],[0.6,\"#e6f5d0\"],[0.7,\"#b8e186\"],[0.8,\"#7fbc41\"],[0.9,\"#4d9221\"],[1,\"#276419\"]]},\"xaxis\":{\"gridcolor\":\"white\",\"linecolor\":\"white\",\"ticks\":\"\",\"title\":{\"standoff\":15},\"zerolinecolor\":\"white\",\"automargin\":true,\"zerolinewidth\":2},\"yaxis\":{\"gridcolor\":\"white\",\"linecolor\":\"white\",\"ticks\":\"\",\"title\":{\"standoff\":15},\"zerolinecolor\":\"white\",\"automargin\":true,\"zerolinewidth\":2},\"scene\":{\"xaxis\":{\"backgroundcolor\":\"#E5ECF6\",\"gridcolor\":\"white\",\"linecolor\":\"white\",\"showbackground\":true,\"ticks\":\"\",\"zerolinecolor\":\"white\",\"gridwidth\":2},\"yaxis\":{\"backgroundcolor\":\"#E5ECF6\",\"gridcolor\":\"white\",\"linecolor\":\"white\",\"showbackground\":true,\"ticks\":\"\",\"zerolinecolor\":\"white\",\"gridwidth\":2},\"zaxis\":{\"backgroundcolor\":\"#E5ECF6\",\"gridcolor\":\"white\",\"linecolor\":\"white\",\"showbackground\":true,\"ticks\":\"\",\"zerolinecolor\":\"white\",\"gridwidth\":2}},\"shapedefaults\":{\"line\":{\"color\":\"#2a3f5f\"}},\"annotationdefaults\":{\"arrowcolor\":\"#2a3f5f\",\"arrowhead\":0,\"arrowwidth\":1},\"geo\":{\"bgcolor\":\"white\",\"landcolor\":\"#E5ECF6\",\"subunitcolor\":\"white\",\"showland\":true,\"showlakes\":true,\"lakecolor\":\"white\"},\"title\":{\"x\":0.05},\"mapbox\":{\"style\":\"light\"}}},\"xaxis\":{\"anchor\":\"y\",\"domain\":[0.0,1.0],\"title\":{\"text\":\"PC1\"}},\"yaxis\":{\"anchor\":\"x\",\"domain\":[0.0,1.0],\"title\":{\"text\":\"PC2\"}},\"legend\":{\"tracegroupgap\":0},\"margin\":{\"t\":60}},                        {\"responsive\": true}                    ).then(function(){\n",
       "                            \n",
       "var gd = document.getElementById('52a34c14-edca-4381-9b93-ccc4bd806ba8');\n",
       "var x = new MutationObserver(function (mutations, observer) {{\n",
       "        var display = window.getComputedStyle(gd).display;\n",
       "        if (!display || display === 'none') {{\n",
       "            console.log([gd, 'removed!']);\n",
       "            Plotly.purge(gd);\n",
       "            observer.disconnect();\n",
       "        }}\n",
       "}});\n",
       "\n",
       "// Listen for the removal of the full notebook cells\n",
       "var notebookContainer = gd.closest('#notebook-container');\n",
       "if (notebookContainer) {{\n",
       "    x.observe(notebookContainer, {childList: true});\n",
       "}}\n",
       "\n",
       "// Listen for the clearing of the current output cell\n",
       "var outputEl = gd.closest('.output');\n",
       "if (outputEl) {{\n",
       "    x.observe(outputEl, {childList: true});\n",
       "}}\n",
       "\n",
       "                        })                };                });            </script>        </div>"
      ]
     },
     "metadata": {},
     "output_type": "display_data"
    }
   ],
   "source": [
    "# 5. Loadings Plot\n",
    "\n",
    "loadings_label = df_loadings.index\n",
    "# loadings_label = df_loadings.index.str.strip(' (cm)')\n",
    "\n",
    "fig = px.scatter(df_loadings, x='PC1', y='PC2', text=loadings_label)\n",
    "fig.show()"
   ]
  },
  {
   "cell_type": "code",
   "execution_count": 64,
   "id": "23f02a93",
   "metadata": {},
   "outputs": [
    {
     "data": {
      "text/plain": [
       "Index(['Eletrodo', 'Freq(Hz)', 'Z'(a)', 'Z''(b)', 'antiHIVmicrog/ml',\n",
       "       'antiHCVmicrog/ml'],\n",
       "      dtype='object')"
      ]
     },
     "execution_count": 64,
     "metadata": {},
     "output_type": "execute_result"
    }
   ],
   "source": [
    "loadings_label"
   ]
  },
  {
   "cell_type": "code",
   "execution_count": 32,
   "id": "2a29975b",
   "metadata": {},
   "outputs": [
    {
     "data": {
      "text/html": [
       "<div>\n",
       "<style scoped>\n",
       "    .dataframe tbody tr th:only-of-type {\n",
       "        vertical-align: middle;\n",
       "    }\n",
       "\n",
       "    .dataframe tbody tr th {\n",
       "        vertical-align: top;\n",
       "    }\n",
       "\n",
       "    .dataframe thead th {\n",
       "        text-align: right;\n",
       "    }\n",
       "</style>\n",
       "<table border=\"1\" class=\"dataframe\">\n",
       "  <thead>\n",
       "    <tr style=\"text-align: right;\">\n",
       "      <th></th>\n",
       "      <th>PC1</th>\n",
       "      <th>PC2</th>\n",
       "      <th>PC3</th>\n",
       "    </tr>\n",
       "  </thead>\n",
       "  <tbody>\n",
       "    <tr>\n",
       "      <th>Eletrodo</th>\n",
       "      <td>-0.198270</td>\n",
       "      <td>0.374687</td>\n",
       "      <td>-0.359288</td>\n",
       "    </tr>\n",
       "    <tr>\n",
       "      <th>Freq(Hz)</th>\n",
       "      <td>-0.232291</td>\n",
       "      <td>-0.128795</td>\n",
       "      <td>0.881368</td>\n",
       "    </tr>\n",
       "    <tr>\n",
       "      <th>Z'(a)</th>\n",
       "      <td>0.660425</td>\n",
       "      <td>0.172410</td>\n",
       "      <td>0.148361</td>\n",
       "    </tr>\n",
       "    <tr>\n",
       "      <th>Z''(b)</th>\n",
       "      <td>-0.656536</td>\n",
       "      <td>-0.160878</td>\n",
       "      <td>-0.120280</td>\n",
       "    </tr>\n",
       "    <tr>\n",
       "      <th>antiHIVmicrog/ml</th>\n",
       "      <td>-0.120265</td>\n",
       "      <td>0.618686</td>\n",
       "      <td>0.211270</td>\n",
       "    </tr>\n",
       "    <tr>\n",
       "      <th>antiHCVmicrog/ml</th>\n",
       "      <td>0.158317</td>\n",
       "      <td>-0.636116</td>\n",
       "      <td>-0.113969</td>\n",
       "    </tr>\n",
       "  </tbody>\n",
       "</table>\n",
       "</div>"
      ],
      "text/plain": [
       "                       PC1       PC2       PC3\n",
       "Eletrodo         -0.198270  0.374687 -0.359288\n",
       "Freq(Hz)         -0.232291 -0.128795  0.881368\n",
       "Z'(a)             0.660425  0.172410  0.148361\n",
       "Z''(b)           -0.656536 -0.160878 -0.120280\n",
       "antiHIVmicrog/ml -0.120265  0.618686  0.211270\n",
       "antiHCVmicrog/ml  0.158317 -0.636116 -0.113969"
      ]
     },
     "execution_count": 32,
     "metadata": {},
     "output_type": "execute_result"
    }
   ],
   "source": [
    "df_loadings"
   ]
  },
  {
   "cell_type": "code",
   "execution_count": null,
   "id": "f0494319",
   "metadata": {},
   "outputs": [],
   "source": []
  },
  {
   "cell_type": "code",
   "execution_count": null,
   "id": "08e51415",
   "metadata": {},
   "outputs": [],
   "source": []
  }
 ],
 "metadata": {
  "kernelspec": {
   "display_name": "Python 3 (ipykernel)",
   "language": "python",
   "name": "python3"
  },
  "language_info": {
   "codemirror_mode": {
    "name": "ipython",
    "version": 3
   },
   "file_extension": ".py",
   "mimetype": "text/x-python",
   "name": "python",
   "nbconvert_exporter": "python",
   "pygments_lexer": "ipython3",
   "version": "3.9.7"
  }
 },
 "nbformat": 4,
 "nbformat_minor": 5
}
