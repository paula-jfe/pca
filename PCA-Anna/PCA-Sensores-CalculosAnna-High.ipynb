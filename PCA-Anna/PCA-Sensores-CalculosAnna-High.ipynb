{
 "cells": [
  {
   "cell_type": "code",
   "execution_count": 110,
   "id": "bd47be45",
   "metadata": {},
   "outputs": [
    {
     "name": "stdout",
     "output_type": "stream",
     "text": [
      "    Sensor  Electrode  Param  microg/ml      1.00E+06      7.94E+05  \\\n",
      "0      1.0        6.0    1.0        0.1  7.250000e+01  7.270000e+01   \n",
      "1      1.0        1.0    1.0        0.1  1.100000e+02  1.120000e+02   \n",
      "2      1.0        1.0    1.0        1.0  1.110000e+02  1.120000e+02   \n",
      "3      1.0        2.0    1.0        0.1  6.960000e+01  7.080000e+01   \n",
      "4      1.0        2.0    1.0        1.0  7.040000e+01  7.150000e+01   \n",
      "..     ...        ...    ...        ...           ...           ...   \n",
      "85     2.0        1.0    6.0        0.2 -9.150000e-09 -2.400000e-08   \n",
      "86     2.0        1.0    6.0        1.0 -9.080000e-09 -2.370000e-08   \n",
      "87     2.0        2.0    6.0        0.1 -9.130000e-08  3.850000e-08   \n",
      "88     2.0        2.0    6.0        0.2 -1.550000e-07  3.270000e-08   \n",
      "89     2.0        2.0    6.0        1.0 -2.390000e-07  3.020000e-08   \n",
      "\n",
      "        6.31E+05      5.01E+05      3.98E+05      3.16E+05  ...      7.94E+00  \\\n",
      "0   7.280000e+01  7.300000e+01  7.330000e+01  7.370000e+01  ...  1.680000e+04   \n",
      "1   1.130000e+02  1.160000e+02  1.190000e+02  1.220000e+02  ...  1.700000e+05   \n",
      "2   1.140000e+02  1.160000e+02  1.190000e+02  1.220000e+02  ...  1.790000e+05   \n",
      "3   7.230000e+01  7.420000e+01  7.660000e+01  7.960000e+01  ...  3.040000e+04   \n",
      "4   7.300000e+01  7.490000e+01  7.730000e+01  8.030000e+01  ...  3.130000e+04   \n",
      "..           ...           ...           ...           ...  ...           ...   \n",
      "85  1.520000e-06  3.580000e-08  2.210000e-08  1.790000e-08  ...  6.980000e-09   \n",
      "86  4.110000e-06  3.640000e-08  2.220000e-08  1.800000e-08  ...  7.030000e-09   \n",
      "87  1.890000e-08  1.380000e-08  1.150000e-08  1.030000e-08  ...  1.950000e-08   \n",
      "88  1.730000e-08  1.290000e-08  1.090000e-08  9.730000e-09  ...  1.910000e-08   \n",
      "89  1.660000e-08  1.240000e-08  1.050000e-08  9.350000e-09  ...  1.830000e-08   \n",
      "\n",
      "        6.31E+00      5.01E+00      3.98E+00      3.16E+00      2.51E+00  \\\n",
      "0   2.070000e+04  2.550000e+04  3.120000e+04  3.780000e+04  4.570000e+04   \n",
      "1   2.060000e+05  2.440000e+05  2.830000e+05  3.200000e+05  3.550000e+05   \n",
      "2   2.170000e+05  2.560000e+05  2.950000e+05  3.330000e+05  3.670000e+05   \n",
      "3   3.760000e+04  4.620000e+04  5.640000e+04  6.860000e+04  8.290000e+04   \n",
      "4   3.880000e+04  4.780000e+04  5.890000e+04  7.190000e+04  8.710000e+04   \n",
      "..           ...           ...           ...           ...           ...   \n",
      "85  7.310000e-09  7.740000e-09  8.100000e-09  8.500000e-09  9.020000e-09   \n",
      "86  7.350000e-09  7.710000e-09  8.200000e-09  8.660000e-09  8.980000e-09   \n",
      "87  2.110000e-08  2.290000e-08  2.500000e-08  2.730000e-08  2.990000e-08   \n",
      "88  2.070000e-08  2.260000e-08  2.470000e-08  2.710000e-08  2.980000e-08   \n",
      "89  1.990000e-08  2.170000e-08  2.360000e-08  2.590000e-08  2.870000e-08   \n",
      "\n",
      "        2.00E+00      1.58E+00      1.26E+00      1.00E+00  \n",
      "0   5.460000e+04  6.480000e+04  7.620000e+04  8.910000e+04  \n",
      "1   3.860000e+05  4.130000e+05  4.350000e+05  4.540000e+05  \n",
      "2   3.980000e+05  4.240000e+05  4.460000e+05  4.640000e+05  \n",
      "3   9.960000e+04  1.190000e+05  1.410000e+05  1.680000e+05  \n",
      "4   1.050000e+05  1.260000e+05  1.500000e+05  1.770000e+05  \n",
      "..           ...           ...           ...           ...  \n",
      "85  9.550000e-09  1.010000e-08  1.060000e-08  1.030000e-08  \n",
      "86  9.540000e-09  1.000000e-08  1.060000e-08  1.130000e-08  \n",
      "87  3.310000e-08  3.670000e-08  4.010000e-08  4.490000e-08  \n",
      "88  3.290000e-08  3.650000e-08  4.040000e-08  4.500000e-08  \n",
      "89  3.160000e-08  3.500000e-08  3.870000e-08  4.240000e-08  \n",
      "\n",
      "[90 rows x 65 columns]\n"
     ]
    },
    {
     "data": {
      "text/html": [
       "<div>\n",
       "<style scoped>\n",
       "    .dataframe tbody tr th:only-of-type {\n",
       "        vertical-align: middle;\n",
       "    }\n",
       "\n",
       "    .dataframe tbody tr th {\n",
       "        vertical-align: top;\n",
       "    }\n",
       "\n",
       "    .dataframe thead th {\n",
       "        text-align: right;\n",
       "    }\n",
       "</style>\n",
       "<table border=\"1\" class=\"dataframe\">\n",
       "  <thead>\n",
       "    <tr style=\"text-align: right;\">\n",
       "      <th></th>\n",
       "      <th>Sensor</th>\n",
       "      <th>Electrode</th>\n",
       "      <th>Param</th>\n",
       "      <th>microg/ml</th>\n",
       "      <th>1.00E+06</th>\n",
       "      <th>7.94E+05</th>\n",
       "      <th>6.31E+05</th>\n",
       "      <th>5.01E+05</th>\n",
       "      <th>3.98E+05</th>\n",
       "      <th>3.16E+05</th>\n",
       "      <th>...</th>\n",
       "      <th>7.94E+00</th>\n",
       "      <th>6.31E+00</th>\n",
       "      <th>5.01E+00</th>\n",
       "      <th>3.98E+00</th>\n",
       "      <th>3.16E+00</th>\n",
       "      <th>2.51E+00</th>\n",
       "      <th>2.00E+00</th>\n",
       "      <th>1.58E+00</th>\n",
       "      <th>1.26E+00</th>\n",
       "      <th>1.00E+00</th>\n",
       "    </tr>\n",
       "  </thead>\n",
       "  <tbody>\n",
       "    <tr>\n",
       "      <th>0</th>\n",
       "      <td>1.0</td>\n",
       "      <td>6.0</td>\n",
       "      <td>1.0</td>\n",
       "      <td>0.1</td>\n",
       "      <td>72.5</td>\n",
       "      <td>72.7</td>\n",
       "      <td>72.8</td>\n",
       "      <td>73.0</td>\n",
       "      <td>73.3</td>\n",
       "      <td>73.7</td>\n",
       "      <td>...</td>\n",
       "      <td>16800.0</td>\n",
       "      <td>20700.0</td>\n",
       "      <td>25500.0</td>\n",
       "      <td>31200.0</td>\n",
       "      <td>37800.0</td>\n",
       "      <td>45700.0</td>\n",
       "      <td>54600.0</td>\n",
       "      <td>64800.0</td>\n",
       "      <td>76200.0</td>\n",
       "      <td>89100.0</td>\n",
       "    </tr>\n",
       "    <tr>\n",
       "      <th>1</th>\n",
       "      <td>1.0</td>\n",
       "      <td>1.0</td>\n",
       "      <td>1.0</td>\n",
       "      <td>0.1</td>\n",
       "      <td>110.0</td>\n",
       "      <td>112.0</td>\n",
       "      <td>113.0</td>\n",
       "      <td>116.0</td>\n",
       "      <td>119.0</td>\n",
       "      <td>122.0</td>\n",
       "      <td>...</td>\n",
       "      <td>170000.0</td>\n",
       "      <td>206000.0</td>\n",
       "      <td>244000.0</td>\n",
       "      <td>283000.0</td>\n",
       "      <td>320000.0</td>\n",
       "      <td>355000.0</td>\n",
       "      <td>386000.0</td>\n",
       "      <td>413000.0</td>\n",
       "      <td>435000.0</td>\n",
       "      <td>454000.0</td>\n",
       "    </tr>\n",
       "    <tr>\n",
       "      <th>2</th>\n",
       "      <td>1.0</td>\n",
       "      <td>1.0</td>\n",
       "      <td>1.0</td>\n",
       "      <td>1.0</td>\n",
       "      <td>111.0</td>\n",
       "      <td>112.0</td>\n",
       "      <td>114.0</td>\n",
       "      <td>116.0</td>\n",
       "      <td>119.0</td>\n",
       "      <td>122.0</td>\n",
       "      <td>...</td>\n",
       "      <td>179000.0</td>\n",
       "      <td>217000.0</td>\n",
       "      <td>256000.0</td>\n",
       "      <td>295000.0</td>\n",
       "      <td>333000.0</td>\n",
       "      <td>367000.0</td>\n",
       "      <td>398000.0</td>\n",
       "      <td>424000.0</td>\n",
       "      <td>446000.0</td>\n",
       "      <td>464000.0</td>\n",
       "    </tr>\n",
       "    <tr>\n",
       "      <th>3</th>\n",
       "      <td>1.0</td>\n",
       "      <td>2.0</td>\n",
       "      <td>1.0</td>\n",
       "      <td>0.1</td>\n",
       "      <td>69.6</td>\n",
       "      <td>70.8</td>\n",
       "      <td>72.3</td>\n",
       "      <td>74.2</td>\n",
       "      <td>76.6</td>\n",
       "      <td>79.6</td>\n",
       "      <td>...</td>\n",
       "      <td>30400.0</td>\n",
       "      <td>37600.0</td>\n",
       "      <td>46200.0</td>\n",
       "      <td>56400.0</td>\n",
       "      <td>68600.0</td>\n",
       "      <td>82900.0</td>\n",
       "      <td>99600.0</td>\n",
       "      <td>119000.0</td>\n",
       "      <td>141000.0</td>\n",
       "      <td>168000.0</td>\n",
       "    </tr>\n",
       "    <tr>\n",
       "      <th>4</th>\n",
       "      <td>1.0</td>\n",
       "      <td>2.0</td>\n",
       "      <td>1.0</td>\n",
       "      <td>1.0</td>\n",
       "      <td>70.4</td>\n",
       "      <td>71.5</td>\n",
       "      <td>73.0</td>\n",
       "      <td>74.9</td>\n",
       "      <td>77.3</td>\n",
       "      <td>80.3</td>\n",
       "      <td>...</td>\n",
       "      <td>31300.0</td>\n",
       "      <td>38800.0</td>\n",
       "      <td>47800.0</td>\n",
       "      <td>58900.0</td>\n",
       "      <td>71900.0</td>\n",
       "      <td>87100.0</td>\n",
       "      <td>105000.0</td>\n",
       "      <td>126000.0</td>\n",
       "      <td>150000.0</td>\n",
       "      <td>177000.0</td>\n",
       "    </tr>\n",
       "  </tbody>\n",
       "</table>\n",
       "<p>5 rows × 65 columns</p>\n",
       "</div>"
      ],
      "text/plain": [
       "   Sensor  Electrode  Param  microg/ml  1.00E+06  7.94E+05  6.31E+05  \\\n",
       "0     1.0        6.0    1.0        0.1      72.5      72.7      72.8   \n",
       "1     1.0        1.0    1.0        0.1     110.0     112.0     113.0   \n",
       "2     1.0        1.0    1.0        1.0     111.0     112.0     114.0   \n",
       "3     1.0        2.0    1.0        0.1      69.6      70.8      72.3   \n",
       "4     1.0        2.0    1.0        1.0      70.4      71.5      73.0   \n",
       "\n",
       "   5.01E+05  3.98E+05  3.16E+05  ...  7.94E+00  6.31E+00  5.01E+00  3.98E+00  \\\n",
       "0      73.0      73.3      73.7  ...   16800.0   20700.0   25500.0   31200.0   \n",
       "1     116.0     119.0     122.0  ...  170000.0  206000.0  244000.0  283000.0   \n",
       "2     116.0     119.0     122.0  ...  179000.0  217000.0  256000.0  295000.0   \n",
       "3      74.2      76.6      79.6  ...   30400.0   37600.0   46200.0   56400.0   \n",
       "4      74.9      77.3      80.3  ...   31300.0   38800.0   47800.0   58900.0   \n",
       "\n",
       "   3.16E+00  2.51E+00  2.00E+00  1.58E+00  1.26E+00  1.00E+00  \n",
       "0   37800.0   45700.0   54600.0   64800.0   76200.0   89100.0  \n",
       "1  320000.0  355000.0  386000.0  413000.0  435000.0  454000.0  \n",
       "2  333000.0  367000.0  398000.0  424000.0  446000.0  464000.0  \n",
       "3   68600.0   82900.0   99600.0  119000.0  141000.0  168000.0  \n",
       "4   71900.0   87100.0  105000.0  126000.0  150000.0  177000.0  \n",
       "\n",
       "[5 rows x 65 columns]"
      ]
     },
     "execution_count": 110,
     "metadata": {},
     "output_type": "execute_result"
    }
   ],
   "source": [
    "# 1. PCA dataset\n",
    "import pandas as pd\n",
    "\n",
    "df = pd.read_csv('../../mestrado/CalculosAnna/SensorAltaConc/baseAllSensorsHigh.csv')\n",
    "print(df)\n",
    "\n",
    "# df['Sensor'] = df['Sensor'].astype('string')\n",
    "df.head()"
   ]
  },
  {
   "cell_type": "code",
   "execution_count": 111,
   "id": "b97d429c",
   "metadata": {},
   "outputs": [
    {
     "name": "stdout",
     "output_type": "stream",
     "text": [
      "Sensor       float64\n",
      "Electrode    float64\n",
      "Param        float64\n",
      "microg/ml    float64\n",
      "1.00E+06     float64\n",
      "              ...   \n",
      "2.51E+00     float64\n",
      "2.00E+00     float64\n",
      "1.58E+00     float64\n",
      "1.26E+00     float64\n",
      "1.00E+00     float64\n",
      "Length: 65, dtype: object\n"
     ]
    }
   ],
   "source": [
    "print(df.dtypes)"
   ]
  },
  {
   "cell_type": "code",
   "execution_count": 112,
   "id": "2793002c",
   "metadata": {},
   "outputs": [
    {
     "data": {
      "text/plain": [
       "array([[6.00e+00, 1.00e+00, 1.00e-01, ..., 6.48e+04, 7.62e+04, 8.91e+04],\n",
       "       [1.00e+00, 1.00e+00, 1.00e-01, ..., 4.13e+05, 4.35e+05, 4.54e+05],\n",
       "       [1.00e+00, 1.00e+00, 1.00e+00, ..., 4.24e+05, 4.46e+05, 4.64e+05],\n",
       "       ...,\n",
       "       [2.00e+00, 6.00e+00, 1.00e-01, ..., 3.67e-08, 4.01e-08, 4.49e-08],\n",
       "       [2.00e+00, 6.00e+00, 2.00e-01, ..., 3.65e-08, 4.04e-08, 4.50e-08],\n",
       "       [2.00e+00, 6.00e+00, 1.00e+00, ..., 3.50e-08, 3.87e-08, 4.24e-08]])"
      ]
     },
     "execution_count": 112,
     "metadata": {},
     "output_type": "execute_result"
    }
   ],
   "source": [
    "df_features = df.iloc[:,1:].copy()\n",
    "X = df_features.to_numpy()\n",
    "# X = df.values\n",
    "X"
   ]
  },
  {
   "cell_type": "code",
   "execution_count": 113,
   "id": "06f1eddb",
   "metadata": {},
   "outputs": [
    {
     "data": {
      "text/plain": [
       "array([1., 1., 1., 1., 1., 1., 1., 1., 1., 1., 1., 1., 1., 1., 1., 1., 1.,\n",
       "       1., 1., 1., 1., 1., 1., 1., 1., 1., 1., 1., 1., 1., 1., 1., 1., 1.,\n",
       "       1., 1., 1., 1., 1., 1., 1., 1., 1., 1., 1., 1., 1., 1., 1., 1., 1.,\n",
       "       1., 1., 1., 2., 2., 2., 2., 2., 2., 2., 2., 2., 2., 2., 2., 2., 2.,\n",
       "       2., 2., 2., 2., 2., 2., 2., 2., 2., 2., 2., 2., 2., 2., 2., 2., 2.,\n",
       "       2., 2., 2., 2., 2.])"
      ]
     },
     "execution_count": 113,
     "metadata": {},
     "output_type": "execute_result"
    }
   ],
   "source": [
    "Y = df.iloc[:, 0].to_numpy()\n",
    "Y"
   ]
  },
  {
   "cell_type": "code",
   "execution_count": 114,
   "id": "2662966b",
   "metadata": {},
   "outputs": [
    {
     "data": {
      "text/plain": [
       "(90, 64)"
      ]
     },
     "execution_count": 114,
     "metadata": {},
     "output_type": "execute_result"
    }
   ],
   "source": [
    "X.shape"
   ]
  },
  {
   "cell_type": "code",
   "execution_count": 115,
   "id": "48e8bd23",
   "metadata": {},
   "outputs": [
    {
     "data": {
      "text/plain": [
       "(90,)"
      ]
     },
     "execution_count": 115,
     "metadata": {},
     "output_type": "execute_result"
    }
   ],
   "source": [
    "Y.shape"
   ]
  },
  {
   "cell_type": "code",
   "execution_count": 116,
   "id": "e91754d2",
   "metadata": {},
   "outputs": [],
   "source": [
    "# 2. PCA analysis\n",
    "# 2.1 Load library\n",
    "\n",
    "from sklearn.preprocessing import scale # Data scaling\n",
    "from sklearn import decomposition # PCA\n",
    "import pandas as pd # pandas"
   ]
  },
  {
   "cell_type": "code",
   "execution_count": 117,
   "id": "ceb76bfe",
   "metadata": {},
   "outputs": [
    {
     "data": {
      "text/plain": [
       "array([[ 2.62202212, -1.46385011, -0.86574938, ..., -0.2852482 ,\n",
       "        -0.28096815, -0.27953782],\n",
       "       [-0.95346259, -1.46385011, -0.86574938, ..., -0.27272598,\n",
       "        -0.26766003, -0.2650639 ],\n",
       "       [-0.95346259, -1.46385011,  1.22132502, ..., -0.27233039,\n",
       "        -0.26725203, -0.26466725],\n",
       "       ...,\n",
       "       [-0.23836565,  1.46385011, -0.86574938, ..., -0.28757859,\n",
       "        -0.28379446, -0.28307201],\n",
       "       [-0.23836565,  1.46385011, -0.63385222, ..., -0.28757859,\n",
       "        -0.28379446, -0.28307201],\n",
       "       [-0.23836565,  1.46385011,  1.22132502, ..., -0.28757859,\n",
       "        -0.28379446, -0.28307201]])"
      ]
     },
     "execution_count": 117,
     "metadata": {},
     "output_type": "execute_result"
    }
   ],
   "source": [
    "# 2.2 Data scaling\n",
    "x = scale(X)\n",
    "\n",
    "# Standardize the Data\n",
    "# PCA is effected by scale so you need to scale the features in your data before applying PCA. Use StandardScaler to help you standardize the dataset’s features onto unit scale (mean = 0 and variance = 1) which is a requirement for the optimal performance of many machine learning algorithms.\n",
    "x"
   ]
  },
  {
   "cell_type": "code",
   "execution_count": 118,
   "id": "6f304c80",
   "metadata": {},
   "outputs": [
    {
     "data": {
      "text/plain": [
       "PCA(n_components=3)"
      ]
     },
     "execution_count": 118,
     "metadata": {},
     "output_type": "execute_result"
    }
   ],
   "source": [
    "# 2.3 Perform PCA analysis\n",
    "pca = decomposition.PCA(n_components=3)\n",
    "pca.fit(x) # when build the model we use pca.fit function. Where by the argument will be the input data, which essencially is the x variable\n",
    "# we are using the x variable because pca is an unsupervised learning approach, meaning that it does not need the y variable or the class label in order to learn\n",
    "# it`ll goind to cluster the data based on similarity and differences, based on the eigenvalue that are inherently present in the data set"
   ]
  },
  {
   "cell_type": "code",
   "execution_count": 119,
   "id": "8f682d81",
   "metadata": {},
   "outputs": [],
   "source": [
    "# 2.4 compure the scores value\n",
    "# scores value will essentially be represented by the data samples so we`re gonna use the pca.transform function\n",
    "scores = pca.transform(x)"
   ]
  },
  {
   "cell_type": "code",
   "execution_count": 120,
   "id": "32ea2324",
   "metadata": {},
   "outputs": [
    {
     "data": {
      "text/plain": [
       "array([[-2.89156381e+00, -3.18166536e-01,  1.91786502e+00],\n",
       "       [-2.84697967e+00, -3.64885442e-01, -6.22910749e-01],\n",
       "       [-2.83848449e+00, -3.28336798e-01, -1.72194346e+00],\n",
       "       [-2.86423257e+00, -3.44261237e-01, -1.15855005e-01],\n",
       "       [-2.85608113e+00, -3.07277550e-01, -1.21491209e+00],\n",
       "       [-2.86598572e+00, -3.44965131e-01,  3.93507892e-01],\n",
       "       [-2.85737799e+00, -3.08627365e-01, -7.05466270e-01],\n",
       "       [-2.87815206e+00, -3.30760978e-01,  9.00909115e-01],\n",
       "       [-2.87001702e+00, -2.93747733e-01, -1.98156135e-01],\n",
       "       [-2.87167851e+00, -2.86134902e-01,  2.05876552e+00],\n",
       "       [-2.84303375e+00, -3.12559026e-01, -4.83372245e-01],\n",
       "       [-2.83526096e+00, -2.75129157e-01, -1.58244590e+00],\n",
       "       [-2.84903015e+00, -3.05927621e-01,  2.43996192e-02],\n",
       "       [-2.84141678e+00, -2.68214512e-01, -1.07473440e+00],\n",
       "       [-2.90709270e+00, -2.28077819e-01,  5.24467836e-01],\n",
       "       [-2.90067744e+00, -1.88725553e-01, -5.74841154e-01],\n",
       "       [-2.86218230e+00, -2.93511925e-01,  1.04127864e+00],\n",
       "       [-2.85417107e+00, -2.56359558e-01, -5.77864508e-02],\n",
       "       [-2.83708563e+00, -2.74187597e-01,  2.20184589e+00],\n",
       "       [-2.80515125e+00, -3.03769129e-01, -3.40634229e-01],\n",
       "       [-2.79720202e+00, -2.66507001e-01, -1.43972321e+00],\n",
       "       [-2.81153813e+00, -2.97852823e-01,  1.67861795e-01],\n",
       "       [-2.80358889e+00, -2.60590695e-01, -9.31227185e-01],\n",
       "       [-2.81792500e+00, -2.91936517e-01,  6.76357819e-01],\n",
       "       [-2.80997577e+00, -2.54674388e-01, -4.22731160e-01],\n",
       "       [-2.82431188e+00, -2.86020210e-01,  1.18485384e+00],\n",
       "       [-2.81636264e+00, -2.48758082e-01,  8.57648639e-02],\n",
       "       [-2.80879647e+00, -2.53630311e-01,  2.34399624e+00],\n",
       "       [-2.77686209e+00, -2.83211843e-01, -1.98483876e-01],\n",
       "       [-2.76891286e+00, -2.45949714e-01, -1.29757286e+00],\n",
       "       [-2.78324897e+00, -2.77295536e-01,  3.10012148e-01],\n",
       "       [-2.77529973e+00, -2.40033408e-01, -7.89076832e-01],\n",
       "       [-2.78963584e+00, -2.71379230e-01,  8.18508172e-01],\n",
       "       [-2.78168661e+00, -2.34117102e-01, -2.80580808e-01],\n",
       "       [-2.79602272e+00, -2.65462923e-01,  1.32700420e+00],\n",
       "       [-2.78807349e+00, -2.28200795e-01,  2.27915217e-01],\n",
       "       [ 5.51857927e-01, -8.74653248e-01,  3.44178432e+00],\n",
       "       [ 1.44647301e+01,  9.61509886e+00, -7.82842743e-01],\n",
       "       [ 1.56035594e+01,  1.05342269e+01, -1.88255678e+00],\n",
       "       [ 4.65435426e+00,  3.98942728e+00,  1.49197905e+00],\n",
       "       [ 5.03179970e+00,  4.31472122e+00,  4.16531893e-01],\n",
       "       [ 3.14323272e+01, -5.58761781e+00,  4.46316788e-01],\n",
       "       [ 3.21486959e+01, -4.76246755e+00, -6.72150161e-01],\n",
       "       [ 6.20509983e+00,  5.48833387e+00,  3.13467350e+00],\n",
       "       [ 6.42253540e+00,  5.77587859e+00,  2.02756700e+00],\n",
       "       [-2.75221815e+00, -2.12515737e-01,  2.62829695e+00],\n",
       "       [-2.72028378e+00, -2.42097269e-01,  8.58168293e-02],\n",
       "       [-2.71233454e+00, -2.04835141e-01, -1.01327215e+00],\n",
       "       [-2.72667065e+00, -2.36180963e-01,  5.94312854e-01],\n",
       "       [-2.71872142e+00, -1.98918834e-01, -5.04776126e-01],\n",
       "       [-2.73305753e+00, -2.30264656e-01,  1.10280888e+00],\n",
       "       [-2.72510829e+00, -1.93002528e-01,  3.71989799e-03],\n",
       "       [-2.73944440e+00, -2.24348350e-01,  1.61130490e+00],\n",
       "       [-2.73149517e+00, -1.87086222e-01,  5.12215922e-01],\n",
       "       [-2.85408037e+00, -3.55457747e-01, -6.23654227e-01],\n",
       "       [-2.85289778e+00, -3.51718851e-01, -7.45740341e-01],\n",
       "       [-2.84528680e+00, -3.19368701e-01, -1.72260768e+00],\n",
       "       [-2.85641582e+00, -3.55205391e-01, -1.14545762e-01],\n",
       "       [-2.85470442e+00, -3.52209377e-01, -2.36538895e-01],\n",
       "       [-2.84681037e+00, -3.20226710e-01, -1.21338168e+00],\n",
       "       [-2.87919806e+00, -2.60971187e-01, -4.90047258e-01],\n",
       "       [-2.88030099e+00, -2.54082002e-01, -6.12486024e-01],\n",
       "       [-2.87415585e+00, -2.19718979e-01, -1.58957330e+00],\n",
       "       [-2.86825602e+00, -2.79646241e-01,  2.15788811e-02],\n",
       "       [-2.86831614e+00, -2.74269120e-01, -1.00646759e-01],\n",
       "       [-2.86293101e+00, -2.38868932e-01, -1.07785413e+00],\n",
       "       [-2.80515125e+00, -3.03769129e-01, -3.40634229e-01],\n",
       "       [-2.80426800e+00, -2.99628893e-01, -4.62755227e-01],\n",
       "       [-2.79720202e+00, -2.66507001e-01, -1.43972321e+00],\n",
       "       [-2.81153813e+00, -2.97852823e-01,  1.67861795e-01],\n",
       "       [-2.81065488e+00, -2.93712586e-01,  4.57407974e-02],\n",
       "       [-2.80358889e+00, -2.60590695e-01, -9.31227185e-01],\n",
       "       [-2.77686209e+00, -2.83211843e-01, -1.98483876e-01],\n",
       "       [-2.77597884e+00, -2.79071606e-01, -3.20604874e-01],\n",
       "       [-2.76891286e+00, -2.45949714e-01, -1.29757286e+00],\n",
       "       [-2.78324897e+00, -2.77295536e-01,  3.10012148e-01],\n",
       "       [-2.78236572e+00, -2.73155300e-01,  1.87891150e-01],\n",
       "       [-2.77529973e+00, -2.40033408e-01, -7.89076832e-01],\n",
       "       [ 1.54993746e+01, -8.52743786e+00,  5.47735743e-01],\n",
       "       [ 1.62318655e+01, -8.62491242e+00,  3.72474601e-01],\n",
       "       [ 1.64810057e+01, -8.39834973e+00, -6.91263660e-01],\n",
       "       [ 1.41384970e+01,  5.08500140e+00,  1.60251584e-01],\n",
       "       [ 1.52262261e+01,  5.79899269e+00, -5.69216032e-02],\n",
       "       [ 1.65541270e+01,  6.49680542e+00, -1.15076684e+00],\n",
       "       [-2.72028378e+00, -2.42097269e-01,  8.58168293e-02],\n",
       "       [-2.71940053e+00, -2.37957033e-01, -3.63041685e-02],\n",
       "       [-2.71233454e+00, -2.04835141e-01, -1.01327215e+00],\n",
       "       [-2.72667065e+00, -2.36180963e-01,  5.94312854e-01],\n",
       "       [-2.72578740e+00, -2.32040726e-01,  4.72191856e-01],\n",
       "       [-2.71872142e+00, -1.98918834e-01, -5.04776126e-01]])"
      ]
     },
     "execution_count": 120,
     "metadata": {},
     "output_type": "execute_result"
    }
   ],
   "source": [
    "scores"
   ]
  },
  {
   "cell_type": "code",
   "execution_count": 121,
   "id": "0dc9ebaf",
   "metadata": {},
   "outputs": [
    {
     "data": {
      "text/html": [
       "<div>\n",
       "<style scoped>\n",
       "    .dataframe tbody tr th:only-of-type {\n",
       "        vertical-align: middle;\n",
       "    }\n",
       "\n",
       "    .dataframe tbody tr th {\n",
       "        vertical-align: top;\n",
       "    }\n",
       "\n",
       "    .dataframe thead th {\n",
       "        text-align: right;\n",
       "    }\n",
       "</style>\n",
       "<table border=\"1\" class=\"dataframe\">\n",
       "  <thead>\n",
       "    <tr style=\"text-align: right;\">\n",
       "      <th></th>\n",
       "      <th>PC1</th>\n",
       "      <th>PC2</th>\n",
       "      <th>PC3</th>\n",
       "    </tr>\n",
       "  </thead>\n",
       "  <tbody>\n",
       "    <tr>\n",
       "      <th>0</th>\n",
       "      <td>-2.891564</td>\n",
       "      <td>-0.318167</td>\n",
       "      <td>1.917865</td>\n",
       "    </tr>\n",
       "    <tr>\n",
       "      <th>1</th>\n",
       "      <td>-2.846980</td>\n",
       "      <td>-0.364885</td>\n",
       "      <td>-0.622911</td>\n",
       "    </tr>\n",
       "    <tr>\n",
       "      <th>2</th>\n",
       "      <td>-2.838484</td>\n",
       "      <td>-0.328337</td>\n",
       "      <td>-1.721943</td>\n",
       "    </tr>\n",
       "    <tr>\n",
       "      <th>3</th>\n",
       "      <td>-2.864233</td>\n",
       "      <td>-0.344261</td>\n",
       "      <td>-0.115855</td>\n",
       "    </tr>\n",
       "    <tr>\n",
       "      <th>4</th>\n",
       "      <td>-2.856081</td>\n",
       "      <td>-0.307278</td>\n",
       "      <td>-1.214912</td>\n",
       "    </tr>\n",
       "    <tr>\n",
       "      <th>...</th>\n",
       "      <td>...</td>\n",
       "      <td>...</td>\n",
       "      <td>...</td>\n",
       "    </tr>\n",
       "    <tr>\n",
       "      <th>85</th>\n",
       "      <td>-2.719401</td>\n",
       "      <td>-0.237957</td>\n",
       "      <td>-0.036304</td>\n",
       "    </tr>\n",
       "    <tr>\n",
       "      <th>86</th>\n",
       "      <td>-2.712335</td>\n",
       "      <td>-0.204835</td>\n",
       "      <td>-1.013272</td>\n",
       "    </tr>\n",
       "    <tr>\n",
       "      <th>87</th>\n",
       "      <td>-2.726671</td>\n",
       "      <td>-0.236181</td>\n",
       "      <td>0.594313</td>\n",
       "    </tr>\n",
       "    <tr>\n",
       "      <th>88</th>\n",
       "      <td>-2.725787</td>\n",
       "      <td>-0.232041</td>\n",
       "      <td>0.472192</td>\n",
       "    </tr>\n",
       "    <tr>\n",
       "      <th>89</th>\n",
       "      <td>-2.718721</td>\n",
       "      <td>-0.198919</td>\n",
       "      <td>-0.504776</td>\n",
       "    </tr>\n",
       "  </tbody>\n",
       "</table>\n",
       "<p>90 rows × 3 columns</p>\n",
       "</div>"
      ],
      "text/plain": [
       "         PC1       PC2       PC3\n",
       "0  -2.891564 -0.318167  1.917865\n",
       "1  -2.846980 -0.364885 -0.622911\n",
       "2  -2.838484 -0.328337 -1.721943\n",
       "3  -2.864233 -0.344261 -0.115855\n",
       "4  -2.856081 -0.307278 -1.214912\n",
       "..       ...       ...       ...\n",
       "85 -2.719401 -0.237957 -0.036304\n",
       "86 -2.712335 -0.204835 -1.013272\n",
       "87 -2.726671 -0.236181  0.594313\n",
       "88 -2.725787 -0.232041  0.472192\n",
       "89 -2.718721 -0.198919 -0.504776\n",
       "\n",
       "[90 rows x 3 columns]"
      ]
     },
     "execution_count": 121,
     "metadata": {},
     "output_type": "execute_result"
    }
   ],
   "source": [
    "scores_df = pd.DataFrame(scores, columns=['PC1', 'PC2', 'PC3']) # dataframe is to make more readable\n",
    "scores_df"
   ]
  },
  {
   "cell_type": "code",
   "execution_count": 122,
   "id": "97c3d65b",
   "metadata": {},
   "outputs": [],
   "source": [
    "y_label = []\n",
    "\n",
    "for i in Y:\n",
    "    if i == 1:\n",
    "        y_label.append('HCV')\n",
    "    else:\n",
    "        y_label.append('HIV')\n",
    "\n",
    "sensors = pd.DataFrame(y_label, columns=['Sensor'])"
   ]
  },
  {
   "cell_type": "code",
   "execution_count": 123,
   "id": "5bff75c1",
   "metadata": {},
   "outputs": [
    {
     "data": {
      "text/html": [
       "<div>\n",
       "<style scoped>\n",
       "    .dataframe tbody tr th:only-of-type {\n",
       "        vertical-align: middle;\n",
       "    }\n",
       "\n",
       "    .dataframe tbody tr th {\n",
       "        vertical-align: top;\n",
       "    }\n",
       "\n",
       "    .dataframe thead th {\n",
       "        text-align: right;\n",
       "    }\n",
       "</style>\n",
       "<table border=\"1\" class=\"dataframe\">\n",
       "  <thead>\n",
       "    <tr style=\"text-align: right;\">\n",
       "      <th></th>\n",
       "      <th>PC1</th>\n",
       "      <th>PC2</th>\n",
       "      <th>PC3</th>\n",
       "      <th>Sensor</th>\n",
       "    </tr>\n",
       "  </thead>\n",
       "  <tbody>\n",
       "    <tr>\n",
       "      <th>0</th>\n",
       "      <td>-2.891564</td>\n",
       "      <td>-0.318167</td>\n",
       "      <td>1.917865</td>\n",
       "      <td>HCV</td>\n",
       "    </tr>\n",
       "    <tr>\n",
       "      <th>1</th>\n",
       "      <td>-2.846980</td>\n",
       "      <td>-0.364885</td>\n",
       "      <td>-0.622911</td>\n",
       "      <td>HCV</td>\n",
       "    </tr>\n",
       "    <tr>\n",
       "      <th>2</th>\n",
       "      <td>-2.838484</td>\n",
       "      <td>-0.328337</td>\n",
       "      <td>-1.721943</td>\n",
       "      <td>HCV</td>\n",
       "    </tr>\n",
       "    <tr>\n",
       "      <th>3</th>\n",
       "      <td>-2.864233</td>\n",
       "      <td>-0.344261</td>\n",
       "      <td>-0.115855</td>\n",
       "      <td>HCV</td>\n",
       "    </tr>\n",
       "    <tr>\n",
       "      <th>4</th>\n",
       "      <td>-2.856081</td>\n",
       "      <td>-0.307278</td>\n",
       "      <td>-1.214912</td>\n",
       "      <td>HCV</td>\n",
       "    </tr>\n",
       "    <tr>\n",
       "      <th>...</th>\n",
       "      <td>...</td>\n",
       "      <td>...</td>\n",
       "      <td>...</td>\n",
       "      <td>...</td>\n",
       "    </tr>\n",
       "    <tr>\n",
       "      <th>85</th>\n",
       "      <td>-2.719401</td>\n",
       "      <td>-0.237957</td>\n",
       "      <td>-0.036304</td>\n",
       "      <td>HIV</td>\n",
       "    </tr>\n",
       "    <tr>\n",
       "      <th>86</th>\n",
       "      <td>-2.712335</td>\n",
       "      <td>-0.204835</td>\n",
       "      <td>-1.013272</td>\n",
       "      <td>HIV</td>\n",
       "    </tr>\n",
       "    <tr>\n",
       "      <th>87</th>\n",
       "      <td>-2.726671</td>\n",
       "      <td>-0.236181</td>\n",
       "      <td>0.594313</td>\n",
       "      <td>HIV</td>\n",
       "    </tr>\n",
       "    <tr>\n",
       "      <th>88</th>\n",
       "      <td>-2.725787</td>\n",
       "      <td>-0.232041</td>\n",
       "      <td>0.472192</td>\n",
       "      <td>HIV</td>\n",
       "    </tr>\n",
       "    <tr>\n",
       "      <th>89</th>\n",
       "      <td>-2.718721</td>\n",
       "      <td>-0.198919</td>\n",
       "      <td>-0.504776</td>\n",
       "      <td>HIV</td>\n",
       "    </tr>\n",
       "  </tbody>\n",
       "</table>\n",
       "<p>90 rows × 4 columns</p>\n",
       "</div>"
      ],
      "text/plain": [
       "         PC1       PC2       PC3 Sensor\n",
       "0  -2.891564 -0.318167  1.917865    HCV\n",
       "1  -2.846980 -0.364885 -0.622911    HCV\n",
       "2  -2.838484 -0.328337 -1.721943    HCV\n",
       "3  -2.864233 -0.344261 -0.115855    HCV\n",
       "4  -2.856081 -0.307278 -1.214912    HCV\n",
       "..       ...       ...       ...    ...\n",
       "85 -2.719401 -0.237957 -0.036304    HIV\n",
       "86 -2.712335 -0.204835 -1.013272    HIV\n",
       "87 -2.726671 -0.236181  0.594313    HIV\n",
       "88 -2.725787 -0.232041  0.472192    HIV\n",
       "89 -2.718721 -0.198919 -0.504776    HIV\n",
       "\n",
       "[90 rows x 4 columns]"
      ]
     },
     "execution_count": 123,
     "metadata": {},
     "output_type": "execute_result"
    }
   ],
   "source": [
    "df_scores = pd.concat([scores_df, sensors], axis=1) # combine dataframes with concat\n",
    "df_scores"
   ]
  },
  {
   "cell_type": "code",
   "execution_count": 124,
   "id": "a8aab444",
   "metadata": {},
   "outputs": [
    {
     "data": {
      "text/plain": [
       "Index(['Electrode', 'Param', 'microg/ml', '1.00E+06', '7.94E+05', '6.31E+05',\n",
       "       '5.01E+05', '3.98E+05', '3.16E+05', '2.51E+05', '2.00E+05', '1.58E+05',\n",
       "       '1.26E+05', '1.00E+05', '7.94E+04', '6.31E+04', '5.01E+04', '3.98E+04',\n",
       "       '3.16E+04', '2.51E+04', '2.00E+04', '1.58E+04', '1.26E+04', '1.00E+04',\n",
       "       '7.94E+03', '6.31E+03', '5.01E+03', '3.98E+03', '3.16E+03', '2.51E+03',\n",
       "       '2.00E+03', '1.58E+03', '1.26E+03', '1.00E+03', '7.94E+02', '6.31E+02',\n",
       "       '5.01E+02', '3.98E+02', '3.16E+02', '2.51E+02', '2.00E+02', '1.58E+02',\n",
       "       '1.26E+02', '1.00E+02', '7.94E+01', '6.31E+01', '5.01E+01', '3.98E+01',\n",
       "       '3.16E+01', '2.51E+01', '2.00E+01', '1.58E+01', '1.26E+01', '1.00E+01',\n",
       "       '7.94E+00', '6.31E+00', '5.01E+00', '3.98E+00', '3.16E+00', '2.51E+00',\n",
       "       '2.00E+00', '1.58E+00', '1.26E+00', '1.00E+00'],\n",
       "      dtype='object')"
      ]
     },
     "execution_count": 124,
     "metadata": {},
     "output_type": "execute_result"
    }
   ],
   "source": [
    "feature_names = df.columns[1:]\n",
    "feature_names"
   ]
  },
  {
   "cell_type": "code",
   "execution_count": 125,
   "id": "c5e3358b",
   "metadata": {},
   "outputs": [
    {
     "data": {
      "text/html": [
       "<div>\n",
       "<style scoped>\n",
       "    .dataframe tbody tr th:only-of-type {\n",
       "        vertical-align: middle;\n",
       "    }\n",
       "\n",
       "    .dataframe tbody tr th {\n",
       "        vertical-align: top;\n",
       "    }\n",
       "\n",
       "    .dataframe thead th {\n",
       "        text-align: right;\n",
       "    }\n",
       "</style>\n",
       "<table border=\"1\" class=\"dataframe\">\n",
       "  <thead>\n",
       "    <tr style=\"text-align: right;\">\n",
       "      <th></th>\n",
       "      <th>PC1</th>\n",
       "      <th>PC2</th>\n",
       "      <th>PC3</th>\n",
       "    </tr>\n",
       "  </thead>\n",
       "  <tbody>\n",
       "    <tr>\n",
       "      <th>Electrode</th>\n",
       "      <td>-0.008931</td>\n",
       "      <td>0.008273</td>\n",
       "      <td>0.711087</td>\n",
       "    </tr>\n",
       "    <tr>\n",
       "      <th>Param</th>\n",
       "      <td>0.048313</td>\n",
       "      <td>0.035108</td>\n",
       "      <td>0.242768</td>\n",
       "    </tr>\n",
       "    <tr>\n",
       "      <th>microg/ml</th>\n",
       "      <td>0.003809</td>\n",
       "      <td>0.017854</td>\n",
       "      <td>-0.526617</td>\n",
       "    </tr>\n",
       "    <tr>\n",
       "      <th>1.00E+06</th>\n",
       "      <td>-0.058718</td>\n",
       "      <td>0.208162</td>\n",
       "      <td>-0.152794</td>\n",
       "    </tr>\n",
       "    <tr>\n",
       "      <th>7.94E+05</th>\n",
       "      <td>0.054081</td>\n",
       "      <td>0.289543</td>\n",
       "      <td>-0.079653</td>\n",
       "    </tr>\n",
       "    <tr>\n",
       "      <th>...</th>\n",
       "      <td>...</td>\n",
       "      <td>...</td>\n",
       "      <td>...</td>\n",
       "    </tr>\n",
       "    <tr>\n",
       "      <th>2.51E+00</th>\n",
       "      <td>0.122015</td>\n",
       "      <td>-0.169934</td>\n",
       "      <td>0.017288</td>\n",
       "    </tr>\n",
       "    <tr>\n",
       "      <th>2.00E+00</th>\n",
       "      <td>0.121451</td>\n",
       "      <td>-0.172193</td>\n",
       "      <td>0.020825</td>\n",
       "    </tr>\n",
       "    <tr>\n",
       "      <th>1.58E+00</th>\n",
       "      <td>0.121032</td>\n",
       "      <td>-0.173920</td>\n",
       "      <td>0.023180</td>\n",
       "    </tr>\n",
       "    <tr>\n",
       "      <th>1.26E+00</th>\n",
       "      <td>0.120610</td>\n",
       "      <td>-0.174822</td>\n",
       "      <td>0.023585</td>\n",
       "    </tr>\n",
       "    <tr>\n",
       "      <th>1.00E+00</th>\n",
       "      <td>0.119868</td>\n",
       "      <td>-0.178549</td>\n",
       "      <td>0.030262</td>\n",
       "    </tr>\n",
       "  </tbody>\n",
       "</table>\n",
       "<p>64 rows × 3 columns</p>\n",
       "</div>"
      ],
      "text/plain": [
       "                PC1       PC2       PC3\n",
       "Electrode -0.008931  0.008273  0.711087\n",
       "Param      0.048313  0.035108  0.242768\n",
       "microg/ml  0.003809  0.017854 -0.526617\n",
       "1.00E+06  -0.058718  0.208162 -0.152794\n",
       "7.94E+05   0.054081  0.289543 -0.079653\n",
       "...             ...       ...       ...\n",
       "2.51E+00   0.122015 -0.169934  0.017288\n",
       "2.00E+00   0.121451 -0.172193  0.020825\n",
       "1.58E+00   0.121032 -0.173920  0.023180\n",
       "1.26E+00   0.120610 -0.174822  0.023585\n",
       "1.00E+00   0.119868 -0.178549  0.030262\n",
       "\n",
       "[64 rows x 3 columns]"
      ]
     },
     "execution_count": 125,
     "metadata": {},
     "output_type": "execute_result"
    }
   ],
   "source": [
    "# 2.5 retrieve the loading values (remember PCA scores and loadings)\n",
    "# loadings value tell about the descriptor and scores value tell about the data samples\n",
    "# 150 flowers 150 score values 4 descriptors 4 loading values (1 for each descriptor)\n",
    "loadings = pca.components_.T\n",
    "df_loadings = pd.DataFrame(loadings, columns=['PC1', 'PC2', 'PC3'], index=feature_names)\n",
    "df_loadings"
   ]
  },
  {
   "cell_type": "code",
   "execution_count": 126,
   "id": "48edfeda",
   "metadata": {},
   "outputs": [
    {
     "data": {
      "text/plain": [
       "array([0.81149453, 0.11824357, 0.01835534])"
      ]
     },
     "execution_count": 126,
     "metadata": {},
     "output_type": "execute_result"
    }
   ],
   "source": [
    "# 2.6 explained variance\n",
    "# what`s the contribuition to the percent variance of the entire model contributed by each of the principal components\n",
    "explained_variance = pca.explained_variance_ratio_\n",
    "explained_variance"
   ]
  },
  {
   "cell_type": "code",
   "execution_count": 127,
   "id": "2c54679d",
   "metadata": {},
   "outputs": [],
   "source": [
    "# 3. Scree plot\n",
    "import numpy as np\n",
    "import plotly.express as px"
   ]
  },
  {
   "cell_type": "code",
   "execution_count": 128,
   "id": "cdd99943",
   "metadata": {},
   "outputs": [
    {
     "data": {
      "text/plain": [
       "array([0.        , 0.81149453, 0.11824357, 0.01835534])"
      ]
     },
     "execution_count": 128,
     "metadata": {},
     "output_type": "execute_result"
    }
   ],
   "source": [
    "# 3.1 preparing the explained variance data\n",
    "# add origin value, x and y are going to have origin zero, the subsequent lines of code are going to create the scree plot\n",
    "# the scree plot does not start from zero, then we need to manually create the zero origin\n",
    "explained_variance = np.insert(explained_variance, 0, 0)\n",
    "explained_variance"
   ]
  },
  {
   "cell_type": "code",
   "execution_count": 129,
   "id": "d1642e8b",
   "metadata": {},
   "outputs": [],
   "source": [
    "# 3.2 Preparing cumulative variance data\n",
    "cumulative_variance = np.cumsum(np.round(explained_variance, decimals=3))"
   ]
  },
  {
   "cell_type": "code",
   "execution_count": 130,
   "id": "64e7c30a",
   "metadata": {},
   "outputs": [],
   "source": [
    "# 3.3 Combining dataframe\n",
    "pc_df = pd.DataFrame(['', 'PC1', 'PC2', 'PC3'], columns=['PC'])\n",
    "explained_variance_df = pd.DataFrame(explained_variance, columns=['Explained Variance'])\n",
    "cumulative_variance_df = pd.DataFrame(cumulative_variance, columns=['Cumulative Variance'])"
   ]
  },
  {
   "cell_type": "code",
   "execution_count": 131,
   "id": "b020843f",
   "metadata": {},
   "outputs": [
    {
     "data": {
      "text/html": [
       "<div>\n",
       "<style scoped>\n",
       "    .dataframe tbody tr th:only-of-type {\n",
       "        vertical-align: middle;\n",
       "    }\n",
       "\n",
       "    .dataframe tbody tr th {\n",
       "        vertical-align: top;\n",
       "    }\n",
       "\n",
       "    .dataframe thead th {\n",
       "        text-align: right;\n",
       "    }\n",
       "</style>\n",
       "<table border=\"1\" class=\"dataframe\">\n",
       "  <thead>\n",
       "    <tr style=\"text-align: right;\">\n",
       "      <th></th>\n",
       "      <th>PC</th>\n",
       "      <th>Explained Variance</th>\n",
       "      <th>Cumulative Variance</th>\n",
       "    </tr>\n",
       "  </thead>\n",
       "  <tbody>\n",
       "    <tr>\n",
       "      <th>0</th>\n",
       "      <td></td>\n",
       "      <td>0.000000</td>\n",
       "      <td>0.000</td>\n",
       "    </tr>\n",
       "    <tr>\n",
       "      <th>1</th>\n",
       "      <td>PC1</td>\n",
       "      <td>0.811495</td>\n",
       "      <td>0.811</td>\n",
       "    </tr>\n",
       "    <tr>\n",
       "      <th>2</th>\n",
       "      <td>PC2</td>\n",
       "      <td>0.118244</td>\n",
       "      <td>0.929</td>\n",
       "    </tr>\n",
       "    <tr>\n",
       "      <th>3</th>\n",
       "      <td>PC3</td>\n",
       "      <td>0.018355</td>\n",
       "      <td>0.947</td>\n",
       "    </tr>\n",
       "  </tbody>\n",
       "</table>\n",
       "</div>"
      ],
      "text/plain": [
       "    PC  Explained Variance  Cumulative Variance\n",
       "0                 0.000000                0.000\n",
       "1  PC1            0.811495                0.811\n",
       "2  PC2            0.118244                0.929\n",
       "3  PC3            0.018355                0.947"
      ]
     },
     "execution_count": 131,
     "metadata": {},
     "output_type": "execute_result"
    }
   ],
   "source": [
    "df_explained_variance = pd.concat([pc_df, explained_variance_df, cumulative_variance_df], axis=1)\n",
    "df_explained_variance"
   ]
  },
  {
   "cell_type": "code",
   "execution_count": 132,
   "id": "fd7ee87f",
   "metadata": {},
   "outputs": [],
   "source": [
    "# 3.4 Creating Scree Plot\n",
    "# https://plotly.com/python/bar-charts/\n",
    "\n",
    "fig = px.bar(df_explained_variance, x='PC', y='Explained Variance', text='Explained Variance', width=800)"
   ]
  },
  {
   "cell_type": "code",
   "execution_count": 133,
   "id": "28c95061",
   "metadata": {},
   "outputs": [
    {
     "data": {
      "application/vnd.plotly.v1+json": {
       "config": {
        "plotlyServerURL": "https://plot.ly"
       },
       "data": [
        {
         "alignmentgroup": "True",
         "hovertemplate": "PC=%{x}<br>Explained Variance=%{text}<extra></extra>",
         "legendgroup": "",
         "marker": {
          "color": "#636efa",
          "pattern": {
           "shape": ""
          }
         },
         "name": "",
         "offsetgroup": "",
         "orientation": "v",
         "showlegend": false,
         "text": [
          0,
          0.8114945320816103,
          0.1182435710185074,
          0.018355338858256125
         ],
         "textposition": "outside",
         "texttemplate": "%{text:.3f}",
         "type": "bar",
         "x": [
          "",
          "PC1",
          "PC2",
          "PC3"
         ],
         "xaxis": "x",
         "y": [
          0,
          0.8114945320816103,
          0.1182435710185074,
          0.018355338858256125
         ],
         "yaxis": "y"
        }
       ],
       "layout": {
        "barmode": "relative",
        "legend": {
         "tracegroupgap": 0
        },
        "margin": {
         "t": 60
        },
        "template": {
         "data": {
          "bar": [
           {
            "error_x": {
             "color": "#2a3f5f"
            },
            "error_y": {
             "color": "#2a3f5f"
            },
            "marker": {
             "line": {
              "color": "#E5ECF6",
              "width": 0.5
             },
             "pattern": {
              "fillmode": "overlay",
              "size": 10,
              "solidity": 0.2
             }
            },
            "type": "bar"
           }
          ],
          "barpolar": [
           {
            "marker": {
             "line": {
              "color": "#E5ECF6",
              "width": 0.5
             },
             "pattern": {
              "fillmode": "overlay",
              "size": 10,
              "solidity": 0.2
             }
            },
            "type": "barpolar"
           }
          ],
          "carpet": [
           {
            "aaxis": {
             "endlinecolor": "#2a3f5f",
             "gridcolor": "white",
             "linecolor": "white",
             "minorgridcolor": "white",
             "startlinecolor": "#2a3f5f"
            },
            "baxis": {
             "endlinecolor": "#2a3f5f",
             "gridcolor": "white",
             "linecolor": "white",
             "minorgridcolor": "white",
             "startlinecolor": "#2a3f5f"
            },
            "type": "carpet"
           }
          ],
          "choropleth": [
           {
            "colorbar": {
             "outlinewidth": 0,
             "ticks": ""
            },
            "type": "choropleth"
           }
          ],
          "contour": [
           {
            "colorbar": {
             "outlinewidth": 0,
             "ticks": ""
            },
            "colorscale": [
             [
              0,
              "#0d0887"
             ],
             [
              0.1111111111111111,
              "#46039f"
             ],
             [
              0.2222222222222222,
              "#7201a8"
             ],
             [
              0.3333333333333333,
              "#9c179e"
             ],
             [
              0.4444444444444444,
              "#bd3786"
             ],
             [
              0.5555555555555556,
              "#d8576b"
             ],
             [
              0.6666666666666666,
              "#ed7953"
             ],
             [
              0.7777777777777778,
              "#fb9f3a"
             ],
             [
              0.8888888888888888,
              "#fdca26"
             ],
             [
              1,
              "#f0f921"
             ]
            ],
            "type": "contour"
           }
          ],
          "contourcarpet": [
           {
            "colorbar": {
             "outlinewidth": 0,
             "ticks": ""
            },
            "type": "contourcarpet"
           }
          ],
          "heatmap": [
           {
            "colorbar": {
             "outlinewidth": 0,
             "ticks": ""
            },
            "colorscale": [
             [
              0,
              "#0d0887"
             ],
             [
              0.1111111111111111,
              "#46039f"
             ],
             [
              0.2222222222222222,
              "#7201a8"
             ],
             [
              0.3333333333333333,
              "#9c179e"
             ],
             [
              0.4444444444444444,
              "#bd3786"
             ],
             [
              0.5555555555555556,
              "#d8576b"
             ],
             [
              0.6666666666666666,
              "#ed7953"
             ],
             [
              0.7777777777777778,
              "#fb9f3a"
             ],
             [
              0.8888888888888888,
              "#fdca26"
             ],
             [
              1,
              "#f0f921"
             ]
            ],
            "type": "heatmap"
           }
          ],
          "heatmapgl": [
           {
            "colorbar": {
             "outlinewidth": 0,
             "ticks": ""
            },
            "colorscale": [
             [
              0,
              "#0d0887"
             ],
             [
              0.1111111111111111,
              "#46039f"
             ],
             [
              0.2222222222222222,
              "#7201a8"
             ],
             [
              0.3333333333333333,
              "#9c179e"
             ],
             [
              0.4444444444444444,
              "#bd3786"
             ],
             [
              0.5555555555555556,
              "#d8576b"
             ],
             [
              0.6666666666666666,
              "#ed7953"
             ],
             [
              0.7777777777777778,
              "#fb9f3a"
             ],
             [
              0.8888888888888888,
              "#fdca26"
             ],
             [
              1,
              "#f0f921"
             ]
            ],
            "type": "heatmapgl"
           }
          ],
          "histogram": [
           {
            "marker": {
             "pattern": {
              "fillmode": "overlay",
              "size": 10,
              "solidity": 0.2
             }
            },
            "type": "histogram"
           }
          ],
          "histogram2d": [
           {
            "colorbar": {
             "outlinewidth": 0,
             "ticks": ""
            },
            "colorscale": [
             [
              0,
              "#0d0887"
             ],
             [
              0.1111111111111111,
              "#46039f"
             ],
             [
              0.2222222222222222,
              "#7201a8"
             ],
             [
              0.3333333333333333,
              "#9c179e"
             ],
             [
              0.4444444444444444,
              "#bd3786"
             ],
             [
              0.5555555555555556,
              "#d8576b"
             ],
             [
              0.6666666666666666,
              "#ed7953"
             ],
             [
              0.7777777777777778,
              "#fb9f3a"
             ],
             [
              0.8888888888888888,
              "#fdca26"
             ],
             [
              1,
              "#f0f921"
             ]
            ],
            "type": "histogram2d"
           }
          ],
          "histogram2dcontour": [
           {
            "colorbar": {
             "outlinewidth": 0,
             "ticks": ""
            },
            "colorscale": [
             [
              0,
              "#0d0887"
             ],
             [
              0.1111111111111111,
              "#46039f"
             ],
             [
              0.2222222222222222,
              "#7201a8"
             ],
             [
              0.3333333333333333,
              "#9c179e"
             ],
             [
              0.4444444444444444,
              "#bd3786"
             ],
             [
              0.5555555555555556,
              "#d8576b"
             ],
             [
              0.6666666666666666,
              "#ed7953"
             ],
             [
              0.7777777777777778,
              "#fb9f3a"
             ],
             [
              0.8888888888888888,
              "#fdca26"
             ],
             [
              1,
              "#f0f921"
             ]
            ],
            "type": "histogram2dcontour"
           }
          ],
          "mesh3d": [
           {
            "colorbar": {
             "outlinewidth": 0,
             "ticks": ""
            },
            "type": "mesh3d"
           }
          ],
          "parcoords": [
           {
            "line": {
             "colorbar": {
              "outlinewidth": 0,
              "ticks": ""
             }
            },
            "type": "parcoords"
           }
          ],
          "pie": [
           {
            "automargin": true,
            "type": "pie"
           }
          ],
          "scatter": [
           {
            "fillpattern": {
             "fillmode": "overlay",
             "size": 10,
             "solidity": 0.2
            },
            "type": "scatter"
           }
          ],
          "scatter3d": [
           {
            "line": {
             "colorbar": {
              "outlinewidth": 0,
              "ticks": ""
             }
            },
            "marker": {
             "colorbar": {
              "outlinewidth": 0,
              "ticks": ""
             }
            },
            "type": "scatter3d"
           }
          ],
          "scattercarpet": [
           {
            "marker": {
             "colorbar": {
              "outlinewidth": 0,
              "ticks": ""
             }
            },
            "type": "scattercarpet"
           }
          ],
          "scattergeo": [
           {
            "marker": {
             "colorbar": {
              "outlinewidth": 0,
              "ticks": ""
             }
            },
            "type": "scattergeo"
           }
          ],
          "scattergl": [
           {
            "marker": {
             "colorbar": {
              "outlinewidth": 0,
              "ticks": ""
             }
            },
            "type": "scattergl"
           }
          ],
          "scattermapbox": [
           {
            "marker": {
             "colorbar": {
              "outlinewidth": 0,
              "ticks": ""
             }
            },
            "type": "scattermapbox"
           }
          ],
          "scatterpolar": [
           {
            "marker": {
             "colorbar": {
              "outlinewidth": 0,
              "ticks": ""
             }
            },
            "type": "scatterpolar"
           }
          ],
          "scatterpolargl": [
           {
            "marker": {
             "colorbar": {
              "outlinewidth": 0,
              "ticks": ""
             }
            },
            "type": "scatterpolargl"
           }
          ],
          "scatterternary": [
           {
            "marker": {
             "colorbar": {
              "outlinewidth": 0,
              "ticks": ""
             }
            },
            "type": "scatterternary"
           }
          ],
          "surface": [
           {
            "colorbar": {
             "outlinewidth": 0,
             "ticks": ""
            },
            "colorscale": [
             [
              0,
              "#0d0887"
             ],
             [
              0.1111111111111111,
              "#46039f"
             ],
             [
              0.2222222222222222,
              "#7201a8"
             ],
             [
              0.3333333333333333,
              "#9c179e"
             ],
             [
              0.4444444444444444,
              "#bd3786"
             ],
             [
              0.5555555555555556,
              "#d8576b"
             ],
             [
              0.6666666666666666,
              "#ed7953"
             ],
             [
              0.7777777777777778,
              "#fb9f3a"
             ],
             [
              0.8888888888888888,
              "#fdca26"
             ],
             [
              1,
              "#f0f921"
             ]
            ],
            "type": "surface"
           }
          ],
          "table": [
           {
            "cells": {
             "fill": {
              "color": "#EBF0F8"
             },
             "line": {
              "color": "white"
             }
            },
            "header": {
             "fill": {
              "color": "#C8D4E3"
             },
             "line": {
              "color": "white"
             }
            },
            "type": "table"
           }
          ]
         },
         "layout": {
          "annotationdefaults": {
           "arrowcolor": "#2a3f5f",
           "arrowhead": 0,
           "arrowwidth": 1
          },
          "autotypenumbers": "strict",
          "coloraxis": {
           "colorbar": {
            "outlinewidth": 0,
            "ticks": ""
           }
          },
          "colorscale": {
           "diverging": [
            [
             0,
             "#8e0152"
            ],
            [
             0.1,
             "#c51b7d"
            ],
            [
             0.2,
             "#de77ae"
            ],
            [
             0.3,
             "#f1b6da"
            ],
            [
             0.4,
             "#fde0ef"
            ],
            [
             0.5,
             "#f7f7f7"
            ],
            [
             0.6,
             "#e6f5d0"
            ],
            [
             0.7,
             "#b8e186"
            ],
            [
             0.8,
             "#7fbc41"
            ],
            [
             0.9,
             "#4d9221"
            ],
            [
             1,
             "#276419"
            ]
           ],
           "sequential": [
            [
             0,
             "#0d0887"
            ],
            [
             0.1111111111111111,
             "#46039f"
            ],
            [
             0.2222222222222222,
             "#7201a8"
            ],
            [
             0.3333333333333333,
             "#9c179e"
            ],
            [
             0.4444444444444444,
             "#bd3786"
            ],
            [
             0.5555555555555556,
             "#d8576b"
            ],
            [
             0.6666666666666666,
             "#ed7953"
            ],
            [
             0.7777777777777778,
             "#fb9f3a"
            ],
            [
             0.8888888888888888,
             "#fdca26"
            ],
            [
             1,
             "#f0f921"
            ]
           ],
           "sequentialminus": [
            [
             0,
             "#0d0887"
            ],
            [
             0.1111111111111111,
             "#46039f"
            ],
            [
             0.2222222222222222,
             "#7201a8"
            ],
            [
             0.3333333333333333,
             "#9c179e"
            ],
            [
             0.4444444444444444,
             "#bd3786"
            ],
            [
             0.5555555555555556,
             "#d8576b"
            ],
            [
             0.6666666666666666,
             "#ed7953"
            ],
            [
             0.7777777777777778,
             "#fb9f3a"
            ],
            [
             0.8888888888888888,
             "#fdca26"
            ],
            [
             1,
             "#f0f921"
            ]
           ]
          },
          "colorway": [
           "#636efa",
           "#EF553B",
           "#00cc96",
           "#ab63fa",
           "#FFA15A",
           "#19d3f3",
           "#FF6692",
           "#B6E880",
           "#FF97FF",
           "#FECB52"
          ],
          "font": {
           "color": "#2a3f5f"
          },
          "geo": {
           "bgcolor": "white",
           "lakecolor": "white",
           "landcolor": "#E5ECF6",
           "showlakes": true,
           "showland": true,
           "subunitcolor": "white"
          },
          "hoverlabel": {
           "align": "left"
          },
          "hovermode": "closest",
          "mapbox": {
           "style": "light"
          },
          "paper_bgcolor": "white",
          "plot_bgcolor": "#E5ECF6",
          "polar": {
           "angularaxis": {
            "gridcolor": "white",
            "linecolor": "white",
            "ticks": ""
           },
           "bgcolor": "#E5ECF6",
           "radialaxis": {
            "gridcolor": "white",
            "linecolor": "white",
            "ticks": ""
           }
          },
          "scene": {
           "xaxis": {
            "backgroundcolor": "#E5ECF6",
            "gridcolor": "white",
            "gridwidth": 2,
            "linecolor": "white",
            "showbackground": true,
            "ticks": "",
            "zerolinecolor": "white"
           },
           "yaxis": {
            "backgroundcolor": "#E5ECF6",
            "gridcolor": "white",
            "gridwidth": 2,
            "linecolor": "white",
            "showbackground": true,
            "ticks": "",
            "zerolinecolor": "white"
           },
           "zaxis": {
            "backgroundcolor": "#E5ECF6",
            "gridcolor": "white",
            "gridwidth": 2,
            "linecolor": "white",
            "showbackground": true,
            "ticks": "",
            "zerolinecolor": "white"
           }
          },
          "shapedefaults": {
           "line": {
            "color": "#2a3f5f"
           }
          },
          "ternary": {
           "aaxis": {
            "gridcolor": "white",
            "linecolor": "white",
            "ticks": ""
           },
           "baxis": {
            "gridcolor": "white",
            "linecolor": "white",
            "ticks": ""
           },
           "bgcolor": "#E5ECF6",
           "caxis": {
            "gridcolor": "white",
            "linecolor": "white",
            "ticks": ""
           }
          },
          "title": {
           "x": 0.05
          },
          "xaxis": {
           "automargin": true,
           "gridcolor": "white",
           "linecolor": "white",
           "ticks": "",
           "title": {
            "standoff": 15
           },
           "zerolinecolor": "white",
           "zerolinewidth": 2
          },
          "yaxis": {
           "automargin": true,
           "gridcolor": "white",
           "linecolor": "white",
           "ticks": "",
           "title": {
            "standoff": 15
           },
           "zerolinecolor": "white",
           "zerolinewidth": 2
          }
         }
        },
        "width": 800,
        "xaxis": {
         "anchor": "y",
         "domain": [
          0,
          1
         ],
         "title": {
          "text": "PC"
         }
        },
        "yaxis": {
         "anchor": "x",
         "domain": [
          0,
          1
         ],
         "title": {
          "text": "Explained Variance"
         }
        }
       }
      },
      "text/html": [
       "<div>                            <div id=\"cf2ec020-5c4b-449d-a241-4c7187cf2a0a\" class=\"plotly-graph-div\" style=\"height:525px; width:800px;\"></div>            <script type=\"text/javascript\">                require([\"plotly\"], function(Plotly) {                    window.PLOTLYENV=window.PLOTLYENV || {};                                    if (document.getElementById(\"cf2ec020-5c4b-449d-a241-4c7187cf2a0a\")) {                    Plotly.newPlot(                        \"cf2ec020-5c4b-449d-a241-4c7187cf2a0a\",                        [{\"alignmentgroup\":\"True\",\"hovertemplate\":\"PC=%{x}<br>Explained Variance=%{text}<extra></extra>\",\"legendgroup\":\"\",\"marker\":{\"color\":\"#636efa\",\"pattern\":{\"shape\":\"\"}},\"name\":\"\",\"offsetgroup\":\"\",\"orientation\":\"v\",\"showlegend\":false,\"text\":[0.0,0.8114945320816103,0.1182435710185074,0.018355338858256125],\"textposition\":\"outside\",\"x\":[\"\",\"PC1\",\"PC2\",\"PC3\"],\"xaxis\":\"x\",\"y\":[0.0,0.8114945320816103,0.1182435710185074,0.018355338858256125],\"yaxis\":\"y\",\"type\":\"bar\",\"texttemplate\":\"%{text:.3f}\"}],                        {\"template\":{\"data\":{\"histogram2dcontour\":[{\"type\":\"histogram2dcontour\",\"colorbar\":{\"outlinewidth\":0,\"ticks\":\"\"},\"colorscale\":[[0.0,\"#0d0887\"],[0.1111111111111111,\"#46039f\"],[0.2222222222222222,\"#7201a8\"],[0.3333333333333333,\"#9c179e\"],[0.4444444444444444,\"#bd3786\"],[0.5555555555555556,\"#d8576b\"],[0.6666666666666666,\"#ed7953\"],[0.7777777777777778,\"#fb9f3a\"],[0.8888888888888888,\"#fdca26\"],[1.0,\"#f0f921\"]]}],\"choropleth\":[{\"type\":\"choropleth\",\"colorbar\":{\"outlinewidth\":0,\"ticks\":\"\"}}],\"histogram2d\":[{\"type\":\"histogram2d\",\"colorbar\":{\"outlinewidth\":0,\"ticks\":\"\"},\"colorscale\":[[0.0,\"#0d0887\"],[0.1111111111111111,\"#46039f\"],[0.2222222222222222,\"#7201a8\"],[0.3333333333333333,\"#9c179e\"],[0.4444444444444444,\"#bd3786\"],[0.5555555555555556,\"#d8576b\"],[0.6666666666666666,\"#ed7953\"],[0.7777777777777778,\"#fb9f3a\"],[0.8888888888888888,\"#fdca26\"],[1.0,\"#f0f921\"]]}],\"heatmap\":[{\"type\":\"heatmap\",\"colorbar\":{\"outlinewidth\":0,\"ticks\":\"\"},\"colorscale\":[[0.0,\"#0d0887\"],[0.1111111111111111,\"#46039f\"],[0.2222222222222222,\"#7201a8\"],[0.3333333333333333,\"#9c179e\"],[0.4444444444444444,\"#bd3786\"],[0.5555555555555556,\"#d8576b\"],[0.6666666666666666,\"#ed7953\"],[0.7777777777777778,\"#fb9f3a\"],[0.8888888888888888,\"#fdca26\"],[1.0,\"#f0f921\"]]}],\"heatmapgl\":[{\"type\":\"heatmapgl\",\"colorbar\":{\"outlinewidth\":0,\"ticks\":\"\"},\"colorscale\":[[0.0,\"#0d0887\"],[0.1111111111111111,\"#46039f\"],[0.2222222222222222,\"#7201a8\"],[0.3333333333333333,\"#9c179e\"],[0.4444444444444444,\"#bd3786\"],[0.5555555555555556,\"#d8576b\"],[0.6666666666666666,\"#ed7953\"],[0.7777777777777778,\"#fb9f3a\"],[0.8888888888888888,\"#fdca26\"],[1.0,\"#f0f921\"]]}],\"contourcarpet\":[{\"type\":\"contourcarpet\",\"colorbar\":{\"outlinewidth\":0,\"ticks\":\"\"}}],\"contour\":[{\"type\":\"contour\",\"colorbar\":{\"outlinewidth\":0,\"ticks\":\"\"},\"colorscale\":[[0.0,\"#0d0887\"],[0.1111111111111111,\"#46039f\"],[0.2222222222222222,\"#7201a8\"],[0.3333333333333333,\"#9c179e\"],[0.4444444444444444,\"#bd3786\"],[0.5555555555555556,\"#d8576b\"],[0.6666666666666666,\"#ed7953\"],[0.7777777777777778,\"#fb9f3a\"],[0.8888888888888888,\"#fdca26\"],[1.0,\"#f0f921\"]]}],\"surface\":[{\"type\":\"surface\",\"colorbar\":{\"outlinewidth\":0,\"ticks\":\"\"},\"colorscale\":[[0.0,\"#0d0887\"],[0.1111111111111111,\"#46039f\"],[0.2222222222222222,\"#7201a8\"],[0.3333333333333333,\"#9c179e\"],[0.4444444444444444,\"#bd3786\"],[0.5555555555555556,\"#d8576b\"],[0.6666666666666666,\"#ed7953\"],[0.7777777777777778,\"#fb9f3a\"],[0.8888888888888888,\"#fdca26\"],[1.0,\"#f0f921\"]]}],\"mesh3d\":[{\"type\":\"mesh3d\",\"colorbar\":{\"outlinewidth\":0,\"ticks\":\"\"}}],\"scatter\":[{\"fillpattern\":{\"fillmode\":\"overlay\",\"size\":10,\"solidity\":0.2},\"type\":\"scatter\"}],\"parcoords\":[{\"type\":\"parcoords\",\"line\":{\"colorbar\":{\"outlinewidth\":0,\"ticks\":\"\"}}}],\"scatterpolargl\":[{\"type\":\"scatterpolargl\",\"marker\":{\"colorbar\":{\"outlinewidth\":0,\"ticks\":\"\"}}}],\"bar\":[{\"error_x\":{\"color\":\"#2a3f5f\"},\"error_y\":{\"color\":\"#2a3f5f\"},\"marker\":{\"line\":{\"color\":\"#E5ECF6\",\"width\":0.5},\"pattern\":{\"fillmode\":\"overlay\",\"size\":10,\"solidity\":0.2}},\"type\":\"bar\"}],\"scattergeo\":[{\"type\":\"scattergeo\",\"marker\":{\"colorbar\":{\"outlinewidth\":0,\"ticks\":\"\"}}}],\"scatterpolar\":[{\"type\":\"scatterpolar\",\"marker\":{\"colorbar\":{\"outlinewidth\":0,\"ticks\":\"\"}}}],\"histogram\":[{\"marker\":{\"pattern\":{\"fillmode\":\"overlay\",\"size\":10,\"solidity\":0.2}},\"type\":\"histogram\"}],\"scattergl\":[{\"type\":\"scattergl\",\"marker\":{\"colorbar\":{\"outlinewidth\":0,\"ticks\":\"\"}}}],\"scatter3d\":[{\"type\":\"scatter3d\",\"line\":{\"colorbar\":{\"outlinewidth\":0,\"ticks\":\"\"}},\"marker\":{\"colorbar\":{\"outlinewidth\":0,\"ticks\":\"\"}}}],\"scattermapbox\":[{\"type\":\"scattermapbox\",\"marker\":{\"colorbar\":{\"outlinewidth\":0,\"ticks\":\"\"}}}],\"scatterternary\":[{\"type\":\"scatterternary\",\"marker\":{\"colorbar\":{\"outlinewidth\":0,\"ticks\":\"\"}}}],\"scattercarpet\":[{\"type\":\"scattercarpet\",\"marker\":{\"colorbar\":{\"outlinewidth\":0,\"ticks\":\"\"}}}],\"carpet\":[{\"aaxis\":{\"endlinecolor\":\"#2a3f5f\",\"gridcolor\":\"white\",\"linecolor\":\"white\",\"minorgridcolor\":\"white\",\"startlinecolor\":\"#2a3f5f\"},\"baxis\":{\"endlinecolor\":\"#2a3f5f\",\"gridcolor\":\"white\",\"linecolor\":\"white\",\"minorgridcolor\":\"white\",\"startlinecolor\":\"#2a3f5f\"},\"type\":\"carpet\"}],\"table\":[{\"cells\":{\"fill\":{\"color\":\"#EBF0F8\"},\"line\":{\"color\":\"white\"}},\"header\":{\"fill\":{\"color\":\"#C8D4E3\"},\"line\":{\"color\":\"white\"}},\"type\":\"table\"}],\"barpolar\":[{\"marker\":{\"line\":{\"color\":\"#E5ECF6\",\"width\":0.5},\"pattern\":{\"fillmode\":\"overlay\",\"size\":10,\"solidity\":0.2}},\"type\":\"barpolar\"}],\"pie\":[{\"automargin\":true,\"type\":\"pie\"}]},\"layout\":{\"autotypenumbers\":\"strict\",\"colorway\":[\"#636efa\",\"#EF553B\",\"#00cc96\",\"#ab63fa\",\"#FFA15A\",\"#19d3f3\",\"#FF6692\",\"#B6E880\",\"#FF97FF\",\"#FECB52\"],\"font\":{\"color\":\"#2a3f5f\"},\"hovermode\":\"closest\",\"hoverlabel\":{\"align\":\"left\"},\"paper_bgcolor\":\"white\",\"plot_bgcolor\":\"#E5ECF6\",\"polar\":{\"bgcolor\":\"#E5ECF6\",\"angularaxis\":{\"gridcolor\":\"white\",\"linecolor\":\"white\",\"ticks\":\"\"},\"radialaxis\":{\"gridcolor\":\"white\",\"linecolor\":\"white\",\"ticks\":\"\"}},\"ternary\":{\"bgcolor\":\"#E5ECF6\",\"aaxis\":{\"gridcolor\":\"white\",\"linecolor\":\"white\",\"ticks\":\"\"},\"baxis\":{\"gridcolor\":\"white\",\"linecolor\":\"white\",\"ticks\":\"\"},\"caxis\":{\"gridcolor\":\"white\",\"linecolor\":\"white\",\"ticks\":\"\"}},\"coloraxis\":{\"colorbar\":{\"outlinewidth\":0,\"ticks\":\"\"}},\"colorscale\":{\"sequential\":[[0.0,\"#0d0887\"],[0.1111111111111111,\"#46039f\"],[0.2222222222222222,\"#7201a8\"],[0.3333333333333333,\"#9c179e\"],[0.4444444444444444,\"#bd3786\"],[0.5555555555555556,\"#d8576b\"],[0.6666666666666666,\"#ed7953\"],[0.7777777777777778,\"#fb9f3a\"],[0.8888888888888888,\"#fdca26\"],[1.0,\"#f0f921\"]],\"sequentialminus\":[[0.0,\"#0d0887\"],[0.1111111111111111,\"#46039f\"],[0.2222222222222222,\"#7201a8\"],[0.3333333333333333,\"#9c179e\"],[0.4444444444444444,\"#bd3786\"],[0.5555555555555556,\"#d8576b\"],[0.6666666666666666,\"#ed7953\"],[0.7777777777777778,\"#fb9f3a\"],[0.8888888888888888,\"#fdca26\"],[1.0,\"#f0f921\"]],\"diverging\":[[0,\"#8e0152\"],[0.1,\"#c51b7d\"],[0.2,\"#de77ae\"],[0.3,\"#f1b6da\"],[0.4,\"#fde0ef\"],[0.5,\"#f7f7f7\"],[0.6,\"#e6f5d0\"],[0.7,\"#b8e186\"],[0.8,\"#7fbc41\"],[0.9,\"#4d9221\"],[1,\"#276419\"]]},\"xaxis\":{\"gridcolor\":\"white\",\"linecolor\":\"white\",\"ticks\":\"\",\"title\":{\"standoff\":15},\"zerolinecolor\":\"white\",\"automargin\":true,\"zerolinewidth\":2},\"yaxis\":{\"gridcolor\":\"white\",\"linecolor\":\"white\",\"ticks\":\"\",\"title\":{\"standoff\":15},\"zerolinecolor\":\"white\",\"automargin\":true,\"zerolinewidth\":2},\"scene\":{\"xaxis\":{\"backgroundcolor\":\"#E5ECF6\",\"gridcolor\":\"white\",\"linecolor\":\"white\",\"showbackground\":true,\"ticks\":\"\",\"zerolinecolor\":\"white\",\"gridwidth\":2},\"yaxis\":{\"backgroundcolor\":\"#E5ECF6\",\"gridcolor\":\"white\",\"linecolor\":\"white\",\"showbackground\":true,\"ticks\":\"\",\"zerolinecolor\":\"white\",\"gridwidth\":2},\"zaxis\":{\"backgroundcolor\":\"#E5ECF6\",\"gridcolor\":\"white\",\"linecolor\":\"white\",\"showbackground\":true,\"ticks\":\"\",\"zerolinecolor\":\"white\",\"gridwidth\":2}},\"shapedefaults\":{\"line\":{\"color\":\"#2a3f5f\"}},\"annotationdefaults\":{\"arrowcolor\":\"#2a3f5f\",\"arrowhead\":0,\"arrowwidth\":1},\"geo\":{\"bgcolor\":\"white\",\"landcolor\":\"#E5ECF6\",\"subunitcolor\":\"white\",\"showland\":true,\"showlakes\":true,\"lakecolor\":\"white\"},\"title\":{\"x\":0.05},\"mapbox\":{\"style\":\"light\"}}},\"xaxis\":{\"anchor\":\"y\",\"domain\":[0.0,1.0],\"title\":{\"text\":\"PC\"}},\"yaxis\":{\"anchor\":\"x\",\"domain\":[0.0,1.0],\"title\":{\"text\":\"Explained Variance\"}},\"legend\":{\"tracegroupgap\":0},\"margin\":{\"t\":60},\"barmode\":\"relative\",\"width\":800},                        {\"responsive\": true}                    ).then(function(){\n",
       "                            \n",
       "var gd = document.getElementById('cf2ec020-5c4b-449d-a241-4c7187cf2a0a');\n",
       "var x = new MutationObserver(function (mutations, observer) {{\n",
       "        var display = window.getComputedStyle(gd).display;\n",
       "        if (!display || display === 'none') {{\n",
       "            console.log([gd, 'removed!']);\n",
       "            Plotly.purge(gd);\n",
       "            observer.disconnect();\n",
       "        }}\n",
       "}});\n",
       "\n",
       "// Listen for the removal of the full notebook cells\n",
       "var notebookContainer = gd.closest('#notebook-container');\n",
       "if (notebookContainer) {{\n",
       "    x.observe(notebookContainer, {childList: true});\n",
       "}}\n",
       "\n",
       "// Listen for the clearing of the current output cell\n",
       "var outputEl = gd.closest('.output');\n",
       "if (outputEl) {{\n",
       "    x.observe(outputEl, {childList: true});\n",
       "}}\n",
       "\n",
       "                        })                };                });            </script>        </div>"
      ]
     },
     "metadata": {},
     "output_type": "display_data"
    }
   ],
   "source": [
    "fig.update_traces(texttemplate='%{text:.3f}', textposition='outside') # limit decimal cases and text outside the bar\n",
    "fig.show() #explained variance"
   ]
  },
  {
   "cell_type": "code",
   "execution_count": 134,
   "id": "ec892729",
   "metadata": {},
   "outputs": [
    {
     "data": {
      "application/vnd.plotly.v1+json": {
       "config": {
        "plotlyServerURL": "https://plot.ly"
       },
       "data": [
        {
         "marker": {
          "color": "LightSeaGreen",
          "size": 15
         },
         "type": "scatter",
         "x": [
          "",
          "PC1",
          "PC2",
          "PC3"
         ],
         "y": [
          0,
          0.811,
          0.929,
          0.9470000000000001
         ]
        },
        {
         "marker": {
          "color": "RoyalBlue"
         },
         "type": "bar",
         "x": [
          "",
          "PC1",
          "PC2",
          "PC3"
         ],
         "y": [
          0,
          0.8114945320816103,
          0.1182435710185074,
          0.018355338858256125
         ]
        }
       ],
       "layout": {
        "template": {
         "data": {
          "bar": [
           {
            "error_x": {
             "color": "#2a3f5f"
            },
            "error_y": {
             "color": "#2a3f5f"
            },
            "marker": {
             "line": {
              "color": "#E5ECF6",
              "width": 0.5
             },
             "pattern": {
              "fillmode": "overlay",
              "size": 10,
              "solidity": 0.2
             }
            },
            "type": "bar"
           }
          ],
          "barpolar": [
           {
            "marker": {
             "line": {
              "color": "#E5ECF6",
              "width": 0.5
             },
             "pattern": {
              "fillmode": "overlay",
              "size": 10,
              "solidity": 0.2
             }
            },
            "type": "barpolar"
           }
          ],
          "carpet": [
           {
            "aaxis": {
             "endlinecolor": "#2a3f5f",
             "gridcolor": "white",
             "linecolor": "white",
             "minorgridcolor": "white",
             "startlinecolor": "#2a3f5f"
            },
            "baxis": {
             "endlinecolor": "#2a3f5f",
             "gridcolor": "white",
             "linecolor": "white",
             "minorgridcolor": "white",
             "startlinecolor": "#2a3f5f"
            },
            "type": "carpet"
           }
          ],
          "choropleth": [
           {
            "colorbar": {
             "outlinewidth": 0,
             "ticks": ""
            },
            "type": "choropleth"
           }
          ],
          "contour": [
           {
            "colorbar": {
             "outlinewidth": 0,
             "ticks": ""
            },
            "colorscale": [
             [
              0,
              "#0d0887"
             ],
             [
              0.1111111111111111,
              "#46039f"
             ],
             [
              0.2222222222222222,
              "#7201a8"
             ],
             [
              0.3333333333333333,
              "#9c179e"
             ],
             [
              0.4444444444444444,
              "#bd3786"
             ],
             [
              0.5555555555555556,
              "#d8576b"
             ],
             [
              0.6666666666666666,
              "#ed7953"
             ],
             [
              0.7777777777777778,
              "#fb9f3a"
             ],
             [
              0.8888888888888888,
              "#fdca26"
             ],
             [
              1,
              "#f0f921"
             ]
            ],
            "type": "contour"
           }
          ],
          "contourcarpet": [
           {
            "colorbar": {
             "outlinewidth": 0,
             "ticks": ""
            },
            "type": "contourcarpet"
           }
          ],
          "heatmap": [
           {
            "colorbar": {
             "outlinewidth": 0,
             "ticks": ""
            },
            "colorscale": [
             [
              0,
              "#0d0887"
             ],
             [
              0.1111111111111111,
              "#46039f"
             ],
             [
              0.2222222222222222,
              "#7201a8"
             ],
             [
              0.3333333333333333,
              "#9c179e"
             ],
             [
              0.4444444444444444,
              "#bd3786"
             ],
             [
              0.5555555555555556,
              "#d8576b"
             ],
             [
              0.6666666666666666,
              "#ed7953"
             ],
             [
              0.7777777777777778,
              "#fb9f3a"
             ],
             [
              0.8888888888888888,
              "#fdca26"
             ],
             [
              1,
              "#f0f921"
             ]
            ],
            "type": "heatmap"
           }
          ],
          "heatmapgl": [
           {
            "colorbar": {
             "outlinewidth": 0,
             "ticks": ""
            },
            "colorscale": [
             [
              0,
              "#0d0887"
             ],
             [
              0.1111111111111111,
              "#46039f"
             ],
             [
              0.2222222222222222,
              "#7201a8"
             ],
             [
              0.3333333333333333,
              "#9c179e"
             ],
             [
              0.4444444444444444,
              "#bd3786"
             ],
             [
              0.5555555555555556,
              "#d8576b"
             ],
             [
              0.6666666666666666,
              "#ed7953"
             ],
             [
              0.7777777777777778,
              "#fb9f3a"
             ],
             [
              0.8888888888888888,
              "#fdca26"
             ],
             [
              1,
              "#f0f921"
             ]
            ],
            "type": "heatmapgl"
           }
          ],
          "histogram": [
           {
            "marker": {
             "pattern": {
              "fillmode": "overlay",
              "size": 10,
              "solidity": 0.2
             }
            },
            "type": "histogram"
           }
          ],
          "histogram2d": [
           {
            "colorbar": {
             "outlinewidth": 0,
             "ticks": ""
            },
            "colorscale": [
             [
              0,
              "#0d0887"
             ],
             [
              0.1111111111111111,
              "#46039f"
             ],
             [
              0.2222222222222222,
              "#7201a8"
             ],
             [
              0.3333333333333333,
              "#9c179e"
             ],
             [
              0.4444444444444444,
              "#bd3786"
             ],
             [
              0.5555555555555556,
              "#d8576b"
             ],
             [
              0.6666666666666666,
              "#ed7953"
             ],
             [
              0.7777777777777778,
              "#fb9f3a"
             ],
             [
              0.8888888888888888,
              "#fdca26"
             ],
             [
              1,
              "#f0f921"
             ]
            ],
            "type": "histogram2d"
           }
          ],
          "histogram2dcontour": [
           {
            "colorbar": {
             "outlinewidth": 0,
             "ticks": ""
            },
            "colorscale": [
             [
              0,
              "#0d0887"
             ],
             [
              0.1111111111111111,
              "#46039f"
             ],
             [
              0.2222222222222222,
              "#7201a8"
             ],
             [
              0.3333333333333333,
              "#9c179e"
             ],
             [
              0.4444444444444444,
              "#bd3786"
             ],
             [
              0.5555555555555556,
              "#d8576b"
             ],
             [
              0.6666666666666666,
              "#ed7953"
             ],
             [
              0.7777777777777778,
              "#fb9f3a"
             ],
             [
              0.8888888888888888,
              "#fdca26"
             ],
             [
              1,
              "#f0f921"
             ]
            ],
            "type": "histogram2dcontour"
           }
          ],
          "mesh3d": [
           {
            "colorbar": {
             "outlinewidth": 0,
             "ticks": ""
            },
            "type": "mesh3d"
           }
          ],
          "parcoords": [
           {
            "line": {
             "colorbar": {
              "outlinewidth": 0,
              "ticks": ""
             }
            },
            "type": "parcoords"
           }
          ],
          "pie": [
           {
            "automargin": true,
            "type": "pie"
           }
          ],
          "scatter": [
           {
            "fillpattern": {
             "fillmode": "overlay",
             "size": 10,
             "solidity": 0.2
            },
            "type": "scatter"
           }
          ],
          "scatter3d": [
           {
            "line": {
             "colorbar": {
              "outlinewidth": 0,
              "ticks": ""
             }
            },
            "marker": {
             "colorbar": {
              "outlinewidth": 0,
              "ticks": ""
             }
            },
            "type": "scatter3d"
           }
          ],
          "scattercarpet": [
           {
            "marker": {
             "colorbar": {
              "outlinewidth": 0,
              "ticks": ""
             }
            },
            "type": "scattercarpet"
           }
          ],
          "scattergeo": [
           {
            "marker": {
             "colorbar": {
              "outlinewidth": 0,
              "ticks": ""
             }
            },
            "type": "scattergeo"
           }
          ],
          "scattergl": [
           {
            "marker": {
             "colorbar": {
              "outlinewidth": 0,
              "ticks": ""
             }
            },
            "type": "scattergl"
           }
          ],
          "scattermapbox": [
           {
            "marker": {
             "colorbar": {
              "outlinewidth": 0,
              "ticks": ""
             }
            },
            "type": "scattermapbox"
           }
          ],
          "scatterpolar": [
           {
            "marker": {
             "colorbar": {
              "outlinewidth": 0,
              "ticks": ""
             }
            },
            "type": "scatterpolar"
           }
          ],
          "scatterpolargl": [
           {
            "marker": {
             "colorbar": {
              "outlinewidth": 0,
              "ticks": ""
             }
            },
            "type": "scatterpolargl"
           }
          ],
          "scatterternary": [
           {
            "marker": {
             "colorbar": {
              "outlinewidth": 0,
              "ticks": ""
             }
            },
            "type": "scatterternary"
           }
          ],
          "surface": [
           {
            "colorbar": {
             "outlinewidth": 0,
             "ticks": ""
            },
            "colorscale": [
             [
              0,
              "#0d0887"
             ],
             [
              0.1111111111111111,
              "#46039f"
             ],
             [
              0.2222222222222222,
              "#7201a8"
             ],
             [
              0.3333333333333333,
              "#9c179e"
             ],
             [
              0.4444444444444444,
              "#bd3786"
             ],
             [
              0.5555555555555556,
              "#d8576b"
             ],
             [
              0.6666666666666666,
              "#ed7953"
             ],
             [
              0.7777777777777778,
              "#fb9f3a"
             ],
             [
              0.8888888888888888,
              "#fdca26"
             ],
             [
              1,
              "#f0f921"
             ]
            ],
            "type": "surface"
           }
          ],
          "table": [
           {
            "cells": {
             "fill": {
              "color": "#EBF0F8"
             },
             "line": {
              "color": "white"
             }
            },
            "header": {
             "fill": {
              "color": "#C8D4E3"
             },
             "line": {
              "color": "white"
             }
            },
            "type": "table"
           }
          ]
         },
         "layout": {
          "annotationdefaults": {
           "arrowcolor": "#2a3f5f",
           "arrowhead": 0,
           "arrowwidth": 1
          },
          "autotypenumbers": "strict",
          "coloraxis": {
           "colorbar": {
            "outlinewidth": 0,
            "ticks": ""
           }
          },
          "colorscale": {
           "diverging": [
            [
             0,
             "#8e0152"
            ],
            [
             0.1,
             "#c51b7d"
            ],
            [
             0.2,
             "#de77ae"
            ],
            [
             0.3,
             "#f1b6da"
            ],
            [
             0.4,
             "#fde0ef"
            ],
            [
             0.5,
             "#f7f7f7"
            ],
            [
             0.6,
             "#e6f5d0"
            ],
            [
             0.7,
             "#b8e186"
            ],
            [
             0.8,
             "#7fbc41"
            ],
            [
             0.9,
             "#4d9221"
            ],
            [
             1,
             "#276419"
            ]
           ],
           "sequential": [
            [
             0,
             "#0d0887"
            ],
            [
             0.1111111111111111,
             "#46039f"
            ],
            [
             0.2222222222222222,
             "#7201a8"
            ],
            [
             0.3333333333333333,
             "#9c179e"
            ],
            [
             0.4444444444444444,
             "#bd3786"
            ],
            [
             0.5555555555555556,
             "#d8576b"
            ],
            [
             0.6666666666666666,
             "#ed7953"
            ],
            [
             0.7777777777777778,
             "#fb9f3a"
            ],
            [
             0.8888888888888888,
             "#fdca26"
            ],
            [
             1,
             "#f0f921"
            ]
           ],
           "sequentialminus": [
            [
             0,
             "#0d0887"
            ],
            [
             0.1111111111111111,
             "#46039f"
            ],
            [
             0.2222222222222222,
             "#7201a8"
            ],
            [
             0.3333333333333333,
             "#9c179e"
            ],
            [
             0.4444444444444444,
             "#bd3786"
            ],
            [
             0.5555555555555556,
             "#d8576b"
            ],
            [
             0.6666666666666666,
             "#ed7953"
            ],
            [
             0.7777777777777778,
             "#fb9f3a"
            ],
            [
             0.8888888888888888,
             "#fdca26"
            ],
            [
             1,
             "#f0f921"
            ]
           ]
          },
          "colorway": [
           "#636efa",
           "#EF553B",
           "#00cc96",
           "#ab63fa",
           "#FFA15A",
           "#19d3f3",
           "#FF6692",
           "#B6E880",
           "#FF97FF",
           "#FECB52"
          ],
          "font": {
           "color": "#2a3f5f"
          },
          "geo": {
           "bgcolor": "white",
           "lakecolor": "white",
           "landcolor": "#E5ECF6",
           "showlakes": true,
           "showland": true,
           "subunitcolor": "white"
          },
          "hoverlabel": {
           "align": "left"
          },
          "hovermode": "closest",
          "mapbox": {
           "style": "light"
          },
          "paper_bgcolor": "white",
          "plot_bgcolor": "#E5ECF6",
          "polar": {
           "angularaxis": {
            "gridcolor": "white",
            "linecolor": "white",
            "ticks": ""
           },
           "bgcolor": "#E5ECF6",
           "radialaxis": {
            "gridcolor": "white",
            "linecolor": "white",
            "ticks": ""
           }
          },
          "scene": {
           "xaxis": {
            "backgroundcolor": "#E5ECF6",
            "gridcolor": "white",
            "gridwidth": 2,
            "linecolor": "white",
            "showbackground": true,
            "ticks": "",
            "zerolinecolor": "white"
           },
           "yaxis": {
            "backgroundcolor": "#E5ECF6",
            "gridcolor": "white",
            "gridwidth": 2,
            "linecolor": "white",
            "showbackground": true,
            "ticks": "",
            "zerolinecolor": "white"
           },
           "zaxis": {
            "backgroundcolor": "#E5ECF6",
            "gridcolor": "white",
            "gridwidth": 2,
            "linecolor": "white",
            "showbackground": true,
            "ticks": "",
            "zerolinecolor": "white"
           }
          },
          "shapedefaults": {
           "line": {
            "color": "#2a3f5f"
           }
          },
          "ternary": {
           "aaxis": {
            "gridcolor": "white",
            "linecolor": "white",
            "ticks": ""
           },
           "baxis": {
            "gridcolor": "white",
            "linecolor": "white",
            "ticks": ""
           },
           "bgcolor": "#E5ECF6",
           "caxis": {
            "gridcolor": "white",
            "linecolor": "white",
            "ticks": ""
           }
          },
          "title": {
           "x": 0.05
          },
          "xaxis": {
           "automargin": true,
           "gridcolor": "white",
           "linecolor": "white",
           "ticks": "",
           "title": {
            "standoff": 15
           },
           "zerolinecolor": "white",
           "zerolinewidth": 2
          },
          "yaxis": {
           "automargin": true,
           "gridcolor": "white",
           "linecolor": "white",
           "ticks": "",
           "title": {
            "standoff": 15
           },
           "zerolinecolor": "white",
           "zerolinewidth": 2
          }
         }
        }
       }
      },
      "text/html": [
       "<div>                            <div id=\"fd3f2787-566e-4ccb-9224-4528be03be31\" class=\"plotly-graph-div\" style=\"height:525px; width:100%;\"></div>            <script type=\"text/javascript\">                require([\"plotly\"], function(Plotly) {                    window.PLOTLYENV=window.PLOTLYENV || {};                                    if (document.getElementById(\"fd3f2787-566e-4ccb-9224-4528be03be31\")) {                    Plotly.newPlot(                        \"fd3f2787-566e-4ccb-9224-4528be03be31\",                        [{\"marker\":{\"color\":\"LightSeaGreen\",\"size\":15},\"x\":[\"\",\"PC1\",\"PC2\",\"PC3\"],\"y\":[0.0,0.811,0.929,0.9470000000000001],\"type\":\"scatter\"},{\"marker\":{\"color\":\"RoyalBlue\"},\"x\":[\"\",\"PC1\",\"PC2\",\"PC3\"],\"y\":[0.0,0.8114945320816103,0.1182435710185074,0.018355338858256125],\"type\":\"bar\"}],                        {\"template\":{\"data\":{\"histogram2dcontour\":[{\"type\":\"histogram2dcontour\",\"colorbar\":{\"outlinewidth\":0,\"ticks\":\"\"},\"colorscale\":[[0.0,\"#0d0887\"],[0.1111111111111111,\"#46039f\"],[0.2222222222222222,\"#7201a8\"],[0.3333333333333333,\"#9c179e\"],[0.4444444444444444,\"#bd3786\"],[0.5555555555555556,\"#d8576b\"],[0.6666666666666666,\"#ed7953\"],[0.7777777777777778,\"#fb9f3a\"],[0.8888888888888888,\"#fdca26\"],[1.0,\"#f0f921\"]]}],\"choropleth\":[{\"type\":\"choropleth\",\"colorbar\":{\"outlinewidth\":0,\"ticks\":\"\"}}],\"histogram2d\":[{\"type\":\"histogram2d\",\"colorbar\":{\"outlinewidth\":0,\"ticks\":\"\"},\"colorscale\":[[0.0,\"#0d0887\"],[0.1111111111111111,\"#46039f\"],[0.2222222222222222,\"#7201a8\"],[0.3333333333333333,\"#9c179e\"],[0.4444444444444444,\"#bd3786\"],[0.5555555555555556,\"#d8576b\"],[0.6666666666666666,\"#ed7953\"],[0.7777777777777778,\"#fb9f3a\"],[0.8888888888888888,\"#fdca26\"],[1.0,\"#f0f921\"]]}],\"heatmap\":[{\"type\":\"heatmap\",\"colorbar\":{\"outlinewidth\":0,\"ticks\":\"\"},\"colorscale\":[[0.0,\"#0d0887\"],[0.1111111111111111,\"#46039f\"],[0.2222222222222222,\"#7201a8\"],[0.3333333333333333,\"#9c179e\"],[0.4444444444444444,\"#bd3786\"],[0.5555555555555556,\"#d8576b\"],[0.6666666666666666,\"#ed7953\"],[0.7777777777777778,\"#fb9f3a\"],[0.8888888888888888,\"#fdca26\"],[1.0,\"#f0f921\"]]}],\"heatmapgl\":[{\"type\":\"heatmapgl\",\"colorbar\":{\"outlinewidth\":0,\"ticks\":\"\"},\"colorscale\":[[0.0,\"#0d0887\"],[0.1111111111111111,\"#46039f\"],[0.2222222222222222,\"#7201a8\"],[0.3333333333333333,\"#9c179e\"],[0.4444444444444444,\"#bd3786\"],[0.5555555555555556,\"#d8576b\"],[0.6666666666666666,\"#ed7953\"],[0.7777777777777778,\"#fb9f3a\"],[0.8888888888888888,\"#fdca26\"],[1.0,\"#f0f921\"]]}],\"contourcarpet\":[{\"type\":\"contourcarpet\",\"colorbar\":{\"outlinewidth\":0,\"ticks\":\"\"}}],\"contour\":[{\"type\":\"contour\",\"colorbar\":{\"outlinewidth\":0,\"ticks\":\"\"},\"colorscale\":[[0.0,\"#0d0887\"],[0.1111111111111111,\"#46039f\"],[0.2222222222222222,\"#7201a8\"],[0.3333333333333333,\"#9c179e\"],[0.4444444444444444,\"#bd3786\"],[0.5555555555555556,\"#d8576b\"],[0.6666666666666666,\"#ed7953\"],[0.7777777777777778,\"#fb9f3a\"],[0.8888888888888888,\"#fdca26\"],[1.0,\"#f0f921\"]]}],\"surface\":[{\"type\":\"surface\",\"colorbar\":{\"outlinewidth\":0,\"ticks\":\"\"},\"colorscale\":[[0.0,\"#0d0887\"],[0.1111111111111111,\"#46039f\"],[0.2222222222222222,\"#7201a8\"],[0.3333333333333333,\"#9c179e\"],[0.4444444444444444,\"#bd3786\"],[0.5555555555555556,\"#d8576b\"],[0.6666666666666666,\"#ed7953\"],[0.7777777777777778,\"#fb9f3a\"],[0.8888888888888888,\"#fdca26\"],[1.0,\"#f0f921\"]]}],\"mesh3d\":[{\"type\":\"mesh3d\",\"colorbar\":{\"outlinewidth\":0,\"ticks\":\"\"}}],\"scatter\":[{\"fillpattern\":{\"fillmode\":\"overlay\",\"size\":10,\"solidity\":0.2},\"type\":\"scatter\"}],\"parcoords\":[{\"type\":\"parcoords\",\"line\":{\"colorbar\":{\"outlinewidth\":0,\"ticks\":\"\"}}}],\"scatterpolargl\":[{\"type\":\"scatterpolargl\",\"marker\":{\"colorbar\":{\"outlinewidth\":0,\"ticks\":\"\"}}}],\"bar\":[{\"error_x\":{\"color\":\"#2a3f5f\"},\"error_y\":{\"color\":\"#2a3f5f\"},\"marker\":{\"line\":{\"color\":\"#E5ECF6\",\"width\":0.5},\"pattern\":{\"fillmode\":\"overlay\",\"size\":10,\"solidity\":0.2}},\"type\":\"bar\"}],\"scattergeo\":[{\"type\":\"scattergeo\",\"marker\":{\"colorbar\":{\"outlinewidth\":0,\"ticks\":\"\"}}}],\"scatterpolar\":[{\"type\":\"scatterpolar\",\"marker\":{\"colorbar\":{\"outlinewidth\":0,\"ticks\":\"\"}}}],\"histogram\":[{\"marker\":{\"pattern\":{\"fillmode\":\"overlay\",\"size\":10,\"solidity\":0.2}},\"type\":\"histogram\"}],\"scattergl\":[{\"type\":\"scattergl\",\"marker\":{\"colorbar\":{\"outlinewidth\":0,\"ticks\":\"\"}}}],\"scatter3d\":[{\"type\":\"scatter3d\",\"line\":{\"colorbar\":{\"outlinewidth\":0,\"ticks\":\"\"}},\"marker\":{\"colorbar\":{\"outlinewidth\":0,\"ticks\":\"\"}}}],\"scattermapbox\":[{\"type\":\"scattermapbox\",\"marker\":{\"colorbar\":{\"outlinewidth\":0,\"ticks\":\"\"}}}],\"scatterternary\":[{\"type\":\"scatterternary\",\"marker\":{\"colorbar\":{\"outlinewidth\":0,\"ticks\":\"\"}}}],\"scattercarpet\":[{\"type\":\"scattercarpet\",\"marker\":{\"colorbar\":{\"outlinewidth\":0,\"ticks\":\"\"}}}],\"carpet\":[{\"aaxis\":{\"endlinecolor\":\"#2a3f5f\",\"gridcolor\":\"white\",\"linecolor\":\"white\",\"minorgridcolor\":\"white\",\"startlinecolor\":\"#2a3f5f\"},\"baxis\":{\"endlinecolor\":\"#2a3f5f\",\"gridcolor\":\"white\",\"linecolor\":\"white\",\"minorgridcolor\":\"white\",\"startlinecolor\":\"#2a3f5f\"},\"type\":\"carpet\"}],\"table\":[{\"cells\":{\"fill\":{\"color\":\"#EBF0F8\"},\"line\":{\"color\":\"white\"}},\"header\":{\"fill\":{\"color\":\"#C8D4E3\"},\"line\":{\"color\":\"white\"}},\"type\":\"table\"}],\"barpolar\":[{\"marker\":{\"line\":{\"color\":\"#E5ECF6\",\"width\":0.5},\"pattern\":{\"fillmode\":\"overlay\",\"size\":10,\"solidity\":0.2}},\"type\":\"barpolar\"}],\"pie\":[{\"automargin\":true,\"type\":\"pie\"}]},\"layout\":{\"autotypenumbers\":\"strict\",\"colorway\":[\"#636efa\",\"#EF553B\",\"#00cc96\",\"#ab63fa\",\"#FFA15A\",\"#19d3f3\",\"#FF6692\",\"#B6E880\",\"#FF97FF\",\"#FECB52\"],\"font\":{\"color\":\"#2a3f5f\"},\"hovermode\":\"closest\",\"hoverlabel\":{\"align\":\"left\"},\"paper_bgcolor\":\"white\",\"plot_bgcolor\":\"#E5ECF6\",\"polar\":{\"bgcolor\":\"#E5ECF6\",\"angularaxis\":{\"gridcolor\":\"white\",\"linecolor\":\"white\",\"ticks\":\"\"},\"radialaxis\":{\"gridcolor\":\"white\",\"linecolor\":\"white\",\"ticks\":\"\"}},\"ternary\":{\"bgcolor\":\"#E5ECF6\",\"aaxis\":{\"gridcolor\":\"white\",\"linecolor\":\"white\",\"ticks\":\"\"},\"baxis\":{\"gridcolor\":\"white\",\"linecolor\":\"white\",\"ticks\":\"\"},\"caxis\":{\"gridcolor\":\"white\",\"linecolor\":\"white\",\"ticks\":\"\"}},\"coloraxis\":{\"colorbar\":{\"outlinewidth\":0,\"ticks\":\"\"}},\"colorscale\":{\"sequential\":[[0.0,\"#0d0887\"],[0.1111111111111111,\"#46039f\"],[0.2222222222222222,\"#7201a8\"],[0.3333333333333333,\"#9c179e\"],[0.4444444444444444,\"#bd3786\"],[0.5555555555555556,\"#d8576b\"],[0.6666666666666666,\"#ed7953\"],[0.7777777777777778,\"#fb9f3a\"],[0.8888888888888888,\"#fdca26\"],[1.0,\"#f0f921\"]],\"sequentialminus\":[[0.0,\"#0d0887\"],[0.1111111111111111,\"#46039f\"],[0.2222222222222222,\"#7201a8\"],[0.3333333333333333,\"#9c179e\"],[0.4444444444444444,\"#bd3786\"],[0.5555555555555556,\"#d8576b\"],[0.6666666666666666,\"#ed7953\"],[0.7777777777777778,\"#fb9f3a\"],[0.8888888888888888,\"#fdca26\"],[1.0,\"#f0f921\"]],\"diverging\":[[0,\"#8e0152\"],[0.1,\"#c51b7d\"],[0.2,\"#de77ae\"],[0.3,\"#f1b6da\"],[0.4,\"#fde0ef\"],[0.5,\"#f7f7f7\"],[0.6,\"#e6f5d0\"],[0.7,\"#b8e186\"],[0.8,\"#7fbc41\"],[0.9,\"#4d9221\"],[1,\"#276419\"]]},\"xaxis\":{\"gridcolor\":\"white\",\"linecolor\":\"white\",\"ticks\":\"\",\"title\":{\"standoff\":15},\"zerolinecolor\":\"white\",\"automargin\":true,\"zerolinewidth\":2},\"yaxis\":{\"gridcolor\":\"white\",\"linecolor\":\"white\",\"ticks\":\"\",\"title\":{\"standoff\":15},\"zerolinecolor\":\"white\",\"automargin\":true,\"zerolinewidth\":2},\"scene\":{\"xaxis\":{\"backgroundcolor\":\"#E5ECF6\",\"gridcolor\":\"white\",\"linecolor\":\"white\",\"showbackground\":true,\"ticks\":\"\",\"zerolinecolor\":\"white\",\"gridwidth\":2},\"yaxis\":{\"backgroundcolor\":\"#E5ECF6\",\"gridcolor\":\"white\",\"linecolor\":\"white\",\"showbackground\":true,\"ticks\":\"\",\"zerolinecolor\":\"white\",\"gridwidth\":2},\"zaxis\":{\"backgroundcolor\":\"#E5ECF6\",\"gridcolor\":\"white\",\"linecolor\":\"white\",\"showbackground\":true,\"ticks\":\"\",\"zerolinecolor\":\"white\",\"gridwidth\":2}},\"shapedefaults\":{\"line\":{\"color\":\"#2a3f5f\"}},\"annotationdefaults\":{\"arrowcolor\":\"#2a3f5f\",\"arrowhead\":0,\"arrowwidth\":1},\"geo\":{\"bgcolor\":\"white\",\"landcolor\":\"#E5ECF6\",\"subunitcolor\":\"white\",\"showland\":true,\"showlakes\":true,\"lakecolor\":\"white\"},\"title\":{\"x\":0.05},\"mapbox\":{\"style\":\"light\"}}}},                        {\"responsive\": true}                    ).then(function(){\n",
       "                            \n",
       "var gd = document.getElementById('fd3f2787-566e-4ccb-9224-4528be03be31');\n",
       "var x = new MutationObserver(function (mutations, observer) {{\n",
       "        var display = window.getComputedStyle(gd).display;\n",
       "        if (!display || display === 'none') {{\n",
       "            console.log([gd, 'removed!']);\n",
       "            Plotly.purge(gd);\n",
       "            observer.disconnect();\n",
       "        }}\n",
       "}});\n",
       "\n",
       "// Listen for the removal of the full notebook cells\n",
       "var notebookContainer = gd.closest('#notebook-container');\n",
       "if (notebookContainer) {{\n",
       "    x.observe(notebookContainer, {childList: true});\n",
       "}}\n",
       "\n",
       "// Listen for the clearing of the current output cell\n",
       "var outputEl = gd.closest('.output');\n",
       "if (outputEl) {{\n",
       "    x.observe(outputEl, {childList: true});\n",
       "}}\n",
       "\n",
       "                        })                };                });            </script>        </div>"
      ]
     },
     "metadata": {},
     "output_type": "display_data"
    }
   ],
   "source": [
    "# explained variance + cumulative variance\n",
    "# https://plotly.com/python/creating-and-updating-figures\n",
    "\n",
    "import plotly.graph_objects as go\n",
    "fig = go.Figure()\n",
    "\n",
    "fig.add_trace(\n",
    "    go.Scatter(\n",
    "        x=df_explained_variance['PC'],\n",
    "        y=df_explained_variance['Cumulative Variance'],\n",
    "        marker=dict(size=15, color='LightSeaGreen')\n",
    "    ))\n",
    "\n",
    "fig.add_trace(\n",
    "    go.Bar(\n",
    "        x=df_explained_variance['PC'],\n",
    "        y=df_explained_variance['Explained Variance'],\n",
    "        marker=dict(color='RoyalBlue')\n",
    "    ))\n",
    "\n",
    "fig.show()"
   ]
  },
  {
   "cell_type": "code",
   "execution_count": 135,
   "id": "07efceeb",
   "metadata": {},
   "outputs": [
    {
     "data": {
      "application/vnd.plotly.v1+json": {
       "config": {
        "plotlyServerURL": "https://plot.ly"
       },
       "data": [
        {
         "marker": {
          "color": "LightSeaGreen",
          "size": 15
         },
         "type": "scatter",
         "x": [
          "",
          "PC1",
          "PC2",
          "PC3"
         ],
         "xaxis": "x",
         "y": [
          0,
          0.811,
          0.929,
          0.9470000000000001
         ],
         "yaxis": "y"
        },
        {
         "marker": {
          "color": "RoyalBlue"
         },
         "type": "bar",
         "x": [
          "",
          "PC1",
          "PC2",
          "PC3"
         ],
         "xaxis": "x2",
         "y": [
          0,
          0.8114945320816103,
          0.1182435710185074,
          0.018355338858256125
         ],
         "yaxis": "y2"
        }
       ],
       "layout": {
        "template": {
         "data": {
          "bar": [
           {
            "error_x": {
             "color": "#2a3f5f"
            },
            "error_y": {
             "color": "#2a3f5f"
            },
            "marker": {
             "line": {
              "color": "#E5ECF6",
              "width": 0.5
             },
             "pattern": {
              "fillmode": "overlay",
              "size": 10,
              "solidity": 0.2
             }
            },
            "type": "bar"
           }
          ],
          "barpolar": [
           {
            "marker": {
             "line": {
              "color": "#E5ECF6",
              "width": 0.5
             },
             "pattern": {
              "fillmode": "overlay",
              "size": 10,
              "solidity": 0.2
             }
            },
            "type": "barpolar"
           }
          ],
          "carpet": [
           {
            "aaxis": {
             "endlinecolor": "#2a3f5f",
             "gridcolor": "white",
             "linecolor": "white",
             "minorgridcolor": "white",
             "startlinecolor": "#2a3f5f"
            },
            "baxis": {
             "endlinecolor": "#2a3f5f",
             "gridcolor": "white",
             "linecolor": "white",
             "minorgridcolor": "white",
             "startlinecolor": "#2a3f5f"
            },
            "type": "carpet"
           }
          ],
          "choropleth": [
           {
            "colorbar": {
             "outlinewidth": 0,
             "ticks": ""
            },
            "type": "choropleth"
           }
          ],
          "contour": [
           {
            "colorbar": {
             "outlinewidth": 0,
             "ticks": ""
            },
            "colorscale": [
             [
              0,
              "#0d0887"
             ],
             [
              0.1111111111111111,
              "#46039f"
             ],
             [
              0.2222222222222222,
              "#7201a8"
             ],
             [
              0.3333333333333333,
              "#9c179e"
             ],
             [
              0.4444444444444444,
              "#bd3786"
             ],
             [
              0.5555555555555556,
              "#d8576b"
             ],
             [
              0.6666666666666666,
              "#ed7953"
             ],
             [
              0.7777777777777778,
              "#fb9f3a"
             ],
             [
              0.8888888888888888,
              "#fdca26"
             ],
             [
              1,
              "#f0f921"
             ]
            ],
            "type": "contour"
           }
          ],
          "contourcarpet": [
           {
            "colorbar": {
             "outlinewidth": 0,
             "ticks": ""
            },
            "type": "contourcarpet"
           }
          ],
          "heatmap": [
           {
            "colorbar": {
             "outlinewidth": 0,
             "ticks": ""
            },
            "colorscale": [
             [
              0,
              "#0d0887"
             ],
             [
              0.1111111111111111,
              "#46039f"
             ],
             [
              0.2222222222222222,
              "#7201a8"
             ],
             [
              0.3333333333333333,
              "#9c179e"
             ],
             [
              0.4444444444444444,
              "#bd3786"
             ],
             [
              0.5555555555555556,
              "#d8576b"
             ],
             [
              0.6666666666666666,
              "#ed7953"
             ],
             [
              0.7777777777777778,
              "#fb9f3a"
             ],
             [
              0.8888888888888888,
              "#fdca26"
             ],
             [
              1,
              "#f0f921"
             ]
            ],
            "type": "heatmap"
           }
          ],
          "heatmapgl": [
           {
            "colorbar": {
             "outlinewidth": 0,
             "ticks": ""
            },
            "colorscale": [
             [
              0,
              "#0d0887"
             ],
             [
              0.1111111111111111,
              "#46039f"
             ],
             [
              0.2222222222222222,
              "#7201a8"
             ],
             [
              0.3333333333333333,
              "#9c179e"
             ],
             [
              0.4444444444444444,
              "#bd3786"
             ],
             [
              0.5555555555555556,
              "#d8576b"
             ],
             [
              0.6666666666666666,
              "#ed7953"
             ],
             [
              0.7777777777777778,
              "#fb9f3a"
             ],
             [
              0.8888888888888888,
              "#fdca26"
             ],
             [
              1,
              "#f0f921"
             ]
            ],
            "type": "heatmapgl"
           }
          ],
          "histogram": [
           {
            "marker": {
             "pattern": {
              "fillmode": "overlay",
              "size": 10,
              "solidity": 0.2
             }
            },
            "type": "histogram"
           }
          ],
          "histogram2d": [
           {
            "colorbar": {
             "outlinewidth": 0,
             "ticks": ""
            },
            "colorscale": [
             [
              0,
              "#0d0887"
             ],
             [
              0.1111111111111111,
              "#46039f"
             ],
             [
              0.2222222222222222,
              "#7201a8"
             ],
             [
              0.3333333333333333,
              "#9c179e"
             ],
             [
              0.4444444444444444,
              "#bd3786"
             ],
             [
              0.5555555555555556,
              "#d8576b"
             ],
             [
              0.6666666666666666,
              "#ed7953"
             ],
             [
              0.7777777777777778,
              "#fb9f3a"
             ],
             [
              0.8888888888888888,
              "#fdca26"
             ],
             [
              1,
              "#f0f921"
             ]
            ],
            "type": "histogram2d"
           }
          ],
          "histogram2dcontour": [
           {
            "colorbar": {
             "outlinewidth": 0,
             "ticks": ""
            },
            "colorscale": [
             [
              0,
              "#0d0887"
             ],
             [
              0.1111111111111111,
              "#46039f"
             ],
             [
              0.2222222222222222,
              "#7201a8"
             ],
             [
              0.3333333333333333,
              "#9c179e"
             ],
             [
              0.4444444444444444,
              "#bd3786"
             ],
             [
              0.5555555555555556,
              "#d8576b"
             ],
             [
              0.6666666666666666,
              "#ed7953"
             ],
             [
              0.7777777777777778,
              "#fb9f3a"
             ],
             [
              0.8888888888888888,
              "#fdca26"
             ],
             [
              1,
              "#f0f921"
             ]
            ],
            "type": "histogram2dcontour"
           }
          ],
          "mesh3d": [
           {
            "colorbar": {
             "outlinewidth": 0,
             "ticks": ""
            },
            "type": "mesh3d"
           }
          ],
          "parcoords": [
           {
            "line": {
             "colorbar": {
              "outlinewidth": 0,
              "ticks": ""
             }
            },
            "type": "parcoords"
           }
          ],
          "pie": [
           {
            "automargin": true,
            "type": "pie"
           }
          ],
          "scatter": [
           {
            "fillpattern": {
             "fillmode": "overlay",
             "size": 10,
             "solidity": 0.2
            },
            "type": "scatter"
           }
          ],
          "scatter3d": [
           {
            "line": {
             "colorbar": {
              "outlinewidth": 0,
              "ticks": ""
             }
            },
            "marker": {
             "colorbar": {
              "outlinewidth": 0,
              "ticks": ""
             }
            },
            "type": "scatter3d"
           }
          ],
          "scattercarpet": [
           {
            "marker": {
             "colorbar": {
              "outlinewidth": 0,
              "ticks": ""
             }
            },
            "type": "scattercarpet"
           }
          ],
          "scattergeo": [
           {
            "marker": {
             "colorbar": {
              "outlinewidth": 0,
              "ticks": ""
             }
            },
            "type": "scattergeo"
           }
          ],
          "scattergl": [
           {
            "marker": {
             "colorbar": {
              "outlinewidth": 0,
              "ticks": ""
             }
            },
            "type": "scattergl"
           }
          ],
          "scattermapbox": [
           {
            "marker": {
             "colorbar": {
              "outlinewidth": 0,
              "ticks": ""
             }
            },
            "type": "scattermapbox"
           }
          ],
          "scatterpolar": [
           {
            "marker": {
             "colorbar": {
              "outlinewidth": 0,
              "ticks": ""
             }
            },
            "type": "scatterpolar"
           }
          ],
          "scatterpolargl": [
           {
            "marker": {
             "colorbar": {
              "outlinewidth": 0,
              "ticks": ""
             }
            },
            "type": "scatterpolargl"
           }
          ],
          "scatterternary": [
           {
            "marker": {
             "colorbar": {
              "outlinewidth": 0,
              "ticks": ""
             }
            },
            "type": "scatterternary"
           }
          ],
          "surface": [
           {
            "colorbar": {
             "outlinewidth": 0,
             "ticks": ""
            },
            "colorscale": [
             [
              0,
              "#0d0887"
             ],
             [
              0.1111111111111111,
              "#46039f"
             ],
             [
              0.2222222222222222,
              "#7201a8"
             ],
             [
              0.3333333333333333,
              "#9c179e"
             ],
             [
              0.4444444444444444,
              "#bd3786"
             ],
             [
              0.5555555555555556,
              "#d8576b"
             ],
             [
              0.6666666666666666,
              "#ed7953"
             ],
             [
              0.7777777777777778,
              "#fb9f3a"
             ],
             [
              0.8888888888888888,
              "#fdca26"
             ],
             [
              1,
              "#f0f921"
             ]
            ],
            "type": "surface"
           }
          ],
          "table": [
           {
            "cells": {
             "fill": {
              "color": "#EBF0F8"
             },
             "line": {
              "color": "white"
             }
            },
            "header": {
             "fill": {
              "color": "#C8D4E3"
             },
             "line": {
              "color": "white"
             }
            },
            "type": "table"
           }
          ]
         },
         "layout": {
          "annotationdefaults": {
           "arrowcolor": "#2a3f5f",
           "arrowhead": 0,
           "arrowwidth": 1
          },
          "autotypenumbers": "strict",
          "coloraxis": {
           "colorbar": {
            "outlinewidth": 0,
            "ticks": ""
           }
          },
          "colorscale": {
           "diverging": [
            [
             0,
             "#8e0152"
            ],
            [
             0.1,
             "#c51b7d"
            ],
            [
             0.2,
             "#de77ae"
            ],
            [
             0.3,
             "#f1b6da"
            ],
            [
             0.4,
             "#fde0ef"
            ],
            [
             0.5,
             "#f7f7f7"
            ],
            [
             0.6,
             "#e6f5d0"
            ],
            [
             0.7,
             "#b8e186"
            ],
            [
             0.8,
             "#7fbc41"
            ],
            [
             0.9,
             "#4d9221"
            ],
            [
             1,
             "#276419"
            ]
           ],
           "sequential": [
            [
             0,
             "#0d0887"
            ],
            [
             0.1111111111111111,
             "#46039f"
            ],
            [
             0.2222222222222222,
             "#7201a8"
            ],
            [
             0.3333333333333333,
             "#9c179e"
            ],
            [
             0.4444444444444444,
             "#bd3786"
            ],
            [
             0.5555555555555556,
             "#d8576b"
            ],
            [
             0.6666666666666666,
             "#ed7953"
            ],
            [
             0.7777777777777778,
             "#fb9f3a"
            ],
            [
             0.8888888888888888,
             "#fdca26"
            ],
            [
             1,
             "#f0f921"
            ]
           ],
           "sequentialminus": [
            [
             0,
             "#0d0887"
            ],
            [
             0.1111111111111111,
             "#46039f"
            ],
            [
             0.2222222222222222,
             "#7201a8"
            ],
            [
             0.3333333333333333,
             "#9c179e"
            ],
            [
             0.4444444444444444,
             "#bd3786"
            ],
            [
             0.5555555555555556,
             "#d8576b"
            ],
            [
             0.6666666666666666,
             "#ed7953"
            ],
            [
             0.7777777777777778,
             "#fb9f3a"
            ],
            [
             0.8888888888888888,
             "#fdca26"
            ],
            [
             1,
             "#f0f921"
            ]
           ]
          },
          "colorway": [
           "#636efa",
           "#EF553B",
           "#00cc96",
           "#ab63fa",
           "#FFA15A",
           "#19d3f3",
           "#FF6692",
           "#B6E880",
           "#FF97FF",
           "#FECB52"
          ],
          "font": {
           "color": "#2a3f5f"
          },
          "geo": {
           "bgcolor": "white",
           "lakecolor": "white",
           "landcolor": "#E5ECF6",
           "showlakes": true,
           "showland": true,
           "subunitcolor": "white"
          },
          "hoverlabel": {
           "align": "left"
          },
          "hovermode": "closest",
          "mapbox": {
           "style": "light"
          },
          "paper_bgcolor": "white",
          "plot_bgcolor": "#E5ECF6",
          "polar": {
           "angularaxis": {
            "gridcolor": "white",
            "linecolor": "white",
            "ticks": ""
           },
           "bgcolor": "#E5ECF6",
           "radialaxis": {
            "gridcolor": "white",
            "linecolor": "white",
            "ticks": ""
           }
          },
          "scene": {
           "xaxis": {
            "backgroundcolor": "#E5ECF6",
            "gridcolor": "white",
            "gridwidth": 2,
            "linecolor": "white",
            "showbackground": true,
            "ticks": "",
            "zerolinecolor": "white"
           },
           "yaxis": {
            "backgroundcolor": "#E5ECF6",
            "gridcolor": "white",
            "gridwidth": 2,
            "linecolor": "white",
            "showbackground": true,
            "ticks": "",
            "zerolinecolor": "white"
           },
           "zaxis": {
            "backgroundcolor": "#E5ECF6",
            "gridcolor": "white",
            "gridwidth": 2,
            "linecolor": "white",
            "showbackground": true,
            "ticks": "",
            "zerolinecolor": "white"
           }
          },
          "shapedefaults": {
           "line": {
            "color": "#2a3f5f"
           }
          },
          "ternary": {
           "aaxis": {
            "gridcolor": "white",
            "linecolor": "white",
            "ticks": ""
           },
           "baxis": {
            "gridcolor": "white",
            "linecolor": "white",
            "ticks": ""
           },
           "bgcolor": "#E5ECF6",
           "caxis": {
            "gridcolor": "white",
            "linecolor": "white",
            "ticks": ""
           }
          },
          "title": {
           "x": 0.05
          },
          "xaxis": {
           "automargin": true,
           "gridcolor": "white",
           "linecolor": "white",
           "ticks": "",
           "title": {
            "standoff": 15
           },
           "zerolinecolor": "white",
           "zerolinewidth": 2
          },
          "yaxis": {
           "automargin": true,
           "gridcolor": "white",
           "linecolor": "white",
           "ticks": "",
           "title": {
            "standoff": 15
           },
           "zerolinecolor": "white",
           "zerolinewidth": 2
          }
         }
        },
        "xaxis": {
         "anchor": "y",
         "domain": [
          0,
          0.45
         ]
        },
        "xaxis2": {
         "anchor": "y2",
         "domain": [
          0.55,
          1
         ]
        },
        "yaxis": {
         "anchor": "x",
         "domain": [
          0,
          1
         ]
        },
        "yaxis2": {
         "anchor": "x2",
         "domain": [
          0,
          1
         ]
        }
       }
      },
      "text/html": [
       "<div>                            <div id=\"152f81e3-ff9d-496f-83a0-c23cc43dadf8\" class=\"plotly-graph-div\" style=\"height:525px; width:100%;\"></div>            <script type=\"text/javascript\">                require([\"plotly\"], function(Plotly) {                    window.PLOTLYENV=window.PLOTLYENV || {};                                    if (document.getElementById(\"152f81e3-ff9d-496f-83a0-c23cc43dadf8\")) {                    Plotly.newPlot(                        \"152f81e3-ff9d-496f-83a0-c23cc43dadf8\",                        [{\"marker\":{\"color\":\"LightSeaGreen\",\"size\":15},\"x\":[\"\",\"PC1\",\"PC2\",\"PC3\"],\"y\":[0.0,0.811,0.929,0.9470000000000001],\"type\":\"scatter\",\"xaxis\":\"x\",\"yaxis\":\"y\"},{\"marker\":{\"color\":\"RoyalBlue\"},\"x\":[\"\",\"PC1\",\"PC2\",\"PC3\"],\"y\":[0.0,0.8114945320816103,0.1182435710185074,0.018355338858256125],\"type\":\"bar\",\"xaxis\":\"x2\",\"yaxis\":\"y2\"}],                        {\"template\":{\"data\":{\"histogram2dcontour\":[{\"type\":\"histogram2dcontour\",\"colorbar\":{\"outlinewidth\":0,\"ticks\":\"\"},\"colorscale\":[[0.0,\"#0d0887\"],[0.1111111111111111,\"#46039f\"],[0.2222222222222222,\"#7201a8\"],[0.3333333333333333,\"#9c179e\"],[0.4444444444444444,\"#bd3786\"],[0.5555555555555556,\"#d8576b\"],[0.6666666666666666,\"#ed7953\"],[0.7777777777777778,\"#fb9f3a\"],[0.8888888888888888,\"#fdca26\"],[1.0,\"#f0f921\"]]}],\"choropleth\":[{\"type\":\"choropleth\",\"colorbar\":{\"outlinewidth\":0,\"ticks\":\"\"}}],\"histogram2d\":[{\"type\":\"histogram2d\",\"colorbar\":{\"outlinewidth\":0,\"ticks\":\"\"},\"colorscale\":[[0.0,\"#0d0887\"],[0.1111111111111111,\"#46039f\"],[0.2222222222222222,\"#7201a8\"],[0.3333333333333333,\"#9c179e\"],[0.4444444444444444,\"#bd3786\"],[0.5555555555555556,\"#d8576b\"],[0.6666666666666666,\"#ed7953\"],[0.7777777777777778,\"#fb9f3a\"],[0.8888888888888888,\"#fdca26\"],[1.0,\"#f0f921\"]]}],\"heatmap\":[{\"type\":\"heatmap\",\"colorbar\":{\"outlinewidth\":0,\"ticks\":\"\"},\"colorscale\":[[0.0,\"#0d0887\"],[0.1111111111111111,\"#46039f\"],[0.2222222222222222,\"#7201a8\"],[0.3333333333333333,\"#9c179e\"],[0.4444444444444444,\"#bd3786\"],[0.5555555555555556,\"#d8576b\"],[0.6666666666666666,\"#ed7953\"],[0.7777777777777778,\"#fb9f3a\"],[0.8888888888888888,\"#fdca26\"],[1.0,\"#f0f921\"]]}],\"heatmapgl\":[{\"type\":\"heatmapgl\",\"colorbar\":{\"outlinewidth\":0,\"ticks\":\"\"},\"colorscale\":[[0.0,\"#0d0887\"],[0.1111111111111111,\"#46039f\"],[0.2222222222222222,\"#7201a8\"],[0.3333333333333333,\"#9c179e\"],[0.4444444444444444,\"#bd3786\"],[0.5555555555555556,\"#d8576b\"],[0.6666666666666666,\"#ed7953\"],[0.7777777777777778,\"#fb9f3a\"],[0.8888888888888888,\"#fdca26\"],[1.0,\"#f0f921\"]]}],\"contourcarpet\":[{\"type\":\"contourcarpet\",\"colorbar\":{\"outlinewidth\":0,\"ticks\":\"\"}}],\"contour\":[{\"type\":\"contour\",\"colorbar\":{\"outlinewidth\":0,\"ticks\":\"\"},\"colorscale\":[[0.0,\"#0d0887\"],[0.1111111111111111,\"#46039f\"],[0.2222222222222222,\"#7201a8\"],[0.3333333333333333,\"#9c179e\"],[0.4444444444444444,\"#bd3786\"],[0.5555555555555556,\"#d8576b\"],[0.6666666666666666,\"#ed7953\"],[0.7777777777777778,\"#fb9f3a\"],[0.8888888888888888,\"#fdca26\"],[1.0,\"#f0f921\"]]}],\"surface\":[{\"type\":\"surface\",\"colorbar\":{\"outlinewidth\":0,\"ticks\":\"\"},\"colorscale\":[[0.0,\"#0d0887\"],[0.1111111111111111,\"#46039f\"],[0.2222222222222222,\"#7201a8\"],[0.3333333333333333,\"#9c179e\"],[0.4444444444444444,\"#bd3786\"],[0.5555555555555556,\"#d8576b\"],[0.6666666666666666,\"#ed7953\"],[0.7777777777777778,\"#fb9f3a\"],[0.8888888888888888,\"#fdca26\"],[1.0,\"#f0f921\"]]}],\"mesh3d\":[{\"type\":\"mesh3d\",\"colorbar\":{\"outlinewidth\":0,\"ticks\":\"\"}}],\"scatter\":[{\"fillpattern\":{\"fillmode\":\"overlay\",\"size\":10,\"solidity\":0.2},\"type\":\"scatter\"}],\"parcoords\":[{\"type\":\"parcoords\",\"line\":{\"colorbar\":{\"outlinewidth\":0,\"ticks\":\"\"}}}],\"scatterpolargl\":[{\"type\":\"scatterpolargl\",\"marker\":{\"colorbar\":{\"outlinewidth\":0,\"ticks\":\"\"}}}],\"bar\":[{\"error_x\":{\"color\":\"#2a3f5f\"},\"error_y\":{\"color\":\"#2a3f5f\"},\"marker\":{\"line\":{\"color\":\"#E5ECF6\",\"width\":0.5},\"pattern\":{\"fillmode\":\"overlay\",\"size\":10,\"solidity\":0.2}},\"type\":\"bar\"}],\"scattergeo\":[{\"type\":\"scattergeo\",\"marker\":{\"colorbar\":{\"outlinewidth\":0,\"ticks\":\"\"}}}],\"scatterpolar\":[{\"type\":\"scatterpolar\",\"marker\":{\"colorbar\":{\"outlinewidth\":0,\"ticks\":\"\"}}}],\"histogram\":[{\"marker\":{\"pattern\":{\"fillmode\":\"overlay\",\"size\":10,\"solidity\":0.2}},\"type\":\"histogram\"}],\"scattergl\":[{\"type\":\"scattergl\",\"marker\":{\"colorbar\":{\"outlinewidth\":0,\"ticks\":\"\"}}}],\"scatter3d\":[{\"type\":\"scatter3d\",\"line\":{\"colorbar\":{\"outlinewidth\":0,\"ticks\":\"\"}},\"marker\":{\"colorbar\":{\"outlinewidth\":0,\"ticks\":\"\"}}}],\"scattermapbox\":[{\"type\":\"scattermapbox\",\"marker\":{\"colorbar\":{\"outlinewidth\":0,\"ticks\":\"\"}}}],\"scatterternary\":[{\"type\":\"scatterternary\",\"marker\":{\"colorbar\":{\"outlinewidth\":0,\"ticks\":\"\"}}}],\"scattercarpet\":[{\"type\":\"scattercarpet\",\"marker\":{\"colorbar\":{\"outlinewidth\":0,\"ticks\":\"\"}}}],\"carpet\":[{\"aaxis\":{\"endlinecolor\":\"#2a3f5f\",\"gridcolor\":\"white\",\"linecolor\":\"white\",\"minorgridcolor\":\"white\",\"startlinecolor\":\"#2a3f5f\"},\"baxis\":{\"endlinecolor\":\"#2a3f5f\",\"gridcolor\":\"white\",\"linecolor\":\"white\",\"minorgridcolor\":\"white\",\"startlinecolor\":\"#2a3f5f\"},\"type\":\"carpet\"}],\"table\":[{\"cells\":{\"fill\":{\"color\":\"#EBF0F8\"},\"line\":{\"color\":\"white\"}},\"header\":{\"fill\":{\"color\":\"#C8D4E3\"},\"line\":{\"color\":\"white\"}},\"type\":\"table\"}],\"barpolar\":[{\"marker\":{\"line\":{\"color\":\"#E5ECF6\",\"width\":0.5},\"pattern\":{\"fillmode\":\"overlay\",\"size\":10,\"solidity\":0.2}},\"type\":\"barpolar\"}],\"pie\":[{\"automargin\":true,\"type\":\"pie\"}]},\"layout\":{\"autotypenumbers\":\"strict\",\"colorway\":[\"#636efa\",\"#EF553B\",\"#00cc96\",\"#ab63fa\",\"#FFA15A\",\"#19d3f3\",\"#FF6692\",\"#B6E880\",\"#FF97FF\",\"#FECB52\"],\"font\":{\"color\":\"#2a3f5f\"},\"hovermode\":\"closest\",\"hoverlabel\":{\"align\":\"left\"},\"paper_bgcolor\":\"white\",\"plot_bgcolor\":\"#E5ECF6\",\"polar\":{\"bgcolor\":\"#E5ECF6\",\"angularaxis\":{\"gridcolor\":\"white\",\"linecolor\":\"white\",\"ticks\":\"\"},\"radialaxis\":{\"gridcolor\":\"white\",\"linecolor\":\"white\",\"ticks\":\"\"}},\"ternary\":{\"bgcolor\":\"#E5ECF6\",\"aaxis\":{\"gridcolor\":\"white\",\"linecolor\":\"white\",\"ticks\":\"\"},\"baxis\":{\"gridcolor\":\"white\",\"linecolor\":\"white\",\"ticks\":\"\"},\"caxis\":{\"gridcolor\":\"white\",\"linecolor\":\"white\",\"ticks\":\"\"}},\"coloraxis\":{\"colorbar\":{\"outlinewidth\":0,\"ticks\":\"\"}},\"colorscale\":{\"sequential\":[[0.0,\"#0d0887\"],[0.1111111111111111,\"#46039f\"],[0.2222222222222222,\"#7201a8\"],[0.3333333333333333,\"#9c179e\"],[0.4444444444444444,\"#bd3786\"],[0.5555555555555556,\"#d8576b\"],[0.6666666666666666,\"#ed7953\"],[0.7777777777777778,\"#fb9f3a\"],[0.8888888888888888,\"#fdca26\"],[1.0,\"#f0f921\"]],\"sequentialminus\":[[0.0,\"#0d0887\"],[0.1111111111111111,\"#46039f\"],[0.2222222222222222,\"#7201a8\"],[0.3333333333333333,\"#9c179e\"],[0.4444444444444444,\"#bd3786\"],[0.5555555555555556,\"#d8576b\"],[0.6666666666666666,\"#ed7953\"],[0.7777777777777778,\"#fb9f3a\"],[0.8888888888888888,\"#fdca26\"],[1.0,\"#f0f921\"]],\"diverging\":[[0,\"#8e0152\"],[0.1,\"#c51b7d\"],[0.2,\"#de77ae\"],[0.3,\"#f1b6da\"],[0.4,\"#fde0ef\"],[0.5,\"#f7f7f7\"],[0.6,\"#e6f5d0\"],[0.7,\"#b8e186\"],[0.8,\"#7fbc41\"],[0.9,\"#4d9221\"],[1,\"#276419\"]]},\"xaxis\":{\"gridcolor\":\"white\",\"linecolor\":\"white\",\"ticks\":\"\",\"title\":{\"standoff\":15},\"zerolinecolor\":\"white\",\"automargin\":true,\"zerolinewidth\":2},\"yaxis\":{\"gridcolor\":\"white\",\"linecolor\":\"white\",\"ticks\":\"\",\"title\":{\"standoff\":15},\"zerolinecolor\":\"white\",\"automargin\":true,\"zerolinewidth\":2},\"scene\":{\"xaxis\":{\"backgroundcolor\":\"#E5ECF6\",\"gridcolor\":\"white\",\"linecolor\":\"white\",\"showbackground\":true,\"ticks\":\"\",\"zerolinecolor\":\"white\",\"gridwidth\":2},\"yaxis\":{\"backgroundcolor\":\"#E5ECF6\",\"gridcolor\":\"white\",\"linecolor\":\"white\",\"showbackground\":true,\"ticks\":\"\",\"zerolinecolor\":\"white\",\"gridwidth\":2},\"zaxis\":{\"backgroundcolor\":\"#E5ECF6\",\"gridcolor\":\"white\",\"linecolor\":\"white\",\"showbackground\":true,\"ticks\":\"\",\"zerolinecolor\":\"white\",\"gridwidth\":2}},\"shapedefaults\":{\"line\":{\"color\":\"#2a3f5f\"}},\"annotationdefaults\":{\"arrowcolor\":\"#2a3f5f\",\"arrowhead\":0,\"arrowwidth\":1},\"geo\":{\"bgcolor\":\"white\",\"landcolor\":\"#E5ECF6\",\"subunitcolor\":\"white\",\"showland\":true,\"showlakes\":true,\"lakecolor\":\"white\"},\"title\":{\"x\":0.05},\"mapbox\":{\"style\":\"light\"}}},\"xaxis\":{\"anchor\":\"y\",\"domain\":[0.0,0.45]},\"yaxis\":{\"anchor\":\"x\",\"domain\":[0.0,1.0]},\"xaxis2\":{\"anchor\":\"y2\",\"domain\":[0.55,1.0]},\"yaxis2\":{\"anchor\":\"x2\",\"domain\":[0.0,1.0]}},                        {\"responsive\": true}                    ).then(function(){\n",
       "                            \n",
       "var gd = document.getElementById('152f81e3-ff9d-496f-83a0-c23cc43dadf8');\n",
       "var x = new MutationObserver(function (mutations, observer) {{\n",
       "        var display = window.getComputedStyle(gd).display;\n",
       "        if (!display || display === 'none') {{\n",
       "            console.log([gd, 'removed!']);\n",
       "            Plotly.purge(gd);\n",
       "            observer.disconnect();\n",
       "        }}\n",
       "}});\n",
       "\n",
       "// Listen for the removal of the full notebook cells\n",
       "var notebookContainer = gd.closest('#notebook-container');\n",
       "if (notebookContainer) {{\n",
       "    x.observe(notebookContainer, {childList: true});\n",
       "}}\n",
       "\n",
       "// Listen for the clearing of the current output cell\n",
       "var outputEl = gd.closest('.output');\n",
       "if (outputEl) {{\n",
       "    x.observe(outputEl, {childList: true});\n",
       "}}\n",
       "\n",
       "                        })                };                });            </script>        </div>"
      ]
     },
     "metadata": {},
     "output_type": "display_data"
    }
   ],
   "source": [
    "# Explained variance + cumulative variance (Separate Plot)\n",
    "\n",
    "from plotly.subplots import make_subplots\n",
    "import plotly.graph_objects as go\n",
    "\n",
    "fig = make_subplots(rows=1, cols=2)\n",
    "\n",
    "fig.add_trace(\n",
    "    go.Scatter(\n",
    "        x=df_explained_variance['PC'],\n",
    "        y=df_explained_variance['Cumulative Variance'],\n",
    "        marker=dict(size=15, color='LightSeaGreen')\n",
    "    ), row=1, col=1\n",
    ")\n",
    "\n",
    "fig.add_trace(\n",
    "    go.Bar(\n",
    "        x=df_explained_variance['PC'],\n",
    "        y=df_explained_variance['Explained Variance'],\n",
    "        marker=dict(color='RoyalBlue')\n",
    "    ), row=1, col=2\n",
    ")\n",
    "\n",
    "fig.show()"
   ]
  },
  {
   "cell_type": "code",
   "execution_count": 136,
   "id": "10d33274",
   "metadata": {},
   "outputs": [
    {
     "data": {
      "application/vnd.plotly.v1+json": {
       "config": {
        "plotlyServerURL": "https://plot.ly"
       },
       "data": [
        {
         "hovertemplate": "Sensor=HCV<br>PC1=%{x}<br>PC2=%{y}<br>PC3=%{z}<extra></extra>",
         "legendgroup": "HCV",
         "marker": {
          "color": "#636efa",
          "symbol": "circle"
         },
         "mode": "markers",
         "name": "HCV",
         "scene": "scene",
         "showlegend": true,
         "type": "scatter3d",
         "x": [
          -2.8915638080648884,
          -2.846979674815704,
          -2.838484489032786,
          -2.8642325687736028,
          -2.8560811328182263,
          -2.865985723860984,
          -2.8573779910478514,
          -2.87815206216529,
          -2.8700170233510844,
          -2.8716785097086786,
          -2.8430337476731986,
          -2.8352609590058293,
          -2.849030149398363,
          -2.8414167787705367,
          -2.9070927015710737,
          -2.9006774401809423,
          -2.8621822959092658,
          -2.854171073658468,
          -2.837085628387613,
          -2.8051512508456113,
          -2.7972020167905796,
          -2.811538126354015,
          -2.803588892298983,
          -2.8179250018624367,
          -2.809975767807404,
          -2.8243118773708233,
          -2.816362643315791,
          -2.8087964704876534,
          -2.7768620929456604,
          -2.7689128588906287,
          -2.7832489684540507,
          -2.7752997343990193,
          -2.7896358439624684,
          -2.781686609907436,
          -2.796022719470858,
          -2.7880734854158256,
          0.5518579270148939,
          14.46473007307543,
          15.603559425263752,
          4.65435426497748,
          5.031799698224698,
          31.432327181336458,
          32.14869586382222,
          6.20509983241344,
          6.422535397227598,
          -2.752218154687733,
          -2.720283777145711,
          -2.7123345430906785,
          -2.726670652654123,
          -2.718721418599091,
          -2.733057528162533,
          -2.7251082941075007,
          -2.739444403670933,
          -2.7314951696158993
         ],
         "y": [
          -0.31816653573845355,
          -0.36488544172005777,
          -0.32833679828584367,
          -0.3442612369118554,
          -0.30727755028288206,
          -0.3449651312587617,
          -0.3086273651691772,
          -0.33076097786781467,
          -0.29374773336488297,
          -0.286134901877879,
          -0.3125590257761644,
          -0.2751291569816362,
          -0.30592762050517436,
          -0.2682145119927633,
          -0.228077818981097,
          -0.188725552631988,
          -0.2935119249305843,
          -0.2563595582029379,
          -0.2741875974837352,
          -0.3037691292775344,
          -0.26650700109361786,
          -0.297852822918767,
          -0.26059069473484975,
          -0.29193651655999064,
          -0.2546743883760747,
          -0.28602021020124935,
          -0.24875808201733324,
          -0.25363031073083875,
          -0.28321184252461173,
          -0.24594971434069482,
          -0.2772955361658664,
          -0.2400334079819491,
          -0.27137922980709106,
          -0.23411710162317428,
          -0.26546292344834876,
          -0.22820079526443166,
          -0.8746532484667666,
          9.615098861795229,
          10.534226854370104,
          3.989427275571178,
          4.3147212238086095,
          -5.587617805721937,
          -4.762467545048948,
          5.488333870399767,
          5.775878592773507,
          -0.21251573722501427,
          -0.242097269018828,
          -0.20483514083491178,
          -0.2361809626600541,
          -0.19891883447613745,
          -0.23026465630129028,
          -0.1930025281173743,
          -0.22434834994253533,
          -0.18708622175861905
         ],
         "z": [
          1.9178650217850353,
          -0.6229107490639549,
          -1.721943455003581,
          -0.11585500520146425,
          -1.2149120851486879,
          0.3935078916520073,
          -0.7054662697238767,
          0.9009091150676843,
          -0.19815613453993375,
          2.0587655177611,
          -0.483372244732101,
          -1.5824458984809195,
          0.024399619153736896,
          -1.0747344043515374,
          0.5244678360889146,
          -0.5748411544202431,
          1.0412786387647726,
          -0.05778645075113356,
          2.2018458921252164,
          -0.3406342290923828,
          -1.4397232088728447,
          0.16786179515113533,
          -0.931227184629326,
          0.6763578193946557,
          -0.4227311603858056,
          1.1848538436381761,
          0.0857648638577149,
          2.343996244917012,
          -0.1984838763005889,
          -1.2975728560810504,
          0.3100121479429316,
          -0.78907683183753,
          0.8185081721864516,
          -0.2805808075940103,
          1.3270041964299724,
          0.22791521664951075,
          3.441784319601453,
          -0.7828427431959656,
          -1.8825567778725756,
          1.4919790515014588,
          0.41653189322873313,
          0.4463167875079503,
          -0.6721501614015052,
          3.1346734970705974,
          2.027567001990954,
          2.6282969505006073,
          0.08581682928300707,
          -1.0132721504974542,
          0.5943128535265256,
          -0.5047761262539359,
          1.1028088777700464,
          0.00371989798958533,
          1.6113049020135668,
          0.512215922233105
         ]
        },
        {
         "hovertemplate": "Sensor=HIV<br>PC1=%{x}<br>PC2=%{y}<br>PC3=%{z}<extra></extra>",
         "legendgroup": "HIV",
         "marker": {
          "color": "#EF553B",
          "symbol": "circle"
         },
         "mode": "markers",
         "name": "HIV",
         "scene": "scene",
         "showlegend": true,
         "type": "scatter3d",
         "x": [
          -2.854080369210278,
          -2.8528977803190863,
          -2.8452867982794134,
          -2.8564158179303556,
          -2.854704423651915,
          -2.84681037015606,
          -2.879198062039069,
          -2.8803009879549473,
          -2.8741558477802034,
          -2.868256024051904,
          -2.8683161415418166,
          -2.86293101264737,
          -2.805151250845622,
          -2.8042680026172837,
          -2.7972020167905747,
          -2.81153812635403,
          -2.8106548781256935,
          -2.803588892298998,
          -2.7768620929456613,
          -2.775978844717324,
          -2.7689128588906287,
          -2.7832489684540622,
          -2.7823657202257257,
          -2.775299734399031,
          15.499374552346481,
          16.231865465519252,
          16.481005687851734,
          14.138496986593648,
          15.22622608537888,
          16.5541269665217,
          -2.7202837771457187,
          -2.7194005289173804,
          -2.712334543090671,
          -2.726670652654127,
          -2.72578740442579,
          -2.718721418599095
         ],
         "y": [
          -0.3554577472018145,
          -0.3517188513673975,
          -0.3193687006798093,
          -0.355205391352743,
          -0.35220937733302105,
          -0.32022671029608607,
          -0.26097118713697287,
          -0.2540820020518521,
          -0.21971897861388895,
          -0.2796462408206207,
          -0.27426911967888434,
          -0.2388689321184786,
          -0.303769129277498,
          -0.29962889281261484,
          -0.2665070010935503,
          -0.2978528229187531,
          -0.29371258645387394,
          -0.2605906947348375,
          -0.28321184252461207,
          -0.27907160605973236,
          -0.24594971434069532,
          -0.27729553616585356,
          -0.27315529970097363,
          -0.24003340798193615,
          -8.527437859161367,
          -8.624912420482989,
          -8.398349726978186,
          5.08500140300387,
          5.798992689049223,
          6.496805420909004,
          -0.24209726901879614,
          -0.23795703255391298,
          -0.20483514083484855,
          -0.2361809626600504,
          -0.23204072619517152,
          -0.19891883447613531
         ],
         "z": [
          -0.6236542273890133,
          -0.7457403409430241,
          -1.7226076803265042,
          -0.11454576150623064,
          -0.23653889485069693,
          -1.2133816765946017,
          -0.49004725848489816,
          -0.6124860241276487,
          -1.5895732986773945,
          0.021578881098914537,
          -0.10064675901415926,
          -1.0778541272159183,
          -0.3406342290923847,
          -0.46275522684576914,
          -1.4397232088728447,
          0.1678617951511353,
          0.04574079739775118,
          -0.9312271846293253,
          -0.19848387630058914,
          -0.3206048740539739,
          -1.2975728560810509,
          0.31001214794293136,
          0.18789115018954683,
          -0.7890768318375304,
          0.5477357432549297,
          0.3724746006637161,
          -0.6912636601057082,
          0.16025158443058313,
          -0.05692160316468757,
          -1.1507668447276749,
          0.08581682928300624,
          -0.036304168470378095,
          -1.0132721504974536,
          0.5943128535265259,
          0.47219185577314177,
          -0.5047761262539348
         ]
        }
       ],
       "layout": {
        "legend": {
         "title": {
          "text": "Sensor"
         },
         "tracegroupgap": 0
        },
        "margin": {
         "t": 60
        },
        "scene": {
         "domain": {
          "x": [
           0,
           1
          ],
          "y": [
           0,
           1
          ]
         },
         "xaxis": {
          "title": {
           "text": "PC1"
          }
         },
         "yaxis": {
          "title": {
           "text": "PC2"
          }
         },
         "zaxis": {
          "title": {
           "text": "PC3"
          }
         }
        },
        "template": {
         "data": {
          "bar": [
           {
            "error_x": {
             "color": "#2a3f5f"
            },
            "error_y": {
             "color": "#2a3f5f"
            },
            "marker": {
             "line": {
              "color": "#E5ECF6",
              "width": 0.5
             },
             "pattern": {
              "fillmode": "overlay",
              "size": 10,
              "solidity": 0.2
             }
            },
            "type": "bar"
           }
          ],
          "barpolar": [
           {
            "marker": {
             "line": {
              "color": "#E5ECF6",
              "width": 0.5
             },
             "pattern": {
              "fillmode": "overlay",
              "size": 10,
              "solidity": 0.2
             }
            },
            "type": "barpolar"
           }
          ],
          "carpet": [
           {
            "aaxis": {
             "endlinecolor": "#2a3f5f",
             "gridcolor": "white",
             "linecolor": "white",
             "minorgridcolor": "white",
             "startlinecolor": "#2a3f5f"
            },
            "baxis": {
             "endlinecolor": "#2a3f5f",
             "gridcolor": "white",
             "linecolor": "white",
             "minorgridcolor": "white",
             "startlinecolor": "#2a3f5f"
            },
            "type": "carpet"
           }
          ],
          "choropleth": [
           {
            "colorbar": {
             "outlinewidth": 0,
             "ticks": ""
            },
            "type": "choropleth"
           }
          ],
          "contour": [
           {
            "colorbar": {
             "outlinewidth": 0,
             "ticks": ""
            },
            "colorscale": [
             [
              0,
              "#0d0887"
             ],
             [
              0.1111111111111111,
              "#46039f"
             ],
             [
              0.2222222222222222,
              "#7201a8"
             ],
             [
              0.3333333333333333,
              "#9c179e"
             ],
             [
              0.4444444444444444,
              "#bd3786"
             ],
             [
              0.5555555555555556,
              "#d8576b"
             ],
             [
              0.6666666666666666,
              "#ed7953"
             ],
             [
              0.7777777777777778,
              "#fb9f3a"
             ],
             [
              0.8888888888888888,
              "#fdca26"
             ],
             [
              1,
              "#f0f921"
             ]
            ],
            "type": "contour"
           }
          ],
          "contourcarpet": [
           {
            "colorbar": {
             "outlinewidth": 0,
             "ticks": ""
            },
            "type": "contourcarpet"
           }
          ],
          "heatmap": [
           {
            "colorbar": {
             "outlinewidth": 0,
             "ticks": ""
            },
            "colorscale": [
             [
              0,
              "#0d0887"
             ],
             [
              0.1111111111111111,
              "#46039f"
             ],
             [
              0.2222222222222222,
              "#7201a8"
             ],
             [
              0.3333333333333333,
              "#9c179e"
             ],
             [
              0.4444444444444444,
              "#bd3786"
             ],
             [
              0.5555555555555556,
              "#d8576b"
             ],
             [
              0.6666666666666666,
              "#ed7953"
             ],
             [
              0.7777777777777778,
              "#fb9f3a"
             ],
             [
              0.8888888888888888,
              "#fdca26"
             ],
             [
              1,
              "#f0f921"
             ]
            ],
            "type": "heatmap"
           }
          ],
          "heatmapgl": [
           {
            "colorbar": {
             "outlinewidth": 0,
             "ticks": ""
            },
            "colorscale": [
             [
              0,
              "#0d0887"
             ],
             [
              0.1111111111111111,
              "#46039f"
             ],
             [
              0.2222222222222222,
              "#7201a8"
             ],
             [
              0.3333333333333333,
              "#9c179e"
             ],
             [
              0.4444444444444444,
              "#bd3786"
             ],
             [
              0.5555555555555556,
              "#d8576b"
             ],
             [
              0.6666666666666666,
              "#ed7953"
             ],
             [
              0.7777777777777778,
              "#fb9f3a"
             ],
             [
              0.8888888888888888,
              "#fdca26"
             ],
             [
              1,
              "#f0f921"
             ]
            ],
            "type": "heatmapgl"
           }
          ],
          "histogram": [
           {
            "marker": {
             "pattern": {
              "fillmode": "overlay",
              "size": 10,
              "solidity": 0.2
             }
            },
            "type": "histogram"
           }
          ],
          "histogram2d": [
           {
            "colorbar": {
             "outlinewidth": 0,
             "ticks": ""
            },
            "colorscale": [
             [
              0,
              "#0d0887"
             ],
             [
              0.1111111111111111,
              "#46039f"
             ],
             [
              0.2222222222222222,
              "#7201a8"
             ],
             [
              0.3333333333333333,
              "#9c179e"
             ],
             [
              0.4444444444444444,
              "#bd3786"
             ],
             [
              0.5555555555555556,
              "#d8576b"
             ],
             [
              0.6666666666666666,
              "#ed7953"
             ],
             [
              0.7777777777777778,
              "#fb9f3a"
             ],
             [
              0.8888888888888888,
              "#fdca26"
             ],
             [
              1,
              "#f0f921"
             ]
            ],
            "type": "histogram2d"
           }
          ],
          "histogram2dcontour": [
           {
            "colorbar": {
             "outlinewidth": 0,
             "ticks": ""
            },
            "colorscale": [
             [
              0,
              "#0d0887"
             ],
             [
              0.1111111111111111,
              "#46039f"
             ],
             [
              0.2222222222222222,
              "#7201a8"
             ],
             [
              0.3333333333333333,
              "#9c179e"
             ],
             [
              0.4444444444444444,
              "#bd3786"
             ],
             [
              0.5555555555555556,
              "#d8576b"
             ],
             [
              0.6666666666666666,
              "#ed7953"
             ],
             [
              0.7777777777777778,
              "#fb9f3a"
             ],
             [
              0.8888888888888888,
              "#fdca26"
             ],
             [
              1,
              "#f0f921"
             ]
            ],
            "type": "histogram2dcontour"
           }
          ],
          "mesh3d": [
           {
            "colorbar": {
             "outlinewidth": 0,
             "ticks": ""
            },
            "type": "mesh3d"
           }
          ],
          "parcoords": [
           {
            "line": {
             "colorbar": {
              "outlinewidth": 0,
              "ticks": ""
             }
            },
            "type": "parcoords"
           }
          ],
          "pie": [
           {
            "automargin": true,
            "type": "pie"
           }
          ],
          "scatter": [
           {
            "fillpattern": {
             "fillmode": "overlay",
             "size": 10,
             "solidity": 0.2
            },
            "type": "scatter"
           }
          ],
          "scatter3d": [
           {
            "line": {
             "colorbar": {
              "outlinewidth": 0,
              "ticks": ""
             }
            },
            "marker": {
             "colorbar": {
              "outlinewidth": 0,
              "ticks": ""
             }
            },
            "type": "scatter3d"
           }
          ],
          "scattercarpet": [
           {
            "marker": {
             "colorbar": {
              "outlinewidth": 0,
              "ticks": ""
             }
            },
            "type": "scattercarpet"
           }
          ],
          "scattergeo": [
           {
            "marker": {
             "colorbar": {
              "outlinewidth": 0,
              "ticks": ""
             }
            },
            "type": "scattergeo"
           }
          ],
          "scattergl": [
           {
            "marker": {
             "colorbar": {
              "outlinewidth": 0,
              "ticks": ""
             }
            },
            "type": "scattergl"
           }
          ],
          "scattermapbox": [
           {
            "marker": {
             "colorbar": {
              "outlinewidth": 0,
              "ticks": ""
             }
            },
            "type": "scattermapbox"
           }
          ],
          "scatterpolar": [
           {
            "marker": {
             "colorbar": {
              "outlinewidth": 0,
              "ticks": ""
             }
            },
            "type": "scatterpolar"
           }
          ],
          "scatterpolargl": [
           {
            "marker": {
             "colorbar": {
              "outlinewidth": 0,
              "ticks": ""
             }
            },
            "type": "scatterpolargl"
           }
          ],
          "scatterternary": [
           {
            "marker": {
             "colorbar": {
              "outlinewidth": 0,
              "ticks": ""
             }
            },
            "type": "scatterternary"
           }
          ],
          "surface": [
           {
            "colorbar": {
             "outlinewidth": 0,
             "ticks": ""
            },
            "colorscale": [
             [
              0,
              "#0d0887"
             ],
             [
              0.1111111111111111,
              "#46039f"
             ],
             [
              0.2222222222222222,
              "#7201a8"
             ],
             [
              0.3333333333333333,
              "#9c179e"
             ],
             [
              0.4444444444444444,
              "#bd3786"
             ],
             [
              0.5555555555555556,
              "#d8576b"
             ],
             [
              0.6666666666666666,
              "#ed7953"
             ],
             [
              0.7777777777777778,
              "#fb9f3a"
             ],
             [
              0.8888888888888888,
              "#fdca26"
             ],
             [
              1,
              "#f0f921"
             ]
            ],
            "type": "surface"
           }
          ],
          "table": [
           {
            "cells": {
             "fill": {
              "color": "#EBF0F8"
             },
             "line": {
              "color": "white"
             }
            },
            "header": {
             "fill": {
              "color": "#C8D4E3"
             },
             "line": {
              "color": "white"
             }
            },
            "type": "table"
           }
          ]
         },
         "layout": {
          "annotationdefaults": {
           "arrowcolor": "#2a3f5f",
           "arrowhead": 0,
           "arrowwidth": 1
          },
          "autotypenumbers": "strict",
          "coloraxis": {
           "colorbar": {
            "outlinewidth": 0,
            "ticks": ""
           }
          },
          "colorscale": {
           "diverging": [
            [
             0,
             "#8e0152"
            ],
            [
             0.1,
             "#c51b7d"
            ],
            [
             0.2,
             "#de77ae"
            ],
            [
             0.3,
             "#f1b6da"
            ],
            [
             0.4,
             "#fde0ef"
            ],
            [
             0.5,
             "#f7f7f7"
            ],
            [
             0.6,
             "#e6f5d0"
            ],
            [
             0.7,
             "#b8e186"
            ],
            [
             0.8,
             "#7fbc41"
            ],
            [
             0.9,
             "#4d9221"
            ],
            [
             1,
             "#276419"
            ]
           ],
           "sequential": [
            [
             0,
             "#0d0887"
            ],
            [
             0.1111111111111111,
             "#46039f"
            ],
            [
             0.2222222222222222,
             "#7201a8"
            ],
            [
             0.3333333333333333,
             "#9c179e"
            ],
            [
             0.4444444444444444,
             "#bd3786"
            ],
            [
             0.5555555555555556,
             "#d8576b"
            ],
            [
             0.6666666666666666,
             "#ed7953"
            ],
            [
             0.7777777777777778,
             "#fb9f3a"
            ],
            [
             0.8888888888888888,
             "#fdca26"
            ],
            [
             1,
             "#f0f921"
            ]
           ],
           "sequentialminus": [
            [
             0,
             "#0d0887"
            ],
            [
             0.1111111111111111,
             "#46039f"
            ],
            [
             0.2222222222222222,
             "#7201a8"
            ],
            [
             0.3333333333333333,
             "#9c179e"
            ],
            [
             0.4444444444444444,
             "#bd3786"
            ],
            [
             0.5555555555555556,
             "#d8576b"
            ],
            [
             0.6666666666666666,
             "#ed7953"
            ],
            [
             0.7777777777777778,
             "#fb9f3a"
            ],
            [
             0.8888888888888888,
             "#fdca26"
            ],
            [
             1,
             "#f0f921"
            ]
           ]
          },
          "colorway": [
           "#636efa",
           "#EF553B",
           "#00cc96",
           "#ab63fa",
           "#FFA15A",
           "#19d3f3",
           "#FF6692",
           "#B6E880",
           "#FF97FF",
           "#FECB52"
          ],
          "font": {
           "color": "#2a3f5f"
          },
          "geo": {
           "bgcolor": "white",
           "lakecolor": "white",
           "landcolor": "#E5ECF6",
           "showlakes": true,
           "showland": true,
           "subunitcolor": "white"
          },
          "hoverlabel": {
           "align": "left"
          },
          "hovermode": "closest",
          "mapbox": {
           "style": "light"
          },
          "paper_bgcolor": "white",
          "plot_bgcolor": "#E5ECF6",
          "polar": {
           "angularaxis": {
            "gridcolor": "white",
            "linecolor": "white",
            "ticks": ""
           },
           "bgcolor": "#E5ECF6",
           "radialaxis": {
            "gridcolor": "white",
            "linecolor": "white",
            "ticks": ""
           }
          },
          "scene": {
           "xaxis": {
            "backgroundcolor": "#E5ECF6",
            "gridcolor": "white",
            "gridwidth": 2,
            "linecolor": "white",
            "showbackground": true,
            "ticks": "",
            "zerolinecolor": "white"
           },
           "yaxis": {
            "backgroundcolor": "#E5ECF6",
            "gridcolor": "white",
            "gridwidth": 2,
            "linecolor": "white",
            "showbackground": true,
            "ticks": "",
            "zerolinecolor": "white"
           },
           "zaxis": {
            "backgroundcolor": "#E5ECF6",
            "gridcolor": "white",
            "gridwidth": 2,
            "linecolor": "white",
            "showbackground": true,
            "ticks": "",
            "zerolinecolor": "white"
           }
          },
          "shapedefaults": {
           "line": {
            "color": "#2a3f5f"
           }
          },
          "ternary": {
           "aaxis": {
            "gridcolor": "white",
            "linecolor": "white",
            "ticks": ""
           },
           "baxis": {
            "gridcolor": "white",
            "linecolor": "white",
            "ticks": ""
           },
           "bgcolor": "#E5ECF6",
           "caxis": {
            "gridcolor": "white",
            "linecolor": "white",
            "ticks": ""
           }
          },
          "title": {
           "x": 0.05
          },
          "xaxis": {
           "automargin": true,
           "gridcolor": "white",
           "linecolor": "white",
           "ticks": "",
           "title": {
            "standoff": 15
           },
           "zerolinecolor": "white",
           "zerolinewidth": 2
          },
          "yaxis": {
           "automargin": true,
           "gridcolor": "white",
           "linecolor": "white",
           "ticks": "",
           "title": {
            "standoff": 15
           },
           "zerolinecolor": "white",
           "zerolinewidth": 2
          }
         }
        }
       }
      },
      "text/html": [
       "<div>                            <div id=\"48e79bd9-b50d-4369-9e57-43d6c4725901\" class=\"plotly-graph-div\" style=\"height:525px; width:100%;\"></div>            <script type=\"text/javascript\">                require([\"plotly\"], function(Plotly) {                    window.PLOTLYENV=window.PLOTLYENV || {};                                    if (document.getElementById(\"48e79bd9-b50d-4369-9e57-43d6c4725901\")) {                    Plotly.newPlot(                        \"48e79bd9-b50d-4369-9e57-43d6c4725901\",                        [{\"hovertemplate\":\"Sensor=HCV<br>PC1=%{x}<br>PC2=%{y}<br>PC3=%{z}<extra></extra>\",\"legendgroup\":\"HCV\",\"marker\":{\"color\":\"#636efa\",\"symbol\":\"circle\"},\"mode\":\"markers\",\"name\":\"HCV\",\"scene\":\"scene\",\"showlegend\":true,\"x\":[-2.8915638080648884,-2.846979674815704,-2.838484489032786,-2.8642325687736028,-2.8560811328182263,-2.865985723860984,-2.8573779910478514,-2.87815206216529,-2.8700170233510844,-2.8716785097086786,-2.8430337476731986,-2.8352609590058293,-2.849030149398363,-2.8414167787705367,-2.9070927015710737,-2.9006774401809423,-2.8621822959092658,-2.854171073658468,-2.837085628387613,-2.8051512508456113,-2.7972020167905796,-2.811538126354015,-2.803588892298983,-2.8179250018624367,-2.809975767807404,-2.8243118773708233,-2.816362643315791,-2.8087964704876534,-2.7768620929456604,-2.7689128588906287,-2.7832489684540507,-2.7752997343990193,-2.7896358439624684,-2.781686609907436,-2.796022719470858,-2.7880734854158256,0.5518579270148939,14.46473007307543,15.603559425263752,4.65435426497748,5.031799698224698,31.432327181336458,32.14869586382222,6.20509983241344,6.422535397227598,-2.752218154687733,-2.720283777145711,-2.7123345430906785,-2.726670652654123,-2.718721418599091,-2.733057528162533,-2.7251082941075007,-2.739444403670933,-2.7314951696158993],\"y\":[-0.31816653573845355,-0.36488544172005777,-0.32833679828584367,-0.3442612369118554,-0.30727755028288206,-0.3449651312587617,-0.3086273651691772,-0.33076097786781467,-0.29374773336488297,-0.286134901877879,-0.3125590257761644,-0.2751291569816362,-0.30592762050517436,-0.2682145119927633,-0.228077818981097,-0.188725552631988,-0.2935119249305843,-0.2563595582029379,-0.2741875974837352,-0.3037691292775344,-0.26650700109361786,-0.297852822918767,-0.26059069473484975,-0.29193651655999064,-0.2546743883760747,-0.28602021020124935,-0.24875808201733324,-0.25363031073083875,-0.28321184252461173,-0.24594971434069482,-0.2772955361658664,-0.2400334079819491,-0.27137922980709106,-0.23411710162317428,-0.26546292344834876,-0.22820079526443166,-0.8746532484667666,9.615098861795229,10.534226854370104,3.989427275571178,4.3147212238086095,-5.587617805721937,-4.762467545048948,5.488333870399767,5.775878592773507,-0.21251573722501427,-0.242097269018828,-0.20483514083491178,-0.2361809626600541,-0.19891883447613745,-0.23026465630129028,-0.1930025281173743,-0.22434834994253533,-0.18708622175861905],\"z\":[1.9178650217850353,-0.6229107490639549,-1.721943455003581,-0.11585500520146425,-1.2149120851486879,0.3935078916520073,-0.7054662697238767,0.9009091150676843,-0.19815613453993375,2.0587655177611,-0.483372244732101,-1.5824458984809195,0.024399619153736896,-1.0747344043515374,0.5244678360889146,-0.5748411544202431,1.0412786387647726,-0.05778645075113356,2.2018458921252164,-0.3406342290923828,-1.4397232088728447,0.16786179515113533,-0.931227184629326,0.6763578193946557,-0.4227311603858056,1.1848538436381761,0.0857648638577149,2.343996244917012,-0.1984838763005889,-1.2975728560810504,0.3100121479429316,-0.78907683183753,0.8185081721864516,-0.2805808075940103,1.3270041964299724,0.22791521664951075,3.441784319601453,-0.7828427431959656,-1.8825567778725756,1.4919790515014588,0.41653189322873313,0.4463167875079503,-0.6721501614015052,3.1346734970705974,2.027567001990954,2.6282969505006073,0.08581682928300707,-1.0132721504974542,0.5943128535265256,-0.5047761262539359,1.1028088777700464,0.00371989798958533,1.6113049020135668,0.512215922233105],\"type\":\"scatter3d\"},{\"hovertemplate\":\"Sensor=HIV<br>PC1=%{x}<br>PC2=%{y}<br>PC3=%{z}<extra></extra>\",\"legendgroup\":\"HIV\",\"marker\":{\"color\":\"#EF553B\",\"symbol\":\"circle\"},\"mode\":\"markers\",\"name\":\"HIV\",\"scene\":\"scene\",\"showlegend\":true,\"x\":[-2.854080369210278,-2.8528977803190863,-2.8452867982794134,-2.8564158179303556,-2.854704423651915,-2.84681037015606,-2.879198062039069,-2.8803009879549473,-2.8741558477802034,-2.868256024051904,-2.8683161415418166,-2.86293101264737,-2.805151250845622,-2.8042680026172837,-2.7972020167905747,-2.81153812635403,-2.8106548781256935,-2.803588892298998,-2.7768620929456613,-2.775978844717324,-2.7689128588906287,-2.7832489684540622,-2.7823657202257257,-2.775299734399031,15.499374552346481,16.231865465519252,16.481005687851734,14.138496986593648,15.22622608537888,16.5541269665217,-2.7202837771457187,-2.7194005289173804,-2.712334543090671,-2.726670652654127,-2.72578740442579,-2.718721418599095],\"y\":[-0.3554577472018145,-0.3517188513673975,-0.3193687006798093,-0.355205391352743,-0.35220937733302105,-0.32022671029608607,-0.26097118713697287,-0.2540820020518521,-0.21971897861388895,-0.2796462408206207,-0.27426911967888434,-0.2388689321184786,-0.303769129277498,-0.29962889281261484,-0.2665070010935503,-0.2978528229187531,-0.29371258645387394,-0.2605906947348375,-0.28321184252461207,-0.27907160605973236,-0.24594971434069532,-0.27729553616585356,-0.27315529970097363,-0.24003340798193615,-8.527437859161367,-8.624912420482989,-8.398349726978186,5.08500140300387,5.798992689049223,6.496805420909004,-0.24209726901879614,-0.23795703255391298,-0.20483514083484855,-0.2361809626600504,-0.23204072619517152,-0.19891883447613531],\"z\":[-0.6236542273890133,-0.7457403409430241,-1.7226076803265042,-0.11454576150623064,-0.23653889485069693,-1.2133816765946017,-0.49004725848489816,-0.6124860241276487,-1.5895732986773945,0.021578881098914537,-0.10064675901415926,-1.0778541272159183,-0.3406342290923847,-0.46275522684576914,-1.4397232088728447,0.1678617951511353,0.04574079739775118,-0.9312271846293253,-0.19848387630058914,-0.3206048740539739,-1.2975728560810509,0.31001214794293136,0.18789115018954683,-0.7890768318375304,0.5477357432549297,0.3724746006637161,-0.6912636601057082,0.16025158443058313,-0.05692160316468757,-1.1507668447276749,0.08581682928300624,-0.036304168470378095,-1.0132721504974536,0.5943128535265259,0.47219185577314177,-0.5047761262539348],\"type\":\"scatter3d\"}],                        {\"template\":{\"data\":{\"histogram2dcontour\":[{\"type\":\"histogram2dcontour\",\"colorbar\":{\"outlinewidth\":0,\"ticks\":\"\"},\"colorscale\":[[0.0,\"#0d0887\"],[0.1111111111111111,\"#46039f\"],[0.2222222222222222,\"#7201a8\"],[0.3333333333333333,\"#9c179e\"],[0.4444444444444444,\"#bd3786\"],[0.5555555555555556,\"#d8576b\"],[0.6666666666666666,\"#ed7953\"],[0.7777777777777778,\"#fb9f3a\"],[0.8888888888888888,\"#fdca26\"],[1.0,\"#f0f921\"]]}],\"choropleth\":[{\"type\":\"choropleth\",\"colorbar\":{\"outlinewidth\":0,\"ticks\":\"\"}}],\"histogram2d\":[{\"type\":\"histogram2d\",\"colorbar\":{\"outlinewidth\":0,\"ticks\":\"\"},\"colorscale\":[[0.0,\"#0d0887\"],[0.1111111111111111,\"#46039f\"],[0.2222222222222222,\"#7201a8\"],[0.3333333333333333,\"#9c179e\"],[0.4444444444444444,\"#bd3786\"],[0.5555555555555556,\"#d8576b\"],[0.6666666666666666,\"#ed7953\"],[0.7777777777777778,\"#fb9f3a\"],[0.8888888888888888,\"#fdca26\"],[1.0,\"#f0f921\"]]}],\"heatmap\":[{\"type\":\"heatmap\",\"colorbar\":{\"outlinewidth\":0,\"ticks\":\"\"},\"colorscale\":[[0.0,\"#0d0887\"],[0.1111111111111111,\"#46039f\"],[0.2222222222222222,\"#7201a8\"],[0.3333333333333333,\"#9c179e\"],[0.4444444444444444,\"#bd3786\"],[0.5555555555555556,\"#d8576b\"],[0.6666666666666666,\"#ed7953\"],[0.7777777777777778,\"#fb9f3a\"],[0.8888888888888888,\"#fdca26\"],[1.0,\"#f0f921\"]]}],\"heatmapgl\":[{\"type\":\"heatmapgl\",\"colorbar\":{\"outlinewidth\":0,\"ticks\":\"\"},\"colorscale\":[[0.0,\"#0d0887\"],[0.1111111111111111,\"#46039f\"],[0.2222222222222222,\"#7201a8\"],[0.3333333333333333,\"#9c179e\"],[0.4444444444444444,\"#bd3786\"],[0.5555555555555556,\"#d8576b\"],[0.6666666666666666,\"#ed7953\"],[0.7777777777777778,\"#fb9f3a\"],[0.8888888888888888,\"#fdca26\"],[1.0,\"#f0f921\"]]}],\"contourcarpet\":[{\"type\":\"contourcarpet\",\"colorbar\":{\"outlinewidth\":0,\"ticks\":\"\"}}],\"contour\":[{\"type\":\"contour\",\"colorbar\":{\"outlinewidth\":0,\"ticks\":\"\"},\"colorscale\":[[0.0,\"#0d0887\"],[0.1111111111111111,\"#46039f\"],[0.2222222222222222,\"#7201a8\"],[0.3333333333333333,\"#9c179e\"],[0.4444444444444444,\"#bd3786\"],[0.5555555555555556,\"#d8576b\"],[0.6666666666666666,\"#ed7953\"],[0.7777777777777778,\"#fb9f3a\"],[0.8888888888888888,\"#fdca26\"],[1.0,\"#f0f921\"]]}],\"surface\":[{\"type\":\"surface\",\"colorbar\":{\"outlinewidth\":0,\"ticks\":\"\"},\"colorscale\":[[0.0,\"#0d0887\"],[0.1111111111111111,\"#46039f\"],[0.2222222222222222,\"#7201a8\"],[0.3333333333333333,\"#9c179e\"],[0.4444444444444444,\"#bd3786\"],[0.5555555555555556,\"#d8576b\"],[0.6666666666666666,\"#ed7953\"],[0.7777777777777778,\"#fb9f3a\"],[0.8888888888888888,\"#fdca26\"],[1.0,\"#f0f921\"]]}],\"mesh3d\":[{\"type\":\"mesh3d\",\"colorbar\":{\"outlinewidth\":0,\"ticks\":\"\"}}],\"scatter\":[{\"fillpattern\":{\"fillmode\":\"overlay\",\"size\":10,\"solidity\":0.2},\"type\":\"scatter\"}],\"parcoords\":[{\"type\":\"parcoords\",\"line\":{\"colorbar\":{\"outlinewidth\":0,\"ticks\":\"\"}}}],\"scatterpolargl\":[{\"type\":\"scatterpolargl\",\"marker\":{\"colorbar\":{\"outlinewidth\":0,\"ticks\":\"\"}}}],\"bar\":[{\"error_x\":{\"color\":\"#2a3f5f\"},\"error_y\":{\"color\":\"#2a3f5f\"},\"marker\":{\"line\":{\"color\":\"#E5ECF6\",\"width\":0.5},\"pattern\":{\"fillmode\":\"overlay\",\"size\":10,\"solidity\":0.2}},\"type\":\"bar\"}],\"scattergeo\":[{\"type\":\"scattergeo\",\"marker\":{\"colorbar\":{\"outlinewidth\":0,\"ticks\":\"\"}}}],\"scatterpolar\":[{\"type\":\"scatterpolar\",\"marker\":{\"colorbar\":{\"outlinewidth\":0,\"ticks\":\"\"}}}],\"histogram\":[{\"marker\":{\"pattern\":{\"fillmode\":\"overlay\",\"size\":10,\"solidity\":0.2}},\"type\":\"histogram\"}],\"scattergl\":[{\"type\":\"scattergl\",\"marker\":{\"colorbar\":{\"outlinewidth\":0,\"ticks\":\"\"}}}],\"scatter3d\":[{\"type\":\"scatter3d\",\"line\":{\"colorbar\":{\"outlinewidth\":0,\"ticks\":\"\"}},\"marker\":{\"colorbar\":{\"outlinewidth\":0,\"ticks\":\"\"}}}],\"scattermapbox\":[{\"type\":\"scattermapbox\",\"marker\":{\"colorbar\":{\"outlinewidth\":0,\"ticks\":\"\"}}}],\"scatterternary\":[{\"type\":\"scatterternary\",\"marker\":{\"colorbar\":{\"outlinewidth\":0,\"ticks\":\"\"}}}],\"scattercarpet\":[{\"type\":\"scattercarpet\",\"marker\":{\"colorbar\":{\"outlinewidth\":0,\"ticks\":\"\"}}}],\"carpet\":[{\"aaxis\":{\"endlinecolor\":\"#2a3f5f\",\"gridcolor\":\"white\",\"linecolor\":\"white\",\"minorgridcolor\":\"white\",\"startlinecolor\":\"#2a3f5f\"},\"baxis\":{\"endlinecolor\":\"#2a3f5f\",\"gridcolor\":\"white\",\"linecolor\":\"white\",\"minorgridcolor\":\"white\",\"startlinecolor\":\"#2a3f5f\"},\"type\":\"carpet\"}],\"table\":[{\"cells\":{\"fill\":{\"color\":\"#EBF0F8\"},\"line\":{\"color\":\"white\"}},\"header\":{\"fill\":{\"color\":\"#C8D4E3\"},\"line\":{\"color\":\"white\"}},\"type\":\"table\"}],\"barpolar\":[{\"marker\":{\"line\":{\"color\":\"#E5ECF6\",\"width\":0.5},\"pattern\":{\"fillmode\":\"overlay\",\"size\":10,\"solidity\":0.2}},\"type\":\"barpolar\"}],\"pie\":[{\"automargin\":true,\"type\":\"pie\"}]},\"layout\":{\"autotypenumbers\":\"strict\",\"colorway\":[\"#636efa\",\"#EF553B\",\"#00cc96\",\"#ab63fa\",\"#FFA15A\",\"#19d3f3\",\"#FF6692\",\"#B6E880\",\"#FF97FF\",\"#FECB52\"],\"font\":{\"color\":\"#2a3f5f\"},\"hovermode\":\"closest\",\"hoverlabel\":{\"align\":\"left\"},\"paper_bgcolor\":\"white\",\"plot_bgcolor\":\"#E5ECF6\",\"polar\":{\"bgcolor\":\"#E5ECF6\",\"angularaxis\":{\"gridcolor\":\"white\",\"linecolor\":\"white\",\"ticks\":\"\"},\"radialaxis\":{\"gridcolor\":\"white\",\"linecolor\":\"white\",\"ticks\":\"\"}},\"ternary\":{\"bgcolor\":\"#E5ECF6\",\"aaxis\":{\"gridcolor\":\"white\",\"linecolor\":\"white\",\"ticks\":\"\"},\"baxis\":{\"gridcolor\":\"white\",\"linecolor\":\"white\",\"ticks\":\"\"},\"caxis\":{\"gridcolor\":\"white\",\"linecolor\":\"white\",\"ticks\":\"\"}},\"coloraxis\":{\"colorbar\":{\"outlinewidth\":0,\"ticks\":\"\"}},\"colorscale\":{\"sequential\":[[0.0,\"#0d0887\"],[0.1111111111111111,\"#46039f\"],[0.2222222222222222,\"#7201a8\"],[0.3333333333333333,\"#9c179e\"],[0.4444444444444444,\"#bd3786\"],[0.5555555555555556,\"#d8576b\"],[0.6666666666666666,\"#ed7953\"],[0.7777777777777778,\"#fb9f3a\"],[0.8888888888888888,\"#fdca26\"],[1.0,\"#f0f921\"]],\"sequentialminus\":[[0.0,\"#0d0887\"],[0.1111111111111111,\"#46039f\"],[0.2222222222222222,\"#7201a8\"],[0.3333333333333333,\"#9c179e\"],[0.4444444444444444,\"#bd3786\"],[0.5555555555555556,\"#d8576b\"],[0.6666666666666666,\"#ed7953\"],[0.7777777777777778,\"#fb9f3a\"],[0.8888888888888888,\"#fdca26\"],[1.0,\"#f0f921\"]],\"diverging\":[[0,\"#8e0152\"],[0.1,\"#c51b7d\"],[0.2,\"#de77ae\"],[0.3,\"#f1b6da\"],[0.4,\"#fde0ef\"],[0.5,\"#f7f7f7\"],[0.6,\"#e6f5d0\"],[0.7,\"#b8e186\"],[0.8,\"#7fbc41\"],[0.9,\"#4d9221\"],[1,\"#276419\"]]},\"xaxis\":{\"gridcolor\":\"white\",\"linecolor\":\"white\",\"ticks\":\"\",\"title\":{\"standoff\":15},\"zerolinecolor\":\"white\",\"automargin\":true,\"zerolinewidth\":2},\"yaxis\":{\"gridcolor\":\"white\",\"linecolor\":\"white\",\"ticks\":\"\",\"title\":{\"standoff\":15},\"zerolinecolor\":\"white\",\"automargin\":true,\"zerolinewidth\":2},\"scene\":{\"xaxis\":{\"backgroundcolor\":\"#E5ECF6\",\"gridcolor\":\"white\",\"linecolor\":\"white\",\"showbackground\":true,\"ticks\":\"\",\"zerolinecolor\":\"white\",\"gridwidth\":2},\"yaxis\":{\"backgroundcolor\":\"#E5ECF6\",\"gridcolor\":\"white\",\"linecolor\":\"white\",\"showbackground\":true,\"ticks\":\"\",\"zerolinecolor\":\"white\",\"gridwidth\":2},\"zaxis\":{\"backgroundcolor\":\"#E5ECF6\",\"gridcolor\":\"white\",\"linecolor\":\"white\",\"showbackground\":true,\"ticks\":\"\",\"zerolinecolor\":\"white\",\"gridwidth\":2}},\"shapedefaults\":{\"line\":{\"color\":\"#2a3f5f\"}},\"annotationdefaults\":{\"arrowcolor\":\"#2a3f5f\",\"arrowhead\":0,\"arrowwidth\":1},\"geo\":{\"bgcolor\":\"white\",\"landcolor\":\"#E5ECF6\",\"subunitcolor\":\"white\",\"showland\":true,\"showlakes\":true,\"lakecolor\":\"white\"},\"title\":{\"x\":0.05},\"mapbox\":{\"style\":\"light\"}}},\"scene\":{\"domain\":{\"x\":[0.0,1.0],\"y\":[0.0,1.0]},\"xaxis\":{\"title\":{\"text\":\"PC1\"}},\"yaxis\":{\"title\":{\"text\":\"PC2\"}},\"zaxis\":{\"title\":{\"text\":\"PC3\"}}},\"legend\":{\"title\":{\"text\":\"Sensor\"},\"tracegroupgap\":0},\"margin\":{\"t\":60}},                        {\"responsive\": true}                    ).then(function(){\n",
       "                            \n",
       "var gd = document.getElementById('48e79bd9-b50d-4369-9e57-43d6c4725901');\n",
       "var x = new MutationObserver(function (mutations, observer) {{\n",
       "        var display = window.getComputedStyle(gd).display;\n",
       "        if (!display || display === 'none') {{\n",
       "            console.log([gd, 'removed!']);\n",
       "            Plotly.purge(gd);\n",
       "            observer.disconnect();\n",
       "        }}\n",
       "}});\n",
       "\n",
       "// Listen for the removal of the full notebook cells\n",
       "var notebookContainer = gd.closest('#notebook-container');\n",
       "if (notebookContainer) {{\n",
       "    x.observe(notebookContainer, {childList: true});\n",
       "}}\n",
       "\n",
       "// Listen for the clearing of the current output cell\n",
       "var outputEl = gd.closest('.output');\n",
       "if (outputEl) {{\n",
       "    x.observe(outputEl, {childList: true});\n",
       "}}\n",
       "\n",
       "                        })                };                });            </script>        </div>"
      ]
     },
     "metadata": {},
     "output_type": "display_data"
    }
   ],
   "source": [
    "# 4. Scores plot\n",
    "# check API documentation for plotly.express https://plotly.com/python/3d-scatter-plots\n",
    "\n",
    "import plotly.express as px\n",
    "\n",
    "fig = px.scatter_3d(df_scores, x='PC1', y='PC2', z='PC3', color='Sensor')\n",
    "fig.show()"
   ]
  },
  {
   "cell_type": "code",
   "execution_count": 109,
   "id": "f4272d1d",
   "metadata": {},
   "outputs": [
    {
     "data": {
      "application/vnd.plotly.v1+json": {
       "config": {
        "plotlyServerURL": "https://plot.ly"
       },
       "data": [
        {
         "hovertemplate": "Sensor=HCV<br>PC1=%{x}<br>PC2=%{y}<br>PC3=%{z}<extra></extra>",
         "legendgroup": "HCV",
         "marker": {
          "color": "#636efa",
          "opacity": 0.5,
          "symbol": "circle"
         },
         "mode": "markers",
         "name": "HCV",
         "scene": "scene",
         "showlegend": true,
         "type": "scatter3d",
         "x": [
          -2.934049817098238,
          -2.890372168758718,
          -2.88299357103633,
          -2.9074861537790175,
          -2.9004530909383255,
          -2.9090236614192664,
          -2.901532607029395,
          -2.921022682631629,
          -2.9140061039324268,
          -2.9137627403983055,
          -2.886110462551956,
          -2.8794582386446255,
          -2.8919059360573964,
          -2.8854137389094965,
          -2.950025608363619,
          -2.9447376941034102,
          -2.9046713204937813,
          -2.897779330705206,
          -2.878694582275018,
          -2.847730962049293,
          -2.840901140559274,
          -2.8539236860944412,
          -2.847093864604423,
          -2.860116410139608,
          -2.8532865886495884,
          -2.866309134184739,
          -2.8594793126947193,
          -2.849961647337068,
          -2.8189980271113524,
          -2.812168205621333,
          -2.8251907511564873,
          -2.8183609296664693,
          -2.83138347520165,
          -2.8245536537116305,
          -2.8375761992467834,
          -2.830746377756765,
          0.5833579380492959,
          14.643914586289064,
          15.795764568880035,
          4.716417279545586,
          5.097263185217256,
          31.778137846138925,
          32.504316366406144,
          6.292142268833421,
          6.511494969094157,
          -2.792495777461168,
          -2.7615321572354254,
          -2.754702335745406,
          -2.7677248812805813,
          -2.7608950597905624,
          -2.773917605325736,
          -2.767087783835717,
          -2.7801103293708787,
          -2.773280507880859
         ],
         "y": [
          -0.24936325572771323,
          -0.33701281528714233,
          -0.28715153675546556,
          -0.3082297326886917,
          -0.25793503756533387,
          -0.3007329917063329,
          -0.25108315539609144,
          -0.2783436330450298,
          -0.22801925478941137,
          -0.22032927347979608,
          -0.28774326390073157,
          -0.2370033736140506,
          -0.27290553057260475,
          -0.22188271911137025,
          -0.18696583556752533,
          -0.13430665439267592,
          -0.24410075302057327,
          -0.19363782810661026,
          -0.2113454873723776,
          -0.2818967789911377,
          -0.2313240114011285,
          -0.2677865206673783,
          -0.21721375307736823,
          -0.25367626234360957,
          -0.2031034947536008,
          -0.2395660040198761,
          -0.1889932364298666,
          -0.19376627392816342,
          -0.2643175655468982,
          -0.21374479795688794,
          -0.25020730722316026,
          -0.19963453963315025,
          -0.23609704889939281,
          -0.18552428130938303,
          -0.2219867905756582,
          -0.17141402298564817,
          -0.7961564539559483,
          9.866404386451933,
          10.815145353256023,
          4.113138520715009,
          4.4566919151880775,
          -5.270999888513095,
          -4.421570812901024,
          5.648904104955411,
          5.9530890789605255,
          -0.1586078470397045,
          -0.22915913865848003,
          -0.1785863710684706,
          -0.21504888033471303,
          -0.16447611274470345,
          -0.2009386220109575,
          -0.15036585442094857,
          -0.18682836368720956,
          -0.13625559609720045
         ],
         "z": [
          2.025621398802411,
          -0.8801202466616957,
          -1.6647041610207909,
          -0.30030302464389635,
          -1.0849190645575155,
          0.28227151769172676,
          -0.5022487327761835,
          0.8625509187450644,
          0.07792573187035423,
          2.189325862866497,
          -0.7181578266925768,
          -1.5027980302367927,
          -0.1373751681819158,
          -0.9220835450161221,
          0.43420419583900205,
          -0.3507142537440577,
          1.0256167168038672,
          0.24098962922776818,
          2.3556340986775512,
          -0.552165551522621,
          -1.3368195477961011,
          0.02939437851741135,
          -0.7552596177560691,
          0.6109543085574458,
          -0.17369968771603422,
          1.1925142385974818,
          0.4078602423240013,
          2.5208309715444797,
          -0.38696867865569456,
          -1.1716226749291747,
          0.19459125138434105,
          -0.5900627448891397,
          0.7761511814243754,
          -0.008502814849105159,
          1.3577111114644116,
          0.5730571151909308,
          3.525337381443082,
          -1.1034920729278477,
          -1.8885996688565956,
          1.3766806739554418,
          0.6168040410522324,
          0.44244114316485295,
          -0.3691444705198386,
          3.20609602531092,
          2.411888059353037,
          2.851224717278342,
          -0.056574932921830634,
          -0.841228929195311,
          0.524984997118202,
          -0.2596689991552784,
          1.1065449271582373,
          0.32189093088475706,
          1.688104857198272,
          0.9034508609247915
         ]
        },
        {
         "hovertemplate": "Sensor=HIV<br>PC1=%{x}<br>PC2=%{y}<br>PC3=%{z}<extra></extra>",
         "legendgroup": "HIV",
         "marker": {
          "color": "#EF553B",
          "opacity": 0.5,
          "symbol": "diamond"
         },
         "mode": "markers",
         "name": "HIV",
         "scene": "scene",
         "showlegend": true,
         "type": "scatter3d",
         "x": [
          -2.898627657094565,
          -2.8975106092928113,
          -2.8964503731039,
          -2.8898321657480235,
          -2.900357464005553,
          -2.8996318311308267,
          -2.898040625968238,
          -2.8911374834309433,
          -2.921088857512715,
          -2.9224456154089333,
          -2.9236824288134358,
          -2.9185376471406412,
          -2.9120309112606417,
          -2.9112280713236807,
          -2.911417671248412,
          -2.907035790216444,
          -2.848338057292842,
          -2.8477309620493028,
          -2.846972092994855,
          -2.840901140559269,
          -2.8545307813380134,
          -2.853923686094456,
          -2.8531648170400095,
          -2.847093864604437,
          -2.8196051223549095,
          -2.8189980271113524,
          -2.8182391580569064,
          -2.812168205621334,
          -2.8257978464000564,
          -2.825190751156499,
          -2.824431882102053,
          -2.818360929666481,
          14.957577005266826,
          15.691604917871556,
          16.432249831233044,
          16.68462610279297,
          14.183778583702548,
          14.314518627331923,
          15.414979471305593,
          16.758450255484547,
          -2.7621392524789714,
          -2.7615321572354325,
          -2.7607732881809843,
          -2.7547023357453977,
          -2.768331976524144,
          -2.7677248812805866,
          -2.76696601222614,
          -2.7608950597905673
         ],
         "y": [
          -0.33139074578673977,
          -0.3276142073797072,
          -0.3223953586914241,
          -0.2782128258006381,
          -0.32350113367125755,
          -0.31915863876249717,
          -0.31468177881061415,
          -0.27086550543248167,
          -0.24341770112477273,
          -0.236216952298071,
          -0.22785260685772057,
          -0.18166059651417205,
          -0.2508773689381126,
          -0.24666956946155294,
          -0.23981634815411607,
          -0.19258835228268706,
          -0.28639213611017666,
          -0.28189677899110116,
          -0.27627758259220725,
          -0.2313240114010588,
          -0.2722818777864762,
          -0.2677865206673643,
          -0.26216732426847467,
          -0.21721375307735546,
          -0.26881292266601053,
          -0.2643175655468982,
          -0.258698369148008,
          -0.21374479795688822,
          -0.2547026643422593,
          -0.25020730722314743,
          -0.24458811082425713,
          -0.199634539633137,
          -8.321146977827572,
          -8.389017665255516,
          -8.479257677101073,
          -8.236964609997953,
          5.128811034238408,
          5.308336894048713,
          6.038890359220442,
          6.764718860856238,
          -0.23365449577752265,
          -0.2291591386584471,
          -0.22353994225955343,
          -0.17858637106840508,
          -0.2195442374538219,
          -0.21504888033471006,
          -0.20942968393582087,
          -0.16447611274470197
         ],
         "z": [
          -0.8114098978820268,
          -0.8810474679277975,
          -0.9681869509074325,
          -1.6655402134444393,
          -0.22902302996832066,
          -0.2987561381039039,
          -0.3857873370402485,
          -1.0831081125999749,
          -0.6558632508237581,
          -0.725982861177637,
          -0.8135430350539298,
          -1.5111595930764816,
          -0.0710502637761029,
          -0.14074928833496592,
          -0.2280625260495399,
          -0.9258190154491452,
          -0.482418529631645,
          -0.5521655515226234,
          -0.6393493288863434,
          -1.3368195477961018,
          0.0991414004083868,
          0.02939437851741085,
          -0.057789398846308904,
          -0.7552596177560689,
          -0.3172216567647187,
          -0.3869686786556946,
          -0.4741524560194147,
          -1.1716226749291754,
          0.2643382732753165,
          0.19459125138434047,
          0.1074074740206204,
          -0.5900627448891399,
          0.39506754013088274,
          0.21985811594900095,
          0.07420697236803642,
          -0.723028623611795,
          0.08557823022712827,
          -0.07575325231179168,
          -0.26312819919675595,
          -1.0936321862899754,
          0.013172088969146345,
          -0.05657493292183213,
          -0.14375871028555198,
          -0.8412289291953103,
          0.5947320190091782,
          0.5249849971182021,
          0.4378012197544824,
          -0.2596689991552773
         ]
        }
       ],
       "layout": {
        "legend": {
         "title": {
          "text": "Sensor"
         },
         "tracegroupgap": 0
        },
        "margin": {
         "b": 0,
         "l": 0,
         "r": 0,
         "t": 0
        },
        "scene": {
         "domain": {
          "x": [
           0,
           1
          ],
          "y": [
           0,
           1
          ]
         },
         "xaxis": {
          "title": {
           "text": "PC1"
          }
         },
         "yaxis": {
          "title": {
           "text": "PC2"
          }
         },
         "zaxis": {
          "title": {
           "text": "PC3"
          }
         }
        },
        "template": {
         "data": {
          "bar": [
           {
            "error_x": {
             "color": "#2a3f5f"
            },
            "error_y": {
             "color": "#2a3f5f"
            },
            "marker": {
             "line": {
              "color": "#E5ECF6",
              "width": 0.5
             },
             "pattern": {
              "fillmode": "overlay",
              "size": 10,
              "solidity": 0.2
             }
            },
            "type": "bar"
           }
          ],
          "barpolar": [
           {
            "marker": {
             "line": {
              "color": "#E5ECF6",
              "width": 0.5
             },
             "pattern": {
              "fillmode": "overlay",
              "size": 10,
              "solidity": 0.2
             }
            },
            "type": "barpolar"
           }
          ],
          "carpet": [
           {
            "aaxis": {
             "endlinecolor": "#2a3f5f",
             "gridcolor": "white",
             "linecolor": "white",
             "minorgridcolor": "white",
             "startlinecolor": "#2a3f5f"
            },
            "baxis": {
             "endlinecolor": "#2a3f5f",
             "gridcolor": "white",
             "linecolor": "white",
             "minorgridcolor": "white",
             "startlinecolor": "#2a3f5f"
            },
            "type": "carpet"
           }
          ],
          "choropleth": [
           {
            "colorbar": {
             "outlinewidth": 0,
             "ticks": ""
            },
            "type": "choropleth"
           }
          ],
          "contour": [
           {
            "colorbar": {
             "outlinewidth": 0,
             "ticks": ""
            },
            "colorscale": [
             [
              0,
              "#0d0887"
             ],
             [
              0.1111111111111111,
              "#46039f"
             ],
             [
              0.2222222222222222,
              "#7201a8"
             ],
             [
              0.3333333333333333,
              "#9c179e"
             ],
             [
              0.4444444444444444,
              "#bd3786"
             ],
             [
              0.5555555555555556,
              "#d8576b"
             ],
             [
              0.6666666666666666,
              "#ed7953"
             ],
             [
              0.7777777777777778,
              "#fb9f3a"
             ],
             [
              0.8888888888888888,
              "#fdca26"
             ],
             [
              1,
              "#f0f921"
             ]
            ],
            "type": "contour"
           }
          ],
          "contourcarpet": [
           {
            "colorbar": {
             "outlinewidth": 0,
             "ticks": ""
            },
            "type": "contourcarpet"
           }
          ],
          "heatmap": [
           {
            "colorbar": {
             "outlinewidth": 0,
             "ticks": ""
            },
            "colorscale": [
             [
              0,
              "#0d0887"
             ],
             [
              0.1111111111111111,
              "#46039f"
             ],
             [
              0.2222222222222222,
              "#7201a8"
             ],
             [
              0.3333333333333333,
              "#9c179e"
             ],
             [
              0.4444444444444444,
              "#bd3786"
             ],
             [
              0.5555555555555556,
              "#d8576b"
             ],
             [
              0.6666666666666666,
              "#ed7953"
             ],
             [
              0.7777777777777778,
              "#fb9f3a"
             ],
             [
              0.8888888888888888,
              "#fdca26"
             ],
             [
              1,
              "#f0f921"
             ]
            ],
            "type": "heatmap"
           }
          ],
          "heatmapgl": [
           {
            "colorbar": {
             "outlinewidth": 0,
             "ticks": ""
            },
            "colorscale": [
             [
              0,
              "#0d0887"
             ],
             [
              0.1111111111111111,
              "#46039f"
             ],
             [
              0.2222222222222222,
              "#7201a8"
             ],
             [
              0.3333333333333333,
              "#9c179e"
             ],
             [
              0.4444444444444444,
              "#bd3786"
             ],
             [
              0.5555555555555556,
              "#d8576b"
             ],
             [
              0.6666666666666666,
              "#ed7953"
             ],
             [
              0.7777777777777778,
              "#fb9f3a"
             ],
             [
              0.8888888888888888,
              "#fdca26"
             ],
             [
              1,
              "#f0f921"
             ]
            ],
            "type": "heatmapgl"
           }
          ],
          "histogram": [
           {
            "marker": {
             "pattern": {
              "fillmode": "overlay",
              "size": 10,
              "solidity": 0.2
             }
            },
            "type": "histogram"
           }
          ],
          "histogram2d": [
           {
            "colorbar": {
             "outlinewidth": 0,
             "ticks": ""
            },
            "colorscale": [
             [
              0,
              "#0d0887"
             ],
             [
              0.1111111111111111,
              "#46039f"
             ],
             [
              0.2222222222222222,
              "#7201a8"
             ],
             [
              0.3333333333333333,
              "#9c179e"
             ],
             [
              0.4444444444444444,
              "#bd3786"
             ],
             [
              0.5555555555555556,
              "#d8576b"
             ],
             [
              0.6666666666666666,
              "#ed7953"
             ],
             [
              0.7777777777777778,
              "#fb9f3a"
             ],
             [
              0.8888888888888888,
              "#fdca26"
             ],
             [
              1,
              "#f0f921"
             ]
            ],
            "type": "histogram2d"
           }
          ],
          "histogram2dcontour": [
           {
            "colorbar": {
             "outlinewidth": 0,
             "ticks": ""
            },
            "colorscale": [
             [
              0,
              "#0d0887"
             ],
             [
              0.1111111111111111,
              "#46039f"
             ],
             [
              0.2222222222222222,
              "#7201a8"
             ],
             [
              0.3333333333333333,
              "#9c179e"
             ],
             [
              0.4444444444444444,
              "#bd3786"
             ],
             [
              0.5555555555555556,
              "#d8576b"
             ],
             [
              0.6666666666666666,
              "#ed7953"
             ],
             [
              0.7777777777777778,
              "#fb9f3a"
             ],
             [
              0.8888888888888888,
              "#fdca26"
             ],
             [
              1,
              "#f0f921"
             ]
            ],
            "type": "histogram2dcontour"
           }
          ],
          "mesh3d": [
           {
            "colorbar": {
             "outlinewidth": 0,
             "ticks": ""
            },
            "type": "mesh3d"
           }
          ],
          "parcoords": [
           {
            "line": {
             "colorbar": {
              "outlinewidth": 0,
              "ticks": ""
             }
            },
            "type": "parcoords"
           }
          ],
          "pie": [
           {
            "automargin": true,
            "type": "pie"
           }
          ],
          "scatter": [
           {
            "fillpattern": {
             "fillmode": "overlay",
             "size": 10,
             "solidity": 0.2
            },
            "type": "scatter"
           }
          ],
          "scatter3d": [
           {
            "line": {
             "colorbar": {
              "outlinewidth": 0,
              "ticks": ""
             }
            },
            "marker": {
             "colorbar": {
              "outlinewidth": 0,
              "ticks": ""
             }
            },
            "type": "scatter3d"
           }
          ],
          "scattercarpet": [
           {
            "marker": {
             "colorbar": {
              "outlinewidth": 0,
              "ticks": ""
             }
            },
            "type": "scattercarpet"
           }
          ],
          "scattergeo": [
           {
            "marker": {
             "colorbar": {
              "outlinewidth": 0,
              "ticks": ""
             }
            },
            "type": "scattergeo"
           }
          ],
          "scattergl": [
           {
            "marker": {
             "colorbar": {
              "outlinewidth": 0,
              "ticks": ""
             }
            },
            "type": "scattergl"
           }
          ],
          "scattermapbox": [
           {
            "marker": {
             "colorbar": {
              "outlinewidth": 0,
              "ticks": ""
             }
            },
            "type": "scattermapbox"
           }
          ],
          "scatterpolar": [
           {
            "marker": {
             "colorbar": {
              "outlinewidth": 0,
              "ticks": ""
             }
            },
            "type": "scatterpolar"
           }
          ],
          "scatterpolargl": [
           {
            "marker": {
             "colorbar": {
              "outlinewidth": 0,
              "ticks": ""
             }
            },
            "type": "scatterpolargl"
           }
          ],
          "scatterternary": [
           {
            "marker": {
             "colorbar": {
              "outlinewidth": 0,
              "ticks": ""
             }
            },
            "type": "scatterternary"
           }
          ],
          "surface": [
           {
            "colorbar": {
             "outlinewidth": 0,
             "ticks": ""
            },
            "colorscale": [
             [
              0,
              "#0d0887"
             ],
             [
              0.1111111111111111,
              "#46039f"
             ],
             [
              0.2222222222222222,
              "#7201a8"
             ],
             [
              0.3333333333333333,
              "#9c179e"
             ],
             [
              0.4444444444444444,
              "#bd3786"
             ],
             [
              0.5555555555555556,
              "#d8576b"
             ],
             [
              0.6666666666666666,
              "#ed7953"
             ],
             [
              0.7777777777777778,
              "#fb9f3a"
             ],
             [
              0.8888888888888888,
              "#fdca26"
             ],
             [
              1,
              "#f0f921"
             ]
            ],
            "type": "surface"
           }
          ],
          "table": [
           {
            "cells": {
             "fill": {
              "color": "#EBF0F8"
             },
             "line": {
              "color": "white"
             }
            },
            "header": {
             "fill": {
              "color": "#C8D4E3"
             },
             "line": {
              "color": "white"
             }
            },
            "type": "table"
           }
          ]
         },
         "layout": {
          "annotationdefaults": {
           "arrowcolor": "#2a3f5f",
           "arrowhead": 0,
           "arrowwidth": 1
          },
          "autotypenumbers": "strict",
          "coloraxis": {
           "colorbar": {
            "outlinewidth": 0,
            "ticks": ""
           }
          },
          "colorscale": {
           "diverging": [
            [
             0,
             "#8e0152"
            ],
            [
             0.1,
             "#c51b7d"
            ],
            [
             0.2,
             "#de77ae"
            ],
            [
             0.3,
             "#f1b6da"
            ],
            [
             0.4,
             "#fde0ef"
            ],
            [
             0.5,
             "#f7f7f7"
            ],
            [
             0.6,
             "#e6f5d0"
            ],
            [
             0.7,
             "#b8e186"
            ],
            [
             0.8,
             "#7fbc41"
            ],
            [
             0.9,
             "#4d9221"
            ],
            [
             1,
             "#276419"
            ]
           ],
           "sequential": [
            [
             0,
             "#0d0887"
            ],
            [
             0.1111111111111111,
             "#46039f"
            ],
            [
             0.2222222222222222,
             "#7201a8"
            ],
            [
             0.3333333333333333,
             "#9c179e"
            ],
            [
             0.4444444444444444,
             "#bd3786"
            ],
            [
             0.5555555555555556,
             "#d8576b"
            ],
            [
             0.6666666666666666,
             "#ed7953"
            ],
            [
             0.7777777777777778,
             "#fb9f3a"
            ],
            [
             0.8888888888888888,
             "#fdca26"
            ],
            [
             1,
             "#f0f921"
            ]
           ],
           "sequentialminus": [
            [
             0,
             "#0d0887"
            ],
            [
             0.1111111111111111,
             "#46039f"
            ],
            [
             0.2222222222222222,
             "#7201a8"
            ],
            [
             0.3333333333333333,
             "#9c179e"
            ],
            [
             0.4444444444444444,
             "#bd3786"
            ],
            [
             0.5555555555555556,
             "#d8576b"
            ],
            [
             0.6666666666666666,
             "#ed7953"
            ],
            [
             0.7777777777777778,
             "#fb9f3a"
            ],
            [
             0.8888888888888888,
             "#fdca26"
            ],
            [
             1,
             "#f0f921"
            ]
           ]
          },
          "colorway": [
           "#636efa",
           "#EF553B",
           "#00cc96",
           "#ab63fa",
           "#FFA15A",
           "#19d3f3",
           "#FF6692",
           "#B6E880",
           "#FF97FF",
           "#FECB52"
          ],
          "font": {
           "color": "#2a3f5f"
          },
          "geo": {
           "bgcolor": "white",
           "lakecolor": "white",
           "landcolor": "#E5ECF6",
           "showlakes": true,
           "showland": true,
           "subunitcolor": "white"
          },
          "hoverlabel": {
           "align": "left"
          },
          "hovermode": "closest",
          "mapbox": {
           "style": "light"
          },
          "paper_bgcolor": "white",
          "plot_bgcolor": "#E5ECF6",
          "polar": {
           "angularaxis": {
            "gridcolor": "white",
            "linecolor": "white",
            "ticks": ""
           },
           "bgcolor": "#E5ECF6",
           "radialaxis": {
            "gridcolor": "white",
            "linecolor": "white",
            "ticks": ""
           }
          },
          "scene": {
           "xaxis": {
            "backgroundcolor": "#E5ECF6",
            "gridcolor": "white",
            "gridwidth": 2,
            "linecolor": "white",
            "showbackground": true,
            "ticks": "",
            "zerolinecolor": "white"
           },
           "yaxis": {
            "backgroundcolor": "#E5ECF6",
            "gridcolor": "white",
            "gridwidth": 2,
            "linecolor": "white",
            "showbackground": true,
            "ticks": "",
            "zerolinecolor": "white"
           },
           "zaxis": {
            "backgroundcolor": "#E5ECF6",
            "gridcolor": "white",
            "gridwidth": 2,
            "linecolor": "white",
            "showbackground": true,
            "ticks": "",
            "zerolinecolor": "white"
           }
          },
          "shapedefaults": {
           "line": {
            "color": "#2a3f5f"
           }
          },
          "ternary": {
           "aaxis": {
            "gridcolor": "white",
            "linecolor": "white",
            "ticks": ""
           },
           "baxis": {
            "gridcolor": "white",
            "linecolor": "white",
            "ticks": ""
           },
           "bgcolor": "#E5ECF6",
           "caxis": {
            "gridcolor": "white",
            "linecolor": "white",
            "ticks": ""
           }
          },
          "title": {
           "x": 0.05
          },
          "xaxis": {
           "automargin": true,
           "gridcolor": "white",
           "linecolor": "white",
           "ticks": "",
           "title": {
            "standoff": 15
           },
           "zerolinecolor": "white",
           "zerolinewidth": 2
          },
          "yaxis": {
           "automargin": true,
           "gridcolor": "white",
           "linecolor": "white",
           "ticks": "",
           "title": {
            "standoff": 15
           },
           "zerolinecolor": "white",
           "zerolinewidth": 2
          }
         }
        }
       }
      },
      "text/html": [
       "<div>                            <div id=\"c1736b5f-28e4-4890-81fb-ba30ac6ff0a9\" class=\"plotly-graph-div\" style=\"height:525px; width:100%;\"></div>            <script type=\"text/javascript\">                require([\"plotly\"], function(Plotly) {                    window.PLOTLYENV=window.PLOTLYENV || {};                                    if (document.getElementById(\"c1736b5f-28e4-4890-81fb-ba30ac6ff0a9\")) {                    Plotly.newPlot(                        \"c1736b5f-28e4-4890-81fb-ba30ac6ff0a9\",                        [{\"hovertemplate\":\"Sensor=HCV<br>PC1=%{x}<br>PC2=%{y}<br>PC3=%{z}<extra></extra>\",\"legendgroup\":\"HCV\",\"marker\":{\"color\":\"#636efa\",\"opacity\":0.5,\"symbol\":\"circle\"},\"mode\":\"markers\",\"name\":\"HCV\",\"scene\":\"scene\",\"showlegend\":true,\"x\":[-2.934049817098238,-2.890372168758718,-2.88299357103633,-2.9074861537790175,-2.9004530909383255,-2.9090236614192664,-2.901532607029395,-2.921022682631629,-2.9140061039324268,-2.9137627403983055,-2.886110462551956,-2.8794582386446255,-2.8919059360573964,-2.8854137389094965,-2.950025608363619,-2.9447376941034102,-2.9046713204937813,-2.897779330705206,-2.878694582275018,-2.847730962049293,-2.840901140559274,-2.8539236860944412,-2.847093864604423,-2.860116410139608,-2.8532865886495884,-2.866309134184739,-2.8594793126947193,-2.849961647337068,-2.8189980271113524,-2.812168205621333,-2.8251907511564873,-2.8183609296664693,-2.83138347520165,-2.8245536537116305,-2.8375761992467834,-2.830746377756765,0.5833579380492959,14.643914586289064,15.795764568880035,4.716417279545586,5.097263185217256,31.778137846138925,32.504316366406144,6.292142268833421,6.511494969094157,-2.792495777461168,-2.7615321572354254,-2.754702335745406,-2.7677248812805813,-2.7608950597905624,-2.773917605325736,-2.767087783835717,-2.7801103293708787,-2.773280507880859],\"y\":[-0.24936325572771323,-0.33701281528714233,-0.28715153675546556,-0.3082297326886917,-0.25793503756533387,-0.3007329917063329,-0.25108315539609144,-0.2783436330450298,-0.22801925478941137,-0.22032927347979608,-0.28774326390073157,-0.2370033736140506,-0.27290553057260475,-0.22188271911137025,-0.18696583556752533,-0.13430665439267592,-0.24410075302057327,-0.19363782810661026,-0.2113454873723776,-0.2818967789911377,-0.2313240114011285,-0.2677865206673783,-0.21721375307736823,-0.25367626234360957,-0.2031034947536008,-0.2395660040198761,-0.1889932364298666,-0.19376627392816342,-0.2643175655468982,-0.21374479795688794,-0.25020730722316026,-0.19963453963315025,-0.23609704889939281,-0.18552428130938303,-0.2219867905756582,-0.17141402298564817,-0.7961564539559483,9.866404386451933,10.815145353256023,4.113138520715009,4.4566919151880775,-5.270999888513095,-4.421570812901024,5.648904104955411,5.9530890789605255,-0.1586078470397045,-0.22915913865848003,-0.1785863710684706,-0.21504888033471303,-0.16447611274470345,-0.2009386220109575,-0.15036585442094857,-0.18682836368720956,-0.13625559609720045],\"z\":[2.025621398802411,-0.8801202466616957,-1.6647041610207909,-0.30030302464389635,-1.0849190645575155,0.28227151769172676,-0.5022487327761835,0.8625509187450644,0.07792573187035423,2.189325862866497,-0.7181578266925768,-1.5027980302367927,-0.1373751681819158,-0.9220835450161221,0.43420419583900205,-0.3507142537440577,1.0256167168038672,0.24098962922776818,2.3556340986775512,-0.552165551522621,-1.3368195477961011,0.02939437851741135,-0.7552596177560691,0.6109543085574458,-0.17369968771603422,1.1925142385974818,0.4078602423240013,2.5208309715444797,-0.38696867865569456,-1.1716226749291747,0.19459125138434105,-0.5900627448891397,0.7761511814243754,-0.008502814849105159,1.3577111114644116,0.5730571151909308,3.525337381443082,-1.1034920729278477,-1.8885996688565956,1.3766806739554418,0.6168040410522324,0.44244114316485295,-0.3691444705198386,3.20609602531092,2.411888059353037,2.851224717278342,-0.056574932921830634,-0.841228929195311,0.524984997118202,-0.2596689991552784,1.1065449271582373,0.32189093088475706,1.688104857198272,0.9034508609247915],\"type\":\"scatter3d\"},{\"hovertemplate\":\"Sensor=HIV<br>PC1=%{x}<br>PC2=%{y}<br>PC3=%{z}<extra></extra>\",\"legendgroup\":\"HIV\",\"marker\":{\"color\":\"#EF553B\",\"opacity\":0.5,\"symbol\":\"diamond\"},\"mode\":\"markers\",\"name\":\"HIV\",\"scene\":\"scene\",\"showlegend\":true,\"x\":[-2.898627657094565,-2.8975106092928113,-2.8964503731039,-2.8898321657480235,-2.900357464005553,-2.8996318311308267,-2.898040625968238,-2.8911374834309433,-2.921088857512715,-2.9224456154089333,-2.9236824288134358,-2.9185376471406412,-2.9120309112606417,-2.9112280713236807,-2.911417671248412,-2.907035790216444,-2.848338057292842,-2.8477309620493028,-2.846972092994855,-2.840901140559269,-2.8545307813380134,-2.853923686094456,-2.8531648170400095,-2.847093864604437,-2.8196051223549095,-2.8189980271113524,-2.8182391580569064,-2.812168205621334,-2.8257978464000564,-2.825190751156499,-2.824431882102053,-2.818360929666481,14.957577005266826,15.691604917871556,16.432249831233044,16.68462610279297,14.183778583702548,14.314518627331923,15.414979471305593,16.758450255484547,-2.7621392524789714,-2.7615321572354325,-2.7607732881809843,-2.7547023357453977,-2.768331976524144,-2.7677248812805866,-2.76696601222614,-2.7608950597905673],\"y\":[-0.33139074578673977,-0.3276142073797072,-0.3223953586914241,-0.2782128258006381,-0.32350113367125755,-0.31915863876249717,-0.31468177881061415,-0.27086550543248167,-0.24341770112477273,-0.236216952298071,-0.22785260685772057,-0.18166059651417205,-0.2508773689381126,-0.24666956946155294,-0.23981634815411607,-0.19258835228268706,-0.28639213611017666,-0.28189677899110116,-0.27627758259220725,-0.2313240114010588,-0.2722818777864762,-0.2677865206673643,-0.26216732426847467,-0.21721375307735546,-0.26881292266601053,-0.2643175655468982,-0.258698369148008,-0.21374479795688822,-0.2547026643422593,-0.25020730722314743,-0.24458811082425713,-0.199634539633137,-8.321146977827572,-8.389017665255516,-8.479257677101073,-8.236964609997953,5.128811034238408,5.308336894048713,6.038890359220442,6.764718860856238,-0.23365449577752265,-0.2291591386584471,-0.22353994225955343,-0.17858637106840508,-0.2195442374538219,-0.21504888033471006,-0.20942968393582087,-0.16447611274470197],\"z\":[-0.8114098978820268,-0.8810474679277975,-0.9681869509074325,-1.6655402134444393,-0.22902302996832066,-0.2987561381039039,-0.3857873370402485,-1.0831081125999749,-0.6558632508237581,-0.725982861177637,-0.8135430350539298,-1.5111595930764816,-0.0710502637761029,-0.14074928833496592,-0.2280625260495399,-0.9258190154491452,-0.482418529631645,-0.5521655515226234,-0.6393493288863434,-1.3368195477961018,0.0991414004083868,0.02939437851741085,-0.057789398846308904,-0.7552596177560689,-0.3172216567647187,-0.3869686786556946,-0.4741524560194147,-1.1716226749291754,0.2643382732753165,0.19459125138434047,0.1074074740206204,-0.5900627448891399,0.39506754013088274,0.21985811594900095,0.07420697236803642,-0.723028623611795,0.08557823022712827,-0.07575325231179168,-0.26312819919675595,-1.0936321862899754,0.013172088969146345,-0.05657493292183213,-0.14375871028555198,-0.8412289291953103,0.5947320190091782,0.5249849971182021,0.4378012197544824,-0.2596689991552773],\"type\":\"scatter3d\"}],                        {\"template\":{\"data\":{\"histogram2dcontour\":[{\"type\":\"histogram2dcontour\",\"colorbar\":{\"outlinewidth\":0,\"ticks\":\"\"},\"colorscale\":[[0.0,\"#0d0887\"],[0.1111111111111111,\"#46039f\"],[0.2222222222222222,\"#7201a8\"],[0.3333333333333333,\"#9c179e\"],[0.4444444444444444,\"#bd3786\"],[0.5555555555555556,\"#d8576b\"],[0.6666666666666666,\"#ed7953\"],[0.7777777777777778,\"#fb9f3a\"],[0.8888888888888888,\"#fdca26\"],[1.0,\"#f0f921\"]]}],\"choropleth\":[{\"type\":\"choropleth\",\"colorbar\":{\"outlinewidth\":0,\"ticks\":\"\"}}],\"histogram2d\":[{\"type\":\"histogram2d\",\"colorbar\":{\"outlinewidth\":0,\"ticks\":\"\"},\"colorscale\":[[0.0,\"#0d0887\"],[0.1111111111111111,\"#46039f\"],[0.2222222222222222,\"#7201a8\"],[0.3333333333333333,\"#9c179e\"],[0.4444444444444444,\"#bd3786\"],[0.5555555555555556,\"#d8576b\"],[0.6666666666666666,\"#ed7953\"],[0.7777777777777778,\"#fb9f3a\"],[0.8888888888888888,\"#fdca26\"],[1.0,\"#f0f921\"]]}],\"heatmap\":[{\"type\":\"heatmap\",\"colorbar\":{\"outlinewidth\":0,\"ticks\":\"\"},\"colorscale\":[[0.0,\"#0d0887\"],[0.1111111111111111,\"#46039f\"],[0.2222222222222222,\"#7201a8\"],[0.3333333333333333,\"#9c179e\"],[0.4444444444444444,\"#bd3786\"],[0.5555555555555556,\"#d8576b\"],[0.6666666666666666,\"#ed7953\"],[0.7777777777777778,\"#fb9f3a\"],[0.8888888888888888,\"#fdca26\"],[1.0,\"#f0f921\"]]}],\"heatmapgl\":[{\"type\":\"heatmapgl\",\"colorbar\":{\"outlinewidth\":0,\"ticks\":\"\"},\"colorscale\":[[0.0,\"#0d0887\"],[0.1111111111111111,\"#46039f\"],[0.2222222222222222,\"#7201a8\"],[0.3333333333333333,\"#9c179e\"],[0.4444444444444444,\"#bd3786\"],[0.5555555555555556,\"#d8576b\"],[0.6666666666666666,\"#ed7953\"],[0.7777777777777778,\"#fb9f3a\"],[0.8888888888888888,\"#fdca26\"],[1.0,\"#f0f921\"]]}],\"contourcarpet\":[{\"type\":\"contourcarpet\",\"colorbar\":{\"outlinewidth\":0,\"ticks\":\"\"}}],\"contour\":[{\"type\":\"contour\",\"colorbar\":{\"outlinewidth\":0,\"ticks\":\"\"},\"colorscale\":[[0.0,\"#0d0887\"],[0.1111111111111111,\"#46039f\"],[0.2222222222222222,\"#7201a8\"],[0.3333333333333333,\"#9c179e\"],[0.4444444444444444,\"#bd3786\"],[0.5555555555555556,\"#d8576b\"],[0.6666666666666666,\"#ed7953\"],[0.7777777777777778,\"#fb9f3a\"],[0.8888888888888888,\"#fdca26\"],[1.0,\"#f0f921\"]]}],\"surface\":[{\"type\":\"surface\",\"colorbar\":{\"outlinewidth\":0,\"ticks\":\"\"},\"colorscale\":[[0.0,\"#0d0887\"],[0.1111111111111111,\"#46039f\"],[0.2222222222222222,\"#7201a8\"],[0.3333333333333333,\"#9c179e\"],[0.4444444444444444,\"#bd3786\"],[0.5555555555555556,\"#d8576b\"],[0.6666666666666666,\"#ed7953\"],[0.7777777777777778,\"#fb9f3a\"],[0.8888888888888888,\"#fdca26\"],[1.0,\"#f0f921\"]]}],\"mesh3d\":[{\"type\":\"mesh3d\",\"colorbar\":{\"outlinewidth\":0,\"ticks\":\"\"}}],\"scatter\":[{\"fillpattern\":{\"fillmode\":\"overlay\",\"size\":10,\"solidity\":0.2},\"type\":\"scatter\"}],\"parcoords\":[{\"type\":\"parcoords\",\"line\":{\"colorbar\":{\"outlinewidth\":0,\"ticks\":\"\"}}}],\"scatterpolargl\":[{\"type\":\"scatterpolargl\",\"marker\":{\"colorbar\":{\"outlinewidth\":0,\"ticks\":\"\"}}}],\"bar\":[{\"error_x\":{\"color\":\"#2a3f5f\"},\"error_y\":{\"color\":\"#2a3f5f\"},\"marker\":{\"line\":{\"color\":\"#E5ECF6\",\"width\":0.5},\"pattern\":{\"fillmode\":\"overlay\",\"size\":10,\"solidity\":0.2}},\"type\":\"bar\"}],\"scattergeo\":[{\"type\":\"scattergeo\",\"marker\":{\"colorbar\":{\"outlinewidth\":0,\"ticks\":\"\"}}}],\"scatterpolar\":[{\"type\":\"scatterpolar\",\"marker\":{\"colorbar\":{\"outlinewidth\":0,\"ticks\":\"\"}}}],\"histogram\":[{\"marker\":{\"pattern\":{\"fillmode\":\"overlay\",\"size\":10,\"solidity\":0.2}},\"type\":\"histogram\"}],\"scattergl\":[{\"type\":\"scattergl\",\"marker\":{\"colorbar\":{\"outlinewidth\":0,\"ticks\":\"\"}}}],\"scatter3d\":[{\"type\":\"scatter3d\",\"line\":{\"colorbar\":{\"outlinewidth\":0,\"ticks\":\"\"}},\"marker\":{\"colorbar\":{\"outlinewidth\":0,\"ticks\":\"\"}}}],\"scattermapbox\":[{\"type\":\"scattermapbox\",\"marker\":{\"colorbar\":{\"outlinewidth\":0,\"ticks\":\"\"}}}],\"scatterternary\":[{\"type\":\"scatterternary\",\"marker\":{\"colorbar\":{\"outlinewidth\":0,\"ticks\":\"\"}}}],\"scattercarpet\":[{\"type\":\"scattercarpet\",\"marker\":{\"colorbar\":{\"outlinewidth\":0,\"ticks\":\"\"}}}],\"carpet\":[{\"aaxis\":{\"endlinecolor\":\"#2a3f5f\",\"gridcolor\":\"white\",\"linecolor\":\"white\",\"minorgridcolor\":\"white\",\"startlinecolor\":\"#2a3f5f\"},\"baxis\":{\"endlinecolor\":\"#2a3f5f\",\"gridcolor\":\"white\",\"linecolor\":\"white\",\"minorgridcolor\":\"white\",\"startlinecolor\":\"#2a3f5f\"},\"type\":\"carpet\"}],\"table\":[{\"cells\":{\"fill\":{\"color\":\"#EBF0F8\"},\"line\":{\"color\":\"white\"}},\"header\":{\"fill\":{\"color\":\"#C8D4E3\"},\"line\":{\"color\":\"white\"}},\"type\":\"table\"}],\"barpolar\":[{\"marker\":{\"line\":{\"color\":\"#E5ECF6\",\"width\":0.5},\"pattern\":{\"fillmode\":\"overlay\",\"size\":10,\"solidity\":0.2}},\"type\":\"barpolar\"}],\"pie\":[{\"automargin\":true,\"type\":\"pie\"}]},\"layout\":{\"autotypenumbers\":\"strict\",\"colorway\":[\"#636efa\",\"#EF553B\",\"#00cc96\",\"#ab63fa\",\"#FFA15A\",\"#19d3f3\",\"#FF6692\",\"#B6E880\",\"#FF97FF\",\"#FECB52\"],\"font\":{\"color\":\"#2a3f5f\"},\"hovermode\":\"closest\",\"hoverlabel\":{\"align\":\"left\"},\"paper_bgcolor\":\"white\",\"plot_bgcolor\":\"#E5ECF6\",\"polar\":{\"bgcolor\":\"#E5ECF6\",\"angularaxis\":{\"gridcolor\":\"white\",\"linecolor\":\"white\",\"ticks\":\"\"},\"radialaxis\":{\"gridcolor\":\"white\",\"linecolor\":\"white\",\"ticks\":\"\"}},\"ternary\":{\"bgcolor\":\"#E5ECF6\",\"aaxis\":{\"gridcolor\":\"white\",\"linecolor\":\"white\",\"ticks\":\"\"},\"baxis\":{\"gridcolor\":\"white\",\"linecolor\":\"white\",\"ticks\":\"\"},\"caxis\":{\"gridcolor\":\"white\",\"linecolor\":\"white\",\"ticks\":\"\"}},\"coloraxis\":{\"colorbar\":{\"outlinewidth\":0,\"ticks\":\"\"}},\"colorscale\":{\"sequential\":[[0.0,\"#0d0887\"],[0.1111111111111111,\"#46039f\"],[0.2222222222222222,\"#7201a8\"],[0.3333333333333333,\"#9c179e\"],[0.4444444444444444,\"#bd3786\"],[0.5555555555555556,\"#d8576b\"],[0.6666666666666666,\"#ed7953\"],[0.7777777777777778,\"#fb9f3a\"],[0.8888888888888888,\"#fdca26\"],[1.0,\"#f0f921\"]],\"sequentialminus\":[[0.0,\"#0d0887\"],[0.1111111111111111,\"#46039f\"],[0.2222222222222222,\"#7201a8\"],[0.3333333333333333,\"#9c179e\"],[0.4444444444444444,\"#bd3786\"],[0.5555555555555556,\"#d8576b\"],[0.6666666666666666,\"#ed7953\"],[0.7777777777777778,\"#fb9f3a\"],[0.8888888888888888,\"#fdca26\"],[1.0,\"#f0f921\"]],\"diverging\":[[0,\"#8e0152\"],[0.1,\"#c51b7d\"],[0.2,\"#de77ae\"],[0.3,\"#f1b6da\"],[0.4,\"#fde0ef\"],[0.5,\"#f7f7f7\"],[0.6,\"#e6f5d0\"],[0.7,\"#b8e186\"],[0.8,\"#7fbc41\"],[0.9,\"#4d9221\"],[1,\"#276419\"]]},\"xaxis\":{\"gridcolor\":\"white\",\"linecolor\":\"white\",\"ticks\":\"\",\"title\":{\"standoff\":15},\"zerolinecolor\":\"white\",\"automargin\":true,\"zerolinewidth\":2},\"yaxis\":{\"gridcolor\":\"white\",\"linecolor\":\"white\",\"ticks\":\"\",\"title\":{\"standoff\":15},\"zerolinecolor\":\"white\",\"automargin\":true,\"zerolinewidth\":2},\"scene\":{\"xaxis\":{\"backgroundcolor\":\"#E5ECF6\",\"gridcolor\":\"white\",\"linecolor\":\"white\",\"showbackground\":true,\"ticks\":\"\",\"zerolinecolor\":\"white\",\"gridwidth\":2},\"yaxis\":{\"backgroundcolor\":\"#E5ECF6\",\"gridcolor\":\"white\",\"linecolor\":\"white\",\"showbackground\":true,\"ticks\":\"\",\"zerolinecolor\":\"white\",\"gridwidth\":2},\"zaxis\":{\"backgroundcolor\":\"#E5ECF6\",\"gridcolor\":\"white\",\"linecolor\":\"white\",\"showbackground\":true,\"ticks\":\"\",\"zerolinecolor\":\"white\",\"gridwidth\":2}},\"shapedefaults\":{\"line\":{\"color\":\"#2a3f5f\"}},\"annotationdefaults\":{\"arrowcolor\":\"#2a3f5f\",\"arrowhead\":0,\"arrowwidth\":1},\"geo\":{\"bgcolor\":\"white\",\"landcolor\":\"#E5ECF6\",\"subunitcolor\":\"white\",\"showland\":true,\"showlakes\":true,\"lakecolor\":\"white\"},\"title\":{\"x\":0.05},\"mapbox\":{\"style\":\"light\"}}},\"scene\":{\"domain\":{\"x\":[0.0,1.0],\"y\":[0.0,1.0]},\"xaxis\":{\"title\":{\"text\":\"PC1\"}},\"yaxis\":{\"title\":{\"text\":\"PC2\"}},\"zaxis\":{\"title\":{\"text\":\"PC3\"}}},\"legend\":{\"title\":{\"text\":\"Sensor\"},\"tracegroupgap\":0},\"margin\":{\"t\":0,\"l\":0,\"r\":0,\"b\":0}},                        {\"responsive\": true}                    ).then(function(){\n",
       "                            \n",
       "var gd = document.getElementById('c1736b5f-28e4-4890-81fb-ba30ac6ff0a9');\n",
       "var x = new MutationObserver(function (mutations, observer) {{\n",
       "        var display = window.getComputedStyle(gd).display;\n",
       "        if (!display || display === 'none') {{\n",
       "            console.log([gd, 'removed!']);\n",
       "            Plotly.purge(gd);\n",
       "            observer.disconnect();\n",
       "        }}\n",
       "}});\n",
       "\n",
       "// Listen for the removal of the full notebook cells\n",
       "var notebookContainer = gd.closest('#notebook-container');\n",
       "if (notebookContainer) {{\n",
       "    x.observe(notebookContainer, {childList: true});\n",
       "}}\n",
       "\n",
       "// Listen for the clearing of the current output cell\n",
       "var outputEl = gd.closest('.output');\n",
       "if (outputEl) {{\n",
       "    x.observe(outputEl, {childList: true});\n",
       "}}\n",
       "\n",
       "                        })                };                });            </script>        </div>"
      ]
     },
     "metadata": {},
     "output_type": "display_data"
    }
   ],
   "source": [
    "# 4.1 Customize 3D Scatter Plot\n",
    "\n",
    "fig = px.scatter_3d(df_scores, x='PC1', y='PC2', z='PC3', color='Sensor', symbol='Sensor', opacity=0.5)\n",
    "\n",
    "# tight layout\n",
    "fig.update_layout(margin=dict(l=0, r=0, b=0, t=0)) # left, right, bottom, top with zero margin\n",
    "\n",
    "fig.show()\n",
    "\n",
    "# https://plotly.com/python/templates/\n",
    "# fig.update_layout(template='plotly_white')\n",
    "# plotly, plotly_white, plotly_dark, ggplot2, seaborn, simple_white, none"
   ]
  },
  {
   "cell_type": "code",
   "execution_count": 61,
   "id": "d021cd40",
   "metadata": {},
   "outputs": [
    {
     "data": {
      "application/vnd.plotly.v1+json": {
       "config": {
        "plotlyServerURL": "https://plot.ly"
       },
       "data": [
        {
         "hovertemplate": "PC1=%{x}<br>PC2=%{y}<br>PC3=%{z}<br>index=%{text}<extra></extra>",
         "legendgroup": "",
         "marker": {
          "color": "#636efa",
          "symbol": "circle"
         },
         "mode": "markers+text",
         "name": "",
         "scene": "scene",
         "showlegend": false,
         "text": [
          "Electrode",
          "Param",
          "microg/ml",
          "1.00E+06",
          "7.94E+05",
          "6.31E+05",
          "5.01E+05",
          "3.98E+05",
          "3.16E+05",
          "2.51E+05",
          "2.00E+05",
          "1.58E+05",
          "1.26E+05",
          "1.00E+05",
          "7.94E+04",
          "6.31E+04",
          "5.01E+04",
          "3.98E+04",
          "3.16E+04",
          "2.51E+04",
          "2.00E+04",
          "1.58E+04",
          "1.26E+04",
          "1.00E+04",
          "7.94E+03",
          "6.31E+03",
          "5.01E+03",
          "3.98E+03",
          "3.16E+03",
          "2.51E+03",
          "2.00E+03",
          "1.58E+03",
          "1.26E+03",
          "1.00E+03",
          "7.94E+02",
          "6.31E+02",
          "5.01E+02",
          "3.98E+02",
          "3.16E+02",
          "2.51E+02",
          "2.00E+02",
          "1.58E+02",
          "1.26E+02",
          "1.00E+02",
          "7.94E+01",
          "6.31E+01",
          "5.01E+01",
          "3.98E+01",
          "3.16E+01",
          "2.51E+01",
          "2.00E+01",
          "1.58E+01",
          "1.26E+01",
          "1.00E+01",
          "7.94E+00",
          "6.31E+00",
          "5.01E+00",
          "3.98E+00",
          "3.16E+00",
          "2.51E+00",
          "2.00E+00",
          "1.58E+00",
          "1.26E+00",
          "1.00E+00"
         ],
         "type": "scatter3d",
         "x": [
          -0.00873519491603045,
          0.048563553747331234,
          0.0033582854431248865,
          -0.05846023670708881,
          0.05382112564348864,
          0.10979756029240643,
          0.12180850880146964,
          0.1258209755941461,
          0.12777885758603283,
          0.12919664351546856,
          0.13026923264924914,
          0.1310702172439104,
          0.13185346385109198,
          0.1324150618118168,
          0.13290243826713205,
          0.13331036287983838,
          0.13351838480524986,
          0.13342692191464978,
          0.13300934413393367,
          0.13219097023006382,
          0.13102138018103818,
          0.1297278738037837,
          0.1284909239856411,
          0.12749881645680602,
          0.12688304082150867,
          0.1267654799853403,
          0.12695716474121546,
          0.12764697414016854,
          0.12867981074883011,
          0.1299721715047771,
          0.13147662787738235,
          0.13299725182988625,
          0.134494145994809,
          0.13579246428473593,
          0.136762784227122,
          0.13739696354726044,
          0.13765973414337618,
          0.13762596319797507,
          0.13726444747895208,
          0.13668652578065071,
          0.13606767737699382,
          0.13540762864551512,
          0.13469904055144014,
          0.13395952391591454,
          0.1332372098093119,
          0.13249272961780634,
          0.13181320171638888,
          0.13105195505973136,
          0.13028455447431514,
          0.12952445478531563,
          0.12869113343979302,
          0.127847568418728,
          0.12701520488286666,
          0.12615764320152412,
          0.12530180668518498,
          0.12442955846163507,
          0.12371033469654809,
          0.12302084000000472,
          0.12234597332268178,
          0.12169349865142665,
          0.12113265227395649,
          0.12068037121045447,
          0.12026239990211908,
          0.11959911635209089
         ],
         "y": [
          0.006642046523224937,
          0.033352659536340104,
          0.012334909727869936,
          0.2027288292277376,
          0.28364243048518306,
          0.20963522464395334,
          0.1625795224276366,
          0.13905093465311982,
          0.12568242795655946,
          0.11577084990050873,
          0.10797223682563377,
          0.10183246068160606,
          0.09540997095572244,
          0.09062378170529764,
          0.08676123641497918,
          0.08449812658054522,
          0.08511306668234736,
          0.08929295623701071,
          0.09645756619954887,
          0.10614052977221862,
          0.1167431501490203,
          0.1263803469080021,
          0.133769633063185,
          0.13844337716366856,
          0.1400919456584769,
          0.13857315668943537,
          0.13496975807019823,
          0.12835539978067814,
          0.11957408501732583,
          0.10872444689928983,
          0.09565160109484243,
          0.08090946383835645,
          0.0643048412639239,
          0.04663664920611944,
          0.028614682868968795,
          0.010305197572222232,
          -0.007592823978051871,
          -0.022409668249440077,
          -0.03824617921808677,
          -0.05283417704025634,
          -0.06469843573027009,
          -0.07499045943515352,
          -0.08433349452755085,
          -0.09289782471510621,
          -0.10037116688104623,
          -0.10720370274924597,
          -0.11339344775898623,
          -0.11949078457213631,
          -0.1252094642723224,
          -0.1304831454514261,
          -0.13592691690042624,
          -0.14108292691672394,
          -0.1458390227643699,
          -0.15054904060238442,
          -0.15487805373157484,
          -0.15930200041153872,
          -0.1626646433566498,
          -0.16567953511804034,
          -0.1686374058775018,
          -0.171376139746192,
          -0.17367960835069218,
          -0.1752185493157067,
          -0.176518971978139,
          -0.17889167574401252
         ],
         "z": [
          0.7121549063572952,
          0.2662877241606079,
          -0.3887770064962992,
          -0.13331150497229338,
          -0.049457578598587765,
          0.04091005030696737,
          0.07442091593177023,
          0.0883068126101623,
          0.09623107011714752,
          0.10010416088556542,
          0.10205661885368451,
          0.10299494285627232,
          0.10289943272559783,
          0.1022850657536733,
          0.10021882022497794,
          0.09618470509139279,
          0.08928615151812822,
          0.07939922687352502,
          0.06624703914154154,
          0.04936233553709384,
          0.02996558152786881,
          0.008481280694001682,
          -0.012370071930811839,
          -0.03197356465442722,
          -0.04948537476977849,
          -0.0644578371723703,
          -0.07688508843383388,
          -0.08653114122278552,
          -0.09340465346286929,
          -0.09786581662808277,
          -0.09985485473214019,
          -0.10021398752722568,
          -0.09814067079492259,
          -0.09426453022150057,
          -0.08948188824767389,
          -0.08334137154897624,
          -0.07679110872856663,
          -0.07072263980841438,
          -0.06450648275563117,
          -0.05831654882083683,
          -0.0528250456790481,
          -0.04750865286477733,
          -0.04239233218951535,
          -0.03753330042351804,
          -0.032765562285606425,
          -0.028129139290212893,
          -0.023681725166391575,
          -0.0190416628865712,
          -0.01446329846470778,
          -0.009916502183270233,
          -0.0052404106299260775,
          -0.0007673053851092121,
          0.0036799616166336892,
          0.007961391538894155,
          0.012737717765165156,
          0.016570983047647612,
          0.02045700029058156,
          0.024383552730235937,
          0.02865555866130361,
          0.031497336513410176,
          0.035302878878388094,
          0.039585357703380265,
          0.04116727018452951,
          0.04667522192289133
         ]
        }
       ],
       "layout": {
        "legend": {
         "tracegroupgap": 0
        },
        "margin": {
         "t": 60
        },
        "scene": {
         "domain": {
          "x": [
           0,
           1
          ],
          "y": [
           0,
           1
          ]
         },
         "xaxis": {
          "title": {
           "text": "PC1"
          }
         },
         "yaxis": {
          "title": {
           "text": "PC2"
          }
         },
         "zaxis": {
          "title": {
           "text": "PC3"
          }
         }
        },
        "template": {
         "data": {
          "bar": [
           {
            "error_x": {
             "color": "#2a3f5f"
            },
            "error_y": {
             "color": "#2a3f5f"
            },
            "marker": {
             "line": {
              "color": "#E5ECF6",
              "width": 0.5
             },
             "pattern": {
              "fillmode": "overlay",
              "size": 10,
              "solidity": 0.2
             }
            },
            "type": "bar"
           }
          ],
          "barpolar": [
           {
            "marker": {
             "line": {
              "color": "#E5ECF6",
              "width": 0.5
             },
             "pattern": {
              "fillmode": "overlay",
              "size": 10,
              "solidity": 0.2
             }
            },
            "type": "barpolar"
           }
          ],
          "carpet": [
           {
            "aaxis": {
             "endlinecolor": "#2a3f5f",
             "gridcolor": "white",
             "linecolor": "white",
             "minorgridcolor": "white",
             "startlinecolor": "#2a3f5f"
            },
            "baxis": {
             "endlinecolor": "#2a3f5f",
             "gridcolor": "white",
             "linecolor": "white",
             "minorgridcolor": "white",
             "startlinecolor": "#2a3f5f"
            },
            "type": "carpet"
           }
          ],
          "choropleth": [
           {
            "colorbar": {
             "outlinewidth": 0,
             "ticks": ""
            },
            "type": "choropleth"
           }
          ],
          "contour": [
           {
            "colorbar": {
             "outlinewidth": 0,
             "ticks": ""
            },
            "colorscale": [
             [
              0,
              "#0d0887"
             ],
             [
              0.1111111111111111,
              "#46039f"
             ],
             [
              0.2222222222222222,
              "#7201a8"
             ],
             [
              0.3333333333333333,
              "#9c179e"
             ],
             [
              0.4444444444444444,
              "#bd3786"
             ],
             [
              0.5555555555555556,
              "#d8576b"
             ],
             [
              0.6666666666666666,
              "#ed7953"
             ],
             [
              0.7777777777777778,
              "#fb9f3a"
             ],
             [
              0.8888888888888888,
              "#fdca26"
             ],
             [
              1,
              "#f0f921"
             ]
            ],
            "type": "contour"
           }
          ],
          "contourcarpet": [
           {
            "colorbar": {
             "outlinewidth": 0,
             "ticks": ""
            },
            "type": "contourcarpet"
           }
          ],
          "heatmap": [
           {
            "colorbar": {
             "outlinewidth": 0,
             "ticks": ""
            },
            "colorscale": [
             [
              0,
              "#0d0887"
             ],
             [
              0.1111111111111111,
              "#46039f"
             ],
             [
              0.2222222222222222,
              "#7201a8"
             ],
             [
              0.3333333333333333,
              "#9c179e"
             ],
             [
              0.4444444444444444,
              "#bd3786"
             ],
             [
              0.5555555555555556,
              "#d8576b"
             ],
             [
              0.6666666666666666,
              "#ed7953"
             ],
             [
              0.7777777777777778,
              "#fb9f3a"
             ],
             [
              0.8888888888888888,
              "#fdca26"
             ],
             [
              1,
              "#f0f921"
             ]
            ],
            "type": "heatmap"
           }
          ],
          "heatmapgl": [
           {
            "colorbar": {
             "outlinewidth": 0,
             "ticks": ""
            },
            "colorscale": [
             [
              0,
              "#0d0887"
             ],
             [
              0.1111111111111111,
              "#46039f"
             ],
             [
              0.2222222222222222,
              "#7201a8"
             ],
             [
              0.3333333333333333,
              "#9c179e"
             ],
             [
              0.4444444444444444,
              "#bd3786"
             ],
             [
              0.5555555555555556,
              "#d8576b"
             ],
             [
              0.6666666666666666,
              "#ed7953"
             ],
             [
              0.7777777777777778,
              "#fb9f3a"
             ],
             [
              0.8888888888888888,
              "#fdca26"
             ],
             [
              1,
              "#f0f921"
             ]
            ],
            "type": "heatmapgl"
           }
          ],
          "histogram": [
           {
            "marker": {
             "pattern": {
              "fillmode": "overlay",
              "size": 10,
              "solidity": 0.2
             }
            },
            "type": "histogram"
           }
          ],
          "histogram2d": [
           {
            "colorbar": {
             "outlinewidth": 0,
             "ticks": ""
            },
            "colorscale": [
             [
              0,
              "#0d0887"
             ],
             [
              0.1111111111111111,
              "#46039f"
             ],
             [
              0.2222222222222222,
              "#7201a8"
             ],
             [
              0.3333333333333333,
              "#9c179e"
             ],
             [
              0.4444444444444444,
              "#bd3786"
             ],
             [
              0.5555555555555556,
              "#d8576b"
             ],
             [
              0.6666666666666666,
              "#ed7953"
             ],
             [
              0.7777777777777778,
              "#fb9f3a"
             ],
             [
              0.8888888888888888,
              "#fdca26"
             ],
             [
              1,
              "#f0f921"
             ]
            ],
            "type": "histogram2d"
           }
          ],
          "histogram2dcontour": [
           {
            "colorbar": {
             "outlinewidth": 0,
             "ticks": ""
            },
            "colorscale": [
             [
              0,
              "#0d0887"
             ],
             [
              0.1111111111111111,
              "#46039f"
             ],
             [
              0.2222222222222222,
              "#7201a8"
             ],
             [
              0.3333333333333333,
              "#9c179e"
             ],
             [
              0.4444444444444444,
              "#bd3786"
             ],
             [
              0.5555555555555556,
              "#d8576b"
             ],
             [
              0.6666666666666666,
              "#ed7953"
             ],
             [
              0.7777777777777778,
              "#fb9f3a"
             ],
             [
              0.8888888888888888,
              "#fdca26"
             ],
             [
              1,
              "#f0f921"
             ]
            ],
            "type": "histogram2dcontour"
           }
          ],
          "mesh3d": [
           {
            "colorbar": {
             "outlinewidth": 0,
             "ticks": ""
            },
            "type": "mesh3d"
           }
          ],
          "parcoords": [
           {
            "line": {
             "colorbar": {
              "outlinewidth": 0,
              "ticks": ""
             }
            },
            "type": "parcoords"
           }
          ],
          "pie": [
           {
            "automargin": true,
            "type": "pie"
           }
          ],
          "scatter": [
           {
            "fillpattern": {
             "fillmode": "overlay",
             "size": 10,
             "solidity": 0.2
            },
            "type": "scatter"
           }
          ],
          "scatter3d": [
           {
            "line": {
             "colorbar": {
              "outlinewidth": 0,
              "ticks": ""
             }
            },
            "marker": {
             "colorbar": {
              "outlinewidth": 0,
              "ticks": ""
             }
            },
            "type": "scatter3d"
           }
          ],
          "scattercarpet": [
           {
            "marker": {
             "colorbar": {
              "outlinewidth": 0,
              "ticks": ""
             }
            },
            "type": "scattercarpet"
           }
          ],
          "scattergeo": [
           {
            "marker": {
             "colorbar": {
              "outlinewidth": 0,
              "ticks": ""
             }
            },
            "type": "scattergeo"
           }
          ],
          "scattergl": [
           {
            "marker": {
             "colorbar": {
              "outlinewidth": 0,
              "ticks": ""
             }
            },
            "type": "scattergl"
           }
          ],
          "scattermapbox": [
           {
            "marker": {
             "colorbar": {
              "outlinewidth": 0,
              "ticks": ""
             }
            },
            "type": "scattermapbox"
           }
          ],
          "scatterpolar": [
           {
            "marker": {
             "colorbar": {
              "outlinewidth": 0,
              "ticks": ""
             }
            },
            "type": "scatterpolar"
           }
          ],
          "scatterpolargl": [
           {
            "marker": {
             "colorbar": {
              "outlinewidth": 0,
              "ticks": ""
             }
            },
            "type": "scatterpolargl"
           }
          ],
          "scatterternary": [
           {
            "marker": {
             "colorbar": {
              "outlinewidth": 0,
              "ticks": ""
             }
            },
            "type": "scatterternary"
           }
          ],
          "surface": [
           {
            "colorbar": {
             "outlinewidth": 0,
             "ticks": ""
            },
            "colorscale": [
             [
              0,
              "#0d0887"
             ],
             [
              0.1111111111111111,
              "#46039f"
             ],
             [
              0.2222222222222222,
              "#7201a8"
             ],
             [
              0.3333333333333333,
              "#9c179e"
             ],
             [
              0.4444444444444444,
              "#bd3786"
             ],
             [
              0.5555555555555556,
              "#d8576b"
             ],
             [
              0.6666666666666666,
              "#ed7953"
             ],
             [
              0.7777777777777778,
              "#fb9f3a"
             ],
             [
              0.8888888888888888,
              "#fdca26"
             ],
             [
              1,
              "#f0f921"
             ]
            ],
            "type": "surface"
           }
          ],
          "table": [
           {
            "cells": {
             "fill": {
              "color": "#EBF0F8"
             },
             "line": {
              "color": "white"
             }
            },
            "header": {
             "fill": {
              "color": "#C8D4E3"
             },
             "line": {
              "color": "white"
             }
            },
            "type": "table"
           }
          ]
         },
         "layout": {
          "annotationdefaults": {
           "arrowcolor": "#2a3f5f",
           "arrowhead": 0,
           "arrowwidth": 1
          },
          "autotypenumbers": "strict",
          "coloraxis": {
           "colorbar": {
            "outlinewidth": 0,
            "ticks": ""
           }
          },
          "colorscale": {
           "diverging": [
            [
             0,
             "#8e0152"
            ],
            [
             0.1,
             "#c51b7d"
            ],
            [
             0.2,
             "#de77ae"
            ],
            [
             0.3,
             "#f1b6da"
            ],
            [
             0.4,
             "#fde0ef"
            ],
            [
             0.5,
             "#f7f7f7"
            ],
            [
             0.6,
             "#e6f5d0"
            ],
            [
             0.7,
             "#b8e186"
            ],
            [
             0.8,
             "#7fbc41"
            ],
            [
             0.9,
             "#4d9221"
            ],
            [
             1,
             "#276419"
            ]
           ],
           "sequential": [
            [
             0,
             "#0d0887"
            ],
            [
             0.1111111111111111,
             "#46039f"
            ],
            [
             0.2222222222222222,
             "#7201a8"
            ],
            [
             0.3333333333333333,
             "#9c179e"
            ],
            [
             0.4444444444444444,
             "#bd3786"
            ],
            [
             0.5555555555555556,
             "#d8576b"
            ],
            [
             0.6666666666666666,
             "#ed7953"
            ],
            [
             0.7777777777777778,
             "#fb9f3a"
            ],
            [
             0.8888888888888888,
             "#fdca26"
            ],
            [
             1,
             "#f0f921"
            ]
           ],
           "sequentialminus": [
            [
             0,
             "#0d0887"
            ],
            [
             0.1111111111111111,
             "#46039f"
            ],
            [
             0.2222222222222222,
             "#7201a8"
            ],
            [
             0.3333333333333333,
             "#9c179e"
            ],
            [
             0.4444444444444444,
             "#bd3786"
            ],
            [
             0.5555555555555556,
             "#d8576b"
            ],
            [
             0.6666666666666666,
             "#ed7953"
            ],
            [
             0.7777777777777778,
             "#fb9f3a"
            ],
            [
             0.8888888888888888,
             "#fdca26"
            ],
            [
             1,
             "#f0f921"
            ]
           ]
          },
          "colorway": [
           "#636efa",
           "#EF553B",
           "#00cc96",
           "#ab63fa",
           "#FFA15A",
           "#19d3f3",
           "#FF6692",
           "#B6E880",
           "#FF97FF",
           "#FECB52"
          ],
          "font": {
           "color": "#2a3f5f"
          },
          "geo": {
           "bgcolor": "white",
           "lakecolor": "white",
           "landcolor": "#E5ECF6",
           "showlakes": true,
           "showland": true,
           "subunitcolor": "white"
          },
          "hoverlabel": {
           "align": "left"
          },
          "hovermode": "closest",
          "mapbox": {
           "style": "light"
          },
          "paper_bgcolor": "white",
          "plot_bgcolor": "#E5ECF6",
          "polar": {
           "angularaxis": {
            "gridcolor": "white",
            "linecolor": "white",
            "ticks": ""
           },
           "bgcolor": "#E5ECF6",
           "radialaxis": {
            "gridcolor": "white",
            "linecolor": "white",
            "ticks": ""
           }
          },
          "scene": {
           "xaxis": {
            "backgroundcolor": "#E5ECF6",
            "gridcolor": "white",
            "gridwidth": 2,
            "linecolor": "white",
            "showbackground": true,
            "ticks": "",
            "zerolinecolor": "white"
           },
           "yaxis": {
            "backgroundcolor": "#E5ECF6",
            "gridcolor": "white",
            "gridwidth": 2,
            "linecolor": "white",
            "showbackground": true,
            "ticks": "",
            "zerolinecolor": "white"
           },
           "zaxis": {
            "backgroundcolor": "#E5ECF6",
            "gridcolor": "white",
            "gridwidth": 2,
            "linecolor": "white",
            "showbackground": true,
            "ticks": "",
            "zerolinecolor": "white"
           }
          },
          "shapedefaults": {
           "line": {
            "color": "#2a3f5f"
           }
          },
          "ternary": {
           "aaxis": {
            "gridcolor": "white",
            "linecolor": "white",
            "ticks": ""
           },
           "baxis": {
            "gridcolor": "white",
            "linecolor": "white",
            "ticks": ""
           },
           "bgcolor": "#E5ECF6",
           "caxis": {
            "gridcolor": "white",
            "linecolor": "white",
            "ticks": ""
           }
          },
          "title": {
           "x": 0.05
          },
          "xaxis": {
           "automargin": true,
           "gridcolor": "white",
           "linecolor": "white",
           "ticks": "",
           "title": {
            "standoff": 15
           },
           "zerolinecolor": "white",
           "zerolinewidth": 2
          },
          "yaxis": {
           "automargin": true,
           "gridcolor": "white",
           "linecolor": "white",
           "ticks": "",
           "title": {
            "standoff": 15
           },
           "zerolinecolor": "white",
           "zerolinewidth": 2
          }
         }
        }
       }
      },
      "text/html": [
       "<div>                            <div id=\"3c66acf0-7467-40f8-9236-be473fb0da93\" class=\"plotly-graph-div\" style=\"height:525px; width:100%;\"></div>            <script type=\"text/javascript\">                require([\"plotly\"], function(Plotly) {                    window.PLOTLYENV=window.PLOTLYENV || {};                                    if (document.getElementById(\"3c66acf0-7467-40f8-9236-be473fb0da93\")) {                    Plotly.newPlot(                        \"3c66acf0-7467-40f8-9236-be473fb0da93\",                        [{\"hovertemplate\":\"PC1=%{x}<br>PC2=%{y}<br>PC3=%{z}<br>index=%{text}<extra></extra>\",\"legendgroup\":\"\",\"marker\":{\"color\":\"#636efa\",\"symbol\":\"circle\"},\"mode\":\"markers+text\",\"name\":\"\",\"scene\":\"scene\",\"showlegend\":false,\"text\":[\"Electrode\",\"Param\",\"microg/ml\",\"1.00E+06\",\"7.94E+05\",\"6.31E+05\",\"5.01E+05\",\"3.98E+05\",\"3.16E+05\",\"2.51E+05\",\"2.00E+05\",\"1.58E+05\",\"1.26E+05\",\"1.00E+05\",\"7.94E+04\",\"6.31E+04\",\"5.01E+04\",\"3.98E+04\",\"3.16E+04\",\"2.51E+04\",\"2.00E+04\",\"1.58E+04\",\"1.26E+04\",\"1.00E+04\",\"7.94E+03\",\"6.31E+03\",\"5.01E+03\",\"3.98E+03\",\"3.16E+03\",\"2.51E+03\",\"2.00E+03\",\"1.58E+03\",\"1.26E+03\",\"1.00E+03\",\"7.94E+02\",\"6.31E+02\",\"5.01E+02\",\"3.98E+02\",\"3.16E+02\",\"2.51E+02\",\"2.00E+02\",\"1.58E+02\",\"1.26E+02\",\"1.00E+02\",\"7.94E+01\",\"6.31E+01\",\"5.01E+01\",\"3.98E+01\",\"3.16E+01\",\"2.51E+01\",\"2.00E+01\",\"1.58E+01\",\"1.26E+01\",\"1.00E+01\",\"7.94E+00\",\"6.31E+00\",\"5.01E+00\",\"3.98E+00\",\"3.16E+00\",\"2.51E+00\",\"2.00E+00\",\"1.58E+00\",\"1.26E+00\",\"1.00E+00\"],\"x\":[-0.00873519491603045,0.048563553747331234,0.0033582854431248865,-0.05846023670708881,0.05382112564348864,0.10979756029240643,0.12180850880146964,0.1258209755941461,0.12777885758603283,0.12919664351546856,0.13026923264924914,0.1310702172439104,0.13185346385109198,0.1324150618118168,0.13290243826713205,0.13331036287983838,0.13351838480524986,0.13342692191464978,0.13300934413393367,0.13219097023006382,0.13102138018103818,0.1297278738037837,0.1284909239856411,0.12749881645680602,0.12688304082150867,0.1267654799853403,0.12695716474121546,0.12764697414016854,0.12867981074883011,0.1299721715047771,0.13147662787738235,0.13299725182988625,0.134494145994809,0.13579246428473593,0.136762784227122,0.13739696354726044,0.13765973414337618,0.13762596319797507,0.13726444747895208,0.13668652578065071,0.13606767737699382,0.13540762864551512,0.13469904055144014,0.13395952391591454,0.1332372098093119,0.13249272961780634,0.13181320171638888,0.13105195505973136,0.13028455447431514,0.12952445478531563,0.12869113343979302,0.127847568418728,0.12701520488286666,0.12615764320152412,0.12530180668518498,0.12442955846163507,0.12371033469654809,0.12302084000000472,0.12234597332268178,0.12169349865142665,0.12113265227395649,0.12068037121045447,0.12026239990211908,0.11959911635209089],\"y\":[0.006642046523224937,0.033352659536340104,0.012334909727869936,0.2027288292277376,0.28364243048518306,0.20963522464395334,0.1625795224276366,0.13905093465311982,0.12568242795655946,0.11577084990050873,0.10797223682563377,0.10183246068160606,0.09540997095572244,0.09062378170529764,0.08676123641497918,0.08449812658054522,0.08511306668234736,0.08929295623701071,0.09645756619954887,0.10614052977221862,0.1167431501490203,0.1263803469080021,0.133769633063185,0.13844337716366856,0.1400919456584769,0.13857315668943537,0.13496975807019823,0.12835539978067814,0.11957408501732583,0.10872444689928983,0.09565160109484243,0.08090946383835645,0.0643048412639239,0.04663664920611944,0.028614682868968795,0.010305197572222232,-0.007592823978051871,-0.022409668249440077,-0.03824617921808677,-0.05283417704025634,-0.06469843573027009,-0.07499045943515352,-0.08433349452755085,-0.09289782471510621,-0.10037116688104623,-0.10720370274924597,-0.11339344775898623,-0.11949078457213631,-0.1252094642723224,-0.1304831454514261,-0.13592691690042624,-0.14108292691672394,-0.1458390227643699,-0.15054904060238442,-0.15487805373157484,-0.15930200041153872,-0.1626646433566498,-0.16567953511804034,-0.1686374058775018,-0.171376139746192,-0.17367960835069218,-0.1752185493157067,-0.176518971978139,-0.17889167574401252],\"z\":[0.7121549063572952,0.2662877241606079,-0.3887770064962992,-0.13331150497229338,-0.049457578598587765,0.04091005030696737,0.07442091593177023,0.0883068126101623,0.09623107011714752,0.10010416088556542,0.10205661885368451,0.10299494285627232,0.10289943272559783,0.1022850657536733,0.10021882022497794,0.09618470509139279,0.08928615151812822,0.07939922687352502,0.06624703914154154,0.04936233553709384,0.02996558152786881,0.008481280694001682,-0.012370071930811839,-0.03197356465442722,-0.04948537476977849,-0.0644578371723703,-0.07688508843383388,-0.08653114122278552,-0.09340465346286929,-0.09786581662808277,-0.09985485473214019,-0.10021398752722568,-0.09814067079492259,-0.09426453022150057,-0.08948188824767389,-0.08334137154897624,-0.07679110872856663,-0.07072263980841438,-0.06450648275563117,-0.05831654882083683,-0.0528250456790481,-0.04750865286477733,-0.04239233218951535,-0.03753330042351804,-0.032765562285606425,-0.028129139290212893,-0.023681725166391575,-0.0190416628865712,-0.01446329846470778,-0.009916502183270233,-0.0052404106299260775,-0.0007673053851092121,0.0036799616166336892,0.007961391538894155,0.012737717765165156,0.016570983047647612,0.02045700029058156,0.024383552730235937,0.02865555866130361,0.031497336513410176,0.035302878878388094,0.039585357703380265,0.04116727018452951,0.04667522192289133],\"type\":\"scatter3d\"}],                        {\"template\":{\"data\":{\"histogram2dcontour\":[{\"type\":\"histogram2dcontour\",\"colorbar\":{\"outlinewidth\":0,\"ticks\":\"\"},\"colorscale\":[[0.0,\"#0d0887\"],[0.1111111111111111,\"#46039f\"],[0.2222222222222222,\"#7201a8\"],[0.3333333333333333,\"#9c179e\"],[0.4444444444444444,\"#bd3786\"],[0.5555555555555556,\"#d8576b\"],[0.6666666666666666,\"#ed7953\"],[0.7777777777777778,\"#fb9f3a\"],[0.8888888888888888,\"#fdca26\"],[1.0,\"#f0f921\"]]}],\"choropleth\":[{\"type\":\"choropleth\",\"colorbar\":{\"outlinewidth\":0,\"ticks\":\"\"}}],\"histogram2d\":[{\"type\":\"histogram2d\",\"colorbar\":{\"outlinewidth\":0,\"ticks\":\"\"},\"colorscale\":[[0.0,\"#0d0887\"],[0.1111111111111111,\"#46039f\"],[0.2222222222222222,\"#7201a8\"],[0.3333333333333333,\"#9c179e\"],[0.4444444444444444,\"#bd3786\"],[0.5555555555555556,\"#d8576b\"],[0.6666666666666666,\"#ed7953\"],[0.7777777777777778,\"#fb9f3a\"],[0.8888888888888888,\"#fdca26\"],[1.0,\"#f0f921\"]]}],\"heatmap\":[{\"type\":\"heatmap\",\"colorbar\":{\"outlinewidth\":0,\"ticks\":\"\"},\"colorscale\":[[0.0,\"#0d0887\"],[0.1111111111111111,\"#46039f\"],[0.2222222222222222,\"#7201a8\"],[0.3333333333333333,\"#9c179e\"],[0.4444444444444444,\"#bd3786\"],[0.5555555555555556,\"#d8576b\"],[0.6666666666666666,\"#ed7953\"],[0.7777777777777778,\"#fb9f3a\"],[0.8888888888888888,\"#fdca26\"],[1.0,\"#f0f921\"]]}],\"heatmapgl\":[{\"type\":\"heatmapgl\",\"colorbar\":{\"outlinewidth\":0,\"ticks\":\"\"},\"colorscale\":[[0.0,\"#0d0887\"],[0.1111111111111111,\"#46039f\"],[0.2222222222222222,\"#7201a8\"],[0.3333333333333333,\"#9c179e\"],[0.4444444444444444,\"#bd3786\"],[0.5555555555555556,\"#d8576b\"],[0.6666666666666666,\"#ed7953\"],[0.7777777777777778,\"#fb9f3a\"],[0.8888888888888888,\"#fdca26\"],[1.0,\"#f0f921\"]]}],\"contourcarpet\":[{\"type\":\"contourcarpet\",\"colorbar\":{\"outlinewidth\":0,\"ticks\":\"\"}}],\"contour\":[{\"type\":\"contour\",\"colorbar\":{\"outlinewidth\":0,\"ticks\":\"\"},\"colorscale\":[[0.0,\"#0d0887\"],[0.1111111111111111,\"#46039f\"],[0.2222222222222222,\"#7201a8\"],[0.3333333333333333,\"#9c179e\"],[0.4444444444444444,\"#bd3786\"],[0.5555555555555556,\"#d8576b\"],[0.6666666666666666,\"#ed7953\"],[0.7777777777777778,\"#fb9f3a\"],[0.8888888888888888,\"#fdca26\"],[1.0,\"#f0f921\"]]}],\"surface\":[{\"type\":\"surface\",\"colorbar\":{\"outlinewidth\":0,\"ticks\":\"\"},\"colorscale\":[[0.0,\"#0d0887\"],[0.1111111111111111,\"#46039f\"],[0.2222222222222222,\"#7201a8\"],[0.3333333333333333,\"#9c179e\"],[0.4444444444444444,\"#bd3786\"],[0.5555555555555556,\"#d8576b\"],[0.6666666666666666,\"#ed7953\"],[0.7777777777777778,\"#fb9f3a\"],[0.8888888888888888,\"#fdca26\"],[1.0,\"#f0f921\"]]}],\"mesh3d\":[{\"type\":\"mesh3d\",\"colorbar\":{\"outlinewidth\":0,\"ticks\":\"\"}}],\"scatter\":[{\"fillpattern\":{\"fillmode\":\"overlay\",\"size\":10,\"solidity\":0.2},\"type\":\"scatter\"}],\"parcoords\":[{\"type\":\"parcoords\",\"line\":{\"colorbar\":{\"outlinewidth\":0,\"ticks\":\"\"}}}],\"scatterpolargl\":[{\"type\":\"scatterpolargl\",\"marker\":{\"colorbar\":{\"outlinewidth\":0,\"ticks\":\"\"}}}],\"bar\":[{\"error_x\":{\"color\":\"#2a3f5f\"},\"error_y\":{\"color\":\"#2a3f5f\"},\"marker\":{\"line\":{\"color\":\"#E5ECF6\",\"width\":0.5},\"pattern\":{\"fillmode\":\"overlay\",\"size\":10,\"solidity\":0.2}},\"type\":\"bar\"}],\"scattergeo\":[{\"type\":\"scattergeo\",\"marker\":{\"colorbar\":{\"outlinewidth\":0,\"ticks\":\"\"}}}],\"scatterpolar\":[{\"type\":\"scatterpolar\",\"marker\":{\"colorbar\":{\"outlinewidth\":0,\"ticks\":\"\"}}}],\"histogram\":[{\"marker\":{\"pattern\":{\"fillmode\":\"overlay\",\"size\":10,\"solidity\":0.2}},\"type\":\"histogram\"}],\"scattergl\":[{\"type\":\"scattergl\",\"marker\":{\"colorbar\":{\"outlinewidth\":0,\"ticks\":\"\"}}}],\"scatter3d\":[{\"type\":\"scatter3d\",\"line\":{\"colorbar\":{\"outlinewidth\":0,\"ticks\":\"\"}},\"marker\":{\"colorbar\":{\"outlinewidth\":0,\"ticks\":\"\"}}}],\"scattermapbox\":[{\"type\":\"scattermapbox\",\"marker\":{\"colorbar\":{\"outlinewidth\":0,\"ticks\":\"\"}}}],\"scatterternary\":[{\"type\":\"scatterternary\",\"marker\":{\"colorbar\":{\"outlinewidth\":0,\"ticks\":\"\"}}}],\"scattercarpet\":[{\"type\":\"scattercarpet\",\"marker\":{\"colorbar\":{\"outlinewidth\":0,\"ticks\":\"\"}}}],\"carpet\":[{\"aaxis\":{\"endlinecolor\":\"#2a3f5f\",\"gridcolor\":\"white\",\"linecolor\":\"white\",\"minorgridcolor\":\"white\",\"startlinecolor\":\"#2a3f5f\"},\"baxis\":{\"endlinecolor\":\"#2a3f5f\",\"gridcolor\":\"white\",\"linecolor\":\"white\",\"minorgridcolor\":\"white\",\"startlinecolor\":\"#2a3f5f\"},\"type\":\"carpet\"}],\"table\":[{\"cells\":{\"fill\":{\"color\":\"#EBF0F8\"},\"line\":{\"color\":\"white\"}},\"header\":{\"fill\":{\"color\":\"#C8D4E3\"},\"line\":{\"color\":\"white\"}},\"type\":\"table\"}],\"barpolar\":[{\"marker\":{\"line\":{\"color\":\"#E5ECF6\",\"width\":0.5},\"pattern\":{\"fillmode\":\"overlay\",\"size\":10,\"solidity\":0.2}},\"type\":\"barpolar\"}],\"pie\":[{\"automargin\":true,\"type\":\"pie\"}]},\"layout\":{\"autotypenumbers\":\"strict\",\"colorway\":[\"#636efa\",\"#EF553B\",\"#00cc96\",\"#ab63fa\",\"#FFA15A\",\"#19d3f3\",\"#FF6692\",\"#B6E880\",\"#FF97FF\",\"#FECB52\"],\"font\":{\"color\":\"#2a3f5f\"},\"hovermode\":\"closest\",\"hoverlabel\":{\"align\":\"left\"},\"paper_bgcolor\":\"white\",\"plot_bgcolor\":\"#E5ECF6\",\"polar\":{\"bgcolor\":\"#E5ECF6\",\"angularaxis\":{\"gridcolor\":\"white\",\"linecolor\":\"white\",\"ticks\":\"\"},\"radialaxis\":{\"gridcolor\":\"white\",\"linecolor\":\"white\",\"ticks\":\"\"}},\"ternary\":{\"bgcolor\":\"#E5ECF6\",\"aaxis\":{\"gridcolor\":\"white\",\"linecolor\":\"white\",\"ticks\":\"\"},\"baxis\":{\"gridcolor\":\"white\",\"linecolor\":\"white\",\"ticks\":\"\"},\"caxis\":{\"gridcolor\":\"white\",\"linecolor\":\"white\",\"ticks\":\"\"}},\"coloraxis\":{\"colorbar\":{\"outlinewidth\":0,\"ticks\":\"\"}},\"colorscale\":{\"sequential\":[[0.0,\"#0d0887\"],[0.1111111111111111,\"#46039f\"],[0.2222222222222222,\"#7201a8\"],[0.3333333333333333,\"#9c179e\"],[0.4444444444444444,\"#bd3786\"],[0.5555555555555556,\"#d8576b\"],[0.6666666666666666,\"#ed7953\"],[0.7777777777777778,\"#fb9f3a\"],[0.8888888888888888,\"#fdca26\"],[1.0,\"#f0f921\"]],\"sequentialminus\":[[0.0,\"#0d0887\"],[0.1111111111111111,\"#46039f\"],[0.2222222222222222,\"#7201a8\"],[0.3333333333333333,\"#9c179e\"],[0.4444444444444444,\"#bd3786\"],[0.5555555555555556,\"#d8576b\"],[0.6666666666666666,\"#ed7953\"],[0.7777777777777778,\"#fb9f3a\"],[0.8888888888888888,\"#fdca26\"],[1.0,\"#f0f921\"]],\"diverging\":[[0,\"#8e0152\"],[0.1,\"#c51b7d\"],[0.2,\"#de77ae\"],[0.3,\"#f1b6da\"],[0.4,\"#fde0ef\"],[0.5,\"#f7f7f7\"],[0.6,\"#e6f5d0\"],[0.7,\"#b8e186\"],[0.8,\"#7fbc41\"],[0.9,\"#4d9221\"],[1,\"#276419\"]]},\"xaxis\":{\"gridcolor\":\"white\",\"linecolor\":\"white\",\"ticks\":\"\",\"title\":{\"standoff\":15},\"zerolinecolor\":\"white\",\"automargin\":true,\"zerolinewidth\":2},\"yaxis\":{\"gridcolor\":\"white\",\"linecolor\":\"white\",\"ticks\":\"\",\"title\":{\"standoff\":15},\"zerolinecolor\":\"white\",\"automargin\":true,\"zerolinewidth\":2},\"scene\":{\"xaxis\":{\"backgroundcolor\":\"#E5ECF6\",\"gridcolor\":\"white\",\"linecolor\":\"white\",\"showbackground\":true,\"ticks\":\"\",\"zerolinecolor\":\"white\",\"gridwidth\":2},\"yaxis\":{\"backgroundcolor\":\"#E5ECF6\",\"gridcolor\":\"white\",\"linecolor\":\"white\",\"showbackground\":true,\"ticks\":\"\",\"zerolinecolor\":\"white\",\"gridwidth\":2},\"zaxis\":{\"backgroundcolor\":\"#E5ECF6\",\"gridcolor\":\"white\",\"linecolor\":\"white\",\"showbackground\":true,\"ticks\":\"\",\"zerolinecolor\":\"white\",\"gridwidth\":2}},\"shapedefaults\":{\"line\":{\"color\":\"#2a3f5f\"}},\"annotationdefaults\":{\"arrowcolor\":\"#2a3f5f\",\"arrowhead\":0,\"arrowwidth\":1},\"geo\":{\"bgcolor\":\"white\",\"landcolor\":\"#E5ECF6\",\"subunitcolor\":\"white\",\"showland\":true,\"showlakes\":true,\"lakecolor\":\"white\"},\"title\":{\"x\":0.05},\"mapbox\":{\"style\":\"light\"}}},\"scene\":{\"domain\":{\"x\":[0.0,1.0],\"y\":[0.0,1.0]},\"xaxis\":{\"title\":{\"text\":\"PC1\"}},\"yaxis\":{\"title\":{\"text\":\"PC2\"}},\"zaxis\":{\"title\":{\"text\":\"PC3\"}}},\"legend\":{\"tracegroupgap\":0},\"margin\":{\"t\":60}},                        {\"responsive\": true}                    ).then(function(){\n",
       "                            \n",
       "var gd = document.getElementById('3c66acf0-7467-40f8-9236-be473fb0da93');\n",
       "var x = new MutationObserver(function (mutations, observer) {{\n",
       "        var display = window.getComputedStyle(gd).display;\n",
       "        if (!display || display === 'none') {{\n",
       "            console.log([gd, 'removed!']);\n",
       "            Plotly.purge(gd);\n",
       "            observer.disconnect();\n",
       "        }}\n",
       "}});\n",
       "\n",
       "// Listen for the removal of the full notebook cells\n",
       "var notebookContainer = gd.closest('#notebook-container');\n",
       "if (notebookContainer) {{\n",
       "    x.observe(notebookContainer, {childList: true});\n",
       "}}\n",
       "\n",
       "// Listen for the clearing of the current output cell\n",
       "var outputEl = gd.closest('.output');\n",
       "if (outputEl) {{\n",
       "    x.observe(outputEl, {childList: true});\n",
       "}}\n",
       "\n",
       "                        })                };                });            </script>        </div>"
      ]
     },
     "metadata": {},
     "output_type": "display_data"
    }
   ],
   "source": [
    "# 5. Loadings Plot\n",
    "\n",
    "loadings_label = df_loadings.index\n",
    "# loadings_label = df_loadings.index.str.strip(' (cm)')\n",
    "\n",
    "fig = px.scatter_3d(df_loadings, x='PC1', y='PC2', z='PC3', text=loadings_label)\n",
    "fig.show()"
   ]
  },
  {
   "cell_type": "code",
   "execution_count": 62,
   "id": "23f02a93",
   "metadata": {},
   "outputs": [
    {
     "data": {
      "text/plain": [
       "Index(['Electrode', 'Param', 'microg/ml', '1.00E+06', '7.94E+05', '6.31E+05',\n",
       "       '5.01E+05', '3.98E+05', '3.16E+05', '2.51E+05', '2.00E+05', '1.58E+05',\n",
       "       '1.26E+05', '1.00E+05', '7.94E+04', '6.31E+04', '5.01E+04', '3.98E+04',\n",
       "       '3.16E+04', '2.51E+04', '2.00E+04', '1.58E+04', '1.26E+04', '1.00E+04',\n",
       "       '7.94E+03', '6.31E+03', '5.01E+03', '3.98E+03', '3.16E+03', '2.51E+03',\n",
       "       '2.00E+03', '1.58E+03', '1.26E+03', '1.00E+03', '7.94E+02', '6.31E+02',\n",
       "       '5.01E+02', '3.98E+02', '3.16E+02', '2.51E+02', '2.00E+02', '1.58E+02',\n",
       "       '1.26E+02', '1.00E+02', '7.94E+01', '6.31E+01', '5.01E+01', '3.98E+01',\n",
       "       '3.16E+01', '2.51E+01', '2.00E+01', '1.58E+01', '1.26E+01', '1.00E+01',\n",
       "       '7.94E+00', '6.31E+00', '5.01E+00', '3.98E+00', '3.16E+00', '2.51E+00',\n",
       "       '2.00E+00', '1.58E+00', '1.26E+00', '1.00E+00'],\n",
       "      dtype='object')"
      ]
     },
     "execution_count": 62,
     "metadata": {},
     "output_type": "execute_result"
    }
   ],
   "source": [
    "loadings_label"
   ]
  },
  {
   "cell_type": "code",
   "execution_count": 63,
   "id": "2a29975b",
   "metadata": {},
   "outputs": [
    {
     "data": {
      "text/html": [
       "<div>\n",
       "<style scoped>\n",
       "    .dataframe tbody tr th:only-of-type {\n",
       "        vertical-align: middle;\n",
       "    }\n",
       "\n",
       "    .dataframe tbody tr th {\n",
       "        vertical-align: top;\n",
       "    }\n",
       "\n",
       "    .dataframe thead th {\n",
       "        text-align: right;\n",
       "    }\n",
       "</style>\n",
       "<table border=\"1\" class=\"dataframe\">\n",
       "  <thead>\n",
       "    <tr style=\"text-align: right;\">\n",
       "      <th></th>\n",
       "      <th>PC1</th>\n",
       "      <th>PC2</th>\n",
       "      <th>PC3</th>\n",
       "    </tr>\n",
       "  </thead>\n",
       "  <tbody>\n",
       "    <tr>\n",
       "      <th>Electrode</th>\n",
       "      <td>-0.008735</td>\n",
       "      <td>0.006642</td>\n",
       "      <td>0.712155</td>\n",
       "    </tr>\n",
       "    <tr>\n",
       "      <th>Param</th>\n",
       "      <td>0.048564</td>\n",
       "      <td>0.033353</td>\n",
       "      <td>0.266288</td>\n",
       "    </tr>\n",
       "    <tr>\n",
       "      <th>microg/ml</th>\n",
       "      <td>0.003358</td>\n",
       "      <td>0.012335</td>\n",
       "      <td>-0.388777</td>\n",
       "    </tr>\n",
       "    <tr>\n",
       "      <th>1.00E+06</th>\n",
       "      <td>-0.058460</td>\n",
       "      <td>0.202729</td>\n",
       "      <td>-0.133312</td>\n",
       "    </tr>\n",
       "    <tr>\n",
       "      <th>7.94E+05</th>\n",
       "      <td>0.053821</td>\n",
       "      <td>0.283642</td>\n",
       "      <td>-0.049458</td>\n",
       "    </tr>\n",
       "    <tr>\n",
       "      <th>...</th>\n",
       "      <td>...</td>\n",
       "      <td>...</td>\n",
       "      <td>...</td>\n",
       "    </tr>\n",
       "    <tr>\n",
       "      <th>2.51E+00</th>\n",
       "      <td>0.121693</td>\n",
       "      <td>-0.171376</td>\n",
       "      <td>0.031497</td>\n",
       "    </tr>\n",
       "    <tr>\n",
       "      <th>2.00E+00</th>\n",
       "      <td>0.121133</td>\n",
       "      <td>-0.173680</td>\n",
       "      <td>0.035303</td>\n",
       "    </tr>\n",
       "    <tr>\n",
       "      <th>1.58E+00</th>\n",
       "      <td>0.120680</td>\n",
       "      <td>-0.175219</td>\n",
       "      <td>0.039585</td>\n",
       "    </tr>\n",
       "    <tr>\n",
       "      <th>1.26E+00</th>\n",
       "      <td>0.120262</td>\n",
       "      <td>-0.176519</td>\n",
       "      <td>0.041167</td>\n",
       "    </tr>\n",
       "    <tr>\n",
       "      <th>1.00E+00</th>\n",
       "      <td>0.119599</td>\n",
       "      <td>-0.178892</td>\n",
       "      <td>0.046675</td>\n",
       "    </tr>\n",
       "  </tbody>\n",
       "</table>\n",
       "<p>64 rows × 3 columns</p>\n",
       "</div>"
      ],
      "text/plain": [
       "                PC1       PC2       PC3\n",
       "Electrode -0.008735  0.006642  0.712155\n",
       "Param      0.048564  0.033353  0.266288\n",
       "microg/ml  0.003358  0.012335 -0.388777\n",
       "1.00E+06  -0.058460  0.202729 -0.133312\n",
       "7.94E+05   0.053821  0.283642 -0.049458\n",
       "...             ...       ...       ...\n",
       "2.51E+00   0.121693 -0.171376  0.031497\n",
       "2.00E+00   0.121133 -0.173680  0.035303\n",
       "1.58E+00   0.120680 -0.175219  0.039585\n",
       "1.26E+00   0.120262 -0.176519  0.041167\n",
       "1.00E+00   0.119599 -0.178892  0.046675\n",
       "\n",
       "[64 rows x 3 columns]"
      ]
     },
     "execution_count": 63,
     "metadata": {},
     "output_type": "execute_result"
    }
   ],
   "source": [
    "df_loadings"
   ]
  },
  {
   "cell_type": "code",
   "execution_count": 65,
   "id": "f0494319",
   "metadata": {},
   "outputs": [
    {
     "data": {
      "text/html": [
       "<div>\n",
       "<style scoped>\n",
       "    .dataframe tbody tr th:only-of-type {\n",
       "        vertical-align: middle;\n",
       "    }\n",
       "\n",
       "    .dataframe tbody tr th {\n",
       "        vertical-align: top;\n",
       "    }\n",
       "\n",
       "    .dataframe thead th {\n",
       "        text-align: right;\n",
       "    }\n",
       "</style>\n",
       "<table border=\"1\" class=\"dataframe\">\n",
       "  <thead>\n",
       "    <tr style=\"text-align: right;\">\n",
       "      <th></th>\n",
       "      <th>PC1</th>\n",
       "      <th>PC2</th>\n",
       "      <th>PC3</th>\n",
       "    </tr>\n",
       "  </thead>\n",
       "  <tbody>\n",
       "    <tr>\n",
       "      <th>5.01E+02</th>\n",
       "      <td>0.137660</td>\n",
       "      <td>-0.007593</td>\n",
       "      <td>-0.076791</td>\n",
       "    </tr>\n",
       "    <tr>\n",
       "      <th>3.98E+02</th>\n",
       "      <td>0.137626</td>\n",
       "      <td>-0.022410</td>\n",
       "      <td>-0.070723</td>\n",
       "    </tr>\n",
       "    <tr>\n",
       "      <th>6.31E+02</th>\n",
       "      <td>0.137397</td>\n",
       "      <td>0.010305</td>\n",
       "      <td>-0.083341</td>\n",
       "    </tr>\n",
       "    <tr>\n",
       "      <th>3.16E+02</th>\n",
       "      <td>0.137264</td>\n",
       "      <td>-0.038246</td>\n",
       "      <td>-0.064506</td>\n",
       "    </tr>\n",
       "    <tr>\n",
       "      <th>7.94E+02</th>\n",
       "      <td>0.136763</td>\n",
       "      <td>0.028615</td>\n",
       "      <td>-0.089482</td>\n",
       "    </tr>\n",
       "    <tr>\n",
       "      <th>...</th>\n",
       "      <td>...</td>\n",
       "      <td>...</td>\n",
       "      <td>...</td>\n",
       "    </tr>\n",
       "    <tr>\n",
       "      <th>7.94E+05</th>\n",
       "      <td>0.053821</td>\n",
       "      <td>0.283642</td>\n",
       "      <td>-0.049458</td>\n",
       "    </tr>\n",
       "    <tr>\n",
       "      <th>Param</th>\n",
       "      <td>0.048564</td>\n",
       "      <td>0.033353</td>\n",
       "      <td>0.266288</td>\n",
       "    </tr>\n",
       "    <tr>\n",
       "      <th>microg/ml</th>\n",
       "      <td>0.003358</td>\n",
       "      <td>0.012335</td>\n",
       "      <td>-0.388777</td>\n",
       "    </tr>\n",
       "    <tr>\n",
       "      <th>Electrode</th>\n",
       "      <td>-0.008735</td>\n",
       "      <td>0.006642</td>\n",
       "      <td>0.712155</td>\n",
       "    </tr>\n",
       "    <tr>\n",
       "      <th>1.00E+06</th>\n",
       "      <td>-0.058460</td>\n",
       "      <td>0.202729</td>\n",
       "      <td>-0.133312</td>\n",
       "    </tr>\n",
       "  </tbody>\n",
       "</table>\n",
       "<p>64 rows × 3 columns</p>\n",
       "</div>"
      ],
      "text/plain": [
       "                PC1       PC2       PC3\n",
       "5.01E+02   0.137660 -0.007593 -0.076791\n",
       "3.98E+02   0.137626 -0.022410 -0.070723\n",
       "6.31E+02   0.137397  0.010305 -0.083341\n",
       "3.16E+02   0.137264 -0.038246 -0.064506\n",
       "7.94E+02   0.136763  0.028615 -0.089482\n",
       "...             ...       ...       ...\n",
       "7.94E+05   0.053821  0.283642 -0.049458\n",
       "Param      0.048564  0.033353  0.266288\n",
       "microg/ml  0.003358  0.012335 -0.388777\n",
       "Electrode -0.008735  0.006642  0.712155\n",
       "1.00E+06  -0.058460  0.202729 -0.133312\n",
       "\n",
       "[64 rows x 3 columns]"
      ]
     },
     "execution_count": 65,
     "metadata": {},
     "output_type": "execute_result"
    }
   ],
   "source": [
    "df_loadings.sort_values(by='PC1',ascending=False)"
   ]
  },
  {
   "cell_type": "code",
   "execution_count": 66,
   "id": "08e51415",
   "metadata": {},
   "outputs": [
    {
     "data": {
      "text/html": [
       "<div>\n",
       "<style scoped>\n",
       "    .dataframe tbody tr th:only-of-type {\n",
       "        vertical-align: middle;\n",
       "    }\n",
       "\n",
       "    .dataframe tbody tr th {\n",
       "        vertical-align: top;\n",
       "    }\n",
       "\n",
       "    .dataframe thead th {\n",
       "        text-align: right;\n",
       "    }\n",
       "</style>\n",
       "<table border=\"1\" class=\"dataframe\">\n",
       "  <thead>\n",
       "    <tr style=\"text-align: right;\">\n",
       "      <th></th>\n",
       "      <th>PC1</th>\n",
       "      <th>PC2</th>\n",
       "      <th>PC3</th>\n",
       "    </tr>\n",
       "  </thead>\n",
       "  <tbody>\n",
       "    <tr>\n",
       "      <th>7.94E+05</th>\n",
       "      <td>0.053821</td>\n",
       "      <td>0.283642</td>\n",
       "      <td>-0.049458</td>\n",
       "    </tr>\n",
       "    <tr>\n",
       "      <th>6.31E+05</th>\n",
       "      <td>0.109798</td>\n",
       "      <td>0.209635</td>\n",
       "      <td>0.040910</td>\n",
       "    </tr>\n",
       "    <tr>\n",
       "      <th>1.00E+06</th>\n",
       "      <td>-0.058460</td>\n",
       "      <td>0.202729</td>\n",
       "      <td>-0.133312</td>\n",
       "    </tr>\n",
       "    <tr>\n",
       "      <th>5.01E+05</th>\n",
       "      <td>0.121809</td>\n",
       "      <td>0.162580</td>\n",
       "      <td>0.074421</td>\n",
       "    </tr>\n",
       "    <tr>\n",
       "      <th>7.94E+03</th>\n",
       "      <td>0.126883</td>\n",
       "      <td>0.140092</td>\n",
       "      <td>-0.049485</td>\n",
       "    </tr>\n",
       "    <tr>\n",
       "      <th>...</th>\n",
       "      <td>...</td>\n",
       "      <td>...</td>\n",
       "      <td>...</td>\n",
       "    </tr>\n",
       "    <tr>\n",
       "      <th>2.51E+00</th>\n",
       "      <td>0.121693</td>\n",
       "      <td>-0.171376</td>\n",
       "      <td>0.031497</td>\n",
       "    </tr>\n",
       "    <tr>\n",
       "      <th>2.00E+00</th>\n",
       "      <td>0.121133</td>\n",
       "      <td>-0.173680</td>\n",
       "      <td>0.035303</td>\n",
       "    </tr>\n",
       "    <tr>\n",
       "      <th>1.58E+00</th>\n",
       "      <td>0.120680</td>\n",
       "      <td>-0.175219</td>\n",
       "      <td>0.039585</td>\n",
       "    </tr>\n",
       "    <tr>\n",
       "      <th>1.26E+00</th>\n",
       "      <td>0.120262</td>\n",
       "      <td>-0.176519</td>\n",
       "      <td>0.041167</td>\n",
       "    </tr>\n",
       "    <tr>\n",
       "      <th>1.00E+00</th>\n",
       "      <td>0.119599</td>\n",
       "      <td>-0.178892</td>\n",
       "      <td>0.046675</td>\n",
       "    </tr>\n",
       "  </tbody>\n",
       "</table>\n",
       "<p>64 rows × 3 columns</p>\n",
       "</div>"
      ],
      "text/plain": [
       "               PC1       PC2       PC3\n",
       "7.94E+05  0.053821  0.283642 -0.049458\n",
       "6.31E+05  0.109798  0.209635  0.040910\n",
       "1.00E+06 -0.058460  0.202729 -0.133312\n",
       "5.01E+05  0.121809  0.162580  0.074421\n",
       "7.94E+03  0.126883  0.140092 -0.049485\n",
       "...            ...       ...       ...\n",
       "2.51E+00  0.121693 -0.171376  0.031497\n",
       "2.00E+00  0.121133 -0.173680  0.035303\n",
       "1.58E+00  0.120680 -0.175219  0.039585\n",
       "1.26E+00  0.120262 -0.176519  0.041167\n",
       "1.00E+00  0.119599 -0.178892  0.046675\n",
       "\n",
       "[64 rows x 3 columns]"
      ]
     },
     "execution_count": 66,
     "metadata": {},
     "output_type": "execute_result"
    }
   ],
   "source": [
    "df_loadings.sort_values(by='PC2',ascending=False)"
   ]
  },
  {
   "cell_type": "code",
   "execution_count": 67,
   "id": "b6aaea0e",
   "metadata": {},
   "outputs": [
    {
     "data": {
      "text/html": [
       "<div>\n",
       "<style scoped>\n",
       "    .dataframe tbody tr th:only-of-type {\n",
       "        vertical-align: middle;\n",
       "    }\n",
       "\n",
       "    .dataframe tbody tr th {\n",
       "        vertical-align: top;\n",
       "    }\n",
       "\n",
       "    .dataframe thead th {\n",
       "        text-align: right;\n",
       "    }\n",
       "</style>\n",
       "<table border=\"1\" class=\"dataframe\">\n",
       "  <thead>\n",
       "    <tr style=\"text-align: right;\">\n",
       "      <th></th>\n",
       "      <th>PC1</th>\n",
       "      <th>PC2</th>\n",
       "      <th>PC3</th>\n",
       "    </tr>\n",
       "  </thead>\n",
       "  <tbody>\n",
       "    <tr>\n",
       "      <th>Electrode</th>\n",
       "      <td>-0.008735</td>\n",
       "      <td>0.006642</td>\n",
       "      <td>0.712155</td>\n",
       "    </tr>\n",
       "    <tr>\n",
       "      <th>Param</th>\n",
       "      <td>0.048564</td>\n",
       "      <td>0.033353</td>\n",
       "      <td>0.266288</td>\n",
       "    </tr>\n",
       "    <tr>\n",
       "      <th>1.58E+05</th>\n",
       "      <td>0.131070</td>\n",
       "      <td>0.101832</td>\n",
       "      <td>0.102995</td>\n",
       "    </tr>\n",
       "    <tr>\n",
       "      <th>1.26E+05</th>\n",
       "      <td>0.131853</td>\n",
       "      <td>0.095410</td>\n",
       "      <td>0.102899</td>\n",
       "    </tr>\n",
       "    <tr>\n",
       "      <th>1.00E+05</th>\n",
       "      <td>0.132415</td>\n",
       "      <td>0.090624</td>\n",
       "      <td>0.102285</td>\n",
       "    </tr>\n",
       "    <tr>\n",
       "      <th>...</th>\n",
       "      <td>...</td>\n",
       "      <td>...</td>\n",
       "      <td>...</td>\n",
       "    </tr>\n",
       "    <tr>\n",
       "      <th>1.26E+03</th>\n",
       "      <td>0.134494</td>\n",
       "      <td>0.064305</td>\n",
       "      <td>-0.098141</td>\n",
       "    </tr>\n",
       "    <tr>\n",
       "      <th>2.00E+03</th>\n",
       "      <td>0.131477</td>\n",
       "      <td>0.095652</td>\n",
       "      <td>-0.099855</td>\n",
       "    </tr>\n",
       "    <tr>\n",
       "      <th>1.58E+03</th>\n",
       "      <td>0.132997</td>\n",
       "      <td>0.080909</td>\n",
       "      <td>-0.100214</td>\n",
       "    </tr>\n",
       "    <tr>\n",
       "      <th>1.00E+06</th>\n",
       "      <td>-0.058460</td>\n",
       "      <td>0.202729</td>\n",
       "      <td>-0.133312</td>\n",
       "    </tr>\n",
       "    <tr>\n",
       "      <th>microg/ml</th>\n",
       "      <td>0.003358</td>\n",
       "      <td>0.012335</td>\n",
       "      <td>-0.388777</td>\n",
       "    </tr>\n",
       "  </tbody>\n",
       "</table>\n",
       "<p>64 rows × 3 columns</p>\n",
       "</div>"
      ],
      "text/plain": [
       "                PC1       PC2       PC3\n",
       "Electrode -0.008735  0.006642  0.712155\n",
       "Param      0.048564  0.033353  0.266288\n",
       "1.58E+05   0.131070  0.101832  0.102995\n",
       "1.26E+05   0.131853  0.095410  0.102899\n",
       "1.00E+05   0.132415  0.090624  0.102285\n",
       "...             ...       ...       ...\n",
       "1.26E+03   0.134494  0.064305 -0.098141\n",
       "2.00E+03   0.131477  0.095652 -0.099855\n",
       "1.58E+03   0.132997  0.080909 -0.100214\n",
       "1.00E+06  -0.058460  0.202729 -0.133312\n",
       "microg/ml  0.003358  0.012335 -0.388777\n",
       "\n",
       "[64 rows x 3 columns]"
      ]
     },
     "execution_count": 67,
     "metadata": {},
     "output_type": "execute_result"
    }
   ],
   "source": [
    "df_loadings.sort_values(by='PC3',ascending=False)"
   ]
  },
  {
   "cell_type": "code",
   "execution_count": null,
   "id": "ea33c9d3",
   "metadata": {},
   "outputs": [],
   "source": []
  }
 ],
 "metadata": {
  "kernelspec": {
   "display_name": "Python 3 (ipykernel)",
   "language": "python",
   "name": "python3"
  },
  "language_info": {
   "codemirror_mode": {
    "name": "ipython",
    "version": 3
   },
   "file_extension": ".py",
   "mimetype": "text/x-python",
   "name": "python",
   "nbconvert_exporter": "python",
   "pygments_lexer": "ipython3",
   "version": "3.9.7"
  }
 },
 "nbformat": 4,
 "nbformat_minor": 5
}
